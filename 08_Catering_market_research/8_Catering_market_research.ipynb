{
 "cells": [
  {
   "cell_type": "markdown",
   "metadata": {},
   "source": [
    "# Проект \"Рынок заведений общественного питания Москвы\"\n",
    "\n",
    "# Описание проекта\n",
    "\n",
    "Вы решили открыть небольшое кафе в Москве. Оно оригинальное — гостей должны обслуживать роботы. Проект многообещающий, но дорогой. Вместе с партнёрами вы решились обратиться к инвесторам. Их интересует текущее положение дел на рынке — сможете ли вы снискать популярность на долгое время, когда все зеваки насмотрятся на роботов-официантов?\n",
    "\n",
    "Партнёры просят вас подготовить исследование рынка. У вас есть открытые данные о заведениях общественного питания в Москве.\n",
    "\n",
    "# Задачи\n",
    "\n",
    "* Исследовать соотношение видов объектов общественного питания по количеству.\n",
    "* Исследовать соотношение сетевых и несетевых заведений по количеству.\n",
    "* Определить для какого вида объекта общественного питания характерно сетевое распространение.\n",
    "* Определить что характерно для сетевых заведений: много заведений с небольшим числом посадочных мест в каждом или мало заведений с большим количеством посадочных мест?\n",
    "* Рассчитать для каждого вида объекта общественного питания среднее количество посадочных мест. Определить какой вид предоставляет в среднем самое большое количество посадочных мест?\n",
    "* Построить график топ-10 улиц по количеству объектов общественного питания. Обозначить в каких районах Москвы находятся эти улицы.\n",
    "* Найти число улиц с одним объектом общественного питания. Обозначить в каких районах Москвы находятся эти улицы.\n",
    "* Дать рекомендации о виде заведения, количестве посадочных мест, а также районе расположения. Прокомментировать возможность развития сети.\n",
    "* Подготовить презентацию исследования для инвесторов. \n",
    "\n",
    "# Описание данных\n",
    "\n",
    "Таблица rest_data:\n",
    "- `id` — идентификатор объекта;\n",
    "- `object_name` — название объекта общественного питания;\n",
    "- `chain` — сетевой ресторан;\n",
    "- `object_type` — тип объекта общественного питания;\n",
    "- `address` — адрес;\n",
    "- `number` — количество посадочных мест."
   ]
  },
  {
   "cell_type": "markdown",
   "metadata": {},
   "source": [
    "##  Загрузка и подготовка данных"
   ]
  },
  {
   "cell_type": "markdown",
   "metadata": {},
   "source": [
    "### Загрузка данных"
   ]
  },
  {
   "cell_type": "code",
   "execution_count": 1,
   "metadata": {},
   "outputs": [],
   "source": [
    "# импортируем нужные библиотеки\n",
    "import pandas as pd\n",
    "import seaborn as sns\n",
    "from matplotlib import pyplot as plt\n",
    "import plotly.express as px"
   ]
  },
  {
   "cell_type": "code",
   "execution_count": 2,
   "metadata": {},
   "outputs": [],
   "source": [
    "# загружаем данные в переменную\n",
    "data = pd.read_csv('/datasets/rest_data.csv')"
   ]
  },
  {
   "cell_type": "markdown",
   "metadata": {},
   "source": [
    "### Получение первичной информации о данных"
   ]
  },
  {
   "cell_type": "code",
   "execution_count": 3,
   "metadata": {},
   "outputs": [],
   "source": [
    "# функция для вывода информации о данных\n",
    "def table_info (df):\n",
    "    print('___________ Датафрейм ____________')\n",
    "    display(df.head())\n",
    "    display(df.describe())\n",
    "    print('')\n",
    "    print('___________Информация о датафрейме___________')\n",
    "    print('')\n",
    "    print(df.info())\n",
    "    print('')\n",
    "    print('Количество дубликатов: ' + str(df.duplicated().sum()))\n",
    "    print('')"
   ]
  },
  {
   "cell_type": "code",
   "execution_count": 4,
   "metadata": {
    "scrolled": false
   },
   "outputs": [
    {
     "name": "stdout",
     "output_type": "stream",
     "text": [
      "___________ Датафрейм ____________\n"
     ]
    },
    {
     "data": {
      "text/html": [
       "<div>\n",
       "<style scoped>\n",
       "    .dataframe tbody tr th:only-of-type {\n",
       "        vertical-align: middle;\n",
       "    }\n",
       "\n",
       "    .dataframe tbody tr th {\n",
       "        vertical-align: top;\n",
       "    }\n",
       "\n",
       "    .dataframe thead th {\n",
       "        text-align: right;\n",
       "    }\n",
       "</style>\n",
       "<table border=\"1\" class=\"dataframe\">\n",
       "  <thead>\n",
       "    <tr style=\"text-align: right;\">\n",
       "      <th></th>\n",
       "      <th>id</th>\n",
       "      <th>object_name</th>\n",
       "      <th>chain</th>\n",
       "      <th>object_type</th>\n",
       "      <th>address</th>\n",
       "      <th>number</th>\n",
       "    </tr>\n",
       "  </thead>\n",
       "  <tbody>\n",
       "    <tr>\n",
       "      <th>0</th>\n",
       "      <td>151635</td>\n",
       "      <td>СМЕТАНА</td>\n",
       "      <td>нет</td>\n",
       "      <td>кафе</td>\n",
       "      <td>город Москва, улица Егора Абакумова, дом 9</td>\n",
       "      <td>48</td>\n",
       "    </tr>\n",
       "    <tr>\n",
       "      <th>1</th>\n",
       "      <td>77874</td>\n",
       "      <td>Родник</td>\n",
       "      <td>нет</td>\n",
       "      <td>кафе</td>\n",
       "      <td>город Москва, улица Талалихина, дом 2/1, корпус 1</td>\n",
       "      <td>35</td>\n",
       "    </tr>\n",
       "    <tr>\n",
       "      <th>2</th>\n",
       "      <td>24309</td>\n",
       "      <td>Кафе «Академия»</td>\n",
       "      <td>нет</td>\n",
       "      <td>кафе</td>\n",
       "      <td>город Москва, Абельмановская улица, дом 6</td>\n",
       "      <td>95</td>\n",
       "    </tr>\n",
       "    <tr>\n",
       "      <th>3</th>\n",
       "      <td>21894</td>\n",
       "      <td>ПИЦЦЕТОРИЯ</td>\n",
       "      <td>да</td>\n",
       "      <td>кафе</td>\n",
       "      <td>город Москва, Абрамцевская улица, дом 1</td>\n",
       "      <td>40</td>\n",
       "    </tr>\n",
       "    <tr>\n",
       "      <th>4</th>\n",
       "      <td>119365</td>\n",
       "      <td>Кафе «Вишневая метель»</td>\n",
       "      <td>нет</td>\n",
       "      <td>кафе</td>\n",
       "      <td>город Москва, Абрамцевская улица, дом 9, корпус 1</td>\n",
       "      <td>50</td>\n",
       "    </tr>\n",
       "  </tbody>\n",
       "</table>\n",
       "</div>"
      ],
      "text/plain": [
       "       id             object_name chain object_type  \\\n",
       "0  151635                 СМЕТАНА   нет        кафе   \n",
       "1   77874                  Родник   нет        кафе   \n",
       "2   24309         Кафе «Академия»   нет        кафе   \n",
       "3   21894              ПИЦЦЕТОРИЯ    да        кафе   \n",
       "4  119365  Кафе «Вишневая метель»   нет        кафе   \n",
       "\n",
       "                                             address  number  \n",
       "0         город Москва, улица Егора Абакумова, дом 9      48  \n",
       "1  город Москва, улица Талалихина, дом 2/1, корпус 1      35  \n",
       "2          город Москва, Абельмановская улица, дом 6      95  \n",
       "3            город Москва, Абрамцевская улица, дом 1      40  \n",
       "4  город Москва, Абрамцевская улица, дом 9, корпус 1      50  "
      ]
     },
     "metadata": {},
     "output_type": "display_data"
    },
    {
     "data": {
      "text/html": [
       "<div>\n",
       "<style scoped>\n",
       "    .dataframe tbody tr th:only-of-type {\n",
       "        vertical-align: middle;\n",
       "    }\n",
       "\n",
       "    .dataframe tbody tr th {\n",
       "        vertical-align: top;\n",
       "    }\n",
       "\n",
       "    .dataframe thead th {\n",
       "        text-align: right;\n",
       "    }\n",
       "</style>\n",
       "<table border=\"1\" class=\"dataframe\">\n",
       "  <thead>\n",
       "    <tr style=\"text-align: right;\">\n",
       "      <th></th>\n",
       "      <th>id</th>\n",
       "      <th>number</th>\n",
       "    </tr>\n",
       "  </thead>\n",
       "  <tbody>\n",
       "    <tr>\n",
       "      <th>count</th>\n",
       "      <td>15366.000000</td>\n",
       "      <td>15366.000000</td>\n",
       "    </tr>\n",
       "    <tr>\n",
       "      <th>mean</th>\n",
       "      <td>119720.066901</td>\n",
       "      <td>59.547182</td>\n",
       "    </tr>\n",
       "    <tr>\n",
       "      <th>std</th>\n",
       "      <td>73036.130732</td>\n",
       "      <td>74.736833</td>\n",
       "    </tr>\n",
       "    <tr>\n",
       "      <th>min</th>\n",
       "      <td>838.000000</td>\n",
       "      <td>0.000000</td>\n",
       "    </tr>\n",
       "    <tr>\n",
       "      <th>25%</th>\n",
       "      <td>28524.000000</td>\n",
       "      <td>12.000000</td>\n",
       "    </tr>\n",
       "    <tr>\n",
       "      <th>50%</th>\n",
       "      <td>144974.500000</td>\n",
       "      <td>40.000000</td>\n",
       "    </tr>\n",
       "    <tr>\n",
       "      <th>75%</th>\n",
       "      <td>184262.250000</td>\n",
       "      <td>80.000000</td>\n",
       "    </tr>\n",
       "    <tr>\n",
       "      <th>max</th>\n",
       "      <td>223439.000000</td>\n",
       "      <td>1700.000000</td>\n",
       "    </tr>\n",
       "  </tbody>\n",
       "</table>\n",
       "</div>"
      ],
      "text/plain": [
       "                  id        number\n",
       "count   15366.000000  15366.000000\n",
       "mean   119720.066901     59.547182\n",
       "std     73036.130732     74.736833\n",
       "min       838.000000      0.000000\n",
       "25%     28524.000000     12.000000\n",
       "50%    144974.500000     40.000000\n",
       "75%    184262.250000     80.000000\n",
       "max    223439.000000   1700.000000"
      ]
     },
     "metadata": {},
     "output_type": "display_data"
    },
    {
     "name": "stdout",
     "output_type": "stream",
     "text": [
      "\n",
      "___________Информация о датафрейме___________\n",
      "\n",
      "<class 'pandas.core.frame.DataFrame'>\n",
      "RangeIndex: 15366 entries, 0 to 15365\n",
      "Data columns (total 6 columns):\n",
      " #   Column       Non-Null Count  Dtype \n",
      "---  ------       --------------  ----- \n",
      " 0   id           15366 non-null  int64 \n",
      " 1   object_name  15366 non-null  object\n",
      " 2   chain        15366 non-null  object\n",
      " 3   object_type  15366 non-null  object\n",
      " 4   address      15366 non-null  object\n",
      " 5   number       15366 non-null  int64 \n",
      "dtypes: int64(2), object(4)\n",
      "memory usage: 720.4+ KB\n",
      "None\n",
      "\n",
      "Количество дубликатов: 0\n",
      "\n"
     ]
    }
   ],
   "source": [
    "table_info(data)"
   ]
  },
  {
   "cell_type": "markdown",
   "metadata": {},
   "source": [
    "В данных нет пропусков и явных дубликатов."
   ]
  },
  {
   "cell_type": "markdown",
   "metadata": {},
   "source": [
    "### Проверка данных"
   ]
  },
  {
   "cell_type": "code",
   "execution_count": 5,
   "metadata": {},
   "outputs": [
    {
     "data": {
      "text/plain": [
       "Столовая                                                  267\n",
       "Кафе                                                      236\n",
       "Шаурма                                                    234\n",
       "KFC                                                       155\n",
       "Шоколадница                                               142\n",
       "                                                         ... \n",
       "Ирланский бар Сильверс                                      1\n",
       "Хинкальная Батони                                           1\n",
       "Столовая при пансионате «Коньково» для ветеранов войны      1\n",
       "Кальянная Loft 24                                           1\n",
       "ФГБУ Комбинат питания Кремлевский                           1\n",
       "Name: object_name, Length: 10393, dtype: int64"
      ]
     },
     "execution_count": 5,
     "metadata": {},
     "output_type": "execute_result"
    }
   ],
   "source": [
    "# Проверяем названия объектов общественного питания\n",
    "data['object_name'].value_counts()"
   ]
  },
  {
   "cell_type": "code",
   "execution_count": 6,
   "metadata": {
    "scrolled": true
   },
   "outputs": [
    {
     "data": {
      "text/plain": [
       "нет    12398\n",
       "да      2968\n",
       "Name: chain, dtype: int64"
      ]
     },
     "execution_count": 6,
     "metadata": {},
     "output_type": "execute_result"
    }
   ],
   "source": [
    "# Проверяем колонку с обозначением сетевого ресторана\n",
    "data['chain'].value_counts()"
   ]
  },
  {
   "cell_type": "code",
   "execution_count": 7,
   "metadata": {
    "scrolled": false
   },
   "outputs": [
    {
     "data": {
      "text/plain": [
       "кафе                                 6099\n",
       "столовая                             2587\n",
       "ресторан                             2285\n",
       "предприятие быстрого обслуживания    1923\n",
       "бар                                   856\n",
       "буфет                                 585\n",
       "кафетерий                             398\n",
       "закусочная                            360\n",
       "магазин (отдел кулинарии)             273\n",
       "Name: object_type, dtype: int64"
      ]
     },
     "execution_count": 7,
     "metadata": {},
     "output_type": "execute_result"
    }
   ],
   "source": [
    "# Проверяем колонку типа объекта общественного питания\n",
    "data['object_type'].value_counts()"
   ]
  },
  {
   "cell_type": "code",
   "execution_count": 8,
   "metadata": {
    "scrolled": true
   },
   "outputs": [
    {
     "data": {
      "text/plain": [
       "0      1621\n",
       "40      835\n",
       "20      727\n",
       "30      685\n",
       "10      644\n",
       "       ... \n",
       "172       1\n",
       "520       1\n",
       "680       1\n",
       "760       1\n",
       "495       1\n",
       "Name: number, Length: 315, dtype: int64"
      ]
     },
     "execution_count": 8,
     "metadata": {},
     "output_type": "execute_result"
    }
   ],
   "source": [
    "# Проверяем колонку с обозначением количества посадочных мест.\n",
    "data['number'].value_counts()"
   ]
  },
  {
   "cell_type": "markdown",
   "metadata": {},
   "source": [
    "Обнаруживаем - 0 посадочных мест это скорее всего не ошибка,а места, где еда готовится на вынос, в режиме доставки, автокафе, магазины и прочее."
   ]
  },
  {
   "cell_type": "markdown",
   "metadata": {},
   "source": [
    "### Выявление дубликатов"
   ]
  },
  {
   "cell_type": "markdown",
   "metadata": {},
   "source": [
    "Так как явных дубликатов обнаружино не было, проверим данные на неявные дубликаты."
   ]
  },
  {
   "cell_type": "code",
   "execution_count": 9,
   "metadata": {},
   "outputs": [
    {
     "data": {
      "text/plain": [
       "0"
      ]
     },
     "execution_count": 9,
     "metadata": {},
     "output_type": "execute_result"
    }
   ],
   "source": [
    "data['id'].duplicated().sum()"
   ]
  },
  {
   "cell_type": "markdown",
   "metadata": {},
   "source": [
    "Так как повторяющиеся значения рассматривать  в срезе одного столбца не имеет смысла и повторений id мы не обнаружили, проверим есть ли дубликаты объектов общественного питания с разными id номерами:"
   ]
  },
  {
   "cell_type": "code",
   "execution_count": 10,
   "metadata": {},
   "outputs": [
    {
     "data": {
      "text/plain": [
       "82"
      ]
     },
     "execution_count": 10,
     "metadata": {},
     "output_type": "execute_result"
    }
   ],
   "source": [
    "# проверим дублируются ли остальные данные в столбцах кроме id\n",
    "data[['object_name', 'chain', 'object_type', 'address', 'number']].duplicated().sum()"
   ]
  },
  {
   "cell_type": "code",
   "execution_count": 11,
   "metadata": {},
   "outputs": [
    {
     "data": {
      "text/plain": [
       "0.005336457113106859"
      ]
     },
     "execution_count": 11,
     "metadata": {},
     "output_type": "execute_result"
    }
   ],
   "source": [
    "# подсчитываем долю удаляемых дубликатов\n",
    "data[['object_name', 'chain', 'object_type', 'address', 'number']].duplicated().mean()"
   ]
  },
  {
   "cell_type": "code",
   "execution_count": 12,
   "metadata": {},
   "outputs": [
    {
     "data": {
      "text/html": [
       "<div>\n",
       "<style scoped>\n",
       "    .dataframe tbody tr th:only-of-type {\n",
       "        vertical-align: middle;\n",
       "    }\n",
       "\n",
       "    .dataframe tbody tr th {\n",
       "        vertical-align: top;\n",
       "    }\n",
       "\n",
       "    .dataframe thead th {\n",
       "        text-align: right;\n",
       "    }\n",
       "</style>\n",
       "<table border=\"1\" class=\"dataframe\">\n",
       "  <thead>\n",
       "    <tr style=\"text-align: right;\">\n",
       "      <th></th>\n",
       "      <th>id</th>\n",
       "      <th>object_name</th>\n",
       "      <th>chain</th>\n",
       "      <th>object_type</th>\n",
       "      <th>address</th>\n",
       "      <th>number</th>\n",
       "    </tr>\n",
       "  </thead>\n",
       "  <tbody>\n",
       "    <tr>\n",
       "      <th>2381</th>\n",
       "      <td>28611</td>\n",
       "      <td>КОМБИНАТ ПИТАНИЯ МГТУ ИМ.Н.Э.БАУМАНА</td>\n",
       "      <td>нет</td>\n",
       "      <td>столовая</td>\n",
       "      <td>город Москва, 2-я Бауманская улица, дом 5, стр...</td>\n",
       "      <td>100</td>\n",
       "    </tr>\n",
       "    <tr>\n",
       "      <th>3481</th>\n",
       "      <td>20914</td>\n",
       "      <td>Буфет Мади</td>\n",
       "      <td>нет</td>\n",
       "      <td>буфет</td>\n",
       "      <td>город Москва, Ленинградский проспект, дом 64</td>\n",
       "      <td>40</td>\n",
       "    </tr>\n",
       "    <tr>\n",
       "      <th>4431</th>\n",
       "      <td>23759</td>\n",
       "      <td>СТОЛОВАЯ ГБОУ города Москвы № 384</td>\n",
       "      <td>нет</td>\n",
       "      <td>буфет</td>\n",
       "      <td>город Москва, Беловежская улица, дом 67</td>\n",
       "      <td>100</td>\n",
       "    </tr>\n",
       "    <tr>\n",
       "      <th>4537</th>\n",
       "      <td>23391</td>\n",
       "      <td>Столовая «Комбинат питания КОСМОС»</td>\n",
       "      <td>нет</td>\n",
       "      <td>столовая</td>\n",
       "      <td>город Москва, Новозаводская улица, дом 12/11</td>\n",
       "      <td>15</td>\n",
       "    </tr>\n",
       "    <tr>\n",
       "      <th>5059</th>\n",
       "      <td>20021</td>\n",
       "      <td>LIFT</td>\n",
       "      <td>нет</td>\n",
       "      <td>кафе</td>\n",
       "      <td>город Москва, Багратионовский проезд, дом 7, к...</td>\n",
       "      <td>20</td>\n",
       "    </tr>\n",
       "    <tr>\n",
       "      <th>...</th>\n",
       "      <td>...</td>\n",
       "      <td>...</td>\n",
       "      <td>...</td>\n",
       "      <td>...</td>\n",
       "      <td>...</td>\n",
       "      <td>...</td>\n",
       "    </tr>\n",
       "    <tr>\n",
       "      <th>14578</th>\n",
       "      <td>222932</td>\n",
       "      <td>Старый Баку</td>\n",
       "      <td>нет</td>\n",
       "      <td>кафе</td>\n",
       "      <td>город Москва, Кировоградская улица, владение 15А</td>\n",
       "      <td>120</td>\n",
       "    </tr>\n",
       "    <tr>\n",
       "      <th>14596</th>\n",
       "      <td>204947</td>\n",
       "      <td>Буфет при кинотеатре</td>\n",
       "      <td>нет</td>\n",
       "      <td>буфет</td>\n",
       "      <td>город Москва, Ореховый бульвар, дом 22А</td>\n",
       "      <td>0</td>\n",
       "    </tr>\n",
       "    <tr>\n",
       "      <th>14844</th>\n",
       "      <td>219518</td>\n",
       "      <td>Sushi-Make</td>\n",
       "      <td>нет</td>\n",
       "      <td>предприятие быстрого обслуживания</td>\n",
       "      <td>город Москва, Ярцевская улица, дом 19</td>\n",
       "      <td>0</td>\n",
       "    </tr>\n",
       "    <tr>\n",
       "      <th>15173</th>\n",
       "      <td>218542</td>\n",
       "      <td>Кофе с собой</td>\n",
       "      <td>да</td>\n",
       "      <td>предприятие быстрого обслуживания</td>\n",
       "      <td>город Москва, Алтуфьевское шоссе, дом 70, корп...</td>\n",
       "      <td>0</td>\n",
       "    </tr>\n",
       "    <tr>\n",
       "      <th>15217</th>\n",
       "      <td>214146</td>\n",
       "      <td>Макдоналдс</td>\n",
       "      <td>да</td>\n",
       "      <td>предприятие быстрого обслуживания</td>\n",
       "      <td>город Москва, Кировоградская улица, дом 13А</td>\n",
       "      <td>0</td>\n",
       "    </tr>\n",
       "  </tbody>\n",
       "</table>\n",
       "<p>82 rows × 6 columns</p>\n",
       "</div>"
      ],
      "text/plain": [
       "           id                           object_name chain  \\\n",
       "2381    28611  КОМБИНАТ ПИТАНИЯ МГТУ ИМ.Н.Э.БАУМАНА   нет   \n",
       "3481    20914                            Буфет Мади   нет   \n",
       "4431    23759     СТОЛОВАЯ ГБОУ города Москвы № 384   нет   \n",
       "4537    23391    Столовая «Комбинат питания КОСМОС»   нет   \n",
       "5059    20021                                  LIFT   нет   \n",
       "...       ...                                   ...   ...   \n",
       "14578  222932                           Старый Баку   нет   \n",
       "14596  204947                  Буфет при кинотеатре   нет   \n",
       "14844  219518                            Sushi-Make   нет   \n",
       "15173  218542                          Кофе с собой    да   \n",
       "15217  214146                            Макдоналдс    да   \n",
       "\n",
       "                             object_type  \\\n",
       "2381                            столовая   \n",
       "3481                               буфет   \n",
       "4431                               буфет   \n",
       "4537                            столовая   \n",
       "5059                                кафе   \n",
       "...                                  ...   \n",
       "14578                               кафе   \n",
       "14596                              буфет   \n",
       "14844  предприятие быстрого обслуживания   \n",
       "15173  предприятие быстрого обслуживания   \n",
       "15217  предприятие быстрого обслуживания   \n",
       "\n",
       "                                                 address  number  \n",
       "2381   город Москва, 2-я Бауманская улица, дом 5, стр...     100  \n",
       "3481        город Москва, Ленинградский проспект, дом 64      40  \n",
       "4431             город Москва, Беловежская улица, дом 67     100  \n",
       "4537        город Москва, Новозаводская улица, дом 12/11      15  \n",
       "5059   город Москва, Багратионовский проезд, дом 7, к...      20  \n",
       "...                                                  ...     ...  \n",
       "14578   город Москва, Кировоградская улица, владение 15А     120  \n",
       "14596            город Москва, Ореховый бульвар, дом 22А       0  \n",
       "14844              город Москва, Ярцевская улица, дом 19       0  \n",
       "15173  город Москва, Алтуфьевское шоссе, дом 70, корп...       0  \n",
       "15217        город Москва, Кировоградская улица, дом 13А       0  \n",
       "\n",
       "[82 rows x 6 columns]"
      ]
     },
     "execution_count": 12,
     "metadata": {},
     "output_type": "execute_result"
    }
   ],
   "source": [
    "# посмотрим на них\n",
    "data[data[['object_name', 'chain', 'object_type', 'address', 'number']].duplicated()]"
   ]
  },
  {
   "cell_type": "code",
   "execution_count": 13,
   "metadata": {},
   "outputs": [
    {
     "data": {
      "text/html": [
       "<div>\n",
       "<style scoped>\n",
       "    .dataframe tbody tr th:only-of-type {\n",
       "        vertical-align: middle;\n",
       "    }\n",
       "\n",
       "    .dataframe tbody tr th {\n",
       "        vertical-align: top;\n",
       "    }\n",
       "\n",
       "    .dataframe thead th {\n",
       "        text-align: right;\n",
       "    }\n",
       "</style>\n",
       "<table border=\"1\" class=\"dataframe\">\n",
       "  <thead>\n",
       "    <tr style=\"text-align: right;\">\n",
       "      <th></th>\n",
       "      <th>id</th>\n",
       "      <th>object_name</th>\n",
       "      <th>chain</th>\n",
       "      <th>object_type</th>\n",
       "      <th>address</th>\n",
       "      <th>number</th>\n",
       "    </tr>\n",
       "  </thead>\n",
       "  <tbody>\n",
       "    <tr>\n",
       "      <th>0</th>\n",
       "      <td>151635</td>\n",
       "      <td>СМЕТАНА</td>\n",
       "      <td>нет</td>\n",
       "      <td>кафе</td>\n",
       "      <td>город Москва, улица Егора Абакумова, дом 9</td>\n",
       "      <td>48</td>\n",
       "    </tr>\n",
       "    <tr>\n",
       "      <th>1</th>\n",
       "      <td>77874</td>\n",
       "      <td>Родник</td>\n",
       "      <td>нет</td>\n",
       "      <td>кафе</td>\n",
       "      <td>город Москва, улица Талалихина, дом 2/1, корпус 1</td>\n",
       "      <td>35</td>\n",
       "    </tr>\n",
       "    <tr>\n",
       "      <th>2</th>\n",
       "      <td>24309</td>\n",
       "      <td>Кафе «Академия»</td>\n",
       "      <td>нет</td>\n",
       "      <td>кафе</td>\n",
       "      <td>город Москва, Абельмановская улица, дом 6</td>\n",
       "      <td>95</td>\n",
       "    </tr>\n",
       "    <tr>\n",
       "      <th>3</th>\n",
       "      <td>21894</td>\n",
       "      <td>ПИЦЦЕТОРИЯ</td>\n",
       "      <td>да</td>\n",
       "      <td>кафе</td>\n",
       "      <td>город Москва, Абрамцевская улица, дом 1</td>\n",
       "      <td>40</td>\n",
       "    </tr>\n",
       "    <tr>\n",
       "      <th>4</th>\n",
       "      <td>119365</td>\n",
       "      <td>Кафе «Вишневая метель»</td>\n",
       "      <td>нет</td>\n",
       "      <td>кафе</td>\n",
       "      <td>город Москва, Абрамцевская улица, дом 9, корпус 1</td>\n",
       "      <td>50</td>\n",
       "    </tr>\n",
       "    <tr>\n",
       "      <th>...</th>\n",
       "      <td>...</td>\n",
       "      <td>...</td>\n",
       "      <td>...</td>\n",
       "      <td>...</td>\n",
       "      <td>...</td>\n",
       "      <td>...</td>\n",
       "    </tr>\n",
       "    <tr>\n",
       "      <th>15361</th>\n",
       "      <td>208537</td>\n",
       "      <td>Шоколадница</td>\n",
       "      <td>да</td>\n",
       "      <td>кафе</td>\n",
       "      <td>город Москва, 3-й Крутицкий переулок, дом 18</td>\n",
       "      <td>50</td>\n",
       "    </tr>\n",
       "    <tr>\n",
       "      <th>15362</th>\n",
       "      <td>209264</td>\n",
       "      <td>Шоколадница</td>\n",
       "      <td>да</td>\n",
       "      <td>кафе</td>\n",
       "      <td>город Москва, улица Земляной Вал, дом 33</td>\n",
       "      <td>10</td>\n",
       "    </tr>\n",
       "    <tr>\n",
       "      <th>15363</th>\n",
       "      <td>209186</td>\n",
       "      <td>Шоколадница</td>\n",
       "      <td>да</td>\n",
       "      <td>кафе</td>\n",
       "      <td>город Москва, улица Земляной Вал, дом 33</td>\n",
       "      <td>20</td>\n",
       "    </tr>\n",
       "    <tr>\n",
       "      <th>15364</th>\n",
       "      <td>221900</td>\n",
       "      <td>Шоколадница</td>\n",
       "      <td>да</td>\n",
       "      <td>кафе</td>\n",
       "      <td>город Москва, поселение Московский, Киевское ш...</td>\n",
       "      <td>36</td>\n",
       "    </tr>\n",
       "    <tr>\n",
       "      <th>15365</th>\n",
       "      <td>222535</td>\n",
       "      <td>Шоколадница</td>\n",
       "      <td>да</td>\n",
       "      <td>кафе</td>\n",
       "      <td>город Москва, Ходынский бульвар, дом 4</td>\n",
       "      <td>10</td>\n",
       "    </tr>\n",
       "  </tbody>\n",
       "</table>\n",
       "<p>15284 rows × 6 columns</p>\n",
       "</div>"
      ],
      "text/plain": [
       "           id             object_name chain object_type  \\\n",
       "0      151635                 СМЕТАНА   нет        кафе   \n",
       "1       77874                  Родник   нет        кафе   \n",
       "2       24309         Кафе «Академия»   нет        кафе   \n",
       "3       21894              ПИЦЦЕТОРИЯ    да        кафе   \n",
       "4      119365  Кафе «Вишневая метель»   нет        кафе   \n",
       "...       ...                     ...   ...         ...   \n",
       "15361  208537             Шоколадница    да        кафе   \n",
       "15362  209264             Шоколадница    да        кафе   \n",
       "15363  209186             Шоколадница    да        кафе   \n",
       "15364  221900             Шоколадница    да        кафе   \n",
       "15365  222535             Шоколадница    да        кафе   \n",
       "\n",
       "                                                 address  number  \n",
       "0             город Москва, улица Егора Абакумова, дом 9      48  \n",
       "1      город Москва, улица Талалихина, дом 2/1, корпус 1      35  \n",
       "2              город Москва, Абельмановская улица, дом 6      95  \n",
       "3                город Москва, Абрамцевская улица, дом 1      40  \n",
       "4      город Москва, Абрамцевская улица, дом 9, корпус 1      50  \n",
       "...                                                  ...     ...  \n",
       "15361       город Москва, 3-й Крутицкий переулок, дом 18      50  \n",
       "15362           город Москва, улица Земляной Вал, дом 33      10  \n",
       "15363           город Москва, улица Земляной Вал, дом 33      20  \n",
       "15364  город Москва, поселение Московский, Киевское ш...      36  \n",
       "15365             город Москва, Ходынский бульвар, дом 4      10  \n",
       "\n",
       "[15284 rows x 6 columns]"
      ]
     },
     "execution_count": 13,
     "metadata": {},
     "output_type": "execute_result"
    }
   ],
   "source": [
    "# удалим дублирующиеся строчки, так как их доля не велика \n",
    "duplic =data[['object_name', 'chain', 'object_type', 'address', 'number']].duplicated()\n",
    "data = data.loc[~duplic]\n",
    "data"
   ]
  },
  {
   "cell_type": "code",
   "execution_count": 14,
   "metadata": {
    "scrolled": false
   },
   "outputs": [
    {
     "data": {
      "text/plain": [
       "88"
      ]
     },
     "execution_count": 14,
     "metadata": {},
     "output_type": "execute_result"
    }
   ],
   "source": [
    "# проверим дублируются ли остальные данные в столбцах кроме id и number\n",
    "data[['object_name', 'chain', 'object_type', 'address']].duplicated().sum()"
   ]
  },
  {
   "cell_type": "code",
   "execution_count": 15,
   "metadata": {},
   "outputs": [
    {
     "data": {
      "text/plain": [
       "0.0057576550641193405"
      ]
     },
     "execution_count": 15,
     "metadata": {},
     "output_type": "execute_result"
    }
   ],
   "source": [
    "# подсчитываем долю удаляемых дубликатов\n",
    "data[['object_name', 'chain', 'object_type', 'address']].duplicated().mean()"
   ]
  },
  {
   "cell_type": "code",
   "execution_count": 16,
   "metadata": {},
   "outputs": [
    {
     "data": {
      "text/html": [
       "<div>\n",
       "<style scoped>\n",
       "    .dataframe tbody tr th:only-of-type {\n",
       "        vertical-align: middle;\n",
       "    }\n",
       "\n",
       "    .dataframe tbody tr th {\n",
       "        vertical-align: top;\n",
       "    }\n",
       "\n",
       "    .dataframe thead th {\n",
       "        text-align: right;\n",
       "    }\n",
       "</style>\n",
       "<table border=\"1\" class=\"dataframe\">\n",
       "  <thead>\n",
       "    <tr style=\"text-align: right;\">\n",
       "      <th></th>\n",
       "      <th>id</th>\n",
       "      <th>object_name</th>\n",
       "      <th>chain</th>\n",
       "      <th>object_type</th>\n",
       "      <th>address</th>\n",
       "      <th>number</th>\n",
       "    </tr>\n",
       "  </thead>\n",
       "  <tbody>\n",
       "    <tr>\n",
       "      <th>0</th>\n",
       "      <td>151635</td>\n",
       "      <td>СМЕТАНА</td>\n",
       "      <td>нет</td>\n",
       "      <td>кафе</td>\n",
       "      <td>город Москва, улица Егора Абакумова, дом 9</td>\n",
       "      <td>48</td>\n",
       "    </tr>\n",
       "    <tr>\n",
       "      <th>1</th>\n",
       "      <td>77874</td>\n",
       "      <td>Родник</td>\n",
       "      <td>нет</td>\n",
       "      <td>кафе</td>\n",
       "      <td>город Москва, улица Талалихина, дом 2/1, корпус 1</td>\n",
       "      <td>35</td>\n",
       "    </tr>\n",
       "    <tr>\n",
       "      <th>2</th>\n",
       "      <td>24309</td>\n",
       "      <td>Кафе «Академия»</td>\n",
       "      <td>нет</td>\n",
       "      <td>кафе</td>\n",
       "      <td>город Москва, Абельмановская улица, дом 6</td>\n",
       "      <td>95</td>\n",
       "    </tr>\n",
       "    <tr>\n",
       "      <th>3</th>\n",
       "      <td>21894</td>\n",
       "      <td>ПИЦЦЕТОРИЯ</td>\n",
       "      <td>да</td>\n",
       "      <td>кафе</td>\n",
       "      <td>город Москва, Абрамцевская улица, дом 1</td>\n",
       "      <td>40</td>\n",
       "    </tr>\n",
       "    <tr>\n",
       "      <th>4</th>\n",
       "      <td>119365</td>\n",
       "      <td>Кафе «Вишневая метель»</td>\n",
       "      <td>нет</td>\n",
       "      <td>кафе</td>\n",
       "      <td>город Москва, Абрамцевская улица, дом 9, корпус 1</td>\n",
       "      <td>50</td>\n",
       "    </tr>\n",
       "    <tr>\n",
       "      <th>...</th>\n",
       "      <td>...</td>\n",
       "      <td>...</td>\n",
       "      <td>...</td>\n",
       "      <td>...</td>\n",
       "      <td>...</td>\n",
       "      <td>...</td>\n",
       "    </tr>\n",
       "    <tr>\n",
       "      <th>15359</th>\n",
       "      <td>222077</td>\n",
       "      <td>Кофейня «Шоколадница»</td>\n",
       "      <td>да</td>\n",
       "      <td>кафе</td>\n",
       "      <td>город Москва, Кантемировская улица, дом 47</td>\n",
       "      <td>72</td>\n",
       "    </tr>\n",
       "    <tr>\n",
       "      <th>15360</th>\n",
       "      <td>219759</td>\n",
       "      <td>Шоколадница</td>\n",
       "      <td>да</td>\n",
       "      <td>кафе</td>\n",
       "      <td>город Москва, улица Вавилова, дом 3</td>\n",
       "      <td>36</td>\n",
       "    </tr>\n",
       "    <tr>\n",
       "      <th>15361</th>\n",
       "      <td>208537</td>\n",
       "      <td>Шоколадница</td>\n",
       "      <td>да</td>\n",
       "      <td>кафе</td>\n",
       "      <td>город Москва, 3-й Крутицкий переулок, дом 18</td>\n",
       "      <td>50</td>\n",
       "    </tr>\n",
       "    <tr>\n",
       "      <th>15362</th>\n",
       "      <td>209264</td>\n",
       "      <td>Шоколадница</td>\n",
       "      <td>да</td>\n",
       "      <td>кафе</td>\n",
       "      <td>город Москва, улица Земляной Вал, дом 33</td>\n",
       "      <td>10</td>\n",
       "    </tr>\n",
       "    <tr>\n",
       "      <th>15364</th>\n",
       "      <td>221900</td>\n",
       "      <td>Шоколадница</td>\n",
       "      <td>да</td>\n",
       "      <td>кафе</td>\n",
       "      <td>город Москва, поселение Московский, Киевское ш...</td>\n",
       "      <td>36</td>\n",
       "    </tr>\n",
       "  </tbody>\n",
       "</table>\n",
       "<p>15196 rows × 6 columns</p>\n",
       "</div>"
      ],
      "text/plain": [
       "           id             object_name chain object_type  \\\n",
       "0      151635                 СМЕТАНА   нет        кафе   \n",
       "1       77874                  Родник   нет        кафе   \n",
       "2       24309         Кафе «Академия»   нет        кафе   \n",
       "3       21894              ПИЦЦЕТОРИЯ    да        кафе   \n",
       "4      119365  Кафе «Вишневая метель»   нет        кафе   \n",
       "...       ...                     ...   ...         ...   \n",
       "15359  222077   Кофейня «Шоколадница»    да        кафе   \n",
       "15360  219759             Шоколадница    да        кафе   \n",
       "15361  208537             Шоколадница    да        кафе   \n",
       "15362  209264             Шоколадница    да        кафе   \n",
       "15364  221900             Шоколадница    да        кафе   \n",
       "\n",
       "                                                 address  number  \n",
       "0             город Москва, улица Егора Абакумова, дом 9      48  \n",
       "1      город Москва, улица Талалихина, дом 2/1, корпус 1      35  \n",
       "2              город Москва, Абельмановская улица, дом 6      95  \n",
       "3                город Москва, Абрамцевская улица, дом 1      40  \n",
       "4      город Москва, Абрамцевская улица, дом 9, корпус 1      50  \n",
       "...                                                  ...     ...  \n",
       "15359         город Москва, Кантемировская улица, дом 47      72  \n",
       "15360                город Москва, улица Вавилова, дом 3      36  \n",
       "15361       город Москва, 3-й Крутицкий переулок, дом 18      50  \n",
       "15362           город Москва, улица Земляной Вал, дом 33      10  \n",
       "15364  город Москва, поселение Московский, Киевское ш...      36  \n",
       "\n",
       "[15196 rows x 6 columns]"
      ]
     },
     "execution_count": 16,
     "metadata": {},
     "output_type": "execute_result"
    }
   ],
   "source": [
    "# удалим дублирующиеся строчки, так как их доля не велика \n",
    "duplic2 =data[['object_name', 'chain', 'object_type', 'address']].duplicated()\n",
    "data = data.loc[~duplic2]\n",
    "data"
   ]
  },
  {
   "cell_type": "markdown",
   "metadata": {},
   "source": [
    "### Выводы\n",
    "\n",
    "* в данных нет пропусков и явных дубликатов;\n",
    "* были обнаружены и удалены 82 объекта-дубликата с одинаковой информацией (в столбцах `object_name`, `chain`, `object_type`, `address`, `number`), но с разными id-номерами;\n",
    "* были обнаружены и удалены 88 объекта-дубликата с одинаковыми названими,принадлежностью к сети, типом и адресом (в столбцах `object_name`, `chain`, `object_type`, `address`), но разным количеством посадочных мест (столбец `number`), возможно что заведение расширилось, внесли новые данные, а старые не удалили. \n",
    "* Общий процент удаленных данных 1,1%."
   ]
  },
  {
   "cell_type": "markdown",
   "metadata": {},
   "source": [
    "## Анализ данных"
   ]
  },
  {
   "cell_type": "markdown",
   "metadata": {},
   "source": [
    "### Исследование соотношения видов объектов общественного питания по количеству"
   ]
  },
  {
   "cell_type": "code",
   "execution_count": 18,
   "metadata": {
    "scrolled": true
   },
   "outputs": [
    {
     "data": {
      "text/html": [
       "<div>\n",
       "<style scoped>\n",
       "    .dataframe tbody tr th:only-of-type {\n",
       "        vertical-align: middle;\n",
       "    }\n",
       "\n",
       "    .dataframe tbody tr th {\n",
       "        vertical-align: top;\n",
       "    }\n",
       "\n",
       "    .dataframe thead th {\n",
       "        text-align: right;\n",
       "    }\n",
       "</style>\n",
       "<table border=\"1\" class=\"dataframe\">\n",
       "  <thead>\n",
       "    <tr style=\"text-align: right;\">\n",
       "      <th></th>\n",
       "      <th>object_type</th>\n",
       "      <th>amount_objects</th>\n",
       "      <th>ratio_objects,%</th>\n",
       "    </tr>\n",
       "  </thead>\n",
       "  <tbody>\n",
       "    <tr>\n",
       "      <th>3</th>\n",
       "      <td>кафе</td>\n",
       "      <td>6017</td>\n",
       "      <td>39.60</td>\n",
       "    </tr>\n",
       "    <tr>\n",
       "      <th>8</th>\n",
       "      <td>столовая</td>\n",
       "      <td>2575</td>\n",
       "      <td>16.95</td>\n",
       "    </tr>\n",
       "    <tr>\n",
       "      <th>7</th>\n",
       "      <td>ресторан</td>\n",
       "      <td>2276</td>\n",
       "      <td>14.98</td>\n",
       "    </tr>\n",
       "    <tr>\n",
       "      <th>6</th>\n",
       "      <td>предприятие быстрого обслуживания</td>\n",
       "      <td>1891</td>\n",
       "      <td>12.44</td>\n",
       "    </tr>\n",
       "    <tr>\n",
       "      <th>0</th>\n",
       "      <td>бар</td>\n",
       "      <td>853</td>\n",
       "      <td>5.61</td>\n",
       "    </tr>\n",
       "    <tr>\n",
       "      <th>1</th>\n",
       "      <td>буфет</td>\n",
       "      <td>571</td>\n",
       "      <td>3.76</td>\n",
       "    </tr>\n",
       "    <tr>\n",
       "      <th>4</th>\n",
       "      <td>кафетерий</td>\n",
       "      <td>393</td>\n",
       "      <td>2.59</td>\n",
       "    </tr>\n",
       "    <tr>\n",
       "      <th>2</th>\n",
       "      <td>закусочная</td>\n",
       "      <td>348</td>\n",
       "      <td>2.29</td>\n",
       "    </tr>\n",
       "    <tr>\n",
       "      <th>5</th>\n",
       "      <td>магазин (отдел кулинарии)</td>\n",
       "      <td>272</td>\n",
       "      <td>1.79</td>\n",
       "    </tr>\n",
       "  </tbody>\n",
       "</table>\n",
       "</div>"
      ],
      "text/plain": [
       "                         object_type  amount_objects  ratio_objects,%\n",
       "3                               кафе            6017            39.60\n",
       "8                           столовая            2575            16.95\n",
       "7                           ресторан            2276            14.98\n",
       "6  предприятие быстрого обслуживания            1891            12.44\n",
       "0                                бар             853             5.61\n",
       "1                              буфет             571             3.76\n",
       "4                          кафетерий             393             2.59\n",
       "2                         закусочная             348             2.29\n",
       "5          магазин (отдел кулинарии)             272             1.79"
      ]
     },
     "execution_count": 18,
     "metadata": {},
     "output_type": "execute_result"
    }
   ],
   "source": [
    "# Сгруппируем данные по типам заведений, переименуем столбцы, введем столбец для процентного соотношения объектов.\n",
    "type_objects_count = data.groupby('object_type').agg({'id': 'count'}).reset_index().sort_values(by='id', ascending=False)\n",
    "type_objects_count.columns = ['object_type','amount_objects']\n",
    "type_objects_count['ratio_objects,%'] = round(type_objects_count['amount_objects'] * 100 / type_objects_count['amount_objects'].sum(),2)\n",
    "type_objects_count"
   ]
  },
  {
   "cell_type": "code",
   "execution_count": 19,
   "metadata": {
    "scrolled": false
   },
   "outputs": [
    {
     "data": {
      "image/png": "[encoded data removed]",
      "text/plain": [
       "<Figure size 864x360 with 1 Axes>"
      ]
     },
     "metadata": {
      "needs_background": "light"
     },
     "output_type": "display_data"
    }
   ],
   "source": [
    "plt.figure(figsize=(12, 5))  \n",
    "ax = sns.countplot(x= 'object_type',\n",
    "                   data = data,\n",
    "                   order = data['object_type'].value_counts().index, # сортровка\n",
    "                   palette=\"hls\") # использование палитры\n",
    "ax.set_xticklabels(ax.get_xticklabels(), rotation=25, ha=\"right\") # вывод названий по оси \"х\" под углом\n",
    "ax.set_title('Распределение видов объектов общественного питания по количеству')\n",
    "ax.set_xlabel('Тип объекта')\n",
    "ax.set_ylabel('Количество объектов, доля в общем числе %') \n",
    "\n",
    "# добавим доли каждого типа объекта для лучшего понимания распределения объектов\n",
    "ncount = len(data)\n",
    "for p in ax.patches:\n",
    "    x=p.get_bbox().get_points()[:,0]\n",
    "    y=p.get_bbox().get_points()[1,1]\n",
    "    ax.annotate('{:.1f}%'.format(100.*y/ncount), (x.mean(), y), \n",
    "            ha='center', va='bottom')\n",
    "plt.show()"
   ]
  },
  {
   "cell_type": "markdown",
   "metadata": {},
   "source": [
    "Большую долю рынка по количеству занимают заведения общественного питания с типом:\n",
    "1. **кафе** 39.6%\n",
    "2. **столовая** 16.9%\n",
    "3. **ресторан** 15.0% \n",
    "\n",
    "Меньше всего заведений с типом *магазин* и *закусочная*."
   ]
  },
  {
   "cell_type": "markdown",
   "metadata": {},
   "source": [
    "### Исследование соотношения сетевых и несетевых заведений по количеству"
   ]
  },
  {
   "cell_type": "code",
   "execution_count": 20,
   "metadata": {},
   "outputs": [
    {
     "data": {
      "text/html": [
       "<div>\n",
       "<style scoped>\n",
       "    .dataframe tbody tr th:only-of-type {\n",
       "        vertical-align: middle;\n",
       "    }\n",
       "\n",
       "    .dataframe tbody tr th {\n",
       "        vertical-align: top;\n",
       "    }\n",
       "\n",
       "    .dataframe thead th {\n",
       "        text-align: right;\n",
       "    }\n",
       "</style>\n",
       "<table border=\"1\" class=\"dataframe\">\n",
       "  <thead>\n",
       "    <tr style=\"text-align: right;\">\n",
       "      <th></th>\n",
       "      <th>object_type</th>\n",
       "      <th>amount_objects</th>\n",
       "      <th>ratio_objects,%</th>\n",
       "    </tr>\n",
       "  </thead>\n",
       "  <tbody>\n",
       "    <tr>\n",
       "      <th>1</th>\n",
       "      <td>нет</td>\n",
       "      <td>12245</td>\n",
       "      <td>80.58</td>\n",
       "    </tr>\n",
       "    <tr>\n",
       "      <th>0</th>\n",
       "      <td>да</td>\n",
       "      <td>2951</td>\n",
       "      <td>19.42</td>\n",
       "    </tr>\n",
       "  </tbody>\n",
       "</table>\n",
       "</div>"
      ],
      "text/plain": [
       "  object_type  amount_objects  ratio_objects,%\n",
       "1         нет           12245            80.58\n",
       "0          да            2951            19.42"
      ]
     },
     "execution_count": 20,
     "metadata": {},
     "output_type": "execute_result"
    }
   ],
   "source": [
    "chain_objects_count = data.groupby('chain').agg({'id': 'count'}).reset_index().sort_values(by='id', ascending=False)\n",
    "chain_objects_count.columns = ['object_type','amount_objects']\n",
    "chain_objects_count['ratio_objects,%'] = round(chain_objects_count['amount_objects'] * 100 / chain_objects_count['amount_objects'].sum(),2)\n",
    "chain_objects_count"
   ]
  },
  {
   "cell_type": "code",
   "execution_count": 21,
   "metadata": {
    "scrolled": true
   },
   "outputs": [
    {
     "data": {
      "image/png": "[encoded data removed]",
      "text/plain": [
       "<Figure size 720x360 with 1 Axes>"
      ]
     },
     "metadata": {
      "needs_background": "light"
     },
     "output_type": "display_data"
    }
   ],
   "source": [
    "plt.figure(figsize=(10, 5)) \n",
    "ax = sns.barplot(x= 'object_type', y='amount_objects', data = chain_objects_count, palette=\"hls\")\n",
    "ax.set_xticklabels(ax.get_xticklabels(), ha=\"right\")\n",
    "ax.set_title('Распределение сетевых и несетевых заведений по количеству')\n",
    "ax.set(xlabel='Сетевое заведение?', ylabel='Количество объектов')\n",
    "\n",
    "# добавим доли каждого типа объекта\n",
    "ncount = len(data)\n",
    "for p in ax.patches:\n",
    "    x=p.get_bbox().get_points()[:,0]\n",
    "    y=p.get_bbox().get_points()[1,1]\n",
    "    ax.annotate('{:.1f}%'.format(100.*y/ncount), (x.mean(), y), \n",
    "            ha='center', va='bottom')\n",
    "plt.show()"
   ]
  },
  {
   "cell_type": "markdown",
   "metadata": {},
   "source": [
    "На графике видно, что несетевых заведений по количеству больше, чем сетевых. \n",
    "\n",
    "Соотношение **несетевых** 80.68% к **сетевым** 19.32%, практически соотношение 4:1."
   ]
  },
  {
   "cell_type": "markdown",
   "metadata": {},
   "source": [
    "### Выявление для какого вида объекта общественного питания характерно сетевое распространение"
   ]
  },
  {
   "cell_type": "code",
   "execution_count": 22,
   "metadata": {},
   "outputs": [
    {
     "data": {
      "text/html": [
       "<div>\n",
       "<style scoped>\n",
       "    .dataframe tbody tr th:only-of-type {\n",
       "        vertical-align: middle;\n",
       "    }\n",
       "\n",
       "    .dataframe tbody tr th {\n",
       "        vertical-align: top;\n",
       "    }\n",
       "\n",
       "    .dataframe thead th {\n",
       "        text-align: right;\n",
       "    }\n",
       "</style>\n",
       "<table border=\"1\" class=\"dataframe\">\n",
       "  <thead>\n",
       "    <tr style=\"text-align: right;\">\n",
       "      <th>chain</th>\n",
       "      <th>object_type</th>\n",
       "      <th>да</th>\n",
       "      <th>нет</th>\n",
       "      <th>sum_chain_object</th>\n",
       "      <th>ratio_chain,%</th>\n",
       "    </tr>\n",
       "  </thead>\n",
       "  <tbody>\n",
       "    <tr>\n",
       "      <th>8</th>\n",
       "      <td>столовая</td>\n",
       "      <td>3</td>\n",
       "      <td>2572</td>\n",
       "      <td>2575</td>\n",
       "      <td>0.12</td>\n",
       "    </tr>\n",
       "    <tr>\n",
       "      <th>1</th>\n",
       "      <td>буфет</td>\n",
       "      <td>11</td>\n",
       "      <td>560</td>\n",
       "      <td>571</td>\n",
       "      <td>1.93</td>\n",
       "    </tr>\n",
       "    <tr>\n",
       "      <th>0</th>\n",
       "      <td>бар</td>\n",
       "      <td>37</td>\n",
       "      <td>816</td>\n",
       "      <td>853</td>\n",
       "      <td>4.34</td>\n",
       "    </tr>\n",
       "    <tr>\n",
       "      <th>4</th>\n",
       "      <td>кафетерий</td>\n",
       "      <td>51</td>\n",
       "      <td>342</td>\n",
       "      <td>393</td>\n",
       "      <td>12.98</td>\n",
       "    </tr>\n",
       "    <tr>\n",
       "      <th>2</th>\n",
       "      <td>закусочная</td>\n",
       "      <td>56</td>\n",
       "      <td>292</td>\n",
       "      <td>348</td>\n",
       "      <td>16.09</td>\n",
       "    </tr>\n",
       "    <tr>\n",
       "      <th>3</th>\n",
       "      <td>кафе</td>\n",
       "      <td>1389</td>\n",
       "      <td>4628</td>\n",
       "      <td>6017</td>\n",
       "      <td>23.08</td>\n",
       "    </tr>\n",
       "    <tr>\n",
       "      <th>7</th>\n",
       "      <td>ресторан</td>\n",
       "      <td>542</td>\n",
       "      <td>1734</td>\n",
       "      <td>2276</td>\n",
       "      <td>23.81</td>\n",
       "    </tr>\n",
       "    <tr>\n",
       "      <th>5</th>\n",
       "      <td>магазин (отдел кулинарии)</td>\n",
       "      <td>78</td>\n",
       "      <td>194</td>\n",
       "      <td>272</td>\n",
       "      <td>28.68</td>\n",
       "    </tr>\n",
       "    <tr>\n",
       "      <th>6</th>\n",
       "      <td>предприятие быстрого обслуживания</td>\n",
       "      <td>784</td>\n",
       "      <td>1107</td>\n",
       "      <td>1891</td>\n",
       "      <td>41.46</td>\n",
       "    </tr>\n",
       "  </tbody>\n",
       "</table>\n",
       "</div>"
      ],
      "text/plain": [
       "chain                        object_type    да   нет  sum_chain_object  \\\n",
       "8                               столовая     3  2572              2575   \n",
       "1                                  буфет    11   560               571   \n",
       "0                                    бар    37   816               853   \n",
       "4                              кафетерий    51   342               393   \n",
       "2                             закусочная    56   292               348   \n",
       "3                                   кафе  1389  4628              6017   \n",
       "7                               ресторан   542  1734              2276   \n",
       "5              магазин (отдел кулинарии)    78   194               272   \n",
       "6      предприятие быстрого обслуживания   784  1107              1891   \n",
       "\n",
       "chain  ratio_chain,%  \n",
       "8               0.12  \n",
       "1               1.93  \n",
       "0               4.34  \n",
       "4              12.98  \n",
       "2              16.09  \n",
       "3              23.08  \n",
       "7              23.81  \n",
       "5              28.68  \n",
       "6              41.46  "
      ]
     },
     "execution_count": 22,
     "metadata": {},
     "output_type": "execute_result"
    }
   ],
   "source": [
    "chain_object = pd.pivot_table(data, values='id', index='object_type',columns='chain', aggfunc='count').reset_index()\n",
    "chain_object['sum_chain_object'] = chain_object['да'] + chain_object['нет']\n",
    "chain_object['ratio_chain,%'] = round(chain_object['да'] * 100 / chain_object['sum_chain_object'], 2)\n",
    "chain_object = chain_object.sort_values(by='ratio_chain,%')\n",
    "chain_object"
   ]
  },
  {
   "cell_type": "code",
   "execution_count": 23,
   "metadata": {
    "scrolled": false
   },
   "outputs": [
    {
     "data": {
      "image/png": "[encoded data removed]",
      "text/plain": [
       "<Figure size 936x432 with 1 Axes>"
      ]
     },
     "metadata": {
      "needs_background": "light"
     },
     "output_type": "display_data"
    }
   ],
   "source": [
    "plt.figure(figsize=(13, 6))  \n",
    "ax = sns.countplot(x= 'object_type', data = data,hue= 'chain', order = data['object_type'].value_counts().index, palette=\"hls\")\n",
    "ax.set_xticklabels(ax.get_xticklabels(), rotation=15, ha=\"right\")\n",
    "ax.set_title('Распределение сетевых и несетевых объектов общественного питания по типам объектов')\n",
    "ax.set(xlabel='Тип объекта', ylabel='Количество объектов, шт')\n",
    "# добавим доли каждого типа объекта\n",
    "for p in ax.patches:\n",
    "    x=p.get_bbox().get_points()[:,0]\n",
    "    y=p.get_bbox().get_points()[1,1]\n",
    "    ax.annotate('{:.0f}'.format(y), (x.mean(), y), \n",
    "            ha='center', va='bottom')\n",
    "plt.show()"
   ]
  },
  {
   "cell_type": "markdown",
   "metadata": {},
   "source": [
    "Имеет смысл вывести два графика для ответа на вопрос о том для какого вида объекта общественного питания характерно сетевое распространение. На данном графике лучше видно *сколько сетевых заведений в каждом типе заведений и как они соотносятся*.\n",
    "\n",
    "\n",
    "В следующем графике выведено сколько именно (их доля) сетевых заведений в каждом типе объектов. "
   ]
  },
  {
   "cell_type": "code",
   "execution_count": 24,
   "metadata": {},
   "outputs": [
    {
     "data": {
      "image/png": "[encoded data removed]",
      "text/plain": [
       "<Figure size 864x360 with 1 Axes>"
      ]
     },
     "metadata": {
      "needs_background": "light"
     },
     "output_type": "display_data"
    }
   ],
   "source": [
    "plt.figure(figsize=(12, 5)) \n",
    "ax = sns.barplot(x= 'object_type',\n",
    "                 y='ratio_chain,%',\n",
    "                 data = chain_object,\n",
    "                 palette=\"hls\")\n",
    "ax.set_xticklabels(ax.get_xticklabels(), rotation=25, ha=\"right\")\n",
    "ax.set_title('Распределение сетевых объектов общественного питания по типам объектов')\n",
    "ax.set(xlabel='Тип объекта', ylabel='Доля сетевых заведений в каждом типе')\n",
    "ncount = len(chain_object)\n",
    "for p in ax.patches:\n",
    "    x=p.get_bbox().get_points()[:,0]\n",
    "    y=p.get_bbox().get_points()[1,1]\n",
    "    ax.annotate('{:.1f}%'.format(y), (x.mean(), y), \n",
    "            ha='center', va='bottom')\n",
    "plt.show()"
   ]
  },
  {
   "cell_type": "markdown",
   "metadata": {},
   "source": [
    "Сетевых заведений больше всего у таких типов заведений как:\n",
    "1. **Предприятие быстрого обслуживания**(41.5% доля сетевых из общего количества заведений данного типа)\n",
    "2. **магазин (отдел кулинарии)** (28.7%)\n",
    "3. **ресторан** (23.8%)\n",
    "4. **кафе** (23.1%)"
   ]
  },
  {
   "cell_type": "markdown",
   "metadata": {},
   "source": [
    "### Определение какое из утверждений характерно для сетевых заведений: много заведений с небольшим числом посадочных мест в каждом или мало заведений с большим количеством посадочных мест?"
   ]
  },
  {
   "cell_type": "code",
   "execution_count": 25,
   "metadata": {
    "scrolled": true
   },
   "outputs": [
    {
     "data": {
      "text/html": [
       "<div>\n",
       "<style scoped>\n",
       "    .dataframe tbody tr th:only-of-type {\n",
       "        vertical-align: middle;\n",
       "    }\n",
       "\n",
       "    .dataframe tbody tr th {\n",
       "        vertical-align: top;\n",
       "    }\n",
       "\n",
       "    .dataframe thead th {\n",
       "        text-align: right;\n",
       "    }\n",
       "</style>\n",
       "<table border=\"1\" class=\"dataframe\">\n",
       "  <thead>\n",
       "    <tr style=\"text-align: right;\">\n",
       "      <th></th>\n",
       "      <th>id</th>\n",
       "      <th>object_name</th>\n",
       "      <th>object_type</th>\n",
       "      <th>number</th>\n",
       "    </tr>\n",
       "  </thead>\n",
       "  <tbody>\n",
       "    <tr>\n",
       "      <th>3</th>\n",
       "      <td>21894</td>\n",
       "      <td>ПИЦЦЕТОРИЯ</td>\n",
       "      <td>кафе</td>\n",
       "      <td>40</td>\n",
       "    </tr>\n",
       "    <tr>\n",
       "      <th>6</th>\n",
       "      <td>148815</td>\n",
       "      <td>Брусника</td>\n",
       "      <td>кафе</td>\n",
       "      <td>10</td>\n",
       "    </tr>\n",
       "    <tr>\n",
       "      <th>13</th>\n",
       "      <td>22579</td>\n",
       "      <td>Алло Пицца</td>\n",
       "      <td>кафе</td>\n",
       "      <td>32</td>\n",
       "    </tr>\n",
       "    <tr>\n",
       "      <th>16</th>\n",
       "      <td>144107</td>\n",
       "      <td>Суши Wok</td>\n",
       "      <td>предприятие быстрого обслуживания</td>\n",
       "      <td>7</td>\n",
       "    </tr>\n",
       "    <tr>\n",
       "      <th>18</th>\n",
       "      <td>58565</td>\n",
       "      <td>Тануки</td>\n",
       "      <td>ресторан</td>\n",
       "      <td>160</td>\n",
       "    </tr>\n",
       "  </tbody>\n",
       "</table>\n",
       "</div>"
      ],
      "text/plain": [
       "        id object_name                        object_type  number\n",
       "3    21894  ПИЦЦЕТОРИЯ                               кафе      40\n",
       "6   148815    Брусника                               кафе      10\n",
       "13   22579  Алло Пицца                               кафе      32\n",
       "16  144107    Суши Wok  предприятие быстрого обслуживания       7\n",
       "18   58565      Тануки                           ресторан     160"
      ]
     },
     "execution_count": 25,
     "metadata": {},
     "output_type": "execute_result"
    }
   ],
   "source": [
    "data_chain = data.query('chain == \"да\"')[['id','object_name', 'object_type', 'number']]\n",
    "data_chain.head()"
   ]
  },
  {
   "cell_type": "code",
   "execution_count": 26,
   "metadata": {},
   "outputs": [
    {
     "data": {
      "text/plain": [
       "count    2951.000000\n",
       "mean       53.011522\n",
       "std        57.204941\n",
       "min         0.000000\n",
       "25%        15.000000\n",
       "50%        40.000000\n",
       "75%        72.000000\n",
       "max       580.000000\n",
       "Name: number, dtype: float64"
      ]
     },
     "execution_count": 26,
     "metadata": {},
     "output_type": "execute_result"
    }
   ],
   "source": [
    "data_chain['number'].describe()"
   ]
  },
  {
   "cell_type": "code",
   "execution_count": 27,
   "metadata": {
    "scrolled": false
   },
   "outputs": [
    {
     "data": {
      "text/html": [
       "<div>\n",
       "<style scoped>\n",
       "    .dataframe tbody tr th:only-of-type {\n",
       "        vertical-align: middle;\n",
       "    }\n",
       "\n",
       "    .dataframe tbody tr th {\n",
       "        vertical-align: top;\n",
       "    }\n",
       "\n",
       "    .dataframe thead th {\n",
       "        text-align: right;\n",
       "    }\n",
       "</style>\n",
       "<table border=\"1\" class=\"dataframe\">\n",
       "  <thead>\n",
       "    <tr style=\"text-align: right;\">\n",
       "      <th></th>\n",
       "      <th>object_name</th>\n",
       "      <th>id</th>\n",
       "      <th>number</th>\n",
       "    </tr>\n",
       "  </thead>\n",
       "  <tbody>\n",
       "    <tr>\n",
       "      <th>0</th>\n",
       "      <td>Beverly Hills Diner</td>\n",
       "      <td>1</td>\n",
       "      <td>88.000000</td>\n",
       "    </tr>\n",
       "    <tr>\n",
       "      <th>1</th>\n",
       "      <td>Bierloga</td>\n",
       "      <td>1</td>\n",
       "      <td>75.000000</td>\n",
       "    </tr>\n",
       "    <tr>\n",
       "      <th>2</th>\n",
       "      <td>Black &amp; White</td>\n",
       "      <td>1</td>\n",
       "      <td>40.000000</td>\n",
       "    </tr>\n",
       "    <tr>\n",
       "      <th>3</th>\n",
       "      <td>Bocconcino</td>\n",
       "      <td>3</td>\n",
       "      <td>66.666667</td>\n",
       "    </tr>\n",
       "    <tr>\n",
       "      <th>4</th>\n",
       "      <td>BooBo</td>\n",
       "      <td>1</td>\n",
       "      <td>46.000000</td>\n",
       "    </tr>\n",
       "    <tr>\n",
       "      <th>...</th>\n",
       "      <td>...</td>\n",
       "      <td>...</td>\n",
       "      <td>...</td>\n",
       "    </tr>\n",
       "    <tr>\n",
       "      <th>719</th>\n",
       "      <td>кафе «Папа Джонс»</td>\n",
       "      <td>1</td>\n",
       "      <td>24.000000</td>\n",
       "    </tr>\n",
       "    <tr>\n",
       "      <th>720</th>\n",
       "      <td>кафе «Старбакс»</td>\n",
       "      <td>2</td>\n",
       "      <td>63.500000</td>\n",
       "    </tr>\n",
       "    <tr>\n",
       "      <th>721</th>\n",
       "      <td>кафе «Шоколадница»</td>\n",
       "      <td>1</td>\n",
       "      <td>50.000000</td>\n",
       "    </tr>\n",
       "    <tr>\n",
       "      <th>722</th>\n",
       "      <td>ресторан «Брудер»</td>\n",
       "      <td>1</td>\n",
       "      <td>86.000000</td>\n",
       "    </tr>\n",
       "    <tr>\n",
       "      <th>723</th>\n",
       "      <td>ресторан «Якитория»</td>\n",
       "      <td>1</td>\n",
       "      <td>124.000000</td>\n",
       "    </tr>\n",
       "  </tbody>\n",
       "</table>\n",
       "<p>724 rows × 3 columns</p>\n",
       "</div>"
      ],
      "text/plain": [
       "             object_name  id      number\n",
       "0    Beverly Hills Diner   1   88.000000\n",
       "1               Bierloga   1   75.000000\n",
       "2          Black & White   1   40.000000\n",
       "3             Bocconcino   3   66.666667\n",
       "4                  BooBo   1   46.000000\n",
       "..                   ...  ..         ...\n",
       "719    кафе «Папа Джонс»   1   24.000000\n",
       "720      кафе «Старбакс»   2   63.500000\n",
       "721   кафе «Шоколадница»   1   50.000000\n",
       "722    ресторан «Брудер»   1   86.000000\n",
       "723  ресторан «Якитория»   1  124.000000\n",
       "\n",
       "[724 rows x 3 columns]"
      ]
     },
     "execution_count": 27,
     "metadata": {},
     "output_type": "execute_result"
    }
   ],
   "source": [
    "chain_seat = pd.pivot_table(data_chain, values=['number', 'id'], index='object_name', aggfunc={'number': 'mean', 'id':'count'}).reset_index()\n",
    "chain_seat"
   ]
  },
  {
   "cell_type": "code",
   "execution_count": 28,
   "metadata": {
    "scrolled": false
   },
   "outputs": [
    {
     "data": {
      "text/plain": [
       "<Figure size 432x432 with 0 Axes>"
      ]
     },
     "metadata": {},
     "output_type": "display_data"
    },
    {
     "data": {
      "image/png": "[encoded data removed]",
      "text/plain": [
       "<Figure size 432x432 with 3 Axes>"
      ]
     },
     "metadata": {
      "needs_background": "light"
     },
     "output_type": "display_data"
    }
   ],
   "source": [
    "plt.figure(figsize=(6, 6))\n",
    "pic=sns.jointplot(x='number', y='id', data=chain_seat).plot_joint(sns.kdeplot,zorder=0,n_levels=5, color='red')\n",
    "pic.fig.suptitle(\"Распределение количества посадочных мест\")\n",
    "pic.fig.tight_layout()\n",
    "pic.ax_joint.set_xlabel('Количество посадочных мест')\n",
    "pic.ax_joint.set_ylabel('Количество заведений')\n",
    "plt.show()"
   ]
  },
  {
   "cell_type": "markdown",
   "metadata": {},
   "source": [
    "Поближе рассмотрим гистограмму распределения посадочных мест по заведениям"
   ]
  },
  {
   "cell_type": "code",
   "execution_count": 29,
   "metadata": {
    "scrolled": true
   },
   "outputs": [
    {
     "data": {
      "image/png": "[encoded data removed]",
      "text/plain": [
       "<Figure size 432x288 with 1 Axes>"
      ]
     },
     "metadata": {
      "needs_background": "light"
     },
     "output_type": "display_data"
    }
   ],
   "source": [
    "pic2 = sns.histplot(chain_seat['number']) \n",
    "pic2.set_title(\"Распределение кол-ва посадочных мест\")\n",
    "pic2.set_xlabel('Количество посадочных мест')\n",
    "pic2.set_ylabel('Количество заведений')\n",
    "plt.show()"
   ]
  },
  {
   "cell_type": "markdown",
   "metadata": {},
   "source": [
    "На графике видно, что сетевых заведений у которых много посадочных мест достаточно мало.\n",
    "\n",
    "В среднем у сетевых заведений 53 посадочных места, медианное значение 40 мест, т.е. половина общего числа всех сетевых заведений имеет меньше 40 посадочных мест. По гистограмме видно, что достаточно много заведений имеют около 20-30 посадочных мест. Из этого делаем вывод, что скорее всего к истине ближе выражение:\n",
    "\n",
    "\"Для сетевых заведений характерно много заведений с небольшим числом посадочных мест в каждом \"."
   ]
  },
  {
   "cell_type": "markdown",
   "metadata": {},
   "source": [
    "### Рассчет для каждого вида объекта общественного питания среднего количества посадочных мест. \n",
    "\n",
    "Какой вид предоставляет в среднем самое большое количество посадочных мест?"
   ]
  },
  {
   "cell_type": "code",
   "execution_count": 30,
   "metadata": {},
   "outputs": [
    {
     "data": {
      "text/html": [
       "<div>\n",
       "<style scoped>\n",
       "    .dataframe tbody tr th:only-of-type {\n",
       "        vertical-align: middle;\n",
       "    }\n",
       "\n",
       "    .dataframe tbody tr th {\n",
       "        vertical-align: top;\n",
       "    }\n",
       "\n",
       "    .dataframe thead th {\n",
       "        text-align: right;\n",
       "    }\n",
       "</style>\n",
       "<table border=\"1\" class=\"dataframe\">\n",
       "  <thead>\n",
       "    <tr style=\"text-align: right;\">\n",
       "      <th></th>\n",
       "      <th>object_type</th>\n",
       "      <th>id</th>\n",
       "      <th>number</th>\n",
       "    </tr>\n",
       "  </thead>\n",
       "  <tbody>\n",
       "    <tr>\n",
       "      <th>8</th>\n",
       "      <td>столовая</td>\n",
       "      <td>2575</td>\n",
       "      <td>103</td>\n",
       "    </tr>\n",
       "    <tr>\n",
       "      <th>7</th>\n",
       "      <td>ресторан</td>\n",
       "      <td>2276</td>\n",
       "      <td>80</td>\n",
       "    </tr>\n",
       "    <tr>\n",
       "      <th>0</th>\n",
       "      <td>бар</td>\n",
       "      <td>853</td>\n",
       "      <td>35</td>\n",
       "    </tr>\n",
       "    <tr>\n",
       "      <th>1</th>\n",
       "      <td>буфет</td>\n",
       "      <td>571</td>\n",
       "      <td>32</td>\n",
       "    </tr>\n",
       "    <tr>\n",
       "      <th>3</th>\n",
       "      <td>кафе</td>\n",
       "      <td>6017</td>\n",
       "      <td>32</td>\n",
       "    </tr>\n",
       "    <tr>\n",
       "      <th>4</th>\n",
       "      <td>кафетерий</td>\n",
       "      <td>393</td>\n",
       "      <td>6</td>\n",
       "    </tr>\n",
       "    <tr>\n",
       "      <th>6</th>\n",
       "      <td>предприятие быстрого обслуживания</td>\n",
       "      <td>1891</td>\n",
       "      <td>6</td>\n",
       "    </tr>\n",
       "    <tr>\n",
       "      <th>2</th>\n",
       "      <td>закусочная</td>\n",
       "      <td>348</td>\n",
       "      <td>0</td>\n",
       "    </tr>\n",
       "    <tr>\n",
       "      <th>5</th>\n",
       "      <td>магазин (отдел кулинарии)</td>\n",
       "      <td>272</td>\n",
       "      <td>0</td>\n",
       "    </tr>\n",
       "  </tbody>\n",
       "</table>\n",
       "</div>"
      ],
      "text/plain": [
       "                         object_type    id  number\n",
       "8                           столовая  2575     103\n",
       "7                           ресторан  2276      80\n",
       "0                                бар   853      35\n",
       "1                              буфет   571      32\n",
       "3                               кафе  6017      32\n",
       "4                          кафетерий   393       6\n",
       "6  предприятие быстрого обслуживания  1891       6\n",
       "2                         закусочная   348       0\n",
       "5          магазин (отдел кулинарии)   272       0"
      ]
     },
     "execution_count": 30,
     "metadata": {},
     "output_type": "execute_result"
    }
   ],
   "source": [
    "type_object_seat = pd.pivot_table(data, values=['number', 'id'], index='object_type', aggfunc={'number': 'median', 'id':'count'}).reset_index()\n",
    "type_object_seat.sort_values('number', ascending =False)"
   ]
  },
  {
   "cell_type": "code",
   "execution_count": 31,
   "metadata": {},
   "outputs": [
    {
     "data": {
      "image/png": "[encoded data removed]",
      "text/plain": [
       "<Figure size 864x360 with 1 Axes>"
      ]
     },
     "metadata": {
      "needs_background": "light"
     },
     "output_type": "display_data"
    }
   ],
   "source": [
    "plt.figure(figsize=(12, 5)) \n",
    "ax = sns.barplot(x= 'object_type',\n",
    "                 y='number',\n",
    "                 data = type_object_seat.sort_values('number', ascending =False),\n",
    "                 palette=\"hls\")\n",
    "ax.set_xticklabels(ax.get_xticklabels(), rotation=25, ha=\"right\")\n",
    "ax.set_title('Медианное количество посадочных мест по типам объектов общественного питания')\n",
    "ax.set(xlabel='Тип объекта', ylabel='Медианное количество мест')\n",
    "\n",
    "for p in ax.patches:\n",
    "    x=p.get_bbox().get_points()[:,0]\n",
    "    y=p.get_bbox().get_points()[1,1]\n",
    "    ax.annotate('{:.0f}'.format(y), (x.mean(), y), \n",
    "            ha='center', va='bottom')\n",
    "plt.show()"
   ]
  },
  {
   "cell_type": "markdown",
   "metadata": {},
   "source": [
    "Медианное количество посадочных мест больше всего у :\n",
    "1. **Столовых** 103,\n",
    "2. **Ресторанов** 80,\n",
    "3. **Бар** 35,\n",
    "4. **Буфет** 32,\n",
    "5. **Кафе** 32"
   ]
  },
  {
   "cell_type": "markdown",
   "metadata": {},
   "source": [
    "### Выделение в отдельный столбец информацию об улице из столбца address ."
   ]
  },
  {
   "cell_type": "code",
   "execution_count": 32,
   "metadata": {
    "scrolled": false
   },
   "outputs": [
    {
     "data": {
      "text/html": [
       "<div>\n",
       "<style scoped>\n",
       "    .dataframe tbody tr th:only-of-type {\n",
       "        vertical-align: middle;\n",
       "    }\n",
       "\n",
       "    .dataframe tbody tr th {\n",
       "        vertical-align: top;\n",
       "    }\n",
       "\n",
       "    .dataframe thead th {\n",
       "        text-align: right;\n",
       "    }\n",
       "</style>\n",
       "<table border=\"1\" class=\"dataframe\">\n",
       "  <thead>\n",
       "    <tr style=\"text-align: right;\">\n",
       "      <th></th>\n",
       "      <th>id</th>\n",
       "      <th>object_name</th>\n",
       "      <th>chain</th>\n",
       "      <th>object_type</th>\n",
       "      <th>address</th>\n",
       "      <th>number</th>\n",
       "      <th>street</th>\n",
       "    </tr>\n",
       "  </thead>\n",
       "  <tbody>\n",
       "    <tr>\n",
       "      <th>0</th>\n",
       "      <td>151635</td>\n",
       "      <td>СМЕТАНА</td>\n",
       "      <td>нет</td>\n",
       "      <td>кафе</td>\n",
       "      <td>город Москва, улица Егора Абакумова, дом 9</td>\n",
       "      <td>48</td>\n",
       "      <td>улица Егора Абакумова</td>\n",
       "    </tr>\n",
       "    <tr>\n",
       "      <th>1</th>\n",
       "      <td>77874</td>\n",
       "      <td>Родник</td>\n",
       "      <td>нет</td>\n",
       "      <td>кафе</td>\n",
       "      <td>город Москва, улица Талалихина, дом 2/1, корпус 1</td>\n",
       "      <td>35</td>\n",
       "      <td>улица Талалихина</td>\n",
       "    </tr>\n",
       "    <tr>\n",
       "      <th>2</th>\n",
       "      <td>24309</td>\n",
       "      <td>Кафе «Академия»</td>\n",
       "      <td>нет</td>\n",
       "      <td>кафе</td>\n",
       "      <td>город Москва, Абельмановская улица, дом 6</td>\n",
       "      <td>95</td>\n",
       "      <td>Абельмановская улица</td>\n",
       "    </tr>\n",
       "    <tr>\n",
       "      <th>3</th>\n",
       "      <td>21894</td>\n",
       "      <td>ПИЦЦЕТОРИЯ</td>\n",
       "      <td>да</td>\n",
       "      <td>кафе</td>\n",
       "      <td>город Москва, Абрамцевская улица, дом 1</td>\n",
       "      <td>40</td>\n",
       "      <td>Абрамцевская улица</td>\n",
       "    </tr>\n",
       "    <tr>\n",
       "      <th>4</th>\n",
       "      <td>119365</td>\n",
       "      <td>Кафе «Вишневая метель»</td>\n",
       "      <td>нет</td>\n",
       "      <td>кафе</td>\n",
       "      <td>город Москва, Абрамцевская улица, дом 9, корпус 1</td>\n",
       "      <td>50</td>\n",
       "      <td>Абрамцевская улица</td>\n",
       "    </tr>\n",
       "    <tr>\n",
       "      <th>...</th>\n",
       "      <td>...</td>\n",
       "      <td>...</td>\n",
       "      <td>...</td>\n",
       "      <td>...</td>\n",
       "      <td>...</td>\n",
       "      <td>...</td>\n",
       "      <td>...</td>\n",
       "    </tr>\n",
       "    <tr>\n",
       "      <th>15359</th>\n",
       "      <td>222077</td>\n",
       "      <td>Кофейня «Шоколадница»</td>\n",
       "      <td>да</td>\n",
       "      <td>кафе</td>\n",
       "      <td>город Москва, Кантемировская улица, дом 47</td>\n",
       "      <td>72</td>\n",
       "      <td>Кантемировская улица</td>\n",
       "    </tr>\n",
       "    <tr>\n",
       "      <th>15360</th>\n",
       "      <td>219759</td>\n",
       "      <td>Шоколадница</td>\n",
       "      <td>да</td>\n",
       "      <td>кафе</td>\n",
       "      <td>город Москва, улица Вавилова, дом 3</td>\n",
       "      <td>36</td>\n",
       "      <td>улица Вавилова</td>\n",
       "    </tr>\n",
       "    <tr>\n",
       "      <th>15361</th>\n",
       "      <td>208537</td>\n",
       "      <td>Шоколадница</td>\n",
       "      <td>да</td>\n",
       "      <td>кафе</td>\n",
       "      <td>город Москва, 3-й Крутицкий переулок, дом 18</td>\n",
       "      <td>50</td>\n",
       "      <td>3-й Крутицкий переулок</td>\n",
       "    </tr>\n",
       "    <tr>\n",
       "      <th>15362</th>\n",
       "      <td>209264</td>\n",
       "      <td>Шоколадница</td>\n",
       "      <td>да</td>\n",
       "      <td>кафе</td>\n",
       "      <td>город Москва, улица Земляной Вал, дом 33</td>\n",
       "      <td>10</td>\n",
       "      <td>улица Земляной Вал</td>\n",
       "    </tr>\n",
       "    <tr>\n",
       "      <th>15364</th>\n",
       "      <td>221900</td>\n",
       "      <td>Шоколадница</td>\n",
       "      <td>да</td>\n",
       "      <td>кафе</td>\n",
       "      <td>город Москва, поселение Московский, Киевское ш...</td>\n",
       "      <td>36</td>\n",
       "      <td>Киевское шоссе</td>\n",
       "    </tr>\n",
       "  </tbody>\n",
       "</table>\n",
       "<p>14802 rows × 7 columns</p>\n",
       "</div>"
      ],
      "text/plain": [
       "           id             object_name chain object_type  \\\n",
       "0      151635                 СМЕТАНА   нет        кафе   \n",
       "1       77874                  Родник   нет        кафе   \n",
       "2       24309         Кафе «Академия»   нет        кафе   \n",
       "3       21894              ПИЦЦЕТОРИЯ    да        кафе   \n",
       "4      119365  Кафе «Вишневая метель»   нет        кафе   \n",
       "...       ...                     ...   ...         ...   \n",
       "15359  222077   Кофейня «Шоколадница»    да        кафе   \n",
       "15360  219759             Шоколадница    да        кафе   \n",
       "15361  208537             Шоколадница    да        кафе   \n",
       "15362  209264             Шоколадница    да        кафе   \n",
       "15364  221900             Шоколадница    да        кафе   \n",
       "\n",
       "                                                 address  number  \\\n",
       "0             город Москва, улица Егора Абакумова, дом 9      48   \n",
       "1      город Москва, улица Талалихина, дом 2/1, корпус 1      35   \n",
       "2              город Москва, Абельмановская улица, дом 6      95   \n",
       "3                город Москва, Абрамцевская улица, дом 1      40   \n",
       "4      город Москва, Абрамцевская улица, дом 9, корпус 1      50   \n",
       "...                                                  ...     ...   \n",
       "15359         город Москва, Кантемировская улица, дом 47      72   \n",
       "15360                город Москва, улица Вавилова, дом 3      36   \n",
       "15361       город Москва, 3-й Крутицкий переулок, дом 18      50   \n",
       "15362           город Москва, улица Земляной Вал, дом 33      10   \n",
       "15364  город Москва, поселение Московский, Киевское ш...      36   \n",
       "\n",
       "                       street  \n",
       "0       улица Егора Абакумова  \n",
       "1            улица Талалихина  \n",
       "2        Абельмановская улица  \n",
       "3          Абрамцевская улица  \n",
       "4          Абрамцевская улица  \n",
       "...                       ...  \n",
       "15359    Кантемировская улица  \n",
       "15360          улица Вавилова  \n",
       "15361  3-й Крутицкий переулок  \n",
       "15362      улица Земляной Вал  \n",
       "15364          Киевское шоссе  \n",
       "\n",
       "[14802 rows x 7 columns]"
      ]
     },
     "execution_count": 32,
     "metadata": {},
     "output_type": "execute_result"
    }
   ],
   "source": [
    "pd.options.mode.chained_assignment = None  # убираем красные окошки\n",
    "\n",
    "\n",
    "street_other = ['улица', 'проспект', 'переулок', 'бульвар',  'шоссе', 'проезд',\n",
    "                'набережная', 'площадь', 'аллея', 'линия', 'квартал']\n",
    "def find_str (address):\n",
    "    for address_part in address.split(', '): # разделяем адреса по знаку запятой с пробелом\n",
    "        for street in street_other: # через цикл ищем нужные части адреса\n",
    "            if address_part.find(street)!= -1: # ищем, где метод find() покажет, что список альтернативных названий \"улицы\" есть в строке\n",
    "                return address_part \n",
    "\n",
    "data['street'] = data['address'].apply(find_str)\n",
    "data = data[~(data['street'].isnull())] # удалим 392 строки, где улицы не указаны \n",
    "data"
   ]
  },
  {
   "cell_type": "markdown",
   "metadata": {},
   "source": [
    "### Топ-10 улиц по количеству объектов общественного питания. \n",
    "\n",
    "И в каких районах Москвы находятся эти улицы."
   ]
  },
  {
   "cell_type": "markdown",
   "metadata": {},
   "source": [
    "Так как новое заведение будет располагаться в Москве и вопрос заказчика касается районов Москвы, логичнее будет удалить другие поселения и города для определения топ-10 улиц по количеству объектов общественного питания (этот вопрос лучше уточнить у заказчика)."
   ]
  },
  {
   "cell_type": "code",
   "execution_count": 33,
   "metadata": {},
   "outputs": [
    {
     "data": {
      "text/html": [
       "<div>\n",
       "<style scoped>\n",
       "    .dataframe tbody tr th:only-of-type {\n",
       "        vertical-align: middle;\n",
       "    }\n",
       "\n",
       "    .dataframe tbody tr th {\n",
       "        vertical-align: top;\n",
       "    }\n",
       "\n",
       "    .dataframe thead th {\n",
       "        text-align: right;\n",
       "    }\n",
       "</style>\n",
       "<table border=\"1\" class=\"dataframe\">\n",
       "  <thead>\n",
       "    <tr style=\"text-align: right;\">\n",
       "      <th></th>\n",
       "      <th>id</th>\n",
       "      <th>object_name</th>\n",
       "      <th>chain</th>\n",
       "      <th>object_type</th>\n",
       "      <th>address</th>\n",
       "      <th>number</th>\n",
       "      <th>street</th>\n",
       "    </tr>\n",
       "  </thead>\n",
       "  <tbody>\n",
       "    <tr>\n",
       "      <th>0</th>\n",
       "      <td>151635</td>\n",
       "      <td>СМЕТАНА</td>\n",
       "      <td>нет</td>\n",
       "      <td>кафе</td>\n",
       "      <td>город Москва, улица Егора Абакумова, дом 9</td>\n",
       "      <td>48</td>\n",
       "      <td>улица Егора Абакумова</td>\n",
       "    </tr>\n",
       "    <tr>\n",
       "      <th>1</th>\n",
       "      <td>77874</td>\n",
       "      <td>Родник</td>\n",
       "      <td>нет</td>\n",
       "      <td>кафе</td>\n",
       "      <td>город Москва, улица Талалихина, дом 2/1, корпус 1</td>\n",
       "      <td>35</td>\n",
       "      <td>улица Талалихина</td>\n",
       "    </tr>\n",
       "    <tr>\n",
       "      <th>2</th>\n",
       "      <td>24309</td>\n",
       "      <td>Кафе «Академия»</td>\n",
       "      <td>нет</td>\n",
       "      <td>кафе</td>\n",
       "      <td>город Москва, Абельмановская улица, дом 6</td>\n",
       "      <td>95</td>\n",
       "      <td>Абельмановская улица</td>\n",
       "    </tr>\n",
       "    <tr>\n",
       "      <th>3</th>\n",
       "      <td>21894</td>\n",
       "      <td>ПИЦЦЕТОРИЯ</td>\n",
       "      <td>да</td>\n",
       "      <td>кафе</td>\n",
       "      <td>город Москва, Абрамцевская улица, дом 1</td>\n",
       "      <td>40</td>\n",
       "      <td>Абрамцевская улица</td>\n",
       "    </tr>\n",
       "    <tr>\n",
       "      <th>4</th>\n",
       "      <td>119365</td>\n",
       "      <td>Кафе «Вишневая метель»</td>\n",
       "      <td>нет</td>\n",
       "      <td>кафе</td>\n",
       "      <td>город Москва, Абрамцевская улица, дом 9, корпус 1</td>\n",
       "      <td>50</td>\n",
       "      <td>Абрамцевская улица</td>\n",
       "    </tr>\n",
       "    <tr>\n",
       "      <th>...</th>\n",
       "      <td>...</td>\n",
       "      <td>...</td>\n",
       "      <td>...</td>\n",
       "      <td>...</td>\n",
       "      <td>...</td>\n",
       "      <td>...</td>\n",
       "      <td>...</td>\n",
       "    </tr>\n",
       "    <tr>\n",
       "      <th>15359</th>\n",
       "      <td>222077</td>\n",
       "      <td>Кофейня «Шоколадница»</td>\n",
       "      <td>да</td>\n",
       "      <td>кафе</td>\n",
       "      <td>город Москва, Кантемировская улица, дом 47</td>\n",
       "      <td>72</td>\n",
       "      <td>Кантемировская улица</td>\n",
       "    </tr>\n",
       "    <tr>\n",
       "      <th>15360</th>\n",
       "      <td>219759</td>\n",
       "      <td>Шоколадница</td>\n",
       "      <td>да</td>\n",
       "      <td>кафе</td>\n",
       "      <td>город Москва, улица Вавилова, дом 3</td>\n",
       "      <td>36</td>\n",
       "      <td>улица Вавилова</td>\n",
       "    </tr>\n",
       "    <tr>\n",
       "      <th>15361</th>\n",
       "      <td>208537</td>\n",
       "      <td>Шоколадница</td>\n",
       "      <td>да</td>\n",
       "      <td>кафе</td>\n",
       "      <td>город Москва, 3-й Крутицкий переулок, дом 18</td>\n",
       "      <td>50</td>\n",
       "      <td>3-й Крутицкий переулок</td>\n",
       "    </tr>\n",
       "    <tr>\n",
       "      <th>15362</th>\n",
       "      <td>209264</td>\n",
       "      <td>Шоколадница</td>\n",
       "      <td>да</td>\n",
       "      <td>кафе</td>\n",
       "      <td>город Москва, улица Земляной Вал, дом 33</td>\n",
       "      <td>10</td>\n",
       "      <td>улица Земляной Вал</td>\n",
       "    </tr>\n",
       "    <tr>\n",
       "      <th>15364</th>\n",
       "      <td>221900</td>\n",
       "      <td>Шоколадница</td>\n",
       "      <td>да</td>\n",
       "      <td>кафе</td>\n",
       "      <td>город Москва, поселение Московский, Киевское ш...</td>\n",
       "      <td>36</td>\n",
       "      <td>Киевское шоссе</td>\n",
       "    </tr>\n",
       "  </tbody>\n",
       "</table>\n",
       "<p>14722 rows × 7 columns</p>\n",
       "</div>"
      ],
      "text/plain": [
       "           id             object_name chain object_type  \\\n",
       "0      151635                 СМЕТАНА   нет        кафе   \n",
       "1       77874                  Родник   нет        кафе   \n",
       "2       24309         Кафе «Академия»   нет        кафе   \n",
       "3       21894              ПИЦЦЕТОРИЯ    да        кафе   \n",
       "4      119365  Кафе «Вишневая метель»   нет        кафе   \n",
       "...       ...                     ...   ...         ...   \n",
       "15359  222077   Кофейня «Шоколадница»    да        кафе   \n",
       "15360  219759             Шоколадница    да        кафе   \n",
       "15361  208537             Шоколадница    да        кафе   \n",
       "15362  209264             Шоколадница    да        кафе   \n",
       "15364  221900             Шоколадница    да        кафе   \n",
       "\n",
       "                                                 address  number  \\\n",
       "0             город Москва, улица Егора Абакумова, дом 9      48   \n",
       "1      город Москва, улица Талалихина, дом 2/1, корпус 1      35   \n",
       "2              город Москва, Абельмановская улица, дом 6      95   \n",
       "3                город Москва, Абрамцевская улица, дом 1      40   \n",
       "4      город Москва, Абрамцевская улица, дом 9, корпус 1      50   \n",
       "...                                                  ...     ...   \n",
       "15359         город Москва, Кантемировская улица, дом 47      72   \n",
       "15360                город Москва, улица Вавилова, дом 3      36   \n",
       "15361       город Москва, 3-й Крутицкий переулок, дом 18      50   \n",
       "15362           город Москва, улица Земляной Вал, дом 33      10   \n",
       "15364  город Москва, поселение Московский, Киевское ш...      36   \n",
       "\n",
       "                       street  \n",
       "0       улица Егора Абакумова  \n",
       "1            улица Талалихина  \n",
       "2        Абельмановская улица  \n",
       "3          Абрамцевская улица  \n",
       "4          Абрамцевская улица  \n",
       "...                       ...  \n",
       "15359    Кантемировская улица  \n",
       "15360          улица Вавилова  \n",
       "15361  3-й Крутицкий переулок  \n",
       "15362      улица Земляной Вал  \n",
       "15364          Киевское шоссе  \n",
       "\n",
       "[14722 rows x 7 columns]"
      ]
     },
     "execution_count": 33,
     "metadata": {},
     "output_type": "execute_result"
    }
   ],
   "source": [
    "data =data[~data.street.str.contains(\"поселение\")]\n",
    "data =data[~data.street.str.contains(\"город\")]\n",
    "data =data[~data.street.str.contains(\"дом\")]\n",
    "data"
   ]
  },
  {
   "cell_type": "code",
   "execution_count": 34,
   "metadata": {},
   "outputs": [
    {
     "data": {
      "text/html": [
       "<div>\n",
       "<style scoped>\n",
       "    .dataframe tbody tr th:only-of-type {\n",
       "        vertical-align: middle;\n",
       "    }\n",
       "\n",
       "    .dataframe tbody tr th {\n",
       "        vertical-align: top;\n",
       "    }\n",
       "\n",
       "    .dataframe thead th {\n",
       "        text-align: right;\n",
       "    }\n",
       "</style>\n",
       "<table border=\"1\" class=\"dataframe\">\n",
       "  <thead>\n",
       "    <tr style=\"text-align: right;\">\n",
       "      <th></th>\n",
       "      <th>street</th>\n",
       "      <th>id</th>\n",
       "    </tr>\n",
       "  </thead>\n",
       "  <tbody>\n",
       "    <tr>\n",
       "      <th>1406</th>\n",
       "      <td>проспект Мира</td>\n",
       "      <td>197</td>\n",
       "    </tr>\n",
       "    <tr>\n",
       "      <th>1001</th>\n",
       "      <td>Профсоюзная улица</td>\n",
       "      <td>181</td>\n",
       "    </tr>\n",
       "    <tr>\n",
       "      <th>678</th>\n",
       "      <td>Ленинградский проспект</td>\n",
       "      <td>172</td>\n",
       "    </tr>\n",
       "    <tr>\n",
       "      <th>985</th>\n",
       "      <td>Пресненская набережная</td>\n",
       "      <td>165</td>\n",
       "    </tr>\n",
       "    <tr>\n",
       "      <th>395</th>\n",
       "      <td>Варшавское шоссе</td>\n",
       "      <td>164</td>\n",
       "    </tr>\n",
       "    <tr>\n",
       "      <th>681</th>\n",
       "      <td>Ленинский проспект</td>\n",
       "      <td>148</td>\n",
       "    </tr>\n",
       "    <tr>\n",
       "      <th>1402</th>\n",
       "      <td>проспект Вернадского</td>\n",
       "      <td>127</td>\n",
       "    </tr>\n",
       "    <tr>\n",
       "      <th>668</th>\n",
       "      <td>Кутузовский проспект</td>\n",
       "      <td>114</td>\n",
       "    </tr>\n",
       "    <tr>\n",
       "      <th>593</th>\n",
       "      <td>Каширское шоссе</td>\n",
       "      <td>110</td>\n",
       "    </tr>\n",
       "    <tr>\n",
       "      <th>600</th>\n",
       "      <td>Кировоградская улица</td>\n",
       "      <td>107</td>\n",
       "    </tr>\n",
       "  </tbody>\n",
       "</table>\n",
       "</div>"
      ],
      "text/plain": [
       "                      street   id\n",
       "1406           проспект Мира  197\n",
       "1001       Профсоюзная улица  181\n",
       "678   Ленинградский проспект  172\n",
       "985   Пресненская набережная  165\n",
       "395         Варшавское шоссе  164\n",
       "681       Ленинский проспект  148\n",
       "1402    проспект Вернадского  127\n",
       "668     Кутузовский проспект  114\n",
       "593          Каширское шоссе  110\n",
       "600     Кировоградская улица  107"
      ]
     },
     "execution_count": 34,
     "metadata": {},
     "output_type": "execute_result"
    }
   ],
   "source": [
    "top10_street = data.pivot_table(index='street', values='id', aggfunc='count').reset_index().sort_values(by='id',ascending=False).head(10)\n",
    "top10_street"
   ]
  },
  {
   "cell_type": "code",
   "execution_count": 35,
   "metadata": {
    "scrolled": false
   },
   "outputs": [
    {
     "data": {
      "image/png": "[encoded data removed]",
      "text/plain": [
       "<Figure size 864x360 with 1 Axes>"
      ]
     },
     "metadata": {
      "needs_background": "light"
     },
     "output_type": "display_data"
    }
   ],
   "source": [
    "plt.figure(figsize=(12, 5)) \n",
    "ax = sns.barplot(x= 'street',\n",
    "                 y='id',\n",
    "                 data = top10_street,\n",
    "                 palette=\"hls\")\n",
    "ax.set_xticklabels(ax.get_xticklabels(), rotation=25, ha=\"right\")\n",
    "ax.set_title('Топ-10 улиц по количеству объектов общественного питания')\n",
    "ax.set(xlabel='Название улицы', ylabel='Количество заведений')\n",
    "ncount = len(type_object_seat)\n",
    "for p in ax.patches:\n",
    "    x=p.get_bbox().get_points()[:,0]\n",
    "    y=p.get_bbox().get_points()[1,1]\n",
    "    ax.annotate('{:.0f}'.format(y), (x.mean(), y), \n",
    "            ha='center', va='bottom')\n",
    "plt.show()"
   ]
  },
  {
   "cell_type": "markdown",
   "metadata": {},
   "source": [
    "Для определения района воспользуемся открытой информацией с портала открытых данных правительства Москвы (данные заранее урезаны до двух столбцов)."
   ]
  },
  {
   "cell_type": "code",
   "execution_count": 36,
   "metadata": {},
   "outputs": [
    {
     "data": {
      "text/html": [
       "<div>\n",
       "<style scoped>\n",
       "    .dataframe tbody tr th:only-of-type {\n",
       "        vertical-align: middle;\n",
       "    }\n",
       "\n",
       "    .dataframe tbody tr th {\n",
       "        vertical-align: top;\n",
       "    }\n",
       "\n",
       "    .dataframe thead th {\n",
       "        text-align: right;\n",
       "    }\n",
       "</style>\n",
       "<table border=\"1\" class=\"dataframe\">\n",
       "  <thead>\n",
       "    <tr style=\"text-align: right;\">\n",
       "      <th></th>\n",
       "      <th>district</th>\n",
       "      <th>address</th>\n",
       "    </tr>\n",
       "  </thead>\n",
       "  <tbody>\n",
       "    <tr>\n",
       "      <th>0</th>\n",
       "      <td>Ярославский район</td>\n",
       "      <td>город Москва, улица Егора Абакумова, дом 9</td>\n",
       "    </tr>\n",
       "    <tr>\n",
       "      <th>1</th>\n",
       "      <td>Таганский район</td>\n",
       "      <td>город Москва, улица Талалихина, дом 2/1, корпус 1</td>\n",
       "    </tr>\n",
       "    <tr>\n",
       "      <th>2</th>\n",
       "      <td>Таганский район</td>\n",
       "      <td>Российская Федерация, город Москва, внутригоро...</td>\n",
       "    </tr>\n",
       "    <tr>\n",
       "      <th>3</th>\n",
       "      <td>район Лианозово</td>\n",
       "      <td>город Москва, Угличская улица, дом 17</td>\n",
       "    </tr>\n",
       "    <tr>\n",
       "      <th>4</th>\n",
       "      <td>район Арбат</td>\n",
       "      <td>город Москва, переулок Сивцев Вражек, дом 6/2</td>\n",
       "    </tr>\n",
       "  </tbody>\n",
       "</table>\n",
       "</div>"
      ],
      "text/plain": [
       "            district                                            address\n",
       "0  Ярославский район         город Москва, улица Егора Абакумова, дом 9\n",
       "1    Таганский район  город Москва, улица Талалихина, дом 2/1, корпус 1\n",
       "2    Таганский район  Российская Федерация, город Москва, внутригоро...\n",
       "3    район Лианозово              город Москва, Угличская улица, дом 17\n",
       "4        район Арбат      город Москва, переулок Сивцев Вражек, дом 6/2"
      ]
     },
     "execution_count": 36,
     "metadata": {},
     "output_type": "execute_result"
    }
   ],
   "source": [
    "from io import BytesIO\n",
    "import requests\n",
    "spreadsheet_id = '1o4uAr2yJrIXXorGY-xlYYAIvd_W_EmgR-mMHLtDFlrY'\n",
    "file_name = 'https://docs.google.com/spreadsheets/d/{}/export?format=csv'.format(spreadsheet_id)\n",
    "r = requests.get(file_name)\n",
    "df_district = pd.read_csv(BytesIO(r.content))\n",
    "df_district.head()"
   ]
  },
  {
   "cell_type": "code",
   "execution_count": 37,
   "metadata": {},
   "outputs": [
    {
     "data": {
      "text/html": [
       "<div>\n",
       "<style scoped>\n",
       "    .dataframe tbody tr th:only-of-type {\n",
       "        vertical-align: middle;\n",
       "    }\n",
       "\n",
       "    .dataframe tbody tr th {\n",
       "        vertical-align: top;\n",
       "    }\n",
       "\n",
       "    .dataframe thead th {\n",
       "        text-align: right;\n",
       "    }\n",
       "</style>\n",
       "<table border=\"1\" class=\"dataframe\">\n",
       "  <thead>\n",
       "    <tr style=\"text-align: right;\">\n",
       "      <th></th>\n",
       "      <th>id</th>\n",
       "      <th>object_name</th>\n",
       "      <th>chain</th>\n",
       "      <th>object_type</th>\n",
       "      <th>address</th>\n",
       "      <th>number</th>\n",
       "      <th>street</th>\n",
       "      <th>district</th>\n",
       "    </tr>\n",
       "  </thead>\n",
       "  <tbody>\n",
       "    <tr>\n",
       "      <th>0</th>\n",
       "      <td>151635</td>\n",
       "      <td>СМЕТАНА</td>\n",
       "      <td>нет</td>\n",
       "      <td>кафе</td>\n",
       "      <td>город Москва, улица Егора Абакумова, дом 9</td>\n",
       "      <td>48</td>\n",
       "      <td>улица Егора Абакумова</td>\n",
       "      <td>Ярославский район</td>\n",
       "    </tr>\n",
       "    <tr>\n",
       "      <th>1</th>\n",
       "      <td>77874</td>\n",
       "      <td>Родник</td>\n",
       "      <td>нет</td>\n",
       "      <td>кафе</td>\n",
       "      <td>город Москва, улица Талалихина, дом 2/1, корпус 1</td>\n",
       "      <td>35</td>\n",
       "      <td>улица Талалихина</td>\n",
       "      <td>Таганский район</td>\n",
       "    </tr>\n",
       "    <tr>\n",
       "      <th>2</th>\n",
       "      <td>24309</td>\n",
       "      <td>Кафе «Академия»</td>\n",
       "      <td>нет</td>\n",
       "      <td>кафе</td>\n",
       "      <td>город Москва, Абельмановская улица, дом 6</td>\n",
       "      <td>95</td>\n",
       "      <td>Абельмановская улица</td>\n",
       "      <td>NaN</td>\n",
       "    </tr>\n",
       "    <tr>\n",
       "      <th>3</th>\n",
       "      <td>21894</td>\n",
       "      <td>ПИЦЦЕТОРИЯ</td>\n",
       "      <td>да</td>\n",
       "      <td>кафе</td>\n",
       "      <td>город Москва, Абрамцевская улица, дом 1</td>\n",
       "      <td>40</td>\n",
       "      <td>Абрамцевская улица</td>\n",
       "      <td>район Лианозово</td>\n",
       "    </tr>\n",
       "    <tr>\n",
       "      <th>4</th>\n",
       "      <td>21894</td>\n",
       "      <td>ПИЦЦЕТОРИЯ</td>\n",
       "      <td>да</td>\n",
       "      <td>кафе</td>\n",
       "      <td>город Москва, Абрамцевская улица, дом 1</td>\n",
       "      <td>40</td>\n",
       "      <td>Абрамцевская улица</td>\n",
       "      <td>район Лианозово</td>\n",
       "    </tr>\n",
       "    <tr>\n",
       "      <th>...</th>\n",
       "      <td>...</td>\n",
       "      <td>...</td>\n",
       "      <td>...</td>\n",
       "      <td>...</td>\n",
       "      <td>...</td>\n",
       "      <td>...</td>\n",
       "      <td>...</td>\n",
       "      <td>...</td>\n",
       "    </tr>\n",
       "    <tr>\n",
       "      <th>79156</th>\n",
       "      <td>221900</td>\n",
       "      <td>Шоколадница</td>\n",
       "      <td>да</td>\n",
       "      <td>кафе</td>\n",
       "      <td>город Москва, поселение Московский, Киевское ш...</td>\n",
       "      <td>36</td>\n",
       "      <td>Киевское шоссе</td>\n",
       "      <td>поселение Московский</td>\n",
       "    </tr>\n",
       "    <tr>\n",
       "      <th>79157</th>\n",
       "      <td>221900</td>\n",
       "      <td>Шоколадница</td>\n",
       "      <td>да</td>\n",
       "      <td>кафе</td>\n",
       "      <td>город Москва, поселение Московский, Киевское ш...</td>\n",
       "      <td>36</td>\n",
       "      <td>Киевское шоссе</td>\n",
       "      <td>поселение Московский</td>\n",
       "    </tr>\n",
       "    <tr>\n",
       "      <th>79158</th>\n",
       "      <td>221900</td>\n",
       "      <td>Шоколадница</td>\n",
       "      <td>да</td>\n",
       "      <td>кафе</td>\n",
       "      <td>город Москва, поселение Московский, Киевское ш...</td>\n",
       "      <td>36</td>\n",
       "      <td>Киевское шоссе</td>\n",
       "      <td>поселение Московский</td>\n",
       "    </tr>\n",
       "    <tr>\n",
       "      <th>79159</th>\n",
       "      <td>221900</td>\n",
       "      <td>Шоколадница</td>\n",
       "      <td>да</td>\n",
       "      <td>кафе</td>\n",
       "      <td>город Москва, поселение Московский, Киевское ш...</td>\n",
       "      <td>36</td>\n",
       "      <td>Киевское шоссе</td>\n",
       "      <td>поселение Московский</td>\n",
       "    </tr>\n",
       "    <tr>\n",
       "      <th>79160</th>\n",
       "      <td>221900</td>\n",
       "      <td>Шоколадница</td>\n",
       "      <td>да</td>\n",
       "      <td>кафе</td>\n",
       "      <td>город Москва, поселение Московский, Киевское ш...</td>\n",
       "      <td>36</td>\n",
       "      <td>Киевское шоссе</td>\n",
       "      <td>поселение Московский</td>\n",
       "    </tr>\n",
       "  </tbody>\n",
       "</table>\n",
       "<p>79161 rows × 8 columns</p>\n",
       "</div>"
      ],
      "text/plain": [
       "           id      object_name chain object_type  \\\n",
       "0      151635          СМЕТАНА   нет        кафе   \n",
       "1       77874           Родник   нет        кафе   \n",
       "2       24309  Кафе «Академия»   нет        кафе   \n",
       "3       21894       ПИЦЦЕТОРИЯ    да        кафе   \n",
       "4       21894       ПИЦЦЕТОРИЯ    да        кафе   \n",
       "...       ...              ...   ...         ...   \n",
       "79156  221900      Шоколадница    да        кафе   \n",
       "79157  221900      Шоколадница    да        кафе   \n",
       "79158  221900      Шоколадница    да        кафе   \n",
       "79159  221900      Шоколадница    да        кафе   \n",
       "79160  221900      Шоколадница    да        кафе   \n",
       "\n",
       "                                                 address  number  \\\n",
       "0             город Москва, улица Егора Абакумова, дом 9      48   \n",
       "1      город Москва, улица Талалихина, дом 2/1, корпус 1      35   \n",
       "2              город Москва, Абельмановская улица, дом 6      95   \n",
       "3                город Москва, Абрамцевская улица, дом 1      40   \n",
       "4                город Москва, Абрамцевская улица, дом 1      40   \n",
       "...                                                  ...     ...   \n",
       "79156  город Москва, поселение Московский, Киевское ш...      36   \n",
       "79157  город Москва, поселение Московский, Киевское ш...      36   \n",
       "79158  город Москва, поселение Московский, Киевское ш...      36   \n",
       "79159  город Москва, поселение Московский, Киевское ш...      36   \n",
       "79160  город Москва, поселение Московский, Киевское ш...      36   \n",
       "\n",
       "                      street              district  \n",
       "0      улица Егора Абакумова     Ярославский район  \n",
       "1           улица Талалихина       Таганский район  \n",
       "2       Абельмановская улица                   NaN  \n",
       "3         Абрамцевская улица       район Лианозово  \n",
       "4         Абрамцевская улица       район Лианозово  \n",
       "...                      ...                   ...  \n",
       "79156         Киевское шоссе  поселение Московский  \n",
       "79157         Киевское шоссе  поселение Московский  \n",
       "79158         Киевское шоссе  поселение Московский  \n",
       "79159         Киевское шоссе  поселение Московский  \n",
       "79160         Киевское шоссе  поселение Московский  \n",
       "\n",
       "[79161 rows x 8 columns]"
      ]
     },
     "execution_count": 37,
     "metadata": {},
     "output_type": "execute_result"
    }
   ],
   "source": [
    "# Соединим наш датасет с датасетом с районами\n",
    "data_with_district = data.merge(df_district, on='address', how='left')\n",
    "data_with_district"
   ]
  },
  {
   "cell_type": "code",
   "execution_count": 38,
   "metadata": {
    "scrolled": true
   },
   "outputs": [
    {
     "data": {
      "text/plain": [
       "64304"
      ]
     },
     "execution_count": 38,
     "metadata": {},
     "output_type": "execute_result"
    }
   ],
   "source": [
    "# Так как число строк заметно увеличилось, определим сколько у нас появилось дубликатов\n",
    "data_with_district.duplicated().sum()"
   ]
  },
  {
   "cell_type": "code",
   "execution_count": 39,
   "metadata": {
    "scrolled": true
   },
   "outputs": [
    {
     "data": {
      "text/plain": [
       "0"
      ]
     },
     "execution_count": 39,
     "metadata": {},
     "output_type": "execute_result"
    }
   ],
   "source": [
    "# Удалим дубликаты \n",
    "data_with_district = data_with_district.drop_duplicates(keep='first')\n",
    "data_with_district.duplicated().sum()"
   ]
  },
  {
   "cell_type": "code",
   "execution_count": 40,
   "metadata": {},
   "outputs": [
    {
     "data": {
      "text/html": [
       "<div>\n",
       "<style scoped>\n",
       "    .dataframe tbody tr th:only-of-type {\n",
       "        vertical-align: middle;\n",
       "    }\n",
       "\n",
       "    .dataframe tbody tr th {\n",
       "        vertical-align: top;\n",
       "    }\n",
       "\n",
       "    .dataframe thead th {\n",
       "        text-align: right;\n",
       "    }\n",
       "</style>\n",
       "<table border=\"1\" class=\"dataframe\">\n",
       "  <thead>\n",
       "    <tr style=\"text-align: right;\">\n",
       "      <th></th>\n",
       "      <th>id</th>\n",
       "      <th>object_name</th>\n",
       "      <th>chain</th>\n",
       "      <th>object_type</th>\n",
       "      <th>address</th>\n",
       "      <th>number</th>\n",
       "      <th>street</th>\n",
       "      <th>district</th>\n",
       "    </tr>\n",
       "  </thead>\n",
       "  <tbody>\n",
       "    <tr>\n",
       "      <th>0</th>\n",
       "      <td>151635</td>\n",
       "      <td>СМЕТАНА</td>\n",
       "      <td>нет</td>\n",
       "      <td>кафе</td>\n",
       "      <td>город Москва, улица Егора Абакумова, дом 9</td>\n",
       "      <td>48</td>\n",
       "      <td>улица Егора Абакумова</td>\n",
       "      <td>Ярославский район</td>\n",
       "    </tr>\n",
       "    <tr>\n",
       "      <th>1</th>\n",
       "      <td>77874</td>\n",
       "      <td>Родник</td>\n",
       "      <td>нет</td>\n",
       "      <td>кафе</td>\n",
       "      <td>город Москва, улица Талалихина, дом 2/1, корпус 1</td>\n",
       "      <td>35</td>\n",
       "      <td>улица Талалихина</td>\n",
       "      <td>Таганский район</td>\n",
       "    </tr>\n",
       "    <tr>\n",
       "      <th>2</th>\n",
       "      <td>24309</td>\n",
       "      <td>Кафе «Академия»</td>\n",
       "      <td>нет</td>\n",
       "      <td>кафе</td>\n",
       "      <td>город Москва, Абельмановская улица, дом 6</td>\n",
       "      <td>95</td>\n",
       "      <td>Абельмановская улица</td>\n",
       "      <td>NaN</td>\n",
       "    </tr>\n",
       "    <tr>\n",
       "      <th>3</th>\n",
       "      <td>21894</td>\n",
       "      <td>ПИЦЦЕТОРИЯ</td>\n",
       "      <td>да</td>\n",
       "      <td>кафе</td>\n",
       "      <td>город Москва, Абрамцевская улица, дом 1</td>\n",
       "      <td>40</td>\n",
       "      <td>Абрамцевская улица</td>\n",
       "      <td>район Лианозово</td>\n",
       "    </tr>\n",
       "    <tr>\n",
       "      <th>5</th>\n",
       "      <td>119365</td>\n",
       "      <td>Кафе «Вишневая метель»</td>\n",
       "      <td>нет</td>\n",
       "      <td>кафе</td>\n",
       "      <td>город Москва, Абрамцевская улица, дом 9, корпус 1</td>\n",
       "      <td>50</td>\n",
       "      <td>Абрамцевская улица</td>\n",
       "      <td>район Лианозово</td>\n",
       "    </tr>\n",
       "    <tr>\n",
       "      <th>...</th>\n",
       "      <td>...</td>\n",
       "      <td>...</td>\n",
       "      <td>...</td>\n",
       "      <td>...</td>\n",
       "      <td>...</td>\n",
       "      <td>...</td>\n",
       "      <td>...</td>\n",
       "      <td>...</td>\n",
       "    </tr>\n",
       "    <tr>\n",
       "      <th>79105</th>\n",
       "      <td>222077</td>\n",
       "      <td>Кофейня «Шоколадница»</td>\n",
       "      <td>да</td>\n",
       "      <td>кафе</td>\n",
       "      <td>город Москва, Кантемировская улица, дом 47</td>\n",
       "      <td>72</td>\n",
       "      <td>Кантемировская улица</td>\n",
       "      <td>район Царицыно</td>\n",
       "    </tr>\n",
       "    <tr>\n",
       "      <th>79112</th>\n",
       "      <td>219759</td>\n",
       "      <td>Шоколадница</td>\n",
       "      <td>да</td>\n",
       "      <td>кафе</td>\n",
       "      <td>город Москва, улица Вавилова, дом 3</td>\n",
       "      <td>36</td>\n",
       "      <td>улица Вавилова</td>\n",
       "      <td>Донской район</td>\n",
       "    </tr>\n",
       "    <tr>\n",
       "      <th>79125</th>\n",
       "      <td>208537</td>\n",
       "      <td>Шоколадница</td>\n",
       "      <td>да</td>\n",
       "      <td>кафе</td>\n",
       "      <td>город Москва, 3-й Крутицкий переулок, дом 18</td>\n",
       "      <td>50</td>\n",
       "      <td>3-й Крутицкий переулок</td>\n",
       "      <td>Таганский район</td>\n",
       "    </tr>\n",
       "    <tr>\n",
       "      <th>79130</th>\n",
       "      <td>209264</td>\n",
       "      <td>Шоколадница</td>\n",
       "      <td>да</td>\n",
       "      <td>кафе</td>\n",
       "      <td>город Москва, улица Земляной Вал, дом 33</td>\n",
       "      <td>10</td>\n",
       "      <td>улица Земляной Вал</td>\n",
       "      <td>Басманный район</td>\n",
       "    </tr>\n",
       "    <tr>\n",
       "      <th>79150</th>\n",
       "      <td>221900</td>\n",
       "      <td>Шоколадница</td>\n",
       "      <td>да</td>\n",
       "      <td>кафе</td>\n",
       "      <td>город Москва, поселение Московский, Киевское ш...</td>\n",
       "      <td>36</td>\n",
       "      <td>Киевское шоссе</td>\n",
       "      <td>поселение Московский</td>\n",
       "    </tr>\n",
       "  </tbody>\n",
       "</table>\n",
       "<p>14857 rows × 8 columns</p>\n",
       "</div>"
      ],
      "text/plain": [
       "           id             object_name chain object_type  \\\n",
       "0      151635                 СМЕТАНА   нет        кафе   \n",
       "1       77874                  Родник   нет        кафе   \n",
       "2       24309         Кафе «Академия»   нет        кафе   \n",
       "3       21894              ПИЦЦЕТОРИЯ    да        кафе   \n",
       "5      119365  Кафе «Вишневая метель»   нет        кафе   \n",
       "...       ...                     ...   ...         ...   \n",
       "79105  222077   Кофейня «Шоколадница»    да        кафе   \n",
       "79112  219759             Шоколадница    да        кафе   \n",
       "79125  208537             Шоколадница    да        кафе   \n",
       "79130  209264             Шоколадница    да        кафе   \n",
       "79150  221900             Шоколадница    да        кафе   \n",
       "\n",
       "                                                 address  number  \\\n",
       "0             город Москва, улица Егора Абакумова, дом 9      48   \n",
       "1      город Москва, улица Талалихина, дом 2/1, корпус 1      35   \n",
       "2              город Москва, Абельмановская улица, дом 6      95   \n",
       "3                город Москва, Абрамцевская улица, дом 1      40   \n",
       "5      город Москва, Абрамцевская улица, дом 9, корпус 1      50   \n",
       "...                                                  ...     ...   \n",
       "79105         город Москва, Кантемировская улица, дом 47      72   \n",
       "79112                город Москва, улица Вавилова, дом 3      36   \n",
       "79125       город Москва, 3-й Крутицкий переулок, дом 18      50   \n",
       "79130           город Москва, улица Земляной Вал, дом 33      10   \n",
       "79150  город Москва, поселение Московский, Киевское ш...      36   \n",
       "\n",
       "                       street              district  \n",
       "0       улица Егора Абакумова     Ярославский район  \n",
       "1            улица Талалихина       Таганский район  \n",
       "2        Абельмановская улица                   NaN  \n",
       "3          Абрамцевская улица       район Лианозово  \n",
       "5          Абрамцевская улица       район Лианозово  \n",
       "...                       ...                   ...  \n",
       "79105    Кантемировская улица        район Царицыно  \n",
       "79112          улица Вавилова         Донской район  \n",
       "79125  3-й Крутицкий переулок       Таганский район  \n",
       "79130      улица Земляной Вал       Басманный район  \n",
       "79150          Киевское шоссе  поселение Московский  \n",
       "\n",
       "[14857 rows x 8 columns]"
      ]
     },
     "execution_count": 40,
     "metadata": {},
     "output_type": "execute_result"
    }
   ],
   "source": [
    "# Посмотрим на результаты нашего труда\n",
    "data_with_district"
   ]
  },
  {
   "cell_type": "code",
   "execution_count": 42,
   "metadata": {
    "scrolled": false
   },
   "outputs": [
    {
     "data": {
      "text/html": [
       "<div>\n",
       "<style scoped>\n",
       "    .dataframe tbody tr th:only-of-type {\n",
       "        vertical-align: middle;\n",
       "    }\n",
       "\n",
       "    .dataframe tbody tr th {\n",
       "        vertical-align: top;\n",
       "    }\n",
       "\n",
       "    .dataframe thead th {\n",
       "        text-align: right;\n",
       "    }\n",
       "</style>\n",
       "<table border=\"1\" class=\"dataframe\">\n",
       "  <thead>\n",
       "    <tr style=\"text-align: right;\">\n",
       "      <th></th>\n",
       "      <th>street</th>\n",
       "      <th>id</th>\n",
       "      <th>district</th>\n",
       "    </tr>\n",
       "  </thead>\n",
       "  <tbody>\n",
       "    <tr>\n",
       "      <th>0</th>\n",
       "      <td>проспект Мира</td>\n",
       "      <td>197</td>\n",
       "      <td>Мещанский район</td>\n",
       "    </tr>\n",
       "    <tr>\n",
       "      <th>5</th>\n",
       "      <td>проспект Мира</td>\n",
       "      <td>197</td>\n",
       "      <td>NaN</td>\n",
       "    </tr>\n",
       "    <tr>\n",
       "      <th>16</th>\n",
       "      <td>проспект Мира</td>\n",
       "      <td>197</td>\n",
       "      <td>Останкинский район</td>\n",
       "    </tr>\n",
       "    <tr>\n",
       "      <th>20</th>\n",
       "      <td>проспект Мира</td>\n",
       "      <td>197</td>\n",
       "      <td>Алексеевский район</td>\n",
       "    </tr>\n",
       "    <tr>\n",
       "      <th>37</th>\n",
       "      <td>проспект Мира</td>\n",
       "      <td>197</td>\n",
       "      <td>район Ростокино</td>\n",
       "    </tr>\n",
       "    <tr>\n",
       "      <th>79</th>\n",
       "      <td>проспект Мира</td>\n",
       "      <td>197</td>\n",
       "      <td>район Свиблово</td>\n",
       "    </tr>\n",
       "    <tr>\n",
       "      <th>197</th>\n",
       "      <td>Профсоюзная улица</td>\n",
       "      <td>181</td>\n",
       "      <td>NaN</td>\n",
       "    </tr>\n",
       "    <tr>\n",
       "      <th>199</th>\n",
       "      <td>Профсоюзная улица</td>\n",
       "      <td>181</td>\n",
       "      <td>Академический район</td>\n",
       "    </tr>\n",
       "    <tr>\n",
       "      <th>205</th>\n",
       "      <td>Профсоюзная улица</td>\n",
       "      <td>181</td>\n",
       "      <td>район Черёмушки</td>\n",
       "    </tr>\n",
       "    <tr>\n",
       "      <th>210</th>\n",
       "      <td>Профсоюзная улица</td>\n",
       "      <td>181</td>\n",
       "      <td>район Тёплый Стан</td>\n",
       "    </tr>\n",
       "    <tr>\n",
       "      <th>215</th>\n",
       "      <td>Профсоюзная улица</td>\n",
       "      <td>181</td>\n",
       "      <td>район Коньково</td>\n",
       "    </tr>\n",
       "    <tr>\n",
       "      <th>237</th>\n",
       "      <td>Профсоюзная улица</td>\n",
       "      <td>181</td>\n",
       "      <td>Обручевский район</td>\n",
       "    </tr>\n",
       "    <tr>\n",
       "      <th>271</th>\n",
       "      <td>Профсоюзная улица</td>\n",
       "      <td>181</td>\n",
       "      <td>район Ясенево</td>\n",
       "    </tr>\n",
       "    <tr>\n",
       "      <th>378</th>\n",
       "      <td>Ленинградский проспект</td>\n",
       "      <td>172</td>\n",
       "      <td>район Беговой</td>\n",
       "    </tr>\n",
       "    <tr>\n",
       "      <th>388</th>\n",
       "      <td>Ленинградский проспект</td>\n",
       "      <td>172</td>\n",
       "      <td>район Аэропорт</td>\n",
       "    </tr>\n",
       "    <tr>\n",
       "      <th>402</th>\n",
       "      <td>Ленинградский проспект</td>\n",
       "      <td>172</td>\n",
       "      <td>NaN</td>\n",
       "    </tr>\n",
       "    <tr>\n",
       "      <th>405</th>\n",
       "      <td>Ленинградский проспект</td>\n",
       "      <td>172</td>\n",
       "      <td>район Сокол</td>\n",
       "    </tr>\n",
       "    <tr>\n",
       "      <th>416</th>\n",
       "      <td>Ленинградский проспект</td>\n",
       "      <td>172</td>\n",
       "      <td>Хорошёвский район</td>\n",
       "    </tr>\n",
       "    <tr>\n",
       "      <th>550</th>\n",
       "      <td>Пресненская набережная</td>\n",
       "      <td>165</td>\n",
       "      <td>Пресненский район</td>\n",
       "    </tr>\n",
       "    <tr>\n",
       "      <th>715</th>\n",
       "      <td>Варшавское шоссе</td>\n",
       "      <td>164</td>\n",
       "      <td>NaN</td>\n",
       "    </tr>\n",
       "    <tr>\n",
       "      <th>716</th>\n",
       "      <td>Варшавское шоссе</td>\n",
       "      <td>164</td>\n",
       "      <td>Донской район</td>\n",
       "    </tr>\n",
       "    <tr>\n",
       "      <th>718</th>\n",
       "      <td>Варшавское шоссе</td>\n",
       "      <td>164</td>\n",
       "      <td>Нагорный район</td>\n",
       "    </tr>\n",
       "    <tr>\n",
       "      <th>720</th>\n",
       "      <td>Варшавское шоссе</td>\n",
       "      <td>164</td>\n",
       "      <td>район Чертаново Южное</td>\n",
       "    </tr>\n",
       "    <tr>\n",
       "      <th>731</th>\n",
       "      <td>Варшавское шоссе</td>\n",
       "      <td>164</td>\n",
       "      <td>район Чертаново Центральное</td>\n",
       "    </tr>\n",
       "    <tr>\n",
       "      <th>733</th>\n",
       "      <td>Варшавское шоссе</td>\n",
       "      <td>164</td>\n",
       "      <td>район Чертаново Северное</td>\n",
       "    </tr>\n",
       "    <tr>\n",
       "      <th>735</th>\n",
       "      <td>Варшавское шоссе</td>\n",
       "      <td>164</td>\n",
       "      <td>район Нагатино-Садовники</td>\n",
       "    </tr>\n",
       "    <tr>\n",
       "      <th>740</th>\n",
       "      <td>Варшавское шоссе</td>\n",
       "      <td>164</td>\n",
       "      <td>район Южное Бутово</td>\n",
       "    </tr>\n",
       "    <tr>\n",
       "      <th>793</th>\n",
       "      <td>Варшавское шоссе</td>\n",
       "      <td>164</td>\n",
       "      <td>поселение Воскресенское</td>\n",
       "    </tr>\n",
       "    <tr>\n",
       "      <th>794</th>\n",
       "      <td>Варшавское шоссе</td>\n",
       "      <td>164</td>\n",
       "      <td>поселение Щербинка</td>\n",
       "    </tr>\n",
       "    <tr>\n",
       "      <th>879</th>\n",
       "      <td>Ленинский проспект</td>\n",
       "      <td>148</td>\n",
       "      <td>район Якиманка</td>\n",
       "    </tr>\n",
       "    <tr>\n",
       "      <th>882</th>\n",
       "      <td>Ленинский проспект</td>\n",
       "      <td>148</td>\n",
       "      <td>Донской район</td>\n",
       "    </tr>\n",
       "    <tr>\n",
       "      <th>883</th>\n",
       "      <td>Ленинский проспект</td>\n",
       "      <td>148</td>\n",
       "      <td>Гагаринский район</td>\n",
       "    </tr>\n",
       "    <tr>\n",
       "      <th>899</th>\n",
       "      <td>Ленинский проспект</td>\n",
       "      <td>148</td>\n",
       "      <td>Ломоносовский район</td>\n",
       "    </tr>\n",
       "    <tr>\n",
       "      <th>903</th>\n",
       "      <td>Ленинский проспект</td>\n",
       "      <td>148</td>\n",
       "      <td>Обручевский район</td>\n",
       "    </tr>\n",
       "    <tr>\n",
       "      <th>905</th>\n",
       "      <td>Ленинский проспект</td>\n",
       "      <td>148</td>\n",
       "      <td>район Тропарёво-Никулино</td>\n",
       "    </tr>\n",
       "    <tr>\n",
       "      <th>906</th>\n",
       "      <td>Ленинский проспект</td>\n",
       "      <td>148</td>\n",
       "      <td>NaN</td>\n",
       "    </tr>\n",
       "    <tr>\n",
       "      <th>929</th>\n",
       "      <td>Ленинский проспект</td>\n",
       "      <td>148</td>\n",
       "      <td>район Тёплый Стан</td>\n",
       "    </tr>\n",
       "    <tr>\n",
       "      <th>930</th>\n",
       "      <td>Ленинский проспект</td>\n",
       "      <td>148</td>\n",
       "      <td>район Проспект Вернадского</td>\n",
       "    </tr>\n",
       "    <tr>\n",
       "      <th>1027</th>\n",
       "      <td>проспект Вернадского</td>\n",
       "      <td>127</td>\n",
       "      <td>NaN</td>\n",
       "    </tr>\n",
       "    <tr>\n",
       "      <th>1028</th>\n",
       "      <td>проспект Вернадского</td>\n",
       "      <td>127</td>\n",
       "      <td>Ломоносовский район</td>\n",
       "    </tr>\n",
       "    <tr>\n",
       "      <th>1035</th>\n",
       "      <td>проспект Вернадского</td>\n",
       "      <td>127</td>\n",
       "      <td>район Тропарёво-Никулино</td>\n",
       "    </tr>\n",
       "    <tr>\n",
       "      <th>1051</th>\n",
       "      <td>проспект Вернадского</td>\n",
       "      <td>127</td>\n",
       "      <td>район Проспект Вернадского</td>\n",
       "    </tr>\n",
       "    <tr>\n",
       "      <th>1067</th>\n",
       "      <td>проспект Вернадского</td>\n",
       "      <td>127</td>\n",
       "      <td>поселение Вороновское</td>\n",
       "    </tr>\n",
       "    <tr>\n",
       "      <th>1082</th>\n",
       "      <td>проспект Вернадского</td>\n",
       "      <td>127</td>\n",
       "      <td>район Раменки</td>\n",
       "    </tr>\n",
       "    <tr>\n",
       "      <th>1154</th>\n",
       "      <td>Кутузовский проспект</td>\n",
       "      <td>114</td>\n",
       "      <td>NaN</td>\n",
       "    </tr>\n",
       "    <tr>\n",
       "      <th>1155</th>\n",
       "      <td>Кутузовский проспект</td>\n",
       "      <td>114</td>\n",
       "      <td>район Дорогомилово</td>\n",
       "    </tr>\n",
       "    <tr>\n",
       "      <th>1168</th>\n",
       "      <td>Кутузовский проспект</td>\n",
       "      <td>114</td>\n",
       "      <td>район Фили-Давыдково</td>\n",
       "    </tr>\n",
       "    <tr>\n",
       "      <th>1218</th>\n",
       "      <td>Кутузовский проспект</td>\n",
       "      <td>114</td>\n",
       "      <td>поселение Краснопахорское</td>\n",
       "    </tr>\n",
       "    <tr>\n",
       "      <th>1319</th>\n",
       "      <td>Каширское шоссе</td>\n",
       "      <td>110</td>\n",
       "      <td>NaN</td>\n",
       "    </tr>\n",
       "    <tr>\n",
       "      <th>1321</th>\n",
       "      <td>Каширское шоссе</td>\n",
       "      <td>110</td>\n",
       "      <td>район Москворечье-Сабурово</td>\n",
       "    </tr>\n",
       "    <tr>\n",
       "      <th>1329</th>\n",
       "      <td>Каширское шоссе</td>\n",
       "      <td>110</td>\n",
       "      <td>район Орехово-Борисово Северное</td>\n",
       "    </tr>\n",
       "    <tr>\n",
       "      <th>1338</th>\n",
       "      <td>Каширское шоссе</td>\n",
       "      <td>110</td>\n",
       "      <td>район Нагатино-Садовники</td>\n",
       "    </tr>\n",
       "    <tr>\n",
       "      <th>1340</th>\n",
       "      <td>Каширское шоссе</td>\n",
       "      <td>110</td>\n",
       "      <td>район Орехово-Борисово Южное</td>\n",
       "    </tr>\n",
       "    <tr>\n",
       "      <th>1429</th>\n",
       "      <td>Кировоградская улица</td>\n",
       "      <td>107</td>\n",
       "      <td>район Чертаново Центральное</td>\n",
       "    </tr>\n",
       "    <tr>\n",
       "      <th>1431</th>\n",
       "      <td>Кировоградская улица</td>\n",
       "      <td>107</td>\n",
       "      <td>NaN</td>\n",
       "    </tr>\n",
       "    <tr>\n",
       "      <th>1432</th>\n",
       "      <td>Кировоградская улица</td>\n",
       "      <td>107</td>\n",
       "      <td>район Чертаново Южное</td>\n",
       "    </tr>\n",
       "    <tr>\n",
       "      <th>1437</th>\n",
       "      <td>Кировоградская улица</td>\n",
       "      <td>107</td>\n",
       "      <td>район Чертаново Северное</td>\n",
       "    </tr>\n",
       "  </tbody>\n",
       "</table>\n",
       "</div>"
      ],
      "text/plain": [
       "                      street   id                         district\n",
       "0              проспект Мира  197                  Мещанский район\n",
       "5              проспект Мира  197                              NaN\n",
       "16             проспект Мира  197               Останкинский район\n",
       "20             проспект Мира  197               Алексеевский район\n",
       "37             проспект Мира  197                  район Ростокино\n",
       "79             проспект Мира  197                   район Свиблово\n",
       "197        Профсоюзная улица  181                              NaN\n",
       "199        Профсоюзная улица  181              Академический район\n",
       "205        Профсоюзная улица  181                  район Черёмушки\n",
       "210        Профсоюзная улица  181                район Тёплый Стан\n",
       "215        Профсоюзная улица  181                   район Коньково\n",
       "237        Профсоюзная улица  181                Обручевский район\n",
       "271        Профсоюзная улица  181                    район Ясенево\n",
       "378   Ленинградский проспект  172                    район Беговой\n",
       "388   Ленинградский проспект  172                   район Аэропорт\n",
       "402   Ленинградский проспект  172                              NaN\n",
       "405   Ленинградский проспект  172                      район Сокол\n",
       "416   Ленинградский проспект  172                Хорошёвский район\n",
       "550   Пресненская набережная  165                Пресненский район\n",
       "715         Варшавское шоссе  164                              NaN\n",
       "716         Варшавское шоссе  164                    Донской район\n",
       "718         Варшавское шоссе  164                   Нагорный район\n",
       "720         Варшавское шоссе  164            район Чертаново Южное\n",
       "731         Варшавское шоссе  164      район Чертаново Центральное\n",
       "733         Варшавское шоссе  164         район Чертаново Северное\n",
       "735         Варшавское шоссе  164         район Нагатино-Садовники\n",
       "740         Варшавское шоссе  164               район Южное Бутово\n",
       "793         Варшавское шоссе  164          поселение Воскресенское\n",
       "794         Варшавское шоссе  164               поселение Щербинка\n",
       "879       Ленинский проспект  148                   район Якиманка\n",
       "882       Ленинский проспект  148                    Донской район\n",
       "883       Ленинский проспект  148                Гагаринский район\n",
       "899       Ленинский проспект  148              Ломоносовский район\n",
       "903       Ленинский проспект  148                Обручевский район\n",
       "905       Ленинский проспект  148         район Тропарёво-Никулино\n",
       "906       Ленинский проспект  148                              NaN\n",
       "929       Ленинский проспект  148                район Тёплый Стан\n",
       "930       Ленинский проспект  148       район Проспект Вернадского\n",
       "1027    проспект Вернадского  127                              NaN\n",
       "1028    проспект Вернадского  127              Ломоносовский район\n",
       "1035    проспект Вернадского  127         район Тропарёво-Никулино\n",
       "1051    проспект Вернадского  127       район Проспект Вернадского\n",
       "1067    проспект Вернадского  127            поселение Вороновское\n",
       "1082    проспект Вернадского  127                    район Раменки\n",
       "1154    Кутузовский проспект  114                              NaN\n",
       "1155    Кутузовский проспект  114               район Дорогомилово\n",
       "1168    Кутузовский проспект  114             район Фили-Давыдково\n",
       "1218    Кутузовский проспект  114        поселение Краснопахорское\n",
       "1319         Каширское шоссе  110                              NaN\n",
       "1321         Каширское шоссе  110       район Москворечье-Сабурово\n",
       "1329         Каширское шоссе  110  район Орехово-Борисово Северное\n",
       "1338         Каширское шоссе  110         район Нагатино-Садовники\n",
       "1340         Каширское шоссе  110     район Орехово-Борисово Южное\n",
       "1429    Кировоградская улица  107      район Чертаново Центральное\n",
       "1431    Кировоградская улица  107                              NaN\n",
       "1432    Кировоградская улица  107            район Чертаново Южное\n",
       "1437    Кировоградская улица  107         район Чертаново Северное"
      ]
     },
     "execution_count": 42,
     "metadata": {},
     "output_type": "execute_result"
    }
   ],
   "source": [
    "# Присоединим к нашей изначальной таблице районы и удалим дубликаты\n",
    "top10_street_new = top10_street.merge(data_with_district[['street','district']], on='street', how='left')\n",
    "top10_street_new = top10_street_new.drop_duplicates(keep='first')\n",
    "top10_street_new"
   ]
  },
  {
   "cell_type": "code",
   "execution_count": 43,
   "metadata": {
    "scrolled": false
   },
   "outputs": [
    {
     "data": {
      "text/html": [
       "<div>\n",
       "<style scoped>\n",
       "    .dataframe tbody tr th:only-of-type {\n",
       "        vertical-align: middle;\n",
       "    }\n",
       "\n",
       "    .dataframe tbody tr th {\n",
       "        vertical-align: top;\n",
       "    }\n",
       "\n",
       "    .dataframe thead th {\n",
       "        text-align: right;\n",
       "    }\n",
       "</style>\n",
       "<table border=\"1\" class=\"dataframe\">\n",
       "  <thead>\n",
       "    <tr style=\"text-align: right;\">\n",
       "      <th></th>\n",
       "      <th>street</th>\n",
       "    </tr>\n",
       "    <tr>\n",
       "      <th>district</th>\n",
       "      <th></th>\n",
       "    </tr>\n",
       "  </thead>\n",
       "  <tbody>\n",
       "    <tr>\n",
       "      <th>район Чертаново Северное</th>\n",
       "      <td>2</td>\n",
       "    </tr>\n",
       "    <tr>\n",
       "      <th>Обручевский район</th>\n",
       "      <td>2</td>\n",
       "    </tr>\n",
       "    <tr>\n",
       "      <th>район Проспект Вернадского</th>\n",
       "      <td>2</td>\n",
       "    </tr>\n",
       "    <tr>\n",
       "      <th>район Тропарёво-Никулино</th>\n",
       "      <td>2</td>\n",
       "    </tr>\n",
       "    <tr>\n",
       "      <th>район Тёплый Стан</th>\n",
       "      <td>2</td>\n",
       "    </tr>\n",
       "    <tr>\n",
       "      <th>район Чертаново Центральное</th>\n",
       "      <td>2</td>\n",
       "    </tr>\n",
       "    <tr>\n",
       "      <th>район Чертаново Южное</th>\n",
       "      <td>2</td>\n",
       "    </tr>\n",
       "    <tr>\n",
       "      <th>район Нагатино-Садовники</th>\n",
       "      <td>2</td>\n",
       "    </tr>\n",
       "    <tr>\n",
       "      <th>Ломоносовский район</th>\n",
       "      <td>2</td>\n",
       "    </tr>\n",
       "    <tr>\n",
       "      <th>Донской район</th>\n",
       "      <td>2</td>\n",
       "    </tr>\n",
       "    <tr>\n",
       "      <th>район Черёмушки</th>\n",
       "      <td>1</td>\n",
       "    </tr>\n",
       "    <tr>\n",
       "      <th>район Южное Бутово</th>\n",
       "      <td>1</td>\n",
       "    </tr>\n",
       "    <tr>\n",
       "      <th>район Орехово-Борисово Северное</th>\n",
       "      <td>1</td>\n",
       "    </tr>\n",
       "    <tr>\n",
       "      <th>район Фили-Давыдково</th>\n",
       "      <td>1</td>\n",
       "    </tr>\n",
       "    <tr>\n",
       "      <th>район Сокол</th>\n",
       "      <td>1</td>\n",
       "    </tr>\n",
       "    <tr>\n",
       "      <th>район Свиблово</th>\n",
       "      <td>1</td>\n",
       "    </tr>\n",
       "    <tr>\n",
       "      <th>район Ростокино</th>\n",
       "      <td>1</td>\n",
       "    </tr>\n",
       "    <tr>\n",
       "      <th>район Раменки</th>\n",
       "      <td>1</td>\n",
       "    </tr>\n",
       "    <tr>\n",
       "      <th>район Якиманка</th>\n",
       "      <td>1</td>\n",
       "    </tr>\n",
       "    <tr>\n",
       "      <th>район Орехово-Борисово Южное</th>\n",
       "      <td>1</td>\n",
       "    </tr>\n",
       "    <tr>\n",
       "      <th>Академический район</th>\n",
       "      <td>1</td>\n",
       "    </tr>\n",
       "    <tr>\n",
       "      <th>район Москворечье-Сабурово</th>\n",
       "      <td>1</td>\n",
       "    </tr>\n",
       "    <tr>\n",
       "      <th>Алексеевский район</th>\n",
       "      <td>1</td>\n",
       "    </tr>\n",
       "    <tr>\n",
       "      <th>район Коньково</th>\n",
       "      <td>1</td>\n",
       "    </tr>\n",
       "    <tr>\n",
       "      <th>район Дорогомилово</th>\n",
       "      <td>1</td>\n",
       "    </tr>\n",
       "    <tr>\n",
       "      <th>район Беговой</th>\n",
       "      <td>1</td>\n",
       "    </tr>\n",
       "    <tr>\n",
       "      <th>район Аэропорт</th>\n",
       "      <td>1</td>\n",
       "    </tr>\n",
       "    <tr>\n",
       "      <th>поселение Щербинка</th>\n",
       "      <td>1</td>\n",
       "    </tr>\n",
       "    <tr>\n",
       "      <th>поселение Краснопахорское</th>\n",
       "      <td>1</td>\n",
       "    </tr>\n",
       "    <tr>\n",
       "      <th>поселение Воскресенское</th>\n",
       "      <td>1</td>\n",
       "    </tr>\n",
       "    <tr>\n",
       "      <th>поселение Вороновское</th>\n",
       "      <td>1</td>\n",
       "    </tr>\n",
       "    <tr>\n",
       "      <th>Хорошёвский район</th>\n",
       "      <td>1</td>\n",
       "    </tr>\n",
       "    <tr>\n",
       "      <th>Пресненский район</th>\n",
       "      <td>1</td>\n",
       "    </tr>\n",
       "    <tr>\n",
       "      <th>Останкинский район</th>\n",
       "      <td>1</td>\n",
       "    </tr>\n",
       "    <tr>\n",
       "      <th>Нагорный район</th>\n",
       "      <td>1</td>\n",
       "    </tr>\n",
       "    <tr>\n",
       "      <th>Мещанский район</th>\n",
       "      <td>1</td>\n",
       "    </tr>\n",
       "    <tr>\n",
       "      <th>Гагаринский район</th>\n",
       "      <td>1</td>\n",
       "    </tr>\n",
       "    <tr>\n",
       "      <th>район Ясенево</th>\n",
       "      <td>1</td>\n",
       "    </tr>\n",
       "  </tbody>\n",
       "</table>\n",
       "</div>"
      ],
      "text/plain": [
       "                                 street\n",
       "district                               \n",
       "район Чертаново Северное              2\n",
       "Обручевский район                     2\n",
       "район Проспект Вернадского            2\n",
       "район Тропарёво-Никулино              2\n",
       "район Тёплый Стан                     2\n",
       "район Чертаново Центральное           2\n",
       "район Чертаново Южное                 2\n",
       "район Нагатино-Садовники              2\n",
       "Ломоносовский район                   2\n",
       "Донской район                         2\n",
       "район Черёмушки                       1\n",
       "район Южное Бутово                    1\n",
       "район Орехово-Борисово Северное       1\n",
       "район Фили-Давыдково                  1\n",
       "район Сокол                           1\n",
       "район Свиблово                        1\n",
       "район Ростокино                       1\n",
       "район Раменки                         1\n",
       "район Якиманка                        1\n",
       "район Орехово-Борисово Южное          1\n",
       "Академический район                   1\n",
       "район Москворечье-Сабурово            1\n",
       "Алексеевский район                    1\n",
       "район Коньково                        1\n",
       "район Дорогомилово                    1\n",
       "район Беговой                         1\n",
       "район Аэропорт                        1\n",
       "поселение Щербинка                    1\n",
       "поселение Краснопахорское             1\n",
       "поселение Воскресенское               1\n",
       "поселение Вороновское                 1\n",
       "Хорошёвский район                     1\n",
       "Пресненский район                     1\n",
       "Останкинский район                    1\n",
       "Нагорный район                        1\n",
       "Мещанский район                       1\n",
       "Гагаринский район                     1\n",
       "район Ясенево                         1"
      ]
     },
     "execution_count": 43,
     "metadata": {},
     "output_type": "execute_result"
    }
   ],
   "source": [
    "# В итоге получаем таблицу с районами, в которых находятся, интересующие нас улицы\n",
    "top10_street_new.groupby('district').agg({'street':'count'}).sort_values(by='street',ascending=False)"
   ]
  },
  {
   "cell_type": "code",
   "execution_count": 44,
   "metadata": {},
   "outputs": [
    {
     "data": {
      "text/html": [
       "<div>\n",
       "<style scoped>\n",
       "    .dataframe tbody tr th:only-of-type {\n",
       "        vertical-align: middle;\n",
       "    }\n",
       "\n",
       "    .dataframe tbody tr th {\n",
       "        vertical-align: top;\n",
       "    }\n",
       "\n",
       "    .dataframe thead th {\n",
       "        text-align: right;\n",
       "    }\n",
       "</style>\n",
       "<table border=\"1\" class=\"dataframe\">\n",
       "  <thead>\n",
       "    <tr style=\"text-align: right;\">\n",
       "      <th></th>\n",
       "      <th>district</th>\n",
       "      <th>id</th>\n",
       "    </tr>\n",
       "    <tr>\n",
       "      <th>street</th>\n",
       "      <th></th>\n",
       "      <th></th>\n",
       "    </tr>\n",
       "  </thead>\n",
       "  <tbody>\n",
       "    <tr>\n",
       "      <th>проспект Мира</th>\n",
       "      <td>5</td>\n",
       "      <td>197</td>\n",
       "    </tr>\n",
       "    <tr>\n",
       "      <th>Профсоюзная улица</th>\n",
       "      <td>6</td>\n",
       "      <td>181</td>\n",
       "    </tr>\n",
       "    <tr>\n",
       "      <th>Ленинградский проспект</th>\n",
       "      <td>4</td>\n",
       "      <td>172</td>\n",
       "    </tr>\n",
       "    <tr>\n",
       "      <th>Пресненская набережная</th>\n",
       "      <td>1</td>\n",
       "      <td>165</td>\n",
       "    </tr>\n",
       "    <tr>\n",
       "      <th>Варшавское шоссе</th>\n",
       "      <td>9</td>\n",
       "      <td>164</td>\n",
       "    </tr>\n",
       "    <tr>\n",
       "      <th>Ленинский проспект</th>\n",
       "      <td>8</td>\n",
       "      <td>148</td>\n",
       "    </tr>\n",
       "    <tr>\n",
       "      <th>проспект Вернадского</th>\n",
       "      <td>5</td>\n",
       "      <td>127</td>\n",
       "    </tr>\n",
       "    <tr>\n",
       "      <th>Кутузовский проспект</th>\n",
       "      <td>3</td>\n",
       "      <td>114</td>\n",
       "    </tr>\n",
       "    <tr>\n",
       "      <th>Каширское шоссе</th>\n",
       "      <td>4</td>\n",
       "      <td>110</td>\n",
       "    </tr>\n",
       "    <tr>\n",
       "      <th>Кировоградская улица</th>\n",
       "      <td>3</td>\n",
       "      <td>107</td>\n",
       "    </tr>\n",
       "  </tbody>\n",
       "</table>\n",
       "</div>"
      ],
      "text/plain": [
       "                        district   id\n",
       "street                               \n",
       "проспект Мира                  5  197\n",
       "Профсоюзная улица              6  181\n",
       "Ленинградский проспект         4  172\n",
       "Пресненская набережная         1  165\n",
       "Варшавское шоссе               9  164\n",
       "Ленинский проспект             8  148\n",
       "проспект Вернадского           5  127\n",
       "Кутузовский проспект           3  114\n",
       "Каширское шоссе                4  110\n",
       "Кировоградская улица           3  107"
      ]
     },
     "execution_count": 44,
     "metadata": {},
     "output_type": "execute_result"
    }
   ],
   "source": [
    "# Добавим информацию сколько районов пересекает каждая улица и количество заведений на ней.\n",
    "top10_street_new.pivot_table(index='street', values=['id', 'district'], aggfunc={'id': 'mean','district':'count'}).sort_values(by='id', ascending=False)"
   ]
  },
  {
   "cell_type": "markdown",
   "metadata": {},
   "source": [
    "Список улиц по количеству заведений и районов:\n",
    "\n",
    "Улица\t| Количество пересекаемых районов | Количество заведений\n",
    "--------|-|-----------\n",
    "проспект Мира | 5\t| 197\n",
    "Профсоюзная улица | 6  | 181\n",
    "Ленинградский проспект | 4\t| 172\n",
    "Пресненская набережная | 1\t| 165\n",
    "Варшавское шоссе | 9\t| 164\n",
    "Ленинский проспект | 8\t| 148\n",
    "проспект Вернадского | 5\t| 127\n",
    "Кутузовский проспект | 3\t| 114\n",
    "Каширское шоссе\t|  4 | 110\n",
    "Кировоградская улица | 3\t| 107\n",
    "\n",
    "ТОП-10 районов, где расположены данные улицы:\n",
    "\n",
    "* район Чертаново Северное\t\n",
    "* Обручевский район\t\n",
    "* район Проспект Вернадского\t\n",
    "* район Тропарёво-Никулино\t\n",
    "* район Тёплый Стан\t\n",
    "* район Чертаново Центральное\n",
    "* район Чертаново Южное\t\n",
    "* район Нагатино-Садовники\t\n",
    "* Ломоносовский район\t\n",
    "* Донской район\n",
    "\n",
    "По количеству районов, которые пересекают данные улицы можно сказать, что улицы имеют большую протяженность, также скорее всего у них высокая проходимость, этим обусловлено большое число заведений и соответственно попадание данных улиц в топ по количеству заведений. \n",
    "\n",
    "Также большинство популярных районов (все) расположено между третьим транспортным кольцом и московской кольцевой автомобильной дорогой на юге, юго-западе и юго-востоке от центра Москвы."
   ]
  },
  {
   "cell_type": "markdown",
   "metadata": {},
   "source": [
    "### Определение числа улиц с одним объектом общественного питания. \n",
    "\n",
    "И в каких районах Москвы находятся эти улицы."
   ]
  },
  {
   "cell_type": "code",
   "execution_count": 45,
   "metadata": {},
   "outputs": [
    {
     "data": {
      "text/html": [
       "<div>\n",
       "<style scoped>\n",
       "    .dataframe tbody tr th:only-of-type {\n",
       "        vertical-align: middle;\n",
       "    }\n",
       "\n",
       "    .dataframe tbody tr th {\n",
       "        vertical-align: top;\n",
       "    }\n",
       "\n",
       "    .dataframe thead th {\n",
       "        text-align: right;\n",
       "    }\n",
       "</style>\n",
       "<table border=\"1\" class=\"dataframe\">\n",
       "  <thead>\n",
       "    <tr style=\"text-align: right;\">\n",
       "      <th></th>\n",
       "      <th>street</th>\n",
       "      <th>id</th>\n",
       "    </tr>\n",
       "  </thead>\n",
       "  <tbody>\n",
       "    <tr>\n",
       "      <th>39</th>\n",
       "      <td>1-й Спасоналивковский переулок</td>\n",
       "      <td>1</td>\n",
       "    </tr>\n",
       "    <tr>\n",
       "      <th>45</th>\n",
       "      <td>1-й проезд Марьиной Рощи</td>\n",
       "      <td>1</td>\n",
       "    </tr>\n",
       "    <tr>\n",
       "      <th>42</th>\n",
       "      <td>1-й Тушинский проезд</td>\n",
       "      <td>1</td>\n",
       "    </tr>\n",
       "    <tr>\n",
       "      <th>35</th>\n",
       "      <td>1-й Саратовский проезд</td>\n",
       "      <td>1</td>\n",
       "    </tr>\n",
       "    <tr>\n",
       "      <th>36</th>\n",
       "      <td>1-й Сельскохозяйственный проезд</td>\n",
       "      <td>1</td>\n",
       "    </tr>\n",
       "    <tr>\n",
       "      <th>...</th>\n",
       "      <td>...</td>\n",
       "      <td>...</td>\n",
       "    </tr>\n",
       "    <tr>\n",
       "      <th>1323</th>\n",
       "      <td>Юрловский проезд</td>\n",
       "      <td>1</td>\n",
       "    </tr>\n",
       "    <tr>\n",
       "      <th>525</th>\n",
       "      <td>Жуков проезд</td>\n",
       "      <td>1</td>\n",
       "    </tr>\n",
       "    <tr>\n",
       "      <th>1328</th>\n",
       "      <td>Якиманский переулок</td>\n",
       "      <td>1</td>\n",
       "    </tr>\n",
       "    <tr>\n",
       "      <th>1330</th>\n",
       "      <td>Ялтинская улица</td>\n",
       "      <td>1</td>\n",
       "    </tr>\n",
       "    <tr>\n",
       "      <th>942</th>\n",
       "      <td>Пестовский переулок</td>\n",
       "      <td>1</td>\n",
       "    </tr>\n",
       "  </tbody>\n",
       "</table>\n",
       "<p>542 rows × 2 columns</p>\n",
       "</div>"
      ],
      "text/plain": [
       "                               street  id\n",
       "39     1-й Спасоналивковский переулок   1\n",
       "45           1-й проезд Марьиной Рощи   1\n",
       "42               1-й Тушинский проезд   1\n",
       "35             1-й Саратовский проезд   1\n",
       "36    1-й Сельскохозяйственный проезд   1\n",
       "...                               ...  ..\n",
       "1323                 Юрловский проезд   1\n",
       "525                      Жуков проезд   1\n",
       "1328              Якиманский переулок   1\n",
       "1330                  Ялтинская улица   1\n",
       "942               Пестовский переулок   1\n",
       "\n",
       "[542 rows x 2 columns]"
      ]
     },
     "execution_count": 45,
     "metadata": {},
     "output_type": "execute_result"
    }
   ],
   "source": [
    "# Создадим список улиц с одним объектом общественного питания\n",
    "one_street = data.pivot_table(index='street', values='id', aggfunc='count').reset_index().sort_values(by='id',ascending=False)\n",
    "one_street = one_street.query('id == 1')\n",
    "one_street"
   ]
  },
  {
   "cell_type": "code",
   "execution_count": 46,
   "metadata": {
    "scrolled": true
   },
   "outputs": [
    {
     "data": {
      "text/html": [
       "<div>\n",
       "<style scoped>\n",
       "    .dataframe tbody tr th:only-of-type {\n",
       "        vertical-align: middle;\n",
       "    }\n",
       "\n",
       "    .dataframe tbody tr th {\n",
       "        vertical-align: top;\n",
       "    }\n",
       "\n",
       "    .dataframe thead th {\n",
       "        text-align: right;\n",
       "    }\n",
       "</style>\n",
       "<table border=\"1\" class=\"dataframe\">\n",
       "  <thead>\n",
       "    <tr style=\"text-align: right;\">\n",
       "      <th></th>\n",
       "      <th>street</th>\n",
       "      <th>id</th>\n",
       "      <th>district</th>\n",
       "    </tr>\n",
       "  </thead>\n",
       "  <tbody>\n",
       "    <tr>\n",
       "      <th>0</th>\n",
       "      <td>1-й Спасоналивковский переулок</td>\n",
       "      <td>1</td>\n",
       "      <td>NaN</td>\n",
       "    </tr>\n",
       "    <tr>\n",
       "      <th>1</th>\n",
       "      <td>1-й проезд Марьиной Рощи</td>\n",
       "      <td>1</td>\n",
       "      <td>район Марьина Роща</td>\n",
       "    </tr>\n",
       "    <tr>\n",
       "      <th>2</th>\n",
       "      <td>1-й Тушинский проезд</td>\n",
       "      <td>1</td>\n",
       "      <td>район Покровское-Стрешнево</td>\n",
       "    </tr>\n",
       "    <tr>\n",
       "      <th>3</th>\n",
       "      <td>1-й Саратовский проезд</td>\n",
       "      <td>1</td>\n",
       "      <td>NaN</td>\n",
       "    </tr>\n",
       "    <tr>\n",
       "      <th>4</th>\n",
       "      <td>1-й Сельскохозяйственный проезд</td>\n",
       "      <td>1</td>\n",
       "      <td>район Ростокино</td>\n",
       "    </tr>\n",
       "    <tr>\n",
       "      <th>...</th>\n",
       "      <td>...</td>\n",
       "      <td>...</td>\n",
       "      <td>...</td>\n",
       "    </tr>\n",
       "    <tr>\n",
       "      <th>537</th>\n",
       "      <td>Юрловский проезд</td>\n",
       "      <td>1</td>\n",
       "      <td>NaN</td>\n",
       "    </tr>\n",
       "    <tr>\n",
       "      <th>538</th>\n",
       "      <td>Жуков проезд</td>\n",
       "      <td>1</td>\n",
       "      <td>NaN</td>\n",
       "    </tr>\n",
       "    <tr>\n",
       "      <th>539</th>\n",
       "      <td>Якиманский переулок</td>\n",
       "      <td>1</td>\n",
       "      <td>район Якиманка</td>\n",
       "    </tr>\n",
       "    <tr>\n",
       "      <th>540</th>\n",
       "      <td>Ялтинская улица</td>\n",
       "      <td>1</td>\n",
       "      <td>NaN</td>\n",
       "    </tr>\n",
       "    <tr>\n",
       "      <th>541</th>\n",
       "      <td>Пестовский переулок</td>\n",
       "      <td>1</td>\n",
       "      <td>Таганский район</td>\n",
       "    </tr>\n",
       "  </tbody>\n",
       "</table>\n",
       "<p>542 rows × 3 columns</p>\n",
       "</div>"
      ],
      "text/plain": [
       "                              street  id                    district\n",
       "0     1-й Спасоналивковский переулок   1                         NaN\n",
       "1           1-й проезд Марьиной Рощи   1          район Марьина Роща\n",
       "2               1-й Тушинский проезд   1  район Покровское-Стрешнево\n",
       "3             1-й Саратовский проезд   1                         NaN\n",
       "4    1-й Сельскохозяйственный проезд   1             район Ростокино\n",
       "..                               ...  ..                         ...\n",
       "537                 Юрловский проезд   1                         NaN\n",
       "538                     Жуков проезд   1                         NaN\n",
       "539              Якиманский переулок   1              район Якиманка\n",
       "540                  Ялтинская улица   1                         NaN\n",
       "541              Пестовский переулок   1             Таганский район\n",
       "\n",
       "[542 rows x 3 columns]"
      ]
     },
     "execution_count": 46,
     "metadata": {},
     "output_type": "execute_result"
    }
   ],
   "source": [
    "# Добавим к списку объектов районы, удалим будликаты\n",
    "one_street_district = one_street.merge(data_with_district[['street','district']], on='street', how='left')\n",
    "one_street_district = one_street_district.drop_duplicates(keep='first')\n",
    "one_street_district"
   ]
  },
  {
   "cell_type": "code",
   "execution_count": 47,
   "metadata": {},
   "outputs": [
    {
     "data": {
      "text/plain": [
       "99"
      ]
     },
     "execution_count": 47,
     "metadata": {},
     "output_type": "execute_result"
    }
   ],
   "source": [
    "# Количество районов, в которых расположены улицы с одним объектом общественного питания\n",
    "one_street_district['district'].nunique()"
   ]
  },
  {
   "cell_type": "code",
   "execution_count": 48,
   "metadata": {
    "scrolled": false
   },
   "outputs": [
    {
     "data": {
      "text/plain": [
       "array([nan, 'район Марьина Роща', 'район Покровское-Стрешнево',\n",
       "       'район Ростокино', 'район Аэропорт', 'Алексеевский район',\n",
       "       'район Раменки', 'район Хорошёво-Мнёвники', 'район Капотня',\n",
       "       'район Фили-Давыдково', 'поселение Троицк', 'Красносельский район',\n",
       "       'поселение Щаповское', 'район Внуково', 'Тимирязевский район',\n",
       "       'Тверской район', 'район Кузьминки', 'район Якиманка',\n",
       "       'Мещанский район', 'район Солнцево', 'район Свиблово',\n",
       "       'район Преображенское', 'район Кунцево', 'район Сокольники',\n",
       "       'район Замоскворечье', 'район Богородское', 'район Арбат',\n",
       "       'Бутырский район', 'район Северное Бутово', 'Басманный район',\n",
       "       'Таганский район', 'район Южное Бутово', 'поселение Десеновское',\n",
       "       'Пресненский район', 'район Хамовники', 'район Косино-Ухтомский',\n",
       "       'Войковский район', 'Хорошёвский район', 'район Печатники',\n",
       "       'поселение Сосенское', 'Донской район', 'Останкинский район',\n",
       "       'район Щукино', 'район Лефортово', 'район Дорогомилово',\n",
       "       'Головинский район', 'Лосиноостровский район', 'Савёловский район',\n",
       "       'Даниловский район', 'район Филёвский Парк', 'Рязанский район',\n",
       "       'Южнопортовый район', 'район Чертаново Южное',\n",
       "       'район Соколиная Гора', 'Можайский район',\n",
       "       'район Ново-Переделкино', 'район Москворечье-Сабурово',\n",
       "       'район Северный', 'поселение Внуковское', 'район Ясенево',\n",
       "       'район Котловка', 'Нижегородский район', 'район Митино',\n",
       "       'район Некрасовка', 'Ярославский район', 'Бабушкинский район',\n",
       "       'район Восточное Измайлово', 'район Северное Измайлово',\n",
       "       'район Восточный', 'Бескудниковский район', 'район Куркино',\n",
       "       'район Выхино-Жулебино', 'район Новогиреево', 'Алтуфьевский район',\n",
       "       'район Гольяново', 'район Старое Крюково', 'район Савёлки',\n",
       "       'район Западное Дегунино', 'район Левобережный', 'район Сокол',\n",
       "       'район Марьино', 'район Бирюлёво Восточное', 'район Южное Тушино',\n",
       "       'поселение Краснопахорское', 'район Зюзино', 'район Строгино',\n",
       "       'район Черёмушки', 'район Измайлово', 'Обручевский район',\n",
       "       'район Коньково', 'район Марфино', 'район Беговой',\n",
       "       'район Очаково-Матвеевское', 'поселение Кленовское',\n",
       "       'район Метрогородок', 'район Крюково', 'Дмитровский район',\n",
       "       'район Северное Медведково', 'Нагорный район',\n",
       "       'поселение Московский'], dtype=object)"
      ]
     },
     "execution_count": 48,
     "metadata": {},
     "output_type": "execute_result"
    }
   ],
   "source": [
    "# Получим список районов, в которых расположены улицы с одним объектом общественного питания\n",
    "one_street_district['district'].unique()"
   ]
  },
  {
   "cell_type": "code",
   "execution_count": 49,
   "metadata": {},
   "outputs": [
    {
     "data": {
      "text/html": [
       "<div>\n",
       "<style scoped>\n",
       "    .dataframe tbody tr th:only-of-type {\n",
       "        vertical-align: middle;\n",
       "    }\n",
       "\n",
       "    .dataframe tbody tr th {\n",
       "        vertical-align: top;\n",
       "    }\n",
       "\n",
       "    .dataframe thead th {\n",
       "        text-align: right;\n",
       "    }\n",
       "</style>\n",
       "<table border=\"1\" class=\"dataframe\">\n",
       "  <thead>\n",
       "    <tr style=\"text-align: right;\">\n",
       "      <th></th>\n",
       "      <th>street</th>\n",
       "    </tr>\n",
       "    <tr>\n",
       "      <th>district</th>\n",
       "      <th></th>\n",
       "    </tr>\n",
       "  </thead>\n",
       "  <tbody>\n",
       "    <tr>\n",
       "      <th>Таганский район</th>\n",
       "      <td>18</td>\n",
       "    </tr>\n",
       "    <tr>\n",
       "      <th>Тверской район</th>\n",
       "      <td>15</td>\n",
       "    </tr>\n",
       "    <tr>\n",
       "      <th>район Хамовники</th>\n",
       "      <td>15</td>\n",
       "    </tr>\n",
       "    <tr>\n",
       "      <th>Пресненский район</th>\n",
       "      <td>15</td>\n",
       "    </tr>\n",
       "    <tr>\n",
       "      <th>Басманный район</th>\n",
       "      <td>15</td>\n",
       "    </tr>\n",
       "    <tr>\n",
       "      <th>район Южное Бутово</th>\n",
       "      <td>9</td>\n",
       "    </tr>\n",
       "    <tr>\n",
       "      <th>Мещанский район</th>\n",
       "      <td>8</td>\n",
       "    </tr>\n",
       "    <tr>\n",
       "      <th>район Арбат</th>\n",
       "      <td>8</td>\n",
       "    </tr>\n",
       "    <tr>\n",
       "      <th>Можайский район</th>\n",
       "      <td>8</td>\n",
       "    </tr>\n",
       "    <tr>\n",
       "      <th>район Замоскворечье</th>\n",
       "      <td>7</td>\n",
       "    </tr>\n",
       "  </tbody>\n",
       "</table>\n",
       "</div>"
      ],
      "text/plain": [
       "                     street\n",
       "district                   \n",
       "Таганский район          18\n",
       "Тверской район           15\n",
       "район Хамовники          15\n",
       "Пресненский район        15\n",
       "Басманный район          15\n",
       "район Южное Бутово        9\n",
       "Мещанский район           8\n",
       "район Арбат               8\n",
       "Можайский район           8\n",
       "район Замоскворечье       7"
      ]
     },
     "execution_count": 49,
     "metadata": {},
     "output_type": "execute_result"
    }
   ],
   "source": [
    "# Самые популярные районы топ-10\n",
    "one_street_district.pivot_table(index='district', values='street', aggfunc='count').sort_values(by='street',ascending=False).head(10)"
   ]
  },
  {
   "cell_type": "markdown",
   "metadata": {},
   "source": [
    "Таким образом всего мы получили 542 улицы с одним объектом общественного питания. \n",
    "Количество районов, в которых расположены улицы с одним объектом общественного питания - 99.\n",
    "Самый популярные районы на которых находятся по одному заведению находятся в центре (до 3-го кольца): \n",
    "\n",
    "* **Таганский район**\t18\n",
    "* **Тверской район**\t15\n",
    "* **район Хамовники**\t15\n",
    "* **Пресненский район**\t15\n",
    "* **Басманный район**\t15\n",
    "\n",
    "Из остального списка только **район Южное Бутово** и **Можайский район** находятся не около центра. "
   ]
  },
  {
   "cell_type": "markdown",
   "metadata": {},
   "source": [
    "### Общий вывод и рекомендации"
   ]
  },
  {
   "cell_type": "markdown",
   "metadata": {},
   "source": [
    "1 .Большую долю рынка по количеству занимают заведения общественного питания с типом:\n",
    "\n",
    "1. **кафе** 39.6%\n",
    "2. **столовая** 16.9%\n",
    "3. **ресторан** 15.0%\n",
    "\n",
    "Меньше всего заведений с типом магазин и закусочная.\n",
    "\n",
    "2 . Несетевых заведений по количеству больше, чем сетевых.\n",
    "\n",
    "Соотношение **несетевых** 80.68% к **сетевым** 19.32%, практически соотношение 4:1.\n",
    "\n",
    "3 . Сетевых заведений больше всего у таких типов заведений как:\n",
    "1. **Предприятие быстрого обслуживания**(41.5% доля сетевых из общего количества заведений данного типа)\n",
    "2. **магазин (отдел кулинарии)** (28.7%)\n",
    "3. **ресторан** (23.8%)\n",
    "4. **кафе** (23.1%)\n",
    "\n",
    "4 . В среднем у сетевых заведений 53 посадочных места, медианное значение 40 мест, т.е. половина общего числа всех сетевых заведений имеет меньше 40 посадочных мест. По гистограмме видно, что достаточно много заведений имеют около 20-30 посадочных мест. Из этого делаем вывод, что скорее всего к истине ближе выражение:\n",
    "\n",
    "\"Для сетевых заведений характерно много заведений с небольшим числом посадочных мест в каждом \".\n",
    "\n",
    "5 . Среди всех объектов общественного питания медианное количество посадочных мест больше всего у :\n",
    "1. **Столовых** 103,\n",
    "2. **Ресторанов** 80,\n",
    "3. **Бар** 35,\n",
    "4. **Буфет** 32,\n",
    "5. **Кафе** 32\n",
    "\n",
    "6 . Список улиц по количеству заведений и районов:\n",
    "\n",
    "Улица\t| Количество пересекаемых районов | Количество заведений\n",
    "--------|-|-----------\n",
    "проспект Мира | 5\t| 197\n",
    "Профсоюзная улица | 6  | 181\n",
    "Ленинградский проспект | 4\t| 172\n",
    "Пресненская набережная | 1\t| 165\n",
    "Варшавское шоссе | 9\t| 164\n",
    "Ленинский проспект | 8\t| 148\n",
    "проспект Вернадского | 5\t| 127\n",
    "Кутузовский проспект | 3\t| 114\n",
    "Каширское шоссе\t|  4 | 110\n",
    "Кировоградская улица | 3\t| 107\n",
    "\n",
    "ТОП-10 районов, где расположены данные улицы:\n",
    "\n",
    "* район Чертаново Северное\t\n",
    "* Обручевский район\t\n",
    "* район Проспект Вернадского\t\n",
    "* район Тропарёво-Никулино\t\n",
    "* район Тёплый Стан\t\n",
    "* район Чертаново Центральное\n",
    "* район Чертаново Южное\t\n",
    "* район Нагатино-Садовники\t\n",
    "* Ломоносовский район\t\n",
    "* Донской район\n",
    "\n",
    "По количеству районов, которые пересекают данные улицы можно сказать, что улицы имеют большую протяженность, также скорее всего у них высокая проходимость, этим обусловлено большое число заведений и соответственно попадание данных улиц в топ по количеству заведений. \n",
    "\n",
    "Также большинство популярных районов (все) расположено между третьим транспортным кольцом и московской кольцевой автомобильной дорогой на юге, юго-западе и юго-востоке от центра Москвы.\n",
    "\n",
    "Также в Москве 542 улицы с одним объектом общественного питания. \n",
    "Количество районов, в которых расположены улицы с одним объектом общественного питания - 99.\n",
    "Самый популярные районы на которых находятся по одному заведению находятся в центре (до 3-го кольца): \n",
    "\n",
    "* **Таганский район**\t18\n",
    "* **Тверской район**\t15\n",
    "* **район Хамовники**\t15\n",
    "* **Пресненский район**\t15\n",
    "* **Басманный район**\t15\n",
    "\n",
    "Из остального списка только **район Южное Бутово** и **Можайский район** находятся не около центра. \n",
    "\n",
    "Рекомендации:\n",
    "\n",
    "**ТИП ЗАВЕДЕНИЯ.** \n",
    "\n",
    "Для открытия первого заведения можно рассматривать тип заведения \"кафе\", такие заведения занимают большую долю рынка по количеству объектов (39%), что свидетельствует о том, что они пользуются у населения большей популярностью. \n",
    "\n",
    "Мы не рассматриваем тип \"столовая\", потому что первоначально речь была о кафе и в столовых как известно официантов может и не быть (а куда же тогда нам деть наших роботов?). \n",
    "\n",
    "Уклон ресторана скорее всего на шеф-повара и уникальность его блюд, а не на официантов и их обслуживание. Опять же возможно это то, что не хватает новому кафе, чтобы удержать клиентов после того, как они насмотрятся на роботов. К тому же рестораны занимают 15% доли рынка, что является третьим местом по количеству объектов питания. \n",
    "\n",
    "У заказчиков были вопросы про сетевые заведения, можно предположить, что новое открывающиеся заведение в дальнейшем планируется стать сетью или просто рассматривается такой вариант.  Тогда следует обратить внимание на такой тип заведения как \"предприятие быстрого обслуживания\", так как процент сетевых заведений у этого типа объектов максимальный 41.5%. \n",
    "\n",
    "**КОЛИЧЕСТВО МЕСТ** \n",
    "\n",
    "Для сетевых заведений характерно много заведений с небольшим числом посадочных мест в каждом, зачастую это 20-30 посадочных мест.\n",
    "\n",
    "Среди всех объектов общественного питания среднее количество посадочных мест больше всего у:\n",
    "1. **Столовых** 103,\n",
    "2. **Ресторанов** 80,\n",
    "3. **Бар** 35,\n",
    "4. **Буфет** 32,\n",
    "5. **Кафе** 32\n",
    "\n",
    "Если рассматривать тип \"кафе\", то это в среднем 39 посадочных мест. \n",
    "\n",
    "**РАЙОН РАСПОЛОЖЕНИЯ**\n",
    "\n",
    "Имеет смысл открыть заведение в районах, где располагается большое количество других заведений (так как они явно там по причине большой проходимости). Это такие районы как:\n",
    "* район Чертаново Северное\t\n",
    "* Обручевский район\t\n",
    "* район Проспект Вернадского\t\n",
    "* район Тропарёво-Никулино\t\n",
    "* район Тёплый Стан\t\n",
    "* район Чертаново Центральное\n",
    "* район Чертаново Южное\t\n",
    "* район Нагатино-Садовники\t\n",
    "* Ломоносовский район\t\n",
    "* Донской район"
   ]
  },
  {
   "cell_type": "markdown",
   "metadata": {},
   "source": [
    "Презентация (я не смогла удержаться и сделала её вырвиглазной, потому что никогда такие не делала)))): https://disk.yandex.ru/i/a6UVUcRlOzjG_w"
   ]
  }
 ],
 "metadata": {
  "ExecuteTimeLog": [
   {
    "duration": 16,
    "start_time": "2022-06-02T09:17:34.538Z"
   },
   {
    "duration": 563,
    "start_time": "2022-06-02T09:23:11.897Z"
   },
   {
    "duration": 247,
    "start_time": "2022-06-02T09:23:13.146Z"
   },
   {
    "duration": 3,
    "start_time": "2022-06-02T09:23:14.106Z"
   },
   {
    "duration": 60,
    "start_time": "2022-06-02T09:23:15.442Z"
   },
   {
    "duration": 11,
    "start_time": "2022-06-02T09:30:13.496Z"
   },
   {
    "duration": 70,
    "start_time": "2022-06-02T09:31:50.263Z"
   },
   {
    "duration": 20,
    "start_time": "2022-06-02T09:31:56.303Z"
   },
   {
    "duration": 7,
    "start_time": "2022-06-02T09:32:49.728Z"
   },
   {
    "duration": 7,
    "start_time": "2022-06-02T09:32:51.998Z"
   },
   {
    "duration": 17,
    "start_time": "2022-06-02T09:33:19.572Z"
   },
   {
    "duration": 9,
    "start_time": "2022-06-02T09:33:47.030Z"
   },
   {
    "duration": 7,
    "start_time": "2022-06-02T09:34:51.716Z"
   },
   {
    "duration": 5,
    "start_time": "2022-06-02T09:35:26.640Z"
   },
   {
    "duration": 6,
    "start_time": "2022-06-02T09:35:58.916Z"
   },
   {
    "duration": 5,
    "start_time": "2022-06-02T09:36:28.745Z"
   },
   {
    "duration": 21,
    "start_time": "2022-06-02T11:27:21.687Z"
   },
   {
    "duration": 25,
    "start_time": "2022-06-02T11:29:39.995Z"
   },
   {
    "duration": 16,
    "start_time": "2022-06-02T11:32:09.840Z"
   },
   {
    "duration": 17,
    "start_time": "2022-06-02T11:32:14.174Z"
   },
   {
    "duration": 21,
    "start_time": "2022-06-02T11:35:11.804Z"
   },
   {
    "duration": 17,
    "start_time": "2022-06-02T11:35:18.712Z"
   },
   {
    "duration": 16,
    "start_time": "2022-06-02T11:38:01.029Z"
   },
   {
    "duration": 16,
    "start_time": "2022-06-02T11:38:10.716Z"
   },
   {
    "duration": 405,
    "start_time": "2022-06-02T11:38:19.044Z"
   },
   {
    "duration": 72,
    "start_time": "2022-06-02T11:38:19.450Z"
   },
   {
    "duration": 4,
    "start_time": "2022-06-02T11:38:19.524Z"
   },
   {
    "duration": 63,
    "start_time": "2022-06-02T11:38:19.530Z"
   },
   {
    "duration": 34,
    "start_time": "2022-06-02T11:38:19.595Z"
   },
   {
    "duration": 6,
    "start_time": "2022-06-02T11:38:19.631Z"
   },
   {
    "duration": 13,
    "start_time": "2022-06-02T11:38:19.639Z"
   },
   {
    "duration": 27,
    "start_time": "2022-06-02T11:38:19.653Z"
   },
   {
    "duration": 26,
    "start_time": "2022-06-02T11:38:19.682Z"
   },
   {
    "duration": 10,
    "start_time": "2022-06-02T11:38:19.710Z"
   },
   {
    "duration": 24,
    "start_time": "2022-06-02T11:38:19.722Z"
   },
   {
    "duration": 16,
    "start_time": "2022-06-02T11:38:19.747Z"
   },
   {
    "duration": 3,
    "start_time": "2022-06-02T11:38:19.765Z"
   },
   {
    "duration": 77,
    "start_time": "2022-06-02T11:43:31.109Z"
   },
   {
    "duration": 7,
    "start_time": "2022-06-02T11:43:46.929Z"
   },
   {
    "duration": 10,
    "start_time": "2022-06-02T11:43:50.993Z"
   },
   {
    "duration": 10,
    "start_time": "2022-06-02T11:44:12.472Z"
   },
   {
    "duration": 542,
    "start_time": "2022-06-02T11:45:23.319Z"
   },
   {
    "duration": 502,
    "start_time": "2022-06-02T11:47:01.289Z"
   },
   {
    "duration": 99,
    "start_time": "2022-06-02T11:48:48.910Z"
   },
   {
    "duration": 435,
    "start_time": "2022-06-02T11:48:56.380Z"
   },
   {
    "duration": 761,
    "start_time": "2022-06-02T11:51:55.376Z"
   },
   {
    "duration": 46,
    "start_time": "2022-06-02T11:52:13.707Z"
   },
   {
    "duration": 849,
    "start_time": "2022-06-02T11:52:17.140Z"
   },
   {
    "duration": 8,
    "start_time": "2022-06-02T11:52:49.746Z"
   },
   {
    "duration": 11,
    "start_time": "2022-06-02T11:52:53.486Z"
   },
   {
    "duration": 31,
    "start_time": "2022-06-02T11:53:02.810Z"
   },
   {
    "duration": 41,
    "start_time": "2022-06-02T11:53:06.925Z"
   },
   {
    "duration": 721,
    "start_time": "2022-06-02T11:54:05.254Z"
   },
   {
    "duration": 584,
    "start_time": "2022-06-02T11:54:15.950Z"
   },
   {
    "duration": 717,
    "start_time": "2022-06-02T11:54:22.914Z"
   },
   {
    "duration": 24,
    "start_time": "2022-06-02T11:59:58.809Z"
   },
   {
    "duration": 224,
    "start_time": "2022-06-02T12:02:23.578Z"
   },
   {
    "duration": 378,
    "start_time": "2022-06-02T12:02:33.703Z"
   },
   {
    "duration": 33,
    "start_time": "2022-06-02T12:27:00.816Z"
   },
   {
    "duration": 3,
    "start_time": "2022-06-02T12:27:05.416Z"
   },
   {
    "duration": 24,
    "start_time": "2022-06-02T12:28:24.120Z"
   },
   {
    "duration": 1279,
    "start_time": "2022-06-02T14:31:54.051Z"
   },
   {
    "duration": 4,
    "start_time": "2022-06-02T14:32:36.884Z"
   },
   {
    "duration": 7,
    "start_time": "2022-06-02T14:32:39.862Z"
   },
   {
    "duration": 56,
    "start_time": "2022-06-02T14:32:45.447Z"
   },
   {
    "duration": 16,
    "start_time": "2022-06-02T14:33:08.052Z"
   },
   {
    "duration": 13,
    "start_time": "2022-06-02T14:33:11.604Z"
   },
   {
    "duration": 10,
    "start_time": "2022-06-02T14:33:16.277Z"
   },
   {
    "duration": 321,
    "start_time": "2022-06-02T14:37:06.153Z"
   },
   {
    "duration": 10,
    "start_time": "2022-06-02T14:38:21.005Z"
   },
   {
    "duration": 16,
    "start_time": "2022-06-02T14:38:41.541Z"
   },
   {
    "duration": 186,
    "start_time": "2022-06-02T14:38:45.281Z"
   },
   {
    "duration": 221,
    "start_time": "2022-06-02T14:39:26.744Z"
   },
   {
    "duration": 233,
    "start_time": "2022-06-02T14:39:36.586Z"
   },
   {
    "duration": 22,
    "start_time": "2022-06-02T14:42:52.055Z"
   },
   {
    "duration": 26,
    "start_time": "2022-06-02T14:43:01.781Z"
   },
   {
    "duration": 220,
    "start_time": "2022-06-02T14:43:11.142Z"
   },
   {
    "duration": 14,
    "start_time": "2022-06-02T14:46:42.870Z"
   },
   {
    "duration": 13,
    "start_time": "2022-06-02T14:47:02.874Z"
   },
   {
    "duration": 13,
    "start_time": "2022-06-02T14:47:08.289Z"
   },
   {
    "duration": 10,
    "start_time": "2022-06-02T14:48:19.306Z"
   },
   {
    "duration": 1208,
    "start_time": "2022-06-02T14:48:32.365Z"
   },
   {
    "duration": 76,
    "start_time": "2022-06-02T14:48:33.575Z"
   },
   {
    "duration": 7,
    "start_time": "2022-06-02T14:48:33.653Z"
   },
   {
    "duration": 50,
    "start_time": "2022-06-02T14:48:33.663Z"
   },
   {
    "duration": 20,
    "start_time": "2022-06-02T14:48:33.714Z"
   },
   {
    "duration": 34,
    "start_time": "2022-06-02T14:48:33.736Z"
   },
   {
    "duration": 9,
    "start_time": "2022-06-02T14:48:33.771Z"
   },
   {
    "duration": 9,
    "start_time": "2022-06-02T14:48:33.782Z"
   },
   {
    "duration": 6,
    "start_time": "2022-06-02T14:48:33.793Z"
   },
   {
    "duration": 5,
    "start_time": "2022-06-02T14:48:33.802Z"
   },
   {
    "duration": 24,
    "start_time": "2022-06-02T14:48:33.809Z"
   },
   {
    "duration": 30,
    "start_time": "2022-06-02T14:48:33.839Z"
   },
   {
    "duration": 2,
    "start_time": "2022-06-02T14:48:33.870Z"
   },
   {
    "duration": 17,
    "start_time": "2022-06-02T14:48:33.874Z"
   },
   {
    "duration": 129,
    "start_time": "2022-06-02T14:48:33.892Z"
   },
   {
    "duration": 0,
    "start_time": "2022-06-02T14:48:34.022Z"
   },
   {
    "duration": 9,
    "start_time": "2022-06-02T14:48:40.953Z"
   },
   {
    "duration": 11,
    "start_time": "2022-06-02T14:48:49.997Z"
   },
   {
    "duration": 31,
    "start_time": "2022-06-02T14:48:59.924Z"
   },
   {
    "duration": 28,
    "start_time": "2022-06-02T14:49:25.448Z"
   },
   {
    "duration": 1137,
    "start_time": "2022-06-02T14:49:32.452Z"
   },
   {
    "duration": 78,
    "start_time": "2022-06-02T14:49:33.591Z"
   },
   {
    "duration": 5,
    "start_time": "2022-06-02T14:49:33.670Z"
   },
   {
    "duration": 69,
    "start_time": "2022-06-02T14:49:33.677Z"
   },
   {
    "duration": 16,
    "start_time": "2022-06-02T14:49:33.755Z"
   },
   {
    "duration": 17,
    "start_time": "2022-06-02T14:49:33.772Z"
   },
   {
    "duration": 22,
    "start_time": "2022-06-02T14:49:33.791Z"
   },
   {
    "duration": 29,
    "start_time": "2022-06-02T14:49:33.814Z"
   },
   {
    "duration": 26,
    "start_time": "2022-06-02T14:49:33.851Z"
   },
   {
    "duration": 13,
    "start_time": "2022-06-02T14:49:33.879Z"
   },
   {
    "duration": 42,
    "start_time": "2022-06-02T14:49:33.894Z"
   },
   {
    "duration": 38,
    "start_time": "2022-06-02T14:49:33.937Z"
   },
   {
    "duration": 4,
    "start_time": "2022-06-02T14:49:33.977Z"
   },
   {
    "duration": 30,
    "start_time": "2022-06-02T14:49:33.983Z"
   },
   {
    "duration": 12,
    "start_time": "2022-06-02T14:49:34.015Z"
   },
   {
    "duration": 155,
    "start_time": "2022-06-02T14:49:34.028Z"
   },
   {
    "duration": 0,
    "start_time": "2022-06-02T14:49:34.185Z"
   },
   {
    "duration": 2,
    "start_time": "2022-06-02T14:49:44.782Z"
   },
   {
    "duration": 4,
    "start_time": "2022-06-02T14:49:49.863Z"
   },
   {
    "duration": 6,
    "start_time": "2022-06-02T14:50:04.887Z"
   },
   {
    "duration": 23,
    "start_time": "2022-06-02T14:50:10.426Z"
   },
   {
    "duration": 8,
    "start_time": "2022-06-02T14:53:12.701Z"
   },
   {
    "duration": 13,
    "start_time": "2022-06-02T14:53:36.661Z"
   },
   {
    "duration": 18,
    "start_time": "2022-06-02T14:53:49.125Z"
   },
   {
    "duration": 15,
    "start_time": "2022-06-02T14:54:08.862Z"
   },
   {
    "duration": 20,
    "start_time": "2022-06-02T14:54:21.030Z"
   },
   {
    "duration": 10,
    "start_time": "2022-06-02T14:59:27.880Z"
   },
   {
    "duration": 5,
    "start_time": "2022-06-02T14:59:42.786Z"
   },
   {
    "duration": 74,
    "start_time": "2022-06-02T15:00:58.149Z"
   },
   {
    "duration": 13,
    "start_time": "2022-06-02T15:01:06.524Z"
   },
   {
    "duration": 39,
    "start_time": "2022-06-02T15:01:16.121Z"
   },
   {
    "duration": 511,
    "start_time": "2022-06-02T15:03:05.726Z"
   },
   {
    "duration": 16,
    "start_time": "2022-06-02T15:03:38.664Z"
   },
   {
    "duration": 22,
    "start_time": "2022-06-02T15:06:08.656Z"
   },
   {
    "duration": 18,
    "start_time": "2022-06-02T15:06:20.496Z"
   },
   {
    "duration": 1129,
    "start_time": "2022-06-03T08:19:14.230Z"
   },
   {
    "duration": 69,
    "start_time": "2022-06-03T08:19:15.361Z"
   },
   {
    "duration": 4,
    "start_time": "2022-06-03T08:19:15.434Z"
   },
   {
    "duration": 61,
    "start_time": "2022-06-03T08:19:15.439Z"
   },
   {
    "duration": 30,
    "start_time": "2022-06-03T08:19:15.503Z"
   },
   {
    "duration": 13,
    "start_time": "2022-06-03T08:19:15.537Z"
   },
   {
    "duration": 11,
    "start_time": "2022-06-03T08:19:15.552Z"
   },
   {
    "duration": 7,
    "start_time": "2022-06-03T08:19:15.565Z"
   },
   {
    "duration": 6,
    "start_time": "2022-06-03T08:19:15.574Z"
   },
   {
    "duration": 12,
    "start_time": "2022-06-03T08:19:15.581Z"
   },
   {
    "duration": 23,
    "start_time": "2022-06-03T08:19:15.594Z"
   },
   {
    "duration": 42,
    "start_time": "2022-06-03T08:19:15.618Z"
   },
   {
    "duration": 3,
    "start_time": "2022-06-03T08:19:15.662Z"
   },
   {
    "duration": 32,
    "start_time": "2022-06-03T08:19:15.668Z"
   },
   {
    "duration": 23,
    "start_time": "2022-06-03T08:19:15.701Z"
   },
   {
    "duration": 260,
    "start_time": "2022-06-03T08:19:15.728Z"
   },
   {
    "duration": 23,
    "start_time": "2022-06-03T08:20:59.078Z"
   },
   {
    "duration": 144,
    "start_time": "2022-06-03T08:21:03.420Z"
   },
   {
    "duration": 255,
    "start_time": "2022-06-03T08:21:50.018Z"
   },
   {
    "duration": 13,
    "start_time": "2022-06-03T08:21:54.774Z"
   },
   {
    "duration": 179,
    "start_time": "2022-06-03T08:22:02.067Z"
   },
   {
    "duration": 12,
    "start_time": "2022-06-03T08:28:18.855Z"
   },
   {
    "duration": 18,
    "start_time": "2022-06-03T08:28:21.063Z"
   },
   {
    "duration": 140,
    "start_time": "2022-06-03T08:34:38.280Z"
   },
   {
    "duration": 1156,
    "start_time": "2022-06-03T08:34:56.120Z"
   },
   {
    "duration": 70,
    "start_time": "2022-06-03T08:34:57.278Z"
   },
   {
    "duration": 4,
    "start_time": "2022-06-03T08:34:57.351Z"
   },
   {
    "duration": 55,
    "start_time": "2022-06-03T08:34:57.358Z"
   },
   {
    "duration": 24,
    "start_time": "2022-06-03T08:34:57.422Z"
   },
   {
    "duration": 9,
    "start_time": "2022-06-03T08:34:57.448Z"
   },
   {
    "duration": 13,
    "start_time": "2022-06-03T08:34:57.459Z"
   },
   {
    "duration": 9,
    "start_time": "2022-06-03T08:34:57.474Z"
   },
   {
    "duration": 11,
    "start_time": "2022-06-03T08:34:57.484Z"
   },
   {
    "duration": 30,
    "start_time": "2022-06-03T08:34:57.498Z"
   },
   {
    "duration": 31,
    "start_time": "2022-06-03T08:34:57.530Z"
   },
   {
    "duration": 21,
    "start_time": "2022-06-03T08:34:57.563Z"
   },
   {
    "duration": 4,
    "start_time": "2022-06-03T08:34:57.585Z"
   },
   {
    "duration": 50,
    "start_time": "2022-06-03T08:34:57.590Z"
   },
   {
    "duration": 126,
    "start_time": "2022-06-03T08:34:57.643Z"
   },
   {
    "duration": 0,
    "start_time": "2022-06-03T08:34:57.771Z"
   },
   {
    "duration": 20,
    "start_time": "2022-06-03T08:35:09.100Z"
   },
   {
    "duration": 9,
    "start_time": "2022-06-03T08:35:36.898Z"
   },
   {
    "duration": 13,
    "start_time": "2022-06-03T08:35:50.563Z"
   },
   {
    "duration": 36,
    "start_time": "2022-06-03T09:14:30.512Z"
   },
   {
    "duration": 39,
    "start_time": "2022-06-03T09:15:25.147Z"
   },
   {
    "duration": 27,
    "start_time": "2022-06-03T09:16:40.808Z"
   },
   {
    "duration": 34,
    "start_time": "2022-06-03T09:21:22.209Z"
   },
   {
    "duration": 19,
    "start_time": "2022-06-03T09:26:15.653Z"
   },
   {
    "duration": 22,
    "start_time": "2022-06-03T09:26:26.194Z"
   },
   {
    "duration": 88,
    "start_time": "2022-06-03T09:27:04.567Z"
   },
   {
    "duration": 240,
    "start_time": "2022-06-03T09:27:08.396Z"
   },
   {
    "duration": 368,
    "start_time": "2022-06-03T09:27:13.824Z"
   },
   {
    "duration": 195,
    "start_time": "2022-06-03T09:27:28.341Z"
   },
   {
    "duration": 196,
    "start_time": "2022-06-03T09:27:47.995Z"
   },
   {
    "duration": 211,
    "start_time": "2022-06-03T09:28:09.394Z"
   },
   {
    "duration": 228,
    "start_time": "2022-06-03T09:29:40.394Z"
   },
   {
    "duration": 22,
    "start_time": "2022-06-03T09:29:52.703Z"
   },
   {
    "duration": 12,
    "start_time": "2022-06-03T09:29:55.895Z"
   },
   {
    "duration": 205,
    "start_time": "2022-06-03T09:31:56.141Z"
   },
   {
    "duration": 28,
    "start_time": "2022-06-03T09:33:06.942Z"
   },
   {
    "duration": 217,
    "start_time": "2022-06-03T09:33:13.861Z"
   },
   {
    "duration": 207,
    "start_time": "2022-06-03T09:33:35.190Z"
   },
   {
    "duration": 203,
    "start_time": "2022-06-03T09:34:11.466Z"
   },
   {
    "duration": 5,
    "start_time": "2022-06-03T09:34:45.159Z"
   },
   {
    "duration": 12,
    "start_time": "2022-06-03T09:34:52.349Z"
   },
   {
    "duration": 548,
    "start_time": "2022-06-03T09:35:08.798Z"
   },
   {
    "duration": 83,
    "start_time": "2022-06-03T09:36:35.298Z"
   },
   {
    "duration": 14,
    "start_time": "2022-06-03T09:36:56.041Z"
   },
   {
    "duration": 22,
    "start_time": "2022-06-03T09:37:06.280Z"
   },
   {
    "duration": 75,
    "start_time": "2022-06-03T09:39:30.914Z"
   },
   {
    "duration": 19,
    "start_time": "2022-06-03T09:40:14.918Z"
   },
   {
    "duration": 18,
    "start_time": "2022-06-03T09:46:35.542Z"
   },
   {
    "duration": 53,
    "start_time": "2022-06-03T09:47:03.394Z"
   },
   {
    "duration": 17,
    "start_time": "2022-06-03T09:47:22.386Z"
   },
   {
    "duration": 44,
    "start_time": "2022-06-03T09:47:28.075Z"
   },
   {
    "duration": 24,
    "start_time": "2022-06-03T09:47:54.082Z"
   },
   {
    "duration": 17,
    "start_time": "2022-06-03T09:48:03.342Z"
   },
   {
    "duration": 59,
    "start_time": "2022-06-03T09:48:12.626Z"
   },
   {
    "duration": 1913,
    "start_time": "2022-06-03T11:38:05.376Z"
   },
   {
    "duration": 161,
    "start_time": "2022-06-03T11:38:07.291Z"
   },
   {
    "duration": 4,
    "start_time": "2022-06-03T11:38:07.454Z"
   },
   {
    "duration": 90,
    "start_time": "2022-06-03T11:38:07.460Z"
   },
   {
    "duration": 20,
    "start_time": "2022-06-03T11:38:07.555Z"
   },
   {
    "duration": 8,
    "start_time": "2022-06-03T11:38:07.577Z"
   },
   {
    "duration": 10,
    "start_time": "2022-06-03T11:38:07.587Z"
   },
   {
    "duration": 37,
    "start_time": "2022-06-03T11:38:07.600Z"
   },
   {
    "duration": 33,
    "start_time": "2022-06-03T11:38:07.639Z"
   },
   {
    "duration": 8,
    "start_time": "2022-06-03T11:38:07.674Z"
   },
   {
    "duration": 7,
    "start_time": "2022-06-03T11:38:07.684Z"
   },
   {
    "duration": 30,
    "start_time": "2022-06-03T11:38:07.693Z"
   },
   {
    "duration": 31,
    "start_time": "2022-06-03T11:38:07.725Z"
   },
   {
    "duration": 12,
    "start_time": "2022-06-03T11:38:07.760Z"
   },
   {
    "duration": 33,
    "start_time": "2022-06-03T11:38:07.774Z"
   },
   {
    "duration": 29,
    "start_time": "2022-06-03T11:38:07.809Z"
   },
   {
    "duration": 248,
    "start_time": "2022-06-03T11:38:07.840Z"
   },
   {
    "duration": 228,
    "start_time": "2022-06-03T11:38:08.090Z"
   },
   {
    "duration": 503,
    "start_time": "2022-06-03T11:38:08.320Z"
   },
   {
    "duration": 15,
    "start_time": "2022-06-03T11:38:08.826Z"
   },
   {
    "duration": 67,
    "start_time": "2022-06-03T11:38:43.291Z"
   },
   {
    "duration": 67,
    "start_time": "2022-06-03T11:39:14.546Z"
   },
   {
    "duration": 85,
    "start_time": "2022-06-03T11:39:24.789Z"
   },
   {
    "duration": 60,
    "start_time": "2022-06-03T11:39:39.007Z"
   },
   {
    "duration": 167,
    "start_time": "2022-06-03T11:39:47.244Z"
   },
   {
    "duration": 243,
    "start_time": "2022-06-03T11:40:03.783Z"
   },
   {
    "duration": 60,
    "start_time": "2022-06-03T11:40:37.704Z"
   },
   {
    "duration": 98,
    "start_time": "2022-06-03T11:40:50.571Z"
   },
   {
    "duration": 178,
    "start_time": "2022-06-03T11:40:58.451Z"
   },
   {
    "duration": 82,
    "start_time": "2022-06-03T11:41:03.088Z"
   },
   {
    "duration": 215,
    "start_time": "2022-06-03T11:42:15.303Z"
   },
   {
    "duration": 206,
    "start_time": "2022-06-03T11:43:22.680Z"
   },
   {
    "duration": 200,
    "start_time": "2022-06-03T11:44:29.876Z"
   },
   {
    "duration": 213,
    "start_time": "2022-06-03T11:44:56.090Z"
   },
   {
    "duration": 213,
    "start_time": "2022-06-03T11:45:09.039Z"
   },
   {
    "duration": 20,
    "start_time": "2022-06-03T11:51:02.491Z"
   },
   {
    "duration": 14,
    "start_time": "2022-06-03T11:51:31.182Z"
   },
   {
    "duration": 149,
    "start_time": "2022-06-03T11:55:10.544Z"
   },
   {
    "duration": 128,
    "start_time": "2022-06-03T11:55:50.141Z"
   },
   {
    "duration": 131,
    "start_time": "2022-06-03T11:56:08.579Z"
   },
   {
    "duration": 126,
    "start_time": "2022-06-03T11:56:26.991Z"
   },
   {
    "duration": 167,
    "start_time": "2022-06-03T11:56:39.695Z"
   },
   {
    "duration": 127,
    "start_time": "2022-06-03T11:56:43.278Z"
   },
   {
    "duration": 143,
    "start_time": "2022-06-03T11:56:59.646Z"
   },
   {
    "duration": 1238,
    "start_time": "2022-06-03T11:57:24.675Z"
   },
   {
    "duration": 83,
    "start_time": "2022-06-03T11:57:25.916Z"
   },
   {
    "duration": 5,
    "start_time": "2022-06-03T11:57:26.000Z"
   },
   {
    "duration": 75,
    "start_time": "2022-06-03T11:57:26.008Z"
   },
   {
    "duration": 12,
    "start_time": "2022-06-03T11:57:26.085Z"
   },
   {
    "duration": 13,
    "start_time": "2022-06-03T11:57:26.098Z"
   },
   {
    "duration": 29,
    "start_time": "2022-06-03T11:57:26.112Z"
   },
   {
    "duration": 8,
    "start_time": "2022-06-03T11:57:26.142Z"
   },
   {
    "duration": 10,
    "start_time": "2022-06-03T11:57:26.151Z"
   },
   {
    "duration": 7,
    "start_time": "2022-06-03T11:57:26.164Z"
   },
   {
    "duration": 5,
    "start_time": "2022-06-03T11:57:26.173Z"
   },
   {
    "duration": 20,
    "start_time": "2022-06-03T11:57:26.179Z"
   },
   {
    "duration": 53,
    "start_time": "2022-06-03T11:57:26.201Z"
   },
   {
    "duration": 2,
    "start_time": "2022-06-03T11:57:26.256Z"
   },
   {
    "duration": 41,
    "start_time": "2022-06-03T11:57:26.260Z"
   },
   {
    "duration": 16,
    "start_time": "2022-06-03T11:57:26.303Z"
   },
   {
    "duration": 328,
    "start_time": "2022-06-03T11:57:26.320Z"
   },
   {
    "duration": 234,
    "start_time": "2022-06-03T11:57:26.649Z"
   },
   {
    "duration": 377,
    "start_time": "2022-06-03T11:57:26.884Z"
   },
   {
    "duration": 9,
    "start_time": "2022-06-03T11:57:27.263Z"
   },
   {
    "duration": 15,
    "start_time": "2022-06-03T11:57:27.273Z"
   },
   {
    "duration": 219,
    "start_time": "2022-06-03T11:57:27.289Z"
   },
   {
    "duration": 123,
    "start_time": "2022-06-03T12:04:06.800Z"
   },
   {
    "duration": 349,
    "start_time": "2022-06-03T12:04:13.163Z"
   },
   {
    "duration": 128,
    "start_time": "2022-06-03T12:04:16.359Z"
   },
   {
    "duration": 15,
    "start_time": "2022-06-03T12:05:51.303Z"
   },
   {
    "duration": 323,
    "start_time": "2022-06-03T12:18:42.696Z"
   },
   {
    "duration": 21,
    "start_time": "2022-06-03T12:19:00.584Z"
   },
   {
    "duration": 17,
    "start_time": "2022-06-03T12:20:31.871Z"
   },
   {
    "duration": 240,
    "start_time": "2022-06-03T12:20:35.003Z"
   },
   {
    "duration": 14,
    "start_time": "2022-06-03T12:20:48.752Z"
   },
   {
    "duration": 108,
    "start_time": "2022-06-03T12:20:53.382Z"
   },
   {
    "duration": 191,
    "start_time": "2022-06-03T12:23:23.570Z"
   },
   {
    "duration": 370,
    "start_time": "2022-06-03T12:24:10.788Z"
   },
   {
    "duration": 166,
    "start_time": "2022-06-03T12:26:57.442Z"
   },
   {
    "duration": 34,
    "start_time": "2022-06-03T12:27:52.241Z"
   },
   {
    "duration": 12,
    "start_time": "2022-06-03T12:28:11.552Z"
   },
   {
    "duration": 10,
    "start_time": "2022-06-03T12:32:38.089Z"
   },
   {
    "duration": 20,
    "start_time": "2022-06-03T12:41:38.579Z"
   },
   {
    "duration": 18,
    "start_time": "2022-06-03T12:41:49.315Z"
   },
   {
    "duration": 15,
    "start_time": "2022-06-03T12:41:58.756Z"
   },
   {
    "duration": 12,
    "start_time": "2022-06-03T13:01:50.092Z"
   },
   {
    "duration": 26,
    "start_time": "2022-06-03T13:01:57.976Z"
   },
   {
    "duration": 24,
    "start_time": "2022-06-03T13:02:09.372Z"
   },
   {
    "duration": 24,
    "start_time": "2022-06-03T13:02:22.104Z"
   },
   {
    "duration": 17,
    "start_time": "2022-06-03T13:02:29.724Z"
   },
   {
    "duration": 14,
    "start_time": "2022-06-03T13:03:08.168Z"
   },
   {
    "duration": 27,
    "start_time": "2022-06-03T13:04:01.955Z"
   },
   {
    "duration": 20,
    "start_time": "2022-06-03T13:04:14.704Z"
   },
   {
    "duration": 899,
    "start_time": "2022-06-03T13:09:23.398Z"
   },
   {
    "duration": 16,
    "start_time": "2022-06-03T13:09:49.767Z"
   },
   {
    "duration": 20,
    "start_time": "2022-06-03T13:09:56.163Z"
   },
   {
    "duration": 34,
    "start_time": "2022-06-03T13:11:40.226Z"
   },
   {
    "duration": 16,
    "start_time": "2022-06-03T13:12:23.501Z"
   },
   {
    "duration": 23,
    "start_time": "2022-06-03T13:12:30.365Z"
   },
   {
    "duration": 22,
    "start_time": "2022-06-03T13:12:40.308Z"
   },
   {
    "duration": 33,
    "start_time": "2022-06-03T13:12:46.081Z"
   },
   {
    "duration": 202,
    "start_time": "2022-06-03T13:14:22.289Z"
   },
   {
    "duration": 520,
    "start_time": "2022-06-06T08:59:04.455Z"
   },
   {
    "duration": 270,
    "start_time": "2022-06-06T09:00:10.554Z"
   },
   {
    "duration": 52,
    "start_time": "2022-06-06T09:00:56.322Z"
   },
   {
    "duration": 11,
    "start_time": "2022-06-06T09:01:02.043Z"
   },
   {
    "duration": 1404,
    "start_time": "2022-06-06T09:01:17.258Z"
   },
   {
    "duration": 73,
    "start_time": "2022-06-06T09:01:18.664Z"
   },
   {
    "duration": 4,
    "start_time": "2022-06-06T09:01:18.739Z"
   },
   {
    "duration": 73,
    "start_time": "2022-06-06T09:01:18.746Z"
   },
   {
    "duration": 12,
    "start_time": "2022-06-06T09:01:18.821Z"
   },
   {
    "duration": 10,
    "start_time": "2022-06-06T09:01:18.835Z"
   },
   {
    "duration": 15,
    "start_time": "2022-06-06T09:01:18.847Z"
   },
   {
    "duration": 28,
    "start_time": "2022-06-06T09:01:18.865Z"
   },
   {
    "duration": 6,
    "start_time": "2022-06-06T09:01:18.896Z"
   },
   {
    "duration": 10,
    "start_time": "2022-06-06T09:01:18.906Z"
   },
   {
    "duration": 12,
    "start_time": "2022-06-06T09:01:18.918Z"
   },
   {
    "duration": 37,
    "start_time": "2022-06-06T09:01:18.932Z"
   },
   {
    "duration": 34,
    "start_time": "2022-06-06T09:01:18.970Z"
   },
   {
    "duration": 3,
    "start_time": "2022-06-06T09:01:19.005Z"
   },
   {
    "duration": 31,
    "start_time": "2022-06-06T09:01:19.010Z"
   },
   {
    "duration": 16,
    "start_time": "2022-06-06T09:01:19.043Z"
   },
   {
    "duration": 351,
    "start_time": "2022-06-06T09:01:19.061Z"
   },
   {
    "duration": 360,
    "start_time": "2022-06-06T09:01:19.414Z"
   },
   {
    "duration": 0,
    "start_time": "2022-06-06T09:01:19.776Z"
   },
   {
    "duration": 0,
    "start_time": "2022-06-06T09:01:19.778Z"
   },
   {
    "duration": 0,
    "start_time": "2022-06-06T09:01:19.779Z"
   },
   {
    "duration": 0,
    "start_time": "2022-06-06T09:01:19.789Z"
   },
   {
    "duration": 0,
    "start_time": "2022-06-06T09:01:19.791Z"
   },
   {
    "duration": 0,
    "start_time": "2022-06-06T09:01:19.792Z"
   },
   {
    "duration": 0,
    "start_time": "2022-06-06T09:01:19.793Z"
   },
   {
    "duration": 0,
    "start_time": "2022-06-06T09:01:19.794Z"
   },
   {
    "duration": 313,
    "start_time": "2022-06-06T09:02:18.290Z"
   },
   {
    "duration": 237,
    "start_time": "2022-06-06T09:02:26.454Z"
   },
   {
    "duration": 268,
    "start_time": "2022-06-06T09:02:36.169Z"
   },
   {
    "duration": 1326,
    "start_time": "2022-06-06T09:02:44.986Z"
   },
   {
    "duration": 74,
    "start_time": "2022-06-06T09:02:46.314Z"
   },
   {
    "duration": 6,
    "start_time": "2022-06-06T09:02:46.390Z"
   },
   {
    "duration": 64,
    "start_time": "2022-06-06T09:02:46.398Z"
   },
   {
    "duration": 32,
    "start_time": "2022-06-06T09:02:46.464Z"
   },
   {
    "duration": 16,
    "start_time": "2022-06-06T09:02:46.499Z"
   },
   {
    "duration": 31,
    "start_time": "2022-06-06T09:02:46.517Z"
   },
   {
    "duration": 17,
    "start_time": "2022-06-06T09:02:46.549Z"
   },
   {
    "duration": 25,
    "start_time": "2022-06-06T09:02:46.568Z"
   },
   {
    "duration": 24,
    "start_time": "2022-06-06T09:02:46.598Z"
   },
   {
    "duration": 7,
    "start_time": "2022-06-06T09:02:46.625Z"
   },
   {
    "duration": 33,
    "start_time": "2022-06-06T09:02:46.634Z"
   },
   {
    "duration": 34,
    "start_time": "2022-06-06T09:02:46.668Z"
   },
   {
    "duration": 3,
    "start_time": "2022-06-06T09:02:46.704Z"
   },
   {
    "duration": 42,
    "start_time": "2022-06-06T09:02:46.708Z"
   },
   {
    "duration": 17,
    "start_time": "2022-06-06T09:02:46.752Z"
   },
   {
    "duration": 332,
    "start_time": "2022-06-06T09:02:46.771Z"
   },
   {
    "duration": 273,
    "start_time": "2022-06-06T09:02:47.106Z"
   },
   {
    "duration": 382,
    "start_time": "2022-06-06T09:02:47.380Z"
   },
   {
    "duration": 10,
    "start_time": "2022-06-06T09:02:47.764Z"
   },
   {
    "duration": 25,
    "start_time": "2022-06-06T09:02:47.776Z"
   },
   {
    "duration": 254,
    "start_time": "2022-06-06T09:02:47.802Z"
   },
   {
    "duration": 34,
    "start_time": "2022-06-06T09:02:48.058Z"
   },
   {
    "duration": 30,
    "start_time": "2022-06-06T09:02:48.094Z"
   },
   {
    "duration": 398,
    "start_time": "2022-06-06T09:02:48.126Z"
   },
   {
    "duration": 296,
    "start_time": "2022-06-06T09:02:48.527Z"
   },
   {
    "duration": 329,
    "start_time": "2022-06-06T09:06:47.192Z"
   },
   {
    "duration": 354,
    "start_time": "2022-06-06T09:18:26.294Z"
   },
   {
    "duration": 37,
    "start_time": "2022-06-06T09:23:10.482Z"
   },
   {
    "duration": 268,
    "start_time": "2022-06-06T09:23:16.322Z"
   },
   {
    "duration": 261,
    "start_time": "2022-06-06T09:24:42.998Z"
   },
   {
    "duration": 256,
    "start_time": "2022-06-06T09:26:47.571Z"
   },
   {
    "duration": 150,
    "start_time": "2022-06-06T09:30:36.996Z"
   },
   {
    "duration": 333,
    "start_time": "2022-06-06T09:36:13.597Z"
   },
   {
    "duration": 336,
    "start_time": "2022-06-06T09:36:52.557Z"
   },
   {
    "duration": 342,
    "start_time": "2022-06-06T09:41:19.602Z"
   },
   {
    "duration": 336,
    "start_time": "2022-06-06T09:41:29.726Z"
   },
   {
    "duration": 450,
    "start_time": "2022-06-06T09:41:36.051Z"
   },
   {
    "duration": 334,
    "start_time": "2022-06-06T09:41:52.446Z"
   },
   {
    "duration": 128,
    "start_time": "2022-06-06T09:41:59.929Z"
   },
   {
    "duration": 453,
    "start_time": "2022-06-06T09:42:12.246Z"
   },
   {
    "duration": 343,
    "start_time": "2022-06-06T09:42:24.018Z"
   },
   {
    "duration": 338,
    "start_time": "2022-06-06T09:42:31.242Z"
   },
   {
    "duration": 199,
    "start_time": "2022-06-06T09:42:37.147Z"
   },
   {
    "duration": 336,
    "start_time": "2022-06-06T09:42:43.514Z"
   },
   {
    "duration": 344,
    "start_time": "2022-06-06T09:43:53.590Z"
   },
   {
    "duration": 337,
    "start_time": "2022-06-06T09:44:07.618Z"
   },
   {
    "duration": 25,
    "start_time": "2022-06-06T09:44:49.446Z"
   },
   {
    "duration": 359,
    "start_time": "2022-06-06T09:51:10.907Z"
   },
   {
    "duration": 32,
    "start_time": "2022-06-06T09:51:24.147Z"
   },
   {
    "duration": 32,
    "start_time": "2022-06-06T09:51:40.919Z"
   },
   {
    "duration": 276,
    "start_time": "2022-06-06T09:51:46.651Z"
   },
   {
    "duration": 277,
    "start_time": "2022-06-06T09:51:54.179Z"
   },
   {
    "duration": 328,
    "start_time": "2022-06-06T09:52:10.835Z"
   },
   {
    "duration": 30,
    "start_time": "2022-06-06T09:53:01.791Z"
   },
   {
    "duration": 454,
    "start_time": "2022-06-06T09:53:53.163Z"
   },
   {
    "duration": 19,
    "start_time": "2022-06-06T09:54:10.980Z"
   },
   {
    "duration": 326,
    "start_time": "2022-06-06T09:54:41.932Z"
   },
   {
    "duration": 277,
    "start_time": "2022-06-06T09:55:28.115Z"
   },
   {
    "duration": 188,
    "start_time": "2022-06-06T09:55:37.367Z"
   },
   {
    "duration": 229,
    "start_time": "2022-06-06T09:56:05.063Z"
   },
   {
    "duration": 55,
    "start_time": "2022-06-06T09:57:37.084Z"
   },
   {
    "duration": 207,
    "start_time": "2022-06-06T09:58:01.355Z"
   },
   {
    "duration": 209,
    "start_time": "2022-06-06T09:58:56.719Z"
   },
   {
    "duration": 194,
    "start_time": "2022-06-06T09:59:06.172Z"
   },
   {
    "duration": 250,
    "start_time": "2022-06-06T09:59:14.188Z"
   },
   {
    "duration": 28,
    "start_time": "2022-06-06T10:01:44.788Z"
   },
   {
    "duration": 28,
    "start_time": "2022-06-06T10:01:50.688Z"
   },
   {
    "duration": 26,
    "start_time": "2022-06-06T10:01:57.960Z"
   },
   {
    "duration": 25,
    "start_time": "2022-06-06T10:02:05.040Z"
   },
   {
    "duration": 251,
    "start_time": "2022-06-06T10:02:09.580Z"
   },
   {
    "duration": 342,
    "start_time": "2022-06-06T10:03:37.728Z"
   },
   {
    "duration": 269,
    "start_time": "2022-06-06T10:04:05.404Z"
   },
   {
    "duration": 404,
    "start_time": "2022-06-06T10:04:26.060Z"
   },
   {
    "duration": 274,
    "start_time": "2022-06-06T10:05:16.605Z"
   },
   {
    "duration": 266,
    "start_time": "2022-06-06T10:05:29.636Z"
   },
   {
    "duration": 282,
    "start_time": "2022-06-06T10:05:59.168Z"
   },
   {
    "duration": 15,
    "start_time": "2022-06-06T10:56:33.233Z"
   },
   {
    "duration": 12,
    "start_time": "2022-06-06T10:56:41.593Z"
   },
   {
    "duration": 22,
    "start_time": "2022-06-06T10:57:19.109Z"
   },
   {
    "duration": 52,
    "start_time": "2022-06-06T10:57:27.505Z"
   },
   {
    "duration": 29,
    "start_time": "2022-06-06T10:57:32.684Z"
   },
   {
    "duration": 16,
    "start_time": "2022-06-06T11:02:15.148Z"
   },
   {
    "duration": 12,
    "start_time": "2022-06-06T11:02:18.704Z"
   },
   {
    "duration": 18,
    "start_time": "2022-06-06T11:02:39.705Z"
   },
   {
    "duration": 3012,
    "start_time": "2022-06-06T11:04:52.691Z"
   },
   {
    "duration": 17,
    "start_time": "2022-06-06T11:05:54.371Z"
   },
   {
    "duration": 384,
    "start_time": "2022-06-06T11:06:27.581Z"
   },
   {
    "duration": 16,
    "start_time": "2022-06-06T11:07:15.078Z"
   },
   {
    "duration": 15,
    "start_time": "2022-06-06T11:07:26.581Z"
   },
   {
    "duration": 20,
    "start_time": "2022-06-06T11:07:31.841Z"
   },
   {
    "duration": 17,
    "start_time": "2022-06-06T11:07:39.777Z"
   },
   {
    "duration": 8,
    "start_time": "2022-06-06T11:22:20.120Z"
   },
   {
    "duration": 25,
    "start_time": "2022-06-06T11:22:27.057Z"
   },
   {
    "duration": 20,
    "start_time": "2022-06-06T11:22:32.541Z"
   },
   {
    "duration": 9,
    "start_time": "2022-06-06T11:22:48.849Z"
   },
   {
    "duration": 12,
    "start_time": "2022-06-06T11:23:04.257Z"
   },
   {
    "duration": 42,
    "start_time": "2022-06-06T11:28:54.746Z"
   },
   {
    "duration": 29,
    "start_time": "2022-06-06T11:29:10.222Z"
   },
   {
    "duration": 3,
    "start_time": "2022-06-06T11:29:26.058Z"
   },
   {
    "duration": 153,
    "start_time": "2022-06-06T11:30:54.750Z"
   },
   {
    "duration": 13,
    "start_time": "2022-06-06T11:31:11.102Z"
   },
   {
    "duration": 40,
    "start_time": "2022-06-06T11:31:32.369Z"
   },
   {
    "duration": 47,
    "start_time": "2022-06-06T11:31:39.311Z"
   },
   {
    "duration": 50,
    "start_time": "2022-06-06T11:31:55.246Z"
   },
   {
    "duration": 45,
    "start_time": "2022-06-06T11:32:10.147Z"
   },
   {
    "duration": 48,
    "start_time": "2022-06-06T11:32:27.458Z"
   },
   {
    "duration": 53,
    "start_time": "2022-06-06T11:33:19.326Z"
   },
   {
    "duration": 47,
    "start_time": "2022-06-06T11:33:22.896Z"
   },
   {
    "duration": 56,
    "start_time": "2022-06-06T11:33:47.772Z"
   },
   {
    "duration": 47,
    "start_time": "2022-06-06T11:47:07.687Z"
   },
   {
    "duration": 33,
    "start_time": "2022-06-06T11:47:11.167Z"
   },
   {
    "duration": 27,
    "start_time": "2022-06-06T11:47:33.803Z"
   },
   {
    "duration": 90,
    "start_time": "2022-06-06T11:48:00.340Z"
   },
   {
    "duration": 23,
    "start_time": "2022-06-06T11:48:11.203Z"
   },
   {
    "duration": 24,
    "start_time": "2022-06-06T11:48:37.486Z"
   },
   {
    "duration": 24,
    "start_time": "2022-06-06T11:49:13.198Z"
   },
   {
    "duration": 8,
    "start_time": "2022-06-06T11:50:15.747Z"
   },
   {
    "duration": 23,
    "start_time": "2022-06-06T11:50:29.930Z"
   },
   {
    "duration": 13,
    "start_time": "2022-06-06T11:50:46.933Z"
   },
   {
    "duration": 29,
    "start_time": "2022-06-06T11:51:00.286Z"
   },
   {
    "duration": 22,
    "start_time": "2022-06-06T11:51:21.522Z"
   },
   {
    "duration": 20,
    "start_time": "2022-06-06T11:51:24.116Z"
   },
   {
    "duration": 22,
    "start_time": "2022-06-06T11:51:58.004Z"
   },
   {
    "duration": 21,
    "start_time": "2022-06-06T11:52:33.919Z"
   },
   {
    "duration": 22,
    "start_time": "2022-06-06T11:52:43.490Z"
   },
   {
    "duration": 10,
    "start_time": "2022-06-06T11:55:05.640Z"
   },
   {
    "duration": 11,
    "start_time": "2022-06-06T12:02:29.370Z"
   },
   {
    "duration": 459,
    "start_time": "2022-06-06T12:02:44.447Z"
   },
   {
    "duration": 14,
    "start_time": "2022-06-06T12:03:18.906Z"
   },
   {
    "duration": 1064,
    "start_time": "2022-06-06T12:03:21.716Z"
   },
   {
    "duration": 18,
    "start_time": "2022-06-06T12:10:15.071Z"
   },
   {
    "duration": 43,
    "start_time": "2022-06-06T12:10:32.330Z"
   },
   {
    "duration": 16,
    "start_time": "2022-06-06T12:11:41.203Z"
   },
   {
    "duration": 17,
    "start_time": "2022-06-06T12:12:03.534Z"
   },
   {
    "duration": 20,
    "start_time": "2022-06-06T12:12:22.622Z"
   },
   {
    "duration": 21,
    "start_time": "2022-06-06T12:13:08.582Z"
   },
   {
    "duration": 24,
    "start_time": "2022-06-06T12:14:25.630Z"
   },
   {
    "duration": 20,
    "start_time": "2022-06-06T12:16:00.245Z"
   },
   {
    "duration": 32,
    "start_time": "2022-06-06T12:16:09.795Z"
   },
   {
    "duration": 2089,
    "start_time": "2022-06-06T12:16:23.796Z"
   },
   {
    "duration": 3917,
    "start_time": "2022-06-06T12:18:21.508Z"
   },
   {
    "duration": 1678,
    "start_time": "2022-06-06T12:18:38.726Z"
   },
   {
    "duration": 1998,
    "start_time": "2022-06-06T12:19:40.846Z"
   },
   {
    "duration": 2003,
    "start_time": "2022-06-06T12:19:52.683Z"
   },
   {
    "duration": 1647,
    "start_time": "2022-06-06T12:22:17.176Z"
   },
   {
    "duration": 10,
    "start_time": "2022-06-06T12:29:58.328Z"
   },
   {
    "duration": 18,
    "start_time": "2022-06-06T13:08:55.045Z"
   },
   {
    "duration": 14,
    "start_time": "2022-06-06T13:09:09.080Z"
   },
   {
    "duration": 22,
    "start_time": "2022-06-06T13:09:23.328Z"
   },
   {
    "duration": 20,
    "start_time": "2022-06-06T13:09:28.945Z"
   },
   {
    "duration": 22,
    "start_time": "2022-06-06T13:10:34.660Z"
   },
   {
    "duration": 21,
    "start_time": "2022-06-06T13:10:57.256Z"
   },
   {
    "duration": 21,
    "start_time": "2022-06-06T13:11:05.180Z"
   },
   {
    "duration": 284,
    "start_time": "2022-06-06T14:00:41.322Z"
   },
   {
    "duration": 258,
    "start_time": "2022-06-06T14:01:26.622Z"
   },
   {
    "duration": 282,
    "start_time": "2022-06-06T14:01:40.426Z"
   },
   {
    "duration": 264,
    "start_time": "2022-06-06T14:01:49.310Z"
   },
   {
    "duration": 527,
    "start_time": "2022-06-06T14:01:57.398Z"
   },
   {
    "duration": 270,
    "start_time": "2022-06-06T14:02:00.398Z"
   },
   {
    "duration": 293,
    "start_time": "2022-06-06T14:02:04.587Z"
   },
   {
    "duration": 258,
    "start_time": "2022-06-06T14:02:11.218Z"
   },
   {
    "duration": 267,
    "start_time": "2022-06-06T14:02:59.346Z"
   },
   {
    "duration": 10,
    "start_time": "2022-06-06T14:03:52.607Z"
   },
   {
    "duration": 1620,
    "start_time": "2022-06-07T12:42:10.758Z"
   },
   {
    "duration": 246,
    "start_time": "2022-06-07T12:42:12.380Z"
   },
   {
    "duration": 5,
    "start_time": "2022-06-07T12:42:12.628Z"
   },
   {
    "duration": 52,
    "start_time": "2022-06-07T12:42:12.635Z"
   },
   {
    "duration": 12,
    "start_time": "2022-06-07T12:42:12.689Z"
   },
   {
    "duration": 16,
    "start_time": "2022-06-07T12:42:12.703Z"
   },
   {
    "duration": 30,
    "start_time": "2022-06-07T12:42:12.721Z"
   },
   {
    "duration": 17,
    "start_time": "2022-06-07T12:42:12.752Z"
   },
   {
    "duration": 10,
    "start_time": "2022-06-07T12:42:12.771Z"
   },
   {
    "duration": 33,
    "start_time": "2022-06-07T12:42:12.783Z"
   },
   {
    "duration": 9,
    "start_time": "2022-06-07T12:42:12.818Z"
   },
   {
    "duration": 20,
    "start_time": "2022-06-07T12:42:12.829Z"
   },
   {
    "duration": 24,
    "start_time": "2022-06-07T12:42:12.851Z"
   },
   {
    "duration": 2,
    "start_time": "2022-06-07T12:42:12.878Z"
   },
   {
    "duration": 38,
    "start_time": "2022-06-07T12:42:12.882Z"
   },
   {
    "duration": 41,
    "start_time": "2022-06-07T12:42:12.922Z"
   },
   {
    "duration": 452,
    "start_time": "2022-06-07T12:42:12.965Z"
   },
   {
    "duration": 227,
    "start_time": "2022-06-07T12:42:13.419Z"
   },
   {
    "duration": 397,
    "start_time": "2022-06-07T12:42:13.647Z"
   },
   {
    "duration": 12,
    "start_time": "2022-06-07T12:42:14.046Z"
   },
   {
    "duration": 17,
    "start_time": "2022-06-07T12:42:14.061Z"
   },
   {
    "duration": 279,
    "start_time": "2022-06-07T12:42:14.080Z"
   },
   {
    "duration": 10,
    "start_time": "2022-06-07T12:42:14.361Z"
   },
   {
    "duration": 28,
    "start_time": "2022-06-07T12:42:14.372Z"
   },
   {
    "duration": 298,
    "start_time": "2022-06-07T12:42:14.402Z"
   },
   {
    "duration": 271,
    "start_time": "2022-06-07T12:42:14.702Z"
   },
   {
    "duration": 17,
    "start_time": "2022-06-07T12:42:14.976Z"
   },
   {
    "duration": 45,
    "start_time": "2022-06-07T12:42:14.996Z"
   },
   {
    "duration": 122,
    "start_time": "2022-06-07T12:42:15.043Z"
   },
   {
    "duration": 1395,
    "start_time": "2022-06-07T12:42:15.166Z"
   },
   {
    "duration": 18,
    "start_time": "2022-06-07T12:42:16.563Z"
   },
   {
    "duration": 258,
    "start_time": "2022-06-07T12:42:16.583Z"
   },
   {
    "duration": 9,
    "start_time": "2022-06-07T12:42:16.843Z"
   },
   {
    "duration": 275,
    "start_time": "2022-06-07T12:42:16.859Z"
   },
   {
    "duration": 175,
    "start_time": "2022-06-07T12:45:24.707Z"
   },
   {
    "duration": 191,
    "start_time": "2022-06-07T12:45:36.782Z"
   },
   {
    "duration": 156,
    "start_time": "2022-06-07T12:46:54.137Z"
   },
   {
    "duration": 37,
    "start_time": "2022-06-07T12:47:03.809Z"
   },
   {
    "duration": 36,
    "start_time": "2022-06-07T12:47:11.582Z"
   },
   {
    "duration": 46,
    "start_time": "2022-06-07T12:47:38.823Z"
   },
   {
    "duration": 143,
    "start_time": "2022-06-07T12:48:51.972Z"
   },
   {
    "duration": 39,
    "start_time": "2022-06-07T12:50:21.632Z"
   },
   {
    "duration": 52,
    "start_time": "2022-06-07T12:50:34.724Z"
   },
   {
    "duration": 1331,
    "start_time": "2022-06-07T13:01:37.783Z"
   },
   {
    "duration": 73,
    "start_time": "2022-06-07T13:01:39.116Z"
   },
   {
    "duration": 4,
    "start_time": "2022-06-07T13:01:39.192Z"
   },
   {
    "duration": 66,
    "start_time": "2022-06-07T13:01:39.197Z"
   },
   {
    "duration": 19,
    "start_time": "2022-06-07T13:01:39.268Z"
   },
   {
    "duration": 8,
    "start_time": "2022-06-07T13:01:39.289Z"
   },
   {
    "duration": 8,
    "start_time": "2022-06-07T13:01:39.299Z"
   },
   {
    "duration": 9,
    "start_time": "2022-06-07T13:01:39.309Z"
   },
   {
    "duration": 4,
    "start_time": "2022-06-07T13:01:39.320Z"
   },
   {
    "duration": 9,
    "start_time": "2022-06-07T13:01:39.325Z"
   },
   {
    "duration": 4,
    "start_time": "2022-06-07T13:01:39.360Z"
   },
   {
    "duration": 29,
    "start_time": "2022-06-07T13:01:39.366Z"
   },
   {
    "duration": 23,
    "start_time": "2022-06-07T13:01:39.396Z"
   },
   {
    "duration": 3,
    "start_time": "2022-06-07T13:01:39.421Z"
   },
   {
    "duration": 66,
    "start_time": "2022-06-07T13:01:39.425Z"
   },
   {
    "duration": 13,
    "start_time": "2022-06-07T13:01:39.493Z"
   },
   {
    "duration": 330,
    "start_time": "2022-06-07T13:01:39.508Z"
   },
   {
    "duration": 272,
    "start_time": "2022-06-07T13:01:39.840Z"
   },
   {
    "duration": 339,
    "start_time": "2022-06-07T13:01:40.114Z"
   },
   {
    "duration": 10,
    "start_time": "2022-06-07T13:01:40.454Z"
   },
   {
    "duration": 19,
    "start_time": "2022-06-07T13:01:40.465Z"
   },
   {
    "duration": 282,
    "start_time": "2022-06-07T13:01:40.486Z"
   },
   {
    "duration": 16,
    "start_time": "2022-06-07T13:01:40.771Z"
   },
   {
    "duration": 23,
    "start_time": "2022-06-07T13:01:40.789Z"
   },
   {
    "duration": 334,
    "start_time": "2022-06-07T13:01:40.814Z"
   },
   {
    "duration": 241,
    "start_time": "2022-06-07T13:01:41.149Z"
   },
   {
    "duration": 13,
    "start_time": "2022-06-07T13:01:41.392Z"
   },
   {
    "duration": 10,
    "start_time": "2022-06-07T13:01:41.407Z"
   },
   {
    "duration": 154,
    "start_time": "2022-06-07T13:01:41.419Z"
   },
   {
    "duration": 1434,
    "start_time": "2022-06-07T13:01:41.575Z"
   },
   {
    "duration": 22,
    "start_time": "2022-06-07T13:01:43.012Z"
   },
   {
    "duration": 260,
    "start_time": "2022-06-07T13:01:43.036Z"
   },
   {
    "duration": 9,
    "start_time": "2022-06-07T13:01:43.297Z"
   },
   {
    "duration": 326,
    "start_time": "2022-06-07T13:01:43.308Z"
   },
   {
    "duration": 0,
    "start_time": "2022-06-07T13:01:43.636Z"
   },
   {
    "duration": 0,
    "start_time": "2022-06-07T13:01:43.637Z"
   },
   {
    "duration": 43,
    "start_time": "2022-06-07T13:02:07.768Z"
   },
   {
    "duration": 1347,
    "start_time": "2022-06-07T13:02:14.291Z"
   },
   {
    "duration": 69,
    "start_time": "2022-06-07T13:02:15.640Z"
   },
   {
    "duration": 4,
    "start_time": "2022-06-07T13:02:15.711Z"
   },
   {
    "duration": 91,
    "start_time": "2022-06-07T13:02:15.718Z"
   },
   {
    "duration": 10,
    "start_time": "2022-06-07T13:02:15.810Z"
   },
   {
    "duration": 29,
    "start_time": "2022-06-07T13:02:15.822Z"
   },
   {
    "duration": 25,
    "start_time": "2022-06-07T13:02:15.853Z"
   },
   {
    "duration": 25,
    "start_time": "2022-06-07T13:02:15.879Z"
   },
   {
    "duration": 29,
    "start_time": "2022-06-07T13:02:15.905Z"
   },
   {
    "duration": 25,
    "start_time": "2022-06-07T13:02:15.937Z"
   },
   {
    "duration": 25,
    "start_time": "2022-06-07T13:02:15.964Z"
   },
   {
    "duration": 45,
    "start_time": "2022-06-07T13:02:15.992Z"
   },
   {
    "duration": 40,
    "start_time": "2022-06-07T13:02:16.039Z"
   },
   {
    "duration": 3,
    "start_time": "2022-06-07T13:02:16.081Z"
   },
   {
    "duration": 38,
    "start_time": "2022-06-07T13:02:16.086Z"
   },
   {
    "duration": 16,
    "start_time": "2022-06-07T13:02:16.126Z"
   },
   {
    "duration": 339,
    "start_time": "2022-06-07T13:02:16.143Z"
   },
   {
    "duration": 317,
    "start_time": "2022-06-07T13:02:16.485Z"
   },
   {
    "duration": 364,
    "start_time": "2022-06-07T13:02:16.804Z"
   },
   {
    "duration": 17,
    "start_time": "2022-06-07T13:02:17.170Z"
   },
   {
    "duration": 88,
    "start_time": "2022-06-07T13:02:17.189Z"
   },
   {
    "duration": 223,
    "start_time": "2022-06-07T13:02:17.280Z"
   },
   {
    "duration": 10,
    "start_time": "2022-06-07T13:02:17.506Z"
   },
   {
    "duration": 41,
    "start_time": "2022-06-07T13:02:17.518Z"
   },
   {
    "duration": 379,
    "start_time": "2022-06-07T13:02:17.562Z"
   },
   {
    "duration": 273,
    "start_time": "2022-06-07T13:02:17.943Z"
   },
   {
    "duration": 12,
    "start_time": "2022-06-07T13:02:18.217Z"
   },
   {
    "duration": 9,
    "start_time": "2022-06-07T13:02:18.233Z"
   },
   {
    "duration": 24,
    "start_time": "2022-06-07T13:02:18.263Z"
   },
   {
    "duration": 1518,
    "start_time": "2022-06-07T13:02:18.289Z"
   },
   {
    "duration": 17,
    "start_time": "2022-06-07T13:02:19.809Z"
   },
   {
    "duration": 232,
    "start_time": "2022-06-07T13:02:19.827Z"
   },
   {
    "duration": 10,
    "start_time": "2022-06-07T13:02:20.060Z"
   },
   {
    "duration": 178,
    "start_time": "2022-06-07T13:02:20.072Z"
   },
   {
    "duration": 183,
    "start_time": "2022-06-07T13:02:20.252Z"
   },
   {
    "duration": 0,
    "start_time": "2022-06-07T13:02:20.436Z"
   },
   {
    "duration": 57,
    "start_time": "2022-06-07T13:06:58.366Z"
   },
   {
    "duration": 65,
    "start_time": "2022-06-07T13:09:33.332Z"
   },
   {
    "duration": 200,
    "start_time": "2022-06-07T13:10:00.509Z"
   },
   {
    "duration": 65,
    "start_time": "2022-06-07T13:10:13.913Z"
   },
   {
    "duration": 1235,
    "start_time": "2022-06-07T13:10:22.484Z"
   },
   {
    "duration": 74,
    "start_time": "2022-06-07T13:10:23.721Z"
   },
   {
    "duration": 3,
    "start_time": "2022-06-07T13:10:23.797Z"
   },
   {
    "duration": 58,
    "start_time": "2022-06-07T13:10:23.801Z"
   },
   {
    "duration": 15,
    "start_time": "2022-06-07T13:10:23.862Z"
   },
   {
    "duration": 6,
    "start_time": "2022-06-07T13:10:23.880Z"
   },
   {
    "duration": 10,
    "start_time": "2022-06-07T13:10:23.888Z"
   },
   {
    "duration": 10,
    "start_time": "2022-06-07T13:10:23.899Z"
   },
   {
    "duration": 6,
    "start_time": "2022-06-07T13:10:23.910Z"
   },
   {
    "duration": 5,
    "start_time": "2022-06-07T13:10:23.917Z"
   },
   {
    "duration": 36,
    "start_time": "2022-06-07T13:10:23.923Z"
   },
   {
    "duration": 26,
    "start_time": "2022-06-07T13:10:23.961Z"
   },
   {
    "duration": 21,
    "start_time": "2022-06-07T13:10:23.989Z"
   },
   {
    "duration": 2,
    "start_time": "2022-06-07T13:10:24.012Z"
   },
   {
    "duration": 45,
    "start_time": "2022-06-07T13:10:24.016Z"
   },
   {
    "duration": 20,
    "start_time": "2022-06-07T13:10:24.063Z"
   },
   {
    "duration": 327,
    "start_time": "2022-06-07T13:10:24.085Z"
   },
   {
    "duration": 234,
    "start_time": "2022-06-07T13:10:24.414Z"
   },
   {
    "duration": 350,
    "start_time": "2022-06-07T13:10:24.650Z"
   },
   {
    "duration": 9,
    "start_time": "2022-06-07T13:10:25.002Z"
   },
   {
    "duration": 15,
    "start_time": "2022-06-07T13:10:25.013Z"
   },
   {
    "duration": 232,
    "start_time": "2022-06-07T13:10:25.030Z"
   },
   {
    "duration": 15,
    "start_time": "2022-06-07T13:10:25.264Z"
   },
   {
    "duration": 34,
    "start_time": "2022-06-07T13:10:25.281Z"
   },
   {
    "duration": 327,
    "start_time": "2022-06-07T13:10:25.318Z"
   },
   {
    "duration": 268,
    "start_time": "2022-06-07T13:10:25.647Z"
   },
   {
    "duration": 12,
    "start_time": "2022-06-07T13:10:25.916Z"
   },
   {
    "duration": 7,
    "start_time": "2022-06-07T13:10:25.930Z"
   },
   {
    "duration": 132,
    "start_time": "2022-06-07T13:10:25.939Z"
   },
   {
    "duration": 1409,
    "start_time": "2022-06-07T13:10:26.073Z"
   },
   {
    "duration": 18,
    "start_time": "2022-06-07T13:10:27.484Z"
   },
   {
    "duration": 241,
    "start_time": "2022-06-07T13:10:27.504Z"
   },
   {
    "duration": 13,
    "start_time": "2022-06-07T13:10:27.747Z"
   },
   {
    "duration": 173,
    "start_time": "2022-06-07T13:10:27.762Z"
   },
   {
    "duration": 184,
    "start_time": "2022-06-07T13:10:27.936Z"
   },
   {
    "duration": 0,
    "start_time": "2022-06-07T13:10:28.122Z"
   },
   {
    "duration": 19,
    "start_time": "2022-06-07T13:25:45.368Z"
   },
   {
    "duration": 25,
    "start_time": "2022-06-07T13:26:07.074Z"
   },
   {
    "duration": 13,
    "start_time": "2022-06-07T13:26:12.573Z"
   },
   {
    "duration": 17,
    "start_time": "2022-06-07T13:26:17.917Z"
   },
   {
    "duration": 15,
    "start_time": "2022-06-07T13:26:30.189Z"
   },
   {
    "duration": 1225,
    "start_time": "2022-06-07T13:26:49.748Z"
   },
   {
    "duration": 69,
    "start_time": "2022-06-07T13:26:50.975Z"
   },
   {
    "duration": 4,
    "start_time": "2022-06-07T13:26:51.046Z"
   },
   {
    "duration": 80,
    "start_time": "2022-06-07T13:26:51.052Z"
   },
   {
    "duration": 12,
    "start_time": "2022-06-07T13:26:51.134Z"
   },
   {
    "duration": 13,
    "start_time": "2022-06-07T13:26:51.147Z"
   },
   {
    "duration": 28,
    "start_time": "2022-06-07T13:26:51.162Z"
   },
   {
    "duration": 19,
    "start_time": "2022-06-07T13:26:51.192Z"
   },
   {
    "duration": 27,
    "start_time": "2022-06-07T13:26:51.213Z"
   },
   {
    "duration": 33,
    "start_time": "2022-06-07T13:26:51.242Z"
   },
   {
    "duration": 20,
    "start_time": "2022-06-07T13:26:51.277Z"
   },
   {
    "duration": 53,
    "start_time": "2022-06-07T13:26:51.299Z"
   },
   {
    "duration": 40,
    "start_time": "2022-06-07T13:26:51.354Z"
   },
   {
    "duration": 12,
    "start_time": "2022-06-07T13:26:51.396Z"
   },
   {
    "duration": 53,
    "start_time": "2022-06-07T13:26:51.410Z"
   },
   {
    "duration": 47,
    "start_time": "2022-06-07T13:26:51.465Z"
   },
   {
    "duration": 362,
    "start_time": "2022-06-07T13:26:51.515Z"
   },
   {
    "duration": 254,
    "start_time": "2022-06-07T13:26:51.879Z"
   },
   {
    "duration": 390,
    "start_time": "2022-06-07T13:26:52.136Z"
   },
   {
    "duration": 9,
    "start_time": "2022-06-07T13:26:52.528Z"
   },
   {
    "duration": 46,
    "start_time": "2022-06-07T13:26:52.538Z"
   },
   {
    "duration": 189,
    "start_time": "2022-06-07T13:26:52.586Z"
   },
   {
    "duration": 12,
    "start_time": "2022-06-07T13:26:52.777Z"
   },
   {
    "duration": 40,
    "start_time": "2022-06-07T13:26:52.791Z"
   },
   {
    "duration": 361,
    "start_time": "2022-06-07T13:26:52.833Z"
   },
   {
    "duration": 248,
    "start_time": "2022-06-07T13:26:53.196Z"
   },
   {
    "duration": 22,
    "start_time": "2022-06-07T13:26:53.446Z"
   },
   {
    "duration": 15,
    "start_time": "2022-06-07T13:26:53.472Z"
   },
   {
    "duration": 25,
    "start_time": "2022-06-07T13:26:53.489Z"
   },
   {
    "duration": 1499,
    "start_time": "2022-06-07T13:26:53.515Z"
   },
   {
    "duration": 19,
    "start_time": "2022-06-07T13:26:55.016Z"
   },
   {
    "duration": 260,
    "start_time": "2022-06-07T13:26:55.037Z"
   },
   {
    "duration": 8,
    "start_time": "2022-06-07T13:26:55.299Z"
   },
   {
    "duration": 206,
    "start_time": "2022-06-07T13:26:55.309Z"
   },
   {
    "duration": 186,
    "start_time": "2022-06-07T13:26:55.517Z"
   },
   {
    "duration": 68,
    "start_time": "2022-06-07T13:27:29.013Z"
   },
   {
    "duration": 1225,
    "start_time": "2022-06-07T13:27:41.292Z"
   },
   {
    "duration": 73,
    "start_time": "2022-06-07T13:27:42.519Z"
   },
   {
    "duration": 3,
    "start_time": "2022-06-07T13:27:42.594Z"
   },
   {
    "duration": 67,
    "start_time": "2022-06-07T13:27:42.600Z"
   },
   {
    "duration": 16,
    "start_time": "2022-06-07T13:27:42.669Z"
   },
   {
    "duration": 6,
    "start_time": "2022-06-07T13:27:42.686Z"
   },
   {
    "duration": 8,
    "start_time": "2022-06-07T13:27:42.693Z"
   },
   {
    "duration": 8,
    "start_time": "2022-06-07T13:27:42.702Z"
   },
   {
    "duration": 7,
    "start_time": "2022-06-07T13:27:42.711Z"
   },
   {
    "duration": 5,
    "start_time": "2022-06-07T13:27:42.721Z"
   },
   {
    "duration": 3,
    "start_time": "2022-06-07T13:27:42.758Z"
   },
   {
    "duration": 31,
    "start_time": "2022-06-07T13:27:42.763Z"
   },
   {
    "duration": 25,
    "start_time": "2022-06-07T13:27:42.795Z"
   },
   {
    "duration": 2,
    "start_time": "2022-06-07T13:27:42.821Z"
   },
   {
    "duration": 42,
    "start_time": "2022-06-07T13:27:42.825Z"
   },
   {
    "duration": 22,
    "start_time": "2022-06-07T13:27:42.869Z"
   },
   {
    "duration": 343,
    "start_time": "2022-06-07T13:27:42.893Z"
   },
   {
    "duration": 246,
    "start_time": "2022-06-07T13:27:43.238Z"
   },
   {
    "duration": 356,
    "start_time": "2022-06-07T13:27:43.485Z"
   },
   {
    "duration": 16,
    "start_time": "2022-06-07T13:27:43.843Z"
   },
   {
    "duration": 18,
    "start_time": "2022-06-07T13:27:43.860Z"
   },
   {
    "duration": 238,
    "start_time": "2022-06-07T13:27:43.880Z"
   },
   {
    "duration": 9,
    "start_time": "2022-06-07T13:27:44.120Z"
   },
   {
    "duration": 43,
    "start_time": "2022-06-07T13:27:44.131Z"
   },
   {
    "duration": 287,
    "start_time": "2022-06-07T13:27:44.176Z"
   },
   {
    "duration": 241,
    "start_time": "2022-06-07T13:27:44.465Z"
   },
   {
    "duration": 12,
    "start_time": "2022-06-07T13:27:44.708Z"
   },
   {
    "duration": 9,
    "start_time": "2022-06-07T13:27:44.723Z"
   },
   {
    "duration": 41,
    "start_time": "2022-06-07T13:27:44.734Z"
   },
   {
    "duration": 1523,
    "start_time": "2022-06-07T13:27:44.777Z"
   },
   {
    "duration": 18,
    "start_time": "2022-06-07T13:27:46.302Z"
   },
   {
    "duration": 229,
    "start_time": "2022-06-07T13:27:46.322Z"
   },
   {
    "duration": 16,
    "start_time": "2022-06-07T13:27:46.552Z"
   },
   {
    "duration": 192,
    "start_time": "2022-06-07T13:27:46.570Z"
   },
   {
    "duration": 26,
    "start_time": "2022-06-07T13:27:46.764Z"
   },
   {
    "duration": 18,
    "start_time": "2022-06-07T13:28:29.485Z"
   },
   {
    "duration": 19,
    "start_time": "2022-06-07T13:28:43.876Z"
   },
   {
    "duration": 17,
    "start_time": "2022-06-07T13:41:51.138Z"
   },
   {
    "duration": 18,
    "start_time": "2022-06-07T13:42:42.148Z"
   },
   {
    "duration": 233,
    "start_time": "2022-06-07T13:42:50.715Z"
   },
   {
    "duration": 245,
    "start_time": "2022-06-07T13:43:34.849Z"
   },
   {
    "duration": 27,
    "start_time": "2022-06-07T13:45:09.166Z"
   },
   {
    "duration": 30,
    "start_time": "2022-06-07T13:46:35.265Z"
   },
   {
    "duration": 9,
    "start_time": "2022-06-07T13:51:51.909Z"
   },
   {
    "duration": 18,
    "start_time": "2022-06-07T13:51:58.588Z"
   },
   {
    "duration": 1729,
    "start_time": "2022-06-07T13:53:05.713Z"
   },
   {
    "duration": 85,
    "start_time": "2022-06-07T13:53:07.444Z"
   },
   {
    "duration": 4,
    "start_time": "2022-06-07T13:53:07.531Z"
   },
   {
    "duration": 62,
    "start_time": "2022-06-07T13:53:07.537Z"
   },
   {
    "duration": 12,
    "start_time": "2022-06-07T13:53:07.600Z"
   },
   {
    "duration": 6,
    "start_time": "2022-06-07T13:53:07.613Z"
   },
   {
    "duration": 14,
    "start_time": "2022-06-07T13:53:07.620Z"
   },
   {
    "duration": 7,
    "start_time": "2022-06-07T13:53:07.636Z"
   },
   {
    "duration": 5,
    "start_time": "2022-06-07T13:53:07.660Z"
   },
   {
    "duration": 9,
    "start_time": "2022-06-07T13:53:07.667Z"
   },
   {
    "duration": 6,
    "start_time": "2022-06-07T13:53:07.677Z"
   },
   {
    "duration": 25,
    "start_time": "2022-06-07T13:53:07.684Z"
   },
   {
    "duration": 50,
    "start_time": "2022-06-07T13:53:07.710Z"
   },
   {
    "duration": 3,
    "start_time": "2022-06-07T13:53:07.765Z"
   },
   {
    "duration": 33,
    "start_time": "2022-06-07T13:53:07.770Z"
   },
   {
    "duration": 17,
    "start_time": "2022-06-07T13:53:07.804Z"
   },
   {
    "duration": 332,
    "start_time": "2022-06-07T13:53:07.823Z"
   },
   {
    "duration": 235,
    "start_time": "2022-06-07T13:53:08.157Z"
   },
   {
    "duration": 788,
    "start_time": "2022-06-07T13:53:08.394Z"
   },
   {
    "duration": 12,
    "start_time": "2022-06-07T13:53:09.184Z"
   },
   {
    "duration": 14,
    "start_time": "2022-06-07T13:53:09.197Z"
   },
   {
    "duration": 227,
    "start_time": "2022-06-07T13:53:09.213Z"
   },
   {
    "duration": 22,
    "start_time": "2022-06-07T13:53:09.442Z"
   },
   {
    "duration": 25,
    "start_time": "2022-06-07T13:53:09.466Z"
   },
   {
    "duration": 310,
    "start_time": "2022-06-07T13:53:09.493Z"
   },
   {
    "duration": 232,
    "start_time": "2022-06-07T13:53:09.805Z"
   },
   {
    "duration": 21,
    "start_time": "2022-06-07T13:53:10.039Z"
   },
   {
    "duration": 14,
    "start_time": "2022-06-07T13:53:10.061Z"
   },
   {
    "duration": 132,
    "start_time": "2022-06-07T13:53:10.077Z"
   },
   {
    "duration": 1594,
    "start_time": "2022-06-07T13:53:10.211Z"
   },
   {
    "duration": 21,
    "start_time": "2022-06-07T13:53:11.807Z"
   },
   {
    "duration": 266,
    "start_time": "2022-06-07T13:53:11.829Z"
   },
   {
    "duration": 9,
    "start_time": "2022-06-07T13:53:12.096Z"
   },
   {
    "duration": 202,
    "start_time": "2022-06-07T13:53:12.107Z"
   },
   {
    "duration": 17,
    "start_time": "2022-06-07T13:53:12.311Z"
   },
   {
    "duration": 30,
    "start_time": "2022-06-07T13:53:12.330Z"
   },
   {
    "duration": 268,
    "start_time": "2022-06-07T13:53:12.362Z"
   },
   {
    "duration": 37,
    "start_time": "2022-06-07T13:53:12.632Z"
   },
   {
    "duration": 16,
    "start_time": "2022-06-07T13:54:01.242Z"
   },
   {
    "duration": 656,
    "start_time": "2022-06-07T13:54:38.753Z"
   },
   {
    "duration": 1281,
    "start_time": "2022-06-07T13:54:47.871Z"
   },
   {
    "duration": 69,
    "start_time": "2022-06-07T13:54:49.154Z"
   },
   {
    "duration": 4,
    "start_time": "2022-06-07T13:54:49.224Z"
   },
   {
    "duration": 84,
    "start_time": "2022-06-07T13:54:49.231Z"
   },
   {
    "duration": 10,
    "start_time": "2022-06-07T13:54:49.316Z"
   },
   {
    "duration": 45,
    "start_time": "2022-06-07T13:54:49.327Z"
   },
   {
    "duration": 24,
    "start_time": "2022-06-07T13:54:49.373Z"
   },
   {
    "duration": 39,
    "start_time": "2022-06-07T13:54:49.399Z"
   },
   {
    "duration": 31,
    "start_time": "2022-06-07T13:54:49.439Z"
   },
   {
    "duration": 14,
    "start_time": "2022-06-07T13:54:49.472Z"
   },
   {
    "duration": 36,
    "start_time": "2022-06-07T13:54:49.488Z"
   },
   {
    "duration": 32,
    "start_time": "2022-06-07T13:54:49.525Z"
   },
   {
    "duration": 43,
    "start_time": "2022-06-07T13:54:49.559Z"
   },
   {
    "duration": 2,
    "start_time": "2022-06-07T13:54:49.604Z"
   },
   {
    "duration": 57,
    "start_time": "2022-06-07T13:54:49.608Z"
   },
   {
    "duration": 20,
    "start_time": "2022-06-07T13:54:49.667Z"
   },
   {
    "duration": 305,
    "start_time": "2022-06-07T13:54:49.688Z"
   },
   {
    "duration": 235,
    "start_time": "2022-06-07T13:54:49.995Z"
   },
   {
    "duration": 346,
    "start_time": "2022-06-07T13:54:50.231Z"
   },
   {
    "duration": 13,
    "start_time": "2022-06-07T13:54:50.579Z"
   },
   {
    "duration": 18,
    "start_time": "2022-06-07T13:54:50.594Z"
   },
   {
    "duration": 263,
    "start_time": "2022-06-07T13:54:50.614Z"
   },
   {
    "duration": 9,
    "start_time": "2022-06-07T13:54:50.879Z"
   },
   {
    "duration": 25,
    "start_time": "2022-06-07T13:54:50.890Z"
   },
   {
    "duration": 317,
    "start_time": "2022-06-07T13:54:50.917Z"
   },
   {
    "duration": 251,
    "start_time": "2022-06-07T13:54:51.236Z"
   },
   {
    "duration": 13,
    "start_time": "2022-06-07T13:54:51.489Z"
   },
   {
    "duration": 8,
    "start_time": "2022-06-07T13:54:51.506Z"
   },
   {
    "duration": 43,
    "start_time": "2022-06-07T13:54:51.516Z"
   },
   {
    "duration": 1565,
    "start_time": "2022-06-07T13:54:51.561Z"
   },
   {
    "duration": 36,
    "start_time": "2022-06-07T13:54:53.127Z"
   },
   {
    "duration": 221,
    "start_time": "2022-06-07T13:54:53.166Z"
   },
   {
    "duration": 9,
    "start_time": "2022-06-07T13:54:53.389Z"
   },
   {
    "duration": 186,
    "start_time": "2022-06-07T13:54:53.400Z"
   },
   {
    "duration": 169,
    "start_time": "2022-06-07T13:54:53.587Z"
   },
   {
    "duration": 0,
    "start_time": "2022-06-07T13:54:53.760Z"
   },
   {
    "duration": 0,
    "start_time": "2022-06-07T13:54:53.761Z"
   },
   {
    "duration": 0,
    "start_time": "2022-06-07T13:54:53.762Z"
   },
   {
    "duration": 20,
    "start_time": "2022-06-07T13:55:22.387Z"
   },
   {
    "duration": 21,
    "start_time": "2022-06-07T13:55:43.208Z"
   },
   {
    "duration": 26,
    "start_time": "2022-06-07T13:56:30.237Z"
   },
   {
    "duration": 2070,
    "start_time": "2022-06-07T13:59:31.410Z"
   },
   {
    "duration": 68,
    "start_time": "2022-06-07T13:59:33.482Z"
   },
   {
    "duration": 3,
    "start_time": "2022-06-07T13:59:33.552Z"
   },
   {
    "duration": 63,
    "start_time": "2022-06-07T13:59:33.558Z"
   },
   {
    "duration": 12,
    "start_time": "2022-06-07T13:59:33.623Z"
   },
   {
    "duration": 9,
    "start_time": "2022-06-07T13:59:33.636Z"
   },
   {
    "duration": 17,
    "start_time": "2022-06-07T13:59:33.647Z"
   },
   {
    "duration": 6,
    "start_time": "2022-06-07T13:59:33.666Z"
   },
   {
    "duration": 7,
    "start_time": "2022-06-07T13:59:33.673Z"
   },
   {
    "duration": 5,
    "start_time": "2022-06-07T13:59:33.682Z"
   },
   {
    "duration": 3,
    "start_time": "2022-06-07T13:59:33.689Z"
   },
   {
    "duration": 19,
    "start_time": "2022-06-07T13:59:33.694Z"
   },
   {
    "duration": 56,
    "start_time": "2022-06-07T13:59:33.715Z"
   },
   {
    "duration": 3,
    "start_time": "2022-06-07T13:59:33.773Z"
   },
   {
    "duration": 28,
    "start_time": "2022-06-07T13:59:33.777Z"
   },
   {
    "duration": 15,
    "start_time": "2022-06-07T13:59:33.806Z"
   },
   {
    "duration": 316,
    "start_time": "2022-06-07T13:59:33.822Z"
   },
   {
    "duration": 234,
    "start_time": "2022-06-07T13:59:34.140Z"
   },
   {
    "duration": 718,
    "start_time": "2022-06-07T13:59:34.376Z"
   },
   {
    "duration": 9,
    "start_time": "2022-06-07T13:59:35.095Z"
   },
   {
    "duration": 21,
    "start_time": "2022-06-07T13:59:35.105Z"
   },
   {
    "duration": 205,
    "start_time": "2022-06-07T13:59:35.127Z"
   },
   {
    "duration": 9,
    "start_time": "2022-06-07T13:59:35.333Z"
   },
   {
    "duration": 33,
    "start_time": "2022-06-07T13:59:35.343Z"
   },
   {
    "duration": 283,
    "start_time": "2022-06-07T13:59:35.378Z"
   },
   {
    "duration": 241,
    "start_time": "2022-06-07T13:59:35.663Z"
   },
   {
    "duration": 13,
    "start_time": "2022-06-07T13:59:35.906Z"
   },
   {
    "duration": 9,
    "start_time": "2022-06-07T13:59:35.922Z"
   },
   {
    "duration": 42,
    "start_time": "2022-06-07T13:59:35.932Z"
   },
   {
    "duration": 1522,
    "start_time": "2022-06-07T13:59:35.975Z"
   },
   {
    "duration": 19,
    "start_time": "2022-06-07T13:59:37.498Z"
   },
   {
    "duration": 227,
    "start_time": "2022-06-07T13:59:37.519Z"
   },
   {
    "duration": 12,
    "start_time": "2022-06-07T13:59:37.748Z"
   },
   {
    "duration": 179,
    "start_time": "2022-06-07T13:59:37.762Z"
   },
   {
    "duration": 27,
    "start_time": "2022-06-07T13:59:37.943Z"
   },
   {
    "duration": 17,
    "start_time": "2022-06-07T13:59:37.972Z"
   },
   {
    "duration": 254,
    "start_time": "2022-06-07T13:59:37.991Z"
   },
   {
    "duration": 28,
    "start_time": "2022-06-07T13:59:38.247Z"
   },
   {
    "duration": 3,
    "start_time": "2022-06-07T15:25:19.973Z"
   },
   {
    "duration": 3,
    "start_time": "2022-06-07T15:29:37.671Z"
   },
   {
    "duration": 16,
    "start_time": "2022-06-07T15:39:55.022Z"
   },
   {
    "duration": 25,
    "start_time": "2022-06-07T15:40:39.162Z"
   },
   {
    "duration": 1231,
    "start_time": "2022-06-07T15:58:10.570Z"
   },
   {
    "duration": 252,
    "start_time": "2022-06-07T15:58:11.802Z"
   },
   {
    "duration": 5,
    "start_time": "2022-06-07T15:58:12.056Z"
   },
   {
    "duration": 63,
    "start_time": "2022-06-07T15:58:12.063Z"
   },
   {
    "duration": 11,
    "start_time": "2022-06-07T15:58:12.128Z"
   },
   {
    "duration": 8,
    "start_time": "2022-06-07T15:58:12.140Z"
   },
   {
    "duration": 12,
    "start_time": "2022-06-07T15:58:12.163Z"
   },
   {
    "duration": 10,
    "start_time": "2022-06-07T15:58:12.177Z"
   },
   {
    "duration": 6,
    "start_time": "2022-06-07T15:58:12.189Z"
   },
   {
    "duration": 5,
    "start_time": "2022-06-07T15:58:12.198Z"
   },
   {
    "duration": 15,
    "start_time": "2022-06-07T15:58:12.204Z"
   },
   {
    "duration": 20,
    "start_time": "2022-06-07T15:58:12.220Z"
   },
   {
    "duration": 33,
    "start_time": "2022-06-07T15:58:12.241Z"
   },
   {
    "duration": 22,
    "start_time": "2022-06-07T15:58:12.275Z"
   },
   {
    "duration": 2,
    "start_time": "2022-06-07T15:58:12.299Z"
   },
   {
    "duration": 26,
    "start_time": "2022-06-07T15:58:12.303Z"
   },
   {
    "duration": 40,
    "start_time": "2022-06-07T15:58:12.331Z"
   },
   {
    "duration": 343,
    "start_time": "2022-06-07T15:58:12.374Z"
   },
   {
    "duration": 278,
    "start_time": "2022-06-07T15:58:12.719Z"
   },
   {
    "duration": 394,
    "start_time": "2022-06-07T15:58:12.999Z"
   },
   {
    "duration": 9,
    "start_time": "2022-06-07T15:58:13.394Z"
   },
   {
    "duration": 17,
    "start_time": "2022-06-07T15:58:13.404Z"
   },
   {
    "duration": 216,
    "start_time": "2022-06-07T15:58:13.423Z"
   },
   {
    "duration": 20,
    "start_time": "2022-06-07T15:58:13.641Z"
   },
   {
    "duration": 38,
    "start_time": "2022-06-07T15:58:13.663Z"
   },
   {
    "duration": 313,
    "start_time": "2022-06-07T15:58:13.703Z"
   },
   {
    "duration": 249,
    "start_time": "2022-06-07T15:58:14.018Z"
   },
   {
    "duration": 15,
    "start_time": "2022-06-07T15:58:14.271Z"
   },
   {
    "duration": 21,
    "start_time": "2022-06-07T15:58:14.287Z"
   },
   {
    "duration": 133,
    "start_time": "2022-06-07T15:58:14.309Z"
   },
   {
    "duration": 1307,
    "start_time": "2022-06-07T15:58:14.443Z"
   },
   {
    "duration": 27,
    "start_time": "2022-06-07T15:58:15.752Z"
   },
   {
    "duration": 248,
    "start_time": "2022-06-07T15:58:15.781Z"
   },
   {
    "duration": 14,
    "start_time": "2022-06-07T15:58:16.031Z"
   },
   {
    "duration": 177,
    "start_time": "2022-06-07T15:58:16.062Z"
   },
   {
    "duration": 33,
    "start_time": "2022-06-07T15:58:16.241Z"
   },
   {
    "duration": 17,
    "start_time": "2022-06-07T15:58:16.276Z"
   },
   {
    "duration": 250,
    "start_time": "2022-06-07T15:58:16.294Z"
   },
   {
    "duration": 37,
    "start_time": "2022-06-07T15:58:16.546Z"
   },
   {
    "duration": 23,
    "start_time": "2022-06-07T16:00:24.571Z"
   },
   {
    "duration": 1219,
    "start_time": "2022-06-07T16:00:29.996Z"
   },
   {
    "duration": 75,
    "start_time": "2022-06-07T16:00:31.217Z"
   },
   {
    "duration": 3,
    "start_time": "2022-06-07T16:00:31.294Z"
   },
   {
    "duration": 61,
    "start_time": "2022-06-07T16:00:31.299Z"
   },
   {
    "duration": 16,
    "start_time": "2022-06-07T16:00:31.362Z"
   },
   {
    "duration": 18,
    "start_time": "2022-06-07T16:00:31.380Z"
   },
   {
    "duration": 18,
    "start_time": "2022-06-07T16:00:31.400Z"
   },
   {
    "duration": 29,
    "start_time": "2022-06-07T16:00:31.419Z"
   },
   {
    "duration": 12,
    "start_time": "2022-06-07T16:00:31.449Z"
   },
   {
    "duration": 23,
    "start_time": "2022-06-07T16:00:31.465Z"
   },
   {
    "duration": 8,
    "start_time": "2022-06-07T16:00:31.490Z"
   },
   {
    "duration": 41,
    "start_time": "2022-06-07T16:00:31.499Z"
   },
   {
    "duration": 15,
    "start_time": "2022-06-07T16:00:31.542Z"
   },
   {
    "duration": 23,
    "start_time": "2022-06-07T16:00:31.559Z"
   },
   {
    "duration": 2,
    "start_time": "2022-06-07T16:00:31.583Z"
   },
   {
    "duration": 33,
    "start_time": "2022-06-07T16:00:31.587Z"
   },
   {
    "duration": 122,
    "start_time": "2022-06-07T16:00:31.621Z"
   },
   {
    "duration": 0,
    "start_time": "2022-06-07T16:00:31.745Z"
   },
   {
    "duration": 0,
    "start_time": "2022-06-07T16:00:31.746Z"
   },
   {
    "duration": 0,
    "start_time": "2022-06-07T16:00:31.747Z"
   },
   {
    "duration": 0,
    "start_time": "2022-06-07T16:00:31.748Z"
   },
   {
    "duration": 0,
    "start_time": "2022-06-07T16:00:31.749Z"
   },
   {
    "duration": 0,
    "start_time": "2022-06-07T16:00:31.750Z"
   },
   {
    "duration": 0,
    "start_time": "2022-06-07T16:00:31.751Z"
   },
   {
    "duration": 0,
    "start_time": "2022-06-07T16:00:31.759Z"
   },
   {
    "duration": 0,
    "start_time": "2022-06-07T16:00:31.760Z"
   },
   {
    "duration": 0,
    "start_time": "2022-06-07T16:00:31.761Z"
   },
   {
    "duration": 0,
    "start_time": "2022-06-07T16:00:31.762Z"
   },
   {
    "duration": 0,
    "start_time": "2022-06-07T16:00:31.763Z"
   },
   {
    "duration": 0,
    "start_time": "2022-06-07T16:00:31.764Z"
   },
   {
    "duration": 0,
    "start_time": "2022-06-07T16:00:31.765Z"
   },
   {
    "duration": 0,
    "start_time": "2022-06-07T16:00:31.766Z"
   },
   {
    "duration": 0,
    "start_time": "2022-06-07T16:00:31.768Z"
   },
   {
    "duration": 0,
    "start_time": "2022-06-07T16:00:31.769Z"
   },
   {
    "duration": 0,
    "start_time": "2022-06-07T16:00:31.771Z"
   },
   {
    "duration": 0,
    "start_time": "2022-06-07T16:00:31.772Z"
   },
   {
    "duration": 0,
    "start_time": "2022-06-07T16:00:31.773Z"
   },
   {
    "duration": 0,
    "start_time": "2022-06-07T16:00:31.775Z"
   },
   {
    "duration": 0,
    "start_time": "2022-06-07T16:00:31.776Z"
   },
   {
    "duration": 25,
    "start_time": "2022-06-07T16:01:37.292Z"
   },
   {
    "duration": 11,
    "start_time": "2022-06-07T16:02:03.580Z"
   },
   {
    "duration": 23,
    "start_time": "2022-06-07T16:05:35.200Z"
   },
   {
    "duration": 22,
    "start_time": "2022-06-07T16:05:39.155Z"
   },
   {
    "duration": 26,
    "start_time": "2022-06-07T16:05:45.981Z"
   },
   {
    "duration": 1311,
    "start_time": "2022-06-07T18:23:39.669Z"
   },
   {
    "duration": 112,
    "start_time": "2022-06-07T18:23:40.982Z"
   },
   {
    "duration": 4,
    "start_time": "2022-06-07T18:23:41.095Z"
   },
   {
    "duration": 51,
    "start_time": "2022-06-07T18:23:41.101Z"
   },
   {
    "duration": 9,
    "start_time": "2022-06-07T18:23:41.154Z"
   },
   {
    "duration": 9,
    "start_time": "2022-06-07T18:23:41.164Z"
   },
   {
    "duration": 10,
    "start_time": "2022-06-07T18:23:41.175Z"
   },
   {
    "duration": 7,
    "start_time": "2022-06-07T18:23:41.186Z"
   },
   {
    "duration": 5,
    "start_time": "2022-06-07T18:23:41.194Z"
   },
   {
    "duration": 8,
    "start_time": "2022-06-07T18:23:41.202Z"
   },
   {
    "duration": 4,
    "start_time": "2022-06-07T18:23:41.211Z"
   },
   {
    "duration": 39,
    "start_time": "2022-06-07T18:23:41.217Z"
   },
   {
    "duration": 14,
    "start_time": "2022-06-07T18:23:41.258Z"
   },
   {
    "duration": 22,
    "start_time": "2022-06-07T18:23:41.273Z"
   },
   {
    "duration": 2,
    "start_time": "2022-06-07T18:23:41.297Z"
   },
   {
    "duration": 42,
    "start_time": "2022-06-07T18:23:41.301Z"
   },
   {
    "duration": 18,
    "start_time": "2022-06-07T18:23:41.344Z"
   },
   {
    "duration": 317,
    "start_time": "2022-06-07T18:23:41.364Z"
   },
   {
    "duration": 226,
    "start_time": "2022-06-07T18:23:41.683Z"
   },
   {
    "duration": 336,
    "start_time": "2022-06-07T18:23:41.910Z"
   },
   {
    "duration": 9,
    "start_time": "2022-06-07T18:23:42.247Z"
   },
   {
    "duration": 13,
    "start_time": "2022-06-07T18:23:42.258Z"
   },
   {
    "duration": 223,
    "start_time": "2022-06-07T18:23:42.272Z"
   },
   {
    "duration": 12,
    "start_time": "2022-06-07T18:23:42.497Z"
   },
   {
    "duration": 44,
    "start_time": "2022-06-07T18:23:42.511Z"
   },
   {
    "duration": 291,
    "start_time": "2022-06-07T18:23:42.557Z"
   },
   {
    "duration": 244,
    "start_time": "2022-06-07T18:23:42.850Z"
   },
   {
    "duration": 12,
    "start_time": "2022-06-07T18:23:43.099Z"
   },
   {
    "duration": 7,
    "start_time": "2022-06-07T18:23:43.113Z"
   },
   {
    "duration": 132,
    "start_time": "2022-06-07T18:23:43.122Z"
   },
   {
    "duration": 1357,
    "start_time": "2022-06-07T18:23:43.256Z"
   },
   {
    "duration": 26,
    "start_time": "2022-06-07T18:23:44.615Z"
   },
   {
    "duration": 226,
    "start_time": "2022-06-07T18:23:44.643Z"
   },
   {
    "duration": 13,
    "start_time": "2022-06-07T18:23:44.870Z"
   },
   {
    "duration": 161,
    "start_time": "2022-06-07T18:23:44.884Z"
   },
   {
    "duration": 22,
    "start_time": "2022-06-07T18:23:45.047Z"
   },
   {
    "duration": 17,
    "start_time": "2022-06-07T18:23:45.071Z"
   },
   {
    "duration": 255,
    "start_time": "2022-06-07T18:23:45.089Z"
   },
   {
    "duration": 20,
    "start_time": "2022-06-07T18:23:45.346Z"
   },
   {
    "duration": 60,
    "start_time": "2022-06-08T08:38:36.969Z"
   },
   {
    "duration": 6,
    "start_time": "2022-06-08T08:45:48.008Z"
   },
   {
    "duration": 1153,
    "start_time": "2022-06-08T08:45:53.304Z"
   },
   {
    "duration": 103,
    "start_time": "2022-06-08T08:45:54.459Z"
   },
   {
    "duration": 3,
    "start_time": "2022-06-08T08:45:54.564Z"
   },
   {
    "duration": 55,
    "start_time": "2022-06-08T08:45:54.569Z"
   },
   {
    "duration": 8,
    "start_time": "2022-06-08T08:45:54.625Z"
   },
   {
    "duration": 14,
    "start_time": "2022-06-08T08:45:54.634Z"
   },
   {
    "duration": 14,
    "start_time": "2022-06-08T08:45:54.650Z"
   },
   {
    "duration": 5,
    "start_time": "2022-06-08T08:45:54.665Z"
   },
   {
    "duration": 4,
    "start_time": "2022-06-08T08:45:54.671Z"
   },
   {
    "duration": 17,
    "start_time": "2022-06-08T08:45:54.677Z"
   },
   {
    "duration": 11,
    "start_time": "2022-06-08T08:45:54.695Z"
   },
   {
    "duration": 16,
    "start_time": "2022-06-08T08:45:54.707Z"
   },
   {
    "duration": 34,
    "start_time": "2022-06-08T08:45:54.725Z"
   },
   {
    "duration": 28,
    "start_time": "2022-06-08T08:45:54.760Z"
   },
   {
    "duration": 2,
    "start_time": "2022-06-08T08:45:54.789Z"
   },
   {
    "duration": 26,
    "start_time": "2022-06-08T08:45:54.793Z"
   },
   {
    "duration": 32,
    "start_time": "2022-06-08T08:45:54.820Z"
   },
   {
    "duration": 265,
    "start_time": "2022-06-08T08:45:54.853Z"
   },
   {
    "duration": 13,
    "start_time": "2022-06-08T08:45:55.120Z"
   },
   {
    "duration": 124,
    "start_time": "2022-06-08T08:45:55.134Z"
   },
   {
    "duration": 8,
    "start_time": "2022-06-08T08:45:55.260Z"
   },
   {
    "duration": 45,
    "start_time": "2022-06-08T08:45:55.269Z"
   },
   {
    "duration": 199,
    "start_time": "2022-06-08T08:45:55.316Z"
   },
   {
    "duration": 207,
    "start_time": "2022-06-08T08:45:55.517Z"
   },
   {
    "duration": 10,
    "start_time": "2022-06-08T08:45:55.725Z"
   },
   {
    "duration": 19,
    "start_time": "2022-06-08T08:45:55.736Z"
   },
   {
    "duration": 32,
    "start_time": "2022-06-08T08:45:55.756Z"
   },
   {
    "duration": 1299,
    "start_time": "2022-06-08T08:45:55.791Z"
   },
   {
    "duration": 20,
    "start_time": "2022-06-08T08:45:57.091Z"
   },
   {
    "duration": 207,
    "start_time": "2022-06-08T08:45:57.113Z"
   },
   {
    "duration": 11,
    "start_time": "2022-06-08T08:45:57.321Z"
   },
   {
    "duration": 74,
    "start_time": "2022-06-08T08:45:57.333Z"
   },
   {
    "duration": 19,
    "start_time": "2022-06-08T08:45:57.409Z"
   },
   {
    "duration": 17,
    "start_time": "2022-06-08T08:45:57.429Z"
   },
   {
    "duration": 208,
    "start_time": "2022-06-08T08:45:57.447Z"
   },
   {
    "duration": 17,
    "start_time": "2022-06-08T08:45:57.656Z"
   },
   {
    "duration": 23,
    "start_time": "2022-06-08T08:46:32.836Z"
   },
   {
    "duration": 102,
    "start_time": "2022-06-08T08:47:05.924Z"
   },
   {
    "duration": 12,
    "start_time": "2022-06-08T08:47:33.100Z"
   },
   {
    "duration": 17,
    "start_time": "2022-06-08T08:47:44.320Z"
   },
   {
    "duration": 15,
    "start_time": "2022-06-08T08:47:48.916Z"
   },
   {
    "duration": 25,
    "start_time": "2022-06-08T08:49:30.649Z"
   },
   {
    "duration": 15,
    "start_time": "2022-06-08T08:49:35.100Z"
   },
   {
    "duration": 32,
    "start_time": "2022-06-08T08:50:15.884Z"
   },
   {
    "duration": 19,
    "start_time": "2022-06-08T08:50:21.964Z"
   },
   {
    "duration": 17,
    "start_time": "2022-06-08T08:50:26.380Z"
   },
   {
    "duration": 20,
    "start_time": "2022-06-08T09:02:33.459Z"
   },
   {
    "duration": 12,
    "start_time": "2022-06-08T09:02:43.128Z"
   },
   {
    "duration": 13,
    "start_time": "2022-06-08T09:02:50.121Z"
   },
   {
    "duration": 8,
    "start_time": "2022-06-08T09:03:03.856Z"
   },
   {
    "duration": 24,
    "start_time": "2022-06-08T09:09:12.653Z"
   },
   {
    "duration": 23,
    "start_time": "2022-06-08T09:09:48.930Z"
   },
   {
    "duration": 1003,
    "start_time": "2022-06-08T09:27:07.720Z"
   },
   {
    "duration": 59,
    "start_time": "2022-06-08T09:27:08.724Z"
   },
   {
    "duration": 3,
    "start_time": "2022-06-08T09:27:08.785Z"
   },
   {
    "duration": 42,
    "start_time": "2022-06-08T09:27:08.790Z"
   },
   {
    "duration": 8,
    "start_time": "2022-06-08T09:27:08.834Z"
   },
   {
    "duration": 5,
    "start_time": "2022-06-08T09:27:08.843Z"
   },
   {
    "duration": 7,
    "start_time": "2022-06-08T09:27:08.849Z"
   },
   {
    "duration": 6,
    "start_time": "2022-06-08T09:27:08.857Z"
   },
   {
    "duration": 27,
    "start_time": "2022-06-08T09:27:08.865Z"
   },
   {
    "duration": 5,
    "start_time": "2022-06-08T09:27:08.894Z"
   },
   {
    "duration": 5,
    "start_time": "2022-06-08T09:27:08.900Z"
   },
   {
    "duration": 15,
    "start_time": "2022-06-08T09:27:08.906Z"
   },
   {
    "duration": 12,
    "start_time": "2022-06-08T09:27:08.923Z"
   },
   {
    "duration": 19,
    "start_time": "2022-06-08T09:27:08.937Z"
   },
   {
    "duration": 2,
    "start_time": "2022-06-08T09:27:08.958Z"
   },
   {
    "duration": 37,
    "start_time": "2022-06-08T09:27:08.962Z"
   },
   {
    "duration": 25,
    "start_time": "2022-06-08T09:27:09.001Z"
   },
   {
    "duration": 13,
    "start_time": "2022-06-08T09:27:09.027Z"
   },
   {
    "duration": 272,
    "start_time": "2022-06-08T09:27:09.041Z"
   },
   {
    "duration": 11,
    "start_time": "2022-06-08T09:27:09.315Z"
   },
   {
    "duration": 128,
    "start_time": "2022-06-08T09:27:09.327Z"
   },
   {
    "duration": 8,
    "start_time": "2022-06-08T09:27:09.456Z"
   },
   {
    "duration": 41,
    "start_time": "2022-06-08T09:27:09.466Z"
   },
   {
    "duration": 206,
    "start_time": "2022-06-08T09:27:09.508Z"
   },
   {
    "duration": 197,
    "start_time": "2022-06-08T09:27:09.716Z"
   },
   {
    "duration": 10,
    "start_time": "2022-06-08T09:27:09.914Z"
   },
   {
    "duration": 6,
    "start_time": "2022-06-08T09:27:09.925Z"
   },
   {
    "duration": 17,
    "start_time": "2022-06-08T09:27:09.934Z"
   },
   {
    "duration": 1180,
    "start_time": "2022-06-08T09:27:09.952Z"
   },
   {
    "duration": 16,
    "start_time": "2022-06-08T09:27:11.134Z"
   },
   {
    "duration": 202,
    "start_time": "2022-06-08T09:27:11.152Z"
   },
   {
    "duration": 12,
    "start_time": "2022-06-08T09:27:11.356Z"
   },
   {
    "duration": 54,
    "start_time": "2022-06-08T09:27:11.369Z"
   },
   {
    "duration": 31,
    "start_time": "2022-06-08T09:27:11.424Z"
   },
   {
    "duration": 15,
    "start_time": "2022-06-08T09:27:11.457Z"
   },
   {
    "duration": 220,
    "start_time": "2022-06-08T09:27:11.473Z"
   },
   {
    "duration": 17,
    "start_time": "2022-06-08T09:27:11.695Z"
   },
   {
    "duration": 13,
    "start_time": "2022-06-08T09:28:28.964Z"
   },
   {
    "duration": 14,
    "start_time": "2022-06-08T09:32:00.508Z"
   },
   {
    "duration": 2,
    "start_time": "2022-06-08T09:33:13.297Z"
   },
   {
    "duration": 71,
    "start_time": "2022-06-08T09:33:13.300Z"
   },
   {
    "duration": 3,
    "start_time": "2022-06-08T09:33:13.373Z"
   },
   {
    "duration": 46,
    "start_time": "2022-06-08T09:33:13.377Z"
   },
   {
    "duration": 8,
    "start_time": "2022-06-08T09:33:13.424Z"
   },
   {
    "duration": 7,
    "start_time": "2022-06-08T09:33:13.433Z"
   },
   {
    "duration": 6,
    "start_time": "2022-06-08T09:33:13.441Z"
   },
   {
    "duration": 6,
    "start_time": "2022-06-08T09:33:13.448Z"
   },
   {
    "duration": 5,
    "start_time": "2022-06-08T09:33:13.455Z"
   },
   {
    "duration": 38,
    "start_time": "2022-06-08T09:33:13.461Z"
   },
   {
    "duration": 12,
    "start_time": "2022-06-08T09:33:13.500Z"
   },
   {
    "duration": 18,
    "start_time": "2022-06-08T09:33:13.513Z"
   },
   {
    "duration": 2,
    "start_time": "2022-06-08T09:33:13.532Z"
   },
   {
    "duration": 13,
    "start_time": "2022-06-08T09:33:13.535Z"
   },
   {
    "duration": 45,
    "start_time": "2022-06-08T09:33:13.549Z"
   },
   {
    "duration": 12,
    "start_time": "2022-06-08T09:33:13.596Z"
   },
   {
    "duration": 11,
    "start_time": "2022-06-08T09:33:13.609Z"
   },
   {
    "duration": 196,
    "start_time": "2022-06-08T09:33:13.622Z"
   },
   {
    "duration": 11,
    "start_time": "2022-06-08T09:33:13.819Z"
   },
   {
    "duration": 119,
    "start_time": "2022-06-08T09:33:13.832Z"
   },
   {
    "duration": 8,
    "start_time": "2022-06-08T09:33:13.953Z"
   },
   {
    "duration": 32,
    "start_time": "2022-06-08T09:33:13.962Z"
   },
   {
    "duration": 207,
    "start_time": "2022-06-08T09:33:13.995Z"
   },
   {
    "duration": 211,
    "start_time": "2022-06-08T09:33:14.204Z"
   },
   {
    "duration": 10,
    "start_time": "2022-06-08T09:33:14.417Z"
   },
   {
    "duration": 9,
    "start_time": "2022-06-08T09:33:14.428Z"
   },
   {
    "duration": 17,
    "start_time": "2022-06-08T09:33:14.438Z"
   },
   {
    "duration": 1198,
    "start_time": "2022-06-08T09:33:14.457Z"
   },
   {
    "duration": 19,
    "start_time": "2022-06-08T09:33:15.657Z"
   },
   {
    "duration": 197,
    "start_time": "2022-06-08T09:33:15.677Z"
   },
   {
    "duration": 16,
    "start_time": "2022-06-08T09:33:15.876Z"
   },
   {
    "duration": 159,
    "start_time": "2022-06-08T09:33:15.893Z"
   },
   {
    "duration": 38,
    "start_time": "2022-06-08T09:33:16.054Z"
   },
   {
    "duration": 15,
    "start_time": "2022-06-08T09:33:16.093Z"
   },
   {
    "duration": 228,
    "start_time": "2022-06-08T09:33:16.110Z"
   },
   {
    "duration": 19,
    "start_time": "2022-06-08T09:33:16.339Z"
   },
   {
    "duration": 14,
    "start_time": "2022-06-08T09:37:32.316Z"
   },
   {
    "duration": 93,
    "start_time": "2022-06-08T09:37:41.812Z"
   },
   {
    "duration": 18,
    "start_time": "2022-06-08T09:37:46.972Z"
   },
   {
    "duration": 13,
    "start_time": "2022-06-08T09:37:49.988Z"
   },
   {
    "duration": 20,
    "start_time": "2022-06-08T09:39:03.035Z"
   },
   {
    "duration": 17,
    "start_time": "2022-06-08T09:47:46.746Z"
   },
   {
    "duration": 15,
    "start_time": "2022-06-08T09:48:06.868Z"
   },
   {
    "duration": 1008,
    "start_time": "2022-06-08T09:50:16.444Z"
   },
   {
    "duration": 58,
    "start_time": "2022-06-08T09:50:17.454Z"
   },
   {
    "duration": 3,
    "start_time": "2022-06-08T09:50:17.514Z"
   },
   {
    "duration": 45,
    "start_time": "2022-06-08T09:50:17.519Z"
   },
   {
    "duration": 8,
    "start_time": "2022-06-08T09:50:17.566Z"
   },
   {
    "duration": 17,
    "start_time": "2022-06-08T09:50:17.575Z"
   },
   {
    "duration": 31,
    "start_time": "2022-06-08T09:50:17.593Z"
   },
   {
    "duration": 17,
    "start_time": "2022-06-08T09:50:17.626Z"
   },
   {
    "duration": 15,
    "start_time": "2022-06-08T09:50:17.644Z"
   },
   {
    "duration": 14,
    "start_time": "2022-06-08T09:50:17.661Z"
   },
   {
    "duration": 14,
    "start_time": "2022-06-08T09:50:17.676Z"
   },
   {
    "duration": 19,
    "start_time": "2022-06-08T09:50:17.692Z"
   },
   {
    "duration": 29,
    "start_time": "2022-06-08T09:50:17.712Z"
   },
   {
    "duration": 12,
    "start_time": "2022-06-08T09:50:17.742Z"
   },
   {
    "duration": 19,
    "start_time": "2022-06-08T09:50:17.756Z"
   },
   {
    "duration": 32,
    "start_time": "2022-06-08T09:50:17.776Z"
   },
   {
    "duration": 375,
    "start_time": "2022-06-08T09:50:17.810Z"
   },
   {
    "duration": 15,
    "start_time": "2022-06-08T09:50:18.187Z"
   },
   {
    "duration": 210,
    "start_time": "2022-06-08T09:50:18.203Z"
   },
   {
    "duration": 10,
    "start_time": "2022-06-08T09:50:18.415Z"
   },
   {
    "duration": 124,
    "start_time": "2022-06-08T09:50:18.427Z"
   },
   {
    "duration": 8,
    "start_time": "2022-06-08T09:50:18.553Z"
   },
   {
    "duration": 30,
    "start_time": "2022-06-08T09:50:18.562Z"
   },
   {
    "duration": 193,
    "start_time": "2022-06-08T09:50:18.593Z"
   },
   {
    "duration": 204,
    "start_time": "2022-06-08T09:50:18.791Z"
   },
   {
    "duration": 12,
    "start_time": "2022-06-08T09:50:18.996Z"
   },
   {
    "duration": 7,
    "start_time": "2022-06-08T09:50:19.009Z"
   },
   {
    "duration": 20,
    "start_time": "2022-06-08T09:50:19.019Z"
   },
   {
    "duration": 1197,
    "start_time": "2022-06-08T09:50:19.040Z"
   },
   {
    "duration": 17,
    "start_time": "2022-06-08T09:50:20.239Z"
   },
   {
    "duration": 211,
    "start_time": "2022-06-08T09:50:20.257Z"
   },
   {
    "duration": 11,
    "start_time": "2022-06-08T09:50:20.469Z"
   },
   {
    "duration": 49,
    "start_time": "2022-06-08T09:50:20.481Z"
   },
   {
    "duration": 32,
    "start_time": "2022-06-08T09:50:20.532Z"
   },
   {
    "duration": 30,
    "start_time": "2022-06-08T09:50:20.565Z"
   },
   {
    "duration": 216,
    "start_time": "2022-06-08T09:50:20.597Z"
   },
   {
    "duration": 19,
    "start_time": "2022-06-08T09:50:20.815Z"
   },
   {
    "duration": 345,
    "start_time": "2022-06-08T11:40:44.646Z"
   },
   {
    "duration": 263,
    "start_time": "2022-06-08T11:40:49.574Z"
   },
   {
    "duration": 267,
    "start_time": "2022-06-08T11:40:55.834Z"
   },
   {
    "duration": 1127,
    "start_time": "2022-06-08T11:46:10.599Z"
   },
   {
    "duration": 60,
    "start_time": "2022-06-08T11:46:11.727Z"
   },
   {
    "duration": 3,
    "start_time": "2022-06-08T11:46:11.788Z"
   },
   {
    "duration": 45,
    "start_time": "2022-06-08T11:46:11.793Z"
   },
   {
    "duration": 9,
    "start_time": "2022-06-08T11:46:11.840Z"
   },
   {
    "duration": 5,
    "start_time": "2022-06-08T11:46:11.850Z"
   },
   {
    "duration": 7,
    "start_time": "2022-06-08T11:46:11.856Z"
   },
   {
    "duration": 28,
    "start_time": "2022-06-08T11:46:11.864Z"
   },
   {
    "duration": 4,
    "start_time": "2022-06-08T11:46:11.893Z"
   },
   {
    "duration": 14,
    "start_time": "2022-06-08T11:46:11.899Z"
   },
   {
    "duration": 12,
    "start_time": "2022-06-08T11:46:11.915Z"
   },
   {
    "duration": 20,
    "start_time": "2022-06-08T11:46:11.928Z"
   },
   {
    "duration": 45,
    "start_time": "2022-06-08T11:46:11.949Z"
   },
   {
    "duration": 13,
    "start_time": "2022-06-08T11:46:11.995Z"
   },
   {
    "duration": 12,
    "start_time": "2022-06-08T11:46:12.010Z"
   },
   {
    "duration": 19,
    "start_time": "2022-06-08T11:46:12.024Z"
   },
   {
    "duration": 2,
    "start_time": "2022-06-08T11:46:12.044Z"
   },
   {
    "duration": 16,
    "start_time": "2022-06-08T11:46:12.047Z"
   },
   {
    "duration": 265,
    "start_time": "2022-06-08T11:46:12.091Z"
   },
   {
    "duration": 11,
    "start_time": "2022-06-08T11:46:12.358Z"
   },
   {
    "duration": 115,
    "start_time": "2022-06-08T11:46:12.370Z"
   },
   {
    "duration": 19,
    "start_time": "2022-06-08T11:46:12.491Z"
   },
   {
    "duration": 246,
    "start_time": "2022-06-08T11:46:12.511Z"
   },
   {
    "duration": 216,
    "start_time": "2022-06-08T11:46:12.759Z"
   },
   {
    "duration": 17,
    "start_time": "2022-06-08T11:46:12.976Z"
   },
   {
    "duration": 6,
    "start_time": "2022-06-08T11:46:12.995Z"
   },
   {
    "duration": 18,
    "start_time": "2022-06-08T11:46:13.002Z"
   },
   {
    "duration": 1235,
    "start_time": "2022-06-08T11:46:13.023Z"
   },
   {
    "duration": 18,
    "start_time": "2022-06-08T11:46:14.260Z"
   },
   {
    "duration": 226,
    "start_time": "2022-06-08T11:46:14.280Z"
   },
   {
    "duration": 11,
    "start_time": "2022-06-08T11:46:14.508Z"
   },
   {
    "duration": 69,
    "start_time": "2022-06-08T11:46:14.520Z"
   },
   {
    "duration": 34,
    "start_time": "2022-06-08T11:46:14.591Z"
   },
   {
    "duration": 51,
    "start_time": "2022-06-08T11:46:14.627Z"
   },
   {
    "duration": 223,
    "start_time": "2022-06-08T11:46:14.680Z"
   },
   {
    "duration": 19,
    "start_time": "2022-06-08T11:46:14.904Z"
   },
   {
    "duration": 262,
    "start_time": "2022-06-08T11:46:34.808Z"
   },
   {
    "duration": 250,
    "start_time": "2022-06-08T11:46:44.327Z"
   },
   {
    "duration": 244,
    "start_time": "2022-06-08T11:46:49.676Z"
   },
   {
    "duration": 276,
    "start_time": "2022-06-08T11:46:56.223Z"
   },
   {
    "duration": 353,
    "start_time": "2022-06-08T11:47:03.860Z"
   },
   {
    "duration": 252,
    "start_time": "2022-06-08T12:03:19.677Z"
   },
   {
    "duration": 302,
    "start_time": "2022-06-08T12:03:24.945Z"
   },
   {
    "duration": 262,
    "start_time": "2022-06-08T12:05:20.413Z"
   },
   {
    "duration": 196,
    "start_time": "2022-06-08T12:05:39.753Z"
   },
   {
    "duration": 258,
    "start_time": "2022-06-08T12:06:05.185Z"
   },
   {
    "duration": 198,
    "start_time": "2022-06-08T12:06:39.832Z"
   },
   {
    "duration": 160,
    "start_time": "2022-06-08T12:13:35.989Z"
   },
   {
    "duration": 136,
    "start_time": "2022-06-08T12:13:51.349Z"
   },
   {
    "duration": 122,
    "start_time": "2022-06-08T12:14:06.711Z"
   },
   {
    "duration": 142,
    "start_time": "2022-06-08T12:14:11.658Z"
   },
   {
    "duration": 136,
    "start_time": "2022-06-08T12:14:16.766Z"
   },
   {
    "duration": 1248,
    "start_time": "2022-06-08T12:14:35.117Z"
   },
   {
    "duration": 140,
    "start_time": "2022-06-08T12:14:41.907Z"
   },
   {
    "duration": 1277,
    "start_time": "2022-06-08T12:15:42.233Z"
   },
   {
    "duration": 1422,
    "start_time": "2022-06-08T12:17:12.951Z"
   },
   {
    "duration": 39,
    "start_time": "2022-06-08T12:17:35.077Z"
   },
   {
    "duration": 478,
    "start_time": "2022-06-08T12:17:53.544Z"
   },
   {
    "duration": 1452,
    "start_time": "2022-06-08T12:20:40.513Z"
   },
   {
    "duration": 1363,
    "start_time": "2022-06-08T12:20:51.886Z"
   },
   {
    "duration": 1371,
    "start_time": "2022-06-08T12:21:25.546Z"
   },
   {
    "duration": 1139,
    "start_time": "2022-06-08T12:21:37.446Z"
   },
   {
    "duration": 1531,
    "start_time": "2022-06-08T12:21:49.682Z"
   },
   {
    "duration": 1433,
    "start_time": "2022-06-08T12:21:54.266Z"
   },
   {
    "duration": 1399,
    "start_time": "2022-06-08T12:22:59.799Z"
   },
   {
    "duration": 1517,
    "start_time": "2022-06-08T12:23:20.854Z"
   },
   {
    "duration": 1244,
    "start_time": "2022-06-08T12:23:27.818Z"
   },
   {
    "duration": 1597,
    "start_time": "2022-06-08T12:24:17.146Z"
   },
   {
    "duration": 167,
    "start_time": "2022-06-08T12:24:20.779Z"
   },
   {
    "duration": 171,
    "start_time": "2022-06-08T12:24:58.969Z"
   },
   {
    "duration": 18,
    "start_time": "2022-06-08T12:36:50.837Z"
   },
   {
    "duration": 440,
    "start_time": "2022-06-08T12:36:54.061Z"
   },
   {
    "duration": 1239,
    "start_time": "2022-06-08T12:43:06.508Z"
   },
   {
    "duration": 62,
    "start_time": "2022-06-08T12:43:07.749Z"
   },
   {
    "duration": 3,
    "start_time": "2022-06-08T12:43:07.813Z"
   },
   {
    "duration": 50,
    "start_time": "2022-06-08T12:43:07.818Z"
   },
   {
    "duration": 27,
    "start_time": "2022-06-08T12:43:07.870Z"
   },
   {
    "duration": 6,
    "start_time": "2022-06-08T12:43:07.899Z"
   },
   {
    "duration": 7,
    "start_time": "2022-06-08T12:43:07.907Z"
   },
   {
    "duration": 9,
    "start_time": "2022-06-08T12:43:07.915Z"
   },
   {
    "duration": 7,
    "start_time": "2022-06-08T12:43:07.926Z"
   },
   {
    "duration": 23,
    "start_time": "2022-06-08T12:43:07.936Z"
   },
   {
    "duration": 44,
    "start_time": "2022-06-08T12:43:07.960Z"
   },
   {
    "duration": 21,
    "start_time": "2022-06-08T12:43:08.005Z"
   },
   {
    "duration": 22,
    "start_time": "2022-06-08T12:43:08.028Z"
   },
   {
    "duration": 13,
    "start_time": "2022-06-08T12:43:08.052Z"
   },
   {
    "duration": 14,
    "start_time": "2022-06-08T12:43:08.092Z"
   },
   {
    "duration": 22,
    "start_time": "2022-06-08T12:43:08.108Z"
   },
   {
    "duration": 2,
    "start_time": "2022-06-08T12:43:08.132Z"
   },
   {
    "duration": 16,
    "start_time": "2022-06-08T12:43:08.136Z"
   },
   {
    "duration": 319,
    "start_time": "2022-06-08T12:43:08.153Z"
   },
   {
    "duration": 22,
    "start_time": "2022-06-08T12:43:08.473Z"
   },
   {
    "duration": 128,
    "start_time": "2022-06-08T12:43:08.496Z"
   },
   {
    "duration": 22,
    "start_time": "2022-06-08T12:43:08.626Z"
   },
   {
    "duration": 278,
    "start_time": "2022-06-08T12:43:08.649Z"
   },
   {
    "duration": 248,
    "start_time": "2022-06-08T12:43:08.928Z"
   },
   {
    "duration": 20,
    "start_time": "2022-06-08T12:43:09.178Z"
   },
   {
    "duration": 8,
    "start_time": "2022-06-08T12:43:09.200Z"
   },
   {
    "duration": 22,
    "start_time": "2022-06-08T12:43:09.210Z"
   },
   {
    "duration": 1370,
    "start_time": "2022-06-08T12:43:09.235Z"
   },
   {
    "duration": 171,
    "start_time": "2022-06-08T12:43:10.607Z"
   },
   {
    "duration": 29,
    "start_time": "2022-06-08T12:43:10.780Z"
   },
   {
    "duration": 231,
    "start_time": "2022-06-08T12:43:10.811Z"
   },
   {
    "duration": 13,
    "start_time": "2022-06-08T12:43:11.043Z"
   },
   {
    "duration": 61,
    "start_time": "2022-06-08T12:43:11.058Z"
   },
   {
    "duration": 44,
    "start_time": "2022-06-08T12:43:11.121Z"
   },
   {
    "duration": 37,
    "start_time": "2022-06-08T12:43:11.167Z"
   },
   {
    "duration": 259,
    "start_time": "2022-06-08T12:43:11.206Z"
   },
   {
    "duration": 28,
    "start_time": "2022-06-08T12:43:11.466Z"
   },
   {
    "duration": 5,
    "start_time": "2022-06-08T13:04:50.974Z"
   },
   {
    "duration": 148,
    "start_time": "2022-06-08T13:05:09.441Z"
   },
   {
    "duration": 3,
    "start_time": "2022-06-08T13:06:03.006Z"
   },
   {
    "duration": 4217,
    "start_time": "2022-06-08T13:28:25.798Z"
   },
   {
    "duration": 1340,
    "start_time": "2022-06-08T14:18:09.729Z"
   },
   {
    "duration": 1485,
    "start_time": "2022-06-08T16:01:01.162Z"
   },
   {
    "duration": 1241,
    "start_time": "2022-06-08T16:02:42.563Z"
   },
   {
    "duration": 1290,
    "start_time": "2022-06-08T16:02:45.855Z"
   },
   {
    "duration": 3,
    "start_time": "2022-06-08T16:45:16.961Z"
   },
   {
    "duration": 4,
    "start_time": "2022-06-08T16:45:23.930Z"
   },
   {
    "duration": 693,
    "start_time": "2022-06-08T16:45:40.405Z"
   },
   {
    "duration": 493,
    "start_time": "2022-06-08T16:45:43.378Z"
   },
   {
    "duration": 848,
    "start_time": "2022-06-08T16:46:10.326Z"
   },
   {
    "duration": 1095,
    "start_time": "2022-06-08T16:46:21.161Z"
   },
   {
    "duration": 44,
    "start_time": "2022-06-08T16:47:34.176Z"
   },
   {
    "duration": 39,
    "start_time": "2022-06-08T16:47:51.058Z"
   },
   {
    "duration": 43,
    "start_time": "2022-06-08T16:48:21.559Z"
   },
   {
    "duration": 25,
    "start_time": "2022-06-08T16:48:50.291Z"
   },
   {
    "duration": 30,
    "start_time": "2022-06-08T16:49:50.142Z"
   },
   {
    "duration": 18,
    "start_time": "2022-06-08T16:50:25.815Z"
   },
   {
    "duration": 24,
    "start_time": "2022-06-08T16:50:51.941Z"
   },
   {
    "duration": 23,
    "start_time": "2022-06-08T16:51:22.750Z"
   },
   {
    "duration": 25,
    "start_time": "2022-06-08T16:51:33.778Z"
   },
   {
    "duration": 1135,
    "start_time": "2022-06-08T16:55:23.580Z"
   },
   {
    "duration": 237,
    "start_time": "2022-06-08T16:56:51.770Z"
   },
   {
    "duration": 984,
    "start_time": "2022-06-08T16:57:38.244Z"
   },
   {
    "duration": 377,
    "start_time": "2022-06-08T16:58:15.937Z"
   },
   {
    "duration": 260,
    "start_time": "2022-06-08T17:00:17.088Z"
   },
   {
    "duration": 318,
    "start_time": "2022-06-08T17:04:35.090Z"
   },
   {
    "duration": 36,
    "start_time": "2022-06-08T17:05:03.615Z"
   },
   {
    "duration": 1188,
    "start_time": "2022-06-08T17:05:11.551Z"
   },
   {
    "duration": 1218,
    "start_time": "2022-06-08T17:05:44.786Z"
   },
   {
    "duration": 299,
    "start_time": "2022-06-08T17:11:48.337Z"
   },
   {
    "duration": 1255,
    "start_time": "2022-06-08T17:12:31.981Z"
   },
   {
    "duration": 1599,
    "start_time": "2022-06-08T17:13:13.828Z"
   },
   {
    "duration": 50,
    "start_time": "2022-06-09T09:30:52.398Z"
   },
   {
    "duration": 1347,
    "start_time": "2022-06-09T09:30:56.759Z"
   },
   {
    "duration": 129,
    "start_time": "2022-06-09T09:30:58.109Z"
   },
   {
    "duration": 4,
    "start_time": "2022-06-09T09:30:58.240Z"
   },
   {
    "duration": 52,
    "start_time": "2022-06-09T09:30:58.246Z"
   },
   {
    "duration": 12,
    "start_time": "2022-06-09T09:30:58.300Z"
   },
   {
    "duration": 17,
    "start_time": "2022-06-09T09:30:58.313Z"
   },
   {
    "duration": 21,
    "start_time": "2022-06-09T09:30:58.334Z"
   },
   {
    "duration": 10,
    "start_time": "2022-06-09T09:30:58.357Z"
   },
   {
    "duration": 5,
    "start_time": "2022-06-09T09:30:58.369Z"
   },
   {
    "duration": 24,
    "start_time": "2022-06-09T09:30:58.378Z"
   },
   {
    "duration": 38,
    "start_time": "2022-06-09T09:30:58.404Z"
   },
   {
    "duration": 24,
    "start_time": "2022-06-09T09:30:58.446Z"
   },
   {
    "duration": 36,
    "start_time": "2022-06-09T09:30:58.472Z"
   },
   {
    "duration": 27,
    "start_time": "2022-06-09T09:30:58.525Z"
   },
   {
    "duration": 22,
    "start_time": "2022-06-09T09:30:58.554Z"
   },
   {
    "duration": 50,
    "start_time": "2022-06-09T09:30:58.577Z"
   },
   {
    "duration": 11,
    "start_time": "2022-06-09T09:30:58.628Z"
   },
   {
    "duration": 15,
    "start_time": "2022-06-09T09:30:58.646Z"
   },
   {
    "duration": 247,
    "start_time": "2022-06-09T09:30:58.663Z"
   },
   {
    "duration": 34,
    "start_time": "2022-06-09T09:30:58.912Z"
   },
   {
    "duration": 128,
    "start_time": "2022-06-09T09:30:58.947Z"
   },
   {
    "duration": 22,
    "start_time": "2022-06-09T09:30:59.077Z"
   },
   {
    "duration": 285,
    "start_time": "2022-06-09T09:30:59.100Z"
   },
   {
    "duration": 276,
    "start_time": "2022-06-09T09:30:59.387Z"
   },
   {
    "duration": 12,
    "start_time": "2022-06-09T09:30:59.664Z"
   },
   {
    "duration": 14,
    "start_time": "2022-06-09T09:30:59.678Z"
   },
   {
    "duration": 46,
    "start_time": "2022-06-09T09:30:59.694Z"
   },
   {
    "duration": 1451,
    "start_time": "2022-06-09T09:30:59.744Z"
   },
   {
    "duration": 209,
    "start_time": "2022-06-09T09:31:01.197Z"
   },
   {
    "duration": 39,
    "start_time": "2022-06-09T09:31:01.408Z"
   },
   {
    "duration": 238,
    "start_time": "2022-06-09T09:31:01.449Z"
   },
   {
    "duration": 76,
    "start_time": "2022-06-09T09:31:01.690Z"
   },
   {
    "duration": 64,
    "start_time": "2022-06-09T09:31:01.769Z"
   },
   {
    "duration": 25,
    "start_time": "2022-06-09T09:31:01.840Z"
   },
   {
    "duration": 252,
    "start_time": "2022-06-09T09:31:01.867Z"
   },
   {
    "duration": 29,
    "start_time": "2022-06-09T09:31:02.126Z"
   },
   {
    "duration": 21,
    "start_time": "2022-06-09T09:31:02.156Z"
   },
   {
    "duration": 2193,
    "start_time": "2022-06-09T09:31:02.179Z"
   },
   {
    "duration": 212,
    "start_time": "2022-06-09T09:33:27.894Z"
   },
   {
    "duration": 52,
    "start_time": "2022-06-09T10:31:27.821Z"
   },
   {
    "duration": 1307,
    "start_time": "2022-06-09T11:31:36.774Z"
   },
   {
    "duration": 1220,
    "start_time": "2022-06-09T11:34:16.895Z"
   },
   {
    "duration": 122,
    "start_time": "2022-06-09T11:35:11.275Z"
   },
   {
    "duration": 2202,
    "start_time": "2022-06-09T11:35:48.856Z"
   },
   {
    "duration": 12,
    "start_time": "2022-06-09T11:35:57.855Z"
   },
   {
    "duration": 40,
    "start_time": "2022-06-09T11:36:04.699Z"
   },
   {
    "duration": 23,
    "start_time": "2022-06-09T11:39:12.571Z"
   },
   {
    "duration": 21,
    "start_time": "2022-06-09T11:39:40.587Z"
   },
   {
    "duration": 15,
    "start_time": "2022-06-09T11:40:01.448Z"
   },
   {
    "duration": 13,
    "start_time": "2022-06-09T11:40:05.007Z"
   },
   {
    "duration": 10,
    "start_time": "2022-06-09T11:40:07.667Z"
   },
   {
    "duration": 1397,
    "start_time": "2022-06-09T11:44:06.044Z"
   },
   {
    "duration": 1221,
    "start_time": "2022-06-09T11:44:14.177Z"
   },
   {
    "duration": 41,
    "start_time": "2022-06-09T11:46:12.440Z"
   },
   {
    "duration": 55,
    "start_time": "2022-06-09T11:53:42.657Z"
   },
   {
    "duration": 50,
    "start_time": "2022-06-09T11:54:14.066Z"
   },
   {
    "duration": 61,
    "start_time": "2022-06-09T11:58:05.416Z"
   },
   {
    "duration": 83,
    "start_time": "2022-06-09T12:02:47.749Z"
   },
   {
    "duration": 9,
    "start_time": "2022-06-09T12:02:51.906Z"
   },
   {
    "duration": 9,
    "start_time": "2022-06-09T12:03:44.371Z"
   },
   {
    "duration": 18,
    "start_time": "2022-06-09T12:04:58.649Z"
   },
   {
    "duration": 11,
    "start_time": "2022-06-09T12:05:26.607Z"
   },
   {
    "duration": 4,
    "start_time": "2022-06-09T12:07:25.383Z"
   },
   {
    "duration": 8,
    "start_time": "2022-06-09T12:08:10.259Z"
   },
   {
    "duration": 11,
    "start_time": "2022-06-09T12:08:24.557Z"
   },
   {
    "duration": 13,
    "start_time": "2022-06-09T12:08:37.156Z"
   },
   {
    "duration": 9,
    "start_time": "2022-06-09T12:10:51.194Z"
   },
   {
    "duration": 16,
    "start_time": "2022-06-09T12:10:53.732Z"
   },
   {
    "duration": 1150,
    "start_time": "2022-06-09T12:11:19.162Z"
   },
   {
    "duration": 73,
    "start_time": "2022-06-09T12:11:20.314Z"
   },
   {
    "duration": 4,
    "start_time": "2022-06-09T12:11:20.388Z"
   },
   {
    "duration": 51,
    "start_time": "2022-06-09T12:11:20.394Z"
   },
   {
    "duration": 12,
    "start_time": "2022-06-09T12:11:20.450Z"
   },
   {
    "duration": 5,
    "start_time": "2022-06-09T12:11:20.464Z"
   },
   {
    "duration": 9,
    "start_time": "2022-06-09T12:11:20.471Z"
   },
   {
    "duration": 12,
    "start_time": "2022-06-09T12:11:20.481Z"
   },
   {
    "duration": 7,
    "start_time": "2022-06-09T12:11:20.495Z"
   },
   {
    "duration": 30,
    "start_time": "2022-06-09T12:11:20.526Z"
   },
   {
    "duration": 27,
    "start_time": "2022-06-09T12:11:20.562Z"
   },
   {
    "duration": 27,
    "start_time": "2022-06-09T12:11:20.592Z"
   },
   {
    "duration": 38,
    "start_time": "2022-06-09T12:11:20.621Z"
   },
   {
    "duration": 20,
    "start_time": "2022-06-09T12:11:20.661Z"
   },
   {
    "duration": 16,
    "start_time": "2022-06-09T12:11:20.682Z"
   },
   {
    "duration": 58,
    "start_time": "2022-06-09T12:11:20.700Z"
   },
   {
    "duration": 6,
    "start_time": "2022-06-09T12:11:20.762Z"
   },
   {
    "duration": 36,
    "start_time": "2022-06-09T12:11:20.770Z"
   },
   {
    "duration": 298,
    "start_time": "2022-06-09T12:11:20.808Z"
   },
   {
    "duration": 18,
    "start_time": "2022-06-09T12:11:21.108Z"
   },
   {
    "duration": 149,
    "start_time": "2022-06-09T12:11:21.129Z"
   },
   {
    "duration": 23,
    "start_time": "2022-06-09T12:11:21.279Z"
   },
   {
    "duration": 316,
    "start_time": "2022-06-09T12:11:21.303Z"
   },
   {
    "duration": 256,
    "start_time": "2022-06-09T12:11:21.621Z"
   },
   {
    "duration": 13,
    "start_time": "2022-06-09T12:11:21.878Z"
   },
   {
    "duration": 10,
    "start_time": "2022-06-09T12:11:21.892Z"
   },
   {
    "duration": 48,
    "start_time": "2022-06-09T12:11:21.905Z"
   },
   {
    "duration": 1476,
    "start_time": "2022-06-09T12:11:21.962Z"
   },
   {
    "duration": 196,
    "start_time": "2022-06-09T12:11:23.444Z"
   },
   {
    "duration": 20,
    "start_time": "2022-06-09T12:11:23.642Z"
   },
   {
    "duration": 238,
    "start_time": "2022-06-09T12:11:23.664Z"
   },
   {
    "duration": 68,
    "start_time": "2022-06-09T12:11:23.904Z"
   },
   {
    "duration": 65,
    "start_time": "2022-06-09T12:11:23.974Z"
   },
   {
    "duration": 29,
    "start_time": "2022-06-09T12:11:24.043Z"
   },
   {
    "duration": 281,
    "start_time": "2022-06-09T12:11:24.074Z"
   },
   {
    "duration": 1442,
    "start_time": "2022-06-09T12:11:24.357Z"
   },
   {
    "duration": 60,
    "start_time": "2022-06-09T12:11:25.800Z"
   },
   {
    "duration": 32,
    "start_time": "2022-06-09T12:11:25.862Z"
   },
   {
    "duration": 8,
    "start_time": "2022-06-09T12:11:25.896Z"
   },
   {
    "duration": 35,
    "start_time": "2022-06-09T12:11:25.905Z"
   },
   {
    "duration": 58,
    "start_time": "2022-06-09T12:11:25.942Z"
   },
   {
    "duration": 88,
    "start_time": "2022-06-09T12:11:26.002Z"
   },
   {
    "duration": 35,
    "start_time": "2022-06-09T12:11:26.092Z"
   },
   {
    "duration": 23,
    "start_time": "2022-06-09T12:11:26.135Z"
   },
   {
    "duration": 36,
    "start_time": "2022-06-09T12:12:55.798Z"
   },
   {
    "duration": 1502,
    "start_time": "2022-06-09T12:13:58.479Z"
   },
   {
    "duration": 84,
    "start_time": "2022-06-09T12:13:59.983Z"
   },
   {
    "duration": 4,
    "start_time": "2022-06-09T12:14:00.069Z"
   },
   {
    "duration": 103,
    "start_time": "2022-06-09T12:14:00.075Z"
   },
   {
    "duration": 11,
    "start_time": "2022-06-09T12:14:00.180Z"
   },
   {
    "duration": 51,
    "start_time": "2022-06-09T12:14:00.193Z"
   },
   {
    "duration": 47,
    "start_time": "2022-06-09T12:14:00.253Z"
   },
   {
    "duration": 31,
    "start_time": "2022-06-09T12:14:00.302Z"
   },
   {
    "duration": 47,
    "start_time": "2022-06-09T12:14:00.336Z"
   },
   {
    "duration": 51,
    "start_time": "2022-06-09T12:14:00.387Z"
   },
   {
    "duration": 52,
    "start_time": "2022-06-09T12:14:00.441Z"
   },
   {
    "duration": 47,
    "start_time": "2022-06-09T12:14:00.494Z"
   },
   {
    "duration": 59,
    "start_time": "2022-06-09T12:14:00.543Z"
   },
   {
    "duration": 38,
    "start_time": "2022-06-09T12:14:00.604Z"
   },
   {
    "duration": 59,
    "start_time": "2022-06-09T12:14:00.644Z"
   },
   {
    "duration": 207,
    "start_time": "2022-06-09T12:14:00.705Z"
   },
   {
    "duration": 108,
    "start_time": "2022-06-09T12:14:00.914Z"
   },
   {
    "duration": 74,
    "start_time": "2022-06-09T12:14:01.027Z"
   },
   {
    "duration": 362,
    "start_time": "2022-06-09T12:14:01.103Z"
   },
   {
    "duration": 14,
    "start_time": "2022-06-09T12:14:01.467Z"
   },
   {
    "duration": 180,
    "start_time": "2022-06-09T12:14:01.483Z"
   },
   {
    "duration": 24,
    "start_time": "2022-06-09T12:14:01.666Z"
   },
   {
    "duration": 428,
    "start_time": "2022-06-09T12:14:01.692Z"
   },
   {
    "duration": 344,
    "start_time": "2022-06-09T12:14:02.126Z"
   },
   {
    "duration": 16,
    "start_time": "2022-06-09T12:14:02.478Z"
   },
   {
    "duration": 46,
    "start_time": "2022-06-09T12:14:02.496Z"
   },
   {
    "duration": 90,
    "start_time": "2022-06-09T12:14:02.543Z"
   },
   {
    "duration": 1623,
    "start_time": "2022-06-09T12:14:02.647Z"
   },
   {
    "duration": 198,
    "start_time": "2022-06-09T12:14:04.273Z"
   },
   {
    "duration": 20,
    "start_time": "2022-06-09T12:14:04.473Z"
   },
   {
    "duration": 346,
    "start_time": "2022-06-09T12:14:04.495Z"
   },
   {
    "duration": 77,
    "start_time": "2022-06-09T12:14:04.843Z"
   },
   {
    "duration": 57,
    "start_time": "2022-06-09T12:14:04.921Z"
   },
   {
    "duration": 18,
    "start_time": "2022-06-09T12:14:04.980Z"
   },
   {
    "duration": 279,
    "start_time": "2022-06-09T12:14:05.000Z"
   },
   {
    "duration": 1929,
    "start_time": "2022-06-09T12:14:05.281Z"
   },
   {
    "duration": 48,
    "start_time": "2022-06-09T12:14:07.212Z"
   },
   {
    "duration": 4,
    "start_time": "2022-06-09T12:14:07.261Z"
   },
   {
    "duration": 6,
    "start_time": "2022-06-09T12:14:07.266Z"
   },
   {
    "duration": 139,
    "start_time": "2022-06-09T12:14:07.274Z"
   },
   {
    "duration": 106,
    "start_time": "2022-06-09T12:14:07.416Z"
   },
   {
    "duration": 40,
    "start_time": "2022-06-09T12:14:07.527Z"
   },
   {
    "duration": 37,
    "start_time": "2022-06-09T12:14:07.569Z"
   },
   {
    "duration": 17,
    "start_time": "2022-06-09T12:14:20.086Z"
   },
   {
    "duration": 25,
    "start_time": "2022-06-09T12:15:12.487Z"
   },
   {
    "duration": 37,
    "start_time": "2022-06-09T12:15:40.079Z"
   },
   {
    "duration": 23,
    "start_time": "2022-06-09T12:21:47.759Z"
   },
   {
    "duration": 1137,
    "start_time": "2022-06-09T12:21:51.781Z"
   },
   {
    "duration": 80,
    "start_time": "2022-06-09T12:21:52.920Z"
   },
   {
    "duration": 3,
    "start_time": "2022-06-09T12:21:53.002Z"
   },
   {
    "duration": 68,
    "start_time": "2022-06-09T12:21:53.007Z"
   },
   {
    "duration": 10,
    "start_time": "2022-06-09T12:21:53.077Z"
   },
   {
    "duration": 6,
    "start_time": "2022-06-09T12:21:53.088Z"
   },
   {
    "duration": 8,
    "start_time": "2022-06-09T12:21:53.096Z"
   },
   {
    "duration": 8,
    "start_time": "2022-06-09T12:21:53.106Z"
   },
   {
    "duration": 17,
    "start_time": "2022-06-09T12:21:53.116Z"
   },
   {
    "duration": 64,
    "start_time": "2022-06-09T12:21:53.136Z"
   },
   {
    "duration": 16,
    "start_time": "2022-06-09T12:21:53.201Z"
   },
   {
    "duration": 25,
    "start_time": "2022-06-09T12:21:53.219Z"
   },
   {
    "duration": 61,
    "start_time": "2022-06-09T12:21:53.246Z"
   },
   {
    "duration": 16,
    "start_time": "2022-06-09T12:21:53.308Z"
   },
   {
    "duration": 72,
    "start_time": "2022-06-09T12:21:53.326Z"
   },
   {
    "duration": 25,
    "start_time": "2022-06-09T12:21:53.400Z"
   },
   {
    "duration": 12,
    "start_time": "2022-06-09T12:21:53.437Z"
   },
   {
    "duration": 63,
    "start_time": "2022-06-09T12:21:53.453Z"
   },
   {
    "duration": 302,
    "start_time": "2022-06-09T12:21:53.518Z"
   },
   {
    "duration": 16,
    "start_time": "2022-06-09T12:21:53.825Z"
   },
   {
    "duration": 186,
    "start_time": "2022-06-09T12:21:53.851Z"
   },
   {
    "duration": 36,
    "start_time": "2022-06-09T12:21:54.038Z"
   },
   {
    "duration": 357,
    "start_time": "2022-06-09T12:21:54.076Z"
   },
   {
    "duration": 250,
    "start_time": "2022-06-09T12:21:54.437Z"
   },
   {
    "duration": 13,
    "start_time": "2022-06-09T12:21:54.688Z"
   },
   {
    "duration": 41,
    "start_time": "2022-06-09T12:21:54.702Z"
   },
   {
    "duration": 39,
    "start_time": "2022-06-09T12:21:54.746Z"
   },
   {
    "duration": 1460,
    "start_time": "2022-06-09T12:21:54.790Z"
   },
   {
    "duration": 176,
    "start_time": "2022-06-09T12:21:56.257Z"
   },
   {
    "duration": 39,
    "start_time": "2022-06-09T12:21:56.437Z"
   },
   {
    "duration": 277,
    "start_time": "2022-06-09T12:21:56.480Z"
   },
   {
    "duration": 89,
    "start_time": "2022-06-09T12:21:56.760Z"
   },
   {
    "duration": 76,
    "start_time": "2022-06-09T12:21:56.853Z"
   },
   {
    "duration": 41,
    "start_time": "2022-06-09T12:21:56.931Z"
   },
   {
    "duration": 283,
    "start_time": "2022-06-09T12:21:56.975Z"
   },
   {
    "duration": 1571,
    "start_time": "2022-06-09T12:21:57.266Z"
   },
   {
    "duration": 59,
    "start_time": "2022-06-09T12:21:58.843Z"
   },
   {
    "duration": 3,
    "start_time": "2022-06-09T12:21:58.905Z"
   },
   {
    "duration": 61,
    "start_time": "2022-06-09T12:21:58.909Z"
   },
   {
    "duration": 65,
    "start_time": "2022-06-09T12:21:58.972Z"
   },
   {
    "duration": 62,
    "start_time": "2022-06-09T12:21:59.045Z"
   },
   {
    "duration": 16,
    "start_time": "2022-06-09T12:21:59.108Z"
   },
   {
    "duration": 10,
    "start_time": "2022-06-09T12:21:59.126Z"
   },
   {
    "duration": 0,
    "start_time": "2022-06-09T12:21:59.138Z"
   },
   {
    "duration": 0,
    "start_time": "2022-06-09T12:21:59.139Z"
   },
   {
    "duration": 62,
    "start_time": "2022-06-09T12:22:19.426Z"
   },
   {
    "duration": 29,
    "start_time": "2022-06-09T12:22:35.079Z"
   },
   {
    "duration": 76,
    "start_time": "2022-06-09T12:22:43.291Z"
   },
   {
    "duration": 25,
    "start_time": "2022-06-09T12:22:46.594Z"
   },
   {
    "duration": 28,
    "start_time": "2022-06-09T12:23:13.562Z"
   },
   {
    "duration": 29,
    "start_time": "2022-06-09T12:23:18.550Z"
   },
   {
    "duration": 23,
    "start_time": "2022-06-09T12:23:28.899Z"
   },
   {
    "duration": 26,
    "start_time": "2022-06-09T12:23:54.199Z"
   },
   {
    "duration": 34,
    "start_time": "2022-06-09T12:24:06.712Z"
   },
   {
    "duration": 31,
    "start_time": "2022-06-09T12:24:56.552Z"
   },
   {
    "duration": 63,
    "start_time": "2022-06-09T12:29:32.112Z"
   },
   {
    "duration": 163,
    "start_time": "2022-06-09T12:29:36.462Z"
   },
   {
    "duration": 40,
    "start_time": "2022-06-09T12:29:41.822Z"
   },
   {
    "duration": 15,
    "start_time": "2022-06-09T12:29:51.703Z"
   },
   {
    "duration": 19,
    "start_time": "2022-06-09T12:30:05.257Z"
   },
   {
    "duration": 17,
    "start_time": "2022-06-09T12:30:31.406Z"
   },
   {
    "duration": 23,
    "start_time": "2022-06-09T12:51:16.106Z"
   },
   {
    "duration": 15,
    "start_time": "2022-06-09T12:51:21.001Z"
   },
   {
    "duration": 21,
    "start_time": "2022-06-09T12:51:31.358Z"
   },
   {
    "duration": 16,
    "start_time": "2022-06-09T12:52:01.113Z"
   },
   {
    "duration": 21,
    "start_time": "2022-06-09T12:52:08.848Z"
   },
   {
    "duration": 28,
    "start_time": "2022-06-09T12:52:19.017Z"
   },
   {
    "duration": 35,
    "start_time": "2022-06-09T12:52:24.825Z"
   },
   {
    "duration": 25,
    "start_time": "2022-06-09T12:53:36.841Z"
   },
   {
    "duration": 29,
    "start_time": "2022-06-09T12:53:43.648Z"
   },
   {
    "duration": 24,
    "start_time": "2022-06-09T12:53:47.070Z"
   },
   {
    "duration": 19,
    "start_time": "2022-06-09T12:53:53.401Z"
   },
   {
    "duration": 44,
    "start_time": "2022-06-09T12:54:17.417Z"
   },
   {
    "duration": 26,
    "start_time": "2022-06-09T12:54:57.713Z"
   },
   {
    "duration": 23,
    "start_time": "2022-06-09T12:55:33.860Z"
   },
   {
    "duration": 36,
    "start_time": "2022-06-09T12:56:09.308Z"
   },
   {
    "duration": 1572,
    "start_time": "2022-06-09T13:00:24.785Z"
   },
   {
    "duration": 109,
    "start_time": "2022-06-09T13:00:26.360Z"
   },
   {
    "duration": 9,
    "start_time": "2022-06-09T13:00:26.476Z"
   },
   {
    "duration": 101,
    "start_time": "2022-06-09T13:00:26.489Z"
   },
   {
    "duration": 42,
    "start_time": "2022-06-09T13:00:26.595Z"
   },
   {
    "duration": 18,
    "start_time": "2022-06-09T13:00:26.648Z"
   },
   {
    "duration": 33,
    "start_time": "2022-06-09T13:00:26.668Z"
   },
   {
    "duration": 17,
    "start_time": "2022-06-09T13:00:26.705Z"
   },
   {
    "duration": 61,
    "start_time": "2022-06-09T13:00:26.724Z"
   },
   {
    "duration": 97,
    "start_time": "2022-06-09T13:00:26.790Z"
   },
   {
    "duration": 29,
    "start_time": "2022-06-09T13:00:26.890Z"
   },
   {
    "duration": 65,
    "start_time": "2022-06-09T13:00:26.922Z"
   },
   {
    "duration": 60,
    "start_time": "2022-06-09T13:00:26.989Z"
   },
   {
    "duration": 29,
    "start_time": "2022-06-09T13:00:27.051Z"
   },
   {
    "duration": 27,
    "start_time": "2022-06-09T13:00:27.083Z"
   },
   {
    "duration": 44,
    "start_time": "2022-06-09T13:00:27.112Z"
   },
   {
    "duration": 13,
    "start_time": "2022-06-09T13:00:27.164Z"
   },
   {
    "duration": 22,
    "start_time": "2022-06-09T13:00:27.179Z"
   },
   {
    "duration": 320,
    "start_time": "2022-06-09T13:00:27.203Z"
   },
   {
    "duration": 40,
    "start_time": "2022-06-09T13:00:27.533Z"
   },
   {
    "duration": 198,
    "start_time": "2022-06-09T13:00:27.576Z"
   },
   {
    "duration": 30,
    "start_time": "2022-06-09T13:00:27.776Z"
   },
   {
    "duration": 435,
    "start_time": "2022-06-09T13:00:27.808Z"
   },
   {
    "duration": 338,
    "start_time": "2022-06-09T13:00:28.250Z"
   },
   {
    "duration": 17,
    "start_time": "2022-06-09T13:00:28.590Z"
   },
   {
    "duration": 40,
    "start_time": "2022-06-09T13:00:28.609Z"
   },
   {
    "duration": 48,
    "start_time": "2022-06-09T13:00:28.651Z"
   },
   {
    "duration": 1954,
    "start_time": "2022-06-09T13:00:28.703Z"
   },
   {
    "duration": 239,
    "start_time": "2022-06-09T13:00:30.659Z"
   },
   {
    "duration": 36,
    "start_time": "2022-06-09T13:00:30.901Z"
   },
   {
    "duration": 368,
    "start_time": "2022-06-09T13:00:30.941Z"
   },
   {
    "duration": 97,
    "start_time": "2022-06-09T13:00:31.312Z"
   },
   {
    "duration": 81,
    "start_time": "2022-06-09T13:00:31.411Z"
   },
   {
    "duration": 48,
    "start_time": "2022-06-09T13:00:31.495Z"
   },
   {
    "duration": 360,
    "start_time": "2022-06-09T13:00:31.553Z"
   },
   {
    "duration": 1638,
    "start_time": "2022-06-09T13:00:31.915Z"
   },
   {
    "duration": 59,
    "start_time": "2022-06-09T13:00:33.564Z"
   },
   {
    "duration": 20,
    "start_time": "2022-06-09T13:00:33.625Z"
   },
   {
    "duration": 18,
    "start_time": "2022-06-09T13:00:33.658Z"
   },
   {
    "duration": 101,
    "start_time": "2022-06-09T13:00:33.678Z"
   },
   {
    "duration": 83,
    "start_time": "2022-06-09T13:00:33.782Z"
   },
   {
    "duration": 29,
    "start_time": "2022-06-09T13:00:33.867Z"
   },
   {
    "duration": 55,
    "start_time": "2022-06-09T13:00:33.898Z"
   },
   {
    "duration": 75,
    "start_time": "2022-06-09T13:00:33.957Z"
   },
   {
    "duration": 53,
    "start_time": "2022-06-09T13:00:34.039Z"
   },
   {
    "duration": 19,
    "start_time": "2022-06-09T13:00:34.095Z"
   },
   {
    "duration": 14,
    "start_time": "2022-06-09T13:05:57.775Z"
   },
   {
    "duration": 15,
    "start_time": "2022-06-09T13:06:04.300Z"
   },
   {
    "duration": 39,
    "start_time": "2022-06-09T13:08:49.259Z"
   },
   {
    "duration": 24,
    "start_time": "2022-06-09T13:09:59.611Z"
   },
   {
    "duration": 140,
    "start_time": "2022-06-09T13:10:12.797Z"
   },
   {
    "duration": 16,
    "start_time": "2022-06-09T13:10:30.886Z"
   },
   {
    "duration": 11,
    "start_time": "2022-06-09T13:16:07.441Z"
   },
   {
    "duration": 54,
    "start_time": "2022-06-09T13:36:59.987Z"
   },
   {
    "duration": 1197,
    "start_time": "2022-06-09T13:37:11.296Z"
   },
   {
    "duration": 125,
    "start_time": "2022-06-09T13:37:12.495Z"
   },
   {
    "duration": 4,
    "start_time": "2022-06-09T13:37:12.622Z"
   },
   {
    "duration": 57,
    "start_time": "2022-06-09T13:37:12.632Z"
   },
   {
    "duration": 12,
    "start_time": "2022-06-09T13:37:12.690Z"
   },
   {
    "duration": 6,
    "start_time": "2022-06-09T13:37:12.704Z"
   },
   {
    "duration": 20,
    "start_time": "2022-06-09T13:37:12.712Z"
   },
   {
    "duration": 14,
    "start_time": "2022-06-09T13:37:12.738Z"
   },
   {
    "duration": 10,
    "start_time": "2022-06-09T13:37:12.754Z"
   },
   {
    "duration": 24,
    "start_time": "2022-06-09T13:37:12.767Z"
   },
   {
    "duration": 19,
    "start_time": "2022-06-09T13:37:12.792Z"
   },
   {
    "duration": 26,
    "start_time": "2022-06-09T13:37:12.827Z"
   },
   {
    "duration": 25,
    "start_time": "2022-06-09T13:37:12.855Z"
   },
   {
    "duration": 14,
    "start_time": "2022-06-09T13:37:12.882Z"
   },
   {
    "duration": 45,
    "start_time": "2022-06-09T13:37:12.898Z"
   },
   {
    "duration": 30,
    "start_time": "2022-06-09T13:37:12.944Z"
   },
   {
    "duration": 3,
    "start_time": "2022-06-09T13:37:12.975Z"
   },
   {
    "duration": 20,
    "start_time": "2022-06-09T13:37:12.979Z"
   },
   {
    "duration": 260,
    "start_time": "2022-06-09T13:37:13.001Z"
   },
   {
    "duration": 14,
    "start_time": "2022-06-09T13:37:13.262Z"
   },
   {
    "duration": 132,
    "start_time": "2022-06-09T13:37:13.277Z"
   },
   {
    "duration": 38,
    "start_time": "2022-06-09T13:37:13.411Z"
   },
   {
    "duration": 301,
    "start_time": "2022-06-09T13:37:13.451Z"
   },
   {
    "duration": 274,
    "start_time": "2022-06-09T13:37:13.754Z"
   },
   {
    "duration": 17,
    "start_time": "2022-06-09T13:37:14.034Z"
   },
   {
    "duration": 18,
    "start_time": "2022-06-09T13:37:14.053Z"
   },
   {
    "duration": 22,
    "start_time": "2022-06-09T13:37:14.072Z"
   },
   {
    "duration": 1447,
    "start_time": "2022-06-09T13:37:14.097Z"
   },
   {
    "duration": 164,
    "start_time": "2022-06-09T13:37:15.546Z"
   },
   {
    "duration": 31,
    "start_time": "2022-06-09T13:37:15.712Z"
   },
   {
    "duration": 206,
    "start_time": "2022-06-09T13:37:15.745Z"
   },
   {
    "duration": 47,
    "start_time": "2022-06-09T13:37:15.952Z"
   },
   {
    "duration": 54,
    "start_time": "2022-06-09T13:37:16.001Z"
   },
   {
    "duration": 17,
    "start_time": "2022-06-09T13:37:16.057Z"
   },
   {
    "duration": 250,
    "start_time": "2022-06-09T13:37:16.076Z"
   },
   {
    "duration": 1858,
    "start_time": "2022-06-09T13:37:16.336Z"
   },
   {
    "duration": 45,
    "start_time": "2022-06-09T13:37:18.196Z"
   },
   {
    "duration": 50,
    "start_time": "2022-06-09T13:37:18.242Z"
   },
   {
    "duration": 90,
    "start_time": "2022-06-09T13:37:18.293Z"
   },
   {
    "duration": 15,
    "start_time": "2022-06-09T13:37:18.384Z"
   },
   {
    "duration": 40,
    "start_time": "2022-06-09T13:37:18.401Z"
   },
   {
    "duration": 22,
    "start_time": "2022-06-09T13:37:18.443Z"
   },
   {
    "duration": 4,
    "start_time": "2022-06-09T13:37:18.467Z"
   },
   {
    "duration": 0,
    "start_time": "2022-06-09T13:37:18.472Z"
   },
   {
    "duration": 0,
    "start_time": "2022-06-09T13:37:18.473Z"
   },
   {
    "duration": 18,
    "start_time": "2022-06-09T13:37:48.423Z"
   },
   {
    "duration": 16,
    "start_time": "2022-06-09T13:37:52.464Z"
   },
   {
    "duration": 1159,
    "start_time": "2022-06-09T13:38:21.056Z"
   },
   {
    "duration": 73,
    "start_time": "2022-06-09T13:38:22.217Z"
   },
   {
    "duration": 4,
    "start_time": "2022-06-09T13:38:22.292Z"
   },
   {
    "duration": 77,
    "start_time": "2022-06-09T13:38:22.297Z"
   },
   {
    "duration": 16,
    "start_time": "2022-06-09T13:38:22.377Z"
   },
   {
    "duration": 33,
    "start_time": "2022-06-09T13:38:22.395Z"
   },
   {
    "duration": 58,
    "start_time": "2022-06-09T13:38:22.430Z"
   },
   {
    "duration": 27,
    "start_time": "2022-06-09T13:38:22.490Z"
   },
   {
    "duration": 29,
    "start_time": "2022-06-09T13:38:22.518Z"
   },
   {
    "duration": 25,
    "start_time": "2022-06-09T13:38:22.549Z"
   },
   {
    "duration": 26,
    "start_time": "2022-06-09T13:38:22.576Z"
   },
   {
    "duration": 44,
    "start_time": "2022-06-09T13:38:22.603Z"
   },
   {
    "duration": 42,
    "start_time": "2022-06-09T13:38:22.649Z"
   },
   {
    "duration": 17,
    "start_time": "2022-06-09T13:38:22.695Z"
   },
   {
    "duration": 22,
    "start_time": "2022-06-09T13:38:22.727Z"
   },
   {
    "duration": 36,
    "start_time": "2022-06-09T13:38:22.751Z"
   },
   {
    "duration": 15,
    "start_time": "2022-06-09T13:38:22.791Z"
   },
   {
    "duration": 25,
    "start_time": "2022-06-09T13:38:22.808Z"
   },
   {
    "duration": 240,
    "start_time": "2022-06-09T13:38:22.835Z"
   },
   {
    "duration": 14,
    "start_time": "2022-06-09T13:38:23.077Z"
   },
   {
    "duration": 149,
    "start_time": "2022-06-09T13:38:23.092Z"
   },
   {
    "duration": 29,
    "start_time": "2022-06-09T13:38:23.243Z"
   },
   {
    "duration": 302,
    "start_time": "2022-06-09T13:38:23.274Z"
   },
   {
    "duration": 263,
    "start_time": "2022-06-09T13:38:23.578Z"
   },
   {
    "duration": 12,
    "start_time": "2022-06-09T13:38:23.843Z"
   },
   {
    "duration": 8,
    "start_time": "2022-06-09T13:38:23.856Z"
   },
   {
    "duration": 20,
    "start_time": "2022-06-09T13:38:23.866Z"
   },
   {
    "duration": 1380,
    "start_time": "2022-06-09T13:38:23.887Z"
   },
   {
    "duration": 181,
    "start_time": "2022-06-09T13:38:25.268Z"
   },
   {
    "duration": 19,
    "start_time": "2022-06-09T13:38:25.450Z"
   },
   {
    "duration": 238,
    "start_time": "2022-06-09T13:38:25.471Z"
   },
   {
    "duration": 63,
    "start_time": "2022-06-09T13:38:25.711Z"
   },
   {
    "duration": 36,
    "start_time": "2022-06-09T13:38:25.776Z"
   },
   {
    "duration": 31,
    "start_time": "2022-06-09T13:38:25.814Z"
   },
   {
    "duration": 244,
    "start_time": "2022-06-09T13:38:25.847Z"
   },
   {
    "duration": 1597,
    "start_time": "2022-06-09T13:38:26.092Z"
   },
   {
    "duration": 51,
    "start_time": "2022-06-09T13:38:27.690Z"
   },
   {
    "duration": 51,
    "start_time": "2022-06-09T13:38:27.743Z"
   },
   {
    "duration": 84,
    "start_time": "2022-06-09T13:38:27.795Z"
   },
   {
    "duration": 14,
    "start_time": "2022-06-09T13:38:27.881Z"
   },
   {
    "duration": 41,
    "start_time": "2022-06-09T13:38:27.899Z"
   },
   {
    "duration": 21,
    "start_time": "2022-06-09T13:38:27.943Z"
   },
   {
    "duration": 8,
    "start_time": "2022-06-09T13:38:27.965Z"
   },
   {
    "duration": 0,
    "start_time": "2022-06-09T13:38:27.974Z"
   },
   {
    "duration": 0,
    "start_time": "2022-06-09T13:38:27.976Z"
   },
   {
    "duration": 61,
    "start_time": "2022-06-09T13:40:16.914Z"
   },
   {
    "duration": 1252,
    "start_time": "2022-06-09T13:40:23.857Z"
   },
   {
    "duration": 136,
    "start_time": "2022-06-09T13:40:25.111Z"
   },
   {
    "duration": 4,
    "start_time": "2022-06-09T13:40:25.252Z"
   },
   {
    "duration": 47,
    "start_time": "2022-06-09T13:40:25.258Z"
   },
   {
    "duration": 9,
    "start_time": "2022-06-09T13:40:25.307Z"
   },
   {
    "duration": 6,
    "start_time": "2022-06-09T13:40:25.318Z"
   },
   {
    "duration": 31,
    "start_time": "2022-06-09T13:40:25.331Z"
   },
   {
    "duration": 9,
    "start_time": "2022-06-09T13:40:25.363Z"
   },
   {
    "duration": 15,
    "start_time": "2022-06-09T13:40:25.374Z"
   },
   {
    "duration": 18,
    "start_time": "2022-06-09T13:40:25.390Z"
   },
   {
    "duration": 16,
    "start_time": "2022-06-09T13:40:25.410Z"
   },
   {
    "duration": 33,
    "start_time": "2022-06-09T13:40:25.431Z"
   },
   {
    "duration": 22,
    "start_time": "2022-06-09T13:40:25.466Z"
   },
   {
    "duration": 15,
    "start_time": "2022-06-09T13:40:25.490Z"
   },
   {
    "duration": 35,
    "start_time": "2022-06-09T13:40:25.506Z"
   },
   {
    "duration": 34,
    "start_time": "2022-06-09T13:40:25.552Z"
   },
   {
    "duration": 2,
    "start_time": "2022-06-09T13:40:25.588Z"
   },
   {
    "duration": 21,
    "start_time": "2022-06-09T13:40:25.591Z"
   },
   {
    "duration": 255,
    "start_time": "2022-06-09T13:40:25.613Z"
   },
   {
    "duration": 13,
    "start_time": "2022-06-09T13:40:25.870Z"
   },
   {
    "duration": 146,
    "start_time": "2022-06-09T13:40:25.884Z"
   },
   {
    "duration": 28,
    "start_time": "2022-06-09T13:40:26.037Z"
   },
   {
    "duration": 294,
    "start_time": "2022-06-09T13:40:26.067Z"
   },
   {
    "duration": 298,
    "start_time": "2022-06-09T13:40:26.363Z"
   },
   {
    "duration": 13,
    "start_time": "2022-06-09T13:40:26.671Z"
   },
   {
    "duration": 22,
    "start_time": "2022-06-09T13:40:26.686Z"
   },
   {
    "duration": 46,
    "start_time": "2022-06-09T13:40:26.711Z"
   },
   {
    "duration": 1483,
    "start_time": "2022-06-09T13:40:26.759Z"
   },
   {
    "duration": 191,
    "start_time": "2022-06-09T13:40:28.252Z"
   },
   {
    "duration": 21,
    "start_time": "2022-06-09T13:40:28.452Z"
   },
   {
    "duration": 226,
    "start_time": "2022-06-09T13:40:28.475Z"
   },
   {
    "duration": 71,
    "start_time": "2022-06-09T13:40:28.702Z"
   },
   {
    "duration": 71,
    "start_time": "2022-06-09T13:40:28.775Z"
   },
   {
    "duration": 32,
    "start_time": "2022-06-09T13:40:28.847Z"
   },
   {
    "duration": 262,
    "start_time": "2022-06-09T13:40:28.882Z"
   },
   {
    "duration": 1486,
    "start_time": "2022-06-09T13:40:29.150Z"
   },
   {
    "duration": 68,
    "start_time": "2022-06-09T13:40:30.640Z"
   },
   {
    "duration": 84,
    "start_time": "2022-06-09T13:40:30.711Z"
   },
   {
    "duration": 102,
    "start_time": "2022-06-09T13:40:30.797Z"
   },
   {
    "duration": 16,
    "start_time": "2022-06-09T13:40:30.901Z"
   },
   {
    "duration": 74,
    "start_time": "2022-06-09T13:40:30.928Z"
   },
   {
    "duration": 101,
    "start_time": "2022-06-09T13:40:31.004Z"
   },
   {
    "duration": 30,
    "start_time": "2022-06-09T13:40:31.108Z"
   },
   {
    "duration": 40,
    "start_time": "2022-06-09T13:40:31.139Z"
   },
   {
    "duration": 459,
    "start_time": "2022-06-09T13:41:02.441Z"
   },
   {
    "duration": 113,
    "start_time": "2022-06-09T13:41:29.852Z"
   },
   {
    "duration": 251,
    "start_time": "2022-06-09T13:44:14.504Z"
   },
   {
    "duration": 1231,
    "start_time": "2022-06-09T13:44:33.242Z"
   },
   {
    "duration": 72,
    "start_time": "2022-06-09T13:44:34.476Z"
   },
   {
    "duration": 4,
    "start_time": "2022-06-09T13:44:34.549Z"
   },
   {
    "duration": 92,
    "start_time": "2022-06-09T13:44:34.555Z"
   },
   {
    "duration": 12,
    "start_time": "2022-06-09T13:44:34.649Z"
   },
   {
    "duration": 10,
    "start_time": "2022-06-09T13:44:34.663Z"
   },
   {
    "duration": 10,
    "start_time": "2022-06-09T13:44:34.675Z"
   },
   {
    "duration": 8,
    "start_time": "2022-06-09T13:44:34.687Z"
   },
   {
    "duration": 48,
    "start_time": "2022-06-09T13:44:34.696Z"
   },
   {
    "duration": 22,
    "start_time": "2022-06-09T13:44:34.746Z"
   },
   {
    "duration": 28,
    "start_time": "2022-06-09T13:44:34.770Z"
   },
   {
    "duration": 43,
    "start_time": "2022-06-09T13:44:34.800Z"
   },
   {
    "duration": 26,
    "start_time": "2022-06-09T13:44:34.845Z"
   },
   {
    "duration": 16,
    "start_time": "2022-06-09T13:44:34.874Z"
   },
   {
    "duration": 41,
    "start_time": "2022-06-09T13:44:34.892Z"
   },
   {
    "duration": 41,
    "start_time": "2022-06-09T13:44:34.935Z"
   },
   {
    "duration": 3,
    "start_time": "2022-06-09T13:44:34.979Z"
   },
   {
    "duration": 26,
    "start_time": "2022-06-09T13:44:34.984Z"
   },
   {
    "duration": 271,
    "start_time": "2022-06-09T13:44:35.012Z"
   },
   {
    "duration": 14,
    "start_time": "2022-06-09T13:44:35.285Z"
   },
   {
    "duration": 167,
    "start_time": "2022-06-09T13:44:35.300Z"
   },
   {
    "duration": 23,
    "start_time": "2022-06-09T13:44:35.468Z"
   },
   {
    "duration": 314,
    "start_time": "2022-06-09T13:44:35.492Z"
   },
   {
    "duration": 233,
    "start_time": "2022-06-09T13:44:35.808Z"
   },
   {
    "duration": 12,
    "start_time": "2022-06-09T13:44:36.045Z"
   },
   {
    "duration": 13,
    "start_time": "2022-06-09T13:44:36.059Z"
   },
   {
    "duration": 20,
    "start_time": "2022-06-09T13:44:36.074Z"
   },
   {
    "duration": 1429,
    "start_time": "2022-06-09T13:44:36.096Z"
   },
   {
    "duration": 181,
    "start_time": "2022-06-09T13:44:37.527Z"
   },
   {
    "duration": 22,
    "start_time": "2022-06-09T13:44:37.710Z"
   },
   {
    "duration": 219,
    "start_time": "2022-06-09T13:44:37.737Z"
   },
   {
    "duration": 47,
    "start_time": "2022-06-09T13:44:37.958Z"
   },
   {
    "duration": 58,
    "start_time": "2022-06-09T13:44:38.007Z"
   },
   {
    "duration": 26,
    "start_time": "2022-06-09T13:44:38.067Z"
   },
   {
    "duration": 267,
    "start_time": "2022-06-09T13:44:38.095Z"
   },
   {
    "duration": 1696,
    "start_time": "2022-06-09T13:44:38.363Z"
   },
   {
    "duration": 72,
    "start_time": "2022-06-09T13:44:40.061Z"
   },
   {
    "duration": 51,
    "start_time": "2022-06-09T13:44:40.135Z"
   },
   {
    "duration": 91,
    "start_time": "2022-06-09T13:44:40.188Z"
   },
   {
    "duration": 14,
    "start_time": "2022-06-09T13:44:40.280Z"
   },
   {
    "duration": 18,
    "start_time": "2022-06-09T13:44:40.297Z"
   },
   {
    "duration": 33,
    "start_time": "2022-06-09T13:44:40.316Z"
   },
   {
    "duration": 19,
    "start_time": "2022-06-09T13:44:40.351Z"
   },
   {
    "duration": 9,
    "start_time": "2022-06-09T13:44:40.371Z"
   },
   {
    "duration": 32,
    "start_time": "2022-06-09T13:46:09.412Z"
   },
   {
    "duration": 113,
    "start_time": "2022-06-09T13:46:27.459Z"
   },
   {
    "duration": 23,
    "start_time": "2022-06-09T13:46:36.524Z"
   },
   {
    "duration": 7,
    "start_time": "2022-06-09T13:46:43.322Z"
   },
   {
    "duration": 19,
    "start_time": "2022-06-09T13:48:40.543Z"
   },
   {
    "duration": 5,
    "start_time": "2022-06-09T13:48:59.571Z"
   },
   {
    "duration": 48,
    "start_time": "2022-06-09T13:49:19.008Z"
   },
   {
    "duration": 10,
    "start_time": "2022-06-09T13:49:22.797Z"
   },
   {
    "duration": 11,
    "start_time": "2022-06-09T13:50:20.797Z"
   },
   {
    "duration": 16,
    "start_time": "2022-06-09T13:50:46.420Z"
   },
   {
    "duration": 14,
    "start_time": "2022-06-09T13:51:22.923Z"
   },
   {
    "duration": 33,
    "start_time": "2022-06-09T13:52:49.216Z"
   },
   {
    "duration": 13,
    "start_time": "2022-06-09T13:53:48.365Z"
   },
   {
    "duration": 7,
    "start_time": "2022-06-09T16:40:13.454Z"
   },
   {
    "duration": 7,
    "start_time": "2022-06-09T16:40:23.657Z"
   },
   {
    "duration": 1362,
    "start_time": "2022-06-09T16:40:39.654Z"
   },
   {
    "duration": 257,
    "start_time": "2022-06-09T16:40:41.018Z"
   },
   {
    "duration": 4,
    "start_time": "2022-06-09T16:40:41.277Z"
   },
   {
    "duration": 59,
    "start_time": "2022-06-09T16:40:41.282Z"
   },
   {
    "duration": 11,
    "start_time": "2022-06-09T16:40:41.344Z"
   },
   {
    "duration": 11,
    "start_time": "2022-06-09T16:40:41.357Z"
   },
   {
    "duration": 27,
    "start_time": "2022-06-09T16:40:41.370Z"
   },
   {
    "duration": 13,
    "start_time": "2022-06-09T16:40:41.398Z"
   },
   {
    "duration": 9,
    "start_time": "2022-06-09T16:40:41.412Z"
   },
   {
    "duration": 18,
    "start_time": "2022-06-09T16:40:41.422Z"
   },
   {
    "duration": 14,
    "start_time": "2022-06-09T16:40:41.442Z"
   },
   {
    "duration": 49,
    "start_time": "2022-06-09T16:40:41.457Z"
   },
   {
    "duration": 23,
    "start_time": "2022-06-09T16:40:41.508Z"
   },
   {
    "duration": 14,
    "start_time": "2022-06-09T16:40:41.534Z"
   },
   {
    "duration": 14,
    "start_time": "2022-06-09T16:40:41.549Z"
   },
   {
    "duration": 48,
    "start_time": "2022-06-09T16:40:41.565Z"
   },
   {
    "duration": 2,
    "start_time": "2022-06-09T16:40:41.616Z"
   },
   {
    "duration": 18,
    "start_time": "2022-06-09T16:40:41.620Z"
   },
   {
    "duration": 237,
    "start_time": "2022-06-09T16:40:41.639Z"
   },
   {
    "duration": 28,
    "start_time": "2022-06-09T16:40:41.878Z"
   },
   {
    "duration": 134,
    "start_time": "2022-06-09T16:40:41.909Z"
   },
   {
    "duration": 24,
    "start_time": "2022-06-09T16:40:42.044Z"
   },
   {
    "duration": 309,
    "start_time": "2022-06-09T16:40:42.071Z"
   },
   {
    "duration": 264,
    "start_time": "2022-06-09T16:40:42.381Z"
   },
   {
    "duration": 12,
    "start_time": "2022-06-09T16:40:42.647Z"
   },
   {
    "duration": 13,
    "start_time": "2022-06-09T16:40:42.661Z"
   },
   {
    "duration": 36,
    "start_time": "2022-06-09T16:40:42.676Z"
   },
   {
    "duration": 1506,
    "start_time": "2022-06-09T16:40:42.714Z"
   },
   {
    "duration": 182,
    "start_time": "2022-06-09T16:40:44.222Z"
   },
   {
    "duration": 19,
    "start_time": "2022-06-09T16:40:44.406Z"
   },
   {
    "duration": 233,
    "start_time": "2022-06-09T16:40:44.427Z"
   },
   {
    "duration": 61,
    "start_time": "2022-06-09T16:40:44.662Z"
   },
   {
    "duration": 35,
    "start_time": "2022-06-09T16:40:44.725Z"
   },
   {
    "duration": 45,
    "start_time": "2022-06-09T16:40:44.762Z"
   },
   {
    "duration": 254,
    "start_time": "2022-06-09T16:40:44.809Z"
   },
   {
    "duration": 1810,
    "start_time": "2022-06-09T16:40:45.065Z"
   },
   {
    "duration": 47,
    "start_time": "2022-06-09T16:40:46.877Z"
   },
   {
    "duration": 54,
    "start_time": "2022-06-09T16:40:46.926Z"
   },
   {
    "duration": 102,
    "start_time": "2022-06-09T16:40:46.982Z"
   },
   {
    "duration": 29,
    "start_time": "2022-06-09T16:40:47.086Z"
   },
   {
    "duration": 3,
    "start_time": "2022-06-09T16:40:47.119Z"
   },
   {
    "duration": 22,
    "start_time": "2022-06-09T16:40:47.123Z"
   },
   {
    "duration": 11,
    "start_time": "2022-06-09T16:40:47.147Z"
   },
   {
    "duration": 39,
    "start_time": "2022-06-09T16:40:47.159Z"
   },
   {
    "duration": 20,
    "start_time": "2022-06-09T16:40:47.202Z"
   },
   {
    "duration": 116,
    "start_time": "2022-06-09T16:41:17.725Z"
   },
   {
    "duration": 5,
    "start_time": "2022-06-09T16:41:32.359Z"
   },
   {
    "duration": 4,
    "start_time": "2022-06-09T16:42:11.937Z"
   },
   {
    "duration": 16,
    "start_time": "2022-06-09T16:42:48.534Z"
   },
   {
    "duration": 23,
    "start_time": "2022-06-09T16:42:53.181Z"
   },
   {
    "duration": 25,
    "start_time": "2022-06-09T16:43:27.182Z"
   },
   {
    "duration": 20,
    "start_time": "2022-06-09T16:44:00.542Z"
   },
   {
    "duration": 7,
    "start_time": "2022-06-09T19:59:45.591Z"
   },
   {
    "duration": 1241,
    "start_time": "2022-06-09T19:59:51.619Z"
   },
   {
    "duration": 108,
    "start_time": "2022-06-09T19:59:52.863Z"
   },
   {
    "duration": 3,
    "start_time": "2022-06-09T19:59:52.973Z"
   },
   {
    "duration": 59,
    "start_time": "2022-06-09T19:59:52.978Z"
   },
   {
    "duration": 10,
    "start_time": "2022-06-09T19:59:53.039Z"
   },
   {
    "duration": 13,
    "start_time": "2022-06-09T19:59:53.050Z"
   },
   {
    "duration": 14,
    "start_time": "2022-06-09T19:59:53.065Z"
   },
   {
    "duration": 6,
    "start_time": "2022-06-09T19:59:53.081Z"
   },
   {
    "duration": 17,
    "start_time": "2022-06-09T19:59:53.088Z"
   },
   {
    "duration": 21,
    "start_time": "2022-06-09T19:59:53.107Z"
   },
   {
    "duration": 13,
    "start_time": "2022-06-09T19:59:53.129Z"
   },
   {
    "duration": 20,
    "start_time": "2022-06-09T19:59:53.143Z"
   },
   {
    "duration": 28,
    "start_time": "2022-06-09T19:59:53.164Z"
   },
   {
    "duration": 13,
    "start_time": "2022-06-09T19:59:53.193Z"
   },
   {
    "duration": 13,
    "start_time": "2022-06-09T19:59:53.207Z"
   },
   {
    "duration": 25,
    "start_time": "2022-06-09T19:59:53.221Z"
   },
   {
    "duration": 2,
    "start_time": "2022-06-09T19:59:53.248Z"
   },
   {
    "duration": 19,
    "start_time": "2022-06-09T19:59:53.251Z"
   },
   {
    "duration": 216,
    "start_time": "2022-06-09T19:59:53.272Z"
   },
   {
    "duration": 12,
    "start_time": "2022-06-09T19:59:53.490Z"
   },
   {
    "duration": 115,
    "start_time": "2022-06-09T19:59:53.503Z"
   },
   {
    "duration": 19,
    "start_time": "2022-06-09T19:59:53.620Z"
   },
   {
    "duration": 260,
    "start_time": "2022-06-09T19:59:53.641Z"
   },
   {
    "duration": 208,
    "start_time": "2022-06-09T19:59:53.902Z"
   },
   {
    "duration": 10,
    "start_time": "2022-06-09T19:59:54.111Z"
   },
   {
    "duration": 7,
    "start_time": "2022-06-09T19:59:54.123Z"
   },
   {
    "duration": 26,
    "start_time": "2022-06-09T19:59:54.131Z"
   },
   {
    "duration": 1239,
    "start_time": "2022-06-09T19:59:54.159Z"
   },
   {
    "duration": 159,
    "start_time": "2022-06-09T19:59:55.399Z"
   },
   {
    "duration": 17,
    "start_time": "2022-06-09T19:59:55.559Z"
   },
   {
    "duration": 198,
    "start_time": "2022-06-09T19:59:55.577Z"
   },
   {
    "duration": 49,
    "start_time": "2022-06-09T19:59:55.777Z"
   },
   {
    "duration": 44,
    "start_time": "2022-06-09T19:59:55.827Z"
   },
   {
    "duration": 28,
    "start_time": "2022-06-09T19:59:55.873Z"
   },
   {
    "duration": 217,
    "start_time": "2022-06-09T19:59:55.902Z"
   },
   {
    "duration": 1871,
    "start_time": "2022-06-09T19:59:56.120Z"
   },
   {
    "duration": 37,
    "start_time": "2022-06-09T19:59:57.992Z"
   },
   {
    "duration": 44,
    "start_time": "2022-06-09T19:59:58.031Z"
   },
   {
    "duration": 71,
    "start_time": "2022-06-09T19:59:58.091Z"
   },
   {
    "duration": 12,
    "start_time": "2022-06-09T19:59:58.163Z"
   },
   {
    "duration": 14,
    "start_time": "2022-06-09T19:59:58.177Z"
   },
   {
    "duration": 19,
    "start_time": "2022-06-09T19:59:58.192Z"
   },
   {
    "duration": 10,
    "start_time": "2022-06-09T19:59:58.212Z"
   },
   {
    "duration": 22,
    "start_time": "2022-06-09T19:59:58.223Z"
   },
   {
    "duration": 14,
    "start_time": "2022-06-09T19:59:58.247Z"
   },
   {
    "duration": 4,
    "start_time": "2022-06-09T19:59:58.262Z"
   },
   {
    "duration": 203,
    "start_time": "2022-06-09T20:09:51.789Z"
   },
   {
    "duration": 1030,
    "start_time": "2022-06-09T20:10:04.388Z"
   },
   {
    "duration": 64,
    "start_time": "2022-06-09T20:10:05.419Z"
   },
   {
    "duration": 3,
    "start_time": "2022-06-09T20:10:05.485Z"
   },
   {
    "duration": 49,
    "start_time": "2022-06-09T20:10:05.490Z"
   },
   {
    "duration": 10,
    "start_time": "2022-06-09T20:10:05.540Z"
   },
   {
    "duration": 5,
    "start_time": "2022-06-09T20:10:05.551Z"
   },
   {
    "duration": 10,
    "start_time": "2022-06-09T20:10:05.558Z"
   },
   {
    "duration": 22,
    "start_time": "2022-06-09T20:10:05.570Z"
   },
   {
    "duration": 5,
    "start_time": "2022-06-09T20:10:05.593Z"
   },
   {
    "duration": 14,
    "start_time": "2022-06-09T20:10:05.600Z"
   },
   {
    "duration": 13,
    "start_time": "2022-06-09T20:10:05.616Z"
   },
   {
    "duration": 19,
    "start_time": "2022-06-09T20:10:05.630Z"
   },
   {
    "duration": 48,
    "start_time": "2022-06-09T20:10:05.650Z"
   },
   {
    "duration": 12,
    "start_time": "2022-06-09T20:10:05.699Z"
   },
   {
    "duration": 12,
    "start_time": "2022-06-09T20:10:05.713Z"
   },
   {
    "duration": 19,
    "start_time": "2022-06-09T20:10:05.726Z"
   },
   {
    "duration": 2,
    "start_time": "2022-06-09T20:10:05.746Z"
   },
   {
    "duration": 15,
    "start_time": "2022-06-09T20:10:05.749Z"
   },
   {
    "duration": 223,
    "start_time": "2022-06-09T20:10:05.766Z"
   },
   {
    "duration": 12,
    "start_time": "2022-06-09T20:10:05.991Z"
   },
   {
    "duration": 120,
    "start_time": "2022-06-09T20:10:06.004Z"
   },
   {
    "duration": 20,
    "start_time": "2022-06-09T20:10:06.125Z"
   },
   {
    "duration": 275,
    "start_time": "2022-06-09T20:10:06.147Z"
   },
   {
    "duration": 203,
    "start_time": "2022-06-09T20:10:06.423Z"
   },
   {
    "duration": 11,
    "start_time": "2022-06-09T20:10:06.627Z"
   },
   {
    "duration": 8,
    "start_time": "2022-06-09T20:10:06.639Z"
   },
   {
    "duration": 18,
    "start_time": "2022-06-09T20:10:06.648Z"
   },
   {
    "duration": 1286,
    "start_time": "2022-06-09T20:10:06.668Z"
   },
   {
    "duration": 155,
    "start_time": "2022-06-09T20:10:07.956Z"
   },
   {
    "duration": 18,
    "start_time": "2022-06-09T20:10:08.112Z"
   },
   {
    "duration": 212,
    "start_time": "2022-06-09T20:10:08.131Z"
   },
   {
    "duration": 54,
    "start_time": "2022-06-09T20:10:08.345Z"
   },
   {
    "duration": 34,
    "start_time": "2022-06-09T20:10:08.401Z"
   },
   {
    "duration": 17,
    "start_time": "2022-06-09T20:10:08.436Z"
   },
   {
    "duration": 237,
    "start_time": "2022-06-09T20:10:08.454Z"
   },
   {
    "duration": 1804,
    "start_time": "2022-06-09T20:10:08.693Z"
   },
   {
    "duration": 38,
    "start_time": "2022-06-09T20:10:10.499Z"
   },
   {
    "duration": 61,
    "start_time": "2022-06-09T20:10:10.538Z"
   },
   {
    "duration": 77,
    "start_time": "2022-06-09T20:10:10.601Z"
   },
   {
    "duration": 16,
    "start_time": "2022-06-09T20:10:10.690Z"
   },
   {
    "duration": 8,
    "start_time": "2022-06-09T20:10:10.708Z"
   },
   {
    "duration": 20,
    "start_time": "2022-06-09T20:10:10.718Z"
   },
   {
    "duration": 9,
    "start_time": "2022-06-09T20:10:10.740Z"
   },
   {
    "duration": 26,
    "start_time": "2022-06-09T20:10:10.750Z"
   },
   {
    "duration": 27,
    "start_time": "2022-06-09T20:10:10.777Z"
   },
   {
    "duration": 4,
    "start_time": "2022-06-09T20:10:10.805Z"
   },
   {
    "duration": 184,
    "start_time": "2022-06-09T20:31:02.022Z"
   },
   {
    "duration": 205,
    "start_time": "2022-06-09T20:33:22.403Z"
   },
   {
    "duration": 978,
    "start_time": "2022-06-09T20:33:37.136Z"
   },
   {
    "duration": 60,
    "start_time": "2022-06-09T20:33:38.116Z"
   },
   {
    "duration": 3,
    "start_time": "2022-06-09T20:33:38.178Z"
   },
   {
    "duration": 68,
    "start_time": "2022-06-09T20:33:38.183Z"
   },
   {
    "duration": 8,
    "start_time": "2022-06-09T20:33:38.253Z"
   },
   {
    "duration": 26,
    "start_time": "2022-06-09T20:33:38.262Z"
   },
   {
    "duration": 30,
    "start_time": "2022-06-09T20:33:38.289Z"
   },
   {
    "duration": 32,
    "start_time": "2022-06-09T20:33:38.321Z"
   },
   {
    "duration": 7,
    "start_time": "2022-06-09T20:33:38.354Z"
   },
   {
    "duration": 14,
    "start_time": "2022-06-09T20:33:38.363Z"
   },
   {
    "duration": 12,
    "start_time": "2022-06-09T20:33:38.379Z"
   },
   {
    "duration": 19,
    "start_time": "2022-06-09T20:33:38.392Z"
   },
   {
    "duration": 23,
    "start_time": "2022-06-09T20:33:38.414Z"
   },
   {
    "duration": 14,
    "start_time": "2022-06-09T20:33:38.438Z"
   },
   {
    "duration": 13,
    "start_time": "2022-06-09T20:33:38.453Z"
   },
   {
    "duration": 42,
    "start_time": "2022-06-09T20:33:38.467Z"
   },
   {
    "duration": 3,
    "start_time": "2022-06-09T20:33:38.510Z"
   },
   {
    "duration": 17,
    "start_time": "2022-06-09T20:33:38.514Z"
   },
   {
    "duration": 209,
    "start_time": "2022-06-09T20:33:38.532Z"
   },
   {
    "duration": 13,
    "start_time": "2022-06-09T20:33:38.743Z"
   },
   {
    "duration": 117,
    "start_time": "2022-06-09T20:33:38.758Z"
   },
   {
    "duration": 27,
    "start_time": "2022-06-09T20:33:38.876Z"
   },
   {
    "duration": 254,
    "start_time": "2022-06-09T20:33:38.904Z"
   },
   {
    "duration": 198,
    "start_time": "2022-06-09T20:33:39.159Z"
   },
   {
    "duration": 10,
    "start_time": "2022-06-09T20:33:39.358Z"
   },
   {
    "duration": 8,
    "start_time": "2022-06-09T20:33:39.370Z"
   },
   {
    "duration": 27,
    "start_time": "2022-06-09T20:33:39.379Z"
   },
   {
    "duration": 1199,
    "start_time": "2022-06-09T20:33:39.409Z"
   },
   {
    "duration": 149,
    "start_time": "2022-06-09T20:33:40.609Z"
   },
   {
    "duration": 16,
    "start_time": "2022-06-09T20:33:40.759Z"
   },
   {
    "duration": 206,
    "start_time": "2022-06-09T20:33:40.776Z"
   },
   {
    "duration": 46,
    "start_time": "2022-06-09T20:33:40.990Z"
   },
   {
    "duration": 34,
    "start_time": "2022-06-09T20:33:41.037Z"
   },
   {
    "duration": 30,
    "start_time": "2022-06-09T20:33:41.072Z"
   },
   {
    "duration": 214,
    "start_time": "2022-06-09T20:33:41.104Z"
   },
   {
    "duration": 1592,
    "start_time": "2022-06-09T20:33:41.319Z"
   },
   {
    "duration": 36,
    "start_time": "2022-06-09T20:33:42.913Z"
   },
   {
    "duration": 51,
    "start_time": "2022-06-09T20:33:42.950Z"
   },
   {
    "duration": 70,
    "start_time": "2022-06-09T20:33:43.003Z"
   },
   {
    "duration": 23,
    "start_time": "2022-06-09T20:33:43.074Z"
   },
   {
    "duration": 2,
    "start_time": "2022-06-09T20:33:43.099Z"
   },
   {
    "duration": 20,
    "start_time": "2022-06-09T20:33:43.102Z"
   },
   {
    "duration": 8,
    "start_time": "2022-06-09T20:33:43.123Z"
   },
   {
    "duration": 21,
    "start_time": "2022-06-09T20:33:43.133Z"
   },
   {
    "duration": 37,
    "start_time": "2022-06-09T20:33:43.156Z"
   },
   {
    "duration": 4,
    "start_time": "2022-06-09T20:33:43.195Z"
   },
   {
    "duration": 1043,
    "start_time": "2022-06-09T21:00:05.115Z"
   },
   {
    "duration": 66,
    "start_time": "2022-06-09T21:00:06.160Z"
   },
   {
    "duration": 3,
    "start_time": "2022-06-09T21:00:06.228Z"
   },
   {
    "duration": 47,
    "start_time": "2022-06-09T21:00:06.233Z"
   },
   {
    "duration": 15,
    "start_time": "2022-06-09T21:00:06.282Z"
   },
   {
    "duration": 5,
    "start_time": "2022-06-09T21:00:06.299Z"
   },
   {
    "duration": 10,
    "start_time": "2022-06-09T21:00:06.306Z"
   },
   {
    "duration": 6,
    "start_time": "2022-06-09T21:00:06.317Z"
   },
   {
    "duration": 6,
    "start_time": "2022-06-09T21:00:06.324Z"
   },
   {
    "duration": 17,
    "start_time": "2022-06-09T21:00:06.331Z"
   },
   {
    "duration": 12,
    "start_time": "2022-06-09T21:00:06.349Z"
   },
   {
    "duration": 39,
    "start_time": "2022-06-09T21:00:06.362Z"
   },
   {
    "duration": 20,
    "start_time": "2022-06-09T21:00:06.402Z"
   },
   {
    "duration": 12,
    "start_time": "2022-06-09T21:00:06.425Z"
   },
   {
    "duration": 12,
    "start_time": "2022-06-09T21:00:06.438Z"
   },
   {
    "duration": 44,
    "start_time": "2022-06-09T21:00:06.451Z"
   },
   {
    "duration": 2,
    "start_time": "2022-06-09T21:00:06.496Z"
   },
   {
    "duration": 19,
    "start_time": "2022-06-09T21:00:06.500Z"
   },
   {
    "duration": 203,
    "start_time": "2022-06-09T21:00:06.520Z"
   },
   {
    "duration": 11,
    "start_time": "2022-06-09T21:00:06.724Z"
   },
   {
    "duration": 117,
    "start_time": "2022-06-09T21:00:06.736Z"
   },
   {
    "duration": 20,
    "start_time": "2022-06-09T21:00:06.854Z"
   },
   {
    "duration": 316,
    "start_time": "2022-06-09T21:00:06.875Z"
   },
   {
    "duration": 207,
    "start_time": "2022-06-09T21:00:07.192Z"
   },
   {
    "duration": 11,
    "start_time": "2022-06-09T21:00:07.400Z"
   },
   {
    "duration": 8,
    "start_time": "2022-06-09T21:00:07.413Z"
   },
   {
    "duration": 18,
    "start_time": "2022-06-09T21:00:07.422Z"
   },
   {
    "duration": 1184,
    "start_time": "2022-06-09T21:00:07.442Z"
   },
   {
    "duration": 149,
    "start_time": "2022-06-09T21:00:08.627Z"
   },
   {
    "duration": 24,
    "start_time": "2022-06-09T21:00:08.777Z"
   },
   {
    "duration": 188,
    "start_time": "2022-06-09T21:00:08.803Z"
   },
   {
    "duration": 43,
    "start_time": "2022-06-09T21:00:08.993Z"
   },
   {
    "duration": 32,
    "start_time": "2022-06-09T21:00:09.038Z"
   },
   {
    "duration": 33,
    "start_time": "2022-06-09T21:00:09.072Z"
   },
   {
    "duration": 211,
    "start_time": "2022-06-09T21:00:09.107Z"
   },
   {
    "duration": 1881,
    "start_time": "2022-06-09T21:00:09.319Z"
   },
   {
    "duration": 35,
    "start_time": "2022-06-09T21:00:11.202Z"
   },
   {
    "duration": 56,
    "start_time": "2022-06-09T21:00:11.238Z"
   },
   {
    "duration": 69,
    "start_time": "2022-06-09T21:00:11.295Z"
   },
   {
    "duration": 12,
    "start_time": "2022-06-09T21:00:11.365Z"
   },
   {
    "duration": 7,
    "start_time": "2022-06-09T21:00:11.390Z"
   },
   {
    "duration": 27,
    "start_time": "2022-06-09T21:00:11.398Z"
   },
   {
    "duration": 9,
    "start_time": "2022-06-09T21:00:11.426Z"
   },
   {
    "duration": 29,
    "start_time": "2022-06-09T21:00:11.436Z"
   },
   {
    "duration": 16,
    "start_time": "2022-06-09T21:00:11.466Z"
   },
   {
    "duration": 10,
    "start_time": "2022-06-09T21:00:11.483Z"
   },
   {
    "duration": 1258,
    "start_time": "2022-06-10T14:42:37.247Z"
   },
   {
    "duration": 107,
    "start_time": "2022-06-10T14:42:38.507Z"
   },
   {
    "duration": 4,
    "start_time": "2022-06-10T14:42:38.616Z"
   },
   {
    "duration": 85,
    "start_time": "2022-06-10T14:42:38.621Z"
   },
   {
    "duration": 11,
    "start_time": "2022-06-10T14:42:38.708Z"
   },
   {
    "duration": 17,
    "start_time": "2022-06-10T14:42:38.720Z"
   },
   {
    "duration": 22,
    "start_time": "2022-06-10T14:42:38.738Z"
   },
   {
    "duration": 17,
    "start_time": "2022-06-10T14:42:38.761Z"
   },
   {
    "duration": 12,
    "start_time": "2022-06-10T14:42:38.779Z"
   },
   {
    "duration": 35,
    "start_time": "2022-06-10T14:42:38.793Z"
   },
   {
    "duration": 18,
    "start_time": "2022-06-10T14:42:38.830Z"
   },
   {
    "duration": 33,
    "start_time": "2022-06-10T14:42:38.850Z"
   },
   {
    "duration": 24,
    "start_time": "2022-06-10T14:42:38.884Z"
   },
   {
    "duration": 17,
    "start_time": "2022-06-10T14:42:38.911Z"
   },
   {
    "duration": 29,
    "start_time": "2022-06-10T14:42:38.930Z"
   },
   {
    "duration": 40,
    "start_time": "2022-06-10T14:42:38.961Z"
   },
   {
    "duration": 11,
    "start_time": "2022-06-10T14:42:39.002Z"
   },
   {
    "duration": 32,
    "start_time": "2022-06-10T14:42:39.015Z"
   },
   {
    "duration": 237,
    "start_time": "2022-06-10T14:42:39.049Z"
   },
   {
    "duration": 15,
    "start_time": "2022-06-10T14:42:39.288Z"
   },
   {
    "duration": 153,
    "start_time": "2022-06-10T14:42:39.305Z"
   },
   {
    "duration": 25,
    "start_time": "2022-06-10T14:42:39.460Z"
   },
   {
    "duration": 324,
    "start_time": "2022-06-10T14:42:39.486Z"
   },
   {
    "duration": 254,
    "start_time": "2022-06-10T14:42:39.811Z"
   },
   {
    "duration": 12,
    "start_time": "2022-06-10T14:42:40.067Z"
   },
   {
    "duration": 45,
    "start_time": "2022-06-10T14:42:40.080Z"
   },
   {
    "duration": 27,
    "start_time": "2022-06-10T14:42:40.127Z"
   },
   {
    "duration": 1510,
    "start_time": "2022-06-10T14:42:40.155Z"
   },
   {
    "duration": 206,
    "start_time": "2022-06-10T14:42:41.666Z"
   },
   {
    "duration": 26,
    "start_time": "2022-06-10T14:42:41.875Z"
   },
   {
    "duration": 294,
    "start_time": "2022-06-10T14:42:41.903Z"
   },
   {
    "duration": 65,
    "start_time": "2022-06-10T14:42:42.198Z"
   },
   {
    "duration": 43,
    "start_time": "2022-06-10T14:42:42.264Z"
   },
   {
    "duration": 20,
    "start_time": "2022-06-10T14:42:42.308Z"
   },
   {
    "duration": 278,
    "start_time": "2022-06-10T14:42:42.330Z"
   },
   {
    "duration": 2284,
    "start_time": "2022-06-10T14:42:42.609Z"
   },
   {
    "duration": 44,
    "start_time": "2022-06-10T14:42:44.895Z"
   },
   {
    "duration": 65,
    "start_time": "2022-06-10T14:42:44.941Z"
   },
   {
    "duration": 99,
    "start_time": "2022-06-10T14:42:45.008Z"
   },
   {
    "duration": 15,
    "start_time": "2022-06-10T14:42:45.109Z"
   },
   {
    "duration": 4,
    "start_time": "2022-06-10T14:42:45.128Z"
   },
   {
    "duration": 40,
    "start_time": "2022-06-10T14:42:45.134Z"
   },
   {
    "duration": 11,
    "start_time": "2022-06-10T14:42:45.175Z"
   },
   {
    "duration": 31,
    "start_time": "2022-06-10T14:42:45.188Z"
   },
   {
    "duration": 39,
    "start_time": "2022-06-10T14:42:45.221Z"
   },
   {
    "duration": 6,
    "start_time": "2022-06-10T14:42:45.261Z"
   },
   {
    "duration": 11,
    "start_time": "2022-06-10T15:29:21.413Z"
   },
   {
    "duration": 9,
    "start_time": "2022-06-10T15:29:32.714Z"
   },
   {
    "duration": 15,
    "start_time": "2022-06-10T15:30:02.976Z"
   },
   {
    "duration": 51,
    "start_time": "2022-06-13T08:22:09.070Z"
   },
   {
    "duration": 1508,
    "start_time": "2022-06-13T08:22:18.987Z"
   },
   {
    "duration": 237,
    "start_time": "2022-06-13T08:22:20.498Z"
   },
   {
    "duration": 4,
    "start_time": "2022-06-13T08:22:20.737Z"
   },
   {
    "duration": 55,
    "start_time": "2022-06-13T08:22:20.743Z"
   },
   {
    "duration": 11,
    "start_time": "2022-06-13T08:22:20.799Z"
   },
   {
    "duration": 16,
    "start_time": "2022-06-13T08:22:20.811Z"
   },
   {
    "duration": 10,
    "start_time": "2022-06-13T08:22:20.828Z"
   },
   {
    "duration": 10,
    "start_time": "2022-06-13T08:22:20.840Z"
   },
   {
    "duration": 9,
    "start_time": "2022-06-13T08:22:20.851Z"
   },
   {
    "duration": 27,
    "start_time": "2022-06-13T08:22:20.863Z"
   },
   {
    "duration": 34,
    "start_time": "2022-06-13T08:22:20.891Z"
   },
   {
    "duration": 31,
    "start_time": "2022-06-13T08:22:20.928Z"
   },
   {
    "duration": 32,
    "start_time": "2022-06-13T08:22:20.962Z"
   },
   {
    "duration": 42,
    "start_time": "2022-06-13T08:22:20.996Z"
   },
   {
    "duration": 17,
    "start_time": "2022-06-13T08:22:21.039Z"
   },
   {
    "duration": 65,
    "start_time": "2022-06-13T08:22:21.058Z"
   },
   {
    "duration": 3,
    "start_time": "2022-06-13T08:22:21.125Z"
   },
   {
    "duration": 27,
    "start_time": "2022-06-13T08:22:21.130Z"
   },
   {
    "duration": 249,
    "start_time": "2022-06-13T08:22:21.158Z"
   },
   {
    "duration": 31,
    "start_time": "2022-06-13T08:22:21.408Z"
   },
   {
    "duration": 145,
    "start_time": "2022-06-13T08:22:21.440Z"
   },
   {
    "duration": 37,
    "start_time": "2022-06-13T08:22:21.587Z"
   },
   {
    "duration": 308,
    "start_time": "2022-06-13T08:22:21.627Z"
   },
   {
    "duration": 251,
    "start_time": "2022-06-13T08:22:21.937Z"
   },
   {
    "duration": 13,
    "start_time": "2022-06-13T08:22:22.190Z"
   },
   {
    "duration": 20,
    "start_time": "2022-06-13T08:22:22.204Z"
   },
   {
    "duration": 36,
    "start_time": "2022-06-13T08:22:22.227Z"
   },
   {
    "duration": 1846,
    "start_time": "2022-06-13T08:22:22.269Z"
   },
   {
    "duration": 0,
    "start_time": "2022-06-13T08:22:24.117Z"
   },
   {
    "duration": 0,
    "start_time": "2022-06-13T08:22:24.118Z"
   },
   {
    "duration": 0,
    "start_time": "2022-06-13T08:22:24.123Z"
   },
   {
    "duration": 0,
    "start_time": "2022-06-13T08:22:24.124Z"
   },
   {
    "duration": 0,
    "start_time": "2022-06-13T08:22:24.125Z"
   },
   {
    "duration": 0,
    "start_time": "2022-06-13T08:22:24.126Z"
   },
   {
    "duration": 0,
    "start_time": "2022-06-13T08:22:24.128Z"
   },
   {
    "duration": 0,
    "start_time": "2022-06-13T08:22:24.129Z"
   },
   {
    "duration": 0,
    "start_time": "2022-06-13T08:22:24.131Z"
   },
   {
    "duration": 0,
    "start_time": "2022-06-13T08:22:24.132Z"
   },
   {
    "duration": 0,
    "start_time": "2022-06-13T08:22:24.134Z"
   },
   {
    "duration": 0,
    "start_time": "2022-06-13T08:22:24.135Z"
   },
   {
    "duration": 0,
    "start_time": "2022-06-13T08:22:24.137Z"
   },
   {
    "duration": 1,
    "start_time": "2022-06-13T08:22:24.138Z"
   },
   {
    "duration": 0,
    "start_time": "2022-06-13T08:22:24.140Z"
   },
   {
    "duration": 0,
    "start_time": "2022-06-13T08:22:24.141Z"
   },
   {
    "duration": 0,
    "start_time": "2022-06-13T08:22:24.142Z"
   },
   {
    "duration": 0,
    "start_time": "2022-06-13T08:22:24.143Z"
   },
   {
    "duration": 1502,
    "start_time": "2022-06-13T08:23:33.439Z"
   },
   {
    "duration": 1570,
    "start_time": "2022-06-13T08:24:18.232Z"
   },
   {
    "duration": 1486,
    "start_time": "2022-06-13T08:24:30.818Z"
   },
   {
    "duration": 1653,
    "start_time": "2022-06-13T08:25:18.031Z"
   },
   {
    "duration": 1466,
    "start_time": "2022-06-13T08:26:35.092Z"
   },
   {
    "duration": 1560,
    "start_time": "2022-06-13T08:26:48.375Z"
   },
   {
    "duration": 1621,
    "start_time": "2022-06-13T08:28:25.763Z"
   },
   {
    "duration": 1677,
    "start_time": "2022-06-13T08:29:08.018Z"
   },
   {
    "duration": 1375,
    "start_time": "2022-06-13T08:29:17.296Z"
   },
   {
    "duration": 1640,
    "start_time": "2022-06-13T08:29:25.296Z"
   },
   {
    "duration": 1684,
    "start_time": "2022-06-13T08:29:46.096Z"
   },
   {
    "duration": 205,
    "start_time": "2022-06-13T08:30:47.792Z"
   },
   {
    "duration": 1130,
    "start_time": "2022-06-13T08:34:08.133Z"
   },
   {
    "duration": 1820,
    "start_time": "2022-06-13T08:34:55.537Z"
   },
   {
    "duration": 1592,
    "start_time": "2022-06-13T08:35:54.225Z"
   },
   {
    "duration": 1750,
    "start_time": "2022-06-13T08:36:09.656Z"
   },
   {
    "duration": 1837,
    "start_time": "2022-06-13T08:36:19.784Z"
   },
   {
    "duration": 6,
    "start_time": "2022-06-13T08:37:50.641Z"
   },
   {
    "duration": 2001,
    "start_time": "2022-06-13T08:37:53.292Z"
   },
   {
    "duration": 2379,
    "start_time": "2022-06-13T08:40:55.996Z"
   },
   {
    "duration": 2460,
    "start_time": "2022-06-13T08:41:02.641Z"
   },
   {
    "duration": 2551,
    "start_time": "2022-06-13T08:41:10.041Z"
   },
   {
    "duration": 2336,
    "start_time": "2022-06-13T08:41:18.437Z"
   },
   {
    "duration": 2195,
    "start_time": "2022-06-13T08:43:01.180Z"
   },
   {
    "duration": 2552,
    "start_time": "2022-06-13T08:43:30.844Z"
   },
   {
    "duration": 2240,
    "start_time": "2022-06-13T08:43:43.437Z"
   },
   {
    "duration": 2400,
    "start_time": "2022-06-13T08:44:08.664Z"
   },
   {
    "duration": 2355,
    "start_time": "2022-06-13T08:46:49.053Z"
   },
   {
    "duration": 2389,
    "start_time": "2022-06-13T08:46:55.571Z"
   },
   {
    "duration": 2132,
    "start_time": "2022-06-13T08:47:06.323Z"
   },
   {
    "duration": 2393,
    "start_time": "2022-06-13T08:47:14.672Z"
   },
   {
    "duration": 202,
    "start_time": "2022-06-13T08:48:17.076Z"
   },
   {
    "duration": 393,
    "start_time": "2022-06-13T08:48:28.520Z"
   },
   {
    "duration": 344,
    "start_time": "2022-06-13T08:48:57.690Z"
   },
   {
    "duration": 533,
    "start_time": "2022-06-13T08:49:26.448Z"
   },
   {
    "duration": 332,
    "start_time": "2022-06-13T08:49:45.912Z"
   },
   {
    "duration": 211,
    "start_time": "2022-06-13T08:49:50.884Z"
   },
   {
    "duration": 338,
    "start_time": "2022-06-13T08:50:01.721Z"
   },
   {
    "duration": 202,
    "start_time": "2022-06-13T08:50:08.009Z"
   },
   {
    "duration": 188,
    "start_time": "2022-06-13T08:50:40.945Z"
   },
   {
    "duration": 26,
    "start_time": "2022-06-13T08:50:56.614Z"
   },
   {
    "duration": 36,
    "start_time": "2022-06-13T08:51:08.129Z"
   },
   {
    "duration": 224,
    "start_time": "2022-06-13T08:51:14.084Z"
   },
   {
    "duration": 2348,
    "start_time": "2022-06-13T08:51:20.056Z"
   },
   {
    "duration": 2284,
    "start_time": "2022-06-13T08:51:35.488Z"
   },
   {
    "duration": 2323,
    "start_time": "2022-06-13T08:51:42.325Z"
   },
   {
    "duration": 2151,
    "start_time": "2022-06-13T08:51:58.510Z"
   },
   {
    "duration": 2545,
    "start_time": "2022-06-13T08:52:17.272Z"
   },
   {
    "duration": 26,
    "start_time": "2022-06-13T08:54:05.673Z"
   },
   {
    "duration": 1229,
    "start_time": "2022-06-13T08:57:15.270Z"
   },
   {
    "duration": 85,
    "start_time": "2022-06-13T08:57:16.501Z"
   },
   {
    "duration": 6,
    "start_time": "2022-06-13T08:57:16.588Z"
   },
   {
    "duration": 65,
    "start_time": "2022-06-13T08:57:16.595Z"
   },
   {
    "duration": 13,
    "start_time": "2022-06-13T08:57:16.662Z"
   },
   {
    "duration": 7,
    "start_time": "2022-06-13T08:57:16.677Z"
   },
   {
    "duration": 13,
    "start_time": "2022-06-13T08:57:16.686Z"
   },
   {
    "duration": 7,
    "start_time": "2022-06-13T08:57:16.723Z"
   },
   {
    "duration": 21,
    "start_time": "2022-06-13T08:57:16.731Z"
   },
   {
    "duration": 17,
    "start_time": "2022-06-13T08:57:16.755Z"
   },
   {
    "duration": 17,
    "start_time": "2022-06-13T08:57:16.773Z"
   },
   {
    "duration": 53,
    "start_time": "2022-06-13T08:57:16.791Z"
   },
   {
    "duration": 24,
    "start_time": "2022-06-13T08:57:16.845Z"
   },
   {
    "duration": 15,
    "start_time": "2022-06-13T08:57:16.872Z"
   },
   {
    "duration": 46,
    "start_time": "2022-06-13T08:57:16.888Z"
   },
   {
    "duration": 38,
    "start_time": "2022-06-13T08:57:16.935Z"
   },
   {
    "duration": 2,
    "start_time": "2022-06-13T08:57:16.975Z"
   },
   {
    "duration": 29,
    "start_time": "2022-06-13T08:57:16.978Z"
   },
   {
    "duration": 271,
    "start_time": "2022-06-13T08:57:17.009Z"
   },
   {
    "duration": 16,
    "start_time": "2022-06-13T08:57:17.281Z"
   },
   {
    "duration": 167,
    "start_time": "2022-06-13T08:57:17.298Z"
   },
   {
    "duration": 25,
    "start_time": "2022-06-13T08:57:17.467Z"
   },
   {
    "duration": 354,
    "start_time": "2022-06-13T08:57:17.494Z"
   },
   {
    "duration": 305,
    "start_time": "2022-06-13T08:57:17.851Z"
   },
   {
    "duration": 14,
    "start_time": "2022-06-13T08:57:18.158Z"
   },
   {
    "duration": 15,
    "start_time": "2022-06-13T08:57:18.174Z"
   },
   {
    "duration": 47,
    "start_time": "2022-06-13T08:57:18.190Z"
   },
   {
    "duration": 2179,
    "start_time": "2022-06-13T08:57:18.239Z"
   },
   {
    "duration": 217,
    "start_time": "2022-06-13T08:57:20.420Z"
   },
   {
    "duration": 21,
    "start_time": "2022-06-13T08:57:20.639Z"
   },
   {
    "duration": 264,
    "start_time": "2022-06-13T08:57:20.662Z"
   },
   {
    "duration": 62,
    "start_time": "2022-06-13T08:57:20.927Z"
   },
   {
    "duration": 75,
    "start_time": "2022-06-13T08:57:20.991Z"
   },
   {
    "duration": 22,
    "start_time": "2022-06-13T08:57:21.068Z"
   },
   {
    "duration": 268,
    "start_time": "2022-06-13T08:57:21.093Z"
   },
   {
    "duration": 1681,
    "start_time": "2022-06-13T08:57:21.363Z"
   },
   {
    "duration": 65,
    "start_time": "2022-06-13T08:57:23.046Z"
   },
   {
    "duration": 57,
    "start_time": "2022-06-13T08:57:23.123Z"
   },
   {
    "duration": 142,
    "start_time": "2022-06-13T08:57:23.181Z"
   },
   {
    "duration": 28,
    "start_time": "2022-06-13T08:57:23.325Z"
   },
   {
    "duration": 3,
    "start_time": "2022-06-13T08:57:23.358Z"
   },
   {
    "duration": 28,
    "start_time": "2022-06-13T08:57:23.363Z"
   },
   {
    "duration": 11,
    "start_time": "2022-06-13T08:57:23.392Z"
   },
   {
    "duration": 28,
    "start_time": "2022-06-13T08:57:23.433Z"
   },
   {
    "duration": 25,
    "start_time": "2022-06-13T08:57:23.462Z"
   },
   {
    "duration": 5,
    "start_time": "2022-06-13T08:57:23.489Z"
   },
   {
    "duration": 23,
    "start_time": "2022-06-13T08:58:28.456Z"
   },
   {
    "duration": 1326,
    "start_time": "2022-06-13T08:59:05.479Z"
   },
   {
    "duration": 75,
    "start_time": "2022-06-13T08:59:06.807Z"
   },
   {
    "duration": 4,
    "start_time": "2022-06-13T08:59:06.883Z"
   },
   {
    "duration": 68,
    "start_time": "2022-06-13T08:59:06.890Z"
   },
   {
    "duration": 12,
    "start_time": "2022-06-13T08:59:06.959Z"
   },
   {
    "duration": 11,
    "start_time": "2022-06-13T08:59:06.972Z"
   },
   {
    "duration": 9,
    "start_time": "2022-06-13T08:59:06.984Z"
   },
   {
    "duration": 30,
    "start_time": "2022-06-13T08:59:06.995Z"
   },
   {
    "duration": 7,
    "start_time": "2022-06-13T08:59:07.028Z"
   },
   {
    "duration": 24,
    "start_time": "2022-06-13T08:59:07.040Z"
   },
   {
    "duration": 18,
    "start_time": "2022-06-13T08:59:07.066Z"
   },
   {
    "duration": 62,
    "start_time": "2022-06-13T08:59:07.085Z"
   },
   {
    "duration": 25,
    "start_time": "2022-06-13T08:59:07.149Z"
   },
   {
    "duration": 17,
    "start_time": "2022-06-13T08:59:07.176Z"
   },
   {
    "duration": 38,
    "start_time": "2022-06-13T08:59:07.195Z"
   },
   {
    "duration": 27,
    "start_time": "2022-06-13T08:59:07.236Z"
   },
   {
    "duration": 3,
    "start_time": "2022-06-13T08:59:07.265Z"
   },
   {
    "duration": 24,
    "start_time": "2022-06-13T08:59:07.269Z"
   },
   {
    "duration": 287,
    "start_time": "2022-06-13T08:59:07.294Z"
   },
   {
    "duration": 16,
    "start_time": "2022-06-13T08:59:07.583Z"
   },
   {
    "duration": 169,
    "start_time": "2022-06-13T08:59:07.601Z"
   },
   {
    "duration": 24,
    "start_time": "2022-06-13T08:59:07.772Z"
   },
   {
    "duration": 360,
    "start_time": "2022-06-13T08:59:07.798Z"
   },
   {
    "duration": 277,
    "start_time": "2022-06-13T08:59:08.159Z"
   },
   {
    "duration": 17,
    "start_time": "2022-06-13T08:59:08.438Z"
   },
   {
    "duration": 8,
    "start_time": "2022-06-13T08:59:08.457Z"
   },
   {
    "duration": 24,
    "start_time": "2022-06-13T08:59:08.466Z"
   },
   {
    "duration": 2259,
    "start_time": "2022-06-13T08:59:08.493Z"
   },
   {
    "duration": 222,
    "start_time": "2022-06-13T08:59:10.755Z"
   },
   {
    "duration": 19,
    "start_time": "2022-06-13T08:59:10.979Z"
   },
   {
    "duration": 272,
    "start_time": "2022-06-13T08:59:11.000Z"
   },
   {
    "duration": 63,
    "start_time": "2022-06-13T08:59:11.274Z"
   },
   {
    "duration": 49,
    "start_time": "2022-06-13T08:59:11.339Z"
   },
   {
    "duration": 40,
    "start_time": "2022-06-13T08:59:11.389Z"
   },
   {
    "duration": 273,
    "start_time": "2022-06-13T08:59:11.431Z"
   },
   {
    "duration": 2014,
    "start_time": "2022-06-13T08:59:11.706Z"
   },
   {
    "duration": 46,
    "start_time": "2022-06-13T08:59:13.723Z"
   },
   {
    "duration": 69,
    "start_time": "2022-06-13T08:59:13.771Z"
   },
   {
    "duration": 111,
    "start_time": "2022-06-13T08:59:13.842Z"
   },
   {
    "duration": 21,
    "start_time": "2022-06-13T08:59:13.955Z"
   },
   {
    "duration": 13,
    "start_time": "2022-06-13T08:59:13.978Z"
   },
   {
    "duration": 34,
    "start_time": "2022-06-13T08:59:13.993Z"
   },
   {
    "duration": 11,
    "start_time": "2022-06-13T08:59:14.028Z"
   },
   {
    "duration": 31,
    "start_time": "2022-06-13T08:59:14.041Z"
   },
   {
    "duration": 22,
    "start_time": "2022-06-13T08:59:14.074Z"
   },
   {
    "duration": 6,
    "start_time": "2022-06-13T08:59:14.122Z"
   },
   {
    "duration": 20,
    "start_time": "2022-06-13T08:59:58.179Z"
   },
   {
    "duration": 24,
    "start_time": "2022-06-13T09:00:04.223Z"
   },
   {
    "duration": 288,
    "start_time": "2022-06-13T09:32:27.502Z"
   },
   {
    "duration": 135,
    "start_time": "2022-06-13T09:32:36.250Z"
   },
   {
    "duration": 127,
    "start_time": "2022-06-13T09:36:32.828Z"
   },
   {
    "duration": 1304,
    "start_time": "2022-06-13T09:36:39.944Z"
   },
   {
    "duration": 83,
    "start_time": "2022-06-13T09:36:41.259Z"
   },
   {
    "duration": 4,
    "start_time": "2022-06-13T09:36:41.351Z"
   },
   {
    "duration": 57,
    "start_time": "2022-06-13T09:36:41.357Z"
   },
   {
    "duration": 21,
    "start_time": "2022-06-13T09:36:41.415Z"
   },
   {
    "duration": 27,
    "start_time": "2022-06-13T09:36:41.442Z"
   },
   {
    "duration": 16,
    "start_time": "2022-06-13T09:36:41.471Z"
   },
   {
    "duration": 18,
    "start_time": "2022-06-13T09:36:41.488Z"
   },
   {
    "duration": 9,
    "start_time": "2022-06-13T09:36:41.508Z"
   },
   {
    "duration": 33,
    "start_time": "2022-06-13T09:36:41.521Z"
   },
   {
    "duration": 20,
    "start_time": "2022-06-13T09:36:41.556Z"
   },
   {
    "duration": 25,
    "start_time": "2022-06-13T09:36:41.578Z"
   },
   {
    "duration": 42,
    "start_time": "2022-06-13T09:36:41.605Z"
   },
   {
    "duration": 17,
    "start_time": "2022-06-13T09:36:41.651Z"
   },
   {
    "duration": 15,
    "start_time": "2022-06-13T09:36:41.670Z"
   },
   {
    "duration": 43,
    "start_time": "2022-06-13T09:36:41.687Z"
   },
   {
    "duration": 4,
    "start_time": "2022-06-13T09:36:41.731Z"
   },
   {
    "duration": 31,
    "start_time": "2022-06-13T09:36:41.746Z"
   },
   {
    "duration": 266,
    "start_time": "2022-06-13T09:36:41.779Z"
   },
   {
    "duration": 17,
    "start_time": "2022-06-13T09:36:42.050Z"
   },
   {
    "duration": 142,
    "start_time": "2022-06-13T09:36:42.069Z"
   },
   {
    "duration": 31,
    "start_time": "2022-06-13T09:36:42.213Z"
   },
   {
    "duration": 358,
    "start_time": "2022-06-13T09:36:42.252Z"
   },
   {
    "duration": 339,
    "start_time": "2022-06-13T09:36:42.613Z"
   },
   {
    "duration": 20,
    "start_time": "2022-06-13T09:36:42.954Z"
   },
   {
    "duration": 16,
    "start_time": "2022-06-13T09:36:42.976Z"
   },
   {
    "duration": 48,
    "start_time": "2022-06-13T09:36:42.994Z"
   },
   {
    "duration": 2417,
    "start_time": "2022-06-13T09:36:43.062Z"
   },
   {
    "duration": 210,
    "start_time": "2022-06-13T09:36:45.481Z"
   },
   {
    "duration": 39,
    "start_time": "2022-06-13T09:36:45.693Z"
   },
   {
    "duration": 273,
    "start_time": "2022-06-13T09:36:45.737Z"
   },
   {
    "duration": 120,
    "start_time": "2022-06-13T09:36:46.011Z"
   },
   {
    "duration": 57,
    "start_time": "2022-06-13T09:36:46.137Z"
   },
   {
    "duration": 32,
    "start_time": "2022-06-13T09:36:46.196Z"
   },
   {
    "duration": 284,
    "start_time": "2022-06-13T09:36:46.229Z"
   },
   {
    "duration": 1673,
    "start_time": "2022-06-13T09:36:46.526Z"
   },
   {
    "duration": 48,
    "start_time": "2022-06-13T09:36:48.201Z"
   },
   {
    "duration": 60,
    "start_time": "2022-06-13T09:36:48.251Z"
   },
   {
    "duration": 149,
    "start_time": "2022-06-13T09:36:48.313Z"
   },
   {
    "duration": 18,
    "start_time": "2022-06-13T09:36:48.467Z"
   },
   {
    "duration": 3,
    "start_time": "2022-06-13T09:36:48.486Z"
   },
   {
    "duration": 25,
    "start_time": "2022-06-13T09:36:48.490Z"
   },
   {
    "duration": 18,
    "start_time": "2022-06-13T09:36:48.517Z"
   },
   {
    "duration": 52,
    "start_time": "2022-06-13T09:36:48.537Z"
   },
   {
    "duration": 25,
    "start_time": "2022-06-13T09:36:48.591Z"
   },
   {
    "duration": 18,
    "start_time": "2022-06-13T09:36:48.618Z"
   },
   {
    "duration": 33,
    "start_time": "2022-06-13T09:48:33.860Z"
   },
   {
    "duration": 30,
    "start_time": "2022-06-13T09:48:55.768Z"
   },
   {
    "duration": 56,
    "start_time": "2022-06-13T09:49:00.065Z"
   },
   {
    "duration": 35,
    "start_time": "2022-06-13T09:49:26.154Z"
   },
   {
    "duration": 122,
    "start_time": "2022-06-13T09:49:28.766Z"
   },
   {
    "duration": 13,
    "start_time": "2022-06-13T09:49:33.667Z"
   },
   {
    "duration": 15,
    "start_time": "2022-06-13T09:49:36.860Z"
   },
   {
    "duration": 17,
    "start_time": "2022-06-13T09:49:44.316Z"
   },
   {
    "duration": 12,
    "start_time": "2022-06-13T09:49:46.765Z"
   },
   {
    "duration": 14,
    "start_time": "2022-06-13T09:49:54.857Z"
   },
   {
    "duration": 22,
    "start_time": "2022-06-13T09:50:13.021Z"
   },
   {
    "duration": 1342,
    "start_time": "2022-06-13T09:50:20.000Z"
   },
   {
    "duration": 77,
    "start_time": "2022-06-13T09:50:21.344Z"
   },
   {
    "duration": 12,
    "start_time": "2022-06-13T09:50:21.423Z"
   },
   {
    "duration": 90,
    "start_time": "2022-06-13T09:50:21.446Z"
   },
   {
    "duration": 17,
    "start_time": "2022-06-13T09:50:21.538Z"
   },
   {
    "duration": 22,
    "start_time": "2022-06-13T09:50:21.558Z"
   },
   {
    "duration": 11,
    "start_time": "2022-06-13T09:50:21.581Z"
   },
   {
    "duration": 8,
    "start_time": "2022-06-13T09:50:21.594Z"
   },
   {
    "duration": 7,
    "start_time": "2022-06-13T09:50:21.604Z"
   },
   {
    "duration": 54,
    "start_time": "2022-06-13T09:50:21.613Z"
   },
   {
    "duration": 21,
    "start_time": "2022-06-13T09:50:21.668Z"
   },
   {
    "duration": 26,
    "start_time": "2022-06-13T09:50:21.691Z"
   },
   {
    "duration": 38,
    "start_time": "2022-06-13T09:50:21.719Z"
   },
   {
    "duration": 29,
    "start_time": "2022-06-13T09:50:21.759Z"
   },
   {
    "duration": 22,
    "start_time": "2022-06-13T09:50:21.790Z"
   },
   {
    "duration": 41,
    "start_time": "2022-06-13T09:50:21.823Z"
   },
   {
    "duration": 4,
    "start_time": "2022-06-13T09:50:21.866Z"
   },
   {
    "duration": 30,
    "start_time": "2022-06-13T09:50:21.872Z"
   },
   {
    "duration": 369,
    "start_time": "2022-06-13T09:50:21.904Z"
   },
   {
    "duration": 15,
    "start_time": "2022-06-13T09:50:22.275Z"
   },
   {
    "duration": 183,
    "start_time": "2022-06-13T09:50:22.292Z"
   },
   {
    "duration": 36,
    "start_time": "2022-06-13T09:50:22.479Z"
   },
   {
    "duration": 524,
    "start_time": "2022-06-13T09:50:22.516Z"
   },
   {
    "duration": 348,
    "start_time": "2022-06-13T09:50:23.044Z"
   },
   {
    "duration": 22,
    "start_time": "2022-06-13T09:50:23.395Z"
   },
   {
    "duration": 58,
    "start_time": "2022-06-13T09:50:23.424Z"
   },
   {
    "duration": 26,
    "start_time": "2022-06-13T09:50:23.484Z"
   },
   {
    "duration": 2396,
    "start_time": "2022-06-13T09:50:23.514Z"
   },
   {
    "duration": 224,
    "start_time": "2022-06-13T09:50:25.912Z"
   },
   {
    "duration": 30,
    "start_time": "2022-06-13T09:50:26.138Z"
   },
   {
    "duration": 245,
    "start_time": "2022-06-13T09:50:26.170Z"
   },
   {
    "duration": 153,
    "start_time": "2022-06-13T09:50:26.417Z"
   },
   {
    "duration": 67,
    "start_time": "2022-06-13T09:50:26.572Z"
   },
   {
    "duration": 29,
    "start_time": "2022-06-13T09:50:26.642Z"
   },
   {
    "duration": 296,
    "start_time": "2022-06-13T09:50:26.673Z"
   },
   {
    "duration": 1519,
    "start_time": "2022-06-13T09:50:26.971Z"
   },
   {
    "duration": 64,
    "start_time": "2022-06-13T09:50:28.492Z"
   },
   {
    "duration": 63,
    "start_time": "2022-06-13T09:50:28.562Z"
   },
   {
    "duration": 138,
    "start_time": "2022-06-13T09:50:28.626Z"
   },
   {
    "duration": 18,
    "start_time": "2022-06-13T09:50:28.768Z"
   },
   {
    "duration": 17,
    "start_time": "2022-06-13T09:50:28.788Z"
   },
   {
    "duration": 89,
    "start_time": "2022-06-13T09:50:28.808Z"
   },
   {
    "duration": 12,
    "start_time": "2022-06-13T09:50:28.900Z"
   },
   {
    "duration": 84,
    "start_time": "2022-06-13T09:50:28.914Z"
   },
   {
    "duration": 41,
    "start_time": "2022-06-13T09:50:29.001Z"
   },
   {
    "duration": 30,
    "start_time": "2022-06-13T09:50:29.050Z"
   },
   {
    "duration": 259,
    "start_time": "2022-06-13T09:51:28.977Z"
   },
   {
    "duration": 1350,
    "start_time": "2022-06-13T09:51:34.388Z"
   },
   {
    "duration": 89,
    "start_time": "2022-06-13T09:51:35.749Z"
   },
   {
    "duration": 7,
    "start_time": "2022-06-13T09:51:35.844Z"
   },
   {
    "duration": 72,
    "start_time": "2022-06-13T09:51:35.855Z"
   },
   {
    "duration": 17,
    "start_time": "2022-06-13T09:51:35.939Z"
   },
   {
    "duration": 23,
    "start_time": "2022-06-13T09:51:35.959Z"
   },
   {
    "duration": 18,
    "start_time": "2022-06-13T09:51:35.984Z"
   },
   {
    "duration": 31,
    "start_time": "2022-06-13T09:51:36.004Z"
   },
   {
    "duration": 44,
    "start_time": "2022-06-13T09:51:36.037Z"
   },
   {
    "duration": 33,
    "start_time": "2022-06-13T09:51:36.085Z"
   },
   {
    "duration": 49,
    "start_time": "2022-06-13T09:51:36.120Z"
   },
   {
    "duration": 30,
    "start_time": "2022-06-13T09:51:36.171Z"
   },
   {
    "duration": 55,
    "start_time": "2022-06-13T09:51:36.203Z"
   },
   {
    "duration": 18,
    "start_time": "2022-06-13T09:51:36.259Z"
   },
   {
    "duration": 19,
    "start_time": "2022-06-13T09:51:36.279Z"
   },
   {
    "duration": 45,
    "start_time": "2022-06-13T09:51:36.300Z"
   },
   {
    "duration": 27,
    "start_time": "2022-06-13T09:51:36.347Z"
   },
   {
    "duration": 43,
    "start_time": "2022-06-13T09:51:36.377Z"
   },
   {
    "duration": 286,
    "start_time": "2022-06-13T09:51:36.422Z"
   },
   {
    "duration": 25,
    "start_time": "2022-06-13T09:51:36.711Z"
   },
   {
    "duration": 172,
    "start_time": "2022-06-13T09:51:36.737Z"
   },
   {
    "duration": 38,
    "start_time": "2022-06-13T09:51:36.910Z"
   },
   {
    "duration": 341,
    "start_time": "2022-06-13T09:51:36.950Z"
   },
   {
    "duration": 289,
    "start_time": "2022-06-13T09:51:37.293Z"
   },
   {
    "duration": 13,
    "start_time": "2022-06-13T09:51:37.583Z"
   },
   {
    "duration": 14,
    "start_time": "2022-06-13T09:51:37.598Z"
   },
   {
    "duration": 58,
    "start_time": "2022-06-13T09:51:37.623Z"
   },
   {
    "duration": 2381,
    "start_time": "2022-06-13T09:51:37.685Z"
   },
   {
    "duration": 213,
    "start_time": "2022-06-13T09:51:40.068Z"
   },
   {
    "duration": 19,
    "start_time": "2022-06-13T09:51:40.283Z"
   },
   {
    "duration": 277,
    "start_time": "2022-06-13T09:51:40.304Z"
   },
   {
    "duration": 220,
    "start_time": "2022-06-13T09:51:40.583Z"
   },
   {
    "duration": 20,
    "start_time": "2022-06-13T09:51:40.805Z"
   },
   {
    "duration": 175,
    "start_time": "2022-06-13T09:51:40.826Z"
   },
   {
    "duration": 0,
    "start_time": "2022-06-13T09:51:41.003Z"
   },
   {
    "duration": 0,
    "start_time": "2022-06-13T09:51:41.005Z"
   },
   {
    "duration": 0,
    "start_time": "2022-06-13T09:51:41.007Z"
   },
   {
    "duration": 0,
    "start_time": "2022-06-13T09:51:41.008Z"
   },
   {
    "duration": 0,
    "start_time": "2022-06-13T09:51:41.009Z"
   },
   {
    "duration": 0,
    "start_time": "2022-06-13T09:51:41.010Z"
   },
   {
    "duration": 0,
    "start_time": "2022-06-13T09:51:41.012Z"
   },
   {
    "duration": 0,
    "start_time": "2022-06-13T09:51:41.013Z"
   },
   {
    "duration": 0,
    "start_time": "2022-06-13T09:51:41.024Z"
   },
   {
    "duration": 0,
    "start_time": "2022-06-13T09:51:41.025Z"
   },
   {
    "duration": 0,
    "start_time": "2022-06-13T09:51:41.026Z"
   },
   {
    "duration": 0,
    "start_time": "2022-06-13T09:51:41.027Z"
   },
   {
    "duration": 49,
    "start_time": "2022-06-13T09:57:23.451Z"
   },
   {
    "duration": 59,
    "start_time": "2022-06-13T09:57:39.114Z"
   },
   {
    "duration": 11,
    "start_time": "2022-06-13T09:57:51.510Z"
   },
   {
    "duration": 1560,
    "start_time": "2022-06-13T09:57:57.797Z"
   },
   {
    "duration": 100,
    "start_time": "2022-06-13T09:57:59.359Z"
   },
   {
    "duration": 6,
    "start_time": "2022-06-13T09:57:59.465Z"
   },
   {
    "duration": 87,
    "start_time": "2022-06-13T09:57:59.478Z"
   },
   {
    "duration": 20,
    "start_time": "2022-06-13T09:57:59.568Z"
   },
   {
    "duration": 30,
    "start_time": "2022-06-13T09:57:59.592Z"
   },
   {
    "duration": 68,
    "start_time": "2022-06-13T09:57:59.628Z"
   },
   {
    "duration": 22,
    "start_time": "2022-06-13T09:57:59.698Z"
   },
   {
    "duration": 51,
    "start_time": "2022-06-13T09:57:59.728Z"
   },
   {
    "duration": 47,
    "start_time": "2022-06-13T09:57:59.781Z"
   },
   {
    "duration": 19,
    "start_time": "2022-06-13T09:57:59.830Z"
   },
   {
    "duration": 65,
    "start_time": "2022-06-13T09:57:59.851Z"
   },
   {
    "duration": 36,
    "start_time": "2022-06-13T09:57:59.918Z"
   },
   {
    "duration": 55,
    "start_time": "2022-06-13T09:57:59.967Z"
   },
   {
    "duration": 92,
    "start_time": "2022-06-13T09:58:00.027Z"
   },
   {
    "duration": 93,
    "start_time": "2022-06-13T09:58:00.122Z"
   },
   {
    "duration": 8,
    "start_time": "2022-06-13T09:58:00.222Z"
   },
   {
    "duration": 66,
    "start_time": "2022-06-13T09:58:00.234Z"
   },
   {
    "duration": 344,
    "start_time": "2022-06-13T09:58:00.303Z"
   },
   {
    "duration": 18,
    "start_time": "2022-06-13T09:58:00.655Z"
   },
   {
    "duration": 192,
    "start_time": "2022-06-13T09:58:00.676Z"
   },
   {
    "duration": 34,
    "start_time": "2022-06-13T09:58:00.870Z"
   },
   {
    "duration": 483,
    "start_time": "2022-06-13T09:58:00.907Z"
   },
   {
    "duration": 327,
    "start_time": "2022-06-13T09:58:01.392Z"
   },
   {
    "duration": 34,
    "start_time": "2022-06-13T09:58:01.721Z"
   },
   {
    "duration": 48,
    "start_time": "2022-06-13T09:58:01.756Z"
   },
   {
    "duration": 92,
    "start_time": "2022-06-13T09:58:01.806Z"
   },
   {
    "duration": 2863,
    "start_time": "2022-06-13T09:58:01.900Z"
   },
   {
    "duration": 210,
    "start_time": "2022-06-13T09:58:04.770Z"
   },
   {
    "duration": 20,
    "start_time": "2022-06-13T09:58:04.983Z"
   },
   {
    "duration": 294,
    "start_time": "2022-06-13T09:58:05.005Z"
   },
   {
    "duration": 52,
    "start_time": "2022-06-13T09:58:05.301Z"
   },
   {
    "duration": 68,
    "start_time": "2022-06-13T09:58:05.358Z"
   },
   {
    "duration": 28,
    "start_time": "2022-06-13T09:58:05.432Z"
   },
   {
    "duration": 330,
    "start_time": "2022-06-13T09:58:05.463Z"
   },
   {
    "duration": 2026,
    "start_time": "2022-06-13T09:58:05.795Z"
   },
   {
    "duration": 36,
    "start_time": "2022-06-13T09:58:07.828Z"
   },
   {
    "duration": 10,
    "start_time": "2022-06-13T09:58:07.871Z"
   },
   {
    "duration": 13,
    "start_time": "2022-06-13T09:58:07.883Z"
   },
   {
    "duration": 19,
    "start_time": "2022-06-13T09:58:07.898Z"
   },
   {
    "duration": 41,
    "start_time": "2022-06-13T09:58:07.921Z"
   },
   {
    "duration": 49,
    "start_time": "2022-06-13T09:58:07.964Z"
   },
   {
    "duration": 54,
    "start_time": "2022-06-13T09:58:08.015Z"
   },
   {
    "duration": 26,
    "start_time": "2022-06-13T09:58:08.074Z"
   },
   {
    "duration": 41,
    "start_time": "2022-06-13T09:58:08.103Z"
   },
   {
    "duration": 28,
    "start_time": "2022-06-13T09:58:08.147Z"
   },
   {
    "duration": 87,
    "start_time": "2022-06-13T10:18:52.813Z"
   },
   {
    "duration": 48,
    "start_time": "2022-06-13T11:45:00.975Z"
   },
   {
    "duration": 1315,
    "start_time": "2022-06-13T11:45:07.834Z"
   },
   {
    "duration": 116,
    "start_time": "2022-06-13T11:45:09.151Z"
   },
   {
    "duration": 3,
    "start_time": "2022-06-13T11:45:09.268Z"
   },
   {
    "duration": 48,
    "start_time": "2022-06-13T11:45:09.274Z"
   },
   {
    "duration": 9,
    "start_time": "2022-06-13T11:45:09.324Z"
   },
   {
    "duration": 7,
    "start_time": "2022-06-13T11:45:09.334Z"
   },
   {
    "duration": 7,
    "start_time": "2022-06-13T11:45:09.342Z"
   },
   {
    "duration": 7,
    "start_time": "2022-06-13T11:45:09.350Z"
   },
   {
    "duration": 5,
    "start_time": "2022-06-13T11:45:09.358Z"
   },
   {
    "duration": 36,
    "start_time": "2022-06-13T11:45:09.365Z"
   },
   {
    "duration": 15,
    "start_time": "2022-06-13T11:45:09.402Z"
   },
   {
    "duration": 20,
    "start_time": "2022-06-13T11:45:09.418Z"
   },
   {
    "duration": 20,
    "start_time": "2022-06-13T11:45:09.439Z"
   },
   {
    "duration": 41,
    "start_time": "2022-06-13T11:45:09.461Z"
   },
   {
    "duration": 14,
    "start_time": "2022-06-13T11:45:09.504Z"
   },
   {
    "duration": 22,
    "start_time": "2022-06-13T11:45:09.520Z"
   },
   {
    "duration": 2,
    "start_time": "2022-06-13T11:45:09.543Z"
   },
   {
    "duration": 15,
    "start_time": "2022-06-13T11:45:09.546Z"
   },
   {
    "duration": 235,
    "start_time": "2022-06-13T11:45:09.562Z"
   },
   {
    "duration": 14,
    "start_time": "2022-06-13T11:45:09.799Z"
   },
   {
    "duration": 124,
    "start_time": "2022-06-13T11:45:09.814Z"
   },
   {
    "duration": 21,
    "start_time": "2022-06-13T11:45:09.939Z"
   },
   {
    "duration": 288,
    "start_time": "2022-06-13T11:45:09.961Z"
   },
   {
    "duration": 217,
    "start_time": "2022-06-13T11:45:10.251Z"
   },
   {
    "duration": 11,
    "start_time": "2022-06-13T11:45:10.470Z"
   },
   {
    "duration": 19,
    "start_time": "2022-06-13T11:45:10.483Z"
   },
   {
    "duration": 24,
    "start_time": "2022-06-13T11:45:10.504Z"
   },
   {
    "duration": 1894,
    "start_time": "2022-06-13T11:45:10.530Z"
   },
   {
    "duration": 164,
    "start_time": "2022-06-13T11:45:12.425Z"
   },
   {
    "duration": 20,
    "start_time": "2022-06-13T11:45:12.593Z"
   },
   {
    "duration": 235,
    "start_time": "2022-06-13T11:45:12.614Z"
   },
   {
    "duration": 60,
    "start_time": "2022-06-13T11:45:12.851Z"
   },
   {
    "duration": 31,
    "start_time": "2022-06-13T11:45:12.912Z"
   },
   {
    "duration": 16,
    "start_time": "2022-06-13T11:45:12.944Z"
   },
   {
    "duration": 254,
    "start_time": "2022-06-13T11:45:12.961Z"
   },
   {
    "duration": 1584,
    "start_time": "2022-06-13T11:45:13.217Z"
   },
   {
    "duration": 40,
    "start_time": "2022-06-13T11:45:14.803Z"
   },
   {
    "duration": 57,
    "start_time": "2022-06-13T11:45:14.845Z"
   },
   {
    "duration": 72,
    "start_time": "2022-06-13T11:45:14.904Z"
   },
   {
    "duration": 26,
    "start_time": "2022-06-13T11:45:14.977Z"
   },
   {
    "duration": 18,
    "start_time": "2022-06-13T11:45:15.005Z"
   },
   {
    "duration": 25,
    "start_time": "2022-06-13T11:45:15.025Z"
   },
   {
    "duration": 8,
    "start_time": "2022-06-13T11:45:15.052Z"
   },
   {
    "duration": 21,
    "start_time": "2022-06-13T11:45:15.062Z"
   },
   {
    "duration": 20,
    "start_time": "2022-06-13T11:45:15.085Z"
   },
   {
    "duration": 6,
    "start_time": "2022-06-13T11:45:15.106Z"
   },
   {
    "duration": 10,
    "start_time": "2022-06-13T11:52:51.916Z"
   },
   {
    "duration": 11,
    "start_time": "2022-06-13T11:53:36.320Z"
   },
   {
    "duration": 16,
    "start_time": "2022-06-13T11:55:02.071Z"
   },
   {
    "duration": 12,
    "start_time": "2022-06-13T11:55:14.200Z"
   },
   {
    "duration": 11,
    "start_time": "2022-06-13T11:55:19.772Z"
   },
   {
    "duration": 14,
    "start_time": "2022-06-13T12:06:19.653Z"
   },
   {
    "duration": 12,
    "start_time": "2022-06-13T12:07:02.536Z"
   },
   {
    "duration": 14,
    "start_time": "2022-06-13T12:07:29.077Z"
   },
   {
    "duration": 13,
    "start_time": "2022-06-13T12:08:16.180Z"
   },
   {
    "duration": 14,
    "start_time": "2022-06-13T12:10:34.864Z"
   },
   {
    "duration": 15,
    "start_time": "2022-06-13T12:10:58.382Z"
   },
   {
    "duration": 107,
    "start_time": "2022-06-13T12:26:05.943Z"
   },
   {
    "duration": 13,
    "start_time": "2022-06-13T12:26:10.832Z"
   },
   {
    "duration": 13,
    "start_time": "2022-06-13T12:26:13.102Z"
   },
   {
    "duration": 3,
    "start_time": "2022-06-13T14:04:29.947Z"
   },
   {
    "duration": 7,
    "start_time": "2022-06-13T14:04:41.123Z"
   },
   {
    "duration": 4,
    "start_time": "2022-06-13T14:05:02.489Z"
   },
   {
    "duration": 19,
    "start_time": "2022-06-13T14:09:08.889Z"
   },
   {
    "duration": 14,
    "start_time": "2022-06-13T14:10:08.829Z"
   },
   {
    "duration": 5,
    "start_time": "2022-06-13T14:10:19.169Z"
   },
   {
    "duration": 6,
    "start_time": "2022-06-13T14:10:21.993Z"
   },
   {
    "duration": 4,
    "start_time": "2022-06-13T14:11:26.338Z"
   },
   {
    "duration": 13,
    "start_time": "2022-06-13T14:13:05.642Z"
   },
   {
    "duration": 17,
    "start_time": "2022-06-13T14:13:14.063Z"
   },
   {
    "duration": 18,
    "start_time": "2022-06-13T14:13:25.043Z"
   },
   {
    "duration": 1243,
    "start_time": "2022-06-13T14:13:31.653Z"
   },
   {
    "duration": 65,
    "start_time": "2022-06-13T14:13:32.899Z"
   },
   {
    "duration": 4,
    "start_time": "2022-06-13T14:13:32.965Z"
   },
   {
    "duration": 64,
    "start_time": "2022-06-13T14:13:32.971Z"
   },
   {
    "duration": 9,
    "start_time": "2022-06-13T14:13:33.038Z"
   },
   {
    "duration": 6,
    "start_time": "2022-06-13T14:13:33.048Z"
   },
   {
    "duration": 9,
    "start_time": "2022-06-13T14:13:33.056Z"
   },
   {
    "duration": 7,
    "start_time": "2022-06-13T14:13:33.066Z"
   },
   {
    "duration": 32,
    "start_time": "2022-06-13T14:13:33.074Z"
   },
   {
    "duration": 23,
    "start_time": "2022-06-13T14:13:33.108Z"
   },
   {
    "duration": 13,
    "start_time": "2022-06-13T14:13:33.132Z"
   },
   {
    "duration": 20,
    "start_time": "2022-06-13T14:13:33.147Z"
   },
   {
    "duration": 47,
    "start_time": "2022-06-13T14:13:33.168Z"
   },
   {
    "duration": 14,
    "start_time": "2022-06-13T14:13:33.218Z"
   },
   {
    "duration": 13,
    "start_time": "2022-06-13T14:13:33.233Z"
   },
   {
    "duration": 21,
    "start_time": "2022-06-13T14:13:33.247Z"
   },
   {
    "duration": 3,
    "start_time": "2022-06-13T14:13:33.297Z"
   },
   {
    "duration": 21,
    "start_time": "2022-06-13T14:13:33.302Z"
   },
   {
    "duration": 227,
    "start_time": "2022-06-13T14:13:33.324Z"
   },
   {
    "duration": 13,
    "start_time": "2022-06-13T14:13:33.553Z"
   },
   {
    "duration": 153,
    "start_time": "2022-06-13T14:13:33.567Z"
   },
   {
    "duration": 23,
    "start_time": "2022-06-13T14:13:33.722Z"
   },
   {
    "duration": 330,
    "start_time": "2022-06-13T14:13:33.747Z"
   },
   {
    "duration": 246,
    "start_time": "2022-06-13T14:13:34.078Z"
   },
   {
    "duration": 11,
    "start_time": "2022-06-13T14:13:34.326Z"
   },
   {
    "duration": 8,
    "start_time": "2022-06-13T14:13:34.338Z"
   },
   {
    "duration": 20,
    "start_time": "2022-06-13T14:13:34.348Z"
   },
   {
    "duration": 1998,
    "start_time": "2022-06-13T14:13:34.369Z"
   },
   {
    "duration": 174,
    "start_time": "2022-06-13T14:13:36.369Z"
   },
   {
    "duration": 17,
    "start_time": "2022-06-13T14:13:36.545Z"
   },
   {
    "duration": 217,
    "start_time": "2022-06-13T14:13:36.564Z"
   },
   {
    "duration": 71,
    "start_time": "2022-06-13T14:13:36.783Z"
   },
   {
    "duration": 31,
    "start_time": "2022-06-13T14:13:36.855Z"
   },
   {
    "duration": 22,
    "start_time": "2022-06-13T14:13:36.888Z"
   },
   {
    "duration": 256,
    "start_time": "2022-06-13T14:13:36.912Z"
   },
   {
    "duration": 1560,
    "start_time": "2022-06-13T14:13:37.170Z"
   },
   {
    "duration": 38,
    "start_time": "2022-06-13T14:13:38.732Z"
   },
   {
    "duration": 71,
    "start_time": "2022-06-13T14:13:38.772Z"
   },
   {
    "duration": 88,
    "start_time": "2022-06-13T14:13:38.844Z"
   },
   {
    "duration": 12,
    "start_time": "2022-06-13T14:13:38.934Z"
   },
   {
    "duration": 3,
    "start_time": "2022-06-13T14:13:38.949Z"
   },
   {
    "duration": 19,
    "start_time": "2022-06-13T14:13:38.953Z"
   },
   {
    "duration": 25,
    "start_time": "2022-06-13T14:13:38.973Z"
   },
   {
    "duration": 20,
    "start_time": "2022-06-13T14:13:39.001Z"
   },
   {
    "duration": 22,
    "start_time": "2022-06-13T14:13:39.023Z"
   },
   {
    "duration": 15,
    "start_time": "2022-06-13T14:13:39.046Z"
   },
   {
    "duration": 4,
    "start_time": "2022-06-13T14:13:39.063Z"
   },
   {
    "duration": 37,
    "start_time": "2022-06-13T14:13:39.068Z"
   },
   {
    "duration": 21,
    "start_time": "2022-06-13T14:13:39.108Z"
   },
   {
    "duration": 1017,
    "start_time": "2022-06-13T16:08:41.247Z"
   },
   {
    "duration": 58,
    "start_time": "2022-06-13T16:08:42.266Z"
   },
   {
    "duration": 3,
    "start_time": "2022-06-13T16:08:42.326Z"
   },
   {
    "duration": 45,
    "start_time": "2022-06-13T16:08:42.331Z"
   },
   {
    "duration": 20,
    "start_time": "2022-06-13T16:08:42.378Z"
   },
   {
    "duration": 5,
    "start_time": "2022-06-13T16:08:42.400Z"
   },
   {
    "duration": 7,
    "start_time": "2022-06-13T16:08:42.407Z"
   },
   {
    "duration": 6,
    "start_time": "2022-06-13T16:08:42.415Z"
   },
   {
    "duration": 4,
    "start_time": "2022-06-13T16:08:42.423Z"
   },
   {
    "duration": 15,
    "start_time": "2022-06-13T16:08:42.429Z"
   },
   {
    "duration": 13,
    "start_time": "2022-06-13T16:08:42.446Z"
   },
   {
    "duration": 53,
    "start_time": "2022-06-13T16:08:42.460Z"
   },
   {
    "duration": 21,
    "start_time": "2022-06-13T16:08:42.514Z"
   },
   {
    "duration": 13,
    "start_time": "2022-06-13T16:08:42.536Z"
   },
   {
    "duration": 13,
    "start_time": "2022-06-13T16:08:42.550Z"
   },
   {
    "duration": 43,
    "start_time": "2022-06-13T16:08:42.564Z"
   },
   {
    "duration": 2,
    "start_time": "2022-06-13T16:08:42.609Z"
   },
   {
    "duration": 16,
    "start_time": "2022-06-13T16:08:42.613Z"
   },
   {
    "duration": 212,
    "start_time": "2022-06-13T16:08:42.630Z"
   },
   {
    "duration": 12,
    "start_time": "2022-06-13T16:08:42.843Z"
   },
   {
    "duration": 119,
    "start_time": "2022-06-13T16:08:42.857Z"
   },
   {
    "duration": 30,
    "start_time": "2022-06-13T16:08:42.978Z"
   },
   {
    "duration": 265,
    "start_time": "2022-06-13T16:08:43.010Z"
   },
   {
    "duration": 203,
    "start_time": "2022-06-13T16:08:43.276Z"
   },
   {
    "duration": 17,
    "start_time": "2022-06-13T16:08:43.481Z"
   },
   {
    "duration": 7,
    "start_time": "2022-06-13T16:08:43.499Z"
   },
   {
    "duration": 18,
    "start_time": "2022-06-13T16:08:43.508Z"
   },
   {
    "duration": 2076,
    "start_time": "2022-06-13T16:08:43.529Z"
   },
   {
    "duration": 156,
    "start_time": "2022-06-13T16:08:45.606Z"
   },
   {
    "duration": 14,
    "start_time": "2022-06-13T16:08:45.764Z"
   },
   {
    "duration": 205,
    "start_time": "2022-06-13T16:08:45.780Z"
   },
   {
    "duration": 51,
    "start_time": "2022-06-13T16:08:45.986Z"
   },
   {
    "duration": 46,
    "start_time": "2022-06-13T16:08:46.039Z"
   },
   {
    "duration": 23,
    "start_time": "2022-06-13T16:08:46.086Z"
   },
   {
    "duration": 215,
    "start_time": "2022-06-13T16:08:46.110Z"
   },
   {
    "duration": 1754,
    "start_time": "2022-06-13T16:08:46.326Z"
   },
   {
    "duration": 39,
    "start_time": "2022-06-13T16:08:48.082Z"
   },
   {
    "duration": 47,
    "start_time": "2022-06-13T16:08:48.122Z"
   },
   {
    "duration": 88,
    "start_time": "2022-06-13T16:08:48.170Z"
   },
   {
    "duration": 13,
    "start_time": "2022-06-13T16:08:48.260Z"
   },
   {
    "duration": 5,
    "start_time": "2022-06-13T16:08:48.275Z"
   },
   {
    "duration": 21,
    "start_time": "2022-06-13T16:08:48.295Z"
   },
   {
    "duration": 9,
    "start_time": "2022-06-13T16:08:48.317Z"
   },
   {
    "duration": 17,
    "start_time": "2022-06-13T16:08:48.327Z"
   },
   {
    "duration": 20,
    "start_time": "2022-06-13T16:08:48.345Z"
   },
   {
    "duration": 41,
    "start_time": "2022-06-13T16:08:48.366Z"
   },
   {
    "duration": 5,
    "start_time": "2022-06-13T16:08:48.408Z"
   },
   {
    "duration": 5,
    "start_time": "2022-06-13T16:08:48.414Z"
   },
   {
    "duration": 13,
    "start_time": "2022-06-13T16:08:48.421Z"
   },
   {
    "duration": 1145,
    "start_time": "2022-06-14T13:51:15.689Z"
   },
   {
    "duration": 68,
    "start_time": "2022-06-14T13:51:16.836Z"
   },
   {
    "duration": 4,
    "start_time": "2022-06-14T13:51:16.906Z"
   },
   {
    "duration": 69,
    "start_time": "2022-06-14T13:51:16.913Z"
   },
   {
    "duration": 10,
    "start_time": "2022-06-14T13:51:16.984Z"
   },
   {
    "duration": 10,
    "start_time": "2022-06-14T13:51:16.996Z"
   },
   {
    "duration": 10,
    "start_time": "2022-06-14T13:51:17.008Z"
   },
   {
    "duration": 6,
    "start_time": "2022-06-14T13:51:17.026Z"
   },
   {
    "duration": 9,
    "start_time": "2022-06-14T13:51:17.033Z"
   },
   {
    "duration": 22,
    "start_time": "2022-06-14T13:51:17.044Z"
   },
   {
    "duration": 19,
    "start_time": "2022-06-14T13:51:17.067Z"
   },
   {
    "duration": 45,
    "start_time": "2022-06-14T13:51:17.088Z"
   },
   {
    "duration": 23,
    "start_time": "2022-06-14T13:51:17.134Z"
   },
   {
    "duration": 14,
    "start_time": "2022-06-14T13:51:17.158Z"
   },
   {
    "duration": 14,
    "start_time": "2022-06-14T13:51:17.174Z"
   },
   {
    "duration": 47,
    "start_time": "2022-06-14T13:51:17.189Z"
   },
   {
    "duration": 2,
    "start_time": "2022-06-14T13:51:17.239Z"
   },
   {
    "duration": 28,
    "start_time": "2022-06-14T13:51:17.243Z"
   },
   {
    "duration": 236,
    "start_time": "2022-06-14T13:51:17.273Z"
   },
   {
    "duration": 21,
    "start_time": "2022-06-14T13:51:17.511Z"
   },
   {
    "duration": 142,
    "start_time": "2022-06-14T13:51:17.534Z"
   },
   {
    "duration": 21,
    "start_time": "2022-06-14T13:51:17.678Z"
   },
   {
    "duration": 304,
    "start_time": "2022-06-14T13:51:17.701Z"
   },
   {
    "duration": 242,
    "start_time": "2022-06-14T13:51:18.007Z"
   },
   {
    "duration": 12,
    "start_time": "2022-06-14T13:51:18.251Z"
   },
   {
    "duration": 9,
    "start_time": "2022-06-14T13:51:18.265Z"
   },
   {
    "duration": 20,
    "start_time": "2022-06-14T13:51:18.275Z"
   },
   {
    "duration": 1937,
    "start_time": "2022-06-14T13:51:18.298Z"
   },
   {
    "duration": 192,
    "start_time": "2022-06-14T13:51:20.237Z"
   },
   {
    "duration": 18,
    "start_time": "2022-06-14T13:51:20.431Z"
   },
   {
    "duration": 257,
    "start_time": "2022-06-14T13:51:20.450Z"
   },
   {
    "duration": 65,
    "start_time": "2022-06-14T13:51:20.709Z"
   },
   {
    "duration": 38,
    "start_time": "2022-06-14T13:51:20.777Z"
   },
   {
    "duration": 22,
    "start_time": "2022-06-14T13:51:20.825Z"
   },
   {
    "duration": 266,
    "start_time": "2022-06-14T13:51:20.849Z"
   },
   {
    "duration": 1561,
    "start_time": "2022-06-14T13:51:21.117Z"
   },
   {
    "duration": 49,
    "start_time": "2022-06-14T13:51:22.680Z"
   },
   {
    "duration": 61,
    "start_time": "2022-06-14T13:51:22.732Z"
   },
   {
    "duration": 107,
    "start_time": "2022-06-14T13:51:22.795Z"
   },
   {
    "duration": 25,
    "start_time": "2022-06-14T13:51:22.904Z"
   },
   {
    "duration": 5,
    "start_time": "2022-06-14T13:51:22.931Z"
   },
   {
    "duration": 35,
    "start_time": "2022-06-14T13:51:22.938Z"
   },
   {
    "duration": 10,
    "start_time": "2022-06-14T13:51:22.975Z"
   },
   {
    "duration": 16,
    "start_time": "2022-06-14T13:51:22.987Z"
   },
   {
    "duration": 31,
    "start_time": "2022-06-14T13:51:23.005Z"
   },
   {
    "duration": 16,
    "start_time": "2022-06-14T13:51:23.038Z"
   },
   {
    "duration": 4,
    "start_time": "2022-06-14T13:51:23.056Z"
   },
   {
    "duration": 9,
    "start_time": "2022-06-14T13:51:23.061Z"
   },
   {
    "duration": 15,
    "start_time": "2022-06-14T13:51:23.071Z"
   }
  ],
  "kernelspec": {
   "display_name": "Python 3 (ipykernel)",
   "language": "python",
   "name": "python3"
  },
  "language_info": {
   "codemirror_mode": {
    "name": "ipython",
    "version": 3
   },
   "file_extension": ".py",
   "mimetype": "text/x-python",
   "name": "python",
   "nbconvert_exporter": "python",
   "pygments_lexer": "ipython3",
   "version": "3.9.7"
  },
  "toc": {
   "base_numbering": 1,
   "nav_menu": {},
   "number_sections": true,
   "sideBar": true,
   "skip_h1_title": true,
   "title_cell": "Table of Contents",
   "title_sidebar": "Contents",
   "toc_cell": false,
   "toc_position": {},
   "toc_section_display": true,
   "toc_window_display": false
  }
 },
 "nbformat": 4,
 "nbformat_minor": 2
}
