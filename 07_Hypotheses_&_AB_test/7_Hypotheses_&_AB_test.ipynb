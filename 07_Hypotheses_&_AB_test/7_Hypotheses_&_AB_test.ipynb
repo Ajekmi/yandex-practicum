{
 "cells": [
  {
   "cell_type": "markdown",
   "metadata": {
    "toc": true
   },
   "source": [
    "<h1>Содержание<span class=\"tocSkip\"></span></h1>\n",
    "<div class=\"toc\"><ul class=\"toc-item\"><li><span><a href=\"#Загрузка-и-подготовка-данных\" data-toc-modified-id=\"Загрузка-и-подготовка-данных-1\"><span class=\"toc-item-num\">1&nbsp;&nbsp;</span>Загрузка и подготовка данных</a></span><ul class=\"toc-item\"><li><span><a href=\"#Предобработка-данных\" data-toc-modified-id=\"Предобработка-данных-1.1\"><span class=\"toc-item-num\">1.1&nbsp;&nbsp;</span>Предобработка данных</a></span></li><li><span><a href=\"#Вывод\" data-toc-modified-id=\"Вывод-1.2\"><span class=\"toc-item-num\">1.2&nbsp;&nbsp;</span>Вывод</a></span></li></ul></li><li><span><a href=\"#Исследовательский-анализ-данных-Часть-1.-Приоритизация-гипотез.\" data-toc-modified-id=\"Исследовательский-анализ-данных-Часть-1.-Приоритизация-гипотез.-2\"><span class=\"toc-item-num\">2&nbsp;&nbsp;</span>Исследовательский анализ данных Часть 1. Приоритизация гипотез.</a></span><ul class=\"toc-item\"><li><span><a href=\"#Фреймворк-ICE-для-приоритизации-гипотез\" data-toc-modified-id=\"Фреймворк-ICE-для-приоритизации-гипотез-2.1\"><span class=\"toc-item-num\">2.1&nbsp;&nbsp;</span>Фреймворк ICE для приоритизации гипотез</a></span></li><li><span><a href=\"#Фреймворк-RICE-для-приоритизации-гипотез\" data-toc-modified-id=\"Фреймворк-RICE-для-приоритизации-гипотез-2.2\"><span class=\"toc-item-num\">2.2&nbsp;&nbsp;</span>Фреймворк RICE для приоритизации гипотез</a></span></li><li><span><a href=\"#Вывод\" data-toc-modified-id=\"Вывод-2.3\"><span class=\"toc-item-num\">2.3&nbsp;&nbsp;</span>Вывод</a></span></li></ul></li><li><span><a href=\"#Исследовательский-анализ-данных-Часть-2.-Анализ-A/B-теста\" data-toc-modified-id=\"Исследовательский-анализ-данных-Часть-2.-Анализ-A/B-теста-3\"><span class=\"toc-item-num\">3&nbsp;&nbsp;</span>Исследовательский анализ данных Часть 2. Анализ A/B-теста</a></span><ul class=\"toc-item\"><li><span><a href=\"#График-кумулятивной-выручки-по-дням-и-группам-A/B-тестирования\" data-toc-modified-id=\"График-кумулятивной-выручки-по-дням-и-группам-A/B-тестирования-3.1\"><span class=\"toc-item-num\">3.1&nbsp;&nbsp;</span>График кумулятивной выручки по дням и группам A/B-тестирования</a></span></li><li><span><a href=\"#График-кумулятивного-среднего-чека-по-группам\" data-toc-modified-id=\"График-кумулятивного-среднего-чека-по-группам-3.2\"><span class=\"toc-item-num\">3.2&nbsp;&nbsp;</span>График кумулятивного среднего чека по группам</a></span></li><li><span><a href=\"#График-относительного-изменения-кумулятивного-среднего-чека-группы-B-к-группе-A.\" data-toc-modified-id=\"График-относительного-изменения-кумулятивного-среднего-чека-группы-B-к-группе-A.-3.3\"><span class=\"toc-item-num\">3.3&nbsp;&nbsp;</span>График относительного изменения кумулятивного среднего чека группы B к группе A.</a></span></li><li><span><a href=\"#График-кумулятивной-конверсии-по-группам\" data-toc-modified-id=\"График-кумулятивной-конверсии-по-группам-3.4\"><span class=\"toc-item-num\">3.4&nbsp;&nbsp;</span>График кумулятивной конверсии по группам</a></span></li><li><span><a href=\"#График-относительного-изменения-кумулятивной-конверсии-группы-B-к-группе-A\" data-toc-modified-id=\"График-относительного-изменения-кумулятивной-конверсии-группы-B-к-группе-A-3.5\"><span class=\"toc-item-num\">3.5&nbsp;&nbsp;</span>График относительного изменения кумулятивной конверсии группы B к группе A</a></span></li><li><span><a href=\"#Точечный-график-количества-заказов-по-пользователям\" data-toc-modified-id=\"Точечный-график-количества-заказов-по-пользователям-3.6\"><span class=\"toc-item-num\">3.6&nbsp;&nbsp;</span>Точечный график количества заказов по пользователям</a></span></li><li><span><a href=\"#Точечный-график-стоимостей-заказов\" data-toc-modified-id=\"Точечный-график-стоимостей-заказов-3.7\"><span class=\"toc-item-num\">3.7&nbsp;&nbsp;</span>Точечный график стоимостей заказов</a></span></li><li><span><a href=\"#Статистическая-значимость-различий-в-конверсии-между-группами-по-«сырым»-данным\" data-toc-modified-id=\"Статистическая-значимость-различий-в-конверсии-между-группами-по-«сырым»-данным-3.8\"><span class=\"toc-item-num\">3.8&nbsp;&nbsp;</span>Статистическая значимость различий в конверсии между группами по «сырым» данным</a></span></li><li><span><a href=\"#Статистическая-значимость-различий-в-среднем-чеке-заказа-между-группами-по-«сырым»-данным\" data-toc-modified-id=\"Статистическая-значимость-различий-в-среднем-чеке-заказа-между-группами-по-«сырым»-данным-3.9\"><span class=\"toc-item-num\">3.9&nbsp;&nbsp;</span>Статистическая значимость различий в среднем чеке заказа между группами по «сырым» данным</a></span></li><li><span><a href=\"#Статистическая-значимость-различий-в-конверсии-между-группами-по-«очищенным»-данным\" data-toc-modified-id=\"Статистическая-значимость-различий-в-конверсии-между-группами-по-«очищенным»-данным-3.10\"><span class=\"toc-item-num\">3.10&nbsp;&nbsp;</span>Статистическая значимость различий в конверсии между группами по «очищенным» данным</a></span></li><li><span><a href=\"#Статистическая-значимость-различий-в-среднем-чеке-заказа-между-группами-по-«очищенным»-данным\" data-toc-modified-id=\"Статистическая-значимость-различий-в-среднем-чеке-заказа-между-группами-по-«очищенным»-данным-3.11\"><span class=\"toc-item-num\">3.11&nbsp;&nbsp;</span>Статистическая значимость различий в среднем чеке заказа между группами по «очищенным» данным</a></span></li><li><span><a href=\"#Итог-по-результатам-теста\" data-toc-modified-id=\"Итог-по-результатам-теста-3.12\"><span class=\"toc-item-num\">3.12&nbsp;&nbsp;</span>Итог по результатам теста</a></span></li></ul></li><li><span><a href=\"#Общий-вывод\" data-toc-modified-id=\"Общий-вывод-4\"><span class=\"toc-item-num\">4&nbsp;&nbsp;</span>Общий вывод</a></span></li></ul></div>"
   ]
  },
  {
   "cell_type": "markdown",
   "metadata": {},
   "source": [
    "# Описание проекта\n",
    "\n",
    "Вы — аналитик крупного интернет-магазина. Вместе с отделом маркетинга вы подготовили список гипотез для увеличения выручки.\n",
    "\n",
    "# Задачи\n",
    "\n",
    "* Приоритизировать гипотезы с помощью фреймворков ICE и RICE \n",
    "* Запустить и проанализировать A/B-тест \n",
    "\n",
    "# Описание данных\n",
    "\n",
    "Таблица hypothesis (9 гипотез по увеличению выручки интернет-магазина с указанными параметрами Reach, Impact, Confidence, Effort):\n",
    "- `Hypothesis` — краткое описание гипотезы;\n",
    "- `Reach` — охват пользователей по 10-балльной шкале;\n",
    "- `Impact` — влияние на пользователей по 10-балльной шкале;\n",
    "- `Confidence` — уверенность в гипотезе по 10-балльной шкале;\n",
    "- `Efforts` — затраты ресурсов на проверку гипотезы по 10-балльной шкале. Чем больше значение Efforts, тем дороже проверка гипотезы.\n",
    "\n",
    "Таблица orders (информация о заказах):\n",
    "- `transactionId` — идентификатор заказа;\n",
    "- `visitorId` — идентификатор пользователя, совершившего заказ;\n",
    "- `date` — дата, когда был совершён заказ;\n",
    "- `revenue` — выручка заказа;\n",
    "- `group` — группа A/B-теста, в которую попал заказ.\n",
    "\n",
    "Таблица visitors (информация о посетителях):\n",
    "- `date` — дата;\n",
    "- `group` — группа A/B-теста;\n",
    "- `visitors` — количество пользователей в указанную дату в указанной группе A/B-теста"
   ]
  },
  {
   "cell_type": "markdown",
   "metadata": {},
   "source": [
    "##  Загрузка и подготовка данных"
   ]
  },
  {
   "cell_type": "code",
   "execution_count": 1,
   "metadata": {},
   "outputs": [],
   "source": [
    "# импортируем нужные библиотеки\n",
    "import pandas as pd\n",
    "import matplotlib.pyplot as plt\n",
    "import scipy.stats as stats\n",
    "import datetime as dt\n",
    "import numpy as np\n",
    "\n",
    "pd.options.display.max_columns = 200"
   ]
  },
  {
   "cell_type": "code",
   "execution_count": 2,
   "metadata": {},
   "outputs": [],
   "source": [
    "# загружаем данные в переменные\n",
    "try: \n",
    "    data, orders, visitors = (\n",
    "    pd.read_csv('/datasets/hypothesis.csv'),  # гипотезы\n",
    "    pd.read_csv('/datasets/orders.csv'),  # заказы\n",
    "    pd.read_csv('/datasets/visitors.csv'),  # пользователи по группам A/B-теста\n",
    ")\n",
    "except:\n",
    "    data, orders, visitors = (\n",
    "    pd.read_csv('hypothesis.csv'),  # гипотезы\n",
    "    pd.read_csv('orders.csv'),  # заказы\n",
    "    pd.read_csv('visitors.csv'),  # пользователи по группам A/B-теста\n",
    ")"
   ]
  },
  {
   "cell_type": "code",
   "execution_count": 3,
   "metadata": {},
   "outputs": [],
   "source": [
    "# функция для вывода информации о данных\n",
    "def table_info (df):\n",
    "    print('___________ Датафрейм ____________')\n",
    "    display(df.head())\n",
    "    display(df.describe())\n",
    "    print('')\n",
    "    print('___________Информация о датафрейме___________')\n",
    "    print('')\n",
    "    print(df.info())\n",
    "    print('')\n",
    "    print('Количество дубликатов: ' + str(df.duplicated().sum()))\n",
    "    print('')"
   ]
  },
  {
   "cell_type": "code",
   "execution_count": 4,
   "metadata": {},
   "outputs": [
    {
     "name": "stdout",
     "output_type": "stream",
     "text": [
      "___________ Датафрейм ____________\n"
     ]
    },
    {
     "data": {
      "text/html": [
       "<div>\n",
       "<style scoped>\n",
       "    .dataframe tbody tr th:only-of-type {\n",
       "        vertical-align: middle;\n",
       "    }\n",
       "\n",
       "    .dataframe tbody tr th {\n",
       "        vertical-align: top;\n",
       "    }\n",
       "\n",
       "    .dataframe thead th {\n",
       "        text-align: right;\n",
       "    }\n",
       "</style>\n",
       "<table border=\"1\" class=\"dataframe\">\n",
       "  <thead>\n",
       "    <tr style=\"text-align: right;\">\n",
       "      <th></th>\n",
       "      <th>Hypothesis</th>\n",
       "      <th>Reach</th>\n",
       "      <th>Impact</th>\n",
       "      <th>Confidence</th>\n",
       "      <th>Efforts</th>\n",
       "    </tr>\n",
       "  </thead>\n",
       "  <tbody>\n",
       "    <tr>\n",
       "      <th>0</th>\n",
       "      <td>Добавить два новых канала привлечения трафика,...</td>\n",
       "      <td>3</td>\n",
       "      <td>10</td>\n",
       "      <td>8</td>\n",
       "      <td>6</td>\n",
       "    </tr>\n",
       "    <tr>\n",
       "      <th>1</th>\n",
       "      <td>Запустить собственную службу доставки, что сок...</td>\n",
       "      <td>2</td>\n",
       "      <td>5</td>\n",
       "      <td>4</td>\n",
       "      <td>10</td>\n",
       "    </tr>\n",
       "    <tr>\n",
       "      <th>2</th>\n",
       "      <td>Добавить блоки рекомендаций товаров на сайт ин...</td>\n",
       "      <td>8</td>\n",
       "      <td>3</td>\n",
       "      <td>7</td>\n",
       "      <td>3</td>\n",
       "    </tr>\n",
       "    <tr>\n",
       "      <th>3</th>\n",
       "      <td>Изменить структура категорий, что увеличит кон...</td>\n",
       "      <td>8</td>\n",
       "      <td>3</td>\n",
       "      <td>3</td>\n",
       "      <td>8</td>\n",
       "    </tr>\n",
       "    <tr>\n",
       "      <th>4</th>\n",
       "      <td>Изменить цвет фона главной страницы, чтобы уве...</td>\n",
       "      <td>3</td>\n",
       "      <td>1</td>\n",
       "      <td>1</td>\n",
       "      <td>1</td>\n",
       "    </tr>\n",
       "  </tbody>\n",
       "</table>\n",
       "</div>"
      ],
      "text/plain": [
       "                                          Hypothesis  Reach  Impact  \\\n",
       "0  Добавить два новых канала привлечения трафика,...      3      10   \n",
       "1  Запустить собственную службу доставки, что сок...      2       5   \n",
       "2  Добавить блоки рекомендаций товаров на сайт ин...      8       3   \n",
       "3  Изменить структура категорий, что увеличит кон...      8       3   \n",
       "4  Изменить цвет фона главной страницы, чтобы уве...      3       1   \n",
       "\n",
       "   Confidence  Efforts  \n",
       "0           8        6  \n",
       "1           4       10  \n",
       "2           7        3  \n",
       "3           3        8  \n",
       "4           1        1  "
      ]
     },
     "metadata": {},
     "output_type": "display_data"
    },
    {
     "data": {
      "text/html": [
       "<div>\n",
       "<style scoped>\n",
       "    .dataframe tbody tr th:only-of-type {\n",
       "        vertical-align: middle;\n",
       "    }\n",
       "\n",
       "    .dataframe tbody tr th {\n",
       "        vertical-align: top;\n",
       "    }\n",
       "\n",
       "    .dataframe thead th {\n",
       "        text-align: right;\n",
       "    }\n",
       "</style>\n",
       "<table border=\"1\" class=\"dataframe\">\n",
       "  <thead>\n",
       "    <tr style=\"text-align: right;\">\n",
       "      <th></th>\n",
       "      <th>Reach</th>\n",
       "      <th>Impact</th>\n",
       "      <th>Confidence</th>\n",
       "      <th>Efforts</th>\n",
       "    </tr>\n",
       "  </thead>\n",
       "  <tbody>\n",
       "    <tr>\n",
       "      <th>count</th>\n",
       "      <td>9.000000</td>\n",
       "      <td>9.000000</td>\n",
       "      <td>9.000000</td>\n",
       "      <td>9.000000</td>\n",
       "    </tr>\n",
       "    <tr>\n",
       "      <th>mean</th>\n",
       "      <td>4.777778</td>\n",
       "      <td>4.777778</td>\n",
       "      <td>5.555556</td>\n",
       "      <td>4.888889</td>\n",
       "    </tr>\n",
       "    <tr>\n",
       "      <th>std</th>\n",
       "      <td>3.153481</td>\n",
       "      <td>3.192874</td>\n",
       "      <td>3.045944</td>\n",
       "      <td>2.803767</td>\n",
       "    </tr>\n",
       "    <tr>\n",
       "      <th>min</th>\n",
       "      <td>1.000000</td>\n",
       "      <td>1.000000</td>\n",
       "      <td>1.000000</td>\n",
       "      <td>1.000000</td>\n",
       "    </tr>\n",
       "    <tr>\n",
       "      <th>25%</th>\n",
       "      <td>3.000000</td>\n",
       "      <td>3.000000</td>\n",
       "      <td>3.000000</td>\n",
       "      <td>3.000000</td>\n",
       "    </tr>\n",
       "    <tr>\n",
       "      <th>50%</th>\n",
       "      <td>3.000000</td>\n",
       "      <td>3.000000</td>\n",
       "      <td>7.000000</td>\n",
       "      <td>5.000000</td>\n",
       "    </tr>\n",
       "    <tr>\n",
       "      <th>75%</th>\n",
       "      <td>8.000000</td>\n",
       "      <td>7.000000</td>\n",
       "      <td>8.000000</td>\n",
       "      <td>6.000000</td>\n",
       "    </tr>\n",
       "    <tr>\n",
       "      <th>max</th>\n",
       "      <td>10.000000</td>\n",
       "      <td>10.000000</td>\n",
       "      <td>9.000000</td>\n",
       "      <td>10.000000</td>\n",
       "    </tr>\n",
       "  </tbody>\n",
       "</table>\n",
       "</div>"
      ],
      "text/plain": [
       "           Reach     Impact  Confidence    Efforts\n",
       "count   9.000000   9.000000    9.000000   9.000000\n",
       "mean    4.777778   4.777778    5.555556   4.888889\n",
       "std     3.153481   3.192874    3.045944   2.803767\n",
       "min     1.000000   1.000000    1.000000   1.000000\n",
       "25%     3.000000   3.000000    3.000000   3.000000\n",
       "50%     3.000000   3.000000    7.000000   5.000000\n",
       "75%     8.000000   7.000000    8.000000   6.000000\n",
       "max    10.000000  10.000000    9.000000  10.000000"
      ]
     },
     "metadata": {},
     "output_type": "display_data"
    },
    {
     "name": "stdout",
     "output_type": "stream",
     "text": [
      "\n",
      "___________Информация о датафрейме___________\n",
      "\n",
      "<class 'pandas.core.frame.DataFrame'>\n",
      "RangeIndex: 9 entries, 0 to 8\n",
      "Data columns (total 5 columns):\n",
      " #   Column      Non-Null Count  Dtype \n",
      "---  ------      --------------  ----- \n",
      " 0   Hypothesis  9 non-null      object\n",
      " 1   Reach       9 non-null      int64 \n",
      " 2   Impact      9 non-null      int64 \n",
      " 3   Confidence  9 non-null      int64 \n",
      " 4   Efforts     9 non-null      int64 \n",
      "dtypes: int64(4), object(1)\n",
      "memory usage: 488.0+ bytes\n",
      "None\n",
      "\n",
      "Количество дубликатов: 0\n",
      "\n"
     ]
    }
   ],
   "source": [
    "table_info(data)"
   ]
  },
  {
   "cell_type": "code",
   "execution_count": 5,
   "metadata": {},
   "outputs": [
    {
     "name": "stdout",
     "output_type": "stream",
     "text": [
      "___________ Датафрейм ____________\n"
     ]
    },
    {
     "data": {
      "text/html": [
       "<div>\n",
       "<style scoped>\n",
       "    .dataframe tbody tr th:only-of-type {\n",
       "        vertical-align: middle;\n",
       "    }\n",
       "\n",
       "    .dataframe tbody tr th {\n",
       "        vertical-align: top;\n",
       "    }\n",
       "\n",
       "    .dataframe thead th {\n",
       "        text-align: right;\n",
       "    }\n",
       "</style>\n",
       "<table border=\"1\" class=\"dataframe\">\n",
       "  <thead>\n",
       "    <tr style=\"text-align: right;\">\n",
       "      <th></th>\n",
       "      <th>transactionId</th>\n",
       "      <th>visitorId</th>\n",
       "      <th>date</th>\n",
       "      <th>revenue</th>\n",
       "      <th>group</th>\n",
       "    </tr>\n",
       "  </thead>\n",
       "  <tbody>\n",
       "    <tr>\n",
       "      <th>0</th>\n",
       "      <td>3667963787</td>\n",
       "      <td>3312258926</td>\n",
       "      <td>2019-08-15</td>\n",
       "      <td>1650</td>\n",
       "      <td>B</td>\n",
       "    </tr>\n",
       "    <tr>\n",
       "      <th>1</th>\n",
       "      <td>2804400009</td>\n",
       "      <td>3642806036</td>\n",
       "      <td>2019-08-15</td>\n",
       "      <td>730</td>\n",
       "      <td>B</td>\n",
       "    </tr>\n",
       "    <tr>\n",
       "      <th>2</th>\n",
       "      <td>2961555356</td>\n",
       "      <td>4069496402</td>\n",
       "      <td>2019-08-15</td>\n",
       "      <td>400</td>\n",
       "      <td>A</td>\n",
       "    </tr>\n",
       "    <tr>\n",
       "      <th>3</th>\n",
       "      <td>3797467345</td>\n",
       "      <td>1196621759</td>\n",
       "      <td>2019-08-15</td>\n",
       "      <td>9759</td>\n",
       "      <td>B</td>\n",
       "    </tr>\n",
       "    <tr>\n",
       "      <th>4</th>\n",
       "      <td>2282983706</td>\n",
       "      <td>2322279887</td>\n",
       "      <td>2019-08-15</td>\n",
       "      <td>2308</td>\n",
       "      <td>B</td>\n",
       "    </tr>\n",
       "  </tbody>\n",
       "</table>\n",
       "</div>"
      ],
      "text/plain": [
       "   transactionId   visitorId        date  revenue group\n",
       "0     3667963787  3312258926  2019-08-15     1650     B\n",
       "1     2804400009  3642806036  2019-08-15      730     B\n",
       "2     2961555356  4069496402  2019-08-15      400     A\n",
       "3     3797467345  1196621759  2019-08-15     9759     B\n",
       "4     2282983706  2322279887  2019-08-15     2308     B"
      ]
     },
     "metadata": {},
     "output_type": "display_data"
    },
    {
     "data": {
      "text/html": [
       "<div>\n",
       "<style scoped>\n",
       "    .dataframe tbody tr th:only-of-type {\n",
       "        vertical-align: middle;\n",
       "    }\n",
       "\n",
       "    .dataframe tbody tr th {\n",
       "        vertical-align: top;\n",
       "    }\n",
       "\n",
       "    .dataframe thead th {\n",
       "        text-align: right;\n",
       "    }\n",
       "</style>\n",
       "<table border=\"1\" class=\"dataframe\">\n",
       "  <thead>\n",
       "    <tr style=\"text-align: right;\">\n",
       "      <th></th>\n",
       "      <th>transactionId</th>\n",
       "      <th>visitorId</th>\n",
       "      <th>revenue</th>\n",
       "    </tr>\n",
       "  </thead>\n",
       "  <tbody>\n",
       "    <tr>\n",
       "      <th>count</th>\n",
       "      <td>1.197000e+03</td>\n",
       "      <td>1.197000e+03</td>\n",
       "      <td>1.197000e+03</td>\n",
       "    </tr>\n",
       "    <tr>\n",
       "      <th>mean</th>\n",
       "      <td>2.155621e+09</td>\n",
       "      <td>2.165960e+09</td>\n",
       "      <td>8.348006e+03</td>\n",
       "    </tr>\n",
       "    <tr>\n",
       "      <th>std</th>\n",
       "      <td>1.229085e+09</td>\n",
       "      <td>1.236014e+09</td>\n",
       "      <td>3.919113e+04</td>\n",
       "    </tr>\n",
       "    <tr>\n",
       "      <th>min</th>\n",
       "      <td>1.062393e+06</td>\n",
       "      <td>5.114589e+06</td>\n",
       "      <td>5.000000e+01</td>\n",
       "    </tr>\n",
       "    <tr>\n",
       "      <th>25%</th>\n",
       "      <td>1.166776e+09</td>\n",
       "      <td>1.111826e+09</td>\n",
       "      <td>1.220000e+03</td>\n",
       "    </tr>\n",
       "    <tr>\n",
       "      <th>50%</th>\n",
       "      <td>2.145194e+09</td>\n",
       "      <td>2.217985e+09</td>\n",
       "      <td>2.978000e+03</td>\n",
       "    </tr>\n",
       "    <tr>\n",
       "      <th>75%</th>\n",
       "      <td>3.237740e+09</td>\n",
       "      <td>3.177606e+09</td>\n",
       "      <td>8.290000e+03</td>\n",
       "    </tr>\n",
       "    <tr>\n",
       "      <th>max</th>\n",
       "      <td>4.293856e+09</td>\n",
       "      <td>4.283872e+09</td>\n",
       "      <td>1.294500e+06</td>\n",
       "    </tr>\n",
       "  </tbody>\n",
       "</table>\n",
       "</div>"
      ],
      "text/plain": [
       "       transactionId     visitorId       revenue\n",
       "count   1.197000e+03  1.197000e+03  1.197000e+03\n",
       "mean    2.155621e+09  2.165960e+09  8.348006e+03\n",
       "std     1.229085e+09  1.236014e+09  3.919113e+04\n",
       "min     1.062393e+06  5.114589e+06  5.000000e+01\n",
       "25%     1.166776e+09  1.111826e+09  1.220000e+03\n",
       "50%     2.145194e+09  2.217985e+09  2.978000e+03\n",
       "75%     3.237740e+09  3.177606e+09  8.290000e+03\n",
       "max     4.293856e+09  4.283872e+09  1.294500e+06"
      ]
     },
     "metadata": {},
     "output_type": "display_data"
    },
    {
     "name": "stdout",
     "output_type": "stream",
     "text": [
      "\n",
      "___________Информация о датафрейме___________\n",
      "\n",
      "<class 'pandas.core.frame.DataFrame'>\n",
      "RangeIndex: 1197 entries, 0 to 1196\n",
      "Data columns (total 5 columns):\n",
      " #   Column         Non-Null Count  Dtype \n",
      "---  ------         --------------  ----- \n",
      " 0   transactionId  1197 non-null   int64 \n",
      " 1   visitorId      1197 non-null   int64 \n",
      " 2   date           1197 non-null   object\n",
      " 3   revenue        1197 non-null   int64 \n",
      " 4   group          1197 non-null   object\n",
      "dtypes: int64(3), object(2)\n",
      "memory usage: 46.9+ KB\n",
      "None\n",
      "\n",
      "Количество дубликатов: 0\n",
      "\n"
     ]
    }
   ],
   "source": [
    "table_info(orders)"
   ]
  },
  {
   "cell_type": "code",
   "execution_count": 6,
   "metadata": {},
   "outputs": [
    {
     "name": "stdout",
     "output_type": "stream",
     "text": [
      "___________ Датафрейм ____________\n"
     ]
    },
    {
     "data": {
      "text/html": [
       "<div>\n",
       "<style scoped>\n",
       "    .dataframe tbody tr th:only-of-type {\n",
       "        vertical-align: middle;\n",
       "    }\n",
       "\n",
       "    .dataframe tbody tr th {\n",
       "        vertical-align: top;\n",
       "    }\n",
       "\n",
       "    .dataframe thead th {\n",
       "        text-align: right;\n",
       "    }\n",
       "</style>\n",
       "<table border=\"1\" class=\"dataframe\">\n",
       "  <thead>\n",
       "    <tr style=\"text-align: right;\">\n",
       "      <th></th>\n",
       "      <th>date</th>\n",
       "      <th>group</th>\n",
       "      <th>visitors</th>\n",
       "    </tr>\n",
       "  </thead>\n",
       "  <tbody>\n",
       "    <tr>\n",
       "      <th>0</th>\n",
       "      <td>2019-08-01</td>\n",
       "      <td>A</td>\n",
       "      <td>719</td>\n",
       "    </tr>\n",
       "    <tr>\n",
       "      <th>1</th>\n",
       "      <td>2019-08-02</td>\n",
       "      <td>A</td>\n",
       "      <td>619</td>\n",
       "    </tr>\n",
       "    <tr>\n",
       "      <th>2</th>\n",
       "      <td>2019-08-03</td>\n",
       "      <td>A</td>\n",
       "      <td>507</td>\n",
       "    </tr>\n",
       "    <tr>\n",
       "      <th>3</th>\n",
       "      <td>2019-08-04</td>\n",
       "      <td>A</td>\n",
       "      <td>717</td>\n",
       "    </tr>\n",
       "    <tr>\n",
       "      <th>4</th>\n",
       "      <td>2019-08-05</td>\n",
       "      <td>A</td>\n",
       "      <td>756</td>\n",
       "    </tr>\n",
       "  </tbody>\n",
       "</table>\n",
       "</div>"
      ],
      "text/plain": [
       "         date group  visitors\n",
       "0  2019-08-01     A       719\n",
       "1  2019-08-02     A       619\n",
       "2  2019-08-03     A       507\n",
       "3  2019-08-04     A       717\n",
       "4  2019-08-05     A       756"
      ]
     },
     "metadata": {},
     "output_type": "display_data"
    },
    {
     "data": {
      "text/html": [
       "<div>\n",
       "<style scoped>\n",
       "    .dataframe tbody tr th:only-of-type {\n",
       "        vertical-align: middle;\n",
       "    }\n",
       "\n",
       "    .dataframe tbody tr th {\n",
       "        vertical-align: top;\n",
       "    }\n",
       "\n",
       "    .dataframe thead th {\n",
       "        text-align: right;\n",
       "    }\n",
       "</style>\n",
       "<table border=\"1\" class=\"dataframe\">\n",
       "  <thead>\n",
       "    <tr style=\"text-align: right;\">\n",
       "      <th></th>\n",
       "      <th>visitors</th>\n",
       "    </tr>\n",
       "  </thead>\n",
       "  <tbody>\n",
       "    <tr>\n",
       "      <th>count</th>\n",
       "      <td>62.000000</td>\n",
       "    </tr>\n",
       "    <tr>\n",
       "      <th>mean</th>\n",
       "      <td>607.290323</td>\n",
       "    </tr>\n",
       "    <tr>\n",
       "      <th>std</th>\n",
       "      <td>114.400560</td>\n",
       "    </tr>\n",
       "    <tr>\n",
       "      <th>min</th>\n",
       "      <td>361.000000</td>\n",
       "    </tr>\n",
       "    <tr>\n",
       "      <th>25%</th>\n",
       "      <td>534.000000</td>\n",
       "    </tr>\n",
       "    <tr>\n",
       "      <th>50%</th>\n",
       "      <td>624.500000</td>\n",
       "    </tr>\n",
       "    <tr>\n",
       "      <th>75%</th>\n",
       "      <td>710.500000</td>\n",
       "    </tr>\n",
       "    <tr>\n",
       "      <th>max</th>\n",
       "      <td>770.000000</td>\n",
       "    </tr>\n",
       "  </tbody>\n",
       "</table>\n",
       "</div>"
      ],
      "text/plain": [
       "         visitors\n",
       "count   62.000000\n",
       "mean   607.290323\n",
       "std    114.400560\n",
       "min    361.000000\n",
       "25%    534.000000\n",
       "50%    624.500000\n",
       "75%    710.500000\n",
       "max    770.000000"
      ]
     },
     "metadata": {},
     "output_type": "display_data"
    },
    {
     "name": "stdout",
     "output_type": "stream",
     "text": [
      "\n",
      "___________Информация о датафрейме___________\n",
      "\n",
      "<class 'pandas.core.frame.DataFrame'>\n",
      "RangeIndex: 62 entries, 0 to 61\n",
      "Data columns (total 3 columns):\n",
      " #   Column    Non-Null Count  Dtype \n",
      "---  ------    --------------  ----- \n",
      " 0   date      62 non-null     object\n",
      " 1   group     62 non-null     object\n",
      " 2   visitors  62 non-null     int64 \n",
      "dtypes: int64(1), object(2)\n",
      "memory usage: 1.6+ KB\n",
      "None\n",
      "\n",
      "Количество дубликатов: 0\n",
      "\n"
     ]
    }
   ],
   "source": [
    "table_info(visitors)"
   ]
  },
  {
   "cell_type": "code",
   "execution_count": 7,
   "metadata": {
    "scrolled": true
   },
   "outputs": [
    {
     "data": {
      "text/plain": [
       "A    31\n",
       "B    31\n",
       "Name: group, dtype: int64"
      ]
     },
     "execution_count": 7,
     "metadata": {},
     "output_type": "execute_result"
    }
   ],
   "source": [
    "visitors['group'].value_counts()"
   ]
  },
  {
   "cell_type": "markdown",
   "metadata": {},
   "source": [
    "Количество записей по датам и группам теста совпадают."
   ]
  },
  {
   "cell_type": "markdown",
   "metadata": {},
   "source": [
    "Информация, которую удалось получить:\n",
    "* В данных нет дубликатов и пропусков. \n",
    "* Названия столбцов необходимо привести к правильному виду для удобной работы - использовать нижний регистр и андерскор.\n",
    "* Преобразовать данные о времени в нужный формат."
   ]
  },
  {
   "cell_type": "markdown",
   "metadata": {},
   "source": [
    "### Предобработка данных"
   ]
  },
  {
   "cell_type": "code",
   "execution_count": 8,
   "metadata": {},
   "outputs": [
    {
     "name": "stdout",
     "output_type": "stream",
     "text": [
      "Index(['Hypothesis', 'Reach', 'Impact', 'Confidence', 'Efforts'], dtype='object')\n",
      "Index(['transactionId', 'visitorId', 'date', 'revenue', 'group'], dtype='object')\n"
     ]
    }
   ],
   "source": [
    "# перечень названий столбцов таблиц\n",
    "print(data.columns)\n",
    "print(orders.columns)"
   ]
  },
  {
   "cell_type": "code",
   "execution_count": 9,
   "metadata": {},
   "outputs": [],
   "source": [
    "# переименование столбцов и приведение к нижнему регистру\n",
    "data.columns = [x.lower() for x in data.columns]\n",
    "orders = orders.rename(columns={'transactionId': 'transaction_id', 'visitorId': 'visitor_id'})"
   ]
  },
  {
   "cell_type": "code",
   "execution_count": 10,
   "metadata": {
    "scrolled": true
   },
   "outputs": [
    {
     "name": "stdout",
     "output_type": "stream",
     "text": [
      "Index(['hypothesis', 'reach', 'impact', 'confidence', 'efforts'], dtype='object')\n",
      "Index(['transaction_id', 'visitor_id', 'date', 'revenue', 'group'], dtype='object')\n"
     ]
    }
   ],
   "source": [
    "# # проверка результатов - перечень названий столбцов\n",
    "print(data.columns)\n",
    "print(orders.columns)"
   ]
  },
  {
   "cell_type": "code",
   "execution_count": 11,
   "metadata": {},
   "outputs": [],
   "source": [
    "# преобразование данных о времени\n",
    "orders['date'] = pd.to_datetime(orders['date'])\n",
    "visitors['date'] = pd.to_datetime(visitors['date'])"
   ]
  },
  {
   "cell_type": "markdown",
   "metadata": {},
   "source": [
    "### Вывод\n",
    "\n",
    "- Названия столбцов приведены к правильному виду - использован нижний регистр и андерскор для разделения слов.\n",
    "- Преобразованы данные о времени в нужный формат.\n",
    "- Явных проблем с данными обнаружено не было."
   ]
  },
  {
   "cell_type": "markdown",
   "metadata": {},
   "source": [
    "## Исследовательский анализ данных Часть 1. Приоритизация гипотез."
   ]
  },
  {
   "cell_type": "code",
   "execution_count": 12,
   "metadata": {},
   "outputs": [
    {
     "data": {
      "text/html": [
       "<div>\n",
       "<style scoped>\n",
       "    .dataframe tbody tr th:only-of-type {\n",
       "        vertical-align: middle;\n",
       "    }\n",
       "\n",
       "    .dataframe tbody tr th {\n",
       "        vertical-align: top;\n",
       "    }\n",
       "\n",
       "    .dataframe thead th {\n",
       "        text-align: right;\n",
       "    }\n",
       "</style>\n",
       "<table border=\"1\" class=\"dataframe\">\n",
       "  <thead>\n",
       "    <tr style=\"text-align: right;\">\n",
       "      <th></th>\n",
       "      <th>hypothesis</th>\n",
       "      <th>reach</th>\n",
       "      <th>impact</th>\n",
       "      <th>confidence</th>\n",
       "      <th>efforts</th>\n",
       "    </tr>\n",
       "  </thead>\n",
       "  <tbody>\n",
       "    <tr>\n",
       "      <th>0</th>\n",
       "      <td>Добавить два новых канала привлечения трафика, что позволит привлекать на 30% больше пользователей</td>\n",
       "      <td>3</td>\n",
       "      <td>10</td>\n",
       "      <td>8</td>\n",
       "      <td>6</td>\n",
       "    </tr>\n",
       "    <tr>\n",
       "      <th>1</th>\n",
       "      <td>Запустить собственную службу доставки, что сократит срок доставки заказов</td>\n",
       "      <td>2</td>\n",
       "      <td>5</td>\n",
       "      <td>4</td>\n",
       "      <td>10</td>\n",
       "    </tr>\n",
       "    <tr>\n",
       "      <th>2</th>\n",
       "      <td>Добавить блоки рекомендаций товаров на сайт интернет магазина, чтобы повысить конверсию и средний чек заказа</td>\n",
       "      <td>8</td>\n",
       "      <td>3</td>\n",
       "      <td>7</td>\n",
       "      <td>3</td>\n",
       "    </tr>\n",
       "    <tr>\n",
       "      <th>3</th>\n",
       "      <td>Изменить структура категорий, что увеличит конверсию, т.к. пользователи быстрее найдут нужный товар</td>\n",
       "      <td>8</td>\n",
       "      <td>3</td>\n",
       "      <td>3</td>\n",
       "      <td>8</td>\n",
       "    </tr>\n",
       "    <tr>\n",
       "      <th>4</th>\n",
       "      <td>Изменить цвет фона главной страницы, чтобы увеличить вовлеченность пользователей</td>\n",
       "      <td>3</td>\n",
       "      <td>1</td>\n",
       "      <td>1</td>\n",
       "      <td>1</td>\n",
       "    </tr>\n",
       "    <tr>\n",
       "      <th>5</th>\n",
       "      <td>Добавить страницу отзывов клиентов о магазине, что позволит увеличить количество заказов</td>\n",
       "      <td>3</td>\n",
       "      <td>2</td>\n",
       "      <td>2</td>\n",
       "      <td>3</td>\n",
       "    </tr>\n",
       "    <tr>\n",
       "      <th>6</th>\n",
       "      <td>Показать на главной странице баннеры с актуальными акциями и распродажами, чтобы увеличить конверсию</td>\n",
       "      <td>5</td>\n",
       "      <td>3</td>\n",
       "      <td>8</td>\n",
       "      <td>3</td>\n",
       "    </tr>\n",
       "    <tr>\n",
       "      <th>7</th>\n",
       "      <td>Добавить форму подписки на все основные страницы, чтобы собрать базу клиентов для email-рассылок</td>\n",
       "      <td>10</td>\n",
       "      <td>7</td>\n",
       "      <td>8</td>\n",
       "      <td>5</td>\n",
       "    </tr>\n",
       "    <tr>\n",
       "      <th>8</th>\n",
       "      <td>Запустить акцию, дающую скидку на товар в день рождения</td>\n",
       "      <td>1</td>\n",
       "      <td>9</td>\n",
       "      <td>9</td>\n",
       "      <td>5</td>\n",
       "    </tr>\n",
       "  </tbody>\n",
       "</table>\n",
       "</div>"
      ],
      "text/plain": [
       "                                                                                                     hypothesis  \\\n",
       "0            Добавить два новых канала привлечения трафика, что позволит привлекать на 30% больше пользователей   \n",
       "1                                     Запустить собственную службу доставки, что сократит срок доставки заказов   \n",
       "2  Добавить блоки рекомендаций товаров на сайт интернет магазина, чтобы повысить конверсию и средний чек заказа   \n",
       "3           Изменить структура категорий, что увеличит конверсию, т.к. пользователи быстрее найдут нужный товар   \n",
       "4                              Изменить цвет фона главной страницы, чтобы увеличить вовлеченность пользователей   \n",
       "5                      Добавить страницу отзывов клиентов о магазине, что позволит увеличить количество заказов   \n",
       "6          Показать на главной странице баннеры с актуальными акциями и распродажами, чтобы увеличить конверсию   \n",
       "7              Добавить форму подписки на все основные страницы, чтобы собрать базу клиентов для email-рассылок   \n",
       "8                                                       Запустить акцию, дающую скидку на товар в день рождения   \n",
       "\n",
       "   reach  impact  confidence  efforts  \n",
       "0      3      10           8        6  \n",
       "1      2       5           4       10  \n",
       "2      8       3           7        3  \n",
       "3      8       3           3        8  \n",
       "4      3       1           1        1  \n",
       "5      3       2           2        3  \n",
       "6      5       3           8        3  \n",
       "7     10       7           8        5  \n",
       "8      1       9           9        5  "
      ]
     },
     "execution_count": 12,
     "metadata": {},
     "output_type": "execute_result"
    }
   ],
   "source": [
    "pd.set_option('display.max_colwidth', None) \n",
    "data"
   ]
  },
  {
   "cell_type": "markdown",
   "metadata": {},
   "source": [
    "### Фреймворк ICE для приоритизации гипотез"
   ]
  },
  {
   "cell_type": "code",
   "execution_count": 13,
   "metadata": {
    "scrolled": false
   },
   "outputs": [
    {
     "data": {
      "text/html": [
       "<div>\n",
       "<style scoped>\n",
       "    .dataframe tbody tr th:only-of-type {\n",
       "        vertical-align: middle;\n",
       "    }\n",
       "\n",
       "    .dataframe tbody tr th {\n",
       "        vertical-align: top;\n",
       "    }\n",
       "\n",
       "    .dataframe thead th {\n",
       "        text-align: right;\n",
       "    }\n",
       "</style>\n",
       "<table border=\"1\" class=\"dataframe\">\n",
       "  <thead>\n",
       "    <tr style=\"text-align: right;\">\n",
       "      <th></th>\n",
       "      <th>hypothesis</th>\n",
       "      <th>ICE</th>\n",
       "    </tr>\n",
       "  </thead>\n",
       "  <tbody>\n",
       "    <tr>\n",
       "      <th>8</th>\n",
       "      <td>Запустить акцию, дающую скидку на товар в день рождения</td>\n",
       "      <td>16.2</td>\n",
       "    </tr>\n",
       "    <tr>\n",
       "      <th>0</th>\n",
       "      <td>Добавить два новых канала привлечения трафика, что позволит привлекать на 30% больше пользователей</td>\n",
       "      <td>13.3</td>\n",
       "    </tr>\n",
       "    <tr>\n",
       "      <th>7</th>\n",
       "      <td>Добавить форму подписки на все основные страницы, чтобы собрать базу клиентов для email-рассылок</td>\n",
       "      <td>11.2</td>\n",
       "    </tr>\n",
       "    <tr>\n",
       "      <th>6</th>\n",
       "      <td>Показать на главной странице баннеры с актуальными акциями и распродажами, чтобы увеличить конверсию</td>\n",
       "      <td>8.0</td>\n",
       "    </tr>\n",
       "    <tr>\n",
       "      <th>2</th>\n",
       "      <td>Добавить блоки рекомендаций товаров на сайт интернет магазина, чтобы повысить конверсию и средний чек заказа</td>\n",
       "      <td>7.0</td>\n",
       "    </tr>\n",
       "    <tr>\n",
       "      <th>1</th>\n",
       "      <td>Запустить собственную службу доставки, что сократит срок доставки заказов</td>\n",
       "      <td>2.0</td>\n",
       "    </tr>\n",
       "    <tr>\n",
       "      <th>5</th>\n",
       "      <td>Добавить страницу отзывов клиентов о магазине, что позволит увеличить количество заказов</td>\n",
       "      <td>1.3</td>\n",
       "    </tr>\n",
       "    <tr>\n",
       "      <th>3</th>\n",
       "      <td>Изменить структура категорий, что увеличит конверсию, т.к. пользователи быстрее найдут нужный товар</td>\n",
       "      <td>1.1</td>\n",
       "    </tr>\n",
       "    <tr>\n",
       "      <th>4</th>\n",
       "      <td>Изменить цвет фона главной страницы, чтобы увеличить вовлеченность пользователей</td>\n",
       "      <td>1.0</td>\n",
       "    </tr>\n",
       "  </tbody>\n",
       "</table>\n",
       "</div>"
      ],
      "text/plain": [
       "                                                                                                     hypothesis  \\\n",
       "8                                                       Запустить акцию, дающую скидку на товар в день рождения   \n",
       "0            Добавить два новых канала привлечения трафика, что позволит привлекать на 30% больше пользователей   \n",
       "7              Добавить форму подписки на все основные страницы, чтобы собрать базу клиентов для email-рассылок   \n",
       "6          Показать на главной странице баннеры с актуальными акциями и распродажами, чтобы увеличить конверсию   \n",
       "2  Добавить блоки рекомендаций товаров на сайт интернет магазина, чтобы повысить конверсию и средний чек заказа   \n",
       "1                                     Запустить собственную службу доставки, что сократит срок доставки заказов   \n",
       "5                      Добавить страницу отзывов клиентов о магазине, что позволит увеличить количество заказов   \n",
       "3           Изменить структура категорий, что увеличит конверсию, т.к. пользователи быстрее найдут нужный товар   \n",
       "4                              Изменить цвет фона главной страницы, чтобы увеличить вовлеченность пользователей   \n",
       "\n",
       "   ICE  \n",
       "8 16.2  \n",
       "0 13.3  \n",
       "7 11.2  \n",
       "6  8.0  \n",
       "2  7.0  \n",
       "1  2.0  \n",
       "5  1.3  \n",
       "3  1.1  \n",
       "4  1.0  "
      ]
     },
     "metadata": {},
     "output_type": "display_data"
    }
   ],
   "source": [
    "pd.set_option('display.max_colwidth', None) # чтобы текст в ячейке отражался полностью\n",
    "pd.set_option('display.float_format', '{:.1f}'.format) # чтобы все числа отражались с одним знаком после запятой\n",
    "\n",
    "# Посчитаем ICE для гипотез\n",
    "data['ICE'] = (data['impact'] * data['confidence']) / data['efforts']\n",
    "display(data.loc[:,['hypothesis', 'ICE']].sort_values(by='ICE', ascending=False))"
   ]
  },
  {
   "cell_type": "markdown",
   "metadata": {},
   "source": [
    "### Фреймворк RICE для приоритизации гипотез"
   ]
  },
  {
   "cell_type": "code",
   "execution_count": 14,
   "metadata": {
    "scrolled": true
   },
   "outputs": [
    {
     "data": {
      "text/html": [
       "<div>\n",
       "<style scoped>\n",
       "    .dataframe tbody tr th:only-of-type {\n",
       "        vertical-align: middle;\n",
       "    }\n",
       "\n",
       "    .dataframe tbody tr th {\n",
       "        vertical-align: top;\n",
       "    }\n",
       "\n",
       "    .dataframe thead th {\n",
       "        text-align: right;\n",
       "    }\n",
       "</style>\n",
       "<table border=\"1\" class=\"dataframe\">\n",
       "  <thead>\n",
       "    <tr style=\"text-align: right;\">\n",
       "      <th></th>\n",
       "      <th>hypothesis</th>\n",
       "      <th>RICE</th>\n",
       "    </tr>\n",
       "  </thead>\n",
       "  <tbody>\n",
       "    <tr>\n",
       "      <th>7</th>\n",
       "      <td>Добавить форму подписки на все основные страницы, чтобы собрать базу клиентов для email-рассылок</td>\n",
       "      <td>112.0</td>\n",
       "    </tr>\n",
       "    <tr>\n",
       "      <th>2</th>\n",
       "      <td>Добавить блоки рекомендаций товаров на сайт интернет магазина, чтобы повысить конверсию и средний чек заказа</td>\n",
       "      <td>56.0</td>\n",
       "    </tr>\n",
       "    <tr>\n",
       "      <th>0</th>\n",
       "      <td>Добавить два новых канала привлечения трафика, что позволит привлекать на 30% больше пользователей</td>\n",
       "      <td>40.0</td>\n",
       "    </tr>\n",
       "    <tr>\n",
       "      <th>6</th>\n",
       "      <td>Показать на главной странице баннеры с актуальными акциями и распродажами, чтобы увеличить конверсию</td>\n",
       "      <td>40.0</td>\n",
       "    </tr>\n",
       "    <tr>\n",
       "      <th>8</th>\n",
       "      <td>Запустить акцию, дающую скидку на товар в день рождения</td>\n",
       "      <td>16.2</td>\n",
       "    </tr>\n",
       "    <tr>\n",
       "      <th>3</th>\n",
       "      <td>Изменить структура категорий, что увеличит конверсию, т.к. пользователи быстрее найдут нужный товар</td>\n",
       "      <td>9.0</td>\n",
       "    </tr>\n",
       "    <tr>\n",
       "      <th>1</th>\n",
       "      <td>Запустить собственную службу доставки, что сократит срок доставки заказов</td>\n",
       "      <td>4.0</td>\n",
       "    </tr>\n",
       "    <tr>\n",
       "      <th>5</th>\n",
       "      <td>Добавить страницу отзывов клиентов о магазине, что позволит увеличить количество заказов</td>\n",
       "      <td>4.0</td>\n",
       "    </tr>\n",
       "    <tr>\n",
       "      <th>4</th>\n",
       "      <td>Изменить цвет фона главной страницы, чтобы увеличить вовлеченность пользователей</td>\n",
       "      <td>3.0</td>\n",
       "    </tr>\n",
       "  </tbody>\n",
       "</table>\n",
       "</div>"
      ],
      "text/plain": [
       "                                                                                                     hypothesis  \\\n",
       "7              Добавить форму подписки на все основные страницы, чтобы собрать базу клиентов для email-рассылок   \n",
       "2  Добавить блоки рекомендаций товаров на сайт интернет магазина, чтобы повысить конверсию и средний чек заказа   \n",
       "0            Добавить два новых канала привлечения трафика, что позволит привлекать на 30% больше пользователей   \n",
       "6          Показать на главной странице баннеры с актуальными акциями и распродажами, чтобы увеличить конверсию   \n",
       "8                                                       Запустить акцию, дающую скидку на товар в день рождения   \n",
       "3           Изменить структура категорий, что увеличит конверсию, т.к. пользователи быстрее найдут нужный товар   \n",
       "1                                     Запустить собственную службу доставки, что сократит срок доставки заказов   \n",
       "5                      Добавить страницу отзывов клиентов о магазине, что позволит увеличить количество заказов   \n",
       "4                              Изменить цвет фона главной страницы, чтобы увеличить вовлеченность пользователей   \n",
       "\n",
       "   RICE  \n",
       "7 112.0  \n",
       "2  56.0  \n",
       "0  40.0  \n",
       "6  40.0  \n",
       "8  16.2  \n",
       "3   9.0  \n",
       "1   4.0  \n",
       "5   4.0  \n",
       "4   3.0  "
      ]
     },
     "metadata": {},
     "output_type": "display_data"
    }
   ],
   "source": [
    "pd.set_option('display.max_colwidth', None)\n",
    "pd.set_option('display.float_format', '{:.1f}'.format) \n",
    "\n",
    "# Посчитаем RICE для гипотез\n",
    "data['RICE'] = (data['reach'] * data['impact'] * data['confidence']) / data['efforts']\n",
    "display(data.loc[:,['hypothesis', 'RICE']].sort_values(by='RICE', ascending=False))"
   ]
  },
  {
   "cell_type": "code",
   "execution_count": 15,
   "metadata": {},
   "outputs": [
    {
     "data": {
      "image/png": "[encoded data removed]",
      "text/plain": [
       "<Figure size 432x288 with 1 Axes>"
      ]
     },
     "metadata": {
      "needs_background": "light"
     },
     "output_type": "display_data"
    }
   ],
   "source": [
    "# воспользуемся графиком для наглядности\n",
    "y = data['ICE'] \n",
    "z = data['RICE'] \n",
    "n = data.index \n",
    "\n",
    "fig, ax = plt.subplots()\n",
    "ax.scatter(z, y)\n",
    "\n",
    "for i, txt in enumerate(n):\n",
    "    ax.annotate(txt, (z[i], y[i]))\n",
    "\n",
    "plt.title(\"ICE and RICE гипотезы\") \n",
    "plt.xlabel(\"RICE\") \n",
    "plt.ylabel(\"ICE\");"
   ]
  },
  {
   "cell_type": "markdown",
   "metadata": {},
   "source": [
    "### Вывод"
   ]
  },
  {
   "cell_type": "markdown",
   "metadata": {},
   "source": [
    "* По итогам ICE первое место заняла гипотеза о запуске акции, дающую скидку на товар в день рождения.\n",
    "* Однако, по итогам RICE первое место занимает гипотеза о добавлении формы подписки на все основные страницы, чтобы собрать базу клиентов для email-рассылок.\n",
    "* Приоритизация гипотез изменилась потому что в анализе RICE добавился параметр Reach и у гипотезы о добавлении формы подписки он равен 10, в то время как у других гипотез он меньше (например, у гипотезы \"запустить акцию, дающую скидку на товар в день рождения\" действительно будет очень маленький охват, поэтому показатель Reach равен 1), соответственно образовался такой сильный отрыв.\n",
    "***\n",
    "\n",
    "По итогам приоритизации гипотез логичным будет присудить **первое место** и проверять гипотезу, которая звучит как **\"Добавить форму подписки на все основные страницы, чтобы собрать базу клиентов для email-рассылок\"**. "
   ]
  },
  {
   "cell_type": "markdown",
   "metadata": {},
   "source": [
    "## Исследовательский анализ данных Часть 2. Анализ A/B-теста"
   ]
  },
  {
   "cell_type": "markdown",
   "metadata": {},
   "source": [
    "Провели A/B-тест и получили результаты, которые описаны в файлах orders.csv и visitors.csv."
   ]
  },
  {
   "cell_type": "code",
   "execution_count": 16,
   "metadata": {},
   "outputs": [
    {
     "data": {
      "text/html": [
       "<div>\n",
       "<style scoped>\n",
       "    .dataframe tbody tr th:only-of-type {\n",
       "        vertical-align: middle;\n",
       "    }\n",
       "\n",
       "    .dataframe tbody tr th {\n",
       "        vertical-align: top;\n",
       "    }\n",
       "\n",
       "    .dataframe thead th {\n",
       "        text-align: right;\n",
       "    }\n",
       "</style>\n",
       "<table border=\"1\" class=\"dataframe\">\n",
       "  <thead>\n",
       "    <tr style=\"text-align: right;\">\n",
       "      <th></th>\n",
       "      <th>transaction_id</th>\n",
       "      <th>visitor_id</th>\n",
       "      <th>date</th>\n",
       "      <th>revenue</th>\n",
       "      <th>group</th>\n",
       "    </tr>\n",
       "  </thead>\n",
       "  <tbody>\n",
       "    <tr>\n",
       "      <th>0</th>\n",
       "      <td>3667963787</td>\n",
       "      <td>3312258926</td>\n",
       "      <td>2019-08-15</td>\n",
       "      <td>1650</td>\n",
       "      <td>B</td>\n",
       "    </tr>\n",
       "    <tr>\n",
       "      <th>1</th>\n",
       "      <td>2804400009</td>\n",
       "      <td>3642806036</td>\n",
       "      <td>2019-08-15</td>\n",
       "      <td>730</td>\n",
       "      <td>B</td>\n",
       "    </tr>\n",
       "  </tbody>\n",
       "</table>\n",
       "</div>"
      ],
      "text/plain": [
       "   transaction_id  visitor_id       date  revenue group\n",
       "0      3667963787  3312258926 2019-08-15     1650     B\n",
       "1      2804400009  3642806036 2019-08-15      730     B"
      ]
     },
     "execution_count": 16,
     "metadata": {},
     "output_type": "execute_result"
    }
   ],
   "source": [
    "orders.head(2)"
   ]
  },
  {
   "cell_type": "code",
   "execution_count": 17,
   "metadata": {},
   "outputs": [
    {
     "data": {
      "text/html": [
       "<div>\n",
       "<style scoped>\n",
       "    .dataframe tbody tr th:only-of-type {\n",
       "        vertical-align: middle;\n",
       "    }\n",
       "\n",
       "    .dataframe tbody tr th {\n",
       "        vertical-align: top;\n",
       "    }\n",
       "\n",
       "    .dataframe thead th {\n",
       "        text-align: right;\n",
       "    }\n",
       "</style>\n",
       "<table border=\"1\" class=\"dataframe\">\n",
       "  <thead>\n",
       "    <tr style=\"text-align: right;\">\n",
       "      <th></th>\n",
       "      <th>date</th>\n",
       "      <th>group</th>\n",
       "      <th>visitors</th>\n",
       "    </tr>\n",
       "  </thead>\n",
       "  <tbody>\n",
       "    <tr>\n",
       "      <th>0</th>\n",
       "      <td>2019-08-01</td>\n",
       "      <td>A</td>\n",
       "      <td>719</td>\n",
       "    </tr>\n",
       "    <tr>\n",
       "      <th>1</th>\n",
       "      <td>2019-08-02</td>\n",
       "      <td>A</td>\n",
       "      <td>619</td>\n",
       "    </tr>\n",
       "  </tbody>\n",
       "</table>\n",
       "</div>"
      ],
      "text/plain": [
       "        date group  visitors\n",
       "0 2019-08-01     A       719\n",
       "1 2019-08-02     A       619"
      ]
     },
     "execution_count": 17,
     "metadata": {},
     "output_type": "execute_result"
    }
   ],
   "source": [
    "visitors.head(2)"
   ]
  },
  {
   "cell_type": "markdown",
   "metadata": {},
   "source": [
    "Проверим совпадают ли начальные и конечные даты в таблицах orders и visitors:"
   ]
  },
  {
   "cell_type": "code",
   "execution_count": 18,
   "metadata": {
    "scrolled": true
   },
   "outputs": [
    {
     "name": "stdout",
     "output_type": "stream",
     "text": [
      "True\n",
      "True\n"
     ]
    }
   ],
   "source": [
    "print(orders['date'].min() == visitors['date'].min())\n",
    "print(orders['date'].max() == visitors['date'].max())"
   ]
  },
  {
   "cell_type": "markdown",
   "metadata": {},
   "source": [
    "Всё совпадает, можем двигаться дальше."
   ]
  },
  {
   "cell_type": "code",
   "execution_count": 19,
   "metadata": {
    "scrolled": true
   },
   "outputs": [
    {
     "data": {
      "text/html": [
       "<div>\n",
       "<style scoped>\n",
       "    .dataframe tbody tr th:only-of-type {\n",
       "        vertical-align: middle;\n",
       "    }\n",
       "\n",
       "    .dataframe tbody tr th {\n",
       "        vertical-align: top;\n",
       "    }\n",
       "\n",
       "    .dataframe thead th {\n",
       "        text-align: right;\n",
       "    }\n",
       "</style>\n",
       "<table border=\"1\" class=\"dataframe\">\n",
       "  <thead>\n",
       "    <tr style=\"text-align: right;\">\n",
       "      <th></th>\n",
       "      <th>date</th>\n",
       "      <th>group</th>\n",
       "      <th>orders</th>\n",
       "      <th>buyers</th>\n",
       "      <th>revenue</th>\n",
       "      <th>visitors</th>\n",
       "    </tr>\n",
       "  </thead>\n",
       "  <tbody>\n",
       "    <tr>\n",
       "      <th>0</th>\n",
       "      <td>2019-08-01</td>\n",
       "      <td>A</td>\n",
       "      <td>24</td>\n",
       "      <td>20</td>\n",
       "      <td>148579</td>\n",
       "      <td>719</td>\n",
       "    </tr>\n",
       "    <tr>\n",
       "      <th>1</th>\n",
       "      <td>2019-08-01</td>\n",
       "      <td>B</td>\n",
       "      <td>21</td>\n",
       "      <td>20</td>\n",
       "      <td>101217</td>\n",
       "      <td>713</td>\n",
       "    </tr>\n",
       "    <tr>\n",
       "      <th>2</th>\n",
       "      <td>2019-08-02</td>\n",
       "      <td>A</td>\n",
       "      <td>44</td>\n",
       "      <td>38</td>\n",
       "      <td>242401</td>\n",
       "      <td>1338</td>\n",
       "    </tr>\n",
       "    <tr>\n",
       "      <th>3</th>\n",
       "      <td>2019-08-02</td>\n",
       "      <td>B</td>\n",
       "      <td>45</td>\n",
       "      <td>43</td>\n",
       "      <td>266748</td>\n",
       "      <td>1294</td>\n",
       "    </tr>\n",
       "    <tr>\n",
       "      <th>4</th>\n",
       "      <td>2019-08-03</td>\n",
       "      <td>A</td>\n",
       "      <td>68</td>\n",
       "      <td>62</td>\n",
       "      <td>354874</td>\n",
       "      <td>1845</td>\n",
       "    </tr>\n",
       "  </tbody>\n",
       "</table>\n",
       "</div>"
      ],
      "text/plain": [
       "        date group  orders  buyers  revenue  visitors\n",
       "0 2019-08-01     A      24      20   148579       719\n",
       "1 2019-08-01     B      21      20   101217       713\n",
       "2 2019-08-02     A      44      38   242401      1338\n",
       "3 2019-08-02     B      45      43   266748      1294\n",
       "4 2019-08-03     A      68      62   354874      1845"
      ]
     },
     "metadata": {},
     "output_type": "display_data"
    }
   ],
   "source": [
    "# создаем массив уникальных пар значений дат и групп теста\n",
    "dates_groups = orders[['date','group']].drop_duplicates() \n",
    "\n",
    "# получаем агрегированные кумулятивные по дням данные о заказах \n",
    "orders_aggregated = dates_groups.apply(lambda x: orders[np.logical_and(orders['date'] <= x['date'],\n",
    "                                                                       orders['group'] == x['group'])]\n",
    "                                       .agg({'date' : 'max', \n",
    "                                             'group' : 'max', \n",
    "                                             'transaction_id' : 'nunique', \n",
    "                                             'visitor_id' : 'nunique', \n",
    "                                             'revenue' : 'sum'}), axis=1).sort_values(by=['date','group'])\n",
    "\n",
    "# получаем агрегированные кумулятивные по дням данные о посетителях интернет-магазина \n",
    "visitors_aggregated = dates_groups.apply(lambda x: visitors[np.logical_and(visitors['date'] <= x['date'],\n",
    "                                                                           visitors['group'] == x['group'])]\n",
    "                                         .agg({'date' : 'max',\n",
    "                                               'group' : 'max',\n",
    "                                               'visitors' : 'sum'}), axis=1).sort_values(by=['date','group'])\n",
    "\n",
    "# объединяем кумулятивные данные в одной таблице и присваиваем ее столбцам понятные названия\n",
    "cumulative_data = orders_aggregated.merge(visitors_aggregated,\n",
    "                                          left_on=['date', 'group'],\n",
    "                                          right_on=['date', 'group'])\n",
    "\n",
    "cumulative_data.columns = ['date', 'group', 'orders', 'buyers', 'revenue', 'visitors']\n",
    "\n",
    "display(cumulative_data.head()) "
   ]
  },
  {
   "cell_type": "markdown",
   "metadata": {},
   "source": [
    "### График кумулятивной выручки по дням и группам A/B-тестирования"
   ]
  },
  {
   "cell_type": "code",
   "execution_count": 20,
   "metadata": {},
   "outputs": [
    {
     "data": {
      "image/png": "[encoded data removed]",
      "text/plain": [
       "<Figure size 864x360 with 1 Axes>"
      ]
     },
     "metadata": {
      "needs_background": "light"
     },
     "output_type": "display_data"
    }
   ],
   "source": [
    "# датафрейм с кумулятивным количеством заказов и кумулятивной выручкой по дням в группе А\n",
    "cumulative_revenue_a = cumulative_data[cumulative_data['group']=='A'][['date','revenue', 'orders']]\n",
    "\n",
    "# датафрейм с кумулятивным количеством заказов и кумулятивной выручкой по дням в группе B\n",
    "cumulative_revenue_b = cumulative_data[cumulative_data['group']=='B'][['date','revenue', 'orders']]\n",
    "\n",
    "plt.figure(figsize=(12,5))\n",
    "\n",
    "# Строим график выручки группы А\n",
    "plt.plot(cumulative_revenue_a['date'], cumulative_revenue_a['revenue'], label='A')\n",
    "\n",
    "# Строим график выручки группы B\n",
    "plt.plot(cumulative_revenue_b['date'], cumulative_revenue_b['revenue'], label='B')\n",
    "\n",
    "plt.ylabel('Выручка')\n",
    "plt.xlabel('Дата')\n",
    "plt.title('График кумулятивной выручки по дням')\n",
    "plt.legend() \n",
    "plt.show()"
   ]
  },
  {
   "cell_type": "markdown",
   "metadata": {},
   "source": [
    "Показатели  кумулятивной выручки имеют одинаковое начало, но на протяжении всего теста сегмент B лидировал над А. Наблюдается резкий скачок в группе В, что может быть связано с аномальными значениями выручки."
   ]
  },
  {
   "cell_type": "markdown",
   "metadata": {},
   "source": [
    "### График кумулятивного среднего чека по группам"
   ]
  },
  {
   "cell_type": "code",
   "execution_count": 21,
   "metadata": {
    "scrolled": true
   },
   "outputs": [
    {
     "data": {
      "image/png": "[encoded data removed]",
      "text/plain": [
       "<Figure size 864x360 with 1 Axes>"
      ]
     },
     "metadata": {
      "needs_background": "light"
     },
     "output_type": "display_data"
    }
   ],
   "source": [
    "# Построим графики среднего чека по группам — разделим кумулятивную выручку на кумулятивное число заказов:\n",
    "plt.figure(figsize=(12,5))\n",
    "plt.plot(cumulative_revenue_a['date'], cumulative_revenue_a['revenue']/cumulative_revenue_a['orders'], label='A')\n",
    "plt.plot(cumulative_revenue_b['date'], cumulative_revenue_b['revenue']/cumulative_revenue_b['orders'], label='B')\n",
    "plt.ylabel('Размер среднего чека')\n",
    "plt.xlabel('Дата')\n",
    "plt.title('График кумулятивного среднего чека по дням')\n",
    "plt.legend() \n",
    "plt.show()"
   ]
  },
  {
   "cell_type": "markdown",
   "metadata": {},
   "source": [
    "* средний чек колебался в начале теста и 13 агуста преобладала группа А, в остальное время лидировала группа В;\n",
    "* чек выравнивается к концу для обеих групп;\n",
    "* имеет резкий скачок 18-19 августа, возможно, в группу B в это время попали крупные заказы. Необходим дополнительный анализ выбросов, которые могли сильно исказить результаты."
   ]
  },
  {
   "cell_type": "markdown",
   "metadata": {},
   "source": [
    "### График относительного изменения кумулятивного среднего чека группы B к группе A."
   ]
  },
  {
   "cell_type": "code",
   "execution_count": 22,
   "metadata": {},
   "outputs": [
    {
     "data": {
      "image/png": "[encoded data removed]",
      "text/plain": [
       "<Figure size 864x360 with 1 Axes>"
      ]
     },
     "metadata": {
      "needs_background": "light"
     },
     "output_type": "display_data"
    }
   ],
   "source": [
    "# собираем данные в одном датафрейме\n",
    "merged_cumulative_revenue = cumulative_revenue_a.merge(cumulative_revenue_b,\n",
    "                                                       left_on='date',\n",
    "                                                       right_on='date',\n",
    "                                                       how='left',\n",
    "                                                       suffixes=['A', 'B'])\n",
    "\n",
    "# cтроим отношение средних чеков\n",
    "plt.figure(figsize=(12,5))\n",
    "plt.plot(merged_cumulative_revenue['date'],\n",
    "         (merged_cumulative_revenue['revenueB']/merged_cumulative_revenue['ordersB'])/(merged_cumulative_revenue['revenueA']/merged_cumulative_revenue['ordersA'])-1)\n",
    "\n",
    "# добавляем ось X\n",
    "plt.axhline(y=0, color='black', linestyle='--')\n",
    "\n",
    "plt.ylabel('относительный размер среднего чека')\n",
    "plt.xlabel('Дата')\n",
    "plt.title('График относительного изменения кумулятивного среднего чека группы B к группе A')\n",
    "plt.show()"
   ]
  },
  {
   "cell_type": "markdown",
   "metadata": {},
   "source": [
    "* Результаты теста значительно и резко менялись в несколько дат, опять же 13 и 18-19 августа заметны скачки. \n",
    "* По графику видно по большей части преобладание среднего чека группы В над А."
   ]
  },
  {
   "cell_type": "markdown",
   "metadata": {},
   "source": [
    "### График кумулятивной конверсии по группам"
   ]
  },
  {
   "cell_type": "code",
   "execution_count": 23,
   "metadata": {},
   "outputs": [
    {
     "data": {
      "image/png": "[encoded data removed]",
      "text/plain": [
       "<Figure size 864x360 with 1 Axes>"
      ]
     },
     "metadata": {
      "needs_background": "light"
     },
     "output_type": "display_data"
    }
   ],
   "source": [
    "# считаем кумулятивную конверсию\n",
    "cumulative_data['conversion'] = cumulative_data['orders']/cumulative_data['visitors']\n",
    "# отделяем данные по группе A\n",
    "cumulative_data_a = cumulative_data[cumulative_data['group']=='A']\n",
    "# отделяем данные по группе B\n",
    "cumulative_data_b = cumulative_data[cumulative_data['group']=='B']\n",
    "# строим графики\n",
    "plt.figure(figsize=(12,5))\n",
    "plt.plot(cumulative_data_a['date'], cumulative_data_a['conversion'], label='A')\n",
    "plt.plot(cumulative_data_b['date'], cumulative_data_b['conversion'], label='B')\n",
    "plt.xlabel('Дата')\n",
    "plt.title('График кумулятивной конверсии по группам')\n",
    "plt.legend()\n",
    "# задаем масштаб осей\n",
    "\n",
    "plt.axis([dt.datetime(2019, 8, 1), dt.datetime(2019, 8, 31), 0, 0.05])\n",
    "plt.show()"
   ]
  },
  {
   "cell_type": "markdown",
   "metadata": {},
   "source": [
    "На графике заметно, что в начале теста (6-7 августа) кумулятивная конверсия группы В заняла лидирующую позицию над группой А и зафиксировала своё положение, линии занимают параллельное положение.Конверсия В стабильно выше А."
   ]
  },
  {
   "cell_type": "markdown",
   "metadata": {},
   "source": [
    "### График относительного изменения кумулятивной конверсии группы B к группе A"
   ]
  },
  {
   "cell_type": "code",
   "execution_count": 24,
   "metadata": {},
   "outputs": [
    {
     "data": {
      "image/png": "[encoded data removed]",
      "text/plain": [
       "<Figure size 864x360 with 1 Axes>"
      ]
     },
     "metadata": {
      "needs_background": "light"
     },
     "output_type": "display_data"
    }
   ],
   "source": [
    "merged_cumulative_conversions = cumulative_data_a[['date','conversion']].merge(cumulative_data_b[['date','conversion']],\n",
    "                                                                               left_on='date',\n",
    "                                                                               right_on='date',\n",
    "                                                                               how='left',\n",
    "                                                                               suffixes=['A', 'B'])\n",
    "\n",
    "plt.figure(figsize=(12,5))\n",
    "plt.plot(merged_cumulative_conversions['date'], merged_cumulative_conversions['conversionB']/merged_cumulative_conversions['conversionA']-1)\n",
    "\n",
    "plt.axhline(y=0, color='black', linestyle='--')\n",
    "plt.axhline(y=-0.1, color='grey', linestyle='--')\n",
    "plt.axis([dt.datetime(2019, 8, 1), dt.datetime(2019, 8, 31),-0.2, 0.3])\n",
    "plt.ylabel('Относительный прирост конверсии')\n",
    "plt.xlabel('Дата')\n",
    "plt.title('Относительный прирост конверсии группы B относительно группы A')\n",
    "plt.show()"
   ]
  },
  {
   "cell_type": "markdown",
   "metadata": {},
   "source": [
    "В начале теста группа B проигрывала группе A, затем  6-7 августа конверсия группы В увеличилась и до конца теста преобладала над группой А."
   ]
  },
  {
   "cell_type": "markdown",
   "metadata": {},
   "source": [
    "### Точечный график количества заказов по пользователям"
   ]
  },
  {
   "cell_type": "markdown",
   "metadata": {},
   "source": [
    "Так как пользователи, совершившие много заказов, влияют на конверсию, определим количество заказов по пользователям:"
   ]
  },
  {
   "cell_type": "code",
   "execution_count": 25,
   "metadata": {},
   "outputs": [
    {
     "data": {
      "text/html": [
       "<div>\n",
       "<style scoped>\n",
       "    .dataframe tbody tr th:only-of-type {\n",
       "        vertical-align: middle;\n",
       "    }\n",
       "\n",
       "    .dataframe tbody tr th {\n",
       "        vertical-align: top;\n",
       "    }\n",
       "\n",
       "    .dataframe thead th {\n",
       "        text-align: right;\n",
       "    }\n",
       "</style>\n",
       "<table border=\"1\" class=\"dataframe\">\n",
       "  <thead>\n",
       "    <tr style=\"text-align: right;\">\n",
       "      <th></th>\n",
       "      <th>visitor_id</th>\n",
       "      <th>orders</th>\n",
       "    </tr>\n",
       "  </thead>\n",
       "  <tbody>\n",
       "    <tr>\n",
       "      <th>1023</th>\n",
       "      <td>4256040402</td>\n",
       "      <td>11</td>\n",
       "    </tr>\n",
       "    <tr>\n",
       "      <th>591</th>\n",
       "      <td>2458001652</td>\n",
       "      <td>11</td>\n",
       "    </tr>\n",
       "    <tr>\n",
       "      <th>569</th>\n",
       "      <td>2378935119</td>\n",
       "      <td>9</td>\n",
       "    </tr>\n",
       "    <tr>\n",
       "      <th>487</th>\n",
       "      <td>2038680547</td>\n",
       "      <td>8</td>\n",
       "    </tr>\n",
       "    <tr>\n",
       "      <th>44</th>\n",
       "      <td>199603092</td>\n",
       "      <td>5</td>\n",
       "    </tr>\n",
       "    <tr>\n",
       "      <th>744</th>\n",
       "      <td>3062433592</td>\n",
       "      <td>5</td>\n",
       "    </tr>\n",
       "    <tr>\n",
       "      <th>55</th>\n",
       "      <td>237748145</td>\n",
       "      <td>5</td>\n",
       "    </tr>\n",
       "    <tr>\n",
       "      <th>917</th>\n",
       "      <td>3803269165</td>\n",
       "      <td>5</td>\n",
       "    </tr>\n",
       "    <tr>\n",
       "      <th>299</th>\n",
       "      <td>1230306981</td>\n",
       "      <td>5</td>\n",
       "    </tr>\n",
       "    <tr>\n",
       "      <th>897</th>\n",
       "      <td>3717692402</td>\n",
       "      <td>5</td>\n",
       "    </tr>\n",
       "  </tbody>\n",
       "</table>\n",
       "</div>"
      ],
      "text/plain": [
       "      visitor_id  orders\n",
       "1023  4256040402      11\n",
       "591   2458001652      11\n",
       "569   2378935119       9\n",
       "487   2038680547       8\n",
       "44     199603092       5\n",
       "744   3062433592       5\n",
       "55     237748145       5\n",
       "917   3803269165       5\n",
       "299   1230306981       5\n",
       "897   3717692402       5"
      ]
     },
     "metadata": {},
     "output_type": "display_data"
    }
   ],
   "source": [
    "orders_users = (\n",
    "    orders.groupby('visitor_id', as_index=False)\n",
    "    .agg({'transaction_id': 'nunique'})\n",
    ")\n",
    "orders_users.columns = ['visitor_id', 'orders']\n",
    "display(orders_users.sort_values(by='orders', ascending=False).head(10)) "
   ]
  },
  {
   "cell_type": "code",
   "execution_count": 26,
   "metadata": {},
   "outputs": [
    {
     "data": {
      "image/png": "[encoded data removed]",
      "text/plain": [
       "<Figure size 864x360 with 1 Axes>"
      ]
     },
     "metadata": {
      "needs_background": "light"
     },
     "output_type": "display_data"
    }
   ],
   "source": [
    "plt.figure(figsize=(12,5))\n",
    "x_values = pd.Series(range(0,len(orders_users)))\n",
    "plt.scatter(x_values, orders_users['orders']) \n",
    "plt.ylabel('Количество заказов')\n",
    "plt.xlabel('Номер пользователя')\n",
    "plt.title('График количества заказов по пользователям')\n",
    "plt.show()"
   ]
  },
  {
   "cell_type": "markdown",
   "metadata": {},
   "source": [
    "Больше всего пользователей с 1-2 заказами. \n",
    "Посчитаем выборочные перцентили количества заказов на одного пользователя:"
   ]
  },
  {
   "cell_type": "code",
   "execution_count": 27,
   "metadata": {},
   "outputs": [
    {
     "name": "stdout",
     "output_type": "stream",
     "text": [
      "[1. 2. 4.]\n"
     ]
    }
   ],
   "source": [
    "print(np.percentile(orders_users['orders'], [90, 95, 99])) "
   ]
  },
  {
   "cell_type": "markdown",
   "metadata": {},
   "source": [
    "Не более 1% пользователей оформляли больше чем 4 заказа. И 5% пользователей заказывали более двух раз.\n",
    "\n",
    "Разумно выбрать 2 заказа на одного пользователя за нижнюю границу нормального числа заказов, и отсеять аномальных пользователей по ней, потому что тех, кто совершил больше заказов действительно очень мало."
   ]
  },
  {
   "cell_type": "markdown",
   "metadata": {},
   "source": [
    "### Точечный график стоимостей заказов"
   ]
  },
  {
   "cell_type": "markdown",
   "metadata": {},
   "source": [
    "Изучим график распределения стоимостей заказов:"
   ]
  },
  {
   "cell_type": "code",
   "execution_count": 28,
   "metadata": {
    "scrolled": true
   },
   "outputs": [
    {
     "data": {
      "image/png": "[encoded data removed]",
      "text/plain": [
       "<Figure size 864x360 with 1 Axes>"
      ]
     },
     "metadata": {
      "needs_background": "light"
     },
     "output_type": "display_data"
    }
   ],
   "source": [
    "plt.figure(figsize=(12,5))\n",
    "x_values = pd.Series(range(0,len(orders['revenue'])))\n",
    "plt.scatter(x_values, orders['revenue']) \n",
    "plt.ylabel('Стоимость заказа')\n",
    "plt.xlabel('Номер заказа')\n",
    "plt.title('График стоимостей заказов')\n",
    "plt.show()"
   ]
  },
  {
   "cell_type": "markdown",
   "metadata": {},
   "source": [
    "На графике имеются выбивающиеся значения, которые являются аномально большими заказами (например на 1,3 млн), поэтому построим более приближенную версию графика, чтобы лучше рассмотреть, в каком диапозоне находятся заказы."
   ]
  },
  {
   "cell_type": "code",
   "execution_count": 29,
   "metadata": {},
   "outputs": [
    {
     "data": {
      "image/png": "[encoded data removed]",
      "text/plain": [
       "<Figure size 864x360 with 1 Axes>"
      ]
     },
     "metadata": {
      "needs_background": "light"
     },
     "output_type": "display_data"
    }
   ],
   "source": [
    "plt.figure(figsize=(12,5))\n",
    "x_values = pd.Series(range(0,len(orders['revenue'])))\n",
    "plt.scatter(x_values, orders['revenue'])\n",
    "plt.ylabel('Стоимость заказа')\n",
    "plt.xlabel('Номер заказа')\n",
    "plt.title('График стоимостей заказов (до 120 тыс.)')\n",
    "plt.ylim(0, 120000)\n",
    "plt.show()"
   ]
  },
  {
   "cell_type": "markdown",
   "metadata": {},
   "source": [
    "На графике видно, что большая часть заказов до 20тыс. Определим 90, 95 и 99 перцентили стоимости заказов:"
   ]
  },
  {
   "cell_type": "code",
   "execution_count": 30,
   "metadata": {},
   "outputs": [
    {
     "name": "stdout",
     "output_type": "stream",
     "text": [
      "[18168.  28000.  58233.2]\n"
     ]
    }
   ],
   "source": [
    "print(np.percentile(orders['revenue'], [90, 95, 99])) "
   ]
  },
  {
   "cell_type": "markdown",
   "metadata": {},
   "source": [
    "Для определения аномальных заказов мы отсеим 1% пользователей с заказми выше 58 233, так как это ограничение позволит нам избавиться от явных аномалий в заказах."
   ]
  },
  {
   "cell_type": "markdown",
   "metadata": {},
   "source": [
    "### Статистическая значимость различий в конверсии между группами по «сырым» данным"
   ]
  },
  {
   "cell_type": "markdown",
   "metadata": {},
   "source": [
    "Посчитаем статистическую значимость различий в конверсии и среднем чеке между группами. Подготавливаем данные:"
   ]
  },
  {
   "cell_type": "code",
   "execution_count": 31,
   "metadata": {},
   "outputs": [
    {
     "data": {
      "text/html": [
       "<div>\n",
       "<style scoped>\n",
       "    .dataframe tbody tr th:only-of-type {\n",
       "        vertical-align: middle;\n",
       "    }\n",
       "\n",
       "    .dataframe tbody tr th {\n",
       "        vertical-align: top;\n",
       "    }\n",
       "\n",
       "    .dataframe thead th {\n",
       "        text-align: right;\n",
       "    }\n",
       "</style>\n",
       "<table border=\"1\" class=\"dataframe\">\n",
       "  <thead>\n",
       "    <tr style=\"text-align: right;\">\n",
       "      <th></th>\n",
       "      <th>date</th>\n",
       "      <th>ordersPerDateA</th>\n",
       "      <th>revenuePerDateA</th>\n",
       "      <th>ordersPerDateB</th>\n",
       "      <th>revenuePerDateB</th>\n",
       "      <th>ordersCummulativeA</th>\n",
       "      <th>revenueCummulativeA</th>\n",
       "      <th>ordersCummulativeB</th>\n",
       "      <th>revenueCummulativeB</th>\n",
       "      <th>visitorsPerDateA</th>\n",
       "      <th>visitorsPerDateB</th>\n",
       "      <th>visitorsCummulativeA</th>\n",
       "      <th>visitorsCummulativeB</th>\n",
       "    </tr>\n",
       "  </thead>\n",
       "  <tbody>\n",
       "    <tr>\n",
       "      <th>0</th>\n",
       "      <td>2019-08-01</td>\n",
       "      <td>24</td>\n",
       "      <td>148579</td>\n",
       "      <td>21</td>\n",
       "      <td>101217</td>\n",
       "      <td>24</td>\n",
       "      <td>148579</td>\n",
       "      <td>21</td>\n",
       "      <td>101217</td>\n",
       "      <td>719</td>\n",
       "      <td>713</td>\n",
       "      <td>719</td>\n",
       "      <td>713</td>\n",
       "    </tr>\n",
       "    <tr>\n",
       "      <th>1</th>\n",
       "      <td>2019-08-02</td>\n",
       "      <td>20</td>\n",
       "      <td>93822</td>\n",
       "      <td>24</td>\n",
       "      <td>165531</td>\n",
       "      <td>44</td>\n",
       "      <td>242401</td>\n",
       "      <td>45</td>\n",
       "      <td>266748</td>\n",
       "      <td>619</td>\n",
       "      <td>581</td>\n",
       "      <td>1338</td>\n",
       "      <td>1294</td>\n",
       "    </tr>\n",
       "    <tr>\n",
       "      <th>2</th>\n",
       "      <td>2019-08-03</td>\n",
       "      <td>24</td>\n",
       "      <td>112473</td>\n",
       "      <td>16</td>\n",
       "      <td>114248</td>\n",
       "      <td>68</td>\n",
       "      <td>354874</td>\n",
       "      <td>61</td>\n",
       "      <td>380996</td>\n",
       "      <td>507</td>\n",
       "      <td>509</td>\n",
       "      <td>1845</td>\n",
       "      <td>1803</td>\n",
       "    </tr>\n",
       "    <tr>\n",
       "      <th>3</th>\n",
       "      <td>2019-08-04</td>\n",
       "      <td>16</td>\n",
       "      <td>70825</td>\n",
       "      <td>17</td>\n",
       "      <td>108571</td>\n",
       "      <td>84</td>\n",
       "      <td>425699</td>\n",
       "      <td>78</td>\n",
       "      <td>489567</td>\n",
       "      <td>717</td>\n",
       "      <td>770</td>\n",
       "      <td>2562</td>\n",
       "      <td>2573</td>\n",
       "    </tr>\n",
       "    <tr>\n",
       "      <th>4</th>\n",
       "      <td>2019-08-05</td>\n",
       "      <td>25</td>\n",
       "      <td>124218</td>\n",
       "      <td>23</td>\n",
       "      <td>92428</td>\n",
       "      <td>109</td>\n",
       "      <td>549917</td>\n",
       "      <td>101</td>\n",
       "      <td>581995</td>\n",
       "      <td>756</td>\n",
       "      <td>707</td>\n",
       "      <td>3318</td>\n",
       "      <td>3280</td>\n",
       "    </tr>\n",
       "  </tbody>\n",
       "</table>\n",
       "</div>"
      ],
      "text/plain": [
       "        date  ordersPerDateA  revenuePerDateA  ordersPerDateB  \\\n",
       "0 2019-08-01              24           148579              21   \n",
       "1 2019-08-02              20            93822              24   \n",
       "2 2019-08-03              24           112473              16   \n",
       "3 2019-08-04              16            70825              17   \n",
       "4 2019-08-05              25           124218              23   \n",
       "\n",
       "   revenuePerDateB  ordersCummulativeA  revenueCummulativeA  \\\n",
       "0           101217                  24               148579   \n",
       "1           165531                  44               242401   \n",
       "2           114248                  68               354874   \n",
       "3           108571                  84               425699   \n",
       "4            92428                 109               549917   \n",
       "\n",
       "   ordersCummulativeB  revenueCummulativeB  visitorsPerDateA  \\\n",
       "0                  21               101217               719   \n",
       "1                  45               266748               619   \n",
       "2                  61               380996               507   \n",
       "3                  78               489567               717   \n",
       "4                 101               581995               756   \n",
       "\n",
       "   visitorsPerDateB  visitorsCummulativeA  visitorsCummulativeB  \n",
       "0               713                   719                   713  \n",
       "1               581                  1338                  1294  \n",
       "2               509                  1845                  1803  \n",
       "3               770                  2562                  2573  \n",
       "4               707                  3318                  3280  "
      ]
     },
     "metadata": {},
     "output_type": "display_data"
    }
   ],
   "source": [
    "visitors_a_daily = visitors[visitors['group'] == 'A'][['date', 'visitors']]\n",
    "visitors_a_daily.columns = ['date', 'visitorsPerDateA']\n",
    "visitors_a_cummulative = visitors_a_daily.apply(\n",
    "    lambda x: visitors_a_daily[visitors_a_daily['date'] <= x['date']].agg(\n",
    "        {'date': 'max', 'visitorsPerDateA': 'sum'}\n",
    "    ),\n",
    "    axis=1,\n",
    ")\n",
    "visitors_a_cummulative.columns = ['date', 'visitorsCummulativeA']\n",
    "visitors_b_daily = visitors[visitors['group'] == 'B'][['date', 'visitors']]\n",
    "visitors_b_daily.columns = ['date', 'visitorsPerDateB']\n",
    "visitors_b_cummulative = visitors_b_daily.apply(\n",
    "    lambda x: visitors_b_daily[visitors_b_daily['date'] <= x['date']].agg(\n",
    "        {'date': 'max', 'visitorsPerDateB': 'sum'}\n",
    "    ),\n",
    "    axis=1,\n",
    ")\n",
    "visitors_b_cummulative.columns = ['date', 'visitorsCummulativeB']\n",
    "orders_a_daily = (\n",
    "    orders[orders['group'] == 'A'][['date', 'transaction_id', 'visitor_id', 'revenue']]\n",
    "    .groupby('date', as_index=False)\n",
    "    .agg({'transaction_id': pd.Series.nunique, 'revenue': 'sum'})\n",
    ")\n",
    "orders_a_daily.columns = ['date', 'ordersPerDateA', 'revenuePerDateA']\n",
    "orders_a_cummulative = orders_a_daily.apply(\n",
    "    lambda x: orders_a_daily[orders_a_daily['date'] <= x['date']].agg(\n",
    "        {'date': 'max', 'ordersPerDateA': 'sum', 'revenuePerDateA': 'sum'}\n",
    "    ),\n",
    "    axis=1,\n",
    ").sort_values(by=['date'])\n",
    "orders_a_cummulative.columns = [\n",
    "    'date',\n",
    "    'ordersCummulativeA',\n",
    "    'revenueCummulativeA',\n",
    "]\n",
    "orders_b_daily = (\n",
    "    orders[orders['group'] == 'B'][['date', 'transaction_id', 'visitor_id', 'revenue']]\n",
    "    .groupby('date', as_index=False)\n",
    "    .agg({'transaction_id': pd.Series.nunique, 'revenue': 'sum'})\n",
    ")\n",
    "orders_b_daily.columns = ['date', 'ordersPerDateB', 'revenuePerDateB']\n",
    "orders_b_cummulative = orders_b_daily.apply(\n",
    "    lambda x: orders_b_daily[orders_b_daily['date'] <= x['date']].agg(\n",
    "        {'date': 'max', 'ordersPerDateB': 'sum', 'revenuePerDateB': 'sum'}\n",
    "    ),\n",
    "    axis=1,\n",
    ").sort_values(by=['date'])\n",
    "orders_b_cummulative.columns = [\n",
    "    'date',\n",
    "    'ordersCummulativeB',\n",
    "    'revenueCummulativeB',\n",
    "]\n",
    "data = (\n",
    "    orders_a_daily.merge(\n",
    "        orders_b_daily, left_on='date', right_on='date', how='left'\n",
    "    )\n",
    "    .merge(orders_a_cummulative, left_on='date', right_on='date', how='left')\n",
    "    .merge(orders_b_cummulative, left_on='date', right_on='date', how='left')\n",
    "    .merge(visitors_a_daily, left_on='date', right_on='date', how='left')\n",
    "    .merge(visitors_b_daily, left_on='date', right_on='date', how='left')\n",
    "    .merge(visitors_a_cummulative, left_on='date', right_on='date', how='left')\n",
    "    .merge(visitors_b_cummulative, left_on='date', right_on='date', how='left')\n",
    ")\n",
    "display(data.head()) "
   ]
  },
  {
   "cell_type": "markdown",
   "metadata": {},
   "source": [
    "Сформулируем гипотезы. \n",
    "\n",
    "**Нулевая**: различий в конверсии между группами нет. \n",
    "\n",
    "**Альтернативная**: различия в конверсии между группами есть."
   ]
  },
  {
   "cell_type": "markdown",
   "metadata": {},
   "source": [
    "Посчитаем статистическую значимость различия в конверсии между группами."
   ]
  },
  {
   "cell_type": "code",
   "execution_count": 32,
   "metadata": {},
   "outputs": [
    {
     "name": "stdout",
     "output_type": "stream",
     "text": [
      "p-value = 0.01679\n",
      "Относительный прирост конверсии группы B к A = 0.138\n"
     ]
    }
   ],
   "source": [
    "# Создадим переменные orders_by_users_a и orders_by_users_b со столбцами ['visitor_id', 'orders']. \n",
    "# В них для пользователей, которые заказывали хотя бы 1 раз, укажем число совершённых заказов.\n",
    "\n",
    "orders_by_users_a = ( \n",
    "    orders[orders['group'] == 'A']\n",
    "    .groupby('visitor_id', as_index=False)\n",
    "    .agg({'transaction_id': pd.Series.nunique})\n",
    ")\n",
    "\n",
    "orders_by_users_a.columns = ['visitor_id', 'orders']\n",
    "\n",
    "orders_by_users_b = (\n",
    "    orders[orders['group'] == 'B']\n",
    "    .groupby('visitor_id', as_index=False)\n",
    "    .agg({'transaction_id': pd.Series.nunique})\n",
    ")\n",
    "orders_by_users_b.columns = ['visitor_id', 'orders'] \n",
    "\n",
    "# Объявим переменные sampleA и sampleB, в которых пользователям из разных групп будет соответствовать количество заказов\n",
    "sample_a = pd.concat(\n",
    "    [\n",
    "        orders_by_users_a['orders'],\n",
    "        pd.Series(\n",
    "            0,\n",
    "            index=np.arange(\n",
    "                data['visitorsPerDateA'].sum() - len(orders_by_users_a['orders'])\n",
    "            ),\n",
    "            name='orders',\n",
    "        ),\n",
    "    ],\n",
    "    axis=0,\n",
    ")\n",
    "\n",
    "sample_b = pd.concat(\n",
    "    [\n",
    "        orders_by_users_b['orders'],\n",
    "        pd.Series(\n",
    "            0,\n",
    "            index=np.arange(\n",
    "                data['visitorsPerDateB'].sum() - len(orders_by_users_b['orders'])\n",
    "            ),\n",
    "            name='orders',\n",
    "        ),\n",
    "    ],\n",
    "    axis=0,\n",
    ")\n",
    "# p-value для сравнения конверсии между группами. \n",
    "print(\"p-value = {0:.5f}\".format(stats.mannwhitneyu(sample_a, sample_b)[1]))\n",
    "#относительное различие в конверсии между группами.\n",
    "print(\"Относительный прирост конверсии группы B к A = {0:.3f}\".format(sample_b.mean() / sample_a.mean() - 1))\n"
   ]
  },
  {
   "cell_type": "markdown",
   "metadata": {},
   "source": [
    "* Первое число — p-value = 0.01679 меньше 0.05. Значит гипотезу , что различий в конверсии между группами нет мы отвергаем.\n",
    "Различия в конверсии между группами есть. \n",
    "\n",
    "* Относительный прирост конверсии группы B к конверсии группы A равен 13.8%"
   ]
  },
  {
   "cell_type": "markdown",
   "metadata": {},
   "source": [
    "### Статистическая значимость различий в среднем чеке заказа между группами по «сырым» данным"
   ]
  },
  {
   "cell_type": "markdown",
   "metadata": {},
   "source": [
    "Сформулируем гипотезы. \n",
    "\n",
    "**Нулевая** гипотеза: различий в среднем чеке между группами нет. \n",
    "\n",
    "**Альтернативная** гипотеза: различия в среднем чеке между группами есть."
   ]
  },
  {
   "cell_type": "code",
   "execution_count": 33,
   "metadata": {},
   "outputs": [
    {
     "name": "stdout",
     "output_type": "stream",
     "text": [
      "P-value = 0.729\n",
      "Относительное различие среднего чека между сегментами = 0.259\n"
     ]
    }
   ],
   "source": [
    "print('P-value = {0:.3f}'\n",
    "      .format(stats.mannwhitneyu(orders[orders['group']=='A']['revenue'],\n",
    "                                 orders[orders['group']=='B']['revenue'])[1]))\n",
    "\n",
    "print('Относительное различие среднего чека между сегментами = {0:.3f}'\n",
    "      .format(orders[orders['group']=='B']['revenue'].mean()/\n",
    "              orders[orders['group']=='A']['revenue'].mean()-1)) "
   ]
  },
  {
   "cell_type": "markdown",
   "metadata": {},
   "source": [
    "* P-value больше 0.05 — гипотезу не отвергаем, статистически значимых отличий в среднем чеке между группами нет. \n",
    "* Относительное различие среднего чека между сегментами 25.9%. (нужно проверить без аномалий). т.е. различие в 26% не является стат.значимым."
   ]
  },
  {
   "cell_type": "markdown",
   "metadata": {},
   "source": [
    "### Статистическая значимость различий в конверсии между группами по «очищенным» данным"
   ]
  },
  {
   "cell_type": "markdown",
   "metadata": {},
   "source": [
    "Примем за аномальных пользователей тех, кто совершил от 2 заказов или совершил заказ дороже 58 233 рублей. Так мы уберём 5% пользователей с наибольшим числом заказов и 1%  пользователей с дорогими заказами. Сделаем срезы пользователей с числом заказов больше 2 — users_with_many_orders и пользователей, совершивших заказы дороже 58 233 — users_with_expensive_orders. Объединим их в таблице abnormal_users."
   ]
  },
  {
   "cell_type": "code",
   "execution_count": 34,
   "metadata": {},
   "outputs": [
    {
     "name": "stdout",
     "output_type": "stream",
     "text": [
      "1099    148427295\n",
      "18      199603092\n",
      "23      237748145\n",
      "37      249864742\n",
      "68      457167155\n",
      "Name: visitor_id, dtype: int64\n",
      "31\n"
     ]
    }
   ],
   "source": [
    "users_with_many_orders = pd.concat(\n",
    "    [\n",
    "        orders_by_users_a[orders_by_users_a['orders'] > np.percentile(orders_users['orders'], 95)]['visitor_id'],\n",
    "        orders_by_users_b[orders_by_users_b['orders'] > np.percentile(orders_users['orders'], 95)]['visitor_id'],\n",
    "    ],\n",
    "    axis=0,\n",
    ")\n",
    "users_with_expensive_orders = orders[orders['revenue'] > np.percentile(orders['revenue'], 99)]['visitor_id']\n",
    "abnormal_users = (\n",
    "    pd.concat([users_with_many_orders, users_with_expensive_orders], axis=0)\n",
    "    .drop_duplicates()\n",
    "    .sort_values()\n",
    ")\n",
    "print(abnormal_users.head())\n",
    "# сколько всего аномальных пользователей\n",
    "print(abnormal_users.shape[0]) "
   ]
  },
  {
   "cell_type": "markdown",
   "metadata": {},
   "source": [
    "Посчитаем статистическую значимость различий в конверсии между группами теста по очищенным данным. Подготовим выборки количества заказов по пользователям по группам теста и сформулируем гипотезы.\n",
    "\n",
    "**Нулевая**: различий в конверсии между группами нет.\n",
    "\n",
    "**Альтернативная**: различия в конверсии между группами есть."
   ]
  },
  {
   "cell_type": "code",
   "execution_count": 35,
   "metadata": {},
   "outputs": [
    {
     "name": "stdout",
     "output_type": "stream",
     "text": [
      "P-value = 0.01007\n",
      "Относительный прирост конверсии группы B к A = 0.174\n"
     ]
    }
   ],
   "source": [
    "sample_a_filtered = pd.concat(\n",
    "    [\n",
    "        orders_by_users_a[\n",
    "            np.logical_not(orders_by_users_a['visitor_id'].isin(abnormal_users))\n",
    "        ]['orders'],\n",
    "        pd.Series(\n",
    "            0,\n",
    "            index=np.arange(\n",
    "                data['visitorsPerDateA'].sum() - len(orders_by_users_a['orders'])\n",
    "            ),\n",
    "            name='orders',\n",
    "        ),\n",
    "    ],\n",
    "    axis=0,\n",
    ")\n",
    "sample_b_filtered = pd.concat(\n",
    "    [\n",
    "        orders_by_users_b[\n",
    "            np.logical_not(orders_by_users_b['visitor_id'].isin(abnormal_users))\n",
    "        ]['orders'],\n",
    "        pd.Series(\n",
    "            0,\n",
    "            index=np.arange(\n",
    "                data['visitorsPerDateB'].sum() - len(orders_by_users_b['orders'])\n",
    "            ),\n",
    "            name='orders',\n",
    "        ),\n",
    "    ],\n",
    "    axis=0,\n",
    ") \n",
    "print('P-value = {0:.5f}'.format(stats.mannwhitneyu(sample_a_filtered, sample_b_filtered)[1]))\n",
    "print('Относительный прирост конверсии группы B к A = {0:.3f}'.format(sample_b_filtered.mean()/sample_a_filtered.mean()-1))"
   ]
  },
  {
   "cell_type": "markdown",
   "metadata": {},
   "source": [
    "| Показатель | По \"сырым\" данным | По \"очищенным\" данным\n",
    "|:-----------|:------|:----------------------\n",
    "P-value | 0.01679 | 0.01007\n",
    "Относительный прирост конверсии группы B к A | 0.138 | 0.174\n",
    "\n",
    "Результаты по конверсии практически не изменились:\n",
    "* Гипотезу , что различий в конверсии между группами нет мы отвергаем. Различия в конверсии между группами есть.\n",
    "* Относительный прирост конверсии группы B к конверсии группы A  увеличился по сравнению с сырыми данными и стал равен 17.4%"
   ]
  },
  {
   "cell_type": "markdown",
   "metadata": {},
   "source": [
    "### Статистическая значимость различий в среднем чеке заказа между группами по «очищенным» данным"
   ]
  },
  {
   "cell_type": "markdown",
   "metadata": {},
   "source": [
    "Сформулируем для проверки гипотезы.\n",
    "\n",
    "**Нулевая** гипотеза: различий в среднем чеке между группами нет.\n",
    "\n",
    "**Альтернативная** гипотеза: различия в среднем чеке между группами есть."
   ]
  },
  {
   "cell_type": "code",
   "execution_count": 36,
   "metadata": {},
   "outputs": [
    {
     "name": "stdout",
     "output_type": "stream",
     "text": [
      "P-value = 0.798\n",
      "Относительное различие среднего чека между сегментами = -0.020\n"
     ]
    }
   ],
   "source": [
    "print(\n",
    "    'P-value = {0:.3f}'.format(\n",
    "        stats.mannwhitneyu(\n",
    "            orders[\n",
    "                np.logical_and(\n",
    "                    orders['group'] == 'A',\n",
    "                    np.logical_not(orders['visitor_id'].isin(abnormal_users)),\n",
    "                )\n",
    "            ]['revenue'],\n",
    "            orders[\n",
    "                np.logical_and(\n",
    "                    orders['group'] == 'B',\n",
    "                    np.logical_not(orders['visitor_id'].isin(abnormal_users)),\n",
    "                )\n",
    "            ]['revenue'],\n",
    "        )[1]\n",
    "    )\n",
    ")\n",
    "print(\n",
    "    \"Относительное различие среднего чека между сегментами = {0:.3f}\".format(\n",
    "        orders[\n",
    "            np.logical_and(\n",
    "                orders['group'] == 'B',\n",
    "                np.logical_not(orders['visitor_id'].isin(abnormal_users)),\n",
    "            )\n",
    "        ]['revenue'].mean()\n",
    "        / orders[\n",
    "            np.logical_and(\n",
    "                orders['group'] == 'A',\n",
    "                np.logical_not(orders['visitor_id'].isin(abnormal_users)),\n",
    "            )\n",
    "        ]['revenue'].mean()\n",
    "        - 1\n",
    "    )\n",
    ") \n"
   ]
  },
  {
   "cell_type": "markdown",
   "metadata": {},
   "source": [
    "| Показатель | По \"сырым\" данным | По \"очищенным\" данным\n",
    "|:-----------|:------|:----------------------\n",
    "P-value | 0.729 | 0.798\n",
    "Относительное различие среднего чека между сегментами | 0.259 | -0.020\n",
    "\n",
    "\n",
    "* P-value увеличился, гипотезу не отвергаем, статистически значимых отличий в среднем чеке между группами нет.\n",
    "* Различие среднего чека между сегментами сократилась с 25,9% до -2%, значит очистка аномальных выбросов дала результат. Мы видим, что средний чек группы А в тесте без выбросов был даже немного больше, чем средний чек группы В."
   ]
  },
  {
   "cell_type": "markdown",
   "metadata": {},
   "source": [
    "### Итог по результатам теста"
   ]
  },
  {
   "cell_type": "markdown",
   "metadata": {},
   "source": [
    "**Подведем итоги**\n",
    "\n",
    "Результаты **по конверсии**:\n",
    "\n",
    "| Показатель      | По \"сырым\" данным | По \"очищенным\" данным\n",
    "|:-----------|:------|:----------------------\n",
    "P-value | 0.01679 | 0.01007\n",
    "Относительный прирост конверсии группы B к группе A | 0.138 | 0.174\n",
    "\n",
    "* Различия в конверсии между группами есть.\n",
    "* Относительный прирост конверсии группы B к конверсии группы A  увеличился по сравнению с сырыми данными и стал равен 17.4%\n",
    "\n",
    "Результаты **по среднему чеку**:\n",
    "\n",
    "| Показатель      | По \"сырым\" данным | По \"очищенным\" данным\n",
    "|:-----------|:------|:----------------------\n",
    "P-value | 0.729 | 0.798\n",
    "Относительное различие среднего чека между сегментами | 0.259 | -0.020\n",
    "\n",
    "* Статистически значимых отличий в среднем чеке между группами нет.\n",
    "* Различие среднего чека между сегментами сократилось с 25,9% до -2%, значит очистка аномальных выбросов дала результат. Мы видим, что средний чек группы А в тесте без выбросов был даже немного больше, чем средний чек группы В.\n",
    "\n",
    "По графику различия конверсии между группами можно сделать вывод, что результаты группы B лучше группы A: 6-7 августа конверсия группы В увеличилась и до конца теста преобладала над группой А.\n",
    "\n",
    "Таким образом, у нас есть все основания остановить тест и зафиксировать победу группы В - её конверсия выше, чем у группы А (но средний чек схож у обеих групп)."
   ]
  },
  {
   "cell_type": "markdown",
   "metadata": {},
   "source": [
    "## Общий вывод"
   ]
  },
  {
   "cell_type": "markdown",
   "metadata": {},
   "source": [
    "По итогам приоритизации гипотез логичным будет присудить **первое место** и проверять гипотезу, которая звучит как:\n",
    "\n",
    "**Добавить форму подписки на все основные страницы, чтобы собрать базу клиентов для email-рассылок**. \n",
    "***\n",
    "\n",
    "По итогам A/B-теста мы остановили тест и зафиксировали победу группы В.\n",
    "\n",
    "* Различия в конверсии между группами есть.\n",
    "* Относительный прирост конверсии группы B к конверсии группы A с \"очищенными\" данными равен 17.4%.\n",
    "\n",
    "\n",
    "\n",
    "* Статистически значимых отличий в среднем чеке между группами нет.\n",
    "* Различие среднего чека между сегментами после удаления аномалий сократилось с 25,9% до -2%, значит очистка аномальных выбросов дала результат. Средний чек группы А в \"очищенных\" данных немного больше, чем средний чек группы В."
   ]
  }
 ],
 "metadata": {
  "ExecuteTimeLog": [
   {
    "duration": 957,
    "start_time": "2022-05-23T12:18:53.388Z"
   },
   {
    "duration": 229,
    "start_time": "2022-05-23T12:23:16.276Z"
   },
   {
    "duration": 5,
    "start_time": "2022-05-23T12:23:46.526Z"
   },
   {
    "duration": 54,
    "start_time": "2022-05-23T12:24:19.055Z"
   },
   {
    "duration": 139,
    "start_time": "2022-05-23T12:24:21.443Z"
   },
   {
    "duration": 32,
    "start_time": "2022-05-23T12:24:35.547Z"
   },
   {
    "duration": 38,
    "start_time": "2022-05-23T12:24:38.095Z"
   },
   {
    "duration": 56,
    "start_time": "2022-05-23T13:05:38.206Z"
   },
   {
    "duration": 14,
    "start_time": "2022-05-23T13:06:26.306Z"
   },
   {
    "duration": 9,
    "start_time": "2022-05-23T13:07:07.623Z"
   },
   {
    "duration": 6,
    "start_time": "2022-05-23T13:07:19.269Z"
   },
   {
    "duration": 6,
    "start_time": "2022-05-23T13:08:39.192Z"
   },
   {
    "duration": 5,
    "start_time": "2022-05-23T13:08:48.559Z"
   },
   {
    "duration": 69,
    "start_time": "2022-05-23T13:13:28.929Z"
   },
   {
    "duration": 34,
    "start_time": "2022-05-23T13:13:32.924Z"
   },
   {
    "duration": 4,
    "start_time": "2022-05-23T13:14:44.670Z"
   },
   {
    "duration": 4,
    "start_time": "2022-05-23T13:15:07.718Z"
   },
   {
    "duration": 4,
    "start_time": "2022-05-23T13:18:52.154Z"
   },
   {
    "duration": 4,
    "start_time": "2022-05-23T13:18:58.029Z"
   },
   {
    "duration": 4,
    "start_time": "2022-05-23T13:19:21.385Z"
   },
   {
    "duration": 5,
    "start_time": "2022-05-23T13:21:52.946Z"
   },
   {
    "duration": 3,
    "start_time": "2022-05-23T13:23:31.117Z"
   },
   {
    "duration": 11,
    "start_time": "2022-05-23T13:25:47.865Z"
   },
   {
    "duration": 10,
    "start_time": "2022-05-23T13:26:10.095Z"
   },
   {
    "duration": 8,
    "start_time": "2022-05-23T13:34:25.584Z"
   },
   {
    "duration": 9,
    "start_time": "2022-05-23T13:34:31.644Z"
   },
   {
    "duration": 7,
    "start_time": "2022-05-23T13:34:58.060Z"
   },
   {
    "duration": 7,
    "start_time": "2022-05-23T13:35:04.252Z"
   },
   {
    "duration": 9,
    "start_time": "2022-05-23T13:35:30.097Z"
   },
   {
    "duration": 12,
    "start_time": "2022-05-23T13:35:44.792Z"
   },
   {
    "duration": 16,
    "start_time": "2022-05-23T13:37:53.108Z"
   },
   {
    "duration": 10,
    "start_time": "2022-05-23T13:37:58.456Z"
   },
   {
    "duration": 11,
    "start_time": "2022-05-23T13:38:32.776Z"
   },
   {
    "duration": 11,
    "start_time": "2022-05-23T13:38:38.622Z"
   },
   {
    "duration": 10,
    "start_time": "2022-05-23T13:41:41.868Z"
   },
   {
    "duration": 2,
    "start_time": "2022-05-23T14:28:15.883Z"
   },
   {
    "duration": 41,
    "start_time": "2022-05-23T14:44:01.353Z"
   },
   {
    "duration": 341,
    "start_time": "2022-05-23T14:47:28.253Z"
   },
   {
    "duration": 759,
    "start_time": "2022-05-23T14:52:21.056Z"
   },
   {
    "duration": 357,
    "start_time": "2022-05-23T14:52:26.989Z"
   },
   {
    "duration": 313,
    "start_time": "2022-05-23T15:07:15.557Z"
   },
   {
    "duration": 229,
    "start_time": "2022-05-23T15:07:23.533Z"
   },
   {
    "duration": 241,
    "start_time": "2022-05-23T15:07:37.167Z"
   },
   {
    "duration": 328,
    "start_time": "2022-05-23T15:08:54.781Z"
   },
   {
    "duration": 199,
    "start_time": "2022-05-23T15:09:02.669Z"
   },
   {
    "duration": 289,
    "start_time": "2022-05-23T15:09:20.169Z"
   },
   {
    "duration": 262,
    "start_time": "2022-05-23T15:09:36.062Z"
   },
   {
    "duration": 291,
    "start_time": "2022-05-23T15:09:45.105Z"
   },
   {
    "duration": 209,
    "start_time": "2022-05-23T15:09:55.052Z"
   },
   {
    "duration": 22,
    "start_time": "2022-05-23T15:10:05.668Z"
   },
   {
    "duration": 330,
    "start_time": "2022-05-23T15:10:14.929Z"
   },
   {
    "duration": 29,
    "start_time": "2022-05-23T15:10:32.468Z"
   },
   {
    "duration": 262,
    "start_time": "2022-05-23T15:10:45.392Z"
   },
   {
    "duration": 203,
    "start_time": "2022-05-23T15:11:19.583Z"
   },
   {
    "duration": 292,
    "start_time": "2022-05-23T15:15:16.568Z"
   },
   {
    "duration": 388,
    "start_time": "2022-05-23T15:17:15.487Z"
   },
   {
    "duration": 302,
    "start_time": "2022-05-23T15:17:21.693Z"
   },
   {
    "duration": 268,
    "start_time": "2022-05-23T15:17:50.837Z"
   },
   {
    "duration": 242,
    "start_time": "2022-05-23T15:18:05.741Z"
   },
   {
    "duration": 280,
    "start_time": "2022-05-23T15:18:10.893Z"
   },
   {
    "duration": 241,
    "start_time": "2022-05-23T15:18:17.355Z"
   },
   {
    "duration": 13,
    "start_time": "2022-05-24T09:26:01.932Z"
   },
   {
    "duration": 13,
    "start_time": "2022-05-24T09:26:18.649Z"
   },
   {
    "duration": 13,
    "start_time": "2022-05-24T09:26:28.353Z"
   },
   {
    "duration": 13,
    "start_time": "2022-05-24T09:26:32.569Z"
   },
   {
    "duration": 13,
    "start_time": "2022-05-24T09:26:59.912Z"
   },
   {
    "duration": 12,
    "start_time": "2022-05-24T09:27:15.261Z"
   },
   {
    "duration": 1158,
    "start_time": "2022-05-24T09:27:20.385Z"
   },
   {
    "duration": 99,
    "start_time": "2022-05-24T09:27:21.546Z"
   },
   {
    "duration": 6,
    "start_time": "2022-05-24T09:27:21.647Z"
   },
   {
    "duration": 72,
    "start_time": "2022-05-24T09:27:21.655Z"
   },
   {
    "duration": 54,
    "start_time": "2022-05-24T09:27:21.729Z"
   },
   {
    "duration": 7,
    "start_time": "2022-05-24T09:27:21.785Z"
   },
   {
    "duration": 49,
    "start_time": "2022-05-24T09:27:21.813Z"
   },
   {
    "duration": 7,
    "start_time": "2022-05-24T09:27:21.865Z"
   },
   {
    "duration": 32,
    "start_time": "2022-05-24T09:27:21.874Z"
   },
   {
    "duration": 7,
    "start_time": "2022-05-24T09:27:21.910Z"
   },
   {
    "duration": 15,
    "start_time": "2022-05-24T09:27:21.919Z"
   },
   {
    "duration": 17,
    "start_time": "2022-05-24T09:27:21.937Z"
   },
   {
    "duration": 61,
    "start_time": "2022-05-24T09:27:21.956Z"
   },
   {
    "duration": 20,
    "start_time": "2022-05-24T09:27:22.019Z"
   },
   {
    "duration": 14,
    "start_time": "2022-05-24T09:27:22.041Z"
   },
   {
    "duration": 397,
    "start_time": "2022-05-24T09:27:22.057Z"
   },
   {
    "duration": 360,
    "start_time": "2022-05-24T09:27:22.456Z"
   },
   {
    "duration": 308,
    "start_time": "2022-05-24T09:27:22.817Z"
   },
   {
    "duration": 13,
    "start_time": "2022-05-24T09:27:35.937Z"
   },
   {
    "duration": 1300,
    "start_time": "2022-05-24T09:27:41.193Z"
   },
   {
    "duration": 73,
    "start_time": "2022-05-24T09:27:42.495Z"
   },
   {
    "duration": 6,
    "start_time": "2022-05-24T09:27:42.570Z"
   },
   {
    "duration": 52,
    "start_time": "2022-05-24T09:27:42.580Z"
   },
   {
    "duration": 32,
    "start_time": "2022-05-24T09:27:42.634Z"
   },
   {
    "duration": 6,
    "start_time": "2022-05-24T09:27:42.668Z"
   },
   {
    "duration": 63,
    "start_time": "2022-05-24T09:27:42.676Z"
   },
   {
    "duration": 13,
    "start_time": "2022-05-24T09:27:42.741Z"
   },
   {
    "duration": 13,
    "start_time": "2022-05-24T09:27:42.756Z"
   },
   {
    "duration": 11,
    "start_time": "2022-05-24T09:27:42.772Z"
   },
   {
    "duration": 29,
    "start_time": "2022-05-24T09:27:42.785Z"
   },
   {
    "duration": 78,
    "start_time": "2022-05-24T09:27:42.820Z"
   },
   {
    "duration": 42,
    "start_time": "2022-05-24T09:27:42.901Z"
   },
   {
    "duration": 25,
    "start_time": "2022-05-24T09:27:42.945Z"
   },
   {
    "duration": 13,
    "start_time": "2022-05-24T09:27:42.972Z"
   },
   {
    "duration": 383,
    "start_time": "2022-05-24T09:27:42.987Z"
   },
   {
    "duration": 342,
    "start_time": "2022-05-24T09:27:43.372Z"
   },
   {
    "duration": 274,
    "start_time": "2022-05-24T09:27:43.716Z"
   },
   {
    "duration": 11,
    "start_time": "2022-05-24T09:28:18.869Z"
   },
   {
    "duration": 15,
    "start_time": "2022-05-24T09:29:49.185Z"
   },
   {
    "duration": 1073,
    "start_time": "2022-05-24T09:40:35.824Z"
   },
   {
    "duration": 69,
    "start_time": "2022-05-24T09:40:36.899Z"
   },
   {
    "duration": 5,
    "start_time": "2022-05-24T09:40:36.970Z"
   },
   {
    "duration": 45,
    "start_time": "2022-05-24T09:40:36.978Z"
   },
   {
    "duration": 32,
    "start_time": "2022-05-24T09:40:37.025Z"
   },
   {
    "duration": 5,
    "start_time": "2022-05-24T09:40:37.059Z"
   },
   {
    "duration": 67,
    "start_time": "2022-05-24T09:40:37.067Z"
   },
   {
    "duration": 6,
    "start_time": "2022-05-24T09:40:37.136Z"
   },
   {
    "duration": 5,
    "start_time": "2022-05-24T09:40:37.145Z"
   },
   {
    "duration": 6,
    "start_time": "2022-05-24T09:40:37.152Z"
   },
   {
    "duration": 11,
    "start_time": "2022-05-24T09:40:37.160Z"
   },
   {
    "duration": 44,
    "start_time": "2022-05-24T09:40:37.173Z"
   },
   {
    "duration": 14,
    "start_time": "2022-05-24T09:40:37.219Z"
   },
   {
    "duration": 20,
    "start_time": "2022-05-24T09:40:37.238Z"
   },
   {
    "duration": 21,
    "start_time": "2022-05-24T09:40:37.262Z"
   },
   {
    "duration": 410,
    "start_time": "2022-05-24T09:40:37.286Z"
   },
   {
    "duration": 337,
    "start_time": "2022-05-24T09:40:37.698Z"
   },
   {
    "duration": 269,
    "start_time": "2022-05-24T09:40:38.036Z"
   },
   {
    "duration": 196,
    "start_time": "2022-05-24T11:01:58.584Z"
   },
   {
    "duration": 200,
    "start_time": "2022-05-24T11:02:26.092Z"
   },
   {
    "duration": 5,
    "start_time": "2022-05-24T11:03:55.701Z"
   },
   {
    "duration": 6,
    "start_time": "2022-05-24T11:04:13.468Z"
   },
   {
    "duration": 10,
    "start_time": "2022-05-24T11:04:26.425Z"
   },
   {
    "duration": 5,
    "start_time": "2022-05-24T11:04:28.464Z"
   },
   {
    "duration": 11,
    "start_time": "2022-05-24T11:05:15.622Z"
   },
   {
    "duration": 5,
    "start_time": "2022-05-24T11:05:27.261Z"
   },
   {
    "duration": 219,
    "start_time": "2022-05-24T11:06:51.180Z"
   },
   {
    "duration": 258,
    "start_time": "2022-05-24T11:07:42.027Z"
   },
   {
    "duration": 208,
    "start_time": "2022-05-24T11:08:19.776Z"
   },
   {
    "duration": 294,
    "start_time": "2022-05-24T11:12:13.996Z"
   },
   {
    "duration": 336,
    "start_time": "2022-05-24T11:13:02.507Z"
   },
   {
    "duration": 336,
    "start_time": "2022-05-24T11:13:11.680Z"
   },
   {
    "duration": 329,
    "start_time": "2022-05-24T11:13:43.340Z"
   },
   {
    "duration": 196,
    "start_time": "2022-05-24T11:18:49.027Z"
   },
   {
    "duration": 165,
    "start_time": "2022-05-24T11:20:32.187Z"
   },
   {
    "duration": 493,
    "start_time": "2022-05-24T11:24:06.952Z"
   },
   {
    "duration": 295,
    "start_time": "2022-05-24T11:24:41.799Z"
   },
   {
    "duration": 312,
    "start_time": "2022-05-24T11:24:47.423Z"
   },
   {
    "duration": 310,
    "start_time": "2022-05-24T11:24:57.875Z"
   },
   {
    "duration": 265,
    "start_time": "2022-05-24T11:25:54.352Z"
   },
   {
    "duration": 331,
    "start_time": "2022-05-24T11:26:09.319Z"
   },
   {
    "duration": 326,
    "start_time": "2022-05-24T11:27:16.823Z"
   },
   {
    "duration": 255,
    "start_time": "2022-05-24T11:27:28.871Z"
   },
   {
    "duration": 268,
    "start_time": "2022-05-24T11:27:53.269Z"
   },
   {
    "duration": 275,
    "start_time": "2022-05-24T11:28:21.960Z"
   },
   {
    "duration": 264,
    "start_time": "2022-05-24T11:28:33.459Z"
   },
   {
    "duration": 307,
    "start_time": "2022-05-24T11:28:55.099Z"
   },
   {
    "duration": 320,
    "start_time": "2022-05-24T11:29:47.307Z"
   },
   {
    "duration": 413,
    "start_time": "2022-05-24T11:29:57.199Z"
   },
   {
    "duration": 335,
    "start_time": "2022-05-24T11:30:36.496Z"
   },
   {
    "duration": 181,
    "start_time": "2022-05-24T11:32:35.056Z"
   },
   {
    "duration": 231,
    "start_time": "2022-05-24T11:33:07.699Z"
   },
   {
    "duration": 623,
    "start_time": "2022-05-24T12:53:13.718Z"
   },
   {
    "duration": 122,
    "start_time": "2022-05-24T12:53:53.737Z"
   },
   {
    "duration": 172,
    "start_time": "2022-05-24T12:57:21.348Z"
   },
   {
    "duration": 125,
    "start_time": "2022-05-24T12:57:52.424Z"
   },
   {
    "duration": 129,
    "start_time": "2022-05-24T12:59:55.168Z"
   },
   {
    "duration": 17,
    "start_time": "2022-05-24T13:03:07.884Z"
   },
   {
    "duration": 12,
    "start_time": "2022-05-24T13:03:23.691Z"
   },
   {
    "duration": 15,
    "start_time": "2022-05-24T13:03:32.023Z"
   },
   {
    "duration": 13,
    "start_time": "2022-05-24T13:04:20.005Z"
   },
   {
    "duration": 9,
    "start_time": "2022-05-24T13:04:52.602Z"
   },
   {
    "duration": 156,
    "start_time": "2022-05-24T13:05:01.393Z"
   },
   {
    "duration": 12,
    "start_time": "2022-05-24T13:05:07.954Z"
   },
   {
    "duration": 11,
    "start_time": "2022-05-24T13:05:45.551Z"
   },
   {
    "duration": 152,
    "start_time": "2022-05-24T13:05:51.515Z"
   },
   {
    "duration": 5,
    "start_time": "2022-05-24T13:08:43.297Z"
   },
   {
    "duration": 5,
    "start_time": "2022-05-24T13:12:09.850Z"
   },
   {
    "duration": 5,
    "start_time": "2022-05-24T13:12:12.929Z"
   },
   {
    "duration": 5,
    "start_time": "2022-05-24T13:12:16.608Z"
   },
   {
    "duration": 6,
    "start_time": "2022-05-24T13:12:21.555Z"
   },
   {
    "duration": 128,
    "start_time": "2022-05-24T13:26:08.118Z"
   },
   {
    "duration": 4,
    "start_time": "2022-05-24T13:28:23.703Z"
   },
   {
    "duration": 123,
    "start_time": "2022-05-24T13:34:23.712Z"
   },
   {
    "duration": 135,
    "start_time": "2022-05-24T13:35:03.588Z"
   },
   {
    "duration": 130,
    "start_time": "2022-05-24T13:35:24.456Z"
   },
   {
    "duration": 215,
    "start_time": "2022-05-24T13:35:48.231Z"
   },
   {
    "duration": 122,
    "start_time": "2022-05-24T13:36:33.624Z"
   },
   {
    "duration": 114,
    "start_time": "2022-05-24T13:36:41.876Z"
   },
   {
    "duration": 104,
    "start_time": "2022-05-24T13:36:51.940Z"
   },
   {
    "duration": 132,
    "start_time": "2022-05-24T13:37:20.712Z"
   },
   {
    "duration": 136,
    "start_time": "2022-05-24T13:37:38.012Z"
   },
   {
    "duration": 125,
    "start_time": "2022-05-24T13:37:43.065Z"
   },
   {
    "duration": 127,
    "start_time": "2022-05-24T13:37:47.259Z"
   },
   {
    "duration": 133,
    "start_time": "2022-05-24T13:37:58.160Z"
   },
   {
    "duration": 1101,
    "start_time": "2022-05-24T13:46:43.200Z"
   },
   {
    "duration": 67,
    "start_time": "2022-05-24T13:46:44.303Z"
   },
   {
    "duration": 5,
    "start_time": "2022-05-24T13:46:44.371Z"
   },
   {
    "duration": 38,
    "start_time": "2022-05-24T13:46:44.378Z"
   },
   {
    "duration": 29,
    "start_time": "2022-05-24T13:46:44.418Z"
   },
   {
    "duration": 4,
    "start_time": "2022-05-24T13:46:44.449Z"
   },
   {
    "duration": 27,
    "start_time": "2022-05-24T13:46:44.455Z"
   },
   {
    "duration": 33,
    "start_time": "2022-05-24T13:46:44.483Z"
   },
   {
    "duration": 6,
    "start_time": "2022-05-24T13:46:44.517Z"
   },
   {
    "duration": 9,
    "start_time": "2022-05-24T13:46:44.526Z"
   },
   {
    "duration": 8,
    "start_time": "2022-05-24T13:46:44.537Z"
   },
   {
    "duration": 12,
    "start_time": "2022-05-24T13:46:44.547Z"
   },
   {
    "duration": 12,
    "start_time": "2022-05-24T13:46:44.560Z"
   },
   {
    "duration": 17,
    "start_time": "2022-05-24T13:46:44.573Z"
   },
   {
    "duration": 30,
    "start_time": "2022-05-24T13:46:44.592Z"
   },
   {
    "duration": 11,
    "start_time": "2022-05-24T13:46:44.624Z"
   },
   {
    "duration": 10,
    "start_time": "2022-05-24T13:46:44.637Z"
   },
   {
    "duration": 10,
    "start_time": "2022-05-24T13:46:44.649Z"
   },
   {
    "duration": 8,
    "start_time": "2022-05-24T13:46:44.661Z"
   },
   {
    "duration": 306,
    "start_time": "2022-05-24T13:46:44.671Z"
   },
   {
    "duration": 317,
    "start_time": "2022-05-24T13:46:44.978Z"
   },
   {
    "duration": 276,
    "start_time": "2022-05-24T13:46:45.298Z"
   },
   {
    "duration": 329,
    "start_time": "2022-05-24T13:46:45.576Z"
   },
   {
    "duration": 192,
    "start_time": "2022-05-24T13:46:45.907Z"
   },
   {
    "duration": 311,
    "start_time": "2022-05-24T13:46:46.101Z"
   },
   {
    "duration": 11,
    "start_time": "2022-05-24T13:46:46.414Z"
   },
   {
    "duration": 118,
    "start_time": "2022-05-24T13:46:46.427Z"
   },
   {
    "duration": 5,
    "start_time": "2022-05-24T13:46:46.548Z"
   },
   {
    "duration": 140,
    "start_time": "2022-05-24T13:46:46.554Z"
   },
   {
    "duration": 133,
    "start_time": "2022-05-24T13:46:46.696Z"
   },
   {
    "duration": 5,
    "start_time": "2022-05-24T13:46:46.830Z"
   },
   {
    "duration": 1,
    "start_time": "2022-05-24T13:46:46.836Z"
   },
   {
    "duration": 0,
    "start_time": "2022-05-24T13:46:46.838Z"
   },
   {
    "duration": 5,
    "start_time": "2022-05-24T13:47:17.284Z"
   },
   {
    "duration": 4,
    "start_time": "2022-05-24T13:47:22.016Z"
   },
   {
    "duration": 118,
    "start_time": "2022-05-24T13:59:02.409Z"
   },
   {
    "duration": 805,
    "start_time": "2022-05-24T13:59:18.015Z"
   },
   {
    "duration": 186,
    "start_time": "2022-05-24T14:12:04.173Z"
   },
   {
    "duration": 161,
    "start_time": "2022-05-24T14:16:28.623Z"
   },
   {
    "duration": 230,
    "start_time": "2022-05-24T14:16:38.675Z"
   },
   {
    "duration": 169,
    "start_time": "2022-05-24T14:17:26.175Z"
   },
   {
    "duration": 14,
    "start_time": "2022-05-24T14:17:37.179Z"
   },
   {
    "duration": 2,
    "start_time": "2022-05-24T14:37:17.672Z"
   },
   {
    "duration": 4,
    "start_time": "2022-05-24T15:41:46.721Z"
   },
   {
    "duration": 5,
    "start_time": "2022-05-24T15:41:52.124Z"
   },
   {
    "duration": 44,
    "start_time": "2022-05-24T15:46:26.280Z"
   },
   {
    "duration": 14,
    "start_time": "2022-05-24T15:46:31.908Z"
   },
   {
    "duration": 10,
    "start_time": "2022-05-24T15:46:45.057Z"
   },
   {
    "duration": 11,
    "start_time": "2022-05-24T15:48:01.866Z"
   },
   {
    "duration": 38,
    "start_time": "2022-05-24T15:49:20.908Z"
   },
   {
    "duration": 17,
    "start_time": "2022-05-24T15:52:11.017Z"
   },
   {
    "duration": 130,
    "start_time": "2022-05-25T08:52:10.724Z"
   },
   {
    "duration": 232,
    "start_time": "2022-05-25T08:52:20.816Z"
   },
   {
    "duration": 144,
    "start_time": "2022-05-25T08:52:55.750Z"
   },
   {
    "duration": 134,
    "start_time": "2022-05-25T08:53:30.821Z"
   },
   {
    "duration": 143,
    "start_time": "2022-05-25T08:53:56.579Z"
   },
   {
    "duration": 115,
    "start_time": "2022-05-25T08:54:10.424Z"
   },
   {
    "duration": 211,
    "start_time": "2022-05-25T08:54:26.792Z"
   },
   {
    "duration": 130,
    "start_time": "2022-05-25T08:54:35.825Z"
   },
   {
    "duration": 124,
    "start_time": "2022-05-25T08:54:41.208Z"
   },
   {
    "duration": 124,
    "start_time": "2022-05-25T08:55:00.604Z"
   },
   {
    "duration": 119,
    "start_time": "2022-05-25T08:55:04.980Z"
   },
   {
    "duration": 234,
    "start_time": "2022-05-25T08:55:10.804Z"
   },
   {
    "duration": 153,
    "start_time": "2022-05-25T09:00:26.928Z"
   },
   {
    "duration": 149,
    "start_time": "2022-05-25T09:00:46.142Z"
   },
   {
    "duration": 144,
    "start_time": "2022-05-25T09:02:05.901Z"
   },
   {
    "duration": 119,
    "start_time": "2022-05-25T09:02:09.190Z"
   },
   {
    "duration": 170,
    "start_time": "2022-05-25T09:02:27.608Z"
   },
   {
    "duration": 144,
    "start_time": "2022-05-25T09:02:32.158Z"
   },
   {
    "duration": 141,
    "start_time": "2022-05-25T09:02:36.254Z"
   },
   {
    "duration": 125,
    "start_time": "2022-05-25T09:04:20.151Z"
   },
   {
    "duration": 140,
    "start_time": "2022-05-25T09:06:18.438Z"
   },
   {
    "duration": 297,
    "start_time": "2022-05-25T09:07:23.279Z"
   },
   {
    "duration": 148,
    "start_time": "2022-05-25T09:07:48.287Z"
   },
   {
    "duration": 163,
    "start_time": "2022-05-25T09:08:29.708Z"
   },
   {
    "duration": 161,
    "start_time": "2022-05-25T09:08:38.689Z"
   },
   {
    "duration": 165,
    "start_time": "2022-05-25T09:10:42.108Z"
   },
   {
    "duration": 139,
    "start_time": "2022-05-25T09:17:55.760Z"
   },
   {
    "duration": 149,
    "start_time": "2022-05-25T09:18:47.040Z"
   },
   {
    "duration": 153,
    "start_time": "2022-05-25T09:18:54.043Z"
   },
   {
    "duration": 148,
    "start_time": "2022-05-25T09:18:59.587Z"
   },
   {
    "duration": 152,
    "start_time": "2022-05-25T09:19:04.941Z"
   },
   {
    "duration": 163,
    "start_time": "2022-05-25T09:20:11.980Z"
   },
   {
    "duration": 149,
    "start_time": "2022-05-25T09:21:47.723Z"
   },
   {
    "duration": 319,
    "start_time": "2022-05-25T12:37:13.463Z"
   },
   {
    "duration": 274,
    "start_time": "2022-05-25T12:44:27.868Z"
   },
   {
    "duration": 275,
    "start_time": "2022-05-25T12:44:36.187Z"
   },
   {
    "duration": 273,
    "start_time": "2022-05-25T12:44:44.199Z"
   },
   {
    "duration": 198,
    "start_time": "2022-05-25T12:47:08.647Z"
   },
   {
    "duration": 250,
    "start_time": "2022-05-25T12:48:31.950Z"
   },
   {
    "duration": 325,
    "start_time": "2022-05-25T12:52:09.073Z"
   },
   {
    "duration": 196,
    "start_time": "2022-05-25T12:59:27.935Z"
   },
   {
    "duration": 303,
    "start_time": "2022-05-25T13:01:36.132Z"
   },
   {
    "duration": 333,
    "start_time": "2022-05-25T13:08:36.223Z"
   },
   {
    "duration": 214,
    "start_time": "2022-05-25T13:08:46.826Z"
   },
   {
    "duration": 332,
    "start_time": "2022-05-25T13:08:57.418Z"
   },
   {
    "duration": 165,
    "start_time": "2022-05-25T13:11:06.586Z"
   },
   {
    "duration": 15,
    "start_time": "2022-05-25T13:12:26.901Z"
   },
   {
    "duration": 21,
    "start_time": "2022-05-25T13:12:39.547Z"
   },
   {
    "duration": 9,
    "start_time": "2022-05-25T13:38:54.335Z"
   },
   {
    "duration": 10,
    "start_time": "2022-05-25T13:39:00.411Z"
   },
   {
    "duration": 9,
    "start_time": "2022-05-25T13:39:04.835Z"
   },
   {
    "duration": 9,
    "start_time": "2022-05-25T13:39:09.723Z"
   },
   {
    "duration": 29,
    "start_time": "2022-05-25T13:43:20.707Z"
   },
   {
    "duration": 14,
    "start_time": "2022-05-25T13:45:14.522Z"
   },
   {
    "duration": 1051,
    "start_time": "2022-05-25T13:45:20.504Z"
   },
   {
    "duration": 146,
    "start_time": "2022-05-25T13:45:21.558Z"
   },
   {
    "duration": 5,
    "start_time": "2022-05-25T13:45:21.706Z"
   },
   {
    "duration": 39,
    "start_time": "2022-05-25T13:45:21.713Z"
   },
   {
    "duration": 29,
    "start_time": "2022-05-25T13:45:21.754Z"
   },
   {
    "duration": 4,
    "start_time": "2022-05-25T13:45:21.785Z"
   },
   {
    "duration": 28,
    "start_time": "2022-05-25T13:45:21.791Z"
   },
   {
    "duration": 5,
    "start_time": "2022-05-25T13:45:21.820Z"
   },
   {
    "duration": 34,
    "start_time": "2022-05-25T13:45:21.827Z"
   },
   {
    "duration": 6,
    "start_time": "2022-05-25T13:45:21.863Z"
   },
   {
    "duration": 6,
    "start_time": "2022-05-25T13:45:21.871Z"
   },
   {
    "duration": 9,
    "start_time": "2022-05-25T13:45:21.878Z"
   },
   {
    "duration": 10,
    "start_time": "2022-05-25T13:45:21.889Z"
   },
   {
    "duration": 12,
    "start_time": "2022-05-25T13:45:21.902Z"
   },
   {
    "duration": 10,
    "start_time": "2022-05-25T13:45:21.916Z"
   },
   {
    "duration": 5,
    "start_time": "2022-05-25T13:45:21.959Z"
   },
   {
    "duration": 10,
    "start_time": "2022-05-25T13:45:21.965Z"
   },
   {
    "duration": 10,
    "start_time": "2022-05-25T13:45:21.976Z"
   },
   {
    "duration": 8,
    "start_time": "2022-05-25T13:45:21.988Z"
   },
   {
    "duration": 284,
    "start_time": "2022-05-25T13:45:21.998Z"
   },
   {
    "duration": 318,
    "start_time": "2022-05-25T13:45:22.283Z"
   },
   {
    "duration": 268,
    "start_time": "2022-05-25T13:45:22.606Z"
   },
   {
    "duration": 306,
    "start_time": "2022-05-25T13:45:22.876Z"
   },
   {
    "duration": 178,
    "start_time": "2022-05-25T13:45:23.183Z"
   },
   {
    "duration": 297,
    "start_time": "2022-05-25T13:45:23.362Z"
   },
   {
    "duration": 11,
    "start_time": "2022-05-25T13:45:23.660Z"
   },
   {
    "duration": 157,
    "start_time": "2022-05-25T13:45:23.673Z"
   },
   {
    "duration": 5,
    "start_time": "2022-05-25T13:45:23.832Z"
   },
   {
    "duration": 171,
    "start_time": "2022-05-25T13:45:23.838Z"
   },
   {
    "duration": 163,
    "start_time": "2022-05-25T13:45:24.011Z"
   },
   {
    "duration": 4,
    "start_time": "2022-05-25T13:45:24.176Z"
   },
   {
    "duration": 233,
    "start_time": "2022-05-25T13:45:24.182Z"
   },
   {
    "duration": 172,
    "start_time": "2022-05-25T13:45:24.417Z"
   },
   {
    "duration": 11,
    "start_time": "2022-05-25T13:45:24.590Z"
   },
   {
    "duration": 22,
    "start_time": "2022-05-25T13:45:24.602Z"
   },
   {
    "duration": 48,
    "start_time": "2022-05-25T13:45:24.625Z"
   },
   {
    "duration": 14,
    "start_time": "2022-05-25T13:45:24.675Z"
   },
   {
    "duration": 5,
    "start_time": "2022-05-25T14:10:14.424Z"
   },
   {
    "duration": 3,
    "start_time": "2022-05-25T14:10:34.147Z"
   },
   {
    "duration": 4,
    "start_time": "2022-05-25T14:10:35.895Z"
   },
   {
    "duration": 5,
    "start_time": "2022-05-25T14:11:54.783Z"
   },
   {
    "duration": 8,
    "start_time": "2022-05-25T14:12:02.959Z"
   },
   {
    "duration": 9,
    "start_time": "2022-05-25T14:12:17.260Z"
   },
   {
    "duration": 5,
    "start_time": "2022-05-25T14:14:12.653Z"
   },
   {
    "duration": 4,
    "start_time": "2022-05-25T14:14:23.375Z"
   },
   {
    "duration": 185,
    "start_time": "2022-05-25T14:35:31.720Z"
   },
   {
    "duration": 174,
    "start_time": "2022-05-25T14:49:05.531Z"
   },
   {
    "duration": 157,
    "start_time": "2022-05-25T14:49:12.015Z"
   },
   {
    "duration": 161,
    "start_time": "2022-05-25T14:50:08.085Z"
   },
   {
    "duration": 206,
    "start_time": "2022-05-25T14:50:16.489Z"
   },
   {
    "duration": 259,
    "start_time": "2022-05-25T14:50:22.959Z"
   },
   {
    "duration": 208,
    "start_time": "2022-05-25T14:50:26.795Z"
   },
   {
    "duration": 12,
    "start_time": "2022-05-25T14:52:01.507Z"
   },
   {
    "duration": 11,
    "start_time": "2022-05-25T14:53:36.202Z"
   },
   {
    "duration": 11,
    "start_time": "2022-05-25T14:54:33.748Z"
   },
   {
    "duration": 14,
    "start_time": "2022-05-25T14:54:57.369Z"
   },
   {
    "duration": 9,
    "start_time": "2022-05-25T15:00:04.769Z"
   },
   {
    "duration": 9,
    "start_time": "2022-05-25T15:00:48.224Z"
   },
   {
    "duration": 42,
    "start_time": "2022-05-25T15:02:26.748Z"
   },
   {
    "duration": 31,
    "start_time": "2022-05-25T15:09:27.907Z"
   },
   {
    "duration": 14,
    "start_time": "2022-05-25T15:26:33.907Z"
   },
   {
    "duration": 14,
    "start_time": "2022-05-25T15:27:02.971Z"
   },
   {
    "duration": 29,
    "start_time": "2022-05-25T18:26:17.358Z"
   },
   {
    "duration": 12,
    "start_time": "2022-05-25T18:28:04.479Z"
   },
   {
    "duration": 1236,
    "start_time": "2022-05-25T18:28:16.288Z"
   },
   {
    "duration": 165,
    "start_time": "2022-05-25T18:28:17.526Z"
   },
   {
    "duration": 4,
    "start_time": "2022-05-25T18:28:17.693Z"
   },
   {
    "duration": 46,
    "start_time": "2022-05-25T18:28:17.699Z"
   },
   {
    "duration": 50,
    "start_time": "2022-05-25T18:28:17.747Z"
   },
   {
    "duration": 23,
    "start_time": "2022-05-25T18:28:17.798Z"
   },
   {
    "duration": 5,
    "start_time": "2022-05-25T18:28:17.823Z"
   },
   {
    "duration": 8,
    "start_time": "2022-05-25T18:28:17.829Z"
   },
   {
    "duration": 37,
    "start_time": "2022-05-25T18:28:17.838Z"
   },
   {
    "duration": 18,
    "start_time": "2022-05-25T18:28:17.879Z"
   },
   {
    "duration": 10,
    "start_time": "2022-05-25T18:28:17.898Z"
   },
   {
    "duration": 11,
    "start_time": "2022-05-25T18:28:17.909Z"
   },
   {
    "duration": 13,
    "start_time": "2022-05-25T18:28:17.922Z"
   },
   {
    "duration": 11,
    "start_time": "2022-05-25T18:28:17.936Z"
   },
   {
    "duration": 7,
    "start_time": "2022-05-25T18:28:17.948Z"
   },
   {
    "duration": 345,
    "start_time": "2022-05-25T18:28:17.957Z"
   },
   {
    "duration": 368,
    "start_time": "2022-05-25T18:28:18.303Z"
   },
   {
    "duration": 337,
    "start_time": "2022-05-25T18:28:18.673Z"
   },
   {
    "duration": 306,
    "start_time": "2022-05-25T18:28:19.011Z"
   },
   {
    "duration": 203,
    "start_time": "2022-05-25T18:28:19.319Z"
   },
   {
    "duration": 285,
    "start_time": "2022-05-25T18:28:19.524Z"
   },
   {
    "duration": 11,
    "start_time": "2022-05-25T18:28:19.812Z"
   },
   {
    "duration": 171,
    "start_time": "2022-05-25T18:28:19.824Z"
   },
   {
    "duration": 5,
    "start_time": "2022-05-25T18:28:19.997Z"
   },
   {
    "duration": 202,
    "start_time": "2022-05-25T18:28:20.003Z"
   },
   {
    "duration": 184,
    "start_time": "2022-05-25T18:28:20.206Z"
   },
   {
    "duration": 4,
    "start_time": "2022-05-25T18:28:20.394Z"
   },
   {
    "duration": 244,
    "start_time": "2022-05-25T18:28:20.401Z"
   },
   {
    "duration": 202,
    "start_time": "2022-05-25T18:28:20.647Z"
   },
   {
    "duration": 24,
    "start_time": "2022-05-25T18:28:20.851Z"
   },
   {
    "duration": 28,
    "start_time": "2022-05-25T18:28:20.879Z"
   },
   {
    "duration": 33,
    "start_time": "2022-05-25T18:28:20.908Z"
   },
   {
    "duration": 13,
    "start_time": "2022-05-25T18:28:20.943Z"
   },
   {
    "duration": 62,
    "start_time": "2022-08-19T14:49:46.013Z"
   },
   {
    "duration": 8,
    "start_time": "2022-08-19T14:50:10.834Z"
   },
   {
    "duration": 1301,
    "start_time": "2022-08-19T14:50:28.719Z"
   },
   {
    "duration": 197,
    "start_time": "2022-08-19T14:50:30.023Z"
   },
   {
    "duration": 3,
    "start_time": "2022-08-19T14:50:30.222Z"
   },
   {
    "duration": 67,
    "start_time": "2022-08-19T14:50:30.227Z"
   },
   {
    "duration": 34,
    "start_time": "2022-08-19T14:50:30.296Z"
   },
   {
    "duration": 49,
    "start_time": "2022-08-19T14:50:30.332Z"
   },
   {
    "duration": 7,
    "start_time": "2022-08-19T14:50:30.384Z"
   },
   {
    "duration": 35,
    "start_time": "2022-08-19T14:50:30.393Z"
   },
   {
    "duration": 17,
    "start_time": "2022-08-19T14:50:30.430Z"
   },
   {
    "duration": 22,
    "start_time": "2022-08-19T14:50:30.451Z"
   },
   {
    "duration": 43,
    "start_time": "2022-08-19T14:50:30.475Z"
   },
   {
    "duration": 37,
    "start_time": "2022-08-19T14:50:30.520Z"
   },
   {
    "duration": 34,
    "start_time": "2022-08-19T14:50:30.559Z"
   },
   {
    "duration": 22,
    "start_time": "2022-08-19T14:50:30.595Z"
   },
   {
    "duration": 215,
    "start_time": "2022-08-19T14:50:30.619Z"
   },
   {
    "duration": 6,
    "start_time": "2022-08-19T14:50:30.836Z"
   },
   {
    "duration": 347,
    "start_time": "2022-08-19T14:50:30.844Z"
   },
   {
    "duration": 327,
    "start_time": "2022-08-19T14:50:31.194Z"
   },
   {
    "duration": 257,
    "start_time": "2022-08-19T14:50:31.523Z"
   },
   {
    "duration": 374,
    "start_time": "2022-08-19T14:50:31.783Z"
   },
   {
    "duration": 207,
    "start_time": "2022-08-19T14:50:32.160Z"
   },
   {
    "duration": 310,
    "start_time": "2022-08-19T14:50:32.369Z"
   },
   {
    "duration": 14,
    "start_time": "2022-08-19T14:50:32.681Z"
   },
   {
    "duration": 175,
    "start_time": "2022-08-19T14:50:32.697Z"
   },
   {
    "duration": 6,
    "start_time": "2022-08-19T14:50:32.874Z"
   },
   {
    "duration": 198,
    "start_time": "2022-08-19T14:50:32.882Z"
   },
   {
    "duration": 166,
    "start_time": "2022-08-19T14:50:33.082Z"
   },
   {
    "duration": 4,
    "start_time": "2022-08-19T14:50:33.257Z"
   },
   {
    "duration": 334,
    "start_time": "2022-08-19T14:50:33.262Z"
   },
   {
    "duration": 192,
    "start_time": "2022-08-19T14:50:33.598Z"
   },
   {
    "duration": 12,
    "start_time": "2022-08-19T14:50:33.792Z"
   },
   {
    "duration": 13,
    "start_time": "2022-08-19T14:50:33.806Z"
   },
   {
    "duration": 45,
    "start_time": "2022-08-19T14:50:33.821Z"
   },
   {
    "duration": 13,
    "start_time": "2022-08-19T14:50:33.867Z"
   }
  ],
  "kernelspec": {
   "display_name": "Python 3 (ipykernel)",
   "language": "python",
   "name": "python3"
  },
  "language_info": {
   "codemirror_mode": {
    "name": "ipython",
    "version": 3
   },
   "file_extension": ".py",
   "mimetype": "text/x-python",
   "name": "python",
   "nbconvert_exporter": "python",
   "pygments_lexer": "ipython3",
   "version": "3.9.7"
  },
  "toc": {
   "base_numbering": 1,
   "nav_menu": {},
   "number_sections": true,
   "sideBar": true,
   "skip_h1_title": true,
   "title_cell": "Содержание",
   "title_sidebar": "Contents",
   "toc_cell": true,
   "toc_position": {
    "height": "calc(100% - 180px)",
    "left": "10px",
    "top": "150px",
    "width": "372px"
   },
   "toc_section_display": true,
   "toc_window_display": false
  }
 },
 "nbformat": 4,
 "nbformat_minor": 2
}
