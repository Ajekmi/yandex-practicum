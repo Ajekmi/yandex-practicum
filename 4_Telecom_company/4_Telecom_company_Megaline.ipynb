{
 "cells": [
  {
   "cell_type": "markdown",
   "metadata": {
    "toc": true
   },
   "source": [
    "<h1>Содержание<span class=\"tocSkip\"></span></h1>\n",
    "<div class=\"toc\"><ul class=\"toc-item\"><li><span><a href=\"#Изучение-данных-из-файла\" data-toc-modified-id=\"Изучение-данных-из-файла-1\"><span class=\"toc-item-num\">1&nbsp;&nbsp;</span>Изучение данных из файла</a></span><ul class=\"toc-item\"><li><span><a href=\"#Вывод\" data-toc-modified-id=\"Вывод-1.1\"><span class=\"toc-item-num\">1.1&nbsp;&nbsp;</span>Вывод</a></span></li></ul></li><li><span><a href=\"#Предобработка-данных\" data-toc-modified-id=\"Предобработка-данных-2\"><span class=\"toc-item-num\">2&nbsp;&nbsp;</span>Предобработка данных</a></span><ul class=\"toc-item\"><li><span><a href=\"#Приведение-данных-к-нужным-типам\" data-toc-modified-id=\"Приведение-данных-к-нужным-типам-2.1\"><span class=\"toc-item-num\">2.1&nbsp;&nbsp;</span>Приведение данных к нужным типам</a></span></li><li><span><a href=\"#Вывод\" data-toc-modified-id=\"Вывод-2.2\"><span class=\"toc-item-num\">2.2&nbsp;&nbsp;</span>Вывод</a></span></li></ul></li><li><span><a href=\"#Расчёты-и-добавление-результатов-в-таблицу\" data-toc-modified-id=\"Расчёты-и-добавление-результатов-в-таблицу-3\"><span class=\"toc-item-num\">3&nbsp;&nbsp;</span>Расчёты и добавление результатов в таблицу</a></span><ul class=\"toc-item\"><li><span><a href=\"#Количество-сделанных-звонков-и-израсходованных-минут-разговора-по-месяцам\" data-toc-modified-id=\"Количество-сделанных-звонков-и-израсходованных-минут-разговора-по-месяцам-3.1\"><span class=\"toc-item-num\">3.1&nbsp;&nbsp;</span>Количество сделанных звонков и израсходованных минут разговора по месяцам</a></span></li><li><span><a href=\"#Количество-отправленных-сообщений-по-месяцам\" data-toc-modified-id=\"Количество-отправленных-сообщений-по-месяцам-3.2\"><span class=\"toc-item-num\">3.2&nbsp;&nbsp;</span>Количество отправленных сообщений по месяцам</a></span></li><li><span><a href=\"#Объем-израсходованного-интернет-трафика-по-месяцам\" data-toc-modified-id=\"Объем-израсходованного-интернет-трафика-по-месяцам-3.3\"><span class=\"toc-item-num\">3.3&nbsp;&nbsp;</span>Объем израсходованного интернет-трафика по месяцам</a></span></li><li><span><a href=\"#Помесячная-выручка-с-каждого-пользователя\" data-toc-modified-id=\"Помесячная-выручка-с-каждого-пользователя-3.4\"><span class=\"toc-item-num\">3.4&nbsp;&nbsp;</span>Помесячная выручка с каждого пользователя</a></span></li><li><span><a href=\"#Вывод\" data-toc-modified-id=\"Вывод-3.5\"><span class=\"toc-item-num\">3.5&nbsp;&nbsp;</span>Вывод</a></span></li></ul></li><li><span><a href=\"#Исследовательский-анализ-данных\" data-toc-modified-id=\"Исследовательский-анализ-данных-4\"><span class=\"toc-item-num\">4&nbsp;&nbsp;</span>Исследовательский анализ данных</a></span><ul class=\"toc-item\"><li><span><a href=\"#Исследование-израсходованных-минут\" data-toc-modified-id=\"Исследование-израсходованных-минут-4.1\"><span class=\"toc-item-num\">4.1&nbsp;&nbsp;</span>Исследование израсходованных минут</a></span></li><li><span><a href=\"#Исследование-отправленных-сообщений\" data-toc-modified-id=\"Исследование-отправленных-сообщений-4.2\"><span class=\"toc-item-num\">4.2&nbsp;&nbsp;</span>Исследование отправленных сообщений</a></span></li><li><span><a href=\"#Исследование-израсходованного-интернет-трафика\" data-toc-modified-id=\"Исследование-израсходованного-интернет-трафика-4.3\"><span class=\"toc-item-num\">4.3&nbsp;&nbsp;</span>Исследование израсходованного интернет-трафика</a></span></li><li><span><a href=\"#Исследование-прибыли-по-двум-тарифам\" data-toc-modified-id=\"Исследование-прибыли-по-двум-тарифам-4.4\"><span class=\"toc-item-num\">4.4&nbsp;&nbsp;</span>Исследование прибыли по двум тарифам</a></span></li><li><span><a href=\"#Вывод\" data-toc-modified-id=\"Вывод-4.5\"><span class=\"toc-item-num\">4.5&nbsp;&nbsp;</span>Вывод</a></span></li></ul></li><li><span><a href=\"#Проверка-гипотез\" data-toc-modified-id=\"Проверка-гипотез-5\"><span class=\"toc-item-num\">5&nbsp;&nbsp;</span>Проверка гипотез</a></span><ul class=\"toc-item\"><li><span><a href=\"#Проверка-гипотезы-о-различии-средней-выручки-тарифов-«Ультра»-и-«Смарт»\" data-toc-modified-id=\"Проверка-гипотезы-о-различии-средней-выручки-тарифов-«Ультра»-и-«Смарт»-5.1\"><span class=\"toc-item-num\">5.1&nbsp;&nbsp;</span>Проверка гипотезы о различии средней выручки тарифов «Ультра» и «Смарт»</a></span></li><li><span><a href=\"#Проверка-гипотезы-о-различии-средней-выручки-пользователей-из-Москвы-от-выручки-пользователей-из-других-регионов\" data-toc-modified-id=\"Проверка-гипотезы-о-различии-средней-выручки-пользователей-из-Москвы-от-выручки-пользователей-из-других-регионов-5.2\"><span class=\"toc-item-num\">5.2&nbsp;&nbsp;</span>Проверка гипотезы о различии средней выручки пользователей из Москвы от выручки пользователей из других регионов</a></span></li><li><span><a href=\"#Вывод\" data-toc-modified-id=\"Вывод-5.3\"><span class=\"toc-item-num\">5.3&nbsp;&nbsp;</span>Вывод</a></span></li></ul></li><li><span><a href=\"#Общий-вывод\" data-toc-modified-id=\"Общий-вывод-6\"><span class=\"toc-item-num\">6&nbsp;&nbsp;</span>Общий вывод</a></span></li></ul></div>"
   ]
  },
  {
   "cell_type": "markdown",
   "metadata": {},
   "source": [
    "# Исследование тарифов \"Мегалайн\"\n",
    "\n",
    "Вы аналитик компании «Мегалайн» — федерального оператора сотовой связи. Клиентам предлагают два тарифных плана: «Смарт» и «Ультра». Чтобы скорректировать рекламный бюджет, коммерческий департамент хочет понять, какой тариф приносит больше денег.\n",
    "Вам предстоит сделать предварительный анализ тарифов на небольшой выборке клиентов. В вашем распоряжении данные 500 пользователей «Мегалайна»: кто они, откуда, каким тарифом пользуются, сколько звонков и сообщений каждый отправил за 2018 год. Нужно проанализировать поведение клиентов и сделать вывод — какой тариф лучше.\n"
   ]
  },
  {
   "cell_type": "markdown",
   "metadata": {},
   "source": [
    "Описание тарифов\n",
    "\n",
    "Тариф «Смарт»\n",
    "1.\tЕжемесячная плата: 550 рублей\n",
    "2.\tВключено 500 минут разговора, 50 сообщений и 15 Гб интернет-трафика\n",
    "3.\tСтоимость услуг сверх тарифного пакета:\n",
    "o\tминута разговора: 3 рубля\n",
    "o\tсообщение: 3 рубля\n",
    "o\t1 Гб интернет-трафика: 200 рублей\n",
    "\n",
    "Тариф «Ультра»\n",
    "1.\tЕжемесячная плата: 1950 рублей\n",
    "2.\tВключено 3000 минут разговора, 1000 сообщений и 30 Гб интернет-трафика\n",
    "3.\tСтоимость услуг сверх тарифного пакета:\n",
    "o\tминута разговора: 1 рубль\n",
    "o\tсообщение: 1 рубль\n",
    "o\t1 Гб интернет-трафика: 150 рублей"
   ]
  },
  {
   "cell_type": "markdown",
   "metadata": {},
   "source": [
    "## Изучение данных из файла"
   ]
  },
  {
   "cell_type": "code",
   "execution_count": 1,
   "metadata": {},
   "outputs": [],
   "source": [
    "import pandas as pd\n",
    "import numpy as np\n",
    "import matplotlib.pyplot as plt\n",
    "from scipy import stats as st"
   ]
  },
  {
   "cell_type": "code",
   "execution_count": 2,
   "metadata": {},
   "outputs": [],
   "source": [
    "try:\n",
    "    df_cells = pd.read_csv('calls.csv')\n",
    "    df_internet = pd.read_csv('internet.csv')\n",
    "    df_messages = pd.read_csv('messages.csv')\n",
    "    df_tariffs = pd.read_csv('tariffs.csv')\n",
    "    df_users = pd.read_csv('users.csv')    \n",
    "except:\n",
    "    df_cells = pd.read_csv('/datasets/calls.csv')\n",
    "    df_internet = pd.read_csv('/datasets/internet.csv')\n",
    "    df_messages = pd.read_csv('/datasets/messages.csv')\n",
    "    df_tariffs = pd.read_csv('/datasets/tariffs.csv')\n",
    "    df_users = pd.read_csv('/datasets/users.csv')"
   ]
  },
  {
   "cell_type": "markdown",
   "metadata": {},
   "source": [
    "Выведем первые пять строк каждой таблицы, общую информацию и подсчитаем явные дубликаты."
   ]
  },
  {
   "cell_type": "code",
   "execution_count": 3,
   "metadata": {},
   "outputs": [],
   "source": [
    "def table_info (df):\n",
    "    \n",
    "    print('___________Информация о датафрейме____________')\n",
    "    display(df.head())\n",
    "    display(df.describe())\n",
    "    print('')\n",
    "    print(df.info())\n",
    "    print('Количество дубликатов: ' + str(df.duplicated().sum()))\n",
    "    print('')"
   ]
  },
  {
   "cell_type": "code",
   "execution_count": 4,
   "metadata": {
    "scrolled": false
   },
   "outputs": [
    {
     "name": "stdout",
     "output_type": "stream",
     "text": [
      "___________Информация о датафрейме____________\n"
     ]
    },
    {
     "data": {
      "text/html": [
       "<div>\n",
       "<style scoped>\n",
       "    .dataframe tbody tr th:only-of-type {\n",
       "        vertical-align: middle;\n",
       "    }\n",
       "\n",
       "    .dataframe tbody tr th {\n",
       "        vertical-align: top;\n",
       "    }\n",
       "\n",
       "    .dataframe thead th {\n",
       "        text-align: right;\n",
       "    }\n",
       "</style>\n",
       "<table border=\"1\" class=\"dataframe\">\n",
       "  <thead>\n",
       "    <tr style=\"text-align: right;\">\n",
       "      <th></th>\n",
       "      <th>id</th>\n",
       "      <th>call_date</th>\n",
       "      <th>duration</th>\n",
       "      <th>user_id</th>\n",
       "    </tr>\n",
       "  </thead>\n",
       "  <tbody>\n",
       "    <tr>\n",
       "      <th>0</th>\n",
       "      <td>1000_0</td>\n",
       "      <td>2018-07-25</td>\n",
       "      <td>0.00</td>\n",
       "      <td>1000</td>\n",
       "    </tr>\n",
       "    <tr>\n",
       "      <th>1</th>\n",
       "      <td>1000_1</td>\n",
       "      <td>2018-08-17</td>\n",
       "      <td>0.00</td>\n",
       "      <td>1000</td>\n",
       "    </tr>\n",
       "    <tr>\n",
       "      <th>2</th>\n",
       "      <td>1000_2</td>\n",
       "      <td>2018-06-11</td>\n",
       "      <td>2.85</td>\n",
       "      <td>1000</td>\n",
       "    </tr>\n",
       "    <tr>\n",
       "      <th>3</th>\n",
       "      <td>1000_3</td>\n",
       "      <td>2018-09-21</td>\n",
       "      <td>13.80</td>\n",
       "      <td>1000</td>\n",
       "    </tr>\n",
       "    <tr>\n",
       "      <th>4</th>\n",
       "      <td>1000_4</td>\n",
       "      <td>2018-12-15</td>\n",
       "      <td>5.18</td>\n",
       "      <td>1000</td>\n",
       "    </tr>\n",
       "  </tbody>\n",
       "</table>\n",
       "</div>"
      ],
      "text/plain": [
       "       id   call_date  duration  user_id\n",
       "0  1000_0  2018-07-25      0.00     1000\n",
       "1  1000_1  2018-08-17      0.00     1000\n",
       "2  1000_2  2018-06-11      2.85     1000\n",
       "3  1000_3  2018-09-21     13.80     1000\n",
       "4  1000_4  2018-12-15      5.18     1000"
      ]
     },
     "metadata": {},
     "output_type": "display_data"
    },
    {
     "data": {
      "text/html": [
       "<div>\n",
       "<style scoped>\n",
       "    .dataframe tbody tr th:only-of-type {\n",
       "        vertical-align: middle;\n",
       "    }\n",
       "\n",
       "    .dataframe tbody tr th {\n",
       "        vertical-align: top;\n",
       "    }\n",
       "\n",
       "    .dataframe thead th {\n",
       "        text-align: right;\n",
       "    }\n",
       "</style>\n",
       "<table border=\"1\" class=\"dataframe\">\n",
       "  <thead>\n",
       "    <tr style=\"text-align: right;\">\n",
       "      <th></th>\n",
       "      <th>duration</th>\n",
       "      <th>user_id</th>\n",
       "    </tr>\n",
       "  </thead>\n",
       "  <tbody>\n",
       "    <tr>\n",
       "      <th>count</th>\n",
       "      <td>202607.000000</td>\n",
       "      <td>202607.000000</td>\n",
       "    </tr>\n",
       "    <tr>\n",
       "      <th>mean</th>\n",
       "      <td>6.755887</td>\n",
       "      <td>1253.940619</td>\n",
       "    </tr>\n",
       "    <tr>\n",
       "      <th>std</th>\n",
       "      <td>5.843365</td>\n",
       "      <td>144.722751</td>\n",
       "    </tr>\n",
       "    <tr>\n",
       "      <th>min</th>\n",
       "      <td>0.000000</td>\n",
       "      <td>1000.000000</td>\n",
       "    </tr>\n",
       "    <tr>\n",
       "      <th>25%</th>\n",
       "      <td>1.300000</td>\n",
       "      <td>1126.000000</td>\n",
       "    </tr>\n",
       "    <tr>\n",
       "      <th>50%</th>\n",
       "      <td>6.000000</td>\n",
       "      <td>1260.000000</td>\n",
       "    </tr>\n",
       "    <tr>\n",
       "      <th>75%</th>\n",
       "      <td>10.700000</td>\n",
       "      <td>1379.000000</td>\n",
       "    </tr>\n",
       "    <tr>\n",
       "      <th>max</th>\n",
       "      <td>38.000000</td>\n",
       "      <td>1499.000000</td>\n",
       "    </tr>\n",
       "  </tbody>\n",
       "</table>\n",
       "</div>"
      ],
      "text/plain": [
       "            duration        user_id\n",
       "count  202607.000000  202607.000000\n",
       "mean        6.755887    1253.940619\n",
       "std         5.843365     144.722751\n",
       "min         0.000000    1000.000000\n",
       "25%         1.300000    1126.000000\n",
       "50%         6.000000    1260.000000\n",
       "75%        10.700000    1379.000000\n",
       "max        38.000000    1499.000000"
      ]
     },
     "metadata": {},
     "output_type": "display_data"
    },
    {
     "name": "stdout",
     "output_type": "stream",
     "text": [
      "\n",
      "<class 'pandas.core.frame.DataFrame'>\n",
      "RangeIndex: 202607 entries, 0 to 202606\n",
      "Data columns (total 4 columns):\n",
      " #   Column     Non-Null Count   Dtype  \n",
      "---  ------     --------------   -----  \n",
      " 0   id         202607 non-null  object \n",
      " 1   call_date  202607 non-null  object \n",
      " 2   duration   202607 non-null  float64\n",
      " 3   user_id    202607 non-null  int64  \n",
      "dtypes: float64(1), int64(1), object(2)\n",
      "memory usage: 6.2+ MB\n",
      "None\n",
      "Количество дубликатов: 0\n",
      "\n",
      "___________Информация о датафрейме____________\n"
     ]
    },
    {
     "data": {
      "text/html": [
       "<div>\n",
       "<style scoped>\n",
       "    .dataframe tbody tr th:only-of-type {\n",
       "        vertical-align: middle;\n",
       "    }\n",
       "\n",
       "    .dataframe tbody tr th {\n",
       "        vertical-align: top;\n",
       "    }\n",
       "\n",
       "    .dataframe thead th {\n",
       "        text-align: right;\n",
       "    }\n",
       "</style>\n",
       "<table border=\"1\" class=\"dataframe\">\n",
       "  <thead>\n",
       "    <tr style=\"text-align: right;\">\n",
       "      <th></th>\n",
       "      <th>Unnamed: 0</th>\n",
       "      <th>id</th>\n",
       "      <th>mb_used</th>\n",
       "      <th>session_date</th>\n",
       "      <th>user_id</th>\n",
       "    </tr>\n",
       "  </thead>\n",
       "  <tbody>\n",
       "    <tr>\n",
       "      <th>0</th>\n",
       "      <td>0</td>\n",
       "      <td>1000_0</td>\n",
       "      <td>112.95</td>\n",
       "      <td>2018-11-25</td>\n",
       "      <td>1000</td>\n",
       "    </tr>\n",
       "    <tr>\n",
       "      <th>1</th>\n",
       "      <td>1</td>\n",
       "      <td>1000_1</td>\n",
       "      <td>1052.81</td>\n",
       "      <td>2018-09-07</td>\n",
       "      <td>1000</td>\n",
       "    </tr>\n",
       "    <tr>\n",
       "      <th>2</th>\n",
       "      <td>2</td>\n",
       "      <td>1000_2</td>\n",
       "      <td>1197.26</td>\n",
       "      <td>2018-06-25</td>\n",
       "      <td>1000</td>\n",
       "    </tr>\n",
       "    <tr>\n",
       "      <th>3</th>\n",
       "      <td>3</td>\n",
       "      <td>1000_3</td>\n",
       "      <td>550.27</td>\n",
       "      <td>2018-08-22</td>\n",
       "      <td>1000</td>\n",
       "    </tr>\n",
       "    <tr>\n",
       "      <th>4</th>\n",
       "      <td>4</td>\n",
       "      <td>1000_4</td>\n",
       "      <td>302.56</td>\n",
       "      <td>2018-09-24</td>\n",
       "      <td>1000</td>\n",
       "    </tr>\n",
       "  </tbody>\n",
       "</table>\n",
       "</div>"
      ],
      "text/plain": [
       "   Unnamed: 0      id  mb_used session_date  user_id\n",
       "0           0  1000_0   112.95   2018-11-25     1000\n",
       "1           1  1000_1  1052.81   2018-09-07     1000\n",
       "2           2  1000_2  1197.26   2018-06-25     1000\n",
       "3           3  1000_3   550.27   2018-08-22     1000\n",
       "4           4  1000_4   302.56   2018-09-24     1000"
      ]
     },
     "metadata": {},
     "output_type": "display_data"
    },
    {
     "data": {
      "text/html": [
       "<div>\n",
       "<style scoped>\n",
       "    .dataframe tbody tr th:only-of-type {\n",
       "        vertical-align: middle;\n",
       "    }\n",
       "\n",
       "    .dataframe tbody tr th {\n",
       "        vertical-align: top;\n",
       "    }\n",
       "\n",
       "    .dataframe thead th {\n",
       "        text-align: right;\n",
       "    }\n",
       "</style>\n",
       "<table border=\"1\" class=\"dataframe\">\n",
       "  <thead>\n",
       "    <tr style=\"text-align: right;\">\n",
       "      <th></th>\n",
       "      <th>Unnamed: 0</th>\n",
       "      <th>mb_used</th>\n",
       "      <th>user_id</th>\n",
       "    </tr>\n",
       "  </thead>\n",
       "  <tbody>\n",
       "    <tr>\n",
       "      <th>count</th>\n",
       "      <td>149396.000000</td>\n",
       "      <td>149396.000000</td>\n",
       "      <td>149396.000000</td>\n",
       "    </tr>\n",
       "    <tr>\n",
       "      <th>mean</th>\n",
       "      <td>74697.500000</td>\n",
       "      <td>370.192426</td>\n",
       "      <td>1252.099842</td>\n",
       "    </tr>\n",
       "    <tr>\n",
       "      <th>std</th>\n",
       "      <td>43127.054745</td>\n",
       "      <td>278.300951</td>\n",
       "      <td>144.050823</td>\n",
       "    </tr>\n",
       "    <tr>\n",
       "      <th>min</th>\n",
       "      <td>0.000000</td>\n",
       "      <td>0.000000</td>\n",
       "      <td>1000.000000</td>\n",
       "    </tr>\n",
       "    <tr>\n",
       "      <th>25%</th>\n",
       "      <td>37348.750000</td>\n",
       "      <td>138.187500</td>\n",
       "      <td>1130.000000</td>\n",
       "    </tr>\n",
       "    <tr>\n",
       "      <th>50%</th>\n",
       "      <td>74697.500000</td>\n",
       "      <td>348.015000</td>\n",
       "      <td>1251.000000</td>\n",
       "    </tr>\n",
       "    <tr>\n",
       "      <th>75%</th>\n",
       "      <td>112046.250000</td>\n",
       "      <td>559.552500</td>\n",
       "      <td>1380.000000</td>\n",
       "    </tr>\n",
       "    <tr>\n",
       "      <th>max</th>\n",
       "      <td>149395.000000</td>\n",
       "      <td>1724.830000</td>\n",
       "      <td>1499.000000</td>\n",
       "    </tr>\n",
       "  </tbody>\n",
       "</table>\n",
       "</div>"
      ],
      "text/plain": [
       "          Unnamed: 0        mb_used        user_id\n",
       "count  149396.000000  149396.000000  149396.000000\n",
       "mean    74697.500000     370.192426    1252.099842\n",
       "std     43127.054745     278.300951     144.050823\n",
       "min         0.000000       0.000000    1000.000000\n",
       "25%     37348.750000     138.187500    1130.000000\n",
       "50%     74697.500000     348.015000    1251.000000\n",
       "75%    112046.250000     559.552500    1380.000000\n",
       "max    149395.000000    1724.830000    1499.000000"
      ]
     },
     "metadata": {},
     "output_type": "display_data"
    },
    {
     "name": "stdout",
     "output_type": "stream",
     "text": [
      "\n",
      "<class 'pandas.core.frame.DataFrame'>\n",
      "RangeIndex: 149396 entries, 0 to 149395\n",
      "Data columns (total 5 columns):\n",
      " #   Column        Non-Null Count   Dtype  \n",
      "---  ------        --------------   -----  \n",
      " 0   Unnamed: 0    149396 non-null  int64  \n",
      " 1   id            149396 non-null  object \n",
      " 2   mb_used       149396 non-null  float64\n",
      " 3   session_date  149396 non-null  object \n",
      " 4   user_id       149396 non-null  int64  \n",
      "dtypes: float64(1), int64(2), object(2)\n",
      "memory usage: 5.7+ MB\n",
      "None\n",
      "Количество дубликатов: 0\n",
      "\n",
      "___________Информация о датафрейме____________\n"
     ]
    },
    {
     "data": {
      "text/html": [
       "<div>\n",
       "<style scoped>\n",
       "    .dataframe tbody tr th:only-of-type {\n",
       "        vertical-align: middle;\n",
       "    }\n",
       "\n",
       "    .dataframe tbody tr th {\n",
       "        vertical-align: top;\n",
       "    }\n",
       "\n",
       "    .dataframe thead th {\n",
       "        text-align: right;\n",
       "    }\n",
       "</style>\n",
       "<table border=\"1\" class=\"dataframe\">\n",
       "  <thead>\n",
       "    <tr style=\"text-align: right;\">\n",
       "      <th></th>\n",
       "      <th>id</th>\n",
       "      <th>message_date</th>\n",
       "      <th>user_id</th>\n",
       "    </tr>\n",
       "  </thead>\n",
       "  <tbody>\n",
       "    <tr>\n",
       "      <th>0</th>\n",
       "      <td>1000_0</td>\n",
       "      <td>2018-06-27</td>\n",
       "      <td>1000</td>\n",
       "    </tr>\n",
       "    <tr>\n",
       "      <th>1</th>\n",
       "      <td>1000_1</td>\n",
       "      <td>2018-10-08</td>\n",
       "      <td>1000</td>\n",
       "    </tr>\n",
       "    <tr>\n",
       "      <th>2</th>\n",
       "      <td>1000_2</td>\n",
       "      <td>2018-08-04</td>\n",
       "      <td>1000</td>\n",
       "    </tr>\n",
       "    <tr>\n",
       "      <th>3</th>\n",
       "      <td>1000_3</td>\n",
       "      <td>2018-06-16</td>\n",
       "      <td>1000</td>\n",
       "    </tr>\n",
       "    <tr>\n",
       "      <th>4</th>\n",
       "      <td>1000_4</td>\n",
       "      <td>2018-12-05</td>\n",
       "      <td>1000</td>\n",
       "    </tr>\n",
       "  </tbody>\n",
       "</table>\n",
       "</div>"
      ],
      "text/plain": [
       "       id message_date  user_id\n",
       "0  1000_0   2018-06-27     1000\n",
       "1  1000_1   2018-10-08     1000\n",
       "2  1000_2   2018-08-04     1000\n",
       "3  1000_3   2018-06-16     1000\n",
       "4  1000_4   2018-12-05     1000"
      ]
     },
     "metadata": {},
     "output_type": "display_data"
    },
    {
     "data": {
      "text/html": [
       "<div>\n",
       "<style scoped>\n",
       "    .dataframe tbody tr th:only-of-type {\n",
       "        vertical-align: middle;\n",
       "    }\n",
       "\n",
       "    .dataframe tbody tr th {\n",
       "        vertical-align: top;\n",
       "    }\n",
       "\n",
       "    .dataframe thead th {\n",
       "        text-align: right;\n",
       "    }\n",
       "</style>\n",
       "<table border=\"1\" class=\"dataframe\">\n",
       "  <thead>\n",
       "    <tr style=\"text-align: right;\">\n",
       "      <th></th>\n",
       "      <th>user_id</th>\n",
       "    </tr>\n",
       "  </thead>\n",
       "  <tbody>\n",
       "    <tr>\n",
       "      <th>count</th>\n",
       "      <td>123036.000000</td>\n",
       "    </tr>\n",
       "    <tr>\n",
       "      <th>mean</th>\n",
       "      <td>1256.989410</td>\n",
       "    </tr>\n",
       "    <tr>\n",
       "      <th>std</th>\n",
       "      <td>143.523967</td>\n",
       "    </tr>\n",
       "    <tr>\n",
       "      <th>min</th>\n",
       "      <td>1000.000000</td>\n",
       "    </tr>\n",
       "    <tr>\n",
       "      <th>25%</th>\n",
       "      <td>1134.000000</td>\n",
       "    </tr>\n",
       "    <tr>\n",
       "      <th>50%</th>\n",
       "      <td>1271.000000</td>\n",
       "    </tr>\n",
       "    <tr>\n",
       "      <th>75%</th>\n",
       "      <td>1381.000000</td>\n",
       "    </tr>\n",
       "    <tr>\n",
       "      <th>max</th>\n",
       "      <td>1499.000000</td>\n",
       "    </tr>\n",
       "  </tbody>\n",
       "</table>\n",
       "</div>"
      ],
      "text/plain": [
       "             user_id\n",
       "count  123036.000000\n",
       "mean     1256.989410\n",
       "std       143.523967\n",
       "min      1000.000000\n",
       "25%      1134.000000\n",
       "50%      1271.000000\n",
       "75%      1381.000000\n",
       "max      1499.000000"
      ]
     },
     "metadata": {},
     "output_type": "display_data"
    },
    {
     "name": "stdout",
     "output_type": "stream",
     "text": [
      "\n",
      "<class 'pandas.core.frame.DataFrame'>\n",
      "RangeIndex: 123036 entries, 0 to 123035\n",
      "Data columns (total 3 columns):\n",
      " #   Column        Non-Null Count   Dtype \n",
      "---  ------        --------------   ----- \n",
      " 0   id            123036 non-null  object\n",
      " 1   message_date  123036 non-null  object\n",
      " 2   user_id       123036 non-null  int64 \n",
      "dtypes: int64(1), object(2)\n",
      "memory usage: 2.8+ MB\n",
      "None\n",
      "Количество дубликатов: 0\n",
      "\n",
      "___________Информация о датафрейме____________\n"
     ]
    },
    {
     "data": {
      "text/html": [
       "<div>\n",
       "<style scoped>\n",
       "    .dataframe tbody tr th:only-of-type {\n",
       "        vertical-align: middle;\n",
       "    }\n",
       "\n",
       "    .dataframe tbody tr th {\n",
       "        vertical-align: top;\n",
       "    }\n",
       "\n",
       "    .dataframe thead th {\n",
       "        text-align: right;\n",
       "    }\n",
       "</style>\n",
       "<table border=\"1\" class=\"dataframe\">\n",
       "  <thead>\n",
       "    <tr style=\"text-align: right;\">\n",
       "      <th></th>\n",
       "      <th>messages_included</th>\n",
       "      <th>mb_per_month_included</th>\n",
       "      <th>minutes_included</th>\n",
       "      <th>rub_monthly_fee</th>\n",
       "      <th>rub_per_gb</th>\n",
       "      <th>rub_per_message</th>\n",
       "      <th>rub_per_minute</th>\n",
       "      <th>tariff_name</th>\n",
       "    </tr>\n",
       "  </thead>\n",
       "  <tbody>\n",
       "    <tr>\n",
       "      <th>0</th>\n",
       "      <td>50</td>\n",
       "      <td>15360</td>\n",
       "      <td>500</td>\n",
       "      <td>550</td>\n",
       "      <td>200</td>\n",
       "      <td>3</td>\n",
       "      <td>3</td>\n",
       "      <td>smart</td>\n",
       "    </tr>\n",
       "    <tr>\n",
       "      <th>1</th>\n",
       "      <td>1000</td>\n",
       "      <td>30720</td>\n",
       "      <td>3000</td>\n",
       "      <td>1950</td>\n",
       "      <td>150</td>\n",
       "      <td>1</td>\n",
       "      <td>1</td>\n",
       "      <td>ultra</td>\n",
       "    </tr>\n",
       "  </tbody>\n",
       "</table>\n",
       "</div>"
      ],
      "text/plain": [
       "   messages_included  mb_per_month_included  minutes_included  \\\n",
       "0                 50                  15360               500   \n",
       "1               1000                  30720              3000   \n",
       "\n",
       "   rub_monthly_fee  rub_per_gb  rub_per_message  rub_per_minute tariff_name  \n",
       "0              550         200                3               3       smart  \n",
       "1             1950         150                1               1       ultra  "
      ]
     },
     "metadata": {},
     "output_type": "display_data"
    },
    {
     "data": {
      "text/html": [
       "<div>\n",
       "<style scoped>\n",
       "    .dataframe tbody tr th:only-of-type {\n",
       "        vertical-align: middle;\n",
       "    }\n",
       "\n",
       "    .dataframe tbody tr th {\n",
       "        vertical-align: top;\n",
       "    }\n",
       "\n",
       "    .dataframe thead th {\n",
       "        text-align: right;\n",
       "    }\n",
       "</style>\n",
       "<table border=\"1\" class=\"dataframe\">\n",
       "  <thead>\n",
       "    <tr style=\"text-align: right;\">\n",
       "      <th></th>\n",
       "      <th>messages_included</th>\n",
       "      <th>mb_per_month_included</th>\n",
       "      <th>minutes_included</th>\n",
       "      <th>rub_monthly_fee</th>\n",
       "      <th>rub_per_gb</th>\n",
       "      <th>rub_per_message</th>\n",
       "      <th>rub_per_minute</th>\n",
       "    </tr>\n",
       "  </thead>\n",
       "  <tbody>\n",
       "    <tr>\n",
       "      <th>count</th>\n",
       "      <td>2.000000</td>\n",
       "      <td>2.000000</td>\n",
       "      <td>2.000000</td>\n",
       "      <td>2.000000</td>\n",
       "      <td>2.000000</td>\n",
       "      <td>2.000000</td>\n",
       "      <td>2.000000</td>\n",
       "    </tr>\n",
       "    <tr>\n",
       "      <th>mean</th>\n",
       "      <td>525.000000</td>\n",
       "      <td>23040.000000</td>\n",
       "      <td>1750.000000</td>\n",
       "      <td>1250.000000</td>\n",
       "      <td>175.000000</td>\n",
       "      <td>2.000000</td>\n",
       "      <td>2.000000</td>\n",
       "    </tr>\n",
       "    <tr>\n",
       "      <th>std</th>\n",
       "      <td>671.751442</td>\n",
       "      <td>10861.160159</td>\n",
       "      <td>1767.766953</td>\n",
       "      <td>989.949494</td>\n",
       "      <td>35.355339</td>\n",
       "      <td>1.414214</td>\n",
       "      <td>1.414214</td>\n",
       "    </tr>\n",
       "    <tr>\n",
       "      <th>min</th>\n",
       "      <td>50.000000</td>\n",
       "      <td>15360.000000</td>\n",
       "      <td>500.000000</td>\n",
       "      <td>550.000000</td>\n",
       "      <td>150.000000</td>\n",
       "      <td>1.000000</td>\n",
       "      <td>1.000000</td>\n",
       "    </tr>\n",
       "    <tr>\n",
       "      <th>25%</th>\n",
       "      <td>287.500000</td>\n",
       "      <td>19200.000000</td>\n",
       "      <td>1125.000000</td>\n",
       "      <td>900.000000</td>\n",
       "      <td>162.500000</td>\n",
       "      <td>1.500000</td>\n",
       "      <td>1.500000</td>\n",
       "    </tr>\n",
       "    <tr>\n",
       "      <th>50%</th>\n",
       "      <td>525.000000</td>\n",
       "      <td>23040.000000</td>\n",
       "      <td>1750.000000</td>\n",
       "      <td>1250.000000</td>\n",
       "      <td>175.000000</td>\n",
       "      <td>2.000000</td>\n",
       "      <td>2.000000</td>\n",
       "    </tr>\n",
       "    <tr>\n",
       "      <th>75%</th>\n",
       "      <td>762.500000</td>\n",
       "      <td>26880.000000</td>\n",
       "      <td>2375.000000</td>\n",
       "      <td>1600.000000</td>\n",
       "      <td>187.500000</td>\n",
       "      <td>2.500000</td>\n",
       "      <td>2.500000</td>\n",
       "    </tr>\n",
       "    <tr>\n",
       "      <th>max</th>\n",
       "      <td>1000.000000</td>\n",
       "      <td>30720.000000</td>\n",
       "      <td>3000.000000</td>\n",
       "      <td>1950.000000</td>\n",
       "      <td>200.000000</td>\n",
       "      <td>3.000000</td>\n",
       "      <td>3.000000</td>\n",
       "    </tr>\n",
       "  </tbody>\n",
       "</table>\n",
       "</div>"
      ],
      "text/plain": [
       "       messages_included  mb_per_month_included  minutes_included  \\\n",
       "count           2.000000               2.000000          2.000000   \n",
       "mean          525.000000           23040.000000       1750.000000   \n",
       "std           671.751442           10861.160159       1767.766953   \n",
       "min            50.000000           15360.000000        500.000000   \n",
       "25%           287.500000           19200.000000       1125.000000   \n",
       "50%           525.000000           23040.000000       1750.000000   \n",
       "75%           762.500000           26880.000000       2375.000000   \n",
       "max          1000.000000           30720.000000       3000.000000   \n",
       "\n",
       "       rub_monthly_fee  rub_per_gb  rub_per_message  rub_per_minute  \n",
       "count         2.000000    2.000000         2.000000        2.000000  \n",
       "mean       1250.000000  175.000000         2.000000        2.000000  \n",
       "std         989.949494   35.355339         1.414214        1.414214  \n",
       "min         550.000000  150.000000         1.000000        1.000000  \n",
       "25%         900.000000  162.500000         1.500000        1.500000  \n",
       "50%        1250.000000  175.000000         2.000000        2.000000  \n",
       "75%        1600.000000  187.500000         2.500000        2.500000  \n",
       "max        1950.000000  200.000000         3.000000        3.000000  "
      ]
     },
     "metadata": {},
     "output_type": "display_data"
    },
    {
     "name": "stdout",
     "output_type": "stream",
     "text": [
      "\n",
      "<class 'pandas.core.frame.DataFrame'>\n",
      "RangeIndex: 2 entries, 0 to 1\n",
      "Data columns (total 8 columns):\n",
      " #   Column                 Non-Null Count  Dtype \n",
      "---  ------                 --------------  ----- \n",
      " 0   messages_included      2 non-null      int64 \n",
      " 1   mb_per_month_included  2 non-null      int64 \n",
      " 2   minutes_included       2 non-null      int64 \n",
      " 3   rub_monthly_fee        2 non-null      int64 \n",
      " 4   rub_per_gb             2 non-null      int64 \n",
      " 5   rub_per_message        2 non-null      int64 \n",
      " 6   rub_per_minute         2 non-null      int64 \n",
      " 7   tariff_name            2 non-null      object\n",
      "dtypes: int64(7), object(1)\n",
      "memory usage: 256.0+ bytes\n",
      "None\n",
      "Количество дубликатов: 0\n",
      "\n",
      "___________Информация о датафрейме____________\n"
     ]
    },
    {
     "data": {
      "text/html": [
       "<div>\n",
       "<style scoped>\n",
       "    .dataframe tbody tr th:only-of-type {\n",
       "        vertical-align: middle;\n",
       "    }\n",
       "\n",
       "    .dataframe tbody tr th {\n",
       "        vertical-align: top;\n",
       "    }\n",
       "\n",
       "    .dataframe thead th {\n",
       "        text-align: right;\n",
       "    }\n",
       "</style>\n",
       "<table border=\"1\" class=\"dataframe\">\n",
       "  <thead>\n",
       "    <tr style=\"text-align: right;\">\n",
       "      <th></th>\n",
       "      <th>user_id</th>\n",
       "      <th>age</th>\n",
       "      <th>churn_date</th>\n",
       "      <th>city</th>\n",
       "      <th>first_name</th>\n",
       "      <th>last_name</th>\n",
       "      <th>reg_date</th>\n",
       "      <th>tariff</th>\n",
       "    </tr>\n",
       "  </thead>\n",
       "  <tbody>\n",
       "    <tr>\n",
       "      <th>0</th>\n",
       "      <td>1000</td>\n",
       "      <td>52</td>\n",
       "      <td>NaN</td>\n",
       "      <td>Краснодар</td>\n",
       "      <td>Рафаил</td>\n",
       "      <td>Верещагин</td>\n",
       "      <td>2018-05-25</td>\n",
       "      <td>ultra</td>\n",
       "    </tr>\n",
       "    <tr>\n",
       "      <th>1</th>\n",
       "      <td>1001</td>\n",
       "      <td>41</td>\n",
       "      <td>NaN</td>\n",
       "      <td>Москва</td>\n",
       "      <td>Иван</td>\n",
       "      <td>Ежов</td>\n",
       "      <td>2018-11-01</td>\n",
       "      <td>smart</td>\n",
       "    </tr>\n",
       "    <tr>\n",
       "      <th>2</th>\n",
       "      <td>1002</td>\n",
       "      <td>59</td>\n",
       "      <td>NaN</td>\n",
       "      <td>Стерлитамак</td>\n",
       "      <td>Евгений</td>\n",
       "      <td>Абрамович</td>\n",
       "      <td>2018-06-17</td>\n",
       "      <td>smart</td>\n",
       "    </tr>\n",
       "    <tr>\n",
       "      <th>3</th>\n",
       "      <td>1003</td>\n",
       "      <td>23</td>\n",
       "      <td>NaN</td>\n",
       "      <td>Москва</td>\n",
       "      <td>Белла</td>\n",
       "      <td>Белякова</td>\n",
       "      <td>2018-08-17</td>\n",
       "      <td>ultra</td>\n",
       "    </tr>\n",
       "    <tr>\n",
       "      <th>4</th>\n",
       "      <td>1004</td>\n",
       "      <td>68</td>\n",
       "      <td>NaN</td>\n",
       "      <td>Новокузнецк</td>\n",
       "      <td>Татьяна</td>\n",
       "      <td>Авдеенко</td>\n",
       "      <td>2018-05-14</td>\n",
       "      <td>ultra</td>\n",
       "    </tr>\n",
       "  </tbody>\n",
       "</table>\n",
       "</div>"
      ],
      "text/plain": [
       "   user_id  age churn_date         city first_name  last_name    reg_date  \\\n",
       "0     1000   52        NaN    Краснодар     Рафаил  Верещагин  2018-05-25   \n",
       "1     1001   41        NaN       Москва       Иван       Ежов  2018-11-01   \n",
       "2     1002   59        NaN  Стерлитамак    Евгений  Абрамович  2018-06-17   \n",
       "3     1003   23        NaN       Москва      Белла   Белякова  2018-08-17   \n",
       "4     1004   68        NaN  Новокузнецк    Татьяна   Авдеенко  2018-05-14   \n",
       "\n",
       "  tariff  \n",
       "0  ultra  \n",
       "1  smart  \n",
       "2  smart  \n",
       "3  ultra  \n",
       "4  ultra  "
      ]
     },
     "metadata": {},
     "output_type": "display_data"
    },
    {
     "data": {
      "text/html": [
       "<div>\n",
       "<style scoped>\n",
       "    .dataframe tbody tr th:only-of-type {\n",
       "        vertical-align: middle;\n",
       "    }\n",
       "\n",
       "    .dataframe tbody tr th {\n",
       "        vertical-align: top;\n",
       "    }\n",
       "\n",
       "    .dataframe thead th {\n",
       "        text-align: right;\n",
       "    }\n",
       "</style>\n",
       "<table border=\"1\" class=\"dataframe\">\n",
       "  <thead>\n",
       "    <tr style=\"text-align: right;\">\n",
       "      <th></th>\n",
       "      <th>user_id</th>\n",
       "      <th>age</th>\n",
       "    </tr>\n",
       "  </thead>\n",
       "  <tbody>\n",
       "    <tr>\n",
       "      <th>count</th>\n",
       "      <td>500.000000</td>\n",
       "      <td>500.00000</td>\n",
       "    </tr>\n",
       "    <tr>\n",
       "      <th>mean</th>\n",
       "      <td>1249.500000</td>\n",
       "      <td>46.58800</td>\n",
       "    </tr>\n",
       "    <tr>\n",
       "      <th>std</th>\n",
       "      <td>144.481833</td>\n",
       "      <td>16.66763</td>\n",
       "    </tr>\n",
       "    <tr>\n",
       "      <th>min</th>\n",
       "      <td>1000.000000</td>\n",
       "      <td>18.00000</td>\n",
       "    </tr>\n",
       "    <tr>\n",
       "      <th>25%</th>\n",
       "      <td>1124.750000</td>\n",
       "      <td>32.00000</td>\n",
       "    </tr>\n",
       "    <tr>\n",
       "      <th>50%</th>\n",
       "      <td>1249.500000</td>\n",
       "      <td>46.00000</td>\n",
       "    </tr>\n",
       "    <tr>\n",
       "      <th>75%</th>\n",
       "      <td>1374.250000</td>\n",
       "      <td>62.00000</td>\n",
       "    </tr>\n",
       "    <tr>\n",
       "      <th>max</th>\n",
       "      <td>1499.000000</td>\n",
       "      <td>75.00000</td>\n",
       "    </tr>\n",
       "  </tbody>\n",
       "</table>\n",
       "</div>"
      ],
      "text/plain": [
       "           user_id        age\n",
       "count   500.000000  500.00000\n",
       "mean   1249.500000   46.58800\n",
       "std     144.481833   16.66763\n",
       "min    1000.000000   18.00000\n",
       "25%    1124.750000   32.00000\n",
       "50%    1249.500000   46.00000\n",
       "75%    1374.250000   62.00000\n",
       "max    1499.000000   75.00000"
      ]
     },
     "metadata": {},
     "output_type": "display_data"
    },
    {
     "name": "stdout",
     "output_type": "stream",
     "text": [
      "\n",
      "<class 'pandas.core.frame.DataFrame'>\n",
      "RangeIndex: 500 entries, 0 to 499\n",
      "Data columns (total 8 columns):\n",
      " #   Column      Non-Null Count  Dtype \n",
      "---  ------      --------------  ----- \n",
      " 0   user_id     500 non-null    int64 \n",
      " 1   age         500 non-null    int64 \n",
      " 2   churn_date  38 non-null     object\n",
      " 3   city        500 non-null    object\n",
      " 4   first_name  500 non-null    object\n",
      " 5   last_name   500 non-null    object\n",
      " 6   reg_date    500 non-null    object\n",
      " 7   tariff      500 non-null    object\n",
      "dtypes: int64(2), object(6)\n",
      "memory usage: 31.4+ KB\n",
      "None\n",
      "Количество дубликатов: 0\n",
      "\n"
     ]
    }
   ],
   "source": [
    "for table in [df_cells, df_internet, df_messages, df_tariffs, df_users]: \n",
    "    table_info(table)"
   ]
  },
  {
   "cell_type": "markdown",
   "metadata": {},
   "source": [
    "Обозначение столбцов, согласно документации к данным:\n",
    "\n",
    "Таблица calls (информация о звонках):\n",
    "*\tid — уникальный номер звонка\n",
    "*\tcall_date — дата звонка\n",
    "*\tduration — длительность звонка в минутах\n",
    "*\tuser_id — идентификатор пользователя, сделавшего звонок\n",
    "\n",
    "Таблица messages (информация о сообщениях):\n",
    "*\tid — уникальный номер сообщения\n",
    "*\tmessage_date — дата сообщения\n",
    "*\tuser_id — идентификатор пользователя, отправившего сообщение\n",
    "\n",
    "Таблица internet (информация об интернет-сессиях):\n",
    "*\tid — уникальный номер сессии\n",
    "*\tmb_used — объём потраченного за сессию интернет-трафика (в мегабайтах)\n",
    "*\tsession_date — дата интернет-сессии\n",
    "*\tuser_id — идентификатор пользователя\n",
    "\n",
    "Таблица tariffs (информация о тарифах):\n",
    "*\ttariff_name — название тарифа\n",
    "*\trub_monthly_fee — ежемесячная абонентская плата в рублях\n",
    "*\tminutes_included — количество минут разговора в месяц, включённых в абонентскую плату\n",
    "*\tmessages_included — количество сообщений в месяц, включённых в абонентскую плату\n",
    "*\tmb_per_month_included — объём интернет-трафика, включённого в абонентскую плату (в мегабайтах)\n",
    "*\trub_per_minute — стоимость минуты разговора сверх тарифного пакета (например, если в тарифе 100 минут разговора в месяц, то со 101 минуты будет взиматься плата)\n",
    "*\trub_per_message — стоимость отправки сообщения сверх тарифного пакета\n",
    "*\trub_per_gb — стоимость дополнительного гигабайта интернет-трафика сверх тарифного пакета (1 гигабайт = 1024 мегабайта)\n",
    "\n",
    "Таблица users (информация о пользователях):\n",
    "*\tuser_id — уникальный идентификатор пользователя\n",
    "*\tfirst_name — имя пользователя\n",
    "*\tlast_name — фамилия пользователя\n",
    "*\tage — возраст пользователя (годы)\n",
    "*\treg_date — дата подключения тарифа (день, месяц, год)\n",
    "*\tchurn_date — дата прекращения пользования тарифом (если значение пропущено, то тариф ещё действовал на момент выгрузки данных)\n",
    "*\tcity — город проживания пользователя\n",
    "*\ttariff — название тарифного плана\n"
   ]
  },
  {
   "cell_type": "markdown",
   "metadata": {},
   "source": [
    "### Вывод"
   ]
  },
  {
   "cell_type": "markdown",
   "metadata": {},
   "source": [
    "Есть пропуски в таблице df_users, столбце churn_date. Есть столбцы, в которых нужно поменять фомат данных:\n",
    "* дату перевести из типа данных \"object\" в таблицах : df_cells(call_date), df_internet(session_date), df_messages (message_date), df_users (reg_date). \n",
    "* нужно округлить минуты в большую сторону в столбце duration таблицы df_cells\n",
    "* в дальнейшем нужно будет перевести потраченный интернет трафик df_internet(mb_used) в ГБ."
   ]
  },
  {
   "cell_type": "markdown",
   "metadata": {},
   "source": [
    "## Предобработка данных"
   ]
  },
  {
   "cell_type": "markdown",
   "metadata": {},
   "source": [
    "###  Приведение данных к нужным типам"
   ]
  },
  {
   "cell_type": "markdown",
   "metadata": {},
   "source": [
    "Перевод формата даты из `object` в `datetime64` для дальнейших операций с этим столбцом:"
   ]
  },
  {
   "cell_type": "code",
   "execution_count": 5,
   "metadata": {},
   "outputs": [],
   "source": [
    "df_cells['call_date'] = pd.to_datetime(df_cells['call_date'], format='%Y-%m-%d')\n",
    "df_internet['session_date'] = pd.to_datetime(df_internet['session_date'], format='%Y-%m-%d')\n",
    "df_messages['message_date'] = pd.to_datetime(df_messages['message_date'], format='%Y-%m-%d')\n",
    "df_users['reg_date'] = pd.to_datetime(df_users['reg_date'], format='%Y-%m-%d')"
   ]
  },
  {
   "cell_type": "code",
   "execution_count": 6,
   "metadata": {},
   "outputs": [
    {
     "name": "stdout",
     "output_type": "stream",
     "text": [
      "<class 'pandas.core.frame.DataFrame'>\n",
      "RangeIndex: 202607 entries, 0 to 202606\n",
      "Data columns (total 4 columns):\n",
      " #   Column     Non-Null Count   Dtype         \n",
      "---  ------     --------------   -----         \n",
      " 0   id         202607 non-null  object        \n",
      " 1   call_date  202607 non-null  datetime64[ns]\n",
      " 2   duration   202607 non-null  float64       \n",
      " 3   user_id    202607 non-null  int64         \n",
      "dtypes: datetime64[ns](1), float64(1), int64(1), object(1)\n",
      "memory usage: 6.2+ MB\n"
     ]
    }
   ],
   "source": [
    "df_cells.info()"
   ]
  },
  {
   "cell_type": "markdown",
   "metadata": {},
   "source": [
    "Округление столбца длительности звонка в минутах и перевод в формат данных `int`:"
   ]
  },
  {
   "cell_type": "code",
   "execution_count": 7,
   "metadata": {},
   "outputs": [],
   "source": [
    "df_cells['duration'] = np.ceil(df_cells['duration']).astype('int')"
   ]
  },
  {
   "cell_type": "code",
   "execution_count": 8,
   "metadata": {},
   "outputs": [
    {
     "data": {
      "text/html": [
       "<div>\n",
       "<style scoped>\n",
       "    .dataframe tbody tr th:only-of-type {\n",
       "        vertical-align: middle;\n",
       "    }\n",
       "\n",
       "    .dataframe tbody tr th {\n",
       "        vertical-align: top;\n",
       "    }\n",
       "\n",
       "    .dataframe thead th {\n",
       "        text-align: right;\n",
       "    }\n",
       "</style>\n",
       "<table border=\"1\" class=\"dataframe\">\n",
       "  <thead>\n",
       "    <tr style=\"text-align: right;\">\n",
       "      <th></th>\n",
       "      <th>id</th>\n",
       "      <th>call_date</th>\n",
       "      <th>duration</th>\n",
       "      <th>user_id</th>\n",
       "    </tr>\n",
       "  </thead>\n",
       "  <tbody>\n",
       "    <tr>\n",
       "      <th>0</th>\n",
       "      <td>1000_0</td>\n",
       "      <td>2018-07-25</td>\n",
       "      <td>0</td>\n",
       "      <td>1000</td>\n",
       "    </tr>\n",
       "    <tr>\n",
       "      <th>1</th>\n",
       "      <td>1000_1</td>\n",
       "      <td>2018-08-17</td>\n",
       "      <td>0</td>\n",
       "      <td>1000</td>\n",
       "    </tr>\n",
       "    <tr>\n",
       "      <th>2</th>\n",
       "      <td>1000_2</td>\n",
       "      <td>2018-06-11</td>\n",
       "      <td>3</td>\n",
       "      <td>1000</td>\n",
       "    </tr>\n",
       "    <tr>\n",
       "      <th>3</th>\n",
       "      <td>1000_3</td>\n",
       "      <td>2018-09-21</td>\n",
       "      <td>14</td>\n",
       "      <td>1000</td>\n",
       "    </tr>\n",
       "    <tr>\n",
       "      <th>4</th>\n",
       "      <td>1000_4</td>\n",
       "      <td>2018-12-15</td>\n",
       "      <td>6</td>\n",
       "      <td>1000</td>\n",
       "    </tr>\n",
       "  </tbody>\n",
       "</table>\n",
       "</div>"
      ],
      "text/plain": [
       "       id  call_date  duration  user_id\n",
       "0  1000_0 2018-07-25         0     1000\n",
       "1  1000_1 2018-08-17         0     1000\n",
       "2  1000_2 2018-06-11         3     1000\n",
       "3  1000_3 2018-09-21        14     1000\n",
       "4  1000_4 2018-12-15         6     1000"
      ]
     },
     "execution_count": 8,
     "metadata": {},
     "output_type": "execute_result"
    }
   ],
   "source": [
    "df_cells.head()"
   ]
  },
  {
   "cell_type": "markdown",
   "metadata": {},
   "source": [
    "### Вывод"
   ]
  },
  {
   "cell_type": "markdown",
   "metadata": {},
   "source": [
    "Есть пропуски в таблице df_users, столбце churn_date. Есть столбцы, в которых нужно поменять фомат данных:\n",
    "* дату перевести из типа данных \"object\" в таблицах : df_cells(call_date), df_internet(session_date), df_messages (message_date), df_users (reg_date). \n",
    "* нужно округлить минуты в большую сторону в столбце duration таблицы df_cells\n",
    "* в дальнейшем нужно будет перевести потраченный интернет трафик df_internet(mb_used) в ГБ."
   ]
  },
  {
   "cell_type": "markdown",
   "metadata": {},
   "source": [
    "## Расчёты и добавление результатов в таблицу"
   ]
  },
  {
   "cell_type": "markdown",
   "metadata": {},
   "source": [
    "### Количество сделанных звонков и израсходованных минут разговора по месяцам"
   ]
  },
  {
   "cell_type": "code",
   "execution_count": 9,
   "metadata": {},
   "outputs": [
    {
     "data": {
      "text/html": [
       "<div>\n",
       "<style scoped>\n",
       "    .dataframe tbody tr th:only-of-type {\n",
       "        vertical-align: middle;\n",
       "    }\n",
       "\n",
       "    .dataframe tbody tr th {\n",
       "        vertical-align: top;\n",
       "    }\n",
       "\n",
       "    .dataframe thead th {\n",
       "        text-align: right;\n",
       "    }\n",
       "</style>\n",
       "<table border=\"1\" class=\"dataframe\">\n",
       "  <thead>\n",
       "    <tr style=\"text-align: right;\">\n",
       "      <th></th>\n",
       "      <th>id</th>\n",
       "      <th>call_date</th>\n",
       "      <th>duration</th>\n",
       "      <th>user_id</th>\n",
       "    </tr>\n",
       "  </thead>\n",
       "  <tbody>\n",
       "    <tr>\n",
       "      <th>0</th>\n",
       "      <td>1000_0</td>\n",
       "      <td>2018-07-25</td>\n",
       "      <td>0</td>\n",
       "      <td>1000</td>\n",
       "    </tr>\n",
       "    <tr>\n",
       "      <th>1</th>\n",
       "      <td>1000_1</td>\n",
       "      <td>2018-08-17</td>\n",
       "      <td>0</td>\n",
       "      <td>1000</td>\n",
       "    </tr>\n",
       "    <tr>\n",
       "      <th>2</th>\n",
       "      <td>1000_2</td>\n",
       "      <td>2018-06-11</td>\n",
       "      <td>3</td>\n",
       "      <td>1000</td>\n",
       "    </tr>\n",
       "    <tr>\n",
       "      <th>3</th>\n",
       "      <td>1000_3</td>\n",
       "      <td>2018-09-21</td>\n",
       "      <td>14</td>\n",
       "      <td>1000</td>\n",
       "    </tr>\n",
       "    <tr>\n",
       "      <th>4</th>\n",
       "      <td>1000_4</td>\n",
       "      <td>2018-12-15</td>\n",
       "      <td>6</td>\n",
       "      <td>1000</td>\n",
       "    </tr>\n",
       "  </tbody>\n",
       "</table>\n",
       "</div>"
      ],
      "text/plain": [
       "       id  call_date  duration  user_id\n",
       "0  1000_0 2018-07-25         0     1000\n",
       "1  1000_1 2018-08-17         0     1000\n",
       "2  1000_2 2018-06-11         3     1000\n",
       "3  1000_3 2018-09-21        14     1000\n",
       "4  1000_4 2018-12-15         6     1000"
      ]
     },
     "execution_count": 9,
     "metadata": {},
     "output_type": "execute_result"
    }
   ],
   "source": [
    "df_cells.head()"
   ]
  },
  {
   "cell_type": "code",
   "execution_count": 10,
   "metadata": {},
   "outputs": [],
   "source": [
    "# Выделяем месяц из данных\n",
    "df_cells['month'] = pd.DatetimeIndex(df_cells['call_date']).month "
   ]
  },
  {
   "cell_type": "code",
   "execution_count": 11,
   "metadata": {},
   "outputs": [
    {
     "data": {
      "text/html": [
       "<div>\n",
       "<style scoped>\n",
       "    .dataframe tbody tr th:only-of-type {\n",
       "        vertical-align: middle;\n",
       "    }\n",
       "\n",
       "    .dataframe tbody tr th {\n",
       "        vertical-align: top;\n",
       "    }\n",
       "\n",
       "    .dataframe thead th {\n",
       "        text-align: right;\n",
       "    }\n",
       "</style>\n",
       "<table border=\"1\" class=\"dataframe\">\n",
       "  <thead>\n",
       "    <tr style=\"text-align: right;\">\n",
       "      <th></th>\n",
       "      <th>id</th>\n",
       "      <th>call_date</th>\n",
       "      <th>duration</th>\n",
       "      <th>user_id</th>\n",
       "      <th>month</th>\n",
       "    </tr>\n",
       "  </thead>\n",
       "  <tbody>\n",
       "    <tr>\n",
       "      <th>0</th>\n",
       "      <td>1000_0</td>\n",
       "      <td>2018-07-25</td>\n",
       "      <td>0</td>\n",
       "      <td>1000</td>\n",
       "      <td>7</td>\n",
       "    </tr>\n",
       "    <tr>\n",
       "      <th>1</th>\n",
       "      <td>1000_1</td>\n",
       "      <td>2018-08-17</td>\n",
       "      <td>0</td>\n",
       "      <td>1000</td>\n",
       "      <td>8</td>\n",
       "    </tr>\n",
       "    <tr>\n",
       "      <th>2</th>\n",
       "      <td>1000_2</td>\n",
       "      <td>2018-06-11</td>\n",
       "      <td>3</td>\n",
       "      <td>1000</td>\n",
       "      <td>6</td>\n",
       "    </tr>\n",
       "    <tr>\n",
       "      <th>3</th>\n",
       "      <td>1000_3</td>\n",
       "      <td>2018-09-21</td>\n",
       "      <td>14</td>\n",
       "      <td>1000</td>\n",
       "      <td>9</td>\n",
       "    </tr>\n",
       "    <tr>\n",
       "      <th>4</th>\n",
       "      <td>1000_4</td>\n",
       "      <td>2018-12-15</td>\n",
       "      <td>6</td>\n",
       "      <td>1000</td>\n",
       "      <td>12</td>\n",
       "    </tr>\n",
       "  </tbody>\n",
       "</table>\n",
       "</div>"
      ],
      "text/plain": [
       "       id  call_date  duration  user_id  month\n",
       "0  1000_0 2018-07-25         0     1000      7\n",
       "1  1000_1 2018-08-17         0     1000      8\n",
       "2  1000_2 2018-06-11         3     1000      6\n",
       "3  1000_3 2018-09-21        14     1000      9\n",
       "4  1000_4 2018-12-15         6     1000     12"
      ]
     },
     "execution_count": 11,
     "metadata": {},
     "output_type": "execute_result"
    }
   ],
   "source": [
    "df_cells.head()"
   ]
  },
  {
   "cell_type": "code",
   "execution_count": 12,
   "metadata": {
    "scrolled": true
   },
   "outputs": [
    {
     "data": {
      "text/html": [
       "<div>\n",
       "<style scoped>\n",
       "    .dataframe tbody tr th:only-of-type {\n",
       "        vertical-align: middle;\n",
       "    }\n",
       "\n",
       "    .dataframe tbody tr th {\n",
       "        vertical-align: top;\n",
       "    }\n",
       "\n",
       "    .dataframe thead th {\n",
       "        text-align: right;\n",
       "    }\n",
       "</style>\n",
       "<table border=\"1\" class=\"dataframe\">\n",
       "  <thead>\n",
       "    <tr style=\"text-align: right;\">\n",
       "      <th></th>\n",
       "      <th>user_id</th>\n",
       "      <th>month</th>\n",
       "      <th>call_count</th>\n",
       "      <th>minutes_sum</th>\n",
       "    </tr>\n",
       "  </thead>\n",
       "  <tbody>\n",
       "    <tr>\n",
       "      <th>0</th>\n",
       "      <td>1000</td>\n",
       "      <td>5</td>\n",
       "      <td>22</td>\n",
       "      <td>159</td>\n",
       "    </tr>\n",
       "    <tr>\n",
       "      <th>1</th>\n",
       "      <td>1000</td>\n",
       "      <td>6</td>\n",
       "      <td>43</td>\n",
       "      <td>172</td>\n",
       "    </tr>\n",
       "    <tr>\n",
       "      <th>2</th>\n",
       "      <td>1000</td>\n",
       "      <td>7</td>\n",
       "      <td>47</td>\n",
       "      <td>340</td>\n",
       "    </tr>\n",
       "    <tr>\n",
       "      <th>3</th>\n",
       "      <td>1000</td>\n",
       "      <td>8</td>\n",
       "      <td>52</td>\n",
       "      <td>408</td>\n",
       "    </tr>\n",
       "    <tr>\n",
       "      <th>4</th>\n",
       "      <td>1000</td>\n",
       "      <td>9</td>\n",
       "      <td>58</td>\n",
       "      <td>466</td>\n",
       "    </tr>\n",
       "  </tbody>\n",
       "</table>\n",
       "</div>"
      ],
      "text/plain": [
       "   user_id  month  call_count  minutes_sum\n",
       "0     1000      5          22          159\n",
       "1     1000      6          43          172\n",
       "2     1000      7          47          340\n",
       "3     1000      8          52          408\n",
       "4     1000      9          58          466"
      ]
     },
     "execution_count": 12,
     "metadata": {},
     "output_type": "execute_result"
    }
   ],
   "source": [
    "# Количество сделанных звонков каждого пользователя по месяцам - call_count\n",
    "# Количество израсходованных минут разговора по месяцам - minutes_sum\n",
    "\n",
    "call_count = (df_cells.groupby(['user_id', 'month'])\n",
    "              .agg(call_count = ('id', 'count'), minutes_sum = ('duration', 'sum'))\n",
    "              .reset_index())\n",
    "call_count.head()"
   ]
  },
  {
   "cell_type": "markdown",
   "metadata": {},
   "source": [
    "### Количество отправленных сообщений по месяцам"
   ]
  },
  {
   "cell_type": "code",
   "execution_count": 13,
   "metadata": {},
   "outputs": [],
   "source": [
    "# Выделяем месяц из данных\n",
    "df_messages['month'] = pd.DatetimeIndex(df_messages['message_date']).month"
   ]
  },
  {
   "cell_type": "code",
   "execution_count": 14,
   "metadata": {},
   "outputs": [
    {
     "data": {
      "text/html": [
       "<div>\n",
       "<style scoped>\n",
       "    .dataframe tbody tr th:only-of-type {\n",
       "        vertical-align: middle;\n",
       "    }\n",
       "\n",
       "    .dataframe tbody tr th {\n",
       "        vertical-align: top;\n",
       "    }\n",
       "\n",
       "    .dataframe thead th {\n",
       "        text-align: right;\n",
       "    }\n",
       "</style>\n",
       "<table border=\"1\" class=\"dataframe\">\n",
       "  <thead>\n",
       "    <tr style=\"text-align: right;\">\n",
       "      <th></th>\n",
       "      <th>user_id</th>\n",
       "      <th>month</th>\n",
       "      <th>messages_count</th>\n",
       "    </tr>\n",
       "  </thead>\n",
       "  <tbody>\n",
       "    <tr>\n",
       "      <th>0</th>\n",
       "      <td>1000</td>\n",
       "      <td>5</td>\n",
       "      <td>22</td>\n",
       "    </tr>\n",
       "    <tr>\n",
       "      <th>1</th>\n",
       "      <td>1000</td>\n",
       "      <td>6</td>\n",
       "      <td>60</td>\n",
       "    </tr>\n",
       "    <tr>\n",
       "      <th>2</th>\n",
       "      <td>1000</td>\n",
       "      <td>7</td>\n",
       "      <td>75</td>\n",
       "    </tr>\n",
       "    <tr>\n",
       "      <th>3</th>\n",
       "      <td>1000</td>\n",
       "      <td>8</td>\n",
       "      <td>81</td>\n",
       "    </tr>\n",
       "    <tr>\n",
       "      <th>4</th>\n",
       "      <td>1000</td>\n",
       "      <td>9</td>\n",
       "      <td>57</td>\n",
       "    </tr>\n",
       "  </tbody>\n",
       "</table>\n",
       "</div>"
      ],
      "text/plain": [
       "   user_id  month  messages_count\n",
       "0     1000      5              22\n",
       "1     1000      6              60\n",
       "2     1000      7              75\n",
       "3     1000      8              81\n",
       "4     1000      9              57"
      ]
     },
     "execution_count": 14,
     "metadata": {},
     "output_type": "execute_result"
    }
   ],
   "source": [
    "# Количество отправленных сообщений каждого пользователя по месяцам столбец - messages_count\n",
    "messages_count = (df_messages.groupby(['user_id', 'month'])\n",
    "              .agg(messages_count = ('id', 'count'))\n",
    "              .reset_index())\n",
    "messages_count.head()"
   ]
  },
  {
   "cell_type": "markdown",
   "metadata": {},
   "source": [
    "### Объем израсходованного интернет-трафика по месяцам"
   ]
  },
  {
   "cell_type": "code",
   "execution_count": 15,
   "metadata": {},
   "outputs": [],
   "source": [
    "# Выделяем месяц из данных\n",
    "df_internet['month'] = pd.DatetimeIndex(df_internet['session_date']).month"
   ]
  },
  {
   "cell_type": "code",
   "execution_count": 16,
   "metadata": {
    "scrolled": true
   },
   "outputs": [
    {
     "data": {
      "text/html": [
       "<div>\n",
       "<style scoped>\n",
       "    .dataframe tbody tr th:only-of-type {\n",
       "        vertical-align: middle;\n",
       "    }\n",
       "\n",
       "    .dataframe tbody tr th {\n",
       "        vertical-align: top;\n",
       "    }\n",
       "\n",
       "    .dataframe thead th {\n",
       "        text-align: right;\n",
       "    }\n",
       "</style>\n",
       "<table border=\"1\" class=\"dataframe\">\n",
       "  <thead>\n",
       "    <tr style=\"text-align: right;\">\n",
       "      <th></th>\n",
       "      <th>Unnamed: 0</th>\n",
       "      <th>id</th>\n",
       "      <th>mb_used</th>\n",
       "      <th>session_date</th>\n",
       "      <th>user_id</th>\n",
       "      <th>month</th>\n",
       "    </tr>\n",
       "  </thead>\n",
       "  <tbody>\n",
       "    <tr>\n",
       "      <th>0</th>\n",
       "      <td>0</td>\n",
       "      <td>1000_0</td>\n",
       "      <td>112.95</td>\n",
       "      <td>2018-11-25</td>\n",
       "      <td>1000</td>\n",
       "      <td>11</td>\n",
       "    </tr>\n",
       "    <tr>\n",
       "      <th>1</th>\n",
       "      <td>1</td>\n",
       "      <td>1000_1</td>\n",
       "      <td>1052.81</td>\n",
       "      <td>2018-09-07</td>\n",
       "      <td>1000</td>\n",
       "      <td>9</td>\n",
       "    </tr>\n",
       "    <tr>\n",
       "      <th>2</th>\n",
       "      <td>2</td>\n",
       "      <td>1000_2</td>\n",
       "      <td>1197.26</td>\n",
       "      <td>2018-06-25</td>\n",
       "      <td>1000</td>\n",
       "      <td>6</td>\n",
       "    </tr>\n",
       "    <tr>\n",
       "      <th>3</th>\n",
       "      <td>3</td>\n",
       "      <td>1000_3</td>\n",
       "      <td>550.27</td>\n",
       "      <td>2018-08-22</td>\n",
       "      <td>1000</td>\n",
       "      <td>8</td>\n",
       "    </tr>\n",
       "    <tr>\n",
       "      <th>4</th>\n",
       "      <td>4</td>\n",
       "      <td>1000_4</td>\n",
       "      <td>302.56</td>\n",
       "      <td>2018-09-24</td>\n",
       "      <td>1000</td>\n",
       "      <td>9</td>\n",
       "    </tr>\n",
       "  </tbody>\n",
       "</table>\n",
       "</div>"
      ],
      "text/plain": [
       "   Unnamed: 0      id  mb_used session_date  user_id  month\n",
       "0           0  1000_0   112.95   2018-11-25     1000     11\n",
       "1           1  1000_1  1052.81   2018-09-07     1000      9\n",
       "2           2  1000_2  1197.26   2018-06-25     1000      6\n",
       "3           3  1000_3   550.27   2018-08-22     1000      8\n",
       "4           4  1000_4   302.56   2018-09-24     1000      9"
      ]
     },
     "execution_count": 16,
     "metadata": {},
     "output_type": "execute_result"
    }
   ],
   "source": [
    "df_internet.head()"
   ]
  },
  {
   "cell_type": "code",
   "execution_count": 17,
   "metadata": {},
   "outputs": [
    {
     "data": {
      "text/html": [
       "<div>\n",
       "<style scoped>\n",
       "    .dataframe tbody tr th:only-of-type {\n",
       "        vertical-align: middle;\n",
       "    }\n",
       "\n",
       "    .dataframe tbody tr th {\n",
       "        vertical-align: top;\n",
       "    }\n",
       "\n",
       "    .dataframe thead th {\n",
       "        text-align: right;\n",
       "    }\n",
       "</style>\n",
       "<table border=\"1\" class=\"dataframe\">\n",
       "  <thead>\n",
       "    <tr style=\"text-align: right;\">\n",
       "      <th></th>\n",
       "      <th>user_id</th>\n",
       "      <th>month</th>\n",
       "      <th>internet_traffic</th>\n",
       "    </tr>\n",
       "  </thead>\n",
       "  <tbody>\n",
       "    <tr>\n",
       "      <th>0</th>\n",
       "      <td>1000</td>\n",
       "      <td>5</td>\n",
       "      <td>3.0</td>\n",
       "    </tr>\n",
       "    <tr>\n",
       "      <th>1</th>\n",
       "      <td>1000</td>\n",
       "      <td>6</td>\n",
       "      <td>23.0</td>\n",
       "    </tr>\n",
       "    <tr>\n",
       "      <th>2</th>\n",
       "      <td>1000</td>\n",
       "      <td>7</td>\n",
       "      <td>14.0</td>\n",
       "    </tr>\n",
       "    <tr>\n",
       "      <th>3</th>\n",
       "      <td>1000</td>\n",
       "      <td>8</td>\n",
       "      <td>14.0</td>\n",
       "    </tr>\n",
       "    <tr>\n",
       "      <th>4</th>\n",
       "      <td>1000</td>\n",
       "      <td>9</td>\n",
       "      <td>15.0</td>\n",
       "    </tr>\n",
       "  </tbody>\n",
       "</table>\n",
       "</div>"
      ],
      "text/plain": [
       "   user_id  month  internet_traffic\n",
       "0     1000      5               3.0\n",
       "1     1000      6              23.0\n",
       "2     1000      7              14.0\n",
       "3     1000      8              14.0\n",
       "4     1000      9              15.0"
      ]
     },
     "execution_count": 17,
     "metadata": {},
     "output_type": "execute_result"
    }
   ],
   "source": [
    "# Количество израсходованного интернет-трафика каждого пользователя по месяцам столбец - internet_traffic\n",
    "internet_traffic = (df_internet.groupby(['user_id', 'month'])\n",
    "              .agg(internet_traffic = ('mb_used', 'sum'))\n",
    "              .reset_index())\n",
    "internet_traffic['internet_traffic'] = np.ceil(internet_traffic['internet_traffic'] / 1024)\n",
    "\n",
    "internet_traffic.head()"
   ]
  },
  {
   "cell_type": "markdown",
   "metadata": {},
   "source": [
    "### Помесячная выручка с каждого пользователя "
   ]
  },
  {
   "cell_type": "code",
   "execution_count": 18,
   "metadata": {},
   "outputs": [
    {
     "data": {
      "text/html": [
       "<div>\n",
       "<style scoped>\n",
       "    .dataframe tbody tr th:only-of-type {\n",
       "        vertical-align: middle;\n",
       "    }\n",
       "\n",
       "    .dataframe tbody tr th {\n",
       "        vertical-align: top;\n",
       "    }\n",
       "\n",
       "    .dataframe thead th {\n",
       "        text-align: right;\n",
       "    }\n",
       "</style>\n",
       "<table border=\"1\" class=\"dataframe\">\n",
       "  <thead>\n",
       "    <tr style=\"text-align: right;\">\n",
       "      <th></th>\n",
       "      <th>user_id</th>\n",
       "      <th>month</th>\n",
       "      <th>call_count</th>\n",
       "      <th>minutes_sum</th>\n",
       "      <th>messages_count</th>\n",
       "      <th>internet_traffic</th>\n",
       "    </tr>\n",
       "  </thead>\n",
       "  <tbody>\n",
       "    <tr>\n",
       "      <th>0</th>\n",
       "      <td>1000</td>\n",
       "      <td>5</td>\n",
       "      <td>22.0</td>\n",
       "      <td>159.0</td>\n",
       "      <td>22.0</td>\n",
       "      <td>3.0</td>\n",
       "    </tr>\n",
       "    <tr>\n",
       "      <th>1</th>\n",
       "      <td>1000</td>\n",
       "      <td>6</td>\n",
       "      <td>43.0</td>\n",
       "      <td>172.0</td>\n",
       "      <td>60.0</td>\n",
       "      <td>23.0</td>\n",
       "    </tr>\n",
       "    <tr>\n",
       "      <th>2</th>\n",
       "      <td>1000</td>\n",
       "      <td>7</td>\n",
       "      <td>47.0</td>\n",
       "      <td>340.0</td>\n",
       "      <td>75.0</td>\n",
       "      <td>14.0</td>\n",
       "    </tr>\n",
       "    <tr>\n",
       "      <th>3</th>\n",
       "      <td>1000</td>\n",
       "      <td>8</td>\n",
       "      <td>52.0</td>\n",
       "      <td>408.0</td>\n",
       "      <td>81.0</td>\n",
       "      <td>14.0</td>\n",
       "    </tr>\n",
       "    <tr>\n",
       "      <th>4</th>\n",
       "      <td>1000</td>\n",
       "      <td>9</td>\n",
       "      <td>58.0</td>\n",
       "      <td>466.0</td>\n",
       "      <td>57.0</td>\n",
       "      <td>15.0</td>\n",
       "    </tr>\n",
       "    <tr>\n",
       "      <th>...</th>\n",
       "      <td>...</td>\n",
       "      <td>...</td>\n",
       "      <td>...</td>\n",
       "      <td>...</td>\n",
       "      <td>...</td>\n",
       "      <td>...</td>\n",
       "    </tr>\n",
       "    <tr>\n",
       "      <th>3209</th>\n",
       "      <td>1489</td>\n",
       "      <td>9</td>\n",
       "      <td>NaN</td>\n",
       "      <td>NaN</td>\n",
       "      <td>32.0</td>\n",
       "      <td>17.0</td>\n",
       "    </tr>\n",
       "    <tr>\n",
       "      <th>3210</th>\n",
       "      <td>1489</td>\n",
       "      <td>10</td>\n",
       "      <td>NaN</td>\n",
       "      <td>NaN</td>\n",
       "      <td>21.0</td>\n",
       "      <td>20.0</td>\n",
       "    </tr>\n",
       "    <tr>\n",
       "      <th>3211</th>\n",
       "      <td>1489</td>\n",
       "      <td>11</td>\n",
       "      <td>NaN</td>\n",
       "      <td>NaN</td>\n",
       "      <td>20.0</td>\n",
       "      <td>18.0</td>\n",
       "    </tr>\n",
       "    <tr>\n",
       "      <th>3212</th>\n",
       "      <td>1489</td>\n",
       "      <td>12</td>\n",
       "      <td>NaN</td>\n",
       "      <td>NaN</td>\n",
       "      <td>35.0</td>\n",
       "      <td>17.0</td>\n",
       "    </tr>\n",
       "    <tr>\n",
       "      <th>3213</th>\n",
       "      <td>1476</td>\n",
       "      <td>4</td>\n",
       "      <td>NaN</td>\n",
       "      <td>NaN</td>\n",
       "      <td>NaN</td>\n",
       "      <td>1.0</td>\n",
       "    </tr>\n",
       "  </tbody>\n",
       "</table>\n",
       "<p>3214 rows × 6 columns</p>\n",
       "</div>"
      ],
      "text/plain": [
       "      user_id  month  call_count  minutes_sum  messages_count  \\\n",
       "0        1000      5        22.0        159.0            22.0   \n",
       "1        1000      6        43.0        172.0            60.0   \n",
       "2        1000      7        47.0        340.0            75.0   \n",
       "3        1000      8        52.0        408.0            81.0   \n",
       "4        1000      9        58.0        466.0            57.0   \n",
       "...       ...    ...         ...          ...             ...   \n",
       "3209     1489      9         NaN          NaN            32.0   \n",
       "3210     1489     10         NaN          NaN            21.0   \n",
       "3211     1489     11         NaN          NaN            20.0   \n",
       "3212     1489     12         NaN          NaN            35.0   \n",
       "3213     1476      4         NaN          NaN             NaN   \n",
       "\n",
       "      internet_traffic  \n",
       "0                  3.0  \n",
       "1                 23.0  \n",
       "2                 14.0  \n",
       "3                 14.0  \n",
       "4                 15.0  \n",
       "...                ...  \n",
       "3209              17.0  \n",
       "3210              20.0  \n",
       "3211              18.0  \n",
       "3212              17.0  \n",
       "3213               1.0  \n",
       "\n",
       "[3214 rows x 6 columns]"
      ]
     },
     "execution_count": 18,
     "metadata": {},
     "output_type": "execute_result"
    }
   ],
   "source": [
    "# Объединим таблицы методом merge()\n",
    "table1 = pd.merge(call_count, messages_count, on=['user_id', 'month'], how='outer')\n",
    "table2 = pd.merge(table1, internet_traffic, on=['user_id', 'month'], how='outer')\n",
    "table2"
   ]
  },
  {
   "cell_type": "code",
   "execution_count": 19,
   "metadata": {},
   "outputs": [
    {
     "data": {
      "text/html": [
       "<div>\n",
       "<style scoped>\n",
       "    .dataframe tbody tr th:only-of-type {\n",
       "        vertical-align: middle;\n",
       "    }\n",
       "\n",
       "    .dataframe tbody tr th {\n",
       "        vertical-align: top;\n",
       "    }\n",
       "\n",
       "    .dataframe thead th {\n",
       "        text-align: right;\n",
       "    }\n",
       "</style>\n",
       "<table border=\"1\" class=\"dataframe\">\n",
       "  <thead>\n",
       "    <tr style=\"text-align: right;\">\n",
       "      <th></th>\n",
       "      <th>user_id</th>\n",
       "      <th>age</th>\n",
       "      <th>churn_date</th>\n",
       "      <th>city</th>\n",
       "      <th>first_name</th>\n",
       "      <th>last_name</th>\n",
       "      <th>reg_date</th>\n",
       "      <th>tariff</th>\n",
       "      <th>month</th>\n",
       "      <th>call_count</th>\n",
       "      <th>minutes_sum</th>\n",
       "      <th>messages_count</th>\n",
       "      <th>internet_traffic</th>\n",
       "    </tr>\n",
       "  </thead>\n",
       "  <tbody>\n",
       "    <tr>\n",
       "      <th>0</th>\n",
       "      <td>1000</td>\n",
       "      <td>52</td>\n",
       "      <td>NaN</td>\n",
       "      <td>Краснодар</td>\n",
       "      <td>Рафаил</td>\n",
       "      <td>Верещагин</td>\n",
       "      <td>2018-05-25</td>\n",
       "      <td>ultra</td>\n",
       "      <td>5.0</td>\n",
       "      <td>22.0</td>\n",
       "      <td>159.0</td>\n",
       "      <td>22.0</td>\n",
       "      <td>3.0</td>\n",
       "    </tr>\n",
       "    <tr>\n",
       "      <th>1</th>\n",
       "      <td>1000</td>\n",
       "      <td>52</td>\n",
       "      <td>NaN</td>\n",
       "      <td>Краснодар</td>\n",
       "      <td>Рафаил</td>\n",
       "      <td>Верещагин</td>\n",
       "      <td>2018-05-25</td>\n",
       "      <td>ultra</td>\n",
       "      <td>6.0</td>\n",
       "      <td>43.0</td>\n",
       "      <td>172.0</td>\n",
       "      <td>60.0</td>\n",
       "      <td>23.0</td>\n",
       "    </tr>\n",
       "    <tr>\n",
       "      <th>2</th>\n",
       "      <td>1000</td>\n",
       "      <td>52</td>\n",
       "      <td>NaN</td>\n",
       "      <td>Краснодар</td>\n",
       "      <td>Рафаил</td>\n",
       "      <td>Верещагин</td>\n",
       "      <td>2018-05-25</td>\n",
       "      <td>ultra</td>\n",
       "      <td>7.0</td>\n",
       "      <td>47.0</td>\n",
       "      <td>340.0</td>\n",
       "      <td>75.0</td>\n",
       "      <td>14.0</td>\n",
       "    </tr>\n",
       "    <tr>\n",
       "      <th>3</th>\n",
       "      <td>1000</td>\n",
       "      <td>52</td>\n",
       "      <td>NaN</td>\n",
       "      <td>Краснодар</td>\n",
       "      <td>Рафаил</td>\n",
       "      <td>Верещагин</td>\n",
       "      <td>2018-05-25</td>\n",
       "      <td>ultra</td>\n",
       "      <td>8.0</td>\n",
       "      <td>52.0</td>\n",
       "      <td>408.0</td>\n",
       "      <td>81.0</td>\n",
       "      <td>14.0</td>\n",
       "    </tr>\n",
       "    <tr>\n",
       "      <th>4</th>\n",
       "      <td>1000</td>\n",
       "      <td>52</td>\n",
       "      <td>NaN</td>\n",
       "      <td>Краснодар</td>\n",
       "      <td>Рафаил</td>\n",
       "      <td>Верещагин</td>\n",
       "      <td>2018-05-25</td>\n",
       "      <td>ultra</td>\n",
       "      <td>9.0</td>\n",
       "      <td>58.0</td>\n",
       "      <td>466.0</td>\n",
       "      <td>57.0</td>\n",
       "      <td>15.0</td>\n",
       "    </tr>\n",
       "    <tr>\n",
       "      <th>...</th>\n",
       "      <td>...</td>\n",
       "      <td>...</td>\n",
       "      <td>...</td>\n",
       "      <td>...</td>\n",
       "      <td>...</td>\n",
       "      <td>...</td>\n",
       "      <td>...</td>\n",
       "      <td>...</td>\n",
       "      <td>...</td>\n",
       "      <td>...</td>\n",
       "      <td>...</td>\n",
       "      <td>...</td>\n",
       "      <td>...</td>\n",
       "    </tr>\n",
       "    <tr>\n",
       "      <th>3211</th>\n",
       "      <td>1498</td>\n",
       "      <td>68</td>\n",
       "      <td>2018-10-25</td>\n",
       "      <td>Владикавказ</td>\n",
       "      <td>Всеволод</td>\n",
       "      <td>Акимчин</td>\n",
       "      <td>2018-07-19</td>\n",
       "      <td>smart</td>\n",
       "      <td>10.0</td>\n",
       "      <td>41.0</td>\n",
       "      <td>247.0</td>\n",
       "      <td>42.0</td>\n",
       "      <td>21.0</td>\n",
       "    </tr>\n",
       "    <tr>\n",
       "      <th>3212</th>\n",
       "      <td>1499</td>\n",
       "      <td>35</td>\n",
       "      <td>NaN</td>\n",
       "      <td>Пермь</td>\n",
       "      <td>Гектор</td>\n",
       "      <td>Корнилов</td>\n",
       "      <td>2018-09-27</td>\n",
       "      <td>smart</td>\n",
       "      <td>9.0</td>\n",
       "      <td>9.0</td>\n",
       "      <td>70.0</td>\n",
       "      <td>11.0</td>\n",
       "      <td>2.0</td>\n",
       "    </tr>\n",
       "    <tr>\n",
       "      <th>3213</th>\n",
       "      <td>1499</td>\n",
       "      <td>35</td>\n",
       "      <td>NaN</td>\n",
       "      <td>Пермь</td>\n",
       "      <td>Гектор</td>\n",
       "      <td>Корнилов</td>\n",
       "      <td>2018-09-27</td>\n",
       "      <td>smart</td>\n",
       "      <td>10.0</td>\n",
       "      <td>68.0</td>\n",
       "      <td>449.0</td>\n",
       "      <td>48.0</td>\n",
       "      <td>18.0</td>\n",
       "    </tr>\n",
       "    <tr>\n",
       "      <th>3214</th>\n",
       "      <td>1499</td>\n",
       "      <td>35</td>\n",
       "      <td>NaN</td>\n",
       "      <td>Пермь</td>\n",
       "      <td>Гектор</td>\n",
       "      <td>Корнилов</td>\n",
       "      <td>2018-09-27</td>\n",
       "      <td>smart</td>\n",
       "      <td>11.0</td>\n",
       "      <td>74.0</td>\n",
       "      <td>612.0</td>\n",
       "      <td>59.0</td>\n",
       "      <td>18.0</td>\n",
       "    </tr>\n",
       "    <tr>\n",
       "      <th>3215</th>\n",
       "      <td>1499</td>\n",
       "      <td>35</td>\n",
       "      <td>NaN</td>\n",
       "      <td>Пермь</td>\n",
       "      <td>Гектор</td>\n",
       "      <td>Корнилов</td>\n",
       "      <td>2018-09-27</td>\n",
       "      <td>smart</td>\n",
       "      <td>12.0</td>\n",
       "      <td>69.0</td>\n",
       "      <td>492.0</td>\n",
       "      <td>66.0</td>\n",
       "      <td>13.0</td>\n",
       "    </tr>\n",
       "  </tbody>\n",
       "</table>\n",
       "<p>3216 rows × 13 columns</p>\n",
       "</div>"
      ],
      "text/plain": [
       "      user_id  age  churn_date         city first_name  last_name   reg_date  \\\n",
       "0        1000   52         NaN    Краснодар     Рафаил  Верещагин 2018-05-25   \n",
       "1        1000   52         NaN    Краснодар     Рафаил  Верещагин 2018-05-25   \n",
       "2        1000   52         NaN    Краснодар     Рафаил  Верещагин 2018-05-25   \n",
       "3        1000   52         NaN    Краснодар     Рафаил  Верещагин 2018-05-25   \n",
       "4        1000   52         NaN    Краснодар     Рафаил  Верещагин 2018-05-25   \n",
       "...       ...  ...         ...          ...        ...        ...        ...   \n",
       "3211     1498   68  2018-10-25  Владикавказ   Всеволод    Акимчин 2018-07-19   \n",
       "3212     1499   35         NaN        Пермь     Гектор   Корнилов 2018-09-27   \n",
       "3213     1499   35         NaN        Пермь     Гектор   Корнилов 2018-09-27   \n",
       "3214     1499   35         NaN        Пермь     Гектор   Корнилов 2018-09-27   \n",
       "3215     1499   35         NaN        Пермь     Гектор   Корнилов 2018-09-27   \n",
       "\n",
       "     tariff  month  call_count  minutes_sum  messages_count  internet_traffic  \n",
       "0     ultra    5.0        22.0        159.0            22.0               3.0  \n",
       "1     ultra    6.0        43.0        172.0            60.0              23.0  \n",
       "2     ultra    7.0        47.0        340.0            75.0              14.0  \n",
       "3     ultra    8.0        52.0        408.0            81.0              14.0  \n",
       "4     ultra    9.0        58.0        466.0            57.0              15.0  \n",
       "...     ...    ...         ...          ...             ...               ...  \n",
       "3211  smart   10.0        41.0        247.0            42.0              21.0  \n",
       "3212  smart    9.0         9.0         70.0            11.0               2.0  \n",
       "3213  smart   10.0        68.0        449.0            48.0              18.0  \n",
       "3214  smart   11.0        74.0        612.0            59.0              18.0  \n",
       "3215  smart   12.0        69.0        492.0            66.0              13.0  \n",
       "\n",
       "[3216 rows x 13 columns]"
      ]
     },
     "execution_count": 19,
     "metadata": {},
     "output_type": "execute_result"
    }
   ],
   "source": [
    "user_expenses = df_users.merge(table2, on='user_id', how='outer')\n",
    "user_expenses"
   ]
  },
  {
   "cell_type": "markdown",
   "metadata": {},
   "source": [
    "Так как таблицы table2 и user_expenses различаются количеством строк найдем эти различия."
   ]
  },
  {
   "cell_type": "code",
   "execution_count": 20,
   "metadata": {},
   "outputs": [
    {
     "name": "stdout",
     "output_type": "stream",
     "text": [
      "[1128, 1371]\n"
     ]
    }
   ],
   "source": [
    "# Очень долго искала как это сделать, почему-то иначе никак не получалось у меня)) \n",
    "\n",
    "# Сохраняем два списка в две переменные, преобразуем их в набор функцией set(),\n",
    "# определяем разницу между наборами функцией difference(),\n",
    "# функцией union получаем все элементы из двух созданных переменных,\n",
    "# преобразуем наборы в списки.\n",
    "\n",
    "did1 = set(table2['user_id']).difference(set(user_expenses['user_id']))\n",
    "did2 = set(user_expenses['user_id']).difference(set(table2['user_id']))\n",
    "\n",
    "list_did = list((did1).union(did2))\n",
    "print(list_did)"
   ]
  },
  {
   "cell_type": "markdown",
   "metadata": {},
   "source": [
    "Выведем строки с полученными id пользователей."
   ]
  },
  {
   "cell_type": "code",
   "execution_count": 21,
   "metadata": {},
   "outputs": [
    {
     "data": {
      "text/html": [
       "<div>\n",
       "<style scoped>\n",
       "    .dataframe tbody tr th:only-of-type {\n",
       "        vertical-align: middle;\n",
       "    }\n",
       "\n",
       "    .dataframe tbody tr th {\n",
       "        vertical-align: top;\n",
       "    }\n",
       "\n",
       "    .dataframe thead th {\n",
       "        text-align: right;\n",
       "    }\n",
       "</style>\n",
       "<table border=\"1\" class=\"dataframe\">\n",
       "  <thead>\n",
       "    <tr style=\"text-align: right;\">\n",
       "      <th></th>\n",
       "      <th>user_id</th>\n",
       "      <th>age</th>\n",
       "      <th>churn_date</th>\n",
       "      <th>city</th>\n",
       "      <th>first_name</th>\n",
       "      <th>last_name</th>\n",
       "      <th>reg_date</th>\n",
       "      <th>tariff</th>\n",
       "      <th>month</th>\n",
       "      <th>call_count</th>\n",
       "      <th>minutes_sum</th>\n",
       "      <th>messages_count</th>\n",
       "      <th>internet_traffic</th>\n",
       "    </tr>\n",
       "  </thead>\n",
       "  <tbody>\n",
       "    <tr>\n",
       "      <th>827</th>\n",
       "      <td>1128</td>\n",
       "      <td>51</td>\n",
       "      <td>2018-12-23</td>\n",
       "      <td>Волжский</td>\n",
       "      <td>Ксения</td>\n",
       "      <td>Агаева</td>\n",
       "      <td>2018-12-15</td>\n",
       "      <td>ultra</td>\n",
       "      <td>NaN</td>\n",
       "      <td>NaN</td>\n",
       "      <td>NaN</td>\n",
       "      <td>NaN</td>\n",
       "      <td>NaN</td>\n",
       "    </tr>\n",
       "  </tbody>\n",
       "</table>\n",
       "</div>"
      ],
      "text/plain": [
       "     user_id  age  churn_date      city first_name last_name   reg_date  \\\n",
       "827     1128   51  2018-12-23  Волжский     Ксения    Агаева 2018-12-15   \n",
       "\n",
       "    tariff  month  call_count  minutes_sum  messages_count  internet_traffic  \n",
       "827  ultra    NaN         NaN          NaN             NaN               NaN  "
      ]
     },
     "metadata": {},
     "output_type": "display_data"
    },
    {
     "data": {
      "text/html": [
       "<div>\n",
       "<style scoped>\n",
       "    .dataframe tbody tr th:only-of-type {\n",
       "        vertical-align: middle;\n",
       "    }\n",
       "\n",
       "    .dataframe tbody tr th {\n",
       "        vertical-align: top;\n",
       "    }\n",
       "\n",
       "    .dataframe thead th {\n",
       "        text-align: right;\n",
       "    }\n",
       "</style>\n",
       "<table border=\"1\" class=\"dataframe\">\n",
       "  <thead>\n",
       "    <tr style=\"text-align: right;\">\n",
       "      <th></th>\n",
       "      <th>user_id</th>\n",
       "      <th>age</th>\n",
       "      <th>churn_date</th>\n",
       "      <th>city</th>\n",
       "      <th>first_name</th>\n",
       "      <th>last_name</th>\n",
       "      <th>reg_date</th>\n",
       "      <th>tariff</th>\n",
       "      <th>month</th>\n",
       "      <th>call_count</th>\n",
       "      <th>minutes_sum</th>\n",
       "      <th>messages_count</th>\n",
       "      <th>internet_traffic</th>\n",
       "    </tr>\n",
       "  </thead>\n",
       "  <tbody>\n",
       "    <tr>\n",
       "      <th>2335</th>\n",
       "      <td>1371</td>\n",
       "      <td>50</td>\n",
       "      <td>2018-12-30</td>\n",
       "      <td>Омск</td>\n",
       "      <td>Ириней</td>\n",
       "      <td>Трофимов</td>\n",
       "      <td>2018-12-25</td>\n",
       "      <td>smart</td>\n",
       "      <td>NaN</td>\n",
       "      <td>NaN</td>\n",
       "      <td>NaN</td>\n",
       "      <td>NaN</td>\n",
       "      <td>NaN</td>\n",
       "    </tr>\n",
       "  </tbody>\n",
       "</table>\n",
       "</div>"
      ],
      "text/plain": [
       "      user_id  age  churn_date  city first_name last_name   reg_date tariff  \\\n",
       "2335     1371   50  2018-12-30  Омск     Ириней  Трофимов 2018-12-25  smart   \n",
       "\n",
       "      month  call_count  minutes_sum  messages_count  internet_traffic  \n",
       "2335    NaN         NaN          NaN             NaN               NaN  "
      ]
     },
     "metadata": {},
     "output_type": "display_data"
    }
   ],
   "source": [
    "display(user_expenses[user_expenses['user_id'] == 1128])\n",
    "display(user_expenses[user_expenses['user_id'] == 1371])"
   ]
  },
  {
   "cell_type": "markdown",
   "metadata": {},
   "source": [
    "Два полученных клиента не расходовали минуты, сообщения и интернет трафик, но заплатили за использование тарифа, возможно потому что подключились в конце месяца."
   ]
  },
  {
   "cell_type": "code",
   "execution_count": 22,
   "metadata": {
    "scrolled": true
   },
   "outputs": [
    {
     "data": {
      "text/plain": [
       "(3214, 13)"
      ]
     },
     "execution_count": 22,
     "metadata": {},
     "output_type": "execute_result"
    }
   ],
   "source": [
    "user_expenses = df_users.merge(table2, on='user_id', how='right')\n",
    "user_expenses.shape"
   ]
  },
  {
   "cell_type": "markdown",
   "metadata": {},
   "source": [
    "Определим количество пропусков и заменим их на нулевые значения:"
   ]
  },
  {
   "cell_type": "code",
   "execution_count": 23,
   "metadata": {},
   "outputs": [
    {
     "name": "stdout",
     "output_type": "stream",
     "text": [
      "Количество пропусков в столбце minutes_sum: 40\n",
      "Количество пропусков в столбце messages_count: 497\n",
      "Количество пропусков в столбце internet_traffic: 11\n"
     ]
    }
   ],
   "source": [
    "print('Количество пропусков в столбце minutes_sum: ' + str(user_expenses['minutes_sum'].isna().sum()))\n",
    "print('Количество пропусков в столбце messages_count: ' + str(user_expenses['messages_count'].isna().sum()))\n",
    "print('Количество пропусков в столбце internet_traffic: ' + str(user_expenses['internet_traffic'].isna().sum()))"
   ]
  },
  {
   "cell_type": "code",
   "execution_count": 24,
   "metadata": {},
   "outputs": [],
   "source": [
    "user_expenses['minutes_sum'] = user_expenses['minutes_sum'].fillna(0).astype('int')\n",
    "user_expenses['messages_count'] = user_expenses['messages_count'].fillna(0).astype('int')\n",
    "user_expenses['internet_traffic'] = user_expenses['internet_traffic'].fillna(0).astype('int')"
   ]
  },
  {
   "cell_type": "code",
   "execution_count": 25,
   "metadata": {
    "scrolled": true
   },
   "outputs": [
    {
     "data": {
      "text/html": [
       "<div>\n",
       "<style scoped>\n",
       "    .dataframe tbody tr th:only-of-type {\n",
       "        vertical-align: middle;\n",
       "    }\n",
       "\n",
       "    .dataframe tbody tr th {\n",
       "        vertical-align: top;\n",
       "    }\n",
       "\n",
       "    .dataframe thead th {\n",
       "        text-align: right;\n",
       "    }\n",
       "</style>\n",
       "<table border=\"1\" class=\"dataframe\">\n",
       "  <thead>\n",
       "    <tr style=\"text-align: right;\">\n",
       "      <th></th>\n",
       "      <th>messages_included</th>\n",
       "      <th>mb_per_month_included</th>\n",
       "      <th>minutes_included</th>\n",
       "      <th>rub_monthly_fee</th>\n",
       "      <th>rub_per_gb</th>\n",
       "      <th>rub_per_message</th>\n",
       "      <th>rub_per_minute</th>\n",
       "      <th>tariff_name</th>\n",
       "    </tr>\n",
       "  </thead>\n",
       "  <tbody>\n",
       "    <tr>\n",
       "      <th>0</th>\n",
       "      <td>50</td>\n",
       "      <td>15.0</td>\n",
       "      <td>500</td>\n",
       "      <td>550</td>\n",
       "      <td>200</td>\n",
       "      <td>3</td>\n",
       "      <td>3</td>\n",
       "      <td>smart</td>\n",
       "    </tr>\n",
       "    <tr>\n",
       "      <th>1</th>\n",
       "      <td>1000</td>\n",
       "      <td>30.0</td>\n",
       "      <td>3000</td>\n",
       "      <td>1950</td>\n",
       "      <td>150</td>\n",
       "      <td>1</td>\n",
       "      <td>1</td>\n",
       "      <td>ultra</td>\n",
       "    </tr>\n",
       "  </tbody>\n",
       "</table>\n",
       "</div>"
      ],
      "text/plain": [
       "   messages_included  mb_per_month_included  minutes_included  \\\n",
       "0                 50                   15.0               500   \n",
       "1               1000                   30.0              3000   \n",
       "\n",
       "   rub_monthly_fee  rub_per_gb  rub_per_message  rub_per_minute tariff_name  \n",
       "0              550         200                3               3       smart  \n",
       "1             1950         150                1               1       ultra  "
      ]
     },
     "execution_count": 25,
     "metadata": {},
     "output_type": "execute_result"
    }
   ],
   "source": [
    "df_tariffs['mb_per_month_included'] = df_tariffs['mb_per_month_included'] / 1024\n",
    "df_tariffs"
   ]
  },
  {
   "cell_type": "markdown",
   "metadata": {},
   "source": [
    "Для подсчета помесячной выручки с каждого пользователя мы создаём функцию, в которой: вычитаем бесплатный лимит из суммарного количества звонков, сообщений и интернет-трафика; остаток умножаем на значение из тарифного плана; прибавляем абонентскую плату, соответствующую тарифному плану."
   ]
  },
  {
   "cell_type": "code",
   "execution_count": 26,
   "metadata": {},
   "outputs": [],
   "source": [
    "def profit(data):\n",
    "    \n",
    "    if data['tariff'] == 'ultra':   \n",
    "        \n",
    "        xmin = data['minutes_sum'] - df_tariffs.loc[1,'minutes_included'] # из суммарного количества минут вычитаем лимит тарифа\n",
    "        if xmin > 0:    # если он оказывается больше нуля\n",
    "            xmin = xmin * df_tariffs.loc[1,'rub_per_minute']  # умножаем на стоимость минуты сверх тарифного пакета\n",
    "        else:           # иначе приравниваем переменную к нулю\n",
    "            xmin = 0 \n",
    "\n",
    "        xmessage = data['messages_count'] - df_tariffs.loc[1,'messages_included']\n",
    "        if xmessage > 0:\n",
    "            xmessage = xmessage * df_tariffs.loc[1,'rub_per_message']\n",
    "        else:\n",
    "            xmessage = 0\n",
    "\n",
    "        xgb = data['internet_traffic'] - df_tariffs.loc[1,'mb_per_month_included']\n",
    "        if xgb > 0:\n",
    "            xgb = xgb * df_tariffs.loc[1,'rub_per_gb']\n",
    "        else:\n",
    "            xgb = 0   \n",
    "            \n",
    "        xprofit = xmin + xmessage + xgb + df_tariffs.loc[1, 'rub_monthly_fee'] # прибавляем абонентскую плату данного тарифа\n",
    "        \n",
    "        return xprofit\n",
    "        \n",
    "    if data['tariff'] == 'smart':\n",
    "        \n",
    "        xmin = data['minutes_sum'] - df_tariffs.loc[0,'minutes_included']\n",
    "        if xmin > 0:\n",
    "            xmin = xmin * df_tariffs.loc[0,'rub_per_minute']\n",
    "        else:\n",
    "            xmin = 0\n",
    "\n",
    "        xmessage = data['messages_count'] - df_tariffs.loc[0,'messages_included']\n",
    "        if xmessage > 0:\n",
    "            xmessage = xmessage * df_tariffs.loc[0,'rub_per_message']\n",
    "        else:\n",
    "            xmessage = 0\n",
    "\n",
    "        xgb = data['internet_traffic'] - df_tariffs.loc[0,'mb_per_month_included'] \n",
    "        if xgb > 0:\n",
    "            xgb = xgb * df_tariffs.loc[0,'rub_per_gb']\n",
    "        else:\n",
    "            xgb = 0        \n",
    "        xprofit = (xmin + xmessage + xgb) + df_tariffs.loc[0, 'rub_monthly_fee']\n",
    "\n",
    "        return xprofit"
   ]
  },
  {
   "cell_type": "code",
   "execution_count": 27,
   "metadata": {
    "scrolled": true
   },
   "outputs": [
    {
     "data": {
      "text/html": [
       "<div>\n",
       "<style scoped>\n",
       "    .dataframe tbody tr th:only-of-type {\n",
       "        vertical-align: middle;\n",
       "    }\n",
       "\n",
       "    .dataframe tbody tr th {\n",
       "        vertical-align: top;\n",
       "    }\n",
       "\n",
       "    .dataframe thead th {\n",
       "        text-align: right;\n",
       "    }\n",
       "</style>\n",
       "<table border=\"1\" class=\"dataframe\">\n",
       "  <thead>\n",
       "    <tr style=\"text-align: right;\">\n",
       "      <th></th>\n",
       "      <th>user_id</th>\n",
       "      <th>age</th>\n",
       "      <th>churn_date</th>\n",
       "      <th>city</th>\n",
       "      <th>first_name</th>\n",
       "      <th>last_name</th>\n",
       "      <th>reg_date</th>\n",
       "      <th>tariff</th>\n",
       "      <th>month</th>\n",
       "      <th>call_count</th>\n",
       "      <th>minutes_sum</th>\n",
       "      <th>messages_count</th>\n",
       "      <th>internet_traffic</th>\n",
       "      <th>income</th>\n",
       "    </tr>\n",
       "  </thead>\n",
       "  <tbody>\n",
       "    <tr>\n",
       "      <th>0</th>\n",
       "      <td>1000</td>\n",
       "      <td>52</td>\n",
       "      <td>NaN</td>\n",
       "      <td>Краснодар</td>\n",
       "      <td>Рафаил</td>\n",
       "      <td>Верещагин</td>\n",
       "      <td>2018-05-25</td>\n",
       "      <td>ultra</td>\n",
       "      <td>5</td>\n",
       "      <td>22.0</td>\n",
       "      <td>159</td>\n",
       "      <td>22</td>\n",
       "      <td>3</td>\n",
       "      <td>1950.0</td>\n",
       "    </tr>\n",
       "    <tr>\n",
       "      <th>1</th>\n",
       "      <td>1000</td>\n",
       "      <td>52</td>\n",
       "      <td>NaN</td>\n",
       "      <td>Краснодар</td>\n",
       "      <td>Рафаил</td>\n",
       "      <td>Верещагин</td>\n",
       "      <td>2018-05-25</td>\n",
       "      <td>ultra</td>\n",
       "      <td>6</td>\n",
       "      <td>43.0</td>\n",
       "      <td>172</td>\n",
       "      <td>60</td>\n",
       "      <td>23</td>\n",
       "      <td>1950.0</td>\n",
       "    </tr>\n",
       "    <tr>\n",
       "      <th>2</th>\n",
       "      <td>1000</td>\n",
       "      <td>52</td>\n",
       "      <td>NaN</td>\n",
       "      <td>Краснодар</td>\n",
       "      <td>Рафаил</td>\n",
       "      <td>Верещагин</td>\n",
       "      <td>2018-05-25</td>\n",
       "      <td>ultra</td>\n",
       "      <td>7</td>\n",
       "      <td>47.0</td>\n",
       "      <td>340</td>\n",
       "      <td>75</td>\n",
       "      <td>14</td>\n",
       "      <td>1950.0</td>\n",
       "    </tr>\n",
       "    <tr>\n",
       "      <th>3</th>\n",
       "      <td>1000</td>\n",
       "      <td>52</td>\n",
       "      <td>NaN</td>\n",
       "      <td>Краснодар</td>\n",
       "      <td>Рафаил</td>\n",
       "      <td>Верещагин</td>\n",
       "      <td>2018-05-25</td>\n",
       "      <td>ultra</td>\n",
       "      <td>8</td>\n",
       "      <td>52.0</td>\n",
       "      <td>408</td>\n",
       "      <td>81</td>\n",
       "      <td>14</td>\n",
       "      <td>1950.0</td>\n",
       "    </tr>\n",
       "    <tr>\n",
       "      <th>4</th>\n",
       "      <td>1000</td>\n",
       "      <td>52</td>\n",
       "      <td>NaN</td>\n",
       "      <td>Краснодар</td>\n",
       "      <td>Рафаил</td>\n",
       "      <td>Верещагин</td>\n",
       "      <td>2018-05-25</td>\n",
       "      <td>ultra</td>\n",
       "      <td>9</td>\n",
       "      <td>58.0</td>\n",
       "      <td>466</td>\n",
       "      <td>57</td>\n",
       "      <td>15</td>\n",
       "      <td>1950.0</td>\n",
       "    </tr>\n",
       "    <tr>\n",
       "      <th>...</th>\n",
       "      <td>...</td>\n",
       "      <td>...</td>\n",
       "      <td>...</td>\n",
       "      <td>...</td>\n",
       "      <td>...</td>\n",
       "      <td>...</td>\n",
       "      <td>...</td>\n",
       "      <td>...</td>\n",
       "      <td>...</td>\n",
       "      <td>...</td>\n",
       "      <td>...</td>\n",
       "      <td>...</td>\n",
       "      <td>...</td>\n",
       "      <td>...</td>\n",
       "    </tr>\n",
       "    <tr>\n",
       "      <th>3209</th>\n",
       "      <td>1489</td>\n",
       "      <td>35</td>\n",
       "      <td>NaN</td>\n",
       "      <td>Санкт-Петербург</td>\n",
       "      <td>Павел</td>\n",
       "      <td>Гончаров</td>\n",
       "      <td>2018-08-15</td>\n",
       "      <td>smart</td>\n",
       "      <td>9</td>\n",
       "      <td>NaN</td>\n",
       "      <td>0</td>\n",
       "      <td>32</td>\n",
       "      <td>17</td>\n",
       "      <td>950.0</td>\n",
       "    </tr>\n",
       "    <tr>\n",
       "      <th>3210</th>\n",
       "      <td>1489</td>\n",
       "      <td>35</td>\n",
       "      <td>NaN</td>\n",
       "      <td>Санкт-Петербург</td>\n",
       "      <td>Павел</td>\n",
       "      <td>Гончаров</td>\n",
       "      <td>2018-08-15</td>\n",
       "      <td>smart</td>\n",
       "      <td>10</td>\n",
       "      <td>NaN</td>\n",
       "      <td>0</td>\n",
       "      <td>21</td>\n",
       "      <td>20</td>\n",
       "      <td>1550.0</td>\n",
       "    </tr>\n",
       "    <tr>\n",
       "      <th>3211</th>\n",
       "      <td>1489</td>\n",
       "      <td>35</td>\n",
       "      <td>NaN</td>\n",
       "      <td>Санкт-Петербург</td>\n",
       "      <td>Павел</td>\n",
       "      <td>Гончаров</td>\n",
       "      <td>2018-08-15</td>\n",
       "      <td>smart</td>\n",
       "      <td>11</td>\n",
       "      <td>NaN</td>\n",
       "      <td>0</td>\n",
       "      <td>20</td>\n",
       "      <td>18</td>\n",
       "      <td>1150.0</td>\n",
       "    </tr>\n",
       "    <tr>\n",
       "      <th>3212</th>\n",
       "      <td>1489</td>\n",
       "      <td>35</td>\n",
       "      <td>NaN</td>\n",
       "      <td>Санкт-Петербург</td>\n",
       "      <td>Павел</td>\n",
       "      <td>Гончаров</td>\n",
       "      <td>2018-08-15</td>\n",
       "      <td>smart</td>\n",
       "      <td>12</td>\n",
       "      <td>NaN</td>\n",
       "      <td>0</td>\n",
       "      <td>35</td>\n",
       "      <td>17</td>\n",
       "      <td>950.0</td>\n",
       "    </tr>\n",
       "    <tr>\n",
       "      <th>3213</th>\n",
       "      <td>1476</td>\n",
       "      <td>50</td>\n",
       "      <td>NaN</td>\n",
       "      <td>Москва</td>\n",
       "      <td>Валентина</td>\n",
       "      <td>Семенова</td>\n",
       "      <td>2018-04-30</td>\n",
       "      <td>ultra</td>\n",
       "      <td>4</td>\n",
       "      <td>NaN</td>\n",
       "      <td>0</td>\n",
       "      <td>0</td>\n",
       "      <td>1</td>\n",
       "      <td>1950.0</td>\n",
       "    </tr>\n",
       "  </tbody>\n",
       "</table>\n",
       "<p>3214 rows × 14 columns</p>\n",
       "</div>"
      ],
      "text/plain": [
       "      user_id  age churn_date             city first_name  last_name  \\\n",
       "0        1000   52        NaN        Краснодар     Рафаил  Верещагин   \n",
       "1        1000   52        NaN        Краснодар     Рафаил  Верещагин   \n",
       "2        1000   52        NaN        Краснодар     Рафаил  Верещагин   \n",
       "3        1000   52        NaN        Краснодар     Рафаил  Верещагин   \n",
       "4        1000   52        NaN        Краснодар     Рафаил  Верещагин   \n",
       "...       ...  ...        ...              ...        ...        ...   \n",
       "3209     1489   35        NaN  Санкт-Петербург      Павел   Гончаров   \n",
       "3210     1489   35        NaN  Санкт-Петербург      Павел   Гончаров   \n",
       "3211     1489   35        NaN  Санкт-Петербург      Павел   Гончаров   \n",
       "3212     1489   35        NaN  Санкт-Петербург      Павел   Гончаров   \n",
       "3213     1476   50        NaN           Москва  Валентина   Семенова   \n",
       "\n",
       "       reg_date tariff  month  call_count  minutes_sum  messages_count  \\\n",
       "0    2018-05-25  ultra      5        22.0          159              22   \n",
       "1    2018-05-25  ultra      6        43.0          172              60   \n",
       "2    2018-05-25  ultra      7        47.0          340              75   \n",
       "3    2018-05-25  ultra      8        52.0          408              81   \n",
       "4    2018-05-25  ultra      9        58.0          466              57   \n",
       "...         ...    ...    ...         ...          ...             ...   \n",
       "3209 2018-08-15  smart      9         NaN            0              32   \n",
       "3210 2018-08-15  smart     10         NaN            0              21   \n",
       "3211 2018-08-15  smart     11         NaN            0              20   \n",
       "3212 2018-08-15  smart     12         NaN            0              35   \n",
       "3213 2018-04-30  ultra      4         NaN            0               0   \n",
       "\n",
       "      internet_traffic  income  \n",
       "0                    3  1950.0  \n",
       "1                   23  1950.0  \n",
       "2                   14  1950.0  \n",
       "3                   14  1950.0  \n",
       "4                   15  1950.0  \n",
       "...                ...     ...  \n",
       "3209                17   950.0  \n",
       "3210                20  1550.0  \n",
       "3211                18  1150.0  \n",
       "3212                17   950.0  \n",
       "3213                 1  1950.0  \n",
       "\n",
       "[3214 rows x 14 columns]"
      ]
     },
     "execution_count": 27,
     "metadata": {},
     "output_type": "execute_result"
    }
   ],
   "source": [
    "# создаем столбец выручки используя вышенаписанную функцию.\n",
    "user_expenses['income'] = user_expenses.apply(profit, axis=1)\n",
    "user_expenses"
   ]
  },
  {
   "cell_type": "markdown",
   "metadata": {},
   "source": [
    "### Вывод"
   ]
  },
  {
   "cell_type": "markdown",
   "metadata": {},
   "source": [
    "Итого мы подсчитали для каждого пользователя:\n",
    "* количество сделанных звонков и израсходованных минут разговора по месяцам;\n",
    "* количество отправленных сообщений по месяцам;\n",
    "* объем израсходованного интернет-трафика по месяцам;\n",
    "* помесячную выручку с каждого пользователя;\n",
    "\n",
    "Обнаружили, что есть пользователи, которые не использовали минуты, сообщения и интернет трафик, но заплатили за использование тарифа, возможно потому что подключились в конце месяца, удалили эти даные.\n",
    "Объединили все расчеты в единую таблицу с информацией по каждому пользователю."
   ]
  },
  {
   "cell_type": "markdown",
   "metadata": {},
   "source": [
    "## Исследовательский анализ данных"
   ]
  },
  {
   "cell_type": "markdown",
   "metadata": {},
   "source": [
    "Разделим данные на таблицы клиентов с тарифом `smart` и с `ultra` по минутам, сообщениям, трафику и выручке:"
   ]
  },
  {
   "cell_type": "code",
   "execution_count": 28,
   "metadata": {
    "scrolled": true
   },
   "outputs": [],
   "source": [
    "all_clients_month = user_expenses.groupby(['tariff', 'month'])[['minutes_sum', 'messages_count', 'internet_traffic', 'income']].sum().reset_index()\n",
    "smart_clients_month = all_clients_month.query('tariff == \"smart\"')\n",
    "ultra_clients_month = all_clients_month.query('tariff == \"ultra\"')"
   ]
  },
  {
   "cell_type": "markdown",
   "metadata": {},
   "source": [
    "### Исследование израсходованных минут"
   ]
  },
  {
   "cell_type": "markdown",
   "metadata": {},
   "source": [
    "Построим столбчатые диаграммы для визуального представления расхода интересующих нас данных всех клиентов для 2-х тарифов по месяцам."
   ]
  },
  {
   "cell_type": "code",
   "execution_count": 31,
   "metadata": {},
   "outputs": [],
   "source": [
    "def bar_histogram_maker(column):\n",
    "    plt.figure(figsize=(10, 6))\n",
    "    plt.bar(smart_clients_month['month'], smart_clients_month[column], label='smart', color='b')\n",
    "    plt.bar(ultra_clients_month['month'], ultra_clients_month[column], label='ultra', color='r')\n",
    "    plt.legend()\n",
    "    plt.xlabel('month')\n",
    "    plt.ylabel(column)\n",
    "    plt.grid()\n",
    "    plt.title(f'Количество {column} всех клиентов по месяцам для 2-х тарифов')"
   ]
  },
  {
   "cell_type": "code",
   "execution_count": 32,
   "metadata": {
    "scrolled": true
   },
   "outputs": [
    {
     "data": {
      "image/png": "[encoded data removed]",
      "text/plain": [
       "<Figure size 720x432 with 1 Axes>"
      ]
     },
     "metadata": {
      "needs_background": "light"
     },
     "output_type": "display_data"
    }
   ],
   "source": [
    "bar_histogram_maker('minutes_sum')"
   ]
  },
  {
   "cell_type": "markdown",
   "metadata": {},
   "source": [
    "Построим диаграммы размаха для того, чтобы визуально определить есть ли существенные выбросы и определить разброс данных"
   ]
  },
  {
   "cell_type": "code",
   "execution_count": 33,
   "metadata": {},
   "outputs": [
    {
     "data": {
      "text/plain": [
       "(-100.0, 1750.0)"
      ]
     },
     "execution_count": 33,
     "metadata": {},
     "output_type": "execute_result"
    },
    {
     "data": {
      "image/png": "[encoded data removed]",
      "text/plain": [
       "<Figure size 1440x432 with 2 Axes>"
      ]
     },
     "metadata": {
      "needs_background": "light"
     },
     "output_type": "display_data"
    }
   ],
   "source": [
    "plt.figure(figsize = (20,6))\n",
    "user_expenses[user_expenses['tariff'] == 'ultra'].boxplot('minutes_sum', ax = plt.subplot(1,2,1))\n",
    "plt.title('Израсходованные минуты клиентов тарифа ULTRA', fontsize=15)\n",
    "plt.ylabel('частота')\n",
    "user_expenses[user_expenses['tariff'] == 'smart'].boxplot('minutes_sum', ax = plt.subplot(1,2,2))\n",
    "plt.title('Израсходованные минуты клиентов тарифа SMART', fontsize=15)\n",
    "plt.ylabel('частота')\n",
    "plt.ylim(-100, 1750)"
   ]
  },
  {
   "cell_type": "code",
   "execution_count": 34,
   "metadata": {},
   "outputs": [],
   "source": [
    "def describe_table(df, name):\n",
    "    table = df.groupby(df.tariff)[name]\n",
    "    table_desc = table.describe(percentiles = [.01,.25,.75,.99])\n",
    "    table_desc['var']= [np.var(table.get_group('smart'), ddof=1), np.var(table.get_group('ultra'), ddof=1)]\n",
    "    display(table_desc)"
   ]
  },
  {
   "cell_type": "code",
   "execution_count": 35,
   "metadata": {},
   "outputs": [
    {
     "data": {
      "text/html": [
       "<div>\n",
       "<style scoped>\n",
       "    .dataframe tbody tr th:only-of-type {\n",
       "        vertical-align: middle;\n",
       "    }\n",
       "\n",
       "    .dataframe tbody tr th {\n",
       "        vertical-align: top;\n",
       "    }\n",
       "\n",
       "    .dataframe thead th {\n",
       "        text-align: right;\n",
       "    }\n",
       "</style>\n",
       "<table border=\"1\" class=\"dataframe\">\n",
       "  <thead>\n",
       "    <tr style=\"text-align: right;\">\n",
       "      <th></th>\n",
       "      <th>count</th>\n",
       "      <th>mean</th>\n",
       "      <th>std</th>\n",
       "      <th>min</th>\n",
       "      <th>1%</th>\n",
       "      <th>25%</th>\n",
       "      <th>50%</th>\n",
       "      <th>75%</th>\n",
       "      <th>99%</th>\n",
       "      <th>max</th>\n",
       "      <th>var</th>\n",
       "    </tr>\n",
       "    <tr>\n",
       "      <th>tariff</th>\n",
       "      <th></th>\n",
       "      <th></th>\n",
       "      <th></th>\n",
       "      <th></th>\n",
       "      <th></th>\n",
       "      <th></th>\n",
       "      <th></th>\n",
       "      <th></th>\n",
       "      <th></th>\n",
       "      <th></th>\n",
       "      <th></th>\n",
       "    </tr>\n",
       "  </thead>\n",
       "  <tbody>\n",
       "    <tr>\n",
       "      <th>smart</th>\n",
       "      <td>2229.0</td>\n",
       "      <td>417.934948</td>\n",
       "      <td>190.313730</td>\n",
       "      <td>0.0</td>\n",
       "      <td>15.28</td>\n",
       "      <td>282.0</td>\n",
       "      <td>422.0</td>\n",
       "      <td>545.0</td>\n",
       "      <td>872.72</td>\n",
       "      <td>1435.0</td>\n",
       "      <td>36219.315784</td>\n",
       "    </tr>\n",
       "    <tr>\n",
       "      <th>ultra</th>\n",
       "      <td>985.0</td>\n",
       "      <td>526.623350</td>\n",
       "      <td>317.606098</td>\n",
       "      <td>0.0</td>\n",
       "      <td>0.00</td>\n",
       "      <td>284.0</td>\n",
       "      <td>518.0</td>\n",
       "      <td>752.0</td>\n",
       "      <td>1291.12</td>\n",
       "      <td>1673.0</td>\n",
       "      <td>100873.633397</td>\n",
       "    </tr>\n",
       "  </tbody>\n",
       "</table>\n",
       "</div>"
      ],
      "text/plain": [
       "         count        mean         std  min     1%    25%    50%    75%  \\\n",
       "tariff                                                                    \n",
       "smart   2229.0  417.934948  190.313730  0.0  15.28  282.0  422.0  545.0   \n",
       "ultra    985.0  526.623350  317.606098  0.0   0.00  284.0  518.0  752.0   \n",
       "\n",
       "            99%     max            var  \n",
       "tariff                                  \n",
       "smart    872.72  1435.0   36219.315784  \n",
       "ultra   1291.12  1673.0  100873.633397  "
      ]
     },
     "metadata": {},
     "output_type": "display_data"
    }
   ],
   "source": [
    "describe_table(user_expenses,'minutes_sum')"
   ]
  },
  {
   "cell_type": "markdown",
   "metadata": {},
   "source": [
    "Вывод по потраченным минутам за каждый месяц:\n",
    "\n",
    "На столбчатой диаграмме видно,что сумма израсходованных минут с каждым месяцем растет и что в тарифе **smart** израсходованных минут в каждом месяце больше, чем в тарифе **ultra**.\n",
    "\n",
    "У тарифа **smart** среднее значение практически равно медиане и на графике размаха видно, что данные распределены симметрично, в среднем на тарифе smart клиенты тратят по 417 минут. \n",
    "\n",
    "У тарифа **ultra** среднее чуть выше медианы, данные скошены вправо и по диаграмме размаха видно, что клиенты этого тарифа тратят больше минут. Среднее число потраченных минут равно 526. "
   ]
  },
  {
   "cell_type": "markdown",
   "metadata": {},
   "source": [
    "### Исследование отправленных сообщений "
   ]
  },
  {
   "cell_type": "code",
   "execution_count": 36,
   "metadata": {
    "scrolled": true
   },
   "outputs": [
    {
     "data": {
      "image/png": "[encoded data removed]",
      "text/plain": [
       "<Figure size 720x432 with 1 Axes>"
      ]
     },
     "metadata": {
      "needs_background": "light"
     },
     "output_type": "display_data"
    }
   ],
   "source": [
    "bar_histogram_maker('messages_count')"
   ]
  },
  {
   "cell_type": "code",
   "execution_count": 37,
   "metadata": {},
   "outputs": [
    {
     "data": {
      "text/plain": [
       "(-10.0, 240.0)"
      ]
     },
     "execution_count": 37,
     "metadata": {},
     "output_type": "execute_result"
    },
    {
     "data": {
      "image/png": "[encoded data removed]",
      "text/plain": [
       "<Figure size 1440x432 with 2 Axes>"
      ]
     },
     "metadata": {
      "needs_background": "light"
     },
     "output_type": "display_data"
    }
   ],
   "source": [
    "plt.figure(figsize = (20,6))\n",
    "user_expenses[user_expenses['tariff'] == 'ultra'].boxplot('messages_count', ax = plt.subplot(1,2,1))\n",
    "plt.title('Отправленные сообщения тарифа ULTRA', fontsize=15)\n",
    "plt.ylabel('частота')\n",
    "user_expenses[user_expenses['tariff'] == 'smart'].boxplot('messages_count', ax = plt.subplot(1,2,2))\n",
    "plt.title('Отправленные сообщения тарифа SMART', fontsize=15)\n",
    "plt.ylabel('частота')\n",
    "plt.ylim(-10, 240)"
   ]
  },
  {
   "cell_type": "code",
   "execution_count": 38,
   "metadata": {},
   "outputs": [
    {
     "data": {
      "text/html": [
       "<div>\n",
       "<style scoped>\n",
       "    .dataframe tbody tr th:only-of-type {\n",
       "        vertical-align: middle;\n",
       "    }\n",
       "\n",
       "    .dataframe tbody tr th {\n",
       "        vertical-align: top;\n",
       "    }\n",
       "\n",
       "    .dataframe thead th {\n",
       "        text-align: right;\n",
       "    }\n",
       "</style>\n",
       "<table border=\"1\" class=\"dataframe\">\n",
       "  <thead>\n",
       "    <tr style=\"text-align: right;\">\n",
       "      <th></th>\n",
       "      <th>count</th>\n",
       "      <th>mean</th>\n",
       "      <th>std</th>\n",
       "      <th>min</th>\n",
       "      <th>1%</th>\n",
       "      <th>25%</th>\n",
       "      <th>50%</th>\n",
       "      <th>75%</th>\n",
       "      <th>99%</th>\n",
       "      <th>max</th>\n",
       "      <th>var</th>\n",
       "    </tr>\n",
       "    <tr>\n",
       "      <th>tariff</th>\n",
       "      <th></th>\n",
       "      <th></th>\n",
       "      <th></th>\n",
       "      <th></th>\n",
       "      <th></th>\n",
       "      <th></th>\n",
       "      <th></th>\n",
       "      <th></th>\n",
       "      <th></th>\n",
       "      <th></th>\n",
       "      <th></th>\n",
       "    </tr>\n",
       "  </thead>\n",
       "  <tbody>\n",
       "    <tr>\n",
       "      <th>smart</th>\n",
       "      <td>2229.0</td>\n",
       "      <td>33.384029</td>\n",
       "      <td>28.227876</td>\n",
       "      <td>0.0</td>\n",
       "      <td>0.0</td>\n",
       "      <td>10.0</td>\n",
       "      <td>28.0</td>\n",
       "      <td>51.0</td>\n",
       "      <td>108.00</td>\n",
       "      <td>143.0</td>\n",
       "      <td>796.812958</td>\n",
       "    </tr>\n",
       "    <tr>\n",
       "      <th>ultra</th>\n",
       "      <td>985.0</td>\n",
       "      <td>49.363452</td>\n",
       "      <td>47.804457</td>\n",
       "      <td>0.0</td>\n",
       "      <td>0.0</td>\n",
       "      <td>6.0</td>\n",
       "      <td>38.0</td>\n",
       "      <td>79.0</td>\n",
       "      <td>183.32</td>\n",
       "      <td>224.0</td>\n",
       "      <td>2285.266143</td>\n",
       "    </tr>\n",
       "  </tbody>\n",
       "</table>\n",
       "</div>"
      ],
      "text/plain": [
       "         count       mean        std  min   1%   25%   50%   75%     99%  \\\n",
       "tariff                                                                     \n",
       "smart   2229.0  33.384029  28.227876  0.0  0.0  10.0  28.0  51.0  108.00   \n",
       "ultra    985.0  49.363452  47.804457  0.0  0.0   6.0  38.0  79.0  183.32   \n",
       "\n",
       "          max          var  \n",
       "tariff                      \n",
       "smart   143.0   796.812958  \n",
       "ultra   224.0  2285.266143  "
      ]
     },
     "metadata": {},
     "output_type": "display_data"
    }
   ],
   "source": [
    "describe_table(user_expenses,'messages_count')"
   ]
  },
  {
   "cell_type": "markdown",
   "metadata": {},
   "source": [
    "Вывод по отправленным сообщениям за каждый месяц:\n",
    "\n",
    "На столбчатой диаграмме видно,что количество отправленных сообщений с каждым месяцем растет и что в тарифе **smart** суммарно отправленных сообщений в каждом месяце всё равно больше, чем в тарифе **ultra**.\n",
    "\n",
    "У обоих тарифов среднее значение больше медианы и на диаграмме размаха видно, что данные скошены вправо это может означать, что достаточно мало клиентов активно отправляют смс. У пользователей  тарифа **ultra**, верхний ус диаграммы выше и разброс значений больше, чем на графике тарифа **smart**.\n",
    "\n",
    "Среднее количество отправляемых сообщений пользователей с тарифом **smart**  33 шт, с **ultra** 49 шт."
   ]
  },
  {
   "cell_type": "markdown",
   "metadata": {},
   "source": [
    "### Исследование израсходованного интернет-трафика"
   ]
  },
  {
   "cell_type": "code",
   "execution_count": 39,
   "metadata": {
    "scrolled": true
   },
   "outputs": [
    {
     "data": {
      "image/png": "[encoded data removed]",
      "text/plain": [
       "<Figure size 720x432 with 1 Axes>"
      ]
     },
     "metadata": {
      "needs_background": "light"
     },
     "output_type": "display_data"
    }
   ],
   "source": [
    "bar_histogram_maker('internet_traffic')"
   ]
  },
  {
   "cell_type": "code",
   "execution_count": 40,
   "metadata": {},
   "outputs": [
    {
     "data": {
      "text/plain": [
       "(-10.0, 60.0)"
      ]
     },
     "execution_count": 40,
     "metadata": {},
     "output_type": "execute_result"
    },
    {
     "data": {
      "image/png": "[encoded data removed]",
      "text/plain": [
       "<Figure size 1440x432 with 2 Axes>"
      ]
     },
     "metadata": {
      "needs_background": "light"
     },
     "output_type": "display_data"
    }
   ],
   "source": [
    "plt.figure(figsize = (20,6))\n",
    "user_expenses[user_expenses['tariff'] == 'ultra'].boxplot('internet_traffic', ax = plt.subplot(1,2,1))\n",
    "plt.title('Израсходованный интернет-трафик тарифа ULTRA', fontsize=15)\n",
    "plt.ylabel('частота')\n",
    "user_expenses[user_expenses['tariff'] == 'smart'].boxplot('internet_traffic', ax = plt.subplot(1,2,2))\n",
    "plt.title('Израсходованный интернет-трафик тарифа SMART', fontsize=15)\n",
    "plt.ylabel('частота')\n",
    "plt.ylim(-10, 60)"
   ]
  },
  {
   "cell_type": "code",
   "execution_count": 41,
   "metadata": {},
   "outputs": [
    {
     "data": {
      "text/html": [
       "<div>\n",
       "<style scoped>\n",
       "    .dataframe tbody tr th:only-of-type {\n",
       "        vertical-align: middle;\n",
       "    }\n",
       "\n",
       "    .dataframe tbody tr th {\n",
       "        vertical-align: top;\n",
       "    }\n",
       "\n",
       "    .dataframe thead th {\n",
       "        text-align: right;\n",
       "    }\n",
       "</style>\n",
       "<table border=\"1\" class=\"dataframe\">\n",
       "  <thead>\n",
       "    <tr style=\"text-align: right;\">\n",
       "      <th></th>\n",
       "      <th>count</th>\n",
       "      <th>mean</th>\n",
       "      <th>std</th>\n",
       "      <th>min</th>\n",
       "      <th>1%</th>\n",
       "      <th>25%</th>\n",
       "      <th>50%</th>\n",
       "      <th>75%</th>\n",
       "      <th>99%</th>\n",
       "      <th>max</th>\n",
       "      <th>var</th>\n",
       "    </tr>\n",
       "    <tr>\n",
       "      <th>tariff</th>\n",
       "      <th></th>\n",
       "      <th></th>\n",
       "      <th></th>\n",
       "      <th></th>\n",
       "      <th></th>\n",
       "      <th></th>\n",
       "      <th></th>\n",
       "      <th></th>\n",
       "      <th></th>\n",
       "      <th></th>\n",
       "      <th></th>\n",
       "    </tr>\n",
       "  </thead>\n",
       "  <tbody>\n",
       "    <tr>\n",
       "      <th>smart</th>\n",
       "      <td>2229.0</td>\n",
       "      <td>16.328847</td>\n",
       "      <td>5.747061</td>\n",
       "      <td>0.0</td>\n",
       "      <td>2.0</td>\n",
       "      <td>13.0</td>\n",
       "      <td>17.0</td>\n",
       "      <td>20.0</td>\n",
       "      <td>29.72</td>\n",
       "      <td>38.0</td>\n",
       "      <td>33.028705</td>\n",
       "    </tr>\n",
       "    <tr>\n",
       "      <th>ultra</th>\n",
       "      <td>985.0</td>\n",
       "      <td>19.494416</td>\n",
       "      <td>9.853511</td>\n",
       "      <td>0.0</td>\n",
       "      <td>0.0</td>\n",
       "      <td>12.0</td>\n",
       "      <td>19.0</td>\n",
       "      <td>27.0</td>\n",
       "      <td>42.16</td>\n",
       "      <td>49.0</td>\n",
       "      <td>97.091686</td>\n",
       "    </tr>\n",
       "  </tbody>\n",
       "</table>\n",
       "</div>"
      ],
      "text/plain": [
       "         count       mean       std  min   1%   25%   50%   75%    99%   max  \\\n",
       "tariff                                                                         \n",
       "smart   2229.0  16.328847  5.747061  0.0  2.0  13.0  17.0  20.0  29.72  38.0   \n",
       "ultra    985.0  19.494416  9.853511  0.0  0.0  12.0  19.0  27.0  42.16  49.0   \n",
       "\n",
       "              var  \n",
       "tariff             \n",
       "smart   33.028705  \n",
       "ultra   97.091686  "
      ]
     },
     "metadata": {},
     "output_type": "display_data"
    }
   ],
   "source": [
    "describe_table(user_expenses,'internet_traffic')"
   ]
  },
  {
   "cell_type": "markdown",
   "metadata": {},
   "source": [
    "Вывод по количеству использованного интернет-трафика за каждый месяц:\n",
    "\n",
    "На столбчатой диаграмме видно,что количество потраченного интернет-трафика с каждым месяцем растет и что в тарифе **smart** интернет-трафика в каждом месяце почти в два раза больше, чем в тарифе **ultra**.\n",
    "\n",
    "У тарифа **smart**  медиана равна 17 ГБ немного больше среднего, данные практически симметричны. В тарифе включено всего 15 Гб трафика, а вычисленная медиана и показанная на диаграмме размаха начинается уже после 15 ГБ, больше 50% пользователей используют свыше 17 ГБ, а это означает, что пользователям тарифа smart однозначно не хватает заложенного трафика и они переплачивают за дополнительный. В среднем пользователи расходуют 16.32 ГБ.\n",
    "\n",
    "У тарифа **ultra** медиана немного меньше среднего, по диаграмме размаха видно, что не так много пользователей превышают заложенные в тариф количество трафика 30 ГБ, видно, что 75% пользователей точно укладываются в это значение. Разброс значений в тарифе ultra больше, чем на графике тарифа smart. В среднем пользователи расходуют 19,49 ГБ."
   ]
  },
  {
   "cell_type": "markdown",
   "metadata": {},
   "source": [
    "### Исследование прибыли по двум тарифам"
   ]
  },
  {
   "cell_type": "markdown",
   "metadata": {},
   "source": [
    "Сперва узнаем какое количество клиентов пользуется каждым тарифом."
   ]
  },
  {
   "cell_type": "code",
   "execution_count": 42,
   "metadata": {},
   "outputs": [
    {
     "data": {
      "text/plain": [
       "smart    351\n",
       "ultra    149\n",
       "Name: tariff, dtype: int64"
      ]
     },
     "execution_count": 42,
     "metadata": {},
     "output_type": "execute_result"
    }
   ],
   "source": [
    "df_users['tariff'].value_counts()"
   ]
  },
  {
   "cell_type": "markdown",
   "metadata": {},
   "source": [
    "Количество клиентов тарифа smart больше чем в два раза, чем количество клиентов ultra."
   ]
  },
  {
   "cell_type": "markdown",
   "metadata": {},
   "source": [
    "Построим столбчатую диаграму, чтобы визуально определить распределение выручки по каждому тарифу помесячно."
   ]
  },
  {
   "cell_type": "code",
   "execution_count": 43,
   "metadata": {
    "scrolled": true
   },
   "outputs": [
    {
     "data": {
      "image/png": "[encoded data removed]",
      "text/plain": [
       "<Figure size 720x432 with 1 Axes>"
      ]
     },
     "metadata": {
      "needs_background": "light"
     },
     "output_type": "display_data"
    }
   ],
   "source": [
    "bar_histogram_maker('income')"
   ]
  },
  {
   "cell_type": "markdown",
   "metadata": {},
   "source": [
    "На диаграмме видно,что выручка от тарифа ultra в начале года была не намного ниже выручки тарифа smart, особенно в феврале и апреле, после разрыв начал увеличиваться."
   ]
  },
  {
   "cell_type": "markdown",
   "metadata": {},
   "source": [
    "Рассмотрим показатели выручки по общим данным, т.е. без разбивки по месяцам, данные по выручки с каждого клиента:"
   ]
  },
  {
   "cell_type": "code",
   "execution_count": 44,
   "metadata": {
    "scrolled": true
   },
   "outputs": [
    {
     "data": {
      "text/html": [
       "<div>\n",
       "<style scoped>\n",
       "    .dataframe tbody tr th:only-of-type {\n",
       "        vertical-align: middle;\n",
       "    }\n",
       "\n",
       "    .dataframe tbody tr th {\n",
       "        vertical-align: top;\n",
       "    }\n",
       "\n",
       "    .dataframe thead th {\n",
       "        text-align: right;\n",
       "    }\n",
       "</style>\n",
       "<table border=\"1\" class=\"dataframe\">\n",
       "  <thead>\n",
       "    <tr style=\"text-align: right;\">\n",
       "      <th></th>\n",
       "      <th>count</th>\n",
       "      <th>mean</th>\n",
       "      <th>std</th>\n",
       "      <th>min</th>\n",
       "      <th>1%</th>\n",
       "      <th>25%</th>\n",
       "      <th>50%</th>\n",
       "      <th>75%</th>\n",
       "      <th>99%</th>\n",
       "      <th>max</th>\n",
       "      <th>var</th>\n",
       "    </tr>\n",
       "    <tr>\n",
       "      <th>tariff</th>\n",
       "      <th></th>\n",
       "      <th></th>\n",
       "      <th></th>\n",
       "      <th></th>\n",
       "      <th></th>\n",
       "      <th></th>\n",
       "      <th></th>\n",
       "      <th></th>\n",
       "      <th></th>\n",
       "      <th></th>\n",
       "      <th></th>\n",
       "    </tr>\n",
       "  </thead>\n",
       "  <tbody>\n",
       "    <tr>\n",
       "      <th>smart</th>\n",
       "      <td>2229.0</td>\n",
       "      <td>1289.973531</td>\n",
       "      <td>818.404367</td>\n",
       "      <td>550.0</td>\n",
       "      <td>550.0</td>\n",
       "      <td>550.0</td>\n",
       "      <td>1023.0</td>\n",
       "      <td>1750.0</td>\n",
       "      <td>3773.72</td>\n",
       "      <td>6770.0</td>\n",
       "      <td>669785.708006</td>\n",
       "    </tr>\n",
       "    <tr>\n",
       "      <th>ultra</th>\n",
       "      <td>985.0</td>\n",
       "      <td>2070.152284</td>\n",
       "      <td>376.187114</td>\n",
       "      <td>1950.0</td>\n",
       "      <td>1950.0</td>\n",
       "      <td>1950.0</td>\n",
       "      <td>1950.0</td>\n",
       "      <td>1950.0</td>\n",
       "      <td>3774.00</td>\n",
       "      <td>4800.0</td>\n",
       "      <td>141516.745079</td>\n",
       "    </tr>\n",
       "  </tbody>\n",
       "</table>\n",
       "</div>"
      ],
      "text/plain": [
       "         count         mean         std     min      1%     25%     50%  \\\n",
       "tariff                                                                    \n",
       "smart   2229.0  1289.973531  818.404367   550.0   550.0   550.0  1023.0   \n",
       "ultra    985.0  2070.152284  376.187114  1950.0  1950.0  1950.0  1950.0   \n",
       "\n",
       "           75%      99%     max            var  \n",
       "tariff                                          \n",
       "smart   1750.0  3773.72  6770.0  669785.708006  \n",
       "ultra   1950.0  3774.00  4800.0  141516.745079  "
      ]
     },
     "metadata": {},
     "output_type": "display_data"
    }
   ],
   "source": [
    "describe_table(user_expenses,'income')"
   ]
  },
  {
   "cell_type": "markdown",
   "metadata": {},
   "source": [
    "Рассмотрим суммарные показатели выручки каждого тарифа по месяцам, данные по выручки с каждого месяца:"
   ]
  },
  {
   "cell_type": "code",
   "execution_count": 45,
   "metadata": {},
   "outputs": [
    {
     "data": {
      "text/html": [
       "<div>\n",
       "<style scoped>\n",
       "    .dataframe tbody tr th:only-of-type {\n",
       "        vertical-align: middle;\n",
       "    }\n",
       "\n",
       "    .dataframe tbody tr th {\n",
       "        vertical-align: top;\n",
       "    }\n",
       "\n",
       "    .dataframe thead th {\n",
       "        text-align: right;\n",
       "    }\n",
       "</style>\n",
       "<table border=\"1\" class=\"dataframe\">\n",
       "  <thead>\n",
       "    <tr style=\"text-align: right;\">\n",
       "      <th></th>\n",
       "      <th>count</th>\n",
       "      <th>mean</th>\n",
       "      <th>std</th>\n",
       "      <th>min</th>\n",
       "      <th>1%</th>\n",
       "      <th>25%</th>\n",
       "      <th>50%</th>\n",
       "      <th>75%</th>\n",
       "      <th>99%</th>\n",
       "      <th>max</th>\n",
       "      <th>var</th>\n",
       "    </tr>\n",
       "    <tr>\n",
       "      <th>tariff</th>\n",
       "      <th></th>\n",
       "      <th></th>\n",
       "      <th></th>\n",
       "      <th></th>\n",
       "      <th></th>\n",
       "      <th></th>\n",
       "      <th></th>\n",
       "      <th></th>\n",
       "      <th></th>\n",
       "      <th></th>\n",
       "      <th></th>\n",
       "    </tr>\n",
       "  </thead>\n",
       "  <tbody>\n",
       "    <tr>\n",
       "      <th>smart</th>\n",
       "      <td>12.0</td>\n",
       "      <td>239612.583333</td>\n",
       "      <td>161718.545587</td>\n",
       "      <td>24525.0</td>\n",
       "      <td>27107.36</td>\n",
       "      <td>103318.5</td>\n",
       "      <td>221736.5</td>\n",
       "      <td>344056.25</td>\n",
       "      <td>520133.18</td>\n",
       "      <td>531965.0</td>\n",
       "      <td>2.615289e+10</td>\n",
       "    </tr>\n",
       "    <tr>\n",
       "      <th>ultra</th>\n",
       "      <td>12.0</td>\n",
       "      <td>169925.000000</td>\n",
       "      <td>92790.640447</td>\n",
       "      <td>17550.0</td>\n",
       "      <td>20833.50</td>\n",
       "      <td>101212.5</td>\n",
       "      <td>182025.0</td>\n",
       "      <td>238125.00</td>\n",
       "      <td>295435.50</td>\n",
       "      <td>297300.0</td>\n",
       "      <td>8.610103e+09</td>\n",
       "    </tr>\n",
       "  </tbody>\n",
       "</table>\n",
       "</div>"
      ],
      "text/plain": [
       "        count           mean            std      min        1%       25%  \\\n",
       "tariff                                                                     \n",
       "smart    12.0  239612.583333  161718.545587  24525.0  27107.36  103318.5   \n",
       "ultra    12.0  169925.000000   92790.640447  17550.0  20833.50  101212.5   \n",
       "\n",
       "             50%        75%        99%       max           var  \n",
       "tariff                                                          \n",
       "smart   221736.5  344056.25  520133.18  531965.0  2.615289e+10  \n",
       "ultra   182025.0  238125.00  295435.50  297300.0  8.610103e+09  "
      ]
     },
     "metadata": {},
     "output_type": "display_data"
    }
   ],
   "source": [
    "describe_table(all_clients_month,'income')"
   ]
  },
  {
   "cell_type": "markdown",
   "metadata": {},
   "source": [
    "По данным таблицам можно сделать вывод, что в среднем с каждого клиента у тарифа смарт получается меньше выручки, чем у клиентов тарифа ультра, однако среднее значение помесячной выручки показывает нам, что тариф смарт приносит в итоге больше дохода. Высокое стандартное отклонение ещё раз показывает нам, что средние значения за год сильно изменялись."
   ]
  },
  {
   "cell_type": "markdown",
   "metadata": {},
   "source": [
    "Вычислим какая выручка на одного клиента, так как разница в их количестве не дает нам возможности объективно сравнить выручку для компании."
   ]
  },
  {
   "cell_type": "code",
   "execution_count": 47,
   "metadata": {},
   "outputs": [
    {
     "name": "stdout",
     "output_type": "stream",
     "text": [
      "8191.883190883191\n",
      "13685.23489932886\n"
     ]
    }
   ],
   "source": [
    "print(user_expenses[user_expenses['tariff'] == 'smart']['income'].sum() / len(df_users[df_users['tariff'] == 'smart']))\n",
    "print(user_expenses[user_expenses['tariff'] == 'ultra']['income'].sum() / len(df_users[df_users['tariff'] == 'ultra']))"
   ]
  },
  {
   "cell_type": "markdown",
   "metadata": {},
   "source": [
    "Мы узнали, что выручка за одного клиента выше в тарифе ultra. Посчитаем теперь общую выручку по каждоу тарифу."
   ]
  },
  {
   "cell_type": "code",
   "execution_count": 48,
   "metadata": {},
   "outputs": [
    {
     "name": "stdout",
     "output_type": "stream",
     "text": [
      "Сумма выручки по тарифу smart:  2875351.0\n",
      "Сумма выручки по тарифу ultra:  2039100.0\n"
     ]
    }
   ],
   "source": [
    "print('Сумма выручки по тарифу smart: ', smart_clients_month['income'].sum())\n",
    "print('Сумма выручки по тарифу ultra: ', ultra_clients_month['income'].sum())"
   ]
  },
  {
   "cell_type": "markdown",
   "metadata": {},
   "source": [
    "Вывод: Итого за год сумма вырчуки выше у тарифа smart (2875351), чем у ultra (2039100), что скорее всего обусловлено большим количеством клиентов, но доход на одного клиента наоборот выуше у тарифа ultra (13685), чем smart (8191)."
   ]
  },
  {
   "cell_type": "markdown",
   "metadata": {},
   "source": [
    "### Вывод"
   ]
  },
  {
   "cell_type": "markdown",
   "metadata": {},
   "source": [
    "Судя по графикам сильных выбросов в данных нет, разброс данных небольшой.\n",
    "\n",
    "По построенным графикам мы видим, что каждое рассматриваемое значение потраченных минут, смс и интернет трафика у клиентов тарифа smart больше чем в два раза, чем у клиентов тарифа ultra. Скорее всего это связано с тем, что пользователей тарифом smart в действительности в 2.36 раза больше.\n",
    "\n",
    "1. Вывод по потраченным минутам за каждый месяц:\n",
    "\n",
    "* Сумма израсходованных минут с каждым месяцем растет и что в тарифе **smart** израсходованных минут в каждом месяце больше, чем в тарифе **ultra**.\n",
    "* У тарифа **smart** среднее значение практически равно медиане и на графике размаха видно, что данные распределены симметрично, в среднем на тарифе smart клиенты тратят по 417 минут. \n",
    "* У тарифа **ultra** среднее чуть выше медианы, данные скошены вправо и по диаграмме размаха видно, что клиенты этого тарифа тратят больше минут. Среднее число потраченных минут равно 526. \n",
    "\n",
    "2. Вывод по отправленным сообщениям за каждый месяц:\n",
    "\n",
    "* Количество отправленных сообщений с каждым месяцем растет и что в тарифе **smart** суммарно отправленных сообщений в каждом месяце всё равно больше, чем в тарифе **ultra**.\n",
    "* У обоих тарифов среднее значение больше медианы и на диаграмме размаха видно, что данные скошены вправо это может означать, что достаточно мало клиентов активно отправляют смс. У пользователей  тарифа **ultra**, верхний ус диаграммы выше и разброс значений больше, чем на графике тарифа **smart**.\n",
    "* Среднее количество отправляемых сообщений пользователей с тарифом **smart**  33 шт, с **ultra** 49 шт.\n",
    "\n",
    "3. Вывод по количеству использованного интернет-трафика за каждый месяц:\n",
    "\n",
    "* Количество потраченного интернет-трафика с каждым месяцем растет и что в тарифе **smart** интернет-трафика в каждом месяце почти в два раза больше, чем в тарифе **ultra**.\n",
    "* У тарифа **smart**  медиана равна 17 ГБ немного больше среднего, данные практически симметричны. В тарифе включено всего 15 Гб трафика, а вычисленная медиана и показанная на диаграмме размаха начинается уже после 15 ГБ, больше 50% пользователей используют свыше 17 ГБ, а это означает, что пользователям тарифа smart однозначно не хватает заложенного трафика и они переплачивают за дополнительный. В среднем пользователи расходуют 16.32 ГБ.\n",
    "* У тарифа **ultra** медиана немного меньше среднего, по диаграмме размаха видно, что не так много пользователей превышают заложенные в тариф количество трафика 30 ГБ, видно, что 75% пользователей точно укладываются в это значение. Разброс значений в тарифе ultra больше, чем на графике тарифа smart. В среднем пользователи расходуют 19,49 ГБ.\n",
    "\n",
    "4. Вывод по выручке:\n",
    "\n",
    "Выручка от тарифа ultra в начале года была не намного ниже выручки тарифа smart, особенно в феврале и апреле, после разрыв начал увеличиваться.\n",
    "\n",
    "В среднем с каждого клиента у тарифа смарт получается меньше выручки, чем у клиентов тарифа ультра, однако среднее значение помесячной выручки показывает нам, что тариф смарт приносит в итоге больше дохода. Высокое стандартное отклонение ещё раз показывает нам, что средние значения за год сильно изменялись.\n",
    "\n",
    "Итого за год сумма вырчуки выше у тарифа smart (2875351), чем у ultra (2039100), что скорее всего обусловлено большим количеством клиентов, но доход на одного клиента наоборот выуше у тарифа ultra (13685), чем smart (8191)."
   ]
  },
  {
   "cell_type": "markdown",
   "metadata": {},
   "source": [
    "## Проверка гипотез"
   ]
  },
  {
   "cell_type": "markdown",
   "metadata": {},
   "source": [
    "Так как нам дана не вся генеральная совокупность, а лишь небольшая выборка, мы должны воспользоваться специальным методом для проверки гипотезы о равенстве среднего двух генеральных совокупностей по взятым из них выборкам: `scipy.stats.ttest_ind`. \n",
    "\n",
    "Необходимо проверить две гипотезы:\n",
    "\n",
    "* средняя выручка пользователей тарифов «Ультра» и «Смарт» различаются;\n",
    "\n",
    "* средняя выручка пользователей из Москвы отличается от выручки пользователей из других регионов."
   ]
  },
  {
   "cell_type": "markdown",
   "metadata": {},
   "source": [
    "### Проверка гипотезы о различии средней выручки тарифов «Ультра» и «Смарт»"
   ]
  },
  {
   "cell_type": "markdown",
   "metadata": {},
   "source": [
    "Так как выборки тарифа smart и ultra у нас разные по размеру и дисперсия у них разная (smart = 669730 и ultra = 141387, хотя мы не знаем дисперсии генеральной совокупности), думаю, что нужно выбрать параметр **equal_var = False.**"
   ]
  },
  {
   "cell_type": "markdown",
   "metadata": {},
   "source": [
    "Сформулируем нулевую и альтернативную гипотезы:\n",
    "\n",
    "H₀ - средняя выручка пользователей тарифа «Ультра» **равна** выручке тарифа «Смарт», т.е. средние значения равны.\n",
    "\n",
    "H₁ - средняя выручка пользователей тарифа «Ультра» **не равна** выручке тарифа «Смарт», т.е. срединие значения  не равны."
   ]
  },
  {
   "cell_type": "code",
   "execution_count": 49,
   "metadata": {},
   "outputs": [
    {
     "name": "stdout",
     "output_type": "stream",
     "text": [
      "p-значение:  4.2606313931076085e-250\n",
      "Отвергаем нулевую гипотезу\n"
     ]
    }
   ],
   "source": [
    "# Прошлое решение:\n",
    "# ultra = ultra_clients_month['income'] \n",
    "# smart = smart_clients_month['income'] \n",
    "\n",
    "ultra = user_expenses[user_expenses['tariff'] == 'smart']['income'] # Первая выборка тарифа ultra\n",
    "smart = user_expenses[user_expenses['tariff'] == 'ultra']['income'] # Вторая выборка тарифа smart\n",
    "\n",
    "alpha = 0.05 # критический уровень статистической значимости\n",
    "\n",
    "results = st.ttest_ind(ultra, smart, equal_var = False)\n",
    "\n",
    "\n",
    "print('p-значение: ', results.pvalue)\n",
    "if results.pvalue < alpha:  # если p-value окажется меньше alpha - отвегнем гипотезу\n",
    "    print(\"Отвергаем нулевую гипотезу\")\n",
    "else:\n",
    "    print(\"Не получилось отвергнуть нулевую гипотезу\") "
   ]
  },
  {
   "cell_type": "markdown",
   "metadata": {},
   "source": [
    "Значение p-value 4.2606313931076085e-250, значит нулевую гипотезу мы отвергаем. \n",
    "\n",
    "Следовательно средняя выручка пользователей тарифа «Ультра» **не равна** выручке тарифа «Смарт»."
   ]
  },
  {
   "cell_type": "markdown",
   "metadata": {},
   "source": [
    "### Проверка гипотезы о различии средней выручки пользователей из Москвы от выручки пользователей из других регионов"
   ]
  },
  {
   "cell_type": "markdown",
   "metadata": {},
   "source": [
    "Сформулируем нулевую и альтернативную гипотезы:\n",
    "\n",
    "H₀ - средняя выручка пользователей из Москвы **равна** выручке пользователей из других регионов, т.е. средние значения равны.\n",
    "\n",
    "H₁ - средняя выручка пользователей из Москвы **не равна** выручке пользователей из других регионов, т.е. средние значения не равны."
   ]
  },
  {
   "cell_type": "code",
   "execution_count": 50,
   "metadata": {},
   "outputs": [],
   "source": [
    "moscov_user = user_expenses[user_expenses['city'] == 'Москва']['income']\n",
    "another_user = user_expenses[user_expenses['city'] != 'Москва']['income']"
   ]
  },
  {
   "cell_type": "code",
   "execution_count": 51,
   "metadata": {},
   "outputs": [
    {
     "name": "stdout",
     "output_type": "stream",
     "text": [
      "564710.7117467273\n",
      "653886.3270894174\n"
     ]
    }
   ],
   "source": [
    "print(np.var(moscov_user))\n",
    "print(np.var(another_user))"
   ]
  },
  {
   "cell_type": "code",
   "execution_count": 52,
   "metadata": {},
   "outputs": [
    {
     "name": "stdout",
     "output_type": "stream",
     "text": [
      "p-значение:  0.5257376663729298\n",
      "Не получилось отвергнуть нулевую гипотезу\n"
     ]
    }
   ],
   "source": [
    "alpha = 0.05 # критический уровень статистической значимости\n",
    "\n",
    "results2 = st.ttest_ind(moscov_user, another_user, equal_var = False)\n",
    "\n",
    "print('p-значение: ', results2.pvalue)\n",
    "if results2.pvalue < alpha:\n",
    "    print(\"Отвергаем нулевую гипотезу\")\n",
    "else:\n",
    "    print(\"Не получилось отвергнуть нулевую гипотезу\") \n"
   ]
  },
  {
   "cell_type": "markdown",
   "metadata": {},
   "source": [
    "Дисперсия выборок разная, поэтому думаю стоит выбрать параметр equal_var = False."
   ]
  },
  {
   "cell_type": "markdown",
   "metadata": {},
   "source": [
    "Значение p-value высокое 52%, значит нулевую гипотезу мы не отвергаем, т.е. средняя выручка пользователей из Москвы равна выручке пользователей из других регионов."
   ]
  },
  {
   "cell_type": "markdown",
   "metadata": {},
   "source": [
    "### Вывод"
   ]
  },
  {
   "cell_type": "markdown",
   "metadata": {},
   "source": [
    "Были проверены две гипотезы и сделаны выводы, что :\n",
    "1. Средняя выручка пользователей тарифа «Ультра» не равна выручке тарифа «Смарт».\n",
    "2. Средняя выручка пользователей из Москвы равна выручке пользователей из других регионов."
   ]
  },
  {
   "cell_type": "markdown",
   "metadata": {},
   "source": [
    "## Общий вывод"
   ]
  },
  {
   "cell_type": "markdown",
   "metadata": {},
   "source": [
    "Было обнаружено, что есть пользователи, которые не использовали минуты, сообщения и интернет трафик, но заплатили за использование тарифа, возможно потому что подключились в конце месяца. \n",
    "\n",
    "Судя по графикам сильных выбросов в данных нет, разброс данных небольшой.\n",
    "\n",
    "По построенным графикам мы видим, что каждое рассматриваемое значение потраченных минут, смс и интернет трафика у клиентов тарифа smart больше чем в два раза, чем у клиентов тарифа ultra. Скорее всего это связано с тем, что пользователей тарифом smart в действительности в 2.36 раза больше.\n",
    "\n",
    "1. Вывод по потраченным минутам за каждый месяц:\n",
    "\n",
    "* Сумма израсходованных минут с каждым месяцем растет и что в тарифе **smart** израсходованных минут в каждом месяце больше, чем в тарифе **ultra**.\n",
    "* У тарифа **smart** среднее значение практически равно медиане и на графике размаха видно, что данные распределены симметрично, в среднем на тарифе smart клиенты тратят по 417 минут. \n",
    "* У тарифа **ultra** среднее чуть выше медианы, данные скошены вправо и по диаграмме размаха видно, что клиенты этого тарифа тратят больше минут. Среднее число потраченных минут равно 526. \n",
    "\n",
    "2. Вывод по отправленным сообщениям за каждый месяц:\n",
    "\n",
    "* Количество отправленных сообщений с каждым месяцем растет и что в тарифе **smart** суммарно отправленных сообщений в каждом месяце всё равно больше, чем в тарифе **ultra**.\n",
    "* У обоих тарифов среднее значение больше медианы и на диаграмме размаха видно, что данные скошены вправо это может означать, что достаточно мало клиентов активно отправляют смс. У пользователей  тарифа **ultra**, верхний ус диаграммы выше и разброс значений больше, чем на графике тарифа **smart**.\n",
    "* Среднее количество отправляемых сообщений пользователей с тарифом **smart**  33 шт, с **ultra** 49 шт.\n",
    "\n",
    "3. Вывод по количеству использованного интернет-трафика за каждый месяц:\n",
    "\n",
    "* Количество потраченного интернет-трафика с каждым месяцем растет и что в тарифе **smart** интернет-трафика в каждом месяце почти в два раза больше, чем в тарифе **ultra**.\n",
    "* У тарифа **smart**  медиана равна 17 ГБ немного больше среднего, данные практически симметричны. В тарифе включено всего 15 Гб трафика, а вычисленная медиана и показанная на диаграмме размаха начинается уже после 15 ГБ, больше 50% пользователей используют свыше 17 ГБ, а это означает, что пользователям тарифа smart однозначно не хватает заложенного трафика и они переплачивают за дополнительный. В среднем пользователи расходуют 16.32 ГБ.\n",
    "* У тарифа **ultra** медиана немного меньше среднего, по диаграмме размаха видно, что не так много пользователей превышают заложенные в тариф количество трафика 30 ГБ, видно, что 75% пользователей точно укладываются в это значение. Разброс значений в тарифе ultra больше, чем на графике тарифа smart. В среднем пользователи расходуют 19,49 ГБ.\n",
    "\n",
    "4. Вывод по выручке:\n",
    "\n",
    "Выручка от тарифа ultra в начале года была не намного ниже выручки тарифа smart, особенно в феврале и апреле, после разрыв начал увеличиваться.\n",
    "\n",
    "В среднем с каждого клиента у тарифа смарт получается меньше выручки, чем у клиентов тарифа ультра, однако среднее значение помесячной выручки показывает нам, что тариф смарт приносит в итоге больше дохода. Высокое стандартное отклонение ещё раз показывает нам, что средние значения за год сильно изменялись.\n",
    "\n",
    "Итого за год сумма вырчуки выше у тарифа smart (2875351), чем у ultra (2039100), что скорее всего обусловлено большим количеством клиентов, но доход на одного клиента наоборот выуше у тарифа ultra (13685), чем smart (8191).\n",
    "\n",
    "Т.е. тариф **smart** чаще выбирают клиенты и он приносит в совокупности больше выручки больше за счет переплат по использованию трафика сверх тарифного пакета,но если новые привлеченные клиенты будут экономить, то возможно и выручка станет меньше, а у тарифа **ultra** больше доход на одного клиента, если их станет, например, так же как клиентов smart, то выручка у ultra должна стать больше.\n",
    "\n",
    "Были проверены две гипотезы и сделаны выводы, что :\n",
    "1. Средняя выручка пользователей тарифа «Ультра» не равна выручке тарифа «Смарт».\n",
    "2. Средняя выручка пользователей из Москвы равна выручке пользователей из других регионов."
   ]
  }
 ],
 "metadata": {
  "ExecuteTimeLog": [
   {
    "duration": 1149,
    "start_time": "2022-04-01T09:24:53.427Z"
   },
   {
    "duration": 548,
    "start_time": "2022-04-01T09:24:54.579Z"
   },
   {
    "duration": 4,
    "start_time": "2022-04-01T09:24:55.130Z"
   },
   {
    "duration": 200,
    "start_time": "2022-04-01T09:24:55.137Z"
   },
   {
    "duration": 154,
    "start_time": "2022-04-01T09:24:55.339Z"
   },
   {
    "duration": 111,
    "start_time": "2022-04-01T09:24:55.496Z"
   },
   {
    "duration": 26,
    "start_time": "2022-04-01T09:24:55.610Z"
   },
   {
    "duration": 61,
    "start_time": "2022-04-01T09:24:55.639Z"
   },
   {
    "duration": 115,
    "start_time": "2022-04-01T09:24:55.702Z"
   },
   {
    "duration": 24,
    "start_time": "2022-04-01T09:24:55.821Z"
   },
   {
    "duration": 14,
    "start_time": "2022-04-01T09:24:55.847Z"
   },
   {
    "duration": 27,
    "start_time": "2022-04-01T09:24:55.863Z"
   },
   {
    "duration": 11,
    "start_time": "2022-04-01T09:24:55.892Z"
   },
   {
    "duration": 28,
    "start_time": "2022-04-01T09:24:55.905Z"
   },
   {
    "duration": 11,
    "start_time": "2022-04-01T09:24:55.935Z"
   },
   {
    "duration": 52,
    "start_time": "2022-04-01T09:24:55.987Z"
   },
   {
    "duration": 19,
    "start_time": "2022-04-01T09:24:56.041Z"
   },
   {
    "duration": 54,
    "start_time": "2022-04-01T09:24:56.062Z"
   },
   {
    "duration": 4,
    "start_time": "2022-04-01T09:24:56.118Z"
   },
   {
    "duration": 23,
    "start_time": "2022-04-01T09:24:56.124Z"
   },
   {
    "duration": 37,
    "start_time": "2022-04-01T09:24:56.149Z"
   },
   {
    "duration": 42,
    "start_time": "2022-04-01T09:24:56.188Z"
   },
   {
    "duration": 54,
    "start_time": "2022-04-01T09:24:56.233Z"
   },
   {
    "duration": 36,
    "start_time": "2022-04-01T09:24:56.289Z"
   },
   {
    "duration": 7,
    "start_time": "2022-04-01T09:24:56.327Z"
   },
   {
    "duration": 10,
    "start_time": "2022-04-01T09:24:56.336Z"
   },
   {
    "duration": 43,
    "start_time": "2022-04-01T09:24:56.348Z"
   },
   {
    "duration": 11,
    "start_time": "2022-04-01T09:24:56.398Z"
   },
   {
    "duration": 345,
    "start_time": "2022-04-01T09:24:56.411Z"
   },
   {
    "duration": 24,
    "start_time": "2022-04-01T09:24:56.758Z"
   },
   {
    "duration": 10,
    "start_time": "2022-04-01T09:24:56.784Z"
   },
   {
    "duration": 238,
    "start_time": "2022-04-01T09:24:56.797Z"
   },
   {
    "duration": 112,
    "start_time": "2022-04-01T09:24:57.037Z"
   },
   {
    "duration": 0,
    "start_time": "2022-04-01T09:24:57.151Z"
   },
   {
    "duration": 0,
    "start_time": "2022-04-01T09:24:57.152Z"
   },
   {
    "duration": 0,
    "start_time": "2022-04-01T09:24:57.154Z"
   },
   {
    "duration": 0,
    "start_time": "2022-04-01T09:24:57.155Z"
   },
   {
    "duration": 0,
    "start_time": "2022-04-01T09:24:57.157Z"
   },
   {
    "duration": 0,
    "start_time": "2022-04-01T09:24:57.158Z"
   },
   {
    "duration": 0,
    "start_time": "2022-04-01T09:24:57.160Z"
   },
   {
    "duration": 0,
    "start_time": "2022-04-01T09:24:57.161Z"
   },
   {
    "duration": 0,
    "start_time": "2022-04-01T09:24:57.182Z"
   },
   {
    "duration": 0,
    "start_time": "2022-04-01T09:24:57.183Z"
   },
   {
    "duration": 0,
    "start_time": "2022-04-01T09:24:57.184Z"
   },
   {
    "duration": 0,
    "start_time": "2022-04-01T09:24:57.188Z"
   },
   {
    "duration": 1,
    "start_time": "2022-04-01T09:24:57.189Z"
   },
   {
    "duration": 0,
    "start_time": "2022-04-01T09:24:57.191Z"
   },
   {
    "duration": 1,
    "start_time": "2022-04-01T09:24:57.194Z"
   },
   {
    "duration": 0,
    "start_time": "2022-04-01T09:24:57.196Z"
   },
   {
    "duration": 80,
    "start_time": "2022-04-01T09:47:32.582Z"
   },
   {
    "duration": 68,
    "start_time": "2022-04-01T09:49:21.992Z"
   },
   {
    "duration": 153,
    "start_time": "2022-04-01T09:52:07.158Z"
   },
   {
    "duration": 34,
    "start_time": "2022-04-01T09:54:04.821Z"
   },
   {
    "duration": 37,
    "start_time": "2022-04-01T09:54:15.617Z"
   },
   {
    "duration": 139,
    "start_time": "2022-04-01T10:01:16.697Z"
   },
   {
    "duration": 6,
    "start_time": "2022-04-01T10:13:25.159Z"
   },
   {
    "duration": 23,
    "start_time": "2022-04-01T10:13:32.793Z"
   },
   {
    "duration": 5,
    "start_time": "2022-04-01T10:13:36.041Z"
   },
   {
    "duration": 7,
    "start_time": "2022-04-01T10:13:39.358Z"
   },
   {
    "duration": 5,
    "start_time": "2022-04-01T10:13:55.294Z"
   },
   {
    "duration": 230,
    "start_time": "2022-04-01T10:19:18.209Z"
   },
   {
    "duration": 875,
    "start_time": "2022-04-01T10:19:28.184Z"
   },
   {
    "duration": 565,
    "start_time": "2022-04-01T10:19:29.062Z"
   },
   {
    "duration": 4,
    "start_time": "2022-04-01T10:19:29.629Z"
   },
   {
    "duration": 172,
    "start_time": "2022-04-01T10:19:29.636Z"
   },
   {
    "duration": 149,
    "start_time": "2022-04-01T10:19:29.812Z"
   },
   {
    "duration": 105,
    "start_time": "2022-04-01T10:19:29.964Z"
   },
   {
    "duration": 42,
    "start_time": "2022-04-01T10:19:30.071Z"
   },
   {
    "duration": 27,
    "start_time": "2022-04-01T10:19:30.115Z"
   },
   {
    "duration": 128,
    "start_time": "2022-04-01T10:19:30.144Z"
   },
   {
    "duration": 34,
    "start_time": "2022-04-01T10:19:30.274Z"
   },
   {
    "duration": 13,
    "start_time": "2022-04-01T10:19:30.310Z"
   },
   {
    "duration": 12,
    "start_time": "2022-04-01T10:19:30.324Z"
   },
   {
    "duration": 17,
    "start_time": "2022-04-01T10:19:30.338Z"
   },
   {
    "duration": 33,
    "start_time": "2022-04-01T10:19:30.384Z"
   },
   {
    "duration": 12,
    "start_time": "2022-04-01T10:19:30.419Z"
   },
   {
    "duration": 83,
    "start_time": "2022-04-01T10:19:30.434Z"
   },
   {
    "duration": 19,
    "start_time": "2022-04-01T10:19:30.519Z"
   },
   {
    "duration": 56,
    "start_time": "2022-04-01T10:19:30.540Z"
   },
   {
    "duration": 4,
    "start_time": "2022-04-01T10:19:30.599Z"
   },
   {
    "duration": 29,
    "start_time": "2022-04-01T10:19:30.606Z"
   },
   {
    "duration": 14,
    "start_time": "2022-04-01T10:19:30.638Z"
   },
   {
    "duration": 64,
    "start_time": "2022-04-01T10:19:30.654Z"
   },
   {
    "duration": 41,
    "start_time": "2022-04-01T10:19:30.720Z"
   },
   {
    "duration": 55,
    "start_time": "2022-04-01T10:19:30.763Z"
   },
   {
    "duration": 7,
    "start_time": "2022-04-01T10:19:30.821Z"
   },
   {
    "duration": 10,
    "start_time": "2022-04-01T10:19:30.830Z"
   },
   {
    "duration": 42,
    "start_time": "2022-04-01T10:19:30.842Z"
   },
   {
    "duration": 29,
    "start_time": "2022-04-01T10:19:30.888Z"
   },
   {
    "duration": 360,
    "start_time": "2022-04-01T10:19:30.919Z"
   },
   {
    "duration": 19,
    "start_time": "2022-04-01T10:19:31.286Z"
   },
   {
    "duration": 10,
    "start_time": "2022-04-01T10:19:31.307Z"
   },
   {
    "duration": 228,
    "start_time": "2022-04-01T10:19:31.319Z"
   },
   {
    "duration": 122,
    "start_time": "2022-04-01T10:19:31.548Z"
   },
   {
    "duration": 0,
    "start_time": "2022-04-01T10:19:31.674Z"
   },
   {
    "duration": 0,
    "start_time": "2022-04-01T10:19:31.683Z"
   },
   {
    "duration": 0,
    "start_time": "2022-04-01T10:19:31.684Z"
   },
   {
    "duration": 0,
    "start_time": "2022-04-01T10:19:31.685Z"
   },
   {
    "duration": 0,
    "start_time": "2022-04-01T10:19:31.687Z"
   },
   {
    "duration": 0,
    "start_time": "2022-04-01T10:19:31.688Z"
   },
   {
    "duration": 1,
    "start_time": "2022-04-01T10:19:31.691Z"
   },
   {
    "duration": 0,
    "start_time": "2022-04-01T10:19:31.693Z"
   },
   {
    "duration": 0,
    "start_time": "2022-04-01T10:19:31.695Z"
   },
   {
    "duration": 0,
    "start_time": "2022-04-01T10:19:31.696Z"
   },
   {
    "duration": 0,
    "start_time": "2022-04-01T10:19:31.698Z"
   },
   {
    "duration": 0,
    "start_time": "2022-04-01T10:19:31.700Z"
   },
   {
    "duration": 0,
    "start_time": "2022-04-01T10:19:31.702Z"
   },
   {
    "duration": 0,
    "start_time": "2022-04-01T10:19:31.703Z"
   },
   {
    "duration": 0,
    "start_time": "2022-04-01T10:19:31.705Z"
   },
   {
    "duration": 0,
    "start_time": "2022-04-01T10:19:31.706Z"
   },
   {
    "duration": 12,
    "start_time": "2022-04-01T10:28:38.170Z"
   },
   {
    "duration": 820,
    "start_time": "2022-04-01T10:29:55.628Z"
   },
   {
    "duration": 560,
    "start_time": "2022-04-01T10:29:56.451Z"
   },
   {
    "duration": 4,
    "start_time": "2022-04-01T10:29:57.014Z"
   },
   {
    "duration": 186,
    "start_time": "2022-04-01T10:29:57.020Z"
   },
   {
    "duration": 159,
    "start_time": "2022-04-01T10:29:57.210Z"
   },
   {
    "duration": 112,
    "start_time": "2022-04-01T10:29:57.371Z"
   },
   {
    "duration": 30,
    "start_time": "2022-04-01T10:29:57.491Z"
   },
   {
    "duration": 66,
    "start_time": "2022-04-01T10:29:57.523Z"
   },
   {
    "duration": 117,
    "start_time": "2022-04-01T10:29:57.592Z"
   },
   {
    "duration": 23,
    "start_time": "2022-04-01T10:29:57.712Z"
   },
   {
    "duration": 5,
    "start_time": "2022-04-01T10:29:57.737Z"
   },
   {
    "duration": 44,
    "start_time": "2022-04-01T10:29:57.744Z"
   },
   {
    "duration": 12,
    "start_time": "2022-04-01T10:29:57.791Z"
   },
   {
    "duration": 30,
    "start_time": "2022-04-01T10:29:57.808Z"
   },
   {
    "duration": 12,
    "start_time": "2022-04-01T10:29:57.840Z"
   },
   {
    "duration": 86,
    "start_time": "2022-04-01T10:29:57.854Z"
   },
   {
    "duration": 20,
    "start_time": "2022-04-01T10:29:57.943Z"
   },
   {
    "duration": 53,
    "start_time": "2022-04-01T10:29:57.964Z"
   },
   {
    "duration": 4,
    "start_time": "2022-04-01T10:29:58.019Z"
   },
   {
    "duration": 27,
    "start_time": "2022-04-01T10:29:58.025Z"
   },
   {
    "duration": 39,
    "start_time": "2022-04-01T10:29:58.054Z"
   },
   {
    "duration": 38,
    "start_time": "2022-04-01T10:29:58.095Z"
   },
   {
    "duration": 56,
    "start_time": "2022-04-01T10:29:58.135Z"
   },
   {
    "duration": 37,
    "start_time": "2022-04-01T10:29:58.193Z"
   },
   {
    "duration": 7,
    "start_time": "2022-04-01T10:29:58.232Z"
   },
   {
    "duration": 8,
    "start_time": "2022-04-01T10:29:58.241Z"
   },
   {
    "duration": 37,
    "start_time": "2022-04-01T10:29:58.251Z"
   },
   {
    "duration": 15,
    "start_time": "2022-04-01T10:29:58.292Z"
   },
   {
    "duration": 368,
    "start_time": "2022-04-01T10:29:58.310Z"
   },
   {
    "duration": 21,
    "start_time": "2022-04-01T10:29:58.683Z"
   },
   {
    "duration": 6,
    "start_time": "2022-04-01T10:29:58.707Z"
   },
   {
    "duration": 229,
    "start_time": "2022-04-01T10:29:58.715Z"
   },
   {
    "duration": 58063,
    "start_time": "2022-04-01T10:29:58.946Z"
   },
   {
    "duration": 135,
    "start_time": "2022-04-01T10:30:57.011Z"
   },
   {
    "duration": 0,
    "start_time": "2022-04-01T10:30:57.149Z"
   },
   {
    "duration": 1,
    "start_time": "2022-04-01T10:30:57.151Z"
   },
   {
    "duration": 0,
    "start_time": "2022-04-01T10:30:57.154Z"
   },
   {
    "duration": 0,
    "start_time": "2022-04-01T10:30:57.156Z"
   },
   {
    "duration": 0,
    "start_time": "2022-04-01T10:30:57.158Z"
   },
   {
    "duration": 0,
    "start_time": "2022-04-01T10:30:57.184Z"
   },
   {
    "duration": 0,
    "start_time": "2022-04-01T10:30:57.185Z"
   },
   {
    "duration": 0,
    "start_time": "2022-04-01T10:30:57.186Z"
   },
   {
    "duration": 0,
    "start_time": "2022-04-01T10:30:57.188Z"
   },
   {
    "duration": 0,
    "start_time": "2022-04-01T10:30:57.192Z"
   },
   {
    "duration": 0,
    "start_time": "2022-04-01T10:30:57.194Z"
   },
   {
    "duration": 0,
    "start_time": "2022-04-01T10:30:57.196Z"
   },
   {
    "duration": 0,
    "start_time": "2022-04-01T10:30:57.200Z"
   },
   {
    "duration": 0,
    "start_time": "2022-04-01T10:30:57.202Z"
   },
   {
    "duration": 0,
    "start_time": "2022-04-01T10:30:57.203Z"
   },
   {
    "duration": 0,
    "start_time": "2022-04-01T10:30:57.205Z"
   },
   {
    "duration": 15,
    "start_time": "2022-04-01T10:31:27.653Z"
   },
   {
    "duration": 7,
    "start_time": "2022-04-01T10:31:57.646Z"
   },
   {
    "duration": 0,
    "start_time": "2022-04-01T10:33:35.366Z"
   },
   {
    "duration": 2366,
    "start_time": "2022-04-01T10:34:45.977Z"
   },
   {
    "duration": 2703,
    "start_time": "2022-04-01T10:37:32.167Z"
   },
   {
    "duration": 11,
    "start_time": "2022-04-01T10:37:41.257Z"
   },
   {
    "duration": 7,
    "start_time": "2022-04-01T10:37:49.541Z"
   },
   {
    "duration": 32,
    "start_time": "2022-04-01T10:42:09.936Z"
   },
   {
    "duration": 8,
    "start_time": "2022-04-01T10:42:19.051Z"
   },
   {
    "duration": 640,
    "start_time": "2022-04-01T11:17:36.252Z"
   },
   {
    "duration": 8,
    "start_time": "2022-04-01T11:18:21.635Z"
   },
   {
    "duration": 8,
    "start_time": "2022-04-01T11:18:33.919Z"
   },
   {
    "duration": 42,
    "start_time": "2022-04-01T11:18:38.458Z"
   },
   {
    "duration": 34,
    "start_time": "2022-04-01T11:18:53.519Z"
   },
   {
    "duration": 1877,
    "start_time": "2022-04-01T11:19:07.178Z"
   },
   {
    "duration": 38,
    "start_time": "2022-04-01T11:19:28.452Z"
   },
   {
    "duration": 8,
    "start_time": "2022-04-01T11:20:52.005Z"
   },
   {
    "duration": 8,
    "start_time": "2022-04-01T11:21:21.238Z"
   },
   {
    "duration": 1835,
    "start_time": "2022-04-01T11:21:23.929Z"
   },
   {
    "duration": 8,
    "start_time": "2022-04-01T11:21:49.564Z"
   },
   {
    "duration": 36,
    "start_time": "2022-04-01T11:22:15.714Z"
   },
   {
    "duration": 1814,
    "start_time": "2022-04-01T11:22:25.648Z"
   },
   {
    "duration": 1745,
    "start_time": "2022-04-01T11:22:34.660Z"
   },
   {
    "duration": 5,
    "start_time": "2022-04-01T11:23:27.936Z"
   },
   {
    "duration": 8,
    "start_time": "2022-04-01T11:23:33.071Z"
   },
   {
    "duration": 140,
    "start_time": "2022-04-01T11:25:46.314Z"
   },
   {
    "duration": 1928,
    "start_time": "2022-04-01T11:26:05.232Z"
   },
   {
    "duration": 5,
    "start_time": "2022-04-01T11:27:02.923Z"
   },
   {
    "duration": 1798,
    "start_time": "2022-04-01T11:27:12.575Z"
   },
   {
    "duration": 132,
    "start_time": "2022-04-01T11:27:48.923Z"
   },
   {
    "duration": 16,
    "start_time": "2022-04-01T11:27:54.024Z"
   },
   {
    "duration": 38,
    "start_time": "2022-04-01T11:29:45.683Z"
   },
   {
    "duration": 7,
    "start_time": "2022-04-01T11:31:37.639Z"
   },
   {
    "duration": 2903,
    "start_time": "2022-04-01T11:31:38.204Z"
   },
   {
    "duration": 14,
    "start_time": "2022-04-01T11:32:07.826Z"
   },
   {
    "duration": 16,
    "start_time": "2022-04-01T11:32:42.817Z"
   },
   {
    "duration": 13,
    "start_time": "2022-04-01T11:32:51.236Z"
   },
   {
    "duration": 8,
    "start_time": "2022-04-01T11:37:01.649Z"
   },
   {
    "duration": 8,
    "start_time": "2022-04-01T11:38:58.898Z"
   },
   {
    "duration": 37,
    "start_time": "2022-04-01T11:39:17.514Z"
   },
   {
    "duration": 9,
    "start_time": "2022-04-01T11:39:56.026Z"
   },
   {
    "duration": 34,
    "start_time": "2022-04-01T11:39:56.505Z"
   },
   {
    "duration": 10,
    "start_time": "2022-04-01T11:40:18.780Z"
   },
   {
    "duration": 18334,
    "start_time": "2022-04-01T11:40:19.594Z"
   },
   {
    "duration": 8,
    "start_time": "2022-04-01T11:41:14.320Z"
   },
   {
    "duration": 7,
    "start_time": "2022-04-01T11:41:49.230Z"
   },
   {
    "duration": 17733,
    "start_time": "2022-04-01T11:41:53.032Z"
   },
   {
    "duration": 9,
    "start_time": "2022-04-01T11:43:32.055Z"
   },
   {
    "duration": 18019,
    "start_time": "2022-04-01T11:45:41.902Z"
   },
   {
    "duration": 15425,
    "start_time": "2022-04-01T11:48:13.691Z"
   },
   {
    "duration": 8,
    "start_time": "2022-04-01T11:48:29.119Z"
   },
   {
    "duration": 8,
    "start_time": "2022-04-01T11:49:22.415Z"
   },
   {
    "duration": 32,
    "start_time": "2022-04-01T11:49:23.716Z"
   },
   {
    "duration": 877,
    "start_time": "2022-04-01T11:50:08.556Z"
   },
   {
    "duration": 531,
    "start_time": "2022-04-01T11:50:09.436Z"
   },
   {
    "duration": 4,
    "start_time": "2022-04-01T11:50:09.969Z"
   },
   {
    "duration": 185,
    "start_time": "2022-04-01T11:50:09.975Z"
   },
   {
    "duration": 162,
    "start_time": "2022-04-01T11:50:10.165Z"
   },
   {
    "duration": 103,
    "start_time": "2022-04-01T11:50:10.329Z"
   },
   {
    "duration": 23,
    "start_time": "2022-04-01T11:50:10.434Z"
   },
   {
    "duration": 53,
    "start_time": "2022-04-01T11:50:10.459Z"
   },
   {
    "duration": 122,
    "start_time": "2022-04-01T11:50:10.514Z"
   },
   {
    "duration": 25,
    "start_time": "2022-04-01T11:50:10.638Z"
   },
   {
    "duration": 19,
    "start_time": "2022-04-01T11:50:10.665Z"
   },
   {
    "duration": 12,
    "start_time": "2022-04-01T11:50:10.689Z"
   },
   {
    "duration": 13,
    "start_time": "2022-04-01T11:50:10.703Z"
   },
   {
    "duration": 29,
    "start_time": "2022-04-01T11:50:10.720Z"
   },
   {
    "duration": 39,
    "start_time": "2022-04-01T11:50:10.751Z"
   },
   {
    "duration": 61,
    "start_time": "2022-04-01T11:50:10.793Z"
   },
   {
    "duration": 37,
    "start_time": "2022-04-01T11:50:10.857Z"
   },
   {
    "duration": 35,
    "start_time": "2022-04-01T11:50:10.896Z"
   },
   {
    "duration": 3,
    "start_time": "2022-04-01T11:50:10.933Z"
   },
   {
    "duration": 56,
    "start_time": "2022-04-01T11:50:10.938Z"
   },
   {
    "duration": 14,
    "start_time": "2022-04-01T11:50:10.996Z"
   },
   {
    "duration": 33,
    "start_time": "2022-04-01T11:50:11.012Z"
   },
   {
    "duration": 66,
    "start_time": "2022-04-01T11:50:11.048Z"
   },
   {
    "duration": 34,
    "start_time": "2022-04-01T11:50:11.116Z"
   },
   {
    "duration": 8,
    "start_time": "2022-04-01T11:50:11.152Z"
   },
   {
    "duration": 31,
    "start_time": "2022-04-01T11:50:11.162Z"
   },
   {
    "duration": 22,
    "start_time": "2022-04-01T11:50:11.197Z"
   },
   {
    "duration": 11,
    "start_time": "2022-04-01T11:50:11.221Z"
   },
   {
    "duration": 362,
    "start_time": "2022-04-01T11:50:11.234Z"
   },
   {
    "duration": 16,
    "start_time": "2022-04-01T11:50:11.598Z"
   },
   {
    "duration": 7,
    "start_time": "2022-04-01T11:50:11.616Z"
   },
   {
    "duration": 245,
    "start_time": "2022-04-01T11:50:11.625Z"
   },
   {
    "duration": 104,
    "start_time": "2022-04-01T11:50:11.872Z"
   },
   {
    "duration": 0,
    "start_time": "2022-04-01T11:50:11.983Z"
   },
   {
    "duration": 0,
    "start_time": "2022-04-01T11:50:11.987Z"
   },
   {
    "duration": 0,
    "start_time": "2022-04-01T11:50:11.988Z"
   },
   {
    "duration": 0,
    "start_time": "2022-04-01T11:50:11.990Z"
   },
   {
    "duration": 1,
    "start_time": "2022-04-01T11:50:11.991Z"
   },
   {
    "duration": 0,
    "start_time": "2022-04-01T11:50:11.993Z"
   },
   {
    "duration": 0,
    "start_time": "2022-04-01T11:50:11.995Z"
   },
   {
    "duration": 0,
    "start_time": "2022-04-01T11:50:11.996Z"
   },
   {
    "duration": 0,
    "start_time": "2022-04-01T11:50:11.998Z"
   },
   {
    "duration": 0,
    "start_time": "2022-04-01T11:50:11.999Z"
   },
   {
    "duration": 0,
    "start_time": "2022-04-01T11:50:12.005Z"
   },
   {
    "duration": 0,
    "start_time": "2022-04-01T11:50:12.011Z"
   },
   {
    "duration": 0,
    "start_time": "2022-04-01T11:50:12.012Z"
   },
   {
    "duration": 0,
    "start_time": "2022-04-01T11:50:12.015Z"
   },
   {
    "duration": 1,
    "start_time": "2022-04-01T11:50:12.016Z"
   },
   {
    "duration": 0,
    "start_time": "2022-04-01T11:50:12.019Z"
   },
   {
    "duration": 141,
    "start_time": "2022-04-01T11:52:44.203Z"
   },
   {
    "duration": 16,
    "start_time": "2022-04-01T12:02:56.746Z"
   },
   {
    "duration": 12,
    "start_time": "2022-04-03T14:01:36.588Z"
   },
   {
    "duration": 2261,
    "start_time": "2022-04-03T14:01:40.151Z"
   },
   {
    "duration": 646,
    "start_time": "2022-04-03T14:01:42.415Z"
   },
   {
    "duration": 5,
    "start_time": "2022-04-03T14:01:45.327Z"
   },
   {
    "duration": 688,
    "start_time": "2022-04-03T14:01:46.830Z"
   },
   {
    "duration": 4,
    "start_time": "2022-04-03T14:03:37.787Z"
   },
   {
    "duration": 160,
    "start_time": "2022-04-03T14:17:25.147Z"
   },
   {
    "duration": 17,
    "start_time": "2022-04-03T14:20:53.004Z"
   },
   {
    "duration": 124,
    "start_time": "2022-04-03T14:22:15.588Z"
   },
   {
    "duration": 1470,
    "start_time": "2022-04-03T14:45:55.785Z"
   },
   {
    "duration": 579,
    "start_time": "2022-04-03T14:45:57.258Z"
   },
   {
    "duration": 5,
    "start_time": "2022-04-03T14:45:57.840Z"
   },
   {
    "duration": 696,
    "start_time": "2022-04-03T14:45:57.847Z"
   },
   {
    "duration": 130,
    "start_time": "2022-04-03T14:45:58.547Z"
   },
   {
    "duration": 30,
    "start_time": "2022-04-03T14:45:58.679Z"
   },
   {
    "duration": 6,
    "start_time": "2022-04-03T14:45:58.711Z"
   },
   {
    "duration": 11,
    "start_time": "2022-04-03T14:45:58.719Z"
   },
   {
    "duration": 46,
    "start_time": "2022-04-03T14:45:58.733Z"
   },
   {
    "duration": 35,
    "start_time": "2022-04-03T14:45:58.789Z"
   },
   {
    "duration": 12,
    "start_time": "2022-04-03T14:45:58.826Z"
   },
   {
    "duration": 81,
    "start_time": "2022-04-03T14:45:58.840Z"
   },
   {
    "duration": 21,
    "start_time": "2022-04-03T14:45:58.923Z"
   },
   {
    "duration": 57,
    "start_time": "2022-04-03T14:45:58.949Z"
   },
   {
    "duration": 23,
    "start_time": "2022-04-03T14:45:59.009Z"
   },
   {
    "duration": 13,
    "start_time": "2022-04-03T14:45:59.034Z"
   },
   {
    "duration": 62,
    "start_time": "2022-04-03T14:45:59.049Z"
   },
   {
    "duration": 33,
    "start_time": "2022-04-03T14:45:59.114Z"
   },
   {
    "duration": 63,
    "start_time": "2022-04-03T14:45:59.149Z"
   },
   {
    "duration": 8,
    "start_time": "2022-04-03T14:45:59.214Z"
   },
   {
    "duration": 68,
    "start_time": "2022-04-03T14:45:59.224Z"
   },
   {
    "duration": 7,
    "start_time": "2022-04-03T14:45:59.295Z"
   },
   {
    "duration": 9,
    "start_time": "2022-04-03T14:45:59.305Z"
   },
   {
    "duration": 13,
    "start_time": "2022-04-03T14:45:59.317Z"
   },
   {
    "duration": 50,
    "start_time": "2022-04-03T14:45:59.333Z"
   },
   {
    "duration": 380,
    "start_time": "2022-04-03T14:45:59.386Z"
   },
   {
    "duration": 28,
    "start_time": "2022-04-03T14:45:59.768Z"
   },
   {
    "duration": 17,
    "start_time": "2022-04-03T14:45:59.798Z"
   },
   {
    "duration": 15,
    "start_time": "2022-04-03T14:45:59.818Z"
   },
   {
    "duration": 39,
    "start_time": "2022-04-03T14:45:59.836Z"
   },
   {
    "duration": 345,
    "start_time": "2022-04-03T14:45:59.877Z"
   },
   {
    "duration": 323,
    "start_time": "2022-04-03T14:46:00.225Z"
   },
   {
    "duration": 316,
    "start_time": "2022-04-03T14:46:00.552Z"
   },
   {
    "duration": 218,
    "start_time": "2022-04-03T14:46:00.883Z"
   },
   {
    "duration": 214,
    "start_time": "2022-04-03T14:46:01.103Z"
   },
   {
    "duration": 174,
    "start_time": "2022-04-03T14:46:01.320Z"
   },
   {
    "duration": 0,
    "start_time": "2022-04-03T14:46:01.497Z"
   },
   {
    "duration": 0,
    "start_time": "2022-04-03T14:46:01.499Z"
   },
   {
    "duration": 0,
    "start_time": "2022-04-03T14:46:01.501Z"
   },
   {
    "duration": 0,
    "start_time": "2022-04-03T14:46:01.503Z"
   },
   {
    "duration": 0,
    "start_time": "2022-04-03T14:46:01.504Z"
   },
   {
    "duration": 0,
    "start_time": "2022-04-03T14:46:01.506Z"
   },
   {
    "duration": 0,
    "start_time": "2022-04-03T14:46:01.507Z"
   },
   {
    "duration": 0,
    "start_time": "2022-04-03T14:46:01.509Z"
   },
   {
    "duration": 0,
    "start_time": "2022-04-03T14:46:01.510Z"
   },
   {
    "duration": 0,
    "start_time": "2022-04-03T14:46:01.512Z"
   },
   {
    "duration": 0,
    "start_time": "2022-04-03T14:46:01.513Z"
   },
   {
    "duration": 0,
    "start_time": "2022-04-03T14:46:01.515Z"
   },
   {
    "duration": 0,
    "start_time": "2022-04-03T14:46:01.516Z"
   },
   {
    "duration": 54,
    "start_time": "2022-04-03T14:46:01.522Z"
   },
   {
    "duration": 9,
    "start_time": "2022-04-03T14:46:02.321Z"
   },
   {
    "duration": 11,
    "start_time": "2022-04-03T14:46:02.333Z"
   },
   {
    "duration": 6,
    "start_time": "2022-04-03T14:46:02.661Z"
   },
   {
    "duration": 107,
    "start_time": "2022-04-03T14:46:02.941Z"
   },
   {
    "duration": 12,
    "start_time": "2022-04-03T15:11:27.129Z"
   },
   {
    "duration": 11,
    "start_time": "2022-04-03T15:11:35.245Z"
   },
   {
    "duration": 203,
    "start_time": "2022-04-03T15:11:47.441Z"
   },
   {
    "duration": 35,
    "start_time": "2022-04-03T15:18:09.558Z"
   },
   {
    "duration": 247,
    "start_time": "2022-04-03T15:21:43.929Z"
   },
   {
    "duration": 1484,
    "start_time": "2022-04-03T15:22:37.540Z"
   },
   {
    "duration": 593,
    "start_time": "2022-04-03T15:22:39.027Z"
   },
   {
    "duration": 6,
    "start_time": "2022-04-03T15:22:39.622Z"
   },
   {
    "duration": 674,
    "start_time": "2022-04-03T15:22:39.631Z"
   },
   {
    "duration": 131,
    "start_time": "2022-04-03T15:22:40.307Z"
   },
   {
    "duration": 38,
    "start_time": "2022-04-03T15:22:40.440Z"
   },
   {
    "duration": 7,
    "start_time": "2022-04-03T15:22:40.481Z"
   },
   {
    "duration": 16,
    "start_time": "2022-04-03T15:22:40.490Z"
   },
   {
    "duration": 13,
    "start_time": "2022-04-03T15:22:40.509Z"
   },
   {
    "duration": 66,
    "start_time": "2022-04-03T15:22:40.526Z"
   },
   {
    "duration": 13,
    "start_time": "2022-04-03T15:22:40.594Z"
   },
   {
    "duration": 73,
    "start_time": "2022-04-03T15:22:40.609Z"
   },
   {
    "duration": 22,
    "start_time": "2022-04-03T15:22:40.686Z"
   },
   {
    "duration": 36,
    "start_time": "2022-04-03T15:22:40.711Z"
   },
   {
    "duration": 47,
    "start_time": "2022-04-03T15:22:40.749Z"
   },
   {
    "duration": 14,
    "start_time": "2022-04-03T15:22:40.798Z"
   },
   {
    "duration": 61,
    "start_time": "2022-04-03T15:22:40.814Z"
   },
   {
    "duration": 37,
    "start_time": "2022-04-03T15:22:40.878Z"
   },
   {
    "duration": 63,
    "start_time": "2022-04-03T15:22:40.918Z"
   },
   {
    "duration": 13,
    "start_time": "2022-04-03T15:22:40.983Z"
   },
   {
    "duration": 41,
    "start_time": "2022-04-03T15:22:40.998Z"
   },
   {
    "duration": 34,
    "start_time": "2022-04-03T15:22:41.042Z"
   },
   {
    "duration": 14,
    "start_time": "2022-04-03T15:22:41.082Z"
   },
   {
    "duration": 12,
    "start_time": "2022-04-03T15:22:41.099Z"
   },
   {
    "duration": 12,
    "start_time": "2022-04-03T15:22:41.114Z"
   },
   {
    "duration": 407,
    "start_time": "2022-04-03T15:22:41.128Z"
   },
   {
    "duration": 20,
    "start_time": "2022-04-03T15:22:41.537Z"
   },
   {
    "duration": 18,
    "start_time": "2022-04-03T15:22:41.579Z"
   },
   {
    "duration": 15,
    "start_time": "2022-04-03T15:22:41.599Z"
   },
   {
    "duration": 11,
    "start_time": "2022-04-03T15:22:41.615Z"
   },
   {
    "duration": 365,
    "start_time": "2022-04-03T15:22:41.628Z"
   },
   {
    "duration": 313,
    "start_time": "2022-04-03T15:22:41.996Z"
   },
   {
    "duration": 324,
    "start_time": "2022-04-03T15:22:42.310Z"
   },
   {
    "duration": 224,
    "start_time": "2022-04-03T15:22:42.636Z"
   },
   {
    "duration": 204,
    "start_time": "2022-04-03T15:22:42.862Z"
   },
   {
    "duration": 218,
    "start_time": "2022-04-03T15:22:43.068Z"
   },
   {
    "duration": 520,
    "start_time": "2022-04-03T15:22:43.289Z"
   },
   {
    "duration": 385,
    "start_time": "2022-04-03T15:22:43.812Z"
   },
   {
    "duration": 490,
    "start_time": "2022-04-03T15:22:44.200Z"
   },
   {
    "duration": 5,
    "start_time": "2022-04-03T15:22:44.692Z"
   },
   {
    "duration": 33,
    "start_time": "2022-04-03T15:22:44.700Z"
   },
   {
    "duration": 59,
    "start_time": "2022-04-03T15:22:44.736Z"
   },
   {
    "duration": 31,
    "start_time": "2022-04-03T15:22:44.798Z"
   },
   {
    "duration": 66,
    "start_time": "2022-04-03T15:22:44.831Z"
   },
   {
    "duration": 7,
    "start_time": "2022-04-03T15:22:44.899Z"
   },
   {
    "duration": 6,
    "start_time": "2022-04-03T15:22:44.909Z"
   },
   {
    "duration": 340,
    "start_time": "2022-04-03T15:22:44.917Z"
   },
   {
    "duration": 18,
    "start_time": "2022-04-03T15:22:45.260Z"
   },
   {
    "duration": 20,
    "start_time": "2022-04-03T15:22:45.280Z"
   },
   {
    "duration": 9,
    "start_time": "2022-04-03T15:22:45.303Z"
   },
   {
    "duration": 13,
    "start_time": "2022-04-03T15:22:45.315Z"
   },
   {
    "duration": 6,
    "start_time": "2022-04-03T15:22:45.331Z"
   },
   {
    "duration": 46,
    "start_time": "2022-04-03T15:22:45.339Z"
   },
   {
    "duration": 7,
    "start_time": "2022-04-03T15:30:41.848Z"
   },
   {
    "duration": 1483,
    "start_time": "2022-04-03T15:31:35.353Z"
   },
   {
    "duration": 571,
    "start_time": "2022-04-03T15:31:36.839Z"
   },
   {
    "duration": 5,
    "start_time": "2022-04-03T15:31:37.412Z"
   },
   {
    "duration": 657,
    "start_time": "2022-04-03T15:31:37.420Z"
   },
   {
    "duration": 116,
    "start_time": "2022-04-03T15:31:38.089Z"
   },
   {
    "duration": 28,
    "start_time": "2022-04-03T15:31:38.207Z"
   },
   {
    "duration": 6,
    "start_time": "2022-04-03T15:31:38.237Z"
   },
   {
    "duration": 31,
    "start_time": "2022-04-03T15:31:38.245Z"
   },
   {
    "duration": 24,
    "start_time": "2022-04-03T15:31:38.279Z"
   },
   {
    "duration": 32,
    "start_time": "2022-04-03T15:31:38.308Z"
   },
   {
    "duration": 11,
    "start_time": "2022-04-03T15:31:38.342Z"
   },
   {
    "duration": 60,
    "start_time": "2022-04-03T15:31:38.375Z"
   },
   {
    "duration": 43,
    "start_time": "2022-04-03T15:31:38.437Z"
   },
   {
    "duration": 38,
    "start_time": "2022-04-03T15:31:38.486Z"
   },
   {
    "duration": 25,
    "start_time": "2022-04-03T15:31:38.526Z"
   },
   {
    "duration": 33,
    "start_time": "2022-04-03T15:31:38.553Z"
   },
   {
    "duration": 37,
    "start_time": "2022-04-03T15:31:38.589Z"
   },
   {
    "duration": 66,
    "start_time": "2022-04-03T15:31:38.629Z"
   },
   {
    "duration": 38,
    "start_time": "2022-04-03T15:31:38.697Z"
   },
   {
    "duration": 8,
    "start_time": "2022-04-03T15:31:38.737Z"
   },
   {
    "duration": 41,
    "start_time": "2022-04-03T15:31:38.778Z"
   },
   {
    "duration": 7,
    "start_time": "2022-04-03T15:31:38.821Z"
   },
   {
    "duration": 8,
    "start_time": "2022-04-03T15:31:38.830Z"
   },
   {
    "duration": 49,
    "start_time": "2022-04-03T15:31:38.840Z"
   },
   {
    "duration": 11,
    "start_time": "2022-04-03T15:31:38.892Z"
   },
   {
    "duration": 373,
    "start_time": "2022-04-03T15:31:38.906Z"
   },
   {
    "duration": 20,
    "start_time": "2022-04-03T15:31:39.281Z"
   },
   {
    "duration": 15,
    "start_time": "2022-04-03T15:31:39.306Z"
   },
   {
    "duration": 14,
    "start_time": "2022-04-03T15:31:39.323Z"
   },
   {
    "duration": 6,
    "start_time": "2022-04-03T15:31:39.339Z"
   },
   {
    "duration": 339,
    "start_time": "2022-04-03T15:31:39.384Z"
   },
   {
    "duration": 322,
    "start_time": "2022-04-03T15:31:39.726Z"
   },
   {
    "duration": 331,
    "start_time": "2022-04-03T15:31:40.051Z"
   },
   {
    "duration": 222,
    "start_time": "2022-04-03T15:31:40.385Z"
   },
   {
    "duration": 205,
    "start_time": "2022-04-03T15:31:40.610Z"
   },
   {
    "duration": 220,
    "start_time": "2022-04-03T15:31:40.818Z"
   },
   {
    "duration": 412,
    "start_time": "2022-04-03T15:31:41.041Z"
   },
   {
    "duration": 384,
    "start_time": "2022-04-03T15:31:41.455Z"
   },
   {
    "duration": 496,
    "start_time": "2022-04-03T15:31:41.842Z"
   },
   {
    "duration": 5,
    "start_time": "2022-04-03T15:31:42.340Z"
   },
   {
    "duration": 52,
    "start_time": "2022-04-03T15:31:42.347Z"
   },
   {
    "duration": 32,
    "start_time": "2022-04-03T15:31:42.402Z"
   },
   {
    "duration": 57,
    "start_time": "2022-04-03T15:31:42.436Z"
   },
   {
    "duration": 33,
    "start_time": "2022-04-03T15:31:42.495Z"
   },
   {
    "duration": 7,
    "start_time": "2022-04-03T15:31:42.530Z"
   },
   {
    "duration": 43,
    "start_time": "2022-04-03T15:31:42.539Z"
   },
   {
    "duration": 304,
    "start_time": "2022-04-03T15:31:42.585Z"
   },
   {
    "duration": 8,
    "start_time": "2022-04-03T15:31:42.891Z"
   },
   {
    "duration": 8,
    "start_time": "2022-04-03T15:31:42.902Z"
   },
   {
    "duration": 9,
    "start_time": "2022-04-03T15:31:42.913Z"
   },
   {
    "duration": 52,
    "start_time": "2022-04-03T15:31:42.925Z"
   },
   {
    "duration": 8,
    "start_time": "2022-04-03T15:31:42.980Z"
   },
   {
    "duration": 7,
    "start_time": "2022-04-03T15:31:42.991Z"
   },
   {
    "duration": 1135,
    "start_time": "2022-04-04T13:01:53.964Z"
   },
   {
    "duration": 424,
    "start_time": "2022-04-04T13:01:55.102Z"
   },
   {
    "duration": 3,
    "start_time": "2022-04-04T13:01:55.527Z"
   },
   {
    "duration": 409,
    "start_time": "2022-04-04T13:01:55.532Z"
   },
   {
    "duration": 88,
    "start_time": "2022-04-04T13:01:55.943Z"
   },
   {
    "duration": 17,
    "start_time": "2022-04-04T13:01:56.033Z"
   },
   {
    "duration": 5,
    "start_time": "2022-04-04T13:01:56.063Z"
   },
   {
    "duration": 12,
    "start_time": "2022-04-04T13:01:56.070Z"
   },
   {
    "duration": 9,
    "start_time": "2022-04-04T13:01:56.084Z"
   },
   {
    "duration": 23,
    "start_time": "2022-04-04T13:01:56.095Z"
   },
   {
    "duration": 8,
    "start_time": "2022-04-04T13:01:56.119Z"
   },
   {
    "duration": 83,
    "start_time": "2022-04-04T13:01:56.129Z"
   },
   {
    "duration": 18,
    "start_time": "2022-04-04T13:01:56.214Z"
   },
   {
    "duration": 49,
    "start_time": "2022-04-04T13:01:56.236Z"
   },
   {
    "duration": 21,
    "start_time": "2022-04-04T13:01:56.287Z"
   },
   {
    "duration": 12,
    "start_time": "2022-04-04T13:01:56.310Z"
   },
   {
    "duration": 47,
    "start_time": "2022-04-04T13:01:56.324Z"
   },
   {
    "duration": 20,
    "start_time": "2022-04-04T13:01:56.372Z"
   },
   {
    "duration": 21,
    "start_time": "2022-04-04T13:01:56.394Z"
   },
   {
    "duration": 6,
    "start_time": "2022-04-04T13:01:56.416Z"
   },
   {
    "duration": 45,
    "start_time": "2022-04-04T13:01:56.423Z"
   },
   {
    "duration": 5,
    "start_time": "2022-04-04T13:01:56.469Z"
   },
   {
    "duration": 10,
    "start_time": "2022-04-04T13:01:56.475Z"
   },
   {
    "duration": 9,
    "start_time": "2022-04-04T13:01:56.487Z"
   },
   {
    "duration": 6,
    "start_time": "2022-04-04T13:01:56.498Z"
   },
   {
    "duration": 196,
    "start_time": "2022-04-04T13:01:56.506Z"
   },
   {
    "duration": 12,
    "start_time": "2022-04-04T13:01:56.703Z"
   },
   {
    "duration": 8,
    "start_time": "2022-04-04T13:01:56.717Z"
   },
   {
    "duration": 10,
    "start_time": "2022-04-04T13:01:56.727Z"
   },
   {
    "duration": 4,
    "start_time": "2022-04-04T13:01:56.762Z"
   },
   {
    "duration": 174,
    "start_time": "2022-04-04T13:01:56.767Z"
   },
   {
    "duration": 172,
    "start_time": "2022-04-04T13:01:56.942Z"
   },
   {
    "duration": 168,
    "start_time": "2022-04-04T13:01:57.115Z"
   },
   {
    "duration": 117,
    "start_time": "2022-04-04T13:01:57.285Z"
   },
   {
    "duration": 112,
    "start_time": "2022-04-04T13:01:57.404Z"
   },
   {
    "duration": 107,
    "start_time": "2022-04-04T13:01:57.517Z"
   },
   {
    "duration": 206,
    "start_time": "2022-04-04T13:01:57.626Z"
   },
   {
    "duration": 190,
    "start_time": "2022-04-04T13:01:57.834Z"
   },
   {
    "duration": 276,
    "start_time": "2022-04-04T13:01:58.025Z"
   },
   {
    "duration": 3,
    "start_time": "2022-04-04T13:01:58.303Z"
   },
   {
    "duration": 19,
    "start_time": "2022-04-04T13:01:58.310Z"
   },
   {
    "duration": 34,
    "start_time": "2022-04-04T13:01:58.330Z"
   },
   {
    "duration": 18,
    "start_time": "2022-04-04T13:01:58.366Z"
   },
   {
    "duration": 17,
    "start_time": "2022-04-04T13:01:58.386Z"
   },
   {
    "duration": 5,
    "start_time": "2022-04-04T13:01:58.405Z"
   },
   {
    "duration": 6,
    "start_time": "2022-04-04T13:01:58.411Z"
   },
   {
    "duration": 179,
    "start_time": "2022-04-04T13:01:58.419Z"
   },
   {
    "duration": 5,
    "start_time": "2022-04-04T13:01:58.600Z"
   },
   {
    "duration": 12,
    "start_time": "2022-04-04T13:01:58.606Z"
   },
   {
    "duration": 6,
    "start_time": "2022-04-04T13:01:58.619Z"
   },
   {
    "duration": 8,
    "start_time": "2022-04-04T13:01:58.626Z"
   },
   {
    "duration": 6,
    "start_time": "2022-04-04T13:01:58.635Z"
   },
   {
    "duration": 21,
    "start_time": "2022-04-04T13:01:58.643Z"
   },
   {
    "duration": 4,
    "start_time": "2022-04-04T13:10:08.251Z"
   },
   {
    "duration": 11,
    "start_time": "2022-04-04T13:14:36.264Z"
   },
   {
    "duration": 4,
    "start_time": "2022-04-04T13:15:10.861Z"
   },
   {
    "duration": 7,
    "start_time": "2022-04-04T13:15:40.847Z"
   },
   {
    "duration": 5,
    "start_time": "2022-04-04T13:16:41.888Z"
   },
   {
    "duration": 110,
    "start_time": "2022-04-04T13:31:11.460Z"
   },
   {
    "duration": 11,
    "start_time": "2022-04-04T13:31:21.661Z"
   },
   {
    "duration": 10,
    "start_time": "2022-04-04T13:31:31.246Z"
   },
   {
    "duration": 7,
    "start_time": "2022-04-04T13:32:27.186Z"
   },
   {
    "duration": 4,
    "start_time": "2022-04-04T13:32:33.281Z"
   },
   {
    "duration": 10,
    "start_time": "2022-04-04T13:32:42.261Z"
   },
   {
    "duration": 11,
    "start_time": "2022-04-04T13:32:43.047Z"
   },
   {
    "duration": 8,
    "start_time": "2022-04-04T13:44:23.132Z"
   },
   {
    "duration": 8,
    "start_time": "2022-04-04T13:44:39.795Z"
   },
   {
    "duration": 178,
    "start_time": "2022-04-04T14:01:09.870Z"
   },
   {
    "duration": 18,
    "start_time": "2022-04-04T14:15:08.770Z"
   },
   {
    "duration": 19,
    "start_time": "2022-04-04T14:23:29.982Z"
   },
   {
    "duration": 10,
    "start_time": "2022-04-04T14:29:31.146Z"
   },
   {
    "duration": 129,
    "start_time": "2022-04-04T14:32:54.219Z"
   },
   {
    "duration": 5,
    "start_time": "2022-04-04T14:36:18.748Z"
   },
   {
    "duration": 11,
    "start_time": "2022-04-04T14:42:34.936Z"
   },
   {
    "duration": 10,
    "start_time": "2022-04-04T14:45:59.325Z"
   },
   {
    "duration": 10,
    "start_time": "2022-04-04T14:46:18.361Z"
   },
   {
    "duration": 12,
    "start_time": "2022-04-04T14:47:20.883Z"
   },
   {
    "duration": 10,
    "start_time": "2022-04-04T14:47:29.422Z"
   },
   {
    "duration": 1674,
    "start_time": "2022-04-04T14:48:54.117Z"
   },
   {
    "duration": 6,
    "start_time": "2022-04-04T14:49:06.003Z"
   },
   {
    "duration": 1048,
    "start_time": "2022-04-04T14:54:07.455Z"
   },
   {
    "duration": 413,
    "start_time": "2022-04-04T14:54:08.505Z"
   },
   {
    "duration": 3,
    "start_time": "2022-04-04T14:54:08.919Z"
   },
   {
    "duration": 426,
    "start_time": "2022-04-04T14:54:08.923Z"
   },
   {
    "duration": 71,
    "start_time": "2022-04-04T14:54:09.363Z"
   },
   {
    "duration": 32,
    "start_time": "2022-04-04T14:54:09.435Z"
   },
   {
    "duration": 5,
    "start_time": "2022-04-04T14:54:09.468Z"
   },
   {
    "duration": 17,
    "start_time": "2022-04-04T14:54:09.474Z"
   },
   {
    "duration": 11,
    "start_time": "2022-04-04T14:54:09.492Z"
   },
   {
    "duration": 34,
    "start_time": "2022-04-04T14:54:09.504Z"
   },
   {
    "duration": 8,
    "start_time": "2022-04-04T14:54:09.540Z"
   },
   {
    "duration": 51,
    "start_time": "2022-04-04T14:54:09.549Z"
   },
   {
    "duration": 15,
    "start_time": "2022-04-04T14:54:09.601Z"
   },
   {
    "duration": 46,
    "start_time": "2022-04-04T14:54:09.618Z"
   },
   {
    "duration": 17,
    "start_time": "2022-04-04T14:54:09.665Z"
   },
   {
    "duration": 8,
    "start_time": "2022-04-04T14:54:09.683Z"
   },
   {
    "duration": 24,
    "start_time": "2022-04-04T14:54:09.693Z"
   },
   {
    "duration": 44,
    "start_time": "2022-04-04T14:54:09.718Z"
   },
   {
    "duration": 25,
    "start_time": "2022-04-04T14:54:09.764Z"
   },
   {
    "duration": 5,
    "start_time": "2022-04-04T14:54:09.791Z"
   },
   {
    "duration": 25,
    "start_time": "2022-04-04T14:54:09.797Z"
   },
   {
    "duration": 4,
    "start_time": "2022-04-04T14:54:09.824Z"
   },
   {
    "duration": 10,
    "start_time": "2022-04-04T14:54:09.830Z"
   },
   {
    "duration": 7,
    "start_time": "2022-04-04T14:54:09.862Z"
   },
   {
    "duration": 7,
    "start_time": "2022-04-04T14:54:09.871Z"
   },
   {
    "duration": 210,
    "start_time": "2022-04-04T14:54:09.879Z"
   },
   {
    "duration": 13,
    "start_time": "2022-04-04T14:54:10.090Z"
   },
   {
    "duration": 9,
    "start_time": "2022-04-04T14:54:10.104Z"
   },
   {
    "duration": 12,
    "start_time": "2022-04-04T14:54:10.115Z"
   },
   {
    "duration": 4,
    "start_time": "2022-04-04T14:54:10.129Z"
   },
   {
    "duration": 195,
    "start_time": "2022-04-04T14:54:10.135Z"
   },
   {
    "duration": 177,
    "start_time": "2022-04-04T14:54:10.332Z"
   },
   {
    "duration": 170,
    "start_time": "2022-04-04T14:54:10.511Z"
   },
   {
    "duration": 118,
    "start_time": "2022-04-04T14:54:10.682Z"
   },
   {
    "duration": 108,
    "start_time": "2022-04-04T14:54:10.802Z"
   },
   {
    "duration": 115,
    "start_time": "2022-04-04T14:54:10.911Z"
   },
   {
    "duration": 212,
    "start_time": "2022-04-04T14:54:11.027Z"
   },
   {
    "duration": 190,
    "start_time": "2022-04-04T14:54:11.240Z"
   },
   {
    "duration": 279,
    "start_time": "2022-04-04T14:54:11.431Z"
   },
   {
    "duration": 3,
    "start_time": "2022-04-04T14:54:11.712Z"
   },
   {
    "duration": 19,
    "start_time": "2022-04-04T14:54:11.720Z"
   },
   {
    "duration": 35,
    "start_time": "2022-04-04T14:54:11.741Z"
   },
   {
    "duration": 20,
    "start_time": "2022-04-04T14:54:11.778Z"
   },
   {
    "duration": 18,
    "start_time": "2022-04-04T14:54:11.799Z"
   },
   {
    "duration": 5,
    "start_time": "2022-04-04T14:54:11.819Z"
   },
   {
    "duration": 37,
    "start_time": "2022-04-04T14:54:11.826Z"
   },
   {
    "duration": 21,
    "start_time": "2022-04-04T14:54:11.865Z"
   },
   {
    "duration": 168,
    "start_time": "2022-04-04T14:54:11.888Z"
   },
   {
    "duration": 10,
    "start_time": "2022-04-04T14:54:12.058Z"
   },
   {
    "duration": 6,
    "start_time": "2022-04-04T14:54:12.070Z"
   },
   {
    "duration": 10,
    "start_time": "2022-04-04T14:54:12.077Z"
   },
   {
    "duration": 7,
    "start_time": "2022-04-04T14:54:12.088Z"
   },
   {
    "duration": 5,
    "start_time": "2022-04-04T14:54:12.097Z"
   },
   {
    "duration": 7,
    "start_time": "2022-04-04T14:54:12.104Z"
   },
   {
    "duration": 1176,
    "start_time": "2022-04-04T15:02:13.129Z"
   },
   {
    "duration": 427,
    "start_time": "2022-04-04T15:02:14.306Z"
   },
   {
    "duration": 3,
    "start_time": "2022-04-04T15:02:14.735Z"
   },
   {
    "duration": 465,
    "start_time": "2022-04-04T15:02:14.740Z"
   },
   {
    "duration": 88,
    "start_time": "2022-04-04T15:02:15.207Z"
   },
   {
    "duration": 19,
    "start_time": "2022-04-04T15:02:15.296Z"
   },
   {
    "duration": 17,
    "start_time": "2022-04-04T15:02:15.317Z"
   },
   {
    "duration": 15,
    "start_time": "2022-04-04T15:02:15.335Z"
   },
   {
    "duration": 23,
    "start_time": "2022-04-04T15:02:15.351Z"
   },
   {
    "duration": 28,
    "start_time": "2022-04-04T15:02:15.376Z"
   },
   {
    "duration": 8,
    "start_time": "2022-04-04T15:02:15.406Z"
   },
   {
    "duration": 54,
    "start_time": "2022-04-04T15:02:15.416Z"
   },
   {
    "duration": 14,
    "start_time": "2022-04-04T15:02:15.472Z"
   },
   {
    "duration": 44,
    "start_time": "2022-04-04T15:02:15.488Z"
   },
   {
    "duration": 16,
    "start_time": "2022-04-04T15:02:15.534Z"
   },
   {
    "duration": 11,
    "start_time": "2022-04-04T15:02:15.552Z"
   },
   {
    "duration": 29,
    "start_time": "2022-04-04T15:02:15.565Z"
   },
   {
    "duration": 19,
    "start_time": "2022-04-04T15:02:15.596Z"
   },
   {
    "duration": 21,
    "start_time": "2022-04-04T15:02:15.617Z"
   },
   {
    "duration": 5,
    "start_time": "2022-04-04T15:02:15.639Z"
   },
   {
    "duration": 27,
    "start_time": "2022-04-04T15:02:15.662Z"
   },
   {
    "duration": 4,
    "start_time": "2022-04-04T15:02:15.691Z"
   },
   {
    "duration": 15,
    "start_time": "2022-04-04T15:02:15.696Z"
   },
   {
    "duration": 18,
    "start_time": "2022-04-04T15:02:15.713Z"
   },
   {
    "duration": 18,
    "start_time": "2022-04-04T15:02:15.733Z"
   },
   {
    "duration": 199,
    "start_time": "2022-04-04T15:02:15.752Z"
   },
   {
    "duration": 13,
    "start_time": "2022-04-04T15:02:15.952Z"
   },
   {
    "duration": 30,
    "start_time": "2022-04-04T15:02:15.968Z"
   },
   {
    "duration": 34,
    "start_time": "2022-04-04T15:02:16.000Z"
   },
   {
    "duration": 11,
    "start_time": "2022-04-04T15:02:16.036Z"
   },
   {
    "duration": 300,
    "start_time": "2022-04-04T15:02:16.049Z"
   },
   {
    "duration": 269,
    "start_time": "2022-04-04T15:02:16.350Z"
   },
   {
    "duration": 245,
    "start_time": "2022-04-04T15:02:16.620Z"
   },
   {
    "duration": 111,
    "start_time": "2022-04-04T15:02:16.866Z"
   },
   {
    "duration": 110,
    "start_time": "2022-04-04T15:02:16.979Z"
   },
   {
    "duration": 110,
    "start_time": "2022-04-04T15:02:17.091Z"
   },
   {
    "duration": 205,
    "start_time": "2022-04-04T15:02:17.202Z"
   },
   {
    "duration": 198,
    "start_time": "2022-04-04T15:02:17.408Z"
   },
   {
    "duration": 258,
    "start_time": "2022-04-04T15:02:17.607Z"
   },
   {
    "duration": 4,
    "start_time": "2022-04-04T15:02:17.866Z"
   },
   {
    "duration": 23,
    "start_time": "2022-04-04T15:02:17.871Z"
   },
   {
    "duration": 17,
    "start_time": "2022-04-04T15:02:17.896Z"
   },
   {
    "duration": 16,
    "start_time": "2022-04-04T15:02:17.915Z"
   },
   {
    "duration": 42,
    "start_time": "2022-04-04T15:02:17.933Z"
   },
   {
    "duration": 5,
    "start_time": "2022-04-04T15:02:17.976Z"
   },
   {
    "duration": 6,
    "start_time": "2022-04-04T15:02:17.982Z"
   },
   {
    "duration": 20,
    "start_time": "2022-04-04T15:02:17.989Z"
   },
   {
    "duration": 171,
    "start_time": "2022-04-04T15:02:18.010Z"
   },
   {
    "duration": 5,
    "start_time": "2022-04-04T15:02:18.183Z"
   },
   {
    "duration": 13,
    "start_time": "2022-04-04T15:02:18.190Z"
   },
   {
    "duration": 10,
    "start_time": "2022-04-04T15:02:18.204Z"
   },
   {
    "duration": 11,
    "start_time": "2022-04-04T15:02:18.216Z"
   },
   {
    "duration": 7,
    "start_time": "2022-04-04T15:02:18.229Z"
   },
   {
    "duration": 26,
    "start_time": "2022-04-04T15:02:18.238Z"
   },
   {
    "duration": 1103,
    "start_time": "2022-04-04T15:03:05.360Z"
   },
   {
    "duration": 391,
    "start_time": "2022-04-04T15:03:06.465Z"
   },
   {
    "duration": 3,
    "start_time": "2022-04-04T15:03:06.858Z"
   },
   {
    "duration": 419,
    "start_time": "2022-04-04T15:03:06.863Z"
   },
   {
    "duration": 89,
    "start_time": "2022-04-04T15:03:07.284Z"
   },
   {
    "duration": 17,
    "start_time": "2022-04-04T15:03:07.374Z"
   },
   {
    "duration": 4,
    "start_time": "2022-04-04T15:03:07.393Z"
   },
   {
    "duration": 11,
    "start_time": "2022-04-04T15:03:07.398Z"
   },
   {
    "duration": 11,
    "start_time": "2022-04-04T15:03:07.410Z"
   },
   {
    "duration": 28,
    "start_time": "2022-04-04T15:03:07.422Z"
   },
   {
    "duration": 8,
    "start_time": "2022-04-04T15:03:07.463Z"
   },
   {
    "duration": 39,
    "start_time": "2022-04-04T15:03:07.472Z"
   },
   {
    "duration": 13,
    "start_time": "2022-04-04T15:03:07.512Z"
   },
   {
    "duration": 40,
    "start_time": "2022-04-04T15:03:07.528Z"
   },
   {
    "duration": 16,
    "start_time": "2022-04-04T15:03:07.569Z"
   },
   {
    "duration": 9,
    "start_time": "2022-04-04T15:03:07.586Z"
   },
   {
    "duration": 23,
    "start_time": "2022-04-04T15:03:07.596Z"
   },
   {
    "duration": 18,
    "start_time": "2022-04-04T15:03:07.620Z"
   },
   {
    "duration": 32,
    "start_time": "2022-04-04T15:03:07.664Z"
   },
   {
    "duration": 7,
    "start_time": "2022-04-04T15:03:07.698Z"
   },
   {
    "duration": 35,
    "start_time": "2022-04-04T15:03:07.707Z"
   },
   {
    "duration": 22,
    "start_time": "2022-04-04T15:03:07.744Z"
   },
   {
    "duration": 9,
    "start_time": "2022-04-04T15:03:07.768Z"
   },
   {
    "duration": 10,
    "start_time": "2022-04-04T15:03:07.779Z"
   },
   {
    "duration": 10,
    "start_time": "2022-04-04T15:03:07.791Z"
   },
   {
    "duration": 353,
    "start_time": "2022-04-04T15:03:07.803Z"
   },
   {
    "duration": 18,
    "start_time": "2022-04-04T15:03:08.158Z"
   },
   {
    "duration": 13,
    "start_time": "2022-04-04T15:03:08.178Z"
   },
   {
    "duration": 14,
    "start_time": "2022-04-04T15:03:08.193Z"
   },
   {
    "duration": 4,
    "start_time": "2022-04-04T15:03:08.209Z"
   },
   {
    "duration": 304,
    "start_time": "2022-04-04T15:03:08.215Z"
   },
   {
    "duration": 161,
    "start_time": "2022-04-04T15:03:08.521Z"
   },
   {
    "duration": 158,
    "start_time": "2022-04-04T15:03:08.684Z"
   },
   {
    "duration": 119,
    "start_time": "2022-04-04T15:03:08.844Z"
   },
   {
    "duration": 108,
    "start_time": "2022-04-04T15:03:08.964Z"
   },
   {
    "duration": 106,
    "start_time": "2022-04-04T15:03:09.074Z"
   },
   {
    "duration": 207,
    "start_time": "2022-04-04T15:03:09.182Z"
   },
   {
    "duration": 182,
    "start_time": "2022-04-04T15:03:09.390Z"
   },
   {
    "duration": 263,
    "start_time": "2022-04-04T15:03:09.574Z"
   },
   {
    "duration": 3,
    "start_time": "2022-04-04T15:03:09.839Z"
   },
   {
    "duration": 32,
    "start_time": "2022-04-04T15:03:09.845Z"
   },
   {
    "duration": 20,
    "start_time": "2022-04-04T15:03:09.878Z"
   },
   {
    "duration": 20,
    "start_time": "2022-04-04T15:03:09.899Z"
   },
   {
    "duration": 19,
    "start_time": "2022-04-04T15:03:09.920Z"
   },
   {
    "duration": 5,
    "start_time": "2022-04-04T15:03:09.964Z"
   },
   {
    "duration": 8,
    "start_time": "2022-04-04T15:03:09.971Z"
   },
   {
    "duration": 19,
    "start_time": "2022-04-04T15:03:09.981Z"
   },
   {
    "duration": 188,
    "start_time": "2022-04-04T15:03:10.002Z"
   },
   {
    "duration": 6,
    "start_time": "2022-04-04T15:03:10.192Z"
   },
   {
    "duration": 9,
    "start_time": "2022-04-04T15:03:10.200Z"
   },
   {
    "duration": 7,
    "start_time": "2022-04-04T15:03:10.211Z"
   },
   {
    "duration": 10,
    "start_time": "2022-04-04T15:03:10.219Z"
   },
   {
    "duration": 8,
    "start_time": "2022-04-04T15:03:10.231Z"
   },
   {
    "duration": 23,
    "start_time": "2022-04-04T15:03:10.240Z"
   },
   {
    "duration": 42,
    "start_time": "2022-04-04T15:19:58.979Z"
   },
   {
    "duration": 1409,
    "start_time": "2022-04-04T15:20:05.701Z"
   },
   {
    "duration": 635,
    "start_time": "2022-04-04T15:20:07.112Z"
   },
   {
    "duration": 3,
    "start_time": "2022-04-04T15:20:07.749Z"
   },
   {
    "duration": 374,
    "start_time": "2022-04-04T15:20:07.753Z"
   },
   {
    "duration": 82,
    "start_time": "2022-04-04T15:20:08.129Z"
   },
   {
    "duration": 18,
    "start_time": "2022-04-04T15:20:08.212Z"
   },
   {
    "duration": 4,
    "start_time": "2022-04-04T15:20:08.232Z"
   },
   {
    "duration": 10,
    "start_time": "2022-04-04T15:20:08.238Z"
   },
   {
    "duration": 32,
    "start_time": "2022-04-04T15:20:08.250Z"
   },
   {
    "duration": 26,
    "start_time": "2022-04-04T15:20:08.285Z"
   },
   {
    "duration": 9,
    "start_time": "2022-04-04T15:20:08.312Z"
   },
   {
    "duration": 47,
    "start_time": "2022-04-04T15:20:08.323Z"
   },
   {
    "duration": 14,
    "start_time": "2022-04-04T15:20:08.380Z"
   },
   {
    "duration": 24,
    "start_time": "2022-04-04T15:20:08.396Z"
   },
   {
    "duration": 16,
    "start_time": "2022-04-04T15:20:08.421Z"
   },
   {
    "duration": 8,
    "start_time": "2022-04-04T15:20:08.438Z"
   },
   {
    "duration": 56,
    "start_time": "2022-04-04T15:20:08.448Z"
   },
   {
    "duration": 22,
    "start_time": "2022-04-04T15:20:08.506Z"
   },
   {
    "duration": 23,
    "start_time": "2022-04-04T15:20:08.530Z"
   },
   {
    "duration": 29,
    "start_time": "2022-04-04T15:20:08.555Z"
   },
   {
    "duration": 24,
    "start_time": "2022-04-04T15:20:08.586Z"
   },
   {
    "duration": 4,
    "start_time": "2022-04-04T15:20:08.612Z"
   },
   {
    "duration": 7,
    "start_time": "2022-04-04T15:20:08.618Z"
   },
   {
    "duration": 8,
    "start_time": "2022-04-04T15:20:08.626Z"
   },
   {
    "duration": 8,
    "start_time": "2022-04-04T15:20:08.636Z"
   },
   {
    "duration": 194,
    "start_time": "2022-04-04T15:20:08.645Z"
   },
   {
    "duration": 12,
    "start_time": "2022-04-04T15:20:08.840Z"
   },
   {
    "duration": 26,
    "start_time": "2022-04-04T15:20:08.856Z"
   },
   {
    "duration": 11,
    "start_time": "2022-04-04T15:20:08.884Z"
   },
   {
    "duration": 6,
    "start_time": "2022-04-04T15:20:08.896Z"
   },
   {
    "duration": 180,
    "start_time": "2022-04-04T15:20:08.903Z"
   },
   {
    "duration": 162,
    "start_time": "2022-04-04T15:20:09.085Z"
   },
   {
    "duration": 163,
    "start_time": "2022-04-04T15:20:09.249Z"
   },
   {
    "duration": 129,
    "start_time": "2022-04-04T15:20:09.414Z"
   },
   {
    "duration": 113,
    "start_time": "2022-04-04T15:20:09.544Z"
   },
   {
    "duration": 105,
    "start_time": "2022-04-04T15:20:09.659Z"
   },
   {
    "duration": 210,
    "start_time": "2022-04-04T15:20:09.766Z"
   },
   {
    "duration": 316,
    "start_time": "2022-04-04T15:20:09.977Z"
   },
   {
    "duration": 190,
    "start_time": "2022-04-04T15:20:10.295Z"
   },
   {
    "duration": 5,
    "start_time": "2022-04-04T15:20:10.487Z"
   },
   {
    "duration": 31,
    "start_time": "2022-04-04T15:20:10.494Z"
   },
   {
    "duration": 17,
    "start_time": "2022-04-04T15:20:10.526Z"
   },
   {
    "duration": 40,
    "start_time": "2022-04-04T15:20:10.544Z"
   },
   {
    "duration": 21,
    "start_time": "2022-04-04T15:20:10.586Z"
   },
   {
    "duration": 6,
    "start_time": "2022-04-04T15:20:10.609Z"
   },
   {
    "duration": 5,
    "start_time": "2022-04-04T15:20:10.617Z"
   },
   {
    "duration": 20,
    "start_time": "2022-04-04T15:20:10.624Z"
   },
   {
    "duration": 186,
    "start_time": "2022-04-04T15:20:10.645Z"
   },
   {
    "duration": 6,
    "start_time": "2022-04-04T15:20:10.832Z"
   },
   {
    "duration": 6,
    "start_time": "2022-04-04T15:20:10.839Z"
   },
   {
    "duration": 6,
    "start_time": "2022-04-04T15:20:10.847Z"
   },
   {
    "duration": 29,
    "start_time": "2022-04-04T15:20:10.854Z"
   },
   {
    "duration": 4,
    "start_time": "2022-04-04T15:20:10.885Z"
   },
   {
    "duration": 8,
    "start_time": "2022-04-04T15:20:10.891Z"
   },
   {
    "duration": 23,
    "start_time": "2022-04-04T15:22:21.933Z"
   },
   {
    "duration": 20,
    "start_time": "2022-04-04T15:23:00.849Z"
   },
   {
    "duration": 22,
    "start_time": "2022-04-04T15:23:04.188Z"
   },
   {
    "duration": 6,
    "start_time": "2022-04-04T15:23:10.949Z"
   },
   {
    "duration": 22,
    "start_time": "2022-04-04T15:23:12.476Z"
   },
   {
    "duration": 5,
    "start_time": "2022-04-04T15:23:16.560Z"
   },
   {
    "duration": 5,
    "start_time": "2022-04-04T15:23:18.884Z"
   },
   {
    "duration": 4,
    "start_time": "2022-04-04T15:24:28.712Z"
   },
   {
    "duration": 9,
    "start_time": "2022-04-04T15:24:37.196Z"
   },
   {
    "duration": 8,
    "start_time": "2022-04-04T15:24:54.252Z"
   },
   {
    "duration": 1065,
    "start_time": "2022-04-04T15:25:16.443Z"
   },
   {
    "duration": 490,
    "start_time": "2022-04-04T15:25:17.510Z"
   },
   {
    "duration": 4,
    "start_time": "2022-04-04T15:25:18.001Z"
   },
   {
    "duration": 391,
    "start_time": "2022-04-04T15:25:18.007Z"
   },
   {
    "duration": 81,
    "start_time": "2022-04-04T15:25:18.400Z"
   },
   {
    "duration": 17,
    "start_time": "2022-04-04T15:25:18.483Z"
   },
   {
    "duration": 4,
    "start_time": "2022-04-04T15:25:18.502Z"
   },
   {
    "duration": 8,
    "start_time": "2022-04-04T15:25:18.508Z"
   },
   {
    "duration": 18,
    "start_time": "2022-04-04T15:25:18.517Z"
   },
   {
    "duration": 22,
    "start_time": "2022-04-04T15:25:18.538Z"
   },
   {
    "duration": 24,
    "start_time": "2022-04-04T15:25:18.562Z"
   },
   {
    "duration": 38,
    "start_time": "2022-04-04T15:25:18.587Z"
   },
   {
    "duration": 14,
    "start_time": "2022-04-04T15:25:18.626Z"
   },
   {
    "duration": 40,
    "start_time": "2022-04-04T15:25:18.642Z"
   },
   {
    "duration": 16,
    "start_time": "2022-04-04T15:25:18.683Z"
   },
   {
    "duration": 7,
    "start_time": "2022-04-04T15:25:18.701Z"
   },
   {
    "duration": 26,
    "start_time": "2022-04-04T15:25:18.710Z"
   },
   {
    "duration": 18,
    "start_time": "2022-04-04T15:25:18.738Z"
   },
   {
    "duration": 43,
    "start_time": "2022-04-04T15:25:18.757Z"
   },
   {
    "duration": 5,
    "start_time": "2022-04-04T15:25:18.801Z"
   },
   {
    "duration": 48,
    "start_time": "2022-04-04T15:25:18.807Z"
   },
   {
    "duration": 11,
    "start_time": "2022-04-04T15:25:18.856Z"
   },
   {
    "duration": 23,
    "start_time": "2022-04-04T15:25:18.869Z"
   },
   {
    "duration": 19,
    "start_time": "2022-04-04T15:25:18.894Z"
   },
   {
    "duration": 29,
    "start_time": "2022-04-04T15:25:18.915Z"
   },
   {
    "duration": 197,
    "start_time": "2022-04-04T15:25:18.945Z"
   },
   {
    "duration": 11,
    "start_time": "2022-04-04T15:25:19.144Z"
   },
   {
    "duration": 9,
    "start_time": "2022-04-04T15:25:19.158Z"
   },
   {
    "duration": 9,
    "start_time": "2022-04-04T15:25:19.180Z"
   },
   {
    "duration": 5,
    "start_time": "2022-04-04T15:25:19.190Z"
   },
   {
    "duration": 171,
    "start_time": "2022-04-04T15:25:19.196Z"
   },
   {
    "duration": 164,
    "start_time": "2022-04-04T15:25:19.368Z"
   },
   {
    "duration": 161,
    "start_time": "2022-04-04T15:25:19.534Z"
   },
   {
    "duration": 118,
    "start_time": "2022-04-04T15:25:19.696Z"
   },
   {
    "duration": 116,
    "start_time": "2022-04-04T15:25:19.816Z"
   },
   {
    "duration": 104,
    "start_time": "2022-04-04T15:25:19.933Z"
   },
   {
    "duration": 201,
    "start_time": "2022-04-04T15:25:20.038Z"
   },
   {
    "duration": 188,
    "start_time": "2022-04-04T15:25:20.241Z"
   },
   {
    "duration": 268,
    "start_time": "2022-04-04T15:25:20.430Z"
   },
   {
    "duration": 4,
    "start_time": "2022-04-04T15:25:20.699Z"
   },
   {
    "duration": 25,
    "start_time": "2022-04-04T15:25:20.704Z"
   },
   {
    "duration": 19,
    "start_time": "2022-04-04T15:25:20.731Z"
   },
   {
    "duration": 40,
    "start_time": "2022-04-04T15:25:20.751Z"
   },
   {
    "duration": 19,
    "start_time": "2022-04-04T15:25:20.792Z"
   },
   {
    "duration": 5,
    "start_time": "2022-04-04T15:25:20.813Z"
   },
   {
    "duration": 6,
    "start_time": "2022-04-04T15:25:20.820Z"
   },
   {
    "duration": 20,
    "start_time": "2022-04-04T15:25:20.828Z"
   },
   {
    "duration": 178,
    "start_time": "2022-04-04T15:25:20.849Z"
   },
   {
    "duration": 6,
    "start_time": "2022-04-04T15:25:21.029Z"
   },
   {
    "duration": 9,
    "start_time": "2022-04-04T15:25:21.036Z"
   },
   {
    "duration": 6,
    "start_time": "2022-04-04T15:25:21.046Z"
   },
   {
    "duration": 8,
    "start_time": "2022-04-04T15:25:21.054Z"
   },
   {
    "duration": 17,
    "start_time": "2022-04-04T15:25:21.064Z"
   },
   {
    "duration": 4,
    "start_time": "2022-04-04T15:25:21.082Z"
   },
   {
    "duration": 6,
    "start_time": "2022-04-04T15:27:05.955Z"
   },
   {
    "duration": 310,
    "start_time": "2022-04-04T15:27:11.495Z"
   },
   {
    "duration": 95,
    "start_time": "2022-04-04T15:30:55.800Z"
   },
   {
    "duration": 1086,
    "start_time": "2022-04-04T15:31:02.338Z"
   },
   {
    "duration": 469,
    "start_time": "2022-04-04T15:31:03.426Z"
   },
   {
    "duration": 3,
    "start_time": "2022-04-04T15:31:03.897Z"
   },
   {
    "duration": 411,
    "start_time": "2022-04-04T15:31:03.902Z"
   },
   {
    "duration": 81,
    "start_time": "2022-04-04T15:31:04.315Z"
   },
   {
    "duration": 16,
    "start_time": "2022-04-04T15:31:04.397Z"
   },
   {
    "duration": 21,
    "start_time": "2022-04-04T15:31:04.415Z"
   },
   {
    "duration": 50,
    "start_time": "2022-04-04T15:31:04.437Z"
   },
   {
    "duration": 46,
    "start_time": "2022-04-04T15:31:04.488Z"
   },
   {
    "duration": 55,
    "start_time": "2022-04-04T15:31:04.537Z"
   },
   {
    "duration": 23,
    "start_time": "2022-04-04T15:31:04.593Z"
   },
   {
    "duration": 53,
    "start_time": "2022-04-04T15:31:04.617Z"
   },
   {
    "duration": 14,
    "start_time": "2022-04-04T15:31:04.671Z"
   },
   {
    "duration": 27,
    "start_time": "2022-04-04T15:31:04.686Z"
   },
   {
    "duration": 16,
    "start_time": "2022-04-04T15:31:04.714Z"
   },
   {
    "duration": 9,
    "start_time": "2022-04-04T15:31:04.731Z"
   },
   {
    "duration": 44,
    "start_time": "2022-04-04T15:31:04.741Z"
   },
   {
    "duration": 21,
    "start_time": "2022-04-04T15:31:04.787Z"
   },
   {
    "duration": 28,
    "start_time": "2022-04-04T15:31:04.809Z"
   },
   {
    "duration": 9,
    "start_time": "2022-04-04T15:31:04.838Z"
   },
   {
    "duration": 37,
    "start_time": "2022-04-04T15:31:04.849Z"
   },
   {
    "duration": 5,
    "start_time": "2022-04-04T15:31:04.888Z"
   },
   {
    "duration": 122,
    "start_time": "2022-04-04T15:31:04.895Z"
   },
   {
    "duration": 0,
    "start_time": "2022-04-04T15:31:05.020Z"
   },
   {
    "duration": 0,
    "start_time": "2022-04-04T15:31:05.021Z"
   },
   {
    "duration": 0,
    "start_time": "2022-04-04T15:31:05.023Z"
   },
   {
    "duration": 0,
    "start_time": "2022-04-04T15:31:05.024Z"
   },
   {
    "duration": 0,
    "start_time": "2022-04-04T15:31:05.025Z"
   },
   {
    "duration": 0,
    "start_time": "2022-04-04T15:31:05.027Z"
   },
   {
    "duration": 0,
    "start_time": "2022-04-04T15:31:05.028Z"
   },
   {
    "duration": 0,
    "start_time": "2022-04-04T15:31:05.029Z"
   },
   {
    "duration": 0,
    "start_time": "2022-04-04T15:31:05.030Z"
   },
   {
    "duration": 0,
    "start_time": "2022-04-04T15:31:05.032Z"
   },
   {
    "duration": 0,
    "start_time": "2022-04-04T15:31:05.033Z"
   },
   {
    "duration": 0,
    "start_time": "2022-04-04T15:31:05.034Z"
   },
   {
    "duration": 0,
    "start_time": "2022-04-04T15:31:05.035Z"
   },
   {
    "duration": 0,
    "start_time": "2022-04-04T15:31:05.036Z"
   },
   {
    "duration": 0,
    "start_time": "2022-04-04T15:31:05.038Z"
   },
   {
    "duration": 0,
    "start_time": "2022-04-04T15:31:05.039Z"
   },
   {
    "duration": 0,
    "start_time": "2022-04-04T15:31:05.040Z"
   },
   {
    "duration": 0,
    "start_time": "2022-04-04T15:31:05.041Z"
   },
   {
    "duration": 0,
    "start_time": "2022-04-04T15:31:05.042Z"
   },
   {
    "duration": 0,
    "start_time": "2022-04-04T15:31:05.043Z"
   },
   {
    "duration": 0,
    "start_time": "2022-04-04T15:31:05.081Z"
   },
   {
    "duration": 0,
    "start_time": "2022-04-04T15:31:05.082Z"
   },
   {
    "duration": 0,
    "start_time": "2022-04-04T15:31:05.083Z"
   },
   {
    "duration": 0,
    "start_time": "2022-04-04T15:31:05.084Z"
   },
   {
    "duration": 0,
    "start_time": "2022-04-04T15:31:05.085Z"
   },
   {
    "duration": 0,
    "start_time": "2022-04-04T15:31:05.086Z"
   },
   {
    "duration": 0,
    "start_time": "2022-04-04T15:31:05.087Z"
   },
   {
    "duration": 0,
    "start_time": "2022-04-04T15:31:05.088Z"
   },
   {
    "duration": 0,
    "start_time": "2022-04-04T15:31:05.089Z"
   },
   {
    "duration": 0,
    "start_time": "2022-04-04T15:31:05.090Z"
   },
   {
    "duration": 0,
    "start_time": "2022-04-04T15:31:05.091Z"
   },
   {
    "duration": 5,
    "start_time": "2022-04-04T15:31:37.594Z"
   },
   {
    "duration": 7,
    "start_time": "2022-04-04T15:31:49.219Z"
   },
   {
    "duration": 1156,
    "start_time": "2022-04-04T15:32:02.545Z"
   },
   {
    "duration": 465,
    "start_time": "2022-04-04T15:32:03.703Z"
   },
   {
    "duration": 3,
    "start_time": "2022-04-04T15:32:04.170Z"
   },
   {
    "duration": 383,
    "start_time": "2022-04-04T15:32:04.175Z"
   },
   {
    "duration": 79,
    "start_time": "2022-04-04T15:32:04.560Z"
   },
   {
    "duration": 16,
    "start_time": "2022-04-04T15:32:04.641Z"
   },
   {
    "duration": 10,
    "start_time": "2022-04-04T15:32:04.659Z"
   },
   {
    "duration": 20,
    "start_time": "2022-04-04T15:32:04.670Z"
   },
   {
    "duration": 23,
    "start_time": "2022-04-04T15:32:04.691Z"
   },
   {
    "duration": 37,
    "start_time": "2022-04-04T15:32:04.718Z"
   },
   {
    "duration": 7,
    "start_time": "2022-04-04T15:32:04.757Z"
   },
   {
    "duration": 38,
    "start_time": "2022-04-04T15:32:04.765Z"
   },
   {
    "duration": 14,
    "start_time": "2022-04-04T15:32:04.804Z"
   },
   {
    "duration": 22,
    "start_time": "2022-04-04T15:32:04.819Z"
   },
   {
    "duration": 16,
    "start_time": "2022-04-04T15:32:04.842Z"
   },
   {
    "duration": 26,
    "start_time": "2022-04-04T15:32:04.860Z"
   },
   {
    "duration": 37,
    "start_time": "2022-04-04T15:32:04.888Z"
   },
   {
    "duration": 19,
    "start_time": "2022-04-04T15:32:04.927Z"
   },
   {
    "duration": 20,
    "start_time": "2022-04-04T15:32:04.947Z"
   },
   {
    "duration": 5,
    "start_time": "2022-04-04T15:32:04.981Z"
   },
   {
    "duration": 52,
    "start_time": "2022-04-04T15:32:04.987Z"
   },
   {
    "duration": 7,
    "start_time": "2022-04-04T15:32:05.041Z"
   },
   {
    "duration": 16,
    "start_time": "2022-04-04T15:32:05.050Z"
   },
   {
    "duration": 19,
    "start_time": "2022-04-04T15:32:05.067Z"
   },
   {
    "duration": 24,
    "start_time": "2022-04-04T15:32:05.087Z"
   },
   {
    "duration": 181,
    "start_time": "2022-04-04T15:32:05.113Z"
   },
   {
    "duration": 12,
    "start_time": "2022-04-04T15:32:05.295Z"
   },
   {
    "duration": 12,
    "start_time": "2022-04-04T15:32:05.310Z"
   },
   {
    "duration": 21,
    "start_time": "2022-04-04T15:32:05.323Z"
   },
   {
    "duration": 8,
    "start_time": "2022-04-04T15:32:05.346Z"
   },
   {
    "duration": 186,
    "start_time": "2022-04-04T15:32:05.355Z"
   },
   {
    "duration": 159,
    "start_time": "2022-04-04T15:32:05.542Z"
   },
   {
    "duration": 162,
    "start_time": "2022-04-04T15:32:05.703Z"
   },
   {
    "duration": 116,
    "start_time": "2022-04-04T15:32:05.866Z"
   },
   {
    "duration": 100,
    "start_time": "2022-04-04T15:32:05.984Z"
   },
   {
    "duration": 104,
    "start_time": "2022-04-04T15:32:06.085Z"
   },
   {
    "duration": 193,
    "start_time": "2022-04-04T15:32:06.191Z"
   },
   {
    "duration": 181,
    "start_time": "2022-04-04T15:32:06.385Z"
   },
   {
    "duration": 249,
    "start_time": "2022-04-04T15:32:06.567Z"
   },
   {
    "duration": 3,
    "start_time": "2022-04-04T15:32:06.818Z"
   },
   {
    "duration": 25,
    "start_time": "2022-04-04T15:32:06.822Z"
   },
   {
    "duration": 19,
    "start_time": "2022-04-04T15:32:06.848Z"
   },
   {
    "duration": 33,
    "start_time": "2022-04-04T15:32:06.868Z"
   },
   {
    "duration": 26,
    "start_time": "2022-04-04T15:32:06.903Z"
   },
   {
    "duration": 7,
    "start_time": "2022-04-04T15:32:06.931Z"
   },
   {
    "duration": 9,
    "start_time": "2022-04-04T15:32:06.939Z"
   },
   {
    "duration": 38,
    "start_time": "2022-04-04T15:32:06.950Z"
   },
   {
    "duration": 162,
    "start_time": "2022-04-04T15:32:06.990Z"
   },
   {
    "duration": 6,
    "start_time": "2022-04-04T15:32:07.153Z"
   },
   {
    "duration": 11,
    "start_time": "2022-04-04T15:32:07.161Z"
   },
   {
    "duration": 9,
    "start_time": "2022-04-04T15:32:07.174Z"
   },
   {
    "duration": 19,
    "start_time": "2022-04-04T15:32:07.184Z"
   },
   {
    "duration": 17,
    "start_time": "2022-04-04T15:32:07.204Z"
   },
   {
    "duration": 10,
    "start_time": "2022-04-04T15:32:07.222Z"
   },
   {
    "duration": 3,
    "start_time": "2022-04-04T15:36:17.505Z"
   },
   {
    "duration": 177,
    "start_time": "2022-04-04T15:36:19.594Z"
   },
   {
    "duration": 157,
    "start_time": "2022-04-04T15:36:56.570Z"
   },
   {
    "duration": 197,
    "start_time": "2022-04-04T15:38:15.894Z"
   },
   {
    "duration": 152,
    "start_time": "2022-04-04T15:38:26.433Z"
   },
   {
    "duration": 117,
    "start_time": "2022-04-04T15:38:36.293Z"
   },
   {
    "duration": 223,
    "start_time": "2022-04-04T15:40:55.489Z"
   },
   {
    "duration": 29,
    "start_time": "2022-04-04T15:40:59.646Z"
   },
   {
    "duration": 15,
    "start_time": "2022-04-04T15:41:29.885Z"
   },
   {
    "duration": 176,
    "start_time": "2022-04-04T15:42:10.925Z"
   },
   {
    "duration": 177,
    "start_time": "2022-04-04T15:42:12.949Z"
   },
   {
    "duration": 171,
    "start_time": "2022-04-04T15:42:48.309Z"
   },
   {
    "duration": 19,
    "start_time": "2022-04-04T15:44:30.117Z"
   },
   {
    "duration": 27,
    "start_time": "2022-04-04T15:45:27.966Z"
   },
   {
    "duration": 18,
    "start_time": "2022-04-04T15:46:17.250Z"
   },
   {
    "duration": 18,
    "start_time": "2022-04-04T15:46:36.869Z"
   },
   {
    "duration": 18,
    "start_time": "2022-04-04T15:47:23.524Z"
   },
   {
    "duration": 18,
    "start_time": "2022-04-04T15:47:28.294Z"
   },
   {
    "duration": 17,
    "start_time": "2022-04-04T15:47:46.477Z"
   },
   {
    "duration": 17,
    "start_time": "2022-04-04T15:47:51.126Z"
   },
   {
    "duration": 1964,
    "start_time": "2022-04-04T15:49:11.973Z"
   },
   {
    "duration": 12,
    "start_time": "2022-04-04T15:49:28.217Z"
   },
   {
    "duration": 18,
    "start_time": "2022-04-04T15:49:34.074Z"
   },
   {
    "duration": 20,
    "start_time": "2022-04-04T15:50:17.614Z"
   },
   {
    "duration": 2849,
    "start_time": "2022-04-04T15:50:36.333Z"
   },
   {
    "duration": 3,
    "start_time": "2022-04-04T15:50:39.421Z"
   },
   {
    "duration": 2548,
    "start_time": "2022-04-04T15:50:40.237Z"
   },
   {
    "duration": 8,
    "start_time": "2022-04-04T16:22:03.531Z"
   },
   {
    "duration": 159,
    "start_time": "2022-04-04T16:22:06.997Z"
   },
   {
    "duration": 3,
    "start_time": "2022-04-04T16:22:15.945Z"
   },
   {
    "duration": 10,
    "start_time": "2022-04-04T16:22:19.709Z"
   },
   {
    "duration": 32,
    "start_time": "2022-04-04T16:24:07.165Z"
   },
   {
    "duration": 28,
    "start_time": "2022-04-04T16:24:50.957Z"
   },
   {
    "duration": 4,
    "start_time": "2022-04-04T16:29:17.053Z"
   },
   {
    "duration": 2614,
    "start_time": "2022-04-04T16:29:19.533Z"
   },
   {
    "duration": 278,
    "start_time": "2022-04-04T16:30:32.021Z"
   },
   {
    "duration": 407,
    "start_time": "2022-04-04T16:30:55.161Z"
   },
   {
    "duration": 334,
    "start_time": "2022-04-04T16:31:52.197Z"
   },
   {
    "duration": 440,
    "start_time": "2022-04-04T16:32:02.305Z"
   },
   {
    "duration": 237,
    "start_time": "2022-04-04T16:36:14.821Z"
   },
   {
    "duration": 12,
    "start_time": "2022-04-04T16:36:53.420Z"
   },
   {
    "duration": 2534,
    "start_time": "2022-04-04T16:38:04.789Z"
   },
   {
    "duration": 2802,
    "start_time": "2022-04-04T16:39:04.797Z"
   },
   {
    "duration": 22,
    "start_time": "2022-04-04T16:42:20.909Z"
   },
   {
    "duration": 5,
    "start_time": "2022-04-04T16:48:43.493Z"
   },
   {
    "duration": 4,
    "start_time": "2022-04-04T16:49:03.220Z"
   },
   {
    "duration": 276,
    "start_time": "2022-04-04T16:49:33.357Z"
   },
   {
    "duration": 3,
    "start_time": "2022-04-04T16:49:53.181Z"
   },
   {
    "duration": 0,
    "start_time": "2022-04-04T16:50:08.410Z"
   },
   {
    "duration": 2816,
    "start_time": "2022-04-04T16:51:36.589Z"
   },
   {
    "duration": 12,
    "start_time": "2022-04-04T16:51:50.105Z"
   },
   {
    "duration": 12,
    "start_time": "2022-04-04T16:52:02.441Z"
   },
   {
    "duration": 5,
    "start_time": "2022-04-04T16:53:16.585Z"
   },
   {
    "duration": 12,
    "start_time": "2022-04-04T16:54:02.017Z"
   },
   {
    "duration": 12,
    "start_time": "2022-04-04T16:55:51.185Z"
   },
   {
    "duration": 4,
    "start_time": "2022-04-04T17:07:40.321Z"
   },
   {
    "duration": 13,
    "start_time": "2022-04-04T17:07:42.065Z"
   },
   {
    "duration": 2004,
    "start_time": "2022-04-04T17:07:50.119Z"
   },
   {
    "duration": 533,
    "start_time": "2022-04-04T17:07:52.125Z"
   },
   {
    "duration": 3,
    "start_time": "2022-04-04T17:07:52.660Z"
   },
   {
    "duration": 449,
    "start_time": "2022-04-04T17:07:52.665Z"
   },
   {
    "duration": 90,
    "start_time": "2022-04-04T17:07:53.115Z"
   },
   {
    "duration": 20,
    "start_time": "2022-04-04T17:07:53.206Z"
   },
   {
    "duration": 5,
    "start_time": "2022-04-04T17:07:53.227Z"
   },
   {
    "duration": 17,
    "start_time": "2022-04-04T17:07:53.233Z"
   },
   {
    "duration": 13,
    "start_time": "2022-04-04T17:07:53.251Z"
   },
   {
    "duration": 26,
    "start_time": "2022-04-04T17:07:53.280Z"
   },
   {
    "duration": 8,
    "start_time": "2022-04-04T17:07:53.307Z"
   },
   {
    "duration": 38,
    "start_time": "2022-04-04T17:07:53.316Z"
   },
   {
    "duration": 39,
    "start_time": "2022-04-04T17:07:53.356Z"
   },
   {
    "duration": 25,
    "start_time": "2022-04-04T17:07:53.397Z"
   },
   {
    "duration": 15,
    "start_time": "2022-04-04T17:07:53.423Z"
   },
   {
    "duration": 7,
    "start_time": "2022-04-04T17:07:53.440Z"
   },
   {
    "duration": 54,
    "start_time": "2022-04-04T17:07:53.449Z"
   },
   {
    "duration": 20,
    "start_time": "2022-04-04T17:07:53.505Z"
   },
   {
    "duration": 20,
    "start_time": "2022-04-04T17:07:53.526Z"
   },
   {
    "duration": 4,
    "start_time": "2022-04-04T17:07:53.547Z"
   },
   {
    "duration": 46,
    "start_time": "2022-04-04T17:07:53.553Z"
   },
   {
    "duration": 4,
    "start_time": "2022-04-04T17:07:53.601Z"
   },
   {
    "duration": 6,
    "start_time": "2022-04-04T17:07:53.607Z"
   },
   {
    "duration": 9,
    "start_time": "2022-04-04T17:07:53.615Z"
   },
   {
    "duration": 7,
    "start_time": "2022-04-04T17:07:53.625Z"
   },
   {
    "duration": 209,
    "start_time": "2022-04-04T17:07:53.633Z"
   },
   {
    "duration": 12,
    "start_time": "2022-04-04T17:07:53.843Z"
   },
   {
    "duration": 257,
    "start_time": "2022-04-04T17:07:53.858Z"
   },
   {
    "duration": 146,
    "start_time": "2022-04-04T17:07:54.117Z"
   },
   {
    "duration": 0,
    "start_time": "2022-04-04T17:07:54.265Z"
   },
   {
    "duration": 0,
    "start_time": "2022-04-04T17:07:54.266Z"
   },
   {
    "duration": 0,
    "start_time": "2022-04-04T17:07:54.267Z"
   },
   {
    "duration": 0,
    "start_time": "2022-04-04T17:07:54.268Z"
   },
   {
    "duration": 0,
    "start_time": "2022-04-04T17:07:54.269Z"
   },
   {
    "duration": 0,
    "start_time": "2022-04-04T17:07:54.270Z"
   },
   {
    "duration": 0,
    "start_time": "2022-04-04T17:07:54.271Z"
   },
   {
    "duration": 0,
    "start_time": "2022-04-04T17:07:54.281Z"
   },
   {
    "duration": 0,
    "start_time": "2022-04-04T17:07:54.283Z"
   },
   {
    "duration": 0,
    "start_time": "2022-04-04T17:07:54.284Z"
   },
   {
    "duration": 0,
    "start_time": "2022-04-04T17:07:54.285Z"
   },
   {
    "duration": 0,
    "start_time": "2022-04-04T17:07:54.287Z"
   },
   {
    "duration": 0,
    "start_time": "2022-04-04T17:07:54.288Z"
   },
   {
    "duration": 0,
    "start_time": "2022-04-04T17:07:54.289Z"
   },
   {
    "duration": 0,
    "start_time": "2022-04-04T17:07:54.290Z"
   },
   {
    "duration": 0,
    "start_time": "2022-04-04T17:07:54.291Z"
   },
   {
    "duration": 0,
    "start_time": "2022-04-04T17:07:54.292Z"
   },
   {
    "duration": 0,
    "start_time": "2022-04-04T17:07:54.293Z"
   },
   {
    "duration": 0,
    "start_time": "2022-04-04T17:07:54.294Z"
   },
   {
    "duration": 0,
    "start_time": "2022-04-04T17:07:54.295Z"
   },
   {
    "duration": 0,
    "start_time": "2022-04-04T17:07:54.296Z"
   },
   {
    "duration": 0,
    "start_time": "2022-04-04T17:07:54.298Z"
   },
   {
    "duration": 0,
    "start_time": "2022-04-04T17:07:54.299Z"
   },
   {
    "duration": 31,
    "start_time": "2022-04-04T17:11:43.277Z"
   },
   {
    "duration": 14,
    "start_time": "2022-04-04T17:13:38.206Z"
   },
   {
    "duration": 16,
    "start_time": "2022-04-04T17:13:53.483Z"
   },
   {
    "duration": 15,
    "start_time": "2022-04-04T17:14:24.011Z"
   },
   {
    "duration": 9,
    "start_time": "2022-04-04T17:14:40.403Z"
   },
   {
    "duration": 3,
    "start_time": "2022-04-04T17:21:27.059Z"
   },
   {
    "duration": 12,
    "start_time": "2022-04-04T17:21:29.023Z"
   },
   {
    "duration": 5,
    "start_time": "2022-04-04T17:21:57.494Z"
   },
   {
    "duration": 175,
    "start_time": "2022-04-04T17:21:58.071Z"
   },
   {
    "duration": 4,
    "start_time": "2022-04-04T17:23:26.962Z"
   },
   {
    "duration": 174,
    "start_time": "2022-04-04T17:23:28.955Z"
   },
   {
    "duration": 164,
    "start_time": "2022-04-04T17:23:39.095Z"
   },
   {
    "duration": 236,
    "start_time": "2022-04-04T17:23:41.462Z"
   },
   {
    "duration": 168,
    "start_time": "2022-04-04T17:24:03.667Z"
   },
   {
    "duration": 166,
    "start_time": "2022-04-04T17:24:28.247Z"
   },
   {
    "duration": 118,
    "start_time": "2022-04-04T17:24:33.891Z"
   },
   {
    "duration": 110,
    "start_time": "2022-04-04T17:24:43.379Z"
   },
   {
    "duration": 252,
    "start_time": "2022-04-04T17:25:48.255Z"
   },
   {
    "duration": 194,
    "start_time": "2022-04-04T17:26:30.287Z"
   },
   {
    "duration": 188,
    "start_time": "2022-04-04T17:26:32.051Z"
   },
   {
    "duration": 7,
    "start_time": "2022-04-04T17:26:34.342Z"
   },
   {
    "duration": 19,
    "start_time": "2022-04-04T17:26:38.479Z"
   },
   {
    "duration": 20,
    "start_time": "2022-04-04T17:26:40.195Z"
   },
   {
    "duration": 27,
    "start_time": "2022-04-04T17:26:41.447Z"
   },
   {
    "duration": 21,
    "start_time": "2022-04-04T17:27:08.411Z"
   },
   {
    "duration": 74,
    "start_time": "2022-04-04T20:01:34.764Z"
   },
   {
    "duration": 1764,
    "start_time": "2022-04-04T20:01:42.212Z"
   },
   {
    "duration": 609,
    "start_time": "2022-04-04T20:01:43.979Z"
   },
   {
    "duration": 7,
    "start_time": "2022-04-04T20:01:44.595Z"
   },
   {
    "duration": 736,
    "start_time": "2022-04-04T20:01:44.605Z"
   },
   {
    "duration": 186,
    "start_time": "2022-04-04T20:01:45.343Z"
   },
   {
    "duration": 26,
    "start_time": "2022-04-04T20:01:45.532Z"
   },
   {
    "duration": 6,
    "start_time": "2022-04-04T20:01:45.561Z"
   },
   {
    "duration": 20,
    "start_time": "2022-04-04T20:01:45.585Z"
   },
   {
    "duration": 18,
    "start_time": "2022-04-04T20:01:45.608Z"
   },
   {
    "duration": 61,
    "start_time": "2022-04-04T20:01:45.633Z"
   },
   {
    "duration": 11,
    "start_time": "2022-04-04T20:01:45.703Z"
   },
   {
    "duration": 56,
    "start_time": "2022-04-04T20:01:45.716Z"
   },
   {
    "duration": 23,
    "start_time": "2022-04-04T20:01:45.785Z"
   },
   {
    "duration": 35,
    "start_time": "2022-04-04T20:01:45.810Z"
   },
   {
    "duration": 52,
    "start_time": "2022-04-04T20:01:45.847Z"
   },
   {
    "duration": 14,
    "start_time": "2022-04-04T20:01:45.901Z"
   },
   {
    "duration": 40,
    "start_time": "2022-04-04T20:01:45.917Z"
   },
   {
    "duration": 40,
    "start_time": "2022-04-04T20:01:45.986Z"
   },
   {
    "duration": 64,
    "start_time": "2022-04-04T20:01:46.028Z"
   },
   {
    "duration": 8,
    "start_time": "2022-04-04T20:01:46.098Z"
   },
   {
    "duration": 44,
    "start_time": "2022-04-04T20:01:46.108Z"
   },
   {
    "duration": 12,
    "start_time": "2022-04-04T20:01:46.154Z"
   },
   {
    "duration": 32,
    "start_time": "2022-04-04T20:01:46.168Z"
   },
   {
    "duration": 16,
    "start_time": "2022-04-04T20:01:46.203Z"
   },
   {
    "duration": 24,
    "start_time": "2022-04-04T20:01:46.222Z"
   },
   {
    "duration": 14,
    "start_time": "2022-04-04T20:01:46.248Z"
   },
   {
    "duration": 381,
    "start_time": "2022-04-04T20:01:46.265Z"
   },
   {
    "duration": 35,
    "start_time": "2022-04-04T20:01:46.652Z"
   },
   {
    "duration": 11,
    "start_time": "2022-04-04T20:01:46.689Z"
   },
   {
    "duration": 397,
    "start_time": "2022-04-04T20:01:46.702Z"
   },
   {
    "duration": 335,
    "start_time": "2022-04-04T20:01:47.101Z"
   },
   {
    "duration": 336,
    "start_time": "2022-04-04T20:01:47.438Z"
   },
   {
    "duration": 562,
    "start_time": "2022-04-04T20:01:47.776Z"
   },
   {
    "duration": 494,
    "start_time": "2022-04-04T20:01:48.340Z"
   },
   {
    "duration": 381,
    "start_time": "2022-04-04T20:01:48.837Z"
   },
   {
    "duration": 5,
    "start_time": "2022-04-04T20:01:49.221Z"
   },
   {
    "duration": 37,
    "start_time": "2022-04-04T20:01:49.229Z"
   },
   {
    "duration": 33,
    "start_time": "2022-04-04T20:01:49.285Z"
   },
   {
    "duration": 31,
    "start_time": "2022-04-04T20:01:49.320Z"
   },
   {
    "duration": 62,
    "start_time": "2022-04-04T20:01:49.353Z"
   },
   {
    "duration": 8,
    "start_time": "2022-04-04T20:01:49.417Z"
   },
   {
    "duration": 18,
    "start_time": "2022-04-04T20:01:49.427Z"
   },
   {
    "duration": 62,
    "start_time": "2022-04-04T20:01:49.447Z"
   },
   {
    "duration": 332,
    "start_time": "2022-04-04T20:01:49.511Z"
   },
   {
    "duration": 10,
    "start_time": "2022-04-04T20:01:49.846Z"
   },
   {
    "duration": 31,
    "start_time": "2022-04-04T20:01:49.858Z"
   },
   {
    "duration": 20,
    "start_time": "2022-04-04T20:01:49.896Z"
   },
   {
    "duration": 11,
    "start_time": "2022-04-04T20:01:49.918Z"
   },
   {
    "duration": 14,
    "start_time": "2022-04-04T20:01:49.932Z"
   },
   {
    "duration": 16,
    "start_time": "2022-04-04T20:01:49.949Z"
   },
   {
    "duration": 8,
    "start_time": "2022-04-04T20:02:21.621Z"
   },
   {
    "duration": 12,
    "start_time": "2022-04-04T20:04:29.941Z"
   },
   {
    "duration": 12,
    "start_time": "2022-04-04T20:06:02.404Z"
   },
   {
    "duration": 12,
    "start_time": "2022-04-04T20:06:09.865Z"
   },
   {
    "duration": 395,
    "start_time": "2022-04-04T20:16:55.674Z"
   },
   {
    "duration": 835,
    "start_time": "2022-04-04T20:18:06.733Z"
   },
   {
    "duration": 383,
    "start_time": "2022-04-04T20:18:40.329Z"
   },
   {
    "duration": 591,
    "start_time": "2022-04-04T20:19:54.225Z"
   },
   {
    "duration": 380,
    "start_time": "2022-04-04T20:21:03.150Z"
   },
   {
    "duration": 378,
    "start_time": "2022-04-04T20:21:10.361Z"
   },
   {
    "duration": 482,
    "start_time": "2022-04-04T20:21:15.593Z"
   },
   {
    "duration": 421,
    "start_time": "2022-04-04T20:22:04.891Z"
   },
   {
    "duration": 377,
    "start_time": "2022-04-04T20:22:26.736Z"
   },
   {
    "duration": 376,
    "start_time": "2022-04-04T20:22:40.816Z"
   },
   {
    "duration": 393,
    "start_time": "2022-04-04T20:24:32.505Z"
   },
   {
    "duration": 468,
    "start_time": "2022-04-04T20:24:42.137Z"
   },
   {
    "duration": 381,
    "start_time": "2022-04-04T20:25:01.685Z"
   },
   {
    "duration": 465,
    "start_time": "2022-04-04T20:25:06.365Z"
   },
   {
    "duration": 358,
    "start_time": "2022-04-04T20:25:26.693Z"
   },
   {
    "duration": 392,
    "start_time": "2022-04-04T20:26:00.047Z"
   },
   {
    "duration": 384,
    "start_time": "2022-04-04T20:26:33.157Z"
   },
   {
    "duration": 389,
    "start_time": "2022-04-04T20:26:39.273Z"
   },
   {
    "duration": 195,
    "start_time": "2022-04-04T20:29:34.497Z"
   },
   {
    "duration": 197,
    "start_time": "2022-04-04T20:29:54.450Z"
   },
   {
    "duration": 194,
    "start_time": "2022-04-04T20:30:32.209Z"
   },
   {
    "duration": 382,
    "start_time": "2022-04-04T20:30:51.621Z"
   },
   {
    "duration": 532,
    "start_time": "2022-04-04T20:31:04.033Z"
   },
   {
    "duration": 414,
    "start_time": "2022-04-04T20:31:41.921Z"
   },
   {
    "duration": 190,
    "start_time": "2022-04-04T20:31:58.813Z"
   },
   {
    "duration": 374,
    "start_time": "2022-04-04T20:32:16.401Z"
   },
   {
    "duration": 362,
    "start_time": "2022-04-04T20:34:11.325Z"
   },
   {
    "duration": 374,
    "start_time": "2022-04-04T20:34:44.473Z"
   },
   {
    "duration": 366,
    "start_time": "2022-04-04T20:36:43.621Z"
   },
   {
    "duration": 380,
    "start_time": "2022-04-04T20:37:12.673Z"
   },
   {
    "duration": 166,
    "start_time": "2022-04-04T20:37:33.021Z"
   },
   {
    "duration": 160,
    "start_time": "2022-04-04T20:37:37.885Z"
   },
   {
    "duration": 143,
    "start_time": "2022-04-04T20:37:49.885Z"
   },
   {
    "duration": 595,
    "start_time": "2022-04-04T20:38:02.485Z"
   },
   {
    "duration": 411,
    "start_time": "2022-04-04T20:39:01.696Z"
   },
   {
    "duration": 400,
    "start_time": "2022-04-04T20:40:23.198Z"
   },
   {
    "duration": 415,
    "start_time": "2022-04-04T20:42:03.045Z"
   },
   {
    "duration": 256,
    "start_time": "2022-04-04T20:42:16.453Z"
   },
   {
    "duration": 393,
    "start_time": "2022-04-04T20:42:29.052Z"
   },
   {
    "duration": 362,
    "start_time": "2022-04-04T20:42:43.202Z"
   },
   {
    "duration": 17,
    "start_time": "2022-04-04T20:43:08.221Z"
   },
   {
    "duration": 381,
    "start_time": "2022-04-04T20:43:15.169Z"
   },
   {
    "duration": 387,
    "start_time": "2022-04-04T20:43:27.217Z"
   },
   {
    "duration": 33,
    "start_time": "2022-04-04T20:46:22.961Z"
   },
   {
    "duration": 144,
    "start_time": "2022-04-04T20:48:29.513Z"
   },
   {
    "duration": 386,
    "start_time": "2022-04-04T20:48:37.701Z"
   },
   {
    "duration": 381,
    "start_time": "2022-04-04T20:48:49.865Z"
   },
   {
    "duration": 383,
    "start_time": "2022-04-04T20:48:59.012Z"
   },
   {
    "duration": 391,
    "start_time": "2022-04-04T20:49:26.361Z"
   },
   {
    "duration": 394,
    "start_time": "2022-04-04T20:50:25.593Z"
   },
   {
    "duration": 469,
    "start_time": "2022-04-04T20:53:44.217Z"
   },
   {
    "duration": 382,
    "start_time": "2022-04-04T20:55:42.649Z"
   },
   {
    "duration": 360,
    "start_time": "2022-04-04T20:56:19.409Z"
   },
   {
    "duration": 359,
    "start_time": "2022-04-04T20:56:29.760Z"
   },
   {
    "duration": 361,
    "start_time": "2022-04-04T20:56:39.909Z"
   },
   {
    "duration": 31,
    "start_time": "2022-04-04T20:57:55.085Z"
   },
   {
    "duration": 373,
    "start_time": "2022-04-04T21:01:44.329Z"
   },
   {
    "duration": 31,
    "start_time": "2022-04-04T21:02:26.601Z"
   },
   {
    "duration": 49,
    "start_time": "2022-04-05T08:28:49.361Z"
   },
   {
    "duration": 1294,
    "start_time": "2022-04-05T08:29:06.062Z"
   },
   {
    "duration": 456,
    "start_time": "2022-04-05T08:29:07.358Z"
   },
   {
    "duration": 3,
    "start_time": "2022-04-05T08:29:07.815Z"
   },
   {
    "duration": 428,
    "start_time": "2022-04-05T08:29:07.820Z"
   },
   {
    "duration": 91,
    "start_time": "2022-04-05T08:29:08.250Z"
   },
   {
    "duration": 19,
    "start_time": "2022-04-05T08:29:08.343Z"
   },
   {
    "duration": 4,
    "start_time": "2022-04-05T08:29:08.363Z"
   },
   {
    "duration": 13,
    "start_time": "2022-04-05T08:29:08.369Z"
   },
   {
    "duration": 24,
    "start_time": "2022-04-05T08:29:08.383Z"
   },
   {
    "duration": 25,
    "start_time": "2022-04-05T08:29:08.410Z"
   },
   {
    "duration": 8,
    "start_time": "2022-04-05T08:29:08.436Z"
   },
   {
    "duration": 57,
    "start_time": "2022-04-05T08:29:08.445Z"
   },
   {
    "duration": 15,
    "start_time": "2022-04-05T08:29:08.503Z"
   },
   {
    "duration": 29,
    "start_time": "2022-04-05T08:29:08.519Z"
   },
   {
    "duration": 17,
    "start_time": "2022-04-05T08:29:08.550Z"
   },
   {
    "duration": 9,
    "start_time": "2022-04-05T08:29:08.568Z"
   },
   {
    "duration": 52,
    "start_time": "2022-04-05T08:29:08.578Z"
   },
   {
    "duration": 21,
    "start_time": "2022-04-05T08:29:08.631Z"
   },
   {
    "duration": 23,
    "start_time": "2022-04-05T08:29:08.654Z"
   },
   {
    "duration": 25,
    "start_time": "2022-04-05T08:29:08.679Z"
   },
   {
    "duration": 27,
    "start_time": "2022-04-05T08:29:08.706Z"
   },
   {
    "duration": 9,
    "start_time": "2022-04-05T08:29:08.735Z"
   },
   {
    "duration": 5,
    "start_time": "2022-04-05T08:29:08.746Z"
   },
   {
    "duration": 6,
    "start_time": "2022-04-05T08:29:08.753Z"
   },
   {
    "duration": 48,
    "start_time": "2022-04-05T08:29:08.760Z"
   },
   {
    "duration": 8,
    "start_time": "2022-04-05T08:29:08.809Z"
   },
   {
    "duration": 194,
    "start_time": "2022-04-05T08:29:08.818Z"
   },
   {
    "duration": 13,
    "start_time": "2022-04-05T08:29:09.015Z"
   },
   {
    "duration": 4,
    "start_time": "2022-04-05T08:29:09.029Z"
   },
   {
    "duration": 208,
    "start_time": "2022-04-05T08:29:09.034Z"
   },
   {
    "duration": 225,
    "start_time": "2022-04-05T08:29:09.244Z"
   },
   {
    "duration": 4,
    "start_time": "2022-04-05T08:29:09.470Z"
   },
   {
    "duration": 30,
    "start_time": "2022-04-05T08:29:09.475Z"
   },
   {
    "duration": 183,
    "start_time": "2022-04-05T08:29:09.507Z"
   },
   {
    "duration": 215,
    "start_time": "2022-04-05T08:29:09.692Z"
   },
   {
    "duration": 21,
    "start_time": "2022-04-05T08:29:09.909Z"
   },
   {
    "duration": 293,
    "start_time": "2022-04-05T08:29:09.931Z"
   },
   {
    "duration": 225,
    "start_time": "2022-04-05T08:29:10.226Z"
   },
   {
    "duration": 20,
    "start_time": "2022-04-05T08:29:10.453Z"
   },
   {
    "duration": 37,
    "start_time": "2022-04-05T08:29:10.474Z"
   },
   {
    "duration": 6,
    "start_time": "2022-04-05T08:29:10.512Z"
   },
   {
    "duration": 5,
    "start_time": "2022-04-05T08:29:10.520Z"
   },
   {
    "duration": 20,
    "start_time": "2022-04-05T08:29:10.526Z"
   },
   {
    "duration": 205,
    "start_time": "2022-04-05T08:29:10.548Z"
   },
   {
    "duration": 6,
    "start_time": "2022-04-05T08:29:10.754Z"
   },
   {
    "duration": 7,
    "start_time": "2022-04-05T08:29:10.762Z"
   },
   {
    "duration": 9,
    "start_time": "2022-04-05T08:29:10.771Z"
   },
   {
    "duration": 20,
    "start_time": "2022-04-05T08:29:10.781Z"
   },
   {
    "duration": 6,
    "start_time": "2022-04-05T08:29:10.803Z"
   },
   {
    "duration": 4,
    "start_time": "2022-04-05T08:29:10.811Z"
   },
   {
    "duration": 301,
    "start_time": "2022-04-05T08:32:10.886Z"
   },
   {
    "duration": 198,
    "start_time": "2022-04-05T08:32:16.794Z"
   },
   {
    "duration": 273,
    "start_time": "2022-04-05T08:46:51.465Z"
   },
   {
    "duration": 242,
    "start_time": "2022-04-05T09:21:35.465Z"
   },
   {
    "duration": 32,
    "start_time": "2022-04-05T09:26:00.703Z"
   },
   {
    "duration": 169,
    "start_time": "2022-04-05T09:26:47.997Z"
   },
   {
    "duration": 190,
    "start_time": "2022-04-05T09:26:52.453Z"
   },
   {
    "duration": 221,
    "start_time": "2022-04-05T09:33:03.629Z"
   },
   {
    "duration": 206,
    "start_time": "2022-04-05T09:33:26.561Z"
   },
   {
    "duration": 173,
    "start_time": "2022-04-05T09:34:30.641Z"
   },
   {
    "duration": 5,
    "start_time": "2022-04-05T09:34:42.949Z"
   },
   {
    "duration": 360,
    "start_time": "2022-04-05T09:37:07.093Z"
   },
   {
    "duration": 20,
    "start_time": "2022-04-05T09:38:39.549Z"
   },
   {
    "duration": 4,
    "start_time": "2022-04-05T09:57:00.530Z"
   },
   {
    "duration": 5,
    "start_time": "2022-04-05T09:57:34.212Z"
   },
   {
    "duration": 8,
    "start_time": "2022-04-05T09:58:07.125Z"
   },
   {
    "duration": 207,
    "start_time": "2022-04-05T10:50:46.817Z"
   },
   {
    "duration": 209,
    "start_time": "2022-04-05T10:50:54.763Z"
   },
   {
    "duration": 208,
    "start_time": "2022-04-05T10:51:05.075Z"
   },
   {
    "duration": 18,
    "start_time": "2022-04-05T10:54:02.545Z"
   },
   {
    "duration": 17,
    "start_time": "2022-04-05T10:55:29.855Z"
   },
   {
    "duration": 204,
    "start_time": "2022-04-05T10:56:05.707Z"
   },
   {
    "duration": 4415,
    "start_time": "2022-04-05T10:56:10.355Z"
   },
   {
    "duration": 8,
    "start_time": "2022-04-05T10:56:32.180Z"
   },
   {
    "duration": 9,
    "start_time": "2022-04-05T10:56:48.007Z"
   },
   {
    "duration": 649,
    "start_time": "2022-04-05T10:57:33.895Z"
   },
   {
    "duration": 325,
    "start_time": "2022-04-05T10:57:40.139Z"
   },
   {
    "duration": 316,
    "start_time": "2022-04-05T10:57:49.212Z"
   },
   {
    "duration": 8,
    "start_time": "2022-04-05T10:58:09.456Z"
   },
   {
    "duration": 12,
    "start_time": "2022-04-05T10:58:19.671Z"
   },
   {
    "duration": 13,
    "start_time": "2022-04-05T10:58:28.295Z"
   },
   {
    "duration": 169,
    "start_time": "2022-04-05T10:59:53.300Z"
   },
   {
    "duration": 226,
    "start_time": "2022-04-05T11:01:06.400Z"
   },
   {
    "duration": 150,
    "start_time": "2022-04-05T11:01:26.572Z"
   },
   {
    "duration": 8,
    "start_time": "2022-04-05T11:01:43.196Z"
   },
   {
    "duration": 168,
    "start_time": "2022-04-05T11:01:47.296Z"
   },
   {
    "duration": 426,
    "start_time": "2022-04-05T11:04:15.201Z"
   },
   {
    "duration": 273,
    "start_time": "2022-04-05T11:04:41.068Z"
   },
   {
    "duration": 159,
    "start_time": "2022-04-05T11:05:33.123Z"
   },
   {
    "duration": 165,
    "start_time": "2022-04-05T11:06:36.736Z"
   },
   {
    "duration": 168,
    "start_time": "2022-04-05T11:06:49.424Z"
   },
   {
    "duration": 177,
    "start_time": "2022-04-05T11:07:37.368Z"
   },
   {
    "duration": 343,
    "start_time": "2022-04-05T11:07:44.880Z"
   },
   {
    "duration": 182,
    "start_time": "2022-04-05T11:08:36.520Z"
   },
   {
    "duration": 1132,
    "start_time": "2022-04-05T11:13:55.514Z"
   },
   {
    "duration": 515,
    "start_time": "2022-04-05T11:13:56.648Z"
   },
   {
    "duration": 3,
    "start_time": "2022-04-05T11:13:57.165Z"
   },
   {
    "duration": 392,
    "start_time": "2022-04-05T11:13:57.170Z"
   },
   {
    "duration": 82,
    "start_time": "2022-04-05T11:13:57.563Z"
   },
   {
    "duration": 17,
    "start_time": "2022-04-05T11:13:57.647Z"
   },
   {
    "duration": 4,
    "start_time": "2022-04-05T11:13:57.665Z"
   },
   {
    "duration": 7,
    "start_time": "2022-04-05T11:13:57.670Z"
   },
   {
    "duration": 24,
    "start_time": "2022-04-05T11:13:57.679Z"
   },
   {
    "duration": 25,
    "start_time": "2022-04-05T11:13:57.705Z"
   },
   {
    "duration": 8,
    "start_time": "2022-04-05T11:13:57.731Z"
   },
   {
    "duration": 36,
    "start_time": "2022-04-05T11:13:57.741Z"
   },
   {
    "duration": 15,
    "start_time": "2022-04-05T11:13:57.801Z"
   },
   {
    "duration": 26,
    "start_time": "2022-04-05T11:13:57.817Z"
   },
   {
    "duration": 17,
    "start_time": "2022-04-05T11:13:57.845Z"
   },
   {
    "duration": 9,
    "start_time": "2022-04-05T11:13:57.864Z"
   },
   {
    "duration": 27,
    "start_time": "2022-04-05T11:13:57.902Z"
   },
   {
    "duration": 21,
    "start_time": "2022-04-05T11:13:57.930Z"
   },
   {
    "duration": 24,
    "start_time": "2022-04-05T11:13:57.952Z"
   },
   {
    "duration": 6,
    "start_time": "2022-04-05T11:13:58.001Z"
   },
   {
    "duration": 23,
    "start_time": "2022-04-05T11:13:58.009Z"
   },
   {
    "duration": 8,
    "start_time": "2022-04-05T11:13:58.034Z"
   },
   {
    "duration": 7,
    "start_time": "2022-04-05T11:13:58.043Z"
   },
   {
    "duration": 12,
    "start_time": "2022-04-05T11:13:58.051Z"
   },
   {
    "duration": 38,
    "start_time": "2022-04-05T11:13:58.064Z"
   },
   {
    "duration": 8,
    "start_time": "2022-04-05T11:13:58.104Z"
   },
   {
    "duration": 190,
    "start_time": "2022-04-05T11:13:58.113Z"
   },
   {
    "duration": 11,
    "start_time": "2022-04-05T11:13:58.306Z"
   },
   {
    "duration": 2,
    "start_time": "2022-04-05T11:13:58.319Z"
   },
   {
    "duration": 6,
    "start_time": "2022-04-05T11:13:58.323Z"
   },
   {
    "duration": 5,
    "start_time": "2022-04-05T11:13:58.330Z"
   },
   {
    "duration": 202,
    "start_time": "2022-04-05T11:13:58.336Z"
   },
   {
    "duration": 229,
    "start_time": "2022-04-05T11:13:58.540Z"
   },
   {
    "duration": 3,
    "start_time": "2022-04-05T11:13:58.770Z"
   },
   {
    "duration": 31,
    "start_time": "2022-04-05T11:13:58.775Z"
   },
   {
    "duration": 183,
    "start_time": "2022-04-05T11:13:58.808Z"
   },
   {
    "duration": 205,
    "start_time": "2022-04-05T11:13:59.001Z"
   },
   {
    "duration": 21,
    "start_time": "2022-04-05T11:13:59.207Z"
   },
   {
    "duration": 201,
    "start_time": "2022-04-05T11:13:59.230Z"
   },
   {
    "duration": 213,
    "start_time": "2022-04-05T11:13:59.433Z"
   },
   {
    "duration": 21,
    "start_time": "2022-04-05T11:13:59.648Z"
   },
   {
    "duration": 6,
    "start_time": "2022-04-05T11:13:59.671Z"
   },
   {
    "duration": 283,
    "start_time": "2022-04-05T11:13:59.679Z"
   },
   {
    "duration": 20,
    "start_time": "2022-04-05T11:13:59.963Z"
   },
   {
    "duration": 34,
    "start_time": "2022-04-05T11:13:59.984Z"
   },
   {
    "duration": 26,
    "start_time": "2022-04-05T11:14:00.019Z"
   },
   {
    "duration": 9,
    "start_time": "2022-04-05T11:14:00.046Z"
   },
   {
    "duration": 9,
    "start_time": "2022-04-05T11:14:00.056Z"
   },
   {
    "duration": 23,
    "start_time": "2022-04-05T11:14:00.066Z"
   },
   {
    "duration": 6,
    "start_time": "2022-04-05T11:14:00.101Z"
   },
   {
    "duration": 11,
    "start_time": "2022-04-05T11:14:00.108Z"
   },
   {
    "duration": 8,
    "start_time": "2022-04-05T11:14:00.120Z"
   },
   {
    "duration": 1465,
    "start_time": "2022-04-06T09:40:04.457Z"
   },
   {
    "duration": 542,
    "start_time": "2022-04-06T09:40:05.925Z"
   },
   {
    "duration": 5,
    "start_time": "2022-04-06T09:40:06.469Z"
   },
   {
    "duration": 649,
    "start_time": "2022-04-06T09:40:06.476Z"
   },
   {
    "duration": 131,
    "start_time": "2022-04-06T09:40:07.128Z"
   },
   {
    "duration": 29,
    "start_time": "2022-04-06T09:40:07.262Z"
   },
   {
    "duration": 19,
    "start_time": "2022-04-06T09:40:07.293Z"
   },
   {
    "duration": 22,
    "start_time": "2022-04-06T09:40:07.314Z"
   },
   {
    "duration": 28,
    "start_time": "2022-04-06T09:40:07.338Z"
   },
   {
    "duration": 46,
    "start_time": "2022-04-06T09:40:07.368Z"
   },
   {
    "duration": 12,
    "start_time": "2022-04-06T09:40:07.416Z"
   },
   {
    "duration": 62,
    "start_time": "2022-04-06T09:40:07.430Z"
   },
   {
    "duration": 20,
    "start_time": "2022-04-06T09:40:07.494Z"
   },
   {
    "duration": 36,
    "start_time": "2022-04-06T09:40:07.519Z"
   },
   {
    "duration": 24,
    "start_time": "2022-04-06T09:40:07.574Z"
   },
   {
    "duration": 13,
    "start_time": "2022-04-06T09:40:07.600Z"
   },
   {
    "duration": 59,
    "start_time": "2022-04-06T09:40:07.616Z"
   },
   {
    "duration": 34,
    "start_time": "2022-04-06T09:40:07.677Z"
   },
   {
    "duration": 60,
    "start_time": "2022-04-06T09:40:07.713Z"
   },
   {
    "duration": 8,
    "start_time": "2022-04-06T09:40:07.775Z"
   },
   {
    "duration": 48,
    "start_time": "2022-04-06T09:40:07.785Z"
   },
   {
    "duration": 13,
    "start_time": "2022-04-06T09:40:07.836Z"
   },
   {
    "duration": 26,
    "start_time": "2022-04-06T09:40:07.851Z"
   },
   {
    "duration": 19,
    "start_time": "2022-04-06T09:40:07.879Z"
   },
   {
    "duration": 23,
    "start_time": "2022-04-06T09:40:07.901Z"
   },
   {
    "duration": 16,
    "start_time": "2022-04-06T09:40:07.926Z"
   },
   {
    "duration": 339,
    "start_time": "2022-04-06T09:40:07.944Z"
   },
   {
    "duration": 18,
    "start_time": "2022-04-06T09:40:08.286Z"
   },
   {
    "duration": 9,
    "start_time": "2022-04-06T09:40:08.307Z"
   },
   {
    "duration": 19,
    "start_time": "2022-04-06T09:40:08.318Z"
   },
   {
    "duration": 25,
    "start_time": "2022-04-06T09:40:08.339Z"
   },
   {
    "duration": 337,
    "start_time": "2022-04-06T09:40:08.367Z"
   },
   {
    "duration": 408,
    "start_time": "2022-04-06T09:40:08.706Z"
   },
   {
    "duration": 5,
    "start_time": "2022-04-06T09:40:09.117Z"
   },
   {
    "duration": 61,
    "start_time": "2022-04-06T09:40:09.123Z"
   },
   {
    "duration": 316,
    "start_time": "2022-04-06T09:40:09.186Z"
   },
   {
    "duration": 365,
    "start_time": "2022-04-06T09:40:09.504Z"
   },
   {
    "duration": 30,
    "start_time": "2022-04-06T09:40:09.874Z"
   },
   {
    "duration": 326,
    "start_time": "2022-04-06T09:40:09.906Z"
   },
   {
    "duration": 488,
    "start_time": "2022-04-06T09:40:10.234Z"
   },
   {
    "duration": 46,
    "start_time": "2022-04-06T09:40:10.727Z"
   },
   {
    "duration": 8,
    "start_time": "2022-04-06T09:40:10.775Z"
   },
   {
    "duration": 315,
    "start_time": "2022-04-06T09:40:10.785Z"
   },
   {
    "duration": 31,
    "start_time": "2022-04-06T09:40:11.102Z"
   },
   {
    "duration": 53,
    "start_time": "2022-04-06T09:40:11.135Z"
   },
   {
    "duration": 40,
    "start_time": "2022-04-06T09:40:11.190Z"
   },
   {
    "duration": 11,
    "start_time": "2022-04-06T09:40:11.232Z"
   },
   {
    "duration": 29,
    "start_time": "2022-04-06T09:40:11.245Z"
   },
   {
    "duration": 30,
    "start_time": "2022-04-06T09:40:11.276Z"
   },
   {
    "duration": 24,
    "start_time": "2022-04-06T09:40:11.308Z"
   },
   {
    "duration": 20,
    "start_time": "2022-04-06T09:40:11.334Z"
   },
   {
    "duration": 28,
    "start_time": "2022-04-06T09:40:11.357Z"
   },
   {
    "duration": 116,
    "start_time": "2022-04-06T09:41:16.755Z"
   },
   {
    "duration": 217,
    "start_time": "2022-04-06T09:42:11.406Z"
   },
   {
    "duration": 8,
    "start_time": "2022-04-06T09:42:35.507Z"
   },
   {
    "duration": 7,
    "start_time": "2022-04-06T09:42:40.966Z"
   },
   {
    "duration": 121,
    "start_time": "2022-04-06T09:43:15.888Z"
   },
   {
    "duration": 1568,
    "start_time": "2022-04-06T09:55:01.224Z"
   },
   {
    "duration": 587,
    "start_time": "2022-04-06T09:55:02.795Z"
   },
   {
    "duration": 5,
    "start_time": "2022-04-06T09:55:03.384Z"
   },
   {
    "duration": 697,
    "start_time": "2022-04-06T09:55:03.392Z"
   },
   {
    "duration": 127,
    "start_time": "2022-04-06T09:55:04.091Z"
   },
   {
    "duration": 30,
    "start_time": "2022-04-06T09:55:04.220Z"
   },
   {
    "duration": 22,
    "start_time": "2022-04-06T09:55:04.252Z"
   },
   {
    "duration": 16,
    "start_time": "2022-04-06T09:55:04.277Z"
   },
   {
    "duration": 31,
    "start_time": "2022-04-06T09:55:04.296Z"
   },
   {
    "duration": 58,
    "start_time": "2022-04-06T09:55:04.331Z"
   },
   {
    "duration": 12,
    "start_time": "2022-04-06T09:55:04.391Z"
   },
   {
    "duration": 84,
    "start_time": "2022-04-06T09:55:04.405Z"
   },
   {
    "duration": 20,
    "start_time": "2022-04-06T09:55:04.491Z"
   },
   {
    "duration": 36,
    "start_time": "2022-04-06T09:55:04.513Z"
   },
   {
    "duration": 40,
    "start_time": "2022-04-06T09:55:04.551Z"
   },
   {
    "duration": 29,
    "start_time": "2022-04-06T09:55:04.593Z"
   },
   {
    "duration": 53,
    "start_time": "2022-04-06T09:55:04.625Z"
   },
   {
    "duration": 32,
    "start_time": "2022-04-06T09:55:04.681Z"
   },
   {
    "duration": 60,
    "start_time": "2022-04-06T09:55:04.716Z"
   },
   {
    "duration": 8,
    "start_time": "2022-04-06T09:55:04.778Z"
   },
   {
    "duration": 61,
    "start_time": "2022-04-06T09:55:04.789Z"
   },
   {
    "duration": 12,
    "start_time": "2022-04-06T09:55:04.852Z"
   },
   {
    "duration": 7,
    "start_time": "2022-04-06T09:55:04.875Z"
   },
   {
    "duration": 29,
    "start_time": "2022-04-06T09:55:04.885Z"
   },
   {
    "duration": 44,
    "start_time": "2022-04-06T09:55:04.916Z"
   },
   {
    "duration": 16,
    "start_time": "2022-04-06T09:55:04.962Z"
   },
   {
    "duration": 372,
    "start_time": "2022-04-06T09:55:04.981Z"
   },
   {
    "duration": 29,
    "start_time": "2022-04-06T09:55:05.358Z"
   },
   {
    "duration": 23,
    "start_time": "2022-04-06T09:55:05.389Z"
   },
   {
    "duration": 26,
    "start_time": "2022-04-06T09:55:05.414Z"
   },
   {
    "duration": 20,
    "start_time": "2022-04-06T09:55:05.443Z"
   },
   {
    "duration": 367,
    "start_time": "2022-04-06T09:55:05.465Z"
   },
   {
    "duration": 425,
    "start_time": "2022-04-06T09:55:05.835Z"
   },
   {
    "duration": 14,
    "start_time": "2022-04-06T09:55:06.263Z"
   },
   {
    "duration": 44,
    "start_time": "2022-04-06T09:55:06.279Z"
   },
   {
    "duration": 319,
    "start_time": "2022-04-06T09:55:06.325Z"
   },
   {
    "duration": 381,
    "start_time": "2022-04-06T09:55:06.646Z"
   },
   {
    "duration": 48,
    "start_time": "2022-04-06T09:55:07.029Z"
   },
   {
    "duration": 428,
    "start_time": "2022-04-06T09:55:07.079Z"
   },
   {
    "duration": 531,
    "start_time": "2022-04-06T09:55:07.510Z"
   },
   {
    "duration": 59,
    "start_time": "2022-04-06T09:55:08.043Z"
   },
   {
    "duration": 7,
    "start_time": "2022-04-06T09:55:08.105Z"
   },
   {
    "duration": 322,
    "start_time": "2022-04-06T09:55:08.114Z"
   },
   {
    "duration": 42,
    "start_time": "2022-04-06T09:55:08.438Z"
   },
   {
    "duration": 31,
    "start_time": "2022-04-06T09:55:08.483Z"
   },
   {
    "duration": 31,
    "start_time": "2022-04-06T09:55:08.516Z"
   },
   {
    "duration": 33,
    "start_time": "2022-04-06T09:55:08.549Z"
   },
   {
    "duration": 8,
    "start_time": "2022-04-06T09:55:08.584Z"
   },
   {
    "duration": 19,
    "start_time": "2022-04-06T09:55:08.594Z"
   },
   {
    "duration": 13,
    "start_time": "2022-04-06T09:55:08.615Z"
   },
   {
    "duration": 11,
    "start_time": "2022-04-06T09:55:08.630Z"
   },
   {
    "duration": 32,
    "start_time": "2022-04-06T09:55:08.643Z"
   }
  ],
  "kernelspec": {
   "display_name": "Python 3 (ipykernel)",
   "language": "python",
   "name": "python3"
  },
  "language_info": {
   "codemirror_mode": {
    "name": "ipython",
    "version": 3
   },
   "file_extension": ".py",
   "mimetype": "text/x-python",
   "name": "python",
   "nbconvert_exporter": "python",
   "pygments_lexer": "ipython3",
   "version": "3.9.7"
  },
  "toc": {
   "base_numbering": 1,
   "nav_menu": {},
   "number_sections": true,
   "sideBar": true,
   "skip_h1_title": true,
   "title_cell": "Содержание",
   "title_sidebar": "Contents",
   "toc_cell": true,
   "toc_position": {
    "height": "calc(100% - 180px)",
    "left": "10px",
    "top": "150px",
    "width": "229.594px"
   },
   "toc_section_display": true,
   "toc_window_display": false
  }
 },
 "nbformat": 4,
 "nbformat_minor": 4
}
