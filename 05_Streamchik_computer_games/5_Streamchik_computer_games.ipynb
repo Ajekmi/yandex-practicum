{
 "cells": [
  {
   "cell_type": "markdown",
   "metadata": {
    "toc": true
   },
   "source": [
    "<h1>Содержание<span class=\"tocSkip\"></span></h1>\n",
    "<div class=\"toc\"><ul class=\"toc-item\"><li><span><a href=\"#Изучение-данных-из-файла\" data-toc-modified-id=\"Изучение-данных-из-файла-1\"><span class=\"toc-item-num\">1&nbsp;&nbsp;</span>Изучение данных из файла</a></span><ul class=\"toc-item\"><li><span><a href=\"#Вывод\" data-toc-modified-id=\"Вывод-1.1\"><span class=\"toc-item-num\">1.1&nbsp;&nbsp;</span>Вывод</a></span></li></ul></li><li><span><a href=\"#Предобработка-данных\" data-toc-modified-id=\"Предобработка-данных-2\"><span class=\"toc-item-num\">2&nbsp;&nbsp;</span>Предобработка данных</a></span><ul class=\"toc-item\"><li><span><a href=\"#Змена-регистра-столбцов\" data-toc-modified-id=\"Змена-регистра-столбцов-2.1\"><span class=\"toc-item-num\">2.1&nbsp;&nbsp;</span>Змена регистра столбцов</a></span></li><li><span><a href=\"#Обработка-пропусков\" data-toc-modified-id=\"Обработка-пропусков-2.2\"><span class=\"toc-item-num\">2.2&nbsp;&nbsp;</span>Обработка пропусков</a></span></li><li><span><a href=\"#Преобразование--в-нужные-типы-данных\" data-toc-modified-id=\"Преобразование--в-нужные-типы-данных-2.3\"><span class=\"toc-item-num\">2.3&nbsp;&nbsp;</span>Преобразование  в нужные типы данных</a></span></li><li><span><a href=\"#Вывод\" data-toc-modified-id=\"Вывод-2.4\"><span class=\"toc-item-num\">2.4&nbsp;&nbsp;</span>Вывод</a></span></li></ul></li><li><span><a href=\"#Расчёты-и-добавление-результатов-в-таблицу\" data-toc-modified-id=\"Расчёты-и-добавление-результатов-в-таблицу-3\"><span class=\"toc-item-num\">3&nbsp;&nbsp;</span>Расчёты и добавление результатов в таблицу</a></span><ul class=\"toc-item\"><li><span><a href=\"#Вывод\" data-toc-modified-id=\"Вывод-3.1\"><span class=\"toc-item-num\">3.1&nbsp;&nbsp;</span>Вывод</a></span></li></ul></li><li><span><a href=\"#Исследовательский-анализ-данных\" data-toc-modified-id=\"Исследовательский-анализ-данных-4\"><span class=\"toc-item-num\">4&nbsp;&nbsp;</span>Исследовательский анализ данных</a></span><ul class=\"toc-item\"><li><span><a href=\"#Количество-выпущенных-игр-за-исследуемый-промежуток-времени-1980---2016-гг.\" data-toc-modified-id=\"Количество-выпущенных-игр-за-исследуемый-промежуток-времени-1980---2016-гг.-4.1\"><span class=\"toc-item-num\">4.1&nbsp;&nbsp;</span>Количество выпущенных игр за исследуемый промежуток времени 1980 - 2016 гг.</a></span></li><li><span><a href=\"#Изменения-продаж-по-платформам\" data-toc-modified-id=\"Изменения-продаж-по-платформам-4.2\"><span class=\"toc-item-num\">4.2&nbsp;&nbsp;</span>Изменения продаж по платформам</a></span><ul class=\"toc-item\"><li><span><a href=\"#Изменение-продаж-по-всем-платформам\" data-toc-modified-id=\"Изменение-продаж-по-всем-платформам-4.2.1\"><span class=\"toc-item-num\">4.2.1&nbsp;&nbsp;</span>Изменение продаж по всем платформам</a></span></li><li><span><a href=\"#Изменение-продаж-по-платформам-с-наибольшими-суммарными-продажами.\" data-toc-modified-id=\"Изменение-продаж-по-платформам-с-наибольшими-суммарными-продажами.-4.2.2\"><span class=\"toc-item-num\">4.2.2&nbsp;&nbsp;</span>Изменение продаж по платформам с наибольшими суммарными продажами.</a></span></li></ul></li><li><span><a href=\"#Построение-графика-«ящик-с-усами»-по-глобальным-продажам-игр-в-разбивке-по-платформам.\" data-toc-modified-id=\"Построение-графика-«ящик-с-усами»-по-глобальным-продажам-игр-в-разбивке-по-платформам.-4.3\"><span class=\"toc-item-num\">4.3&nbsp;&nbsp;</span>Построение графика «ящик с усами» по глобальным продажам игр в разбивке по платформам.</a></span></li><li><span><a href=\"#Исследование-влияния-на-продажи-внутри-одной-популярной-платформы-отзывов-пользователей-и-критиков.-Опреденение-корреляции-между-отзывами-и-продажами.-Соотношение-выводов-с-продажами-игр-на-других-платформах.\" data-toc-modified-id=\"Исследование-влияния-на-продажи-внутри-одной-популярной-платформы-отзывов-пользователей-и-критиков.-Опреденение-корреляции-между-отзывами-и-продажами.-Соотношение-выводов-с-продажами-игр-на-других-платформах.-4.4\"><span class=\"toc-item-num\">4.4&nbsp;&nbsp;</span>Исследование влияния на продажи внутри одной популярной платформы отзывов пользователей и критиков. Опреденение корреляции между отзывами и продажами. Соотношение выводов с продажами игр на других платформах.</a></span></li><li><span><a href=\"#Исследование-общего-распределения-игр-по-жанрам.-Определение-жанров-с-высокими-и-низкими-продажами.\" data-toc-modified-id=\"Исследование-общего-распределения-игр-по-жанрам.-Определение-жанров-с-высокими-и-низкими-продажами.-4.5\"><span class=\"toc-item-num\">4.5&nbsp;&nbsp;</span>Исследование общего распределения игр по жанрам. Определение жанров с высокими и низкими продажами.</a></span></li><li><span><a href=\"#Вывод\" data-toc-modified-id=\"Вывод-4.6\"><span class=\"toc-item-num\">4.6&nbsp;&nbsp;</span>Вывод</a></span></li></ul></li><li><span><a href=\"#Портрет-пользователя-каждого-региона-(NA,-EU,-JP)\" data-toc-modified-id=\"Портрет-пользователя-каждого-региона-(NA,-EU,-JP)-5\"><span class=\"toc-item-num\">5&nbsp;&nbsp;</span>Портрет пользователя каждого региона (NA, EU, JP)</a></span><ul class=\"toc-item\"><li><span><a href=\"#Самые-популярные-платформы-(топ-5).\" data-toc-modified-id=\"Самые-популярные-платформы-(топ-5).-5.1\"><span class=\"toc-item-num\">5.1&nbsp;&nbsp;</span>Самые популярные платформы (топ-5).</a></span></li><li><span><a href=\"#Самые-популярные-жанры-(топ-5)\" data-toc-modified-id=\"Самые-популярные-жанры-(топ-5)-5.2\"><span class=\"toc-item-num\">5.2&nbsp;&nbsp;</span>Самые популярные жанры (топ-5)</a></span></li><li><span><a href=\"#Влияет-ли-рейтинг-ESRB-на-продажи-в-отдельном-регионе?\" data-toc-modified-id=\"Влияет-ли-рейтинг-ESRB-на-продажи-в-отдельном-регионе?-5.3\"><span class=\"toc-item-num\">5.3&nbsp;&nbsp;</span>Влияет ли рейтинг ESRB на продажи в отдельном регионе?</a></span></li><li><span><a href=\"#Вывод\" data-toc-modified-id=\"Вывод-5.4\"><span class=\"toc-item-num\">5.4&nbsp;&nbsp;</span>Вывод</a></span></li></ul></li><li><span><a href=\"#Проверка-гипотез\" data-toc-modified-id=\"Проверка-гипотез-6\"><span class=\"toc-item-num\">6&nbsp;&nbsp;</span>Проверка гипотез</a></span><ul class=\"toc-item\"><li><span><a href=\"#Проверка-гипотезы--о-том,-что-средние-пользовательские-рейтинги-платформ-Xbox-One-и-PC-одинаковые\" data-toc-modified-id=\"Проверка-гипотезы--о-том,-что-средние-пользовательские-рейтинги-платформ-Xbox-One-и-PC-одинаковые-6.1\"><span class=\"toc-item-num\">6.1&nbsp;&nbsp;</span>Проверка гипотезы  о том, что средние пользовательские рейтинги платформ Xbox One и PC одинаковые</a></span></li><li><span><a href=\"#Проверка-гипотезы-о-том,-что-средние-пользовательские-рейтинги-жанров-Action-и-Sports-разные\" data-toc-modified-id=\"Проверка-гипотезы-о-том,-что-средние-пользовательские-рейтинги-жанров-Action-и-Sports-разные-6.2\"><span class=\"toc-item-num\">6.2&nbsp;&nbsp;</span>Проверка гипотезы о том, что средние пользовательские рейтинги жанров Action и Sports разные</a></span></li><li><span><a href=\"#Вывод\" data-toc-modified-id=\"Вывод-6.3\"><span class=\"toc-item-num\">6.3&nbsp;&nbsp;</span>Вывод</a></span></li></ul></li><li><span><a href=\"#Общий-вывод\" data-toc-modified-id=\"Общий-вывод-7\"><span class=\"toc-item-num\">7&nbsp;&nbsp;</span>Общий вывод</a></span></li></ul></div>"
   ]
  },
  {
   "cell_type": "markdown",
   "metadata": {},
   "source": [
    "# Анализ продаж компьютерных игр\n",
    "\n",
    "Интернет-магазин «Стримчик» продаёт по всему миру компьютерные игры.\n",
    "\n",
    "**Данные:** исторические данные о выпущенных играх с продажами по регионам. Данные о продажах игр, оценки пользователей и экспертов, жанры и платформы (например, Xbox или PlayStation). \n",
    "\n",
    "Данные до 2016 года, на 2016 год могут быть неполными.  \n",
    "\n",
    "**Цель:** выявить параметры, определяющие успешность игр для дальнейшего определения перспективных и популярных продуктов, распределения рекламного бюджета на 2017 год."
   ]
  },
  {
   "cell_type": "markdown",
   "metadata": {},
   "source": [
    "## Изучение данных из файла"
   ]
  },
  {
   "cell_type": "code",
   "execution_count": 1,
   "metadata": {},
   "outputs": [],
   "source": [
    "import pandas as pd\n",
    "import numpy as np\n",
    "import matplotlib.pyplot as plt\n",
    "from scipy import stats as st\n",
    "import seaborn as sns\n",
    "pd.options.display.max_columns = 200\n",
    "pd.options.mode.chained_assignment = None  # default='warn'"
   ]
  },
  {
   "cell_type": "code",
   "execution_count": 2,
   "metadata": {},
   "outputs": [],
   "source": [
    "try:\n",
    "    data = pd.read_csv('games.csv')\n",
    "except:\n",
    "    data = pd.read_csv('/datasets/games.csv')"
   ]
  },
  {
   "cell_type": "code",
   "execution_count": 3,
   "metadata": {},
   "outputs": [],
   "source": [
    "def table_info (df):\n",
    "    print('___________ Датафрейм ____________')\n",
    "    display(df.head(10))\n",
    "    display(df.describe())\n",
    "    print('')\n",
    "    print(df.info())\n",
    "    print('Количество дубликатов: ' + str(df.duplicated().sum()))\n",
    "    print('')"
   ]
  },
  {
   "cell_type": "code",
   "execution_count": 4,
   "metadata": {},
   "outputs": [
    {
     "name": "stdout",
     "output_type": "stream",
     "text": [
      "___________ Датафрейм ____________\n"
     ]
    },
    {
     "data": {
      "text/html": [
       "<div>\n",
       "<style scoped>\n",
       "    .dataframe tbody tr th:only-of-type {\n",
       "        vertical-align: middle;\n",
       "    }\n",
       "\n",
       "    .dataframe tbody tr th {\n",
       "        vertical-align: top;\n",
       "    }\n",
       "\n",
       "    .dataframe thead th {\n",
       "        text-align: right;\n",
       "    }\n",
       "</style>\n",
       "<table border=\"1\" class=\"dataframe\">\n",
       "  <thead>\n",
       "    <tr style=\"text-align: right;\">\n",
       "      <th></th>\n",
       "      <th>Name</th>\n",
       "      <th>Platform</th>\n",
       "      <th>Year_of_Release</th>\n",
       "      <th>Genre</th>\n",
       "      <th>NA_sales</th>\n",
       "      <th>EU_sales</th>\n",
       "      <th>JP_sales</th>\n",
       "      <th>Other_sales</th>\n",
       "      <th>Critic_Score</th>\n",
       "      <th>User_Score</th>\n",
       "      <th>Rating</th>\n",
       "    </tr>\n",
       "  </thead>\n",
       "  <tbody>\n",
       "    <tr>\n",
       "      <th>0</th>\n",
       "      <td>Wii Sports</td>\n",
       "      <td>Wii</td>\n",
       "      <td>2006.0</td>\n",
       "      <td>Sports</td>\n",
       "      <td>41.36</td>\n",
       "      <td>28.96</td>\n",
       "      <td>3.77</td>\n",
       "      <td>8.45</td>\n",
       "      <td>76.0</td>\n",
       "      <td>8</td>\n",
       "      <td>E</td>\n",
       "    </tr>\n",
       "    <tr>\n",
       "      <th>1</th>\n",
       "      <td>Super Mario Bros.</td>\n",
       "      <td>NES</td>\n",
       "      <td>1985.0</td>\n",
       "      <td>Platform</td>\n",
       "      <td>29.08</td>\n",
       "      <td>3.58</td>\n",
       "      <td>6.81</td>\n",
       "      <td>0.77</td>\n",
       "      <td>NaN</td>\n",
       "      <td>NaN</td>\n",
       "      <td>NaN</td>\n",
       "    </tr>\n",
       "    <tr>\n",
       "      <th>2</th>\n",
       "      <td>Mario Kart Wii</td>\n",
       "      <td>Wii</td>\n",
       "      <td>2008.0</td>\n",
       "      <td>Racing</td>\n",
       "      <td>15.68</td>\n",
       "      <td>12.76</td>\n",
       "      <td>3.79</td>\n",
       "      <td>3.29</td>\n",
       "      <td>82.0</td>\n",
       "      <td>8.3</td>\n",
       "      <td>E</td>\n",
       "    </tr>\n",
       "    <tr>\n",
       "      <th>3</th>\n",
       "      <td>Wii Sports Resort</td>\n",
       "      <td>Wii</td>\n",
       "      <td>2009.0</td>\n",
       "      <td>Sports</td>\n",
       "      <td>15.61</td>\n",
       "      <td>10.93</td>\n",
       "      <td>3.28</td>\n",
       "      <td>2.95</td>\n",
       "      <td>80.0</td>\n",
       "      <td>8</td>\n",
       "      <td>E</td>\n",
       "    </tr>\n",
       "    <tr>\n",
       "      <th>4</th>\n",
       "      <td>Pokemon Red/Pokemon Blue</td>\n",
       "      <td>GB</td>\n",
       "      <td>1996.0</td>\n",
       "      <td>Role-Playing</td>\n",
       "      <td>11.27</td>\n",
       "      <td>8.89</td>\n",
       "      <td>10.22</td>\n",
       "      <td>1.00</td>\n",
       "      <td>NaN</td>\n",
       "      <td>NaN</td>\n",
       "      <td>NaN</td>\n",
       "    </tr>\n",
       "    <tr>\n",
       "      <th>5</th>\n",
       "      <td>Tetris</td>\n",
       "      <td>GB</td>\n",
       "      <td>1989.0</td>\n",
       "      <td>Puzzle</td>\n",
       "      <td>23.20</td>\n",
       "      <td>2.26</td>\n",
       "      <td>4.22</td>\n",
       "      <td>0.58</td>\n",
       "      <td>NaN</td>\n",
       "      <td>NaN</td>\n",
       "      <td>NaN</td>\n",
       "    </tr>\n",
       "    <tr>\n",
       "      <th>6</th>\n",
       "      <td>New Super Mario Bros.</td>\n",
       "      <td>DS</td>\n",
       "      <td>2006.0</td>\n",
       "      <td>Platform</td>\n",
       "      <td>11.28</td>\n",
       "      <td>9.14</td>\n",
       "      <td>6.50</td>\n",
       "      <td>2.88</td>\n",
       "      <td>89.0</td>\n",
       "      <td>8.5</td>\n",
       "      <td>E</td>\n",
       "    </tr>\n",
       "    <tr>\n",
       "      <th>7</th>\n",
       "      <td>Wii Play</td>\n",
       "      <td>Wii</td>\n",
       "      <td>2006.0</td>\n",
       "      <td>Misc</td>\n",
       "      <td>13.96</td>\n",
       "      <td>9.18</td>\n",
       "      <td>2.93</td>\n",
       "      <td>2.84</td>\n",
       "      <td>58.0</td>\n",
       "      <td>6.6</td>\n",
       "      <td>E</td>\n",
       "    </tr>\n",
       "    <tr>\n",
       "      <th>8</th>\n",
       "      <td>New Super Mario Bros. Wii</td>\n",
       "      <td>Wii</td>\n",
       "      <td>2009.0</td>\n",
       "      <td>Platform</td>\n",
       "      <td>14.44</td>\n",
       "      <td>6.94</td>\n",
       "      <td>4.70</td>\n",
       "      <td>2.24</td>\n",
       "      <td>87.0</td>\n",
       "      <td>8.4</td>\n",
       "      <td>E</td>\n",
       "    </tr>\n",
       "    <tr>\n",
       "      <th>9</th>\n",
       "      <td>Duck Hunt</td>\n",
       "      <td>NES</td>\n",
       "      <td>1984.0</td>\n",
       "      <td>Shooter</td>\n",
       "      <td>26.93</td>\n",
       "      <td>0.63</td>\n",
       "      <td>0.28</td>\n",
       "      <td>0.47</td>\n",
       "      <td>NaN</td>\n",
       "      <td>NaN</td>\n",
       "      <td>NaN</td>\n",
       "    </tr>\n",
       "  </tbody>\n",
       "</table>\n",
       "</div>"
      ],
      "text/plain": [
       "                        Name Platform  Year_of_Release         Genre  \\\n",
       "0                 Wii Sports      Wii           2006.0        Sports   \n",
       "1          Super Mario Bros.      NES           1985.0      Platform   \n",
       "2             Mario Kart Wii      Wii           2008.0        Racing   \n",
       "3          Wii Sports Resort      Wii           2009.0        Sports   \n",
       "4   Pokemon Red/Pokemon Blue       GB           1996.0  Role-Playing   \n",
       "5                     Tetris       GB           1989.0        Puzzle   \n",
       "6      New Super Mario Bros.       DS           2006.0      Platform   \n",
       "7                   Wii Play      Wii           2006.0          Misc   \n",
       "8  New Super Mario Bros. Wii      Wii           2009.0      Platform   \n",
       "9                  Duck Hunt      NES           1984.0       Shooter   \n",
       "\n",
       "   NA_sales  EU_sales  JP_sales  Other_sales  Critic_Score User_Score Rating  \n",
       "0     41.36     28.96      3.77         8.45          76.0          8      E  \n",
       "1     29.08      3.58      6.81         0.77           NaN        NaN    NaN  \n",
       "2     15.68     12.76      3.79         3.29          82.0        8.3      E  \n",
       "3     15.61     10.93      3.28         2.95          80.0          8      E  \n",
       "4     11.27      8.89     10.22         1.00           NaN        NaN    NaN  \n",
       "5     23.20      2.26      4.22         0.58           NaN        NaN    NaN  \n",
       "6     11.28      9.14      6.50         2.88          89.0        8.5      E  \n",
       "7     13.96      9.18      2.93         2.84          58.0        6.6      E  \n",
       "8     14.44      6.94      4.70         2.24          87.0        8.4      E  \n",
       "9     26.93      0.63      0.28         0.47           NaN        NaN    NaN  "
      ]
     },
     "metadata": {},
     "output_type": "display_data"
    },
    {
     "data": {
      "text/html": [
       "<div>\n",
       "<style scoped>\n",
       "    .dataframe tbody tr th:only-of-type {\n",
       "        vertical-align: middle;\n",
       "    }\n",
       "\n",
       "    .dataframe tbody tr th {\n",
       "        vertical-align: top;\n",
       "    }\n",
       "\n",
       "    .dataframe thead th {\n",
       "        text-align: right;\n",
       "    }\n",
       "</style>\n",
       "<table border=\"1\" class=\"dataframe\">\n",
       "  <thead>\n",
       "    <tr style=\"text-align: right;\">\n",
       "      <th></th>\n",
       "      <th>Year_of_Release</th>\n",
       "      <th>NA_sales</th>\n",
       "      <th>EU_sales</th>\n",
       "      <th>JP_sales</th>\n",
       "      <th>Other_sales</th>\n",
       "      <th>Critic_Score</th>\n",
       "    </tr>\n",
       "  </thead>\n",
       "  <tbody>\n",
       "    <tr>\n",
       "      <th>count</th>\n",
       "      <td>16446.000000</td>\n",
       "      <td>16715.000000</td>\n",
       "      <td>16715.000000</td>\n",
       "      <td>16715.000000</td>\n",
       "      <td>16715.000000</td>\n",
       "      <td>8137.000000</td>\n",
       "    </tr>\n",
       "    <tr>\n",
       "      <th>mean</th>\n",
       "      <td>2006.484616</td>\n",
       "      <td>0.263377</td>\n",
       "      <td>0.145060</td>\n",
       "      <td>0.077617</td>\n",
       "      <td>0.047342</td>\n",
       "      <td>68.967679</td>\n",
       "    </tr>\n",
       "    <tr>\n",
       "      <th>std</th>\n",
       "      <td>5.877050</td>\n",
       "      <td>0.813604</td>\n",
       "      <td>0.503339</td>\n",
       "      <td>0.308853</td>\n",
       "      <td>0.186731</td>\n",
       "      <td>13.938165</td>\n",
       "    </tr>\n",
       "    <tr>\n",
       "      <th>min</th>\n",
       "      <td>1980.000000</td>\n",
       "      <td>0.000000</td>\n",
       "      <td>0.000000</td>\n",
       "      <td>0.000000</td>\n",
       "      <td>0.000000</td>\n",
       "      <td>13.000000</td>\n",
       "    </tr>\n",
       "    <tr>\n",
       "      <th>25%</th>\n",
       "      <td>2003.000000</td>\n",
       "      <td>0.000000</td>\n",
       "      <td>0.000000</td>\n",
       "      <td>0.000000</td>\n",
       "      <td>0.000000</td>\n",
       "      <td>60.000000</td>\n",
       "    </tr>\n",
       "    <tr>\n",
       "      <th>50%</th>\n",
       "      <td>2007.000000</td>\n",
       "      <td>0.080000</td>\n",
       "      <td>0.020000</td>\n",
       "      <td>0.000000</td>\n",
       "      <td>0.010000</td>\n",
       "      <td>71.000000</td>\n",
       "    </tr>\n",
       "    <tr>\n",
       "      <th>75%</th>\n",
       "      <td>2010.000000</td>\n",
       "      <td>0.240000</td>\n",
       "      <td>0.110000</td>\n",
       "      <td>0.040000</td>\n",
       "      <td>0.030000</td>\n",
       "      <td>79.000000</td>\n",
       "    </tr>\n",
       "    <tr>\n",
       "      <th>max</th>\n",
       "      <td>2016.000000</td>\n",
       "      <td>41.360000</td>\n",
       "      <td>28.960000</td>\n",
       "      <td>10.220000</td>\n",
       "      <td>10.570000</td>\n",
       "      <td>98.000000</td>\n",
       "    </tr>\n",
       "  </tbody>\n",
       "</table>\n",
       "</div>"
      ],
      "text/plain": [
       "       Year_of_Release      NA_sales      EU_sales      JP_sales  \\\n",
       "count     16446.000000  16715.000000  16715.000000  16715.000000   \n",
       "mean       2006.484616      0.263377      0.145060      0.077617   \n",
       "std           5.877050      0.813604      0.503339      0.308853   \n",
       "min        1980.000000      0.000000      0.000000      0.000000   \n",
       "25%        2003.000000      0.000000      0.000000      0.000000   \n",
       "50%        2007.000000      0.080000      0.020000      0.000000   \n",
       "75%        2010.000000      0.240000      0.110000      0.040000   \n",
       "max        2016.000000     41.360000     28.960000     10.220000   \n",
       "\n",
       "        Other_sales  Critic_Score  \n",
       "count  16715.000000   8137.000000  \n",
       "mean       0.047342     68.967679  \n",
       "std        0.186731     13.938165  \n",
       "min        0.000000     13.000000  \n",
       "25%        0.000000     60.000000  \n",
       "50%        0.010000     71.000000  \n",
       "75%        0.030000     79.000000  \n",
       "max       10.570000     98.000000  "
      ]
     },
     "metadata": {},
     "output_type": "display_data"
    },
    {
     "name": "stdout",
     "output_type": "stream",
     "text": [
      "\n",
      "<class 'pandas.core.frame.DataFrame'>\n",
      "RangeIndex: 16715 entries, 0 to 16714\n",
      "Data columns (total 11 columns):\n",
      " #   Column           Non-Null Count  Dtype  \n",
      "---  ------           --------------  -----  \n",
      " 0   Name             16713 non-null  object \n",
      " 1   Platform         16715 non-null  object \n",
      " 2   Year_of_Release  16446 non-null  float64\n",
      " 3   Genre            16713 non-null  object \n",
      " 4   NA_sales         16715 non-null  float64\n",
      " 5   EU_sales         16715 non-null  float64\n",
      " 6   JP_sales         16715 non-null  float64\n",
      " 7   Other_sales      16715 non-null  float64\n",
      " 8   Critic_Score     8137 non-null   float64\n",
      " 9   User_Score       10014 non-null  object \n",
      " 10  Rating           9949 non-null   object \n",
      "dtypes: float64(6), object(5)\n",
      "memory usage: 1.4+ MB\n",
      "None\n",
      "Количество дубликатов: 0\n",
      "\n"
     ]
    }
   ],
   "source": [
    "table_info(data)"
   ]
  },
  {
   "cell_type": "markdown",
   "metadata": {},
   "source": [
    "Обозначение столбцов, согласно документации к данным:\n",
    "* Name — название игры \n",
    "* Platform — платформа \n",
    "* Year_of_Release — год выпуска \n",
    "* Genre — жанр игры \n",
    "* NA_sales — продажи в Северной Америке (миллионы проданных копий) \n",
    "* EU_sales — продажи в Европе (миллионы проданных копий) \n",
    "* JP_sales — продажи в Японии (миллионы проданных копий) \n",
    "* Other_sales — продажи в других странах (миллионы проданных копий) \n",
    "* Critic_Score — оценка критиков (максимум 100) \n",
    "* User_Score — оценка пользователей (максимум 10) \n",
    "* Rating — рейтинг от организации ESRB (англ. Entertainment Software Rating Board). Эта ассоциация определяет рейтинг компьютерных игр и присваивает им подходящую возрастную категорию. "
   ]
  },
  {
   "cell_type": "markdown",
   "metadata": {},
   "source": [
    "### Вывод"
   ]
  },
  {
   "cell_type": "markdown",
   "metadata": {},
   "source": [
    "По обзору данных можно сделать первые выводы и план дальнейшей предобработки данных:\n",
    "1. Названия столбцов разного регистра - строчные буквы сочетаются с прописными.\n",
    "2. Количество значений в столбцах различается. Значит, в данных есть пропущенные значения в столбцах: Name, Year_of_Release, Genre, Critic_Score, User_Score, Rating\n",
    "3. Неподходящие типы данных для столбцов: User_Score,  Critic_Score, Year_of_Release."
   ]
  },
  {
   "cell_type": "markdown",
   "metadata": {},
   "source": [
    "## Предобработка данных"
   ]
  },
  {
   "cell_type": "markdown",
   "metadata": {},
   "source": [
    "### Змена регистра столбцов"
   ]
  },
  {
   "cell_type": "code",
   "execution_count": 5,
   "metadata": {
    "scrolled": true
   },
   "outputs": [
    {
     "name": "stdout",
     "output_type": "stream",
     "text": [
      "Index(['Name', 'Platform', 'Year_of_Release', 'Genre', 'NA_sales', 'EU_sales',\n",
      "       'JP_sales', 'Other_sales', 'Critic_Score', 'User_Score', 'Rating'],\n",
      "      dtype='object')\n"
     ]
    }
   ],
   "source": [
    "# перечень названий столбцов таблицы data\n",
    "print(data.columns)"
   ]
  },
  {
   "cell_type": "code",
   "execution_count": 6,
   "metadata": {},
   "outputs": [],
   "source": [
    "# переименование столбцов\n",
    "data.columns = map(str.lower, data.columns)\n",
    "# data.columns = data.columns.str.lower()"
   ]
  },
  {
   "cell_type": "code",
   "execution_count": 7,
   "metadata": {
    "scrolled": true
   },
   "outputs": [
    {
     "name": "stdout",
     "output_type": "stream",
     "text": [
      "Index(['name', 'platform', 'year_of_release', 'genre', 'na_sales', 'eu_sales',\n",
      "       'jp_sales', 'other_sales', 'critic_score', 'user_score', 'rating'],\n",
      "      dtype='object')\n"
     ]
    }
   ],
   "source": [
    "# проверка результатов - перечень названий столбцов\n",
    "print(data.columns)"
   ]
  },
  {
   "cell_type": "markdown",
   "metadata": {},
   "source": [
    "Замена регистра столбцов была проведена."
   ]
  },
  {
   "cell_type": "markdown",
   "metadata": {},
   "source": [
    "### Обработка пропусков"
   ]
  },
  {
   "cell_type": "markdown",
   "metadata": {},
   "source": [
    "Взглянем ещё раз на пропуски:"
   ]
  },
  {
   "cell_type": "code",
   "execution_count": 8,
   "metadata": {
    "scrolled": false
   },
   "outputs": [
    {
     "data": {
      "text/plain": [
       "name                  2\n",
       "platform              0\n",
       "year_of_release     269\n",
       "genre                 2\n",
       "na_sales              0\n",
       "eu_sales              0\n",
       "jp_sales              0\n",
       "other_sales           0\n",
       "critic_score       8578\n",
       "user_score         6701\n",
       "rating             6766\n",
       "dtype: int64"
      ]
     },
     "execution_count": 8,
     "metadata": {},
     "output_type": "execute_result"
    }
   ],
   "source": [
    "data.isna().sum()"
   ]
  },
  {
   "cell_type": "markdown",
   "metadata": {},
   "source": [
    "Изучим пропуски в столбце `name`. Посмотрим, что за строки без названия игры:"
   ]
  },
  {
   "cell_type": "code",
   "execution_count": 9,
   "metadata": {},
   "outputs": [
    {
     "data": {
      "text/html": [
       "<div>\n",
       "<style scoped>\n",
       "    .dataframe tbody tr th:only-of-type {\n",
       "        vertical-align: middle;\n",
       "    }\n",
       "\n",
       "    .dataframe tbody tr th {\n",
       "        vertical-align: top;\n",
       "    }\n",
       "\n",
       "    .dataframe thead th {\n",
       "        text-align: right;\n",
       "    }\n",
       "</style>\n",
       "<table border=\"1\" class=\"dataframe\">\n",
       "  <thead>\n",
       "    <tr style=\"text-align: right;\">\n",
       "      <th></th>\n",
       "      <th>name</th>\n",
       "      <th>platform</th>\n",
       "      <th>year_of_release</th>\n",
       "      <th>genre</th>\n",
       "      <th>na_sales</th>\n",
       "      <th>eu_sales</th>\n",
       "      <th>jp_sales</th>\n",
       "      <th>other_sales</th>\n",
       "      <th>critic_score</th>\n",
       "      <th>user_score</th>\n",
       "      <th>rating</th>\n",
       "    </tr>\n",
       "  </thead>\n",
       "  <tbody>\n",
       "    <tr>\n",
       "      <th>659</th>\n",
       "      <td>NaN</td>\n",
       "      <td>GEN</td>\n",
       "      <td>1993.0</td>\n",
       "      <td>NaN</td>\n",
       "      <td>1.78</td>\n",
       "      <td>0.53</td>\n",
       "      <td>0.00</td>\n",
       "      <td>0.08</td>\n",
       "      <td>NaN</td>\n",
       "      <td>NaN</td>\n",
       "      <td>NaN</td>\n",
       "    </tr>\n",
       "    <tr>\n",
       "      <th>14244</th>\n",
       "      <td>NaN</td>\n",
       "      <td>GEN</td>\n",
       "      <td>1993.0</td>\n",
       "      <td>NaN</td>\n",
       "      <td>0.00</td>\n",
       "      <td>0.00</td>\n",
       "      <td>0.03</td>\n",
       "      <td>0.00</td>\n",
       "      <td>NaN</td>\n",
       "      <td>NaN</td>\n",
       "      <td>NaN</td>\n",
       "    </tr>\n",
       "  </tbody>\n",
       "</table>\n",
       "</div>"
      ],
      "text/plain": [
       "      name platform  year_of_release genre  na_sales  eu_sales  jp_sales  \\\n",
       "659    NaN      GEN           1993.0   NaN      1.78      0.53      0.00   \n",
       "14244  NaN      GEN           1993.0   NaN      0.00      0.00      0.03   \n",
       "\n",
       "       other_sales  critic_score user_score rating  \n",
       "659           0.08           NaN        NaN    NaN  \n",
       "14244         0.00           NaN        NaN    NaN  "
      ]
     },
     "execution_count": 9,
     "metadata": {},
     "output_type": "execute_result"
    }
   ],
   "source": [
    "bool_series = pd.isnull(data[\"name\"]) \n",
    "data[bool_series]"
   ]
  },
  {
   "cell_type": "markdown",
   "metadata": {},
   "source": [
    "Как видно, данных в строках очень мало, удалим эти строки, заодно избавляясь от пропущенных значений в столбце `genre`."
   ]
  },
  {
   "cell_type": "code",
   "execution_count": 10,
   "metadata": {},
   "outputs": [],
   "source": [
    "data.dropna(subset=['name'], inplace=True)"
   ]
  },
  {
   "cell_type": "markdown",
   "metadata": {},
   "source": [
    "Проверим значения столбца genre:"
   ]
  },
  {
   "cell_type": "code",
   "execution_count": 11,
   "metadata": {},
   "outputs": [
    {
     "data": {
      "text/plain": [
       "Action          3369\n",
       "Sports          2348\n",
       "Misc            1750\n",
       "Role-Playing    1498\n",
       "Shooter         1323\n",
       "Adventure       1303\n",
       "Racing          1249\n",
       "Platform         888\n",
       "Simulation       873\n",
       "Fighting         849\n",
       "Strategy         683\n",
       "Puzzle           580\n",
       "Name: genre, dtype: int64"
      ]
     },
     "execution_count": 11,
     "metadata": {},
     "output_type": "execute_result"
    }
   ],
   "source": [
    "data['genre'].value_counts()"
   ]
  },
  {
   "cell_type": "markdown",
   "metadata": {},
   "source": [
    "Изучим столбец `year_of_release` с пропущенным годом выпуска:"
   ]
  },
  {
   "cell_type": "code",
   "execution_count": 12,
   "metadata": {
    "scrolled": true
   },
   "outputs": [
    {
     "data": {
      "text/html": [
       "<div>\n",
       "<style scoped>\n",
       "    .dataframe tbody tr th:only-of-type {\n",
       "        vertical-align: middle;\n",
       "    }\n",
       "\n",
       "    .dataframe tbody tr th {\n",
       "        vertical-align: top;\n",
       "    }\n",
       "\n",
       "    .dataframe thead th {\n",
       "        text-align: right;\n",
       "    }\n",
       "</style>\n",
       "<table border=\"1\" class=\"dataframe\">\n",
       "  <thead>\n",
       "    <tr style=\"text-align: right;\">\n",
       "      <th></th>\n",
       "      <th>name</th>\n",
       "      <th>platform</th>\n",
       "      <th>year_of_release</th>\n",
       "      <th>genre</th>\n",
       "      <th>na_sales</th>\n",
       "      <th>eu_sales</th>\n",
       "      <th>jp_sales</th>\n",
       "      <th>other_sales</th>\n",
       "      <th>critic_score</th>\n",
       "      <th>user_score</th>\n",
       "      <th>rating</th>\n",
       "    </tr>\n",
       "  </thead>\n",
       "  <tbody>\n",
       "    <tr>\n",
       "      <th>183</th>\n",
       "      <td>Madden NFL 2004</td>\n",
       "      <td>PS2</td>\n",
       "      <td>NaN</td>\n",
       "      <td>Sports</td>\n",
       "      <td>4.26</td>\n",
       "      <td>0.26</td>\n",
       "      <td>0.01</td>\n",
       "      <td>0.71</td>\n",
       "      <td>94.0</td>\n",
       "      <td>8.5</td>\n",
       "      <td>E</td>\n",
       "    </tr>\n",
       "    <tr>\n",
       "      <th>377</th>\n",
       "      <td>FIFA Soccer 2004</td>\n",
       "      <td>PS2</td>\n",
       "      <td>NaN</td>\n",
       "      <td>Sports</td>\n",
       "      <td>0.59</td>\n",
       "      <td>2.36</td>\n",
       "      <td>0.04</td>\n",
       "      <td>0.51</td>\n",
       "      <td>84.0</td>\n",
       "      <td>6.4</td>\n",
       "      <td>E</td>\n",
       "    </tr>\n",
       "    <tr>\n",
       "      <th>456</th>\n",
       "      <td>LEGO Batman: The Videogame</td>\n",
       "      <td>Wii</td>\n",
       "      <td>NaN</td>\n",
       "      <td>Action</td>\n",
       "      <td>1.80</td>\n",
       "      <td>0.97</td>\n",
       "      <td>0.00</td>\n",
       "      <td>0.29</td>\n",
       "      <td>74.0</td>\n",
       "      <td>7.9</td>\n",
       "      <td>E10+</td>\n",
       "    </tr>\n",
       "    <tr>\n",
       "      <th>475</th>\n",
       "      <td>wwe Smackdown vs. Raw 2006</td>\n",
       "      <td>PS2</td>\n",
       "      <td>NaN</td>\n",
       "      <td>Fighting</td>\n",
       "      <td>1.57</td>\n",
       "      <td>1.02</td>\n",
       "      <td>0.00</td>\n",
       "      <td>0.41</td>\n",
       "      <td>NaN</td>\n",
       "      <td>NaN</td>\n",
       "      <td>NaN</td>\n",
       "    </tr>\n",
       "    <tr>\n",
       "      <th>609</th>\n",
       "      <td>Space Invaders</td>\n",
       "      <td>2600</td>\n",
       "      <td>NaN</td>\n",
       "      <td>Shooter</td>\n",
       "      <td>2.36</td>\n",
       "      <td>0.14</td>\n",
       "      <td>0.00</td>\n",
       "      <td>0.03</td>\n",
       "      <td>NaN</td>\n",
       "      <td>NaN</td>\n",
       "      <td>NaN</td>\n",
       "    </tr>\n",
       "    <tr>\n",
       "      <th>...</th>\n",
       "      <td>...</td>\n",
       "      <td>...</td>\n",
       "      <td>...</td>\n",
       "      <td>...</td>\n",
       "      <td>...</td>\n",
       "      <td>...</td>\n",
       "      <td>...</td>\n",
       "      <td>...</td>\n",
       "      <td>...</td>\n",
       "      <td>...</td>\n",
       "      <td>...</td>\n",
       "    </tr>\n",
       "    <tr>\n",
       "      <th>16373</th>\n",
       "      <td>PDC World Championship Darts 2008</td>\n",
       "      <td>PSP</td>\n",
       "      <td>NaN</td>\n",
       "      <td>Sports</td>\n",
       "      <td>0.01</td>\n",
       "      <td>0.00</td>\n",
       "      <td>0.00</td>\n",
       "      <td>0.00</td>\n",
       "      <td>43.0</td>\n",
       "      <td>tbd</td>\n",
       "      <td>E10+</td>\n",
       "    </tr>\n",
       "    <tr>\n",
       "      <th>16405</th>\n",
       "      <td>Freaky Flyers</td>\n",
       "      <td>GC</td>\n",
       "      <td>NaN</td>\n",
       "      <td>Racing</td>\n",
       "      <td>0.01</td>\n",
       "      <td>0.00</td>\n",
       "      <td>0.00</td>\n",
       "      <td>0.00</td>\n",
       "      <td>69.0</td>\n",
       "      <td>6.5</td>\n",
       "      <td>T</td>\n",
       "    </tr>\n",
       "    <tr>\n",
       "      <th>16448</th>\n",
       "      <td>Inversion</td>\n",
       "      <td>PC</td>\n",
       "      <td>NaN</td>\n",
       "      <td>Shooter</td>\n",
       "      <td>0.01</td>\n",
       "      <td>0.00</td>\n",
       "      <td>0.00</td>\n",
       "      <td>0.00</td>\n",
       "      <td>59.0</td>\n",
       "      <td>6.7</td>\n",
       "      <td>M</td>\n",
       "    </tr>\n",
       "    <tr>\n",
       "      <th>16458</th>\n",
       "      <td>Hakuouki: Shinsengumi Kitan</td>\n",
       "      <td>PS3</td>\n",
       "      <td>NaN</td>\n",
       "      <td>Adventure</td>\n",
       "      <td>0.01</td>\n",
       "      <td>0.00</td>\n",
       "      <td>0.00</td>\n",
       "      <td>0.00</td>\n",
       "      <td>NaN</td>\n",
       "      <td>NaN</td>\n",
       "      <td>NaN</td>\n",
       "    </tr>\n",
       "    <tr>\n",
       "      <th>16522</th>\n",
       "      <td>Virtua Quest</td>\n",
       "      <td>GC</td>\n",
       "      <td>NaN</td>\n",
       "      <td>Role-Playing</td>\n",
       "      <td>0.01</td>\n",
       "      <td>0.00</td>\n",
       "      <td>0.00</td>\n",
       "      <td>0.00</td>\n",
       "      <td>55.0</td>\n",
       "      <td>5.5</td>\n",
       "      <td>T</td>\n",
       "    </tr>\n",
       "  </tbody>\n",
       "</table>\n",
       "<p>269 rows × 11 columns</p>\n",
       "</div>"
      ],
      "text/plain": [
       "                                    name platform  year_of_release  \\\n",
       "183                      Madden NFL 2004      PS2              NaN   \n",
       "377                     FIFA Soccer 2004      PS2              NaN   \n",
       "456           LEGO Batman: The Videogame      Wii              NaN   \n",
       "475           wwe Smackdown vs. Raw 2006      PS2              NaN   \n",
       "609                       Space Invaders     2600              NaN   \n",
       "...                                  ...      ...              ...   \n",
       "16373  PDC World Championship Darts 2008      PSP              NaN   \n",
       "16405                      Freaky Flyers       GC              NaN   \n",
       "16448                          Inversion       PC              NaN   \n",
       "16458        Hakuouki: Shinsengumi Kitan      PS3              NaN   \n",
       "16522                       Virtua Quest       GC              NaN   \n",
       "\n",
       "              genre  na_sales  eu_sales  jp_sales  other_sales  critic_score  \\\n",
       "183          Sports      4.26      0.26      0.01         0.71          94.0   \n",
       "377          Sports      0.59      2.36      0.04         0.51          84.0   \n",
       "456          Action      1.80      0.97      0.00         0.29          74.0   \n",
       "475        Fighting      1.57      1.02      0.00         0.41           NaN   \n",
       "609         Shooter      2.36      0.14      0.00         0.03           NaN   \n",
       "...             ...       ...       ...       ...          ...           ...   \n",
       "16373        Sports      0.01      0.00      0.00         0.00          43.0   \n",
       "16405        Racing      0.01      0.00      0.00         0.00          69.0   \n",
       "16448       Shooter      0.01      0.00      0.00         0.00          59.0   \n",
       "16458     Adventure      0.01      0.00      0.00         0.00           NaN   \n",
       "16522  Role-Playing      0.01      0.00      0.00         0.00          55.0   \n",
       "\n",
       "      user_score rating  \n",
       "183          8.5      E  \n",
       "377          6.4      E  \n",
       "456          7.9   E10+  \n",
       "475          NaN    NaN  \n",
       "609          NaN    NaN  \n",
       "...          ...    ...  \n",
       "16373        tbd   E10+  \n",
       "16405        6.5      T  \n",
       "16448        6.7      M  \n",
       "16458        NaN    NaN  \n",
       "16522        5.5      T  \n",
       "\n",
       "[269 rows x 11 columns]"
      ]
     },
     "execution_count": 12,
     "metadata": {},
     "output_type": "execute_result"
    }
   ],
   "source": [
    "bool_series = pd.isnull(data[\"year_of_release\"]) \n",
    "data[bool_series]"
   ]
  },
  {
   "cell_type": "code",
   "execution_count": 13,
   "metadata": {},
   "outputs": [
    {
     "name": "stdout",
     "output_type": "stream",
     "text": [
      " Доля пропущенных значений 1.6%\n"
     ]
    }
   ],
   "source": [
    "part_missing_year_of_release = data['year_of_release'].isna().mean()\n",
    "print(' Доля пропущенных значений {:.1%}'.format(part_missing_year_of_release))"
   ]
  },
  {
   "cell_type": "markdown",
   "metadata": {},
   "source": [
    "Доля пропущенных значений 1.6%, поэтому эти данные мы можем удалить, с учетом того, что в дальнейшем при выборе актуального года, большая часть данных нам будет не нужна и следовательно потеря данных для нашего исследования явно будет меньше 1.6%."
   ]
  },
  {
   "cell_type": "code",
   "execution_count": 14,
   "metadata": {},
   "outputs": [],
   "source": [
    "data = data.dropna(subset = ['year_of_release'])"
   ]
  },
  {
   "cell_type": "markdown",
   "metadata": {},
   "source": [
    "Проверяем остальные интересующие нас столбцы:"
   ]
  },
  {
   "cell_type": "code",
   "execution_count": 15,
   "metadata": {
    "scrolled": false
   },
   "outputs": [
    {
     "data": {
      "text/plain": [
       "E       3921\n",
       "T       2905\n",
       "M       1536\n",
       "E10+    1393\n",
       "EC         8\n",
       "K-A        3\n",
       "AO         1\n",
       "RP         1\n",
       "Name: rating, dtype: int64"
      ]
     },
     "execution_count": 15,
     "metadata": {},
     "output_type": "execute_result"
    }
   ],
   "source": [
    "data['rating'].value_counts()"
   ]
  },
  {
   "cell_type": "code",
   "execution_count": 16,
   "metadata": {},
   "outputs": [
    {
     "name": "stdout",
     "output_type": "stream",
     "text": [
      " Доля пропущенных значений rating 40.6%\n"
     ]
    }
   ],
   "source": [
    "part_missing_rating = data['rating'].isna().mean()\n",
    "print(' Доля пропущенных значений rating {:.1%}'.format(part_missing_rating))"
   ]
  },
  {
   "cell_type": "markdown",
   "metadata": {},
   "source": [
    "Выведем несколько строк с пропущенными значениями в столбце rating:"
   ]
  },
  {
   "cell_type": "code",
   "execution_count": 17,
   "metadata": {
    "scrolled": true
   },
   "outputs": [
    {
     "data": {
      "text/html": [
       "<div>\n",
       "<style scoped>\n",
       "    .dataframe tbody tr th:only-of-type {\n",
       "        vertical-align: middle;\n",
       "    }\n",
       "\n",
       "    .dataframe tbody tr th {\n",
       "        vertical-align: top;\n",
       "    }\n",
       "\n",
       "    .dataframe thead th {\n",
       "        text-align: right;\n",
       "    }\n",
       "</style>\n",
       "<table border=\"1\" class=\"dataframe\">\n",
       "  <thead>\n",
       "    <tr style=\"text-align: right;\">\n",
       "      <th></th>\n",
       "      <th>name</th>\n",
       "      <th>platform</th>\n",
       "      <th>year_of_release</th>\n",
       "      <th>genre</th>\n",
       "      <th>na_sales</th>\n",
       "      <th>eu_sales</th>\n",
       "      <th>jp_sales</th>\n",
       "      <th>other_sales</th>\n",
       "      <th>critic_score</th>\n",
       "      <th>user_score</th>\n",
       "      <th>rating</th>\n",
       "    </tr>\n",
       "  </thead>\n",
       "  <tbody>\n",
       "    <tr>\n",
       "      <th>1</th>\n",
       "      <td>Super Mario Bros.</td>\n",
       "      <td>NES</td>\n",
       "      <td>1985.0</td>\n",
       "      <td>Platform</td>\n",
       "      <td>29.08</td>\n",
       "      <td>3.58</td>\n",
       "      <td>6.81</td>\n",
       "      <td>0.77</td>\n",
       "      <td>NaN</td>\n",
       "      <td>NaN</td>\n",
       "      <td>NaN</td>\n",
       "    </tr>\n",
       "    <tr>\n",
       "      <th>4</th>\n",
       "      <td>Pokemon Red/Pokemon Blue</td>\n",
       "      <td>GB</td>\n",
       "      <td>1996.0</td>\n",
       "      <td>Role-Playing</td>\n",
       "      <td>11.27</td>\n",
       "      <td>8.89</td>\n",
       "      <td>10.22</td>\n",
       "      <td>1.00</td>\n",
       "      <td>NaN</td>\n",
       "      <td>NaN</td>\n",
       "      <td>NaN</td>\n",
       "    </tr>\n",
       "    <tr>\n",
       "      <th>5</th>\n",
       "      <td>Tetris</td>\n",
       "      <td>GB</td>\n",
       "      <td>1989.0</td>\n",
       "      <td>Puzzle</td>\n",
       "      <td>23.20</td>\n",
       "      <td>2.26</td>\n",
       "      <td>4.22</td>\n",
       "      <td>0.58</td>\n",
       "      <td>NaN</td>\n",
       "      <td>NaN</td>\n",
       "      <td>NaN</td>\n",
       "    </tr>\n",
       "    <tr>\n",
       "      <th>9</th>\n",
       "      <td>Duck Hunt</td>\n",
       "      <td>NES</td>\n",
       "      <td>1984.0</td>\n",
       "      <td>Shooter</td>\n",
       "      <td>26.93</td>\n",
       "      <td>0.63</td>\n",
       "      <td>0.28</td>\n",
       "      <td>0.47</td>\n",
       "      <td>NaN</td>\n",
       "      <td>NaN</td>\n",
       "      <td>NaN</td>\n",
       "    </tr>\n",
       "    <tr>\n",
       "      <th>10</th>\n",
       "      <td>Nintendogs</td>\n",
       "      <td>DS</td>\n",
       "      <td>2005.0</td>\n",
       "      <td>Simulation</td>\n",
       "      <td>9.05</td>\n",
       "      <td>10.95</td>\n",
       "      <td>1.93</td>\n",
       "      <td>2.74</td>\n",
       "      <td>NaN</td>\n",
       "      <td>NaN</td>\n",
       "      <td>NaN</td>\n",
       "    </tr>\n",
       "    <tr>\n",
       "      <th>...</th>\n",
       "      <td>...</td>\n",
       "      <td>...</td>\n",
       "      <td>...</td>\n",
       "      <td>...</td>\n",
       "      <td>...</td>\n",
       "      <td>...</td>\n",
       "      <td>...</td>\n",
       "      <td>...</td>\n",
       "      <td>...</td>\n",
       "      <td>...</td>\n",
       "      <td>...</td>\n",
       "    </tr>\n",
       "    <tr>\n",
       "      <th>16710</th>\n",
       "      <td>Samurai Warriors: Sanada Maru</td>\n",
       "      <td>PS3</td>\n",
       "      <td>2016.0</td>\n",
       "      <td>Action</td>\n",
       "      <td>0.00</td>\n",
       "      <td>0.00</td>\n",
       "      <td>0.01</td>\n",
       "      <td>0.00</td>\n",
       "      <td>NaN</td>\n",
       "      <td>NaN</td>\n",
       "      <td>NaN</td>\n",
       "    </tr>\n",
       "    <tr>\n",
       "      <th>16711</th>\n",
       "      <td>LMA Manager 2007</td>\n",
       "      <td>X360</td>\n",
       "      <td>2006.0</td>\n",
       "      <td>Sports</td>\n",
       "      <td>0.00</td>\n",
       "      <td>0.01</td>\n",
       "      <td>0.00</td>\n",
       "      <td>0.00</td>\n",
       "      <td>NaN</td>\n",
       "      <td>NaN</td>\n",
       "      <td>NaN</td>\n",
       "    </tr>\n",
       "    <tr>\n",
       "      <th>16712</th>\n",
       "      <td>Haitaka no Psychedelica</td>\n",
       "      <td>PSV</td>\n",
       "      <td>2016.0</td>\n",
       "      <td>Adventure</td>\n",
       "      <td>0.00</td>\n",
       "      <td>0.00</td>\n",
       "      <td>0.01</td>\n",
       "      <td>0.00</td>\n",
       "      <td>NaN</td>\n",
       "      <td>NaN</td>\n",
       "      <td>NaN</td>\n",
       "    </tr>\n",
       "    <tr>\n",
       "      <th>16713</th>\n",
       "      <td>Spirits &amp; Spells</td>\n",
       "      <td>GBA</td>\n",
       "      <td>2003.0</td>\n",
       "      <td>Platform</td>\n",
       "      <td>0.01</td>\n",
       "      <td>0.00</td>\n",
       "      <td>0.00</td>\n",
       "      <td>0.00</td>\n",
       "      <td>NaN</td>\n",
       "      <td>NaN</td>\n",
       "      <td>NaN</td>\n",
       "    </tr>\n",
       "    <tr>\n",
       "      <th>16714</th>\n",
       "      <td>Winning Post 8 2016</td>\n",
       "      <td>PSV</td>\n",
       "      <td>2016.0</td>\n",
       "      <td>Simulation</td>\n",
       "      <td>0.00</td>\n",
       "      <td>0.00</td>\n",
       "      <td>0.01</td>\n",
       "      <td>0.00</td>\n",
       "      <td>NaN</td>\n",
       "      <td>NaN</td>\n",
       "      <td>NaN</td>\n",
       "    </tr>\n",
       "  </tbody>\n",
       "</table>\n",
       "<p>6676 rows × 11 columns</p>\n",
       "</div>"
      ],
      "text/plain": [
       "                                name platform  year_of_release         genre  \\\n",
       "1                  Super Mario Bros.      NES           1985.0      Platform   \n",
       "4           Pokemon Red/Pokemon Blue       GB           1996.0  Role-Playing   \n",
       "5                             Tetris       GB           1989.0        Puzzle   \n",
       "9                          Duck Hunt      NES           1984.0       Shooter   \n",
       "10                        Nintendogs       DS           2005.0    Simulation   \n",
       "...                              ...      ...              ...           ...   \n",
       "16710  Samurai Warriors: Sanada Maru      PS3           2016.0        Action   \n",
       "16711               LMA Manager 2007     X360           2006.0        Sports   \n",
       "16712        Haitaka no Psychedelica      PSV           2016.0     Adventure   \n",
       "16713               Spirits & Spells      GBA           2003.0      Platform   \n",
       "16714            Winning Post 8 2016      PSV           2016.0    Simulation   \n",
       "\n",
       "       na_sales  eu_sales  jp_sales  other_sales  critic_score user_score  \\\n",
       "1         29.08      3.58      6.81         0.77           NaN        NaN   \n",
       "4         11.27      8.89     10.22         1.00           NaN        NaN   \n",
       "5         23.20      2.26      4.22         0.58           NaN        NaN   \n",
       "9         26.93      0.63      0.28         0.47           NaN        NaN   \n",
       "10         9.05     10.95      1.93         2.74           NaN        NaN   \n",
       "...         ...       ...       ...          ...           ...        ...   \n",
       "16710      0.00      0.00      0.01         0.00           NaN        NaN   \n",
       "16711      0.00      0.01      0.00         0.00           NaN        NaN   \n",
       "16712      0.00      0.00      0.01         0.00           NaN        NaN   \n",
       "16713      0.01      0.00      0.00         0.00           NaN        NaN   \n",
       "16714      0.00      0.00      0.01         0.00           NaN        NaN   \n",
       "\n",
       "      rating  \n",
       "1        NaN  \n",
       "4        NaN  \n",
       "5        NaN  \n",
       "9        NaN  \n",
       "10       NaN  \n",
       "...      ...  \n",
       "16710    NaN  \n",
       "16711    NaN  \n",
       "16712    NaN  \n",
       "16713    NaN  \n",
       "16714    NaN  \n",
       "\n",
       "[6676 rows x 11 columns]"
      ]
     },
     "execution_count": 17,
     "metadata": {},
     "output_type": "execute_result"
    }
   ],
   "source": [
    "data[data['rating'].isna()==True]"
   ]
  },
  {
   "cell_type": "markdown",
   "metadata": {},
   "source": [
    "Как видно из таблицы, рейтинг пропущен в разных годах, платформах и жанрах, пропущенных значений 40,5%, поэтому удалять сейчас мы их точно не станем. Пока что не будем заполнять эти пропуски, потому что для определения влияния рейтинга ESRB на продажи в отдельном регионе нам пропуски не мешают. "
   ]
  },
  {
   "cell_type": "code",
   "execution_count": 18,
   "metadata": {},
   "outputs": [
    {
     "name": "stdout",
     "output_type": "stream",
     "text": [
      " Доля пропущенных значений critic_score 51.5%\n"
     ]
    }
   ],
   "source": [
    "print(' Доля пропущенных значений critic_score {:.1%}'.format(len(data[data['critic_score'].isnull()]) / len(data)))"
   ]
  },
  {
   "cell_type": "code",
   "execution_count": 19,
   "metadata": {},
   "outputs": [
    {
     "name": "stdout",
     "output_type": "stream",
     "text": [
      " Доля пропущенных значений user_score 40.2%\n"
     ]
    }
   ],
   "source": [
    "print(' Доля пропущенных значений user_score {:.1%}'.format(len(data[data['user_score'].isnull()]) / len(data)))"
   ]
  },
  {
   "cell_type": "markdown",
   "metadata": {},
   "source": [
    "Так как нам неизвестно больше половины данных сritic_score и user_score, их замена или удаление может исказить результаты наших исследований."
   ]
  },
  {
   "cell_type": "markdown",
   "metadata": {},
   "source": [
    "### Преобразование  в нужные типы данных"
   ]
  },
  {
   "cell_type": "markdown",
   "metadata": {},
   "source": [
    "Переведем годы выпуска в формат int:"
   ]
  },
  {
   "cell_type": "code",
   "execution_count": 20,
   "metadata": {},
   "outputs": [],
   "source": [
    "data['year_of_release'] = data['year_of_release'].astype('int')"
   ]
  },
  {
   "cell_type": "markdown",
   "metadata": {},
   "source": [
    "Столбцы сritic_score и user_score имеют тип данных object, который мы должны заменить на более логичный - float.\n",
    "\n",
    "При попытки перевести эти данные в другой формат высвечивается ошибка: could not convert string to float: 'tbd'. Мы выяснили, что это аббревиатура означает \"to be determined\" - пока не определён, значит заменим это значение на NaN. И переведем оба столбца в тип данных float."
   ]
  },
  {
   "cell_type": "code",
   "execution_count": 21,
   "metadata": {},
   "outputs": [],
   "source": [
    "data.loc[data['user_score']==\"tbd\", 'user_score']=np.nan\n",
    "data['user_score'] = data['user_score'].astype('float')"
   ]
  },
  {
   "cell_type": "code",
   "execution_count": 23,
   "metadata": {
    "scrolled": true
   },
   "outputs": [
    {
     "data": {
      "text/html": [
       "<div>\n",
       "<style scoped>\n",
       "    .dataframe tbody tr th:only-of-type {\n",
       "        vertical-align: middle;\n",
       "    }\n",
       "\n",
       "    .dataframe tbody tr th {\n",
       "        vertical-align: top;\n",
       "    }\n",
       "\n",
       "    .dataframe thead th {\n",
       "        text-align: right;\n",
       "    }\n",
       "</style>\n",
       "<table border=\"1\" class=\"dataframe\">\n",
       "  <thead>\n",
       "    <tr style=\"text-align: right;\">\n",
       "      <th></th>\n",
       "      <th>user_score</th>\n",
       "      <th>critic_score</th>\n",
       "    </tr>\n",
       "  </thead>\n",
       "  <tbody>\n",
       "    <tr>\n",
       "      <th>count</th>\n",
       "      <td>7463.000000</td>\n",
       "      <td>7983.000000</td>\n",
       "    </tr>\n",
       "    <tr>\n",
       "      <th>mean</th>\n",
       "      <td>7.126330</td>\n",
       "      <td>68.994363</td>\n",
       "    </tr>\n",
       "    <tr>\n",
       "      <th>std</th>\n",
       "      <td>1.499447</td>\n",
       "      <td>13.920060</td>\n",
       "    </tr>\n",
       "    <tr>\n",
       "      <th>min</th>\n",
       "      <td>0.000000</td>\n",
       "      <td>13.000000</td>\n",
       "    </tr>\n",
       "    <tr>\n",
       "      <th>25%</th>\n",
       "      <td>6.400000</td>\n",
       "      <td>60.000000</td>\n",
       "    </tr>\n",
       "    <tr>\n",
       "      <th>50%</th>\n",
       "      <td>7.500000</td>\n",
       "      <td>71.000000</td>\n",
       "    </tr>\n",
       "    <tr>\n",
       "      <th>75%</th>\n",
       "      <td>8.200000</td>\n",
       "      <td>79.000000</td>\n",
       "    </tr>\n",
       "    <tr>\n",
       "      <th>max</th>\n",
       "      <td>9.700000</td>\n",
       "      <td>98.000000</td>\n",
       "    </tr>\n",
       "  </tbody>\n",
       "</table>\n",
       "</div>"
      ],
      "text/plain": [
       "        user_score  critic_score\n",
       "count  7463.000000   7983.000000\n",
       "mean      7.126330     68.994363\n",
       "std       1.499447     13.920060\n",
       "min       0.000000     13.000000\n",
       "25%       6.400000     60.000000\n",
       "50%       7.500000     71.000000\n",
       "75%       8.200000     79.000000\n",
       "max       9.700000     98.000000"
      ]
     },
     "execution_count": 23,
     "metadata": {},
     "output_type": "execute_result"
    }
   ],
   "source": [
    "# Проверим столбцы user_score и critic_score, чтобы убедиться, что нет значений, выходящих за минимальные и максимальные оценки.\n",
    "data[['user_score', \"critic_score\"]].describe()"
   ]
  },
  {
   "cell_type": "code",
   "execution_count": 24,
   "metadata": {
    "scrolled": true
   },
   "outputs": [
    {
     "name": "stdout",
     "output_type": "stream",
     "text": [
      "<class 'pandas.core.frame.DataFrame'>\n",
      "Int64Index: 16444 entries, 0 to 16714\n",
      "Data columns (total 11 columns):\n",
      " #   Column           Non-Null Count  Dtype  \n",
      "---  ------           --------------  -----  \n",
      " 0   name             16444 non-null  object \n",
      " 1   platform         16444 non-null  object \n",
      " 2   year_of_release  16444 non-null  int64  \n",
      " 3   genre            16444 non-null  object \n",
      " 4   na_sales         16444 non-null  float64\n",
      " 5   eu_sales         16444 non-null  float64\n",
      " 6   jp_sales         16444 non-null  float64\n",
      " 7   other_sales      16444 non-null  float64\n",
      " 8   critic_score     7983 non-null   float64\n",
      " 9   user_score       7463 non-null   float64\n",
      " 10  rating           9768 non-null   object \n",
      "dtypes: float64(6), int64(1), object(4)\n",
      "memory usage: 1.5+ MB\n"
     ]
    }
   ],
   "source": [
    "data.info()"
   ]
  },
  {
   "cell_type": "markdown",
   "metadata": {},
   "source": [
    "### Вывод\n",
    "\n",
    "Была проведена замена регистра столбцов на нижний.\n",
    "\n",
    "Была проведена работа с пропусками:\n",
    "- В столбце name и genre были удалены одни и те же 2 строчки, т.к. их информативность и доля малы.\n",
    "- В столбце year_of_release пропущено 1.6% значений, было решено удалить эти пропуски.\n",
    "- В столбце rating пропущено 40.5% значений. Не будем удалять эти строки, потому что пропусков слишком много. \n",
    "- В столбце user_score пропущено 54.6% их замена или удаление может исказить результаты наших исследований.\n",
    "- В столбце critic_score пропущено 51.3% их замена или удаление может исказить результаты наших исследований.\n",
    "\n",
    "Были переведены данные в удобные для дальнейшей работы форматы:\n",
    "- В столбце user_score было обнаружено значение \"tbd\", которое мы заменили на NaN. \n",
    "- Столбец year_of_release был переведен в формат int.\n",
    "- Столбец user_score в формат float."
   ]
  },
  {
   "cell_type": "markdown",
   "metadata": {},
   "source": [
    "## Расчёты и добавление результатов в таблицу"
   ]
  },
  {
   "cell_type": "markdown",
   "metadata": {},
   "source": [
    "Посчитаем суммарные продажи во всех регионах и создадим для них отдельный столбец. "
   ]
  },
  {
   "cell_type": "code",
   "execution_count": 25,
   "metadata": {},
   "outputs": [
    {
     "data": {
      "text/html": [
       "<div>\n",
       "<style scoped>\n",
       "    .dataframe tbody tr th:only-of-type {\n",
       "        vertical-align: middle;\n",
       "    }\n",
       "\n",
       "    .dataframe tbody tr th {\n",
       "        vertical-align: top;\n",
       "    }\n",
       "\n",
       "    .dataframe thead th {\n",
       "        text-align: right;\n",
       "    }\n",
       "</style>\n",
       "<table border=\"1\" class=\"dataframe\">\n",
       "  <thead>\n",
       "    <tr style=\"text-align: right;\">\n",
       "      <th></th>\n",
       "      <th>name</th>\n",
       "      <th>platform</th>\n",
       "      <th>year_of_release</th>\n",
       "      <th>genre</th>\n",
       "      <th>na_sales</th>\n",
       "      <th>eu_sales</th>\n",
       "      <th>jp_sales</th>\n",
       "      <th>other_sales</th>\n",
       "      <th>critic_score</th>\n",
       "      <th>user_score</th>\n",
       "      <th>rating</th>\n",
       "      <th>sum_sales</th>\n",
       "    </tr>\n",
       "  </thead>\n",
       "  <tbody>\n",
       "    <tr>\n",
       "      <th>0</th>\n",
       "      <td>Wii Sports</td>\n",
       "      <td>Wii</td>\n",
       "      <td>2006</td>\n",
       "      <td>Sports</td>\n",
       "      <td>41.36</td>\n",
       "      <td>28.96</td>\n",
       "      <td>3.77</td>\n",
       "      <td>8.45</td>\n",
       "      <td>76.0</td>\n",
       "      <td>8.0</td>\n",
       "      <td>E</td>\n",
       "      <td>82.54</td>\n",
       "    </tr>\n",
       "    <tr>\n",
       "      <th>1</th>\n",
       "      <td>Super Mario Bros.</td>\n",
       "      <td>NES</td>\n",
       "      <td>1985</td>\n",
       "      <td>Platform</td>\n",
       "      <td>29.08</td>\n",
       "      <td>3.58</td>\n",
       "      <td>6.81</td>\n",
       "      <td>0.77</td>\n",
       "      <td>NaN</td>\n",
       "      <td>NaN</td>\n",
       "      <td>NaN</td>\n",
       "      <td>40.24</td>\n",
       "    </tr>\n",
       "    <tr>\n",
       "      <th>2</th>\n",
       "      <td>Mario Kart Wii</td>\n",
       "      <td>Wii</td>\n",
       "      <td>2008</td>\n",
       "      <td>Racing</td>\n",
       "      <td>15.68</td>\n",
       "      <td>12.76</td>\n",
       "      <td>3.79</td>\n",
       "      <td>3.29</td>\n",
       "      <td>82.0</td>\n",
       "      <td>8.3</td>\n",
       "      <td>E</td>\n",
       "      <td>35.52</td>\n",
       "    </tr>\n",
       "    <tr>\n",
       "      <th>3</th>\n",
       "      <td>Wii Sports Resort</td>\n",
       "      <td>Wii</td>\n",
       "      <td>2009</td>\n",
       "      <td>Sports</td>\n",
       "      <td>15.61</td>\n",
       "      <td>10.93</td>\n",
       "      <td>3.28</td>\n",
       "      <td>2.95</td>\n",
       "      <td>80.0</td>\n",
       "      <td>8.0</td>\n",
       "      <td>E</td>\n",
       "      <td>32.77</td>\n",
       "    </tr>\n",
       "    <tr>\n",
       "      <th>4</th>\n",
       "      <td>Pokemon Red/Pokemon Blue</td>\n",
       "      <td>GB</td>\n",
       "      <td>1996</td>\n",
       "      <td>Role-Playing</td>\n",
       "      <td>11.27</td>\n",
       "      <td>8.89</td>\n",
       "      <td>10.22</td>\n",
       "      <td>1.00</td>\n",
       "      <td>NaN</td>\n",
       "      <td>NaN</td>\n",
       "      <td>NaN</td>\n",
       "      <td>31.38</td>\n",
       "    </tr>\n",
       "    <tr>\n",
       "      <th>...</th>\n",
       "      <td>...</td>\n",
       "      <td>...</td>\n",
       "      <td>...</td>\n",
       "      <td>...</td>\n",
       "      <td>...</td>\n",
       "      <td>...</td>\n",
       "      <td>...</td>\n",
       "      <td>...</td>\n",
       "      <td>...</td>\n",
       "      <td>...</td>\n",
       "      <td>...</td>\n",
       "      <td>...</td>\n",
       "    </tr>\n",
       "    <tr>\n",
       "      <th>16710</th>\n",
       "      <td>Samurai Warriors: Sanada Maru</td>\n",
       "      <td>PS3</td>\n",
       "      <td>2016</td>\n",
       "      <td>Action</td>\n",
       "      <td>0.00</td>\n",
       "      <td>0.00</td>\n",
       "      <td>0.01</td>\n",
       "      <td>0.00</td>\n",
       "      <td>NaN</td>\n",
       "      <td>NaN</td>\n",
       "      <td>NaN</td>\n",
       "      <td>0.01</td>\n",
       "    </tr>\n",
       "    <tr>\n",
       "      <th>16711</th>\n",
       "      <td>LMA Manager 2007</td>\n",
       "      <td>X360</td>\n",
       "      <td>2006</td>\n",
       "      <td>Sports</td>\n",
       "      <td>0.00</td>\n",
       "      <td>0.01</td>\n",
       "      <td>0.00</td>\n",
       "      <td>0.00</td>\n",
       "      <td>NaN</td>\n",
       "      <td>NaN</td>\n",
       "      <td>NaN</td>\n",
       "      <td>0.01</td>\n",
       "    </tr>\n",
       "    <tr>\n",
       "      <th>16712</th>\n",
       "      <td>Haitaka no Psychedelica</td>\n",
       "      <td>PSV</td>\n",
       "      <td>2016</td>\n",
       "      <td>Adventure</td>\n",
       "      <td>0.00</td>\n",
       "      <td>0.00</td>\n",
       "      <td>0.01</td>\n",
       "      <td>0.00</td>\n",
       "      <td>NaN</td>\n",
       "      <td>NaN</td>\n",
       "      <td>NaN</td>\n",
       "      <td>0.01</td>\n",
       "    </tr>\n",
       "    <tr>\n",
       "      <th>16713</th>\n",
       "      <td>Spirits &amp; Spells</td>\n",
       "      <td>GBA</td>\n",
       "      <td>2003</td>\n",
       "      <td>Platform</td>\n",
       "      <td>0.01</td>\n",
       "      <td>0.00</td>\n",
       "      <td>0.00</td>\n",
       "      <td>0.00</td>\n",
       "      <td>NaN</td>\n",
       "      <td>NaN</td>\n",
       "      <td>NaN</td>\n",
       "      <td>0.01</td>\n",
       "    </tr>\n",
       "    <tr>\n",
       "      <th>16714</th>\n",
       "      <td>Winning Post 8 2016</td>\n",
       "      <td>PSV</td>\n",
       "      <td>2016</td>\n",
       "      <td>Simulation</td>\n",
       "      <td>0.00</td>\n",
       "      <td>0.00</td>\n",
       "      <td>0.01</td>\n",
       "      <td>0.00</td>\n",
       "      <td>NaN</td>\n",
       "      <td>NaN</td>\n",
       "      <td>NaN</td>\n",
       "      <td>0.01</td>\n",
       "    </tr>\n",
       "  </tbody>\n",
       "</table>\n",
       "<p>16444 rows × 12 columns</p>\n",
       "</div>"
      ],
      "text/plain": [
       "                                name platform  year_of_release         genre  \\\n",
       "0                         Wii Sports      Wii             2006        Sports   \n",
       "1                  Super Mario Bros.      NES             1985      Platform   \n",
       "2                     Mario Kart Wii      Wii             2008        Racing   \n",
       "3                  Wii Sports Resort      Wii             2009        Sports   \n",
       "4           Pokemon Red/Pokemon Blue       GB             1996  Role-Playing   \n",
       "...                              ...      ...              ...           ...   \n",
       "16710  Samurai Warriors: Sanada Maru      PS3             2016        Action   \n",
       "16711               LMA Manager 2007     X360             2006        Sports   \n",
       "16712        Haitaka no Psychedelica      PSV             2016     Adventure   \n",
       "16713               Spirits & Spells      GBA             2003      Platform   \n",
       "16714            Winning Post 8 2016      PSV             2016    Simulation   \n",
       "\n",
       "       na_sales  eu_sales  jp_sales  other_sales  critic_score  user_score  \\\n",
       "0         41.36     28.96      3.77         8.45          76.0         8.0   \n",
       "1         29.08      3.58      6.81         0.77           NaN         NaN   \n",
       "2         15.68     12.76      3.79         3.29          82.0         8.3   \n",
       "3         15.61     10.93      3.28         2.95          80.0         8.0   \n",
       "4         11.27      8.89     10.22         1.00           NaN         NaN   \n",
       "...         ...       ...       ...          ...           ...         ...   \n",
       "16710      0.00      0.00      0.01         0.00           NaN         NaN   \n",
       "16711      0.00      0.01      0.00         0.00           NaN         NaN   \n",
       "16712      0.00      0.00      0.01         0.00           NaN         NaN   \n",
       "16713      0.01      0.00      0.00         0.00           NaN         NaN   \n",
       "16714      0.00      0.00      0.01         0.00           NaN         NaN   \n",
       "\n",
       "      rating  sum_sales  \n",
       "0          E      82.54  \n",
       "1        NaN      40.24  \n",
       "2          E      35.52  \n",
       "3          E      32.77  \n",
       "4        NaN      31.38  \n",
       "...      ...        ...  \n",
       "16710    NaN       0.01  \n",
       "16711    NaN       0.01  \n",
       "16712    NaN       0.01  \n",
       "16713    NaN       0.01  \n",
       "16714    NaN       0.01  \n",
       "\n",
       "[16444 rows x 12 columns]"
      ]
     },
     "execution_count": 25,
     "metadata": {},
     "output_type": "execute_result"
    }
   ],
   "source": [
    "data['sum_sales'] = data[['na_sales','eu_sales','jp_sales', 'other_sales']].sum(axis = 1)\n",
    "data"
   ]
  },
  {
   "cell_type": "markdown",
   "metadata": {},
   "source": [
    "### Вывод\n",
    "\n",
    "Был добавлен новый столбец, суммирующий  продажи в Северной Америке, Европе, Японии и других странах (миллионы проданных копий)."
   ]
  },
  {
   "cell_type": "markdown",
   "metadata": {},
   "source": [
    "## Исследовательский анализ данных"
   ]
  },
  {
   "cell_type": "markdown",
   "metadata": {},
   "source": [
    "### Количество выпущенных игр за исследуемый промежуток времени 1980 - 2016 гг."
   ]
  },
  {
   "cell_type": "markdown",
   "metadata": {},
   "source": [
    "Посмотрим сколько игр выпускалось в разные годы, построим диаграмму."
   ]
  },
  {
   "cell_type": "code",
   "execution_count": 26,
   "metadata": {
    "scrolled": false
   },
   "outputs": [
    {
     "data": {
      "text/html": [
       "<div>\n",
       "<style scoped>\n",
       "    .dataframe tbody tr th:only-of-type {\n",
       "        vertical-align: middle;\n",
       "    }\n",
       "\n",
       "    .dataframe tbody tr th {\n",
       "        vertical-align: top;\n",
       "    }\n",
       "\n",
       "    .dataframe thead th {\n",
       "        text-align: right;\n",
       "    }\n",
       "</style>\n",
       "<table border=\"1\" class=\"dataframe\">\n",
       "  <thead>\n",
       "    <tr style=\"text-align: right;\">\n",
       "      <th></th>\n",
       "      <th>name</th>\n",
       "    </tr>\n",
       "    <tr>\n",
       "      <th>year_of_release</th>\n",
       "      <th></th>\n",
       "    </tr>\n",
       "  </thead>\n",
       "  <tbody>\n",
       "    <tr>\n",
       "      <th>1980</th>\n",
       "      <td>9</td>\n",
       "    </tr>\n",
       "    <tr>\n",
       "      <th>1981</th>\n",
       "      <td>46</td>\n",
       "    </tr>\n",
       "    <tr>\n",
       "      <th>1982</th>\n",
       "      <td>36</td>\n",
       "    </tr>\n",
       "    <tr>\n",
       "      <th>1983</th>\n",
       "      <td>17</td>\n",
       "    </tr>\n",
       "    <tr>\n",
       "      <th>1984</th>\n",
       "      <td>14</td>\n",
       "    </tr>\n",
       "    <tr>\n",
       "      <th>1985</th>\n",
       "      <td>14</td>\n",
       "    </tr>\n",
       "    <tr>\n",
       "      <th>1986</th>\n",
       "      <td>21</td>\n",
       "    </tr>\n",
       "    <tr>\n",
       "      <th>1987</th>\n",
       "      <td>16</td>\n",
       "    </tr>\n",
       "    <tr>\n",
       "      <th>1988</th>\n",
       "      <td>15</td>\n",
       "    </tr>\n",
       "    <tr>\n",
       "      <th>1989</th>\n",
       "      <td>17</td>\n",
       "    </tr>\n",
       "    <tr>\n",
       "      <th>1990</th>\n",
       "      <td>16</td>\n",
       "    </tr>\n",
       "    <tr>\n",
       "      <th>1991</th>\n",
       "      <td>41</td>\n",
       "    </tr>\n",
       "    <tr>\n",
       "      <th>1992</th>\n",
       "      <td>43</td>\n",
       "    </tr>\n",
       "    <tr>\n",
       "      <th>1993</th>\n",
       "      <td>60</td>\n",
       "    </tr>\n",
       "    <tr>\n",
       "      <th>1994</th>\n",
       "      <td>121</td>\n",
       "    </tr>\n",
       "    <tr>\n",
       "      <th>1995</th>\n",
       "      <td>219</td>\n",
       "    </tr>\n",
       "    <tr>\n",
       "      <th>1996</th>\n",
       "      <td>263</td>\n",
       "    </tr>\n",
       "    <tr>\n",
       "      <th>1997</th>\n",
       "      <td>289</td>\n",
       "    </tr>\n",
       "    <tr>\n",
       "      <th>1998</th>\n",
       "      <td>379</td>\n",
       "    </tr>\n",
       "    <tr>\n",
       "      <th>1999</th>\n",
       "      <td>338</td>\n",
       "    </tr>\n",
       "    <tr>\n",
       "      <th>2000</th>\n",
       "      <td>350</td>\n",
       "    </tr>\n",
       "    <tr>\n",
       "      <th>2001</th>\n",
       "      <td>482</td>\n",
       "    </tr>\n",
       "    <tr>\n",
       "      <th>2002</th>\n",
       "      <td>829</td>\n",
       "    </tr>\n",
       "    <tr>\n",
       "      <th>2003</th>\n",
       "      <td>775</td>\n",
       "    </tr>\n",
       "    <tr>\n",
       "      <th>2004</th>\n",
       "      <td>762</td>\n",
       "    </tr>\n",
       "    <tr>\n",
       "      <th>2005</th>\n",
       "      <td>939</td>\n",
       "    </tr>\n",
       "    <tr>\n",
       "      <th>2006</th>\n",
       "      <td>1006</td>\n",
       "    </tr>\n",
       "    <tr>\n",
       "      <th>2007</th>\n",
       "      <td>1197</td>\n",
       "    </tr>\n",
       "    <tr>\n",
       "      <th>2008</th>\n",
       "      <td>1427</td>\n",
       "    </tr>\n",
       "    <tr>\n",
       "      <th>2009</th>\n",
       "      <td>1426</td>\n",
       "    </tr>\n",
       "    <tr>\n",
       "      <th>2010</th>\n",
       "      <td>1255</td>\n",
       "    </tr>\n",
       "    <tr>\n",
       "      <th>2011</th>\n",
       "      <td>1136</td>\n",
       "    </tr>\n",
       "    <tr>\n",
       "      <th>2012</th>\n",
       "      <td>653</td>\n",
       "    </tr>\n",
       "    <tr>\n",
       "      <th>2013</th>\n",
       "      <td>544</td>\n",
       "    </tr>\n",
       "    <tr>\n",
       "      <th>2014</th>\n",
       "      <td>581</td>\n",
       "    </tr>\n",
       "    <tr>\n",
       "      <th>2015</th>\n",
       "      <td>606</td>\n",
       "    </tr>\n",
       "    <tr>\n",
       "      <th>2016</th>\n",
       "      <td>502</td>\n",
       "    </tr>\n",
       "  </tbody>\n",
       "</table>\n",
       "</div>"
      ],
      "text/plain": [
       "                 name\n",
       "year_of_release      \n",
       "1980                9\n",
       "1981               46\n",
       "1982               36\n",
       "1983               17\n",
       "1984               14\n",
       "1985               14\n",
       "1986               21\n",
       "1987               16\n",
       "1988               15\n",
       "1989               17\n",
       "1990               16\n",
       "1991               41\n",
       "1992               43\n",
       "1993               60\n",
       "1994              121\n",
       "1995              219\n",
       "1996              263\n",
       "1997              289\n",
       "1998              379\n",
       "1999              338\n",
       "2000              350\n",
       "2001              482\n",
       "2002              829\n",
       "2003              775\n",
       "2004              762\n",
       "2005              939\n",
       "2006             1006\n",
       "2007             1197\n",
       "2008             1427\n",
       "2009             1426\n",
       "2010             1255\n",
       "2011             1136\n",
       "2012              653\n",
       "2013              544\n",
       "2014              581\n",
       "2015              606\n",
       "2016              502"
      ]
     },
     "execution_count": 26,
     "metadata": {},
     "output_type": "execute_result"
    }
   ],
   "source": [
    "data.pivot_table(index='year_of_release', values='name', aggfunc='count')"
   ]
  },
  {
   "cell_type": "code",
   "execution_count": 27,
   "metadata": {},
   "outputs": [
    {
     "data": {
      "image/png": "[encoded data removed]",
      "text/plain": [
       "<Figure size 1080x360 with 1 Axes>"
      ]
     },
     "metadata": {
      "needs_background": "light"
     },
     "output_type": "display_data"
    }
   ],
   "source": [
    "(data.pivot_table(index='year_of_release', values='name', aggfunc='count')\n",
    " .plot(kind = 'bar',grid=True, figsize=(15, 5)))\n",
    "plt.xlabel(\"год выпуска\")\n",
    "plt.ylabel('количество игр')\n",
    "plt.title(f'Количество выпускаемых игр с 1980 по 2016 гг')\n",
    "plt.show()"
   ]
  },
  {
   "cell_type": "markdown",
   "metadata": {},
   "source": [
    "По графику можно сделать вывод, что до 1994 года количество выпущенных игр в год было существенно меньше (до 46 шт в год), после начался существенный рост выпуска игр, продолжавшийся до 2008-2009 годов (1427 шт в год), затем снова спад. \n",
    "Думаю данные до 1994 года нам нужны меньше всего. "
   ]
  },
  {
   "cell_type": "markdown",
   "metadata": {},
   "source": [
    "### Изменения продаж по платформам"
   ]
  },
  {
   "cell_type": "markdown",
   "metadata": {},
   "source": [
    "#### Изменение продаж по всем платформам"
   ]
  },
  {
   "cell_type": "markdown",
   "metadata": {},
   "source": [
    "Сделаем сводную таблицу, продаж по платформам с 1994 по 2016 гг."
   ]
  },
  {
   "cell_type": "code",
   "execution_count": 28,
   "metadata": {},
   "outputs": [
    {
     "data": {
      "text/html": [
       "<div>\n",
       "<style scoped>\n",
       "    .dataframe tbody tr th:only-of-type {\n",
       "        vertical-align: middle;\n",
       "    }\n",
       "\n",
       "    .dataframe tbody tr th {\n",
       "        vertical-align: top;\n",
       "    }\n",
       "\n",
       "    .dataframe thead th {\n",
       "        text-align: right;\n",
       "    }\n",
       "</style>\n",
       "<table border=\"1\" class=\"dataframe\">\n",
       "  <thead>\n",
       "    <tr style=\"text-align: right;\">\n",
       "      <th>platform</th>\n",
       "      <th>3DO</th>\n",
       "      <th>3DS</th>\n",
       "      <th>DC</th>\n",
       "      <th>DS</th>\n",
       "      <th>GB</th>\n",
       "      <th>GBA</th>\n",
       "      <th>GC</th>\n",
       "      <th>GEN</th>\n",
       "      <th>N64</th>\n",
       "      <th>NES</th>\n",
       "      <th>NG</th>\n",
       "      <th>PC</th>\n",
       "      <th>PCFX</th>\n",
       "      <th>PS</th>\n",
       "      <th>PS2</th>\n",
       "      <th>PS3</th>\n",
       "      <th>PS4</th>\n",
       "      <th>PSP</th>\n",
       "      <th>PSV</th>\n",
       "      <th>SAT</th>\n",
       "      <th>SCD</th>\n",
       "      <th>SNES</th>\n",
       "      <th>TG16</th>\n",
       "      <th>WS</th>\n",
       "      <th>Wii</th>\n",
       "      <th>WiiU</th>\n",
       "      <th>X360</th>\n",
       "      <th>XB</th>\n",
       "      <th>XOne</th>\n",
       "    </tr>\n",
       "    <tr>\n",
       "      <th>year_of_release</th>\n",
       "      <th></th>\n",
       "      <th></th>\n",
       "      <th></th>\n",
       "      <th></th>\n",
       "      <th></th>\n",
       "      <th></th>\n",
       "      <th></th>\n",
       "      <th></th>\n",
       "      <th></th>\n",
       "      <th></th>\n",
       "      <th></th>\n",
       "      <th></th>\n",
       "      <th></th>\n",
       "      <th></th>\n",
       "      <th></th>\n",
       "      <th></th>\n",
       "      <th></th>\n",
       "      <th></th>\n",
       "      <th></th>\n",
       "      <th></th>\n",
       "      <th></th>\n",
       "      <th></th>\n",
       "      <th></th>\n",
       "      <th></th>\n",
       "      <th></th>\n",
       "      <th></th>\n",
       "      <th></th>\n",
       "      <th></th>\n",
       "      <th></th>\n",
       "    </tr>\n",
       "  </thead>\n",
       "  <tbody>\n",
       "    <tr>\n",
       "      <th>1994</th>\n",
       "      <td>0.02</td>\n",
       "      <td>NaN</td>\n",
       "      <td>NaN</td>\n",
       "      <td>NaN</td>\n",
       "      <td>12.18</td>\n",
       "      <td>NaN</td>\n",
       "      <td>NaN</td>\n",
       "      <td>8.13</td>\n",
       "      <td>NaN</td>\n",
       "      <td>0.11</td>\n",
       "      <td>0.80</td>\n",
       "      <td>12.87</td>\n",
       "      <td>NaN</td>\n",
       "      <td>6.03</td>\n",
       "      <td>NaN</td>\n",
       "      <td>NaN</td>\n",
       "      <td>NaN</td>\n",
       "      <td>NaN</td>\n",
       "      <td>NaN</td>\n",
       "      <td>3.65</td>\n",
       "      <td>0.36</td>\n",
       "      <td>35.08</td>\n",
       "      <td>NaN</td>\n",
       "      <td>NaN</td>\n",
       "      <td>NaN</td>\n",
       "      <td>NaN</td>\n",
       "      <td>NaN</td>\n",
       "      <td>NaN</td>\n",
       "      <td>NaN</td>\n",
       "    </tr>\n",
       "    <tr>\n",
       "      <th>1995</th>\n",
       "      <td>0.08</td>\n",
       "      <td>NaN</td>\n",
       "      <td>NaN</td>\n",
       "      <td>NaN</td>\n",
       "      <td>3.60</td>\n",
       "      <td>NaN</td>\n",
       "      <td>NaN</td>\n",
       "      <td>NaN</td>\n",
       "      <td>NaN</td>\n",
       "      <td>NaN</td>\n",
       "      <td>0.33</td>\n",
       "      <td>4.22</td>\n",
       "      <td>NaN</td>\n",
       "      <td>35.96</td>\n",
       "      <td>NaN</td>\n",
       "      <td>NaN</td>\n",
       "      <td>NaN</td>\n",
       "      <td>NaN</td>\n",
       "      <td>NaN</td>\n",
       "      <td>11.57</td>\n",
       "      <td>NaN</td>\n",
       "      <td>32.20</td>\n",
       "      <td>0.16</td>\n",
       "      <td>NaN</td>\n",
       "      <td>NaN</td>\n",
       "      <td>NaN</td>\n",
       "      <td>NaN</td>\n",
       "      <td>NaN</td>\n",
       "      <td>NaN</td>\n",
       "    </tr>\n",
       "    <tr>\n",
       "      <th>1996</th>\n",
       "      <td>NaN</td>\n",
       "      <td>NaN</td>\n",
       "      <td>NaN</td>\n",
       "      <td>NaN</td>\n",
       "      <td>36.03</td>\n",
       "      <td>NaN</td>\n",
       "      <td>NaN</td>\n",
       "      <td>NaN</td>\n",
       "      <td>34.10</td>\n",
       "      <td>NaN</td>\n",
       "      <td>0.10</td>\n",
       "      <td>10.58</td>\n",
       "      <td>0.03</td>\n",
       "      <td>94.70</td>\n",
       "      <td>NaN</td>\n",
       "      <td>NaN</td>\n",
       "      <td>NaN</td>\n",
       "      <td>NaN</td>\n",
       "      <td>NaN</td>\n",
       "      <td>7.69</td>\n",
       "      <td>NaN</td>\n",
       "      <td>15.92</td>\n",
       "      <td>NaN</td>\n",
       "      <td>NaN</td>\n",
       "      <td>NaN</td>\n",
       "      <td>NaN</td>\n",
       "      <td>NaN</td>\n",
       "      <td>NaN</td>\n",
       "      <td>NaN</td>\n",
       "    </tr>\n",
       "    <tr>\n",
       "      <th>1997</th>\n",
       "      <td>NaN</td>\n",
       "      <td>NaN</td>\n",
       "      <td>NaN</td>\n",
       "      <td>NaN</td>\n",
       "      <td>6.37</td>\n",
       "      <td>NaN</td>\n",
       "      <td>NaN</td>\n",
       "      <td>NaN</td>\n",
       "      <td>39.50</td>\n",
       "      <td>NaN</td>\n",
       "      <td>NaN</td>\n",
       "      <td>11.27</td>\n",
       "      <td>NaN</td>\n",
       "      <td>136.17</td>\n",
       "      <td>NaN</td>\n",
       "      <td>NaN</td>\n",
       "      <td>NaN</td>\n",
       "      <td>NaN</td>\n",
       "      <td>NaN</td>\n",
       "      <td>6.77</td>\n",
       "      <td>NaN</td>\n",
       "      <td>0.99</td>\n",
       "      <td>NaN</td>\n",
       "      <td>NaN</td>\n",
       "      <td>NaN</td>\n",
       "      <td>NaN</td>\n",
       "      <td>NaN</td>\n",
       "      <td>NaN</td>\n",
       "      <td>NaN</td>\n",
       "    </tr>\n",
       "    <tr>\n",
       "      <th>1998</th>\n",
       "      <td>NaN</td>\n",
       "      <td>NaN</td>\n",
       "      <td>3.38</td>\n",
       "      <td>NaN</td>\n",
       "      <td>26.90</td>\n",
       "      <td>NaN</td>\n",
       "      <td>NaN</td>\n",
       "      <td>NaN</td>\n",
       "      <td>49.24</td>\n",
       "      <td>NaN</td>\n",
       "      <td>NaN</td>\n",
       "      <td>3.26</td>\n",
       "      <td>NaN</td>\n",
       "      <td>169.49</td>\n",
       "      <td>NaN</td>\n",
       "      <td>NaN</td>\n",
       "      <td>NaN</td>\n",
       "      <td>NaN</td>\n",
       "      <td>NaN</td>\n",
       "      <td>3.82</td>\n",
       "      <td>NaN</td>\n",
       "      <td>0.22</td>\n",
       "      <td>NaN</td>\n",
       "      <td>NaN</td>\n",
       "      <td>NaN</td>\n",
       "      <td>NaN</td>\n",
       "      <td>NaN</td>\n",
       "      <td>NaN</td>\n",
       "      <td>NaN</td>\n",
       "    </tr>\n",
       "    <tr>\n",
       "      <th>1999</th>\n",
       "      <td>NaN</td>\n",
       "      <td>NaN</td>\n",
       "      <td>5.16</td>\n",
       "      <td>NaN</td>\n",
       "      <td>38.00</td>\n",
       "      <td>NaN</td>\n",
       "      <td>NaN</td>\n",
       "      <td>NaN</td>\n",
       "      <td>57.87</td>\n",
       "      <td>NaN</td>\n",
       "      <td>NaN</td>\n",
       "      <td>4.74</td>\n",
       "      <td>NaN</td>\n",
       "      <td>144.53</td>\n",
       "      <td>NaN</td>\n",
       "      <td>NaN</td>\n",
       "      <td>NaN</td>\n",
       "      <td>NaN</td>\n",
       "      <td>NaN</td>\n",
       "      <td>0.09</td>\n",
       "      <td>NaN</td>\n",
       "      <td>0.26</td>\n",
       "      <td>NaN</td>\n",
       "      <td>0.46</td>\n",
       "      <td>NaN</td>\n",
       "      <td>NaN</td>\n",
       "      <td>NaN</td>\n",
       "      <td>NaN</td>\n",
       "      <td>NaN</td>\n",
       "    </tr>\n",
       "    <tr>\n",
       "      <th>2000</th>\n",
       "      <td>NaN</td>\n",
       "      <td>NaN</td>\n",
       "      <td>5.99</td>\n",
       "      <td>NaN</td>\n",
       "      <td>19.76</td>\n",
       "      <td>0.07</td>\n",
       "      <td>NaN</td>\n",
       "      <td>NaN</td>\n",
       "      <td>33.97</td>\n",
       "      <td>NaN</td>\n",
       "      <td>NaN</td>\n",
       "      <td>4.66</td>\n",
       "      <td>NaN</td>\n",
       "      <td>96.37</td>\n",
       "      <td>39.17</td>\n",
       "      <td>NaN</td>\n",
       "      <td>NaN</td>\n",
       "      <td>NaN</td>\n",
       "      <td>NaN</td>\n",
       "      <td>NaN</td>\n",
       "      <td>NaN</td>\n",
       "      <td>NaN</td>\n",
       "      <td>NaN</td>\n",
       "      <td>0.68</td>\n",
       "      <td>NaN</td>\n",
       "      <td>NaN</td>\n",
       "      <td>NaN</td>\n",
       "      <td>0.99</td>\n",
       "      <td>NaN</td>\n",
       "    </tr>\n",
       "    <tr>\n",
       "      <th>2001</th>\n",
       "      <td>NaN</td>\n",
       "      <td>NaN</td>\n",
       "      <td>1.07</td>\n",
       "      <td>NaN</td>\n",
       "      <td>9.24</td>\n",
       "      <td>61.53</td>\n",
       "      <td>26.34</td>\n",
       "      <td>NaN</td>\n",
       "      <td>3.25</td>\n",
       "      <td>NaN</td>\n",
       "      <td>NaN</td>\n",
       "      <td>5.47</td>\n",
       "      <td>NaN</td>\n",
       "      <td>35.59</td>\n",
       "      <td>166.43</td>\n",
       "      <td>NaN</td>\n",
       "      <td>NaN</td>\n",
       "      <td>NaN</td>\n",
       "      <td>NaN</td>\n",
       "      <td>NaN</td>\n",
       "      <td>NaN</td>\n",
       "      <td>NaN</td>\n",
       "      <td>NaN</td>\n",
       "      <td>0.28</td>\n",
       "      <td>NaN</td>\n",
       "      <td>NaN</td>\n",
       "      <td>NaN</td>\n",
       "      <td>22.26</td>\n",
       "      <td>NaN</td>\n",
       "    </tr>\n",
       "    <tr>\n",
       "      <th>2002</th>\n",
       "      <td>NaN</td>\n",
       "      <td>NaN</td>\n",
       "      <td>0.29</td>\n",
       "      <td>NaN</td>\n",
       "      <td>NaN</td>\n",
       "      <td>74.16</td>\n",
       "      <td>51.81</td>\n",
       "      <td>NaN</td>\n",
       "      <td>0.08</td>\n",
       "      <td>NaN</td>\n",
       "      <td>NaN</td>\n",
       "      <td>8.57</td>\n",
       "      <td>NaN</td>\n",
       "      <td>6.67</td>\n",
       "      <td>205.38</td>\n",
       "      <td>NaN</td>\n",
       "      <td>NaN</td>\n",
       "      <td>NaN</td>\n",
       "      <td>NaN</td>\n",
       "      <td>NaN</td>\n",
       "      <td>NaN</td>\n",
       "      <td>NaN</td>\n",
       "      <td>NaN</td>\n",
       "      <td>NaN</td>\n",
       "      <td>NaN</td>\n",
       "      <td>NaN</td>\n",
       "      <td>NaN</td>\n",
       "      <td>48.01</td>\n",
       "      <td>NaN</td>\n",
       "    </tr>\n",
       "    <tr>\n",
       "      <th>2003</th>\n",
       "      <td>NaN</td>\n",
       "      <td>NaN</td>\n",
       "      <td>NaN</td>\n",
       "      <td>NaN</td>\n",
       "      <td>NaN</td>\n",
       "      <td>56.67</td>\n",
       "      <td>50.61</td>\n",
       "      <td>NaN</td>\n",
       "      <td>NaN</td>\n",
       "      <td>NaN</td>\n",
       "      <td>NaN</td>\n",
       "      <td>8.84</td>\n",
       "      <td>NaN</td>\n",
       "      <td>2.07</td>\n",
       "      <td>184.31</td>\n",
       "      <td>NaN</td>\n",
       "      <td>NaN</td>\n",
       "      <td>NaN</td>\n",
       "      <td>NaN</td>\n",
       "      <td>NaN</td>\n",
       "      <td>NaN</td>\n",
       "      <td>NaN</td>\n",
       "      <td>NaN</td>\n",
       "      <td>NaN</td>\n",
       "      <td>NaN</td>\n",
       "      <td>NaN</td>\n",
       "      <td>NaN</td>\n",
       "      <td>55.04</td>\n",
       "      <td>NaN</td>\n",
       "    </tr>\n",
       "    <tr>\n",
       "      <th>2004</th>\n",
       "      <td>NaN</td>\n",
       "      <td>NaN</td>\n",
       "      <td>NaN</td>\n",
       "      <td>17.27</td>\n",
       "      <td>NaN</td>\n",
       "      <td>77.91</td>\n",
       "      <td>28.82</td>\n",
       "      <td>NaN</td>\n",
       "      <td>NaN</td>\n",
       "      <td>NaN</td>\n",
       "      <td>NaN</td>\n",
       "      <td>10.39</td>\n",
       "      <td>NaN</td>\n",
       "      <td>NaN</td>\n",
       "      <td>211.81</td>\n",
       "      <td>NaN</td>\n",
       "      <td>NaN</td>\n",
       "      <td>7.06</td>\n",
       "      <td>NaN</td>\n",
       "      <td>NaN</td>\n",
       "      <td>NaN</td>\n",
       "      <td>NaN</td>\n",
       "      <td>NaN</td>\n",
       "      <td>NaN</td>\n",
       "      <td>NaN</td>\n",
       "      <td>NaN</td>\n",
       "      <td>NaN</td>\n",
       "      <td>65.42</td>\n",
       "      <td>NaN</td>\n",
       "    </tr>\n",
       "    <tr>\n",
       "      <th>2005</th>\n",
       "      <td>NaN</td>\n",
       "      <td>NaN</td>\n",
       "      <td>NaN</td>\n",
       "      <td>130.14</td>\n",
       "      <td>NaN</td>\n",
       "      <td>33.86</td>\n",
       "      <td>27.62</td>\n",
       "      <td>NaN</td>\n",
       "      <td>NaN</td>\n",
       "      <td>NaN</td>\n",
       "      <td>NaN</td>\n",
       "      <td>4.37</td>\n",
       "      <td>NaN</td>\n",
       "      <td>NaN</td>\n",
       "      <td>160.66</td>\n",
       "      <td>NaN</td>\n",
       "      <td>NaN</td>\n",
       "      <td>43.84</td>\n",
       "      <td>NaN</td>\n",
       "      <td>NaN</td>\n",
       "      <td>NaN</td>\n",
       "      <td>NaN</td>\n",
       "      <td>NaN</td>\n",
       "      <td>NaN</td>\n",
       "      <td>NaN</td>\n",
       "      <td>NaN</td>\n",
       "      <td>8.25</td>\n",
       "      <td>49.08</td>\n",
       "      <td>NaN</td>\n",
       "    </tr>\n",
       "    <tr>\n",
       "      <th>2006</th>\n",
       "      <td>NaN</td>\n",
       "      <td>NaN</td>\n",
       "      <td>NaN</td>\n",
       "      <td>119.81</td>\n",
       "      <td>NaN</td>\n",
       "      <td>5.28</td>\n",
       "      <td>11.26</td>\n",
       "      <td>NaN</td>\n",
       "      <td>NaN</td>\n",
       "      <td>NaN</td>\n",
       "      <td>NaN</td>\n",
       "      <td>2.85</td>\n",
       "      <td>NaN</td>\n",
       "      <td>NaN</td>\n",
       "      <td>103.42</td>\n",
       "      <td>20.96</td>\n",
       "      <td>NaN</td>\n",
       "      <td>55.32</td>\n",
       "      <td>NaN</td>\n",
       "      <td>NaN</td>\n",
       "      <td>NaN</td>\n",
       "      <td>NaN</td>\n",
       "      <td>NaN</td>\n",
       "      <td>NaN</td>\n",
       "      <td>137.15</td>\n",
       "      <td>NaN</td>\n",
       "      <td>51.62</td>\n",
       "      <td>10.04</td>\n",
       "      <td>NaN</td>\n",
       "    </tr>\n",
       "    <tr>\n",
       "      <th>2007</th>\n",
       "      <td>NaN</td>\n",
       "      <td>NaN</td>\n",
       "      <td>0.02</td>\n",
       "      <td>146.94</td>\n",
       "      <td>NaN</td>\n",
       "      <td>3.40</td>\n",
       "      <td>0.27</td>\n",
       "      <td>NaN</td>\n",
       "      <td>NaN</td>\n",
       "      <td>NaN</td>\n",
       "      <td>NaN</td>\n",
       "      <td>9.28</td>\n",
       "      <td>NaN</td>\n",
       "      <td>NaN</td>\n",
       "      <td>75.99</td>\n",
       "      <td>73.19</td>\n",
       "      <td>NaN</td>\n",
       "      <td>46.93</td>\n",
       "      <td>NaN</td>\n",
       "      <td>NaN</td>\n",
       "      <td>NaN</td>\n",
       "      <td>NaN</td>\n",
       "      <td>NaN</td>\n",
       "      <td>NaN</td>\n",
       "      <td>152.77</td>\n",
       "      <td>NaN</td>\n",
       "      <td>95.41</td>\n",
       "      <td>0.55</td>\n",
       "      <td>NaN</td>\n",
       "    </tr>\n",
       "    <tr>\n",
       "      <th>2008</th>\n",
       "      <td>NaN</td>\n",
       "      <td>NaN</td>\n",
       "      <td>0.04</td>\n",
       "      <td>145.31</td>\n",
       "      <td>NaN</td>\n",
       "      <td>NaN</td>\n",
       "      <td>NaN</td>\n",
       "      <td>NaN</td>\n",
       "      <td>NaN</td>\n",
       "      <td>NaN</td>\n",
       "      <td>NaN</td>\n",
       "      <td>12.42</td>\n",
       "      <td>NaN</td>\n",
       "      <td>NaN</td>\n",
       "      <td>53.90</td>\n",
       "      <td>118.52</td>\n",
       "      <td>NaN</td>\n",
       "      <td>34.55</td>\n",
       "      <td>NaN</td>\n",
       "      <td>NaN</td>\n",
       "      <td>NaN</td>\n",
       "      <td>NaN</td>\n",
       "      <td>NaN</td>\n",
       "      <td>NaN</td>\n",
       "      <td>171.32</td>\n",
       "      <td>NaN</td>\n",
       "      <td>135.26</td>\n",
       "      <td>0.18</td>\n",
       "      <td>NaN</td>\n",
       "    </tr>\n",
       "    <tr>\n",
       "      <th>2009</th>\n",
       "      <td>NaN</td>\n",
       "      <td>NaN</td>\n",
       "      <td>NaN</td>\n",
       "      <td>119.54</td>\n",
       "      <td>NaN</td>\n",
       "      <td>NaN</td>\n",
       "      <td>NaN</td>\n",
       "      <td>NaN</td>\n",
       "      <td>NaN</td>\n",
       "      <td>NaN</td>\n",
       "      <td>NaN</td>\n",
       "      <td>16.91</td>\n",
       "      <td>NaN</td>\n",
       "      <td>NaN</td>\n",
       "      <td>26.40</td>\n",
       "      <td>130.93</td>\n",
       "      <td>NaN</td>\n",
       "      <td>37.78</td>\n",
       "      <td>NaN</td>\n",
       "      <td>NaN</td>\n",
       "      <td>NaN</td>\n",
       "      <td>NaN</td>\n",
       "      <td>NaN</td>\n",
       "      <td>NaN</td>\n",
       "      <td>206.97</td>\n",
       "      <td>NaN</td>\n",
       "      <td>120.29</td>\n",
       "      <td>NaN</td>\n",
       "      <td>NaN</td>\n",
       "    </tr>\n",
       "    <tr>\n",
       "      <th>2010</th>\n",
       "      <td>NaN</td>\n",
       "      <td>NaN</td>\n",
       "      <td>NaN</td>\n",
       "      <td>85.02</td>\n",
       "      <td>NaN</td>\n",
       "      <td>NaN</td>\n",
       "      <td>NaN</td>\n",
       "      <td>NaN</td>\n",
       "      <td>NaN</td>\n",
       "      <td>NaN</td>\n",
       "      <td>NaN</td>\n",
       "      <td>24.28</td>\n",
       "      <td>NaN</td>\n",
       "      <td>NaN</td>\n",
       "      <td>5.64</td>\n",
       "      <td>142.17</td>\n",
       "      <td>NaN</td>\n",
       "      <td>35.04</td>\n",
       "      <td>NaN</td>\n",
       "      <td>NaN</td>\n",
       "      <td>NaN</td>\n",
       "      <td>NaN</td>\n",
       "      <td>NaN</td>\n",
       "      <td>NaN</td>\n",
       "      <td>127.95</td>\n",
       "      <td>NaN</td>\n",
       "      <td>170.03</td>\n",
       "      <td>NaN</td>\n",
       "      <td>NaN</td>\n",
       "    </tr>\n",
       "    <tr>\n",
       "      <th>2011</th>\n",
       "      <td>NaN</td>\n",
       "      <td>63.20</td>\n",
       "      <td>NaN</td>\n",
       "      <td>26.18</td>\n",
       "      <td>NaN</td>\n",
       "      <td>NaN</td>\n",
       "      <td>NaN</td>\n",
       "      <td>NaN</td>\n",
       "      <td>NaN</td>\n",
       "      <td>NaN</td>\n",
       "      <td>NaN</td>\n",
       "      <td>35.03</td>\n",
       "      <td>NaN</td>\n",
       "      <td>NaN</td>\n",
       "      <td>0.45</td>\n",
       "      <td>156.78</td>\n",
       "      <td>NaN</td>\n",
       "      <td>17.82</td>\n",
       "      <td>4.63</td>\n",
       "      <td>NaN</td>\n",
       "      <td>NaN</td>\n",
       "      <td>NaN</td>\n",
       "      <td>NaN</td>\n",
       "      <td>NaN</td>\n",
       "      <td>59.65</td>\n",
       "      <td>NaN</td>\n",
       "      <td>143.84</td>\n",
       "      <td>NaN</td>\n",
       "      <td>NaN</td>\n",
       "    </tr>\n",
       "    <tr>\n",
       "      <th>2012</th>\n",
       "      <td>NaN</td>\n",
       "      <td>51.36</td>\n",
       "      <td>NaN</td>\n",
       "      <td>11.01</td>\n",
       "      <td>NaN</td>\n",
       "      <td>NaN</td>\n",
       "      <td>NaN</td>\n",
       "      <td>NaN</td>\n",
       "      <td>NaN</td>\n",
       "      <td>NaN</td>\n",
       "      <td>NaN</td>\n",
       "      <td>23.22</td>\n",
       "      <td>NaN</td>\n",
       "      <td>NaN</td>\n",
       "      <td>NaN</td>\n",
       "      <td>107.36</td>\n",
       "      <td>NaN</td>\n",
       "      <td>7.69</td>\n",
       "      <td>16.19</td>\n",
       "      <td>NaN</td>\n",
       "      <td>NaN</td>\n",
       "      <td>NaN</td>\n",
       "      <td>NaN</td>\n",
       "      <td>NaN</td>\n",
       "      <td>21.71</td>\n",
       "      <td>17.56</td>\n",
       "      <td>99.74</td>\n",
       "      <td>NaN</td>\n",
       "      <td>NaN</td>\n",
       "    </tr>\n",
       "    <tr>\n",
       "      <th>2013</th>\n",
       "      <td>NaN</td>\n",
       "      <td>56.57</td>\n",
       "      <td>NaN</td>\n",
       "      <td>1.54</td>\n",
       "      <td>NaN</td>\n",
       "      <td>NaN</td>\n",
       "      <td>NaN</td>\n",
       "      <td>NaN</td>\n",
       "      <td>NaN</td>\n",
       "      <td>NaN</td>\n",
       "      <td>NaN</td>\n",
       "      <td>12.38</td>\n",
       "      <td>NaN</td>\n",
       "      <td>NaN</td>\n",
       "      <td>NaN</td>\n",
       "      <td>113.25</td>\n",
       "      <td>25.99</td>\n",
       "      <td>3.14</td>\n",
       "      <td>10.59</td>\n",
       "      <td>NaN</td>\n",
       "      <td>NaN</td>\n",
       "      <td>NaN</td>\n",
       "      <td>NaN</td>\n",
       "      <td>NaN</td>\n",
       "      <td>8.59</td>\n",
       "      <td>21.65</td>\n",
       "      <td>88.58</td>\n",
       "      <td>NaN</td>\n",
       "      <td>18.96</td>\n",
       "    </tr>\n",
       "    <tr>\n",
       "      <th>2014</th>\n",
       "      <td>NaN</td>\n",
       "      <td>43.76</td>\n",
       "      <td>NaN</td>\n",
       "      <td>NaN</td>\n",
       "      <td>NaN</td>\n",
       "      <td>NaN</td>\n",
       "      <td>NaN</td>\n",
       "      <td>NaN</td>\n",
       "      <td>NaN</td>\n",
       "      <td>NaN</td>\n",
       "      <td>NaN</td>\n",
       "      <td>13.28</td>\n",
       "      <td>NaN</td>\n",
       "      <td>NaN</td>\n",
       "      <td>NaN</td>\n",
       "      <td>47.76</td>\n",
       "      <td>100.00</td>\n",
       "      <td>0.24</td>\n",
       "      <td>11.90</td>\n",
       "      <td>NaN</td>\n",
       "      <td>NaN</td>\n",
       "      <td>NaN</td>\n",
       "      <td>NaN</td>\n",
       "      <td>NaN</td>\n",
       "      <td>3.75</td>\n",
       "      <td>22.03</td>\n",
       "      <td>34.74</td>\n",
       "      <td>NaN</td>\n",
       "      <td>54.07</td>\n",
       "    </tr>\n",
       "    <tr>\n",
       "      <th>2015</th>\n",
       "      <td>NaN</td>\n",
       "      <td>27.78</td>\n",
       "      <td>NaN</td>\n",
       "      <td>NaN</td>\n",
       "      <td>NaN</td>\n",
       "      <td>NaN</td>\n",
       "      <td>NaN</td>\n",
       "      <td>NaN</td>\n",
       "      <td>NaN</td>\n",
       "      <td>NaN</td>\n",
       "      <td>NaN</td>\n",
       "      <td>8.52</td>\n",
       "      <td>NaN</td>\n",
       "      <td>NaN</td>\n",
       "      <td>NaN</td>\n",
       "      <td>16.82</td>\n",
       "      <td>118.90</td>\n",
       "      <td>0.12</td>\n",
       "      <td>6.25</td>\n",
       "      <td>NaN</td>\n",
       "      <td>NaN</td>\n",
       "      <td>NaN</td>\n",
       "      <td>NaN</td>\n",
       "      <td>NaN</td>\n",
       "      <td>1.14</td>\n",
       "      <td>16.35</td>\n",
       "      <td>11.96</td>\n",
       "      <td>NaN</td>\n",
       "      <td>60.14</td>\n",
       "    </tr>\n",
       "    <tr>\n",
       "      <th>2016</th>\n",
       "      <td>NaN</td>\n",
       "      <td>15.14</td>\n",
       "      <td>NaN</td>\n",
       "      <td>NaN</td>\n",
       "      <td>NaN</td>\n",
       "      <td>NaN</td>\n",
       "      <td>NaN</td>\n",
       "      <td>NaN</td>\n",
       "      <td>NaN</td>\n",
       "      <td>NaN</td>\n",
       "      <td>NaN</td>\n",
       "      <td>5.25</td>\n",
       "      <td>NaN</td>\n",
       "      <td>NaN</td>\n",
       "      <td>NaN</td>\n",
       "      <td>3.60</td>\n",
       "      <td>69.25</td>\n",
       "      <td>NaN</td>\n",
       "      <td>4.25</td>\n",
       "      <td>NaN</td>\n",
       "      <td>NaN</td>\n",
       "      <td>NaN</td>\n",
       "      <td>NaN</td>\n",
       "      <td>NaN</td>\n",
       "      <td>0.18</td>\n",
       "      <td>4.60</td>\n",
       "      <td>1.52</td>\n",
       "      <td>NaN</td>\n",
       "      <td>26.15</td>\n",
       "    </tr>\n",
       "  </tbody>\n",
       "</table>\n",
       "</div>"
      ],
      "text/plain": [
       "platform          3DO    3DS    DC      DS     GB    GBA     GC   GEN    N64  \\\n",
       "year_of_release                                                                \n",
       "1994             0.02    NaN   NaN     NaN  12.18    NaN    NaN  8.13    NaN   \n",
       "1995             0.08    NaN   NaN     NaN   3.60    NaN    NaN   NaN    NaN   \n",
       "1996              NaN    NaN   NaN     NaN  36.03    NaN    NaN   NaN  34.10   \n",
       "1997              NaN    NaN   NaN     NaN   6.37    NaN    NaN   NaN  39.50   \n",
       "1998              NaN    NaN  3.38     NaN  26.90    NaN    NaN   NaN  49.24   \n",
       "1999              NaN    NaN  5.16     NaN  38.00    NaN    NaN   NaN  57.87   \n",
       "2000              NaN    NaN  5.99     NaN  19.76   0.07    NaN   NaN  33.97   \n",
       "2001              NaN    NaN  1.07     NaN   9.24  61.53  26.34   NaN   3.25   \n",
       "2002              NaN    NaN  0.29     NaN    NaN  74.16  51.81   NaN   0.08   \n",
       "2003              NaN    NaN   NaN     NaN    NaN  56.67  50.61   NaN    NaN   \n",
       "2004              NaN    NaN   NaN   17.27    NaN  77.91  28.82   NaN    NaN   \n",
       "2005              NaN    NaN   NaN  130.14    NaN  33.86  27.62   NaN    NaN   \n",
       "2006              NaN    NaN   NaN  119.81    NaN   5.28  11.26   NaN    NaN   \n",
       "2007              NaN    NaN  0.02  146.94    NaN   3.40   0.27   NaN    NaN   \n",
       "2008              NaN    NaN  0.04  145.31    NaN    NaN    NaN   NaN    NaN   \n",
       "2009              NaN    NaN   NaN  119.54    NaN    NaN    NaN   NaN    NaN   \n",
       "2010              NaN    NaN   NaN   85.02    NaN    NaN    NaN   NaN    NaN   \n",
       "2011              NaN  63.20   NaN   26.18    NaN    NaN    NaN   NaN    NaN   \n",
       "2012              NaN  51.36   NaN   11.01    NaN    NaN    NaN   NaN    NaN   \n",
       "2013              NaN  56.57   NaN    1.54    NaN    NaN    NaN   NaN    NaN   \n",
       "2014              NaN  43.76   NaN     NaN    NaN    NaN    NaN   NaN    NaN   \n",
       "2015              NaN  27.78   NaN     NaN    NaN    NaN    NaN   NaN    NaN   \n",
       "2016              NaN  15.14   NaN     NaN    NaN    NaN    NaN   NaN    NaN   \n",
       "\n",
       "platform          NES    NG     PC  PCFX      PS     PS2     PS3     PS4  \\\n",
       "year_of_release                                                            \n",
       "1994             0.11  0.80  12.87   NaN    6.03     NaN     NaN     NaN   \n",
       "1995              NaN  0.33   4.22   NaN   35.96     NaN     NaN     NaN   \n",
       "1996              NaN  0.10  10.58  0.03   94.70     NaN     NaN     NaN   \n",
       "1997              NaN   NaN  11.27   NaN  136.17     NaN     NaN     NaN   \n",
       "1998              NaN   NaN   3.26   NaN  169.49     NaN     NaN     NaN   \n",
       "1999              NaN   NaN   4.74   NaN  144.53     NaN     NaN     NaN   \n",
       "2000              NaN   NaN   4.66   NaN   96.37   39.17     NaN     NaN   \n",
       "2001              NaN   NaN   5.47   NaN   35.59  166.43     NaN     NaN   \n",
       "2002              NaN   NaN   8.57   NaN    6.67  205.38     NaN     NaN   \n",
       "2003              NaN   NaN   8.84   NaN    2.07  184.31     NaN     NaN   \n",
       "2004              NaN   NaN  10.39   NaN     NaN  211.81     NaN     NaN   \n",
       "2005              NaN   NaN   4.37   NaN     NaN  160.66     NaN     NaN   \n",
       "2006              NaN   NaN   2.85   NaN     NaN  103.42   20.96     NaN   \n",
       "2007              NaN   NaN   9.28   NaN     NaN   75.99   73.19     NaN   \n",
       "2008              NaN   NaN  12.42   NaN     NaN   53.90  118.52     NaN   \n",
       "2009              NaN   NaN  16.91   NaN     NaN   26.40  130.93     NaN   \n",
       "2010              NaN   NaN  24.28   NaN     NaN    5.64  142.17     NaN   \n",
       "2011              NaN   NaN  35.03   NaN     NaN    0.45  156.78     NaN   \n",
       "2012              NaN   NaN  23.22   NaN     NaN     NaN  107.36     NaN   \n",
       "2013              NaN   NaN  12.38   NaN     NaN     NaN  113.25   25.99   \n",
       "2014              NaN   NaN  13.28   NaN     NaN     NaN   47.76  100.00   \n",
       "2015              NaN   NaN   8.52   NaN     NaN     NaN   16.82  118.90   \n",
       "2016              NaN   NaN   5.25   NaN     NaN     NaN    3.60   69.25   \n",
       "\n",
       "platform           PSP    PSV    SAT   SCD   SNES  TG16    WS     Wii   WiiU  \\\n",
       "year_of_release                                                                \n",
       "1994               NaN    NaN   3.65  0.36  35.08   NaN   NaN     NaN    NaN   \n",
       "1995               NaN    NaN  11.57   NaN  32.20  0.16   NaN     NaN    NaN   \n",
       "1996               NaN    NaN   7.69   NaN  15.92   NaN   NaN     NaN    NaN   \n",
       "1997               NaN    NaN   6.77   NaN   0.99   NaN   NaN     NaN    NaN   \n",
       "1998               NaN    NaN   3.82   NaN   0.22   NaN   NaN     NaN    NaN   \n",
       "1999               NaN    NaN   0.09   NaN   0.26   NaN  0.46     NaN    NaN   \n",
       "2000               NaN    NaN    NaN   NaN    NaN   NaN  0.68     NaN    NaN   \n",
       "2001               NaN    NaN    NaN   NaN    NaN   NaN  0.28     NaN    NaN   \n",
       "2002               NaN    NaN    NaN   NaN    NaN   NaN   NaN     NaN    NaN   \n",
       "2003               NaN    NaN    NaN   NaN    NaN   NaN   NaN     NaN    NaN   \n",
       "2004              7.06    NaN    NaN   NaN    NaN   NaN   NaN     NaN    NaN   \n",
       "2005             43.84    NaN    NaN   NaN    NaN   NaN   NaN     NaN    NaN   \n",
       "2006             55.32    NaN    NaN   NaN    NaN   NaN   NaN  137.15    NaN   \n",
       "2007             46.93    NaN    NaN   NaN    NaN   NaN   NaN  152.77    NaN   \n",
       "2008             34.55    NaN    NaN   NaN    NaN   NaN   NaN  171.32    NaN   \n",
       "2009             37.78    NaN    NaN   NaN    NaN   NaN   NaN  206.97    NaN   \n",
       "2010             35.04    NaN    NaN   NaN    NaN   NaN   NaN  127.95    NaN   \n",
       "2011             17.82   4.63    NaN   NaN    NaN   NaN   NaN   59.65    NaN   \n",
       "2012              7.69  16.19    NaN   NaN    NaN   NaN   NaN   21.71  17.56   \n",
       "2013              3.14  10.59    NaN   NaN    NaN   NaN   NaN    8.59  21.65   \n",
       "2014              0.24  11.90    NaN   NaN    NaN   NaN   NaN    3.75  22.03   \n",
       "2015              0.12   6.25    NaN   NaN    NaN   NaN   NaN    1.14  16.35   \n",
       "2016               NaN   4.25    NaN   NaN    NaN   NaN   NaN    0.18   4.60   \n",
       "\n",
       "platform           X360     XB   XOne  \n",
       "year_of_release                        \n",
       "1994                NaN    NaN    NaN  \n",
       "1995                NaN    NaN    NaN  \n",
       "1996                NaN    NaN    NaN  \n",
       "1997                NaN    NaN    NaN  \n",
       "1998                NaN    NaN    NaN  \n",
       "1999                NaN    NaN    NaN  \n",
       "2000                NaN   0.99    NaN  \n",
       "2001                NaN  22.26    NaN  \n",
       "2002                NaN  48.01    NaN  \n",
       "2003                NaN  55.04    NaN  \n",
       "2004                NaN  65.42    NaN  \n",
       "2005               8.25  49.08    NaN  \n",
       "2006              51.62  10.04    NaN  \n",
       "2007              95.41   0.55    NaN  \n",
       "2008             135.26   0.18    NaN  \n",
       "2009             120.29    NaN    NaN  \n",
       "2010             170.03    NaN    NaN  \n",
       "2011             143.84    NaN    NaN  \n",
       "2012              99.74    NaN    NaN  \n",
       "2013              88.58    NaN  18.96  \n",
       "2014              34.74    NaN  54.07  \n",
       "2015              11.96    NaN  60.14  \n",
       "2016               1.52    NaN  26.15  "
      ]
     },
     "execution_count": 28,
     "metadata": {},
     "output_type": "execute_result"
    }
   ],
   "source": [
    "df_sales_platform =(data.query('year_of_release > 1993 ')\n",
    "                    .pivot_table(index='year_of_release',columns='platform', values='sum_sales', aggfunc='sum'))\n",
    "df_sales_platform"
   ]
  },
  {
   "cell_type": "markdown",
   "metadata": {},
   "source": [
    "Постороим график распределения продаж по платформам с 1994 по 2016 гг."
   ]
  },
  {
   "cell_type": "code",
   "execution_count": 29,
   "metadata": {},
   "outputs": [
    {
     "data": {
      "image/png": "[encoded data removed]",
      "text/plain": [
       "<Figure size 1080x432 with 1 Axes>"
      ]
     },
     "metadata": {
      "needs_background": "light"
     },
     "output_type": "display_data"
    }
   ],
   "source": [
    "figsize=(20, 10)\n",
    "(df_sales_platform.plot(style='-D',\n",
    "                        figsize=(15, 6), \n",
    "                        color = ['green', 'lime', 'yellowgreen', 'greenyellow','yellow', 'olive',  'deeppink',\n",
    "                                 'darkorange', 'orangered', 'r', 'darkred', 'hotpink', 'crimson', 'orange',\n",
    "                                 'fuchsia', 'purple', 'violet', 'darkviolet', 'blueviolet', 'mediumpurple',\n",
    "                                 'blue', 'navy', 'royalblue', 'cornflowerblue', 'deepskyblue', 'aqua',\n",
    "                                 'lightseagreen', 'brown', 'chocolate'], \n",
    "                        linewidth = 2))\n",
    "plt.xlabel(\"год выпуска\")\n",
    "plt.ylabel('суммарные продажи, млн копий')\n",
    "plt.grid()\n",
    "plt.legend(bbox_to_anchor=(1, 1),fontsize=9)\n",
    "plt.title(f'Распределение продаж платформ с 1994 по 2016 гг.', fontsize=15)\n",
    "plt.show()"
   ]
  },
  {
   "cell_type": "markdown",
   "metadata": {},
   "source": [
    "#### Изменение продаж по платформам с наибольшими суммарными продажами."
   ]
  },
  {
   "cell_type": "markdown",
   "metadata": {},
   "source": [
    "Выберем платформы с наибольшими суммарными продажами:"
   ]
  },
  {
   "cell_type": "code",
   "execution_count": 30,
   "metadata": {
    "scrolled": true
   },
   "outputs": [
    {
     "data": {
      "text/plain": [
       "array(['PS2', 'X360', 'PS3', 'Wii', 'DS', 'PS', 'PS4', 'GBA', 'PSP',\n",
       "       '3DS'], dtype=object)"
      ]
     },
     "execution_count": 30,
     "metadata": {},
     "output_type": "execute_result"
    }
   ],
   "source": [
    "df_top_sum_sales_platform = (data.query('year_of_release > 1993 ')\n",
    "                         .groupby('platform')['sum_sales']\n",
    "                         .sum()\n",
    "                         .sort_values(ascending=False)\n",
    "                         .reset_index())[:10]\n",
    "df_top_sum_sales_platform['platform'].unique()"
   ]
  },
  {
   "cell_type": "markdown",
   "metadata": {},
   "source": [
    "Построим распределение продаж платформ по годам:"
   ]
  },
  {
   "cell_type": "code",
   "execution_count": 31,
   "metadata": {},
   "outputs": [
    {
     "data": {
      "text/html": [
       "<div>\n",
       "<style scoped>\n",
       "    .dataframe tbody tr th:only-of-type {\n",
       "        vertical-align: middle;\n",
       "    }\n",
       "\n",
       "    .dataframe tbody tr th {\n",
       "        vertical-align: top;\n",
       "    }\n",
       "\n",
       "    .dataframe thead th {\n",
       "        text-align: right;\n",
       "    }\n",
       "</style>\n",
       "<table border=\"1\" class=\"dataframe\">\n",
       "  <thead>\n",
       "    <tr style=\"text-align: right;\">\n",
       "      <th>platform</th>\n",
       "      <th>3DS</th>\n",
       "      <th>DS</th>\n",
       "      <th>GBA</th>\n",
       "      <th>PS</th>\n",
       "      <th>PS2</th>\n",
       "      <th>PS3</th>\n",
       "      <th>PS4</th>\n",
       "      <th>PSP</th>\n",
       "      <th>Wii</th>\n",
       "      <th>X360</th>\n",
       "    </tr>\n",
       "    <tr>\n",
       "      <th>year_of_release</th>\n",
       "      <th></th>\n",
       "      <th></th>\n",
       "      <th></th>\n",
       "      <th></th>\n",
       "      <th></th>\n",
       "      <th></th>\n",
       "      <th></th>\n",
       "      <th></th>\n",
       "      <th></th>\n",
       "      <th></th>\n",
       "    </tr>\n",
       "  </thead>\n",
       "  <tbody>\n",
       "    <tr>\n",
       "      <th>1995</th>\n",
       "      <td>NaN</td>\n",
       "      <td>NaN</td>\n",
       "      <td>NaN</td>\n",
       "      <td>35.96</td>\n",
       "      <td>NaN</td>\n",
       "      <td>NaN</td>\n",
       "      <td>NaN</td>\n",
       "      <td>NaN</td>\n",
       "      <td>NaN</td>\n",
       "      <td>NaN</td>\n",
       "    </tr>\n",
       "    <tr>\n",
       "      <th>1996</th>\n",
       "      <td>NaN</td>\n",
       "      <td>NaN</td>\n",
       "      <td>NaN</td>\n",
       "      <td>94.70</td>\n",
       "      <td>NaN</td>\n",
       "      <td>NaN</td>\n",
       "      <td>NaN</td>\n",
       "      <td>NaN</td>\n",
       "      <td>NaN</td>\n",
       "      <td>NaN</td>\n",
       "    </tr>\n",
       "    <tr>\n",
       "      <th>1997</th>\n",
       "      <td>NaN</td>\n",
       "      <td>NaN</td>\n",
       "      <td>NaN</td>\n",
       "      <td>136.17</td>\n",
       "      <td>NaN</td>\n",
       "      <td>NaN</td>\n",
       "      <td>NaN</td>\n",
       "      <td>NaN</td>\n",
       "      <td>NaN</td>\n",
       "      <td>NaN</td>\n",
       "    </tr>\n",
       "    <tr>\n",
       "      <th>1998</th>\n",
       "      <td>NaN</td>\n",
       "      <td>NaN</td>\n",
       "      <td>NaN</td>\n",
       "      <td>169.49</td>\n",
       "      <td>NaN</td>\n",
       "      <td>NaN</td>\n",
       "      <td>NaN</td>\n",
       "      <td>NaN</td>\n",
       "      <td>NaN</td>\n",
       "      <td>NaN</td>\n",
       "    </tr>\n",
       "    <tr>\n",
       "      <th>1999</th>\n",
       "      <td>NaN</td>\n",
       "      <td>NaN</td>\n",
       "      <td>NaN</td>\n",
       "      <td>144.53</td>\n",
       "      <td>NaN</td>\n",
       "      <td>NaN</td>\n",
       "      <td>NaN</td>\n",
       "      <td>NaN</td>\n",
       "      <td>NaN</td>\n",
       "      <td>NaN</td>\n",
       "    </tr>\n",
       "    <tr>\n",
       "      <th>2000</th>\n",
       "      <td>NaN</td>\n",
       "      <td>NaN</td>\n",
       "      <td>0.07</td>\n",
       "      <td>96.37</td>\n",
       "      <td>39.17</td>\n",
       "      <td>NaN</td>\n",
       "      <td>NaN</td>\n",
       "      <td>NaN</td>\n",
       "      <td>NaN</td>\n",
       "      <td>NaN</td>\n",
       "    </tr>\n",
       "    <tr>\n",
       "      <th>2001</th>\n",
       "      <td>NaN</td>\n",
       "      <td>NaN</td>\n",
       "      <td>61.53</td>\n",
       "      <td>35.59</td>\n",
       "      <td>166.43</td>\n",
       "      <td>NaN</td>\n",
       "      <td>NaN</td>\n",
       "      <td>NaN</td>\n",
       "      <td>NaN</td>\n",
       "      <td>NaN</td>\n",
       "    </tr>\n",
       "    <tr>\n",
       "      <th>2002</th>\n",
       "      <td>NaN</td>\n",
       "      <td>NaN</td>\n",
       "      <td>74.16</td>\n",
       "      <td>6.67</td>\n",
       "      <td>205.38</td>\n",
       "      <td>NaN</td>\n",
       "      <td>NaN</td>\n",
       "      <td>NaN</td>\n",
       "      <td>NaN</td>\n",
       "      <td>NaN</td>\n",
       "    </tr>\n",
       "    <tr>\n",
       "      <th>2003</th>\n",
       "      <td>NaN</td>\n",
       "      <td>NaN</td>\n",
       "      <td>56.67</td>\n",
       "      <td>2.07</td>\n",
       "      <td>184.31</td>\n",
       "      <td>NaN</td>\n",
       "      <td>NaN</td>\n",
       "      <td>NaN</td>\n",
       "      <td>NaN</td>\n",
       "      <td>NaN</td>\n",
       "    </tr>\n",
       "    <tr>\n",
       "      <th>2004</th>\n",
       "      <td>NaN</td>\n",
       "      <td>17.27</td>\n",
       "      <td>77.91</td>\n",
       "      <td>NaN</td>\n",
       "      <td>211.81</td>\n",
       "      <td>NaN</td>\n",
       "      <td>NaN</td>\n",
       "      <td>7.06</td>\n",
       "      <td>NaN</td>\n",
       "      <td>NaN</td>\n",
       "    </tr>\n",
       "    <tr>\n",
       "      <th>2005</th>\n",
       "      <td>NaN</td>\n",
       "      <td>130.14</td>\n",
       "      <td>33.86</td>\n",
       "      <td>NaN</td>\n",
       "      <td>160.66</td>\n",
       "      <td>NaN</td>\n",
       "      <td>NaN</td>\n",
       "      <td>43.84</td>\n",
       "      <td>NaN</td>\n",
       "      <td>8.25</td>\n",
       "    </tr>\n",
       "    <tr>\n",
       "      <th>2006</th>\n",
       "      <td>NaN</td>\n",
       "      <td>119.81</td>\n",
       "      <td>5.28</td>\n",
       "      <td>NaN</td>\n",
       "      <td>103.42</td>\n",
       "      <td>20.96</td>\n",
       "      <td>NaN</td>\n",
       "      <td>55.32</td>\n",
       "      <td>137.15</td>\n",
       "      <td>51.62</td>\n",
       "    </tr>\n",
       "    <tr>\n",
       "      <th>2007</th>\n",
       "      <td>NaN</td>\n",
       "      <td>146.94</td>\n",
       "      <td>3.40</td>\n",
       "      <td>NaN</td>\n",
       "      <td>75.99</td>\n",
       "      <td>73.19</td>\n",
       "      <td>NaN</td>\n",
       "      <td>46.93</td>\n",
       "      <td>152.77</td>\n",
       "      <td>95.41</td>\n",
       "    </tr>\n",
       "    <tr>\n",
       "      <th>2008</th>\n",
       "      <td>NaN</td>\n",
       "      <td>145.31</td>\n",
       "      <td>NaN</td>\n",
       "      <td>NaN</td>\n",
       "      <td>53.90</td>\n",
       "      <td>118.52</td>\n",
       "      <td>NaN</td>\n",
       "      <td>34.55</td>\n",
       "      <td>171.32</td>\n",
       "      <td>135.26</td>\n",
       "    </tr>\n",
       "    <tr>\n",
       "      <th>2009</th>\n",
       "      <td>NaN</td>\n",
       "      <td>119.54</td>\n",
       "      <td>NaN</td>\n",
       "      <td>NaN</td>\n",
       "      <td>26.40</td>\n",
       "      <td>130.93</td>\n",
       "      <td>NaN</td>\n",
       "      <td>37.78</td>\n",
       "      <td>206.97</td>\n",
       "      <td>120.29</td>\n",
       "    </tr>\n",
       "    <tr>\n",
       "      <th>2010</th>\n",
       "      <td>NaN</td>\n",
       "      <td>85.02</td>\n",
       "      <td>NaN</td>\n",
       "      <td>NaN</td>\n",
       "      <td>5.64</td>\n",
       "      <td>142.17</td>\n",
       "      <td>NaN</td>\n",
       "      <td>35.04</td>\n",
       "      <td>127.95</td>\n",
       "      <td>170.03</td>\n",
       "    </tr>\n",
       "    <tr>\n",
       "      <th>2011</th>\n",
       "      <td>63.20</td>\n",
       "      <td>26.18</td>\n",
       "      <td>NaN</td>\n",
       "      <td>NaN</td>\n",
       "      <td>0.45</td>\n",
       "      <td>156.78</td>\n",
       "      <td>NaN</td>\n",
       "      <td>17.82</td>\n",
       "      <td>59.65</td>\n",
       "      <td>143.84</td>\n",
       "    </tr>\n",
       "    <tr>\n",
       "      <th>2012</th>\n",
       "      <td>51.36</td>\n",
       "      <td>11.01</td>\n",
       "      <td>NaN</td>\n",
       "      <td>NaN</td>\n",
       "      <td>NaN</td>\n",
       "      <td>107.36</td>\n",
       "      <td>NaN</td>\n",
       "      <td>7.69</td>\n",
       "      <td>21.71</td>\n",
       "      <td>99.74</td>\n",
       "    </tr>\n",
       "    <tr>\n",
       "      <th>2013</th>\n",
       "      <td>56.57</td>\n",
       "      <td>1.54</td>\n",
       "      <td>NaN</td>\n",
       "      <td>NaN</td>\n",
       "      <td>NaN</td>\n",
       "      <td>113.25</td>\n",
       "      <td>25.99</td>\n",
       "      <td>3.14</td>\n",
       "      <td>8.59</td>\n",
       "      <td>88.58</td>\n",
       "    </tr>\n",
       "    <tr>\n",
       "      <th>2014</th>\n",
       "      <td>43.76</td>\n",
       "      <td>NaN</td>\n",
       "      <td>NaN</td>\n",
       "      <td>NaN</td>\n",
       "      <td>NaN</td>\n",
       "      <td>47.76</td>\n",
       "      <td>100.00</td>\n",
       "      <td>0.24</td>\n",
       "      <td>3.75</td>\n",
       "      <td>34.74</td>\n",
       "    </tr>\n",
       "    <tr>\n",
       "      <th>2015</th>\n",
       "      <td>27.78</td>\n",
       "      <td>NaN</td>\n",
       "      <td>NaN</td>\n",
       "      <td>NaN</td>\n",
       "      <td>NaN</td>\n",
       "      <td>16.82</td>\n",
       "      <td>118.90</td>\n",
       "      <td>0.12</td>\n",
       "      <td>1.14</td>\n",
       "      <td>11.96</td>\n",
       "    </tr>\n",
       "    <tr>\n",
       "      <th>2016</th>\n",
       "      <td>15.14</td>\n",
       "      <td>NaN</td>\n",
       "      <td>NaN</td>\n",
       "      <td>NaN</td>\n",
       "      <td>NaN</td>\n",
       "      <td>3.60</td>\n",
       "      <td>69.25</td>\n",
       "      <td>NaN</td>\n",
       "      <td>0.18</td>\n",
       "      <td>1.52</td>\n",
       "    </tr>\n",
       "  </tbody>\n",
       "</table>\n",
       "</div>"
      ],
      "text/plain": [
       "platform           3DS      DS    GBA      PS     PS2     PS3     PS4    PSP  \\\n",
       "year_of_release                                                                \n",
       "1995               NaN     NaN    NaN   35.96     NaN     NaN     NaN    NaN   \n",
       "1996               NaN     NaN    NaN   94.70     NaN     NaN     NaN    NaN   \n",
       "1997               NaN     NaN    NaN  136.17     NaN     NaN     NaN    NaN   \n",
       "1998               NaN     NaN    NaN  169.49     NaN     NaN     NaN    NaN   \n",
       "1999               NaN     NaN    NaN  144.53     NaN     NaN     NaN    NaN   \n",
       "2000               NaN     NaN   0.07   96.37   39.17     NaN     NaN    NaN   \n",
       "2001               NaN     NaN  61.53   35.59  166.43     NaN     NaN    NaN   \n",
       "2002               NaN     NaN  74.16    6.67  205.38     NaN     NaN    NaN   \n",
       "2003               NaN     NaN  56.67    2.07  184.31     NaN     NaN    NaN   \n",
       "2004               NaN   17.27  77.91     NaN  211.81     NaN     NaN   7.06   \n",
       "2005               NaN  130.14  33.86     NaN  160.66     NaN     NaN  43.84   \n",
       "2006               NaN  119.81   5.28     NaN  103.42   20.96     NaN  55.32   \n",
       "2007               NaN  146.94   3.40     NaN   75.99   73.19     NaN  46.93   \n",
       "2008               NaN  145.31    NaN     NaN   53.90  118.52     NaN  34.55   \n",
       "2009               NaN  119.54    NaN     NaN   26.40  130.93     NaN  37.78   \n",
       "2010               NaN   85.02    NaN     NaN    5.64  142.17     NaN  35.04   \n",
       "2011             63.20   26.18    NaN     NaN    0.45  156.78     NaN  17.82   \n",
       "2012             51.36   11.01    NaN     NaN     NaN  107.36     NaN   7.69   \n",
       "2013             56.57    1.54    NaN     NaN     NaN  113.25   25.99   3.14   \n",
       "2014             43.76     NaN    NaN     NaN     NaN   47.76  100.00   0.24   \n",
       "2015             27.78     NaN    NaN     NaN     NaN   16.82  118.90   0.12   \n",
       "2016             15.14     NaN    NaN     NaN     NaN    3.60   69.25    NaN   \n",
       "\n",
       "platform            Wii    X360  \n",
       "year_of_release                  \n",
       "1995                NaN     NaN  \n",
       "1996                NaN     NaN  \n",
       "1997                NaN     NaN  \n",
       "1998                NaN     NaN  \n",
       "1999                NaN     NaN  \n",
       "2000                NaN     NaN  \n",
       "2001                NaN     NaN  \n",
       "2002                NaN     NaN  \n",
       "2003                NaN     NaN  \n",
       "2004                NaN     NaN  \n",
       "2005                NaN    8.25  \n",
       "2006             137.15   51.62  \n",
       "2007             152.77   95.41  \n",
       "2008             171.32  135.26  \n",
       "2009             206.97  120.29  \n",
       "2010             127.95  170.03  \n",
       "2011              59.65  143.84  \n",
       "2012              21.71   99.74  \n",
       "2013               8.59   88.58  \n",
       "2014               3.75   34.74  \n",
       "2015               1.14   11.96  \n",
       "2016               0.18    1.52  "
      ]
     },
     "execution_count": 31,
     "metadata": {},
     "output_type": "execute_result"
    }
   ],
   "source": [
    "top_sales_platform =(\n",
    "    data.query('year_of_release > 1994 & platform == [\"PS2\",\"X360\",\"PS3\",\"Wii\", \"DS\", \"PS4\", \"GBA\", \"PSP\", \"PS\", \"3DS\"]')\n",
    "    .pivot_table(index='year_of_release',columns='platform', values='sum_sales', aggfunc='sum')\n",
    ")\n",
    "top_sales_platform"
   ]
  },
  {
   "cell_type": "code",
   "execution_count": 32,
   "metadata": {},
   "outputs": [
    {
     "data": {
      "image/png": "[encoded data removed]",
      "text/plain": [
       "<Figure size 1080x432 with 1 Axes>"
      ]
     },
     "metadata": {
      "needs_background": "light"
     },
     "output_type": "display_data"
    }
   ],
   "source": [
    "figsize=(15, 6)\n",
    "top_sales_platform.plot(style='-o',figsize=(15, 6), linewidth = 3)\n",
    "plt.xlabel(\"год выпуска\")\n",
    "plt.ylabel('суммарные продажи, млн копий')\n",
    "plt.grid()\n",
    "plt.xticks([1996, 1998, 2000, 2002, 2004, 2006, 2008, 2010, 2012, 2014, 2016], size=10)\n",
    "plt.title(f'Распределение по годам платформ с наибольшими суммарными продажами', fontsize=15)\n",
    "plt.show()"
   ]
  },
  {
   "cell_type": "markdown",
   "metadata": {},
   "source": [
    "Жизненный цикл платформ судя по графикам около 10 лет. \n",
    "\n",
    "С 2006 года можно выделить платформы, у которых были высокие суммарные продажи, но к 2016 году их продажи пошли на спад это - Will, X360, PS3, DS. \n",
    "\n",
    "Зародившаяся в далеком 2013 году новая по тем меркам PS4 пыталась завоевать рынок в 2015 году (наверное, когда люди смогли её себе приобрести), но немного сдала свои позиции к 2016 году. \n",
    "\n",
    "Отдельной синей линией, не имеющей резких скачков, кроме как достаточно высокого начала, выделяется 3DS. \n",
    "\n",
    "Нужно ещё отметить красную линию жизни PS. Она счастливо жила с 1994 года по 2003 год и судя по всему имела успех в суммарных продажах, ведь пику её пирамидки нет равных в её временном отрезке. \n",
    "\n",
    "Для дальнейшего анализа возьмем период с 2014 до 2016 гг., чтобы изучить актуальные тенденции."
   ]
  },
  {
   "cell_type": "markdown",
   "metadata": {},
   "source": [
    "### Построение графика «ящик с усами» по глобальным продажам игр в разбивке по платформам."
   ]
  },
  {
   "cell_type": "markdown",
   "metadata": {},
   "source": [
    "Создадим переменную с выбранным актуальным временным отрезком от 2014 до 2016 гг."
   ]
  },
  {
   "cell_type": "code",
   "execution_count": 33,
   "metadata": {},
   "outputs": [],
   "source": [
    "relevant_data = data.query('year_of_release >= 2014')"
   ]
  },
  {
   "cell_type": "markdown",
   "metadata": {},
   "source": [
    "Для того, чтобы разобраться в распределении продаж по платформам дополнительно построим столбчатую диаграмму:"
   ]
  },
  {
   "cell_type": "code",
   "execution_count": 34,
   "metadata": {},
   "outputs": [],
   "source": [
    "top_platform = (relevant_data.groupby('platform')['sum_sales']\n",
    "           .sum()\n",
    "           .sort_values(ascending=False)\n",
    "           .reset_index()\n",
    "           .head(10))"
   ]
  },
  {
   "cell_type": "code",
   "execution_count": 35,
   "metadata": {
    "scrolled": true
   },
   "outputs": [
    {
     "data": {
      "image/png": "[encoded data removed]",
      "text/plain": [
       "<Figure size 432x288 with 1 Axes>"
      ]
     },
     "metadata": {
      "needs_background": "light"
     },
     "output_type": "display_data"
    }
   ],
   "source": [
    "plt.bar(top_platform['platform'], top_platform['sum_sales'])\n",
    "plt.xlabel(\"платформы\")\n",
    "plt.ylabel('суммарные продажи, млн копий')\n",
    "plt.title(f'Суммарные продажи игр по платформам', fontsize=13)\n",
    "plt.show()"
   ]
  },
  {
   "cell_type": "markdown",
   "metadata": {},
   "source": [
    "Построим диаграмму размаха суммарных продаж по платформам:"
   ]
  },
  {
   "cell_type": "code",
   "execution_count": 36,
   "metadata": {
    "scrolled": false
   },
   "outputs": [
    {
     "data": {
      "image/png": "[encoded data removed]",
      "text/plain": [
       "<Figure size 1080x504 with 1 Axes>"
      ]
     },
     "metadata": {
      "needs_background": "light"
     },
     "output_type": "display_data"
    }
   ],
   "source": [
    "ax = relevant_data.boxplot(column=['sum_sales'], by = ['platform'], figsize=(15,7))\n",
    "plt.title(f'Суммарные продажи игр по платформам', fontsize=13)\n",
    "plt.show()"
   ]
  },
  {
   "cell_type": "markdown",
   "metadata": {},
   "source": [
    "Сделаем интервал оси Y поменьше от 0 до 2, чтобы разглядеть медиану в сплющенных коробочках. "
   ]
  },
  {
   "cell_type": "code",
   "execution_count": 37,
   "metadata": {
    "scrolled": false
   },
   "outputs": [
    {
     "data": {
      "image/png": "[encoded data removed]",
      "text/plain": [
       "<Figure size 1080x504 with 1 Axes>"
      ]
     },
     "metadata": {
      "needs_background": "light"
     },
     "output_type": "display_data"
    }
   ],
   "source": [
    "ax = relevant_data.boxplot(column=['sum_sales'], by = ['platform'], figsize=(15,7))\n",
    "ax.set_ylim(0,2)\n",
    "plt.title(f'Суммарные продажи игр по платформам', fontsize=13)\n",
    "plt.show()"
   ]
  },
  {
   "cell_type": "markdown",
   "metadata": {},
   "source": [
    "Выводы:\n",
    "\n",
    "- У каждой платформы есть выбросы - игры, значение суммарных продаж которых значительно отличается от основной массы.\n",
    "- У PS4, Wii, WiiU и XOne наибольшие медианные значения около 0,20.\n",
    "- Платформы  PS4, 3DS и XOne выделяются своими выбросами, т.е. играми, у которых очень высокие продажи по сравнению с остальными.\n",
    "- У платформы PSP, выбранный временной интервал застает лишь конец жизни, поэтому значения очень низкие. \n",
    "- Также очень низкое медианное занчение продаж у платформы PSV, видимо это связано с тем, что это всё же портативная консоль, а не стационарная, однако 3DS не смотря на свою портативность имеет более высокие показатели."
   ]
  },
  {
   "cell_type": "markdown",
   "metadata": {},
   "source": [
    "### Исследование влияния на продажи внутри одной популярной платформы отзывов пользователей и критиков. Опреденение корреляции между отзывами и продажами. Соотношение выводов с продажами игр на других платформах."
   ]
  },
  {
   "cell_type": "markdown",
   "metadata": {},
   "source": [
    "Выберем популярную платформу PS4, удалим пропущенные значения и построим диаграмму рассеяния."
   ]
  },
  {
   "cell_type": "code",
   "execution_count": 38,
   "metadata": {},
   "outputs": [
    {
     "data": {
      "text/html": [
       "<div>\n",
       "<style scoped>\n",
       "    .dataframe tbody tr th:only-of-type {\n",
       "        vertical-align: middle;\n",
       "    }\n",
       "\n",
       "    .dataframe tbody tr th {\n",
       "        vertical-align: top;\n",
       "    }\n",
       "\n",
       "    .dataframe thead th {\n",
       "        text-align: right;\n",
       "    }\n",
       "</style>\n",
       "<table border=\"1\" class=\"dataframe\">\n",
       "  <thead>\n",
       "    <tr style=\"text-align: right;\">\n",
       "      <th></th>\n",
       "      <th>name</th>\n",
       "      <th>platform</th>\n",
       "      <th>year_of_release</th>\n",
       "      <th>genre</th>\n",
       "      <th>na_sales</th>\n",
       "      <th>eu_sales</th>\n",
       "      <th>jp_sales</th>\n",
       "      <th>other_sales</th>\n",
       "      <th>critic_score</th>\n",
       "      <th>user_score</th>\n",
       "      <th>rating</th>\n",
       "      <th>sum_sales</th>\n",
       "    </tr>\n",
       "  </thead>\n",
       "  <tbody>\n",
       "    <tr>\n",
       "      <th>0</th>\n",
       "      <td>Grand Theft Auto V</td>\n",
       "      <td>PS4</td>\n",
       "      <td>2014</td>\n",
       "      <td>Action</td>\n",
       "      <td>3.96</td>\n",
       "      <td>6.31</td>\n",
       "      <td>0.38</td>\n",
       "      <td>1.97</td>\n",
       "      <td>97.0</td>\n",
       "      <td>8.3</td>\n",
       "      <td>M</td>\n",
       "      <td>12.62</td>\n",
       "    </tr>\n",
       "    <tr>\n",
       "      <th>1</th>\n",
       "      <td>FIFA 16</td>\n",
       "      <td>PS4</td>\n",
       "      <td>2015</td>\n",
       "      <td>Sports</td>\n",
       "      <td>1.12</td>\n",
       "      <td>6.12</td>\n",
       "      <td>0.06</td>\n",
       "      <td>1.28</td>\n",
       "      <td>82.0</td>\n",
       "      <td>4.3</td>\n",
       "      <td>E</td>\n",
       "      <td>8.58</td>\n",
       "    </tr>\n",
       "    <tr>\n",
       "      <th>2</th>\n",
       "      <td>Call of Duty: Advanced Warfare</td>\n",
       "      <td>PS4</td>\n",
       "      <td>2014</td>\n",
       "      <td>Shooter</td>\n",
       "      <td>2.81</td>\n",
       "      <td>3.48</td>\n",
       "      <td>0.14</td>\n",
       "      <td>1.23</td>\n",
       "      <td>83.0</td>\n",
       "      <td>5.7</td>\n",
       "      <td>M</td>\n",
       "      <td>7.66</td>\n",
       "    </tr>\n",
       "    <tr>\n",
       "      <th>3</th>\n",
       "      <td>FIFA 17</td>\n",
       "      <td>PS4</td>\n",
       "      <td>2016</td>\n",
       "      <td>Sports</td>\n",
       "      <td>0.66</td>\n",
       "      <td>5.75</td>\n",
       "      <td>0.08</td>\n",
       "      <td>1.11</td>\n",
       "      <td>85.0</td>\n",
       "      <td>5.0</td>\n",
       "      <td>E</td>\n",
       "      <td>7.60</td>\n",
       "    </tr>\n",
       "    <tr>\n",
       "      <th>4</th>\n",
       "      <td>Fallout 4</td>\n",
       "      <td>PS4</td>\n",
       "      <td>2015</td>\n",
       "      <td>Role-Playing</td>\n",
       "      <td>2.53</td>\n",
       "      <td>3.27</td>\n",
       "      <td>0.24</td>\n",
       "      <td>1.13</td>\n",
       "      <td>87.0</td>\n",
       "      <td>6.5</td>\n",
       "      <td>M</td>\n",
       "      <td>7.17</td>\n",
       "    </tr>\n",
       "  </tbody>\n",
       "</table>\n",
       "</div>"
      ],
      "text/plain": [
       "                             name platform  year_of_release         genre  \\\n",
       "0              Grand Theft Auto V      PS4             2014        Action   \n",
       "1                         FIFA 16      PS4             2015        Sports   \n",
       "2  Call of Duty: Advanced Warfare      PS4             2014       Shooter   \n",
       "3                         FIFA 17      PS4             2016        Sports   \n",
       "4                       Fallout 4      PS4             2015  Role-Playing   \n",
       "\n",
       "   na_sales  eu_sales  jp_sales  other_sales  critic_score  user_score rating  \\\n",
       "0      3.96      6.31      0.38         1.97          97.0         8.3      M   \n",
       "1      1.12      6.12      0.06         1.28          82.0         4.3      E   \n",
       "2      2.81      3.48      0.14         1.23          83.0         5.7      M   \n",
       "3      0.66      5.75      0.08         1.11          85.0         5.0      E   \n",
       "4      2.53      3.27      0.24         1.13          87.0         6.5      M   \n",
       "\n",
       "   sum_sales  \n",
       "0      12.62  \n",
       "1       8.58  \n",
       "2       7.66  \n",
       "3       7.60  \n",
       "4       7.17  "
      ]
     },
     "execution_count": 38,
     "metadata": {},
     "output_type": "execute_result"
    }
   ],
   "source": [
    "platform_PS4 = relevant_data.query('platform == \"PS4\"').dropna().reset_index(drop=True)\n",
    "platform_PS4.head()"
   ]
  },
  {
   "cell_type": "code",
   "execution_count": 39,
   "metadata": {},
   "outputs": [
    {
     "name": "stdout",
     "output_type": "stream",
     "text": [
      "Диаграмма рассеяния для PS4\n"
     ]
    },
    {
     "data": {
      "image/png": "[encoded data removed]",
      "text/plain": [
       "<Figure size 648x648 with 9 Axes>"
      ]
     },
     "metadata": {
      "needs_background": "light"
     },
     "output_type": "display_data"
    }
   ],
   "source": [
    "print(\"Диаграмма рассеяния для PS4\")\n",
    "pd.plotting.scatter_matrix(data[data.platform == \"PS4\"][['sum_sales', 'critic_score', 'user_score']],figsize=(9, 9))\n",
    "plt.show()"
   ]
  },
  {
   "cell_type": "markdown",
   "metadata": {},
   "source": [
    "На матрице диаграмм рассеяния видно, что на пересечении critic_score и sum_sales, а также user_score и sum_sales практически похожая ситуация:\n",
    "- основная масса игр на платформе PS4 имеет продажи менее 2 млн копий, поэтому график сильно смещен к оси оценок; \n",
    "- видны выбросы - удаленные от основной линии размещения точки, т.е. игры, далеко выходящие за эти значения;\n",
    "- большая концентрация рассеянных точек расположена от 60 до 90 оценок критиков, что свидетельствует о том, что игры, у которых высокая оценка критиков продаются лучше. У оценок пользователей от 6 до 8 также есть эта связь. \n",
    "\n",
    "По гистограммам можно судить, что:\n",
    "- чаще всего пользователи ставят оценки от 6 до 8;\n",
    "- средние оценки критиков от 60 до 80, меньше 30 критики ставят очень редко."
   ]
  },
  {
   "cell_type": "markdown",
   "metadata": {},
   "source": [
    "Посчитаем корреляцию оценок критиков и пользователей с суммарными продажами."
   ]
  },
  {
   "cell_type": "code",
   "execution_count": 40,
   "metadata": {
    "scrolled": true
   },
   "outputs": [
    {
     "data": {
      "text/html": [
       "<div>\n",
       "<style scoped>\n",
       "    .dataframe tbody tr th:only-of-type {\n",
       "        vertical-align: middle;\n",
       "    }\n",
       "\n",
       "    .dataframe tbody tr th {\n",
       "        vertical-align: top;\n",
       "    }\n",
       "\n",
       "    .dataframe thead th {\n",
       "        text-align: right;\n",
       "    }\n",
       "</style>\n",
       "<table border=\"1\" class=\"dataframe\">\n",
       "  <thead>\n",
       "    <tr style=\"text-align: right;\">\n",
       "      <th></th>\n",
       "      <th>critic_score</th>\n",
       "      <th>sum_sales</th>\n",
       "      <th>user_score</th>\n",
       "    </tr>\n",
       "  </thead>\n",
       "  <tbody>\n",
       "    <tr>\n",
       "      <th>critic_score</th>\n",
       "      <td>1.000000</td>\n",
       "      <td>0.400808</td>\n",
       "      <td>0.559557</td>\n",
       "    </tr>\n",
       "    <tr>\n",
       "      <th>sum_sales</th>\n",
       "      <td>0.400808</td>\n",
       "      <td>1.000000</td>\n",
       "      <td>-0.041988</td>\n",
       "    </tr>\n",
       "    <tr>\n",
       "      <th>user_score</th>\n",
       "      <td>0.559557</td>\n",
       "      <td>-0.041988</td>\n",
       "      <td>1.000000</td>\n",
       "    </tr>\n",
       "  </tbody>\n",
       "</table>\n",
       "</div>"
      ],
      "text/plain": [
       "              critic_score  sum_sales  user_score\n",
       "critic_score      1.000000   0.400808    0.559557\n",
       "sum_sales         0.400808   1.000000   -0.041988\n",
       "user_score        0.559557  -0.041988    1.000000"
      ]
     },
     "execution_count": 40,
     "metadata": {},
     "output_type": "execute_result"
    }
   ],
   "source": [
    "platform_PS4[['critic_score', 'sum_sales','user_score']].corr()"
   ]
  },
  {
   "cell_type": "markdown",
   "metadata": {},
   "source": [
    "Вычисление корреляции подтверждает наши выводы, сделанные по матрице диаграмм рассеяния:\n",
    "корреляция оценок критиков и суммарных продаж слабая прямая, а у оценок пользователей и суммарными продажам она отсутствует.\n",
    "\n",
    "Проверим наши выводы по другим платформам:"
   ]
  },
  {
   "cell_type": "code",
   "execution_count": 41,
   "metadata": {},
   "outputs": [
    {
     "data": {
      "text/html": [
       "<div>\n",
       "<style scoped>\n",
       "    .dataframe tbody tr th:only-of-type {\n",
       "        vertical-align: middle;\n",
       "    }\n",
       "\n",
       "    .dataframe tbody tr th {\n",
       "        vertical-align: top;\n",
       "    }\n",
       "\n",
       "    .dataframe thead th {\n",
       "        text-align: right;\n",
       "    }\n",
       "</style>\n",
       "<table border=\"1\" class=\"dataframe\">\n",
       "  <thead>\n",
       "    <tr style=\"text-align: right;\">\n",
       "      <th></th>\n",
       "      <th>critic_score</th>\n",
       "      <th>sum_sales</th>\n",
       "      <th>user_score</th>\n",
       "    </tr>\n",
       "  </thead>\n",
       "  <tbody>\n",
       "    <tr>\n",
       "      <th>critic_score</th>\n",
       "      <td>1.000000</td>\n",
       "      <td>0.420994</td>\n",
       "      <td>0.461944</td>\n",
       "    </tr>\n",
       "    <tr>\n",
       "      <th>sum_sales</th>\n",
       "      <td>0.420994</td>\n",
       "      <td>1.000000</td>\n",
       "      <td>-0.074085</td>\n",
       "    </tr>\n",
       "    <tr>\n",
       "      <th>user_score</th>\n",
       "      <td>0.461944</td>\n",
       "      <td>-0.074085</td>\n",
       "      <td>1.000000</td>\n",
       "    </tr>\n",
       "  </tbody>\n",
       "</table>\n",
       "</div>"
      ],
      "text/plain": [
       "              critic_score  sum_sales  user_score\n",
       "critic_score      1.000000   0.420994    0.461944\n",
       "sum_sales         0.420994   1.000000   -0.074085\n",
       "user_score        0.461944  -0.074085    1.000000"
      ]
     },
     "execution_count": 41,
     "metadata": {},
     "output_type": "execute_result"
    }
   ],
   "source": [
    "platform_XOne = relevant_data.query('platform == \"XOne\"').dropna().reset_index(drop=True)\n",
    "platform_XOne[['critic_score', 'sum_sales','user_score']].corr()"
   ]
  },
  {
   "cell_type": "code",
   "execution_count": 42,
   "metadata": {},
   "outputs": [
    {
     "data": {
      "text/html": [
       "<div>\n",
       "<style scoped>\n",
       "    .dataframe tbody tr th:only-of-type {\n",
       "        vertical-align: middle;\n",
       "    }\n",
       "\n",
       "    .dataframe tbody tr th {\n",
       "        vertical-align: top;\n",
       "    }\n",
       "\n",
       "    .dataframe thead th {\n",
       "        text-align: right;\n",
       "    }\n",
       "</style>\n",
       "<table border=\"1\" class=\"dataframe\">\n",
       "  <thead>\n",
       "    <tr style=\"text-align: right;\">\n",
       "      <th></th>\n",
       "      <th>critic_score</th>\n",
       "      <th>sum_sales</th>\n",
       "      <th>user_score</th>\n",
       "    </tr>\n",
       "  </thead>\n",
       "  <tbody>\n",
       "    <tr>\n",
       "      <th>critic_score</th>\n",
       "      <td>1.000000</td>\n",
       "      <td>0.284686</td>\n",
       "      <td>0.862485</td>\n",
       "    </tr>\n",
       "    <tr>\n",
       "      <th>sum_sales</th>\n",
       "      <td>0.284686</td>\n",
       "      <td>1.000000</td>\n",
       "      <td>0.279850</td>\n",
       "    </tr>\n",
       "    <tr>\n",
       "      <th>user_score</th>\n",
       "      <td>0.862485</td>\n",
       "      <td>0.279850</td>\n",
       "      <td>1.000000</td>\n",
       "    </tr>\n",
       "  </tbody>\n",
       "</table>\n",
       "</div>"
      ],
      "text/plain": [
       "              critic_score  sum_sales  user_score\n",
       "critic_score      1.000000   0.284686    0.862485\n",
       "sum_sales         0.284686   1.000000    0.279850\n",
       "user_score        0.862485   0.279850    1.000000"
      ]
     },
     "execution_count": 42,
     "metadata": {},
     "output_type": "execute_result"
    }
   ],
   "source": [
    "platform_3DS = relevant_data.query('platform == \"3DS\"').dropna().reset_index(drop=True)\n",
    "platform_3DS[['critic_score', 'sum_sales','user_score']].corr()"
   ]
  },
  {
   "cell_type": "code",
   "execution_count": 43,
   "metadata": {
    "scrolled": true
   },
   "outputs": [
    {
     "data": {
      "text/html": [
       "<div>\n",
       "<style scoped>\n",
       "    .dataframe tbody tr th:only-of-type {\n",
       "        vertical-align: middle;\n",
       "    }\n",
       "\n",
       "    .dataframe tbody tr th {\n",
       "        vertical-align: top;\n",
       "    }\n",
       "\n",
       "    .dataframe thead th {\n",
       "        text-align: right;\n",
       "    }\n",
       "</style>\n",
       "<table border=\"1\" class=\"dataframe\">\n",
       "  <thead>\n",
       "    <tr style=\"text-align: right;\">\n",
       "      <th></th>\n",
       "      <th>critic_score</th>\n",
       "      <th>sum_sales</th>\n",
       "      <th>user_score</th>\n",
       "    </tr>\n",
       "  </thead>\n",
       "  <tbody>\n",
       "    <tr>\n",
       "      <th>critic_score</th>\n",
       "      <td>1.000000</td>\n",
       "      <td>0.446575</td>\n",
       "      <td>0.693445</td>\n",
       "    </tr>\n",
       "    <tr>\n",
       "      <th>sum_sales</th>\n",
       "      <td>0.446575</td>\n",
       "      <td>1.000000</td>\n",
       "      <td>0.156595</td>\n",
       "    </tr>\n",
       "    <tr>\n",
       "      <th>user_score</th>\n",
       "      <td>0.693445</td>\n",
       "      <td>0.156595</td>\n",
       "      <td>1.000000</td>\n",
       "    </tr>\n",
       "  </tbody>\n",
       "</table>\n",
       "</div>"
      ],
      "text/plain": [
       "              critic_score  sum_sales  user_score\n",
       "critic_score      1.000000   0.446575    0.693445\n",
       "sum_sales         0.446575   1.000000    0.156595\n",
       "user_score        0.693445   0.156595    1.000000"
      ]
     },
     "execution_count": 43,
     "metadata": {},
     "output_type": "execute_result"
    }
   ],
   "source": [
    "platform_PS3 = relevant_data.query('platform == \"PS3\"').dropna().reset_index(drop=True)\n",
    "platform_PS3[['critic_score', 'sum_sales','user_score']].corr()"
   ]
  },
  {
   "cell_type": "markdown",
   "metadata": {},
   "source": [
    "По остальным платформам прослеживается такая же взаимосвязь - оценки критиков имеют слабую прямую связь в продажах игр на платформах - чем выше оценка, тем больше продажи. С оценками обычных пользователей связи нет. \n",
    "\n",
    "Отдельно стоит отметить, что платформа 3DS показывает нам, что связи между оценками критиков, пользователей и продажами вообще нет. "
   ]
  },
  {
   "cell_type": "markdown",
   "metadata": {},
   "source": [
    "**По платформе PS4**:\n",
    "На матрице диаграмм рассеяния видно, что между оценкой критиков и суммарными продажами, а также оценкой пользователей и суммарными продажами практически похожая ситуация:\n",
    "- основная масса игр на платформе PS4 имеет продажи менее 2 млн копий; \n",
    "- видны выбросы т.е. игры, далеко выходящие за эти значения;\n",
    "- большая концентрация рассеянных точек расположена от 60 до 90 оценок критиков, что свидетельствует о том, что игры, у которых высокая оценка критиков продаются лучше. У оценок пользователей от 6 до 8 также есть эта связь. \n",
    "\n",
    "По гистограммам можно судить, что:\n",
    "- чаще всего пользователи ставят оценки от 6 до 8;\n",
    "- средние оценки критиков от 60 до 80, меньше 30 критики ставят очень редко.\n",
    "\n",
    "Вычисление корреляции подтверждает наши выводы, сделанные по матрице диаграмм рассеяния:\n",
    "корреляция оценок критиков и суммарных продаж слабая прямая (0.40), а у оценок пользователей и суммарными продажам она отсутствует(-0.04).\n",
    "\n",
    "**По остальным платформам** прослеживается такая же взаимосвязь - оценки критиков имеют слабую прямую связь в продажах игр на платформах - чем выше оценка, тем больше продажи. С оценками обычных пользователей связи нет. Отдельно стоит отметить, что платформа 3DS показывает нам, что связи между оценками критиков, пользователей и продажами практически нет."
   ]
  },
  {
   "cell_type": "markdown",
   "metadata": {},
   "source": [
    "###  Исследование общего распределения игр по жанрам. Определение жанров с высокими и низкими продажами."
   ]
  },
  {
   "cell_type": "markdown",
   "metadata": {},
   "source": [
    "Отобразим сводную таблицу с данными по количеству игр, медианным продажам и суммарным продажам каждого жанра."
   ]
  },
  {
   "cell_type": "code",
   "execution_count": 44,
   "metadata": {
    "scrolled": false
   },
   "outputs": [
    {
     "data": {
      "text/html": [
       "<div>\n",
       "<style scoped>\n",
       "    .dataframe tbody tr th:only-of-type {\n",
       "        vertical-align: middle;\n",
       "    }\n",
       "\n",
       "    .dataframe tbody tr th {\n",
       "        vertical-align: top;\n",
       "    }\n",
       "\n",
       "    .dataframe thead th {\n",
       "        text-align: right;\n",
       "    }\n",
       "</style>\n",
       "<table border=\"1\" class=\"dataframe\">\n",
       "  <thead>\n",
       "    <tr style=\"text-align: right;\">\n",
       "      <th></th>\n",
       "      <th>count</th>\n",
       "      <th>median_sales</th>\n",
       "      <th>sum_sales</th>\n",
       "    </tr>\n",
       "    <tr>\n",
       "      <th>genre</th>\n",
       "      <th></th>\n",
       "      <th></th>\n",
       "      <th></th>\n",
       "    </tr>\n",
       "  </thead>\n",
       "  <tbody>\n",
       "    <tr>\n",
       "      <th>Action</th>\n",
       "      <td>619</td>\n",
       "      <td>0.090</td>\n",
       "      <td>199.36</td>\n",
       "    </tr>\n",
       "    <tr>\n",
       "      <th>Shooter</th>\n",
       "      <td>128</td>\n",
       "      <td>0.515</td>\n",
       "      <td>170.94</td>\n",
       "    </tr>\n",
       "    <tr>\n",
       "      <th>Sports</th>\n",
       "      <td>161</td>\n",
       "      <td>0.180</td>\n",
       "      <td>109.48</td>\n",
       "    </tr>\n",
       "    <tr>\n",
       "      <th>Role-Playing</th>\n",
       "      <td>221</td>\n",
       "      <td>0.110</td>\n",
       "      <td>101.44</td>\n",
       "    </tr>\n",
       "    <tr>\n",
       "      <th>Misc</th>\n",
       "      <td>113</td>\n",
       "      <td>0.090</td>\n",
       "      <td>37.55</td>\n",
       "    </tr>\n",
       "    <tr>\n",
       "      <th>Fighting</th>\n",
       "      <td>60</td>\n",
       "      <td>0.125</td>\n",
       "      <td>28.22</td>\n",
       "    </tr>\n",
       "    <tr>\n",
       "      <th>Racing</th>\n",
       "      <td>69</td>\n",
       "      <td>0.090</td>\n",
       "      <td>27.52</td>\n",
       "    </tr>\n",
       "    <tr>\n",
       "      <th>Platform</th>\n",
       "      <td>38</td>\n",
       "      <td>0.140</td>\n",
       "      <td>18.09</td>\n",
       "    </tr>\n",
       "    <tr>\n",
       "      <th>Adventure</th>\n",
       "      <td>185</td>\n",
       "      <td>0.030</td>\n",
       "      <td>17.55</td>\n",
       "    </tr>\n",
       "    <tr>\n",
       "      <th>Simulation</th>\n",
       "      <td>44</td>\n",
       "      <td>0.100</td>\n",
       "      <td>13.13</td>\n",
       "    </tr>\n",
       "    <tr>\n",
       "      <th>Strategy</th>\n",
       "      <td>37</td>\n",
       "      <td>0.060</td>\n",
       "      <td>3.96</td>\n",
       "    </tr>\n",
       "    <tr>\n",
       "      <th>Puzzle</th>\n",
       "      <td>14</td>\n",
       "      <td>0.045</td>\n",
       "      <td>2.21</td>\n",
       "    </tr>\n",
       "  </tbody>\n",
       "</table>\n",
       "</div>"
      ],
      "text/plain": [
       "              count  median_sales  sum_sales\n",
       "genre                                       \n",
       "Action          619         0.090     199.36\n",
       "Shooter         128         0.515     170.94\n",
       "Sports          161         0.180     109.48\n",
       "Role-Playing    221         0.110     101.44\n",
       "Misc            113         0.090      37.55\n",
       "Fighting         60         0.125      28.22\n",
       "Racing           69         0.090      27.52\n",
       "Platform         38         0.140      18.09\n",
       "Adventure       185         0.030      17.55\n",
       "Simulation       44         0.100      13.13\n",
       "Strategy         37         0.060       3.96\n",
       "Puzzle           14         0.045       2.21"
      ]
     },
     "metadata": {},
     "output_type": "display_data"
    }
   ],
   "source": [
    "top_genre_count = relevant_data.pivot_table(index='genre', values=['name','sum_sales'], aggfunc={'name':'count', 'sum_sales':['sum', 'median']})\n",
    "top_genre_count.columns = ['count', 'median_sales', 'sum_sales'] \n",
    "display(top_genre_count.sort_values('sum_sales', ascending = False))"
   ]
  },
  {
   "cell_type": "markdown",
   "metadata": {},
   "source": [
    "Построим график по количеству выпускаемых игр каждого жанра."
   ]
  },
  {
   "cell_type": "code",
   "execution_count": 45,
   "metadata": {},
   "outputs": [
    {
     "data": {
      "image/png": "[encoded data removed]",
      "text/plain": [
       "<Figure size 936x576 with 1 Axes>"
      ]
     },
     "metadata": {
      "needs_background": "light"
     },
     "output_type": "display_data"
    }
   ],
   "source": [
    "platform_sales_fresh = (\n",
    "    top_genre_count\n",
    "    .pivot_table(index='genre', values='count', aggfunc='sum')\n",
    "    .sort_values('count', ascending=False)\n",
    ")\n",
    "plt.figure(figsize=(13, 8))\n",
    "(sns.barplot(data = platform_sales_fresh, x = platform_sales_fresh.index, y = 'count')\n",
    "    .set(title = 'Количество игр по жанрам за 2014-2016 гг', xlabel = 'Платформы', ylabel = 'Общие продажи'))\n",
    "\n",
    "plt.show()"
   ]
  },
  {
   "cell_type": "markdown",
   "metadata": {},
   "source": [
    "Выпускается больше всего игры жанров:\n",
    "1. **action** - 619\n",
    "2. **Role-Playing** - 221\n",
    "3. **Adventure** - 185. \n",
    "\n",
    "Меньше всего игр жанров:\n",
    "1. **Puzzle**\t- 14\n",
    "2. **Strategy** - 37\n",
    "3. **Platform** - 38"
   ]
  },
  {
   "cell_type": "markdown",
   "metadata": {},
   "source": [
    "Построим график распределения суммарных продаж по жанрам."
   ]
  },
  {
   "cell_type": "code",
   "execution_count": 46,
   "metadata": {},
   "outputs": [
    {
     "data": {
      "image/png": "[encoded data removed]",
      "text/plain": [
       "<Figure size 936x576 with 1 Axes>"
      ]
     },
     "metadata": {
      "needs_background": "light"
     },
     "output_type": "display_data"
    }
   ],
   "source": [
    "platform_sales_fresh = (\n",
    "    top_genre_count\n",
    "    .pivot_table(index='genre', values='sum_sales', aggfunc='sum')\n",
    "    .sort_values('sum_sales', ascending=False)\n",
    ")\n",
    "plt.figure(figsize=(13, 8))\n",
    "(sns.barplot(data = platform_sales_fresh, x = platform_sales_fresh.index, y = 'sum_sales')\n",
    "    .set(title = 'Продажи по жанрам за 2014-2016 гг', xlabel = 'Платформы', ylabel = 'Общие продажи'))\n",
    "\n",
    "plt.show()"
   ]
  },
  {
   "cell_type": "markdown",
   "metadata": {},
   "source": [
    "На графике видно, что суммарные продажи у жанров **action** и **shooter** достаточно высокие 199.36 и 170.94 миллионов проданных копий.\n",
    "\n",
    "Меньше всего продаж у жанров **strategy** и **puzzle** 3.96 и 2.21 миллионов проданных копий."
   ]
  },
  {
   "cell_type": "markdown",
   "metadata": {},
   "source": [
    "Построим диаграмму размаха, чтобы наглядно увидеть и сравнить суммарные продажи по жанрам."
   ]
  },
  {
   "cell_type": "code",
   "execution_count": 47,
   "metadata": {},
   "outputs": [
    {
     "data": {
      "image/png": "[encoded data removed]",
      "text/plain": [
       "<Figure size 936x576 with 1 Axes>"
      ]
     },
     "metadata": {
      "needs_background": "light"
     },
     "output_type": "display_data"
    }
   ],
   "source": [
    "plt.figure(figsize=(13, 8))\n",
    "(sns.boxplot(data = relevant_data, y = 'sum_sales', x='genre')\n",
    "    .set(title = 'Суммарные продажи по жанрам за 2014-2016 гг', xlabel = 'Платформы', ylabel = 'Общие продажи', ylim=(0, 2)))\n",
    "\n",
    "plt.show()"
   ]
  },
  {
   "cell_type": "markdown",
   "metadata": {},
   "source": [
    "На фоне всех жанров сильно выделяется **shooter**, у которого достаточно высокие медианные продажи 0.515, высокий межквартильный размах общих продаж и самые протяженные границы ящика, что говорит нам о том, что от 50% до 75% игр в жанре shooter имеют продажи значительно выше от 0.5 до 1.6 млн копий, чем игры в других жанрах от 0.05 до 0.25 (в среднем если смотреть по графику).\n",
    "\n",
    "Также высокие медианные значения у жанров **Sports** и **Platform**, медиана на уровне 0.18 и 0.14 млн копий. \n",
    "\n",
    "Жанр **action**, который был на первом месте по графику суммарных продаж по жанрам имеет очень много выбросов, т.е. игр, которые очень успешно продавались, но медианное значение достаточно невысокое 0.09.\n",
    "\n",
    "Очень низкие медианные значения имеют жанры **Puzzle** 0.045 и **Adventure** 0.03."
   ]
  },
  {
   "cell_type": "markdown",
   "metadata": {},
   "source": [
    "Выпускается больше всего игры жанра **action** - 619, меньше всего игр **Puzzle** - 14.\n",
    "\n",
    "Суммарные продажи у жанров **action** и **shooter** достаточно высокие 199.36 и 170.94 миллионов проданных копий. \n",
    "\n",
    "Низкие продажи у жанров **strategy** и **puzzle** 3.96 и 2.21 миллионов проданных копий.\n",
    "\n",
    "Самым продаваемым жанром является **shooter**, у которого достаточно высокие медианные продажи 0.515, от 50% до 75% игр в жанре shooter имеют продажи значительно выше от 0.5 до 1.6 млн копий, чем игры в других жанрах от 0.05 до 0.25. \n",
    "\n",
    "Самые низкие продажи как по количеству, так и по суммарным продажам и медиане суммарных продаж имеет жанр **Puzzle**."
   ]
  },
  {
   "cell_type": "markdown",
   "metadata": {},
   "source": [
    "###  Вывод\n",
    "\n",
    "По данным о количестве выпускаемых игр можно сказать, что до 1994 года количество выпущенных игр в год было существенно меньше (до 46 шт в год), после начался существенный рост, продолжавшийся до 2008-2009 годов (1427 шт в год), затем снова спад. \n",
    "\n",
    "Жизненный цикл платформ судя по графикам около 10 лет. Для дальнейшего анализа возьмем период **с 2014 до 2016 гг.**, чтобы изучить актуальные тенденции.\n",
    "\n",
    "- У каждой платформы есть выбросы - игры, значение суммарных продаж которых значительно отличается от основной массы.\n",
    "- У PS4, Wii, WiiU и XOne наибольшие медианные значения около 0,20.\n",
    "- Платформы  PS4, 3DS и XOne выделяются своими выбросами, т.е. играми, у которых очень высокие продажи по сравнению с остальными.\n",
    "- У платформы PSP, выбранный временной интервал застает лишь конец жизни, поэтому значения очень низкие. \n",
    "- Также очень низкое медианное занчение продаж у платформы PSV, видимо это связано с тем, что это всё же портативная консоль, а не стационарная, однако 3DS не смотря на свою портативность имеет более высокие показатели.\n",
    "\n",
    "**По платформе PS4**:\n",
    "На матрице диаграмм рассеяния видно, что между оценкой критиков и суммарными продажами, а также оценкой пользователей и суммарными продажами практически похожая ситуация:\n",
    "- основная масса игр на платформе PS4 имеет продажи менее 2 млн копий; \n",
    "- видны выбросы т.е. игры, далеко выходящие за эти значения;\n",
    "- большая концентрация рассеянных точек расположена от 60 до 90 оценок критиков, что свидетельствует о том, что игры, у которых высокая оценка критиков продаются лучше. У оценок пользователей от 6 до 8 также есть эта связь. \n",
    "\n",
    "По гистограммам можно судить, что:\n",
    "- чаще всего пользователи ставят оценки от 6 до 8;\n",
    "- средние оценки критиков от 60 до 80, меньше 30 критики ставят очень редко.\n",
    "\n",
    "Вычисление корреляции подтверждает наши выводы, сделанные по матрице диаграмм рассеяния:\n",
    "корреляция оценок критиков и суммарных продаж слабая прямая (0.40), а у оценок пользователей и суммарными продажам она отсутствует(-0.04).\n",
    "\n",
    "**По остальным платформам** прослеживается такая же взаимосвязь - оценки критиков имеют слабую прямую связь в продажах игр на платформах - чем выше оценка, тем больше продажи. С оценками обычных пользователей связи нет. Отдельно стоит отметить, что платформа 3DS показывает нам, что связи между оценками критиков, пользователей и продажами практически нет.\n",
    "\n",
    "Выпускается больше всего игры жанра **action** - 619, меньше всего игр **Puzzle** - 14.\n",
    "\n",
    "Суммарные продажи у жанров **action** и **shooter** достаточно высокие 199.36 и 170.94 миллионов проданных копий. \n",
    "\n",
    "Низкие продажи у жанров **strategy** и **puzzle** 3.96 и 2.21 миллионов проданных копий.\n",
    "\n",
    "Самым продаваемым жанром является **shooter**, у которого достаточно высокие медианные продажи 0.515, от 50% до 75% игр в жанре shooter имеют продажи значительно выше от 0.5 до 1.6 млн копий, чем игры в других жанрах от 0.05 до 0.25. \n",
    "\n",
    "Самые низкие продажи как по количеству, так и по суммарным продажам и медиане суммарных продаж имеет жанр **Puzzle**."
   ]
  },
  {
   "cell_type": "markdown",
   "metadata": {},
   "source": [
    "## Портрет пользователя каждого региона (NA, EU, JP)"
   ]
  },
  {
   "cell_type": "markdown",
   "metadata": {},
   "source": [
    "### Самые популярные платформы (топ-5)."
   ]
  },
  {
   "cell_type": "code",
   "execution_count": 49,
   "metadata": {},
   "outputs": [
    {
     "data": {
      "image/png": "[encoded data removed]",
      "text/plain": [
       "<Figure size 1152x432 with 3 Axes>"
      ]
     },
     "metadata": {},
     "output_type": "display_data"
    }
   ],
   "source": [
    "countries = relevant_data.columns[4:7]\n",
    "fig, axes = plt.subplots(1, 3, figsize=(16, 6))\n",
    "\n",
    "fig.suptitle('Топ-5 платформ в регионах')\n",
    "\n",
    "for i in range(3):\n",
    "# таблицы по продажам топ-5 платформ\n",
    "    df_i = (relevant_data.groupby('platform')[countries[i]].sum().\n",
    "             reset_index().\n",
    "             sort_values(countries[i], ascending = False, ignore_index = True).\n",
    "             head(5))\n",
    "# занесем все остальные продажи в категорию оther\n",
    "    df_i = df_i.append({'platform': 'Other', countries[i]: relevant_data[countries[i]].sum() - df_i[countries[i]].sum()}, ignore_index= True)\n",
    "    axes[i].pie(df_i[countries[i]], labels = df_i['platform'], autopct='%.2f%%')\n",
    "# зададим название региона\n",
    "    axes[i].set_title(df_i.columns[1].split('_')[0].upper())\n",
    "plt.show()"
   ]
  },
  {
   "cell_type": "markdown",
   "metadata": {},
   "source": [
    "Первое место в Северной Америке и Европе занимает **PS4** 34.71% и 48.04% , доля этой платформы в Японии 16.13% и занимает она уже второе место. \n",
    "\n",
    "Второе место в Северной Америке и Европе занимает **XOne** 28.61% и 17.09%, которая в Японии не вышла в первую пятерку. Xbox One третья по счёту игровая приставка от компании Microsoft (Расположение США: Редмонд, Вашингтон). \n",
    "\n",
    "В Японии распределение по платформам отличается от Северной Америки и Европы, тут первое место и почти половину продаж 47.52% занимает **3DS**, которую производит Nintendo, которая в принципе является полностью японской компанией, в отличие от Sony Interactive Entertainment, которая производит пратформы PlayStation, являющейся транснациональной (США и Япония). \n",
    "\n",
    "Возможно пользователям из Японии ближе свой отечественный производитель, также как и XOne для жителей Северной Америки."
   ]
  },
  {
   "cell_type": "markdown",
   "metadata": {},
   "source": [
    "### Самые популярные жанры (топ-5)"
   ]
  },
  {
   "cell_type": "markdown",
   "metadata": {},
   "source": [
    "Построем аналогичные графики для популярных жанров игр"
   ]
  },
  {
   "cell_type": "code",
   "execution_count": 51,
   "metadata": {},
   "outputs": [
    {
     "data": {
      "image/png": "[encoded data removed]",
      "text/plain": [
       "<Figure size 1152x432 with 3 Axes>"
      ]
     },
     "metadata": {},
     "output_type": "display_data"
    }
   ],
   "source": [
    "# выделили нужные нам столбцы с продажами каждого региона\n",
    "countries = relevant_data.columns[4:7]\n",
    "fig = plt.figure(figsize = (16,6))\n",
    "\n",
    "# сформировали таблицы по продажам топ-5 жанров\n",
    "df_na_genre = (relevant_data.groupby('genre')[countries[0]].sum().\n",
    "        reset_index().\n",
    "        sort_values(countries[0], ascending = False, ignore_index = True).head(5))\n",
    "df_eu_genre = (relevant_data.groupby('genre')[countries[1]].sum().\n",
    "        reset_index().\n",
    "        sort_values(countries[1], ascending = False, ignore_index = True).head(5))\n",
    "df_jp_genre = (relevant_data.groupby('genre')[countries[2]].sum().\n",
    "        reset_index().\n",
    "        sort_values(countries[2], ascending = False, ignore_index = True).head(5))\n",
    "\n",
    "# занесем все остальные продажи в категорию оther\n",
    "df_na_genre = df_na_genre.append({'genre': 'other',\n",
    "                      countries[0]: relevant_data[countries[0]].sum() - df_na_genre[countries[0]].sum()}, \n",
    "                      ignore_index= True)\n",
    "df_eu_genre = df_eu_genre.append({'genre': 'other',\n",
    "                      countries[1]: relevant_data[countries[1]].sum() - df_eu_genre[countries[1]].sum()}, \n",
    "                      ignore_index= True)\n",
    "df_jp_genre = df_jp_genre.append({'genre': 'other',\n",
    "                      countries[2]: relevant_data[countries[2]].sum() - df_jp_genre[countries[2]].sum()}, \n",
    "                      ignore_index= True)\n",
    "\n",
    "# создадим круговую диаграмму для каждого региона\n",
    "df_na_genre.plot( y='na_sales', kind='pie', autopct='%.2f%%', ylabel= ' ', labels = df_na_genre['genre'], legend=None,\n",
    "                 title= 'NA', fontsize=10, ax = plt.subplot(1,3,1))\n",
    "df_eu_genre.plot( y='eu_sales', kind='pie', autopct='%.2f%%', ylabel= ' ', labels = df_eu_genre['genre'], legend=None,\n",
    "                 title= 'EU', fontsize=10, ax = plt.subplot(1,3,2))\n",
    "df_jp_genre.plot( y='jp_sales', kind='pie', autopct='%.2f%%', ylabel= ' ', labels = df_jp_genre['genre'], legend=None,\n",
    "                 title= 'JP', fontsize=10, ax = plt.subplot(1,3,3))\n",
    "plt.show()"
   ]
  },
  {
   "cell_type": "markdown",
   "metadata": {},
   "source": [
    "Выделим популярные жанры в разных регионах:\n",
    "\n",
    "Северной Америке: \n",
    "1. Shooter 27.82%\n",
    "2. Action 25.53%\n",
    "3. Sports 16.24%\n",
    "\n",
    "Европе\n",
    "1. Action 27.59%\n",
    "2. Shooter 24.21%\n",
    "3. Sports 16.89%\n",
    "\n",
    "Японии \n",
    "1. Role-Playing 33.47%\n",
    "2. Action 31.78%\n",
    "3. Fighting 6.84%\n",
    "\n",
    "В Северной Америке и Европе преобладают одинаковые жанры игр: шутеры, экшен и спортивные, в Японии же иное распределение там популярен жанры ролевыех игр и экшен. "
   ]
  },
  {
   "cell_type": "markdown",
   "metadata": {},
   "source": [
    "### Влияет ли рейтинг ESRB на продажи в отдельном регионе?"
   ]
  },
  {
   "cell_type": "markdown",
   "metadata": {},
   "source": [
    "Для начала определим, что означают эти сокращения в рейтингах:\n",
    "\n",
    "- «EC» («Early childhood») — «Для детей младшего возраста»: Игра подходит для детей от 3 лет и старше и не содержит материалов, которые родители могли бы счесть неподходящими.\n",
    "- «E» («Everyone») — «Для всех»: Содержание вполне подходит для возрастной категории старше 6 лет; такие игры могут понравиться и взрослым.Игры с этим рейтингом могут содержать минимальное насилие, в основном «мультяшного» характера.\n",
    "- «E10+» («Everyone 10 and older») — «Для всех старше 10 лет»: Возрастная категория — от 10 лет. Проекты с данным рейтингом могут содержать немного больше мультипликационного или мягкого насилия, или несколько откровенные сцены.\n",
    "- «T» («Teen») — «Подросткам 13—19 лет»: Игра подходит для подростков старше 13 лет. Проекты из данной категории могут содержать насилие, непристойные сцены, грубый юмор, в меру откровенное сексуальное содержимое, кровь или нечастое использование ненормативной лексики.\n",
    "- «M» («Mature») — «От 17 лет»: Материалы игры не подходят для возрастной категории младше 17 лет. Проекты с данным рейтингом могут содержать достаточно жестокое насилие, большое количество крови с расчленением, непристойные сексуальные сцены или грубую ненормативную лексику, нежелательную для младшей аудитории. \n",
    "- «AO» («Adults Only 18+») — «Только для взрослых»: Содержание игры только для взрослых. Продукты из данной категории могут содержать длительные сцены жестокого насилия и/или очень откровенное сексуальное содержимое, а также сцены с обнажением. \n",
    "- «RP» ( «Rating Pending»») — «Рейтинг ожидается»: Продукт был отправлен в ESRB и ожидает присвоение рейтинга. "
   ]
  },
  {
   "cell_type": "markdown",
   "metadata": {},
   "source": [
    "В столбце рейтинга у нас было около 40% пропущенных значений, заменим их на \"unknown\" для отображения в нашем исследовании."
   ]
  },
  {
   "cell_type": "code",
   "execution_count": 53,
   "metadata": {},
   "outputs": [],
   "source": [
    "relevant_data['rating'] =  relevant_data['rating'].fillna('unknown')"
   ]
  },
  {
   "cell_type": "code",
   "execution_count": 54,
   "metadata": {},
   "outputs": [],
   "source": [
    "esrb_region_sale = (relevant_data.groupby('rating')[['na_sales', 'eu_sales', 'jp_sales']]\n",
    "                    .sum()\n",
    "                    .sort_values(by='na_sales', ascending=False)\n",
    "                    .reset_index())"
   ]
  },
  {
   "cell_type": "code",
   "execution_count": 55,
   "metadata": {
    "scrolled": true
   },
   "outputs": [
    {
     "data": {
      "text/html": [
       "<div>\n",
       "<style scoped>\n",
       "    .dataframe tbody tr th:only-of-type {\n",
       "        vertical-align: middle;\n",
       "    }\n",
       "\n",
       "    .dataframe tbody tr th {\n",
       "        vertical-align: top;\n",
       "    }\n",
       "\n",
       "    .dataframe thead th {\n",
       "        text-align: right;\n",
       "    }\n",
       "</style>\n",
       "<table border=\"1\" class=\"dataframe\">\n",
       "  <thead>\n",
       "    <tr style=\"text-align: right;\">\n",
       "      <th></th>\n",
       "      <th>rating</th>\n",
       "      <th>na_sales</th>\n",
       "      <th>eu_sales</th>\n",
       "      <th>jp_sales</th>\n",
       "    </tr>\n",
       "  </thead>\n",
       "  <tbody>\n",
       "    <tr>\n",
       "      <th>0</th>\n",
       "      <td>M</td>\n",
       "      <td>96.42</td>\n",
       "      <td>93.44</td>\n",
       "      <td>8.01</td>\n",
       "    </tr>\n",
       "    <tr>\n",
       "      <th>1</th>\n",
       "      <td>unknown</td>\n",
       "      <td>64.72</td>\n",
       "      <td>58.95</td>\n",
       "      <td>56.90</td>\n",
       "    </tr>\n",
       "    <tr>\n",
       "      <th>2</th>\n",
       "      <td>E</td>\n",
       "      <td>50.74</td>\n",
       "      <td>58.06</td>\n",
       "      <td>8.94</td>\n",
       "    </tr>\n",
       "    <tr>\n",
       "      <th>3</th>\n",
       "      <td>T</td>\n",
       "      <td>38.95</td>\n",
       "      <td>34.07</td>\n",
       "      <td>14.78</td>\n",
       "    </tr>\n",
       "    <tr>\n",
       "      <th>4</th>\n",
       "      <td>E10+</td>\n",
       "      <td>33.23</td>\n",
       "      <td>26.16</td>\n",
       "      <td>4.46</td>\n",
       "    </tr>\n",
       "  </tbody>\n",
       "</table>\n",
       "</div>"
      ],
      "text/plain": [
       "    rating  na_sales  eu_sales  jp_sales\n",
       "0        M     96.42     93.44      8.01\n",
       "1  unknown     64.72     58.95     56.90\n",
       "2        E     50.74     58.06      8.94\n",
       "3        T     38.95     34.07     14.78\n",
       "4     E10+     33.23     26.16      4.46"
      ]
     },
     "execution_count": 55,
     "metadata": {},
     "output_type": "execute_result"
    }
   ],
   "source": [
    "esrb_region_sale"
   ]
  },
  {
   "cell_type": "markdown",
   "metadata": {},
   "source": [
    "Распределение возрастных рейтингов среди проданных игр схоже у всех трех регионов. \n",
    "- первое место одинаковое в Европе и Северной Америке рейтинг «M» («Mature») — «От 17 лет», который в Японии занимает лишь четвертое;\n",
    "- второе место в Европе и Северной Америке занимают пустые значения рейтинга, которые мы заменили на \"Unknown\", в Японии такие пустые значения занимают первое и значительное место;\n",
    "- третье место в Европе, Северной Америке и Японии занимает рейтинг «E» («Everyone») — «Для всех».\n",
    "\n",
    "Думаю пропуски в рейтингах различных игр могут быть из-за того, что в разных странах представлены разные рейтинговые модели: американская ESRB, европейская PEGI, японская CERO и там, где рейтинг пропущен у ESRB, он есть в другой модели. В Японии иной подход к возрастным рейтингам и цензуре вообще, возможно поэтому пустующая категория такая многочисленная.\n",
    "\n",
    "Можно сделать общий вывод, что распределение рейтинга ESRB в Европе и Северной Америке схоже, а в Японии значительную часть занимают игры с неизвестным рейтингом."
   ]
  },
  {
   "cell_type": "markdown",
   "metadata": {},
   "source": [
    "### Вывод\n",
    "\n",
    "За рассматриваемый период 2014-2016гг. самые популярные платформы:\n",
    "Первое место в Северной Америке и Европе занимает **PS4** 34.71% и 48.04% , доля этой платформы в Японии 16.13% и занимает она уже второе место. \n",
    "\n",
    "Второе место в Северной Америке и Европе занимает **XOne** 28.61% и 17.09%, которая в Японии не вышла в первую пятерку. Xbox One третья по счёту игровая приставка от компании Microsoft (Расположение США: Редмонд, Вашингтон). \n",
    "\n",
    "В Японии распределение по платформам отличается от Северной Америки и Европы, тут первое место и почти половину продаж 47.52% занимает **3DS**, которую производит Nintendo, которая в принципе является полностью японской компанией, в отличие от Sony Interactive Entertainment, которая производит пратформы PlayStation, являющейся транснациональной (США и Япония). \n",
    "\n",
    "Возможно пользователям из Японии ближе свой отечественный производитель, также как и XOne для жителей Северной Америки.\n",
    "\n",
    "Популярные жанры в разных регионах:\n",
    "\n",
    "Северной Америке: \n",
    "1. Shooter 27.82%\n",
    "2. Action 25.53%\n",
    "3. Sports 16.24%\n",
    "\n",
    "Европе\n",
    "1. Action 27.59%\n",
    "2. Shooter 24.21%\n",
    "3. Sports 16.89%\n",
    "\n",
    "Японии \n",
    "1. Role-Playing 33.47%\n",
    "2. Action 31.78%\n",
    "3. Fighting 6.84%\n",
    "\n",
    "В Северной Америке и Европе преобладают одинаковые жанры игр: шутеры, экшен и спортивные, в Японии же иное распределение там популярен жанры ролевыех игр и экшен. \n",
    "\n",
    "\n",
    "Распределение возрастных рейтингов среди проданных игр схоже у всех трех регионов. \n",
    "- первое место одинаковое в Европе и Северной Америке рейтинг «M» («Mature») — «От 17 лет», который в Японии занимает лишь четвертое;\n",
    "- второе место в Европе и Северной Америке занимают пустые значения рейтинга, которые мы заменили на \"Unknown\", в Японии такие пустые значения занимают первое и значительное место;\n",
    "- третье место в Европе, Северной Америке и Японии занимает рейтинг «E» («Everyone») — «Для всех».\n",
    "\n",
    "Думаю пропуски в рейтингах различных игр могут быть из-за того, что в разных странах представлены разные рейтинговые модели: американская ESRB, европейская PEGI, японская CERO и там, где рейтинг пропущен у ESRB, он есть в другой модели. В Японии иной подход к возрастным рейтингам и цензуре вообще, возможно поэтому пустующая категория такая многочисленная.\n",
    "\n",
    "Можно сделать общий вывод, что распределение рейтинга ESRB в Европе и Северной Америке схоже, а в Японии значительную часть занимают игры с неизвестным рейтингом."
   ]
  },
  {
   "cell_type": "markdown",
   "metadata": {},
   "source": [
    "## Проверка гипотез"
   ]
  },
  {
   "cell_type": "markdown",
   "metadata": {},
   "source": [
    "### Проверка гипотезы  о том, что средние пользовательские рейтинги платформ Xbox One и PC одинаковые"
   ]
  },
  {
   "cell_type": "markdown",
   "metadata": {},
   "source": [
    "Сформулируем нулевую и альтернативные гипотезы:\n",
    "\n",
    "H₀ - средние пользовательские рейтинги платформ Xbox One и PC **равны**.\n",
    "\n",
    "H₁ - средние пользовательские рейтинги платформ Xbox One и PC **не равны**."
   ]
  },
  {
   "cell_type": "code",
   "execution_count": 56,
   "metadata": {
    "scrolled": true
   },
   "outputs": [
    {
     "name": "stdout",
     "output_type": "stream",
     "text": [
      "Дисперсия XOne:  1.8965188383045526\n",
      "Дисперсия PS:  1.7874593568292394\n",
      "Размер выборки XOne:  182\n",
      "Размер выборки PS:  159\n"
     ]
    }
   ],
   "source": [
    "# Создадим переменные с выборками и удалим из них пропущенные значения пользовательских  оценок.\n",
    "xone = data.query('platform == \"XOne\"')['user_score'].dropna()\n",
    "ps = data.query('platform == \"PS\"')['user_score'].dropna()\n",
    "\n",
    "# Вычислим дисперсию и размер выборки для определения параметра equal_var\n",
    "print('Дисперсия XOne: ', np.var(xone))\n",
    "print('Дисперсия PS: ', np.var(ps))\n",
    "print('Размер выборки XOne: ', len(xone))\n",
    "print('Размер выборки PS: ', len(ps))"
   ]
  },
  {
   "cell_type": "code",
   "execution_count": 57,
   "metadata": {},
   "outputs": [
    {
     "name": "stdout",
     "output_type": "stream",
     "text": [
      "p-значение:  1.1253706429491469e-17\n",
      "Отвергаем нулевую гипотезу\n"
     ]
    }
   ],
   "source": [
    "alpha = 0.05 # критический уровень статистической значимости\n",
    "\n",
    "results = st.ttest_ind(xone, ps, equal_var = False)\n",
    "\n",
    "print('p-значение: ', results.pvalue)\n",
    "if results.pvalue < alpha:  # если p-value окажется меньше alpha - отвегнем гипотезу\n",
    "    print(\"Отвергаем нулевую гипотезу\")\n",
    "else:\n",
    "    print(\"Не получилось отвергнуть нулевую гипотезу\") "
   ]
  },
  {
   "cell_type": "markdown",
   "metadata": {},
   "source": [
    "Вывод: средние пользовательские рейтинги платформ Xbox One и PC не равны."
   ]
  },
  {
   "cell_type": "markdown",
   "metadata": {},
   "source": [
    "### Проверка гипотезы о том, что средние пользовательские рейтинги жанров Action и Sports разные"
   ]
  },
  {
   "cell_type": "markdown",
   "metadata": {},
   "source": [
    "Сформулируем нулевую и альтернативные гипотезы:\n",
    "\n",
    "H₀ - средние пользовательские рейтинги жанров Action и Sports **равны**.\n",
    "\n",
    "H₁ - средние пользовательские рейтинги жанров Action и Sports **не равны**."
   ]
  },
  {
   "cell_type": "code",
   "execution_count": 58,
   "metadata": {},
   "outputs": [
    {
     "name": "stdout",
     "output_type": "stream",
     "text": [
      "Дисперсия Action:  2.0263648741821716\n",
      "Дисперсия Sports:  2.6206293039045456\n",
      "Размер выборки Action:  1796\n",
      "Размер выборки Sports:  1081\n"
     ]
    }
   ],
   "source": [
    "# Создадим переменные с выборками и удалим из них пропущенные значения пользовательских  оценок.\n",
    "action = data.query('genre == \"Action\"')['user_score'].dropna()\n",
    "sports = data.query('genre == \"Sports\"')['user_score'].dropna()\n",
    "\n",
    "# Вычислим дисперсию и размер выборки для определения параметра equal_var\n",
    "print('Дисперсия Action: ', np.var(action))\n",
    "print('Дисперсия Sports: ', np.var(sports))\n",
    "print('Размер выборки Action: ', len(action))\n",
    "print('Размер выборки Sports: ', len(sports))"
   ]
  },
  {
   "cell_type": "code",
   "execution_count": 59,
   "metadata": {},
   "outputs": [
    {
     "name": "stdout",
     "output_type": "stream",
     "text": [
      "p-значение:  0.07370217419278534\n",
      "Не получилось отвергнуть нулевую гипотезу\n"
     ]
    }
   ],
   "source": [
    "alpha = 0.05 # критический уровень статистической значимости\n",
    "\n",
    "results = st.ttest_ind(action, sports, equal_var = False)\n",
    "\n",
    "print('p-значение: ', results.pvalue)\n",
    "if results.pvalue < alpha:  # если p-value окажется меньше alpha - отвегнем гипотезу\n",
    "    print(\"Отвергаем нулевую гипотезу\")\n",
    "else:\n",
    "    print(\"Не получилось отвергнуть нулевую гипотезу\") "
   ]
  },
  {
   "cell_type": "markdown",
   "metadata": {},
   "source": [
    "Cредние пользовательские рейтинги жанров Action и Sports равны."
   ]
  },
  {
   "cell_type": "markdown",
   "metadata": {},
   "source": [
    "### Вывод\n",
    "\n",
    "В результате проверки двух гипотез: \n",
    "- Первая гипотеза о том, что средние пользовательские рейтинги платформ Xbox One и PC одинаковые - не подтвердилась, т.е. средние значения этих выборок не равны.\n",
    "\n",
    "- Вторая гипотеза о том, что средние пользовательские рейтинги жанров Action и Sports одинаковые - подтвердилась, т.е. средние значения этих выборок оказались равны. "
   ]
  },
  {
   "cell_type": "markdown",
   "metadata": {},
   "source": [
    "## Общий вывод"
   ]
  },
  {
   "cell_type": "markdown",
   "metadata": {},
   "source": [
    "**В предобработке данных**\n",
    "\n",
    "Была проведена замена регистра столбцов на нижний.\n",
    "\n",
    "Была проведена работа с пропусками:\n",
    "- В столбце name и genre были удалены одни и те же 2 строчки, т.к. их информативность и доля мала;\n",
    "- В столбце year_of_release пропущено 1.6% значений, было решено удалить эти пропуски;\n",
    "- В столбце rating пропущено 40.5% значений; \n",
    "- В столбце user_score пропущено 54.6%;\n",
    "- В столбце critic_score пропущено 51.3%.\n",
    "\n",
    "Были переведены данные в удобные для дальнейшей работы форматы:\n",
    "- В столбце user_score было обнаружено значение \"tbd\", которое мы заменили на NaN. \n",
    "- Столбец year_of_release был переведен в формат int.\n",
    "- Столбец user_score в формат float.\n",
    "\n",
    "**Итоги иссследования данных выявили** \n",
    "\n",
    "Жизненный цикл платформ судя по графикам около 10 лет. Для дальнейшего анализа возьмем период **с 2014 до 2016 гг.**, чтобы изучить актуальные тенденции.\n",
    "\n",
    "- У каждой платформы есть выбросы - игры, значение суммарных продаж которых значительно отличается от основной массы.\n",
    "- У PS4, Wii, WiiU и XOne наибольшие медианные значения около 0,20.\n",
    "- Платформы  PS4, 3DS и XOne выделяются своими выбросами, т.е. играми, у которых очень высокие продажи по сравнению с остальными.\n",
    "- У платформы PSP, выбранный временной интервал застает лишь конец жизни, поэтому значения очень низкие. \n",
    "- Также очень низкое медианное занчение продаж у платформы PSV, видимо это связано с тем, что это всё же портативная консоль, а не стационарная, однако 3DS не смотря на свою портативность имеет более высокие показатели.\n",
    "\n",
    "**Про корреляцию между пользовательскими оценками, оценками критиков и суммарными продажами**:\n",
    "По платформе PS4 между оценкой критиков и суммарными продажами, а также оценкой пользователей и суммарными продажами практически похожая ситуация:\n",
    "- основная масса игр на платформе PS4 имеет продажи менее 2 млн копий; \n",
    "- видны выбросы т.е. игры, далеко выходящие за эти значения;\n",
    "- большая концентрация рассеянных точек расположена от 60 до 90 оценок критиков, что свидетельствует о том, что игры, у которых высокая оценка критиков продаются лучше. У оценок пользователей от 6 до 8 также есть эта связь. \n",
    "\n",
    "Корреляция оценок критиков и суммарных продаж слабая прямая (0.40), а у оценок пользователей и суммарными продажам она отсутствует(-0.04).\n",
    "\n",
    "По остальным платформам прослеживается такая же взаимосвязь - оценки критиков имеют слабую прямую связь в продажах игр на платформах - чем выше оценка, тем больше продажи. С оценками обычных пользователей связи нет. Отдельно стоит отметить, что платформа 3DS показывает нам, что связи между оценками критиков, пользователей и продажами практически нет.\n",
    "\n",
    "**Про наиболее продаваемые жанры**\n",
    "\n",
    "Выпускается больше всего игр жанра **action** - 619, меньше всего игр **Puzzle** - 14.\n",
    "\n",
    "Суммарные продажи у жанров **action** и **shooter** достаточно высокие 199.36 и 170.94 миллионов проданных копий. \n",
    "\n",
    "Низкие продажи у жанров **strategy** и **puzzle** 3.96 и 2.21 миллионов проданных копий.\n",
    "\n",
    "Самым продаваемым жанром является **shooter**, у которого достаточно высокие медианные продажи 0.515, от 50% до 75% игр в жанре shooter имеют продажи значительно выше от 0.5 до 1.6 млн копий, чем игры в других жанрах от 0.05 до 0.25. \n",
    "\n",
    "Самые низкие продажи как по количеству, так и по суммарным продажам и медиане суммарных продаж имеет жанр **Puzzle**.\n",
    "\n",
    "За рассматриваемый период 2014-2016гг. **самые популярные платформы**:\n",
    "Первое место в Северной Америке и Европе занимает **PS4** 34.71% и 48.04% , доля этой платформы в Японии 16.13% и занимает она уже второе место. \n",
    "\n",
    "Второе место в Северной Америке и Европе занимает **XOne** 28.61% и 17.09%, которая в Японии не вышла в первую пятерку. Xbox One третья по счёту игровая приставка от компании Microsoft (Расположение США: Редмонд, Вашингтон). \n",
    "\n",
    "В Японии распределение по платформам отличается от Северной Америки и Европы, тут первое место и почти половину продаж 47.52% занимает **3DS**, которую производит Nintendo, которая в принципе является полностью японской компанией, в отличие от Sony Interactive Entertainment, которая производит пратформы PlayStation, являющейся транснациональной (США и Япония). \n",
    "\n",
    "Возможно пользователям из Японии ближе свой отечественный производитель, также как и XOne для жителей Северной Америки.\n",
    "\n",
    "**Популярные жанры** в разных регионах:\n",
    "\n",
    "Северной Америке: \n",
    "1. Shooter 27.82%\n",
    "2. Action 25.53%\n",
    "3. Sports 16.24%\n",
    "\n",
    "Европе\n",
    "1. Action 27.59%\n",
    "2. Shooter 24.21%\n",
    "3. Sports 16.89%\n",
    "\n",
    "Японии \n",
    "1. Role-Playing 33.47%\n",
    "2. Action 31.78%\n",
    "3. Fighting 6.84%\n",
    "\n",
    "В Северной Америке и Европе преобладают одинаковые жанры игр: шутеры, экшен и спортивные, в Японии же иное распределение там популярен жанры ролевыех игр и экшен. \n",
    "\n",
    "\n",
    "Распределение **возрастных рейтингов** среди проданных игр схоже у всех трех регионов. \n",
    "- первое место одинаковое в Европе и Северной Америке рейтинг «M» («Mature») — «От 17 лет», который в Японии занимает лишь четвертое;\n",
    "- второе место в Европе и Северной Америке занимают пустые значения рейтинга, которые мы заменили на \"Unknown\", в Японии такие пустые значения занимают первое и значительное место;\n",
    "- третье место в Европе, Северной Америке и Японии занимает рейтинг «E» («Everyone») — «Для всех».\n",
    "\n",
    "Думаю пропуски в рейтингах различных игр могут быть из-за того, что в разных странах представлены разные рейтинговые модели: американская ESRB, европейская PEGI, японская CERO и там, где рейтинг пропущен у ESRB, он есть в другой модели. В Японии иной подход к возрастным рейтингам и цензуре вообще, возможно поэтому пустующая категория такая многочисленная.\n",
    "\n",
    "Можно сделать общий вывод, что распределение рейтинга ESRB в Европе и Северной Америке схоже, а в Японии значительную часть занимают игры с неизвестным рейтингом.\n",
    "\n",
    "В результате **проверки двух гипотез**: \n",
    "- Первая гипотеза о том, что средние пользовательские рейтинги платформ Xbox One и PC одинаковые - не подтвердилась, т.е. средние значения этих выборок не равны.\n",
    "\n",
    "- Вторая гипотеза о том, что средние пользовательские рейтинги жанров Action и Sports одинаковые - подтвердилась, т.е. средние значения этих выборок оказались равны. "
   ]
  }
 ],
 "metadata": {
  "ExecuteTimeLog": [
   {
    "duration": 1433,
    "start_time": "2022-04-20T08:01:26.549Z"
   },
   {
    "duration": 198,
    "start_time": "2022-04-20T08:01:27.984Z"
   },
   {
    "duration": 5,
    "start_time": "2022-04-20T08:01:28.185Z"
   },
   {
    "duration": 148,
    "start_time": "2022-04-20T08:01:28.192Z"
   },
   {
    "duration": 5,
    "start_time": "2022-04-20T08:01:28.345Z"
   },
   {
    "duration": 18,
    "start_time": "2022-04-20T08:01:28.354Z"
   },
   {
    "duration": 24,
    "start_time": "2022-04-20T08:01:28.374Z"
   },
   {
    "duration": 38,
    "start_time": "2022-04-20T08:01:28.401Z"
   },
   {
    "duration": 27,
    "start_time": "2022-04-20T08:01:28.443Z"
   },
   {
    "duration": 43,
    "start_time": "2022-04-20T08:01:28.473Z"
   },
   {
    "duration": 18,
    "start_time": "2022-04-20T08:01:28.519Z"
   },
   {
    "duration": 38,
    "start_time": "2022-04-20T08:01:28.540Z"
   },
   {
    "duration": 7,
    "start_time": "2022-04-20T08:01:28.581Z"
   },
   {
    "duration": 38,
    "start_time": "2022-04-20T08:01:28.594Z"
   },
   {
    "duration": 15,
    "start_time": "2022-04-20T08:01:28.634Z"
   },
   {
    "duration": 12,
    "start_time": "2022-04-20T08:01:28.651Z"
   },
   {
    "duration": 38,
    "start_time": "2022-04-20T08:01:28.665Z"
   },
   {
    "duration": 29,
    "start_time": "2022-04-20T08:01:28.705Z"
   },
   {
    "duration": 14,
    "start_time": "2022-04-20T08:01:28.737Z"
   },
   {
    "duration": 9,
    "start_time": "2022-04-20T08:01:28.753Z"
   },
   {
    "duration": 13,
    "start_time": "2022-04-20T08:01:28.764Z"
   },
   {
    "duration": 6,
    "start_time": "2022-04-20T08:01:28.779Z"
   },
   {
    "duration": 60,
    "start_time": "2022-04-20T08:01:28.787Z"
   },
   {
    "duration": 20,
    "start_time": "2022-04-20T08:01:28.850Z"
   },
   {
    "duration": 74,
    "start_time": "2022-04-20T08:01:28.873Z"
   },
   {
    "duration": 21,
    "start_time": "2022-04-20T08:01:28.949Z"
   },
   {
    "duration": 643,
    "start_time": "2022-04-20T08:01:28.972Z"
   },
   {
    "duration": 113,
    "start_time": "2022-04-20T08:01:29.618Z"
   },
   {
    "duration": 764,
    "start_time": "2022-04-20T08:01:29.734Z"
   },
   {
    "duration": 40,
    "start_time": "2022-04-20T08:01:30.500Z"
   },
   {
    "duration": 58,
    "start_time": "2022-04-20T08:01:30.543Z"
   },
   {
    "duration": 515,
    "start_time": "2022-04-20T08:01:30.603Z"
   },
   {
    "duration": 11,
    "start_time": "2022-04-20T08:01:31.121Z"
   },
   {
    "duration": 20,
    "start_time": "2022-04-20T08:01:31.134Z"
   },
   {
    "duration": 256,
    "start_time": "2022-04-20T08:01:31.157Z"
   },
   {
    "duration": 596,
    "start_time": "2022-04-20T08:01:31.415Z"
   },
   {
    "duration": 56,
    "start_time": "2022-04-20T08:01:32.014Z"
   },
   {
    "duration": 11,
    "start_time": "2022-04-20T08:14:43.421Z"
   },
   {
    "duration": 903,
    "start_time": "2022-04-20T08:41:41.882Z"
   },
   {
    "duration": 711,
    "start_time": "2022-04-20T08:41:55.642Z"
   },
   {
    "duration": 31,
    "start_time": "2022-04-20T09:03:13.191Z"
   },
   {
    "duration": 956,
    "start_time": "2022-04-20T09:03:15.923Z"
   },
   {
    "duration": 1549,
    "start_time": "2022-04-20T09:05:20.385Z"
   },
   {
    "duration": 125,
    "start_time": "2022-04-20T09:05:21.937Z"
   },
   {
    "duration": 5,
    "start_time": "2022-04-20T09:05:22.064Z"
   },
   {
    "duration": 113,
    "start_time": "2022-04-20T09:05:22.071Z"
   },
   {
    "duration": 5,
    "start_time": "2022-04-20T09:05:22.187Z"
   },
   {
    "duration": 30,
    "start_time": "2022-04-20T09:05:22.194Z"
   },
   {
    "duration": 23,
    "start_time": "2022-04-20T09:05:22.227Z"
   },
   {
    "duration": 38,
    "start_time": "2022-04-20T09:05:22.253Z"
   },
   {
    "duration": 41,
    "start_time": "2022-04-20T09:05:22.293Z"
   },
   {
    "duration": 24,
    "start_time": "2022-04-20T09:05:22.336Z"
   },
   {
    "duration": 27,
    "start_time": "2022-04-20T09:05:22.362Z"
   },
   {
    "duration": 46,
    "start_time": "2022-04-20T09:05:22.390Z"
   },
   {
    "duration": 23,
    "start_time": "2022-04-20T09:05:22.438Z"
   },
   {
    "duration": 18,
    "start_time": "2022-04-20T09:05:22.465Z"
   },
   {
    "duration": 26,
    "start_time": "2022-04-20T09:05:22.485Z"
   },
   {
    "duration": 18,
    "start_time": "2022-04-20T09:05:22.513Z"
   },
   {
    "duration": 44,
    "start_time": "2022-04-20T09:05:22.533Z"
   },
   {
    "duration": 8,
    "start_time": "2022-04-20T09:05:22.579Z"
   },
   {
    "duration": 21,
    "start_time": "2022-04-20T09:05:22.589Z"
   },
   {
    "duration": 13,
    "start_time": "2022-04-20T09:05:22.613Z"
   },
   {
    "duration": 11,
    "start_time": "2022-04-20T09:05:22.628Z"
   },
   {
    "duration": 5,
    "start_time": "2022-04-20T09:05:22.642Z"
   },
   {
    "duration": 33,
    "start_time": "2022-04-20T09:05:22.649Z"
   },
   {
    "duration": 41,
    "start_time": "2022-04-20T09:05:22.685Z"
   },
   {
    "duration": 35,
    "start_time": "2022-04-20T09:05:22.728Z"
   },
   {
    "duration": 20,
    "start_time": "2022-04-20T09:05:22.765Z"
   },
   {
    "duration": 845,
    "start_time": "2022-04-20T09:05:22.788Z"
   },
   {
    "duration": 162,
    "start_time": "2022-04-20T09:05:23.635Z"
   },
   {
    "duration": 1110,
    "start_time": "2022-04-20T09:05:23.800Z"
   },
   {
    "duration": 20,
    "start_time": "2022-04-20T09:05:24.925Z"
   },
   {
    "duration": 76,
    "start_time": "2022-04-20T09:05:24.948Z"
   },
   {
    "duration": 492,
    "start_time": "2022-04-20T09:05:25.028Z"
   },
   {
    "duration": 10,
    "start_time": "2022-04-20T09:05:25.524Z"
   },
   {
    "duration": 14,
    "start_time": "2022-04-20T09:05:25.537Z"
   },
   {
    "duration": 264,
    "start_time": "2022-04-20T09:05:25.553Z"
   },
   {
    "duration": 763,
    "start_time": "2022-04-20T09:05:25.820Z"
   },
   {
    "duration": 63,
    "start_time": "2022-04-20T09:05:26.586Z"
   },
   {
    "duration": 1083,
    "start_time": "2022-04-20T09:05:26.652Z"
   },
   {
    "duration": 18,
    "start_time": "2022-04-20T09:05:27.738Z"
   },
   {
    "duration": 22,
    "start_time": "2022-04-20T09:05:27.758Z"
   },
   {
    "duration": 55,
    "start_time": "2022-04-20T09:05:27.786Z"
   },
   {
    "duration": 24,
    "start_time": "2022-04-20T09:05:27.844Z"
   },
   {
    "duration": 60,
    "start_time": "2022-04-20T09:05:27.871Z"
   },
   {
    "duration": 593,
    "start_time": "2022-04-20T09:05:27.934Z"
   },
   {
    "duration": 589,
    "start_time": "2022-04-20T09:05:28.530Z"
   },
   {
    "duration": 357,
    "start_time": "2022-04-20T09:05:29.125Z"
   },
   {
    "duration": 333,
    "start_time": "2022-04-20T09:05:29.485Z"
   },
   {
    "duration": 486,
    "start_time": "2022-04-20T09:05:29.820Z"
   },
   {
    "duration": 349,
    "start_time": "2022-04-20T09:05:30.308Z"
   },
   {
    "duration": 337,
    "start_time": "2022-04-20T09:05:30.660Z"
   },
   {
    "duration": 454,
    "start_time": "2022-04-20T09:05:31.000Z"
   },
   {
    "duration": 11,
    "start_time": "2022-04-20T09:05:31.457Z"
   },
   {
    "duration": 27,
    "start_time": "2022-04-20T09:05:31.471Z"
   },
   {
    "duration": 36,
    "start_time": "2022-04-20T09:05:31.501Z"
   },
   {
    "duration": 6,
    "start_time": "2022-04-20T09:05:31.540Z"
   },
   {
    "duration": 33,
    "start_time": "2022-04-20T09:05:31.548Z"
   },
   {
    "duration": 7,
    "start_time": "2022-04-20T09:05:31.583Z"
   },
   {
    "duration": 895,
    "start_time": "2022-04-20T09:24:46.142Z"
   },
   {
    "duration": 893,
    "start_time": "2022-04-20T09:24:57.101Z"
   },
   {
    "duration": 616,
    "start_time": "2022-04-20T09:25:00.302Z"
   },
   {
    "duration": 596,
    "start_time": "2022-04-20T09:25:06.701Z"
   },
   {
    "duration": 123,
    "start_time": "2022-04-20T09:29:20.283Z"
   },
   {
    "duration": 1776,
    "start_time": "2022-04-21T08:22:27.567Z"
   },
   {
    "duration": 113,
    "start_time": "2022-04-21T08:22:29.347Z"
   },
   {
    "duration": 5,
    "start_time": "2022-04-21T08:22:29.462Z"
   },
   {
    "duration": 99,
    "start_time": "2022-04-21T08:22:29.470Z"
   },
   {
    "duration": 12,
    "start_time": "2022-04-21T08:22:29.571Z"
   },
   {
    "duration": 15,
    "start_time": "2022-04-21T08:22:29.585Z"
   },
   {
    "duration": 10,
    "start_time": "2022-04-21T08:22:29.601Z"
   },
   {
    "duration": 17,
    "start_time": "2022-04-21T08:22:29.613Z"
   },
   {
    "duration": 20,
    "start_time": "2022-04-21T08:22:29.633Z"
   },
   {
    "duration": 14,
    "start_time": "2022-04-21T08:22:29.682Z"
   },
   {
    "duration": 9,
    "start_time": "2022-04-21T08:22:29.699Z"
   },
   {
    "duration": 36,
    "start_time": "2022-04-21T08:22:29.710Z"
   },
   {
    "duration": 5,
    "start_time": "2022-04-21T08:22:29.748Z"
   },
   {
    "duration": 27,
    "start_time": "2022-04-21T08:22:29.755Z"
   },
   {
    "duration": 46,
    "start_time": "2022-04-21T08:22:29.784Z"
   },
   {
    "duration": 18,
    "start_time": "2022-04-21T08:22:29.832Z"
   },
   {
    "duration": 9,
    "start_time": "2022-04-21T08:22:29.852Z"
   },
   {
    "duration": 33,
    "start_time": "2022-04-21T08:22:29.863Z"
   },
   {
    "duration": 7,
    "start_time": "2022-04-21T08:22:29.898Z"
   },
   {
    "duration": 11,
    "start_time": "2022-04-21T08:22:29.907Z"
   },
   {
    "duration": 14,
    "start_time": "2022-04-21T08:22:29.920Z"
   },
   {
    "duration": 18,
    "start_time": "2022-04-21T08:22:29.936Z"
   },
   {
    "duration": 25,
    "start_time": "2022-04-21T08:22:29.956Z"
   },
   {
    "duration": 4,
    "start_time": "2022-04-21T08:22:29.984Z"
   },
   {
    "duration": 26,
    "start_time": "2022-04-21T08:22:29.990Z"
   },
   {
    "duration": 18,
    "start_time": "2022-04-21T08:22:30.018Z"
   },
   {
    "duration": 63,
    "start_time": "2022-04-21T08:22:30.038Z"
   },
   {
    "duration": 21,
    "start_time": "2022-04-21T08:22:30.107Z"
   },
   {
    "duration": 625,
    "start_time": "2022-04-21T08:22:30.131Z"
   },
   {
    "duration": 107,
    "start_time": "2022-04-21T08:22:30.758Z"
   },
   {
    "duration": 771,
    "start_time": "2022-04-21T08:22:30.867Z"
   },
   {
    "duration": 17,
    "start_time": "2022-04-21T08:22:31.641Z"
   },
   {
    "duration": 63,
    "start_time": "2022-04-21T08:22:31.661Z"
   },
   {
    "duration": 495,
    "start_time": "2022-04-21T08:22:31.727Z"
   },
   {
    "duration": 11,
    "start_time": "2022-04-21T08:22:32.225Z"
   },
   {
    "duration": 11,
    "start_time": "2022-04-21T08:22:32.238Z"
   },
   {
    "duration": 273,
    "start_time": "2022-04-21T08:22:32.251Z"
   },
   {
    "duration": 581,
    "start_time": "2022-04-21T08:22:32.527Z"
   },
   {
    "duration": 30,
    "start_time": "2022-04-21T08:22:33.110Z"
   },
   {
    "duration": 1124,
    "start_time": "2022-04-21T08:22:33.142Z"
   },
   {
    "duration": 18,
    "start_time": "2022-04-21T08:22:34.268Z"
   },
   {
    "duration": 20,
    "start_time": "2022-04-21T08:22:34.288Z"
   },
   {
    "duration": 20,
    "start_time": "2022-04-21T08:22:34.310Z"
   },
   {
    "duration": 61,
    "start_time": "2022-04-21T08:22:34.332Z"
   },
   {
    "duration": 23,
    "start_time": "2022-04-21T08:22:34.395Z"
   },
   {
    "duration": 595,
    "start_time": "2022-04-21T08:22:34.421Z"
   },
   {
    "duration": 593,
    "start_time": "2022-04-21T08:22:35.018Z"
   },
   {
    "duration": 351,
    "start_time": "2022-04-21T08:22:35.613Z"
   },
   {
    "duration": 335,
    "start_time": "2022-04-21T08:22:35.966Z"
   },
   {
    "duration": 335,
    "start_time": "2022-04-21T08:22:36.303Z"
   },
   {
    "duration": 346,
    "start_time": "2022-04-21T08:22:36.640Z"
   },
   {
    "duration": 342,
    "start_time": "2022-04-21T08:22:36.988Z"
   },
   {
    "duration": 343,
    "start_time": "2022-04-21T08:22:37.333Z"
   },
   {
    "duration": 10,
    "start_time": "2022-04-21T08:22:37.682Z"
   },
   {
    "duration": 26,
    "start_time": "2022-04-21T08:22:37.694Z"
   },
   {
    "duration": 15,
    "start_time": "2022-04-21T08:22:37.722Z"
   },
   {
    "duration": 6,
    "start_time": "2022-04-21T08:22:37.740Z"
   },
   {
    "duration": 45,
    "start_time": "2022-04-21T08:22:37.748Z"
   },
   {
    "duration": 6,
    "start_time": "2022-04-21T08:22:37.796Z"
   },
   {
    "duration": 1501,
    "start_time": "2022-04-21T08:35:50.852Z"
   },
   {
    "duration": 138,
    "start_time": "2022-04-21T08:35:52.356Z"
   },
   {
    "duration": 5,
    "start_time": "2022-04-21T08:35:52.496Z"
   },
   {
    "duration": 118,
    "start_time": "2022-04-21T08:35:52.503Z"
   },
   {
    "duration": 4,
    "start_time": "2022-04-21T08:35:52.624Z"
   },
   {
    "duration": 6,
    "start_time": "2022-04-21T08:35:52.630Z"
   },
   {
    "duration": 8,
    "start_time": "2022-04-21T08:35:52.638Z"
   },
   {
    "duration": 39,
    "start_time": "2022-04-21T08:35:52.648Z"
   },
   {
    "duration": 20,
    "start_time": "2022-04-21T08:35:52.689Z"
   },
   {
    "duration": 14,
    "start_time": "2022-04-21T08:35:52.713Z"
   },
   {
    "duration": 13,
    "start_time": "2022-04-21T08:35:52.730Z"
   },
   {
    "duration": 31,
    "start_time": "2022-04-21T08:35:52.782Z"
   },
   {
    "duration": 7,
    "start_time": "2022-04-21T08:35:52.816Z"
   },
   {
    "duration": 10,
    "start_time": "2022-04-21T08:35:52.825Z"
   },
   {
    "duration": 9,
    "start_time": "2022-04-21T08:35:52.838Z"
   },
   {
    "duration": 7,
    "start_time": "2022-04-21T08:35:52.882Z"
   },
   {
    "duration": 35,
    "start_time": "2022-04-21T08:35:52.890Z"
   },
   {
    "duration": 7,
    "start_time": "2022-04-21T08:35:52.927Z"
   },
   {
    "duration": 12,
    "start_time": "2022-04-21T08:35:52.937Z"
   },
   {
    "duration": 6,
    "start_time": "2022-04-21T08:35:52.981Z"
   },
   {
    "duration": 13,
    "start_time": "2022-04-21T08:35:52.989Z"
   },
   {
    "duration": 6,
    "start_time": "2022-04-21T08:35:53.004Z"
   },
   {
    "duration": 27,
    "start_time": "2022-04-21T08:35:53.012Z"
   },
   {
    "duration": 46,
    "start_time": "2022-04-21T08:35:53.041Z"
   },
   {
    "duration": 36,
    "start_time": "2022-04-21T08:35:53.089Z"
   },
   {
    "duration": 55,
    "start_time": "2022-04-21T08:35:53.128Z"
   },
   {
    "duration": 609,
    "start_time": "2022-04-21T08:35:53.186Z"
   },
   {
    "duration": 107,
    "start_time": "2022-04-21T08:35:53.802Z"
   },
   {
    "duration": 751,
    "start_time": "2022-04-21T08:35:53.911Z"
   },
   {
    "duration": 16,
    "start_time": "2022-04-21T08:35:54.665Z"
   },
   {
    "duration": 51,
    "start_time": "2022-04-21T08:35:54.684Z"
   },
   {
    "duration": 494,
    "start_time": "2022-04-21T08:35:54.737Z"
   },
   {
    "duration": 8,
    "start_time": "2022-04-21T08:35:55.233Z"
   },
   {
    "duration": 9,
    "start_time": "2022-04-21T08:35:55.243Z"
   },
   {
    "duration": 259,
    "start_time": "2022-04-21T08:35:55.254Z"
   },
   {
    "duration": 572,
    "start_time": "2022-04-21T08:35:55.515Z"
   },
   {
    "duration": 30,
    "start_time": "2022-04-21T08:35:56.089Z"
   },
   {
    "duration": 1034,
    "start_time": "2022-04-21T08:35:56.121Z"
   },
   {
    "duration": 26,
    "start_time": "2022-04-21T08:35:57.157Z"
   },
   {
    "duration": 21,
    "start_time": "2022-04-21T08:35:57.185Z"
   },
   {
    "duration": 20,
    "start_time": "2022-04-21T08:35:57.208Z"
   },
   {
    "duration": 54,
    "start_time": "2022-04-21T08:35:57.230Z"
   },
   {
    "duration": 24,
    "start_time": "2022-04-21T08:35:57.286Z"
   },
   {
    "duration": 596,
    "start_time": "2022-04-21T08:35:57.311Z"
   },
   {
    "duration": 579,
    "start_time": "2022-04-21T08:35:57.909Z"
   },
   {
    "duration": 359,
    "start_time": "2022-04-21T08:35:58.490Z"
   },
   {
    "duration": 326,
    "start_time": "2022-04-21T08:35:58.851Z"
   },
   {
    "duration": 317,
    "start_time": "2022-04-21T08:35:59.181Z"
   },
   {
    "duration": 333,
    "start_time": "2022-04-21T08:35:59.500Z"
   },
   {
    "duration": 335,
    "start_time": "2022-04-21T08:35:59.835Z"
   },
   {
    "duration": 337,
    "start_time": "2022-04-21T08:36:00.172Z"
   },
   {
    "duration": 11,
    "start_time": "2022-04-21T08:36:00.511Z"
   },
   {
    "duration": 64,
    "start_time": "2022-04-21T08:36:00.524Z"
   },
   {
    "duration": 40,
    "start_time": "2022-04-21T08:36:00.590Z"
   },
   {
    "duration": 45,
    "start_time": "2022-04-21T08:36:00.632Z"
   },
   {
    "duration": 35,
    "start_time": "2022-04-21T08:36:00.679Z"
   },
   {
    "duration": 96,
    "start_time": "2022-04-21T08:36:00.716Z"
   },
   {
    "duration": 32,
    "start_time": "2022-04-21T08:38:43.016Z"
   },
   {
    "duration": 153,
    "start_time": "2022-04-21T08:43:22.163Z"
   },
   {
    "duration": 743,
    "start_time": "2022-04-21T08:44:12.155Z"
   },
   {
    "duration": 10,
    "start_time": "2022-04-21T09:32:31.396Z"
   },
   {
    "duration": 1511,
    "start_time": "2022-04-21T09:34:45.235Z"
   },
   {
    "duration": 118,
    "start_time": "2022-04-21T09:34:46.749Z"
   },
   {
    "duration": 7,
    "start_time": "2022-04-21T09:34:46.869Z"
   },
   {
    "duration": 110,
    "start_time": "2022-04-21T09:34:46.879Z"
   },
   {
    "duration": 4,
    "start_time": "2022-04-21T09:34:46.994Z"
   },
   {
    "duration": 9,
    "start_time": "2022-04-21T09:34:47.001Z"
   },
   {
    "duration": 7,
    "start_time": "2022-04-21T09:34:47.012Z"
   },
   {
    "duration": 22,
    "start_time": "2022-04-21T09:34:47.021Z"
   },
   {
    "duration": 53,
    "start_time": "2022-04-21T09:34:47.045Z"
   },
   {
    "duration": 13,
    "start_time": "2022-04-21T09:34:47.100Z"
   },
   {
    "duration": 8,
    "start_time": "2022-04-21T09:34:47.116Z"
   },
   {
    "duration": 60,
    "start_time": "2022-04-21T09:34:47.126Z"
   },
   {
    "duration": 7,
    "start_time": "2022-04-21T09:34:47.188Z"
   },
   {
    "duration": 8,
    "start_time": "2022-04-21T09:34:47.200Z"
   },
   {
    "duration": 9,
    "start_time": "2022-04-21T09:34:47.210Z"
   },
   {
    "duration": 7,
    "start_time": "2022-04-21T09:34:47.221Z"
   },
   {
    "duration": 74,
    "start_time": "2022-04-21T09:34:47.231Z"
   },
   {
    "duration": 9,
    "start_time": "2022-04-21T09:34:47.308Z"
   },
   {
    "duration": 10,
    "start_time": "2022-04-21T09:34:47.319Z"
   },
   {
    "duration": 6,
    "start_time": "2022-04-21T09:34:47.332Z"
   },
   {
    "duration": 11,
    "start_time": "2022-04-21T09:34:47.381Z"
   },
   {
    "duration": 7,
    "start_time": "2022-04-21T09:34:47.394Z"
   },
   {
    "duration": 24,
    "start_time": "2022-04-21T09:34:47.404Z"
   },
   {
    "duration": 54,
    "start_time": "2022-04-21T09:34:47.431Z"
   },
   {
    "duration": 38,
    "start_time": "2022-04-21T09:34:47.488Z"
   },
   {
    "duration": 21,
    "start_time": "2022-04-21T09:34:47.528Z"
   },
   {
    "duration": 622,
    "start_time": "2022-04-21T09:34:47.551Z"
   },
   {
    "duration": 95,
    "start_time": "2022-04-21T09:34:48.175Z"
   },
   {
    "duration": 749,
    "start_time": "2022-04-21T09:34:48.281Z"
   },
   {
    "duration": 17,
    "start_time": "2022-04-21T09:34:49.033Z"
   },
   {
    "duration": 56,
    "start_time": "2022-04-21T09:34:49.052Z"
   },
   {
    "duration": 477,
    "start_time": "2022-04-21T09:34:49.110Z"
   },
   {
    "duration": 7,
    "start_time": "2022-04-21T09:34:49.590Z"
   },
   {
    "duration": 32,
    "start_time": "2022-04-21T09:34:49.599Z"
   },
   {
    "duration": 255,
    "start_time": "2022-04-21T09:34:49.633Z"
   },
   {
    "duration": 467,
    "start_time": "2022-04-21T09:34:49.890Z"
   },
   {
    "duration": 34,
    "start_time": "2022-04-21T09:34:50.359Z"
   },
   {
    "duration": 1035,
    "start_time": "2022-04-21T09:34:50.396Z"
   },
   {
    "duration": 14,
    "start_time": "2022-04-21T09:34:51.433Z"
   },
   {
    "duration": 38,
    "start_time": "2022-04-21T09:34:51.449Z"
   },
   {
    "duration": 20,
    "start_time": "2022-04-21T09:34:51.493Z"
   },
   {
    "duration": 24,
    "start_time": "2022-04-21T09:34:51.515Z"
   },
   {
    "duration": 54,
    "start_time": "2022-04-21T09:34:51.541Z"
   },
   {
    "duration": 588,
    "start_time": "2022-04-21T09:34:51.598Z"
   },
   {
    "duration": 589,
    "start_time": "2022-04-21T09:34:52.188Z"
   },
   {
    "duration": 341,
    "start_time": "2022-04-21T09:34:52.782Z"
   },
   {
    "duration": 349,
    "start_time": "2022-04-21T09:34:53.126Z"
   },
   {
    "duration": 334,
    "start_time": "2022-04-21T09:34:53.482Z"
   },
   {
    "duration": 348,
    "start_time": "2022-04-21T09:34:53.818Z"
   },
   {
    "duration": 349,
    "start_time": "2022-04-21T09:34:54.169Z"
   },
   {
    "duration": 351,
    "start_time": "2022-04-21T09:34:54.520Z"
   },
   {
    "duration": 15,
    "start_time": "2022-04-21T09:34:54.873Z"
   },
   {
    "duration": 52,
    "start_time": "2022-04-21T09:34:54.890Z"
   },
   {
    "duration": 21,
    "start_time": "2022-04-21T09:34:54.944Z"
   },
   {
    "duration": 23,
    "start_time": "2022-04-21T09:34:54.967Z"
   },
   {
    "duration": 42,
    "start_time": "2022-04-21T09:34:54.992Z"
   },
   {
    "duration": 17,
    "start_time": "2022-04-21T09:34:55.036Z"
   },
   {
    "duration": 818,
    "start_time": "2022-04-21T09:36:36.340Z"
   },
   {
    "duration": 457,
    "start_time": "2022-04-21T09:36:45.927Z"
   },
   {
    "duration": 226,
    "start_time": "2022-04-21T09:36:55.935Z"
   },
   {
    "duration": 435,
    "start_time": "2022-04-21T09:37:01.351Z"
   },
   {
    "duration": 578,
    "start_time": "2022-04-21T09:37:24.211Z"
   },
   {
    "duration": 570,
    "start_time": "2022-04-21T09:37:29.031Z"
   },
   {
    "duration": 324,
    "start_time": "2022-04-21T09:37:46.772Z"
   },
   {
    "duration": 325,
    "start_time": "2022-04-21T09:37:59.103Z"
   },
   {
    "duration": 313,
    "start_time": "2022-04-21T09:38:03.440Z"
   },
   {
    "duration": 424,
    "start_time": "2022-04-21T09:38:09.148Z"
   },
   {
    "duration": 334,
    "start_time": "2022-04-21T09:38:14.187Z"
   },
   {
    "duration": 328,
    "start_time": "2022-04-21T09:38:18.879Z"
   },
   {
    "duration": 1414,
    "start_time": "2022-04-21T09:39:02.522Z"
   },
   {
    "duration": 115,
    "start_time": "2022-04-21T09:39:03.938Z"
   },
   {
    "duration": 5,
    "start_time": "2022-04-21T09:39:04.055Z"
   },
   {
    "duration": 119,
    "start_time": "2022-04-21T09:39:04.063Z"
   },
   {
    "duration": 4,
    "start_time": "2022-04-21T09:39:04.185Z"
   },
   {
    "duration": 20,
    "start_time": "2022-04-21T09:39:04.192Z"
   },
   {
    "duration": 29,
    "start_time": "2022-04-21T09:39:04.214Z"
   },
   {
    "duration": 18,
    "start_time": "2022-04-21T09:39:04.245Z"
   },
   {
    "duration": 21,
    "start_time": "2022-04-21T09:39:04.265Z"
   },
   {
    "duration": 11,
    "start_time": "2022-04-21T09:39:04.289Z"
   },
   {
    "duration": 10,
    "start_time": "2022-04-21T09:39:04.302Z"
   },
   {
    "duration": 35,
    "start_time": "2022-04-21T09:39:04.314Z"
   },
   {
    "duration": 31,
    "start_time": "2022-04-21T09:39:04.351Z"
   },
   {
    "duration": 13,
    "start_time": "2022-04-21T09:39:04.384Z"
   },
   {
    "duration": 9,
    "start_time": "2022-04-21T09:39:04.399Z"
   },
   {
    "duration": 11,
    "start_time": "2022-04-21T09:39:04.410Z"
   },
   {
    "duration": 64,
    "start_time": "2022-04-21T09:39:04.423Z"
   },
   {
    "duration": 8,
    "start_time": "2022-04-21T09:39:04.490Z"
   },
   {
    "duration": 10,
    "start_time": "2022-04-21T09:39:04.501Z"
   },
   {
    "duration": 5,
    "start_time": "2022-04-21T09:39:04.513Z"
   },
   {
    "duration": 12,
    "start_time": "2022-04-21T09:39:04.520Z"
   },
   {
    "duration": 4,
    "start_time": "2022-04-21T09:39:04.534Z"
   },
   {
    "duration": 28,
    "start_time": "2022-04-21T09:39:04.583Z"
   },
   {
    "duration": 18,
    "start_time": "2022-04-21T09:39:04.614Z"
   },
   {
    "duration": 58,
    "start_time": "2022-04-21T09:39:04.634Z"
   },
   {
    "duration": 20,
    "start_time": "2022-04-21T09:39:04.694Z"
   },
   {
    "duration": 617,
    "start_time": "2022-04-21T09:39:04.716Z"
   },
   {
    "duration": 162,
    "start_time": "2022-04-21T09:39:05.343Z"
   },
   {
    "duration": 1028,
    "start_time": "2022-04-21T09:39:05.507Z"
   },
   {
    "duration": 17,
    "start_time": "2022-04-21T09:39:06.537Z"
   },
   {
    "duration": 58,
    "start_time": "2022-04-21T09:39:06.556Z"
   },
   {
    "duration": 483,
    "start_time": "2022-04-21T09:39:06.617Z"
   },
   {
    "duration": 8,
    "start_time": "2022-04-21T09:39:07.103Z"
   },
   {
    "duration": 9,
    "start_time": "2022-04-21T09:39:07.113Z"
   },
   {
    "duration": 263,
    "start_time": "2022-04-21T09:39:07.124Z"
   },
   {
    "duration": 449,
    "start_time": "2022-04-21T09:39:07.390Z"
   },
   {
    "duration": 42,
    "start_time": "2022-04-21T09:39:07.841Z"
   },
   {
    "duration": 1023,
    "start_time": "2022-04-21T09:39:07.886Z"
   },
   {
    "duration": 13,
    "start_time": "2022-04-21T09:39:08.911Z"
   },
   {
    "duration": 56,
    "start_time": "2022-04-21T09:39:08.927Z"
   },
   {
    "duration": 29,
    "start_time": "2022-04-21T09:39:08.986Z"
   },
   {
    "duration": 28,
    "start_time": "2022-04-21T09:39:09.018Z"
   },
   {
    "duration": 61,
    "start_time": "2022-04-21T09:39:09.049Z"
   },
   {
    "duration": 619,
    "start_time": "2022-04-21T09:39:09.112Z"
   },
   {
    "duration": 582,
    "start_time": "2022-04-21T09:39:09.734Z"
   },
   {
    "duration": 343,
    "start_time": "2022-04-21T09:39:10.319Z"
   },
   {
    "duration": 405,
    "start_time": "2022-04-21T09:39:10.665Z"
   },
   {
    "duration": 333,
    "start_time": "2022-04-21T09:39:11.072Z"
   },
   {
    "duration": 354,
    "start_time": "2022-04-21T09:39:11.407Z"
   },
   {
    "duration": 497,
    "start_time": "2022-04-21T09:39:11.764Z"
   },
   {
    "duration": 341,
    "start_time": "2022-04-21T09:39:12.263Z"
   },
   {
    "duration": 9,
    "start_time": "2022-04-21T09:39:12.607Z"
   },
   {
    "duration": 14,
    "start_time": "2022-04-21T09:39:12.618Z"
   },
   {
    "duration": 16,
    "start_time": "2022-04-21T09:39:12.634Z"
   },
   {
    "duration": 7,
    "start_time": "2022-04-21T09:39:12.681Z"
   },
   {
    "duration": 20,
    "start_time": "2022-04-21T09:39:12.690Z"
   },
   {
    "duration": 6,
    "start_time": "2022-04-21T09:39:12.712Z"
   },
   {
    "duration": 4,
    "start_time": "2022-04-21T09:51:10.635Z"
   },
   {
    "duration": 1973,
    "start_time": "2022-04-21T09:51:23.715Z"
   },
   {
    "duration": 0,
    "start_time": "2022-04-21T09:51:25.691Z"
   },
   {
    "duration": 9,
    "start_time": "2022-04-21T09:52:33.215Z"
   },
   {
    "duration": 12,
    "start_time": "2022-04-21T09:52:35.234Z"
   },
   {
    "duration": 1475,
    "start_time": "2022-04-21T09:52:47.163Z"
   },
   {
    "duration": 116,
    "start_time": "2022-04-21T09:52:48.640Z"
   },
   {
    "duration": 5,
    "start_time": "2022-04-21T09:52:48.758Z"
   },
   {
    "duration": 96,
    "start_time": "2022-04-21T09:52:48.766Z"
   },
   {
    "duration": 19,
    "start_time": "2022-04-21T09:52:48.864Z"
   },
   {
    "duration": 5,
    "start_time": "2022-04-21T09:52:48.885Z"
   },
   {
    "duration": 8,
    "start_time": "2022-04-21T09:52:48.892Z"
   },
   {
    "duration": 14,
    "start_time": "2022-04-21T09:52:48.902Z"
   },
   {
    "duration": 20,
    "start_time": "2022-04-21T09:52:48.918Z"
   },
   {
    "duration": 46,
    "start_time": "2022-04-21T09:52:48.942Z"
   },
   {
    "duration": 9,
    "start_time": "2022-04-21T09:52:48.991Z"
   },
   {
    "duration": 30,
    "start_time": "2022-04-21T09:52:49.002Z"
   },
   {
    "duration": 11,
    "start_time": "2022-04-21T09:52:49.034Z"
   },
   {
    "duration": 36,
    "start_time": "2022-04-21T09:52:49.047Z"
   },
   {
    "duration": 15,
    "start_time": "2022-04-21T09:52:49.085Z"
   },
   {
    "duration": 6,
    "start_time": "2022-04-21T09:52:49.102Z"
   },
   {
    "duration": 32,
    "start_time": "2022-04-21T09:52:49.110Z"
   },
   {
    "duration": 6,
    "start_time": "2022-04-21T09:52:49.144Z"
   },
   {
    "duration": 34,
    "start_time": "2022-04-21T09:52:49.153Z"
   },
   {
    "duration": 7,
    "start_time": "2022-04-21T09:52:49.189Z"
   },
   {
    "duration": 11,
    "start_time": "2022-04-21T09:52:49.198Z"
   },
   {
    "duration": 8,
    "start_time": "2022-04-21T09:52:49.211Z"
   },
   {
    "duration": 62,
    "start_time": "2022-04-21T09:52:49.221Z"
   },
   {
    "duration": 19,
    "start_time": "2022-04-21T09:52:49.285Z"
   },
   {
    "duration": 33,
    "start_time": "2022-04-21T09:52:49.306Z"
   },
   {
    "duration": 45,
    "start_time": "2022-04-21T09:52:49.341Z"
   },
   {
    "duration": 603,
    "start_time": "2022-04-21T09:52:49.388Z"
   },
   {
    "duration": 109,
    "start_time": "2022-04-21T09:52:49.996Z"
   },
   {
    "duration": 739,
    "start_time": "2022-04-21T09:52:50.107Z"
   },
   {
    "duration": 17,
    "start_time": "2022-04-21T09:52:50.849Z"
   },
   {
    "duration": 61,
    "start_time": "2022-04-21T09:52:50.868Z"
   },
   {
    "duration": 487,
    "start_time": "2022-04-21T09:52:50.931Z"
   },
   {
    "duration": 7,
    "start_time": "2022-04-21T09:52:51.420Z"
   },
   {
    "duration": 8,
    "start_time": "2022-04-21T09:52:51.429Z"
   },
   {
    "duration": 255,
    "start_time": "2022-04-21T09:52:51.439Z"
   },
   {
    "duration": 449,
    "start_time": "2022-04-21T09:52:51.697Z"
   },
   {
    "duration": 42,
    "start_time": "2022-04-21T09:52:52.148Z"
   },
   {
    "duration": 1035,
    "start_time": "2022-04-21T09:52:52.192Z"
   },
   {
    "duration": 9,
    "start_time": "2022-04-21T09:52:53.229Z"
   },
   {
    "duration": 15,
    "start_time": "2022-04-21T09:52:53.240Z"
   },
   {
    "duration": 31,
    "start_time": "2022-04-21T09:52:53.257Z"
   },
   {
    "duration": 21,
    "start_time": "2022-04-21T09:52:53.290Z"
   },
   {
    "duration": 19,
    "start_time": "2022-04-21T09:52:53.313Z"
   },
   {
    "duration": 49,
    "start_time": "2022-04-21T09:52:53.334Z"
   },
   {
    "duration": 25,
    "start_time": "2022-04-21T09:52:53.386Z"
   },
   {
    "duration": 601,
    "start_time": "2022-04-21T09:52:53.413Z"
   },
   {
    "duration": 588,
    "start_time": "2022-04-21T09:52:54.017Z"
   },
   {
    "duration": 338,
    "start_time": "2022-04-21T09:52:54.608Z"
   },
   {
    "duration": 348,
    "start_time": "2022-04-21T09:52:54.948Z"
   },
   {
    "duration": 327,
    "start_time": "2022-04-21T09:52:55.298Z"
   },
   {
    "duration": 342,
    "start_time": "2022-04-21T09:52:55.627Z"
   },
   {
    "duration": 365,
    "start_time": "2022-04-21T09:52:55.971Z"
   },
   {
    "duration": 351,
    "start_time": "2022-04-21T09:52:56.339Z"
   },
   {
    "duration": 10,
    "start_time": "2022-04-21T09:52:56.692Z"
   },
   {
    "duration": 18,
    "start_time": "2022-04-21T09:52:56.704Z"
   },
   {
    "duration": 16,
    "start_time": "2022-04-21T09:52:56.724Z"
   },
   {
    "duration": 40,
    "start_time": "2022-04-21T09:52:56.742Z"
   },
   {
    "duration": 118,
    "start_time": "2022-04-21T09:52:56.785Z"
   },
   {
    "duration": 9,
    "start_time": "2022-04-21T09:52:56.906Z"
   },
   {
    "duration": 918,
    "start_time": "2022-04-21T09:59:36.551Z"
   },
   {
    "duration": 1507,
    "start_time": "2022-04-21T10:00:58.891Z"
   },
   {
    "duration": 108,
    "start_time": "2022-04-21T10:01:00.401Z"
   },
   {
    "duration": 5,
    "start_time": "2022-04-21T10:01:00.511Z"
   },
   {
    "duration": 118,
    "start_time": "2022-04-21T10:01:00.519Z"
   },
   {
    "duration": 5,
    "start_time": "2022-04-21T10:01:00.639Z"
   },
   {
    "duration": 16,
    "start_time": "2022-04-21T10:01:00.646Z"
   },
   {
    "duration": 18,
    "start_time": "2022-04-21T10:01:00.664Z"
   },
   {
    "duration": 37,
    "start_time": "2022-04-21T10:01:00.684Z"
   },
   {
    "duration": 31,
    "start_time": "2022-04-21T10:01:00.724Z"
   },
   {
    "duration": 32,
    "start_time": "2022-04-21T10:01:00.759Z"
   },
   {
    "duration": 30,
    "start_time": "2022-04-21T10:01:00.793Z"
   },
   {
    "duration": 43,
    "start_time": "2022-04-21T10:01:00.825Z"
   },
   {
    "duration": 14,
    "start_time": "2022-04-21T10:01:00.871Z"
   },
   {
    "duration": 28,
    "start_time": "2022-04-21T10:01:00.887Z"
   },
   {
    "duration": 36,
    "start_time": "2022-04-21T10:01:00.918Z"
   },
   {
    "duration": 33,
    "start_time": "2022-04-21T10:01:00.956Z"
   },
   {
    "duration": 41,
    "start_time": "2022-04-21T10:01:00.992Z"
   },
   {
    "duration": 7,
    "start_time": "2022-04-21T10:01:01.035Z"
   },
   {
    "duration": 19,
    "start_time": "2022-04-21T10:01:01.044Z"
   },
   {
    "duration": 20,
    "start_time": "2022-04-21T10:01:01.065Z"
   },
   {
    "duration": 22,
    "start_time": "2022-04-21T10:01:01.087Z"
   },
   {
    "duration": 27,
    "start_time": "2022-04-21T10:01:01.111Z"
   },
   {
    "duration": 32,
    "start_time": "2022-04-21T10:01:01.140Z"
   },
   {
    "duration": 19,
    "start_time": "2022-04-21T10:01:01.174Z"
   },
   {
    "duration": 34,
    "start_time": "2022-04-21T10:01:01.195Z"
   },
   {
    "duration": 22,
    "start_time": "2022-04-21T10:01:01.231Z"
   },
   {
    "duration": 612,
    "start_time": "2022-04-21T10:01:01.281Z"
   },
   {
    "duration": 108,
    "start_time": "2022-04-21T10:01:01.898Z"
   },
   {
    "duration": 773,
    "start_time": "2022-04-21T10:01:02.009Z"
   },
   {
    "duration": 17,
    "start_time": "2022-04-21T10:01:02.785Z"
   },
   {
    "duration": 52,
    "start_time": "2022-04-21T10:01:02.804Z"
   },
   {
    "duration": 483,
    "start_time": "2022-04-21T10:01:02.881Z"
   },
   {
    "duration": 18,
    "start_time": "2022-04-21T10:01:03.366Z"
   },
   {
    "duration": 11,
    "start_time": "2022-04-21T10:01:03.386Z"
   },
   {
    "duration": 260,
    "start_time": "2022-04-21T10:01:03.399Z"
   },
   {
    "duration": 448,
    "start_time": "2022-04-21T10:01:03.661Z"
   },
   {
    "duration": 28,
    "start_time": "2022-04-21T10:01:04.111Z"
   },
   {
    "duration": 1023,
    "start_time": "2022-04-21T10:01:04.142Z"
   },
   {
    "duration": 16,
    "start_time": "2022-04-21T10:01:05.168Z"
   },
   {
    "duration": 8,
    "start_time": "2022-04-21T10:01:05.186Z"
   },
   {
    "duration": 16,
    "start_time": "2022-04-21T10:01:05.196Z"
   },
   {
    "duration": 23,
    "start_time": "2022-04-21T10:01:05.214Z"
   },
   {
    "duration": 51,
    "start_time": "2022-04-21T10:01:05.240Z"
   },
   {
    "duration": 21,
    "start_time": "2022-04-21T10:01:05.293Z"
   },
   {
    "duration": 23,
    "start_time": "2022-04-21T10:01:05.316Z"
   },
   {
    "duration": 613,
    "start_time": "2022-04-21T10:01:05.341Z"
   },
   {
    "duration": 699,
    "start_time": "2022-04-21T10:01:05.956Z"
   },
   {
    "duration": 449,
    "start_time": "2022-04-21T10:01:06.658Z"
   },
   {
    "duration": 351,
    "start_time": "2022-04-21T10:01:07.110Z"
   },
   {
    "duration": 324,
    "start_time": "2022-04-21T10:01:07.463Z"
   },
   {
    "duration": 342,
    "start_time": "2022-04-21T10:01:07.789Z"
   },
   {
    "duration": 342,
    "start_time": "2022-04-21T10:01:08.133Z"
   },
   {
    "duration": 343,
    "start_time": "2022-04-21T10:01:08.477Z"
   },
   {
    "duration": 11,
    "start_time": "2022-04-21T10:01:08.823Z"
   },
   {
    "duration": 14,
    "start_time": "2022-04-21T10:01:08.837Z"
   },
   {
    "duration": 40,
    "start_time": "2022-04-21T10:01:08.854Z"
   },
   {
    "duration": 9,
    "start_time": "2022-04-21T10:01:08.896Z"
   },
   {
    "duration": 147,
    "start_time": "2022-04-21T10:01:08.908Z"
   },
   {
    "duration": 6,
    "start_time": "2022-04-21T10:01:09.057Z"
   },
   {
    "duration": 153,
    "start_time": "2022-04-21T10:18:37.440Z"
   },
   {
    "duration": 86,
    "start_time": "2022-04-21T10:19:00.236Z"
   },
   {
    "duration": 24,
    "start_time": "2022-04-21T10:19:16.669Z"
   },
   {
    "duration": 469,
    "start_time": "2022-04-21T10:19:28.376Z"
   },
   {
    "duration": 474,
    "start_time": "2022-04-21T10:20:03.480Z"
   },
   {
    "duration": 466,
    "start_time": "2022-04-21T10:20:14.529Z"
   },
   {
    "duration": 463,
    "start_time": "2022-04-21T10:20:24.089Z"
   },
   {
    "duration": 586,
    "start_time": "2022-04-21T10:20:29.996Z"
   },
   {
    "duration": 555,
    "start_time": "2022-04-21T10:20:32.901Z"
   },
   {
    "duration": 217,
    "start_time": "2022-04-21T10:22:18.920Z"
   },
   {
    "duration": 590,
    "start_time": "2022-04-21T10:22:27.184Z"
   },
   {
    "duration": 34,
    "start_time": "2022-04-21T10:23:54.341Z"
   },
   {
    "duration": 468,
    "start_time": "2022-04-21T10:24:20.300Z"
   },
   {
    "duration": 24,
    "start_time": "2022-04-21T10:24:32.916Z"
   },
   {
    "duration": 23,
    "start_time": "2022-04-21T10:29:58.324Z"
   },
   {
    "duration": 31,
    "start_time": "2022-04-21T10:30:05.292Z"
   },
   {
    "duration": 34,
    "start_time": "2022-04-21T10:30:14.624Z"
   },
   {
    "duration": 29,
    "start_time": "2022-04-21T10:30:20.560Z"
   },
   {
    "duration": 16,
    "start_time": "2022-04-21T10:30:26.524Z"
   },
   {
    "duration": 2071,
    "start_time": "2022-04-21T10:31:05.900Z"
   },
   {
    "duration": 34,
    "start_time": "2022-04-21T10:31:56.940Z"
   },
   {
    "duration": 29,
    "start_time": "2022-04-21T10:32:22.956Z"
   },
   {
    "duration": 49,
    "start_time": "2022-04-21T10:32:28.781Z"
   },
   {
    "duration": 31,
    "start_time": "2022-04-21T10:32:44.146Z"
   },
   {
    "duration": 21,
    "start_time": "2022-04-21T11:17:56.921Z"
   },
   {
    "duration": 12,
    "start_time": "2022-04-21T11:18:02.221Z"
   },
   {
    "duration": 368,
    "start_time": "2022-04-21T11:18:46.965Z"
   },
   {
    "duration": 359,
    "start_time": "2022-04-21T11:18:59.129Z"
   },
   {
    "duration": 372,
    "start_time": "2022-04-21T11:22:16.089Z"
   },
   {
    "duration": 567,
    "start_time": "2022-04-21T12:18:40.568Z"
   },
   {
    "duration": 501,
    "start_time": "2022-04-21T13:24:26.022Z"
   },
   {
    "duration": 470,
    "start_time": "2022-04-21T13:24:38.243Z"
   },
   {
    "duration": 476,
    "start_time": "2022-04-21T13:24:42.056Z"
   },
   {
    "duration": 25,
    "start_time": "2022-04-21T13:53:14.302Z"
   },
   {
    "duration": 24,
    "start_time": "2022-04-21T13:53:26.628Z"
   },
   {
    "duration": 362,
    "start_time": "2022-04-21T13:53:35.874Z"
   },
   {
    "duration": 483,
    "start_time": "2022-04-21T13:53:53.470Z"
   },
   {
    "duration": 530,
    "start_time": "2022-04-21T14:16:55.402Z"
   },
   {
    "duration": 20,
    "start_time": "2022-04-21T14:41:23.345Z"
   },
   {
    "duration": 969,
    "start_time": "2022-04-21T14:46:12.298Z"
   },
   {
    "duration": 49,
    "start_time": "2022-04-21T18:06:26.512Z"
   },
   {
    "duration": 1372,
    "start_time": "2022-04-21T18:06:34.345Z"
   },
   {
    "duration": 121,
    "start_time": "2022-04-21T18:06:35.719Z"
   },
   {
    "duration": 4,
    "start_time": "2022-04-21T18:06:35.841Z"
   },
   {
    "duration": 86,
    "start_time": "2022-04-21T18:06:35.847Z"
   },
   {
    "duration": 3,
    "start_time": "2022-04-21T18:06:35.935Z"
   },
   {
    "duration": 28,
    "start_time": "2022-04-21T18:06:35.939Z"
   },
   {
    "duration": 26,
    "start_time": "2022-04-21T18:06:35.969Z"
   },
   {
    "duration": 40,
    "start_time": "2022-04-21T18:06:35.997Z"
   },
   {
    "duration": 37,
    "start_time": "2022-04-21T18:06:36.039Z"
   },
   {
    "duration": 36,
    "start_time": "2022-04-21T18:06:36.078Z"
   },
   {
    "duration": 27,
    "start_time": "2022-04-21T18:06:36.115Z"
   },
   {
    "duration": 45,
    "start_time": "2022-04-21T18:06:36.143Z"
   },
   {
    "duration": 28,
    "start_time": "2022-04-21T18:06:36.190Z"
   },
   {
    "duration": 20,
    "start_time": "2022-04-21T18:06:36.220Z"
   },
   {
    "duration": 32,
    "start_time": "2022-04-21T18:06:36.242Z"
   },
   {
    "duration": 25,
    "start_time": "2022-04-21T18:06:36.276Z"
   },
   {
    "duration": 51,
    "start_time": "2022-04-21T18:06:36.302Z"
   },
   {
    "duration": 11,
    "start_time": "2022-04-21T18:06:36.354Z"
   },
   {
    "duration": 42,
    "start_time": "2022-04-21T18:06:36.366Z"
   },
   {
    "duration": 24,
    "start_time": "2022-04-21T18:06:36.409Z"
   },
   {
    "duration": 28,
    "start_time": "2022-04-21T18:06:36.434Z"
   },
   {
    "duration": 23,
    "start_time": "2022-04-21T18:06:36.463Z"
   },
   {
    "duration": 44,
    "start_time": "2022-04-21T18:06:36.488Z"
   },
   {
    "duration": 22,
    "start_time": "2022-04-21T18:06:36.533Z"
   },
   {
    "duration": 40,
    "start_time": "2022-04-21T18:06:36.556Z"
   },
   {
    "duration": 22,
    "start_time": "2022-04-21T18:06:36.598Z"
   },
   {
    "duration": 356,
    "start_time": "2022-04-21T18:06:36.622Z"
   },
   {
    "duration": 65,
    "start_time": "2022-04-21T18:06:36.983Z"
   },
   {
    "duration": 553,
    "start_time": "2022-04-21T18:06:37.050Z"
   },
   {
    "duration": 12,
    "start_time": "2022-04-21T18:06:37.605Z"
   },
   {
    "duration": 53,
    "start_time": "2022-04-21T18:06:37.619Z"
   },
   {
    "duration": 249,
    "start_time": "2022-04-21T18:06:37.673Z"
   },
   {
    "duration": 6,
    "start_time": "2022-04-21T18:06:37.924Z"
   },
   {
    "duration": 29,
    "start_time": "2022-04-21T18:06:37.931Z"
   },
   {
    "duration": 170,
    "start_time": "2022-04-21T18:06:37.962Z"
   },
   {
    "duration": 304,
    "start_time": "2022-04-21T18:06:38.134Z"
   },
   {
    "duration": 226,
    "start_time": "2022-04-21T18:06:38.439Z"
   },
   {
    "duration": 19,
    "start_time": "2022-04-21T18:06:38.667Z"
   },
   {
    "duration": 528,
    "start_time": "2022-04-21T18:06:38.687Z"
   },
   {
    "duration": 9,
    "start_time": "2022-04-21T18:06:39.222Z"
   },
   {
    "duration": 28,
    "start_time": "2022-04-21T18:06:39.232Z"
   },
   {
    "duration": 32,
    "start_time": "2022-04-21T18:06:39.261Z"
   },
   {
    "duration": 24,
    "start_time": "2022-04-21T18:06:39.295Z"
   },
   {
    "duration": 44,
    "start_time": "2022-04-21T18:06:39.321Z"
   },
   {
    "duration": 189,
    "start_time": "2022-04-21T18:06:39.367Z"
   },
   {
    "duration": 207,
    "start_time": "2022-04-21T18:06:39.558Z"
   },
   {
    "duration": 273,
    "start_time": "2022-04-21T18:06:39.766Z"
   },
   {
    "duration": 277,
    "start_time": "2022-04-21T18:06:40.040Z"
   },
   {
    "duration": 201,
    "start_time": "2022-04-21T18:06:40.322Z"
   },
   {
    "duration": 187,
    "start_time": "2022-04-21T18:06:40.525Z"
   },
   {
    "duration": 187,
    "start_time": "2022-04-21T18:06:40.722Z"
   },
   {
    "duration": 201,
    "start_time": "2022-04-21T18:06:40.910Z"
   },
   {
    "duration": 318,
    "start_time": "2022-04-21T18:06:41.113Z"
   },
   {
    "duration": 8,
    "start_time": "2022-04-21T18:06:41.433Z"
   },
   {
    "duration": 9,
    "start_time": "2022-04-21T18:06:41.443Z"
   },
   {
    "duration": 12,
    "start_time": "2022-04-21T18:06:41.454Z"
   },
   {
    "duration": 5,
    "start_time": "2022-04-21T18:06:41.467Z"
   },
   {
    "duration": 12,
    "start_time": "2022-04-21T18:06:41.473Z"
   },
   {
    "duration": 39,
    "start_time": "2022-04-21T18:06:41.486Z"
   },
   {
    "duration": 178,
    "start_time": "2022-04-21T18:11:08.577Z"
   },
   {
    "duration": 270,
    "start_time": "2022-04-21T18:11:30.693Z"
   },
   {
    "duration": 187,
    "start_time": "2022-04-21T18:12:41.593Z"
   },
   {
    "duration": 176,
    "start_time": "2022-04-21T18:12:57.781Z"
   },
   {
    "duration": 358,
    "start_time": "2022-04-21T18:14:20.209Z"
   },
   {
    "duration": 878,
    "start_time": "2022-04-21T18:15:01.127Z"
   },
   {
    "duration": 694,
    "start_time": "2022-04-21T18:15:29.204Z"
   },
   {
    "duration": 685,
    "start_time": "2022-04-21T18:16:26.233Z"
   },
   {
    "duration": 660,
    "start_time": "2022-04-21T18:21:25.309Z"
   },
   {
    "duration": 181,
    "start_time": "2022-04-21T18:25:41.233Z"
   },
   {
    "duration": 179,
    "start_time": "2022-04-21T18:26:01.410Z"
   },
   {
    "duration": 265,
    "start_time": "2022-04-21T18:26:08.089Z"
   },
   {
    "duration": 181,
    "start_time": "2022-04-21T18:26:23.793Z"
   },
   {
    "duration": 184,
    "start_time": "2022-04-21T18:26:50.593Z"
   },
   {
    "duration": 179,
    "start_time": "2022-04-21T18:27:22.181Z"
   },
   {
    "duration": 178,
    "start_time": "2022-04-21T18:27:53.209Z"
   },
   {
    "duration": 424,
    "start_time": "2022-04-21T18:30:28.364Z"
   },
   {
    "duration": 165,
    "start_time": "2022-04-21T18:32:25.457Z"
   },
   {
    "duration": 423,
    "start_time": "2022-04-21T18:32:29.833Z"
   },
   {
    "duration": 304,
    "start_time": "2022-04-21T18:33:15.498Z"
   },
   {
    "duration": 332,
    "start_time": "2022-04-21T18:33:52.150Z"
   },
   {
    "duration": 404,
    "start_time": "2022-04-21T18:33:58.221Z"
   },
   {
    "duration": 337,
    "start_time": "2022-04-21T18:34:03.661Z"
   },
   {
    "duration": 341,
    "start_time": "2022-04-21T18:34:45.034Z"
   },
   {
    "duration": 430,
    "start_time": "2022-04-21T18:34:58.481Z"
   },
   {
    "duration": 468,
    "start_time": "2022-04-21T18:36:11.873Z"
   },
   {
    "duration": 617,
    "start_time": "2022-04-21T18:43:53.830Z"
   },
   {
    "duration": 1632,
    "start_time": "2022-04-22T07:57:24.079Z"
   },
   {
    "duration": 184,
    "start_time": "2022-04-22T07:57:25.713Z"
   },
   {
    "duration": 3,
    "start_time": "2022-04-22T07:57:25.899Z"
   },
   {
    "duration": 90,
    "start_time": "2022-04-22T07:57:25.906Z"
   },
   {
    "duration": 4,
    "start_time": "2022-04-22T07:57:25.998Z"
   },
   {
    "duration": 23,
    "start_time": "2022-04-22T07:57:26.004Z"
   },
   {
    "duration": 42,
    "start_time": "2022-04-22T07:57:26.029Z"
   },
   {
    "duration": 17,
    "start_time": "2022-04-22T07:57:26.073Z"
   },
   {
    "duration": 24,
    "start_time": "2022-04-22T07:57:26.092Z"
   },
   {
    "duration": 46,
    "start_time": "2022-04-22T07:57:26.119Z"
   },
   {
    "duration": 12,
    "start_time": "2022-04-22T07:57:26.167Z"
   },
   {
    "duration": 38,
    "start_time": "2022-04-22T07:57:26.181Z"
   },
   {
    "duration": 10,
    "start_time": "2022-04-22T07:57:26.221Z"
   },
   {
    "duration": 53,
    "start_time": "2022-04-22T07:57:26.232Z"
   },
   {
    "duration": 8,
    "start_time": "2022-04-22T07:57:26.287Z"
   },
   {
    "duration": 9,
    "start_time": "2022-04-22T07:57:26.297Z"
   },
   {
    "duration": 41,
    "start_time": "2022-04-22T07:57:26.308Z"
   },
   {
    "duration": 9,
    "start_time": "2022-04-22T07:57:26.353Z"
   },
   {
    "duration": 22,
    "start_time": "2022-04-22T07:57:26.365Z"
   },
   {
    "duration": 9,
    "start_time": "2022-04-22T07:57:26.390Z"
   },
   {
    "duration": 21,
    "start_time": "2022-04-22T07:57:26.401Z"
   },
   {
    "duration": 42,
    "start_time": "2022-04-22T07:57:26.424Z"
   },
   {
    "duration": 41,
    "start_time": "2022-04-22T07:57:26.467Z"
   },
   {
    "duration": 20,
    "start_time": "2022-04-22T07:57:26.510Z"
   },
   {
    "duration": 44,
    "start_time": "2022-04-22T07:57:26.532Z"
   },
   {
    "duration": 19,
    "start_time": "2022-04-22T07:57:26.578Z"
   },
   {
    "duration": 495,
    "start_time": "2022-04-22T07:57:26.599Z"
   },
   {
    "duration": 116,
    "start_time": "2022-04-22T07:57:27.099Z"
   },
   {
    "duration": 612,
    "start_time": "2022-04-22T07:57:27.217Z"
   },
   {
    "duration": 18,
    "start_time": "2022-04-22T07:57:27.831Z"
   },
   {
    "duration": 59,
    "start_time": "2022-04-22T07:57:27.851Z"
   },
   {
    "duration": 368,
    "start_time": "2022-04-22T07:57:27.912Z"
   },
   {
    "duration": 6,
    "start_time": "2022-04-22T07:57:28.282Z"
   },
   {
    "duration": 15,
    "start_time": "2022-04-22T07:57:28.290Z"
   },
   {
    "duration": 199,
    "start_time": "2022-04-22T07:57:28.307Z"
   },
   {
    "duration": 408,
    "start_time": "2022-04-22T07:57:28.508Z"
   },
   {
    "duration": 330,
    "start_time": "2022-04-22T07:57:28.917Z"
   },
   {
    "duration": 26,
    "start_time": "2022-04-22T07:57:29.249Z"
   },
   {
    "duration": 723,
    "start_time": "2022-04-22T07:57:29.277Z"
   },
   {
    "duration": 14,
    "start_time": "2022-04-22T07:57:30.003Z"
   },
   {
    "duration": 40,
    "start_time": "2022-04-22T07:57:30.033Z"
   },
   {
    "duration": 17,
    "start_time": "2022-04-22T07:57:30.075Z"
   },
   {
    "duration": 24,
    "start_time": "2022-04-22T07:57:30.093Z"
   },
   {
    "duration": 48,
    "start_time": "2022-04-22T07:57:30.119Z"
   },
   {
    "duration": 273,
    "start_time": "2022-04-22T07:57:30.170Z"
   },
   {
    "duration": 278,
    "start_time": "2022-04-22T07:57:30.445Z"
   },
   {
    "duration": 390,
    "start_time": "2022-04-22T07:57:30.724Z"
   },
   {
    "duration": 1049,
    "start_time": "2022-04-22T07:57:31.116Z"
   },
   {
    "duration": 425,
    "start_time": "2022-04-22T07:57:32.172Z"
   },
   {
    "duration": 262,
    "start_time": "2022-04-22T07:57:32.598Z"
   },
   {
    "duration": 257,
    "start_time": "2022-04-22T07:57:32.866Z"
   },
   {
    "duration": 265,
    "start_time": "2022-04-22T07:57:33.125Z"
   },
   {
    "duration": 267,
    "start_time": "2022-04-22T07:57:33.391Z"
   },
   {
    "duration": 10,
    "start_time": "2022-04-22T07:57:33.660Z"
   },
   {
    "duration": 15,
    "start_time": "2022-04-22T07:57:33.671Z"
   },
   {
    "duration": 16,
    "start_time": "2022-04-22T07:57:33.687Z"
   },
   {
    "duration": 17,
    "start_time": "2022-04-22T07:57:33.705Z"
   },
   {
    "duration": 53,
    "start_time": "2022-04-22T07:57:33.725Z"
   },
   {
    "duration": 12,
    "start_time": "2022-04-22T07:57:33.780Z"
   },
   {
    "duration": 137,
    "start_time": "2022-04-22T08:02:40.903Z"
   },
   {
    "duration": 25,
    "start_time": "2022-04-22T08:04:22.167Z"
   },
   {
    "duration": 33,
    "start_time": "2022-04-22T08:06:30.623Z"
   },
   {
    "duration": 26,
    "start_time": "2022-04-22T08:08:03.559Z"
   },
   {
    "duration": 29,
    "start_time": "2022-04-22T08:08:53.398Z"
   },
   {
    "duration": 30,
    "start_time": "2022-04-22T08:10:28.331Z"
   },
   {
    "duration": 28,
    "start_time": "2022-04-22T08:10:45.011Z"
   },
   {
    "duration": 1375,
    "start_time": "2022-04-22T08:10:53.522Z"
   },
   {
    "duration": 130,
    "start_time": "2022-04-22T08:10:54.900Z"
   },
   {
    "duration": 9,
    "start_time": "2022-04-22T08:10:55.032Z"
   },
   {
    "duration": 125,
    "start_time": "2022-04-22T08:10:55.044Z"
   },
   {
    "duration": 5,
    "start_time": "2022-04-22T08:10:55.171Z"
   },
   {
    "duration": 21,
    "start_time": "2022-04-22T08:10:55.178Z"
   },
   {
    "duration": 16,
    "start_time": "2022-04-22T08:10:55.201Z"
   },
   {
    "duration": 26,
    "start_time": "2022-04-22T08:10:55.219Z"
   },
   {
    "duration": 42,
    "start_time": "2022-04-22T08:10:55.248Z"
   },
   {
    "duration": 12,
    "start_time": "2022-04-22T08:10:55.293Z"
   },
   {
    "duration": 20,
    "start_time": "2022-04-22T08:10:55.307Z"
   },
   {
    "duration": 43,
    "start_time": "2022-04-22T08:10:55.329Z"
   },
   {
    "duration": 12,
    "start_time": "2022-04-22T08:10:55.374Z"
   },
   {
    "duration": 22,
    "start_time": "2022-04-22T08:10:55.388Z"
   },
   {
    "duration": 40,
    "start_time": "2022-04-22T08:10:55.412Z"
   },
   {
    "duration": 33,
    "start_time": "2022-04-22T08:10:55.453Z"
   },
   {
    "duration": 62,
    "start_time": "2022-04-22T08:10:55.487Z"
   },
   {
    "duration": 25,
    "start_time": "2022-04-22T08:10:55.551Z"
   },
   {
    "duration": 33,
    "start_time": "2022-04-22T08:10:55.578Z"
   },
   {
    "duration": 42,
    "start_time": "2022-04-22T08:10:55.613Z"
   },
   {
    "duration": 32,
    "start_time": "2022-04-22T08:10:55.657Z"
   },
   {
    "duration": 12,
    "start_time": "2022-04-22T08:10:55.690Z"
   },
   {
    "duration": 63,
    "start_time": "2022-04-22T08:10:55.704Z"
   },
   {
    "duration": 32,
    "start_time": "2022-04-22T08:10:55.769Z"
   },
   {
    "duration": 45,
    "start_time": "2022-04-22T08:10:55.803Z"
   },
   {
    "duration": 14,
    "start_time": "2022-04-22T08:10:55.851Z"
   },
   {
    "duration": 446,
    "start_time": "2022-04-22T08:10:55.866Z"
   },
   {
    "duration": 82,
    "start_time": "2022-04-22T08:10:56.316Z"
   },
   {
    "duration": 582,
    "start_time": "2022-04-22T08:10:56.399Z"
   },
   {
    "duration": 16,
    "start_time": "2022-04-22T08:10:56.984Z"
   },
   {
    "duration": 64,
    "start_time": "2022-04-22T08:10:57.002Z"
   },
   {
    "duration": 356,
    "start_time": "2022-04-22T08:10:57.067Z"
   },
   {
    "duration": 7,
    "start_time": "2022-04-22T08:10:57.433Z"
   },
   {
    "duration": 43,
    "start_time": "2022-04-22T08:10:57.443Z"
   },
   {
    "duration": 192,
    "start_time": "2022-04-22T08:10:57.488Z"
   },
   {
    "duration": 442,
    "start_time": "2022-04-22T08:10:57.682Z"
   },
   {
    "duration": 334,
    "start_time": "2022-04-22T08:10:58.126Z"
   },
   {
    "duration": 32,
    "start_time": "2022-04-22T08:10:58.462Z"
   },
   {
    "duration": 859,
    "start_time": "2022-04-22T08:10:58.496Z"
   },
   {
    "duration": 13,
    "start_time": "2022-04-22T08:10:59.357Z"
   },
   {
    "duration": 20,
    "start_time": "2022-04-22T08:10:59.372Z"
   },
   {
    "duration": 20,
    "start_time": "2022-04-22T08:10:59.395Z"
   },
   {
    "duration": 55,
    "start_time": "2022-04-22T08:10:59.417Z"
   },
   {
    "duration": 38,
    "start_time": "2022-04-22T08:10:59.474Z"
   },
   {
    "duration": 269,
    "start_time": "2022-04-22T08:10:59.514Z"
   },
   {
    "duration": 273,
    "start_time": "2022-04-22T08:10:59.785Z"
   },
   {
    "duration": 411,
    "start_time": "2022-04-22T08:11:00.060Z"
   },
   {
    "duration": 151,
    "start_time": "2022-04-22T08:11:00.474Z"
   },
   {
    "duration": 0,
    "start_time": "2022-04-22T08:11:00.627Z"
   },
   {
    "duration": 0,
    "start_time": "2022-04-22T08:11:00.638Z"
   },
   {
    "duration": 0,
    "start_time": "2022-04-22T08:11:00.640Z"
   },
   {
    "duration": 0,
    "start_time": "2022-04-22T08:11:00.641Z"
   },
   {
    "duration": 0,
    "start_time": "2022-04-22T08:11:00.644Z"
   },
   {
    "duration": 0,
    "start_time": "2022-04-22T08:11:00.645Z"
   },
   {
    "duration": 0,
    "start_time": "2022-04-22T08:11:00.647Z"
   },
   {
    "duration": 0,
    "start_time": "2022-04-22T08:11:00.648Z"
   },
   {
    "duration": 0,
    "start_time": "2022-04-22T08:11:00.650Z"
   },
   {
    "duration": 0,
    "start_time": "2022-04-22T08:11:00.651Z"
   },
   {
    "duration": 0,
    "start_time": "2022-04-22T08:11:00.653Z"
   },
   {
    "duration": 0,
    "start_time": "2022-04-22T08:11:00.654Z"
   },
   {
    "duration": 747,
    "start_time": "2022-04-22T08:11:38.329Z"
   },
   {
    "duration": 200,
    "start_time": "2022-04-22T08:15:03.768Z"
   },
   {
    "duration": 160,
    "start_time": "2022-04-22T08:19:32.217Z"
   },
   {
    "duration": 23,
    "start_time": "2022-04-22T08:45:28.666Z"
   },
   {
    "duration": 25,
    "start_time": "2022-04-22T08:45:39.804Z"
   },
   {
    "duration": 18,
    "start_time": "2022-04-22T08:46:01.609Z"
   },
   {
    "duration": 305,
    "start_time": "2022-04-22T08:46:31.176Z"
   },
   {
    "duration": 15,
    "start_time": "2022-04-22T08:50:25.758Z"
   },
   {
    "duration": 10,
    "start_time": "2022-04-22T08:52:27.920Z"
   },
   {
    "duration": 14,
    "start_time": "2022-04-22T08:52:32.561Z"
   },
   {
    "duration": 230,
    "start_time": "2022-04-22T08:55:29.876Z"
   },
   {
    "duration": 238,
    "start_time": "2022-04-22T08:55:40.656Z"
   },
   {
    "duration": 240,
    "start_time": "2022-04-22T08:55:50.558Z"
   },
   {
    "duration": 259,
    "start_time": "2022-04-22T08:56:10.124Z"
   },
   {
    "duration": 240,
    "start_time": "2022-04-22T08:56:17.576Z"
   },
   {
    "duration": 237,
    "start_time": "2022-04-22T08:56:38.156Z"
   },
   {
    "duration": 21,
    "start_time": "2022-04-22T09:10:05.857Z"
   },
   {
    "duration": 382,
    "start_time": "2022-04-22T09:10:22.120Z"
   },
   {
    "duration": 255,
    "start_time": "2022-04-22T09:11:03.560Z"
   },
   {
    "duration": 40,
    "start_time": "2022-04-22T09:16:19.708Z"
   },
   {
    "duration": 3209,
    "start_time": "2022-04-22T09:16:52.657Z"
   },
   {
    "duration": 2798,
    "start_time": "2022-04-22T09:17:13.004Z"
   },
   {
    "duration": 772,
    "start_time": "2022-04-22T09:17:59.508Z"
   },
   {
    "duration": 50,
    "start_time": "2022-04-22T09:19:48.456Z"
   },
   {
    "duration": 712,
    "start_time": "2022-04-22T09:19:57.604Z"
   },
   {
    "duration": 618,
    "start_time": "2022-04-22T09:20:21.508Z"
   },
   {
    "duration": 599,
    "start_time": "2022-04-22T09:20:31.212Z"
   },
   {
    "duration": 462,
    "start_time": "2022-04-22T09:20:55.861Z"
   },
   {
    "duration": 404,
    "start_time": "2022-04-22T09:21:15.962Z"
   },
   {
    "duration": 373,
    "start_time": "2022-04-22T09:21:42.759Z"
   },
   {
    "duration": 397,
    "start_time": "2022-04-22T09:21:52.308Z"
   },
   {
    "duration": 394,
    "start_time": "2022-04-22T09:22:15.170Z"
   },
   {
    "duration": 504,
    "start_time": "2022-04-22T09:22:34.771Z"
   },
   {
    "duration": 361,
    "start_time": "2022-04-22T09:22:50.251Z"
   },
   {
    "duration": 365,
    "start_time": "2022-04-22T09:23:07.950Z"
   },
   {
    "duration": 152,
    "start_time": "2022-04-22T09:24:39.197Z"
   },
   {
    "duration": 360,
    "start_time": "2022-04-22T09:24:57.835Z"
   },
   {
    "duration": 352,
    "start_time": "2022-04-22T09:25:00.640Z"
   },
   {
    "duration": 369,
    "start_time": "2022-04-22T09:25:45.160Z"
   },
   {
    "duration": 472,
    "start_time": "2022-04-22T09:25:57.001Z"
   },
   {
    "duration": 370,
    "start_time": "2022-04-22T09:26:20.728Z"
   },
   {
    "duration": 356,
    "start_time": "2022-04-22T09:29:38.753Z"
   },
   {
    "duration": 433,
    "start_time": "2022-04-22T09:31:01.908Z"
   },
   {
    "duration": 357,
    "start_time": "2022-04-22T09:31:13.572Z"
   },
   {
    "duration": 357,
    "start_time": "2022-04-22T09:31:23.948Z"
   },
   {
    "duration": 1087,
    "start_time": "2022-04-22T09:31:50.385Z"
   },
   {
    "duration": 495,
    "start_time": "2022-04-22T09:31:59.316Z"
   },
   {
    "duration": 408,
    "start_time": "2022-04-22T09:32:08.785Z"
   },
   {
    "duration": 401,
    "start_time": "2022-04-22T09:32:17.081Z"
   },
   {
    "duration": 45,
    "start_time": "2022-04-22T09:32:51.713Z"
   },
   {
    "duration": 471,
    "start_time": "2022-04-22T09:32:56.285Z"
   },
   {
    "duration": 201,
    "start_time": "2022-04-22T09:33:36.905Z"
   },
   {
    "duration": 225,
    "start_time": "2022-04-22T09:34:34.300Z"
   },
   {
    "duration": 219,
    "start_time": "2022-04-22T09:34:52.124Z"
   },
   {
    "duration": 1005,
    "start_time": "2022-04-22T09:35:02.986Z"
   },
   {
    "duration": 566,
    "start_time": "2022-04-22T09:35:11.094Z"
   },
   {
    "duration": 513,
    "start_time": "2022-04-22T09:36:01.858Z"
   },
   {
    "duration": 610,
    "start_time": "2022-04-22T09:36:35.216Z"
   },
   {
    "duration": 468,
    "start_time": "2022-04-22T09:36:46.108Z"
   },
   {
    "duration": 504,
    "start_time": "2022-04-22T09:36:50.924Z"
   },
   {
    "duration": 421,
    "start_time": "2022-04-22T09:37:09.685Z"
   },
   {
    "duration": 403,
    "start_time": "2022-04-22T09:40:04.893Z"
   },
   {
    "duration": 275,
    "start_time": "2022-04-22T09:40:17.734Z"
   },
   {
    "duration": 3,
    "start_time": "2022-04-22T09:40:59.058Z"
   },
   {
    "duration": 260,
    "start_time": "2022-04-22T09:47:46.432Z"
   },
   {
    "duration": 381,
    "start_time": "2022-04-22T10:24:33.190Z"
   },
   {
    "duration": 266,
    "start_time": "2022-04-22T10:24:35.401Z"
   },
   {
    "duration": 275,
    "start_time": "2022-04-22T10:24:37.313Z"
   },
   {
    "duration": 15,
    "start_time": "2022-04-22T10:28:51.625Z"
   },
   {
    "duration": 16,
    "start_time": "2022-04-22T10:28:52.258Z"
   },
   {
    "duration": 2762,
    "start_time": "2022-04-22T10:54:08.459Z"
   },
   {
    "duration": 405,
    "start_time": "2022-04-22T10:54:38.080Z"
   },
   {
    "duration": 317,
    "start_time": "2022-04-22T10:55:48.175Z"
   },
   {
    "duration": 444,
    "start_time": "2022-04-22T10:56:36.480Z"
   },
   {
    "duration": 3,
    "start_time": "2022-04-22T10:58:22.907Z"
   },
   {
    "duration": 5,
    "start_time": "2022-04-22T11:05:10.187Z"
   },
   {
    "duration": 5,
    "start_time": "2022-04-22T11:11:49.875Z"
   },
   {
    "duration": 10,
    "start_time": "2022-04-22T11:12:23.056Z"
   },
   {
    "duration": 18,
    "start_time": "2022-04-22T11:12:25.432Z"
   },
   {
    "duration": 5,
    "start_time": "2022-04-22T11:19:42.799Z"
   },
   {
    "duration": 10,
    "start_time": "2022-04-22T11:25:29.792Z"
   },
   {
    "duration": 15,
    "start_time": "2022-04-22T11:25:45.564Z"
   },
   {
    "duration": 11,
    "start_time": "2022-04-22T11:25:52.877Z"
   },
   {
    "duration": 10,
    "start_time": "2022-04-22T11:26:17.191Z"
   },
   {
    "duration": 13,
    "start_time": "2022-04-22T11:27:27.258Z"
   },
   {
    "duration": 12,
    "start_time": "2022-04-22T11:27:34.731Z"
   },
   {
    "duration": 10,
    "start_time": "2022-04-22T11:29:00.822Z"
   },
   {
    "duration": 12,
    "start_time": "2022-04-22T11:29:09.499Z"
   },
   {
    "duration": 1462,
    "start_time": "2022-04-22T11:29:28.827Z"
   },
   {
    "duration": 181,
    "start_time": "2022-04-22T11:29:30.292Z"
   },
   {
    "duration": 5,
    "start_time": "2022-04-22T11:29:30.476Z"
   },
   {
    "duration": 137,
    "start_time": "2022-04-22T11:29:30.484Z"
   },
   {
    "duration": 4,
    "start_time": "2022-04-22T11:29:30.624Z"
   },
   {
    "duration": 40,
    "start_time": "2022-04-22T11:29:30.630Z"
   },
   {
    "duration": 23,
    "start_time": "2022-04-22T11:29:30.672Z"
   },
   {
    "duration": 19,
    "start_time": "2022-04-22T11:29:30.698Z"
   },
   {
    "duration": 31,
    "start_time": "2022-04-22T11:29:30.720Z"
   },
   {
    "duration": 40,
    "start_time": "2022-04-22T11:29:30.754Z"
   },
   {
    "duration": 18,
    "start_time": "2022-04-22T11:29:30.796Z"
   },
   {
    "duration": 62,
    "start_time": "2022-04-22T11:29:30.815Z"
   },
   {
    "duration": 20,
    "start_time": "2022-04-22T11:29:30.878Z"
   },
   {
    "duration": 25,
    "start_time": "2022-04-22T11:29:30.901Z"
   },
   {
    "duration": 60,
    "start_time": "2022-04-22T11:29:30.929Z"
   },
   {
    "duration": 35,
    "start_time": "2022-04-22T11:29:30.990Z"
   },
   {
    "duration": 71,
    "start_time": "2022-04-22T11:29:31.027Z"
   },
   {
    "duration": 12,
    "start_time": "2022-04-22T11:29:31.100Z"
   },
   {
    "duration": 24,
    "start_time": "2022-04-22T11:29:31.114Z"
   },
   {
    "duration": 52,
    "start_time": "2022-04-22T11:29:31.140Z"
   },
   {
    "duration": 17,
    "start_time": "2022-04-22T11:29:31.194Z"
   },
   {
    "duration": 14,
    "start_time": "2022-04-22T11:29:31.214Z"
   },
   {
    "duration": 67,
    "start_time": "2022-04-22T11:29:31.230Z"
   },
   {
    "duration": 23,
    "start_time": "2022-04-22T11:29:31.299Z"
   },
   {
    "duration": 46,
    "start_time": "2022-04-22T11:29:31.325Z"
   },
   {
    "duration": 36,
    "start_time": "2022-04-22T11:29:31.373Z"
   },
   {
    "duration": 518,
    "start_time": "2022-04-22T11:29:31.411Z"
   },
   {
    "duration": 134,
    "start_time": "2022-04-22T11:29:31.936Z"
   },
   {
    "duration": 718,
    "start_time": "2022-04-22T11:29:32.072Z"
   },
   {
    "duration": 16,
    "start_time": "2022-04-22T11:29:32.793Z"
   },
   {
    "duration": 82,
    "start_time": "2022-04-22T11:29:32.811Z"
   },
   {
    "duration": 404,
    "start_time": "2022-04-22T11:29:32.895Z"
   },
   {
    "duration": 8,
    "start_time": "2022-04-22T11:29:33.301Z"
   },
   {
    "duration": 29,
    "start_time": "2022-04-22T11:29:33.311Z"
   },
   {
    "duration": 229,
    "start_time": "2022-04-22T11:29:33.343Z"
   },
   {
    "duration": 435,
    "start_time": "2022-04-22T11:29:33.575Z"
   },
   {
    "duration": 365,
    "start_time": "2022-04-22T11:29:34.013Z"
   },
   {
    "duration": 22,
    "start_time": "2022-04-22T11:29:34.380Z"
   },
   {
    "duration": 759,
    "start_time": "2022-04-22T11:29:34.404Z"
   },
   {
    "duration": 13,
    "start_time": "2022-04-22T11:29:35.166Z"
   },
   {
    "duration": 26,
    "start_time": "2022-04-22T11:29:35.181Z"
   },
   {
    "duration": 45,
    "start_time": "2022-04-22T11:29:35.209Z"
   },
   {
    "duration": 30,
    "start_time": "2022-04-22T11:29:35.256Z"
   },
   {
    "duration": 30,
    "start_time": "2022-04-22T11:29:35.288Z"
   },
   {
    "duration": 286,
    "start_time": "2022-04-22T11:29:35.319Z"
   },
   {
    "duration": 298,
    "start_time": "2022-04-22T11:29:35.607Z"
   },
   {
    "duration": 413,
    "start_time": "2022-04-22T11:29:35.907Z"
   },
   {
    "duration": 590,
    "start_time": "2022-04-22T11:29:36.323Z"
   },
   {
    "duration": 3,
    "start_time": "2022-04-22T11:29:36.915Z"
   },
   {
    "duration": 573,
    "start_time": "2022-04-22T11:29:36.920Z"
   },
   {
    "duration": 2,
    "start_time": "2022-04-22T11:29:37.496Z"
   },
   {
    "duration": 18,
    "start_time": "2022-04-22T11:29:37.500Z"
   },
   {
    "duration": 49,
    "start_time": "2022-04-22T11:29:37.520Z"
   },
   {
    "duration": 30,
    "start_time": "2022-04-22T11:29:37.571Z"
   },
   {
    "duration": 18,
    "start_time": "2022-04-22T11:29:37.603Z"
   },
   {
    "duration": 55,
    "start_time": "2022-04-22T11:29:37.623Z"
   },
   {
    "duration": 46,
    "start_time": "2022-04-22T11:29:37.680Z"
   },
   {
    "duration": 42,
    "start_time": "2022-04-22T11:29:37.729Z"
   },
   {
    "duration": 5,
    "start_time": "2022-04-22T11:35:51.500Z"
   },
   {
    "duration": 128,
    "start_time": "2022-04-22T11:36:03.028Z"
   },
   {
    "duration": 8,
    "start_time": "2022-04-22T11:36:10.604Z"
   },
   {
    "duration": 7,
    "start_time": "2022-04-22T11:37:55.158Z"
   },
   {
    "duration": 9,
    "start_time": "2022-04-22T11:38:15.193Z"
   },
   {
    "duration": 10,
    "start_time": "2022-04-22T11:38:19.858Z"
   },
   {
    "duration": 1342,
    "start_time": "2022-04-22T11:38:26.051Z"
   },
   {
    "duration": 165,
    "start_time": "2022-04-22T11:38:27.395Z"
   },
   {
    "duration": 4,
    "start_time": "2022-04-22T11:38:27.562Z"
   },
   {
    "duration": 97,
    "start_time": "2022-04-22T11:38:27.568Z"
   },
   {
    "duration": 7,
    "start_time": "2022-04-22T11:38:27.668Z"
   },
   {
    "duration": 7,
    "start_time": "2022-04-22T11:38:27.677Z"
   },
   {
    "duration": 9,
    "start_time": "2022-04-22T11:38:27.685Z"
   },
   {
    "duration": 15,
    "start_time": "2022-04-22T11:38:27.696Z"
   },
   {
    "duration": 41,
    "start_time": "2022-04-22T11:38:27.713Z"
   },
   {
    "duration": 22,
    "start_time": "2022-04-22T11:38:27.756Z"
   },
   {
    "duration": 12,
    "start_time": "2022-04-22T11:38:27.779Z"
   },
   {
    "duration": 36,
    "start_time": "2022-04-22T11:38:27.792Z"
   },
   {
    "duration": 35,
    "start_time": "2022-04-22T11:38:27.829Z"
   },
   {
    "duration": 10,
    "start_time": "2022-04-22T11:38:27.868Z"
   },
   {
    "duration": 9,
    "start_time": "2022-04-22T11:38:27.880Z"
   },
   {
    "duration": 8,
    "start_time": "2022-04-22T11:38:27.891Z"
   },
   {
    "duration": 26,
    "start_time": "2022-04-22T11:38:27.901Z"
   },
   {
    "duration": 17,
    "start_time": "2022-04-22T11:38:27.929Z"
   },
   {
    "duration": 22,
    "start_time": "2022-04-22T11:38:27.953Z"
   },
   {
    "duration": 9,
    "start_time": "2022-04-22T11:38:27.976Z"
   },
   {
    "duration": 11,
    "start_time": "2022-04-22T11:38:27.987Z"
   },
   {
    "duration": 5,
    "start_time": "2022-04-22T11:38:27.999Z"
   },
   {
    "duration": 22,
    "start_time": "2022-04-22T11:38:28.006Z"
   },
   {
    "duration": 38,
    "start_time": "2022-04-22T11:38:28.030Z"
   },
   {
    "duration": 25,
    "start_time": "2022-04-22T11:38:28.070Z"
   },
   {
    "duration": 15,
    "start_time": "2022-04-22T11:38:28.097Z"
   },
   {
    "duration": 476,
    "start_time": "2022-04-22T11:38:28.114Z"
   },
   {
    "duration": 95,
    "start_time": "2022-04-22T11:38:28.592Z"
   },
   {
    "duration": 625,
    "start_time": "2022-04-22T11:38:28.689Z"
   },
   {
    "duration": 15,
    "start_time": "2022-04-22T11:38:29.316Z"
   },
   {
    "duration": 46,
    "start_time": "2022-04-22T11:38:29.333Z"
   },
   {
    "duration": 385,
    "start_time": "2022-04-22T11:38:29.382Z"
   },
   {
    "duration": 8,
    "start_time": "2022-04-22T11:38:29.770Z"
   },
   {
    "duration": 9,
    "start_time": "2022-04-22T11:38:29.780Z"
   },
   {
    "duration": 227,
    "start_time": "2022-04-22T11:38:29.791Z"
   },
   {
    "duration": 410,
    "start_time": "2022-04-22T11:38:30.020Z"
   },
   {
    "duration": 343,
    "start_time": "2022-04-22T11:38:30.433Z"
   },
   {
    "duration": 22,
    "start_time": "2022-04-22T11:38:30.778Z"
   },
   {
    "duration": 721,
    "start_time": "2022-04-22T11:38:30.802Z"
   },
   {
    "duration": 19,
    "start_time": "2022-04-22T11:38:31.538Z"
   },
   {
    "duration": 23,
    "start_time": "2022-04-22T11:38:31.563Z"
   },
   {
    "duration": 24,
    "start_time": "2022-04-22T11:38:31.588Z"
   },
   {
    "duration": 41,
    "start_time": "2022-04-22T11:38:31.614Z"
   },
   {
    "duration": 44,
    "start_time": "2022-04-22T11:38:31.659Z"
   },
   {
    "duration": 279,
    "start_time": "2022-04-22T11:38:31.705Z"
   },
   {
    "duration": 295,
    "start_time": "2022-04-22T11:38:31.986Z"
   },
   {
    "duration": 379,
    "start_time": "2022-04-22T11:38:32.283Z"
   },
   {
    "duration": 466,
    "start_time": "2022-04-22T11:38:32.665Z"
   },
   {
    "duration": 3,
    "start_time": "2022-04-22T11:38:33.133Z"
   },
   {
    "duration": 433,
    "start_time": "2022-04-22T11:38:33.139Z"
   },
   {
    "duration": 3,
    "start_time": "2022-04-22T11:38:33.574Z"
   },
   {
    "duration": 13,
    "start_time": "2022-04-22T11:38:33.578Z"
   },
   {
    "duration": 10,
    "start_time": "2022-04-22T11:38:33.593Z"
   },
   {
    "duration": 17,
    "start_time": "2022-04-22T11:38:33.605Z"
   },
   {
    "duration": 22,
    "start_time": "2022-04-22T11:38:33.624Z"
   },
   {
    "duration": 26,
    "start_time": "2022-04-22T11:38:33.647Z"
   },
   {
    "duration": 20,
    "start_time": "2022-04-22T11:38:33.675Z"
   },
   {
    "duration": 6,
    "start_time": "2022-04-22T11:38:33.697Z"
   },
   {
    "duration": 124,
    "start_time": "2022-04-22T11:40:23.158Z"
   },
   {
    "duration": 7,
    "start_time": "2022-04-22T11:40:54.159Z"
   },
   {
    "duration": 9,
    "start_time": "2022-04-22T11:41:36.775Z"
   },
   {
    "duration": 5,
    "start_time": "2022-04-22T11:41:58.451Z"
   },
   {
    "duration": 5,
    "start_time": "2022-04-22T11:42:41.291Z"
   },
   {
    "duration": 4,
    "start_time": "2022-04-22T11:44:51.827Z"
   },
   {
    "duration": 6,
    "start_time": "2022-04-22T11:45:01.504Z"
   },
   {
    "duration": 12,
    "start_time": "2022-04-22T11:45:59.316Z"
   },
   {
    "duration": 15,
    "start_time": "2022-04-22T11:46:01.412Z"
   },
   {
    "duration": 1417,
    "start_time": "2022-04-22T13:10:56.415Z"
   },
   {
    "duration": 179,
    "start_time": "2022-04-22T13:10:57.845Z"
   },
   {
    "duration": 4,
    "start_time": "2022-04-22T13:10:58.026Z"
   },
   {
    "duration": 179,
    "start_time": "2022-04-22T13:10:58.033Z"
   },
   {
    "duration": 3,
    "start_time": "2022-04-22T13:10:58.214Z"
   },
   {
    "duration": 8,
    "start_time": "2022-04-22T13:10:58.219Z"
   },
   {
    "duration": 57,
    "start_time": "2022-04-22T13:10:58.229Z"
   },
   {
    "duration": 19,
    "start_time": "2022-04-22T13:10:58.288Z"
   },
   {
    "duration": 16,
    "start_time": "2022-04-22T13:10:58.309Z"
   },
   {
    "duration": 21,
    "start_time": "2022-04-22T13:10:58.328Z"
   },
   {
    "duration": 39,
    "start_time": "2022-04-22T13:10:58.351Z"
   },
   {
    "duration": 26,
    "start_time": "2022-04-22T13:10:58.392Z"
   },
   {
    "duration": 8,
    "start_time": "2022-04-22T13:10:58.420Z"
   },
   {
    "duration": 57,
    "start_time": "2022-04-22T13:10:58.429Z"
   },
   {
    "duration": 13,
    "start_time": "2022-04-22T13:10:58.488Z"
   },
   {
    "duration": 9,
    "start_time": "2022-04-22T13:10:58.503Z"
   },
   {
    "duration": 44,
    "start_time": "2022-04-22T13:10:58.514Z"
   },
   {
    "duration": 12,
    "start_time": "2022-04-22T13:10:58.561Z"
   },
   {
    "duration": 31,
    "start_time": "2022-04-22T13:10:58.575Z"
   },
   {
    "duration": 5,
    "start_time": "2022-04-22T13:10:58.609Z"
   },
   {
    "duration": 13,
    "start_time": "2022-04-22T13:10:58.616Z"
   },
   {
    "duration": 8,
    "start_time": "2022-04-22T13:10:58.632Z"
   },
   {
    "duration": 66,
    "start_time": "2022-04-22T13:10:58.642Z"
   },
   {
    "duration": 16,
    "start_time": "2022-04-22T13:10:58.710Z"
   },
   {
    "duration": 64,
    "start_time": "2022-04-22T13:10:58.728Z"
   },
   {
    "duration": 14,
    "start_time": "2022-04-22T13:10:58.794Z"
   },
   {
    "duration": 512,
    "start_time": "2022-04-22T13:10:58.810Z"
   },
   {
    "duration": 93,
    "start_time": "2022-04-22T13:10:59.327Z"
   },
   {
    "duration": 672,
    "start_time": "2022-04-22T13:10:59.422Z"
   },
   {
    "duration": 13,
    "start_time": "2022-04-22T13:11:00.096Z"
   },
   {
    "duration": 71,
    "start_time": "2022-04-22T13:11:00.111Z"
   },
   {
    "duration": 378,
    "start_time": "2022-04-22T13:11:00.184Z"
   },
   {
    "duration": 11,
    "start_time": "2022-04-22T13:11:00.564Z"
   },
   {
    "duration": 17,
    "start_time": "2022-04-22T13:11:00.577Z"
   },
   {
    "duration": 199,
    "start_time": "2022-04-22T13:11:00.595Z"
   },
   {
    "duration": 459,
    "start_time": "2022-04-22T13:11:00.796Z"
   },
   {
    "duration": 423,
    "start_time": "2022-04-22T13:11:01.257Z"
   },
   {
    "duration": 27,
    "start_time": "2022-04-22T13:11:01.682Z"
   },
   {
    "duration": 807,
    "start_time": "2022-04-22T13:11:01.711Z"
   },
   {
    "duration": 30,
    "start_time": "2022-04-22T13:11:02.520Z"
   },
   {
    "duration": 51,
    "start_time": "2022-04-22T13:11:02.552Z"
   },
   {
    "duration": 39,
    "start_time": "2022-04-22T13:11:02.605Z"
   },
   {
    "duration": 75,
    "start_time": "2022-04-22T13:11:02.646Z"
   },
   {
    "duration": 60,
    "start_time": "2022-04-22T13:11:02.723Z"
   },
   {
    "duration": 342,
    "start_time": "2022-04-22T13:11:02.786Z"
   },
   {
    "duration": 316,
    "start_time": "2022-04-22T13:11:03.132Z"
   },
   {
    "duration": 378,
    "start_time": "2022-04-22T13:11:03.450Z"
   },
   {
    "duration": 550,
    "start_time": "2022-04-22T13:11:03.830Z"
   },
   {
    "duration": 3,
    "start_time": "2022-04-22T13:11:04.383Z"
   },
   {
    "duration": 482,
    "start_time": "2022-04-22T13:11:04.389Z"
   },
   {
    "duration": 10,
    "start_time": "2022-04-22T13:11:04.873Z"
   },
   {
    "duration": 27,
    "start_time": "2022-04-22T13:11:04.889Z"
   },
   {
    "duration": 49,
    "start_time": "2022-04-22T13:11:04.919Z"
   },
   {
    "duration": 22,
    "start_time": "2022-04-22T13:11:04.971Z"
   },
   {
    "duration": 21,
    "start_time": "2022-04-22T13:11:04.995Z"
   },
   {
    "duration": 5,
    "start_time": "2022-04-22T13:11:05.018Z"
   },
   {
    "duration": 35,
    "start_time": "2022-04-22T13:11:05.025Z"
   },
   {
    "duration": 35,
    "start_time": "2022-04-22T13:11:05.062Z"
   },
   {
    "duration": 475,
    "start_time": "2022-04-22T13:13:31.976Z"
   },
   {
    "duration": 448,
    "start_time": "2022-04-22T13:13:54.459Z"
   },
   {
    "duration": 443,
    "start_time": "2022-04-22T13:14:15.236Z"
   },
   {
    "duration": 528,
    "start_time": "2022-04-22T13:15:09.756Z"
   },
   {
    "duration": 462,
    "start_time": "2022-04-22T13:15:23.623Z"
   },
   {
    "duration": 561,
    "start_time": "2022-04-22T13:15:36.765Z"
   },
   {
    "duration": 7,
    "start_time": "2022-04-22T13:16:04.887Z"
   },
   {
    "duration": 23,
    "start_time": "2022-04-22T13:16:09.927Z"
   },
   {
    "duration": 1416,
    "start_time": "2022-04-22T13:17:11.769Z"
   },
   {
    "duration": 150,
    "start_time": "2022-04-22T13:17:13.187Z"
   },
   {
    "duration": 8,
    "start_time": "2022-04-22T13:17:13.341Z"
   },
   {
    "duration": 144,
    "start_time": "2022-04-22T13:17:13.352Z"
   },
   {
    "duration": 4,
    "start_time": "2022-04-22T13:17:13.499Z"
   },
   {
    "duration": 7,
    "start_time": "2022-04-22T13:17:13.506Z"
   },
   {
    "duration": 12,
    "start_time": "2022-04-22T13:17:13.515Z"
   },
   {
    "duration": 23,
    "start_time": "2022-04-22T13:17:13.530Z"
   },
   {
    "duration": 43,
    "start_time": "2022-04-22T13:17:13.556Z"
   },
   {
    "duration": 11,
    "start_time": "2022-04-22T13:17:13.602Z"
   },
   {
    "duration": 10,
    "start_time": "2022-04-22T13:17:13.615Z"
   },
   {
    "duration": 44,
    "start_time": "2022-04-22T13:17:13.627Z"
   },
   {
    "duration": 8,
    "start_time": "2022-04-22T13:17:13.680Z"
   },
   {
    "duration": 10,
    "start_time": "2022-04-22T13:17:13.691Z"
   },
   {
    "duration": 9,
    "start_time": "2022-04-22T13:17:13.703Z"
   },
   {
    "duration": 6,
    "start_time": "2022-04-22T13:17:13.714Z"
   },
   {
    "duration": 64,
    "start_time": "2022-04-22T13:17:13.722Z"
   },
   {
    "duration": 7,
    "start_time": "2022-04-22T13:17:13.788Z"
   },
   {
    "duration": 8,
    "start_time": "2022-04-22T13:17:13.796Z"
   },
   {
    "duration": 6,
    "start_time": "2022-04-22T13:17:13.806Z"
   },
   {
    "duration": 9,
    "start_time": "2022-04-22T13:17:13.813Z"
   },
   {
    "duration": 22,
    "start_time": "2022-04-22T13:17:13.824Z"
   },
   {
    "duration": 54,
    "start_time": "2022-04-22T13:17:13.848Z"
   },
   {
    "duration": 15,
    "start_time": "2022-04-22T13:17:13.903Z"
   },
   {
    "duration": 35,
    "start_time": "2022-04-22T13:17:13.920Z"
   },
   {
    "duration": 21,
    "start_time": "2022-04-22T13:17:13.957Z"
   },
   {
    "duration": 499,
    "start_time": "2022-04-22T13:17:13.980Z"
   },
   {
    "duration": 81,
    "start_time": "2022-04-22T13:17:14.485Z"
   },
   {
    "duration": 634,
    "start_time": "2022-04-22T13:17:14.568Z"
   },
   {
    "duration": 13,
    "start_time": "2022-04-22T13:17:15.204Z"
   },
   {
    "duration": 58,
    "start_time": "2022-04-22T13:17:15.219Z"
   },
   {
    "duration": 380,
    "start_time": "2022-04-22T13:17:15.281Z"
   },
   {
    "duration": 5,
    "start_time": "2022-04-22T13:17:15.664Z"
   },
   {
    "duration": 20,
    "start_time": "2022-04-22T13:17:15.673Z"
   },
   {
    "duration": 195,
    "start_time": "2022-04-22T13:17:15.695Z"
   },
   {
    "duration": 422,
    "start_time": "2022-04-22T13:17:15.892Z"
   },
   {
    "duration": 380,
    "start_time": "2022-04-22T13:17:16.316Z"
   },
   {
    "duration": 21,
    "start_time": "2022-04-22T13:17:16.698Z"
   },
   {
    "duration": 751,
    "start_time": "2022-04-22T13:17:16.721Z"
   },
   {
    "duration": 11,
    "start_time": "2022-04-22T13:17:17.476Z"
   },
   {
    "duration": 19,
    "start_time": "2022-04-22T13:17:17.489Z"
   },
   {
    "duration": 48,
    "start_time": "2022-04-22T13:17:17.510Z"
   },
   {
    "duration": 39,
    "start_time": "2022-04-22T13:17:17.560Z"
   },
   {
    "duration": 23,
    "start_time": "2022-04-22T13:17:17.600Z"
   },
   {
    "duration": 286,
    "start_time": "2022-04-22T13:17:17.625Z"
   },
   {
    "duration": 294,
    "start_time": "2022-04-22T13:17:17.913Z"
   },
   {
    "duration": 414,
    "start_time": "2022-04-22T13:17:18.209Z"
   },
   {
    "duration": 503,
    "start_time": "2022-04-22T13:17:18.625Z"
   },
   {
    "duration": 17,
    "start_time": "2022-04-22T13:17:19.130Z"
   },
   {
    "duration": 50,
    "start_time": "2022-04-22T13:17:19.149Z"
   },
   {
    "duration": 508,
    "start_time": "2022-04-22T13:17:19.201Z"
   },
   {
    "duration": 3,
    "start_time": "2022-04-22T13:17:19.711Z"
   },
   {
    "duration": 28,
    "start_time": "2022-04-22T13:17:19.715Z"
   },
   {
    "duration": 43,
    "start_time": "2022-04-22T13:17:19.746Z"
   },
   {
    "duration": 23,
    "start_time": "2022-04-22T13:17:19.791Z"
   },
   {
    "duration": 68,
    "start_time": "2022-04-22T13:17:19.816Z"
   },
   {
    "duration": 13,
    "start_time": "2022-04-22T13:17:19.886Z"
   },
   {
    "duration": 41,
    "start_time": "2022-04-22T13:17:19.901Z"
   },
   {
    "duration": 45,
    "start_time": "2022-04-22T13:17:19.944Z"
   },
   {
    "duration": 466,
    "start_time": "2022-04-22T13:20:25.415Z"
   },
   {
    "duration": 623,
    "start_time": "2022-04-22T13:20:37.130Z"
   },
   {
    "duration": 457,
    "start_time": "2022-04-22T13:20:51.015Z"
   },
   {
    "duration": 549,
    "start_time": "2022-04-22T13:21:11.915Z"
   },
   {
    "duration": 328,
    "start_time": "2022-04-22T13:21:22.959Z"
   },
   {
    "duration": 468,
    "start_time": "2022-04-22T13:21:36.654Z"
   },
   {
    "duration": 435,
    "start_time": "2022-04-22T13:23:55.882Z"
   },
   {
    "duration": 182,
    "start_time": "2022-04-22T13:24:15.970Z"
   },
   {
    "duration": 439,
    "start_time": "2022-04-22T13:24:22.285Z"
   },
   {
    "duration": 452,
    "start_time": "2022-04-22T13:29:42.161Z"
   },
   {
    "duration": 538,
    "start_time": "2022-04-22T13:29:57.385Z"
   },
   {
    "duration": 446,
    "start_time": "2022-04-22T13:31:18.581Z"
   },
   {
    "duration": 459,
    "start_time": "2022-04-22T13:31:29.961Z"
   },
   {
    "duration": 446,
    "start_time": "2022-04-22T13:31:35.717Z"
   },
   {
    "duration": 448,
    "start_time": "2022-04-22T13:32:16.925Z"
   },
   {
    "duration": 543,
    "start_time": "2022-04-22T13:33:09.573Z"
   },
   {
    "duration": 199,
    "start_time": "2022-04-22T13:33:18.158Z"
   },
   {
    "duration": 423,
    "start_time": "2022-04-22T13:33:24.700Z"
   },
   {
    "duration": 427,
    "start_time": "2022-04-22T13:33:31.709Z"
   },
   {
    "duration": 2969,
    "start_time": "2022-04-22T13:33:52.974Z"
   },
   {
    "duration": 47,
    "start_time": "2022-04-22T13:34:05.960Z"
   },
   {
    "duration": 49,
    "start_time": "2022-04-22T13:34:21.117Z"
   },
   {
    "duration": 43,
    "start_time": "2022-04-22T13:34:29.361Z"
   },
   {
    "duration": 422,
    "start_time": "2022-04-22T13:34:41.104Z"
   },
   {
    "duration": 556,
    "start_time": "2022-04-22T13:35:16.012Z"
   },
   {
    "duration": 436,
    "start_time": "2022-04-22T13:35:24.863Z"
   },
   {
    "duration": 224,
    "start_time": "2022-04-22T13:35:30.073Z"
   },
   {
    "duration": 438,
    "start_time": "2022-04-22T13:35:32.461Z"
   },
   {
    "duration": 442,
    "start_time": "2022-04-22T13:35:56.168Z"
   },
   {
    "duration": 446,
    "start_time": "2022-04-22T13:36:06.908Z"
   },
   {
    "duration": 562,
    "start_time": "2022-04-22T13:36:55.859Z"
   },
   {
    "duration": 406,
    "start_time": "2022-04-22T13:39:22.624Z"
   },
   {
    "duration": 424,
    "start_time": "2022-04-22T13:39:46.296Z"
   },
   {
    "duration": 406,
    "start_time": "2022-04-22T13:40:11.300Z"
   },
   {
    "duration": 121,
    "start_time": "2022-04-22T15:07:09.598Z"
   },
   {
    "duration": 38,
    "start_time": "2022-04-22T15:07:18.842Z"
   },
   {
    "duration": 1363,
    "start_time": "2022-04-22T15:49:54.217Z"
   },
   {
    "duration": 124,
    "start_time": "2022-04-22T15:49:55.582Z"
   },
   {
    "duration": 3,
    "start_time": "2022-04-22T15:49:55.708Z"
   },
   {
    "duration": 84,
    "start_time": "2022-04-22T15:49:55.714Z"
   },
   {
    "duration": 3,
    "start_time": "2022-04-22T15:49:55.801Z"
   },
   {
    "duration": 7,
    "start_time": "2022-04-22T15:49:55.806Z"
   },
   {
    "duration": 24,
    "start_time": "2022-04-22T15:49:55.814Z"
   },
   {
    "duration": 31,
    "start_time": "2022-04-22T15:49:55.840Z"
   },
   {
    "duration": 19,
    "start_time": "2022-04-22T15:49:55.873Z"
   },
   {
    "duration": 12,
    "start_time": "2022-04-22T15:49:55.895Z"
   },
   {
    "duration": 9,
    "start_time": "2022-04-22T15:49:55.908Z"
   },
   {
    "duration": 44,
    "start_time": "2022-04-22T15:49:55.919Z"
   },
   {
    "duration": 9,
    "start_time": "2022-04-22T15:49:55.965Z"
   },
   {
    "duration": 12,
    "start_time": "2022-04-22T15:49:55.976Z"
   },
   {
    "duration": 10,
    "start_time": "2022-04-22T15:49:55.990Z"
   },
   {
    "duration": 9,
    "start_time": "2022-04-22T15:49:56.001Z"
   },
   {
    "duration": 34,
    "start_time": "2022-04-22T15:49:56.012Z"
   },
   {
    "duration": 6,
    "start_time": "2022-04-22T15:49:56.048Z"
   },
   {
    "duration": 17,
    "start_time": "2022-04-22T15:49:56.057Z"
   },
   {
    "duration": 6,
    "start_time": "2022-04-22T15:49:56.076Z"
   },
   {
    "duration": 9,
    "start_time": "2022-04-22T15:49:56.083Z"
   },
   {
    "duration": 8,
    "start_time": "2022-04-22T15:49:56.094Z"
   },
   {
    "duration": 48,
    "start_time": "2022-04-22T15:49:56.104Z"
   },
   {
    "duration": 19,
    "start_time": "2022-04-22T15:49:56.154Z"
   },
   {
    "duration": 25,
    "start_time": "2022-04-22T15:49:56.175Z"
   },
   {
    "duration": 52,
    "start_time": "2022-04-22T15:49:56.201Z"
   },
   {
    "duration": 454,
    "start_time": "2022-04-22T15:49:56.255Z"
   },
   {
    "duration": 84,
    "start_time": "2022-04-22T15:49:56.713Z"
   },
   {
    "duration": 599,
    "start_time": "2022-04-22T15:49:56.799Z"
   },
   {
    "duration": 12,
    "start_time": "2022-04-22T15:49:57.400Z"
   },
   {
    "duration": 49,
    "start_time": "2022-04-22T15:49:57.414Z"
   },
   {
    "duration": 345,
    "start_time": "2022-04-22T15:49:57.467Z"
   },
   {
    "duration": 7,
    "start_time": "2022-04-22T15:49:57.814Z"
   },
   {
    "duration": 20,
    "start_time": "2022-04-22T15:49:57.823Z"
   },
   {
    "duration": 218,
    "start_time": "2022-04-22T15:49:57.849Z"
   },
   {
    "duration": 414,
    "start_time": "2022-04-22T15:49:58.069Z"
   },
   {
    "duration": 321,
    "start_time": "2022-04-22T15:49:58.485Z"
   },
   {
    "duration": 32,
    "start_time": "2022-04-22T15:49:58.808Z"
   },
   {
    "duration": 683,
    "start_time": "2022-04-22T15:49:58.843Z"
   },
   {
    "duration": 26,
    "start_time": "2022-04-22T15:49:59.527Z"
   },
   {
    "duration": 35,
    "start_time": "2022-04-22T15:49:59.554Z"
   },
   {
    "duration": 18,
    "start_time": "2022-04-22T15:49:59.592Z"
   },
   {
    "duration": 30,
    "start_time": "2022-04-22T15:49:59.611Z"
   },
   {
    "duration": 45,
    "start_time": "2022-04-22T15:49:59.645Z"
   },
   {
    "duration": 242,
    "start_time": "2022-04-22T15:49:59.692Z"
   },
   {
    "duration": 268,
    "start_time": "2022-04-22T15:49:59.936Z"
   },
   {
    "duration": 372,
    "start_time": "2022-04-22T15:50:00.206Z"
   },
   {
    "duration": 481,
    "start_time": "2022-04-22T15:50:00.580Z"
   },
   {
    "duration": 4,
    "start_time": "2022-04-22T15:50:01.063Z"
   },
   {
    "duration": 414,
    "start_time": "2022-04-22T15:50:01.069Z"
   },
   {
    "duration": 2,
    "start_time": "2022-04-22T15:50:01.485Z"
   },
   {
    "duration": 34,
    "start_time": "2022-04-22T15:50:01.489Z"
   },
   {
    "duration": 52,
    "start_time": "2022-04-22T15:50:01.525Z"
   },
   {
    "duration": 17,
    "start_time": "2022-04-22T15:50:01.579Z"
   },
   {
    "duration": 23,
    "start_time": "2022-04-22T15:50:01.598Z"
   },
   {
    "duration": 48,
    "start_time": "2022-04-22T15:50:01.623Z"
   },
   {
    "duration": 27,
    "start_time": "2022-04-22T15:50:01.673Z"
   },
   {
    "duration": 8,
    "start_time": "2022-04-22T15:50:01.703Z"
   },
   {
    "duration": 44,
    "start_time": "2022-04-24T13:29:32.196Z"
   },
   {
    "duration": 1288,
    "start_time": "2022-04-24T13:29:44.586Z"
   },
   {
    "duration": 83,
    "start_time": "2022-04-24T13:29:45.876Z"
   },
   {
    "duration": 5,
    "start_time": "2022-04-24T13:29:45.960Z"
   },
   {
    "duration": 85,
    "start_time": "2022-04-24T13:29:45.967Z"
   },
   {
    "duration": 4,
    "start_time": "2022-04-24T13:29:46.060Z"
   },
   {
    "duration": 21,
    "start_time": "2022-04-24T13:29:46.066Z"
   },
   {
    "duration": 4,
    "start_time": "2022-04-24T13:29:46.090Z"
   },
   {
    "duration": 12,
    "start_time": "2022-04-24T13:29:46.096Z"
   },
   {
    "duration": 14,
    "start_time": "2022-04-24T13:29:46.109Z"
   },
   {
    "duration": 8,
    "start_time": "2022-04-24T13:29:46.125Z"
   },
   {
    "duration": 15,
    "start_time": "2022-04-24T13:29:46.134Z"
   },
   {
    "duration": 37,
    "start_time": "2022-04-24T13:29:46.155Z"
   },
   {
    "duration": 5,
    "start_time": "2022-04-24T13:29:46.194Z"
   },
   {
    "duration": 8,
    "start_time": "2022-04-24T13:29:46.201Z"
   },
   {
    "duration": 7,
    "start_time": "2022-04-24T13:29:46.211Z"
   },
   {
    "duration": 6,
    "start_time": "2022-04-24T13:29:46.219Z"
   },
   {
    "duration": 37,
    "start_time": "2022-04-24T13:29:46.226Z"
   },
   {
    "duration": 6,
    "start_time": "2022-04-24T13:29:46.265Z"
   },
   {
    "duration": 10,
    "start_time": "2022-04-24T13:29:46.277Z"
   },
   {
    "duration": 4,
    "start_time": "2022-04-24T13:29:46.289Z"
   },
   {
    "duration": 9,
    "start_time": "2022-04-24T13:29:46.294Z"
   },
   {
    "duration": 2,
    "start_time": "2022-04-24T13:29:46.305Z"
   },
   {
    "duration": 17,
    "start_time": "2022-04-24T13:29:46.309Z"
   },
   {
    "duration": 30,
    "start_time": "2022-04-24T13:29:46.328Z"
   },
   {
    "duration": 24,
    "start_time": "2022-04-24T13:29:46.360Z"
   },
   {
    "duration": 12,
    "start_time": "2022-04-24T13:29:46.386Z"
   },
   {
    "duration": 380,
    "start_time": "2022-04-24T13:29:46.400Z"
   },
   {
    "duration": 55,
    "start_time": "2022-04-24T13:29:46.784Z"
   },
   {
    "duration": 447,
    "start_time": "2022-04-24T13:29:46.840Z"
   },
   {
    "duration": 14,
    "start_time": "2022-04-24T13:29:47.289Z"
   },
   {
    "duration": 60,
    "start_time": "2022-04-24T13:29:47.306Z"
   },
   {
    "duration": 263,
    "start_time": "2022-04-24T13:29:47.374Z"
   },
   {
    "duration": 20,
    "start_time": "2022-04-24T13:29:47.639Z"
   },
   {
    "duration": 26,
    "start_time": "2022-04-24T13:29:47.660Z"
   },
   {
    "duration": 136,
    "start_time": "2022-04-24T13:29:47.688Z"
   },
   {
    "duration": 315,
    "start_time": "2022-04-24T13:29:47.825Z"
   },
   {
    "duration": 264,
    "start_time": "2022-04-24T13:29:48.142Z"
   },
   {
    "duration": 18,
    "start_time": "2022-04-24T13:29:48.407Z"
   },
   {
    "duration": 567,
    "start_time": "2022-04-24T13:29:48.427Z"
   },
   {
    "duration": 9,
    "start_time": "2022-04-24T13:29:48.996Z"
   },
   {
    "duration": 16,
    "start_time": "2022-04-24T13:29:49.007Z"
   },
   {
    "duration": 37,
    "start_time": "2022-04-24T13:29:49.024Z"
   },
   {
    "duration": 18,
    "start_time": "2022-04-24T13:29:49.063Z"
   },
   {
    "duration": 20,
    "start_time": "2022-04-24T13:29:49.083Z"
   },
   {
    "duration": 222,
    "start_time": "2022-04-24T13:29:49.105Z"
   },
   {
    "duration": 317,
    "start_time": "2022-04-24T13:29:49.328Z"
   },
   {
    "duration": 290,
    "start_time": "2022-04-24T13:29:49.647Z"
   },
   {
    "duration": 341,
    "start_time": "2022-04-24T13:29:49.946Z"
   },
   {
    "duration": 118,
    "start_time": "2022-04-24T13:29:50.289Z"
   },
   {
    "duration": 0,
    "start_time": "2022-04-24T13:29:50.408Z"
   },
   {
    "duration": 0,
    "start_time": "2022-04-24T13:29:50.409Z"
   },
   {
    "duration": 0,
    "start_time": "2022-04-24T13:29:50.411Z"
   },
   {
    "duration": 0,
    "start_time": "2022-04-24T13:29:50.412Z"
   },
   {
    "duration": 0,
    "start_time": "2022-04-24T13:29:50.413Z"
   },
   {
    "duration": 0,
    "start_time": "2022-04-24T13:29:50.414Z"
   },
   {
    "duration": 0,
    "start_time": "2022-04-24T13:29:50.415Z"
   },
   {
    "duration": 0,
    "start_time": "2022-04-24T13:29:50.416Z"
   },
   {
    "duration": 0,
    "start_time": "2022-04-24T13:29:50.417Z"
   },
   {
    "duration": 0,
    "start_time": "2022-04-24T13:29:50.418Z"
   },
   {
    "duration": 414,
    "start_time": "2022-04-24T13:30:44.475Z"
   },
   {
    "duration": 8,
    "start_time": "2022-04-24T13:31:28.237Z"
   },
   {
    "duration": 300,
    "start_time": "2022-04-24T13:32:12.403Z"
   },
   {
    "duration": 324,
    "start_time": "2022-04-24T13:32:26.766Z"
   },
   {
    "duration": 369,
    "start_time": "2022-04-24T13:32:37.698Z"
   },
   {
    "duration": 287,
    "start_time": "2022-04-24T13:33:18.396Z"
   },
   {
    "duration": 395,
    "start_time": "2022-04-24T13:34:17.921Z"
   },
   {
    "duration": 3,
    "start_time": "2022-04-24T13:34:21.618Z"
   },
   {
    "duration": 1409,
    "start_time": "2022-04-24T13:35:30.777Z"
   },
   {
    "duration": 92,
    "start_time": "2022-04-24T13:35:32.188Z"
   },
   {
    "duration": 4,
    "start_time": "2022-04-24T13:35:32.282Z"
   },
   {
    "duration": 91,
    "start_time": "2022-04-24T13:35:32.288Z"
   },
   {
    "duration": 3,
    "start_time": "2022-04-24T13:35:32.381Z"
   },
   {
    "duration": 5,
    "start_time": "2022-04-24T13:35:32.386Z"
   },
   {
    "duration": 5,
    "start_time": "2022-04-24T13:35:32.392Z"
   },
   {
    "duration": 11,
    "start_time": "2022-04-24T13:35:32.399Z"
   },
   {
    "duration": 12,
    "start_time": "2022-04-24T13:35:32.411Z"
   },
   {
    "duration": 31,
    "start_time": "2022-04-24T13:35:32.426Z"
   },
   {
    "duration": 27,
    "start_time": "2022-04-24T13:35:32.458Z"
   },
   {
    "duration": 20,
    "start_time": "2022-04-24T13:35:32.488Z"
   },
   {
    "duration": 5,
    "start_time": "2022-04-24T13:35:32.509Z"
   },
   {
    "duration": 7,
    "start_time": "2022-04-24T13:35:32.515Z"
   },
   {
    "duration": 6,
    "start_time": "2022-04-24T13:35:32.523Z"
   },
   {
    "duration": 25,
    "start_time": "2022-04-24T13:35:32.531Z"
   },
   {
    "duration": 43,
    "start_time": "2022-04-24T13:35:32.558Z"
   },
   {
    "duration": 5,
    "start_time": "2022-04-24T13:35:32.603Z"
   },
   {
    "duration": 7,
    "start_time": "2022-04-24T13:35:32.610Z"
   },
   {
    "duration": 5,
    "start_time": "2022-04-24T13:35:32.619Z"
   },
   {
    "duration": 7,
    "start_time": "2022-04-24T13:35:32.625Z"
   },
   {
    "duration": 20,
    "start_time": "2022-04-24T13:35:32.634Z"
   },
   {
    "duration": 20,
    "start_time": "2022-04-24T13:35:32.658Z"
   },
   {
    "duration": 16,
    "start_time": "2022-04-24T13:35:32.680Z"
   },
   {
    "duration": 20,
    "start_time": "2022-04-24T13:35:32.697Z"
   },
   {
    "duration": 13,
    "start_time": "2022-04-24T13:35:32.719Z"
   },
   {
    "duration": 372,
    "start_time": "2022-04-24T13:35:32.755Z"
   },
   {
    "duration": 101,
    "start_time": "2022-04-24T13:35:33.131Z"
   },
   {
    "duration": 633,
    "start_time": "2022-04-24T13:35:33.234Z"
   },
   {
    "duration": 17,
    "start_time": "2022-04-24T13:35:33.869Z"
   },
   {
    "duration": 31,
    "start_time": "2022-04-24T13:35:33.888Z"
   },
   {
    "duration": 413,
    "start_time": "2022-04-24T13:35:33.921Z"
   },
   {
    "duration": 15,
    "start_time": "2022-04-24T13:35:34.337Z"
   },
   {
    "duration": 29,
    "start_time": "2022-04-24T13:35:34.354Z"
   },
   {
    "duration": 131,
    "start_time": "2022-04-24T13:35:34.385Z"
   },
   {
    "duration": 318,
    "start_time": "2022-04-24T13:35:34.518Z"
   },
   {
    "duration": 261,
    "start_time": "2022-04-24T13:35:34.837Z"
   },
   {
    "duration": 18,
    "start_time": "2022-04-24T13:35:35.100Z"
   },
   {
    "duration": 794,
    "start_time": "2022-04-24T13:35:35.119Z"
   },
   {
    "duration": 11,
    "start_time": "2022-04-24T13:35:35.915Z"
   },
   {
    "duration": 30,
    "start_time": "2022-04-24T13:35:35.929Z"
   },
   {
    "duration": 19,
    "start_time": "2022-04-24T13:35:35.961Z"
   },
   {
    "duration": 21,
    "start_time": "2022-04-24T13:35:35.981Z"
   },
   {
    "duration": 20,
    "start_time": "2022-04-24T13:35:36.004Z"
   },
   {
    "duration": 229,
    "start_time": "2022-04-24T13:35:36.026Z"
   },
   {
    "duration": 223,
    "start_time": "2022-04-24T13:35:36.257Z"
   },
   {
    "duration": 302,
    "start_time": "2022-04-24T13:35:36.482Z"
   },
   {
    "duration": 412,
    "start_time": "2022-04-24T13:35:36.786Z"
   },
   {
    "duration": 306,
    "start_time": "2022-04-24T13:35:37.200Z"
   },
   {
    "duration": 2,
    "start_time": "2022-04-24T13:35:37.508Z"
   },
   {
    "duration": 309,
    "start_time": "2022-04-24T13:35:37.512Z"
   },
   {
    "duration": 3,
    "start_time": "2022-04-24T13:35:37.822Z"
   },
   {
    "duration": 6,
    "start_time": "2022-04-24T13:35:37.826Z"
   },
   {
    "duration": 18,
    "start_time": "2022-04-24T13:35:37.833Z"
   },
   {
    "duration": 12,
    "start_time": "2022-04-24T13:35:37.855Z"
   },
   {
    "duration": 27,
    "start_time": "2022-04-24T13:35:37.869Z"
   },
   {
    "duration": 5,
    "start_time": "2022-04-24T13:35:37.898Z"
   },
   {
    "duration": 18,
    "start_time": "2022-04-24T13:35:37.905Z"
   },
   {
    "duration": 25,
    "start_time": "2022-04-24T13:35:37.925Z"
   }
  ],
  "kernelspec": {
   "display_name": "Python 3 (ipykernel)",
   "language": "python",
   "name": "python3"
  },
  "language_info": {
   "codemirror_mode": {
    "name": "ipython",
    "version": 3
   },
   "file_extension": ".py",
   "mimetype": "text/x-python",
   "name": "python",
   "nbconvert_exporter": "python",
   "pygments_lexer": "ipython3",
   "version": "3.9.7"
  },
  "toc": {
   "base_numbering": 1,
   "nav_menu": {},
   "number_sections": true,
   "sideBar": true,
   "skip_h1_title": true,
   "title_cell": "Содержание",
   "title_sidebar": "Contents",
   "toc_cell": true,
   "toc_position": {
    "height": "calc(100% - 180px)",
    "left": "10px",
    "top": "150px",
    "width": "229.594px"
   },
   "toc_section_display": true,
   "toc_window_display": false
  }
 },
 "nbformat": 4,
 "nbformat_minor": 4
}
