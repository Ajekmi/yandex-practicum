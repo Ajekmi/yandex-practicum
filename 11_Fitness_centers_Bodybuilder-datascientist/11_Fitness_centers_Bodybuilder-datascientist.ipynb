{
 "cells": [
  {
   "cell_type": "markdown",
   "metadata": {
    "toc": true
   },
   "source": [
    "<h1>Содержание<span class=\"tocSkip\"></span></h1>\n",
    "<div class=\"toc\"><ul class=\"toc-item\"><li><span><a href=\"#Загрузка-и-подготовка-данных\" data-toc-modified-id=\"Загрузка-и-подготовка-данных-1\"><span class=\"toc-item-num\">1&nbsp;&nbsp;</span>Загрузка и подготовка данных</a></span><ul class=\"toc-item\"><li><span><a href=\"#Загрузка-данных\" data-toc-modified-id=\"Загрузка-данных-1.1\"><span class=\"toc-item-num\">1.1&nbsp;&nbsp;</span>Загрузка данных</a></span></li><li><span><a href=\"#Предобработка-данных\" data-toc-modified-id=\"Предобработка-данных-1.2\"><span class=\"toc-item-num\">1.2&nbsp;&nbsp;</span>Предобработка данных</a></span></li><li><span><a href=\"#Вывод\" data-toc-modified-id=\"Вывод-1.3\"><span class=\"toc-item-num\">1.3&nbsp;&nbsp;</span>Вывод</a></span></li></ul></li><li><span><a href=\"#Исследовательский-анализ-данных-(EDA)\" data-toc-modified-id=\"Исследовательский-анализ-данных-(EDA)-2\"><span class=\"toc-item-num\">2&nbsp;&nbsp;</span>Исследовательский анализ данных (EDA)</a></span><ul class=\"toc-item\"><li><span><a href=\"#Выявление-пропусков,-дубликатов,-статистика-по-числовым-столбцам\" data-toc-modified-id=\"Выявление-пропусков,-дубликатов,-статистика-по-числовым-столбцам-2.1\"><span class=\"toc-item-num\">2.1&nbsp;&nbsp;</span>Выявление пропусков, дубликатов, статистика по числовым столбцам</a></span></li><li><span><a href=\"#Средние-значения-признаков-в-двух-группах-—-тех,-кто-ушел-в-отток-и-тех,-кто-остался\" data-toc-modified-id=\"Средние-значения-признаков-в-двух-группах-—-тех,-кто-ушел-в-отток-и-тех,-кто-остался-2.2\"><span class=\"toc-item-num\">2.2&nbsp;&nbsp;</span>Средние значения признаков в двух группах — тех, кто ушел в отток и тех, кто остался</a></span></li><li><span><a href=\"#Постройте-столбчатые-гистограммы-и-распределения-признаков-для-тех,-кто-ушёл-(отток)-и-тех,-кто-остался-(не-попали-в-отток);\" data-toc-modified-id=\"Постройте-столбчатые-гистограммы-и-распределения-признаков-для-тех,-кто-ушёл-(отток)-и-тех,-кто-остался-(не-попали-в-отток);-2.3\"><span class=\"toc-item-num\">2.3&nbsp;&nbsp;</span>Постройте столбчатые гистограммы и распределения признаков для тех, кто ушёл (отток) и тех, кто остался (не попали в отток);</a></span></li><li><span><a href=\"#Построение-матрицы-корреляций\" data-toc-modified-id=\"Построение-матрицы-корреляций-2.4\"><span class=\"toc-item-num\">2.4&nbsp;&nbsp;</span>Построение матрицы корреляций</a></span></li><li><span><a href=\"#Вывод\" data-toc-modified-id=\"Вывод-2.5\"><span class=\"toc-item-num\">2.5&nbsp;&nbsp;</span>Вывод</a></span></li></ul></li><li><span><a href=\"#Построение-модели-прогнозирования-оттока-клиентов\" data-toc-modified-id=\"Построение-модели-прогнозирования-оттока-клиентов-3\"><span class=\"toc-item-num\">3&nbsp;&nbsp;</span>Построение модели прогнозирования оттока клиентов</a></span></li><li><span><a href=\"#Кластеризация-клиентов\" data-toc-modified-id=\"Кластеризация-клиентов-4\"><span class=\"toc-item-num\">4&nbsp;&nbsp;</span>Кластеризация клиентов</a></span><ul class=\"toc-item\"><li><span><a href=\"#Матрица-расстояний-и-дендрограмма\" data-toc-modified-id=\"Матрица-расстояний-и-дендрограмма-4.1\"><span class=\"toc-item-num\">4.1&nbsp;&nbsp;</span>Матрица расстояний и дендрограмма</a></span></li><li><span><a href=\"#Применение-алгоритма-K-Means.-Прогноз-кластеров-клиентов\" data-toc-modified-id=\"Применение-алгоритма-K-Means.-Прогноз-кластеров-клиентов-4.2\"><span class=\"toc-item-num\">4.2&nbsp;&nbsp;</span>Применение алгоритма K-Means. Прогноз кластеров клиентов</a></span></li><li><span><a href=\"#Распределения-признаков-для-кластеров\" data-toc-modified-id=\"Распределения-признаков-для-кластеров-4.3\"><span class=\"toc-item-num\">4.3&nbsp;&nbsp;</span>Распределения признаков для кластеров</a></span></li><li><span><a href=\"#Вывод\" data-toc-modified-id=\"Вывод-4.4\"><span class=\"toc-item-num\">4.4&nbsp;&nbsp;</span>Вывод</a></span></li></ul></li><li><span><a href=\"#Выводы-и-базовые-рекомендации-по-работе-с-клиентами\" data-toc-modified-id=\"Выводы-и-базовые-рекомендации-по-работе-с-клиентами-5\"><span class=\"toc-item-num\">5&nbsp;&nbsp;</span>Выводы и базовые рекомендации по работе с клиентами</a></span></li></ul></div>"
   ]
  },
  {
   "cell_type": "markdown",
   "metadata": {},
   "source": [
    "# Проект для сети фитнес-центров «Культурист-датасаентист» \n",
    "\n",
    "# Описание проекта\n",
    " \n",
    " Сеть фитнес-центров «Культурист-датасаентист» разрабатывает стратегию взаимодействия с клиентами на основе аналитических данных. Распространённая проблема фитнес-клубов и других сервисов — отток клиентов. Чтобы бороться с оттоком, отдел по работе с клиентами «Культуриста-датасаентиста» перевёл в электронный вид множество клиентских анкет. \n",
    " \n",
    "# Задачи\n",
    "\n",
    " Ваша задача — провести анализ и подготовить план действий по удержанию клиентов.\n",
    "* научиться прогнозировать вероятность оттока (на уровне следующего месяца) для каждого клиента;\n",
    "* сформировать типичные портреты клиентов: выделить несколько наиболее ярких групп и охарактеризовать их основные свойства;\n",
    "* проанализировать основные признаки, наиболее сильно влияющие на отток;\n",
    "\n",
    "Сформулировать основные выводы и разработать рекомендации по повышению качества работы с клиентами:\n",
    "1) выделить целевые группы клиентов;\n",
    "2) предложить меры по снижению оттока;\n",
    "3) определить другие особенности взаимодействия с клиентами.\n",
    "\n",
    "\n",
    "\n",
    "# Описание данных\n",
    "\n",
    "Набор данных включает следующие поля:\n",
    "\n",
    "Данные клиента за предыдущий до проверки факта оттока месяц:\n",
    "* `gender` — пол;\n",
    "* `Near_Location` — проживание или работа в районе, где находится фитнес-центр;\n",
    "* `Partner` — сотрудник компании-партнёра клуба (сотрудничество с компаниями, чьи сотрудники могут получать скидки на абонемент — в таком случае фитнес-центр хранит информацию о работодателе клиента);\n",
    "*  `Promo_friends` — факт первоначальной записи в рамках акции «приведи друга» (использовал промо-код от знакомого при оплате первого абонемента);\n",
    "* `Phone` — наличие контактного телефона;\n",
    "* `Age` — возраст;\n",
    "* `Lifetime` — время с момента первого обращения в фитнес-центр (в месяцах).\n",
    "\n",
    "Информация на основе журнала посещений, покупок и информация о текущем статусе абонемента клиента:\n",
    "* `Contract_period` — длительность текущего действующего абонемента (месяц, 6 месяцев, год);\n",
    "* `Month_to_end_contract` — срок до окончания текущего действующего абонемента (в месяцах);\n",
    "* `Group_visits` — факт посещения групповых занятий;\n",
    "* `Avg_class_frequency_total` — средняя частота посещений в неделю за все время с начала действия абонемента;\n",
    "* `Avg_class_frequency_current_month` — средняя частота посещений в неделю за предыдущий месяц;\n",
    "* `Avg_additional_charges_total` — суммарная выручка от других услуг фитнес-центра: кафе, спорттовары, косметический и массажный салон.\n",
    "\n",
    "\n",
    "* `Churn` — факт оттока в текущем месяце."
   ]
  },
  {
   "cell_type": "markdown",
   "metadata": {},
   "source": [
    "##  Загрузка и подготовка данных"
   ]
  },
  {
   "cell_type": "markdown",
   "metadata": {},
   "source": [
    "### Загрузка данных"
   ]
  },
  {
   "cell_type": "code",
   "execution_count": 1,
   "metadata": {},
   "outputs": [],
   "source": [
    "# импортируем нужные библиотеки\n",
    "import pandas as pd\n",
    "import seaborn as sns\n",
    "import matplotlib.pyplot as plt\n",
    "\n",
    "from sklearn.model_selection import train_test_split\n",
    "from sklearn.linear_model import LogisticRegression\n",
    "from sklearn.ensemble import RandomForestRegressor\n",
    "from sklearn.metrics import accuracy_score, precision_score, recall_score, f1_score\n",
    "from sklearn.ensemble import RandomForestClassifier\n",
    "\n",
    "from sklearn.preprocessing import StandardScaler\n",
    "from sklearn.cluster import KMeans\n",
    "from itertools import combinations\n",
    "from scipy.cluster.hierarchy import dendrogram, linkage "
   ]
  },
  {
   "cell_type": "code",
   "execution_count": 2,
   "metadata": {},
   "outputs": [],
   "source": [
    "# загружаем данные в переменные\n",
    "df = pd.read_csv('/datasets/gym_churn.csv')"
   ]
  },
  {
   "cell_type": "code",
   "execution_count": 3,
   "metadata": {
    "scrolled": false
   },
   "outputs": [
    {
     "data": {
      "text/html": [
       "<div>\n",
       "<style scoped>\n",
       "    .dataframe tbody tr th:only-of-type {\n",
       "        vertical-align: middle;\n",
       "    }\n",
       "\n",
       "    .dataframe tbody tr th {\n",
       "        vertical-align: top;\n",
       "    }\n",
       "\n",
       "    .dataframe thead th {\n",
       "        text-align: right;\n",
       "    }\n",
       "</style>\n",
       "<table border=\"1\" class=\"dataframe\">\n",
       "  <thead>\n",
       "    <tr style=\"text-align: right;\">\n",
       "      <th></th>\n",
       "      <th>gender</th>\n",
       "      <th>Near_Location</th>\n",
       "      <th>Partner</th>\n",
       "      <th>Promo_friends</th>\n",
       "      <th>Phone</th>\n",
       "      <th>Contract_period</th>\n",
       "      <th>Group_visits</th>\n",
       "      <th>Age</th>\n",
       "      <th>Avg_additional_charges_total</th>\n",
       "      <th>Month_to_end_contract</th>\n",
       "      <th>Lifetime</th>\n",
       "      <th>Avg_class_frequency_total</th>\n",
       "      <th>Avg_class_frequency_current_month</th>\n",
       "      <th>Churn</th>\n",
       "    </tr>\n",
       "  </thead>\n",
       "  <tbody>\n",
       "    <tr>\n",
       "      <th>0</th>\n",
       "      <td>1</td>\n",
       "      <td>1</td>\n",
       "      <td>1</td>\n",
       "      <td>1</td>\n",
       "      <td>0</td>\n",
       "      <td>6</td>\n",
       "      <td>1</td>\n",
       "      <td>29</td>\n",
       "      <td>14.227470</td>\n",
       "      <td>5.0</td>\n",
       "      <td>3</td>\n",
       "      <td>0.020398</td>\n",
       "      <td>0.000000</td>\n",
       "      <td>0</td>\n",
       "    </tr>\n",
       "    <tr>\n",
       "      <th>1</th>\n",
       "      <td>0</td>\n",
       "      <td>1</td>\n",
       "      <td>0</td>\n",
       "      <td>0</td>\n",
       "      <td>1</td>\n",
       "      <td>12</td>\n",
       "      <td>1</td>\n",
       "      <td>31</td>\n",
       "      <td>113.202938</td>\n",
       "      <td>12.0</td>\n",
       "      <td>7</td>\n",
       "      <td>1.922936</td>\n",
       "      <td>1.910244</td>\n",
       "      <td>0</td>\n",
       "    </tr>\n",
       "    <tr>\n",
       "      <th>2</th>\n",
       "      <td>0</td>\n",
       "      <td>1</td>\n",
       "      <td>1</td>\n",
       "      <td>0</td>\n",
       "      <td>1</td>\n",
       "      <td>1</td>\n",
       "      <td>0</td>\n",
       "      <td>28</td>\n",
       "      <td>129.448479</td>\n",
       "      <td>1.0</td>\n",
       "      <td>2</td>\n",
       "      <td>1.859098</td>\n",
       "      <td>1.736502</td>\n",
       "      <td>0</td>\n",
       "    </tr>\n",
       "    <tr>\n",
       "      <th>3</th>\n",
       "      <td>0</td>\n",
       "      <td>1</td>\n",
       "      <td>1</td>\n",
       "      <td>1</td>\n",
       "      <td>1</td>\n",
       "      <td>12</td>\n",
       "      <td>1</td>\n",
       "      <td>33</td>\n",
       "      <td>62.669863</td>\n",
       "      <td>12.0</td>\n",
       "      <td>2</td>\n",
       "      <td>3.205633</td>\n",
       "      <td>3.357215</td>\n",
       "      <td>0</td>\n",
       "    </tr>\n",
       "    <tr>\n",
       "      <th>4</th>\n",
       "      <td>1</td>\n",
       "      <td>1</td>\n",
       "      <td>1</td>\n",
       "      <td>1</td>\n",
       "      <td>1</td>\n",
       "      <td>1</td>\n",
       "      <td>0</td>\n",
       "      <td>26</td>\n",
       "      <td>198.362265</td>\n",
       "      <td>1.0</td>\n",
       "      <td>3</td>\n",
       "      <td>1.113884</td>\n",
       "      <td>1.120078</td>\n",
       "      <td>0</td>\n",
       "    </tr>\n",
       "    <tr>\n",
       "      <th>...</th>\n",
       "      <td>...</td>\n",
       "      <td>...</td>\n",
       "      <td>...</td>\n",
       "      <td>...</td>\n",
       "      <td>...</td>\n",
       "      <td>...</td>\n",
       "      <td>...</td>\n",
       "      <td>...</td>\n",
       "      <td>...</td>\n",
       "      <td>...</td>\n",
       "      <td>...</td>\n",
       "      <td>...</td>\n",
       "      <td>...</td>\n",
       "      <td>...</td>\n",
       "    </tr>\n",
       "    <tr>\n",
       "      <th>3995</th>\n",
       "      <td>1</td>\n",
       "      <td>1</td>\n",
       "      <td>1</td>\n",
       "      <td>0</td>\n",
       "      <td>1</td>\n",
       "      <td>12</td>\n",
       "      <td>0</td>\n",
       "      <td>33</td>\n",
       "      <td>2.406023</td>\n",
       "      <td>12.0</td>\n",
       "      <td>8</td>\n",
       "      <td>2.284497</td>\n",
       "      <td>2.349070</td>\n",
       "      <td>0</td>\n",
       "    </tr>\n",
       "    <tr>\n",
       "      <th>3996</th>\n",
       "      <td>0</td>\n",
       "      <td>1</td>\n",
       "      <td>0</td>\n",
       "      <td>0</td>\n",
       "      <td>1</td>\n",
       "      <td>1</td>\n",
       "      <td>1</td>\n",
       "      <td>29</td>\n",
       "      <td>68.883764</td>\n",
       "      <td>1.0</td>\n",
       "      <td>1</td>\n",
       "      <td>1.277168</td>\n",
       "      <td>0.292859</td>\n",
       "      <td>1</td>\n",
       "    </tr>\n",
       "    <tr>\n",
       "      <th>3997</th>\n",
       "      <td>1</td>\n",
       "      <td>1</td>\n",
       "      <td>1</td>\n",
       "      <td>1</td>\n",
       "      <td>1</td>\n",
       "      <td>12</td>\n",
       "      <td>0</td>\n",
       "      <td>28</td>\n",
       "      <td>78.250542</td>\n",
       "      <td>11.0</td>\n",
       "      <td>2</td>\n",
       "      <td>2.786146</td>\n",
       "      <td>2.831439</td>\n",
       "      <td>0</td>\n",
       "    </tr>\n",
       "    <tr>\n",
       "      <th>3998</th>\n",
       "      <td>0</td>\n",
       "      <td>1</td>\n",
       "      <td>1</td>\n",
       "      <td>1</td>\n",
       "      <td>1</td>\n",
       "      <td>6</td>\n",
       "      <td>0</td>\n",
       "      <td>32</td>\n",
       "      <td>61.912657</td>\n",
       "      <td>5.0</td>\n",
       "      <td>3</td>\n",
       "      <td>1.630108</td>\n",
       "      <td>1.596237</td>\n",
       "      <td>0</td>\n",
       "    </tr>\n",
       "    <tr>\n",
       "      <th>3999</th>\n",
       "      <td>1</td>\n",
       "      <td>0</td>\n",
       "      <td>1</td>\n",
       "      <td>0</td>\n",
       "      <td>0</td>\n",
       "      <td>12</td>\n",
       "      <td>1</td>\n",
       "      <td>30</td>\n",
       "      <td>178.861814</td>\n",
       "      <td>12.0</td>\n",
       "      <td>1</td>\n",
       "      <td>1.101832</td>\n",
       "      <td>1.035270</td>\n",
       "      <td>0</td>\n",
       "    </tr>\n",
       "  </tbody>\n",
       "</table>\n",
       "<p>4000 rows × 14 columns</p>\n",
       "</div>"
      ],
      "text/plain": [
       "      gender  Near_Location  Partner  Promo_friends  Phone  Contract_period  \\\n",
       "0          1              1        1              1      0                6   \n",
       "1          0              1        0              0      1               12   \n",
       "2          0              1        1              0      1                1   \n",
       "3          0              1        1              1      1               12   \n",
       "4          1              1        1              1      1                1   \n",
       "...      ...            ...      ...            ...    ...              ...   \n",
       "3995       1              1        1              0      1               12   \n",
       "3996       0              1        0              0      1                1   \n",
       "3997       1              1        1              1      1               12   \n",
       "3998       0              1        1              1      1                6   \n",
       "3999       1              0        1              0      0               12   \n",
       "\n",
       "      Group_visits  Age  Avg_additional_charges_total  Month_to_end_contract  \\\n",
       "0                1   29                     14.227470                    5.0   \n",
       "1                1   31                    113.202938                   12.0   \n",
       "2                0   28                    129.448479                    1.0   \n",
       "3                1   33                     62.669863                   12.0   \n",
       "4                0   26                    198.362265                    1.0   \n",
       "...            ...  ...                           ...                    ...   \n",
       "3995             0   33                      2.406023                   12.0   \n",
       "3996             1   29                     68.883764                    1.0   \n",
       "3997             0   28                     78.250542                   11.0   \n",
       "3998             0   32                     61.912657                    5.0   \n",
       "3999             1   30                    178.861814                   12.0   \n",
       "\n",
       "      Lifetime  Avg_class_frequency_total  Avg_class_frequency_current_month  \\\n",
       "0            3                   0.020398                           0.000000   \n",
       "1            7                   1.922936                           1.910244   \n",
       "2            2                   1.859098                           1.736502   \n",
       "3            2                   3.205633                           3.357215   \n",
       "4            3                   1.113884                           1.120078   \n",
       "...        ...                        ...                                ...   \n",
       "3995         8                   2.284497                           2.349070   \n",
       "3996         1                   1.277168                           0.292859   \n",
       "3997         2                   2.786146                           2.831439   \n",
       "3998         3                   1.630108                           1.596237   \n",
       "3999         1                   1.101832                           1.035270   \n",
       "\n",
       "      Churn  \n",
       "0         0  \n",
       "1         0  \n",
       "2         0  \n",
       "3         0  \n",
       "4         0  \n",
       "...     ...  \n",
       "3995      0  \n",
       "3996      1  \n",
       "3997      0  \n",
       "3998      0  \n",
       "3999      0  \n",
       "\n",
       "[4000 rows x 14 columns]"
      ]
     },
     "execution_count": 3,
     "metadata": {},
     "output_type": "execute_result"
    }
   ],
   "source": [
    "df"
   ]
  },
  {
   "cell_type": "markdown",
   "metadata": {},
   "source": [
    "### Предобработка данных"
   ]
  },
  {
   "cell_type": "code",
   "execution_count": 4,
   "metadata": {
    "scrolled": true
   },
   "outputs": [
    {
     "name": "stdout",
     "output_type": "stream",
     "text": [
      "Index(['gender', 'near_location', 'partner', 'promo_friends', 'phone',\n",
      "       'contract_period', 'group_visits', 'age',\n",
      "       'avg_additional_charges_total', 'month_to_end_contract', 'lifetime',\n",
      "       'avg_class_frequency_total', 'avg_class_frequency_current_month',\n",
      "       'churn'],\n",
      "      dtype='object')\n"
     ]
    }
   ],
   "source": [
    "# приведение столбцов к нижнему регистру\n",
    "df.columns = [x.lower() for x in df.columns]\n",
    "print(df.columns)"
   ]
  },
  {
   "cell_type": "markdown",
   "metadata": {},
   "source": [
    "### Вывод\n",
    "\n",
    "Данные были загружены успешно.\n",
    "\n",
    "Столбцы для удобства были переведены в нижний регистр."
   ]
  },
  {
   "cell_type": "markdown",
   "metadata": {},
   "source": [
    "## Исследовательский анализ данных (EDA)"
   ]
  },
  {
   "cell_type": "markdown",
   "metadata": {},
   "source": [
    "### Выявление пропусков, дубликатов, статистика по числовым столбцам"
   ]
  },
  {
   "cell_type": "code",
   "execution_count": 5,
   "metadata": {},
   "outputs": [],
   "source": [
    "# функция для вывода информации о данных\n",
    "def table_info (df):\n",
    "    print('___________ Датафрейм ____________')\n",
    "    display(df.head())\n",
    "    display(df.describe())\n",
    "    print('')\n",
    "    print('___________Информация о датафрейме___________')\n",
    "    print('')\n",
    "    print(df.info())\n",
    "    print('')\n",
    "    print('Количество дубликатов: ' + str(df.duplicated().sum()))\n",
    "    print('')"
   ]
  },
  {
   "cell_type": "code",
   "execution_count": 6,
   "metadata": {
    "scrolled": false
   },
   "outputs": [
    {
     "name": "stdout",
     "output_type": "stream",
     "text": [
      "___________ Датафрейм ____________\n"
     ]
    },
    {
     "data": {
      "text/html": [
       "<div>\n",
       "<style scoped>\n",
       "    .dataframe tbody tr th:only-of-type {\n",
       "        vertical-align: middle;\n",
       "    }\n",
       "\n",
       "    .dataframe tbody tr th {\n",
       "        vertical-align: top;\n",
       "    }\n",
       "\n",
       "    .dataframe thead th {\n",
       "        text-align: right;\n",
       "    }\n",
       "</style>\n",
       "<table border=\"1\" class=\"dataframe\">\n",
       "  <thead>\n",
       "    <tr style=\"text-align: right;\">\n",
       "      <th></th>\n",
       "      <th>gender</th>\n",
       "      <th>near_location</th>\n",
       "      <th>partner</th>\n",
       "      <th>promo_friends</th>\n",
       "      <th>phone</th>\n",
       "      <th>contract_period</th>\n",
       "      <th>group_visits</th>\n",
       "      <th>age</th>\n",
       "      <th>avg_additional_charges_total</th>\n",
       "      <th>month_to_end_contract</th>\n",
       "      <th>lifetime</th>\n",
       "      <th>avg_class_frequency_total</th>\n",
       "      <th>avg_class_frequency_current_month</th>\n",
       "      <th>churn</th>\n",
       "    </tr>\n",
       "  </thead>\n",
       "  <tbody>\n",
       "    <tr>\n",
       "      <th>0</th>\n",
       "      <td>1</td>\n",
       "      <td>1</td>\n",
       "      <td>1</td>\n",
       "      <td>1</td>\n",
       "      <td>0</td>\n",
       "      <td>6</td>\n",
       "      <td>1</td>\n",
       "      <td>29</td>\n",
       "      <td>14.227470</td>\n",
       "      <td>5.0</td>\n",
       "      <td>3</td>\n",
       "      <td>0.020398</td>\n",
       "      <td>0.000000</td>\n",
       "      <td>0</td>\n",
       "    </tr>\n",
       "    <tr>\n",
       "      <th>1</th>\n",
       "      <td>0</td>\n",
       "      <td>1</td>\n",
       "      <td>0</td>\n",
       "      <td>0</td>\n",
       "      <td>1</td>\n",
       "      <td>12</td>\n",
       "      <td>1</td>\n",
       "      <td>31</td>\n",
       "      <td>113.202938</td>\n",
       "      <td>12.0</td>\n",
       "      <td>7</td>\n",
       "      <td>1.922936</td>\n",
       "      <td>1.910244</td>\n",
       "      <td>0</td>\n",
       "    </tr>\n",
       "    <tr>\n",
       "      <th>2</th>\n",
       "      <td>0</td>\n",
       "      <td>1</td>\n",
       "      <td>1</td>\n",
       "      <td>0</td>\n",
       "      <td>1</td>\n",
       "      <td>1</td>\n",
       "      <td>0</td>\n",
       "      <td>28</td>\n",
       "      <td>129.448479</td>\n",
       "      <td>1.0</td>\n",
       "      <td>2</td>\n",
       "      <td>1.859098</td>\n",
       "      <td>1.736502</td>\n",
       "      <td>0</td>\n",
       "    </tr>\n",
       "    <tr>\n",
       "      <th>3</th>\n",
       "      <td>0</td>\n",
       "      <td>1</td>\n",
       "      <td>1</td>\n",
       "      <td>1</td>\n",
       "      <td>1</td>\n",
       "      <td>12</td>\n",
       "      <td>1</td>\n",
       "      <td>33</td>\n",
       "      <td>62.669863</td>\n",
       "      <td>12.0</td>\n",
       "      <td>2</td>\n",
       "      <td>3.205633</td>\n",
       "      <td>3.357215</td>\n",
       "      <td>0</td>\n",
       "    </tr>\n",
       "    <tr>\n",
       "      <th>4</th>\n",
       "      <td>1</td>\n",
       "      <td>1</td>\n",
       "      <td>1</td>\n",
       "      <td>1</td>\n",
       "      <td>1</td>\n",
       "      <td>1</td>\n",
       "      <td>0</td>\n",
       "      <td>26</td>\n",
       "      <td>198.362265</td>\n",
       "      <td>1.0</td>\n",
       "      <td>3</td>\n",
       "      <td>1.113884</td>\n",
       "      <td>1.120078</td>\n",
       "      <td>0</td>\n",
       "    </tr>\n",
       "  </tbody>\n",
       "</table>\n",
       "</div>"
      ],
      "text/plain": [
       "   gender  near_location  partner  promo_friends  phone  contract_period  \\\n",
       "0       1              1        1              1      0                6   \n",
       "1       0              1        0              0      1               12   \n",
       "2       0              1        1              0      1                1   \n",
       "3       0              1        1              1      1               12   \n",
       "4       1              1        1              1      1                1   \n",
       "\n",
       "   group_visits  age  avg_additional_charges_total  month_to_end_contract  \\\n",
       "0             1   29                     14.227470                    5.0   \n",
       "1             1   31                    113.202938                   12.0   \n",
       "2             0   28                    129.448479                    1.0   \n",
       "3             1   33                     62.669863                   12.0   \n",
       "4             0   26                    198.362265                    1.0   \n",
       "\n",
       "   lifetime  avg_class_frequency_total  avg_class_frequency_current_month  \\\n",
       "0         3                   0.020398                           0.000000   \n",
       "1         7                   1.922936                           1.910244   \n",
       "2         2                   1.859098                           1.736502   \n",
       "3         2                   3.205633                           3.357215   \n",
       "4         3                   1.113884                           1.120078   \n",
       "\n",
       "   churn  \n",
       "0      0  \n",
       "1      0  \n",
       "2      0  \n",
       "3      0  \n",
       "4      0  "
      ]
     },
     "metadata": {},
     "output_type": "display_data"
    },
    {
     "data": {
      "text/html": [
       "<div>\n",
       "<style scoped>\n",
       "    .dataframe tbody tr th:only-of-type {\n",
       "        vertical-align: middle;\n",
       "    }\n",
       "\n",
       "    .dataframe tbody tr th {\n",
       "        vertical-align: top;\n",
       "    }\n",
       "\n",
       "    .dataframe thead th {\n",
       "        text-align: right;\n",
       "    }\n",
       "</style>\n",
       "<table border=\"1\" class=\"dataframe\">\n",
       "  <thead>\n",
       "    <tr style=\"text-align: right;\">\n",
       "      <th></th>\n",
       "      <th>gender</th>\n",
       "      <th>near_location</th>\n",
       "      <th>partner</th>\n",
       "      <th>promo_friends</th>\n",
       "      <th>phone</th>\n",
       "      <th>contract_period</th>\n",
       "      <th>group_visits</th>\n",
       "      <th>age</th>\n",
       "      <th>avg_additional_charges_total</th>\n",
       "      <th>month_to_end_contract</th>\n",
       "      <th>lifetime</th>\n",
       "      <th>avg_class_frequency_total</th>\n",
       "      <th>avg_class_frequency_current_month</th>\n",
       "      <th>churn</th>\n",
       "    </tr>\n",
       "  </thead>\n",
       "  <tbody>\n",
       "    <tr>\n",
       "      <th>count</th>\n",
       "      <td>4000.000000</td>\n",
       "      <td>4000.000000</td>\n",
       "      <td>4000.000000</td>\n",
       "      <td>4000.000000</td>\n",
       "      <td>4000.000000</td>\n",
       "      <td>4000.000000</td>\n",
       "      <td>4000.000000</td>\n",
       "      <td>4000.000000</td>\n",
       "      <td>4000.000000</td>\n",
       "      <td>4000.000000</td>\n",
       "      <td>4000.000000</td>\n",
       "      <td>4000.000000</td>\n",
       "      <td>4000.000000</td>\n",
       "      <td>4000.000000</td>\n",
       "    </tr>\n",
       "    <tr>\n",
       "      <th>mean</th>\n",
       "      <td>0.510250</td>\n",
       "      <td>0.845250</td>\n",
       "      <td>0.486750</td>\n",
       "      <td>0.308500</td>\n",
       "      <td>0.903500</td>\n",
       "      <td>4.681250</td>\n",
       "      <td>0.412250</td>\n",
       "      <td>29.184250</td>\n",
       "      <td>146.943728</td>\n",
       "      <td>4.322750</td>\n",
       "      <td>3.724750</td>\n",
       "      <td>1.879020</td>\n",
       "      <td>1.767052</td>\n",
       "      <td>0.265250</td>\n",
       "    </tr>\n",
       "    <tr>\n",
       "      <th>std</th>\n",
       "      <td>0.499957</td>\n",
       "      <td>0.361711</td>\n",
       "      <td>0.499887</td>\n",
       "      <td>0.461932</td>\n",
       "      <td>0.295313</td>\n",
       "      <td>4.549706</td>\n",
       "      <td>0.492301</td>\n",
       "      <td>3.258367</td>\n",
       "      <td>96.355602</td>\n",
       "      <td>4.191297</td>\n",
       "      <td>3.749267</td>\n",
       "      <td>0.972245</td>\n",
       "      <td>1.052906</td>\n",
       "      <td>0.441521</td>\n",
       "    </tr>\n",
       "    <tr>\n",
       "      <th>min</th>\n",
       "      <td>0.000000</td>\n",
       "      <td>0.000000</td>\n",
       "      <td>0.000000</td>\n",
       "      <td>0.000000</td>\n",
       "      <td>0.000000</td>\n",
       "      <td>1.000000</td>\n",
       "      <td>0.000000</td>\n",
       "      <td>18.000000</td>\n",
       "      <td>0.148205</td>\n",
       "      <td>1.000000</td>\n",
       "      <td>0.000000</td>\n",
       "      <td>0.000000</td>\n",
       "      <td>0.000000</td>\n",
       "      <td>0.000000</td>\n",
       "    </tr>\n",
       "    <tr>\n",
       "      <th>25%</th>\n",
       "      <td>0.000000</td>\n",
       "      <td>1.000000</td>\n",
       "      <td>0.000000</td>\n",
       "      <td>0.000000</td>\n",
       "      <td>1.000000</td>\n",
       "      <td>1.000000</td>\n",
       "      <td>0.000000</td>\n",
       "      <td>27.000000</td>\n",
       "      <td>68.868830</td>\n",
       "      <td>1.000000</td>\n",
       "      <td>1.000000</td>\n",
       "      <td>1.180875</td>\n",
       "      <td>0.963003</td>\n",
       "      <td>0.000000</td>\n",
       "    </tr>\n",
       "    <tr>\n",
       "      <th>50%</th>\n",
       "      <td>1.000000</td>\n",
       "      <td>1.000000</td>\n",
       "      <td>0.000000</td>\n",
       "      <td>0.000000</td>\n",
       "      <td>1.000000</td>\n",
       "      <td>1.000000</td>\n",
       "      <td>0.000000</td>\n",
       "      <td>29.000000</td>\n",
       "      <td>136.220159</td>\n",
       "      <td>1.000000</td>\n",
       "      <td>3.000000</td>\n",
       "      <td>1.832768</td>\n",
       "      <td>1.719574</td>\n",
       "      <td>0.000000</td>\n",
       "    </tr>\n",
       "    <tr>\n",
       "      <th>75%</th>\n",
       "      <td>1.000000</td>\n",
       "      <td>1.000000</td>\n",
       "      <td>1.000000</td>\n",
       "      <td>1.000000</td>\n",
       "      <td>1.000000</td>\n",
       "      <td>6.000000</td>\n",
       "      <td>1.000000</td>\n",
       "      <td>31.000000</td>\n",
       "      <td>210.949625</td>\n",
       "      <td>6.000000</td>\n",
       "      <td>5.000000</td>\n",
       "      <td>2.536078</td>\n",
       "      <td>2.510336</td>\n",
       "      <td>1.000000</td>\n",
       "    </tr>\n",
       "    <tr>\n",
       "      <th>max</th>\n",
       "      <td>1.000000</td>\n",
       "      <td>1.000000</td>\n",
       "      <td>1.000000</td>\n",
       "      <td>1.000000</td>\n",
       "      <td>1.000000</td>\n",
       "      <td>12.000000</td>\n",
       "      <td>1.000000</td>\n",
       "      <td>41.000000</td>\n",
       "      <td>552.590740</td>\n",
       "      <td>12.000000</td>\n",
       "      <td>31.000000</td>\n",
       "      <td>6.023668</td>\n",
       "      <td>6.146783</td>\n",
       "      <td>1.000000</td>\n",
       "    </tr>\n",
       "  </tbody>\n",
       "</table>\n",
       "</div>"
      ],
      "text/plain": [
       "            gender  near_location      partner  promo_friends        phone  \\\n",
       "count  4000.000000    4000.000000  4000.000000    4000.000000  4000.000000   \n",
       "mean      0.510250       0.845250     0.486750       0.308500     0.903500   \n",
       "std       0.499957       0.361711     0.499887       0.461932     0.295313   \n",
       "min       0.000000       0.000000     0.000000       0.000000     0.000000   \n",
       "25%       0.000000       1.000000     0.000000       0.000000     1.000000   \n",
       "50%       1.000000       1.000000     0.000000       0.000000     1.000000   \n",
       "75%       1.000000       1.000000     1.000000       1.000000     1.000000   \n",
       "max       1.000000       1.000000     1.000000       1.000000     1.000000   \n",
       "\n",
       "       contract_period  group_visits          age  \\\n",
       "count      4000.000000   4000.000000  4000.000000   \n",
       "mean          4.681250      0.412250    29.184250   \n",
       "std           4.549706      0.492301     3.258367   \n",
       "min           1.000000      0.000000    18.000000   \n",
       "25%           1.000000      0.000000    27.000000   \n",
       "50%           1.000000      0.000000    29.000000   \n",
       "75%           6.000000      1.000000    31.000000   \n",
       "max          12.000000      1.000000    41.000000   \n",
       "\n",
       "       avg_additional_charges_total  month_to_end_contract     lifetime  \\\n",
       "count                   4000.000000            4000.000000  4000.000000   \n",
       "mean                     146.943728               4.322750     3.724750   \n",
       "std                       96.355602               4.191297     3.749267   \n",
       "min                        0.148205               1.000000     0.000000   \n",
       "25%                       68.868830               1.000000     1.000000   \n",
       "50%                      136.220159               1.000000     3.000000   \n",
       "75%                      210.949625               6.000000     5.000000   \n",
       "max                      552.590740              12.000000    31.000000   \n",
       "\n",
       "       avg_class_frequency_total  avg_class_frequency_current_month  \\\n",
       "count                4000.000000                        4000.000000   \n",
       "mean                    1.879020                           1.767052   \n",
       "std                     0.972245                           1.052906   \n",
       "min                     0.000000                           0.000000   \n",
       "25%                     1.180875                           0.963003   \n",
       "50%                     1.832768                           1.719574   \n",
       "75%                     2.536078                           2.510336   \n",
       "max                     6.023668                           6.146783   \n",
       "\n",
       "             churn  \n",
       "count  4000.000000  \n",
       "mean      0.265250  \n",
       "std       0.441521  \n",
       "min       0.000000  \n",
       "25%       0.000000  \n",
       "50%       0.000000  \n",
       "75%       1.000000  \n",
       "max       1.000000  "
      ]
     },
     "metadata": {},
     "output_type": "display_data"
    },
    {
     "name": "stdout",
     "output_type": "stream",
     "text": [
      "\n",
      "___________Информация о датафрейме___________\n",
      "\n",
      "<class 'pandas.core.frame.DataFrame'>\n",
      "RangeIndex: 4000 entries, 0 to 3999\n",
      "Data columns (total 14 columns):\n",
      " #   Column                             Non-Null Count  Dtype  \n",
      "---  ------                             --------------  -----  \n",
      " 0   gender                             4000 non-null   int64  \n",
      " 1   near_location                      4000 non-null   int64  \n",
      " 2   partner                            4000 non-null   int64  \n",
      " 3   promo_friends                      4000 non-null   int64  \n",
      " 4   phone                              4000 non-null   int64  \n",
      " 5   contract_period                    4000 non-null   int64  \n",
      " 6   group_visits                       4000 non-null   int64  \n",
      " 7   age                                4000 non-null   int64  \n",
      " 8   avg_additional_charges_total       4000 non-null   float64\n",
      " 9   month_to_end_contract              4000 non-null   float64\n",
      " 10  lifetime                           4000 non-null   int64  \n",
      " 11  avg_class_frequency_total          4000 non-null   float64\n",
      " 12  avg_class_frequency_current_month  4000 non-null   float64\n",
      " 13  churn                              4000 non-null   int64  \n",
      "dtypes: float64(4), int64(10)\n",
      "memory usage: 437.6 KB\n",
      "None\n",
      "\n",
      "Количество дубликатов: 0\n",
      "\n"
     ]
    }
   ],
   "source": [
    "table_info(df)"
   ]
  },
  {
   "cell_type": "markdown",
   "metadata": {},
   "source": [
    "По описанию данных можно скзать что:\n",
    "- разделение по полу практически поровну\n",
    "- большинство клиентов живут или работают рядом с фитнес-центром\n",
    "- около половины клиентов сотрудники компании-партнёра клуба\n",
    "- около 30% использовали промо-код от знакомого при оплате первого абонемента\n",
    "- около 90% оставляют телефоны\n",
    "- более 50% приобрели абонементы на 1 месяц, в среднем период абонемента 4,68.\n",
    "- около 40% ходят на групповые занятия\n",
    "- средний возраст 29 лет\n",
    "- средняя сумма, оставляемая центру за доп услуги 146\n",
    "- средний срок до окончания текущего действующего абонемента 4,3 в месяцев\n",
    "- среднее время с момента первого обращения в фитнес-центр 3,7 месяцев\n",
    "- средняя частота посещений в неделю за все время с начала действия абонемента 1.88\n",
    "- средняя частота посещений в неделю за предыдущий месяц 1.76\n",
    "- средний отток 26%"
   ]
  },
  {
   "cell_type": "markdown",
   "metadata": {},
   "source": [
    "Пропусков и дубликатов в данных не обнаружено."
   ]
  },
  {
   "cell_type": "code",
   "execution_count": 7,
   "metadata": {
    "scrolled": false
   },
   "outputs": [
    {
     "name": "stdout",
     "output_type": "stream",
     "text": [
      "gender\n",
      "1    2041\n",
      "0    1959\n",
      "Name: gender, dtype: int64\n",
      "*****************end********************\n",
      "near_location\n",
      "1    3381\n",
      "0     619\n",
      "Name: near_location, dtype: int64\n",
      "*****************end********************\n",
      "partner\n",
      "0    2053\n",
      "1    1947\n",
      "Name: partner, dtype: int64\n",
      "*****************end********************\n",
      "promo_friends\n",
      "0    2766\n",
      "1    1234\n",
      "Name: promo_friends, dtype: int64\n",
      "*****************end********************\n",
      "phone\n",
      "1    3614\n",
      "0     386\n",
      "Name: phone, dtype: int64\n",
      "*****************end********************\n",
      "contract_period\n",
      "1     2207\n",
      "12     960\n",
      "6      833\n",
      "Name: contract_period, dtype: int64\n",
      "*****************end********************\n",
      "group_visits\n",
      "0    2351\n",
      "1    1649\n",
      "Name: group_visits, dtype: int64\n",
      "*****************end********************\n",
      "age\n",
      "29    468\n",
      "30    457\n",
      "28    447\n",
      "31    434\n",
      "27    378\n",
      "32    364\n",
      "26    300\n",
      "33    253\n",
      "25    231\n",
      "34    174\n",
      "24    148\n",
      "35     98\n",
      "23     82\n",
      "36     48\n",
      "22     33\n",
      "37     29\n",
      "21     24\n",
      "20     14\n",
      "38     10\n",
      "39      3\n",
      "18      2\n",
      "19      2\n",
      "41      1\n",
      "Name: age, dtype: int64\n",
      "*****************end********************\n",
      "avg_additional_charges_total\n",
      "89.952762     1\n",
      "174.658455    1\n",
      "122.765563    1\n",
      "204.444527    1\n",
      "50.813166     1\n",
      "             ..\n",
      "272.997181    1\n",
      "115.130268    1\n",
      "133.525137    1\n",
      "201.447650    1\n",
      "218.979321    1\n",
      "Name: avg_additional_charges_total, Length: 4000, dtype: int64\n",
      "*****************end********************\n",
      "month_to_end_contract\n",
      "1.0     2207\n",
      "6.0      645\n",
      "12.0     524\n",
      "11.0     181\n",
      "5.0      130\n",
      "10.0      82\n",
      "9.0       73\n",
      "4.0       58\n",
      "8.0       38\n",
      "7.0       25\n",
      "3.0       23\n",
      "2.0       14\n",
      "Name: month_to_end_contract, dtype: int64\n",
      "*****************end********************\n",
      "lifetime\n",
      "1     843\n",
      "2     610\n",
      "3     490\n",
      "0     487\n",
      "4     383\n",
      "5     273\n",
      "6     220\n",
      "7     167\n",
      "8     111\n",
      "9     100\n",
      "10     76\n",
      "12     53\n",
      "11     48\n",
      "13     28\n",
      "15     24\n",
      "14     24\n",
      "16     15\n",
      "17     11\n",
      "19      7\n",
      "18      7\n",
      "20      7\n",
      "21      5\n",
      "26      2\n",
      "24      2\n",
      "22      2\n",
      "23      2\n",
      "27      1\n",
      "29      1\n",
      "31      1\n",
      "Name: lifetime, dtype: int64\n",
      "*****************end********************\n",
      "avg_class_frequency_total\n",
      "0.000000    88\n",
      "0.827058     1\n",
      "2.770845     1\n",
      "1.472779     1\n",
      "3.735185     1\n",
      "            ..\n",
      "2.602823     1\n",
      "1.295159     1\n",
      "1.138963     1\n",
      "2.262743     1\n",
      "0.992312     1\n",
      "Name: avg_class_frequency_total, Length: 3913, dtype: int64\n",
      "*****************end********************\n",
      "avg_class_frequency_current_month\n",
      "0.000000    181\n",
      "0.379235      1\n",
      "0.054540      1\n",
      "1.877288      1\n",
      "1.058906      1\n",
      "           ... \n",
      "3.115417      1\n",
      "3.429058      1\n",
      "3.233156      1\n",
      "2.564243      1\n",
      "1.454710      1\n",
      "Name: avg_class_frequency_current_month, Length: 3820, dtype: int64\n",
      "*****************end********************\n",
      "churn\n",
      "0    2939\n",
      "1    1061\n",
      "Name: churn, dtype: int64\n",
      "*****************end********************\n"
     ]
    }
   ],
   "source": [
    "# Проверим каждый столбец в датафрейме\n",
    "for column in df:\n",
    "    print(column)\n",
    "    print(df[column].value_counts())\n",
    "    print('*****************end********************')"
   ]
  },
  {
   "cell_type": "markdown",
   "metadata": {},
   "source": [
    "Явных проблем с данными не обнаружено."
   ]
  },
  {
   "cell_type": "markdown",
   "metadata": {},
   "source": [
    "### Средние значения признаков в двух группах — тех, кто ушел в отток и тех, кто остался"
   ]
  },
  {
   "cell_type": "code",
   "execution_count": 8,
   "metadata": {},
   "outputs": [
    {
     "data": {
      "text/html": [
       "<div>\n",
       "<style scoped>\n",
       "    .dataframe tbody tr th:only-of-type {\n",
       "        vertical-align: middle;\n",
       "    }\n",
       "\n",
       "    .dataframe tbody tr th {\n",
       "        vertical-align: top;\n",
       "    }\n",
       "\n",
       "    .dataframe thead th {\n",
       "        text-align: right;\n",
       "    }\n",
       "</style>\n",
       "<table border=\"1\" class=\"dataframe\">\n",
       "  <thead>\n",
       "    <tr style=\"text-align: right;\">\n",
       "      <th></th>\n",
       "      <th>churn</th>\n",
       "      <th>gender</th>\n",
       "      <th>near_location</th>\n",
       "      <th>partner</th>\n",
       "      <th>promo_friends</th>\n",
       "      <th>phone</th>\n",
       "      <th>contract_period</th>\n",
       "      <th>group_visits</th>\n",
       "      <th>age</th>\n",
       "      <th>avg_additional_charges_total</th>\n",
       "      <th>month_to_end_contract</th>\n",
       "      <th>lifetime</th>\n",
       "      <th>avg_class_frequency_total</th>\n",
       "      <th>avg_class_frequency_current_month</th>\n",
       "    </tr>\n",
       "  </thead>\n",
       "  <tbody>\n",
       "    <tr>\n",
       "      <th>0</th>\n",
       "      <td>0</td>\n",
       "      <td>0.510037</td>\n",
       "      <td>0.873086</td>\n",
       "      <td>0.534195</td>\n",
       "      <td>0.353522</td>\n",
       "      <td>0.903709</td>\n",
       "      <td>5.747193</td>\n",
       "      <td>0.464103</td>\n",
       "      <td>29.976523</td>\n",
       "      <td>158.445715</td>\n",
       "      <td>5.283089</td>\n",
       "      <td>4.711807</td>\n",
       "      <td>2.024876</td>\n",
       "      <td>2.027882</td>\n",
       "    </tr>\n",
       "    <tr>\n",
       "      <th>1</th>\n",
       "      <td>1</td>\n",
       "      <td>0.510839</td>\n",
       "      <td>0.768143</td>\n",
       "      <td>0.355325</td>\n",
       "      <td>0.183789</td>\n",
       "      <td>0.902922</td>\n",
       "      <td>1.728558</td>\n",
       "      <td>0.268615</td>\n",
       "      <td>26.989632</td>\n",
       "      <td>115.082899</td>\n",
       "      <td>1.662582</td>\n",
       "      <td>0.990575</td>\n",
       "      <td>1.474995</td>\n",
       "      <td>1.044546</td>\n",
       "    </tr>\n",
       "  </tbody>\n",
       "</table>\n",
       "</div>"
      ],
      "text/plain": [
       "   churn    gender  near_location   partner  promo_friends     phone  \\\n",
       "0      0  0.510037       0.873086  0.534195       0.353522  0.903709   \n",
       "1      1  0.510839       0.768143  0.355325       0.183789  0.902922   \n",
       "\n",
       "   contract_period  group_visits        age  avg_additional_charges_total  \\\n",
       "0         5.747193      0.464103  29.976523                    158.445715   \n",
       "1         1.728558      0.268615  26.989632                    115.082899   \n",
       "\n",
       "   month_to_end_contract  lifetime  avg_class_frequency_total  \\\n",
       "0               5.283089  4.711807                   2.024876   \n",
       "1               1.662582  0.990575                   1.474995   \n",
       "\n",
       "   avg_class_frequency_current_month  \n",
       "0                           2.027882  \n",
       "1                           1.044546  "
      ]
     },
     "metadata": {},
     "output_type": "display_data"
    }
   ],
   "source": [
    "average_values_churn = df.groupby('churn')[['gender', 'near_location', 'partner', \n",
    "                                            'promo_friends', 'phone',\n",
    "                                            'contract_period', 'group_visits', 'age',\n",
    "                                            'avg_additional_charges_total', 'month_to_end_contract',\n",
    "                                            'lifetime', 'avg_class_frequency_total',\n",
    "                                            'avg_class_frequency_current_month']].agg('mean').reset_index()\n",
    "display(average_values_churn)"
   ]
  },
  {
   "cell_type": "markdown",
   "metadata": {},
   "source": [
    "Можно заметить, что практически все средние значения строки 1 (с теми, кто ушел в отток), ниже значений тех, кто остался - 0 (кроме столбцов пола клиента и телефона)."
   ]
  },
  {
   "cell_type": "markdown",
   "metadata": {},
   "source": [
    "### Постройте столбчатые гистограммы и распределения признаков для тех, кто ушёл (отток) и тех, кто остался (не попали в отток);"
   ]
  },
  {
   "cell_type": "code",
   "execution_count": 9,
   "metadata": {
    "scrolled": false
   },
   "outputs": [
    {
     "data": {
      "image/png": "[encoded data removed]",
      "text/plain": [
       "<Figure size 720x360 with 1 Axes>"
      ]
     },
     "metadata": {
      "needs_background": "light"
     },
     "output_type": "display_data"
    },
    {
     "data": {
      "image/png": "[encoded data removed]",
      "text/plain": [
       "<Figure size 720x360 with 1 Axes>"
      ]
     },
     "metadata": {
      "needs_background": "light"
     },
     "output_type": "display_data"
    },
    {
     "data": {
      "image/png": "[encoded data removed]",
      "text/plain": [
       "<Figure size 720x360 with 1 Axes>"
      ]
     },
     "metadata": {
      "needs_background": "light"
     },
     "output_type": "display_data"
    },
    {
     "data": {
      "image/png": "[encoded data removed]",
      "text/plain": [
       "<Figure size 720x360 with 1 Axes>"
      ]
     },
     "metadata": {
      "needs_background": "light"
     },
     "output_type": "display_data"
    },
    {
     "data": {
      "image/png": "[encoded data removed]",
      "text/plain": [
       "<Figure size 720x360 with 1 Axes>"
      ]
     },
     "metadata": {
      "needs_background": "light"
     },
     "output_type": "display_data"
    },
    {
     "data": {
      "image/png": "[encoded data removed]",
      "text/plain": [
       "<Figure size 720x360 with 1 Axes>"
      ]
     },
     "metadata": {
      "needs_background": "light"
     },
     "output_type": "display_data"
    },
    {
     "data": {
      "image/png": "[encoded data removed]",
      "text/plain": [
       "<Figure size 720x360 with 1 Axes>"
      ]
     },
     "metadata": {
      "needs_background": "light"
     },
     "output_type": "display_data"
    },
    {
     "data": {
      "image/png": "[encoded data removed]",
      "text/plain": [
       "<Figure size 720x360 with 1 Axes>"
      ]
     },
     "metadata": {
      "needs_background": "light"
     },
     "output_type": "display_data"
    },
    {
     "data": {
      "image/png": "[encoded data removed]",
      "text/plain": [
       "<Figure size 720x360 with 1 Axes>"
      ]
     },
     "metadata": {
      "needs_background": "light"
     },
     "output_type": "display_data"
    },
    {
     "data": {
      "image/png": "[encoded data removed]",
      "text/plain": [
       "<Figure size 720x360 with 1 Axes>"
      ]
     },
     "metadata": {
      "needs_background": "light"
     },
     "output_type": "display_data"
    }
   ],
   "source": [
    "for column in ['gender', 'near_location', 'partner', \n",
    "                'promo_friends', 'phone',\n",
    "                'contract_period', 'group_visits', 'age',\n",
    "                'month_to_end_contract',\n",
    "                'lifetime']:\n",
    "    plt.figure(figsize=(10, 5))\n",
    "    sns.countplot(x = df[column], hue='churn', data=df)\n",
    "    plt.title(column)\n",
    "    plt.show()"
   ]
  },
  {
   "cell_type": "code",
   "execution_count": 10,
   "metadata": {
    "scrolled": false
   },
   "outputs": [
    {
     "data": {
      "image/png": "[encoded data removed]",
      "text/plain": [
       "<Figure size 720x360 with 1 Axes>"
      ]
     },
     "metadata": {
      "needs_background": "light"
     },
     "output_type": "display_data"
    },
    {
     "data": {
      "image/png": "[encoded data removed]",
      "text/plain": [
       "<Figure size 720x360 with 1 Axes>"
      ]
     },
     "metadata": {
      "needs_background": "light"
     },
     "output_type": "display_data"
    },
    {
     "data": {
      "image/png": "[encoded data removed]",
      "text/plain": [
       "<Figure size 720x360 with 1 Axes>"
      ]
     },
     "metadata": {
      "needs_background": "light"
     },
     "output_type": "display_data"
    }
   ],
   "source": [
    "for column in ['avg_additional_charges_total', 'avg_class_frequency_total','avg_class_frequency_current_month']:\n",
    "    plt.figure(figsize=(10, 5))\n",
    "    df.groupby('churn')[column]\n",
    "    sns.histplot(df[column])\n",
    "    plt.title(column)\n",
    "    plt.show()"
   ]
  },
  {
   "cell_type": "code",
   "execution_count": 11,
   "metadata": {},
   "outputs": [
    {
     "data": {
      "image/png": "[encoded data removed]",
      "text/plain": [
       "<Figure size 576x576 with 1 Axes>"
      ]
     },
     "metadata": {
      "needs_background": "light"
     },
     "output_type": "display_data"
    },
    {
     "data": {
      "image/png": "[encoded data removed]",
      "text/plain": [
       "<Figure size 576x576 with 1 Axes>"
      ]
     },
     "metadata": {
      "needs_background": "light"
     },
     "output_type": "display_data"
    }
   ],
   "source": [
    "for column in ['avg_class_frequency_total','avg_class_frequency_current_month']:\n",
    "    plt.figure(figsize=(8, 8))\n",
    "    sns.boxplot(x = 'churn', y = df[column], data = df)\n",
    "    plt.xlabel(\"Остался / ушёл в отток\")\n",
    "    plt.ylabel(\"Посещений в неделю\")\n",
    "    plt.title(column)\n",
    "    plt.show()"
   ]
  },
  {
   "cell_type": "code",
   "execution_count": 12,
   "metadata": {},
   "outputs": [
    {
     "data": {
      "image/png": "[encoded data removed]",
      "text/plain": [
       "<Figure size 576x576 with 1 Axes>"
      ]
     },
     "metadata": {
      "needs_background": "light"
     },
     "output_type": "display_data"
    }
   ],
   "source": [
    "plt.figure(figsize=(8, 8))\n",
    "sns.boxplot(x = 'churn', y = df['avg_additional_charges_total'], data = df)\n",
    "plt.xlabel(\"Остался / ушёл в отток\")\n",
    "plt.ylabel(\"Суммарная выручка\")\n",
    "plt.title(\"Cуммарная выручка от других услуг фитнес-центра\")\n",
    "plt.show()"
   ]
  },
  {
   "cell_type": "markdown",
   "metadata": {},
   "source": [
    "Тот кто уходит в отток:\n",
    "- меньше суммарно тратит на другие услуги центра,\n",
    "- меньшее количество раз занимается,\n",
    "- с момента первого обращения в фитнес-центр они недолго задерживаются, в основном уходят в первые месяцы,\n",
    "- чаще всего берут абонемент на 1 месяц\n",
    "- живут далеко от фитнес-центра. "
   ]
  },
  {
   "cell_type": "markdown",
   "metadata": {},
   "source": [
    "### Построение матрицы корреляций"
   ]
  },
  {
   "cell_type": "code",
   "execution_count": 13,
   "metadata": {
    "scrolled": false
   },
   "outputs": [
    {
     "data": {
      "text/html": [
       "<div>\n",
       "<style scoped>\n",
       "    .dataframe tbody tr th:only-of-type {\n",
       "        vertical-align: middle;\n",
       "    }\n",
       "\n",
       "    .dataframe tbody tr th {\n",
       "        vertical-align: top;\n",
       "    }\n",
       "\n",
       "    .dataframe thead th {\n",
       "        text-align: right;\n",
       "    }\n",
       "</style>\n",
       "<table border=\"1\" class=\"dataframe\">\n",
       "  <thead>\n",
       "    <tr style=\"text-align: right;\">\n",
       "      <th></th>\n",
       "      <th>gender</th>\n",
       "      <th>near_location</th>\n",
       "      <th>partner</th>\n",
       "      <th>promo_friends</th>\n",
       "      <th>phone</th>\n",
       "      <th>contract_period</th>\n",
       "      <th>group_visits</th>\n",
       "      <th>age</th>\n",
       "      <th>avg_additional_charges_total</th>\n",
       "      <th>month_to_end_contract</th>\n",
       "      <th>lifetime</th>\n",
       "      <th>avg_class_frequency_total</th>\n",
       "      <th>avg_class_frequency_current_month</th>\n",
       "      <th>churn</th>\n",
       "    </tr>\n",
       "  </thead>\n",
       "  <tbody>\n",
       "    <tr>\n",
       "      <th>gender</th>\n",
       "      <td>1.000000</td>\n",
       "      <td>0.006699</td>\n",
       "      <td>-0.010463</td>\n",
       "      <td>-0.005033</td>\n",
       "      <td>-0.008542</td>\n",
       "      <td>0.000502</td>\n",
       "      <td>0.017879</td>\n",
       "      <td>0.013807</td>\n",
       "      <td>-0.009334</td>\n",
       "      <td>-0.001281</td>\n",
       "      <td>0.013579</td>\n",
       "      <td>0.014620</td>\n",
       "      <td>0.009156</td>\n",
       "      <td>0.000708</td>\n",
       "    </tr>\n",
       "    <tr>\n",
       "      <th>near_location</th>\n",
       "      <td>0.006699</td>\n",
       "      <td>1.000000</td>\n",
       "      <td>-0.005119</td>\n",
       "      <td>0.210964</td>\n",
       "      <td>-0.015763</td>\n",
       "      <td>0.150233</td>\n",
       "      <td>0.154728</td>\n",
       "      <td>0.058358</td>\n",
       "      <td>0.040761</td>\n",
       "      <td>0.143961</td>\n",
       "      <td>0.070921</td>\n",
       "      <td>0.043127</td>\n",
       "      <td>0.062664</td>\n",
       "      <td>-0.128098</td>\n",
       "    </tr>\n",
       "    <tr>\n",
       "      <th>partner</th>\n",
       "      <td>-0.010463</td>\n",
       "      <td>-0.005119</td>\n",
       "      <td>1.000000</td>\n",
       "      <td>0.451960</td>\n",
       "      <td>0.009970</td>\n",
       "      <td>0.306166</td>\n",
       "      <td>0.022710</td>\n",
       "      <td>0.047480</td>\n",
       "      <td>0.022941</td>\n",
       "      <td>0.294632</td>\n",
       "      <td>0.061229</td>\n",
       "      <td>0.024938</td>\n",
       "      <td>0.045561</td>\n",
       "      <td>-0.157986</td>\n",
       "    </tr>\n",
       "    <tr>\n",
       "      <th>promo_friends</th>\n",
       "      <td>-0.005033</td>\n",
       "      <td>0.210964</td>\n",
       "      <td>0.451960</td>\n",
       "      <td>1.000000</td>\n",
       "      <td>0.001982</td>\n",
       "      <td>0.244552</td>\n",
       "      <td>0.120170</td>\n",
       "      <td>0.050113</td>\n",
       "      <td>0.036898</td>\n",
       "      <td>0.239553</td>\n",
       "      <td>0.072721</td>\n",
       "      <td>0.028063</td>\n",
       "      <td>0.053768</td>\n",
       "      <td>-0.162233</td>\n",
       "    </tr>\n",
       "    <tr>\n",
       "      <th>phone</th>\n",
       "      <td>-0.008542</td>\n",
       "      <td>-0.015763</td>\n",
       "      <td>0.009970</td>\n",
       "      <td>0.001982</td>\n",
       "      <td>1.000000</td>\n",
       "      <td>-0.006893</td>\n",
       "      <td>-0.010099</td>\n",
       "      <td>-0.011403</td>\n",
       "      <td>0.009279</td>\n",
       "      <td>-0.011196</td>\n",
       "      <td>-0.018801</td>\n",
       "      <td>0.008340</td>\n",
       "      <td>0.013375</td>\n",
       "      <td>-0.001177</td>\n",
       "    </tr>\n",
       "    <tr>\n",
       "      <th>contract_period</th>\n",
       "      <td>0.000502</td>\n",
       "      <td>0.150233</td>\n",
       "      <td>0.306166</td>\n",
       "      <td>0.244552</td>\n",
       "      <td>-0.006893</td>\n",
       "      <td>1.000000</td>\n",
       "      <td>0.169991</td>\n",
       "      <td>0.138249</td>\n",
       "      <td>0.111445</td>\n",
       "      <td>0.973064</td>\n",
       "      <td>0.170725</td>\n",
       "      <td>0.096211</td>\n",
       "      <td>0.159407</td>\n",
       "      <td>-0.389984</td>\n",
       "    </tr>\n",
       "    <tr>\n",
       "      <th>group_visits</th>\n",
       "      <td>0.017879</td>\n",
       "      <td>0.154728</td>\n",
       "      <td>0.022710</td>\n",
       "      <td>0.120170</td>\n",
       "      <td>-0.010099</td>\n",
       "      <td>0.169991</td>\n",
       "      <td>1.000000</td>\n",
       "      <td>0.080934</td>\n",
       "      <td>0.032079</td>\n",
       "      <td>0.163703</td>\n",
       "      <td>0.075853</td>\n",
       "      <td>0.056695</td>\n",
       "      <td>0.075923</td>\n",
       "      <td>-0.175325</td>\n",
       "    </tr>\n",
       "    <tr>\n",
       "      <th>age</th>\n",
       "      <td>0.013807</td>\n",
       "      <td>0.058358</td>\n",
       "      <td>0.047480</td>\n",
       "      <td>0.050113</td>\n",
       "      <td>-0.011403</td>\n",
       "      <td>0.138249</td>\n",
       "      <td>0.080934</td>\n",
       "      <td>1.000000</td>\n",
       "      <td>0.080240</td>\n",
       "      <td>0.134511</td>\n",
       "      <td>0.164693</td>\n",
       "      <td>0.119953</td>\n",
       "      <td>0.183095</td>\n",
       "      <td>-0.404735</td>\n",
       "    </tr>\n",
       "    <tr>\n",
       "      <th>avg_additional_charges_total</th>\n",
       "      <td>-0.009334</td>\n",
       "      <td>0.040761</td>\n",
       "      <td>0.022941</td>\n",
       "      <td>0.036898</td>\n",
       "      <td>0.009279</td>\n",
       "      <td>0.111445</td>\n",
       "      <td>0.032079</td>\n",
       "      <td>0.080240</td>\n",
       "      <td>1.000000</td>\n",
       "      <td>0.113958</td>\n",
       "      <td>0.079028</td>\n",
       "      <td>0.044426</td>\n",
       "      <td>0.079570</td>\n",
       "      <td>-0.198697</td>\n",
       "    </tr>\n",
       "    <tr>\n",
       "      <th>month_to_end_contract</th>\n",
       "      <td>-0.001281</td>\n",
       "      <td>0.143961</td>\n",
       "      <td>0.294632</td>\n",
       "      <td>0.239553</td>\n",
       "      <td>-0.011196</td>\n",
       "      <td>0.973064</td>\n",
       "      <td>0.163703</td>\n",
       "      <td>0.134511</td>\n",
       "      <td>0.113958</td>\n",
       "      <td>1.000000</td>\n",
       "      <td>0.161078</td>\n",
       "      <td>0.085387</td>\n",
       "      <td>0.147605</td>\n",
       "      <td>-0.381393</td>\n",
       "    </tr>\n",
       "    <tr>\n",
       "      <th>lifetime</th>\n",
       "      <td>0.013579</td>\n",
       "      <td>0.070921</td>\n",
       "      <td>0.061229</td>\n",
       "      <td>0.072721</td>\n",
       "      <td>-0.018801</td>\n",
       "      <td>0.170725</td>\n",
       "      <td>0.075853</td>\n",
       "      <td>0.164693</td>\n",
       "      <td>0.079028</td>\n",
       "      <td>0.161078</td>\n",
       "      <td>1.000000</td>\n",
       "      <td>0.112338</td>\n",
       "      <td>0.181975</td>\n",
       "      <td>-0.438220</td>\n",
       "    </tr>\n",
       "    <tr>\n",
       "      <th>avg_class_frequency_total</th>\n",
       "      <td>0.014620</td>\n",
       "      <td>0.043127</td>\n",
       "      <td>0.024938</td>\n",
       "      <td>0.028063</td>\n",
       "      <td>0.008340</td>\n",
       "      <td>0.096211</td>\n",
       "      <td>0.056695</td>\n",
       "      <td>0.119953</td>\n",
       "      <td>0.044426</td>\n",
       "      <td>0.085387</td>\n",
       "      <td>0.112338</td>\n",
       "      <td>1.000000</td>\n",
       "      <td>0.952739</td>\n",
       "      <td>-0.249715</td>\n",
       "    </tr>\n",
       "    <tr>\n",
       "      <th>avg_class_frequency_current_month</th>\n",
       "      <td>0.009156</td>\n",
       "      <td>0.062664</td>\n",
       "      <td>0.045561</td>\n",
       "      <td>0.053768</td>\n",
       "      <td>0.013375</td>\n",
       "      <td>0.159407</td>\n",
       "      <td>0.075923</td>\n",
       "      <td>0.183095</td>\n",
       "      <td>0.079570</td>\n",
       "      <td>0.147605</td>\n",
       "      <td>0.181975</td>\n",
       "      <td>0.952739</td>\n",
       "      <td>1.000000</td>\n",
       "      <td>-0.412348</td>\n",
       "    </tr>\n",
       "    <tr>\n",
       "      <th>churn</th>\n",
       "      <td>0.000708</td>\n",
       "      <td>-0.128098</td>\n",
       "      <td>-0.157986</td>\n",
       "      <td>-0.162233</td>\n",
       "      <td>-0.001177</td>\n",
       "      <td>-0.389984</td>\n",
       "      <td>-0.175325</td>\n",
       "      <td>-0.404735</td>\n",
       "      <td>-0.198697</td>\n",
       "      <td>-0.381393</td>\n",
       "      <td>-0.438220</td>\n",
       "      <td>-0.249715</td>\n",
       "      <td>-0.412348</td>\n",
       "      <td>1.000000</td>\n",
       "    </tr>\n",
       "  </tbody>\n",
       "</table>\n",
       "</div>"
      ],
      "text/plain": [
       "                                     gender  near_location   partner  \\\n",
       "gender                             1.000000       0.006699 -0.010463   \n",
       "near_location                      0.006699       1.000000 -0.005119   \n",
       "partner                           -0.010463      -0.005119  1.000000   \n",
       "promo_friends                     -0.005033       0.210964  0.451960   \n",
       "phone                             -0.008542      -0.015763  0.009970   \n",
       "contract_period                    0.000502       0.150233  0.306166   \n",
       "group_visits                       0.017879       0.154728  0.022710   \n",
       "age                                0.013807       0.058358  0.047480   \n",
       "avg_additional_charges_total      -0.009334       0.040761  0.022941   \n",
       "month_to_end_contract             -0.001281       0.143961  0.294632   \n",
       "lifetime                           0.013579       0.070921  0.061229   \n",
       "avg_class_frequency_total          0.014620       0.043127  0.024938   \n",
       "avg_class_frequency_current_month  0.009156       0.062664  0.045561   \n",
       "churn                              0.000708      -0.128098 -0.157986   \n",
       "\n",
       "                                   promo_friends     phone  contract_period  \\\n",
       "gender                                 -0.005033 -0.008542         0.000502   \n",
       "near_location                           0.210964 -0.015763         0.150233   \n",
       "partner                                 0.451960  0.009970         0.306166   \n",
       "promo_friends                           1.000000  0.001982         0.244552   \n",
       "phone                                   0.001982  1.000000        -0.006893   \n",
       "contract_period                         0.244552 -0.006893         1.000000   \n",
       "group_visits                            0.120170 -0.010099         0.169991   \n",
       "age                                     0.050113 -0.011403         0.138249   \n",
       "avg_additional_charges_total            0.036898  0.009279         0.111445   \n",
       "month_to_end_contract                   0.239553 -0.011196         0.973064   \n",
       "lifetime                                0.072721 -0.018801         0.170725   \n",
       "avg_class_frequency_total               0.028063  0.008340         0.096211   \n",
       "avg_class_frequency_current_month       0.053768  0.013375         0.159407   \n",
       "churn                                  -0.162233 -0.001177        -0.389984   \n",
       "\n",
       "                                   group_visits       age  \\\n",
       "gender                                 0.017879  0.013807   \n",
       "near_location                          0.154728  0.058358   \n",
       "partner                                0.022710  0.047480   \n",
       "promo_friends                          0.120170  0.050113   \n",
       "phone                                 -0.010099 -0.011403   \n",
       "contract_period                        0.169991  0.138249   \n",
       "group_visits                           1.000000  0.080934   \n",
       "age                                    0.080934  1.000000   \n",
       "avg_additional_charges_total           0.032079  0.080240   \n",
       "month_to_end_contract                  0.163703  0.134511   \n",
       "lifetime                               0.075853  0.164693   \n",
       "avg_class_frequency_total              0.056695  0.119953   \n",
       "avg_class_frequency_current_month      0.075923  0.183095   \n",
       "churn                                 -0.175325 -0.404735   \n",
       "\n",
       "                                   avg_additional_charges_total  \\\n",
       "gender                                                -0.009334   \n",
       "near_location                                          0.040761   \n",
       "partner                                                0.022941   \n",
       "promo_friends                                          0.036898   \n",
       "phone                                                  0.009279   \n",
       "contract_period                                        0.111445   \n",
       "group_visits                                           0.032079   \n",
       "age                                                    0.080240   \n",
       "avg_additional_charges_total                           1.000000   \n",
       "month_to_end_contract                                  0.113958   \n",
       "lifetime                                               0.079028   \n",
       "avg_class_frequency_total                              0.044426   \n",
       "avg_class_frequency_current_month                      0.079570   \n",
       "churn                                                 -0.198697   \n",
       "\n",
       "                                   month_to_end_contract  lifetime  \\\n",
       "gender                                         -0.001281  0.013579   \n",
       "near_location                                   0.143961  0.070921   \n",
       "partner                                         0.294632  0.061229   \n",
       "promo_friends                                   0.239553  0.072721   \n",
       "phone                                          -0.011196 -0.018801   \n",
       "contract_period                                 0.973064  0.170725   \n",
       "group_visits                                    0.163703  0.075853   \n",
       "age                                             0.134511  0.164693   \n",
       "avg_additional_charges_total                    0.113958  0.079028   \n",
       "month_to_end_contract                           1.000000  0.161078   \n",
       "lifetime                                        0.161078  1.000000   \n",
       "avg_class_frequency_total                       0.085387  0.112338   \n",
       "avg_class_frequency_current_month               0.147605  0.181975   \n",
       "churn                                          -0.381393 -0.438220   \n",
       "\n",
       "                                   avg_class_frequency_total  \\\n",
       "gender                                              0.014620   \n",
       "near_location                                       0.043127   \n",
       "partner                                             0.024938   \n",
       "promo_friends                                       0.028063   \n",
       "phone                                               0.008340   \n",
       "contract_period                                     0.096211   \n",
       "group_visits                                        0.056695   \n",
       "age                                                 0.119953   \n",
       "avg_additional_charges_total                        0.044426   \n",
       "month_to_end_contract                               0.085387   \n",
       "lifetime                                            0.112338   \n",
       "avg_class_frequency_total                           1.000000   \n",
       "avg_class_frequency_current_month                   0.952739   \n",
       "churn                                              -0.249715   \n",
       "\n",
       "                                   avg_class_frequency_current_month     churn  \n",
       "gender                                                      0.009156  0.000708  \n",
       "near_location                                               0.062664 -0.128098  \n",
       "partner                                                     0.045561 -0.157986  \n",
       "promo_friends                                               0.053768 -0.162233  \n",
       "phone                                                       0.013375 -0.001177  \n",
       "contract_period                                             0.159407 -0.389984  \n",
       "group_visits                                                0.075923 -0.175325  \n",
       "age                                                         0.183095 -0.404735  \n",
       "avg_additional_charges_total                                0.079570 -0.198697  \n",
       "month_to_end_contract                                       0.147605 -0.381393  \n",
       "lifetime                                                    0.181975 -0.438220  \n",
       "avg_class_frequency_total                                   0.952739 -0.249715  \n",
       "avg_class_frequency_current_month                           1.000000 -0.412348  \n",
       "churn                                                      -0.412348  1.000000  "
      ]
     },
     "execution_count": 13,
     "metadata": {},
     "output_type": "execute_result"
    }
   ],
   "source": [
    "df.corr()"
   ]
  },
  {
   "cell_type": "code",
   "execution_count": 14,
   "metadata": {
    "scrolled": false
   },
   "outputs": [
    {
     "data": {
      "text/plain": [
       "<AxesSubplot:>"
      ]
     },
     "execution_count": 14,
     "metadata": {},
     "output_type": "execute_result"
    },
    {
     "data": {
      "image/png": "[encoded data removed]",
      "text/plain": [
       "<Figure size 864x864 with 2 Axes>"
      ]
     },
     "metadata": {
      "needs_background": "light"
     },
     "output_type": "display_data"
    }
   ],
   "source": [
    "plt.figure(figsize=(12,12))  \n",
    "sns.heatmap(df.corr(), annot = True, fmt = '0.2f',)"
   ]
  },
  {
   "cell_type": "markdown",
   "metadata": {},
   "source": [
    "Признаков, которые коррелируют с целевой переменной более, чем на 0.9 по модулю нет, следовательно есть смысл в построение модели прогнозирования оттока клиентов. Однако, есть признаки, которые сильно коррелируют друг с другом:\n",
    "\n",
    "Avg_class_frequency_current_month — средняя частота посещений в неделю за предыдущий месяц\n",
    "и \n",
    "Avg_class_frequency_total — средняя частота посещений в неделю за все время с начала действия абонемента, \n",
    "корреляция 0,95.\n",
    "\n",
    "А также Month_to_end_contract — срок до окончания текущего действующего абонемента (в месяцах)\n",
    "и\n",
    "Contract_period — длительность текущего действующего абонемента (месяц, 6 месяцев, год),\n",
    "корреляция 0,97.\n",
    "\n",
    "Относительно высокая коррреляция у целевого признака с:\n",
    "- длительностью текущего действующего абонемента\n",
    "- возрастом\n",
    "- сроком до окончания текущего действующего абонемента\n",
    "- временем с момента первого обращения в фитнес-центр.\n",
    "- средней частотой посещений в неделю за предыдущий месяц."
   ]
  },
  {
   "cell_type": "markdown",
   "metadata": {},
   "source": [
    "По логике, нам не нужно более одной меры одного и того же. Это не увеличивает предсказательную способность модели, вместо этого нам нужны измерения существенно разных вещей, чтобы построить модель и сделать ее настолько точной, насколько это возможно. Поэтому удалим один из сильно коррелирующих признаков."
   ]
  },
  {
   "cell_type": "code",
   "execution_count": 15,
   "metadata": {},
   "outputs": [],
   "source": [
    "# удалим один из признаков из пары с высокой корреляцией\n",
    "df.drop(['avg_class_frequency_current_month','month_to_end_contract'], axis=1, inplace=True)"
   ]
  },
  {
   "cell_type": "markdown",
   "metadata": {},
   "source": [
    "### Вывод \n",
    "\n",
    "По описанию данных можно выделить такие средние показатели как:\n",
    "- разделение по полу практически поровну\n",
    "- большинство клиентов живут или работают рядом с фитнес-центром\n",
    "- около половины клиентов сотрудники компании-партнёра клуба\n",
    "- около 30% использовали промо-код от знакомого при оплате первого абонемента\n",
    "- около 90% оставляют телефоны\n",
    "- более 50% приобрели абонементы на 1 месяц, в среднем период абонемента 4,68.\n",
    "- около 40% ходят на групповые занятия\n",
    "- средний возраст 29 лет\n",
    "- средняя сумма, оставляемая центру за доп услуги 146\n",
    "- средний срок до окончания текущего действующего абонемента 4,3 в месяцев\n",
    "- среднее время с момента первого обращения в фитнес-центр 3,7 месяцев\n",
    "- средняя частота посещений в неделю за все время с начала действия абонемента 1.88\n",
    "- средняя частота посещений в неделю за предыдущий месяц 1.76\n",
    "- средний отток 26%\n",
    "\n",
    "\n",
    "Таким образом можно выделить несколько признаков, которые разнятся у тех, кто ушел в отток (в отличие от тех, кто не ушёл):\n",
    "- проживание/работа далеко от фитнес-центра\n",
    "- сумма, оставляемая центру за доп услуги маньше \n",
    "- меньше уделяют времени на занятия (средняя частота посещений в неделю за все время и за прошлый месяц)\n",
    "- срок абонемента на 1 месяц и соответственно сроком до окончания текущего действующего абонемента\n",
    "- с момента первого обращения в фитнес-центр они недолго задерживаются, в основном уходят в первые месяцы\n",
    "- возраст младше."
   ]
  },
  {
   "cell_type": "markdown",
   "metadata": {},
   "source": [
    "## Построение модели прогнозирования оттока клиентов\n",
    "\n",
    "Задача: построить модель бинарной классификации клиентов, где целевой признак — факт оттока клиента в следующем месяце."
   ]
  },
  {
   "cell_type": "code",
   "execution_count": 16,
   "metadata": {},
   "outputs": [],
   "source": [
    "# разделим данные на признаки (матрица X) и целевую переменную (y)\n",
    "y = df['churn']\n",
    "X = df.drop(['churn'], axis=1) "
   ]
  },
  {
   "cell_type": "code",
   "execution_count": 17,
   "metadata": {},
   "outputs": [],
   "source": [
    "# разделяем модель на обучающую и валидационную выборку\n",
    "X_train, X_test, y_train, y_test = train_test_split(X, y, test_size=0.2, random_state=0) "
   ]
  },
  {
   "cell_type": "code",
   "execution_count": 18,
   "metadata": {},
   "outputs": [],
   "source": [
    "# обучим StandartScaler на обучающей выборке\n",
    "scaler = StandardScaler()\n",
    "scaler.fit(X_train)\n",
    "\n",
    "# преобразуем обучающий и валидационные наборы данных\n",
    "X_train_st = scaler.transform(X_train)\n",
    "X_test_st = scaler.transform(X_test)"
   ]
  },
  {
   "cell_type": "markdown",
   "metadata": {},
   "source": [
    "Обучим модель линейной регрессии:"
   ]
  },
  {
   "cell_type": "code",
   "execution_count": 19,
   "metadata": {},
   "outputs": [],
   "source": [
    "# задаем алгоритм для нашей модели\n",
    "model = LogisticRegression(solver='liblinear',random_state=0)\n",
    "# обучаем модель\n",
    "model.fit(X_train_st, y_train) \n",
    "# делаем прогноз обученной моделью\n",
    "predictions = model.predict(X_test_st)"
   ]
  },
  {
   "cell_type": "markdown",
   "metadata": {},
   "source": [
    "Обучим модель случайного леса:"
   ]
  },
  {
   "cell_type": "code",
   "execution_count": 20,
   "metadata": {
    "scrolled": true
   },
   "outputs": [],
   "source": [
    "# зададим алгоритм для новой модели на основе алгоритма случайного леса\n",
    "rf_model = RandomForestClassifier(n_estimators = 100, random_state = 0) \n",
    "# обучим модель случайного леса\n",
    "rf_model.fit(X_train_st, y_train)\n",
    "# воспользуемся уже обученной моделью, чтобы сделать прогнозы\n",
    "rf_predictions = rf_model.predict(X_test_st)"
   ]
  },
  {
   "cell_type": "markdown",
   "metadata": {},
   "source": [
    "Вывод метрик для обеих моделей:"
   ]
  },
  {
   "cell_type": "code",
   "execution_count": 21,
   "metadata": {},
   "outputs": [
    {
     "name": "stdout",
     "output_type": "stream",
     "text": [
      "Метрики для прогнозов моделей логистической регрессии и случайного леса\n",
      "Регрессия         Случайный лес\n",
      "-------------------------------\n",
      "Accuracy: 0.90    Accuracy: 0.89\n",
      "Precision: 0.79   Precision: 0.79\n",
      "Recall: 0.81      Recall: 0.76\n",
      "F1: 0.80          F1: 0.77\n"
     ]
    }
   ],
   "source": [
    "print('Метрики для прогнозов моделей логистической регрессии и случайного леса')\n",
    "print('Регрессия         Случайный лес')\n",
    "print('-------------------------------')\n",
    "print('Accuracy: {:.2f}'.format(accuracy_score(y_test, predictions)), '   Accuracy: {:.2f}'.format(accuracy_score(y_test, rf_predictions)))\n",
    "print('Precision: {:.2f}'.format(precision_score(y_test, predictions)),'  Precision: {:.2f}'.format(precision_score(y_test, rf_predictions)))\n",
    "print('Recall: {:.2f}'.format(recall_score(y_test, predictions)), '     Recall: {:.2f}'.format(recall_score(y_test, rf_predictions)))\n",
    "print('F1: {:.2f}'.format(f1_score(y_test, predictions)), '         F1: {:.2f}'.format(f1_score(y_test, rf_predictions)))"
   ]
  },
  {
   "cell_type": "markdown",
   "metadata": {},
   "source": [
    "* accuracy - доля верно угаданных ответов из всех прогнозов выше у модели **регрессии**\n",
    "* precision - точность или доля правильных ответов только среди целевого класса одинакова для обеих моделей.\n",
    "* recall - полнота или сколько реальных объектов \"1\" класса смогли обнаружить с помощью выбранной модели лучше у модели **регрессии**;\n",
    "* F1_score - сводная метрика, учитывающая баланс между метриками precision и recall лучше у модели **регрессии**.\n",
    "\n",
    "Итого по приведенным метрикам делаем вывод, что модель **логистической регрессии** показала себя лучше."
   ]
  },
  {
   "cell_type": "markdown",
   "metadata": {},
   "source": [
    "## Кластеризация клиентов"
   ]
  },
  {
   "cell_type": "markdown",
   "metadata": {},
   "source": [
    "### Матрица расстояний и дендрограмма"
   ]
  },
  {
   "cell_type": "code",
   "execution_count": 22,
   "metadata": {},
   "outputs": [
    {
     "data": {
      "image/png": "[encoded data removed]",
      "text/plain": [
       "<Figure size 1080x720 with 1 Axes>"
      ]
     },
     "metadata": {
      "needs_background": "light"
     },
     "output_type": "display_data"
    }
   ],
   "source": [
    "# стандартизируем данные\n",
    "sc = StandardScaler()\n",
    "X_sc = sc.fit_transform(df)\n",
    "\n",
    "# построим матрицу расстояний функцией linkage()\n",
    "linked = linkage(X_sc, method = 'ward') \n",
    "\n",
    "# Визуализируем дендрограмму:\n",
    "plt.figure(figsize=(15, 10))  \n",
    "dendrogram(linked, orientation='top')\n",
    "plt.title('Кластеризация пользователей')\n",
    "plt.show() "
   ]
  },
  {
   "cell_type": "markdown",
   "metadata": {},
   "source": [
    "На дендрограмме видно 5 цветов на которые разделились пользователи, сответственно можно выделить 5 кластеров."
   ]
  },
  {
   "cell_type": "markdown",
   "metadata": {},
   "source": [
    "### Применение алгоритма K-Means. Прогноз кластеров клиентов"
   ]
  },
  {
   "cell_type": "code",
   "execution_count": 23,
   "metadata": {},
   "outputs": [],
   "source": [
    "# задаём модель k_means с числом кластеров 5 и фиксируем значение random_state\n",
    "km = KMeans(n_clusters=5, random_state=0)\n",
    "# применяем алгоритм к данным и формируем вектор кластеров \n",
    "labels = km.fit_predict(X_sc)\n",
    "\n",
    "# сохраняем метки кластера в поле нашего датасета\n",
    "df['cluster_km'] = labels"
   ]
  },
  {
   "cell_type": "markdown",
   "metadata": {},
   "source": [
    "Средние значения признаков для кластеров"
   ]
  },
  {
   "cell_type": "code",
   "execution_count": 24,
   "metadata": {},
   "outputs": [
    {
     "data": {
      "text/html": [
       "<div>\n",
       "<style scoped>\n",
       "    .dataframe tbody tr th:only-of-type {\n",
       "        vertical-align: middle;\n",
       "    }\n",
       "\n",
       "    .dataframe tbody tr th {\n",
       "        vertical-align: top;\n",
       "    }\n",
       "\n",
       "    .dataframe thead th {\n",
       "        text-align: right;\n",
       "    }\n",
       "</style>\n",
       "<table border=\"1\" class=\"dataframe\">\n",
       "  <thead>\n",
       "    <tr style=\"text-align: right;\">\n",
       "      <th>cluster_km</th>\n",
       "      <th>0</th>\n",
       "      <th>1</th>\n",
       "      <th>2</th>\n",
       "      <th>3</th>\n",
       "      <th>4</th>\n",
       "    </tr>\n",
       "  </thead>\n",
       "  <tbody>\n",
       "    <tr>\n",
       "      <th>gender</th>\n",
       "      <td>0.501661</td>\n",
       "      <td>0.522936</td>\n",
       "      <td>0.503205</td>\n",
       "      <td>0.502627</td>\n",
       "      <td>0.513109</td>\n",
       "    </tr>\n",
       "    <tr>\n",
       "      <th>near_location</th>\n",
       "      <td>0.000000</td>\n",
       "      <td>0.999083</td>\n",
       "      <td>0.992521</td>\n",
       "      <td>0.984238</td>\n",
       "      <td>1.000000</td>\n",
       "    </tr>\n",
       "    <tr>\n",
       "      <th>partner</th>\n",
       "      <td>0.481728</td>\n",
       "      <td>0.161468</td>\n",
       "      <td>0.916667</td>\n",
       "      <td>0.626970</td>\n",
       "      <td>0.330836</td>\n",
       "    </tr>\n",
       "    <tr>\n",
       "      <th>promo_friends</th>\n",
       "      <td>0.071429</td>\n",
       "      <td>0.074312</td>\n",
       "      <td>1.000000</td>\n",
       "      <td>0.000000</td>\n",
       "      <td>0.217228</td>\n",
       "    </tr>\n",
       "    <tr>\n",
       "      <th>phone</th>\n",
       "      <td>0.911960</td>\n",
       "      <td>0.902752</td>\n",
       "      <td>0.903846</td>\n",
       "      <td>0.900175</td>\n",
       "      <td>0.900125</td>\n",
       "    </tr>\n",
       "    <tr>\n",
       "      <th>contract_period</th>\n",
       "      <td>2.872093</td>\n",
       "      <td>2.068807</td>\n",
       "      <td>7.827991</td>\n",
       "      <td>10.623468</td>\n",
       "      <td>1.682896</td>\n",
       "    </tr>\n",
       "    <tr>\n",
       "      <th>group_visits</th>\n",
       "      <td>0.224252</td>\n",
       "      <td>0.450459</td>\n",
       "      <td>0.544872</td>\n",
       "      <td>0.492119</td>\n",
       "      <td>0.289638</td>\n",
       "    </tr>\n",
       "    <tr>\n",
       "      <th>age</th>\n",
       "      <td>28.652824</td>\n",
       "      <td>30.055963</td>\n",
       "      <td>29.950855</td>\n",
       "      <td>29.996497</td>\n",
       "      <td>26.922597</td>\n",
       "    </tr>\n",
       "    <tr>\n",
       "      <th>avg_additional_charges_total</th>\n",
       "      <td>135.994298</td>\n",
       "      <td>157.510111</td>\n",
       "      <td>159.006129</td>\n",
       "      <td>164.623351</td>\n",
       "      <td>114.095697</td>\n",
       "    </tr>\n",
       "    <tr>\n",
       "      <th>lifetime</th>\n",
       "      <td>2.976744</td>\n",
       "      <td>4.833945</td>\n",
       "      <td>4.708333</td>\n",
       "      <td>4.654991</td>\n",
       "      <td>0.965044</td>\n",
       "    </tr>\n",
       "    <tr>\n",
       "      <th>avg_class_frequency_total</th>\n",
       "      <td>1.754128</td>\n",
       "      <td>2.043382</td>\n",
       "      <td>2.011738</td>\n",
       "      <td>2.035830</td>\n",
       "      <td>1.482348</td>\n",
       "    </tr>\n",
       "    <tr>\n",
       "      <th>churn</th>\n",
       "      <td>0.408638</td>\n",
       "      <td>0.001835</td>\n",
       "      <td>0.011752</td>\n",
       "      <td>0.005254</td>\n",
       "      <td>0.997503</td>\n",
       "    </tr>\n",
       "  </tbody>\n",
       "</table>\n",
       "</div>"
      ],
      "text/plain": [
       "cluster_km                             0           1           2           3  \\\n",
       "gender                          0.501661    0.522936    0.503205    0.502627   \n",
       "near_location                   0.000000    0.999083    0.992521    0.984238   \n",
       "partner                         0.481728    0.161468    0.916667    0.626970   \n",
       "promo_friends                   0.071429    0.074312    1.000000    0.000000   \n",
       "phone                           0.911960    0.902752    0.903846    0.900175   \n",
       "contract_period                 2.872093    2.068807    7.827991   10.623468   \n",
       "group_visits                    0.224252    0.450459    0.544872    0.492119   \n",
       "age                            28.652824   30.055963   29.950855   29.996497   \n",
       "avg_additional_charges_total  135.994298  157.510111  159.006129  164.623351   \n",
       "lifetime                        2.976744    4.833945    4.708333    4.654991   \n",
       "avg_class_frequency_total       1.754128    2.043382    2.011738    2.035830   \n",
       "churn                           0.408638    0.001835    0.011752    0.005254   \n",
       "\n",
       "cluster_km                             4  \n",
       "gender                          0.513109  \n",
       "near_location                   1.000000  \n",
       "partner                         0.330836  \n",
       "promo_friends                   0.217228  \n",
       "phone                           0.900125  \n",
       "contract_period                 1.682896  \n",
       "group_visits                    0.289638  \n",
       "age                            26.922597  \n",
       "avg_additional_charges_total  114.095697  \n",
       "lifetime                        0.965044  \n",
       "avg_class_frequency_total       1.482348  \n",
       "churn                           0.997503  "
      ]
     },
     "metadata": {},
     "output_type": "display_data"
    }
   ],
   "source": [
    "# выводим статистику по средним значениям наших признаков по кластеру\n",
    "display(df.groupby(['cluster_km']).mean().T)"
   ]
  },
  {
   "cell_type": "markdown",
   "metadata": {},
   "source": [
    "Для по этим данным можно увидеть, что кластеры сильно различаются по:\n",
    "- близости фитнес-центра,\n",
    "- является ли клиент сотрудником компании-партнёра клуба,\n",
    "- пришел ли он по акции \"приведи друга\",\n",
    "- сроку его абонемента,\n",
    "- уровню оттока.  \n",
    "\n",
    "Визуально отобразим различия между кластерами и далее составим [портрет каждого кластера.](#the_destination)"
   ]
  },
  {
   "cell_type": "markdown",
   "metadata": {},
   "source": [
    "### Распределения признаков для кластеров"
   ]
  },
  {
   "cell_type": "markdown",
   "metadata": {},
   "source": [
    "Построим распределения признаков для кластеров."
   ]
  },
  {
   "cell_type": "code",
   "execution_count": 25,
   "metadata": {
    "scrolled": false
   },
   "outputs": [
    {
     "data": {
      "image/png": "[encoded data removed]",
      "text/plain": [
       "<Figure size 720x360 with 1 Axes>"
      ]
     },
     "metadata": {
      "needs_background": "light"
     },
     "output_type": "display_data"
    },
    {
     "data": {
      "image/png": "[encoded data removed]",
      "text/plain": [
       "<Figure size 720x360 with 1 Axes>"
      ]
     },
     "metadata": {
      "needs_background": "light"
     },
     "output_type": "display_data"
    },
    {
     "data": {
      "image/png": "[encoded data removed]",
      "text/plain": [
       "<Figure size 720x360 with 1 Axes>"
      ]
     },
     "metadata": {
      "needs_background": "light"
     },
     "output_type": "display_data"
    },
    {
     "data": {
      "image/png": "[encoded data removed]",
      "text/plain": [
       "<Figure size 720x360 with 1 Axes>"
      ]
     },
     "metadata": {
      "needs_background": "light"
     },
     "output_type": "display_data"
    },
    {
     "data": {
      "image/png": "[encoded data removed]",
      "text/plain": [
       "<Figure size 720x360 with 1 Axes>"
      ]
     },
     "metadata": {
      "needs_background": "light"
     },
     "output_type": "display_data"
    },
    {
     "data": {
      "image/png": "[encoded data removed]",
      "text/plain": [
       "<Figure size 720x360 with 1 Axes>"
      ]
     },
     "metadata": {
      "needs_background": "light"
     },
     "output_type": "display_data"
    },
    {
     "data": {
      "image/png": "[encoded data removed]",
      "text/plain": [
       "<Figure size 720x360 with 1 Axes>"
      ]
     },
     "metadata": {
      "needs_background": "light"
     },
     "output_type": "display_data"
    },
    {
     "data": {
      "image/png": "[encoded data removed]",
      "text/plain": [
       "<Figure size 720x360 with 1 Axes>"
      ]
     },
     "metadata": {
      "needs_background": "light"
     },
     "output_type": "display_data"
    },
    {
     "data": {
      "image/png": "[encoded data removed]",
      "text/plain": [
       "<Figure size 720x360 with 1 Axes>"
      ]
     },
     "metadata": {
      "needs_background": "light"
     },
     "output_type": "display_data"
    }
   ],
   "source": [
    "for column in ['gender', 'near_location', 'partner', \n",
    "                'promo_friends', 'phone',\n",
    "                'contract_period', 'group_visits', 'age', 'lifetime']:\n",
    "    plt.figure(figsize=(10, 5))\n",
    "    sns.countplot(x = df[column], hue='cluster_km', data=df)\n",
    "    plt.title(column)\n",
    "    plt.show()"
   ]
  },
  {
   "cell_type": "code",
   "execution_count": 26,
   "metadata": {},
   "outputs": [
    {
     "data": {
      "image/png": "[encoded data removed]",
      "text/plain": [
       "<Figure size 720x360 with 1 Axes>"
      ]
     },
     "metadata": {
      "needs_background": "light"
     },
     "output_type": "display_data"
    },
    {
     "data": {
      "image/png": "[encoded data removed]",
      "text/plain": [
       "<Figure size 720x360 with 1 Axes>"
      ]
     },
     "metadata": {
      "needs_background": "light"
     },
     "output_type": "display_data"
    }
   ],
   "source": [
    "for column in ['avg_additional_charges_total', 'avg_class_frequency_total']:\n",
    "    plt.figure(figsize=(10, 5))\n",
    "    sns.boxplot(x = 'cluster_km', y = df[column], data=df)\n",
    "    plt.title(column)\n",
    "    plt.show()"
   ]
  },
  {
   "cell_type": "markdown",
   "metadata": {},
   "source": [
    "<a id='the_destination'></a>\n",
    "\n",
    "Выделим основные различия между кластерами, которые бросаются в галаза: <a id='the_destination'></a>\n",
    "\n",
    "**Кластер 0**\n",
    "* живет/работает далеко от фитнес-центра,\n",
    "* не был участником акции \"приведи друга\", \n",
    "* абонемент около 1 месяца, \n",
    "* редко посещает групповые занятия, \n",
    "* возраст в среднем 28 лет, \n",
    "* доход от прочих услуг центра средний (135), \n",
    "* время с момента первого обращения в фитнес-центр 3 месяца, \n",
    "* высокий уровень оттока (0.41)\n",
    "\n",
    "**Кластер 1** \n",
    "* проживает или работает в районе, где находится фитнес-центр, \n",
    "* не является сотрудником компании-партнёра клуба,\n",
    "* не являются участником акции \"приведи друга\",\n",
    "* абонемент около 1 месяца,\n",
    "* любят групповые занятия,\n",
    "* возраст в среднем 30 лет,\n",
    "* доход от прочих услуг центра высокий (157),\n",
    "* время с момента первого обращения в фитнес-центр 5 месяцев,\n",
    "* низкий уровень оттока (0.002)\n",
    "\n",
    "**Кластер 2** \n",
    "* проживает или работает в районе, где находится фитнес-центр,\n",
    "* сотрудник компании-партнёра клуба,\n",
    "* чаще всего приходят по приглашению друзей,\n",
    "* абонемент около 6 - 12 месяцев,\n",
    "* любят групповые занятия,\n",
    "* возраст в среднем 30 лет,\n",
    "* доход от прочих услуг центра высокий (159),\n",
    "* время с момента первого обращения в фитнес-центр 4-5 месяцев,\n",
    "* низкий уровень оттока (0.01)\n",
    "\n",
    "\n",
    "**Кластер 3** \n",
    "* проживает или работает в районе, где находится фитнес-центр,\n",
    "* чаще всего сотрудник компании-партнёра клуба, \n",
    "* не является участником акции \"приведи друга\",\n",
    "* абонемент около 1 года,\n",
    "* любят групповые занятия,\n",
    "* возраст в среднем 30 лет,\n",
    "* доход от прочих услуг центра высокий (164),\n",
    "* время с момента первого обращения в фитнес-центр 4-5 месяцев,\n",
    "* низкий уровень оттока (0.005)\n",
    "\n",
    "\n",
    "**Кластер 4** \n",
    "* проживает или работает в районе, где находится фитнес-центр,\n",
    "* редко является сотрудником компании-партнёра клуба,\n",
    "* редко приходят по приглашению друзей,\n",
    "* абонемент около 1 месяца,\n",
    "* редко посещают групповые занятия, \n",
    "* возраст в среднем 27 лет,\n",
    "* доход от прочих услуг центра низкий (114),\n",
    "* время с момента первого обращения в фитнес-центр 1 месяц,\n",
    "* самый высокий уровень оттока (0.99)"
   ]
  },
  {
   "cell_type": "code",
   "execution_count": 27,
   "metadata": {},
   "outputs": [
    {
     "data": {
      "text/html": [
       "<div>\n",
       "<style scoped>\n",
       "    .dataframe tbody tr th:only-of-type {\n",
       "        vertical-align: middle;\n",
       "    }\n",
       "\n",
       "    .dataframe tbody tr th {\n",
       "        vertical-align: top;\n",
       "    }\n",
       "\n",
       "    .dataframe thead th {\n",
       "        text-align: right;\n",
       "    }\n",
       "</style>\n",
       "<table border=\"1\" class=\"dataframe\">\n",
       "  <thead>\n",
       "    <tr style=\"text-align: right;\">\n",
       "      <th></th>\n",
       "      <th>churn_sum</th>\n",
       "      <th>total_amount</th>\n",
       "      <th>churn_rate</th>\n",
       "    </tr>\n",
       "    <tr>\n",
       "      <th>cluster_km</th>\n",
       "      <th></th>\n",
       "      <th></th>\n",
       "      <th></th>\n",
       "    </tr>\n",
       "  </thead>\n",
       "  <tbody>\n",
       "    <tr>\n",
       "      <th>0</th>\n",
       "      <td>246</td>\n",
       "      <td>602</td>\n",
       "      <td>0.408638</td>\n",
       "    </tr>\n",
       "    <tr>\n",
       "      <th>1</th>\n",
       "      <td>2</td>\n",
       "      <td>1090</td>\n",
       "      <td>0.001835</td>\n",
       "    </tr>\n",
       "    <tr>\n",
       "      <th>2</th>\n",
       "      <td>11</td>\n",
       "      <td>936</td>\n",
       "      <td>0.011752</td>\n",
       "    </tr>\n",
       "    <tr>\n",
       "      <th>3</th>\n",
       "      <td>3</td>\n",
       "      <td>571</td>\n",
       "      <td>0.005254</td>\n",
       "    </tr>\n",
       "    <tr>\n",
       "      <th>4</th>\n",
       "      <td>799</td>\n",
       "      <td>801</td>\n",
       "      <td>0.997503</td>\n",
       "    </tr>\n",
       "  </tbody>\n",
       "</table>\n",
       "</div>"
      ],
      "text/plain": [
       "            churn_sum  total_amount  churn_rate\n",
       "cluster_km                                     \n",
       "0                 246           602    0.408638\n",
       "1                   2          1090    0.001835\n",
       "2                  11           936    0.011752\n",
       "3                   3           571    0.005254\n",
       "4                 799           801    0.997503"
      ]
     },
     "execution_count": 27,
     "metadata": {},
     "output_type": "execute_result"
    }
   ],
   "source": [
    "# Посчитаем долю оттока для каждого кластера\n",
    "churn_rate = df.groupby('cluster_km').agg({'churn':['sum', 'count', 'mean']})\n",
    "churn_rate.columns = ['churn_sum', 'total_amount', 'churn_rate'] \n",
    "churn_rate"
   ]
  },
  {
   "cell_type": "markdown",
   "metadata": {},
   "source": [
    "Кластер с самой большой долей оттока №4 (0.99), таеже достаточно сильный отток у кластера №0 (0.40). Самые надежные кластеры №3, №1 и №2."
   ]
  },
  {
   "cell_type": "markdown",
   "metadata": {},
   "source": [
    "### Вывод\n",
    "\n",
    "Мы выделили 5 кластеров клиентов.\n",
    "Кластеры сильно различаются по:\n",
    "- близости фитнес-центра,\n",
    "- является ли клиент сотрудником компании-партнёра клуба,\n",
    "- пришел ли он по акции \"приведи друга\",\n",
    "- сроку его абонемента,\n",
    "- уровню оттока.  \n",
    "\n",
    "Составили [портрет каждого кластера.](#the_destination)\n",
    "\n",
    "Кластер с самой большой долей оттока №4 (0.99), таеже достаточно сильный отток у кластера №0 (0.40). Самые надежные кластеры №3, №1 и №2.\n",
    "\n",
    "Приведем признаки клиентов, входящих в кластеры с высоким оттоком:\n",
    "\n",
    "**Кластер 4** \n",
    "* проживает или работает в районе, где находится фитнес-центр,\n",
    "* редко является сотрудником компании-партнёра клуба,\n",
    "* редко приходят по приглашению друзей,\n",
    "* абонемент около 1 месяца,\n",
    "* редко посещают групповые занятия, \n",
    "* возраст в среднем 27 лет,\n",
    "* доход от прочих услуг центра низкий (114),\n",
    "* время с момента первого обращения в фитнес-центр 1 месяц,\n",
    "* самый высокий уровень оттока (0.99)\n",
    "\n",
    "**Кластер 0**\n",
    "* живет/работает далеко от фитнес-центра,\n",
    "* не был участником акции \"приведи друга\", \n",
    "* абонемент около 1 месяца, \n",
    "* редко посещает групповые занятия, \n",
    "* возраст в среднем 28 лет, \n",
    "* доход от прочих услуг центра средний (135), \n",
    "* время с момента первого обращения в фитнес-центр 3 месяца, \n",
    "* высокий уровень оттока (0.41)"
   ]
  },
  {
   "cell_type": "markdown",
   "metadata": {},
   "source": [
    "## Выводы и базовые рекомендации по работе с клиентами"
   ]
  },
  {
   "cell_type": "markdown",
   "metadata": {},
   "source": [
    "По описанию данных можно выделить такие средние показатели как:\n",
    "- разделение по полу практически поровну\n",
    "- большинство клиентов живут или работают рядом с фитнес-центром\n",
    "- около половины клиентов сотрудники компании-партнёра клуба\n",
    "- около 30% использовали промо-код от знакомого при оплате первого абонемента\n",
    "- около 90% оставляют телефоны\n",
    "- более 50% приобрели абонементы на 1 месяц, в среднем период абонемента 4,68.\n",
    "- около 40% ходят на групповые занятия\n",
    "- средний возраст 29 лет\n",
    "- средняя сумма, оставляемая центру за доп услуги 146\n",
    "- средний срок до окончания текущего действующего абонемента 4,3 в месяцев\n",
    "- среднее время с момента первого обращения в фитнес-центр 3,7 месяцев\n",
    "- средняя частота посещений в неделю за все время с начала действия абонемента 1.88\n",
    "- средняя частота посещений в неделю за предыдущий месяц 1.76\n",
    "- средний отток 26%\n",
    "\n",
    "\n",
    "По метрикам: accuracy, precision, recall, F1_score делаем вывод, что модель **логистической регрессии** показала себя лучше, чем модель случайного леса.\n",
    "\n",
    "\n",
    "Были выделены 5 кластеров клиентов.\n",
    "Кластеры сильно различаются по:\n",
    "- близости фитнес-центра,\n",
    "- является ли клиент сотрудником компании-партнёра клуба,\n",
    "- пришел ли он по акции \"приведи друга\",\n",
    "- сроку его абонемента,\n",
    "- уровню оттока.  \n",
    "\n",
    "Кластер с самой большой долей оттока №4 (0.99), таеже достаточно сильный отток у кластера №0 (0.40). Самые надежные кластеры №3, №1 и №2.\n",
    "\n",
    "Приведем признаки клиентов, входящих в кластеры с высоким оттоком:\n",
    "\n",
    "**Кластер 4** \n",
    "* проживает или работает в районе, где находится фитнес-центр,\n",
    "* редко является сотрудником компании-партнёра клуба,\n",
    "* редко приходят по приглашению друзей,\n",
    "* абонемент около 1 месяца,\n",
    "* редко посещают групповые занятия, \n",
    "* возраст в среднем 27 лет,\n",
    "* доход от прочих услуг центра низкий (114),\n",
    "* время с момента первого обращения в фитнес-центр 1 месяц,\n",
    "* самый высокий уровень оттока (0.99)\n",
    "\n",
    "**Кластер 0**\n",
    "* живет/работает далеко от фитнес-центра,\n",
    "* не был участником акции \"приведи друга\", \n",
    "* абонемент около 1 месяца, \n",
    "* редко посещает групповые занятия, \n",
    "* возраст в среднем 28 лет, \n",
    "* доход от прочих услуг центра средний (135), \n",
    "* время с момента первого обращения в фитнес-центр 3 месяца, \n",
    "* высокий уровень оттока (0.41)\n",
    "\n",
    "Таким образом можно выделить несколько признаков, которые разнятся у тех, кто ушел в отток (в отличие от тех, кто не ушёл):\n",
    "- проживание/работа далеко от фитнес-центра\n",
    "- сумма, оставляемая центру за доп услуги маньше 114-135\n",
    "- срок абонемента на 1 месяц \n",
    "- редко посещает групповые и основные занятия \n",
    "- с момента первого обращения в фитнес-центр они недолго задерживаются, в основном уходят в первые месяцы\n",
    "- возраст в среднем 27-28 лет.\n",
    "\n",
    "Рекоммендации для стратегии взаимодействия с клиентами и их удержания:\n",
    "- Возможно клиентов можно стимулировать к покупке абонемента на более длительный срок, особенно, если он пришел не по акции \"приведи друга\", ведь он и так уже чем-то обделен в отличие от остальных клиентов (правда мы не знаем в чем заключались условия акции). \n",
    "- В первых месяцах у нас наблюдаются главные потери, возможно стоит уделять больше внимания как раз новичкам, возможно те же акции, приятные бонусы, которых нет в других фитнес-центрах или помощь тренеров, первые бесплатные консультации.\n",
    "- Те клиенты, которые чаще посещяют групповые занятия, возможно, находят там друзей или подходящего тренера, возможно клиент не сразу понимает какую группу ему посетить, посещает одну и забрасывает это, поэтому нужно дать ему шанс побывать в разных группах, возможно собирать обратную связь у новичков, чтобы подобрать им подходящую. "
   ]
  }
 ],
 "metadata": {
  "ExecuteTimeLog": [
   {
    "duration": 61,
    "start_time": "2022-07-18T10:02:04.029Z"
   },
   {
    "duration": 367,
    "start_time": "2022-07-18T10:02:06.964Z"
   },
   {
    "duration": 110,
    "start_time": "2022-07-18T10:02:08.295Z"
   },
   {
    "duration": 25,
    "start_time": "2022-07-18T10:02:16.779Z"
   },
   {
    "duration": 4,
    "start_time": "2022-07-18T10:03:33.994Z"
   },
   {
    "duration": 68,
    "start_time": "2022-07-18T10:03:47.635Z"
   },
   {
    "duration": 34,
    "start_time": "2022-07-18T10:07:55.951Z"
   },
   {
    "duration": 4,
    "start_time": "2022-07-18T10:08:02.316Z"
   },
   {
    "duration": 2,
    "start_time": "2022-07-18T13:52:01.053Z"
   },
   {
    "duration": 12,
    "start_time": "2022-07-18T13:53:27.741Z"
   },
   {
    "duration": 6,
    "start_time": "2022-07-18T13:54:15.464Z"
   },
   {
    "duration": 175,
    "start_time": "2022-07-18T13:54:43.349Z"
   },
   {
    "duration": 7,
    "start_time": "2022-07-18T13:54:55.368Z"
   },
   {
    "duration": 265,
    "start_time": "2022-07-18T13:57:33.789Z"
   },
   {
    "duration": 2,
    "start_time": "2022-07-18T13:58:02.975Z"
   },
   {
    "duration": 134,
    "start_time": "2022-07-18T13:58:04.713Z"
   },
   {
    "duration": 2,
    "start_time": "2022-07-18T13:58:17.977Z"
   },
   {
    "duration": 230,
    "start_time": "2022-07-18T13:58:20.070Z"
   },
   {
    "duration": 12,
    "start_time": "2022-07-18T13:59:20.553Z"
   },
   {
    "duration": 21,
    "start_time": "2022-07-18T13:59:29.326Z"
   },
   {
    "duration": 25,
    "start_time": "2022-07-18T14:00:53.685Z"
   },
   {
    "duration": 7,
    "start_time": "2022-07-18T14:01:02.929Z"
   },
   {
    "duration": 7,
    "start_time": "2022-07-18T14:01:36.509Z"
   },
   {
    "duration": 7,
    "start_time": "2022-07-18T14:02:07.987Z"
   },
   {
    "duration": 30,
    "start_time": "2022-07-18T14:02:14.709Z"
   },
   {
    "duration": 22,
    "start_time": "2022-07-18T14:02:52.089Z"
   },
   {
    "duration": 10,
    "start_time": "2022-07-18T14:03:12.841Z"
   },
   {
    "duration": 25,
    "start_time": "2022-07-18T14:03:19.921Z"
   },
   {
    "duration": 23,
    "start_time": "2022-07-18T14:03:29.782Z"
   },
   {
    "duration": 27,
    "start_time": "2022-07-18T14:03:38.797Z"
   },
   {
    "duration": 21,
    "start_time": "2022-07-18T14:13:15.110Z"
   },
   {
    "duration": 22,
    "start_time": "2022-07-18T14:13:27.438Z"
   },
   {
    "duration": 12,
    "start_time": "2022-07-18T14:16:03.122Z"
   },
   {
    "duration": 10,
    "start_time": "2022-07-18T14:16:08.366Z"
   },
   {
    "duration": 4,
    "start_time": "2022-07-18T14:16:13.457Z"
   },
   {
    "duration": 4,
    "start_time": "2022-07-18T15:36:05.931Z"
   },
   {
    "duration": 3,
    "start_time": "2022-07-18T15:36:17.656Z"
   },
   {
    "duration": 9,
    "start_time": "2022-07-18T15:36:30.558Z"
   },
   {
    "duration": 9,
    "start_time": "2022-07-18T15:36:51.667Z"
   },
   {
    "duration": 9,
    "start_time": "2022-07-18T15:54:59.684Z"
   },
   {
    "duration": 7,
    "start_time": "2022-07-18T15:56:34.393Z"
   },
   {
    "duration": 3,
    "start_time": "2022-07-18T15:56:38.349Z"
   },
   {
    "duration": 8,
    "start_time": "2022-07-18T16:12:43.742Z"
   },
   {
    "duration": 6,
    "start_time": "2022-07-18T16:13:12.133Z"
   },
   {
    "duration": 9,
    "start_time": "2022-07-18T16:15:07.899Z"
   },
   {
    "duration": 11,
    "start_time": "2022-07-18T16:15:17.447Z"
   },
   {
    "duration": 397,
    "start_time": "2022-07-19T11:56:08.599Z"
   },
   {
    "duration": 110,
    "start_time": "2022-07-19T11:56:08.998Z"
   },
   {
    "duration": 30,
    "start_time": "2022-07-19T11:56:09.110Z"
   },
   {
    "duration": 6,
    "start_time": "2022-07-19T11:56:09.142Z"
   },
   {
    "duration": 120,
    "start_time": "2022-07-19T11:56:09.151Z"
   },
   {
    "duration": 5,
    "start_time": "2022-07-19T11:56:09.273Z"
   },
   {
    "duration": 46,
    "start_time": "2022-07-19T11:56:09.280Z"
   },
   {
    "duration": 11,
    "start_time": "2022-07-19T11:56:09.328Z"
   },
   {
    "duration": 13,
    "start_time": "2022-07-19T11:59:59.493Z"
   },
   {
    "duration": 19,
    "start_time": "2022-07-19T12:00:36.957Z"
   },
   {
    "duration": 26,
    "start_time": "2022-07-19T12:05:51.978Z"
   },
   {
    "duration": 73,
    "start_time": "2022-07-19T12:06:53.068Z"
   },
   {
    "duration": 19,
    "start_time": "2022-07-19T12:07:04.464Z"
   },
   {
    "duration": 23,
    "start_time": "2022-07-19T12:09:28.290Z"
   },
   {
    "duration": 1772,
    "start_time": "2022-07-19T12:10:48.480Z"
   },
   {
    "duration": 66,
    "start_time": "2022-07-19T12:11:52.755Z"
   },
   {
    "duration": 53,
    "start_time": "2022-07-19T12:12:10.869Z"
   },
   {
    "duration": 1479,
    "start_time": "2022-07-19T12:12:16.148Z"
   },
   {
    "duration": 1451,
    "start_time": "2022-07-19T12:13:35.545Z"
   },
   {
    "duration": 1418,
    "start_time": "2022-07-19T12:13:55.252Z"
   },
   {
    "duration": 1621,
    "start_time": "2022-07-19T12:17:33.673Z"
   },
   {
    "duration": 1721,
    "start_time": "2022-07-19T12:17:59.884Z"
   },
   {
    "duration": 458,
    "start_time": "2022-07-19T12:18:35.764Z"
   },
   {
    "duration": 711,
    "start_time": "2022-07-19T12:18:49.281Z"
   },
   {
    "duration": 611,
    "start_time": "2022-07-19T12:18:57.772Z"
   },
   {
    "duration": 1526,
    "start_time": "2022-07-19T12:19:20.805Z"
   },
   {
    "duration": 153,
    "start_time": "2022-07-19T12:42:50.753Z"
   },
   {
    "duration": 1448,
    "start_time": "2022-07-19T12:47:22.778Z"
   },
   {
    "duration": 1566,
    "start_time": "2022-07-19T12:47:50.239Z"
   },
   {
    "duration": 1730,
    "start_time": "2022-07-19T12:48:03.289Z"
   },
   {
    "duration": 711,
    "start_time": "2022-07-19T12:50:41.295Z"
   },
   {
    "duration": 348,
    "start_time": "2022-07-19T12:52:29.374Z"
   },
   {
    "duration": 847,
    "start_time": "2022-07-19T12:57:11.166Z"
   },
   {
    "duration": 0,
    "start_time": "2022-07-19T13:01:29.158Z"
   },
   {
    "duration": 2788,
    "start_time": "2022-07-19T13:01:31.947Z"
   },
   {
    "duration": 433,
    "start_time": "2022-07-19T13:04:37.878Z"
   },
   {
    "duration": 370,
    "start_time": "2022-07-19T13:04:52.211Z"
   },
   {
    "duration": 628,
    "start_time": "2022-07-19T13:07:36.973Z"
   },
   {
    "duration": 391,
    "start_time": "2022-07-19T13:23:46.463Z"
   },
   {
    "duration": 437,
    "start_time": "2022-07-19T13:40:22.633Z"
   },
   {
    "duration": 423,
    "start_time": "2022-07-19T13:46:47.732Z"
   },
   {
    "duration": 438,
    "start_time": "2022-07-19T13:47:48.503Z"
   },
   {
    "duration": 293,
    "start_time": "2022-07-19T13:49:47.791Z"
   },
   {
    "duration": 166,
    "start_time": "2022-07-19T13:50:31.171Z"
   },
   {
    "duration": 172,
    "start_time": "2022-07-19T13:51:07.924Z"
   },
   {
    "duration": 138,
    "start_time": "2022-07-19T13:51:15.873Z"
   },
   {
    "duration": 2200,
    "start_time": "2022-07-19T13:53:32.600Z"
   },
   {
    "duration": 2318,
    "start_time": "2022-07-19T13:53:38.093Z"
   },
   {
    "duration": 605,
    "start_time": "2022-07-19T13:54:11.419Z"
   },
   {
    "duration": 470,
    "start_time": "2022-07-19T13:54:23.801Z"
   },
   {
    "duration": 618,
    "start_time": "2022-07-19T13:54:35.523Z"
   },
   {
    "duration": 401,
    "start_time": "2022-07-19T14:50:42.033Z"
   },
   {
    "duration": 7,
    "start_time": "2022-07-19T14:50:44.674Z"
   },
   {
    "duration": 7,
    "start_time": "2022-07-19T14:50:45.532Z"
   },
   {
    "duration": 36,
    "start_time": "2022-07-19T14:50:46.231Z"
   },
   {
    "duration": 4,
    "start_time": "2022-07-19T14:51:00.278Z"
   },
   {
    "duration": 4,
    "start_time": "2022-07-19T14:51:17.265Z"
   },
   {
    "duration": 3,
    "start_time": "2022-07-19T14:51:20.760Z"
   },
   {
    "duration": 24,
    "start_time": "2022-07-19T14:51:21.886Z"
   },
   {
    "duration": 71,
    "start_time": "2022-07-19T14:51:28.576Z"
   },
   {
    "duration": 5,
    "start_time": "2022-07-19T14:51:30.962Z"
   },
   {
    "duration": 204,
    "start_time": "2022-07-19T14:52:59.651Z"
   },
   {
    "duration": 13,
    "start_time": "2022-07-19T14:54:29.802Z"
   },
   {
    "duration": 3,
    "start_time": "2022-07-19T14:54:34.740Z"
   },
   {
    "duration": 15,
    "start_time": "2022-07-19T14:54:40.445Z"
   },
   {
    "duration": 59,
    "start_time": "2022-07-20T09:44:08.961Z"
   },
   {
    "duration": 1244,
    "start_time": "2022-07-20T09:44:42.874Z"
   },
   {
    "duration": 70,
    "start_time": "2022-07-20T09:44:44.120Z"
   },
   {
    "duration": 23,
    "start_time": "2022-07-20T09:44:44.192Z"
   },
   {
    "duration": 4,
    "start_time": "2022-07-20T09:44:44.217Z"
   },
   {
    "duration": 74,
    "start_time": "2022-07-20T09:44:44.223Z"
   },
   {
    "duration": 4,
    "start_time": "2022-07-20T09:44:44.299Z"
   },
   {
    "duration": 34,
    "start_time": "2022-07-20T09:44:44.310Z"
   },
   {
    "duration": 17,
    "start_time": "2022-07-20T09:44:44.346Z"
   },
   {
    "duration": 331,
    "start_time": "2022-07-20T09:44:44.365Z"
   },
   {
    "duration": 1946,
    "start_time": "2022-07-20T09:44:44.699Z"
   },
   {
    "duration": 551,
    "start_time": "2022-07-20T09:44:46.646Z"
   },
   {
    "duration": 276,
    "start_time": "2022-07-20T09:44:47.198Z"
   },
   {
    "duration": 142,
    "start_time": "2022-07-20T09:44:47.476Z"
   },
   {
    "duration": 22,
    "start_time": "2022-07-20T09:44:47.622Z"
   },
   {
    "duration": 1684,
    "start_time": "2022-07-20T09:44:47.646Z"
   },
   {
    "duration": 252,
    "start_time": "2022-07-20T09:44:49.332Z"
   },
   {
    "duration": 5,
    "start_time": "2022-07-20T09:44:49.586Z"
   },
   {
    "duration": 17,
    "start_time": "2022-07-20T09:44:49.593Z"
   },
   {
    "duration": 12,
    "start_time": "2022-07-20T09:44:49.612Z"
   },
   {
    "duration": 39,
    "start_time": "2022-07-20T09:44:49.625Z"
   },
   {
    "duration": 158,
    "start_time": "2022-07-20T09:44:49.666Z"
   },
   {
    "duration": 10,
    "start_time": "2022-07-20T09:44:49.827Z"
   },
   {
    "duration": 4,
    "start_time": "2022-07-20T09:44:49.839Z"
   },
   {
    "duration": 849,
    "start_time": "2022-07-20T09:44:49.845Z"
   },
   {
    "duration": 749,
    "start_time": "2022-07-20T09:45:08.178Z"
   },
   {
    "duration": 663,
    "start_time": "2022-07-20T09:45:36.218Z"
   },
   {
    "duration": 737,
    "start_time": "2022-07-20T09:45:53.931Z"
   },
   {
    "duration": 346,
    "start_time": "2022-07-20T09:49:42.023Z"
   },
   {
    "duration": 339,
    "start_time": "2022-07-20T09:49:50.859Z"
   },
   {
    "duration": 8,
    "start_time": "2022-07-20T09:52:33.187Z"
   },
   {
    "duration": 1116,
    "start_time": "2022-07-20T09:52:48.164Z"
   },
   {
    "duration": 37,
    "start_time": "2022-07-20T09:52:49.282Z"
   },
   {
    "duration": 20,
    "start_time": "2022-07-20T09:52:49.321Z"
   },
   {
    "duration": 6,
    "start_time": "2022-07-20T09:52:49.343Z"
   },
   {
    "duration": 81,
    "start_time": "2022-07-20T09:52:49.350Z"
   },
   {
    "duration": 4,
    "start_time": "2022-07-20T09:52:49.433Z"
   },
   {
    "duration": 33,
    "start_time": "2022-07-20T09:52:49.438Z"
   },
   {
    "duration": 19,
    "start_time": "2022-07-20T09:52:49.473Z"
   },
   {
    "duration": 317,
    "start_time": "2022-07-20T09:52:49.494Z"
   },
   {
    "duration": 1847,
    "start_time": "2022-07-20T09:52:49.814Z"
   },
   {
    "duration": 534,
    "start_time": "2022-07-20T09:52:51.663Z"
   },
   {
    "duration": 262,
    "start_time": "2022-07-20T09:52:52.199Z"
   },
   {
    "duration": 134,
    "start_time": "2022-07-20T09:52:52.463Z"
   },
   {
    "duration": 31,
    "start_time": "2022-07-20T09:52:52.599Z"
   },
   {
    "duration": 1522,
    "start_time": "2022-07-20T09:52:52.632Z"
   },
   {
    "duration": 269,
    "start_time": "2022-07-20T09:52:54.156Z"
   },
   {
    "duration": 4,
    "start_time": "2022-07-20T09:52:54.427Z"
   },
   {
    "duration": 6,
    "start_time": "2022-07-20T09:52:54.433Z"
   },
   {
    "duration": 4,
    "start_time": "2022-07-20T09:52:54.441Z"
   },
   {
    "duration": 30,
    "start_time": "2022-07-20T09:52:54.447Z"
   },
   {
    "duration": 45,
    "start_time": "2022-07-20T09:52:54.479Z"
   },
   {
    "duration": 111,
    "start_time": "2022-07-20T09:52:54.526Z"
   },
   {
    "duration": 375,
    "start_time": "2022-07-20T09:52:54.640Z"
   },
   {
    "duration": 1190,
    "start_time": "2022-07-20T09:53:52.148Z"
   },
   {
    "duration": 33,
    "start_time": "2022-07-20T09:53:53.339Z"
   },
   {
    "duration": 20,
    "start_time": "2022-07-20T09:53:53.374Z"
   },
   {
    "duration": 5,
    "start_time": "2022-07-20T09:53:53.396Z"
   },
   {
    "duration": 67,
    "start_time": "2022-07-20T09:53:53.402Z"
   },
   {
    "duration": 4,
    "start_time": "2022-07-20T09:53:53.470Z"
   },
   {
    "duration": 28,
    "start_time": "2022-07-20T09:53:53.475Z"
   },
   {
    "duration": 30,
    "start_time": "2022-07-20T09:53:53.504Z"
   },
   {
    "duration": 304,
    "start_time": "2022-07-20T09:53:53.536Z"
   },
   {
    "duration": 1945,
    "start_time": "2022-07-20T09:53:53.843Z"
   },
   {
    "duration": 559,
    "start_time": "2022-07-20T09:53:55.790Z"
   },
   {
    "duration": 277,
    "start_time": "2022-07-20T09:53:56.350Z"
   },
   {
    "duration": 136,
    "start_time": "2022-07-20T09:53:56.629Z"
   },
   {
    "duration": 20,
    "start_time": "2022-07-20T09:53:56.766Z"
   },
   {
    "duration": 1553,
    "start_time": "2022-07-20T09:53:56.788Z"
   },
   {
    "duration": 246,
    "start_time": "2022-07-20T09:53:58.343Z"
   },
   {
    "duration": 4,
    "start_time": "2022-07-20T09:53:58.590Z"
   },
   {
    "duration": 8,
    "start_time": "2022-07-20T09:53:58.596Z"
   },
   {
    "duration": 5,
    "start_time": "2022-07-20T09:53:58.605Z"
   },
   {
    "duration": 32,
    "start_time": "2022-07-20T09:53:58.612Z"
   },
   {
    "duration": 10,
    "start_time": "2022-07-20T09:53:58.646Z"
   },
   {
    "duration": 73,
    "start_time": "2022-07-20T09:53:58.657Z"
   },
   {
    "duration": 494,
    "start_time": "2022-07-20T09:53:58.732Z"
   },
   {
    "duration": 3,
    "start_time": "2022-07-20T09:54:45.205Z"
   },
   {
    "duration": 1112,
    "start_time": "2022-07-20T09:54:55.028Z"
   },
   {
    "duration": 33,
    "start_time": "2022-07-20T09:54:56.142Z"
   },
   {
    "duration": 19,
    "start_time": "2022-07-20T09:54:56.176Z"
   },
   {
    "duration": 4,
    "start_time": "2022-07-20T09:54:56.197Z"
   },
   {
    "duration": 69,
    "start_time": "2022-07-20T09:54:56.202Z"
   },
   {
    "duration": 4,
    "start_time": "2022-07-20T09:54:56.272Z"
   },
   {
    "duration": 24,
    "start_time": "2022-07-20T09:54:56.277Z"
   },
   {
    "duration": 36,
    "start_time": "2022-07-20T09:54:56.302Z"
   },
   {
    "duration": 318,
    "start_time": "2022-07-20T09:54:56.340Z"
   },
   {
    "duration": 1910,
    "start_time": "2022-07-20T09:54:56.661Z"
   },
   {
    "duration": 623,
    "start_time": "2022-07-20T09:54:58.573Z"
   },
   {
    "duration": 257,
    "start_time": "2022-07-20T09:54:59.198Z"
   },
   {
    "duration": 133,
    "start_time": "2022-07-20T09:54:59.456Z"
   },
   {
    "duration": 21,
    "start_time": "2022-07-20T09:54:59.591Z"
   },
   {
    "duration": 1533,
    "start_time": "2022-07-20T09:54:59.613Z"
   },
   {
    "duration": 300,
    "start_time": "2022-07-20T09:55:01.147Z"
   },
   {
    "duration": 4,
    "start_time": "2022-07-20T09:55:01.448Z"
   },
   {
    "duration": 28,
    "start_time": "2022-07-20T09:55:01.453Z"
   },
   {
    "duration": 16,
    "start_time": "2022-07-20T09:55:01.482Z"
   },
   {
    "duration": 627,
    "start_time": "2022-07-20T09:55:01.500Z"
   },
   {
    "duration": 91,
    "start_time": "2022-07-20T09:55:02.134Z"
   },
   {
    "duration": 100,
    "start_time": "2022-07-20T09:55:02.227Z"
   },
   {
    "duration": 381,
    "start_time": "2022-07-20T09:55:02.329Z"
   },
   {
    "duration": 3,
    "start_time": "2022-07-20T09:57:10.476Z"
   },
   {
    "duration": 22,
    "start_time": "2022-07-20T09:57:12.797Z"
   },
   {
    "duration": 5,
    "start_time": "2022-07-20T09:57:21.277Z"
   },
   {
    "duration": 9,
    "start_time": "2022-07-20T09:57:23.128Z"
   },
   {
    "duration": 1109,
    "start_time": "2022-07-20T09:58:15.084Z"
   },
   {
    "duration": 34,
    "start_time": "2022-07-20T09:58:16.195Z"
   },
   {
    "duration": 22,
    "start_time": "2022-07-20T09:58:16.230Z"
   },
   {
    "duration": 3,
    "start_time": "2022-07-20T09:58:16.254Z"
   },
   {
    "duration": 89,
    "start_time": "2022-07-20T09:58:16.259Z"
   },
   {
    "duration": 4,
    "start_time": "2022-07-20T09:58:16.350Z"
   },
   {
    "duration": 24,
    "start_time": "2022-07-20T09:58:16.356Z"
   },
   {
    "duration": 17,
    "start_time": "2022-07-20T09:58:16.382Z"
   },
   {
    "duration": 322,
    "start_time": "2022-07-20T09:58:16.401Z"
   },
   {
    "duration": 1860,
    "start_time": "2022-07-20T09:58:16.725Z"
   },
   {
    "duration": 612,
    "start_time": "2022-07-20T09:58:18.587Z"
   },
   {
    "duration": 294,
    "start_time": "2022-07-20T09:58:19.200Z"
   },
   {
    "duration": 154,
    "start_time": "2022-07-20T09:58:19.496Z"
   },
   {
    "duration": 22,
    "start_time": "2022-07-20T09:58:19.652Z"
   },
   {
    "duration": 1587,
    "start_time": "2022-07-20T09:58:19.675Z"
   },
   {
    "duration": 262,
    "start_time": "2022-07-20T09:58:21.263Z"
   },
   {
    "duration": 4,
    "start_time": "2022-07-20T09:58:21.527Z"
   },
   {
    "duration": 35,
    "start_time": "2022-07-20T09:58:21.533Z"
   },
   {
    "duration": 4,
    "start_time": "2022-07-20T09:58:21.570Z"
   },
   {
    "duration": 26,
    "start_time": "2022-07-20T09:58:21.576Z"
   },
   {
    "duration": 22,
    "start_time": "2022-07-20T09:58:21.604Z"
   },
   {
    "duration": 102,
    "start_time": "2022-07-20T09:58:21.628Z"
   },
   {
    "duration": 441,
    "start_time": "2022-07-20T09:58:21.731Z"
   },
   {
    "duration": 59,
    "start_time": "2022-07-20T11:08:26.916Z"
   },
   {
    "duration": 16,
    "start_time": "2022-07-20T11:08:53.051Z"
   },
   {
    "duration": 16,
    "start_time": "2022-07-20T11:09:31.208Z"
   },
   {
    "duration": 16,
    "start_time": "2022-07-20T11:12:40.540Z"
   },
   {
    "duration": 15,
    "start_time": "2022-07-20T11:12:55.388Z"
   },
   {
    "duration": 17,
    "start_time": "2022-07-20T11:13:19.716Z"
   },
   {
    "duration": 16,
    "start_time": "2022-07-20T11:13:28.784Z"
   },
   {
    "duration": 15,
    "start_time": "2022-07-20T11:13:58.278Z"
   },
   {
    "duration": 93,
    "start_time": "2022-07-20T11:14:32.984Z"
   },
   {
    "duration": 14,
    "start_time": "2022-07-20T11:14:51.036Z"
   },
   {
    "duration": 15,
    "start_time": "2022-07-20T11:14:55.823Z"
   },
   {
    "duration": 64,
    "start_time": "2022-07-20T11:15:25.573Z"
   },
   {
    "duration": 14,
    "start_time": "2022-07-20T11:15:29.668Z"
   },
   {
    "duration": 17,
    "start_time": "2022-07-20T11:15:55.809Z"
   },
   {
    "duration": 15,
    "start_time": "2022-07-20T11:16:50.728Z"
   },
   {
    "duration": 13,
    "start_time": "2022-07-20T11:17:02.104Z"
   },
   {
    "duration": 14,
    "start_time": "2022-07-20T11:17:05.867Z"
   },
   {
    "duration": 14,
    "start_time": "2022-07-20T11:17:19.123Z"
   },
   {
    "duration": 14,
    "start_time": "2022-07-20T11:17:32.192Z"
   },
   {
    "duration": 1125,
    "start_time": "2022-07-20T11:18:07.436Z"
   },
   {
    "duration": 35,
    "start_time": "2022-07-20T11:18:08.563Z"
   },
   {
    "duration": 23,
    "start_time": "2022-07-20T11:18:08.600Z"
   },
   {
    "duration": 11,
    "start_time": "2022-07-20T11:18:08.626Z"
   },
   {
    "duration": 93,
    "start_time": "2022-07-20T11:18:08.639Z"
   },
   {
    "duration": 4,
    "start_time": "2022-07-20T11:18:08.734Z"
   },
   {
    "duration": 47,
    "start_time": "2022-07-20T11:18:08.739Z"
   },
   {
    "duration": 22,
    "start_time": "2022-07-20T11:18:08.788Z"
   },
   {
    "duration": 445,
    "start_time": "2022-07-20T11:18:08.823Z"
   },
   {
    "duration": 2036,
    "start_time": "2022-07-20T11:18:09.270Z"
   },
   {
    "duration": 574,
    "start_time": "2022-07-20T11:18:11.308Z"
   },
   {
    "duration": 308,
    "start_time": "2022-07-20T11:18:11.884Z"
   },
   {
    "duration": 148,
    "start_time": "2022-07-20T11:18:12.194Z"
   },
   {
    "duration": 23,
    "start_time": "2022-07-20T11:18:12.345Z"
   },
   {
    "duration": 1535,
    "start_time": "2022-07-20T11:18:12.370Z"
   },
   {
    "duration": 234,
    "start_time": "2022-07-20T11:18:13.907Z"
   },
   {
    "duration": 4,
    "start_time": "2022-07-20T11:18:14.143Z"
   },
   {
    "duration": 11,
    "start_time": "2022-07-20T11:18:14.149Z"
   },
   {
    "duration": 7,
    "start_time": "2022-07-20T11:18:14.161Z"
   },
   {
    "duration": 27,
    "start_time": "2022-07-20T11:18:14.169Z"
   },
   {
    "duration": 30,
    "start_time": "2022-07-20T11:18:14.197Z"
   },
   {
    "duration": 111,
    "start_time": "2022-07-20T11:18:14.228Z"
   },
   {
    "duration": 396,
    "start_time": "2022-07-20T11:18:14.341Z"
   },
   {
    "duration": 13,
    "start_time": "2022-07-20T11:18:14.739Z"
   },
   {
    "duration": 339,
    "start_time": "2022-07-20T11:18:35.059Z"
   },
   {
    "duration": 53,
    "start_time": "2022-07-20T11:20:31.912Z"
   },
   {
    "duration": 51,
    "start_time": "2022-07-20T11:24:37.712Z"
   },
   {
    "duration": 13,
    "start_time": "2022-07-20T11:30:55.220Z"
   },
   {
    "duration": 11,
    "start_time": "2022-07-20T11:30:56.064Z"
   },
   {
    "duration": 17,
    "start_time": "2022-07-20T11:30:58.312Z"
   },
   {
    "duration": 122,
    "start_time": "2022-07-20T12:10:14.479Z"
   },
   {
    "duration": 19,
    "start_time": "2022-07-20T12:10:36.143Z"
   },
   {
    "duration": 17820,
    "start_time": "2022-07-20T12:10:37.643Z"
   },
   {
    "duration": 993,
    "start_time": "2022-07-20T12:11:26.734Z"
   },
   {
    "duration": 1199,
    "start_time": "2022-07-20T12:11:40.131Z"
   },
   {
    "duration": 4,
    "start_time": "2022-07-20T12:18:18.367Z"
   },
   {
    "duration": 117163,
    "start_time": "2022-07-20T12:19:39.176Z"
   },
   {
    "duration": 1374,
    "start_time": "2022-07-20T12:22:32.571Z"
   },
   {
    "duration": 1381,
    "start_time": "2022-07-20T12:22:43.852Z"
   },
   {
    "duration": 1424,
    "start_time": "2022-07-20T13:34:08.159Z"
   },
   {
    "duration": 48,
    "start_time": "2022-07-20T13:34:09.586Z"
   },
   {
    "duration": 35,
    "start_time": "2022-07-20T13:34:09.636Z"
   },
   {
    "duration": 5,
    "start_time": "2022-07-20T13:34:09.672Z"
   },
   {
    "duration": 13,
    "start_time": "2022-07-20T13:34:09.679Z"
   },
   {
    "duration": 92,
    "start_time": "2022-07-20T13:34:09.694Z"
   },
   {
    "duration": 50,
    "start_time": "2022-07-20T13:34:09.788Z"
   },
   {
    "duration": 29,
    "start_time": "2022-07-20T13:34:09.840Z"
   },
   {
    "duration": 375,
    "start_time": "2022-07-20T13:34:09.871Z"
   },
   {
    "duration": 2302,
    "start_time": "2022-07-20T13:34:10.248Z"
   },
   {
    "duration": 647,
    "start_time": "2022-07-20T13:34:12.554Z"
   },
   {
    "duration": 314,
    "start_time": "2022-07-20T13:34:13.204Z"
   },
   {
    "duration": 162,
    "start_time": "2022-07-20T13:34:13.523Z"
   },
   {
    "duration": 22,
    "start_time": "2022-07-20T13:34:13.689Z"
   },
   {
    "duration": 1783,
    "start_time": "2022-07-20T13:34:13.731Z"
   },
   {
    "duration": 305,
    "start_time": "2022-07-20T13:34:15.516Z"
   },
   {
    "duration": 14,
    "start_time": "2022-07-20T13:34:15.822Z"
   },
   {
    "duration": 30,
    "start_time": "2022-07-20T13:34:15.847Z"
   },
   {
    "duration": 15,
    "start_time": "2022-07-20T13:34:15.879Z"
   },
   {
    "duration": 31,
    "start_time": "2022-07-20T13:34:15.896Z"
   },
   {
    "duration": 516,
    "start_time": "2022-07-20T13:34:15.932Z"
   },
   {
    "duration": 19,
    "start_time": "2022-07-20T13:34:16.454Z"
   },
   {
    "duration": 21,
    "start_time": "2022-07-20T13:34:16.474Z"
   },
   {
    "duration": 133300,
    "start_time": "2022-07-20T13:34:16.497Z"
   },
   {
    "duration": 949,
    "start_time": "2022-07-20T13:36:29.799Z"
   },
   {
    "duration": 21,
    "start_time": "2022-07-20T14:52:09.380Z"
   },
   {
    "duration": 1311,
    "start_time": "2022-07-21T08:32:49.290Z"
   },
   {
    "duration": 132,
    "start_time": "2022-07-21T08:32:50.604Z"
   },
   {
    "duration": 23,
    "start_time": "2022-07-21T08:32:50.737Z"
   },
   {
    "duration": 4,
    "start_time": "2022-07-21T08:32:50.762Z"
   },
   {
    "duration": 9,
    "start_time": "2022-07-21T08:32:50.767Z"
   },
   {
    "duration": 95,
    "start_time": "2022-07-21T08:32:50.777Z"
   },
   {
    "duration": 27,
    "start_time": "2022-07-21T08:32:50.874Z"
   },
   {
    "duration": 48,
    "start_time": "2022-07-21T08:32:50.903Z"
   },
   {
    "duration": 336,
    "start_time": "2022-07-21T08:32:50.953Z"
   },
   {
    "duration": 2107,
    "start_time": "2022-07-21T08:32:51.292Z"
   },
   {
    "duration": 585,
    "start_time": "2022-07-21T08:32:53.400Z"
   },
   {
    "duration": 297,
    "start_time": "2022-07-21T08:32:53.986Z"
   },
   {
    "duration": 151,
    "start_time": "2022-07-21T08:32:54.285Z"
   },
   {
    "duration": 22,
    "start_time": "2022-07-21T08:32:54.440Z"
   },
   {
    "duration": 1678,
    "start_time": "2022-07-21T08:32:54.464Z"
   },
   {
    "duration": 274,
    "start_time": "2022-07-21T08:32:56.144Z"
   },
   {
    "duration": 4,
    "start_time": "2022-07-21T08:32:56.420Z"
   },
   {
    "duration": 15,
    "start_time": "2022-07-21T08:32:56.426Z"
   },
   {
    "duration": 11,
    "start_time": "2022-07-21T08:32:56.443Z"
   },
   {
    "duration": 14,
    "start_time": "2022-07-21T08:32:56.456Z"
   },
   {
    "duration": 531,
    "start_time": "2022-07-21T08:32:56.473Z"
   },
   {
    "duration": 15,
    "start_time": "2022-07-21T08:32:57.005Z"
   },
   {
    "duration": 33,
    "start_time": "2022-07-21T08:32:57.022Z"
   },
   {
    "duration": 123628,
    "start_time": "2022-07-21T08:32:57.057Z"
   },
   {
    "duration": 1556,
    "start_time": "2022-07-21T08:35:00.687Z"
   },
   {
    "duration": 99,
    "start_time": "2022-07-21T08:35:02.245Z"
   },
   {
    "duration": 13,
    "start_time": "2022-07-21T08:37:03.482Z"
   },
   {
    "duration": 8,
    "start_time": "2022-07-21T08:37:51.602Z"
   },
   {
    "duration": 6,
    "start_time": "2022-07-21T08:38:01.974Z"
   },
   {
    "duration": 10,
    "start_time": "2022-07-21T08:39:08.347Z"
   },
   {
    "duration": 12,
    "start_time": "2022-07-21T08:41:02.751Z"
   },
   {
    "duration": 140,
    "start_time": "2022-07-21T08:41:15.983Z"
   },
   {
    "duration": 15,
    "start_time": "2022-07-21T08:41:26.699Z"
   },
   {
    "duration": 113,
    "start_time": "2022-07-21T08:42:47.328Z"
   },
   {
    "duration": 10,
    "start_time": "2022-07-21T08:43:06.820Z"
   },
   {
    "duration": 7,
    "start_time": "2022-07-21T08:43:11.630Z"
   },
   {
    "duration": 13,
    "start_time": "2022-07-21T08:43:17.847Z"
   },
   {
    "duration": 15,
    "start_time": "2022-07-21T08:44:08.739Z"
   },
   {
    "duration": 4,
    "start_time": "2022-07-21T08:44:42.947Z"
   },
   {
    "duration": 20,
    "start_time": "2022-07-21T08:45:47.408Z"
   },
   {
    "duration": 19,
    "start_time": "2022-07-21T08:45:55.770Z"
   },
   {
    "duration": 20,
    "start_time": "2022-07-21T08:45:59.930Z"
   },
   {
    "duration": 14,
    "start_time": "2022-07-21T08:46:06.730Z"
   },
   {
    "duration": 8,
    "start_time": "2022-07-21T08:50:28.422Z"
   },
   {
    "duration": 13,
    "start_time": "2022-07-21T08:50:33.935Z"
   },
   {
    "duration": 2198,
    "start_time": "2022-07-21T09:03:08.590Z"
   },
   {
    "duration": 2863,
    "start_time": "2022-07-21T09:03:15.034Z"
   },
   {
    "duration": 140,
    "start_time": "2022-07-21T09:04:22.402Z"
   },
   {
    "duration": 2912,
    "start_time": "2022-07-21T09:04:26.802Z"
   },
   {
    "duration": 336,
    "start_time": "2022-07-21T09:05:59.096Z"
   },
   {
    "duration": 421,
    "start_time": "2022-07-21T09:06:57.939Z"
   },
   {
    "duration": 699,
    "start_time": "2022-07-21T09:08:31.175Z"
   },
   {
    "duration": 570,
    "start_time": "2022-07-21T09:09:44.958Z"
   },
   {
    "duration": 104,
    "start_time": "2022-07-21T12:26:40.726Z"
   },
   {
    "duration": 1552,
    "start_time": "2022-07-21T14:06:42.127Z"
   },
   {
    "duration": 35,
    "start_time": "2022-07-21T14:06:43.681Z"
   },
   {
    "duration": 25,
    "start_time": "2022-07-21T14:06:43.718Z"
   },
   {
    "duration": 4,
    "start_time": "2022-07-21T14:06:43.745Z"
   },
   {
    "duration": 8,
    "start_time": "2022-07-21T14:06:43.750Z"
   },
   {
    "duration": 95,
    "start_time": "2022-07-21T14:06:43.759Z"
   },
   {
    "duration": 21,
    "start_time": "2022-07-21T14:06:43.855Z"
   },
   {
    "duration": 18,
    "start_time": "2022-07-21T14:06:43.878Z"
   },
   {
    "duration": 2148,
    "start_time": "2022-07-21T14:06:43.898Z"
   },
   {
    "duration": 596,
    "start_time": "2022-07-21T14:06:46.049Z"
   },
   {
    "duration": 395,
    "start_time": "2022-07-21T14:06:46.647Z"
   },
   {
    "duration": 153,
    "start_time": "2022-07-21T14:06:47.044Z"
   },
   {
    "duration": 25,
    "start_time": "2022-07-21T14:06:47.198Z"
   },
   {
    "duration": 1671,
    "start_time": "2022-07-21T14:06:47.224Z"
   },
   {
    "duration": 4,
    "start_time": "2022-07-21T14:06:48.897Z"
   },
   {
    "duration": 11,
    "start_time": "2022-07-21T14:06:48.903Z"
   },
   {
    "duration": 12,
    "start_time": "2022-07-21T14:06:48.915Z"
   },
   {
    "duration": 25,
    "start_time": "2022-07-21T14:06:48.929Z"
   },
   {
    "duration": 557,
    "start_time": "2022-07-21T14:06:48.956Z"
   },
   {
    "duration": 15,
    "start_time": "2022-07-21T14:06:49.515Z"
   },
   {
    "duration": 122928,
    "start_time": "2022-07-21T14:06:49.532Z"
   },
   {
    "duration": 1480,
    "start_time": "2022-07-21T14:08:52.462Z"
   },
   {
    "duration": 16,
    "start_time": "2022-07-21T14:08:53.944Z"
   },
   {
    "duration": 3054,
    "start_time": "2022-07-21T14:08:53.962Z"
   },
   {
    "duration": 665,
    "start_time": "2022-07-21T14:08:57.018Z"
   },
   {
    "duration": 13,
    "start_time": "2022-07-21T14:08:57.685Z"
   },
   {
    "duration": 1946,
    "start_time": "2022-07-21T15:14:57.774Z"
   },
   {
    "duration": 129,
    "start_time": "2022-07-21T15:14:59.722Z"
   },
   {
    "duration": 35,
    "start_time": "2022-07-21T15:14:59.853Z"
   },
   {
    "duration": 6,
    "start_time": "2022-07-21T15:14:59.891Z"
   },
   {
    "duration": 10,
    "start_time": "2022-07-21T15:14:59.899Z"
   },
   {
    "duration": 104,
    "start_time": "2022-07-21T15:14:59.911Z"
   },
   {
    "duration": 27,
    "start_time": "2022-07-21T15:15:00.017Z"
   },
   {
    "duration": 24,
    "start_time": "2022-07-21T15:15:00.047Z"
   },
   {
    "duration": 2349,
    "start_time": "2022-07-21T15:15:00.073Z"
   },
   {
    "duration": 626,
    "start_time": "2022-07-21T15:15:02.426Z"
   },
   {
    "duration": 493,
    "start_time": "2022-07-21T15:15:03.054Z"
   },
   {
    "duration": 186,
    "start_time": "2022-07-21T15:15:03.550Z"
   },
   {
    "duration": 24,
    "start_time": "2022-07-21T15:15:03.737Z"
   },
   {
    "duration": 1574,
    "start_time": "2022-07-21T15:15:03.762Z"
   },
   {
    "duration": 6,
    "start_time": "2022-07-21T15:15:05.338Z"
   },
   {
    "duration": 10,
    "start_time": "2022-07-21T15:15:05.346Z"
   },
   {
    "duration": 17,
    "start_time": "2022-07-21T15:15:05.359Z"
   },
   {
    "duration": 129,
    "start_time": "2022-07-21T15:15:05.377Z"
   },
   {
    "duration": 463,
    "start_time": "2022-07-21T15:15:05.510Z"
   },
   {
    "duration": 16,
    "start_time": "2022-07-21T15:15:05.975Z"
   },
   {
    "duration": 125671,
    "start_time": "2022-07-21T15:15:06.005Z"
   },
   {
    "duration": 1532,
    "start_time": "2022-07-21T15:17:11.678Z"
   },
   {
    "duration": 20,
    "start_time": "2022-07-21T15:17:13.212Z"
   },
   {
    "duration": 3035,
    "start_time": "2022-07-21T15:17:13.234Z"
   },
   {
    "duration": 720,
    "start_time": "2022-07-21T15:17:16.271Z"
   },
   {
    "duration": 22,
    "start_time": "2022-07-21T15:17:16.992Z"
   },
   {
    "duration": 49,
    "start_time": "2022-07-22T07:50:12.847Z"
   },
   {
    "duration": 1698,
    "start_time": "2022-07-22T07:51:53.491Z"
   },
   {
    "duration": 101,
    "start_time": "2022-07-22T07:51:55.191Z"
   },
   {
    "duration": 27,
    "start_time": "2022-07-22T07:51:55.294Z"
   },
   {
    "duration": 42,
    "start_time": "2022-07-22T07:51:55.323Z"
   },
   {
    "duration": 25,
    "start_time": "2022-07-22T07:51:55.366Z"
   },
   {
    "duration": 180,
    "start_time": "2022-07-22T07:51:55.393Z"
   },
   {
    "duration": 51,
    "start_time": "2022-07-22T07:51:55.575Z"
   },
   {
    "duration": 33,
    "start_time": "2022-07-22T07:51:55.628Z"
   },
   {
    "duration": 2249,
    "start_time": "2022-07-22T07:51:55.663Z"
   },
   {
    "duration": 649,
    "start_time": "2022-07-22T07:51:57.918Z"
   },
   {
    "duration": 400,
    "start_time": "2022-07-22T07:51:58.569Z"
   },
   {
    "duration": 179,
    "start_time": "2022-07-22T07:51:58.971Z"
   },
   {
    "duration": 21,
    "start_time": "2022-07-22T07:51:59.151Z"
   },
   {
    "duration": 1726,
    "start_time": "2022-07-22T07:51:59.174Z"
   },
   {
    "duration": 4,
    "start_time": "2022-07-22T07:52:00.902Z"
   },
   {
    "duration": 88,
    "start_time": "2022-07-22T07:52:00.907Z"
   },
   {
    "duration": 76,
    "start_time": "2022-07-22T07:52:00.997Z"
   },
   {
    "duration": 86,
    "start_time": "2022-07-22T07:52:01.075Z"
   },
   {
    "duration": 101,
    "start_time": "2022-07-22T07:52:01.163Z"
   },
   {
    "duration": 465,
    "start_time": "2022-07-22T07:52:01.265Z"
   },
   {
    "duration": 19,
    "start_time": "2022-07-22T07:52:01.746Z"
   },
   {
    "duration": 130127,
    "start_time": "2022-07-22T07:52:01.767Z"
   },
   {
    "duration": 1157,
    "start_time": "2022-07-22T07:54:11.896Z"
   },
   {
    "duration": 30,
    "start_time": "2022-07-22T07:54:13.111Z"
   },
   {
    "duration": 2827,
    "start_time": "2022-07-22T07:54:13.143Z"
   },
   {
    "duration": 410,
    "start_time": "2022-07-22T07:54:15.972Z"
   },
   {
    "duration": 13,
    "start_time": "2022-07-22T07:54:16.389Z"
   }
  ],
  "kernelspec": {
   "display_name": "Python 3 (ipykernel)",
   "language": "python",
   "name": "python3"
  },
  "language_info": {
   "codemirror_mode": {
    "name": "ipython",
    "version": 3
   },
   "file_extension": ".py",
   "mimetype": "text/x-python",
   "name": "python",
   "nbconvert_exporter": "python",
   "pygments_lexer": "ipython3",
   "version": "3.9.7"
  },
  "toc": {
   "base_numbering": 1,
   "nav_menu": {},
   "number_sections": true,
   "sideBar": true,
   "skip_h1_title": true,
   "title_cell": "Содержание",
   "title_sidebar": "Contents",
   "toc_cell": true,
   "toc_position": {},
   "toc_section_display": true,
   "toc_window_display": false
  }
 },
 "nbformat": 4,
 "nbformat_minor": 2
}
