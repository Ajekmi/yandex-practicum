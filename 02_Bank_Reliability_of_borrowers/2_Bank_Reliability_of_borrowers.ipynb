{
 "cells": [
  {
   "cell_type": "markdown",
   "id": "66de4c20",
   "metadata": {
    "toc": true
   },
   "source": [
    "<h1>Содержание<span class=\"tocSkip\"></span></h1>\n",
    "<div class=\"toc\"><ul class=\"toc-item\"><li><span><a href=\"#Обзор-данных\" data-toc-modified-id=\"Обзор-данных-1\"><span class=\"toc-item-num\">1&nbsp;&nbsp;</span>Обзор данных</a></span></li><li><span><a href=\"#Проверка-данных-на-аномалии-и-исправления.\" data-toc-modified-id=\"Проверка-данных-на-аномалии-и-исправления.-2\"><span class=\"toc-item-num\">2&nbsp;&nbsp;</span>Проверка данных на аномалии и исправления.</a></span></li><li><span><a href=\"#Заполнение-пропусков\" data-toc-modified-id=\"Заполнение-пропусков-3\"><span class=\"toc-item-num\">3&nbsp;&nbsp;</span>Заполнение пропусков</a></span></li><li><span><a href=\"#Изменение-типов-данных\" data-toc-modified-id=\"Изменение-типов-данных-4\"><span class=\"toc-item-num\">4&nbsp;&nbsp;</span>Изменение типов данных</a></span></li><li><span><a href=\"#Удаление-дубликатов\" data-toc-modified-id=\"Удаление-дубликатов-5\"><span class=\"toc-item-num\">5&nbsp;&nbsp;</span>Удаление дубликатов</a></span></li><li><span><a href=\"#Формирование-дополнительных-датафреймов-словарей,-декомпозиция-исходного-датафрейма.\" data-toc-modified-id=\"Формирование-дополнительных-датафреймов-словарей,-декомпозиция-исходного-датафрейма.-6\"><span class=\"toc-item-num\">6&nbsp;&nbsp;</span>Формирование дополнительных датафреймов словарей, декомпозиция исходного датафрейма.</a></span></li><li><span><a href=\"#Категоризация-дохода\" data-toc-modified-id=\"Категоризация-дохода-7\"><span class=\"toc-item-num\">7&nbsp;&nbsp;</span>Категоризация дохода</a></span></li><li><span><a href=\"#Категоризация-целей-кредита\" data-toc-modified-id=\"Категоризация-целей-кредита-8\"><span class=\"toc-item-num\">8&nbsp;&nbsp;</span>Категоризация целей кредита</a></span></li><li><span><a href=\"#Категоризация-количества-детей\" data-toc-modified-id=\"Категоризация-количества-детей-9\"><span class=\"toc-item-num\">9&nbsp;&nbsp;</span>Категоризация количества детей</a></span><ul class=\"toc-item\"><li><span><a href=\"#Ответы-на-вопросы.\" data-toc-modified-id=\"Ответы-на-вопросы.-9.1\"><span class=\"toc-item-num\">9.1&nbsp;&nbsp;</span>Ответы на вопросы.</a></span><ul class=\"toc-item\"><li><ul class=\"toc-item\"><li><span><a href=\"#Вопрос-1:-Есть-ли-зависимость-между-количеством-детей-и-возвратом-кредита-в-срок?\" data-toc-modified-id=\"Вопрос-1:-Есть-ли-зависимость-между-количеством-детей-и-возвратом-кредита-в-срок?-9.1.0.1\"><span class=\"toc-item-num\">9.1.0.1&nbsp;&nbsp;</span>Вопрос 1: Есть ли зависимость между количеством детей и возвратом кредита в срок?</a></span></li><li><span><a href=\"#Вывод-1:\" data-toc-modified-id=\"Вывод-1:-9.1.0.2\"><span class=\"toc-item-num\">9.1.0.2&nbsp;&nbsp;</span>Вывод 1:</a></span></li><li><span><a href=\"#Вопрос-2:-Есть-ли-зависимость-между-семейным-положением-и-возвратом-кредита-в-срок?\" data-toc-modified-id=\"Вопрос-2:-Есть-ли-зависимость-между-семейным-положением-и-возвратом-кредита-в-срок?-9.1.0.3\"><span class=\"toc-item-num\">9.1.0.3&nbsp;&nbsp;</span>Вопрос 2: Есть ли зависимость между семейным положением и возвратом кредита в срок?</a></span></li><li><span><a href=\"#Вывод-2:\" data-toc-modified-id=\"Вывод-2:-9.1.0.4\"><span class=\"toc-item-num\">9.1.0.4&nbsp;&nbsp;</span>Вывод 2:</a></span></li><li><span><a href=\"#Вопрос-3:-Есть-ли-зависимость-между-уровнем-дохода-и-возвратом-кредита-в-срок?\" data-toc-modified-id=\"Вопрос-3:-Есть-ли-зависимость-между-уровнем-дохода-и-возвратом-кредита-в-срок?-9.1.0.5\"><span class=\"toc-item-num\">9.1.0.5&nbsp;&nbsp;</span>Вопрос 3: Есть ли зависимость между уровнем дохода и возвратом кредита в срок?</a></span></li><li><span><a href=\"#Вывод-3:\" data-toc-modified-id=\"Вывод-3:-9.1.0.6\"><span class=\"toc-item-num\">9.1.0.6&nbsp;&nbsp;</span>Вывод 3:</a></span></li><li><span><a href=\"#Вопрос-4:-Как-разные-цели-кредита-влияют-на-его-возврат-в-срок?\" data-toc-modified-id=\"Вопрос-4:-Как-разные-цели-кредита-влияют-на-его-возврат-в-срок?-9.1.0.7\"><span class=\"toc-item-num\">9.1.0.7&nbsp;&nbsp;</span>Вопрос 4: Как разные цели кредита влияют на его возврат в срок?</a></span></li><li><span><a href=\"#Вывод-4:\" data-toc-modified-id=\"Вывод-4:-9.1.0.8\"><span class=\"toc-item-num\">9.1.0.8&nbsp;&nbsp;</span>Вывод 4:</a></span></li></ul></li></ul></li></ul></li><li><span><a href=\"#Общий-вывод:\" data-toc-modified-id=\"Общий-вывод:-10\"><span class=\"toc-item-num\">10&nbsp;&nbsp;</span>Общий вывод:</a></span></li></ul></div>"
   ]
  },
  {
   "cell_type": "markdown",
   "id": "10338897",
   "metadata": {},
   "source": [
    "# Исследование надежности заемщиков"
   ]
  },
  {
   "cell_type": "markdown",
   "id": "09a7a767",
   "metadata": {},
   "source": [
    "Цель исследования - проверить четыре гипотезы:\n",
    "\n",
    "* Есть ли зависимость между количеством детей и возвратом кредита в срок?\n",
    "* Есть ли зависимость между семейным положением и возвратом кредита в срок?\n",
    "* Есть ли зависимость между уровнем дохода и возвратом кредита в срок?\n",
    "* Как разные цели кредита влияют на его возврат в срок?\n",
    "\n",
    "Входные данные от банка — статистика о платёжеспособности клиентов."
   ]
  },
  {
   "cell_type": "markdown",
   "id": "94c7e4e1",
   "metadata": {},
   "source": [
    "## Обзор данных"
   ]
  },
  {
   "cell_type": "markdown",
   "id": "7387c9a1",
   "metadata": {},
   "source": [
    "Импорт библиотеки `pandas`:"
   ]
  },
  {
   "cell_type": "code",
   "execution_count": 1,
   "id": "b631ff09",
   "metadata": {},
   "outputs": [],
   "source": [
    "import pandas as pd"
   ]
  },
  {
   "cell_type": "markdown",
   "id": "35d21196",
   "metadata": {},
   "source": [
    "Чтение файла `data.csv` из папки `/datasets` и сохранение его в переменной `df`:"
   ]
  },
  {
   "cell_type": "code",
   "execution_count": 2,
   "id": "c475590d",
   "metadata": {},
   "outputs": [],
   "source": [
    "df = pd.read_csv('/datasets/data.csv')"
   ]
  },
  {
   "cell_type": "markdown",
   "id": "78254e9a",
   "metadata": {},
   "source": [
    "Вывод первых 15 строк таблицы `df`:"
   ]
  },
  {
   "cell_type": "code",
   "execution_count": 3,
   "id": "24709eda",
   "metadata": {},
   "outputs": [
    {
     "data": {
      "text/html": [
       "<div>\n",
       "<style scoped>\n",
       "    .dataframe tbody tr th:only-of-type {\n",
       "        vertical-align: middle;\n",
       "    }\n",
       "\n",
       "    .dataframe tbody tr th {\n",
       "        vertical-align: top;\n",
       "    }\n",
       "\n",
       "    .dataframe thead th {\n",
       "        text-align: right;\n",
       "    }\n",
       "</style>\n",
       "<table border=\"1\" class=\"dataframe\">\n",
       "  <thead>\n",
       "    <tr style=\"text-align: right;\">\n",
       "      <th></th>\n",
       "      <th>children</th>\n",
       "      <th>days_employed</th>\n",
       "      <th>dob_years</th>\n",
       "      <th>education</th>\n",
       "      <th>education_id</th>\n",
       "      <th>family_status</th>\n",
       "      <th>family_status_id</th>\n",
       "      <th>gender</th>\n",
       "      <th>income_type</th>\n",
       "      <th>debt</th>\n",
       "      <th>total_income</th>\n",
       "      <th>purpose</th>\n",
       "    </tr>\n",
       "  </thead>\n",
       "  <tbody>\n",
       "    <tr>\n",
       "      <td>0</td>\n",
       "      <td>1</td>\n",
       "      <td>-8437.673028</td>\n",
       "      <td>42</td>\n",
       "      <td>высшее</td>\n",
       "      <td>0</td>\n",
       "      <td>женат / замужем</td>\n",
       "      <td>0</td>\n",
       "      <td>F</td>\n",
       "      <td>сотрудник</td>\n",
       "      <td>0</td>\n",
       "      <td>253875.639453</td>\n",
       "      <td>покупка жилья</td>\n",
       "    </tr>\n",
       "    <tr>\n",
       "      <td>1</td>\n",
       "      <td>1</td>\n",
       "      <td>-4024.803754</td>\n",
       "      <td>36</td>\n",
       "      <td>среднее</td>\n",
       "      <td>1</td>\n",
       "      <td>женат / замужем</td>\n",
       "      <td>0</td>\n",
       "      <td>F</td>\n",
       "      <td>сотрудник</td>\n",
       "      <td>0</td>\n",
       "      <td>112080.014102</td>\n",
       "      <td>приобретение автомобиля</td>\n",
       "    </tr>\n",
       "    <tr>\n",
       "      <td>2</td>\n",
       "      <td>0</td>\n",
       "      <td>-5623.422610</td>\n",
       "      <td>33</td>\n",
       "      <td>Среднее</td>\n",
       "      <td>1</td>\n",
       "      <td>женат / замужем</td>\n",
       "      <td>0</td>\n",
       "      <td>M</td>\n",
       "      <td>сотрудник</td>\n",
       "      <td>0</td>\n",
       "      <td>145885.952297</td>\n",
       "      <td>покупка жилья</td>\n",
       "    </tr>\n",
       "    <tr>\n",
       "      <td>3</td>\n",
       "      <td>3</td>\n",
       "      <td>-4124.747207</td>\n",
       "      <td>32</td>\n",
       "      <td>среднее</td>\n",
       "      <td>1</td>\n",
       "      <td>женат / замужем</td>\n",
       "      <td>0</td>\n",
       "      <td>M</td>\n",
       "      <td>сотрудник</td>\n",
       "      <td>0</td>\n",
       "      <td>267628.550329</td>\n",
       "      <td>дополнительное образование</td>\n",
       "    </tr>\n",
       "    <tr>\n",
       "      <td>4</td>\n",
       "      <td>0</td>\n",
       "      <td>340266.072047</td>\n",
       "      <td>53</td>\n",
       "      <td>среднее</td>\n",
       "      <td>1</td>\n",
       "      <td>гражданский брак</td>\n",
       "      <td>1</td>\n",
       "      <td>F</td>\n",
       "      <td>пенсионер</td>\n",
       "      <td>0</td>\n",
       "      <td>158616.077870</td>\n",
       "      <td>сыграть свадьбу</td>\n",
       "    </tr>\n",
       "    <tr>\n",
       "      <td>5</td>\n",
       "      <td>0</td>\n",
       "      <td>-926.185831</td>\n",
       "      <td>27</td>\n",
       "      <td>высшее</td>\n",
       "      <td>0</td>\n",
       "      <td>гражданский брак</td>\n",
       "      <td>1</td>\n",
       "      <td>M</td>\n",
       "      <td>компаньон</td>\n",
       "      <td>0</td>\n",
       "      <td>255763.565419</td>\n",
       "      <td>покупка жилья</td>\n",
       "    </tr>\n",
       "    <tr>\n",
       "      <td>6</td>\n",
       "      <td>0</td>\n",
       "      <td>-2879.202052</td>\n",
       "      <td>43</td>\n",
       "      <td>высшее</td>\n",
       "      <td>0</td>\n",
       "      <td>женат / замужем</td>\n",
       "      <td>0</td>\n",
       "      <td>F</td>\n",
       "      <td>компаньон</td>\n",
       "      <td>0</td>\n",
       "      <td>240525.971920</td>\n",
       "      <td>операции с жильем</td>\n",
       "    </tr>\n",
       "    <tr>\n",
       "      <td>7</td>\n",
       "      <td>0</td>\n",
       "      <td>-152.779569</td>\n",
       "      <td>50</td>\n",
       "      <td>СРЕДНЕЕ</td>\n",
       "      <td>1</td>\n",
       "      <td>женат / замужем</td>\n",
       "      <td>0</td>\n",
       "      <td>M</td>\n",
       "      <td>сотрудник</td>\n",
       "      <td>0</td>\n",
       "      <td>135823.934197</td>\n",
       "      <td>образование</td>\n",
       "    </tr>\n",
       "    <tr>\n",
       "      <td>8</td>\n",
       "      <td>2</td>\n",
       "      <td>-6929.865299</td>\n",
       "      <td>35</td>\n",
       "      <td>ВЫСШЕЕ</td>\n",
       "      <td>0</td>\n",
       "      <td>гражданский брак</td>\n",
       "      <td>1</td>\n",
       "      <td>F</td>\n",
       "      <td>сотрудник</td>\n",
       "      <td>0</td>\n",
       "      <td>95856.832424</td>\n",
       "      <td>на проведение свадьбы</td>\n",
       "    </tr>\n",
       "    <tr>\n",
       "      <td>9</td>\n",
       "      <td>0</td>\n",
       "      <td>-2188.756445</td>\n",
       "      <td>41</td>\n",
       "      <td>среднее</td>\n",
       "      <td>1</td>\n",
       "      <td>женат / замужем</td>\n",
       "      <td>0</td>\n",
       "      <td>M</td>\n",
       "      <td>сотрудник</td>\n",
       "      <td>0</td>\n",
       "      <td>144425.938277</td>\n",
       "      <td>покупка жилья для семьи</td>\n",
       "    </tr>\n",
       "    <tr>\n",
       "      <td>10</td>\n",
       "      <td>2</td>\n",
       "      <td>-4171.483647</td>\n",
       "      <td>36</td>\n",
       "      <td>высшее</td>\n",
       "      <td>0</td>\n",
       "      <td>женат / замужем</td>\n",
       "      <td>0</td>\n",
       "      <td>M</td>\n",
       "      <td>компаньон</td>\n",
       "      <td>0</td>\n",
       "      <td>113943.491460</td>\n",
       "      <td>покупка недвижимости</td>\n",
       "    </tr>\n",
       "    <tr>\n",
       "      <td>11</td>\n",
       "      <td>0</td>\n",
       "      <td>-792.701887</td>\n",
       "      <td>40</td>\n",
       "      <td>среднее</td>\n",
       "      <td>1</td>\n",
       "      <td>женат / замужем</td>\n",
       "      <td>0</td>\n",
       "      <td>F</td>\n",
       "      <td>сотрудник</td>\n",
       "      <td>0</td>\n",
       "      <td>77069.234271</td>\n",
       "      <td>покупка коммерческой недвижимости</td>\n",
       "    </tr>\n",
       "    <tr>\n",
       "      <td>12</td>\n",
       "      <td>0</td>\n",
       "      <td>NaN</td>\n",
       "      <td>65</td>\n",
       "      <td>среднее</td>\n",
       "      <td>1</td>\n",
       "      <td>гражданский брак</td>\n",
       "      <td>1</td>\n",
       "      <td>M</td>\n",
       "      <td>пенсионер</td>\n",
       "      <td>0</td>\n",
       "      <td>NaN</td>\n",
       "      <td>сыграть свадьбу</td>\n",
       "    </tr>\n",
       "    <tr>\n",
       "      <td>13</td>\n",
       "      <td>0</td>\n",
       "      <td>-1846.641941</td>\n",
       "      <td>54</td>\n",
       "      <td>неоконченное высшее</td>\n",
       "      <td>2</td>\n",
       "      <td>женат / замужем</td>\n",
       "      <td>0</td>\n",
       "      <td>F</td>\n",
       "      <td>сотрудник</td>\n",
       "      <td>0</td>\n",
       "      <td>130458.228857</td>\n",
       "      <td>приобретение автомобиля</td>\n",
       "    </tr>\n",
       "    <tr>\n",
       "      <td>14</td>\n",
       "      <td>0</td>\n",
       "      <td>-1844.956182</td>\n",
       "      <td>56</td>\n",
       "      <td>высшее</td>\n",
       "      <td>0</td>\n",
       "      <td>гражданский брак</td>\n",
       "      <td>1</td>\n",
       "      <td>F</td>\n",
       "      <td>компаньон</td>\n",
       "      <td>1</td>\n",
       "      <td>165127.911772</td>\n",
       "      <td>покупка жилой недвижимости</td>\n",
       "    </tr>\n",
       "  </tbody>\n",
       "</table>\n",
       "</div>"
      ],
      "text/plain": [
       "    children  days_employed  dob_years            education  education_id  \\\n",
       "0          1   -8437.673028         42               высшее             0   \n",
       "1          1   -4024.803754         36              среднее             1   \n",
       "2          0   -5623.422610         33              Среднее             1   \n",
       "3          3   -4124.747207         32              среднее             1   \n",
       "4          0  340266.072047         53              среднее             1   \n",
       "5          0    -926.185831         27               высшее             0   \n",
       "6          0   -2879.202052         43               высшее             0   \n",
       "7          0    -152.779569         50              СРЕДНЕЕ             1   \n",
       "8          2   -6929.865299         35               ВЫСШЕЕ             0   \n",
       "9          0   -2188.756445         41              среднее             1   \n",
       "10         2   -4171.483647         36               высшее             0   \n",
       "11         0    -792.701887         40              среднее             1   \n",
       "12         0            NaN         65              среднее             1   \n",
       "13         0   -1846.641941         54  неоконченное высшее             2   \n",
       "14         0   -1844.956182         56               высшее             0   \n",
       "\n",
       "       family_status  family_status_id gender income_type  debt  \\\n",
       "0    женат / замужем                 0      F   сотрудник     0   \n",
       "1    женат / замужем                 0      F   сотрудник     0   \n",
       "2    женат / замужем                 0      M   сотрудник     0   \n",
       "3    женат / замужем                 0      M   сотрудник     0   \n",
       "4   гражданский брак                 1      F   пенсионер     0   \n",
       "5   гражданский брак                 1      M   компаньон     0   \n",
       "6    женат / замужем                 0      F   компаньон     0   \n",
       "7    женат / замужем                 0      M   сотрудник     0   \n",
       "8   гражданский брак                 1      F   сотрудник     0   \n",
       "9    женат / замужем                 0      M   сотрудник     0   \n",
       "10   женат / замужем                 0      M   компаньон     0   \n",
       "11   женат / замужем                 0      F   сотрудник     0   \n",
       "12  гражданский брак                 1      M   пенсионер     0   \n",
       "13   женат / замужем                 0      F   сотрудник     0   \n",
       "14  гражданский брак                 1      F   компаньон     1   \n",
       "\n",
       "     total_income                            purpose  \n",
       "0   253875.639453                      покупка жилья  \n",
       "1   112080.014102            приобретение автомобиля  \n",
       "2   145885.952297                      покупка жилья  \n",
       "3   267628.550329         дополнительное образование  \n",
       "4   158616.077870                    сыграть свадьбу  \n",
       "5   255763.565419                      покупка жилья  \n",
       "6   240525.971920                  операции с жильем  \n",
       "7   135823.934197                        образование  \n",
       "8    95856.832424              на проведение свадьбы  \n",
       "9   144425.938277            покупка жилья для семьи  \n",
       "10  113943.491460               покупка недвижимости  \n",
       "11   77069.234271  покупка коммерческой недвижимости  \n",
       "12            NaN                    сыграть свадьбу  \n",
       "13  130458.228857            приобретение автомобиля  \n",
       "14  165127.911772         покупка жилой недвижимости  "
      ]
     },
     "execution_count": 3,
     "metadata": {},
     "output_type": "execute_result"
    }
   ],
   "source": [
    "df.head(15)"
   ]
  },
  {
   "cell_type": "markdown",
   "id": "d24841ec",
   "metadata": {},
   "source": [
    "Получение общей информации о таблице `df`:"
   ]
  },
  {
   "cell_type": "code",
   "execution_count": 4,
   "id": "6129d7f6",
   "metadata": {},
   "outputs": [
    {
     "name": "stdout",
     "output_type": "stream",
     "text": [
      "<class 'pandas.core.frame.DataFrame'>\n",
      "RangeIndex: 21525 entries, 0 to 21524\n",
      "Data columns (total 12 columns):\n",
      "children            21525 non-null int64\n",
      "days_employed       19351 non-null float64\n",
      "dob_years           21525 non-null int64\n",
      "education           21525 non-null object\n",
      "education_id        21525 non-null int64\n",
      "family_status       21525 non-null object\n",
      "family_status_id    21525 non-null int64\n",
      "gender              21525 non-null object\n",
      "income_type         21525 non-null object\n",
      "debt                21525 non-null int64\n",
      "total_income        19351 non-null float64\n",
      "purpose             21525 non-null object\n",
      "dtypes: float64(2), int64(5), object(5)\n",
      "memory usage: 2.0+ MB\n"
     ]
    }
   ],
   "source": [
    "df.info()"
   ]
  },
  {
   "cell_type": "markdown",
   "id": "1c1a334f",
   "metadata": {},
   "source": [
    "В таблице двенадцать столбцов, согласно документации к данным:\n",
    "\n",
    "* `children` — количество детей в семье\n",
    "* `days_employed` — общий трудовой стаж в днях\n",
    "* `dob_years` — возраст клиента в годах\n",
    "* `education` — уровень образования клиента\n",
    "* `education_id` — идентификатор уровня образования\n",
    "* `family_status` — семейное положение\n",
    "* `family_status_id` — идентификатор семейного положения\n",
    "* `gender` — пол клиента\n",
    "* `income_type` — тип занятости\n",
    "* `debt` — имел ли задолженность по возврату кредитов\n",
    "* `total_income` — ежемесячный доход\n",
    "* `purpose` — цель получения кредита\n",
    "\n",
    "\n"
   ]
  },
  {
   "cell_type": "markdown",
   "id": "001a44b2",
   "metadata": {},
   "source": [
    "Выводы по обзору данных.\n",
    "\n",
    "По обзору первых 10 строчек видно, что в данных есть аномальные значения в столбце `days_employed` -  в следующем шаге 2.1  будет проводиться проверка на аномалии и их исправление, разный регистр в столбце `education`, что приводит к дубликатам и будет исправляться в шаге 2.4.\n",
    "\n",
    "Благодаря методу info() было выявлено, что количество значений в столбцах различается, в `days_employed` и `total_income` значения меньше общего числа строк. Значит, в этих столбцах есть пропущенные значения, которые нужно обработать.\n",
    "\n",
    "Во входных данных есть все значения, которые нужны для проверки заданных гипотез."
   ]
  },
  {
   "cell_type": "markdown",
   "id": "68023f84",
   "metadata": {},
   "source": [
    "## Проверка данных на аномалии и исправления."
   ]
  },
  {
   "cell_type": "markdown",
   "id": "582228f3",
   "metadata": {},
   "source": [
    "Проверим необходимые для проверки гипотез столбцы на наличие аномальных значений: `children`,  `family_status`, `income_type`, `purpose`, `debt`.\n",
    "\n",
    "И столбцы: `gender`, `dob_years`, `days_employed` (потому что были видны минусовые значения, которых не должно быть в трудовом стаже)."
   ]
  },
  {
   "cell_type": "code",
   "execution_count": 5,
   "id": "36e99c5e",
   "metadata": {},
   "outputs": [
    {
     "data": {
      "text/plain": [
       " 0     14149\n",
       " 1      4818\n",
       " 2      2055\n",
       " 3       330\n",
       " 20       76\n",
       "-1        47\n",
       " 4        41\n",
       " 5         9\n",
       "Name: children, dtype: int64"
      ]
     },
     "execution_count": 5,
     "metadata": {},
     "output_type": "execute_result"
    }
   ],
   "source": [
    "df['children'].value_counts() #  20 детей и -1"
   ]
  },
  {
   "cell_type": "markdown",
   "id": "a1da6c1c",
   "metadata": {},
   "source": [
    "По столбцу с количеством детей в семье выделяются значения 20 и -1. Скорее всего 20 это опечатка от 2, а значение -1 видимо должно было быть 1, но выгрузилось с минусом. Заменим значения 20 на 2 и -1 на 1:"
   ]
  },
  {
   "cell_type": "code",
   "execution_count": 6,
   "id": "51598a40",
   "metadata": {},
   "outputs": [],
   "source": [
    "df.loc[df['children'] == 20, 'children'] = 2"
   ]
  },
  {
   "cell_type": "code",
   "execution_count": 7,
   "id": "5f21f119",
   "metadata": {},
   "outputs": [],
   "source": [
    "df.loc[df['children'] == -1, 'children'] = 1"
   ]
  },
  {
   "cell_type": "code",
   "execution_count": 8,
   "id": "20ad9f13",
   "metadata": {},
   "outputs": [
    {
     "data": {
      "text/plain": [
       "0    14149\n",
       "1     4865\n",
       "2     2131\n",
       "3      330\n",
       "4       41\n",
       "5        9\n",
       "Name: children, dtype: int64"
      ]
     },
     "execution_count": 8,
     "metadata": {},
     "output_type": "execute_result"
    }
   ],
   "source": [
    "df['children'].value_counts()"
   ]
  },
  {
   "cell_type": "code",
   "execution_count": 9,
   "id": "a051faed",
   "metadata": {},
   "outputs": [
    {
     "data": {
      "text/plain": [
       "женат / замужем          12380\n",
       "гражданский брак          4177\n",
       "Не женат / не замужем     2813\n",
       "в разводе                 1195\n",
       "вдовец / вдова             960\n",
       "Name: family_status, dtype: int64"
      ]
     },
     "execution_count": 9,
     "metadata": {},
     "output_type": "execute_result"
    }
   ],
   "source": [
    "df['family_status'].value_counts() # нет аномалий"
   ]
  },
  {
   "cell_type": "code",
   "execution_count": 10,
   "id": "1d9fb20e",
   "metadata": {},
   "outputs": [
    {
     "data": {
      "text/plain": [
       "сотрудник          11119\n",
       "компаньон           5085\n",
       "пенсионер           3856\n",
       "госслужащий         1459\n",
       "предприниматель        2\n",
       "безработный            2\n",
       "в декрете              1\n",
       "студент                1\n",
       "Name: income_type, dtype: int64"
      ]
     },
     "execution_count": 10,
     "metadata": {},
     "output_type": "execute_result"
    }
   ],
   "source": [
    "df['income_type'].value_counts() # нет аномалий"
   ]
  },
  {
   "cell_type": "code",
   "execution_count": 11,
   "id": "2afe7e9d",
   "metadata": {},
   "outputs": [
    {
     "data": {
      "text/plain": [
       "свадьба                                   797\n",
       "на проведение свадьбы                     777\n",
       "сыграть свадьбу                           774\n",
       "операции с недвижимостью                  676\n",
       "покупка коммерческой недвижимости         664\n",
       "операции с жильем                         653\n",
       "покупка жилья для сдачи                   653\n",
       "операции с коммерческой недвижимостью     651\n",
       "покупка жилья                             647\n",
       "жилье                                     647\n",
       "покупка жилья для семьи                   641\n",
       "строительство собственной недвижимости    635\n",
       "недвижимость                              634\n",
       "операции со своей недвижимостью           630\n",
       "строительство жилой недвижимости          626\n",
       "покупка недвижимости                      624\n",
       "строительство недвижимости                620\n",
       "покупка своего жилья                      620\n",
       "ремонт жилью                              612\n",
       "покупка жилой недвижимости                607\n",
       "на покупку своего автомобиля              505\n",
       "заняться высшим образованием              496\n",
       "автомобиль                                495\n",
       "сделка с подержанным автомобилем          489\n",
       "свой автомобиль                           480\n",
       "на покупку подержанного автомобиля        479\n",
       "автомобили                                478\n",
       "на покупку автомобиля                     472\n",
       "дополнительное образование                462\n",
       "приобретение автомобиля                   462\n",
       "сделка с автомобилем                      455\n",
       "высшее образование                        453\n",
       "получение дополнительного образования     447\n",
       "образование                               447\n",
       "получение образования                     443\n",
       "профильное образование                    436\n",
       "получение высшего образования             426\n",
       "заняться образованием                     412\n",
       "Name: purpose, dtype: int64"
      ]
     },
     "execution_count": 11,
     "metadata": {},
     "output_type": "execute_result"
    }
   ],
   "source": [
    "df['purpose'].value_counts()  "
   ]
  },
  {
   "cell_type": "markdown",
   "id": "73e8c8ae",
   "metadata": {},
   "source": [
    "Опечатка \"ремонт жилью\" 612 раз, будем учитывать её при составлении условий для категорий. "
   ]
  },
  {
   "cell_type": "code",
   "execution_count": 12,
   "id": "1c9c45a3",
   "metadata": {},
   "outputs": [
    {
     "data": {
      "text/plain": [
       "0    19784\n",
       "1     1741\n",
       "Name: debt, dtype: int64"
      ]
     },
     "execution_count": 12,
     "metadata": {},
     "output_type": "execute_result"
    }
   ],
   "source": [
    "df['debt'].value_counts() # нет аномалий"
   ]
  },
  {
   "cell_type": "code",
   "execution_count": 13,
   "id": "a6ad03e2",
   "metadata": {},
   "outputs": [
    {
     "data": {
      "text/plain": [
       "F      14236\n",
       "M       7288\n",
       "XNA        1\n",
       "Name: gender, dtype: int64"
      ]
     },
     "execution_count": 13,
     "metadata": {},
     "output_type": "execute_result"
    }
   ],
   "source": [
    "df['gender'].value_counts() # неизвестное значение XNA"
   ]
  },
  {
   "cell_type": "markdown",
   "id": "80a2fe4e",
   "metadata": {},
   "source": [
    "Столбец с полом клиентов в дальнейшем исследовании нам не нужен. Поэтому не будем его редактировать."
   ]
  },
  {
   "cell_type": "code",
   "execution_count": 14,
   "id": "0a7c84ee",
   "metadata": {},
   "outputs": [
    {
     "data": {
      "text/plain": [
       "35    617\n",
       "40    609\n",
       "41    607\n",
       "34    603\n",
       "38    598\n",
       "42    597\n",
       "33    581\n",
       "39    573\n",
       "31    560\n",
       "36    555\n",
       "44    547\n",
       "29    545\n",
       "30    540\n",
       "48    538\n",
       "37    537\n",
       "50    514\n",
       "43    513\n",
       "32    510\n",
       "49    508\n",
       "28    503\n",
       "45    497\n",
       "27    493\n",
       "56    487\n",
       "52    484\n",
       "47    480\n",
       "54    479\n",
       "46    475\n",
       "58    461\n",
       "57    460\n",
       "53    459\n",
       "51    448\n",
       "59    444\n",
       "55    443\n",
       "26    408\n",
       "60    377\n",
       "25    357\n",
       "61    355\n",
       "62    352\n",
       "63    269\n",
       "64    265\n",
       "24    264\n",
       "23    254\n",
       "65    194\n",
       "66    183\n",
       "22    183\n",
       "67    167\n",
       "21    111\n",
       "0     101\n",
       "68     99\n",
       "69     85\n",
       "70     65\n",
       "71     58\n",
       "20     51\n",
       "72     33\n",
       "19     14\n",
       "73      8\n",
       "74      6\n",
       "75      1\n",
       "Name: dob_years, dtype: int64"
      ]
     },
     "execution_count": 14,
     "metadata": {},
     "output_type": "execute_result"
    }
   ],
   "source": [
    "df['dob_years'].value_counts() "
   ]
  },
  {
   "cell_type": "markdown",
   "id": "e724dd07",
   "metadata": {},
   "source": [
    "В столбце `dob_years` есть возраст 0, но этот столбец не влияет на исследование, следовательно не будем его обрабатывать."
   ]
  },
  {
   "cell_type": "markdown",
   "id": "6d1728bc",
   "metadata": {},
   "source": [
    "В столбце `days_employed` присутствует такие аномалии как отрицательное количество дней трудового стажа, а для тех данных, в которых это число положительное это не может быть количеством дней трудового стажа, так как это число в 15-20 раз больше продолжительности жизни. Можно предположить, что все положительные значения это количество трудового стажа в часах. Но так как эти данные в дальнейшем исследовании нам не пригодятся, переводить в дни не имеет смысла, ведь возможно это предположение ложное.\n",
    "\n",
    "Об этих аномалиях необходимо сообщить тем, кто занимается выгрузкой данных или их заполнением в этом столбце. \n",
    "\n",
    "Переведем все числа в положительные, используя модуль числа. "
   ]
  },
  {
   "cell_type": "code",
   "execution_count": 15,
   "id": "51f79b6d",
   "metadata": {},
   "outputs": [],
   "source": [
    "df['days_employed'] = df['days_employed'].abs()"
   ]
  },
  {
   "cell_type": "markdown",
   "id": "4a57f146",
   "metadata": {},
   "source": [
    "Вывод:\n",
    "В данных были обнаружены различные аномалии 20 детей и -1 в столбце `children`, неизвестное значение XNA в столбце `gender`, нулевой возраст в столбце `dob_years` - это скорее всего точечные аномалии, которые сильно выбиваются из данных. И самая заметная в столбце `days_employed` это отрицательные дни трудового стажа.\n",
    "\n",
    "Об этих находках необходимо сообщить сотрудникам, занимающимся выгрузкой или заполнением этих данных.\n",
    "\n",
    "Причинами могут послужить разные факторы, такие как: человеческий фактор, технические ошибки (ошибки в выгрузке), ошибки в данных (неверная запись). "
   ]
  },
  {
   "cell_type": "markdown",
   "id": "023c4118",
   "metadata": {},
   "source": [
    "## Заполнение пропусков"
   ]
  },
  {
   "cell_type": "markdown",
   "id": "5a731707",
   "metadata": {},
   "source": [
    "Подсчёт пропусков в таблице `df`:"
   ]
  },
  {
   "cell_type": "code",
   "execution_count": 16,
   "id": "835c41a2",
   "metadata": {
    "scrolled": true
   },
   "outputs": [
    {
     "data": {
      "text/plain": [
       "children               0\n",
       "days_employed       2174\n",
       "dob_years              0\n",
       "education              0\n",
       "education_id           0\n",
       "family_status          0\n",
       "family_status_id       0\n",
       "gender                 0\n",
       "income_type            0\n",
       "debt                   0\n",
       "total_income        2174\n",
       "purpose                0\n",
       "dtype: int64"
      ]
     },
     "execution_count": 16,
     "metadata": {},
     "output_type": "execute_result"
    }
   ],
   "source": [
    "df.isna().sum()"
   ]
  },
  {
   "cell_type": "markdown",
   "id": "a6e4a58a",
   "metadata": {},
   "source": [
    "Таким образом обнаружены пропуски в двух столбцах: общий трудовой стаж в днях и ежемесячный доход клиентов."
   ]
  },
  {
   "cell_type": "markdown",
   "id": "0437b457",
   "metadata": {},
   "source": [
    "Проверим какую долю составляют пропущенные значения в каждом из столбцов с пропусками:"
   ]
  },
  {
   "cell_type": "code",
   "execution_count": 17,
   "id": "b87fbb15",
   "metadata": {},
   "outputs": [
    {
     "name": "stdout",
     "output_type": "stream",
     "text": [
      " Доля пропущенных значений общего трудового стажа 10.1%\n"
     ]
    }
   ],
   "source": [
    "part_days_employed = df['days_employed'].isna().sum() / df['days_employed'].isna().count()\n",
    "print(' Доля пропущенных значений общего трудового стажа {:.1%}'.format(part_days_employed))"
   ]
  },
  {
   "cell_type": "code",
   "execution_count": 18,
   "id": "ead9432d",
   "metadata": {},
   "outputs": [
    {
     "name": "stdout",
     "output_type": "stream",
     "text": [
      " Доля пропущенных значений ежемесячного дохода 10.1%\n"
     ]
    }
   ],
   "source": [
    "part_total_income = df['total_income'].isna().sum() / df['total_income'].isna().count()\n",
    "print(' Доля пропущенных значений ежемесячного дохода {:.1%}'.format(part_total_income))"
   ]
  },
  {
   "cell_type": "markdown",
   "id": "324e9528",
   "metadata": {},
   "source": [
    "Общий трудовой стаж в днях и ежемесячный доход — количественные переменные. Пропуски в таких переменных заполняют характерными значениями для выборки. Чтобы примерно оценить типичные значения выборки, годятся среднее арифметическое или медиана. Так как в выборке присутствуют выдающиеся значения (340266.072047 против 152.779569) лучше использовать медиану.\n",
    "\n",
    "Заполним пропуски медианным значением по столбцам:"
   ]
  },
  {
   "cell_type": "code",
   "execution_count": 19,
   "id": "d84d0ecb",
   "metadata": {},
   "outputs": [
    {
     "name": "stdout",
     "output_type": "stream",
     "text": [
      "2194.220566878695\n"
     ]
    },
    {
     "data": {
      "text/html": [
       "<div>\n",
       "<style scoped>\n",
       "    .dataframe tbody tr th:only-of-type {\n",
       "        vertical-align: middle;\n",
       "    }\n",
       "\n",
       "    .dataframe tbody tr th {\n",
       "        vertical-align: top;\n",
       "    }\n",
       "\n",
       "    .dataframe thead th {\n",
       "        text-align: right;\n",
       "    }\n",
       "</style>\n",
       "<table border=\"1\" class=\"dataframe\">\n",
       "  <thead>\n",
       "    <tr style=\"text-align: right;\">\n",
       "      <th></th>\n",
       "      <th>children</th>\n",
       "      <th>days_employed</th>\n",
       "      <th>dob_years</th>\n",
       "      <th>education</th>\n",
       "      <th>education_id</th>\n",
       "      <th>family_status</th>\n",
       "      <th>family_status_id</th>\n",
       "      <th>gender</th>\n",
       "      <th>income_type</th>\n",
       "      <th>debt</th>\n",
       "      <th>total_income</th>\n",
       "      <th>purpose</th>\n",
       "    </tr>\n",
       "  </thead>\n",
       "  <tbody>\n",
       "    <tr>\n",
       "      <td>12</td>\n",
       "      <td>0</td>\n",
       "      <td>2194.220567</td>\n",
       "      <td>65</td>\n",
       "      <td>среднее</td>\n",
       "      <td>1</td>\n",
       "      <td>гражданский брак</td>\n",
       "      <td>1</td>\n",
       "      <td>M</td>\n",
       "      <td>пенсионер</td>\n",
       "      <td>0</td>\n",
       "      <td>NaN</td>\n",
       "      <td>сыграть свадьбу</td>\n",
       "    </tr>\n",
       "    <tr>\n",
       "      <td>26</td>\n",
       "      <td>0</td>\n",
       "      <td>2194.220567</td>\n",
       "      <td>41</td>\n",
       "      <td>среднее</td>\n",
       "      <td>1</td>\n",
       "      <td>женат / замужем</td>\n",
       "      <td>0</td>\n",
       "      <td>M</td>\n",
       "      <td>госслужащий</td>\n",
       "      <td>0</td>\n",
       "      <td>NaN</td>\n",
       "      <td>образование</td>\n",
       "    </tr>\n",
       "    <tr>\n",
       "      <td>65</td>\n",
       "      <td>0</td>\n",
       "      <td>2194.220567</td>\n",
       "      <td>21</td>\n",
       "      <td>среднее</td>\n",
       "      <td>1</td>\n",
       "      <td>Не женат / не замужем</td>\n",
       "      <td>4</td>\n",
       "      <td>M</td>\n",
       "      <td>компаньон</td>\n",
       "      <td>0</td>\n",
       "      <td>NaN</td>\n",
       "      <td>операции с коммерческой недвижимостью</td>\n",
       "    </tr>\n",
       "  </tbody>\n",
       "</table>\n",
       "</div>"
      ],
      "text/plain": [
       "    children  days_employed  dob_years education  education_id  \\\n",
       "12         0    2194.220567         65   среднее             1   \n",
       "26         0    2194.220567         41   среднее             1   \n",
       "65         0    2194.220567         21   среднее             1   \n",
       "\n",
       "            family_status  family_status_id gender  income_type  debt  \\\n",
       "12       гражданский брак                 1      M    пенсионер     0   \n",
       "26        женат / замужем                 0      M  госслужащий     0   \n",
       "65  Не женат / не замужем                 4      M    компаньон     0   \n",
       "\n",
       "    total_income                                purpose  \n",
       "12           NaN                        сыграть свадьбу  \n",
       "26           NaN                            образование  \n",
       "65           NaN  операции с коммерческой недвижимостью  "
      ]
     },
     "execution_count": 19,
     "metadata": {},
     "output_type": "execute_result"
    }
   ],
   "source": [
    "days_employed_median = df['days_employed'].median()\n",
    "print(days_employed_median)\n",
    "df['days_employed'] = df['days_employed'].fillna(value = days_employed_median)\n",
    "#выведем строки с незаполненными ранее данными (строка 12,26,65), чтобы убедиться, что всё заполнено\n",
    "df.loc[[12,26,65]]"
   ]
  },
  {
   "cell_type": "markdown",
   "id": "252d03cc",
   "metadata": {},
   "source": [
    "Заполняя пропуски просто медианным значением (как я сделала сначала) окажется, что все 10% пропусков будут заполнены доходом в 145017, получается, что они заполнят в дальнейшем одну категорию \"C\". Поэтому имеет смысл заменить медианным значением по типу занятости."
   ]
  },
  {
   "cell_type": "code",
   "execution_count": 20,
   "id": "e85434cd",
   "metadata": {},
   "outputs": [
    {
     "data": {
      "text/plain": [
       "income_type\n",
       "безработный        131339.751676\n",
       "в декрете           53829.130729\n",
       "госслужащий        150447.935283\n",
       "компаньон          172357.950966\n",
       "пенсионер          118514.486412\n",
       "предприниматель    499163.144947\n",
       "сотрудник          142594.396847\n",
       "студент             98201.625314\n",
       "Name: total_income, dtype: float64"
      ]
     },
     "execution_count": 20,
     "metadata": {},
     "output_type": "execute_result"
    }
   ],
   "source": [
    "income_grouped = df.groupby('income_type')['total_income'].median()\n",
    "income_grouped # табличка для проверки правильно ли я сделала замену, которая в ячейке ниже."
   ]
  },
  {
   "cell_type": "code",
   "execution_count": 21,
   "id": "0dce4ffd",
   "metadata": {},
   "outputs": [
    {
     "data": {
      "text/html": [
       "<div>\n",
       "<style scoped>\n",
       "    .dataframe tbody tr th:only-of-type {\n",
       "        vertical-align: middle;\n",
       "    }\n",
       "\n",
       "    .dataframe tbody tr th {\n",
       "        vertical-align: top;\n",
       "    }\n",
       "\n",
       "    .dataframe thead th {\n",
       "        text-align: right;\n",
       "    }\n",
       "</style>\n",
       "<table border=\"1\" class=\"dataframe\">\n",
       "  <thead>\n",
       "    <tr style=\"text-align: right;\">\n",
       "      <th></th>\n",
       "      <th>children</th>\n",
       "      <th>days_employed</th>\n",
       "      <th>dob_years</th>\n",
       "      <th>education</th>\n",
       "      <th>education_id</th>\n",
       "      <th>family_status</th>\n",
       "      <th>family_status_id</th>\n",
       "      <th>gender</th>\n",
       "      <th>income_type</th>\n",
       "      <th>debt</th>\n",
       "      <th>total_income</th>\n",
       "      <th>purpose</th>\n",
       "    </tr>\n",
       "  </thead>\n",
       "  <tbody>\n",
       "    <tr>\n",
       "      <td>12</td>\n",
       "      <td>0</td>\n",
       "      <td>2194.220567</td>\n",
       "      <td>65</td>\n",
       "      <td>среднее</td>\n",
       "      <td>1</td>\n",
       "      <td>гражданский брак</td>\n",
       "      <td>1</td>\n",
       "      <td>M</td>\n",
       "      <td>пенсионер</td>\n",
       "      <td>0</td>\n",
       "      <td>118514.486412</td>\n",
       "      <td>сыграть свадьбу</td>\n",
       "    </tr>\n",
       "    <tr>\n",
       "      <td>26</td>\n",
       "      <td>0</td>\n",
       "      <td>2194.220567</td>\n",
       "      <td>41</td>\n",
       "      <td>среднее</td>\n",
       "      <td>1</td>\n",
       "      <td>женат / замужем</td>\n",
       "      <td>0</td>\n",
       "      <td>M</td>\n",
       "      <td>госслужащий</td>\n",
       "      <td>0</td>\n",
       "      <td>150447.935283</td>\n",
       "      <td>образование</td>\n",
       "    </tr>\n",
       "    <tr>\n",
       "      <td>65</td>\n",
       "      <td>0</td>\n",
       "      <td>2194.220567</td>\n",
       "      <td>21</td>\n",
       "      <td>среднее</td>\n",
       "      <td>1</td>\n",
       "      <td>Не женат / не замужем</td>\n",
       "      <td>4</td>\n",
       "      <td>M</td>\n",
       "      <td>компаньон</td>\n",
       "      <td>0</td>\n",
       "      <td>172357.950966</td>\n",
       "      <td>операции с коммерческой недвижимостью</td>\n",
       "    </tr>\n",
       "    <tr>\n",
       "      <td>82</td>\n",
       "      <td>2</td>\n",
       "      <td>2194.220567</td>\n",
       "      <td>50</td>\n",
       "      <td>высшее</td>\n",
       "      <td>0</td>\n",
       "      <td>женат / замужем</td>\n",
       "      <td>0</td>\n",
       "      <td>F</td>\n",
       "      <td>сотрудник</td>\n",
       "      <td>0</td>\n",
       "      <td>142594.396847</td>\n",
       "      <td>жилье</td>\n",
       "    </tr>\n",
       "  </tbody>\n",
       "</table>\n",
       "</div>"
      ],
      "text/plain": [
       "    children  days_employed  dob_years education  education_id  \\\n",
       "12         0    2194.220567         65   среднее             1   \n",
       "26         0    2194.220567         41   среднее             1   \n",
       "65         0    2194.220567         21   среднее             1   \n",
       "82         2    2194.220567         50    высшее             0   \n",
       "\n",
       "            family_status  family_status_id gender  income_type  debt  \\\n",
       "12       гражданский брак                 1      M    пенсионер     0   \n",
       "26        женат / замужем                 0      M  госслужащий     0   \n",
       "65  Не женат / не замужем                 4      M    компаньон     0   \n",
       "82        женат / замужем                 0      F    сотрудник     0   \n",
       "\n",
       "     total_income                                purpose  \n",
       "12  118514.486412                        сыграть свадьбу  \n",
       "26  150447.935283                            образование  \n",
       "65  172357.950966  операции с коммерческой недвижимостью  \n",
       "82  142594.396847                                  жилье  "
      ]
     },
     "execution_count": 21,
     "metadata": {},
     "output_type": "execute_result"
    }
   ],
   "source": [
    "# Создадим цикл для каждого элемента в столбце total_income с пропущенными значениями и каждым уникальным\n",
    "# значением столбца income_type.Зададим две переменные: \n",
    "# median - подсчитывающую медиану столбца total_income для заданного типа занятости income_type в столбце income_type\n",
    "# соединим два условия тип занятости и пропущенное значение столбца total_income и\n",
    "# заменим наконец-то каждое пропущеное значение дохода медианой по типу занятости.\n",
    "\n",
    "for income_type in df[df['total_income'].isna()]['income_type'].unique():\n",
    "    median = df[df['income_type'] == income_type]['total_income'].median()\n",
    "    df.loc[(df['income_type'] == income_type) & (df['total_income'].isna())] = \\\n",
    "    df.loc[(df['income_type'] == income_type) & (df['total_income'].isna())].fillna(median)\n",
    "#выведем строки с незаполненными ранее данными (строка 12,26,65,82), чтобы убедиться, что всё хорошо\n",
    "df.loc[[12,26,65,82]]\n"
   ]
  },
  {
   "cell_type": "markdown",
   "id": "3d4fdfd9",
   "metadata": {},
   "source": [
    "Проверка на наличие пропусков в таблице df"
   ]
  },
  {
   "cell_type": "code",
   "execution_count": 23,
   "id": "cb1f5a4f",
   "metadata": {},
   "outputs": [
    {
     "data": {
      "text/plain": [
       "children            0\n",
       "days_employed       0\n",
       "dob_years           0\n",
       "education           0\n",
       "education_id        0\n",
       "family_status       0\n",
       "family_status_id    0\n",
       "gender              0\n",
       "income_type         0\n",
       "debt                0\n",
       "total_income        0\n",
       "purpose             0\n",
       "dtype: int64"
      ]
     },
     "execution_count": 23,
     "metadata": {},
     "output_type": "execute_result"
    }
   ],
   "source": [
    "df.isna().sum()"
   ]
  },
  {
   "cell_type": "markdown",
   "id": "78e1bf13",
   "metadata": {},
   "source": [
    "Пропуски в столбцах \"общий трудовой стаж в днях\" и \"ежемесячный доход\" на первый взгляд могут быть обусловлены отсутствием официального трудоустройства, но каким образом банк выдал кредит лицу, который даже не предоставил документы, подтверждающие финансовое состояние и трудовую занятость заемщика? Возможно у клиентов есть поручители или они готовы оставить в залог имущество. В общем необходимо уточнить эту информацию у сотрудников банка, возможно банк не проверяет у клиентов официальный доход, но тогда почему он есть у других клиентов? Также возможно, если у банка много филиалов, из какого-то из них произошел сбой в выгрузке данных или просто эти данные не заполнил сотрудник. \n"
   ]
  },
  {
   "cell_type": "markdown",
   "id": "17f5a8b0",
   "metadata": {},
   "source": [
    "## Изменение типов данных"
   ]
  },
  {
   "cell_type": "markdown",
   "id": "a907867e",
   "metadata": {},
   "source": [
    "Замена вещественного типа данных в столбце `total_income` на целочисленный методом `astype()`."
   ]
  },
  {
   "cell_type": "code",
   "execution_count": 24,
   "id": "37816ebb",
   "metadata": {
    "scrolled": false
   },
   "outputs": [
    {
     "data": {
      "text/html": [
       "<div>\n",
       "<style scoped>\n",
       "    .dataframe tbody tr th:only-of-type {\n",
       "        vertical-align: middle;\n",
       "    }\n",
       "\n",
       "    .dataframe tbody tr th {\n",
       "        vertical-align: top;\n",
       "    }\n",
       "\n",
       "    .dataframe thead th {\n",
       "        text-align: right;\n",
       "    }\n",
       "</style>\n",
       "<table border=\"1\" class=\"dataframe\">\n",
       "  <thead>\n",
       "    <tr style=\"text-align: right;\">\n",
       "      <th></th>\n",
       "      <th>children</th>\n",
       "      <th>days_employed</th>\n",
       "      <th>dob_years</th>\n",
       "      <th>education</th>\n",
       "      <th>education_id</th>\n",
       "      <th>family_status</th>\n",
       "      <th>family_status_id</th>\n",
       "      <th>gender</th>\n",
       "      <th>income_type</th>\n",
       "      <th>debt</th>\n",
       "      <th>total_income</th>\n",
       "      <th>purpose</th>\n",
       "    </tr>\n",
       "  </thead>\n",
       "  <tbody>\n",
       "    <tr>\n",
       "      <td>0</td>\n",
       "      <td>1</td>\n",
       "      <td>8437.673028</td>\n",
       "      <td>42</td>\n",
       "      <td>высшее</td>\n",
       "      <td>0</td>\n",
       "      <td>женат / замужем</td>\n",
       "      <td>0</td>\n",
       "      <td>F</td>\n",
       "      <td>сотрудник</td>\n",
       "      <td>0</td>\n",
       "      <td>253875</td>\n",
       "      <td>покупка жилья</td>\n",
       "    </tr>\n",
       "    <tr>\n",
       "      <td>1</td>\n",
       "      <td>1</td>\n",
       "      <td>4024.803754</td>\n",
       "      <td>36</td>\n",
       "      <td>среднее</td>\n",
       "      <td>1</td>\n",
       "      <td>женат / замужем</td>\n",
       "      <td>0</td>\n",
       "      <td>F</td>\n",
       "      <td>сотрудник</td>\n",
       "      <td>0</td>\n",
       "      <td>112080</td>\n",
       "      <td>приобретение автомобиля</td>\n",
       "    </tr>\n",
       "    <tr>\n",
       "      <td>2</td>\n",
       "      <td>0</td>\n",
       "      <td>5623.422610</td>\n",
       "      <td>33</td>\n",
       "      <td>Среднее</td>\n",
       "      <td>1</td>\n",
       "      <td>женат / замужем</td>\n",
       "      <td>0</td>\n",
       "      <td>M</td>\n",
       "      <td>сотрудник</td>\n",
       "      <td>0</td>\n",
       "      <td>145885</td>\n",
       "      <td>покупка жилья</td>\n",
       "    </tr>\n",
       "    <tr>\n",
       "      <td>3</td>\n",
       "      <td>3</td>\n",
       "      <td>4124.747207</td>\n",
       "      <td>32</td>\n",
       "      <td>среднее</td>\n",
       "      <td>1</td>\n",
       "      <td>женат / замужем</td>\n",
       "      <td>0</td>\n",
       "      <td>M</td>\n",
       "      <td>сотрудник</td>\n",
       "      <td>0</td>\n",
       "      <td>267628</td>\n",
       "      <td>дополнительное образование</td>\n",
       "    </tr>\n",
       "    <tr>\n",
       "      <td>4</td>\n",
       "      <td>0</td>\n",
       "      <td>340266.072047</td>\n",
       "      <td>53</td>\n",
       "      <td>среднее</td>\n",
       "      <td>1</td>\n",
       "      <td>гражданский брак</td>\n",
       "      <td>1</td>\n",
       "      <td>F</td>\n",
       "      <td>пенсионер</td>\n",
       "      <td>0</td>\n",
       "      <td>158616</td>\n",
       "      <td>сыграть свадьбу</td>\n",
       "    </tr>\n",
       "  </tbody>\n",
       "</table>\n",
       "</div>"
      ],
      "text/plain": [
       "   children  days_employed  dob_years education  education_id  \\\n",
       "0         1    8437.673028         42    высшее             0   \n",
       "1         1    4024.803754         36   среднее             1   \n",
       "2         0    5623.422610         33   Среднее             1   \n",
       "3         3    4124.747207         32   среднее             1   \n",
       "4         0  340266.072047         53   среднее             1   \n",
       "\n",
       "      family_status  family_status_id gender income_type  debt  total_income  \\\n",
       "0   женат / замужем                 0      F   сотрудник     0        253875   \n",
       "1   женат / замужем                 0      F   сотрудник     0        112080   \n",
       "2   женат / замужем                 0      M   сотрудник     0        145885   \n",
       "3   женат / замужем                 0      M   сотрудник     0        267628   \n",
       "4  гражданский брак                 1      F   пенсионер     0        158616   \n",
       "\n",
       "                      purpose  \n",
       "0               покупка жилья  \n",
       "1     приобретение автомобиля  \n",
       "2               покупка жилья  \n",
       "3  дополнительное образование  \n",
       "4             сыграть свадьбу  "
      ]
     },
     "execution_count": 24,
     "metadata": {},
     "output_type": "execute_result"
    }
   ],
   "source": [
    "try:\n",
    "    df['total_income'] = df['total_income'].astype('int')\n",
    "except:\n",
    "    print('Ошибочка')\n",
    "df.head()"
   ]
  },
  {
   "cell_type": "markdown",
   "id": "bfad5798",
   "metadata": {},
   "source": [
    "Заменим и в столбце `days_employed`:"
   ]
  },
  {
   "cell_type": "code",
   "execution_count": 25,
   "id": "7893c9fe",
   "metadata": {},
   "outputs": [
    {
     "data": {
      "text/html": [
       "<div>\n",
       "<style scoped>\n",
       "    .dataframe tbody tr th:only-of-type {\n",
       "        vertical-align: middle;\n",
       "    }\n",
       "\n",
       "    .dataframe tbody tr th {\n",
       "        vertical-align: top;\n",
       "    }\n",
       "\n",
       "    .dataframe thead th {\n",
       "        text-align: right;\n",
       "    }\n",
       "</style>\n",
       "<table border=\"1\" class=\"dataframe\">\n",
       "  <thead>\n",
       "    <tr style=\"text-align: right;\">\n",
       "      <th></th>\n",
       "      <th>children</th>\n",
       "      <th>days_employed</th>\n",
       "      <th>dob_years</th>\n",
       "      <th>education</th>\n",
       "      <th>education_id</th>\n",
       "      <th>family_status</th>\n",
       "      <th>family_status_id</th>\n",
       "      <th>gender</th>\n",
       "      <th>income_type</th>\n",
       "      <th>debt</th>\n",
       "      <th>total_income</th>\n",
       "      <th>purpose</th>\n",
       "    </tr>\n",
       "  </thead>\n",
       "  <tbody>\n",
       "    <tr>\n",
       "      <td>0</td>\n",
       "      <td>1</td>\n",
       "      <td>8437</td>\n",
       "      <td>42</td>\n",
       "      <td>высшее</td>\n",
       "      <td>0</td>\n",
       "      <td>женат / замужем</td>\n",
       "      <td>0</td>\n",
       "      <td>F</td>\n",
       "      <td>сотрудник</td>\n",
       "      <td>0</td>\n",
       "      <td>253875</td>\n",
       "      <td>покупка жилья</td>\n",
       "    </tr>\n",
       "    <tr>\n",
       "      <td>1</td>\n",
       "      <td>1</td>\n",
       "      <td>4024</td>\n",
       "      <td>36</td>\n",
       "      <td>среднее</td>\n",
       "      <td>1</td>\n",
       "      <td>женат / замужем</td>\n",
       "      <td>0</td>\n",
       "      <td>F</td>\n",
       "      <td>сотрудник</td>\n",
       "      <td>0</td>\n",
       "      <td>112080</td>\n",
       "      <td>приобретение автомобиля</td>\n",
       "    </tr>\n",
       "    <tr>\n",
       "      <td>2</td>\n",
       "      <td>0</td>\n",
       "      <td>5623</td>\n",
       "      <td>33</td>\n",
       "      <td>Среднее</td>\n",
       "      <td>1</td>\n",
       "      <td>женат / замужем</td>\n",
       "      <td>0</td>\n",
       "      <td>M</td>\n",
       "      <td>сотрудник</td>\n",
       "      <td>0</td>\n",
       "      <td>145885</td>\n",
       "      <td>покупка жилья</td>\n",
       "    </tr>\n",
       "    <tr>\n",
       "      <td>3</td>\n",
       "      <td>3</td>\n",
       "      <td>4124</td>\n",
       "      <td>32</td>\n",
       "      <td>среднее</td>\n",
       "      <td>1</td>\n",
       "      <td>женат / замужем</td>\n",
       "      <td>0</td>\n",
       "      <td>M</td>\n",
       "      <td>сотрудник</td>\n",
       "      <td>0</td>\n",
       "      <td>267628</td>\n",
       "      <td>дополнительное образование</td>\n",
       "    </tr>\n",
       "    <tr>\n",
       "      <td>4</td>\n",
       "      <td>0</td>\n",
       "      <td>340266</td>\n",
       "      <td>53</td>\n",
       "      <td>среднее</td>\n",
       "      <td>1</td>\n",
       "      <td>гражданский брак</td>\n",
       "      <td>1</td>\n",
       "      <td>F</td>\n",
       "      <td>пенсионер</td>\n",
       "      <td>0</td>\n",
       "      <td>158616</td>\n",
       "      <td>сыграть свадьбу</td>\n",
       "    </tr>\n",
       "  </tbody>\n",
       "</table>\n",
       "</div>"
      ],
      "text/plain": [
       "   children  days_employed  dob_years education  education_id  \\\n",
       "0         1           8437         42    высшее             0   \n",
       "1         1           4024         36   среднее             1   \n",
       "2         0           5623         33   Среднее             1   \n",
       "3         3           4124         32   среднее             1   \n",
       "4         0         340266         53   среднее             1   \n",
       "\n",
       "      family_status  family_status_id gender income_type  debt  total_income  \\\n",
       "0   женат / замужем                 0      F   сотрудник     0        253875   \n",
       "1   женат / замужем                 0      F   сотрудник     0        112080   \n",
       "2   женат / замужем                 0      M   сотрудник     0        145885   \n",
       "3   женат / замужем                 0      M   сотрудник     0        267628   \n",
       "4  гражданский брак                 1      F   пенсионер     0        158616   \n",
       "\n",
       "                      purpose  \n",
       "0               покупка жилья  \n",
       "1     приобретение автомобиля  \n",
       "2               покупка жилья  \n",
       "3  дополнительное образование  \n",
       "4             сыграть свадьбу  "
      ]
     },
     "execution_count": 25,
     "metadata": {},
     "output_type": "execute_result"
    }
   ],
   "source": [
    "try:\n",
    "    df['days_employed'] = df['days_employed'].astype('int')\n",
    "except:\n",
    "    print('Ошибочка')\n",
    "df.head()"
   ]
  },
  {
   "cell_type": "markdown",
   "id": "f489502e",
   "metadata": {},
   "source": [
    "## Удаление дубликатов"
   ]
  },
  {
   "cell_type": "markdown",
   "id": "74a13026",
   "metadata": {},
   "source": [
    "Поиск явных дубликатов и подсчет их числа:"
   ]
  },
  {
   "cell_type": "code",
   "execution_count": 26,
   "id": "65189f41",
   "metadata": {},
   "outputs": [
    {
     "data": {
      "text/plain": [
       "54"
      ]
     },
     "execution_count": 26,
     "metadata": {},
     "output_type": "execute_result"
    }
   ],
   "source": [
    "df.duplicated().sum()"
   ]
  },
  {
   "cell_type": "markdown",
   "id": "dc87d164",
   "metadata": {},
   "source": [
    "Удалим дубликаты, создадим новые индексы, удаляя старые:"
   ]
  },
  {
   "cell_type": "code",
   "execution_count": 27,
   "id": "47b84449",
   "metadata": {},
   "outputs": [],
   "source": [
    "df = df.drop_duplicates().reset_index(drop=True)"
   ]
  },
  {
   "cell_type": "markdown",
   "id": "c64994a1",
   "metadata": {},
   "source": [
    "Проверка "
   ]
  },
  {
   "cell_type": "code",
   "execution_count": 28,
   "id": "e12c241d",
   "metadata": {},
   "outputs": [
    {
     "data": {
      "text/plain": [
       "0"
      ]
     },
     "execution_count": 28,
     "metadata": {},
     "output_type": "execute_result"
    }
   ],
   "source": [
    "df.duplicated().sum()"
   ]
  },
  {
   "cell_type": "markdown",
   "id": "eca4a01d",
   "metadata": {},
   "source": [
    "Проверка неявных дубликатов:"
   ]
  },
  {
   "cell_type": "code",
   "execution_count": 29,
   "id": "0bdc7cc6",
   "metadata": {},
   "outputs": [
    {
     "data": {
      "text/plain": [
       "среднее                13705\n",
       "высшее                  4710\n",
       "СРЕДНЕЕ                  772\n",
       "Среднее                  711\n",
       "неоконченное высшее      668\n",
       "ВЫСШЕЕ                   273\n",
       "Высшее                   268\n",
       "начальное                250\n",
       "Неоконченное высшее       47\n",
       "НЕОКОНЧЕННОЕ ВЫСШЕЕ       29\n",
       "НАЧАЛЬНОЕ                 17\n",
       "Начальное                 15\n",
       "ученая степень             4\n",
       "Ученая степень             1\n",
       "УЧЕНАЯ СТЕПЕНЬ             1\n",
       "Name: education, dtype: int64"
      ]
     },
     "execution_count": 29,
     "metadata": {},
     "output_type": "execute_result"
    }
   ],
   "source": [
    "df['education'].value_counts() # разный регистр "
   ]
  },
  {
   "cell_type": "markdown",
   "id": "ef6f3439",
   "metadata": {},
   "source": [
    "По результату работы функции value_counts() можно сделать вывод о  том, что дубликаты появились в следствии разного регистра букв. Исправим это используя метод str.lower():"
   ]
  },
  {
   "cell_type": "code",
   "execution_count": 30,
   "id": "aa1e18c3",
   "metadata": {},
   "outputs": [
    {
     "data": {
      "text/plain": [
       "array(['высшее', 'среднее', 'неоконченное высшее', 'начальное',\n",
       "       'ученая степень'], dtype=object)"
      ]
     },
     "execution_count": 30,
     "metadata": {},
     "output_type": "execute_result"
    }
   ],
   "source": [
    "df['education'] = df['education'].str.lower()\n",
    "df['education'].unique()"
   ]
  },
  {
   "cell_type": "markdown",
   "id": "8596c609",
   "metadata": {},
   "source": [
    "Для поиска явных дубликатов я использовала метод `duplicated()` в сочетании с методом `sum()`, потому что он возвращает количество дублирующих строк. И с помощью метода `drop_duplicates().reset_index(drop=True)` удалила эти повторяющиеся строки.\n",
    "\n",
    "Для проверки неявных дубликатов, я использовала метод `value_counts()`, который анализирует столбец, выбирает каждое уникальное значение и подсчитывает частоту его встречаемости в столбце `education`, таким образом было выявлено, что одинаковые значения были записаны разным регистром. Для приведения к одному регистру я использовала метод `str.lower()`.\n",
    "\n",
    "Наши неявные дубликаты это альтернативные написания одного и того же значения, т.е. при заполнении данных возможно у кого-то был включен Caps Lock, кто-то решил заполнять данные с большой буквы. Скорее всего причина таких дубликатов человеческий фактор, отсутствие правила по заполнению этой колонки. Причиной же явных повторений одних и тех же строк может быть задвоение данных."
   ]
  },
  {
   "cell_type": "markdown",
   "id": "a416c145",
   "metadata": {},
   "source": [
    "## Формирование дополнительных датафреймов словарей, декомпозиция исходного датафрейма."
   ]
  },
  {
   "cell_type": "markdown",
   "id": "58e17985",
   "metadata": {},
   "source": [
    "Создадим новые датафреймы словари для столбцов `education` и `family_status` для того, чтобы обращаться к ним в дальнейшем по идентификатору. "
   ]
  },
  {
   "cell_type": "code",
   "execution_count": 31,
   "id": "534831da",
   "metadata": {},
   "outputs": [
    {
     "data": {
      "text/html": [
       "<div>\n",
       "<style scoped>\n",
       "    .dataframe tbody tr th:only-of-type {\n",
       "        vertical-align: middle;\n",
       "    }\n",
       "\n",
       "    .dataframe tbody tr th {\n",
       "        vertical-align: top;\n",
       "    }\n",
       "\n",
       "    .dataframe thead th {\n",
       "        text-align: right;\n",
       "    }\n",
       "</style>\n",
       "<table border=\"1\" class=\"dataframe\">\n",
       "  <thead>\n",
       "    <tr style=\"text-align: right;\">\n",
       "      <th></th>\n",
       "      <th>education_id</th>\n",
       "      <th>education</th>\n",
       "    </tr>\n",
       "  </thead>\n",
       "  <tbody>\n",
       "    <tr>\n",
       "      <td>0</td>\n",
       "      <td>0</td>\n",
       "      <td>высшее</td>\n",
       "    </tr>\n",
       "    <tr>\n",
       "      <td>1</td>\n",
       "      <td>1</td>\n",
       "      <td>среднее</td>\n",
       "    </tr>\n",
       "    <tr>\n",
       "      <td>2</td>\n",
       "      <td>2</td>\n",
       "      <td>неоконченное высшее</td>\n",
       "    </tr>\n",
       "    <tr>\n",
       "      <td>3</td>\n",
       "      <td>3</td>\n",
       "      <td>начальное</td>\n",
       "    </tr>\n",
       "    <tr>\n",
       "      <td>4</td>\n",
       "      <td>4</td>\n",
       "      <td>ученая степень</td>\n",
       "    </tr>\n",
       "  </tbody>\n",
       "</table>\n",
       "</div>"
      ],
      "text/plain": [
       "   education_id            education\n",
       "0             0               высшее\n",
       "1             1              среднее\n",
       "2             2  неоконченное высшее\n",
       "3             3            начальное\n",
       "4             4       ученая степень"
      ]
     },
     "execution_count": 31,
     "metadata": {},
     "output_type": "execute_result"
    }
   ],
   "source": [
    "education_dict = df[['education_id','education']]\n",
    "education_dict = education_dict.drop_duplicates().reset_index(drop=True) # Удалим дубликаты\n",
    "education_dict"
   ]
  },
  {
   "cell_type": "code",
   "execution_count": 32,
   "id": "53efa2af",
   "metadata": {},
   "outputs": [
    {
     "data": {
      "text/html": [
       "<div>\n",
       "<style scoped>\n",
       "    .dataframe tbody tr th:only-of-type {\n",
       "        vertical-align: middle;\n",
       "    }\n",
       "\n",
       "    .dataframe tbody tr th {\n",
       "        vertical-align: top;\n",
       "    }\n",
       "\n",
       "    .dataframe thead th {\n",
       "        text-align: right;\n",
       "    }\n",
       "</style>\n",
       "<table border=\"1\" class=\"dataframe\">\n",
       "  <thead>\n",
       "    <tr style=\"text-align: right;\">\n",
       "      <th></th>\n",
       "      <th>family_status_id</th>\n",
       "      <th>family_status</th>\n",
       "    </tr>\n",
       "  </thead>\n",
       "  <tbody>\n",
       "    <tr>\n",
       "      <td>0</td>\n",
       "      <td>0</td>\n",
       "      <td>женат / замужем</td>\n",
       "    </tr>\n",
       "    <tr>\n",
       "      <td>1</td>\n",
       "      <td>1</td>\n",
       "      <td>гражданский брак</td>\n",
       "    </tr>\n",
       "    <tr>\n",
       "      <td>2</td>\n",
       "      <td>2</td>\n",
       "      <td>вдовец / вдова</td>\n",
       "    </tr>\n",
       "    <tr>\n",
       "      <td>3</td>\n",
       "      <td>3</td>\n",
       "      <td>в разводе</td>\n",
       "    </tr>\n",
       "    <tr>\n",
       "      <td>4</td>\n",
       "      <td>4</td>\n",
       "      <td>Не женат / не замужем</td>\n",
       "    </tr>\n",
       "  </tbody>\n",
       "</table>\n",
       "</div>"
      ],
      "text/plain": [
       "   family_status_id          family_status\n",
       "0                 0        женат / замужем\n",
       "1                 1       гражданский брак\n",
       "2                 2         вдовец / вдова\n",
       "3                 3              в разводе\n",
       "4                 4  Не женат / не замужем"
      ]
     },
     "execution_count": 32,
     "metadata": {},
     "output_type": "execute_result"
    }
   ],
   "source": [
    "status_dict = df[['family_status_id','family_status']]\n",
    "status_dict = status_dict.drop_duplicates().reset_index(drop=True) # Удалим дубликаты\n",
    "status_dict"
   ]
  },
  {
   "cell_type": "markdown",
   "id": "38f6af8f",
   "metadata": {},
   "source": [
    "Удаляем два столбца и заменяем исходный df:"
   ]
  },
  {
   "cell_type": "code",
   "execution_count": 33,
   "id": "bea889a8",
   "metadata": {
    "scrolled": true
   },
   "outputs": [
    {
     "data": {
      "text/html": [
       "<div>\n",
       "<style scoped>\n",
       "    .dataframe tbody tr th:only-of-type {\n",
       "        vertical-align: middle;\n",
       "    }\n",
       "\n",
       "    .dataframe tbody tr th {\n",
       "        vertical-align: top;\n",
       "    }\n",
       "\n",
       "    .dataframe thead th {\n",
       "        text-align: right;\n",
       "    }\n",
       "</style>\n",
       "<table border=\"1\" class=\"dataframe\">\n",
       "  <thead>\n",
       "    <tr style=\"text-align: right;\">\n",
       "      <th></th>\n",
       "      <th>children</th>\n",
       "      <th>days_employed</th>\n",
       "      <th>dob_years</th>\n",
       "      <th>education_id</th>\n",
       "      <th>family_status_id</th>\n",
       "      <th>gender</th>\n",
       "      <th>income_type</th>\n",
       "      <th>debt</th>\n",
       "      <th>total_income</th>\n",
       "      <th>purpose</th>\n",
       "    </tr>\n",
       "  </thead>\n",
       "  <tbody>\n",
       "    <tr>\n",
       "      <td>0</td>\n",
       "      <td>1</td>\n",
       "      <td>8437</td>\n",
       "      <td>42</td>\n",
       "      <td>0</td>\n",
       "      <td>0</td>\n",
       "      <td>F</td>\n",
       "      <td>сотрудник</td>\n",
       "      <td>0</td>\n",
       "      <td>253875</td>\n",
       "      <td>покупка жилья</td>\n",
       "    </tr>\n",
       "    <tr>\n",
       "      <td>1</td>\n",
       "      <td>1</td>\n",
       "      <td>4024</td>\n",
       "      <td>36</td>\n",
       "      <td>1</td>\n",
       "      <td>0</td>\n",
       "      <td>F</td>\n",
       "      <td>сотрудник</td>\n",
       "      <td>0</td>\n",
       "      <td>112080</td>\n",
       "      <td>приобретение автомобиля</td>\n",
       "    </tr>\n",
       "    <tr>\n",
       "      <td>2</td>\n",
       "      <td>0</td>\n",
       "      <td>5623</td>\n",
       "      <td>33</td>\n",
       "      <td>1</td>\n",
       "      <td>0</td>\n",
       "      <td>M</td>\n",
       "      <td>сотрудник</td>\n",
       "      <td>0</td>\n",
       "      <td>145885</td>\n",
       "      <td>покупка жилья</td>\n",
       "    </tr>\n",
       "    <tr>\n",
       "      <td>3</td>\n",
       "      <td>3</td>\n",
       "      <td>4124</td>\n",
       "      <td>32</td>\n",
       "      <td>1</td>\n",
       "      <td>0</td>\n",
       "      <td>M</td>\n",
       "      <td>сотрудник</td>\n",
       "      <td>0</td>\n",
       "      <td>267628</td>\n",
       "      <td>дополнительное образование</td>\n",
       "    </tr>\n",
       "    <tr>\n",
       "      <td>4</td>\n",
       "      <td>0</td>\n",
       "      <td>340266</td>\n",
       "      <td>53</td>\n",
       "      <td>1</td>\n",
       "      <td>1</td>\n",
       "      <td>F</td>\n",
       "      <td>пенсионер</td>\n",
       "      <td>0</td>\n",
       "      <td>158616</td>\n",
       "      <td>сыграть свадьбу</td>\n",
       "    </tr>\n",
       "  </tbody>\n",
       "</table>\n",
       "</div>"
      ],
      "text/plain": [
       "   children  days_employed  dob_years  education_id  family_status_id gender  \\\n",
       "0         1           8437         42             0                 0      F   \n",
       "1         1           4024         36             1                 0      F   \n",
       "2         0           5623         33             1                 0      M   \n",
       "3         3           4124         32             1                 0      M   \n",
       "4         0         340266         53             1                 1      F   \n",
       "\n",
       "  income_type  debt  total_income                     purpose  \n",
       "0   сотрудник     0        253875               покупка жилья  \n",
       "1   сотрудник     0        112080     приобретение автомобиля  \n",
       "2   сотрудник     0        145885               покупка жилья  \n",
       "3   сотрудник     0        267628  дополнительное образование  \n",
       "4   пенсионер     0        158616             сыграть свадьбу  "
      ]
     },
     "execution_count": 33,
     "metadata": {},
     "output_type": "execute_result"
    }
   ],
   "source": [
    "df.drop(columns = ['education', 'family_status'],axis = 1, inplace=True)\n",
    "df.head()"
   ]
  },
  {
   "cell_type": "markdown",
   "id": "9c4cf855",
   "metadata": {},
   "source": [
    "Были созданы два словаря education_dict и status_dict, удалены лишние столбцы `education` и `family_status`. Теперь к словарям можно обращаться по идентификатору education_id и family_status_id."
   ]
  },
  {
   "cell_type": "markdown",
   "id": "c424d777",
   "metadata": {},
   "source": [
    "## Категоризация дохода"
   ]
  },
  {
   "cell_type": "markdown",
   "id": "5f3793d5",
   "metadata": {},
   "source": [
    " Для категоризации дохода напишем функцию.\n",
    " На вход функции помещается среднемесячный доход, а возвращает она категорию, используя правила:\n",
    "* 0–30000 — 'E';\n",
    "* 30001–50000 — 'D';\n",
    "* 50001–200000 — 'C';\n",
    "* 200001–1000000 — 'B';\n",
    "* 1000001 и выше — 'A'.\n",
    "\n",
    "Далее протестируем функцию значениями из разных категорий. И добавим в первоначальную таблицу с данными отдельный столбец total_income_category с этими категориями."
   ]
  },
  {
   "cell_type": "code",
   "execution_count": 34,
   "id": "c30db7fb",
   "metadata": {},
   "outputs": [
    {
     "name": "stdout",
     "output_type": "stream",
     "text": [
      "E\n",
      "B\n"
     ]
    }
   ],
   "source": [
    "def income_category(total_income):\n",
    "    if 0 < total_income < 30000:\n",
    "        return 'E'\n",
    "    if 30001 < total_income < 50000:\n",
    "        return 'D'\n",
    "    if 50001 < total_income < 200000:\n",
    "        return 'C'\n",
    "    if 200001 < total_income < 1000000:\n",
    "        return 'B'\n",
    "    return 'A'\n",
    "print(income_category(25000))\n",
    "print(income_category(235000))\n",
    "\n"
   ]
  },
  {
   "cell_type": "code",
   "execution_count": 35,
   "id": "dfc59fd7",
   "metadata": {},
   "outputs": [
    {
     "data": {
      "text/html": [
       "<div>\n",
       "<style scoped>\n",
       "    .dataframe tbody tr th:only-of-type {\n",
       "        vertical-align: middle;\n",
       "    }\n",
       "\n",
       "    .dataframe tbody tr th {\n",
       "        vertical-align: top;\n",
       "    }\n",
       "\n",
       "    .dataframe thead th {\n",
       "        text-align: right;\n",
       "    }\n",
       "</style>\n",
       "<table border=\"1\" class=\"dataframe\">\n",
       "  <thead>\n",
       "    <tr style=\"text-align: right;\">\n",
       "      <th></th>\n",
       "      <th>children</th>\n",
       "      <th>days_employed</th>\n",
       "      <th>dob_years</th>\n",
       "      <th>education_id</th>\n",
       "      <th>family_status_id</th>\n",
       "      <th>gender</th>\n",
       "      <th>income_type</th>\n",
       "      <th>debt</th>\n",
       "      <th>total_income</th>\n",
       "      <th>purpose</th>\n",
       "      <th>total_income_category</th>\n",
       "    </tr>\n",
       "  </thead>\n",
       "  <tbody>\n",
       "    <tr>\n",
       "      <td>0</td>\n",
       "      <td>1</td>\n",
       "      <td>8437</td>\n",
       "      <td>42</td>\n",
       "      <td>0</td>\n",
       "      <td>0</td>\n",
       "      <td>F</td>\n",
       "      <td>сотрудник</td>\n",
       "      <td>0</td>\n",
       "      <td>253875</td>\n",
       "      <td>покупка жилья</td>\n",
       "      <td>B</td>\n",
       "    </tr>\n",
       "    <tr>\n",
       "      <td>1</td>\n",
       "      <td>1</td>\n",
       "      <td>4024</td>\n",
       "      <td>36</td>\n",
       "      <td>1</td>\n",
       "      <td>0</td>\n",
       "      <td>F</td>\n",
       "      <td>сотрудник</td>\n",
       "      <td>0</td>\n",
       "      <td>112080</td>\n",
       "      <td>приобретение автомобиля</td>\n",
       "      <td>C</td>\n",
       "    </tr>\n",
       "    <tr>\n",
       "      <td>2</td>\n",
       "      <td>0</td>\n",
       "      <td>5623</td>\n",
       "      <td>33</td>\n",
       "      <td>1</td>\n",
       "      <td>0</td>\n",
       "      <td>M</td>\n",
       "      <td>сотрудник</td>\n",
       "      <td>0</td>\n",
       "      <td>145885</td>\n",
       "      <td>покупка жилья</td>\n",
       "      <td>C</td>\n",
       "    </tr>\n",
       "    <tr>\n",
       "      <td>3</td>\n",
       "      <td>3</td>\n",
       "      <td>4124</td>\n",
       "      <td>32</td>\n",
       "      <td>1</td>\n",
       "      <td>0</td>\n",
       "      <td>M</td>\n",
       "      <td>сотрудник</td>\n",
       "      <td>0</td>\n",
       "      <td>267628</td>\n",
       "      <td>дополнительное образование</td>\n",
       "      <td>B</td>\n",
       "    </tr>\n",
       "    <tr>\n",
       "      <td>4</td>\n",
       "      <td>0</td>\n",
       "      <td>340266</td>\n",
       "      <td>53</td>\n",
       "      <td>1</td>\n",
       "      <td>1</td>\n",
       "      <td>F</td>\n",
       "      <td>пенсионер</td>\n",
       "      <td>0</td>\n",
       "      <td>158616</td>\n",
       "      <td>сыграть свадьбу</td>\n",
       "      <td>C</td>\n",
       "    </tr>\n",
       "  </tbody>\n",
       "</table>\n",
       "</div>"
      ],
      "text/plain": [
       "   children  days_employed  dob_years  education_id  family_status_id gender  \\\n",
       "0         1           8437         42             0                 0      F   \n",
       "1         1           4024         36             1                 0      F   \n",
       "2         0           5623         33             1                 0      M   \n",
       "3         3           4124         32             1                 0      M   \n",
       "4         0         340266         53             1                 1      F   \n",
       "\n",
       "  income_type  debt  total_income                     purpose  \\\n",
       "0   сотрудник     0        253875               покупка жилья   \n",
       "1   сотрудник     0        112080     приобретение автомобиля   \n",
       "2   сотрудник     0        145885               покупка жилья   \n",
       "3   сотрудник     0        267628  дополнительное образование   \n",
       "4   пенсионер     0        158616             сыграть свадьбу   \n",
       "\n",
       "  total_income_category  \n",
       "0                     B  \n",
       "1                     C  \n",
       "2                     C  \n",
       "3                     B  \n",
       "4                     C  "
      ]
     },
     "execution_count": 35,
     "metadata": {},
     "output_type": "execute_result"
    }
   ],
   "source": [
    "df['total_income_category'] = df['total_income'].apply(income_category)\n",
    "df.head()"
   ]
  },
  {
   "cell_type": "markdown",
   "id": "58b204bf",
   "metadata": {},
   "source": [
    "Чтобы ознакомиться с данными по категориям выведем по ним статистику методом value_counts():"
   ]
  },
  {
   "cell_type": "code",
   "execution_count": 36,
   "id": "bd795bc4",
   "metadata": {},
   "outputs": [
    {
     "data": {
      "text/plain": [
       "C    16032\n",
       "B     5041\n",
       "D      350\n",
       "A       26\n",
       "E       22\n",
       "Name: total_income_category, dtype: int64"
      ]
     },
     "execution_count": 36,
     "metadata": {},
     "output_type": "execute_result"
    }
   ],
   "source": [
    "df['total_income_category'].value_counts()"
   ]
  },
  {
   "cell_type": "markdown",
   "id": "9617c03c",
   "metadata": {},
   "source": [
    "Вывод: \n",
    "* Основными клиентами банка являются люди, попадающие в категории \"B\" и \"C\" с доходом от 50тыс до 1млн.Это может объясняться тем, что у них есть высокий стабильный доход, они уверены в том, что смогут выплатить кредит, их не останаливают проценты по нему и они хотят получить то ради чего они берут кредит сейчас, а не копить на свои цели. \n",
    "* Клиентов категории \"E\" и\"A\" с доходом меньше 30тыс и больше 1 млн одинаково мало. Также стоит отметить клиетов категории \"D\" с доходом до 50 тыс, которых тоже мало относительно категорий \"B\" и \"C\" в данной выборке. Причины у клиентов с доходом меньше 50 тыс скорее всего обратные вышеперечисленным, т.е. невысокий доход, относительно которого проценты по кредиту кажутся слишком большими и в целях экономии люди копят на свои цели. А клиентам с доходом более 1 млн видимо брать кредит не имеет смысла. "
   ]
  },
  {
   "cell_type": "markdown",
   "id": "a5792817",
   "metadata": {},
   "source": [
    "## Категоризация целей кредита"
   ]
  },
  {
   "cell_type": "markdown",
   "id": "1c1f8672",
   "metadata": {},
   "source": [
    "Для начала изучим данные в столбце purpose:"
   ]
  },
  {
   "cell_type": "code",
   "execution_count": 37,
   "id": "082ee15d",
   "metadata": {},
   "outputs": [
    {
     "data": {
      "text/plain": [
       "array(['покупка жилья', 'приобретение автомобиля',\n",
       "       'дополнительное образование', 'сыграть свадьбу',\n",
       "       'операции с жильем', 'образование', 'на проведение свадьбы',\n",
       "       'покупка жилья для семьи', 'покупка недвижимости',\n",
       "       'покупка коммерческой недвижимости', 'покупка жилой недвижимости',\n",
       "       'строительство собственной недвижимости', 'недвижимость',\n",
       "       'строительство недвижимости', 'на покупку подержанного автомобиля',\n",
       "       'на покупку своего автомобиля',\n",
       "       'операции с коммерческой недвижимостью',\n",
       "       'строительство жилой недвижимости', 'жилье',\n",
       "       'операции со своей недвижимостью', 'автомобили',\n",
       "       'заняться образованием', 'сделка с подержанным автомобилем',\n",
       "       'получение образования', 'автомобиль', 'свадьба',\n",
       "       'получение дополнительного образования', 'покупка своего жилья',\n",
       "       'операции с недвижимостью', 'получение высшего образования',\n",
       "       'свой автомобиль', 'сделка с автомобилем',\n",
       "       'профильное образование', 'высшее образование',\n",
       "       'покупка жилья для сдачи', 'на покупку автомобиля', 'ремонт жилью',\n",
       "       'заняться высшим образованием'], dtype=object)"
      ]
     },
     "execution_count": 37,
     "metadata": {},
     "output_type": "execute_result"
    }
   ],
   "source": [
    "df['purpose'].unique()"
   ]
  },
  {
   "cell_type": "markdown",
   "id": "78b593bb",
   "metadata": {},
   "source": [
    "Создадим функцию которая на основании данных из столбца `purpose` сформирует новый столбец `purpose_category`, в который войдут следующие категории:\n",
    "* операции с автомобилем,\n",
    "* операции с недвижимостью,\n",
    "* проведение свадьбы,\n",
    "* получение образования."
   ]
  },
  {
   "cell_type": "code",
   "execution_count": 38,
   "id": "08ffb7aa",
   "metadata": {},
   "outputs": [
    {
     "name": "stdout",
     "output_type": "stream",
     "text": [
      "операции с недвижимостью\n",
      "операции с автомобилем\n"
     ]
    }
   ],
   "source": [
    "def for_purpose_category(purpose):\n",
    "    if 'автомобил' in purpose:\n",
    "        return 'операции с автомобилем'\n",
    "    if 'жиль' in purpose or 'недвиж' in purpose:\n",
    "        return 'операции с недвижимостью'\n",
    "    if 'свадьб' in purpose:\n",
    "        return 'проведение свадьбы'\n",
    "    if 'образован' in purpose:\n",
    "        return 'получение образования'\n",
    "    return 'другое' # чтобы проверить не упустила ли я что-то.\n",
    "print(for_purpose_category('покупка жилой недвижимости')) # проверки работы функции\n",
    "print(for_purpose_category('сделка с автомобилем'))\n"
   ]
  },
  {
   "cell_type": "code",
   "execution_count": 39,
   "id": "6c4e476a",
   "metadata": {},
   "outputs": [
    {
     "data": {
      "text/html": [
       "<div>\n",
       "<style scoped>\n",
       "    .dataframe tbody tr th:only-of-type {\n",
       "        vertical-align: middle;\n",
       "    }\n",
       "\n",
       "    .dataframe tbody tr th {\n",
       "        vertical-align: top;\n",
       "    }\n",
       "\n",
       "    .dataframe thead th {\n",
       "        text-align: right;\n",
       "    }\n",
       "</style>\n",
       "<table border=\"1\" class=\"dataframe\">\n",
       "  <thead>\n",
       "    <tr style=\"text-align: right;\">\n",
       "      <th></th>\n",
       "      <th>children</th>\n",
       "      <th>days_employed</th>\n",
       "      <th>dob_years</th>\n",
       "      <th>education_id</th>\n",
       "      <th>family_status_id</th>\n",
       "      <th>gender</th>\n",
       "      <th>income_type</th>\n",
       "      <th>debt</th>\n",
       "      <th>total_income</th>\n",
       "      <th>purpose</th>\n",
       "      <th>total_income_category</th>\n",
       "      <th>purpose_category</th>\n",
       "    </tr>\n",
       "  </thead>\n",
       "  <tbody>\n",
       "    <tr>\n",
       "      <td>0</td>\n",
       "      <td>1</td>\n",
       "      <td>8437</td>\n",
       "      <td>42</td>\n",
       "      <td>0</td>\n",
       "      <td>0</td>\n",
       "      <td>F</td>\n",
       "      <td>сотрудник</td>\n",
       "      <td>0</td>\n",
       "      <td>253875</td>\n",
       "      <td>покупка жилья</td>\n",
       "      <td>B</td>\n",
       "      <td>операции с недвижимостью</td>\n",
       "    </tr>\n",
       "    <tr>\n",
       "      <td>1</td>\n",
       "      <td>1</td>\n",
       "      <td>4024</td>\n",
       "      <td>36</td>\n",
       "      <td>1</td>\n",
       "      <td>0</td>\n",
       "      <td>F</td>\n",
       "      <td>сотрудник</td>\n",
       "      <td>0</td>\n",
       "      <td>112080</td>\n",
       "      <td>приобретение автомобиля</td>\n",
       "      <td>C</td>\n",
       "      <td>операции с автомобилем</td>\n",
       "    </tr>\n",
       "    <tr>\n",
       "      <td>2</td>\n",
       "      <td>0</td>\n",
       "      <td>5623</td>\n",
       "      <td>33</td>\n",
       "      <td>1</td>\n",
       "      <td>0</td>\n",
       "      <td>M</td>\n",
       "      <td>сотрудник</td>\n",
       "      <td>0</td>\n",
       "      <td>145885</td>\n",
       "      <td>покупка жилья</td>\n",
       "      <td>C</td>\n",
       "      <td>операции с недвижимостью</td>\n",
       "    </tr>\n",
       "    <tr>\n",
       "      <td>3</td>\n",
       "      <td>3</td>\n",
       "      <td>4124</td>\n",
       "      <td>32</td>\n",
       "      <td>1</td>\n",
       "      <td>0</td>\n",
       "      <td>M</td>\n",
       "      <td>сотрудник</td>\n",
       "      <td>0</td>\n",
       "      <td>267628</td>\n",
       "      <td>дополнительное образование</td>\n",
       "      <td>B</td>\n",
       "      <td>получение образования</td>\n",
       "    </tr>\n",
       "    <tr>\n",
       "      <td>4</td>\n",
       "      <td>0</td>\n",
       "      <td>340266</td>\n",
       "      <td>53</td>\n",
       "      <td>1</td>\n",
       "      <td>1</td>\n",
       "      <td>F</td>\n",
       "      <td>пенсионер</td>\n",
       "      <td>0</td>\n",
       "      <td>158616</td>\n",
       "      <td>сыграть свадьбу</td>\n",
       "      <td>C</td>\n",
       "      <td>проведение свадьбы</td>\n",
       "    </tr>\n",
       "  </tbody>\n",
       "</table>\n",
       "</div>"
      ],
      "text/plain": [
       "   children  days_employed  dob_years  education_id  family_status_id gender  \\\n",
       "0         1           8437         42             0                 0      F   \n",
       "1         1           4024         36             1                 0      F   \n",
       "2         0           5623         33             1                 0      M   \n",
       "3         3           4124         32             1                 0      M   \n",
       "4         0         340266         53             1                 1      F   \n",
       "\n",
       "  income_type  debt  total_income                     purpose  \\\n",
       "0   сотрудник     0        253875               покупка жилья   \n",
       "1   сотрудник     0        112080     приобретение автомобиля   \n",
       "2   сотрудник     0        145885               покупка жилья   \n",
       "3   сотрудник     0        267628  дополнительное образование   \n",
       "4   пенсионер     0        158616             сыграть свадьбу   \n",
       "\n",
       "  total_income_category          purpose_category  \n",
       "0                     B  операции с недвижимостью  \n",
       "1                     C    операции с автомобилем  \n",
       "2                     C  операции с недвижимостью  \n",
       "3                     B     получение образования  \n",
       "4                     C        проведение свадьбы  "
      ]
     },
     "execution_count": 39,
     "metadata": {},
     "output_type": "execute_result"
    }
   ],
   "source": [
    "df['purpose_category'] = df['purpose'].apply(for_purpose_category)\n",
    "df.head()"
   ]
  },
  {
   "cell_type": "code",
   "execution_count": 40,
   "id": "3a49759a",
   "metadata": {},
   "outputs": [
    {
     "data": {
      "text/plain": [
       "операции с недвижимостью    10814\n",
       "операции с автомобилем       4308\n",
       "получение образования        4014\n",
       "проведение свадьбы           2335\n",
       "Name: purpose_category, dtype: int64"
      ]
     },
     "execution_count": 40,
     "metadata": {},
     "output_type": "execute_result"
    }
   ],
   "source": [
    "df['purpose_category'].value_counts()"
   ]
  },
  {
   "cell_type": "markdown",
   "id": "9e81d8b2",
   "metadata": {},
   "source": [
    "Операция по категоризации целей кредита прошла успешно. \n",
    "\n",
    "* Больше всего клиентов берут кредит с целью проведения операций с недвижимостью (10814).\n",
    "* На операции с автомобилем (4308) и получение образования (4014) приходится практически одинаковое число клиентов.\n",
    "* Меньше всего клиентов берут кредит с целью проведения свадьбы (2335)."
   ]
  },
  {
   "cell_type": "markdown",
   "id": "c871e880",
   "metadata": {},
   "source": [
    "## Категоризация количества детей"
   ]
  },
  {
   "cell_type": "markdown",
   "id": "ffe7ea1e",
   "metadata": {},
   "source": [
    "Создадим функцию для категоризации клиентов с детьми, чтобы использовать её в дальнейшем при проверки гипотезы о зависимоти количества детей и возвратом кредита в срок."
   ]
  },
  {
   "cell_type": "code",
   "execution_count": 41,
   "id": "bcfe4d62",
   "metadata": {},
   "outputs": [
    {
     "name": "stdout",
     "output_type": "stream",
     "text": [
      "два ребёнка\n",
      "от 3 до 5 детей\n"
     ]
    }
   ],
   "source": [
    "def children_category (children):\n",
    "    if children == 0:\n",
    "        return 'нет детей'\n",
    "    if children == 1:\n",
    "        return 'один ребёнок'\n",
    "    if children == 2:\n",
    "        return 'два ребёнка'\n",
    "    return 'от 3 до 5 детей'\n",
    "print(children_category(2)) # проверки работы функции\n",
    "print(children_category(5))\n"
   ]
  },
  {
   "cell_type": "code",
   "execution_count": 42,
   "id": "6c9d71b6",
   "metadata": {},
   "outputs": [
    {
     "data": {
      "text/html": [
       "<div>\n",
       "<style scoped>\n",
       "    .dataframe tbody tr th:only-of-type {\n",
       "        vertical-align: middle;\n",
       "    }\n",
       "\n",
       "    .dataframe tbody tr th {\n",
       "        vertical-align: top;\n",
       "    }\n",
       "\n",
       "    .dataframe thead th {\n",
       "        text-align: right;\n",
       "    }\n",
       "</style>\n",
       "<table border=\"1\" class=\"dataframe\">\n",
       "  <thead>\n",
       "    <tr style=\"text-align: right;\">\n",
       "      <th></th>\n",
       "      <th>children</th>\n",
       "      <th>days_employed</th>\n",
       "      <th>dob_years</th>\n",
       "      <th>education_id</th>\n",
       "      <th>family_status_id</th>\n",
       "      <th>gender</th>\n",
       "      <th>income_type</th>\n",
       "      <th>debt</th>\n",
       "      <th>total_income</th>\n",
       "      <th>purpose</th>\n",
       "      <th>total_income_category</th>\n",
       "      <th>purpose_category</th>\n",
       "      <th>children_category</th>\n",
       "    </tr>\n",
       "  </thead>\n",
       "  <tbody>\n",
       "    <tr>\n",
       "      <td>0</td>\n",
       "      <td>1</td>\n",
       "      <td>8437</td>\n",
       "      <td>42</td>\n",
       "      <td>0</td>\n",
       "      <td>0</td>\n",
       "      <td>F</td>\n",
       "      <td>сотрудник</td>\n",
       "      <td>0</td>\n",
       "      <td>253875</td>\n",
       "      <td>покупка жилья</td>\n",
       "      <td>B</td>\n",
       "      <td>операции с недвижимостью</td>\n",
       "      <td>один ребёнок</td>\n",
       "    </tr>\n",
       "    <tr>\n",
       "      <td>1</td>\n",
       "      <td>1</td>\n",
       "      <td>4024</td>\n",
       "      <td>36</td>\n",
       "      <td>1</td>\n",
       "      <td>0</td>\n",
       "      <td>F</td>\n",
       "      <td>сотрудник</td>\n",
       "      <td>0</td>\n",
       "      <td>112080</td>\n",
       "      <td>приобретение автомобиля</td>\n",
       "      <td>C</td>\n",
       "      <td>операции с автомобилем</td>\n",
       "      <td>один ребёнок</td>\n",
       "    </tr>\n",
       "    <tr>\n",
       "      <td>2</td>\n",
       "      <td>0</td>\n",
       "      <td>5623</td>\n",
       "      <td>33</td>\n",
       "      <td>1</td>\n",
       "      <td>0</td>\n",
       "      <td>M</td>\n",
       "      <td>сотрудник</td>\n",
       "      <td>0</td>\n",
       "      <td>145885</td>\n",
       "      <td>покупка жилья</td>\n",
       "      <td>C</td>\n",
       "      <td>операции с недвижимостью</td>\n",
       "      <td>нет детей</td>\n",
       "    </tr>\n",
       "    <tr>\n",
       "      <td>3</td>\n",
       "      <td>3</td>\n",
       "      <td>4124</td>\n",
       "      <td>32</td>\n",
       "      <td>1</td>\n",
       "      <td>0</td>\n",
       "      <td>M</td>\n",
       "      <td>сотрудник</td>\n",
       "      <td>0</td>\n",
       "      <td>267628</td>\n",
       "      <td>дополнительное образование</td>\n",
       "      <td>B</td>\n",
       "      <td>получение образования</td>\n",
       "      <td>от 3 до 5 детей</td>\n",
       "    </tr>\n",
       "    <tr>\n",
       "      <td>4</td>\n",
       "      <td>0</td>\n",
       "      <td>340266</td>\n",
       "      <td>53</td>\n",
       "      <td>1</td>\n",
       "      <td>1</td>\n",
       "      <td>F</td>\n",
       "      <td>пенсионер</td>\n",
       "      <td>0</td>\n",
       "      <td>158616</td>\n",
       "      <td>сыграть свадьбу</td>\n",
       "      <td>C</td>\n",
       "      <td>проведение свадьбы</td>\n",
       "      <td>нет детей</td>\n",
       "    </tr>\n",
       "  </tbody>\n",
       "</table>\n",
       "</div>"
      ],
      "text/plain": [
       "   children  days_employed  dob_years  education_id  family_status_id gender  \\\n",
       "0         1           8437         42             0                 0      F   \n",
       "1         1           4024         36             1                 0      F   \n",
       "2         0           5623         33             1                 0      M   \n",
       "3         3           4124         32             1                 0      M   \n",
       "4         0         340266         53             1                 1      F   \n",
       "\n",
       "  income_type  debt  total_income                     purpose  \\\n",
       "0   сотрудник     0        253875               покупка жилья   \n",
       "1   сотрудник     0        112080     приобретение автомобиля   \n",
       "2   сотрудник     0        145885               покупка жилья   \n",
       "3   сотрудник     0        267628  дополнительное образование   \n",
       "4   пенсионер     0        158616             сыграть свадьбу   \n",
       "\n",
       "  total_income_category          purpose_category children_category  \n",
       "0                     B  операции с недвижимостью      один ребёнок  \n",
       "1                     C    операции с автомобилем      один ребёнок  \n",
       "2                     C  операции с недвижимостью         нет детей  \n",
       "3                     B     получение образования   от 3 до 5 детей  \n",
       "4                     C        проведение свадьбы         нет детей  "
      ]
     },
     "execution_count": 42,
     "metadata": {},
     "output_type": "execute_result"
    }
   ],
   "source": [
    "df['children_category'] = df['children'].apply(children_category)\n",
    "df.head()"
   ]
  },
  {
   "cell_type": "markdown",
   "id": "7ade1922",
   "metadata": {},
   "source": [
    "Итого: мы добились того, что семьи с количеством детей больше трех выводятся в отдельную категорию для того, чтобы сделать выводы на основании большего количества клиентов т.к. если рассматривать эти группы по отдельности сложно выявить какую-то зависимость."
   ]
  },
  {
   "cell_type": "markdown",
   "id": "32a1daec",
   "metadata": {},
   "source": [
    "### Ответы на вопросы."
   ]
  },
  {
   "cell_type": "markdown",
   "id": "aa413741",
   "metadata": {},
   "source": [
    "Чтобы отталкиваться от какого-то значения и принимать решение в дальнейшем есть ли зависимость от каких-либо данных, сперва подсчитаем общий процент невыплаченного вовремя кредита:"
   ]
  },
  {
   "cell_type": "code",
   "execution_count": 43,
   "id": "c0c2e172",
   "metadata": {},
   "outputs": [
    {
     "data": {
      "text/plain": [
       "'Доля невыплаченного в срок кредита равна 8.11%'"
      ]
     },
     "execution_count": 43,
     "metadata": {},
     "output_type": "execute_result"
    }
   ],
   "source": [
    "late_payment = df[(df['debt'] == 1)].count() / df['debt'].count()\n",
    "'Доля невыплаченного в срок кредита равна {:.2%}'.format(late_payment['debt'])"
   ]
  },
  {
   "cell_type": "markdown",
   "id": "55c432cc",
   "metadata": {},
   "source": [
    "##### Вопрос 1: Есть ли зависимость между количеством детей и возвратом кредита в срок?"
   ]
  },
  {
   "cell_type": "markdown",
   "id": "14370856",
   "metadata": {},
   "source": [
    "Создаём сводную таблицу. Функцией sum() подсчитаем все значения с 1 в столбце debt, функцией count() подсчитаем сколько всего значений в столбце. Добавим столбец ratio, отражающий долю клиентов, невыплативших кредит в срок в общем числе клиентов."
   ]
  },
  {
   "cell_type": "code",
   "execution_count": 44,
   "id": "84a49392",
   "metadata": {},
   "outputs": [
    {
     "data": {
      "text/html": [
       "<div>\n",
       "<style scoped>\n",
       "    .dataframe tbody tr th:only-of-type {\n",
       "        vertical-align: middle;\n",
       "    }\n",
       "\n",
       "    .dataframe tbody tr th {\n",
       "        vertical-align: top;\n",
       "    }\n",
       "\n",
       "    .dataframe thead tr th {\n",
       "        text-align: left;\n",
       "    }\n",
       "\n",
       "    .dataframe thead tr:last-of-type th {\n",
       "        text-align: right;\n",
       "    }\n",
       "</style>\n",
       "<table border=\"1\" class=\"dataframe\">\n",
       "  <thead>\n",
       "    <tr>\n",
       "      <th></th>\n",
       "      <th>sum</th>\n",
       "      <th>count</th>\n",
       "      <th>ratio</th>\n",
       "    </tr>\n",
       "    <tr>\n",
       "      <th></th>\n",
       "      <th>debt</th>\n",
       "      <th>debt</th>\n",
       "      <th></th>\n",
       "    </tr>\n",
       "    <tr>\n",
       "      <th>children_category</th>\n",
       "      <th></th>\n",
       "      <th></th>\n",
       "      <th></th>\n",
       "    </tr>\n",
       "  </thead>\n",
       "  <tbody>\n",
       "    <tr>\n",
       "      <td>нет детей</td>\n",
       "      <td>1063</td>\n",
       "      <td>14107</td>\n",
       "      <td>7.535266</td>\n",
       "    </tr>\n",
       "    <tr>\n",
       "      <td>от 3 до 5 детей</td>\n",
       "      <td>31</td>\n",
       "      <td>380</td>\n",
       "      <td>8.157895</td>\n",
       "    </tr>\n",
       "    <tr>\n",
       "      <td>один ребёнок</td>\n",
       "      <td>445</td>\n",
       "      <td>4856</td>\n",
       "      <td>9.163921</td>\n",
       "    </tr>\n",
       "    <tr>\n",
       "      <td>два ребёнка</td>\n",
       "      <td>202</td>\n",
       "      <td>2128</td>\n",
       "      <td>9.492481</td>\n",
       "    </tr>\n",
       "  </tbody>\n",
       "</table>\n",
       "</div>"
      ],
      "text/plain": [
       "                    sum  count     ratio\n",
       "                   debt   debt          \n",
       "children_category                       \n",
       "нет детей          1063  14107  7.535266\n",
       "от 3 до 5 детей      31    380  8.157895\n",
       "один ребёнок        445   4856  9.163921\n",
       "два ребёнка         202   2128  9.492481"
      ]
     },
     "execution_count": 44,
     "metadata": {},
     "output_type": "execute_result"
    }
   ],
   "source": [
    "data_pivot = df.pivot_table(index='children_category', values ='debt', aggfunc=['sum', 'count'] )\n",
    "data_pivot['ratio'] = data_pivot['sum']/data_pivot['count'] * 100\n",
    "data_pivot.sort_values(by= 'ratio')"
   ]
  },
  {
   "cell_type": "markdown",
   "id": "ab5b49c4",
   "metadata": {},
   "source": [
    "##### Вывод 1:"
   ]
  },
  {
   "cell_type": "markdown",
   "id": "889c79b8",
   "metadata": {},
   "source": [
    "* На основании данных можно сдеть вывод о том, что клиенты у которых нет детей (7,53%)чаще остальных выплачивают кредиты в срок.\n",
    "* Клиенты у которых больше трех детей (8.15%) выплачивают кредит практически так же как и основная масса.\n",
    "* Клиенты с одним (9.16%) и двумя детьми (9.49%) чаще выплачивают кредиты позже срока."
   ]
  },
  {
   "cell_type": "markdown",
   "id": "c65ec151",
   "metadata": {},
   "source": [
    "##### Вопрос 2: Есть ли зависимость между семейным положением и возвратом кредита в срок?"
   ]
  },
  {
   "cell_type": "markdown",
   "id": "958cc469",
   "metadata": {},
   "source": [
    "Делаем то же самое, что и при ответе на первый вопрос, только добавим столбец `family_status` методом .insert(), чтобы не вспоминать какой id какому статусу соответствует. И сделаем сортировку. "
   ]
  },
  {
   "cell_type": "code",
   "execution_count": 45,
   "id": "dedeb8da",
   "metadata": {},
   "outputs": [
    {
     "data": {
      "text/html": [
       "<div>\n",
       "<style scoped>\n",
       "    .dataframe tbody tr th:only-of-type {\n",
       "        vertical-align: middle;\n",
       "    }\n",
       "\n",
       "    .dataframe tbody tr th {\n",
       "        vertical-align: top;\n",
       "    }\n",
       "\n",
       "    .dataframe thead tr th {\n",
       "        text-align: left;\n",
       "    }\n",
       "\n",
       "    .dataframe thead tr:last-of-type th {\n",
       "        text-align: right;\n",
       "    }\n",
       "</style>\n",
       "<table border=\"1\" class=\"dataframe\">\n",
       "  <thead>\n",
       "    <tr>\n",
       "      <th></th>\n",
       "      <th>family_status</th>\n",
       "      <th>sum</th>\n",
       "      <th>count</th>\n",
       "      <th>ratio</th>\n",
       "    </tr>\n",
       "    <tr>\n",
       "      <th></th>\n",
       "      <th></th>\n",
       "      <th>debt</th>\n",
       "      <th>debt</th>\n",
       "      <th></th>\n",
       "    </tr>\n",
       "    <tr>\n",
       "      <th>family_status_id</th>\n",
       "      <th></th>\n",
       "      <th></th>\n",
       "      <th></th>\n",
       "      <th></th>\n",
       "    </tr>\n",
       "  </thead>\n",
       "  <tbody>\n",
       "    <tr>\n",
       "      <td>2</td>\n",
       "      <td>вдовец / вдова</td>\n",
       "      <td>63</td>\n",
       "      <td>959</td>\n",
       "      <td>6.569343</td>\n",
       "    </tr>\n",
       "    <tr>\n",
       "      <td>3</td>\n",
       "      <td>в разводе</td>\n",
       "      <td>85</td>\n",
       "      <td>1195</td>\n",
       "      <td>7.112971</td>\n",
       "    </tr>\n",
       "    <tr>\n",
       "      <td>0</td>\n",
       "      <td>женат / замужем</td>\n",
       "      <td>931</td>\n",
       "      <td>12344</td>\n",
       "      <td>7.542126</td>\n",
       "    </tr>\n",
       "    <tr>\n",
       "      <td>1</td>\n",
       "      <td>гражданский брак</td>\n",
       "      <td>388</td>\n",
       "      <td>4163</td>\n",
       "      <td>9.320202</td>\n",
       "    </tr>\n",
       "    <tr>\n",
       "      <td>4</td>\n",
       "      <td>Не женат / не замужем</td>\n",
       "      <td>274</td>\n",
       "      <td>2810</td>\n",
       "      <td>9.750890</td>\n",
       "    </tr>\n",
       "  </tbody>\n",
       "</table>\n",
       "</div>"
      ],
      "text/plain": [
       "                          family_status  sum  count     ratio\n",
       "                                        debt   debt          \n",
       "family_status_id                                             \n",
       "2                        вдовец / вдова   63    959  6.569343\n",
       "3                             в разводе   85   1195  7.112971\n",
       "0                       женат / замужем  931  12344  7.542126\n",
       "1                      гражданский брак  388   4163  9.320202\n",
       "4                 Не женат / не замужем  274   2810  9.750890"
      ]
     },
     "execution_count": 45,
     "metadata": {},
     "output_type": "execute_result"
    }
   ],
   "source": [
    "data_pivot2 = df.pivot_table(index='family_status_id', values ='debt', aggfunc=['sum', 'count'] )\n",
    "data_pivot2['ratio'] = data_pivot2['sum']/data_pivot2['count'] * 100\n",
    "data_pivot2.insert(0, 'family_status', status_dict.get('family_status'), allow_duplicates = False)\n",
    "data_pivot2.sort_values(by= 'ratio')"
   ]
  },
  {
   "cell_type": "markdown",
   "id": "3a1a873d",
   "metadata": {},
   "source": [
    "##### Вывод 2:"
   ]
  },
  {
   "cell_type": "markdown",
   "id": "fa97fa08",
   "metadata": {},
   "source": [
    "Выделим категории, в которых клиентов с просроченным кредитом относительно меньше:\n",
    "* вдовец / вдова (6.56%)\n",
    "* в разводе\t(7.11%)\n",
    "* женат / замужем (7.54%)\n",
    "\n",
    "Остальные клиенты, состоящие в гражданском браке (9.3%) и не женатые (9.75%) чаще нарушают сроки выплаты."
   ]
  },
  {
   "cell_type": "markdown",
   "id": "5368316d",
   "metadata": {},
   "source": [
    "##### Вопрос 3: Есть ли зависимость между уровнем дохода и возвратом кредита в срок?"
   ]
  },
  {
   "cell_type": "code",
   "execution_count": 46,
   "id": "252e22c7",
   "metadata": {},
   "outputs": [
    {
     "data": {
      "text/html": [
       "<div>\n",
       "<style scoped>\n",
       "    .dataframe tbody tr th:only-of-type {\n",
       "        vertical-align: middle;\n",
       "    }\n",
       "\n",
       "    .dataframe tbody tr th {\n",
       "        vertical-align: top;\n",
       "    }\n",
       "\n",
       "    .dataframe thead tr th {\n",
       "        text-align: left;\n",
       "    }\n",
       "\n",
       "    .dataframe thead tr:last-of-type th {\n",
       "        text-align: right;\n",
       "    }\n",
       "</style>\n",
       "<table border=\"1\" class=\"dataframe\">\n",
       "  <thead>\n",
       "    <tr>\n",
       "      <th></th>\n",
       "      <th>sum</th>\n",
       "      <th>count</th>\n",
       "      <th>ratio</th>\n",
       "    </tr>\n",
       "    <tr>\n",
       "      <th></th>\n",
       "      <th>debt</th>\n",
       "      <th>debt</th>\n",
       "      <th></th>\n",
       "    </tr>\n",
       "    <tr>\n",
       "      <th>total_income_category</th>\n",
       "      <th></th>\n",
       "      <th></th>\n",
       "      <th></th>\n",
       "    </tr>\n",
       "  </thead>\n",
       "  <tbody>\n",
       "    <tr>\n",
       "      <td>D</td>\n",
       "      <td>21</td>\n",
       "      <td>350</td>\n",
       "      <td>6.000000</td>\n",
       "    </tr>\n",
       "    <tr>\n",
       "      <td>B</td>\n",
       "      <td>356</td>\n",
       "      <td>5041</td>\n",
       "      <td>7.062091</td>\n",
       "    </tr>\n",
       "    <tr>\n",
       "      <td>A</td>\n",
       "      <td>2</td>\n",
       "      <td>26</td>\n",
       "      <td>7.692308</td>\n",
       "    </tr>\n",
       "    <tr>\n",
       "      <td>C</td>\n",
       "      <td>1360</td>\n",
       "      <td>16032</td>\n",
       "      <td>8.483034</td>\n",
       "    </tr>\n",
       "    <tr>\n",
       "      <td>E</td>\n",
       "      <td>2</td>\n",
       "      <td>22</td>\n",
       "      <td>9.090909</td>\n",
       "    </tr>\n",
       "  </tbody>\n",
       "</table>\n",
       "</div>"
      ],
      "text/plain": [
       "                        sum  count     ratio\n",
       "                       debt   debt          \n",
       "total_income_category                       \n",
       "D                        21    350  6.000000\n",
       "B                       356   5041  7.062091\n",
       "A                         2     26  7.692308\n",
       "C                      1360  16032  8.483034\n",
       "E                         2     22  9.090909"
      ]
     },
     "execution_count": 46,
     "metadata": {},
     "output_type": "execute_result"
    }
   ],
   "source": [
    "data_pivot3 = df.pivot_table(index='total_income_category', values = 'debt', aggfunc= ['sum', 'count'])\n",
    "data_pivot3['ratio'] = data_pivot3['sum']/data_pivot3['count'] * 100\n",
    "data_pivot3.sort_values(by= 'ratio')"
   ]
  },
  {
   "cell_type": "markdown",
   "id": "9a6c6654",
   "metadata": {},
   "source": [
    "##### Вывод 3:"
   ]
  },
  {
   "cell_type": "markdown",
   "id": "b818c569",
   "metadata": {},
   "source": [
    "* Клиентов в категориях \"B\" и \"C\" большинство. Меньше всего клиентов категори \"A\" и \"E\".\n",
    "* Судя по данным в срок укладываются чаще клиенты с категориями дохода \"A\" и \"B\". \n",
    "* Доля невыплаченных кредитов в срок у категорий \"C\" и \"E\" выше чем у остальных."
   ]
  },
  {
   "cell_type": "markdown",
   "id": "418b279d",
   "metadata": {},
   "source": [
    "##### Вопрос 4: Как разные цели кредита влияют на его возврат в срок?"
   ]
  },
  {
   "cell_type": "code",
   "execution_count": 47,
   "id": "44fe107c",
   "metadata": {},
   "outputs": [
    {
     "data": {
      "text/html": [
       "<div>\n",
       "<style scoped>\n",
       "    .dataframe tbody tr th:only-of-type {\n",
       "        vertical-align: middle;\n",
       "    }\n",
       "\n",
       "    .dataframe tbody tr th {\n",
       "        vertical-align: top;\n",
       "    }\n",
       "\n",
       "    .dataframe thead tr th {\n",
       "        text-align: left;\n",
       "    }\n",
       "\n",
       "    .dataframe thead tr:last-of-type th {\n",
       "        text-align: right;\n",
       "    }\n",
       "</style>\n",
       "<table border=\"1\" class=\"dataframe\">\n",
       "  <thead>\n",
       "    <tr>\n",
       "      <th></th>\n",
       "      <th>sum</th>\n",
       "      <th>count</th>\n",
       "      <th>ratio</th>\n",
       "    </tr>\n",
       "    <tr>\n",
       "      <th></th>\n",
       "      <th>debt</th>\n",
       "      <th>debt</th>\n",
       "      <th></th>\n",
       "    </tr>\n",
       "    <tr>\n",
       "      <th>purpose_category</th>\n",
       "      <th></th>\n",
       "      <th></th>\n",
       "      <th></th>\n",
       "    </tr>\n",
       "  </thead>\n",
       "  <tbody>\n",
       "    <tr>\n",
       "      <td>операции с недвижимостью</td>\n",
       "      <td>782</td>\n",
       "      <td>10814</td>\n",
       "      <td>7.231367</td>\n",
       "    </tr>\n",
       "    <tr>\n",
       "      <td>проведение свадьбы</td>\n",
       "      <td>186</td>\n",
       "      <td>2335</td>\n",
       "      <td>7.965739</td>\n",
       "    </tr>\n",
       "    <tr>\n",
       "      <td>получение образования</td>\n",
       "      <td>370</td>\n",
       "      <td>4014</td>\n",
       "      <td>9.217738</td>\n",
       "    </tr>\n",
       "    <tr>\n",
       "      <td>операции с автомобилем</td>\n",
       "      <td>403</td>\n",
       "      <td>4308</td>\n",
       "      <td>9.354689</td>\n",
       "    </tr>\n",
       "  </tbody>\n",
       "</table>\n",
       "</div>"
      ],
      "text/plain": [
       "                          sum  count     ratio\n",
       "                         debt   debt          \n",
       "purpose_category                              \n",
       "операции с недвижимостью  782  10814  7.231367\n",
       "проведение свадьбы        186   2335  7.965739\n",
       "получение образования     370   4014  9.217738\n",
       "операции с автомобилем    403   4308  9.354689"
      ]
     },
     "execution_count": 47,
     "metadata": {},
     "output_type": "execute_result"
    }
   ],
   "source": [
    "data_pivot4 = df.pivot_table(index='purpose_category', values ='debt', aggfunc=['sum', 'count'] )\n",
    "data_pivot4['ratio'] = data_pivot4['sum']/data_pivot4['count'] * 100\n",
    "data_pivot4.sort_values(by= 'ratio')"
   ]
  },
  {
   "cell_type": "markdown",
   "id": "3c2a5c1a",
   "metadata": {},
   "source": [
    "##### Вывод 4:"
   ]
  },
  {
   "cell_type": "markdown",
   "id": "11faaf4e",
   "metadata": {},
   "source": [
    "Клиенты, которые берут кредит на операции с недвижимостью (7.23%) и на проведение свадьбы (7.96%) реже нарушают сроки выплаты, чем те клиенты чья цель кредита - получение образования (9.21%) и на оперции с автомобилем (9.35%)."
   ]
  },
  {
   "cell_type": "markdown",
   "id": "a74fa514",
   "metadata": {},
   "source": [
    "## Общий вывод:"
   ]
  },
  {
   "cell_type": "markdown",
   "id": "7a9e19a2",
   "metadata": {},
   "source": [
    "Подведем итог и составим список-портрет клиентов, которые вероятнее всего выплатят и не выплатят кредит в срок.\n",
    "\n",
    "Выплатят вовремя:\n",
    "* клиенты у которых нет детей (7,53%);\n",
    "* клиенты с семейным положением : вдовец / вдова (6.56%) , в разводе (7.11%), женат / замужем (7.54%);\n",
    "* клиенты с категориями дохода \"A\" и \"B\";\n",
    "* клиенты, которые берут кредит на операции с недвижимостью (7.23%) и на проведение свадьбы (7.96%)\n",
    "\n",
    "Чаще не выплачивают в срок:\n",
    "* клиенты с одним (9.16%) и двумя детьми (9.49%);\n",
    "* клиенты, состоящие в гражданском браке (9.3%) и не женатые (9.75%);\n",
    "* клиенты с категориями дохода \"C\" и \"E\";\n",
    "* клиенты чья цель кредита - получение образования (9.21%) и на оперции с автомобилем (9.35%)."
   ]
  }
 ],
 "metadata": {
  "ExecuteTimeLog": [
   {
    "duration": 1006,
    "start_time": "2022-02-25T11:00:27.272Z"
   },
   {
    "duration": 3,
    "start_time": "2022-02-25T11:00:48.544Z"
   },
   {
    "duration": 51,
    "start_time": "2022-02-25T11:01:56.333Z"
   },
   {
    "duration": 17,
    "start_time": "2022-02-25T11:02:17.328Z"
   },
   {
    "duration": 82,
    "start_time": "2022-02-25T11:05:34.681Z"
   },
   {
    "duration": 90,
    "start_time": "2022-02-25T11:07:38.116Z"
   },
   {
    "duration": 13,
    "start_time": "2022-02-25T11:10:20.712Z"
   },
   {
    "duration": 12,
    "start_time": "2022-02-25T11:10:32.028Z"
   },
   {
    "duration": 326,
    "start_time": "2022-02-25T11:10:36.888Z"
   },
   {
    "duration": 12,
    "start_time": "2022-02-25T11:10:41.300Z"
   },
   {
    "duration": 11,
    "start_time": "2022-02-25T11:12:21.552Z"
   },
   {
    "duration": 344,
    "start_time": "2022-02-25T12:52:46.823Z"
   },
   {
    "duration": 800,
    "start_time": "2022-02-25T12:52:58.719Z"
   },
   {
    "duration": 70,
    "start_time": "2022-02-25T12:53:00.681Z"
   },
   {
    "duration": 36,
    "start_time": "2022-02-25T12:53:02.806Z"
   },
   {
    "duration": 15,
    "start_time": "2022-02-25T12:59:25.246Z"
   },
   {
    "duration": 14,
    "start_time": "2022-02-25T12:59:29.338Z"
   },
   {
    "duration": 5,
    "start_time": "2022-02-25T13:08:13.687Z"
   },
   {
    "duration": 7,
    "start_time": "2022-02-25T13:08:28.279Z"
   },
   {
    "duration": 47,
    "start_time": "2022-02-25T13:10:15.764Z"
   },
   {
    "duration": 6,
    "start_time": "2022-02-25T13:11:06.228Z"
   },
   {
    "duration": 4,
    "start_time": "2022-02-25T13:11:21.461Z"
   },
   {
    "duration": 5,
    "start_time": "2022-02-25T13:16:12.002Z"
   },
   {
    "duration": 5,
    "start_time": "2022-02-25T13:16:27.874Z"
   },
   {
    "duration": 6,
    "start_time": "2022-02-25T13:16:47.586Z"
   },
   {
    "duration": 5,
    "start_time": "2022-02-25T13:18:14.575Z"
   },
   {
    "duration": 93,
    "start_time": "2022-02-25T13:20:26.426Z"
   },
   {
    "duration": 88,
    "start_time": "2022-02-25T13:20:34.135Z"
   },
   {
    "duration": 92,
    "start_time": "2022-02-25T13:20:45.266Z"
   },
   {
    "duration": 6,
    "start_time": "2022-02-25T13:21:55.755Z"
   },
   {
    "duration": 100,
    "start_time": "2022-02-25T13:22:19.407Z"
   },
   {
    "duration": 102,
    "start_time": "2022-02-25T13:22:48.446Z"
   },
   {
    "duration": 110,
    "start_time": "2022-02-25T13:23:03.599Z"
   },
   {
    "duration": 6,
    "start_time": "2022-02-25T13:23:15.283Z"
   },
   {
    "duration": 6,
    "start_time": "2022-02-25T13:23:59.411Z"
   },
   {
    "duration": 7,
    "start_time": "2022-02-25T13:24:45.791Z"
   },
   {
    "duration": 6,
    "start_time": "2022-02-25T13:24:52.139Z"
   },
   {
    "duration": 7,
    "start_time": "2022-02-25T13:24:57.702Z"
   },
   {
    "duration": 6,
    "start_time": "2022-02-25T13:25:01.723Z"
   },
   {
    "duration": 6,
    "start_time": "2022-02-25T13:36:28.648Z"
   },
   {
    "duration": 7,
    "start_time": "2022-02-25T13:36:40.297Z"
   },
   {
    "duration": 9,
    "start_time": "2022-02-25T13:38:57.424Z"
   },
   {
    "duration": 6,
    "start_time": "2022-02-25T13:39:50.548Z"
   },
   {
    "duration": 5,
    "start_time": "2022-02-25T13:44:09.856Z"
   },
   {
    "duration": 6,
    "start_time": "2022-02-25T13:44:39.260Z"
   },
   {
    "duration": 8,
    "start_time": "2022-02-25T13:45:42.487Z"
   },
   {
    "duration": 7,
    "start_time": "2022-02-25T13:46:09.453Z"
   },
   {
    "duration": 10,
    "start_time": "2022-02-25T13:52:15.136Z"
   },
   {
    "duration": 346,
    "start_time": "2022-02-25T13:52:25.479Z"
   },
   {
    "duration": 278,
    "start_time": "2022-02-25T13:52:50.092Z"
   },
   {
    "duration": 6,
    "start_time": "2022-02-25T13:52:55.863Z"
   },
   {
    "duration": 270,
    "start_time": "2022-02-25T13:52:59.571Z"
   },
   {
    "duration": 726,
    "start_time": "2022-02-25T13:54:04.940Z"
   },
   {
    "duration": 69,
    "start_time": "2022-02-25T13:54:05.668Z"
   },
   {
    "duration": 32,
    "start_time": "2022-02-25T13:54:05.740Z"
   },
   {
    "duration": 31,
    "start_time": "2022-02-25T13:54:05.775Z"
   },
   {
    "duration": 27,
    "start_time": "2022-02-25T13:54:05.808Z"
   },
   {
    "duration": 30,
    "start_time": "2022-02-25T13:54:05.837Z"
   },
   {
    "duration": 14,
    "start_time": "2022-02-25T13:54:05.870Z"
   },
   {
    "duration": 17,
    "start_time": "2022-02-25T13:54:05.887Z"
   },
   {
    "duration": 18,
    "start_time": "2022-02-25T13:54:05.906Z"
   },
   {
    "duration": 26,
    "start_time": "2022-02-25T13:54:27.161Z"
   },
   {
    "duration": 24,
    "start_time": "2022-02-25T13:54:40.748Z"
   },
   {
    "duration": 25,
    "start_time": "2022-02-25T13:55:14.084Z"
   },
   {
    "duration": 24,
    "start_time": "2022-02-25T13:55:23.600Z"
   },
   {
    "duration": 382,
    "start_time": "2022-02-25T13:57:03.332Z"
   },
   {
    "duration": 25,
    "start_time": "2022-02-25T13:58:16.311Z"
   },
   {
    "duration": 300,
    "start_time": "2022-02-25T13:58:20.843Z"
   },
   {
    "duration": 302,
    "start_time": "2022-02-25T14:01:06.366Z"
   },
   {
    "duration": 755,
    "start_time": "2022-02-25T14:02:13.712Z"
   },
   {
    "duration": 64,
    "start_time": "2022-02-25T14:02:14.469Z"
   },
   {
    "duration": 36,
    "start_time": "2022-02-25T14:02:14.535Z"
   },
   {
    "duration": 29,
    "start_time": "2022-02-25T14:02:14.573Z"
   },
   {
    "duration": 13,
    "start_time": "2022-02-25T14:02:14.605Z"
   },
   {
    "duration": 8,
    "start_time": "2022-02-25T14:02:14.621Z"
   },
   {
    "duration": 6,
    "start_time": "2022-02-25T14:02:14.633Z"
   },
   {
    "duration": 72,
    "start_time": "2022-02-25T14:02:14.642Z"
   },
   {
    "duration": 23,
    "start_time": "2022-02-25T14:02:14.717Z"
   },
   {
    "duration": 37,
    "start_time": "2022-02-25T14:05:42.022Z"
   },
   {
    "duration": 6,
    "start_time": "2022-02-25T14:11:07.645Z"
   },
   {
    "duration": 6,
    "start_time": "2022-02-25T14:14:27.961Z"
   },
   {
    "duration": 23,
    "start_time": "2022-02-25T14:14:41.009Z"
   },
   {
    "duration": 439,
    "start_time": "2022-02-26T20:34:05.940Z"
   },
   {
    "duration": 503,
    "start_time": "2022-02-26T20:34:11.987Z"
   },
   {
    "duration": 46,
    "start_time": "2022-02-26T20:34:13.696Z"
   },
   {
    "duration": 27,
    "start_time": "2022-02-26T20:34:15.771Z"
   },
   {
    "duration": 19,
    "start_time": "2022-02-26T20:35:48.944Z"
   },
   {
    "duration": 19,
    "start_time": "2022-02-26T20:38:34.667Z"
   },
   {
    "duration": 167,
    "start_time": "2022-02-28T08:55:49.781Z"
   },
   {
    "duration": 606,
    "start_time": "2022-02-28T08:56:00.909Z"
   },
   {
    "duration": 53,
    "start_time": "2022-02-28T08:56:01.517Z"
   },
   {
    "duration": 27,
    "start_time": "2022-02-28T08:56:01.572Z"
   },
   {
    "duration": 13,
    "start_time": "2022-02-28T08:56:01.601Z"
   },
   {
    "duration": 28,
    "start_time": "2022-02-28T08:56:01.616Z"
   },
   {
    "duration": 6,
    "start_time": "2022-02-28T08:56:01.646Z"
   },
   {
    "duration": 8,
    "start_time": "2022-02-28T08:56:01.653Z"
   },
   {
    "duration": 33,
    "start_time": "2022-02-28T08:56:01.663Z"
   },
   {
    "duration": 17,
    "start_time": "2022-02-28T08:56:01.697Z"
   },
   {
    "duration": 35,
    "start_time": "2022-02-28T08:56:01.716Z"
   },
   {
    "duration": 10,
    "start_time": "2022-02-28T08:56:01.753Z"
   },
   {
    "duration": 15,
    "start_time": "2022-02-28T09:47:51.950Z"
   },
   {
    "duration": 20,
    "start_time": "2022-02-28T09:50:02.019Z"
   },
   {
    "duration": 20,
    "start_time": "2022-02-28T09:50:17.531Z"
   },
   {
    "duration": 546,
    "start_time": "2022-02-28T09:50:27.270Z"
   },
   {
    "duration": 57,
    "start_time": "2022-02-28T09:50:27.818Z"
   },
   {
    "duration": 25,
    "start_time": "2022-02-28T09:50:27.877Z"
   },
   {
    "duration": 13,
    "start_time": "2022-02-28T09:50:27.905Z"
   },
   {
    "duration": 46,
    "start_time": "2022-02-28T09:50:27.920Z"
   },
   {
    "duration": 23,
    "start_time": "2022-02-28T09:50:27.968Z"
   },
   {
    "duration": 7,
    "start_time": "2022-02-28T09:50:27.993Z"
   },
   {
    "duration": 8,
    "start_time": "2022-02-28T09:50:28.002Z"
   },
   {
    "duration": 30,
    "start_time": "2022-02-28T09:50:28.011Z"
   },
   {
    "duration": 19,
    "start_time": "2022-02-28T09:50:28.043Z"
   },
   {
    "duration": 15,
    "start_time": "2022-02-28T09:50:28.063Z"
   },
   {
    "duration": 10,
    "start_time": "2022-02-28T09:50:28.079Z"
   },
   {
    "duration": 443,
    "start_time": "2022-02-28T09:52:15.803Z"
   },
   {
    "duration": 16,
    "start_time": "2022-02-28T09:52:41.614Z"
   },
   {
    "duration": 212,
    "start_time": "2022-02-28T09:53:11.675Z"
   },
   {
    "duration": 146,
    "start_time": "2022-02-28T09:56:10.179Z"
   },
   {
    "duration": 143,
    "start_time": "2022-02-28T09:56:20.502Z"
   },
   {
    "duration": 17,
    "start_time": "2022-02-28T09:56:46.650Z"
   },
   {
    "duration": 143,
    "start_time": "2022-02-28T09:57:08.682Z"
   },
   {
    "duration": 18,
    "start_time": "2022-02-28T09:57:17.508Z"
   },
   {
    "duration": 33,
    "start_time": "2022-02-28T09:57:39.050Z"
   },
   {
    "duration": 22,
    "start_time": "2022-02-28T09:58:05.211Z"
   },
   {
    "duration": 97,
    "start_time": "2022-02-28T09:59:19.970Z"
   },
   {
    "duration": 137,
    "start_time": "2022-02-28T09:59:26.034Z"
   },
   {
    "duration": 69,
    "start_time": "2022-02-28T09:59:51.818Z"
   },
   {
    "duration": 18,
    "start_time": "2022-02-28T10:00:03.631Z"
   },
   {
    "duration": 4,
    "start_time": "2022-02-28T10:03:05.542Z"
   },
   {
    "duration": 538,
    "start_time": "2022-02-28T10:03:13.466Z"
   },
   {
    "duration": 50,
    "start_time": "2022-02-28T10:03:14.005Z"
   },
   {
    "duration": 23,
    "start_time": "2022-02-28T10:03:14.057Z"
   },
   {
    "duration": 19,
    "start_time": "2022-02-28T10:03:14.082Z"
   },
   {
    "duration": 3,
    "start_time": "2022-02-28T10:03:14.103Z"
   },
   {
    "duration": 15,
    "start_time": "2022-02-28T10:03:14.107Z"
   },
   {
    "duration": 13,
    "start_time": "2022-02-28T10:03:14.124Z"
   },
   {
    "duration": 4,
    "start_time": "2022-02-28T10:03:14.139Z"
   },
   {
    "duration": 18,
    "start_time": "2022-02-28T10:03:14.145Z"
   },
   {
    "duration": 15,
    "start_time": "2022-02-28T10:03:14.164Z"
   },
   {
    "duration": 13,
    "start_time": "2022-02-28T10:03:14.181Z"
   },
   {
    "duration": 42,
    "start_time": "2022-02-28T10:03:14.196Z"
   },
   {
    "duration": 16,
    "start_time": "2022-02-28T10:08:03.738Z"
   },
   {
    "duration": 17,
    "start_time": "2022-02-28T10:10:10.714Z"
   },
   {
    "duration": 23,
    "start_time": "2022-02-28T10:10:23.746Z"
   },
   {
    "duration": 24,
    "start_time": "2022-02-28T10:11:27.582Z"
   },
   {
    "duration": 17,
    "start_time": "2022-02-28T10:12:58.490Z"
   },
   {
    "duration": 5,
    "start_time": "2022-02-28T10:25:43.510Z"
   },
   {
    "duration": 19,
    "start_time": "2022-02-28T10:33:06.806Z"
   },
   {
    "duration": 24,
    "start_time": "2022-02-28T10:33:26.218Z"
   },
   {
    "duration": 16,
    "start_time": "2022-02-28T10:33:35.374Z"
   },
   {
    "duration": 5,
    "start_time": "2022-02-28T11:33:37.755Z"
   },
   {
    "duration": 6,
    "start_time": "2022-02-28T11:34:40.718Z"
   },
   {
    "duration": 5,
    "start_time": "2022-02-28T11:35:15.333Z"
   },
   {
    "duration": 7,
    "start_time": "2022-02-28T11:38:28.710Z"
   },
   {
    "duration": 8,
    "start_time": "2022-02-28T11:38:34.266Z"
   },
   {
    "duration": 235,
    "start_time": "2022-02-28T11:44:38.107Z"
   },
   {
    "duration": 9,
    "start_time": "2022-02-28T11:44:54.611Z"
   },
   {
    "duration": 13,
    "start_time": "2022-02-28T12:01:26.230Z"
   },
   {
    "duration": 14,
    "start_time": "2022-02-28T12:02:03.878Z"
   },
   {
    "duration": 16,
    "start_time": "2022-02-28T12:02:25.614Z"
   },
   {
    "duration": 154,
    "start_time": "2022-02-28T12:26:21.581Z"
   },
   {
    "duration": 22,
    "start_time": "2022-02-28T12:26:31.718Z"
   },
   {
    "duration": 148,
    "start_time": "2022-02-28T12:26:50.497Z"
   },
   {
    "duration": 153,
    "start_time": "2022-02-28T12:27:10.541Z"
   },
   {
    "duration": 547,
    "start_time": "2022-02-28T12:27:20.994Z"
   },
   {
    "duration": 50,
    "start_time": "2022-02-28T12:27:21.543Z"
   },
   {
    "duration": 25,
    "start_time": "2022-02-28T12:27:21.595Z"
   },
   {
    "duration": 17,
    "start_time": "2022-02-28T12:27:21.622Z"
   },
   {
    "duration": 3,
    "start_time": "2022-02-28T12:27:21.641Z"
   },
   {
    "duration": 12,
    "start_time": "2022-02-28T12:27:21.646Z"
   },
   {
    "duration": 4,
    "start_time": "2022-02-28T12:27:21.660Z"
   },
   {
    "duration": 6,
    "start_time": "2022-02-28T12:27:21.667Z"
   },
   {
    "duration": 20,
    "start_time": "2022-02-28T12:27:21.675Z"
   },
   {
    "duration": 51,
    "start_time": "2022-02-28T12:27:21.698Z"
   },
   {
    "duration": 15,
    "start_time": "2022-02-28T12:27:21.750Z"
   },
   {
    "duration": 9,
    "start_time": "2022-02-28T12:27:21.766Z"
   },
   {
    "duration": 15,
    "start_time": "2022-02-28T12:27:21.777Z"
   },
   {
    "duration": 45,
    "start_time": "2022-02-28T12:27:21.793Z"
   },
   {
    "duration": 4,
    "start_time": "2022-02-28T12:27:21.840Z"
   },
   {
    "duration": 16,
    "start_time": "2022-02-28T12:27:21.846Z"
   },
   {
    "duration": 8,
    "start_time": "2022-02-28T12:27:21.864Z"
   },
   {
    "duration": 22,
    "start_time": "2022-02-28T12:27:21.873Z"
   },
   {
    "duration": 196,
    "start_time": "2022-02-28T12:27:44.802Z"
   },
   {
    "duration": 564,
    "start_time": "2022-02-28T12:27:50.529Z"
   },
   {
    "duration": 47,
    "start_time": "2022-02-28T12:27:51.095Z"
   },
   {
    "duration": 25,
    "start_time": "2022-02-28T12:27:51.144Z"
   },
   {
    "duration": 15,
    "start_time": "2022-02-28T12:27:51.171Z"
   },
   {
    "duration": 4,
    "start_time": "2022-02-28T12:27:51.187Z"
   },
   {
    "duration": 14,
    "start_time": "2022-02-28T12:27:51.192Z"
   },
   {
    "duration": 5,
    "start_time": "2022-02-28T12:27:51.207Z"
   },
   {
    "duration": 28,
    "start_time": "2022-02-28T12:27:51.214Z"
   },
   {
    "duration": 17,
    "start_time": "2022-02-28T12:27:51.244Z"
   },
   {
    "duration": 16,
    "start_time": "2022-02-28T12:27:51.263Z"
   },
   {
    "duration": 14,
    "start_time": "2022-02-28T12:27:51.281Z"
   },
   {
    "duration": 44,
    "start_time": "2022-02-28T12:27:51.296Z"
   },
   {
    "duration": 16,
    "start_time": "2022-02-28T12:27:51.342Z"
   },
   {
    "duration": 17,
    "start_time": "2022-02-28T12:27:51.359Z"
   },
   {
    "duration": 4,
    "start_time": "2022-02-28T12:27:51.378Z"
   },
   {
    "duration": 19,
    "start_time": "2022-02-28T12:27:51.384Z"
   },
   {
    "duration": 33,
    "start_time": "2022-02-28T12:27:51.405Z"
   },
   {
    "duration": 21,
    "start_time": "2022-02-28T12:27:51.439Z"
   },
   {
    "duration": 5,
    "start_time": "2022-02-28T13:04:01.724Z"
   },
   {
    "duration": 5,
    "start_time": "2022-02-28T13:04:29.843Z"
   },
   {
    "duration": 4,
    "start_time": "2022-02-28T13:04:50.887Z"
   },
   {
    "duration": 14,
    "start_time": "2022-02-28T13:19:45.627Z"
   },
   {
    "duration": 14,
    "start_time": "2022-02-28T13:20:09.775Z"
   },
   {
    "duration": 18,
    "start_time": "2022-02-28T13:21:24.352Z"
   },
   {
    "duration": 4,
    "start_time": "2022-02-28T13:22:00.779Z"
   },
   {
    "duration": 18,
    "start_time": "2022-02-28T13:22:03.259Z"
   },
   {
    "duration": 17,
    "start_time": "2022-02-28T13:22:10.459Z"
   },
   {
    "duration": 19,
    "start_time": "2022-02-28T13:23:07.419Z"
   },
   {
    "duration": 7,
    "start_time": "2022-02-28T13:23:24.895Z"
   },
   {
    "duration": 5,
    "start_time": "2022-02-28T13:27:03.891Z"
   },
   {
    "duration": 3,
    "start_time": "2022-02-28T13:34:10.091Z"
   },
   {
    "duration": 3,
    "start_time": "2022-02-28T13:34:23.003Z"
   },
   {
    "duration": 4,
    "start_time": "2022-02-28T13:34:34.774Z"
   },
   {
    "duration": 4,
    "start_time": "2022-02-28T13:34:52.042Z"
   },
   {
    "duration": 5,
    "start_time": "2022-02-28T13:35:04.538Z"
   },
   {
    "duration": 5,
    "start_time": "2022-02-28T13:35:16.322Z"
   },
   {
    "duration": 4,
    "start_time": "2022-02-28T13:39:32.862Z"
   },
   {
    "duration": 4,
    "start_time": "2022-02-28T13:40:26.082Z"
   },
   {
    "duration": 18,
    "start_time": "2022-02-28T13:41:44.126Z"
   },
   {
    "duration": 8,
    "start_time": "2022-02-28T13:42:35.042Z"
   },
   {
    "duration": 52,
    "start_time": "2022-02-28T13:43:16.922Z"
   },
   {
    "duration": 5,
    "start_time": "2022-02-28T13:43:48.706Z"
   },
   {
    "duration": 5,
    "start_time": "2022-02-28T13:44:32.657Z"
   },
   {
    "duration": 269,
    "start_time": "2022-02-28T13:44:50.146Z"
   },
   {
    "duration": 4,
    "start_time": "2022-02-28T13:45:08.490Z"
   },
   {
    "duration": 19,
    "start_time": "2022-02-28T13:45:14.630Z"
   },
   {
    "duration": 8,
    "start_time": "2022-02-28T13:45:18.093Z"
   },
   {
    "duration": 3,
    "start_time": "2022-02-28T13:45:57.858Z"
   },
   {
    "duration": 4,
    "start_time": "2022-02-28T13:54:29.073Z"
   },
   {
    "duration": 5,
    "start_time": "2022-02-28T13:55:51.663Z"
   },
   {
    "duration": 19,
    "start_time": "2022-02-28T13:55:53.759Z"
   },
   {
    "duration": 8,
    "start_time": "2022-02-28T13:55:56.990Z"
   },
   {
    "duration": 7,
    "start_time": "2022-02-28T14:05:28.109Z"
   },
   {
    "duration": 4,
    "start_time": "2022-02-28T14:37:57.583Z"
   },
   {
    "duration": 559,
    "start_time": "2022-02-28T14:38:22.309Z"
   },
   {
    "duration": 50,
    "start_time": "2022-02-28T14:38:22.870Z"
   },
   {
    "duration": 26,
    "start_time": "2022-02-28T14:38:22.923Z"
   },
   {
    "duration": 10,
    "start_time": "2022-02-28T14:38:22.951Z"
   },
   {
    "duration": 6,
    "start_time": "2022-02-28T14:38:22.963Z"
   },
   {
    "duration": 11,
    "start_time": "2022-02-28T14:38:22.970Z"
   },
   {
    "duration": 4,
    "start_time": "2022-02-28T14:38:22.983Z"
   },
   {
    "duration": 12,
    "start_time": "2022-02-28T14:38:22.990Z"
   },
   {
    "duration": 47,
    "start_time": "2022-02-28T14:38:23.004Z"
   },
   {
    "duration": 15,
    "start_time": "2022-02-28T14:38:23.053Z"
   },
   {
    "duration": 13,
    "start_time": "2022-02-28T14:38:23.070Z"
   },
   {
    "duration": 13,
    "start_time": "2022-02-28T14:38:23.084Z"
   },
   {
    "duration": 44,
    "start_time": "2022-02-28T14:38:23.099Z"
   },
   {
    "duration": 19,
    "start_time": "2022-02-28T14:38:23.145Z"
   },
   {
    "duration": 4,
    "start_time": "2022-02-28T14:38:23.166Z"
   },
   {
    "duration": 24,
    "start_time": "2022-02-28T14:38:23.172Z"
   },
   {
    "duration": 43,
    "start_time": "2022-02-28T14:38:23.197Z"
   },
   {
    "duration": 4,
    "start_time": "2022-02-28T14:38:23.242Z"
   },
   {
    "duration": 22,
    "start_time": "2022-02-28T14:38:23.247Z"
   },
   {
    "duration": 7,
    "start_time": "2022-02-28T14:38:23.271Z"
   },
   {
    "duration": 10,
    "start_time": "2022-02-28T14:38:23.279Z"
   },
   {
    "duration": 4,
    "start_time": "2022-02-28T14:38:23.290Z"
   },
   {
    "duration": 54,
    "start_time": "2022-02-28T14:38:23.297Z"
   },
   {
    "duration": 7,
    "start_time": "2022-02-28T14:38:23.352Z"
   },
   {
    "duration": 10,
    "start_time": "2022-02-28T14:38:23.361Z"
   },
   {
    "duration": 4,
    "start_time": "2022-02-28T14:38:23.373Z"
   },
   {
    "duration": 9,
    "start_time": "2022-02-28T14:38:23.378Z"
   },
   {
    "duration": 279,
    "start_time": "2022-02-28T14:38:54.689Z"
   },
   {
    "duration": 9,
    "start_time": "2022-02-28T14:39:31.077Z"
   },
   {
    "duration": 555,
    "start_time": "2022-02-28T14:39:48.632Z"
   },
   {
    "duration": 46,
    "start_time": "2022-02-28T14:39:49.190Z"
   },
   {
    "duration": 26,
    "start_time": "2022-02-28T14:39:49.238Z"
   },
   {
    "duration": 12,
    "start_time": "2022-02-28T14:39:49.266Z"
   },
   {
    "duration": 3,
    "start_time": "2022-02-28T14:39:49.280Z"
   },
   {
    "duration": 10,
    "start_time": "2022-02-28T14:39:49.285Z"
   },
   {
    "duration": 5,
    "start_time": "2022-02-28T14:39:49.297Z"
   },
   {
    "duration": 34,
    "start_time": "2022-02-28T14:39:49.304Z"
   },
   {
    "duration": 17,
    "start_time": "2022-02-28T14:39:49.340Z"
   },
   {
    "duration": 14,
    "start_time": "2022-02-28T14:39:49.359Z"
   },
   {
    "duration": 13,
    "start_time": "2022-02-28T14:39:49.375Z"
   },
   {
    "duration": 9,
    "start_time": "2022-02-28T14:39:49.390Z"
   },
   {
    "duration": 50,
    "start_time": "2022-02-28T14:39:49.401Z"
   },
   {
    "duration": 16,
    "start_time": "2022-02-28T14:39:49.453Z"
   },
   {
    "duration": 5,
    "start_time": "2022-02-28T14:39:49.471Z"
   },
   {
    "duration": 17,
    "start_time": "2022-02-28T14:39:49.477Z"
   },
   {
    "duration": 47,
    "start_time": "2022-02-28T14:39:49.496Z"
   },
   {
    "duration": 4,
    "start_time": "2022-02-28T14:39:49.544Z"
   },
   {
    "duration": 22,
    "start_time": "2022-02-28T14:39:49.550Z"
   },
   {
    "duration": 6,
    "start_time": "2022-02-28T14:39:49.574Z"
   },
   {
    "duration": 6,
    "start_time": "2022-02-28T14:39:49.582Z"
   },
   {
    "duration": 4,
    "start_time": "2022-02-28T14:39:49.590Z"
   },
   {
    "duration": 49,
    "start_time": "2022-02-28T14:39:49.597Z"
   },
   {
    "duration": 9,
    "start_time": "2022-02-28T14:39:49.648Z"
   },
   {
    "duration": 12,
    "start_time": "2022-02-28T14:39:49.658Z"
   },
   {
    "duration": 6,
    "start_time": "2022-02-28T14:39:49.672Z"
   },
   {
    "duration": 5,
    "start_time": "2022-02-28T14:39:49.679Z"
   },
   {
    "duration": 4,
    "start_time": "2022-02-28T14:40:00.057Z"
   },
   {
    "duration": 8,
    "start_time": "2022-02-28T14:54:32.096Z"
   },
   {
    "duration": 6,
    "start_time": "2022-02-28T14:54:56.228Z"
   },
   {
    "duration": 4,
    "start_time": "2022-02-28T14:55:42.172Z"
   },
   {
    "duration": 6,
    "start_time": "2022-02-28T14:55:45.668Z"
   },
   {
    "duration": 6,
    "start_time": "2022-02-28T14:55:47.652Z"
   },
   {
    "duration": 573,
    "start_time": "2022-02-28T14:56:07.910Z"
   },
   {
    "duration": 50,
    "start_time": "2022-02-28T14:56:08.486Z"
   },
   {
    "duration": 26,
    "start_time": "2022-02-28T14:56:08.538Z"
   },
   {
    "duration": 21,
    "start_time": "2022-02-28T14:56:08.566Z"
   },
   {
    "duration": 18,
    "start_time": "2022-02-28T14:56:08.589Z"
   },
   {
    "duration": 31,
    "start_time": "2022-02-28T14:56:08.608Z"
   },
   {
    "duration": 21,
    "start_time": "2022-02-28T14:56:08.641Z"
   },
   {
    "duration": 23,
    "start_time": "2022-02-28T14:56:08.665Z"
   },
   {
    "duration": 41,
    "start_time": "2022-02-28T14:56:08.690Z"
   },
   {
    "duration": 17,
    "start_time": "2022-02-28T14:56:08.733Z"
   },
   {
    "duration": 25,
    "start_time": "2022-02-28T14:56:08.752Z"
   },
   {
    "duration": 11,
    "start_time": "2022-02-28T14:56:08.779Z"
   },
   {
    "duration": 24,
    "start_time": "2022-02-28T14:56:08.792Z"
   },
   {
    "duration": 35,
    "start_time": "2022-02-28T14:56:08.818Z"
   },
   {
    "duration": 4,
    "start_time": "2022-02-28T14:56:08.855Z"
   },
   {
    "duration": 17,
    "start_time": "2022-02-28T14:56:08.861Z"
   },
   {
    "duration": 23,
    "start_time": "2022-02-28T14:56:08.880Z"
   },
   {
    "duration": 4,
    "start_time": "2022-02-28T14:56:08.905Z"
   },
   {
    "duration": 26,
    "start_time": "2022-02-28T14:56:08.938Z"
   },
   {
    "duration": 10,
    "start_time": "2022-02-28T14:56:08.966Z"
   },
   {
    "duration": 9,
    "start_time": "2022-02-28T14:56:08.978Z"
   },
   {
    "duration": 9,
    "start_time": "2022-02-28T14:56:08.989Z"
   },
   {
    "duration": 43,
    "start_time": "2022-02-28T14:56:09.002Z"
   },
   {
    "duration": 7,
    "start_time": "2022-02-28T14:56:09.047Z"
   },
   {
    "duration": 9,
    "start_time": "2022-02-28T14:56:09.055Z"
   },
   {
    "duration": 5,
    "start_time": "2022-02-28T14:56:09.065Z"
   },
   {
    "duration": 10,
    "start_time": "2022-02-28T14:56:09.071Z"
   },
   {
    "duration": 7,
    "start_time": "2022-02-28T14:56:09.083Z"
   },
   {
    "duration": 3,
    "start_time": "2022-02-28T14:58:49.230Z"
   },
   {
    "duration": 4,
    "start_time": "2022-02-28T14:59:08.662Z"
   },
   {
    "duration": 542,
    "start_time": "2022-02-28T14:59:21.757Z"
   },
   {
    "duration": 45,
    "start_time": "2022-02-28T14:59:22.301Z"
   },
   {
    "duration": 25,
    "start_time": "2022-02-28T14:59:22.348Z"
   },
   {
    "duration": 15,
    "start_time": "2022-02-28T14:59:22.374Z"
   },
   {
    "duration": 3,
    "start_time": "2022-02-28T14:59:22.391Z"
   },
   {
    "duration": 9,
    "start_time": "2022-02-28T14:59:22.397Z"
   },
   {
    "duration": 5,
    "start_time": "2022-02-28T14:59:22.408Z"
   },
   {
    "duration": 5,
    "start_time": "2022-02-28T14:59:22.438Z"
   },
   {
    "duration": 17,
    "start_time": "2022-02-28T14:59:22.445Z"
   },
   {
    "duration": 16,
    "start_time": "2022-02-28T14:59:22.464Z"
   },
   {
    "duration": 15,
    "start_time": "2022-02-28T14:59:22.481Z"
   },
   {
    "duration": 47,
    "start_time": "2022-02-28T14:59:22.498Z"
   },
   {
    "duration": 16,
    "start_time": "2022-02-28T14:59:22.546Z"
   },
   {
    "duration": 22,
    "start_time": "2022-02-28T14:59:22.563Z"
   },
   {
    "duration": 5,
    "start_time": "2022-02-28T14:59:22.587Z"
   },
   {
    "duration": 17,
    "start_time": "2022-02-28T14:59:22.594Z"
   },
   {
    "duration": 46,
    "start_time": "2022-02-28T14:59:22.613Z"
   },
   {
    "duration": 4,
    "start_time": "2022-02-28T14:59:22.662Z"
   },
   {
    "duration": 22,
    "start_time": "2022-02-28T14:59:22.668Z"
   },
   {
    "duration": 12,
    "start_time": "2022-02-28T14:59:22.691Z"
   },
   {
    "duration": 35,
    "start_time": "2022-02-28T14:59:22.704Z"
   },
   {
    "duration": 6,
    "start_time": "2022-02-28T14:59:22.740Z"
   },
   {
    "duration": 20,
    "start_time": "2022-02-28T14:59:22.748Z"
   },
   {
    "duration": 10,
    "start_time": "2022-02-28T14:59:22.769Z"
   },
   {
    "duration": 13,
    "start_time": "2022-02-28T14:59:22.780Z"
   },
   {
    "duration": 12,
    "start_time": "2022-02-28T14:59:22.795Z"
   },
   {
    "duration": 8,
    "start_time": "2022-02-28T14:59:22.809Z"
   },
   {
    "duration": 23,
    "start_time": "2022-02-28T14:59:22.819Z"
   },
   {
    "duration": 6,
    "start_time": "2022-02-28T15:01:41.577Z"
   },
   {
    "duration": 7,
    "start_time": "2022-02-28T15:01:44.156Z"
   },
   {
    "duration": 519,
    "start_time": "2022-02-28T15:01:55.487Z"
   },
   {
    "duration": 46,
    "start_time": "2022-02-28T15:01:56.008Z"
   },
   {
    "duration": 26,
    "start_time": "2022-02-28T15:01:56.056Z"
   },
   {
    "duration": 12,
    "start_time": "2022-02-28T15:01:56.085Z"
   },
   {
    "duration": 3,
    "start_time": "2022-02-28T15:01:56.099Z"
   },
   {
    "duration": 12,
    "start_time": "2022-02-28T15:01:56.104Z"
   },
   {
    "duration": 5,
    "start_time": "2022-02-28T15:01:56.138Z"
   },
   {
    "duration": 6,
    "start_time": "2022-02-28T15:01:56.145Z"
   },
   {
    "duration": 17,
    "start_time": "2022-02-28T15:01:56.153Z"
   },
   {
    "duration": 16,
    "start_time": "2022-02-28T15:01:56.171Z"
   },
   {
    "duration": 50,
    "start_time": "2022-02-28T15:01:56.189Z"
   },
   {
    "duration": 10,
    "start_time": "2022-02-28T15:01:56.240Z"
   },
   {
    "duration": 15,
    "start_time": "2022-02-28T15:01:56.252Z"
   },
   {
    "duration": 17,
    "start_time": "2022-02-28T15:01:56.268Z"
   },
   {
    "duration": 5,
    "start_time": "2022-02-28T15:01:56.286Z"
   },
   {
    "duration": 47,
    "start_time": "2022-02-28T15:01:56.292Z"
   },
   {
    "duration": 28,
    "start_time": "2022-02-28T15:01:56.340Z"
   },
   {
    "duration": 3,
    "start_time": "2022-02-28T15:01:56.370Z"
   },
   {
    "duration": 21,
    "start_time": "2022-02-28T15:01:56.375Z"
   },
   {
    "duration": 8,
    "start_time": "2022-02-28T15:01:56.398Z"
   },
   {
    "duration": 8,
    "start_time": "2022-02-28T15:01:56.407Z"
   },
   {
    "duration": 5,
    "start_time": "2022-02-28T15:01:56.437Z"
   },
   {
    "duration": 19,
    "start_time": "2022-02-28T15:01:56.445Z"
   },
   {
    "duration": 11,
    "start_time": "2022-02-28T15:01:56.467Z"
   },
   {
    "duration": 10,
    "start_time": "2022-02-28T15:01:56.480Z"
   },
   {
    "duration": 7,
    "start_time": "2022-02-28T15:01:56.492Z"
   },
   {
    "duration": 38,
    "start_time": "2022-02-28T15:01:56.501Z"
   },
   {
    "duration": 49,
    "start_time": "2022-02-28T15:03:29.643Z"
   },
   {
    "duration": 7,
    "start_time": "2022-02-28T15:04:25.191Z"
   },
   {
    "duration": 7,
    "start_time": "2022-02-28T15:04:35.971Z"
   },
   {
    "duration": 7,
    "start_time": "2022-02-28T15:04:39.015Z"
   },
   {
    "duration": 9,
    "start_time": "2022-02-28T15:11:04.771Z"
   },
   {
    "duration": 7,
    "start_time": "2022-02-28T15:12:09.971Z"
   },
   {
    "duration": 5,
    "start_time": "2022-02-28T15:13:00.835Z"
   },
   {
    "duration": 6,
    "start_time": "2022-02-28T15:13:16.662Z"
   },
   {
    "duration": 5,
    "start_time": "2022-02-28T15:13:28.719Z"
   },
   {
    "duration": 5,
    "start_time": "2022-02-28T15:13:29.991Z"
   },
   {
    "duration": 5,
    "start_time": "2022-02-28T15:13:50.823Z"
   },
   {
    "duration": 5,
    "start_time": "2022-02-28T15:13:51.823Z"
   },
   {
    "duration": 7,
    "start_time": "2022-02-28T15:16:05.982Z"
   },
   {
    "duration": 388,
    "start_time": "2022-02-28T18:47:21.212Z"
   },
   {
    "duration": 595,
    "start_time": "2022-02-28T18:47:46.951Z"
   },
   {
    "duration": 49,
    "start_time": "2022-02-28T18:47:47.548Z"
   },
   {
    "duration": 24,
    "start_time": "2022-02-28T18:47:47.599Z"
   },
   {
    "duration": 10,
    "start_time": "2022-02-28T18:47:47.625Z"
   },
   {
    "duration": 3,
    "start_time": "2022-02-28T18:47:47.636Z"
   },
   {
    "duration": 24,
    "start_time": "2022-02-28T18:47:47.640Z"
   },
   {
    "duration": 8,
    "start_time": "2022-02-28T18:47:47.666Z"
   },
   {
    "duration": 3,
    "start_time": "2022-02-28T18:47:47.677Z"
   },
   {
    "duration": 4,
    "start_time": "2022-02-28T18:47:47.682Z"
   },
   {
    "duration": 18,
    "start_time": "2022-02-28T18:47:47.688Z"
   },
   {
    "duration": 53,
    "start_time": "2022-02-28T18:47:47.707Z"
   },
   {
    "duration": 13,
    "start_time": "2022-02-28T18:47:47.762Z"
   },
   {
    "duration": 12,
    "start_time": "2022-02-28T18:47:47.777Z"
   },
   {
    "duration": 16,
    "start_time": "2022-02-28T18:47:47.790Z"
   },
   {
    "duration": 17,
    "start_time": "2022-02-28T18:47:47.807Z"
   },
   {
    "duration": 4,
    "start_time": "2022-02-28T18:47:47.825Z"
   },
   {
    "duration": 16,
    "start_time": "2022-02-28T18:47:47.859Z"
   },
   {
    "duration": 20,
    "start_time": "2022-02-28T18:47:47.877Z"
   },
   {
    "duration": 4,
    "start_time": "2022-02-28T18:47:47.898Z"
   },
   {
    "duration": 24,
    "start_time": "2022-02-28T18:47:47.903Z"
   },
   {
    "duration": 31,
    "start_time": "2022-02-28T18:47:47.929Z"
   },
   {
    "duration": 7,
    "start_time": "2022-02-28T18:47:47.962Z"
   },
   {
    "duration": 4,
    "start_time": "2022-02-28T18:47:47.972Z"
   },
   {
    "duration": 20,
    "start_time": "2022-02-28T18:47:47.977Z"
   },
   {
    "duration": 7,
    "start_time": "2022-02-28T18:47:47.998Z"
   },
   {
    "duration": 7,
    "start_time": "2022-02-28T18:47:48.006Z"
   },
   {
    "duration": 6,
    "start_time": "2022-02-28T18:47:48.015Z"
   },
   {
    "duration": 41,
    "start_time": "2022-02-28T18:47:48.022Z"
   },
   {
    "duration": 7,
    "start_time": "2022-02-28T18:47:48.065Z"
   },
   {
    "duration": 4,
    "start_time": "2022-02-28T18:47:48.073Z"
   },
   {
    "duration": 6,
    "start_time": "2022-02-28T18:48:19.500Z"
   },
   {
    "duration": 6,
    "start_time": "2022-02-28T18:48:41.380Z"
   },
   {
    "duration": -1290,
    "start_time": "2022-02-28T18:50:28.446Z"
   },
   {
    "duration": -1290,
    "start_time": "2022-02-28T18:50:42.691Z"
   },
   {
    "duration": 565,
    "start_time": "2022-02-28T18:50:46.867Z"
   },
   {
    "duration": 50,
    "start_time": "2022-02-28T18:50:47.434Z"
   },
   {
    "duration": 25,
    "start_time": "2022-02-28T18:50:47.486Z"
   },
   {
    "duration": 11,
    "start_time": "2022-02-28T18:50:47.512Z"
   },
   {
    "duration": 3,
    "start_time": "2022-02-28T18:50:47.524Z"
   },
   {
    "duration": 10,
    "start_time": "2022-02-28T18:50:47.529Z"
   },
   {
    "duration": 24,
    "start_time": "2022-02-28T18:50:47.540Z"
   },
   {
    "duration": 9,
    "start_time": "2022-02-28T18:50:47.566Z"
   },
   {
    "duration": 4,
    "start_time": "2022-02-28T18:50:47.577Z"
   },
   {
    "duration": 12,
    "start_time": "2022-02-28T18:50:47.583Z"
   },
   {
    "duration": 18,
    "start_time": "2022-02-28T18:50:47.597Z"
   },
   {
    "duration": 15,
    "start_time": "2022-02-28T18:50:47.617Z"
   },
   {
    "duration": 40,
    "start_time": "2022-02-28T18:50:47.633Z"
   },
   {
    "duration": 10,
    "start_time": "2022-02-28T18:50:47.675Z"
   },
   {
    "duration": 16,
    "start_time": "2022-02-28T18:50:47.687Z"
   },
   {
    "duration": 17,
    "start_time": "2022-02-28T18:50:47.704Z"
   },
   {
    "duration": 37,
    "start_time": "2022-02-28T18:50:47.722Z"
   },
   {
    "duration": 15,
    "start_time": "2022-02-28T18:50:47.761Z"
   },
   {
    "duration": 19,
    "start_time": "2022-02-28T18:50:47.778Z"
   },
   {
    "duration": 4,
    "start_time": "2022-02-28T18:50:47.798Z"
   },
   {
    "duration": 19,
    "start_time": "2022-02-28T18:50:47.803Z"
   },
   {
    "duration": 37,
    "start_time": "2022-02-28T18:50:47.824Z"
   },
   {
    "duration": 5,
    "start_time": "2022-02-28T18:50:47.864Z"
   },
   {
    "duration": 5,
    "start_time": "2022-02-28T18:50:47.871Z"
   },
   {
    "duration": 24,
    "start_time": "2022-02-28T18:50:47.878Z"
   },
   {
    "duration": 9,
    "start_time": "2022-02-28T18:50:47.903Z"
   },
   {
    "duration": 6,
    "start_time": "2022-02-28T18:50:47.914Z"
   },
   {
    "duration": 7,
    "start_time": "2022-02-28T18:50:47.922Z"
   },
   {
    "duration": 33,
    "start_time": "2022-02-28T18:50:47.930Z"
   },
   {
    "duration": 7,
    "start_time": "2022-02-28T18:50:47.965Z"
   },
   {
    "duration": 6,
    "start_time": "2022-02-28T18:50:47.974Z"
   },
   {
    "duration": -1286,
    "start_time": "2022-02-28T18:52:15.883Z"
   },
   {
    "duration": 588,
    "start_time": "2022-02-28T18:53:51.213Z"
   },
   {
    "duration": 45,
    "start_time": "2022-02-28T18:53:51.802Z"
   },
   {
    "duration": 27,
    "start_time": "2022-02-28T18:53:51.849Z"
   },
   {
    "duration": 12,
    "start_time": "2022-02-28T18:53:51.878Z"
   },
   {
    "duration": 3,
    "start_time": "2022-02-28T18:53:51.891Z"
   },
   {
    "duration": 6,
    "start_time": "2022-02-28T18:53:51.896Z"
   },
   {
    "duration": 8,
    "start_time": "2022-02-28T18:53:51.904Z"
   },
   {
    "duration": 6,
    "start_time": "2022-02-28T18:53:51.914Z"
   },
   {
    "duration": 41,
    "start_time": "2022-02-28T18:53:51.922Z"
   },
   {
    "duration": 6,
    "start_time": "2022-02-28T18:53:51.964Z"
   },
   {
    "duration": 7,
    "start_time": "2022-02-28T18:53:51.972Z"
   },
   {
    "duration": 9,
    "start_time": "2022-02-28T18:53:51.981Z"
   },
   {
    "duration": 5,
    "start_time": "2022-02-28T18:53:51.992Z"
   },
   {
    "duration": 10,
    "start_time": "2022-02-28T18:53:51.998Z"
   },
   {
    "duration": 16,
    "start_time": "2022-02-28T18:53:52.010Z"
   },
   {
    "duration": 45,
    "start_time": "2022-02-28T18:53:52.028Z"
   },
   {
    "duration": 13,
    "start_time": "2022-02-28T18:53:52.075Z"
   },
   {
    "duration": 9,
    "start_time": "2022-02-28T18:53:52.090Z"
   },
   {
    "duration": 14,
    "start_time": "2022-02-28T18:53:52.100Z"
   },
   {
    "duration": 49,
    "start_time": "2022-02-28T18:53:52.115Z"
   },
   {
    "duration": 4,
    "start_time": "2022-02-28T18:53:52.166Z"
   },
   {
    "duration": 16,
    "start_time": "2022-02-28T18:53:52.171Z"
   },
   {
    "duration": 19,
    "start_time": "2022-02-28T18:53:52.191Z"
   },
   {
    "duration": 3,
    "start_time": "2022-02-28T18:53:52.212Z"
   },
   {
    "duration": 44,
    "start_time": "2022-02-28T18:53:52.216Z"
   },
   {
    "duration": 6,
    "start_time": "2022-02-28T18:53:52.262Z"
   },
   {
    "duration": 7,
    "start_time": "2022-02-28T18:53:52.270Z"
   },
   {
    "duration": 4,
    "start_time": "2022-02-28T18:53:52.278Z"
   },
   {
    "duration": 21,
    "start_time": "2022-02-28T18:53:52.283Z"
   },
   {
    "duration": 7,
    "start_time": "2022-02-28T18:53:52.305Z"
   },
   {
    "duration": 8,
    "start_time": "2022-02-28T18:53:52.313Z"
   },
   {
    "duration": 37,
    "start_time": "2022-02-28T18:53:52.322Z"
   },
   {
    "duration": 5,
    "start_time": "2022-02-28T18:53:52.361Z"
   },
   {
    "duration": 6,
    "start_time": "2022-02-28T18:53:52.367Z"
   },
   {
    "duration": 4,
    "start_time": "2022-02-28T18:53:52.375Z"
   },
   {
    "duration": 6,
    "start_time": "2022-02-28T18:56:49.173Z"
   },
   {
    "duration": 524,
    "start_time": "2022-02-28T18:56:58.309Z"
   },
   {
    "duration": 44,
    "start_time": "2022-02-28T18:56:58.835Z"
   },
   {
    "duration": 24,
    "start_time": "2022-02-28T18:56:58.881Z"
   },
   {
    "duration": 10,
    "start_time": "2022-02-28T18:56:58.907Z"
   },
   {
    "duration": 3,
    "start_time": "2022-02-28T18:56:58.919Z"
   },
   {
    "duration": 7,
    "start_time": "2022-02-28T18:56:58.923Z"
   },
   {
    "duration": 29,
    "start_time": "2022-02-28T18:56:58.931Z"
   },
   {
    "duration": 7,
    "start_time": "2022-02-28T18:56:58.962Z"
   },
   {
    "duration": 8,
    "start_time": "2022-02-28T18:56:58.970Z"
   },
   {
    "duration": 9,
    "start_time": "2022-02-28T18:56:58.980Z"
   },
   {
    "duration": 7,
    "start_time": "2022-02-28T18:56:58.991Z"
   },
   {
    "duration": 7,
    "start_time": "2022-02-28T18:56:58.999Z"
   },
   {
    "duration": 10,
    "start_time": "2022-02-28T18:56:59.008Z"
   },
   {
    "duration": 39,
    "start_time": "2022-02-28T18:56:59.020Z"
   },
   {
    "duration": 4,
    "start_time": "2022-02-28T18:56:59.061Z"
   },
   {
    "duration": 18,
    "start_time": "2022-02-28T18:56:59.067Z"
   },
   {
    "duration": 15,
    "start_time": "2022-02-28T18:56:59.087Z"
   },
   {
    "duration": 13,
    "start_time": "2022-02-28T18:56:59.104Z"
   },
   {
    "duration": 43,
    "start_time": "2022-02-28T18:56:59.119Z"
   },
   {
    "duration": 16,
    "start_time": "2022-02-28T18:56:59.164Z"
   },
   {
    "duration": 17,
    "start_time": "2022-02-28T18:56:59.181Z"
   },
   {
    "duration": 5,
    "start_time": "2022-02-28T18:56:59.199Z"
   },
   {
    "duration": 15,
    "start_time": "2022-02-28T18:56:59.207Z"
   },
   {
    "duration": 52,
    "start_time": "2022-02-28T18:56:59.224Z"
   },
   {
    "duration": 3,
    "start_time": "2022-02-28T18:56:59.278Z"
   },
   {
    "duration": 20,
    "start_time": "2022-02-28T18:56:59.283Z"
   },
   {
    "duration": 6,
    "start_time": "2022-02-28T18:56:59.305Z"
   },
   {
    "duration": 6,
    "start_time": "2022-02-28T18:56:59.312Z"
   },
   {
    "duration": 5,
    "start_time": "2022-02-28T18:56:59.319Z"
   },
   {
    "duration": 49,
    "start_time": "2022-02-28T18:56:59.325Z"
   },
   {
    "duration": 6,
    "start_time": "2022-02-28T18:56:59.376Z"
   },
   {
    "duration": 7,
    "start_time": "2022-02-28T18:56:59.384Z"
   },
   {
    "duration": 6,
    "start_time": "2022-02-28T18:56:59.392Z"
   },
   {
    "duration": 5,
    "start_time": "2022-02-28T18:56:59.399Z"
   },
   {
    "duration": 5,
    "start_time": "2022-02-28T18:56:59.406Z"
   },
   {
    "duration": 7,
    "start_time": "2022-02-28T18:56:59.412Z"
   },
   {
    "duration": 292,
    "start_time": "2022-03-01T09:51:36.150Z"
   },
   {
    "duration": 560,
    "start_time": "2022-03-01T10:45:16.084Z"
   },
   {
    "duration": 46,
    "start_time": "2022-03-01T10:45:16.645Z"
   },
   {
    "duration": 16,
    "start_time": "2022-03-01T10:45:16.692Z"
   },
   {
    "duration": 9,
    "start_time": "2022-03-01T10:45:16.710Z"
   },
   {
    "duration": 6,
    "start_time": "2022-03-01T10:45:16.783Z"
   },
   {
    "duration": 5,
    "start_time": "2022-03-01T10:45:16.960Z"
   },
   {
    "duration": 6,
    "start_time": "2022-03-01T10:45:16.967Z"
   },
   {
    "duration": 4,
    "start_time": "2022-03-01T10:45:16.975Z"
   },
   {
    "duration": 10,
    "start_time": "2022-03-01T10:45:16.981Z"
   },
   {
    "duration": 7,
    "start_time": "2022-03-01T10:45:16.992Z"
   },
   {
    "duration": 7,
    "start_time": "2022-03-01T10:45:17.000Z"
   },
   {
    "duration": 18,
    "start_time": "2022-03-01T10:45:17.009Z"
   },
   {
    "duration": 5,
    "start_time": "2022-03-01T10:45:17.028Z"
   },
   {
    "duration": 6,
    "start_time": "2022-03-01T10:45:17.035Z"
   },
   {
    "duration": 14,
    "start_time": "2022-03-01T10:45:17.204Z"
   },
   {
    "duration": 6,
    "start_time": "2022-03-01T10:45:17.219Z"
   },
   {
    "duration": 9,
    "start_time": "2022-03-01T10:45:17.227Z"
   },
   {
    "duration": 4,
    "start_time": "2022-03-01T10:45:17.445Z"
   },
   {
    "duration": 11,
    "start_time": "2022-03-01T10:45:17.451Z"
   },
   {
    "duration": 4,
    "start_time": "2022-03-01T10:45:17.463Z"
   },
   {
    "duration": 5,
    "start_time": "2022-03-01T10:45:17.468Z"
   },
   {
    "duration": 17,
    "start_time": "2022-03-01T10:45:17.474Z"
   },
   {
    "duration": 16,
    "start_time": "2022-03-01T10:45:17.492Z"
   },
   {
    "duration": 19,
    "start_time": "2022-03-01T10:45:17.511Z"
   },
   {
    "duration": 10,
    "start_time": "2022-03-01T10:45:17.533Z"
   },
   {
    "duration": 13,
    "start_time": "2022-03-01T10:45:17.545Z"
   },
   {
    "duration": 14,
    "start_time": "2022-03-01T10:45:17.559Z"
   },
   {
    "duration": 44,
    "start_time": "2022-03-01T10:45:17.575Z"
   },
   {
    "duration": 3,
    "start_time": "2022-03-01T10:45:17.621Z"
   },
   {
    "duration": 16,
    "start_time": "2022-03-01T10:45:17.626Z"
   },
   {
    "duration": 6,
    "start_time": "2022-03-01T10:45:17.644Z"
   },
   {
    "duration": 7,
    "start_time": "2022-03-01T10:45:17.651Z"
   },
   {
    "duration": 4,
    "start_time": "2022-03-01T10:45:17.659Z"
   },
   {
    "duration": 50,
    "start_time": "2022-03-01T10:45:17.665Z"
   },
   {
    "duration": 6,
    "start_time": "2022-03-01T10:45:17.716Z"
   },
   {
    "duration": 7,
    "start_time": "2022-03-01T10:45:17.725Z"
   },
   {
    "duration": 9,
    "start_time": "2022-03-01T10:45:17.734Z"
   },
   {
    "duration": 6,
    "start_time": "2022-03-01T10:45:17.744Z"
   },
   {
    "duration": 5,
    "start_time": "2022-03-01T10:45:17.752Z"
   },
   {
    "duration": 4,
    "start_time": "2022-03-01T10:45:17.759Z"
   },
   {
    "duration": 9,
    "start_time": "2022-03-01T11:13:39.915Z"
   },
   {
    "duration": 14,
    "start_time": "2022-03-01T11:15:06.227Z"
   },
   {
    "duration": 289,
    "start_time": "2022-03-01T11:21:38.667Z"
   },
   {
    "duration": 637,
    "start_time": "2022-03-01T11:21:45.798Z"
   },
   {
    "duration": 47,
    "start_time": "2022-03-01T11:21:46.437Z"
   },
   {
    "duration": 16,
    "start_time": "2022-03-01T11:21:46.486Z"
   },
   {
    "duration": 11,
    "start_time": "2022-03-01T11:21:46.503Z"
   },
   {
    "duration": 5,
    "start_time": "2022-03-01T11:21:46.515Z"
   },
   {
    "duration": 4,
    "start_time": "2022-03-01T11:21:46.522Z"
   },
   {
    "duration": 5,
    "start_time": "2022-03-01T11:21:46.528Z"
   },
   {
    "duration": 6,
    "start_time": "2022-03-01T11:21:46.535Z"
   },
   {
    "duration": 11,
    "start_time": "2022-03-01T11:21:46.542Z"
   },
   {
    "duration": 9,
    "start_time": "2022-03-01T11:21:46.555Z"
   },
   {
    "duration": 11,
    "start_time": "2022-03-01T11:21:46.565Z"
   },
   {
    "duration": 7,
    "start_time": "2022-03-01T11:21:46.577Z"
   },
   {
    "duration": 25,
    "start_time": "2022-03-01T11:21:46.585Z"
   },
   {
    "duration": 18,
    "start_time": "2022-03-01T11:21:46.611Z"
   },
   {
    "duration": 7,
    "start_time": "2022-03-01T11:21:46.630Z"
   },
   {
    "duration": 5,
    "start_time": "2022-03-01T11:21:46.638Z"
   },
   {
    "duration": 11,
    "start_time": "2022-03-01T11:21:46.644Z"
   },
   {
    "duration": 5,
    "start_time": "2022-03-01T11:21:46.656Z"
   },
   {
    "duration": 8,
    "start_time": "2022-03-01T11:21:46.662Z"
   },
   {
    "duration": 47,
    "start_time": "2022-03-01T11:21:46.671Z"
   },
   {
    "duration": 15,
    "start_time": "2022-03-01T11:21:46.719Z"
   },
   {
    "duration": 7,
    "start_time": "2022-03-01T11:21:46.735Z"
   },
   {
    "duration": 13,
    "start_time": "2022-03-01T11:21:46.745Z"
   },
   {
    "duration": 15,
    "start_time": "2022-03-01T11:21:46.760Z"
   },
   {
    "duration": 44,
    "start_time": "2022-03-01T11:21:46.776Z"
   },
   {
    "duration": 14,
    "start_time": "2022-03-01T11:21:46.822Z"
   },
   {
    "duration": 10,
    "start_time": "2022-03-01T11:21:46.838Z"
   },
   {
    "duration": 7,
    "start_time": "2022-03-01T11:21:46.850Z"
   },
   {
    "duration": 11,
    "start_time": "2022-03-01T11:21:46.859Z"
   },
   {
    "duration": 34,
    "start_time": "2022-03-01T11:21:46.872Z"
   },
   {
    "duration": 16,
    "start_time": "2022-03-01T11:21:46.908Z"
   },
   {
    "duration": 6,
    "start_time": "2022-03-01T11:21:46.926Z"
   },
   {
    "duration": 6,
    "start_time": "2022-03-01T11:21:46.933Z"
   },
   {
    "duration": 3,
    "start_time": "2022-03-01T11:21:46.941Z"
   },
   {
    "duration": 16,
    "start_time": "2022-03-01T11:21:46.946Z"
   },
   {
    "duration": 7,
    "start_time": "2022-03-01T11:21:46.963Z"
   },
   {
    "duration": 34,
    "start_time": "2022-03-01T11:21:46.971Z"
   },
   {
    "duration": 331,
    "start_time": "2022-03-01T11:22:11.230Z"
   },
   {
    "duration": 497,
    "start_time": "2022-03-01T11:22:16.759Z"
   },
   {
    "duration": 45,
    "start_time": "2022-03-01T11:22:17.258Z"
   },
   {
    "duration": 16,
    "start_time": "2022-03-01T11:22:17.305Z"
   },
   {
    "duration": 10,
    "start_time": "2022-03-01T11:22:17.323Z"
   },
   {
    "duration": 5,
    "start_time": "2022-03-01T11:22:17.335Z"
   },
   {
    "duration": 6,
    "start_time": "2022-03-01T11:22:17.341Z"
   },
   {
    "duration": 12,
    "start_time": "2022-03-01T11:22:17.349Z"
   },
   {
    "duration": 8,
    "start_time": "2022-03-01T11:22:17.363Z"
   },
   {
    "duration": 7,
    "start_time": "2022-03-01T11:22:17.373Z"
   },
   {
    "duration": 13,
    "start_time": "2022-03-01T11:22:17.381Z"
   },
   {
    "duration": 10,
    "start_time": "2022-03-01T11:22:17.405Z"
   },
   {
    "duration": 12,
    "start_time": "2022-03-01T11:22:17.416Z"
   },
   {
    "duration": 7,
    "start_time": "2022-03-01T11:22:17.429Z"
   },
   {
    "duration": 18,
    "start_time": "2022-03-01T11:22:17.437Z"
   },
   {
    "duration": 9,
    "start_time": "2022-03-01T11:22:17.457Z"
   },
   {
    "duration": 7,
    "start_time": "2022-03-01T11:22:17.467Z"
   },
   {
    "duration": 13,
    "start_time": "2022-03-01T11:22:17.476Z"
   },
   {
    "duration": 4,
    "start_time": "2022-03-01T11:22:17.490Z"
   },
   {
    "duration": 12,
    "start_time": "2022-03-01T11:22:17.495Z"
   },
   {
    "duration": 16,
    "start_time": "2022-03-01T11:22:17.508Z"
   },
   {
    "duration": 13,
    "start_time": "2022-03-01T11:22:17.525Z"
   },
   {
    "duration": 7,
    "start_time": "2022-03-01T11:22:17.540Z"
   },
   {
    "duration": 11,
    "start_time": "2022-03-01T11:22:17.550Z"
   },
   {
    "duration": 47,
    "start_time": "2022-03-01T11:22:17.563Z"
   },
   {
    "duration": 15,
    "start_time": "2022-03-01T11:22:17.611Z"
   },
   {
    "duration": 13,
    "start_time": "2022-03-01T11:22:17.627Z"
   },
   {
    "duration": 8,
    "start_time": "2022-03-01T11:22:17.641Z"
   },
   {
    "duration": 8,
    "start_time": "2022-03-01T11:22:17.651Z"
   },
   {
    "duration": 11,
    "start_time": "2022-03-01T11:22:17.660Z"
   },
   {
    "duration": 3,
    "start_time": "2022-03-01T11:22:17.672Z"
   },
   {
    "duration": 43,
    "start_time": "2022-03-01T11:22:17.676Z"
   },
   {
    "duration": 8,
    "start_time": "2022-03-01T11:22:17.720Z"
   },
   {
    "duration": 7,
    "start_time": "2022-03-01T11:22:17.729Z"
   },
   {
    "duration": 4,
    "start_time": "2022-03-01T11:22:17.737Z"
   },
   {
    "duration": 17,
    "start_time": "2022-03-01T11:22:17.742Z"
   },
   {
    "duration": 6,
    "start_time": "2022-03-01T11:22:17.760Z"
   },
   {
    "duration": 5,
    "start_time": "2022-03-01T11:22:17.768Z"
   },
   {
    "duration": 299,
    "start_time": "2022-03-01T11:25:26.128Z"
   },
   {
    "duration": 481,
    "start_time": "2022-03-01T11:25:33.362Z"
   },
   {
    "duration": 45,
    "start_time": "2022-03-01T11:25:33.844Z"
   },
   {
    "duration": 15,
    "start_time": "2022-03-01T11:25:33.891Z"
   },
   {
    "duration": 11,
    "start_time": "2022-03-01T11:25:33.908Z"
   },
   {
    "duration": 6,
    "start_time": "2022-03-01T11:25:33.920Z"
   },
   {
    "duration": 6,
    "start_time": "2022-03-01T11:25:33.927Z"
   },
   {
    "duration": 5,
    "start_time": "2022-03-01T11:25:33.935Z"
   },
   {
    "duration": 5,
    "start_time": "2022-03-01T11:25:33.943Z"
   },
   {
    "duration": 6,
    "start_time": "2022-03-01T11:25:33.950Z"
   },
   {
    "duration": 7,
    "start_time": "2022-03-01T11:25:33.957Z"
   },
   {
    "duration": 41,
    "start_time": "2022-03-01T11:25:33.965Z"
   },
   {
    "duration": 7,
    "start_time": "2022-03-01T11:25:34.008Z"
   },
   {
    "duration": 7,
    "start_time": "2022-03-01T11:25:34.017Z"
   },
   {
    "duration": 14,
    "start_time": "2022-03-01T11:25:34.025Z"
   },
   {
    "duration": 7,
    "start_time": "2022-03-01T11:25:34.041Z"
   },
   {
    "duration": 4,
    "start_time": "2022-03-01T11:25:34.050Z"
   },
   {
    "duration": 10,
    "start_time": "2022-03-01T11:25:34.055Z"
   },
   {
    "duration": 39,
    "start_time": "2022-03-01T11:25:34.066Z"
   },
   {
    "duration": 5,
    "start_time": "2022-03-01T11:25:34.106Z"
   },
   {
    "duration": 17,
    "start_time": "2022-03-01T11:25:34.113Z"
   },
   {
    "duration": 14,
    "start_time": "2022-03-01T11:25:34.132Z"
   },
   {
    "duration": 9,
    "start_time": "2022-03-01T11:25:34.148Z"
   },
   {
    "duration": 45,
    "start_time": "2022-03-01T11:25:34.161Z"
   },
   {
    "duration": 16,
    "start_time": "2022-03-01T11:25:34.208Z"
   },
   {
    "duration": 17,
    "start_time": "2022-03-01T11:25:34.226Z"
   },
   {
    "duration": 14,
    "start_time": "2022-03-01T11:25:34.245Z"
   },
   {
    "duration": 10,
    "start_time": "2022-03-01T11:25:34.261Z"
   },
   {
    "duration": 39,
    "start_time": "2022-03-01T11:25:34.272Z"
   },
   {
    "duration": 10,
    "start_time": "2022-03-01T11:25:34.313Z"
   },
   {
    "duration": 3,
    "start_time": "2022-03-01T11:25:34.325Z"
   },
   {
    "duration": 17,
    "start_time": "2022-03-01T11:25:34.330Z"
   },
   {
    "duration": 7,
    "start_time": "2022-03-01T11:25:34.348Z"
   },
   {
    "duration": 8,
    "start_time": "2022-03-01T11:25:34.357Z"
   },
   {
    "duration": 39,
    "start_time": "2022-03-01T11:25:34.367Z"
   },
   {
    "duration": 18,
    "start_time": "2022-03-01T11:25:34.408Z"
   },
   {
    "duration": 6,
    "start_time": "2022-03-01T11:25:34.428Z"
   },
   {
    "duration": 5,
    "start_time": "2022-03-01T11:25:34.435Z"
   },
   {
    "duration": 6,
    "start_time": "2022-03-01T11:46:57.279Z"
   },
   {
    "duration": 305,
    "start_time": "2022-03-01T13:54:29.869Z"
   },
   {
    "duration": 26,
    "start_time": "2022-03-01T13:57:04.388Z"
   },
   {
    "duration": 75,
    "start_time": "2022-03-01T13:58:53.509Z"
   },
   {
    "duration": 82,
    "start_time": "2022-03-01T13:59:04.996Z"
   },
   {
    "duration": 79,
    "start_time": "2022-03-01T14:00:43.508Z"
   },
   {
    "duration": 85,
    "start_time": "2022-03-01T14:00:53.372Z"
   },
   {
    "duration": 71,
    "start_time": "2022-03-01T14:03:54.308Z"
   },
   {
    "duration": 11,
    "start_time": "2022-03-01T14:04:07.672Z"
   },
   {
    "duration": 11,
    "start_time": "2022-03-01T14:04:20.417Z"
   },
   {
    "duration": 10,
    "start_time": "2022-03-01T14:04:25.301Z"
   },
   {
    "duration": 12,
    "start_time": "2022-03-01T14:07:20.805Z"
   },
   {
    "duration": 611,
    "start_time": "2022-03-01T14:09:07.105Z"
   },
   {
    "duration": 747,
    "start_time": "2022-03-01T14:09:14.300Z"
   },
   {
    "duration": 24,
    "start_time": "2022-03-01T14:11:57.041Z"
   },
   {
    "duration": 14,
    "start_time": "2022-03-01T14:16:05.877Z"
   },
   {
    "duration": 83,
    "start_time": "2022-03-01T14:16:43.029Z"
   },
   {
    "duration": 12,
    "start_time": "2022-03-01T14:16:56.336Z"
   },
   {
    "duration": 14,
    "start_time": "2022-03-01T14:20:31.332Z"
   },
   {
    "duration": 72,
    "start_time": "2022-03-01T14:21:45.528Z"
   },
   {
    "duration": 89,
    "start_time": "2022-03-01T14:22:04.264Z"
   },
   {
    "duration": 71,
    "start_time": "2022-03-01T14:23:04.183Z"
   },
   {
    "duration": 14,
    "start_time": "2022-03-01T14:23:10.547Z"
   },
   {
    "duration": 13,
    "start_time": "2022-03-01T14:23:22.715Z"
   },
   {
    "duration": 78,
    "start_time": "2022-03-01T14:23:34.176Z"
   },
   {
    "duration": 13,
    "start_time": "2022-03-01T14:23:41.008Z"
   },
   {
    "duration": 12,
    "start_time": "2022-03-01T14:24:25.376Z"
   },
   {
    "duration": 84,
    "start_time": "2022-03-01T14:24:32.404Z"
   },
   {
    "duration": 13,
    "start_time": "2022-03-01T14:24:45.932Z"
   },
   {
    "duration": 71,
    "start_time": "2022-03-01T14:28:04.728Z"
   },
   {
    "duration": 14,
    "start_time": "2022-03-01T14:28:12.011Z"
   },
   {
    "duration": 240,
    "start_time": "2022-03-01T14:30:03.364Z"
   },
   {
    "duration": 17,
    "start_time": "2022-03-01T14:31:15.520Z"
   },
   {
    "duration": 16,
    "start_time": "2022-03-01T14:32:07.879Z"
   },
   {
    "duration": 16,
    "start_time": "2022-03-01T14:32:54.159Z"
   },
   {
    "duration": 50,
    "start_time": "2022-03-01T14:34:48.919Z"
   },
   {
    "duration": 33,
    "start_time": "2022-03-01T14:35:32.295Z"
   },
   {
    "duration": 12,
    "start_time": "2022-03-01T14:38:51.039Z"
   },
   {
    "duration": 18,
    "start_time": "2022-03-01T14:39:58.947Z"
   },
   {
    "duration": 12,
    "start_time": "2022-03-01T14:48:07.915Z"
   },
   {
    "duration": 16,
    "start_time": "2022-03-01T14:48:18.503Z"
   },
   {
    "duration": 244,
    "start_time": "2022-03-01T14:51:02.291Z"
   },
   {
    "duration": 233,
    "start_time": "2022-03-01T14:51:12.118Z"
   },
   {
    "duration": 24,
    "start_time": "2022-03-01T14:51:31.318Z"
   },
   {
    "duration": 12,
    "start_time": "2022-03-01T14:52:04.039Z"
   },
   {
    "duration": 237,
    "start_time": "2022-03-01T14:56:03.035Z"
   },
   {
    "duration": 11,
    "start_time": "2022-03-01T14:59:43.230Z"
   },
   {
    "duration": 11,
    "start_time": "2022-03-01T15:00:27.911Z"
   },
   {
    "duration": 11,
    "start_time": "2022-03-01T15:01:16.895Z"
   },
   {
    "duration": 293,
    "start_time": "2022-03-01T15:01:26.983Z"
   },
   {
    "duration": 323,
    "start_time": "2022-03-01T15:01:31.758Z"
   },
   {
    "duration": 12,
    "start_time": "2022-03-01T15:01:41.334Z"
   },
   {
    "duration": 11,
    "start_time": "2022-03-01T15:07:33.610Z"
   },
   {
    "duration": 11,
    "start_time": "2022-03-01T15:07:42.068Z"
   },
   {
    "duration": 11,
    "start_time": "2022-03-01T15:07:58.374Z"
   },
   {
    "duration": 12,
    "start_time": "2022-03-01T15:08:50.034Z"
   },
   {
    "duration": 11,
    "start_time": "2022-03-01T15:08:58.814Z"
   },
   {
    "duration": 144,
    "start_time": "2022-03-01T15:15:06.011Z"
   },
   {
    "duration": 7,
    "start_time": "2022-03-01T15:15:12.247Z"
   },
   {
    "duration": 7,
    "start_time": "2022-03-01T15:15:31.194Z"
   },
   {
    "duration": 6,
    "start_time": "2022-03-01T15:15:39.098Z"
   },
   {
    "duration": 220,
    "start_time": "2022-03-01T15:27:31.176Z"
   },
   {
    "duration": 220,
    "start_time": "2022-03-01T15:27:40.452Z"
   },
   {
    "duration": 75,
    "start_time": "2022-03-01T15:27:45.399Z"
   },
   {
    "duration": 241,
    "start_time": "2022-03-01T15:27:48.111Z"
   },
   {
    "duration": 300,
    "start_time": "2022-03-01T15:27:51.202Z"
   },
   {
    "duration": 236,
    "start_time": "2022-03-01T15:27:59.163Z"
   },
   {
    "duration": 78,
    "start_time": "2022-03-01T15:28:06.343Z"
   },
   {
    "duration": 77,
    "start_time": "2022-03-01T15:28:18.480Z"
   },
   {
    "duration": 228,
    "start_time": "2022-03-01T15:28:27.280Z"
   },
   {
    "duration": 248,
    "start_time": "2022-03-01T15:28:31.719Z"
   },
   {
    "duration": 250,
    "start_time": "2022-03-01T15:28:35.239Z"
   },
   {
    "duration": 15,
    "start_time": "2022-03-01T15:28:38.667Z"
   },
   {
    "duration": 11,
    "start_time": "2022-03-01T15:28:55.908Z"
   },
   {
    "duration": 16,
    "start_time": "2022-03-01T15:33:49.120Z"
   },
   {
    "duration": 2264,
    "start_time": "2022-03-01T15:35:10.519Z"
   },
   {
    "duration": 3,
    "start_time": "2022-03-01T15:35:19.519Z"
   },
   {
    "duration": 2644,
    "start_time": "2022-03-01T15:35:21.612Z"
   },
   {
    "duration": 3,
    "start_time": "2022-03-01T15:35:46.543Z"
   },
   {
    "duration": 3705,
    "start_time": "2022-03-01T15:35:48.312Z"
   },
   {
    "duration": 17,
    "start_time": "2022-03-01T15:36:34.295Z"
   },
   {
    "duration": 9381,
    "start_time": "2022-03-01T15:37:14.003Z"
   },
   {
    "duration": 17,
    "start_time": "2022-03-01T15:37:43.580Z"
   },
   {
    "duration": 231,
    "start_time": "2022-03-01T15:42:49.939Z"
   },
   {
    "duration": 222,
    "start_time": "2022-03-01T15:43:11.403Z"
   },
   {
    "duration": 18,
    "start_time": "2022-03-01T15:43:59.563Z"
   },
   {
    "duration": 241,
    "start_time": "2022-03-01T15:45:23.843Z"
   },
   {
    "duration": 7,
    "start_time": "2022-03-01T15:45:41.624Z"
   },
   {
    "duration": 7,
    "start_time": "2022-03-01T15:45:48.748Z"
   },
   {
    "duration": 9,
    "start_time": "2022-03-01T15:46:19.555Z"
   },
   {
    "duration": 10,
    "start_time": "2022-03-01T15:46:36.656Z"
   },
   {
    "duration": 7,
    "start_time": "2022-03-01T15:46:51.019Z"
   },
   {
    "duration": 5621,
    "start_time": "2022-03-01T15:50:36.831Z"
   },
   {
    "duration": 5686,
    "start_time": "2022-03-01T15:50:42.611Z"
   },
   {
    "duration": 5706,
    "start_time": "2022-03-01T15:50:51.923Z"
   },
   {
    "duration": 21,
    "start_time": "2022-03-01T15:51:11.195Z"
   },
   {
    "duration": 22,
    "start_time": "2022-03-01T15:51:51.259Z"
   },
   {
    "duration": 22,
    "start_time": "2022-03-01T15:59:37.771Z"
   },
   {
    "duration": 233,
    "start_time": "2022-03-02T09:44:15.177Z"
   },
   {
    "duration": 552,
    "start_time": "2022-03-02T09:44:27.823Z"
   },
   {
    "duration": 60,
    "start_time": "2022-03-02T09:44:28.377Z"
   },
   {
    "duration": 19,
    "start_time": "2022-03-02T09:44:28.439Z"
   },
   {
    "duration": 13,
    "start_time": "2022-03-02T09:44:28.460Z"
   },
   {
    "duration": 5,
    "start_time": "2022-03-02T09:44:28.475Z"
   },
   {
    "duration": 6,
    "start_time": "2022-03-02T09:44:28.482Z"
   },
   {
    "duration": 7,
    "start_time": "2022-03-02T09:44:28.489Z"
   },
   {
    "duration": 6,
    "start_time": "2022-03-02T09:44:28.499Z"
   },
   {
    "duration": 7,
    "start_time": "2022-03-02T09:44:28.507Z"
   },
   {
    "duration": 9,
    "start_time": "2022-03-02T09:44:28.516Z"
   },
   {
    "duration": 9,
    "start_time": "2022-03-02T09:44:28.526Z"
   },
   {
    "duration": 40,
    "start_time": "2022-03-02T09:44:28.537Z"
   },
   {
    "duration": 7,
    "start_time": "2022-03-02T09:44:28.579Z"
   },
   {
    "duration": 6,
    "start_time": "2022-03-02T09:44:28.587Z"
   },
   {
    "duration": 14,
    "start_time": "2022-03-02T09:44:28.595Z"
   },
   {
    "duration": 8,
    "start_time": "2022-03-02T09:44:28.611Z"
   },
   {
    "duration": 6,
    "start_time": "2022-03-02T09:44:28.621Z"
   },
   {
    "duration": 18,
    "start_time": "2022-03-02T09:44:28.629Z"
   },
   {
    "duration": 42,
    "start_time": "2022-03-02T09:44:28.649Z"
   },
   {
    "duration": 9,
    "start_time": "2022-03-02T09:44:28.693Z"
   },
   {
    "duration": 16,
    "start_time": "2022-03-02T09:44:28.703Z"
   },
   {
    "duration": 16,
    "start_time": "2022-03-02T09:44:28.721Z"
   },
   {
    "duration": 47,
    "start_time": "2022-03-02T09:44:28.740Z"
   },
   {
    "duration": 14,
    "start_time": "2022-03-02T09:44:28.789Z"
   },
   {
    "duration": 7,
    "start_time": "2022-03-02T09:44:28.804Z"
   },
   {
    "duration": 18,
    "start_time": "2022-03-02T09:44:28.812Z"
   },
   {
    "duration": 11,
    "start_time": "2022-03-02T09:44:28.831Z"
   },
   {
    "duration": 41,
    "start_time": "2022-03-02T09:44:28.843Z"
   },
   {
    "duration": 11,
    "start_time": "2022-03-02T09:44:28.885Z"
   },
   {
    "duration": 4,
    "start_time": "2022-03-02T09:44:28.897Z"
   },
   {
    "duration": 21,
    "start_time": "2022-03-02T09:44:28.902Z"
   },
   {
    "duration": 6,
    "start_time": "2022-03-02T09:44:28.925Z"
   },
   {
    "duration": 7,
    "start_time": "2022-03-02T09:44:28.932Z"
   },
   {
    "duration": 37,
    "start_time": "2022-03-02T09:44:28.940Z"
   },
   {
    "duration": 21,
    "start_time": "2022-03-02T09:44:28.979Z"
   },
   {
    "duration": 11,
    "start_time": "2022-03-02T09:44:29.002Z"
   },
   {
    "duration": 14,
    "start_time": "2022-03-02T09:44:29.014Z"
   },
   {
    "duration": 50,
    "start_time": "2022-03-02T09:44:29.029Z"
   },
   {
    "duration": 8,
    "start_time": "2022-03-02T09:44:29.080Z"
   },
   {
    "duration": 26,
    "start_time": "2022-03-02T09:44:29.089Z"
   },
   {
    "duration": 11,
    "start_time": "2022-03-02T09:44:29.116Z"
   },
   {
    "duration": 9,
    "start_time": "2022-03-02T10:02:01.079Z"
   },
   {
    "duration": 289,
    "start_time": "2022-03-02T10:16:16.755Z"
   },
   {
    "duration": 230,
    "start_time": "2022-03-02T10:17:32.463Z"
   },
   {
    "duration": 210,
    "start_time": "2022-03-02T10:17:43.867Z"
   },
   {
    "duration": 3,
    "start_time": "2022-03-02T10:17:53.007Z"
   },
   {
    "duration": 5,
    "start_time": "2022-03-02T10:17:57.691Z"
   },
   {
    "duration": 5,
    "start_time": "2022-03-02T10:21:12.188Z"
   },
   {
    "duration": 212,
    "start_time": "2022-03-02T10:21:18.087Z"
   },
   {
    "duration": 27,
    "start_time": "2022-03-02T10:21:26.939Z"
   },
   {
    "duration": 27,
    "start_time": "2022-03-02T10:21:51.111Z"
   },
   {
    "duration": 584,
    "start_time": "2022-03-02T10:22:04.937Z"
   },
   {
    "duration": 75,
    "start_time": "2022-03-02T10:22:05.523Z"
   },
   {
    "duration": 20,
    "start_time": "2022-03-02T10:22:05.600Z"
   },
   {
    "duration": 13,
    "start_time": "2022-03-02T10:22:05.622Z"
   },
   {
    "duration": 7,
    "start_time": "2022-03-02T10:22:05.637Z"
   },
   {
    "duration": 8,
    "start_time": "2022-03-02T10:22:05.645Z"
   },
   {
    "duration": 24,
    "start_time": "2022-03-02T10:22:05.655Z"
   },
   {
    "duration": 11,
    "start_time": "2022-03-02T10:22:05.682Z"
   },
   {
    "duration": 10,
    "start_time": "2022-03-02T10:22:05.695Z"
   },
   {
    "duration": 15,
    "start_time": "2022-03-02T10:22:05.707Z"
   },
   {
    "duration": 15,
    "start_time": "2022-03-02T10:22:05.724Z"
   },
   {
    "duration": 8,
    "start_time": "2022-03-02T10:22:05.741Z"
   },
   {
    "duration": 15,
    "start_time": "2022-03-02T10:22:05.751Z"
   },
   {
    "duration": 3,
    "start_time": "2022-03-02T10:22:05.777Z"
   },
   {
    "duration": 23,
    "start_time": "2022-03-02T10:22:05.782Z"
   },
   {
    "duration": 6,
    "start_time": "2022-03-02T10:22:05.807Z"
   },
   {
    "duration": 6,
    "start_time": "2022-03-02T10:22:05.815Z"
   },
   {
    "duration": 25,
    "start_time": "2022-03-02T10:22:05.823Z"
   },
   {
    "duration": 18,
    "start_time": "2022-03-02T10:22:05.878Z"
   },
   {
    "duration": 10,
    "start_time": "2022-03-02T10:22:05.898Z"
   },
   {
    "duration": 19,
    "start_time": "2022-03-02T10:22:05.910Z"
   },
   {
    "duration": 47,
    "start_time": "2022-03-02T10:22:05.931Z"
   },
   {
    "duration": 20,
    "start_time": "2022-03-02T10:22:05.982Z"
   },
   {
    "duration": 19,
    "start_time": "2022-03-02T10:22:06.005Z"
   },
   {
    "duration": 9,
    "start_time": "2022-03-02T10:22:06.027Z"
   },
   {
    "duration": 51,
    "start_time": "2022-03-02T10:22:06.038Z"
   },
   {
    "duration": 14,
    "start_time": "2022-03-02T10:22:06.091Z"
   },
   {
    "duration": 13,
    "start_time": "2022-03-02T10:22:06.107Z"
   },
   {
    "duration": 13,
    "start_time": "2022-03-02T10:22:06.122Z"
   },
   {
    "duration": 42,
    "start_time": "2022-03-02T10:22:06.137Z"
   },
   {
    "duration": 25,
    "start_time": "2022-03-02T10:22:06.181Z"
   },
   {
    "duration": 12,
    "start_time": "2022-03-02T10:22:06.208Z"
   },
   {
    "duration": 16,
    "start_time": "2022-03-02T10:22:06.222Z"
   },
   {
    "duration": 11,
    "start_time": "2022-03-02T10:22:06.240Z"
   },
   {
    "duration": 38,
    "start_time": "2022-03-02T10:22:06.253Z"
   },
   {
    "duration": 8,
    "start_time": "2022-03-02T10:22:06.293Z"
   },
   {
    "duration": 20,
    "start_time": "2022-03-02T10:22:06.303Z"
   },
   {
    "duration": 24,
    "start_time": "2022-03-02T10:22:06.325Z"
   },
   {
    "duration": 29,
    "start_time": "2022-03-02T10:22:06.351Z"
   },
   {
    "duration": 5,
    "start_time": "2022-03-02T10:22:06.381Z"
   },
   {
    "duration": 32,
    "start_time": "2022-03-02T10:22:06.388Z"
   },
   {
    "duration": 12,
    "start_time": "2022-03-02T10:22:06.422Z"
   },
   {
    "duration": 287,
    "start_time": "2022-03-02T10:23:34.952Z"
   },
   {
    "duration": 28,
    "start_time": "2022-03-02T10:23:39.792Z"
   },
   {
    "duration": 28,
    "start_time": "2022-03-02T10:30:33.950Z"
   },
   {
    "duration": 27,
    "start_time": "2022-03-02T10:30:40.644Z"
   },
   {
    "duration": 31,
    "start_time": "2022-03-02T10:30:45.835Z"
   },
   {
    "duration": 27,
    "start_time": "2022-03-02T10:30:52.607Z"
   },
   {
    "duration": 26,
    "start_time": "2022-03-02T10:31:13.191Z"
   },
   {
    "duration": 26,
    "start_time": "2022-03-02T10:32:23.535Z"
   },
   {
    "duration": 27,
    "start_time": "2022-03-02T10:34:34.255Z"
   },
   {
    "duration": 27,
    "start_time": "2022-03-02T10:38:54.118Z"
   },
   {
    "duration": 30,
    "start_time": "2022-03-02T11:03:21.720Z"
   },
   {
    "duration": 32,
    "start_time": "2022-03-02T11:10:01.569Z"
   },
   {
    "duration": 5523,
    "start_time": "2022-03-02T11:10:13.269Z"
   },
   {
    "duration": 27,
    "start_time": "2022-03-02T11:10:43.446Z"
   },
   {
    "duration": 6,
    "start_time": "2022-03-02T11:47:00.349Z"
   },
   {
    "duration": 8,
    "start_time": "2022-03-02T11:48:23.488Z"
   },
   {
    "duration": 242,
    "start_time": "2022-03-02T12:41:11.754Z"
   },
   {
    "duration": 17,
    "start_time": "2022-03-02T12:49:27.840Z"
   },
   {
    "duration": 273,
    "start_time": "2022-03-02T12:49:56.109Z"
   },
   {
    "duration": 9,
    "start_time": "2022-03-02T12:50:04.405Z"
   },
   {
    "duration": 12,
    "start_time": "2022-03-02T12:50:08.858Z"
   },
   {
    "duration": 14,
    "start_time": "2022-03-02T12:50:37.902Z"
   },
   {
    "duration": 14,
    "start_time": "2022-03-02T12:50:53.261Z"
   },
   {
    "duration": 13,
    "start_time": "2022-03-02T12:51:38.494Z"
   },
   {
    "duration": 13,
    "start_time": "2022-03-02T12:58:38.689Z"
   },
   {
    "duration": 9,
    "start_time": "2022-03-02T13:03:55.697Z"
   },
   {
    "duration": 218,
    "start_time": "2022-03-02T13:18:53.436Z"
   },
   {
    "duration": 6100,
    "start_time": "2022-03-02T13:19:00.441Z"
   },
   {
    "duration": 8,
    "start_time": "2022-03-02T13:19:12.436Z"
   },
   {
    "duration": 226,
    "start_time": "2022-03-02T13:33:05.472Z"
   },
   {
    "duration": 220,
    "start_time": "2022-03-02T13:33:11.584Z"
   },
   {
    "duration": 229,
    "start_time": "2022-03-02T13:33:48.724Z"
   },
   {
    "duration": 216,
    "start_time": "2022-03-02T13:33:53.568Z"
   },
   {
    "duration": 6,
    "start_time": "2022-03-02T13:35:25.144Z"
   },
   {
    "duration": 694,
    "start_time": "2022-03-02T13:35:46.552Z"
   },
   {
    "duration": 27,
    "start_time": "2022-03-02T13:37:59.252Z"
   },
   {
    "duration": 16,
    "start_time": "2022-03-02T13:39:01.472Z"
   },
   {
    "duration": 18,
    "start_time": "2022-03-02T13:40:45.560Z"
   },
   {
    "duration": 597,
    "start_time": "2022-03-02T13:44:05.912Z"
   },
   {
    "duration": 52,
    "start_time": "2022-03-02T13:44:06.512Z"
   },
   {
    "duration": 20,
    "start_time": "2022-03-02T13:44:06.566Z"
   },
   {
    "duration": 11,
    "start_time": "2022-03-02T13:44:06.588Z"
   },
   {
    "duration": 6,
    "start_time": "2022-03-02T13:44:06.601Z"
   },
   {
    "duration": 6,
    "start_time": "2022-03-02T13:44:06.608Z"
   },
   {
    "duration": 6,
    "start_time": "2022-03-02T13:44:06.615Z"
   },
   {
    "duration": 6,
    "start_time": "2022-03-02T13:44:06.623Z"
   },
   {
    "duration": 7,
    "start_time": "2022-03-02T13:44:06.630Z"
   },
   {
    "duration": 44,
    "start_time": "2022-03-02T13:44:06.639Z"
   },
   {
    "duration": 15,
    "start_time": "2022-03-02T13:44:06.684Z"
   },
   {
    "duration": 9,
    "start_time": "2022-03-02T13:44:06.700Z"
   },
   {
    "duration": 9,
    "start_time": "2022-03-02T13:44:06.711Z"
   },
   {
    "duration": 8,
    "start_time": "2022-03-02T13:44:06.721Z"
   },
   {
    "duration": 5,
    "start_time": "2022-03-02T13:44:06.731Z"
   },
   {
    "duration": 11,
    "start_time": "2022-03-02T13:44:06.737Z"
   },
   {
    "duration": 30,
    "start_time": "2022-03-02T13:44:06.749Z"
   },
   {
    "duration": 11,
    "start_time": "2022-03-02T13:44:06.781Z"
   },
   {
    "duration": 19,
    "start_time": "2022-03-02T13:44:06.793Z"
   },
   {
    "duration": 7,
    "start_time": "2022-03-02T13:44:06.814Z"
   },
   {
    "duration": 19,
    "start_time": "2022-03-02T13:44:06.823Z"
   },
   {
    "duration": 45,
    "start_time": "2022-03-02T13:44:06.843Z"
   },
   {
    "duration": 891,
    "start_time": "2022-03-02T13:44:06.891Z"
   },
   {
    "duration": -3562,
    "start_time": "2022-03-02T13:44:11.346Z"
   },
   {
    "duration": -3565,
    "start_time": "2022-03-02T13:44:11.350Z"
   },
   {
    "duration": -3568,
    "start_time": "2022-03-02T13:44:11.354Z"
   },
   {
    "duration": -3571,
    "start_time": "2022-03-02T13:44:11.358Z"
   },
   {
    "duration": -3575,
    "start_time": "2022-03-02T13:44:11.363Z"
   },
   {
    "duration": -3577,
    "start_time": "2022-03-02T13:44:11.366Z"
   },
   {
    "duration": -3581,
    "start_time": "2022-03-02T13:44:11.371Z"
   },
   {
    "duration": -3584,
    "start_time": "2022-03-02T13:44:11.375Z"
   },
   {
    "duration": -3588,
    "start_time": "2022-03-02T13:44:11.380Z"
   },
   {
    "duration": -3590,
    "start_time": "2022-03-02T13:44:11.383Z"
   },
   {
    "duration": -3594,
    "start_time": "2022-03-02T13:44:11.388Z"
   },
   {
    "duration": -3596,
    "start_time": "2022-03-02T13:44:11.391Z"
   },
   {
    "duration": -3600,
    "start_time": "2022-03-02T13:44:11.396Z"
   },
   {
    "duration": -3601,
    "start_time": "2022-03-02T13:44:11.399Z"
   },
   {
    "duration": -3629,
    "start_time": "2022-03-02T13:44:11.428Z"
   },
   {
    "duration": -3632,
    "start_time": "2022-03-02T13:44:11.432Z"
   },
   {
    "duration": -3635,
    "start_time": "2022-03-02T13:44:11.436Z"
   },
   {
    "duration": -3639,
    "start_time": "2022-03-02T13:44:11.441Z"
   },
   {
    "duration": -3642,
    "start_time": "2022-03-02T13:44:11.445Z"
   },
   {
    "duration": -3645,
    "start_time": "2022-03-02T13:44:11.449Z"
   },
   {
    "duration": -3648,
    "start_time": "2022-03-02T13:44:11.453Z"
   },
   {
    "duration": 372,
    "start_time": "2022-03-02T13:46:19.196Z"
   },
   {
    "duration": 233,
    "start_time": "2022-03-02T13:46:50.391Z"
   },
   {
    "duration": 284,
    "start_time": "2022-03-02T13:46:58.251Z"
   },
   {
    "duration": 218,
    "start_time": "2022-03-02T13:47:46.791Z"
   },
   {
    "duration": 76,
    "start_time": "2022-03-02T13:52:18.871Z"
   },
   {
    "duration": 72,
    "start_time": "2022-03-02T13:57:04.027Z"
   },
   {
    "duration": 76,
    "start_time": "2022-03-02T13:57:14.327Z"
   },
   {
    "duration": 75,
    "start_time": "2022-03-02T13:57:31.303Z"
   },
   {
    "duration": 78,
    "start_time": "2022-03-02T13:57:43.270Z"
   },
   {
    "duration": 70,
    "start_time": "2022-03-02T13:57:49.239Z"
   },
   {
    "duration": 91,
    "start_time": "2022-03-02T14:11:28.231Z"
   },
   {
    "duration": 100,
    "start_time": "2022-03-02T14:11:34.026Z"
   },
   {
    "duration": 79,
    "start_time": "2022-03-02T14:12:20.323Z"
   },
   {
    "duration": 68,
    "start_time": "2022-03-02T14:12:39.851Z"
   },
   {
    "duration": 78,
    "start_time": "2022-03-02T14:14:14.466Z"
   },
   {
    "duration": 222,
    "start_time": "2022-03-02T14:17:36.742Z"
   },
   {
    "duration": 79,
    "start_time": "2022-03-02T14:17:48.174Z"
   },
   {
    "duration": 219,
    "start_time": "2022-03-02T14:23:15.813Z"
   },
   {
    "duration": 222,
    "start_time": "2022-03-02T14:23:25.614Z"
   },
   {
    "duration": 244,
    "start_time": "2022-03-02T14:25:04.642Z"
   },
   {
    "duration": 233,
    "start_time": "2022-03-02T14:29:24.173Z"
   },
   {
    "duration": 19,
    "start_time": "2022-03-02T14:30:18.618Z"
   },
   {
    "duration": 19,
    "start_time": "2022-03-02T14:30:51.949Z"
   },
   {
    "duration": 19,
    "start_time": "2022-03-02T14:37:48.817Z"
   },
   {
    "duration": 19,
    "start_time": "2022-03-02T14:39:00.077Z"
   },
   {
    "duration": 19,
    "start_time": "2022-03-02T14:46:16.873Z"
   },
   {
    "duration": 252,
    "start_time": "2022-03-02T15:03:22.016Z"
   },
   {
    "duration": 617,
    "start_time": "2022-03-02T15:03:35.555Z"
   },
   {
    "duration": 61,
    "start_time": "2022-03-02T15:03:36.174Z"
   },
   {
    "duration": 20,
    "start_time": "2022-03-02T15:03:36.237Z"
   },
   {
    "duration": 18,
    "start_time": "2022-03-02T15:03:36.259Z"
   },
   {
    "duration": 29,
    "start_time": "2022-03-02T15:03:36.279Z"
   },
   {
    "duration": 16,
    "start_time": "2022-03-02T15:03:36.310Z"
   },
   {
    "duration": 27,
    "start_time": "2022-03-02T15:03:36.327Z"
   },
   {
    "duration": 18,
    "start_time": "2022-03-02T15:03:36.356Z"
   },
   {
    "duration": 26,
    "start_time": "2022-03-02T15:03:36.376Z"
   },
   {
    "duration": 19,
    "start_time": "2022-03-02T15:03:36.404Z"
   },
   {
    "duration": 24,
    "start_time": "2022-03-02T15:03:36.425Z"
   },
   {
    "duration": 31,
    "start_time": "2022-03-02T15:03:36.450Z"
   },
   {
    "duration": 19,
    "start_time": "2022-03-02T15:03:36.483Z"
   },
   {
    "duration": 27,
    "start_time": "2022-03-02T15:03:36.504Z"
   },
   {
    "duration": 25,
    "start_time": "2022-03-02T15:03:36.533Z"
   },
   {
    "duration": 27,
    "start_time": "2022-03-02T15:03:36.559Z"
   },
   {
    "duration": 21,
    "start_time": "2022-03-02T15:03:36.588Z"
   },
   {
    "duration": 36,
    "start_time": "2022-03-02T15:03:36.611Z"
   },
   {
    "duration": 33,
    "start_time": "2022-03-02T15:03:36.649Z"
   },
   {
    "duration": 15,
    "start_time": "2022-03-02T15:03:36.684Z"
   },
   {
    "duration": 50,
    "start_time": "2022-03-02T15:03:36.700Z"
   },
   {
    "duration": 10,
    "start_time": "2022-03-02T15:03:36.752Z"
   },
   {
    "duration": 16,
    "start_time": "2022-03-02T15:03:36.779Z"
   },
   {
    "duration": 41,
    "start_time": "2022-03-02T15:03:36.797Z"
   },
   {
    "duration": 20,
    "start_time": "2022-03-02T15:03:36.839Z"
   },
   {
    "duration": 18,
    "start_time": "2022-03-02T15:03:36.861Z"
   },
   {
    "duration": 20,
    "start_time": "2022-03-02T15:03:36.881Z"
   },
   {
    "duration": 25,
    "start_time": "2022-03-02T15:03:36.903Z"
   },
   {
    "duration": 21,
    "start_time": "2022-03-02T15:03:36.930Z"
   },
   {
    "duration": 27,
    "start_time": "2022-03-02T15:03:36.952Z"
   },
   {
    "duration": 24,
    "start_time": "2022-03-02T15:03:36.980Z"
   },
   {
    "duration": 19,
    "start_time": "2022-03-02T15:03:37.006Z"
   },
   {
    "duration": 40,
    "start_time": "2022-03-02T15:03:37.027Z"
   },
   {
    "duration": 7,
    "start_time": "2022-03-02T15:03:37.069Z"
   },
   {
    "duration": 27,
    "start_time": "2022-03-02T15:03:37.078Z"
   },
   {
    "duration": 8,
    "start_time": "2022-03-02T15:03:37.107Z"
   },
   {
    "duration": 43,
    "start_time": "2022-03-02T15:03:37.116Z"
   },
   {
    "duration": 33,
    "start_time": "2022-03-02T15:03:37.160Z"
   },
   {
    "duration": 27,
    "start_time": "2022-03-02T15:03:37.194Z"
   },
   {
    "duration": 31,
    "start_time": "2022-03-02T15:03:37.223Z"
   },
   {
    "duration": 7,
    "start_time": "2022-03-02T15:03:37.255Z"
   },
   {
    "duration": 31,
    "start_time": "2022-03-02T15:03:37.264Z"
   },
   {
    "duration": 24,
    "start_time": "2022-03-02T15:03:37.297Z"
   },
   {
    "duration": 26,
    "start_time": "2022-03-02T15:03:37.322Z"
   },
   {
    "duration": 19,
    "start_time": "2022-03-02T15:30:09.109Z"
   },
   {
    "duration": 27,
    "start_time": "2022-03-02T15:34:55.178Z"
   },
   {
    "duration": 592,
    "start_time": "2022-03-02T15:36:43.947Z"
   },
   {
    "duration": 64,
    "start_time": "2022-03-02T15:36:44.541Z"
   },
   {
    "duration": 19,
    "start_time": "2022-03-02T15:36:44.607Z"
   },
   {
    "duration": 10,
    "start_time": "2022-03-02T15:36:44.627Z"
   },
   {
    "duration": 6,
    "start_time": "2022-03-02T15:36:44.640Z"
   },
   {
    "duration": 30,
    "start_time": "2022-03-02T15:36:44.647Z"
   },
   {
    "duration": 6,
    "start_time": "2022-03-02T15:36:44.680Z"
   },
   {
    "duration": 10,
    "start_time": "2022-03-02T15:36:44.688Z"
   },
   {
    "duration": 8,
    "start_time": "2022-03-02T15:36:44.700Z"
   },
   {
    "duration": 7,
    "start_time": "2022-03-02T15:36:44.710Z"
   },
   {
    "duration": 9,
    "start_time": "2022-03-02T15:36:44.719Z"
   },
   {
    "duration": 7,
    "start_time": "2022-03-02T15:36:44.730Z"
   },
   {
    "duration": 45,
    "start_time": "2022-03-02T15:36:44.739Z"
   },
   {
    "duration": 9,
    "start_time": "2022-03-02T15:36:44.786Z"
   },
   {
    "duration": 5,
    "start_time": "2022-03-02T15:36:44.796Z"
   },
   {
    "duration": 10,
    "start_time": "2022-03-02T15:36:44.803Z"
   },
   {
    "duration": 5,
    "start_time": "2022-03-02T15:36:44.815Z"
   },
   {
    "duration": 13,
    "start_time": "2022-03-02T15:36:44.822Z"
   },
   {
    "duration": 55,
    "start_time": "2022-03-02T15:36:44.837Z"
   },
   {
    "duration": 10,
    "start_time": "2022-03-02T15:36:44.893Z"
   },
   {
    "duration": 304,
    "start_time": "2022-03-02T15:36:44.905Z"
   },
   {
    "duration": -3709,
    "start_time": "2022-03-02T15:36:48.922Z"
   },
   {
    "duration": -3713,
    "start_time": "2022-03-02T15:36:48.927Z"
   },
   {
    "duration": -3717,
    "start_time": "2022-03-02T15:36:48.932Z"
   },
   {
    "duration": -3721,
    "start_time": "2022-03-02T15:36:48.937Z"
   },
   {
    "duration": -3724,
    "start_time": "2022-03-02T15:36:48.941Z"
   },
   {
    "duration": -3728,
    "start_time": "2022-03-02T15:36:48.947Z"
   },
   {
    "duration": -3732,
    "start_time": "2022-03-02T15:36:48.952Z"
   },
   {
    "duration": -3736,
    "start_time": "2022-03-02T15:36:48.957Z"
   },
   {
    "duration": -3739,
    "start_time": "2022-03-02T15:36:48.961Z"
   },
   {
    "duration": -3743,
    "start_time": "2022-03-02T15:36:48.966Z"
   },
   {
    "duration": -3748,
    "start_time": "2022-03-02T15:36:48.972Z"
   },
   {
    "duration": -3754,
    "start_time": "2022-03-02T15:36:48.979Z"
   },
   {
    "duration": -3766,
    "start_time": "2022-03-02T15:36:48.992Z"
   },
   {
    "duration": -3772,
    "start_time": "2022-03-02T15:36:48.999Z"
   },
   {
    "duration": -3774,
    "start_time": "2022-03-02T15:36:49.002Z"
   },
   {
    "duration": -3777,
    "start_time": "2022-03-02T15:36:49.006Z"
   },
   {
    "duration": -3779,
    "start_time": "2022-03-02T15:36:49.009Z"
   },
   {
    "duration": -3782,
    "start_time": "2022-03-02T15:36:49.013Z"
   },
   {
    "duration": -3793,
    "start_time": "2022-03-02T15:36:49.025Z"
   },
   {
    "duration": -3796,
    "start_time": "2022-03-02T15:36:49.029Z"
   },
   {
    "duration": -3799,
    "start_time": "2022-03-02T15:36:49.032Z"
   },
   {
    "duration": -3802,
    "start_time": "2022-03-02T15:36:49.036Z"
   },
   {
    "duration": -3805,
    "start_time": "2022-03-02T15:36:49.040Z"
   },
   {
    "duration": 230,
    "start_time": "2022-03-02T15:38:30.703Z"
   },
   {
    "duration": 601,
    "start_time": "2022-03-02T15:38:57.683Z"
   },
   {
    "duration": 54,
    "start_time": "2022-03-02T15:38:58.286Z"
   },
   {
    "duration": 22,
    "start_time": "2022-03-02T15:38:58.343Z"
   },
   {
    "duration": 22,
    "start_time": "2022-03-02T15:38:58.368Z"
   },
   {
    "duration": 8,
    "start_time": "2022-03-02T15:38:58.393Z"
   },
   {
    "duration": 7,
    "start_time": "2022-03-02T15:38:58.403Z"
   },
   {
    "duration": 7,
    "start_time": "2022-03-02T15:38:58.411Z"
   },
   {
    "duration": 7,
    "start_time": "2022-03-02T15:38:58.420Z"
   },
   {
    "duration": 7,
    "start_time": "2022-03-02T15:38:58.430Z"
   },
   {
    "duration": 41,
    "start_time": "2022-03-02T15:38:58.439Z"
   },
   {
    "duration": 9,
    "start_time": "2022-03-02T15:38:58.481Z"
   },
   {
    "duration": 10,
    "start_time": "2022-03-02T15:38:58.492Z"
   },
   {
    "duration": 10,
    "start_time": "2022-03-02T15:38:58.504Z"
   },
   {
    "duration": 11,
    "start_time": "2022-03-02T15:38:58.516Z"
   },
   {
    "duration": 8,
    "start_time": "2022-03-02T15:38:58.529Z"
   },
   {
    "duration": 45,
    "start_time": "2022-03-02T15:38:58.539Z"
   },
   {
    "duration": 6,
    "start_time": "2022-03-02T15:38:58.587Z"
   },
   {
    "duration": 13,
    "start_time": "2022-03-02T15:38:58.595Z"
   },
   {
    "duration": 23,
    "start_time": "2022-03-02T15:38:58.610Z"
   },
   {
    "duration": 7,
    "start_time": "2022-03-02T15:38:58.635Z"
   },
   {
    "duration": 289,
    "start_time": "2022-03-02T15:38:58.644Z"
   },
   {
    "duration": -3716,
    "start_time": "2022-03-02T15:39:02.653Z"
   },
   {
    "duration": -3719,
    "start_time": "2022-03-02T15:39:02.657Z"
   },
   {
    "duration": -3720,
    "start_time": "2022-03-02T15:39:02.660Z"
   },
   {
    "duration": -3722,
    "start_time": "2022-03-02T15:39:02.664Z"
   },
   {
    "duration": -3724,
    "start_time": "2022-03-02T15:39:02.667Z"
   },
   {
    "duration": -3726,
    "start_time": "2022-03-02T15:39:02.671Z"
   },
   {
    "duration": -3728,
    "start_time": "2022-03-02T15:39:02.674Z"
   },
   {
    "duration": -3731,
    "start_time": "2022-03-02T15:39:02.678Z"
   },
   {
    "duration": -3734,
    "start_time": "2022-03-02T15:39:02.683Z"
   },
   {
    "duration": -3736,
    "start_time": "2022-03-02T15:39:02.686Z"
   },
   {
    "duration": -3738,
    "start_time": "2022-03-02T15:39:02.690Z"
   },
   {
    "duration": -3740,
    "start_time": "2022-03-02T15:39:02.693Z"
   },
   {
    "duration": -3742,
    "start_time": "2022-03-02T15:39:02.697Z"
   },
   {
    "duration": -3745,
    "start_time": "2022-03-02T15:39:02.701Z"
   },
   {
    "duration": -3747,
    "start_time": "2022-03-02T15:39:02.704Z"
   },
   {
    "duration": -3749,
    "start_time": "2022-03-02T15:39:02.708Z"
   },
   {
    "duration": -3751,
    "start_time": "2022-03-02T15:39:02.711Z"
   },
   {
    "duration": -3753,
    "start_time": "2022-03-02T15:39:02.715Z"
   },
   {
    "duration": -3756,
    "start_time": "2022-03-02T15:39:02.719Z"
   },
   {
    "duration": -3758,
    "start_time": "2022-03-02T15:39:02.722Z"
   },
   {
    "duration": -3760,
    "start_time": "2022-03-02T15:39:02.726Z"
   },
   {
    "duration": -3762,
    "start_time": "2022-03-02T15:39:02.729Z"
   },
   {
    "duration": -3778,
    "start_time": "2022-03-02T15:39:02.747Z"
   },
   {
    "duration": 231,
    "start_time": "2022-03-02T15:39:28.518Z"
   },
   {
    "duration": 231,
    "start_time": "2022-03-02T15:39:38.214Z"
   },
   {
    "duration": 1092,
    "start_time": "2022-03-02T15:40:19.478Z"
   },
   {
    "duration": 1966,
    "start_time": "2022-03-02T15:40:39.711Z"
   },
   {
    "duration": 874,
    "start_time": "2022-03-02T15:40:51.066Z"
   },
   {
    "duration": 393,
    "start_time": "2022-03-02T15:41:16.786Z"
   },
   {
    "duration": 257,
    "start_time": "2022-03-02T15:41:50.586Z"
   },
   {
    "duration": 220,
    "start_time": "2022-03-02T15:42:05.918Z"
   },
   {
    "duration": 75,
    "start_time": "2022-03-02T15:42:35.771Z"
   },
   {
    "duration": 627,
    "start_time": "2022-03-02T15:42:45.293Z"
   },
   {
    "duration": 75,
    "start_time": "2022-03-02T15:42:45.923Z"
   },
   {
    "duration": 21,
    "start_time": "2022-03-02T15:42:46.000Z"
   },
   {
    "duration": 17,
    "start_time": "2022-03-02T15:42:46.024Z"
   },
   {
    "duration": 8,
    "start_time": "2022-03-02T15:42:46.043Z"
   },
   {
    "duration": 29,
    "start_time": "2022-03-02T15:42:46.053Z"
   },
   {
    "duration": 10,
    "start_time": "2022-03-02T15:42:46.084Z"
   },
   {
    "duration": 7,
    "start_time": "2022-03-02T15:42:46.097Z"
   },
   {
    "duration": 8,
    "start_time": "2022-03-02T15:42:46.106Z"
   },
   {
    "duration": 9,
    "start_time": "2022-03-02T15:42:46.116Z"
   },
   {
    "duration": 15,
    "start_time": "2022-03-02T15:42:46.127Z"
   },
   {
    "duration": 34,
    "start_time": "2022-03-02T15:42:46.144Z"
   },
   {
    "duration": 10,
    "start_time": "2022-03-02T15:42:46.180Z"
   },
   {
    "duration": 9,
    "start_time": "2022-03-02T15:42:46.192Z"
   },
   {
    "duration": 10,
    "start_time": "2022-03-02T15:42:46.203Z"
   },
   {
    "duration": 15,
    "start_time": "2022-03-02T15:42:46.215Z"
   },
   {
    "duration": 5,
    "start_time": "2022-03-02T15:42:46.232Z"
   },
   {
    "duration": 7,
    "start_time": "2022-03-02T15:42:46.239Z"
   },
   {
    "duration": 25,
    "start_time": "2022-03-02T15:42:46.278Z"
   },
   {
    "duration": 9,
    "start_time": "2022-03-02T15:42:46.305Z"
   },
   {
    "duration": 70,
    "start_time": "2022-03-02T15:42:46.315Z"
   },
   {
    "duration": 12,
    "start_time": "2022-03-02T15:42:46.387Z"
   },
   {
    "duration": 17,
    "start_time": "2022-03-02T15:42:46.402Z"
   },
   {
    "duration": 19,
    "start_time": "2022-03-02T15:42:46.421Z"
   },
   {
    "duration": 54,
    "start_time": "2022-03-02T15:42:46.442Z"
   },
   {
    "duration": 21,
    "start_time": "2022-03-02T15:42:46.498Z"
   },
   {
    "duration": 7,
    "start_time": "2022-03-02T15:42:46.521Z"
   },
   {
    "duration": 18,
    "start_time": "2022-03-02T15:42:46.530Z"
   },
   {
    "duration": 16,
    "start_time": "2022-03-02T15:42:46.577Z"
   },
   {
    "duration": 14,
    "start_time": "2022-03-02T15:42:46.595Z"
   },
   {
    "duration": 16,
    "start_time": "2022-03-02T15:42:46.611Z"
   },
   {
    "duration": 5,
    "start_time": "2022-03-02T15:42:46.629Z"
   },
   {
    "duration": 62,
    "start_time": "2022-03-02T15:42:46.635Z"
   },
   {
    "duration": 10,
    "start_time": "2022-03-02T15:42:46.699Z"
   },
   {
    "duration": 7,
    "start_time": "2022-03-02T15:42:46.710Z"
   },
   {
    "duration": 5,
    "start_time": "2022-03-02T15:42:46.718Z"
   },
   {
    "duration": 53,
    "start_time": "2022-03-02T15:42:46.725Z"
   },
   {
    "duration": 8,
    "start_time": "2022-03-02T15:42:46.780Z"
   },
   {
    "duration": 14,
    "start_time": "2022-03-02T15:42:46.789Z"
   },
   {
    "duration": 28,
    "start_time": "2022-03-02T15:42:46.804Z"
   },
   {
    "duration": 47,
    "start_time": "2022-03-02T15:42:46.834Z"
   },
   {
    "duration": 29,
    "start_time": "2022-03-02T15:42:46.883Z"
   },
   {
    "duration": 26,
    "start_time": "2022-03-02T15:42:46.914Z"
   },
   {
    "duration": 55,
    "start_time": "2022-03-02T15:42:46.941Z"
   },
   {
    "duration": 16,
    "start_time": "2022-03-02T15:43:51.545Z"
   },
   {
    "duration": 17,
    "start_time": "2022-03-02T15:45:08.801Z"
   },
   {
    "duration": 571,
    "start_time": "2022-03-02T15:45:51.227Z"
   },
   {
    "duration": 62,
    "start_time": "2022-03-02T15:45:51.800Z"
   },
   {
    "duration": 20,
    "start_time": "2022-03-02T15:45:51.864Z"
   },
   {
    "duration": 14,
    "start_time": "2022-03-02T15:45:51.887Z"
   },
   {
    "duration": 6,
    "start_time": "2022-03-02T15:45:51.903Z"
   },
   {
    "duration": 8,
    "start_time": "2022-03-02T15:45:51.911Z"
   },
   {
    "duration": 11,
    "start_time": "2022-03-02T15:45:51.921Z"
   },
   {
    "duration": 11,
    "start_time": "2022-03-02T15:45:51.935Z"
   },
   {
    "duration": 6,
    "start_time": "2022-03-02T15:45:51.949Z"
   },
   {
    "duration": 26,
    "start_time": "2022-03-02T15:45:51.957Z"
   },
   {
    "duration": 11,
    "start_time": "2022-03-02T15:45:51.985Z"
   },
   {
    "duration": 7,
    "start_time": "2022-03-02T15:45:51.998Z"
   },
   {
    "duration": 16,
    "start_time": "2022-03-02T15:45:52.007Z"
   },
   {
    "duration": 10,
    "start_time": "2022-03-02T15:45:52.025Z"
   },
   {
    "duration": 5,
    "start_time": "2022-03-02T15:45:52.037Z"
   },
   {
    "duration": 36,
    "start_time": "2022-03-02T15:45:52.044Z"
   },
   {
    "duration": 5,
    "start_time": "2022-03-02T15:45:52.082Z"
   },
   {
    "duration": 5,
    "start_time": "2022-03-02T15:45:52.089Z"
   },
   {
    "duration": 21,
    "start_time": "2022-03-02T15:45:52.095Z"
   },
   {
    "duration": 7,
    "start_time": "2022-03-02T15:45:52.118Z"
   },
   {
    "duration": 78,
    "start_time": "2022-03-02T15:45:52.127Z"
   },
   {
    "duration": 10,
    "start_time": "2022-03-02T15:45:52.207Z"
   },
   {
    "duration": 19,
    "start_time": "2022-03-02T15:45:52.220Z"
   },
   {
    "duration": 37,
    "start_time": "2022-03-02T15:45:52.241Z"
   },
   {
    "duration": 20,
    "start_time": "2022-03-02T15:45:52.280Z"
   },
   {
    "duration": 16,
    "start_time": "2022-03-02T15:45:52.302Z"
   },
   {
    "duration": 7,
    "start_time": "2022-03-02T15:45:52.320Z"
   },
   {
    "duration": 18,
    "start_time": "2022-03-02T15:45:52.329Z"
   },
   {
    "duration": 40,
    "start_time": "2022-03-02T15:45:52.349Z"
   },
   {
    "duration": 12,
    "start_time": "2022-03-02T15:45:52.391Z"
   },
   {
    "duration": 13,
    "start_time": "2022-03-02T15:45:52.405Z"
   },
   {
    "duration": 5,
    "start_time": "2022-03-02T15:45:52.420Z"
   },
   {
    "duration": 53,
    "start_time": "2022-03-02T15:45:52.427Z"
   },
   {
    "duration": 8,
    "start_time": "2022-03-02T15:45:52.482Z"
   },
   {
    "duration": 9,
    "start_time": "2022-03-02T15:45:52.491Z"
   },
   {
    "duration": 5,
    "start_time": "2022-03-02T15:45:52.501Z"
   },
   {
    "duration": 25,
    "start_time": "2022-03-02T15:45:52.507Z"
   },
   {
    "duration": 11,
    "start_time": "2022-03-02T15:45:52.534Z"
   },
   {
    "duration": 40,
    "start_time": "2022-03-02T15:45:52.546Z"
   },
   {
    "duration": 26,
    "start_time": "2022-03-02T15:45:52.588Z"
   },
   {
    "duration": 11,
    "start_time": "2022-03-02T15:45:52.616Z"
   },
   {
    "duration": 53,
    "start_time": "2022-03-02T15:45:52.629Z"
   },
   {
    "duration": 25,
    "start_time": "2022-03-02T15:45:52.683Z"
   },
   {
    "duration": 30,
    "start_time": "2022-03-02T15:45:52.710Z"
   },
   {
    "duration": 4,
    "start_time": "2022-03-02T17:04:44.141Z"
   },
   {
    "duration": 5,
    "start_time": "2022-03-02T17:05:27.665Z"
   },
   {
    "duration": 5,
    "start_time": "2022-03-02T17:05:52.657Z"
   },
   {
    "duration": 5,
    "start_time": "2022-03-02T17:07:53.809Z"
   },
   {
    "duration": 8,
    "start_time": "2022-03-02T17:08:02.333Z"
   },
   {
    "duration": 5,
    "start_time": "2022-03-02T17:08:10.589Z"
   },
   {
    "duration": 27,
    "start_time": "2022-03-02T17:08:14.217Z"
   },
   {
    "duration": 12,
    "start_time": "2022-03-02T17:08:31.174Z"
   },
   {
    "duration": 630,
    "start_time": "2022-03-02T17:08:44.619Z"
   },
   {
    "duration": 54,
    "start_time": "2022-03-02T17:08:45.251Z"
   },
   {
    "duration": 20,
    "start_time": "2022-03-02T17:08:45.309Z"
   },
   {
    "duration": 14,
    "start_time": "2022-03-02T17:08:45.331Z"
   },
   {
    "duration": 7,
    "start_time": "2022-03-02T17:08:45.347Z"
   },
   {
    "duration": 6,
    "start_time": "2022-03-02T17:08:45.377Z"
   },
   {
    "duration": 6,
    "start_time": "2022-03-02T17:08:45.387Z"
   },
   {
    "duration": 10,
    "start_time": "2022-03-02T17:08:45.395Z"
   },
   {
    "duration": 7,
    "start_time": "2022-03-02T17:08:45.407Z"
   },
   {
    "duration": 7,
    "start_time": "2022-03-02T17:08:45.417Z"
   },
   {
    "duration": 9,
    "start_time": "2022-03-02T17:08:45.426Z"
   },
   {
    "duration": 43,
    "start_time": "2022-03-02T17:08:45.437Z"
   },
   {
    "duration": 10,
    "start_time": "2022-03-02T17:08:45.482Z"
   },
   {
    "duration": 13,
    "start_time": "2022-03-02T17:08:45.494Z"
   },
   {
    "duration": 8,
    "start_time": "2022-03-02T17:08:45.509Z"
   },
   {
    "duration": 13,
    "start_time": "2022-03-02T17:08:45.519Z"
   },
   {
    "duration": 5,
    "start_time": "2022-03-02T17:08:45.535Z"
   },
   {
    "duration": 8,
    "start_time": "2022-03-02T17:08:45.542Z"
   },
   {
    "duration": 40,
    "start_time": "2022-03-02T17:08:45.553Z"
   },
   {
    "duration": 9,
    "start_time": "2022-03-02T17:08:45.595Z"
   },
   {
    "duration": 79,
    "start_time": "2022-03-02T17:08:45.606Z"
   },
   {
    "duration": 12,
    "start_time": "2022-03-02T17:08:45.690Z"
   },
   {
    "duration": 17,
    "start_time": "2022-03-02T17:08:45.704Z"
   },
   {
    "duration": 19,
    "start_time": "2022-03-02T17:08:45.723Z"
   },
   {
    "duration": 29,
    "start_time": "2022-03-02T17:08:45.777Z"
   },
   {
    "duration": 24,
    "start_time": "2022-03-02T17:08:45.808Z"
   },
   {
    "duration": 11,
    "start_time": "2022-03-02T17:08:45.834Z"
   },
   {
    "duration": 44,
    "start_time": "2022-03-02T17:08:45.847Z"
   },
   {
    "duration": 13,
    "start_time": "2022-03-02T17:08:45.893Z"
   },
   {
    "duration": 12,
    "start_time": "2022-03-02T17:08:45.908Z"
   },
   {
    "duration": 14,
    "start_time": "2022-03-02T17:08:45.922Z"
   },
   {
    "duration": 45,
    "start_time": "2022-03-02T17:08:45.938Z"
   },
   {
    "duration": 24,
    "start_time": "2022-03-02T17:08:45.985Z"
   },
   {
    "duration": 9,
    "start_time": "2022-03-02T17:08:46.011Z"
   },
   {
    "duration": 7,
    "start_time": "2022-03-02T17:08:46.022Z"
   },
   {
    "duration": 5,
    "start_time": "2022-03-02T17:08:46.032Z"
   },
   {
    "duration": 56,
    "start_time": "2022-03-02T17:08:46.039Z"
   },
   {
    "duration": 8,
    "start_time": "2022-03-02T17:08:46.096Z"
   },
   {
    "duration": 13,
    "start_time": "2022-03-02T17:08:46.105Z"
   },
   {
    "duration": 27,
    "start_time": "2022-03-02T17:08:46.119Z"
   },
   {
    "duration": 34,
    "start_time": "2022-03-02T17:08:46.147Z"
   },
   {
    "duration": 31,
    "start_time": "2022-03-02T17:08:46.183Z"
   },
   {
    "duration": 62,
    "start_time": "2022-03-02T17:08:46.216Z"
   },
   {
    "duration": 28,
    "start_time": "2022-03-02T17:08:46.280Z"
   },
   {
    "duration": 274,
    "start_time": "2022-03-02T17:20:56.382Z"
   },
   {
    "duration": 204,
    "start_time": "2022-03-02T17:21:12.995Z"
   },
   {
    "duration": 218,
    "start_time": "2022-03-02T17:21:36.875Z"
   },
   {
    "duration": 27,
    "start_time": "2022-03-02T17:21:41.542Z"
   },
   {
    "duration": 217,
    "start_time": "2022-03-02T17:24:18.967Z"
   },
   {
    "duration": 26,
    "start_time": "2022-03-02T17:24:25.402Z"
   },
   {
    "duration": 18,
    "start_time": "2022-03-02T17:27:53.022Z"
   },
   {
    "duration": 619,
    "start_time": "2022-03-02T17:28:06.117Z"
   },
   {
    "duration": 64,
    "start_time": "2022-03-02T17:28:06.738Z"
   },
   {
    "duration": 22,
    "start_time": "2022-03-02T17:28:06.804Z"
   },
   {
    "duration": 17,
    "start_time": "2022-03-02T17:28:06.828Z"
   },
   {
    "duration": 7,
    "start_time": "2022-03-02T17:28:06.847Z"
   },
   {
    "duration": 8,
    "start_time": "2022-03-02T17:28:06.877Z"
   },
   {
    "duration": 8,
    "start_time": "2022-03-02T17:28:06.887Z"
   },
   {
    "duration": 8,
    "start_time": "2022-03-02T17:28:06.898Z"
   },
   {
    "duration": 10,
    "start_time": "2022-03-02T17:28:06.908Z"
   },
   {
    "duration": 11,
    "start_time": "2022-03-02T17:28:06.920Z"
   },
   {
    "duration": 21,
    "start_time": "2022-03-02T17:28:06.933Z"
   },
   {
    "duration": 7,
    "start_time": "2022-03-02T17:28:06.976Z"
   },
   {
    "duration": 10,
    "start_time": "2022-03-02T17:28:06.984Z"
   },
   {
    "duration": 10,
    "start_time": "2022-03-02T17:28:06.995Z"
   },
   {
    "duration": 9,
    "start_time": "2022-03-02T17:28:07.007Z"
   },
   {
    "duration": 13,
    "start_time": "2022-03-02T17:28:07.018Z"
   },
   {
    "duration": 6,
    "start_time": "2022-03-02T17:28:07.033Z"
   },
   {
    "duration": 38,
    "start_time": "2022-03-02T17:28:07.041Z"
   },
   {
    "duration": 18,
    "start_time": "2022-03-02T17:28:07.081Z"
   },
   {
    "duration": 7,
    "start_time": "2022-03-02T17:28:07.101Z"
   },
   {
    "duration": 266,
    "start_time": "2022-03-02T17:28:07.110Z"
   },
   {
    "duration": -4089,
    "start_time": "2022-03-02T17:28:11.467Z"
   },
   {
    "duration": -4090,
    "start_time": "2022-03-02T17:28:11.470Z"
   },
   {
    "duration": -4095,
    "start_time": "2022-03-02T17:28:11.476Z"
   },
   {
    "duration": -4099,
    "start_time": "2022-03-02T17:28:11.481Z"
   },
   {
    "duration": -4101,
    "start_time": "2022-03-02T17:28:11.484Z"
   },
   {
    "duration": -4104,
    "start_time": "2022-03-02T17:28:11.488Z"
   },
   {
    "duration": -4107,
    "start_time": "2022-03-02T17:28:11.492Z"
   },
   {
    "duration": -4109,
    "start_time": "2022-03-02T17:28:11.496Z"
   },
   {
    "duration": -4112,
    "start_time": "2022-03-02T17:28:11.500Z"
   },
   {
    "duration": -4117,
    "start_time": "2022-03-02T17:28:11.506Z"
   },
   {
    "duration": -4120,
    "start_time": "2022-03-02T17:28:11.510Z"
   },
   {
    "duration": -4123,
    "start_time": "2022-03-02T17:28:11.514Z"
   },
   {
    "duration": -4126,
    "start_time": "2022-03-02T17:28:11.518Z"
   },
   {
    "duration": -4130,
    "start_time": "2022-03-02T17:28:11.524Z"
   },
   {
    "duration": -4133,
    "start_time": "2022-03-02T17:28:11.528Z"
   },
   {
    "duration": -4136,
    "start_time": "2022-03-02T17:28:11.532Z"
   },
   {
    "duration": -4140,
    "start_time": "2022-03-02T17:28:11.537Z"
   },
   {
    "duration": -4143,
    "start_time": "2022-03-02T17:28:11.542Z"
   },
   {
    "duration": -4166,
    "start_time": "2022-03-02T17:28:11.566Z"
   },
   {
    "duration": -4168,
    "start_time": "2022-03-02T17:28:11.569Z"
   },
   {
    "duration": -4172,
    "start_time": "2022-03-02T17:28:11.574Z"
   },
   {
    "duration": -4184,
    "start_time": "2022-03-02T17:28:11.587Z"
   },
   {
    "duration": -4189,
    "start_time": "2022-03-02T17:28:11.593Z"
   },
   {
    "duration": 18,
    "start_time": "2022-03-02T17:28:38.718Z"
   },
   {
    "duration": 22,
    "start_time": "2022-03-02T17:28:52.222Z"
   },
   {
    "duration": 20,
    "start_time": "2022-03-02T17:29:48.379Z"
   },
   {
    "duration": 574,
    "start_time": "2022-03-02T17:29:52.708Z"
   },
   {
    "duration": 51,
    "start_time": "2022-03-02T17:29:53.284Z"
   },
   {
    "duration": 21,
    "start_time": "2022-03-02T17:29:53.337Z"
   },
   {
    "duration": 17,
    "start_time": "2022-03-02T17:29:53.360Z"
   },
   {
    "duration": 6,
    "start_time": "2022-03-02T17:29:53.378Z"
   },
   {
    "duration": 7,
    "start_time": "2022-03-02T17:29:53.385Z"
   },
   {
    "duration": 9,
    "start_time": "2022-03-02T17:29:53.393Z"
   },
   {
    "duration": 6,
    "start_time": "2022-03-02T17:29:53.404Z"
   },
   {
    "duration": 5,
    "start_time": "2022-03-02T17:29:53.413Z"
   },
   {
    "duration": 11,
    "start_time": "2022-03-02T17:29:53.420Z"
   },
   {
    "duration": 45,
    "start_time": "2022-03-02T17:29:53.433Z"
   },
   {
    "duration": 5,
    "start_time": "2022-03-02T17:29:53.480Z"
   },
   {
    "duration": 9,
    "start_time": "2022-03-02T17:29:53.487Z"
   },
   {
    "duration": 9,
    "start_time": "2022-03-02T17:29:53.497Z"
   },
   {
    "duration": 5,
    "start_time": "2022-03-02T17:29:53.507Z"
   },
   {
    "duration": 11,
    "start_time": "2022-03-02T17:29:53.514Z"
   },
   {
    "duration": 4,
    "start_time": "2022-03-02T17:29:53.527Z"
   },
   {
    "duration": 44,
    "start_time": "2022-03-02T17:29:53.533Z"
   },
   {
    "duration": 18,
    "start_time": "2022-03-02T17:29:53.579Z"
   },
   {
    "duration": 7,
    "start_time": "2022-03-02T17:29:53.599Z"
   },
   {
    "duration": 22,
    "start_time": "2022-03-02T17:29:53.608Z"
   },
   {
    "duration": 46,
    "start_time": "2022-03-02T17:29:53.632Z"
   },
   {
    "duration": 283,
    "start_time": "2022-03-02T17:29:53.682Z"
   },
   {
    "duration": -4022,
    "start_time": "2022-03-02T17:29:57.990Z"
   },
   {
    "duration": -4027,
    "start_time": "2022-03-02T17:29:57.996Z"
   },
   {
    "duration": -4029,
    "start_time": "2022-03-02T17:29:57.999Z"
   },
   {
    "duration": -4032,
    "start_time": "2022-03-02T17:29:58.003Z"
   },
   {
    "duration": -4036,
    "start_time": "2022-03-02T17:29:58.008Z"
   },
   {
    "duration": -4041,
    "start_time": "2022-03-02T17:29:58.014Z"
   },
   {
    "duration": -4043,
    "start_time": "2022-03-02T17:29:58.017Z"
   },
   {
    "duration": -4046,
    "start_time": "2022-03-02T17:29:58.021Z"
   },
   {
    "duration": -4071,
    "start_time": "2022-03-02T17:29:58.047Z"
   },
   {
    "duration": -4077,
    "start_time": "2022-03-02T17:29:58.054Z"
   },
   {
    "duration": -4079,
    "start_time": "2022-03-02T17:29:58.057Z"
   },
   {
    "duration": -4083,
    "start_time": "2022-03-02T17:29:58.062Z"
   },
   {
    "duration": -4086,
    "start_time": "2022-03-02T17:29:58.066Z"
   },
   {
    "duration": -4089,
    "start_time": "2022-03-02T17:29:58.070Z"
   },
   {
    "duration": -4093,
    "start_time": "2022-03-02T17:29:58.075Z"
   },
   {
    "duration": -4097,
    "start_time": "2022-03-02T17:29:58.080Z"
   },
   {
    "duration": -4100,
    "start_time": "2022-03-02T17:29:58.084Z"
   },
   {
    "duration": -4104,
    "start_time": "2022-03-02T17:29:58.089Z"
   },
   {
    "duration": -4108,
    "start_time": "2022-03-02T17:29:58.094Z"
   },
   {
    "duration": -4111,
    "start_time": "2022-03-02T17:29:58.098Z"
   },
   {
    "duration": -4114,
    "start_time": "2022-03-02T17:29:58.102Z"
   },
   {
    "duration": 22,
    "start_time": "2022-03-02T17:31:07.580Z"
   },
   {
    "duration": 73,
    "start_time": "2022-03-02T17:32:12.856Z"
   },
   {
    "duration": 213,
    "start_time": "2022-03-02T17:33:18.511Z"
   },
   {
    "duration": 1789,
    "start_time": "2022-03-02T17:35:05.596Z"
   },
   {
    "duration": 8,
    "start_time": "2022-03-02T17:35:14.704Z"
   },
   {
    "duration": 384,
    "start_time": "2022-03-02T17:36:05.024Z"
   },
   {
    "duration": 53,
    "start_time": "2022-03-02T17:36:50.800Z"
   },
   {
    "duration": 8,
    "start_time": "2022-03-02T17:39:07.384Z"
   },
   {
    "duration": 4045,
    "start_time": "2022-03-02T17:51:04.248Z"
   },
   {
    "duration": 555,
    "start_time": "2022-03-02T17:51:59.231Z"
   },
   {
    "duration": 4186,
    "start_time": "2022-03-02T17:54:59.460Z"
   },
   {
    "duration": 261,
    "start_time": "2022-03-02T17:56:04.403Z"
   },
   {
    "duration": 22,
    "start_time": "2022-03-02T18:17:10.270Z"
   },
   {
    "duration": 10,
    "start_time": "2022-03-02T18:19:55.636Z"
   },
   {
    "duration": 16,
    "start_time": "2022-03-02T18:20:01.019Z"
   },
   {
    "duration": 26,
    "start_time": "2022-03-02T18:21:21.774Z"
   },
   {
    "duration": 617,
    "start_time": "2022-03-02T18:21:33.056Z"
   },
   {
    "duration": 53,
    "start_time": "2022-03-02T18:21:33.675Z"
   },
   {
    "duration": 20,
    "start_time": "2022-03-02T18:21:33.730Z"
   },
   {
    "duration": 13,
    "start_time": "2022-03-02T18:21:33.751Z"
   },
   {
    "duration": 16,
    "start_time": "2022-03-02T18:21:33.765Z"
   },
   {
    "duration": 8,
    "start_time": "2022-03-02T18:21:33.783Z"
   },
   {
    "duration": 9,
    "start_time": "2022-03-02T18:21:33.793Z"
   },
   {
    "duration": 6,
    "start_time": "2022-03-02T18:21:33.804Z"
   },
   {
    "duration": 7,
    "start_time": "2022-03-02T18:21:33.812Z"
   },
   {
    "duration": 8,
    "start_time": "2022-03-02T18:21:33.821Z"
   },
   {
    "duration": 10,
    "start_time": "2022-03-02T18:21:33.830Z"
   },
   {
    "duration": 46,
    "start_time": "2022-03-02T18:21:33.842Z"
   },
   {
    "duration": 8,
    "start_time": "2022-03-02T18:21:33.890Z"
   },
   {
    "duration": 30,
    "start_time": "2022-03-02T18:21:33.900Z"
   },
   {
    "duration": 13,
    "start_time": "2022-03-02T18:21:33.932Z"
   },
   {
    "duration": 27,
    "start_time": "2022-03-02T18:21:33.947Z"
   },
   {
    "duration": 23,
    "start_time": "2022-03-02T18:21:33.976Z"
   },
   {
    "duration": 31,
    "start_time": "2022-03-02T18:21:34.001Z"
   },
   {
    "duration": 30,
    "start_time": "2022-03-02T18:21:34.033Z"
   },
   {
    "duration": 9,
    "start_time": "2022-03-02T18:21:34.065Z"
   },
   {
    "duration": 99,
    "start_time": "2022-03-02T18:21:34.075Z"
   },
   {
    "duration": 14,
    "start_time": "2022-03-02T18:21:34.175Z"
   },
   {
    "duration": 25,
    "start_time": "2022-03-02T18:21:34.193Z"
   },
   {
    "duration": 21,
    "start_time": "2022-03-02T18:21:34.220Z"
   },
   {
    "duration": 19,
    "start_time": "2022-03-02T18:21:34.242Z"
   },
   {
    "duration": 32,
    "start_time": "2022-03-02T18:21:34.262Z"
   },
   {
    "duration": 9,
    "start_time": "2022-03-02T18:21:34.296Z"
   },
   {
    "duration": 20,
    "start_time": "2022-03-02T18:21:34.307Z"
   },
   {
    "duration": 22,
    "start_time": "2022-03-02T18:21:34.329Z"
   },
   {
    "duration": 32,
    "start_time": "2022-03-02T18:21:34.352Z"
   },
   {
    "duration": 17,
    "start_time": "2022-03-02T18:21:34.386Z"
   },
   {
    "duration": 10,
    "start_time": "2022-03-02T18:21:34.404Z"
   },
   {
    "duration": 38,
    "start_time": "2022-03-02T18:21:34.415Z"
   },
   {
    "duration": 15,
    "start_time": "2022-03-02T18:21:34.454Z"
   },
   {
    "duration": 22,
    "start_time": "2022-03-02T18:21:34.471Z"
   },
   {
    "duration": 19,
    "start_time": "2022-03-02T18:21:34.495Z"
   },
   {
    "duration": 32,
    "start_time": "2022-03-02T18:21:34.516Z"
   },
   {
    "duration": 29,
    "start_time": "2022-03-02T18:21:34.550Z"
   },
   {
    "duration": 36,
    "start_time": "2022-03-02T18:21:34.581Z"
   },
   {
    "duration": 29,
    "start_time": "2022-03-02T18:21:34.618Z"
   },
   {
    "duration": 8,
    "start_time": "2022-03-02T18:21:34.649Z"
   },
   {
    "duration": 41,
    "start_time": "2022-03-02T18:21:34.658Z"
   },
   {
    "duration": 26,
    "start_time": "2022-03-02T18:21:34.700Z"
   },
   {
    "duration": 37,
    "start_time": "2022-03-02T18:21:34.727Z"
   },
   {
    "duration": 7,
    "start_time": "2022-03-02T18:38:27.817Z"
   },
   {
    "duration": 21,
    "start_time": "2022-03-02T19:34:33.558Z"
   },
   {
    "duration": 20,
    "start_time": "2022-03-02T19:35:03.251Z"
   },
   {
    "duration": 3,
    "start_time": "2022-03-02T19:35:43.732Z"
   },
   {
    "duration": 59,
    "start_time": "2022-03-02T19:35:43.736Z"
   },
   {
    "duration": 21,
    "start_time": "2022-03-02T19:35:43.797Z"
   },
   {
    "duration": 14,
    "start_time": "2022-03-02T19:35:43.820Z"
   },
   {
    "duration": 5,
    "start_time": "2022-03-02T19:35:43.836Z"
   },
   {
    "duration": 7,
    "start_time": "2022-03-02T19:35:43.843Z"
   },
   {
    "duration": 6,
    "start_time": "2022-03-02T19:35:43.852Z"
   },
   {
    "duration": 24,
    "start_time": "2022-03-02T19:35:43.860Z"
   },
   {
    "duration": 13,
    "start_time": "2022-03-02T19:35:43.886Z"
   },
   {
    "duration": 9,
    "start_time": "2022-03-02T19:35:43.901Z"
   },
   {
    "duration": 10,
    "start_time": "2022-03-02T19:35:43.912Z"
   },
   {
    "duration": 9,
    "start_time": "2022-03-02T19:35:43.924Z"
   },
   {
    "duration": 8,
    "start_time": "2022-03-02T19:35:43.935Z"
   },
   {
    "duration": 47,
    "start_time": "2022-03-02T19:35:43.944Z"
   },
   {
    "duration": 8,
    "start_time": "2022-03-02T19:35:43.993Z"
   },
   {
    "duration": 12,
    "start_time": "2022-03-02T19:35:44.003Z"
   },
   {
    "duration": 5,
    "start_time": "2022-03-02T19:35:44.017Z"
   },
   {
    "duration": 8,
    "start_time": "2022-03-02T19:35:44.024Z"
   },
   {
    "duration": 52,
    "start_time": "2022-03-02T19:35:44.033Z"
   },
   {
    "duration": 12,
    "start_time": "2022-03-02T19:35:44.089Z"
   },
   {
    "duration": 119,
    "start_time": "2022-03-02T19:35:44.103Z"
   },
   {
    "duration": 9,
    "start_time": "2022-03-02T19:35:44.224Z"
   },
   {
    "duration": 16,
    "start_time": "2022-03-02T19:35:44.235Z"
   },
   {
    "duration": 38,
    "start_time": "2022-03-02T19:35:44.256Z"
   },
   {
    "duration": 19,
    "start_time": "2022-03-02T19:35:44.296Z"
   },
   {
    "duration": 16,
    "start_time": "2022-03-02T19:35:44.317Z"
   },
   {
    "duration": 7,
    "start_time": "2022-03-02T19:35:44.335Z"
   },
   {
    "duration": 46,
    "start_time": "2022-03-02T19:35:44.344Z"
   },
   {
    "duration": 12,
    "start_time": "2022-03-02T19:35:44.392Z"
   },
   {
    "duration": 15,
    "start_time": "2022-03-02T19:35:44.406Z"
   },
   {
    "duration": 11,
    "start_time": "2022-03-02T19:35:44.423Z"
   },
   {
    "duration": 11,
    "start_time": "2022-03-02T19:35:44.435Z"
   },
   {
    "duration": 45,
    "start_time": "2022-03-02T19:35:44.447Z"
   },
   {
    "duration": 7,
    "start_time": "2022-03-02T19:35:44.494Z"
   },
   {
    "duration": 9,
    "start_time": "2022-03-02T19:35:44.503Z"
   },
   {
    "duration": 6,
    "start_time": "2022-03-02T19:35:44.513Z"
   },
   {
    "duration": 23,
    "start_time": "2022-03-02T19:35:44.520Z"
   },
   {
    "duration": 7,
    "start_time": "2022-03-02T19:35:44.545Z"
   },
   {
    "duration": 10,
    "start_time": "2022-03-02T19:35:44.585Z"
   },
   {
    "duration": 24,
    "start_time": "2022-03-02T19:35:44.598Z"
   },
   {
    "duration": 9,
    "start_time": "2022-03-02T19:35:44.624Z"
   },
   {
    "duration": 64,
    "start_time": "2022-03-02T19:35:44.634Z"
   },
   {
    "duration": 26,
    "start_time": "2022-03-02T19:35:44.700Z"
   },
   {
    "duration": 60,
    "start_time": "2022-03-02T19:35:44.728Z"
   },
   {
    "duration": 20,
    "start_time": "2022-03-02T19:37:31.659Z"
   },
   {
    "duration": 17,
    "start_time": "2022-03-02T19:37:38.524Z"
   },
   {
    "duration": 16,
    "start_time": "2022-03-02T19:40:52.116Z"
   },
   {
    "duration": 649,
    "start_time": "2022-03-02T19:41:29.183Z"
   },
   {
    "duration": 58,
    "start_time": "2022-03-02T19:41:29.834Z"
   },
   {
    "duration": 19,
    "start_time": "2022-03-02T19:41:29.893Z"
   },
   {
    "duration": 12,
    "start_time": "2022-03-02T19:41:29.913Z"
   },
   {
    "duration": 6,
    "start_time": "2022-03-02T19:41:29.927Z"
   },
   {
    "duration": 7,
    "start_time": "2022-03-02T19:41:29.935Z"
   },
   {
    "duration": 7,
    "start_time": "2022-03-02T19:41:29.944Z"
   },
   {
    "duration": 32,
    "start_time": "2022-03-02T19:41:29.953Z"
   },
   {
    "duration": 7,
    "start_time": "2022-03-02T19:41:29.988Z"
   },
   {
    "duration": 8,
    "start_time": "2022-03-02T19:41:29.996Z"
   },
   {
    "duration": 11,
    "start_time": "2022-03-02T19:41:30.006Z"
   },
   {
    "duration": 9,
    "start_time": "2022-03-02T19:41:30.019Z"
   },
   {
    "duration": 12,
    "start_time": "2022-03-02T19:41:30.030Z"
   },
   {
    "duration": 17,
    "start_time": "2022-03-02T19:41:30.043Z"
   },
   {
    "duration": 6,
    "start_time": "2022-03-02T19:41:30.078Z"
   },
   {
    "duration": 22,
    "start_time": "2022-03-02T19:41:30.086Z"
   },
   {
    "duration": 7,
    "start_time": "2022-03-02T19:41:30.109Z"
   },
   {
    "duration": 6,
    "start_time": "2022-03-02T19:41:30.117Z"
   },
   {
    "duration": 23,
    "start_time": "2022-03-02T19:41:30.125Z"
   },
   {
    "duration": 7,
    "start_time": "2022-03-02T19:41:30.149Z"
   },
   {
    "duration": 132,
    "start_time": "2022-03-02T19:41:30.158Z"
   },
   {
    "duration": 10,
    "start_time": "2022-03-02T19:41:30.292Z"
   },
   {
    "duration": 26,
    "start_time": "2022-03-02T19:41:30.306Z"
   },
   {
    "duration": 17,
    "start_time": "2022-03-02T19:41:30.334Z"
   },
   {
    "duration": 35,
    "start_time": "2022-03-02T19:41:30.353Z"
   },
   {
    "duration": 16,
    "start_time": "2022-03-02T19:41:30.390Z"
   },
   {
    "duration": 8,
    "start_time": "2022-03-02T19:41:30.407Z"
   },
   {
    "duration": 23,
    "start_time": "2022-03-02T19:41:30.416Z"
   },
   {
    "duration": 16,
    "start_time": "2022-03-02T19:41:30.441Z"
   },
   {
    "duration": 41,
    "start_time": "2022-03-02T19:41:30.459Z"
   },
   {
    "duration": 19,
    "start_time": "2022-03-02T19:41:30.502Z"
   },
   {
    "duration": 7,
    "start_time": "2022-03-02T19:41:30.522Z"
   },
   {
    "duration": 23,
    "start_time": "2022-03-02T19:41:30.531Z"
   },
   {
    "duration": 17,
    "start_time": "2022-03-02T19:41:30.556Z"
   },
   {
    "duration": 29,
    "start_time": "2022-03-02T19:41:30.575Z"
   },
   {
    "duration": 5,
    "start_time": "2022-03-02T19:41:30.605Z"
   },
   {
    "duration": 22,
    "start_time": "2022-03-02T19:41:30.612Z"
   },
   {
    "duration": 7,
    "start_time": "2022-03-02T19:41:30.636Z"
   },
   {
    "duration": 11,
    "start_time": "2022-03-02T19:41:30.645Z"
   },
   {
    "duration": 31,
    "start_time": "2022-03-02T19:41:30.658Z"
   },
   {
    "duration": 7,
    "start_time": "2022-03-02T19:41:30.691Z"
   },
   {
    "duration": 26,
    "start_time": "2022-03-02T19:41:30.699Z"
   },
   {
    "duration": 24,
    "start_time": "2022-03-02T19:41:30.727Z"
   },
   {
    "duration": 56,
    "start_time": "2022-03-02T19:41:30.753Z"
   },
   {
    "duration": 68,
    "start_time": "2022-03-02T19:46:37.689Z"
   },
   {
    "duration": 74,
    "start_time": "2022-03-02T19:47:00.140Z"
   },
   {
    "duration": 16,
    "start_time": "2022-03-02T19:49:28.132Z"
   },
   {
    "duration": 574,
    "start_time": "2022-03-02T19:49:52.006Z"
   },
   {
    "duration": 72,
    "start_time": "2022-03-02T19:49:52.581Z"
   },
   {
    "duration": 20,
    "start_time": "2022-03-02T19:49:52.655Z"
   },
   {
    "duration": 12,
    "start_time": "2022-03-02T19:49:52.677Z"
   },
   {
    "duration": 20,
    "start_time": "2022-03-02T19:49:52.691Z"
   },
   {
    "duration": 15,
    "start_time": "2022-03-02T19:49:52.712Z"
   },
   {
    "duration": 22,
    "start_time": "2022-03-02T19:49:52.729Z"
   },
   {
    "duration": 44,
    "start_time": "2022-03-02T19:49:52.754Z"
   },
   {
    "duration": 31,
    "start_time": "2022-03-02T19:49:52.800Z"
   },
   {
    "duration": 32,
    "start_time": "2022-03-02T19:49:52.833Z"
   },
   {
    "duration": 24,
    "start_time": "2022-03-02T19:49:52.866Z"
   },
   {
    "duration": 18,
    "start_time": "2022-03-02T19:49:52.891Z"
   },
   {
    "duration": 32,
    "start_time": "2022-03-02T19:49:52.911Z"
   },
   {
    "duration": 17,
    "start_time": "2022-03-02T19:49:52.945Z"
   },
   {
    "duration": 15,
    "start_time": "2022-03-02T19:49:52.963Z"
   },
   {
    "duration": 30,
    "start_time": "2022-03-02T19:49:52.980Z"
   },
   {
    "duration": 12,
    "start_time": "2022-03-02T19:49:53.012Z"
   },
   {
    "duration": 24,
    "start_time": "2022-03-02T19:49:53.026Z"
   },
   {
    "duration": 37,
    "start_time": "2022-03-02T19:49:53.052Z"
   },
   {
    "duration": 8,
    "start_time": "2022-03-02T19:49:53.091Z"
   },
   {
    "duration": 112,
    "start_time": "2022-03-02T19:49:53.101Z"
   },
   {
    "duration": 11,
    "start_time": "2022-03-02T19:49:53.214Z"
   },
   {
    "duration": 17,
    "start_time": "2022-03-02T19:49:53.228Z"
   },
   {
    "duration": 42,
    "start_time": "2022-03-02T19:49:53.248Z"
   },
   {
    "duration": 19,
    "start_time": "2022-03-02T19:49:53.292Z"
   },
   {
    "duration": 29,
    "start_time": "2022-03-02T19:49:53.313Z"
   },
   {
    "duration": 8,
    "start_time": "2022-03-02T19:49:53.344Z"
   },
   {
    "duration": 34,
    "start_time": "2022-03-02T19:49:53.354Z"
   },
   {
    "duration": 13,
    "start_time": "2022-03-02T19:49:53.390Z"
   },
   {
    "duration": 14,
    "start_time": "2022-03-02T19:49:53.405Z"
   },
   {
    "duration": 28,
    "start_time": "2022-03-02T19:49:53.421Z"
   },
   {
    "duration": 5,
    "start_time": "2022-03-02T19:49:53.451Z"
   },
   {
    "duration": 40,
    "start_time": "2022-03-02T19:49:53.458Z"
   },
   {
    "duration": 7,
    "start_time": "2022-03-02T19:49:53.500Z"
   },
   {
    "duration": 7,
    "start_time": "2022-03-02T19:49:53.509Z"
   },
   {
    "duration": 11,
    "start_time": "2022-03-02T19:49:53.518Z"
   },
   {
    "duration": 50,
    "start_time": "2022-03-02T19:49:53.531Z"
   },
   {
    "duration": 7,
    "start_time": "2022-03-02T19:49:53.583Z"
   },
   {
    "duration": 12,
    "start_time": "2022-03-02T19:49:53.592Z"
   },
   {
    "duration": 22,
    "start_time": "2022-03-02T19:49:53.606Z"
   },
   {
    "duration": 7,
    "start_time": "2022-03-02T19:49:53.630Z"
   },
   {
    "duration": 56,
    "start_time": "2022-03-02T19:49:53.639Z"
   },
   {
    "duration": 24,
    "start_time": "2022-03-02T19:49:53.696Z"
   },
   {
    "duration": 27,
    "start_time": "2022-03-02T19:49:53.721Z"
   },
   {
    "duration": 196,
    "start_time": "2022-03-03T10:00:18.063Z"
   },
   {
    "duration": 553,
    "start_time": "2022-03-03T10:00:35.395Z"
   },
   {
    "duration": 46,
    "start_time": "2022-03-03T10:00:35.949Z"
   },
   {
    "duration": 20,
    "start_time": "2022-03-03T10:00:35.997Z"
   },
   {
    "duration": 20,
    "start_time": "2022-03-03T10:00:36.019Z"
   },
   {
    "duration": 6,
    "start_time": "2022-03-03T10:00:36.041Z"
   },
   {
    "duration": 6,
    "start_time": "2022-03-03T10:00:36.064Z"
   },
   {
    "duration": 15,
    "start_time": "2022-03-03T10:00:36.072Z"
   },
   {
    "duration": 7,
    "start_time": "2022-03-03T10:00:36.089Z"
   },
   {
    "duration": 5,
    "start_time": "2022-03-03T10:00:36.099Z"
   },
   {
    "duration": 11,
    "start_time": "2022-03-03T10:00:36.106Z"
   },
   {
    "duration": 9,
    "start_time": "2022-03-03T10:00:36.119Z"
   },
   {
    "duration": 9,
    "start_time": "2022-03-03T10:00:36.129Z"
   },
   {
    "duration": 7,
    "start_time": "2022-03-03T10:00:36.164Z"
   },
   {
    "duration": 15,
    "start_time": "2022-03-03T10:00:36.173Z"
   },
   {
    "duration": 6,
    "start_time": "2022-03-03T10:00:36.190Z"
   },
   {
    "duration": 224,
    "start_time": "2022-03-03T10:00:36.198Z"
   },
   {
    "duration": -4337,
    "start_time": "2022-03-03T10:00:40.761Z"
   },
   {
    "duration": -4344,
    "start_time": "2022-03-03T10:00:40.769Z"
   },
   {
    "duration": -4366,
    "start_time": "2022-03-03T10:00:40.792Z"
   },
   {
    "duration": -4380,
    "start_time": "2022-03-03T10:00:40.807Z"
   },
   {
    "duration": -4409,
    "start_time": "2022-03-03T10:00:40.837Z"
   },
   {
    "duration": -4416,
    "start_time": "2022-03-03T10:00:40.845Z"
   },
   {
    "duration": -4449,
    "start_time": "2022-03-03T10:00:40.878Z"
   },
   {
    "duration": -4556,
    "start_time": "2022-03-03T10:00:40.986Z"
   },
   {
    "duration": -4564,
    "start_time": "2022-03-03T10:00:40.995Z"
   },
   {
    "duration": -4569,
    "start_time": "2022-03-03T10:00:41.001Z"
   },
   {
    "duration": -4575,
    "start_time": "2022-03-03T10:00:41.007Z"
   },
   {
    "duration": -4580,
    "start_time": "2022-03-03T10:00:41.013Z"
   },
   {
    "duration": -4585,
    "start_time": "2022-03-03T10:00:41.019Z"
   },
   {
    "duration": -4591,
    "start_time": "2022-03-03T10:00:41.026Z"
   },
   {
    "duration": -4598,
    "start_time": "2022-03-03T10:00:41.034Z"
   },
   {
    "duration": -4605,
    "start_time": "2022-03-03T10:00:41.042Z"
   },
   {
    "duration": -4612,
    "start_time": "2022-03-03T10:00:41.050Z"
   },
   {
    "duration": -4619,
    "start_time": "2022-03-03T10:00:41.057Z"
   },
   {
    "duration": -4625,
    "start_time": "2022-03-03T10:00:41.064Z"
   },
   {
    "duration": -4629,
    "start_time": "2022-03-03T10:00:41.069Z"
   },
   {
    "duration": -4661,
    "start_time": "2022-03-03T10:00:41.102Z"
   },
   {
    "duration": -4688,
    "start_time": "2022-03-03T10:00:41.129Z"
   },
   {
    "duration": -4704,
    "start_time": "2022-03-03T10:00:41.146Z"
   },
   {
    "duration": -4734,
    "start_time": "2022-03-03T10:00:41.177Z"
   },
   {
    "duration": -4750,
    "start_time": "2022-03-03T10:00:41.194Z"
   },
   {
    "duration": -4770,
    "start_time": "2022-03-03T10:00:41.214Z"
   },
   {
    "duration": -4801,
    "start_time": "2022-03-03T10:00:41.246Z"
   },
   {
    "duration": -4818,
    "start_time": "2022-03-03T10:00:41.264Z"
   },
   {
    "duration": -4826,
    "start_time": "2022-03-03T10:00:41.273Z"
   },
   {
    "duration": 12,
    "start_time": "2022-03-03T10:00:54.147Z"
   },
   {
    "duration": 218,
    "start_time": "2022-03-03T10:08:09.803Z"
   },
   {
    "duration": 181,
    "start_time": "2022-03-03T10:08:21.607Z"
   },
   {
    "duration": 573,
    "start_time": "2022-03-03T10:08:41.528Z"
   },
   {
    "duration": 44,
    "start_time": "2022-03-03T10:08:42.103Z"
   },
   {
    "duration": 17,
    "start_time": "2022-03-03T10:08:42.149Z"
   },
   {
    "duration": 12,
    "start_time": "2022-03-03T10:08:42.168Z"
   },
   {
    "duration": 5,
    "start_time": "2022-03-03T10:08:42.181Z"
   },
   {
    "duration": 5,
    "start_time": "2022-03-03T10:08:42.188Z"
   },
   {
    "duration": 5,
    "start_time": "2022-03-03T10:08:42.195Z"
   },
   {
    "duration": 5,
    "start_time": "2022-03-03T10:08:42.202Z"
   },
   {
    "duration": 5,
    "start_time": "2022-03-03T10:08:42.209Z"
   },
   {
    "duration": 6,
    "start_time": "2022-03-03T10:08:42.216Z"
   },
   {
    "duration": 8,
    "start_time": "2022-03-03T10:08:42.263Z"
   },
   {
    "duration": 9,
    "start_time": "2022-03-03T10:08:42.273Z"
   },
   {
    "duration": 7,
    "start_time": "2022-03-03T10:08:42.283Z"
   },
   {
    "duration": 9,
    "start_time": "2022-03-03T10:08:42.291Z"
   },
   {
    "duration": 8,
    "start_time": "2022-03-03T10:08:42.301Z"
   },
   {
    "duration": 15,
    "start_time": "2022-03-03T10:08:42.311Z"
   },
   {
    "duration": 4,
    "start_time": "2022-03-03T10:08:42.328Z"
   },
   {
    "duration": 31,
    "start_time": "2022-03-03T10:08:42.333Z"
   },
   {
    "duration": 18,
    "start_time": "2022-03-03T10:08:42.366Z"
   },
   {
    "duration": 6,
    "start_time": "2022-03-03T10:08:42.386Z"
   },
   {
    "duration": 108,
    "start_time": "2022-03-03T10:08:42.394Z"
   },
   {
    "duration": 9,
    "start_time": "2022-03-03T10:08:42.503Z"
   },
   {
    "duration": 15,
    "start_time": "2022-03-03T10:08:42.515Z"
   },
   {
    "duration": 38,
    "start_time": "2022-03-03T10:08:42.532Z"
   },
   {
    "duration": 20,
    "start_time": "2022-03-03T10:08:42.571Z"
   },
   {
    "duration": 16,
    "start_time": "2022-03-03T10:08:42.593Z"
   },
   {
    "duration": 7,
    "start_time": "2022-03-03T10:08:42.611Z"
   },
   {
    "duration": 43,
    "start_time": "2022-03-03T10:08:42.620Z"
   },
   {
    "duration": 11,
    "start_time": "2022-03-03T10:08:42.665Z"
   },
   {
    "duration": 9,
    "start_time": "2022-03-03T10:08:42.678Z"
   },
   {
    "duration": 18,
    "start_time": "2022-03-03T10:08:42.688Z"
   },
   {
    "duration": 5,
    "start_time": "2022-03-03T10:08:42.708Z"
   },
   {
    "duration": 20,
    "start_time": "2022-03-03T10:08:42.714Z"
   },
   {
    "duration": 30,
    "start_time": "2022-03-03T10:08:42.736Z"
   },
   {
    "duration": 7,
    "start_time": "2022-03-03T10:08:42.768Z"
   },
   {
    "duration": 4,
    "start_time": "2022-03-03T10:08:42.777Z"
   },
   {
    "duration": 19,
    "start_time": "2022-03-03T10:08:42.782Z"
   },
   {
    "duration": 6,
    "start_time": "2022-03-03T10:08:42.803Z"
   },
   {
    "duration": 31,
    "start_time": "2022-03-03T10:08:42.811Z"
   },
   {
    "duration": 36,
    "start_time": "2022-03-03T10:08:42.844Z"
   },
   {
    "duration": 7,
    "start_time": "2022-03-03T10:08:42.881Z"
   },
   {
    "duration": 25,
    "start_time": "2022-03-03T10:08:42.890Z"
   },
   {
    "duration": 22,
    "start_time": "2022-03-03T10:08:42.916Z"
   },
   {
    "duration": 47,
    "start_time": "2022-03-03T10:08:42.939Z"
   },
   {
    "duration": 4665,
    "start_time": "2022-03-03T10:09:50.976Z"
   },
   {
    "duration": 9,
    "start_time": "2022-03-03T10:11:21.911Z"
   },
   {
    "duration": 165,
    "start_time": "2022-03-03T10:11:29.947Z"
   },
   {
    "duration": 15,
    "start_time": "2022-03-03T10:11:36.299Z"
   },
   {
    "duration": 8,
    "start_time": "2022-03-03T10:13:03.912Z"
   },
   {
    "duration": 9,
    "start_time": "2022-03-03T10:13:44.175Z"
   },
   {
    "duration": 18,
    "start_time": "2022-03-03T10:14:04.064Z"
   },
   {
    "duration": 15,
    "start_time": "2022-03-03T10:14:35.067Z"
   },
   {
    "duration": 558,
    "start_time": "2022-03-03T10:14:51.194Z"
   },
   {
    "duration": 47,
    "start_time": "2022-03-03T10:14:51.754Z"
   },
   {
    "duration": 22,
    "start_time": "2022-03-03T10:14:51.806Z"
   },
   {
    "duration": 35,
    "start_time": "2022-03-03T10:14:51.830Z"
   },
   {
    "duration": 5,
    "start_time": "2022-03-03T10:14:51.867Z"
   },
   {
    "duration": 8,
    "start_time": "2022-03-03T10:14:51.874Z"
   },
   {
    "duration": 7,
    "start_time": "2022-03-03T10:14:51.885Z"
   },
   {
    "duration": 9,
    "start_time": "2022-03-03T10:14:51.894Z"
   },
   {
    "duration": 8,
    "start_time": "2022-03-03T10:14:51.905Z"
   },
   {
    "duration": 8,
    "start_time": "2022-03-03T10:14:51.914Z"
   },
   {
    "duration": 42,
    "start_time": "2022-03-03T10:14:51.923Z"
   },
   {
    "duration": 14,
    "start_time": "2022-03-03T10:14:51.966Z"
   },
   {
    "duration": 8,
    "start_time": "2022-03-03T10:14:51.982Z"
   },
   {
    "duration": 9,
    "start_time": "2022-03-03T10:14:51.992Z"
   },
   {
    "duration": 7,
    "start_time": "2022-03-03T10:14:52.002Z"
   },
   {
    "duration": 12,
    "start_time": "2022-03-03T10:14:52.011Z"
   },
   {
    "duration": 4,
    "start_time": "2022-03-03T10:14:52.025Z"
   },
   {
    "duration": 15,
    "start_time": "2022-03-03T10:14:52.031Z"
   },
   {
    "duration": 17,
    "start_time": "2022-03-03T10:14:52.062Z"
   },
   {
    "duration": 7,
    "start_time": "2022-03-03T10:14:52.081Z"
   },
   {
    "duration": 119,
    "start_time": "2022-03-03T10:14:52.090Z"
   },
   {
    "duration": 9,
    "start_time": "2022-03-03T10:14:52.213Z"
   },
   {
    "duration": 19,
    "start_time": "2022-03-03T10:14:52.224Z"
   },
   {
    "duration": 34,
    "start_time": "2022-03-03T10:14:52.245Z"
   },
   {
    "duration": 19,
    "start_time": "2022-03-03T10:14:52.281Z"
   },
   {
    "duration": 19,
    "start_time": "2022-03-03T10:14:52.302Z"
   },
   {
    "duration": 8,
    "start_time": "2022-03-03T10:14:52.323Z"
   },
   {
    "duration": 17,
    "start_time": "2022-03-03T10:14:52.364Z"
   },
   {
    "duration": 17,
    "start_time": "2022-03-03T10:14:52.383Z"
   },
   {
    "duration": 14,
    "start_time": "2022-03-03T10:14:52.402Z"
   },
   {
    "duration": 18,
    "start_time": "2022-03-03T10:14:52.418Z"
   },
   {
    "duration": 5,
    "start_time": "2022-03-03T10:14:52.464Z"
   },
   {
    "duration": 32,
    "start_time": "2022-03-03T10:14:52.471Z"
   },
   {
    "duration": 9,
    "start_time": "2022-03-03T10:14:52.505Z"
   },
   {
    "duration": 10,
    "start_time": "2022-03-03T10:14:52.516Z"
   },
   {
    "duration": 5,
    "start_time": "2022-03-03T10:14:52.528Z"
   },
   {
    "duration": 29,
    "start_time": "2022-03-03T10:14:52.563Z"
   },
   {
    "duration": 10,
    "start_time": "2022-03-03T10:14:52.594Z"
   },
   {
    "duration": 31,
    "start_time": "2022-03-03T10:14:52.606Z"
   },
   {
    "duration": 48,
    "start_time": "2022-03-03T10:14:52.639Z"
   },
   {
    "duration": 10,
    "start_time": "2022-03-03T10:14:52.689Z"
   },
   {
    "duration": 49,
    "start_time": "2022-03-03T10:14:52.701Z"
   },
   {
    "duration": 43,
    "start_time": "2022-03-03T10:14:52.753Z"
   },
   {
    "duration": 42,
    "start_time": "2022-03-03T10:14:52.798Z"
   },
   {
    "duration": 18,
    "start_time": "2022-03-03T10:15:05.998Z"
   },
   {
    "duration": 584,
    "start_time": "2022-03-03T10:15:35.115Z"
   },
   {
    "duration": 46,
    "start_time": "2022-03-03T10:15:35.701Z"
   },
   {
    "duration": 22,
    "start_time": "2022-03-03T10:15:35.750Z"
   },
   {
    "duration": 22,
    "start_time": "2022-03-03T10:15:35.774Z"
   },
   {
    "duration": 27,
    "start_time": "2022-03-03T10:15:35.798Z"
   },
   {
    "duration": 17,
    "start_time": "2022-03-03T10:15:35.826Z"
   },
   {
    "duration": 24,
    "start_time": "2022-03-03T10:15:35.844Z"
   },
   {
    "duration": 26,
    "start_time": "2022-03-03T10:15:35.871Z"
   },
   {
    "duration": 33,
    "start_time": "2022-03-03T10:15:35.899Z"
   },
   {
    "duration": 30,
    "start_time": "2022-03-03T10:15:35.934Z"
   },
   {
    "duration": 17,
    "start_time": "2022-03-03T10:15:35.966Z"
   },
   {
    "duration": 15,
    "start_time": "2022-03-03T10:15:35.985Z"
   },
   {
    "duration": 13,
    "start_time": "2022-03-03T10:15:36.002Z"
   },
   {
    "duration": 9,
    "start_time": "2022-03-03T10:15:36.017Z"
   },
   {
    "duration": 6,
    "start_time": "2022-03-03T10:15:36.028Z"
   },
   {
    "duration": 13,
    "start_time": "2022-03-03T10:15:36.035Z"
   },
   {
    "duration": 6,
    "start_time": "2022-03-03T10:15:36.049Z"
   },
   {
    "duration": 6,
    "start_time": "2022-03-03T10:15:36.057Z"
   },
   {
    "duration": 22,
    "start_time": "2022-03-03T10:15:36.065Z"
   },
   {
    "duration": 7,
    "start_time": "2022-03-03T10:15:36.089Z"
   },
   {
    "duration": 110,
    "start_time": "2022-03-03T10:15:36.098Z"
   },
   {
    "duration": 15,
    "start_time": "2022-03-03T10:15:36.210Z"
   },
   {
    "duration": 37,
    "start_time": "2022-03-03T10:15:36.229Z"
   },
   {
    "duration": 23,
    "start_time": "2022-03-03T10:15:36.268Z"
   },
   {
    "duration": 26,
    "start_time": "2022-03-03T10:15:36.293Z"
   },
   {
    "duration": 43,
    "start_time": "2022-03-03T10:15:36.321Z"
   },
   {
    "duration": 10,
    "start_time": "2022-03-03T10:15:36.366Z"
   },
   {
    "duration": 27,
    "start_time": "2022-03-03T10:15:36.378Z"
   },
   {
    "duration": 20,
    "start_time": "2022-03-03T10:15:36.407Z"
   },
   {
    "duration": 12,
    "start_time": "2022-03-03T10:15:36.429Z"
   },
   {
    "duration": 11,
    "start_time": "2022-03-03T10:15:36.464Z"
   },
   {
    "duration": 9,
    "start_time": "2022-03-03T10:15:36.477Z"
   },
   {
    "duration": 22,
    "start_time": "2022-03-03T10:15:36.488Z"
   },
   {
    "duration": 7,
    "start_time": "2022-03-03T10:15:36.511Z"
   },
   {
    "duration": 8,
    "start_time": "2022-03-03T10:15:36.519Z"
   },
   {
    "duration": 4,
    "start_time": "2022-03-03T10:15:36.529Z"
   },
   {
    "duration": 46,
    "start_time": "2022-03-03T10:15:36.534Z"
   },
   {
    "duration": 12,
    "start_time": "2022-03-03T10:15:36.581Z"
   },
   {
    "duration": 14,
    "start_time": "2022-03-03T10:15:36.595Z"
   },
   {
    "duration": 23,
    "start_time": "2022-03-03T10:15:36.610Z"
   },
   {
    "duration": 29,
    "start_time": "2022-03-03T10:15:36.635Z"
   },
   {
    "duration": 27,
    "start_time": "2022-03-03T10:15:36.666Z"
   },
   {
    "duration": 23,
    "start_time": "2022-03-03T10:15:36.695Z"
   },
   {
    "duration": 53,
    "start_time": "2022-03-03T10:15:36.720Z"
   },
   {
    "duration": 14,
    "start_time": "2022-03-03T10:16:03.983Z"
   },
   {
    "duration": 17,
    "start_time": "2022-03-03T10:16:17.790Z"
   },
   {
    "duration": 15,
    "start_time": "2022-03-03T10:18:06.528Z"
   },
   {
    "duration": 15,
    "start_time": "2022-03-03T10:18:15.191Z"
   },
   {
    "duration": 13,
    "start_time": "2022-03-03T10:19:17.971Z"
   },
   {
    "duration": 13,
    "start_time": "2022-03-03T10:22:16.622Z"
   },
   {
    "duration": 631,
    "start_time": "2022-03-03T10:22:22.746Z"
   },
   {
    "duration": 47,
    "start_time": "2022-03-03T10:22:23.379Z"
   },
   {
    "duration": 19,
    "start_time": "2022-03-03T10:22:23.428Z"
   },
   {
    "duration": 28,
    "start_time": "2022-03-03T10:22:23.449Z"
   },
   {
    "duration": 23,
    "start_time": "2022-03-03T10:22:23.478Z"
   },
   {
    "duration": 17,
    "start_time": "2022-03-03T10:22:23.503Z"
   },
   {
    "duration": 17,
    "start_time": "2022-03-03T10:22:23.521Z"
   },
   {
    "duration": 28,
    "start_time": "2022-03-03T10:22:23.540Z"
   },
   {
    "duration": 34,
    "start_time": "2022-03-03T10:22:23.570Z"
   },
   {
    "duration": 16,
    "start_time": "2022-03-03T10:22:23.605Z"
   },
   {
    "duration": 41,
    "start_time": "2022-03-03T10:22:23.623Z"
   },
   {
    "duration": 20,
    "start_time": "2022-03-03T10:22:23.666Z"
   },
   {
    "duration": 22,
    "start_time": "2022-03-03T10:22:23.687Z"
   },
   {
    "duration": 41,
    "start_time": "2022-03-03T10:22:23.711Z"
   },
   {
    "duration": 15,
    "start_time": "2022-03-03T10:22:23.754Z"
   },
   {
    "duration": 22,
    "start_time": "2022-03-03T10:22:23.771Z"
   },
   {
    "duration": 16,
    "start_time": "2022-03-03T10:22:23.795Z"
   },
   {
    "duration": 28,
    "start_time": "2022-03-03T10:22:23.812Z"
   },
   {
    "duration": 37,
    "start_time": "2022-03-03T10:22:23.842Z"
   },
   {
    "duration": 45,
    "start_time": "2022-03-03T10:22:23.881Z"
   },
   {
    "duration": 18,
    "start_time": "2022-03-03T10:22:23.928Z"
   },
   {
    "duration": 116,
    "start_time": "2022-03-03T10:22:23.948Z"
   },
   {
    "duration": 10,
    "start_time": "2022-03-03T10:22:24.068Z"
   },
   {
    "duration": 42,
    "start_time": "2022-03-03T10:22:24.081Z"
   },
   {
    "duration": 29,
    "start_time": "2022-03-03T10:22:24.125Z"
   },
   {
    "duration": 27,
    "start_time": "2022-03-03T10:22:24.156Z"
   },
   {
    "duration": 16,
    "start_time": "2022-03-03T10:22:24.184Z"
   },
   {
    "duration": 17,
    "start_time": "2022-03-03T10:22:24.202Z"
   },
   {
    "duration": 49,
    "start_time": "2022-03-03T10:22:24.221Z"
   },
   {
    "duration": 40,
    "start_time": "2022-03-03T10:22:24.272Z"
   },
   {
    "duration": 24,
    "start_time": "2022-03-03T10:22:24.313Z"
   },
   {
    "duration": 37,
    "start_time": "2022-03-03T10:22:24.339Z"
   },
   {
    "duration": 28,
    "start_time": "2022-03-03T10:22:24.378Z"
   },
   {
    "duration": 50,
    "start_time": "2022-03-03T10:22:24.408Z"
   },
   {
    "duration": 15,
    "start_time": "2022-03-03T10:22:24.460Z"
   },
   {
    "duration": 11,
    "start_time": "2022-03-03T10:22:24.477Z"
   },
   {
    "duration": 35,
    "start_time": "2022-03-03T10:22:24.489Z"
   },
   {
    "duration": 41,
    "start_time": "2022-03-03T10:22:24.526Z"
   },
   {
    "duration": 18,
    "start_time": "2022-03-03T10:22:24.569Z"
   },
   {
    "duration": 34,
    "start_time": "2022-03-03T10:22:24.589Z"
   },
   {
    "duration": 23,
    "start_time": "2022-03-03T10:22:24.624Z"
   },
   {
    "duration": 8,
    "start_time": "2022-03-03T10:22:24.648Z"
   },
   {
    "duration": 30,
    "start_time": "2022-03-03T10:22:24.657Z"
   },
   {
    "duration": 56,
    "start_time": "2022-03-03T10:22:24.689Z"
   },
   {
    "duration": 25,
    "start_time": "2022-03-03T10:22:24.747Z"
   },
   {
    "duration": 15,
    "start_time": "2022-03-03T10:22:48.750Z"
   },
   {
    "duration": 511,
    "start_time": "2022-03-03T10:22:57.316Z"
   },
   {
    "duration": 43,
    "start_time": "2022-03-03T10:22:57.829Z"
   },
   {
    "duration": 19,
    "start_time": "2022-03-03T10:22:57.874Z"
   },
   {
    "duration": 11,
    "start_time": "2022-03-03T10:22:57.895Z"
   },
   {
    "duration": 6,
    "start_time": "2022-03-03T10:22:57.908Z"
   },
   {
    "duration": 7,
    "start_time": "2022-03-03T10:22:57.915Z"
   },
   {
    "duration": 6,
    "start_time": "2022-03-03T10:22:57.923Z"
   },
   {
    "duration": 7,
    "start_time": "2022-03-03T10:22:57.965Z"
   },
   {
    "duration": 6,
    "start_time": "2022-03-03T10:22:57.975Z"
   },
   {
    "duration": 12,
    "start_time": "2022-03-03T10:22:57.983Z"
   },
   {
    "duration": 9,
    "start_time": "2022-03-03T10:22:57.997Z"
   },
   {
    "duration": 6,
    "start_time": "2022-03-03T10:22:58.008Z"
   },
   {
    "duration": 7,
    "start_time": "2022-03-03T10:22:58.016Z"
   },
   {
    "duration": 45,
    "start_time": "2022-03-03T10:22:58.025Z"
   },
   {
    "duration": 5,
    "start_time": "2022-03-03T10:22:58.071Z"
   },
   {
    "duration": 11,
    "start_time": "2022-03-03T10:22:58.077Z"
   },
   {
    "duration": 11,
    "start_time": "2022-03-03T10:22:58.089Z"
   },
   {
    "duration": 4,
    "start_time": "2022-03-03T10:22:58.101Z"
   },
   {
    "duration": 15,
    "start_time": "2022-03-03T10:22:58.107Z"
   },
   {
    "duration": 15,
    "start_time": "2022-03-03T10:22:58.123Z"
   },
   {
    "duration": 7,
    "start_time": "2022-03-03T10:22:58.163Z"
   },
   {
    "duration": 98,
    "start_time": "2022-03-03T10:22:58.171Z"
   },
   {
    "duration": 9,
    "start_time": "2022-03-03T10:22:58.272Z"
   },
   {
    "duration": 13,
    "start_time": "2022-03-03T10:22:58.283Z"
   },
   {
    "duration": 15,
    "start_time": "2022-03-03T10:22:58.297Z"
   },
   {
    "duration": 17,
    "start_time": "2022-03-03T10:22:58.313Z"
   },
   {
    "duration": 43,
    "start_time": "2022-03-03T10:22:58.331Z"
   },
   {
    "duration": 7,
    "start_time": "2022-03-03T10:22:58.376Z"
   },
   {
    "duration": 16,
    "start_time": "2022-03-03T10:22:58.384Z"
   },
   {
    "duration": 12,
    "start_time": "2022-03-03T10:22:58.402Z"
   },
   {
    "duration": 10,
    "start_time": "2022-03-03T10:22:58.416Z"
   },
   {
    "duration": 41,
    "start_time": "2022-03-03T10:22:58.428Z"
   },
   {
    "duration": 5,
    "start_time": "2022-03-03T10:22:58.471Z"
   },
   {
    "duration": 18,
    "start_time": "2022-03-03T10:22:58.478Z"
   },
   {
    "duration": 7,
    "start_time": "2022-03-03T10:22:58.497Z"
   },
   {
    "duration": 6,
    "start_time": "2022-03-03T10:22:58.505Z"
   },
   {
    "duration": 4,
    "start_time": "2022-03-03T10:22:58.513Z"
   },
   {
    "duration": 47,
    "start_time": "2022-03-03T10:22:58.518Z"
   },
   {
    "duration": 7,
    "start_time": "2022-03-03T10:22:58.567Z"
   },
   {
    "duration": 11,
    "start_time": "2022-03-03T10:22:58.576Z"
   },
   {
    "duration": 24,
    "start_time": "2022-03-03T10:22:58.589Z"
   },
   {
    "duration": 7,
    "start_time": "2022-03-03T10:22:58.614Z"
   },
   {
    "duration": 53,
    "start_time": "2022-03-03T10:22:58.623Z"
   },
   {
    "duration": 22,
    "start_time": "2022-03-03T10:22:58.678Z"
   },
   {
    "duration": 28,
    "start_time": "2022-03-03T10:22:58.702Z"
   },
   {
    "duration": 15,
    "start_time": "2022-03-03T10:23:34.883Z"
   },
   {
    "duration": 542,
    "start_time": "2022-03-03T10:23:39.878Z"
   },
   {
    "duration": 45,
    "start_time": "2022-03-03T10:23:40.422Z"
   },
   {
    "duration": 19,
    "start_time": "2022-03-03T10:23:40.471Z"
   },
   {
    "duration": 13,
    "start_time": "2022-03-03T10:23:40.491Z"
   },
   {
    "duration": 7,
    "start_time": "2022-03-03T10:23:40.506Z"
   },
   {
    "duration": 7,
    "start_time": "2022-03-03T10:23:40.514Z"
   },
   {
    "duration": 8,
    "start_time": "2022-03-03T10:23:40.523Z"
   },
   {
    "duration": 7,
    "start_time": "2022-03-03T10:23:40.533Z"
   },
   {
    "duration": 5,
    "start_time": "2022-03-03T10:23:40.563Z"
   },
   {
    "duration": 12,
    "start_time": "2022-03-03T10:23:40.569Z"
   },
   {
    "duration": 10,
    "start_time": "2022-03-03T10:23:40.583Z"
   },
   {
    "duration": 7,
    "start_time": "2022-03-03T10:23:40.595Z"
   },
   {
    "duration": 7,
    "start_time": "2022-03-03T10:23:40.603Z"
   },
   {
    "duration": 12,
    "start_time": "2022-03-03T10:23:40.611Z"
   },
   {
    "duration": 5,
    "start_time": "2022-03-03T10:23:40.624Z"
   },
   {
    "duration": 33,
    "start_time": "2022-03-03T10:23:40.630Z"
   },
   {
    "duration": 5,
    "start_time": "2022-03-03T10:23:40.664Z"
   },
   {
    "duration": 11,
    "start_time": "2022-03-03T10:23:40.670Z"
   },
   {
    "duration": 18,
    "start_time": "2022-03-03T10:23:40.683Z"
   },
   {
    "duration": 16,
    "start_time": "2022-03-03T10:23:40.703Z"
   },
   {
    "duration": 6,
    "start_time": "2022-03-03T10:23:40.721Z"
   },
   {
    "duration": 110,
    "start_time": "2022-03-03T10:23:40.730Z"
   },
   {
    "duration": 8,
    "start_time": "2022-03-03T10:23:40.842Z"
   },
   {
    "duration": 17,
    "start_time": "2022-03-03T10:23:40.862Z"
   },
   {
    "duration": 17,
    "start_time": "2022-03-03T10:23:40.881Z"
   },
   {
    "duration": 20,
    "start_time": "2022-03-03T10:23:40.900Z"
   },
   {
    "duration": 42,
    "start_time": "2022-03-03T10:23:40.921Z"
   },
   {
    "duration": 8,
    "start_time": "2022-03-03T10:23:40.965Z"
   },
   {
    "duration": 17,
    "start_time": "2022-03-03T10:23:40.975Z"
   },
   {
    "duration": 13,
    "start_time": "2022-03-03T10:23:40.994Z"
   },
   {
    "duration": 25,
    "start_time": "2022-03-03T10:23:41.009Z"
   },
   {
    "duration": 35,
    "start_time": "2022-03-03T10:23:41.036Z"
   },
   {
    "duration": 12,
    "start_time": "2022-03-03T10:23:41.073Z"
   },
   {
    "duration": 20,
    "start_time": "2022-03-03T10:23:41.087Z"
   },
   {
    "duration": 8,
    "start_time": "2022-03-03T10:23:41.109Z"
   },
   {
    "duration": 9,
    "start_time": "2022-03-03T10:23:41.119Z"
   },
   {
    "duration": 5,
    "start_time": "2022-03-03T10:23:41.130Z"
   },
   {
    "duration": 19,
    "start_time": "2022-03-03T10:23:41.163Z"
   },
   {
    "duration": 9,
    "start_time": "2022-03-03T10:23:41.184Z"
   },
   {
    "duration": 16,
    "start_time": "2022-03-03T10:23:41.195Z"
   },
   {
    "duration": 51,
    "start_time": "2022-03-03T10:23:41.213Z"
   },
   {
    "duration": 9,
    "start_time": "2022-03-03T10:23:41.266Z"
   },
   {
    "duration": 31,
    "start_time": "2022-03-03T10:23:41.277Z"
   },
   {
    "duration": 55,
    "start_time": "2022-03-03T10:23:41.310Z"
   },
   {
    "duration": 29,
    "start_time": "2022-03-03T10:23:41.367Z"
   },
   {
    "duration": 15,
    "start_time": "2022-03-03T10:25:02.478Z"
   },
   {
    "duration": 16,
    "start_time": "2022-03-03T10:25:49.499Z"
   },
   {
    "duration": 15,
    "start_time": "2022-03-03T10:26:14.174Z"
   },
   {
    "duration": 14,
    "start_time": "2022-03-03T10:26:22.682Z"
   },
   {
    "duration": 260,
    "start_time": "2022-03-03T10:31:04.286Z"
   },
   {
    "duration": 570,
    "start_time": "2022-03-03T10:31:17.887Z"
   },
   {
    "duration": 46,
    "start_time": "2022-03-03T10:31:18.459Z"
   },
   {
    "duration": 20,
    "start_time": "2022-03-03T10:31:18.507Z"
   },
   {
    "duration": 15,
    "start_time": "2022-03-03T10:31:18.529Z"
   },
   {
    "duration": 18,
    "start_time": "2022-03-03T10:31:18.546Z"
   },
   {
    "duration": 6,
    "start_time": "2022-03-03T10:31:18.565Z"
   },
   {
    "duration": 6,
    "start_time": "2022-03-03T10:31:18.572Z"
   },
   {
    "duration": 8,
    "start_time": "2022-03-03T10:31:18.581Z"
   },
   {
    "duration": 8,
    "start_time": "2022-03-03T10:31:18.591Z"
   },
   {
    "duration": 7,
    "start_time": "2022-03-03T10:31:18.601Z"
   },
   {
    "duration": 9,
    "start_time": "2022-03-03T10:31:18.610Z"
   },
   {
    "duration": 44,
    "start_time": "2022-03-03T10:31:18.620Z"
   },
   {
    "duration": 7,
    "start_time": "2022-03-03T10:31:18.666Z"
   },
   {
    "duration": 19,
    "start_time": "2022-03-03T10:31:18.676Z"
   },
   {
    "duration": 11,
    "start_time": "2022-03-03T10:31:18.697Z"
   },
   {
    "duration": 17,
    "start_time": "2022-03-03T10:31:18.710Z"
   },
   {
    "duration": 5,
    "start_time": "2022-03-03T10:31:18.729Z"
   },
   {
    "duration": 6,
    "start_time": "2022-03-03T10:31:18.736Z"
   },
   {
    "duration": 30,
    "start_time": "2022-03-03T10:31:18.744Z"
   },
   {
    "duration": 8,
    "start_time": "2022-03-03T10:31:18.776Z"
   },
   {
    "duration": 111,
    "start_time": "2022-03-03T10:31:18.786Z"
   },
   {
    "duration": 10,
    "start_time": "2022-03-03T10:31:18.899Z"
   },
   {
    "duration": 15,
    "start_time": "2022-03-03T10:31:18.912Z"
   },
   {
    "duration": 36,
    "start_time": "2022-03-03T10:31:18.928Z"
   },
   {
    "duration": 18,
    "start_time": "2022-03-03T10:31:18.966Z"
   },
   {
    "duration": 14,
    "start_time": "2022-03-03T10:31:18.986Z"
   },
   {
    "duration": 7,
    "start_time": "2022-03-03T10:31:19.002Z"
   },
   {
    "duration": 21,
    "start_time": "2022-03-03T10:31:19.010Z"
   },
   {
    "duration": 33,
    "start_time": "2022-03-03T10:31:19.033Z"
   },
   {
    "duration": 16,
    "start_time": "2022-03-03T10:31:19.068Z"
   },
   {
    "duration": 12,
    "start_time": "2022-03-03T10:31:19.086Z"
   },
   {
    "duration": 9,
    "start_time": "2022-03-03T10:31:19.100Z"
   },
   {
    "duration": 28,
    "start_time": "2022-03-03T10:31:19.111Z"
   },
   {
    "duration": 7,
    "start_time": "2022-03-03T10:31:19.141Z"
   },
   {
    "duration": 6,
    "start_time": "2022-03-03T10:31:19.163Z"
   },
   {
    "duration": 4,
    "start_time": "2022-03-03T10:31:19.171Z"
   },
   {
    "duration": 21,
    "start_time": "2022-03-03T10:31:19.176Z"
   },
   {
    "duration": 7,
    "start_time": "2022-03-03T10:31:19.199Z"
   },
   {
    "duration": 15,
    "start_time": "2022-03-03T10:31:19.207Z"
   },
   {
    "duration": 48,
    "start_time": "2022-03-03T10:31:19.223Z"
   },
   {
    "duration": 7,
    "start_time": "2022-03-03T10:31:19.273Z"
   },
   {
    "duration": 26,
    "start_time": "2022-03-03T10:31:19.281Z"
   },
   {
    "duration": 23,
    "start_time": "2022-03-03T10:31:19.308Z"
   },
   {
    "duration": 52,
    "start_time": "2022-03-03T10:31:19.333Z"
   },
   {
    "duration": 291,
    "start_time": "2022-03-03T10:31:30.228Z"
   },
   {
    "duration": 549,
    "start_time": "2022-03-03T10:31:36.886Z"
   },
   {
    "duration": 48,
    "start_time": "2022-03-03T10:31:37.437Z"
   },
   {
    "duration": 21,
    "start_time": "2022-03-03T10:31:37.487Z"
   },
   {
    "duration": 12,
    "start_time": "2022-03-03T10:31:37.509Z"
   },
   {
    "duration": 5,
    "start_time": "2022-03-03T10:31:37.523Z"
   },
   {
    "duration": 7,
    "start_time": "2022-03-03T10:31:37.529Z"
   },
   {
    "duration": 28,
    "start_time": "2022-03-03T10:31:37.537Z"
   },
   {
    "duration": 6,
    "start_time": "2022-03-03T10:31:37.567Z"
   },
   {
    "duration": 6,
    "start_time": "2022-03-03T10:31:37.575Z"
   },
   {
    "duration": 8,
    "start_time": "2022-03-03T10:31:37.583Z"
   },
   {
    "duration": 9,
    "start_time": "2022-03-03T10:31:37.593Z"
   },
   {
    "duration": 6,
    "start_time": "2022-03-03T10:31:37.604Z"
   },
   {
    "duration": 8,
    "start_time": "2022-03-03T10:31:37.611Z"
   },
   {
    "duration": 43,
    "start_time": "2022-03-03T10:31:37.621Z"
   },
   {
    "duration": 3,
    "start_time": "2022-03-03T10:31:37.666Z"
   },
   {
    "duration": 12,
    "start_time": "2022-03-03T10:31:37.671Z"
   },
   {
    "duration": 4,
    "start_time": "2022-03-03T10:31:37.685Z"
   },
   {
    "duration": 6,
    "start_time": "2022-03-03T10:31:37.691Z"
   },
   {
    "duration": 17,
    "start_time": "2022-03-03T10:31:37.698Z"
   },
   {
    "duration": 7,
    "start_time": "2022-03-03T10:31:37.716Z"
   },
   {
    "duration": 115,
    "start_time": "2022-03-03T10:31:37.725Z"
   },
   {
    "duration": 23,
    "start_time": "2022-03-03T10:31:37.841Z"
   },
   {
    "duration": 15,
    "start_time": "2022-03-03T10:31:37.867Z"
   },
   {
    "duration": 18,
    "start_time": "2022-03-03T10:31:37.884Z"
   },
   {
    "duration": 18,
    "start_time": "2022-03-03T10:31:37.903Z"
   },
   {
    "duration": 42,
    "start_time": "2022-03-03T10:31:37.922Z"
   },
   {
    "duration": 7,
    "start_time": "2022-03-03T10:31:37.965Z"
   },
   {
    "duration": 16,
    "start_time": "2022-03-03T10:31:37.974Z"
   },
   {
    "duration": 11,
    "start_time": "2022-03-03T10:31:37.992Z"
   },
   {
    "duration": 11,
    "start_time": "2022-03-03T10:31:38.004Z"
   },
   {
    "duration": 14,
    "start_time": "2022-03-03T10:31:38.017Z"
   },
   {
    "duration": 5,
    "start_time": "2022-03-03T10:31:38.063Z"
   },
   {
    "duration": 23,
    "start_time": "2022-03-03T10:31:38.070Z"
   },
   {
    "duration": 9,
    "start_time": "2022-03-03T10:31:38.095Z"
   },
   {
    "duration": 8,
    "start_time": "2022-03-03T10:31:38.105Z"
   },
   {
    "duration": 4,
    "start_time": "2022-03-03T10:31:38.115Z"
   },
   {
    "duration": 53,
    "start_time": "2022-03-03T10:31:38.121Z"
   },
   {
    "duration": 8,
    "start_time": "2022-03-03T10:31:38.176Z"
   },
   {
    "duration": 13,
    "start_time": "2022-03-03T10:31:38.186Z"
   },
   {
    "duration": 25,
    "start_time": "2022-03-03T10:31:38.201Z"
   },
   {
    "duration": 41,
    "start_time": "2022-03-03T10:31:38.228Z"
   },
   {
    "duration": 27,
    "start_time": "2022-03-03T10:31:38.271Z"
   },
   {
    "duration": 24,
    "start_time": "2022-03-03T10:31:38.299Z"
   },
   {
    "duration": 48,
    "start_time": "2022-03-03T10:31:38.324Z"
   },
   {
    "duration": 15,
    "start_time": "2022-03-03T10:56:28.933Z"
   },
   {
    "duration": 14,
    "start_time": "2022-03-03T10:58:29.313Z"
   },
   {
    "duration": 12,
    "start_time": "2022-03-03T10:58:33.226Z"
   },
   {
    "duration": 19,
    "start_time": "2022-03-03T11:00:58.751Z"
   },
   {
    "duration": 17,
    "start_time": "2022-03-03T11:10:13.821Z"
   },
   {
    "duration": 5,
    "start_time": "2022-03-03T13:05:14.858Z"
   },
   {
    "duration": 17,
    "start_time": "2022-03-03T13:06:43.742Z"
   },
   {
    "duration": 29,
    "start_time": "2022-03-03T13:07:13.298Z"
   },
   {
    "duration": 230,
    "start_time": "2022-03-03T13:07:47.994Z"
   },
   {
    "duration": 61,
    "start_time": "2022-03-03T13:08:02.695Z"
   },
   {
    "duration": 564,
    "start_time": "2022-03-03T13:08:08.627Z"
   },
   {
    "duration": 45,
    "start_time": "2022-03-03T13:08:09.193Z"
   },
   {
    "duration": 26,
    "start_time": "2022-03-03T13:08:09.240Z"
   },
   {
    "duration": 13,
    "start_time": "2022-03-03T13:08:09.268Z"
   },
   {
    "duration": 5,
    "start_time": "2022-03-03T13:08:09.282Z"
   },
   {
    "duration": 6,
    "start_time": "2022-03-03T13:08:09.289Z"
   },
   {
    "duration": 6,
    "start_time": "2022-03-03T13:08:09.297Z"
   },
   {
    "duration": 7,
    "start_time": "2022-03-03T13:08:09.306Z"
   },
   {
    "duration": 7,
    "start_time": "2022-03-03T13:08:09.315Z"
   },
   {
    "duration": 46,
    "start_time": "2022-03-03T13:08:09.323Z"
   },
   {
    "duration": 9,
    "start_time": "2022-03-03T13:08:09.371Z"
   },
   {
    "duration": 7,
    "start_time": "2022-03-03T13:08:09.381Z"
   },
   {
    "duration": 8,
    "start_time": "2022-03-03T13:08:09.390Z"
   },
   {
    "duration": 7,
    "start_time": "2022-03-03T13:08:09.399Z"
   },
   {
    "duration": 5,
    "start_time": "2022-03-03T13:08:09.408Z"
   },
   {
    "duration": 12,
    "start_time": "2022-03-03T13:08:09.415Z"
   },
   {
    "duration": 36,
    "start_time": "2022-03-03T13:08:09.429Z"
   },
   {
    "duration": 5,
    "start_time": "2022-03-03T13:08:09.467Z"
   },
   {
    "duration": 15,
    "start_time": "2022-03-03T13:08:09.474Z"
   },
   {
    "duration": 8,
    "start_time": "2022-03-03T13:08:09.491Z"
   },
   {
    "duration": 119,
    "start_time": "2022-03-03T13:08:09.501Z"
   },
   {
    "duration": 11,
    "start_time": "2022-03-03T13:08:09.622Z"
   },
   {
    "duration": 28,
    "start_time": "2022-03-03T13:08:09.637Z"
   },
   {
    "duration": 11,
    "start_time": "2022-03-03T13:08:09.667Z"
   },
   {
    "duration": 14,
    "start_time": "2022-03-03T13:08:09.680Z"
   },
   {
    "duration": 16,
    "start_time": "2022-03-03T13:08:09.696Z"
   },
   {
    "duration": 14,
    "start_time": "2022-03-03T13:08:09.713Z"
   },
   {
    "duration": 34,
    "start_time": "2022-03-03T13:08:09.729Z"
   },
   {
    "duration": 14,
    "start_time": "2022-03-03T13:08:09.765Z"
   },
   {
    "duration": 12,
    "start_time": "2022-03-03T13:08:09.780Z"
   },
   {
    "duration": 9,
    "start_time": "2022-03-03T13:08:09.793Z"
   },
   {
    "duration": 11,
    "start_time": "2022-03-03T13:08:09.803Z"
   },
   {
    "duration": 14,
    "start_time": "2022-03-03T13:08:09.816Z"
   },
   {
    "duration": 37,
    "start_time": "2022-03-03T13:08:09.832Z"
   },
   {
    "duration": 9,
    "start_time": "2022-03-03T13:08:09.871Z"
   },
   {
    "duration": 8,
    "start_time": "2022-03-03T13:08:09.881Z"
   },
   {
    "duration": 6,
    "start_time": "2022-03-03T13:08:09.891Z"
   },
   {
    "duration": 24,
    "start_time": "2022-03-03T13:08:09.899Z"
   },
   {
    "duration": 7,
    "start_time": "2022-03-03T13:08:09.925Z"
   },
   {
    "duration": 32,
    "start_time": "2022-03-03T13:08:09.934Z"
   },
   {
    "duration": 17,
    "start_time": "2022-03-03T13:08:09.968Z"
   },
   {
    "duration": 13,
    "start_time": "2022-03-03T13:08:09.988Z"
   },
   {
    "duration": 67,
    "start_time": "2022-03-03T13:08:10.003Z"
   },
   {
    "duration": -4315,
    "start_time": "2022-03-03T13:08:14.387Z"
   },
   {
    "duration": -4318,
    "start_time": "2022-03-03T13:08:14.391Z"
   },
   {
    "duration": -4322,
    "start_time": "2022-03-03T13:08:14.396Z"
   },
   {
    "duration": -4326,
    "start_time": "2022-03-03T13:08:14.401Z"
   },
   {
    "duration": 27,
    "start_time": "2022-03-03T13:08:17.698Z"
   },
   {
    "duration": 9,
    "start_time": "2022-03-03T13:08:25.950Z"
   },
   {
    "duration": 41,
    "start_time": "2022-03-03T13:28:04.462Z"
   },
   {
    "duration": 25,
    "start_time": "2022-03-03T13:28:41.270Z"
   },
   {
    "duration": 31,
    "start_time": "2022-03-03T13:34:18.213Z"
   },
   {
    "duration": 26,
    "start_time": "2022-03-03T13:51:29.581Z"
   },
   {
    "duration": 617,
    "start_time": "2022-03-03T14:30:33.832Z"
   },
   {
    "duration": 46,
    "start_time": "2022-03-03T14:30:34.450Z"
   },
   {
    "duration": 20,
    "start_time": "2022-03-03T14:30:34.498Z"
   },
   {
    "duration": 11,
    "start_time": "2022-03-03T14:30:34.520Z"
   },
   {
    "duration": 6,
    "start_time": "2022-03-03T14:30:34.532Z"
   },
   {
    "duration": 29,
    "start_time": "2022-03-03T14:30:34.539Z"
   },
   {
    "duration": 9,
    "start_time": "2022-03-03T14:30:34.570Z"
   },
   {
    "duration": 5,
    "start_time": "2022-03-03T14:30:34.582Z"
   },
   {
    "duration": 8,
    "start_time": "2022-03-03T14:30:34.589Z"
   },
   {
    "duration": 8,
    "start_time": "2022-03-03T14:30:34.599Z"
   },
   {
    "duration": 9,
    "start_time": "2022-03-03T14:30:34.608Z"
   },
   {
    "duration": 6,
    "start_time": "2022-03-03T14:30:34.618Z"
   },
   {
    "duration": 37,
    "start_time": "2022-03-03T14:30:34.626Z"
   },
   {
    "duration": 6,
    "start_time": "2022-03-03T14:30:34.665Z"
   },
   {
    "duration": 5,
    "start_time": "2022-03-03T14:30:34.672Z"
   },
   {
    "duration": 10,
    "start_time": "2022-03-03T14:30:34.679Z"
   },
   {
    "duration": 11,
    "start_time": "2022-03-03T14:30:34.690Z"
   },
   {
    "duration": 6,
    "start_time": "2022-03-03T14:30:34.702Z"
   },
   {
    "duration": 15,
    "start_time": "2022-03-03T14:30:34.710Z"
   },
   {
    "duration": 38,
    "start_time": "2022-03-03T14:30:34.726Z"
   },
   {
    "duration": 98,
    "start_time": "2022-03-03T14:30:34.766Z"
   },
   {
    "duration": 10,
    "start_time": "2022-03-03T14:30:34.866Z"
   },
   {
    "duration": 12,
    "start_time": "2022-03-03T14:30:34.879Z"
   },
   {
    "duration": 11,
    "start_time": "2022-03-03T14:30:34.893Z"
   },
   {
    "duration": 15,
    "start_time": "2022-03-03T14:30:34.906Z"
   },
   {
    "duration": 51,
    "start_time": "2022-03-03T14:30:34.923Z"
   },
   {
    "duration": 15,
    "start_time": "2022-03-03T14:30:34.976Z"
   },
   {
    "duration": 8,
    "start_time": "2022-03-03T14:30:34.993Z"
   },
   {
    "duration": 23,
    "start_time": "2022-03-03T14:30:35.003Z"
   },
   {
    "duration": 35,
    "start_time": "2022-03-03T14:30:35.028Z"
   },
   {
    "duration": 11,
    "start_time": "2022-03-03T14:30:35.065Z"
   },
   {
    "duration": 11,
    "start_time": "2022-03-03T14:30:35.078Z"
   },
   {
    "duration": 6,
    "start_time": "2022-03-03T14:30:35.091Z"
   },
   {
    "duration": 18,
    "start_time": "2022-03-03T14:30:35.099Z"
   },
   {
    "duration": 7,
    "start_time": "2022-03-03T14:30:35.119Z"
   },
   {
    "duration": 36,
    "start_time": "2022-03-03T14:30:35.128Z"
   },
   {
    "duration": 13,
    "start_time": "2022-03-03T14:30:35.166Z"
   },
   {
    "duration": 22,
    "start_time": "2022-03-03T14:30:35.181Z"
   },
   {
    "duration": 7,
    "start_time": "2022-03-03T14:30:35.204Z"
   },
   {
    "duration": 5,
    "start_time": "2022-03-03T14:30:35.213Z"
   },
   {
    "duration": 17,
    "start_time": "2022-03-03T14:30:35.219Z"
   },
   {
    "duration": 34,
    "start_time": "2022-03-03T14:30:35.238Z"
   },
   {
    "duration": 27,
    "start_time": "2022-03-03T14:30:35.274Z"
   },
   {
    "duration": 27,
    "start_time": "2022-03-03T14:30:35.303Z"
   },
   {
    "duration": 49,
    "start_time": "2022-03-03T14:30:35.332Z"
   },
   {
    "duration": 25,
    "start_time": "2022-03-03T14:30:35.383Z"
   },
   {
    "duration": 293,
    "start_time": "2022-03-11T19:58:23.991Z"
   },
   {
    "duration": 626,
    "start_time": "2022-03-11T19:58:28.710Z"
   },
   {
    "duration": 53,
    "start_time": "2022-03-11T19:58:29.338Z"
   },
   {
    "duration": 22,
    "start_time": "2022-03-11T19:58:29.393Z"
   },
   {
    "duration": 15,
    "start_time": "2022-03-11T19:58:29.417Z"
   },
   {
    "duration": 15,
    "start_time": "2022-03-11T19:58:29.433Z"
   },
   {
    "duration": 16,
    "start_time": "2022-03-11T19:58:29.450Z"
   },
   {
    "duration": 9,
    "start_time": "2022-03-11T19:58:29.468Z"
   },
   {
    "duration": 13,
    "start_time": "2022-03-11T19:58:29.479Z"
   },
   {
    "duration": 16,
    "start_time": "2022-03-11T19:58:29.495Z"
   },
   {
    "duration": 12,
    "start_time": "2022-03-11T19:58:29.513Z"
   },
   {
    "duration": 12,
    "start_time": "2022-03-11T19:58:29.526Z"
   },
   {
    "duration": 7,
    "start_time": "2022-03-11T19:58:29.539Z"
   },
   {
    "duration": 30,
    "start_time": "2022-03-11T19:58:29.548Z"
   },
   {
    "duration": 6,
    "start_time": "2022-03-11T19:58:29.580Z"
   },
   {
    "duration": 5,
    "start_time": "2022-03-11T19:58:29.588Z"
   },
   {
    "duration": 15,
    "start_time": "2022-03-11T19:58:29.594Z"
   },
   {
    "duration": 4,
    "start_time": "2022-03-11T19:58:29.612Z"
   },
   {
    "duration": 5,
    "start_time": "2022-03-11T19:58:29.618Z"
   },
   {
    "duration": 53,
    "start_time": "2022-03-11T19:58:29.625Z"
   },
   {
    "duration": 7,
    "start_time": "2022-03-11T19:58:29.680Z"
   },
   {
    "duration": 107,
    "start_time": "2022-03-11T19:58:29.689Z"
   },
   {
    "duration": 16,
    "start_time": "2022-03-11T19:58:29.798Z"
   },
   {
    "duration": 9,
    "start_time": "2022-03-11T19:58:29.818Z"
   },
   {
    "duration": 14,
    "start_time": "2022-03-11T19:58:29.830Z"
   },
   {
    "duration": 13,
    "start_time": "2022-03-11T19:58:29.878Z"
   },
   {
    "duration": 22,
    "start_time": "2022-03-11T19:58:29.893Z"
   },
   {
    "duration": 19,
    "start_time": "2022-03-11T19:58:29.917Z"
   },
   {
    "duration": 42,
    "start_time": "2022-03-11T19:58:29.938Z"
   },
   {
    "duration": 7,
    "start_time": "2022-03-11T19:58:29.982Z"
   },
   {
    "duration": 18,
    "start_time": "2022-03-11T19:58:29.992Z"
   },
   {
    "duration": 14,
    "start_time": "2022-03-11T19:58:30.012Z"
   },
   {
    "duration": 14,
    "start_time": "2022-03-11T19:58:30.028Z"
   },
   {
    "duration": 46,
    "start_time": "2022-03-11T19:58:30.044Z"
   },
   {
    "duration": 5,
    "start_time": "2022-03-11T19:58:30.092Z"
   },
   {
    "duration": 29,
    "start_time": "2022-03-11T19:58:30.099Z"
   },
   {
    "duration": 8,
    "start_time": "2022-03-11T19:58:30.130Z"
   },
   {
    "duration": 42,
    "start_time": "2022-03-11T19:58:30.140Z"
   },
   {
    "duration": 12,
    "start_time": "2022-03-11T19:58:30.183Z"
   },
   {
    "duration": 27,
    "start_time": "2022-03-11T19:58:30.197Z"
   },
   {
    "duration": 9,
    "start_time": "2022-03-11T19:58:30.226Z"
   },
   {
    "duration": 7,
    "start_time": "2022-03-11T19:58:30.236Z"
   },
   {
    "duration": 40,
    "start_time": "2022-03-11T19:58:30.245Z"
   },
   {
    "duration": 12,
    "start_time": "2022-03-11T19:58:30.287Z"
   },
   {
    "duration": 33,
    "start_time": "2022-03-11T19:58:30.301Z"
   },
   {
    "duration": 52,
    "start_time": "2022-03-11T19:58:30.335Z"
   },
   {
    "duration": 30,
    "start_time": "2022-03-11T19:58:30.389Z"
   },
   {
    "duration": 30,
    "start_time": "2022-03-11T19:58:30.421Z"
   }
  ],
  "kernelspec": {
   "display_name": "Python 3 (ipykernel)",
   "language": "python",
   "name": "python3"
  },
  "language_info": {
   "codemirror_mode": {
    "name": "ipython",
    "version": 3
   },
   "file_extension": ".py",
   "mimetype": "text/x-python",
   "name": "python",
   "nbconvert_exporter": "python",
   "pygments_lexer": "ipython3",
   "version": "3.9.7"
  },
  "toc": {
   "base_numbering": 1,
   "nav_menu": {
    "height": "217.997px",
    "width": "320px"
   },
   "number_sections": true,
   "sideBar": true,
   "skip_h1_title": true,
   "title_cell": "Содержание",
   "title_sidebar": "Contents",
   "toc_cell": true,
   "toc_position": {
    "height": "calc(100% - 180px)",
    "left": "10px",
    "top": "150px",
    "width": "165px"
   },
   "toc_section_display": true,
   "toc_window_display": false
  }
 },
 "nbformat": 4,
 "nbformat_minor": 5
}
